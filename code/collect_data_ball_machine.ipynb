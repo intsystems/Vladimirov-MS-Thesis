{
 "cells": [
  {
   "cell_type": "markdown",
   "id": "4a06af59-c00d-47cd-98f7-0b6bb5a2cabe",
   "metadata": {
    "jp-MarkdownHeadingCollapsed": true
   },
   "source": [
    "## Imports"
   ]
  },
  {
   "cell_type": "code",
   "execution_count": 54,
   "id": "c314b2b8-8cdb-4289-a277-553c6083c4ba",
   "metadata": {},
   "outputs": [],
   "source": [
    "import argparse\n",
    "import os\n",
    "import time\n",
    "import sys\n",
    "import random\n",
    "import gc\n",
    "import json\n",
    "import pickle\n",
    "from collections import Counter\n",
    "from multiprocessing import Pool\n",
    "from pathlib import Path\n",
    "\n",
    "import mat73\n",
    "from functools import partial\n",
    "\n",
    "import numpy as np\n",
    "import pandas as pd\n",
    "import matplotlib.pyplot as plt\n",
    "import seaborn as sns\n",
    "import mne\n",
    "import nibabel as nib\n",
    "import scipy\n",
    "\n",
    "from sklearn.pipeline import Pipeline\n",
    "from sklearn.model_selection import train_test_split\n",
    "from sklearn.preprocessing import StandardScaler\n",
    "from sklearn.cross_decomposition import CCA, PLSRegression as PLS\n",
    "from IPython.display import Video, HTML\n",
    "from tqdm.notebook import tqdm\n",
    "from joblib import Parallel, delayed\n",
    "\n",
    "from pyriemann.estimation import XdawnCovariances, BlockCovariances, Covariances\n",
    "from pyriemann.tangentspace import TangentSpace\n",
    "\n",
    "manualSeed = 111\n",
    "SEED = manualSeed\n",
    "random.seed(manualSeed)\n",
    "\n",
    "DATA_PATH = '/data/vladimiroved/realWorldTableTennis'\n",
    "SUB_ID = '07'\n",
    "FREQ = 250"
   ]
  },
  {
   "cell_type": "markdown",
   "id": "a01e7e9d-bf4b-48f4-9618-e53a38857720",
   "metadata": {
    "jp-MarkdownHeadingCollapsed": true
   },
   "source": [
    "## EDA"
   ]
  },
  {
   "cell_type": "markdown",
   "id": "dba55f29-6567-4c77-93dd-8c25cde94556",
   "metadata": {},
   "source": [
    "Your dataset is organized as follows for each subject (e.g., `sub-01`):\n",
    "\n",
    "- **`anat` Folder**:\n",
    "  - `sub-01_T1w.nii`: De-identified T1-weighted anatomical MRI scan in NIfTI format.\n",
    "\n",
    "- **`eeg` Folder**:\n",
    "  - `sub-01_task-TableTennis_eeg.set`: EEGLAB dataset file containing EEG data.\n",
    "  - `sub-01_task-TableTennis_eeg.fdt`: EEGLAB binary data file associated with the `.set` file.\n",
    "  - `sub-01_task-TableTennis_channels.tsv`: Tab-separated file with channel information.\n",
    "  - `sub-01_task-TableTennis_coordsystem.json`: JSON file describing the coordinate system.\n",
    "  - `sub-01_task-TableTennis_electrodes.tsv`: Tab-separated file with electrode positions.\n",
    "  - `sub-01_task-TableTennis_events.tsv`: Tab-separated file with event information.\n",
    "  - `sub-01_task-TableTennis_events.json`: JSON file describing the events."
   ]
  },
  {
   "cell_type": "code",
   "execution_count": 3,
   "id": "1bb924b6-8ede-49fa-961d-0eea93bff7d8",
   "metadata": {},
   "outputs": [],
   "source": [
    "eeg_dirname = os.path.join(DATA_PATH, f'sub-{SUB_ID}', 'eeg/')\n",
    "anat_dirname = os.path.join(DATA_PATH, f'sub-{SUB_ID}', 'anat/')\n",
    "\n",
    "channels_df = pd.read_csv(eeg_dirname + f'sub-{SUB_ID}_task-TableTennis_channels.tsv', sep='\\t')\n",
    "electrodes_df = pd.read_csv(eeg_dirname + f'sub-{SUB_ID}_task-TableTennis_electrodes.tsv', sep='\\t')\n",
    "events_df = pd.read_csv(eeg_dirname + f'sub-{SUB_ID}_task-TableTennis_events.tsv', sep='\\t')\n",
    "participants_df = pd.read_csv(DATA_PATH + '/participants.tsv', sep='\\t')\n",
    "\n",
    "with open(eeg_dirname + f'sub-{SUB_ID}_task-TableTennis_coordsystem.json', 'rb') as fd:\n",
    "    coord_system = json.load(fd)\n",
    "\n",
    "with open(eeg_dirname + f'sub-{SUB_ID}_task-TableTennis_events.json', 'rb') as fd:\n",
    "    events = json.load(fd)\n",
    "\n",
    "with open(DATA_PATH + '/participants.json', 'rb') as fd:\n",
    "    participants_json = json.load(fd)"
   ]
  },
  {
   "cell_type": "markdown",
   "id": "4b28a70f-8fc8-4ec8-9c7f-6809964d2ba3",
   "metadata": {},
   "source": [
    "### Data View"
   ]
  },
  {
   "cell_type": "code",
   "execution_count": 4,
   "id": "115b2d63-b3f0-43d9-91fb-72edbd92b51c",
   "metadata": {},
   "outputs": [
    {
     "name": "stdout",
     "output_type": "stream",
     "text": [
      "(299, 3)\n"
     ]
    },
    {
     "data": {
      "text/html": [
       "<div>\n",
       "<style scoped>\n",
       "    .dataframe tbody tr th:only-of-type {\n",
       "        vertical-align: middle;\n",
       "    }\n",
       "\n",
       "    .dataframe tbody tr th {\n",
       "        vertical-align: top;\n",
       "    }\n",
       "\n",
       "    .dataframe thead th {\n",
       "        text-align: right;\n",
       "    }\n",
       "</style>\n",
       "<table border=\"1\" class=\"dataframe\">\n",
       "  <thead>\n",
       "    <tr style=\"text-align: right;\">\n",
       "      <th></th>\n",
       "      <th>name</th>\n",
       "      <th>type</th>\n",
       "      <th>units</th>\n",
       "    </tr>\n",
       "  </thead>\n",
       "  <tbody>\n",
       "    <tr>\n",
       "      <th>204</th>\n",
       "      <td>N-F8</td>\n",
       "      <td>MISC</td>\n",
       "      <td>NaN</td>\n",
       "    </tr>\n",
       "    <tr>\n",
       "      <th>22</th>\n",
       "      <td>FT9</td>\n",
       "      <td>EEG</td>\n",
       "      <td>microV</td>\n",
       "    </tr>\n",
       "    <tr>\n",
       "      <th>163</th>\n",
       "      <td>N-CPP3h</td>\n",
       "      <td>MISC</td>\n",
       "      <td>NaN</td>\n",
       "    </tr>\n",
       "    <tr>\n",
       "      <th>206</th>\n",
       "      <td>N-AFF6h</td>\n",
       "      <td>MISC</td>\n",
       "      <td>NaN</td>\n",
       "    </tr>\n",
       "    <tr>\n",
       "      <th>244</th>\n",
       "      <td>CGY-x</td>\n",
       "      <td>MISC</td>\n",
       "      <td>NaN</td>\n",
       "    </tr>\n",
       "  </tbody>\n",
       "</table>\n",
       "</div>"
      ],
      "text/plain": [
       "        name  type   units\n",
       "204     N-F8  MISC     NaN\n",
       "22       FT9   EEG  microV\n",
       "163  N-CPP3h  MISC     NaN\n",
       "206  N-AFF6h  MISC     NaN\n",
       "244    CGY-x  MISC     NaN"
      ]
     },
     "execution_count": 4,
     "metadata": {},
     "output_type": "execute_result"
    }
   ],
   "source": [
    "print(channels_df.shape)\n",
    "channels_df.sample(5, random_state=SEED)"
   ]
  },
  {
   "cell_type": "code",
   "execution_count": 5,
   "id": "72165c84-a551-40b4-bfb2-bd20e5f8e9c2",
   "metadata": {},
   "outputs": [
    {
     "name": "stdout",
     "output_type": "stream",
     "text": [
      "(299, 4)\n"
     ]
    },
    {
     "data": {
      "text/html": [
       "<div>\n",
       "<style scoped>\n",
       "    .dataframe tbody tr th:only-of-type {\n",
       "        vertical-align: middle;\n",
       "    }\n",
       "\n",
       "    .dataframe tbody tr th {\n",
       "        vertical-align: top;\n",
       "    }\n",
       "\n",
       "    .dataframe thead th {\n",
       "        text-align: right;\n",
       "    }\n",
       "</style>\n",
       "<table border=\"1\" class=\"dataframe\">\n",
       "  <thead>\n",
       "    <tr style=\"text-align: right;\">\n",
       "      <th></th>\n",
       "      <th>name</th>\n",
       "      <th>x</th>\n",
       "      <th>y</th>\n",
       "      <th>z</th>\n",
       "    </tr>\n",
       "  </thead>\n",
       "  <tbody>\n",
       "    <tr>\n",
       "      <th>204</th>\n",
       "      <td>N-F8</td>\n",
       "      <td>NaN</td>\n",
       "      <td>NaN</td>\n",
       "      <td>NaN</td>\n",
       "    </tr>\n",
       "    <tr>\n",
       "      <th>22</th>\n",
       "      <td>FT9</td>\n",
       "      <td>32.58</td>\n",
       "      <td>77.83</td>\n",
       "      <td>7.78</td>\n",
       "    </tr>\n",
       "    <tr>\n",
       "      <th>163</th>\n",
       "      <td>N-CPP3h</td>\n",
       "      <td>NaN</td>\n",
       "      <td>NaN</td>\n",
       "      <td>NaN</td>\n",
       "    </tr>\n",
       "    <tr>\n",
       "      <th>206</th>\n",
       "      <td>N-AFF6h</td>\n",
       "      <td>NaN</td>\n",
       "      <td>NaN</td>\n",
       "      <td>NaN</td>\n",
       "    </tr>\n",
       "    <tr>\n",
       "      <th>244</th>\n",
       "      <td>CGY-x</td>\n",
       "      <td>NaN</td>\n",
       "      <td>NaN</td>\n",
       "      <td>NaN</td>\n",
       "    </tr>\n",
       "  </tbody>\n",
       "</table>\n",
       "</div>"
      ],
      "text/plain": [
       "        name      x      y     z\n",
       "204     N-F8    NaN    NaN   NaN\n",
       "22       FT9  32.58  77.83  7.78\n",
       "163  N-CPP3h    NaN    NaN   NaN\n",
       "206  N-AFF6h    NaN    NaN   NaN\n",
       "244    CGY-x    NaN    NaN   NaN"
      ]
     },
     "execution_count": 5,
     "metadata": {},
     "output_type": "execute_result"
    }
   ],
   "source": [
    "print(electrodes_df.shape)\n",
    "electrodes_df.sample(5, random_state=SEED)"
   ]
  },
  {
   "cell_type": "code",
   "execution_count": 6,
   "id": "0d11aa6a-afd0-40d4-95b8-620b1bb9a73d",
   "metadata": {},
   "outputs": [
    {
     "name": "stdout",
     "output_type": "stream",
     "text": [
      "(3063, 7)\n"
     ]
    },
    {
     "data": {
      "text/html": [
       "<div>\n",
       "<style scoped>\n",
       "    .dataframe tbody tr th:only-of-type {\n",
       "        vertical-align: middle;\n",
       "    }\n",
       "\n",
       "    .dataframe tbody tr th {\n",
       "        vertical-align: top;\n",
       "    }\n",
       "\n",
       "    .dataframe thead th {\n",
       "        text-align: right;\n",
       "    }\n",
       "</style>\n",
       "<table border=\"1\" class=\"dataframe\">\n",
       "  <thead>\n",
       "    <tr style=\"text-align: right;\">\n",
       "      <th></th>\n",
       "      <th>onset</th>\n",
       "      <th>duration</th>\n",
       "      <th>sample</th>\n",
       "      <th>trial_type</th>\n",
       "      <th>response_time</th>\n",
       "      <th>stim_file</th>\n",
       "      <th>value</th>\n",
       "    </tr>\n",
       "  </thead>\n",
       "  <tbody>\n",
       "    <tr>\n",
       "      <th>2236</th>\n",
       "      <td>3436.684</td>\n",
       "      <td>NaN</td>\n",
       "      <td>859171.0</td>\n",
       "      <td>moving_serve</td>\n",
       "      <td>NaN</td>\n",
       "      <td>NaN</td>\n",
       "      <td>Subject_hit</td>\n",
       "    </tr>\n",
       "    <tr>\n",
       "      <th>1279</th>\n",
       "      <td>2135.968</td>\n",
       "      <td>NaN</td>\n",
       "      <td>533992.0</td>\n",
       "      <td>competitive</td>\n",
       "      <td>NaN</td>\n",
       "      <td>NaN</td>\n",
       "      <td>Subject_hit</td>\n",
       "    </tr>\n",
       "    <tr>\n",
       "      <th>2840</th>\n",
       "      <td>4092.850</td>\n",
       "      <td>NaN</td>\n",
       "      <td>1023212.5</td>\n",
       "      <td>cooperative</td>\n",
       "      <td>NaN</td>\n",
       "      <td>NaN</td>\n",
       "      <td>M  1</td>\n",
       "    </tr>\n",
       "    <tr>\n",
       "      <th>979</th>\n",
       "      <td>1688.136</td>\n",
       "      <td>NaN</td>\n",
       "      <td>422034.0</td>\n",
       "      <td>moving_hit</td>\n",
       "      <td>NaN</td>\n",
       "      <td>NaN</td>\n",
       "      <td>Subject_hit</td>\n",
       "    </tr>\n",
       "    <tr>\n",
       "      <th>1347</th>\n",
       "      <td>2231.248</td>\n",
       "      <td>NaN</td>\n",
       "      <td>557812.0</td>\n",
       "      <td>competitive</td>\n",
       "      <td>NaN</td>\n",
       "      <td>NaN</td>\n",
       "      <td>Subject_hit</td>\n",
       "    </tr>\n",
       "  </tbody>\n",
       "</table>\n",
       "</div>"
      ],
      "text/plain": [
       "         onset  duration     sample    trial_type  response_time  stim_file  \\\n",
       "2236  3436.684       NaN   859171.0  moving_serve            NaN        NaN   \n",
       "1279  2135.968       NaN   533992.0   competitive            NaN        NaN   \n",
       "2840  4092.850       NaN  1023212.5   cooperative            NaN        NaN   \n",
       "979   1688.136       NaN   422034.0    moving_hit            NaN        NaN   \n",
       "1347  2231.248       NaN   557812.0   competitive            NaN        NaN   \n",
       "\n",
       "            value  \n",
       "2236  Subject_hit  \n",
       "1279  Subject_hit  \n",
       "2840         M  1  \n",
       "979   Subject_hit  \n",
       "1347  Subject_hit  "
      ]
     },
     "execution_count": 6,
     "metadata": {},
     "output_type": "execute_result"
    }
   ],
   "source": [
    "print(events_df.shape)\n",
    "events_df.sample(5, random_state=SEED)"
   ]
  },
  {
   "cell_type": "code",
   "execution_count": 7,
   "id": "9823ee45-309e-4b97-b726-23d1bfd50fdd",
   "metadata": {},
   "outputs": [
    {
     "data": {
      "text/plain": [
       "({'EEGCoordinateUnits': 'mm',\n",
       "  'EEGCoordinateSystem': 'Other',\n",
       "  'EEGCoordinateSystemDescription': 'EEGLAB'},\n",
       " {'onset': {'Description': 'Event onset', 'Units': 'second'},\n",
       "  'trial_type': {'LongName': 'Event categorization',\n",
       "   'Description': 'Primary categorization of each trial to identify them as instances of the experimental conditions (equivalent to the EEG.event.condlabel field in the data).',\n",
       "   'Levels': {'competitive': 'Competitive games with a human player',\n",
       "    'cooperative': 'Cooperative hitting with a human player',\n",
       "    'moving_hit': 'Ball machine; machine was oscillating; 1 bounce',\n",
       "    'moving_serve': 'Ball machine; machine was oscillating; 2 bounces',\n",
       "    'stationary_hit': 'Ball machine; machine was not oscillating; 1 bounce',\n",
       "    'stationary_serve': 'Ball machine; machine was not oscillating; 2 bounces'}},\n",
       "  'value': {'Description': 'Type of event (equivalent to the EEG.event.type field in the data).',\n",
       "   'Levels': {'M 1': 'Sync event recorded with BrainVision system',\n",
       "    'Subject_hit': \"The participant's paddle made contact with the ball\",\n",
       "    'Subject_receive': \"The ball machine fed OR the human opponent's paddle made contact with the ball\"}}})"
      ]
     },
     "execution_count": 7,
     "metadata": {},
     "output_type": "execute_result"
    }
   ],
   "source": [
    "coord_system, events"
   ]
  },
  {
   "cell_type": "code",
   "execution_count": 8,
   "id": "54d634de-4c80-45df-bace-c031f8268fc1",
   "metadata": {},
   "outputs": [
    {
     "name": "stdout",
     "output_type": "stream",
     "text": [
      "Reading /data/vladimiroved/realWorldTableTennis/sub-07/eeg/sub-07_task-TableTennis_eeg.fdt\n"
     ]
    },
    {
     "name": "stderr",
     "output_type": "stream",
     "text": [
      "/tmp/ipykernel_1842469/1054951819.py:1: RuntimeWarning: Unknown types found, setting as type EEG:\n",
      "acc: ['CGY-x', 'CGY-y', 'CGY-z', 'CWR-x', 'CWR-y', 'CWR-z', 'NGY-x', 'NGY-y', 'NGY-z', 'NWR-x', 'NWR-y', 'NWR-z']\n",
      "cometas: ['BallMachine_Acc_X(g)', 'BallMachine_Acc_Y(g)', 'BallMachine_Acc_Z(g)', 'Imu_2 :W():', 'Imu_2 :X():', 'Imu_2 :Y():', 'Imu_2 :Z():', 'Imu_2_ImuGyro :X(D/s):', 'Imu_2_ImuGyro :Y(D/s):', 'Imu_2_ImuGyro :Z(D/s):', 'Imu_2_ImuMag :X(uT):', 'Imu_2_ImuMag :Y(uT):', 'Imu_2_ImuMag :Z(uT):', 'Imu_4 :W():', 'Imu_4 :X():', 'Imu_4 :Y():', 'Imu_4 :Z():', 'Imu_4_ImuGyro :X(D/s):', 'Imu_4_ImuGyro :Y(D/s):', 'Imu_4_ImuGyro :Z(D/s):', 'Imu_4_ImuMag :X(uT):', 'Imu_4_ImuMag :Y(uT):', 'Imu_4_ImuMag :Z(uT):', 'Net_Acc_X(g)', 'Net_Acc_Y(g)', 'Net_Acc_Z(g)', 'Participant_Paddle_Acc_X(g)', 'Participant_Paddle_Acc_Y(g)', 'Participant_Paddle_Acc_Z(g)', 'Researcher_Paddle_Acc_X(g)', 'Researcher_Paddle_Acc_Y(g)', 'Researcher_Paddle_Acc_Z(g)', 'SyncPulse(uV)', 'Table_OtherSide_Acc_X(g)', 'Table_OtherSide_Acc_Y(g)', 'Table_OtherSide_Acc_Z(g)', 'Table_ParticipantSide_Acc_X(g)', 'Table_ParticipantSide_Acc_Y(g)', 'Table_ParticipantSide_Acc_Z(g)']\n",
      "noise: ['N-AF3', 'N-AF4', 'N-AF7', 'N-AF8', 'N-AFF1h', 'N-AFF2h', 'N-AFF5h', 'N-AFF6h', 'N-AFp1', 'N-AFp2', 'N-AFz', 'N-C1', 'N-C2', 'N-C3', 'N-C4', 'N-C5', 'N-C6', 'N-CCP1h', 'N-CCP2h', 'N-CCP3h', 'N-CCP4h', 'N-CCP5h', 'N-CCP6h', 'N-CP1', 'N-CP2', 'N-CP3', 'N-CP4', 'N-CP5', 'N-CP6', 'N-CPP1h', 'N-CPP2h', 'N-CPP3h', 'N-CPP4h', 'N-CPP5h', 'N-CPP6h', 'N-Cz', 'N-F1', 'N-F10', 'N-F2', 'N-F3', 'N-F4', 'N-F5', 'N-F6', 'N-F7', 'N-F8', 'N-F9', 'N-FC1', 'N-FC2', 'N-FC3', 'N-FC4', 'N-FC5', 'N-FC6', 'N-FCC1h', 'N-FCC2h', 'N-FCC3h', 'N-FCC4h', 'N-FCC5h', 'N-FCC6h', 'N-FCz', 'N-FFC1h', 'N-FFC2h', 'N-FFC3h', 'N-FFC4h', 'N-FFC5h', 'N-FFC6h', 'N-FFT10h', 'N-FFT7h', 'N-FFT8h', 'N-FFT9h', 'N-FP2', 'N-FT10', 'N-FT7', 'N-FT8', 'N-FT9', 'N-FTT10h', 'N-FTT7h', 'N-FTT8h', 'N-FTT9h', 'N-Fp1', 'N-Fz', 'N-Iz', 'N-O1', 'N-O2', 'N-OI1h', 'N-OI2h', 'N-Oz', 'N-P1', 'N-P2', 'N-P3', 'N-P4', 'N-P5', 'N-P6', 'N-P7', 'N-P8', 'N-PO3', 'N-PO4', 'N-PO7', 'N-PO8', 'N-POO1', 'N-POO10h', 'N-POO2', 'N-POO9h', 'N-POz', 'N-PPO10h', 'N-PPO1h', 'N-PPO2h', 'N-PPO5h', 'N-PPO6h', 'N-PPO9h', 'N-Pz', 'N-T7', 'N-T8', 'N-TP7', 'N-TP8', 'N-TPP10h', 'N-TPP7h', 'N-TPP8h', 'N-TPP9h', 'N-TTP7h', 'N-TTP8h']\n",
      "  raw_eeg = mne.io.read_raw_eeglab(eeg_dirname + f'sub-{SUB_ID}_task-TableTennis_eeg.set', preload=True)\n",
      "/tmp/ipykernel_1842469/1054951819.py:1: RuntimeWarning: Estimated head radius (11.4 cm) is above the 99th percentile for adult head size. Check if the montage_units argument is correct (the default is \"mm\", but your channel positions may be in different units).\n",
      "  raw_eeg = mne.io.read_raw_eeglab(eeg_dirname + f'sub-{SUB_ID}_task-TableTennis_eeg.set', preload=True)\n",
      "/tmp/ipykernel_1842469/1054951819.py:1: RuntimeWarning: Data file name in EEG.data (sub-07_task-tabletennis_eeg.fdt) is incorrect, the file name must have changed on disk, using the correct file name (sub-07_task-TableTennis_eeg.fdt).\n",
      "  raw_eeg = mne.io.read_raw_eeglab(eeg_dirname + f'sub-{SUB_ID}_task-TableTennis_eeg.set', preload=True)\n"
     ]
    },
    {
     "name": "stdout",
     "output_type": "stream",
     "text": [
      "Reading 0 ... 1174502  =      0.000 ...  4698.008 secs...\n"
     ]
    },
    {
     "name": "stderr",
     "output_type": "stream",
     "text": [
      "/tmp/ipykernel_1842469/1054951819.py:1: RuntimeWarning: Omitted 1 annotation(s) that were outside data range.\n",
      "  raw_eeg = mne.io.read_raw_eeglab(eeg_dirname + f'sub-{SUB_ID}_task-TableTennis_eeg.set', preload=True)\n",
      "/tmp/ipykernel_1842469/1054951819.py:1: RuntimeWarning: The data contains 'boundary' events, indicating data discontinuities. Be cautious of filtering and epoching around these events.\n",
      "  raw_eeg = mne.io.read_raw_eeglab(eeg_dirname + f'sub-{SUB_ID}_task-TableTennis_eeg.set', preload=True)\n",
      "/tmp/ipykernel_1842469/1054951819.py:1: RuntimeWarning: Not setting positions of 8 emg channels found in montage:\n",
      "['LISCM', 'LSSCM', 'LSTrap', 'LITrap', 'RITrap', 'RISCM', 'RSSCM', 'RSTrap']\n",
      "Consider setting the channel types to be of EEG/sEEG/ECoG/DBS/fNIRS using inst.set_channel_types before calling inst.set_montage, or omit these channels when creating your montage.\n",
      "  raw_eeg = mne.io.read_raw_eeglab(eeg_dirname + f'sub-{SUB_ID}_task-TableTennis_eeg.set', preload=True)\n"
     ]
    }
   ],
   "source": [
    "raw_eeg = mne.io.read_raw_eeglab(eeg_dirname + f'sub-{SUB_ID}_task-TableTennis_eeg.set', preload=True)"
   ]
  },
  {
   "cell_type": "markdown",
   "id": "b67298df-7a42-42f5-95fb-6e135b68047c",
   "metadata": {},
   "source": [
    "**Визуализация обработанных ЭЭГ**"
   ]
  },
  {
   "cell_type": "code",
   "execution_count": 9,
   "id": "0382e3b1-1da2-4368-8fc9-d5d04292b358",
   "metadata": {},
   "outputs": [
    {
     "name": "stderr",
     "output_type": "stream",
     "text": [
      "/tmp/ipykernel_1842469/49138378.py:15: RuntimeWarning: The unit for channel(s) BallMachine_Acc_X(g), BallMachine_Acc_Y(g), BallMachine_Acc_Z(g), CGY-x, CGY-y, CGY-z, CWR-x, CWR-y, CWR-z, Imu_2 :W():, Imu_2 :X():, Imu_2 :Y():, Imu_2 :Z():, Imu_2_ImuGyro :X(D/s):, Imu_2_ImuGyro :Y(D/s):, Imu_2_ImuGyro :Z(D/s):, Imu_2_ImuMag :X(uT):, Imu_2_ImuMag :Y(uT):, Imu_2_ImuMag :Z(uT):, Imu_4 :W():, Imu_4 :X():, Imu_4 :Y():, Imu_4 :Z():, Imu_4_ImuGyro :X(D/s):, Imu_4_ImuGyro :Y(D/s):, Imu_4_ImuGyro :Z(D/s):, Imu_4_ImuMag :X(uT):, Imu_4_ImuMag :Y(uT):, Imu_4_ImuMag :Z(uT):, N-AF3, N-AF4, N-AF7, N-AF8, N-AFF1h, N-AFF2h, N-AFF5h, N-AFF6h, N-AFp1, N-AFp2, N-AFz, N-C1, N-C2, N-C3, N-C4, N-C5, N-C6, N-CCP1h, N-CCP2h, N-CCP3h, N-CCP4h, N-CCP5h, N-CCP6h, N-CP1, N-CP2, N-CP3, N-CP4, N-CP5, N-CP6, N-CPP1h, N-CPP2h, N-CPP3h, N-CPP4h, N-CPP5h, N-CPP6h, N-Cz, N-F1, N-F10, N-F2, N-F3, N-F4, N-F5, N-F6, N-F7, N-F8, N-F9, N-FC1, N-FC2, N-FC3, N-FC4, N-FC5, N-FC6, N-FCC1h, N-FCC2h, N-FCC3h, N-FCC4h, N-FCC5h, N-FCC6h, N-FCz, N-FFC1h, N-FFC2h, N-FFC3h, N-FFC4h, N-FFC5h, N-FFC6h, N-FFT10h, N-FFT7h, N-FFT8h, N-FFT9h, N-FP2, N-FT10, N-FT7, N-FT8, N-FT9, N-FTT10h, N-FTT7h, N-FTT8h, N-FTT9h, N-Fp1, N-Fz, N-Iz, N-O1, N-O2, N-OI1h, N-OI2h, N-Oz, N-P1, N-P2, N-P3, N-P4, N-P5, N-P6, N-P7, N-P8, N-PO3, N-PO4, N-PO7, N-PO8, N-POO1, N-POO10h, N-POO2, N-POO9h, N-POz, N-PPO10h, N-PPO1h, N-PPO2h, N-PPO5h, N-PPO6h, N-PPO9h, N-Pz, N-T7, N-T8, N-TP7, N-TP8, N-TPP10h, N-TPP7h, N-TPP8h, N-TPP9h, N-TTP7h, N-TTP8h, NGY-x, NGY-y, NGY-z, NWR-x, NWR-y, NWR-z, Net_Acc_X(g), Net_Acc_Y(g), Net_Acc_Z(g), Participant_Paddle_Acc_X(g), Participant_Paddle_Acc_Y(g), Participant_Paddle_Acc_Z(g), Researcher_Paddle_Acc_X(g), Researcher_Paddle_Acc_Y(g), Researcher_Paddle_Acc_Z(g), SyncPulse(uV), Table_OtherSide_Acc_X(g), Table_OtherSide_Acc_Y(g), Table_OtherSide_Acc_Z(g), Table_ParticipantSide_Acc_X(g), Table_ParticipantSide_Acc_Y(g), Table_ParticipantSide_Acc_Z(g) has changed from V to NA.\n",
      "  raw_eeg.set_channel_types(channel_types)\n"
     ]
    },
    {
     "data": {
      "text/html": [
       "<script type=\"text/javascript\">\n",
       "    const toggleVisibility = (className) => {\n",
       "\n",
       "  const elements = document.querySelectorAll(`.${className}`)\n",
       "\n",
       "  elements.forEach(element => {\n",
       "    if (element.classList.contains('repr-section-header')) {\n",
       "      // Don't collapse the section header row.\n",
       "       return\n",
       "    }\n",
       "    if (element.classList.contains('repr-element-collapsed')) {\n",
       "      // Force a reflow to ensure the display change takes effect before removing the class\n",
       "      element.classList.remove('repr-element-collapsed')\n",
       "      element.offsetHeight // This forces the browser to recalculate layout\n",
       "      element.classList.remove('repr-element-faded')\n",
       "    } else {\n",
       "      // Start transition to hide the element\n",
       "      element.classList.add('repr-element-faded')\n",
       "      element.addEventListener('transitionend', handler = (e) => {\n",
       "        if (e.propertyName === 'opacity' && getComputedStyle(element).opacity === '0.2') {\n",
       "          element.classList.add('repr-element-collapsed')\n",
       "          element.removeEventListener('transitionend', handler)\n",
       "        }\n",
       "      });\n",
       "    }\n",
       "  });\n",
       "\n",
       "  // Take care of button (adjust caret)\n",
       "  const button = document.querySelectorAll(`.repr-section-header.${className} > th.repr-section-toggle-col > button`)[0]\n",
       "  button.classList.toggle('collapsed')\n",
       "\n",
       "  // Take care of the tooltip of the section header row\n",
       "  const sectionHeaderRow = document.querySelectorAll(`tr.repr-section-header.${className}`)[0]\n",
       "  sectionHeaderRow.classList.toggle('collapsed')\n",
       "  sectionHeaderRow.title = sectionHeaderRow.title === 'Hide section' ? 'Show section' : 'Hide section'\n",
       "}\n",
       "</script>\n",
       "\n",
       "<style type=\"text/css\">\n",
       "    table.repr.table.table-hover.table-striped.table-sm.table-responsive.small {\n",
       "  /* Don't make rows wider than they need to be. */\n",
       "  display: inline;\n",
       "}\n",
       "\n",
       "table > tbody > tr.repr-element > td {\n",
       "  /* Apply a tighter layout to the table cells. */\n",
       "  padding-top: 0.1rem;\n",
       "  padding-bottom: 0.1rem;\n",
       "  padding-right: 1rem;\n",
       "}\n",
       "\n",
       "table > tbody > tr > td.repr-section-toggle-col {\n",
       "  /* Remove background and border of the first cell in every row\n",
       "     (this row is only used for the collapse / uncollapse caret)\n",
       "\n",
       "     TODO: Need to find a good solution for VS Code that works in both\n",
       "           light and dark mode. */\n",
       "  border-color: transparent;\n",
       "  --bs-table-accent-bg: transparent;\n",
       "}\n",
       "\n",
       "tr.repr-section-header {\n",
       "  /* Remove stripes from section header rows */\n",
       "  background-color: transparent;\n",
       "  border-color: transparent;\n",
       "  --bs-table-striped-bg: transparent;\n",
       "  cursor: pointer;\n",
       "}\n",
       "\n",
       "tr.repr-section-header > th {\n",
       "  text-align: left !important;\n",
       "  vertical-align: middle;\n",
       "}\n",
       "\n",
       ".repr-element, tr.repr-element > td {\n",
       "  opacity: 1;\n",
       "  text-align: left !important;\n",
       "}\n",
       "\n",
       ".repr-element-faded {\n",
       "  transition: 0.3s ease;\n",
       "  opacity: 0.2;\n",
       "}\n",
       "\n",
       ".repr-element-collapsed {\n",
       "  display: none;\n",
       "}\n",
       "\n",
       "/* Collapse / uncollapse button and the caret it contains. */\n",
       ".repr-section-toggle-col button {\n",
       "  cursor: pointer;\n",
       "  width: 1rem;\n",
       "  background-color: transparent;\n",
       "  border-color: transparent;\n",
       "}\n",
       "\n",
       "span.collapse-uncollapse-caret {\n",
       "  width: 1rem;\n",
       "  height: 1rem;\n",
       "  display: block;\n",
       "  background-repeat: no-repeat;\n",
       "  background-position: left;\n",
       "  background-size: contain;\n",
       "}\n",
       "\n",
       "/* The collapse / uncollapse carets were copied from the free Font Awesome collection and adjusted. */\n",
       "\n",
       "/* Default to black carets for light mode */\n",
       ".repr-section-toggle-col > button.collapsed > span.collapse-uncollapse-caret {\n",
       "  background-image: url('data:image/svg+xml;charset=utf8,<svg xmlns=\"http://www.w3.org/2000/svg\" viewBox=\"0 0 256 512\"><!--!Font Awesome Free 6.5.2 by @fontawesome - https://fontawesome.com License - https://fontawesome.com/license/free Copyright 2024 Fonticons, Inc.--><path fill=\"black\" d=\"M246.6 278.6c12.5-12.5 12.5-32.8 0-45.3l-128-128c-9.2-9.2-22.9-11.9-34.9-6.9s-19.8 16.6-19.8 29.6l0 256c0 12.9 7.8 24.6 19.8 29.6s25.7 2.2 34.9-6.9l128-128z\"/></svg>');\n",
       "}\n",
       "\n",
       ".repr-section-toggle-col\n",
       "  > button:not(.collapsed)\n",
       "  > span.collapse-uncollapse-caret {\n",
       "  background-image: url('data:image/svg+xml;charset=utf8,<svg xmlns=\"http://www.w3.org/2000/svg\" viewBox=\"0 0 320 512\"><!--!Font Awesome Free 6.5.2 by @fontawesome - https://fontawesome.com License - https://fontawesome.com/license/free Copyright 2024 Fonticons, Inc.--><path fill=\"black\" d=\"M137.4 374.6c12.5 12.5 32.8 12.5 45.3 0l128-128c9.2-9.2 11.9-22.9 6.9-34.9s-16.6-19.8-29.6-19.8L32 192c-12.9 0-24.6 7.8-29.6 19.8s-2.2 25.7 6.9 34.9l128 128z\"/></svg>');\n",
       "}\n",
       "\n",
       "/* Use white carets for dark mode */\n",
       "@media (prefers-color-scheme: dark) {\n",
       "  .repr-section-toggle-col > button.collapsed > span.collapse-uncollapse-caret {\n",
       "    background-image: url('data:image/svg+xml;charset=utf8,<svg xmlns=\"http://www.w3.org/2000/svg\" viewBox=\"0 0 256 512\"><!--!Font Awesome Free 6.5.2 by @fontawesome - https://fontawesome.com License - https://fontawesome.com/license/free Copyright 2024 Fonticons, Inc.--><path fill=\"white\" d=\"M246.6 278.6c12.5-12.5 12.5-32.8 0-45.3l-128-128c-9.2-9.2-22.9-11.9-34.9-6.9s-19.8 16.6-19.8 29.6l0 256c0 12.9 7.8 24.6 19.8 29.6s25.7 2.2 34.9-6.9l128-128z\"/></svg>');\n",
       "  }\n",
       "\n",
       "  .repr-section-toggle-col\n",
       "    > button:not(.collapsed)\n",
       "    > span.collapse-uncollapse-caret {\n",
       "    background-image: url('data:image/svg+xml;charset=utf8,<svg xmlns=\"http://www.w3.org/2000/svg\" viewBox=\"0 0 320 512\"><!--!Font Awesome Free 6.5.2 by @fontawesome - https://fontawesome.com License - https://fontawesome.com/license/free Copyright 2024 Fonticons, Inc.--><path fill=\"white\" d=\"M137.4 374.6c12.5 12.5 32.8 12.5 45.3 0l128-128c9.2-9.2 11.9-22.9 6.9-34.9s-16.6-19.8-29.6-19.8L32 192c-12.9 0-24.6 7.8-29.6 19.8s-2.2 25.7 6.9 34.9l128 128z\"/></svg>');\n",
       "  }\n",
       "}\n",
       "\n",
       ".channel-names-btn {\n",
       "  padding: 0;\n",
       "  border: none;\n",
       "  background: none;\n",
       "  text-decoration: underline;\n",
       "  text-decoration-style: dashed;\n",
       "  cursor: pointer;\n",
       "  color: #0d6efd;\n",
       "}\n",
       "\n",
       ".channel-names-btn:hover {\n",
       "  color: #0a58ca;\n",
       "}\n",
       "</style>\n",
       "\n",
       "\n",
       "\n",
       "<table class=\"repr table table-hover table-striped table-sm table-responsive small\">\n",
       "    \n",
       "\n",
       "\n",
       "\n",
       "\n",
       "\n",
       "\n",
       "\n",
       "<tr class=\"repr-section-header general-ca716ac6-cd4e-47dc-971b-59ca6e95e2dc\"  title=\"Hide section\" \n",
       "    onclick=\"toggleVisibility('general-ca716ac6-cd4e-47dc-971b-59ca6e95e2dc')\">\n",
       "    <th class=\"repr-section-toggle-col\">\n",
       "        <button>\n",
       "            \n",
       "            <span class=\"collapse-uncollapse-caret\"></span>\n",
       "        </button>\n",
       "    </th>\n",
       "    <th colspan=\"2\">\n",
       "        <strong>General</strong>\n",
       "    </th>\n",
       "</tr>\n",
       "\n",
       "<tr class=\"repr-element general-ca716ac6-cd4e-47dc-971b-59ca6e95e2dc \">\n",
       "    <td class=\"repr-section-toggle-col\"></td>\n",
       "    <td>Filename(s)</td>\n",
       "    <td>\n",
       "        \n",
       "        sub-07_task-TableTennis_eeg.fdt\n",
       "        \n",
       "        \n",
       "    </td>\n",
       "</tr>\n",
       "\n",
       "<tr class=\"repr-element general-ca716ac6-cd4e-47dc-971b-59ca6e95e2dc \">\n",
       "    <td class=\"repr-section-toggle-col\"></td>\n",
       "    <td>MNE object type</td>\n",
       "    <td>RawEEGLAB</td>\n",
       "</tr>\n",
       "<tr class=\"repr-element general-ca716ac6-cd4e-47dc-971b-59ca6e95e2dc \">\n",
       "    <td class=\"repr-section-toggle-col\"></td>\n",
       "    <td>Measurement date</td>\n",
       "    \n",
       "    <td>Unknown</td>\n",
       "    \n",
       "</tr>\n",
       "<tr class=\"repr-element general-ca716ac6-cd4e-47dc-971b-59ca6e95e2dc \">\n",
       "    <td class=\"repr-section-toggle-col\"></td>\n",
       "    <td>Participant</td>\n",
       "    \n",
       "    <td>Unknown</td>\n",
       "    \n",
       "</tr>\n",
       "<tr class=\"repr-element general-ca716ac6-cd4e-47dc-971b-59ca6e95e2dc \">\n",
       "    <td class=\"repr-section-toggle-col\"></td>\n",
       "    <td>Experimenter</td>\n",
       "    \n",
       "    <td>Unknown</td>\n",
       "    \n",
       "</tr>\n",
       "    \n",
       "\n",
       "\n",
       "\n",
       "\n",
       "\n",
       "\n",
       "\n",
       "<tr class=\"repr-section-header acquisition-1df8058b-db2d-4cdd-8fe5-26c900f37f04\" \n",
       "    title=\"Hide section\"  onclick=\"toggleVisibility('acquisition-1df8058b-db2d-4cdd-8fe5-26c900f37f04')\">\n",
       "    <th class=\"repr-section-toggle-col\">\n",
       "        <button>\n",
       "            \n",
       "            <span class=\"collapse-uncollapse-caret\"></span>\n",
       "        </button>\n",
       "    </th>\n",
       "    <th colspan=\"2\">\n",
       "        <strong>Acquisition</strong>\n",
       "    </th>\n",
       "</tr>\n",
       "\n",
       "<tr class=\"repr-element acquisition-1df8058b-db2d-4cdd-8fe5-26c900f37f04 \">\n",
       "    <td class=\"repr-section-toggle-col\"></td>\n",
       "    <td>Duration</td>\n",
       "    <td>01:18:19 (HH:MM:SS)</td>\n",
       "</tr>\n",
       "\n",
       "\n",
       "\n",
       "\n",
       "\n",
       "\n",
       "\n",
       "\n",
       "<tr class=\"repr-element acquisition-1df8058b-db2d-4cdd-8fe5-26c900f37f04 \">\n",
       "    <td class=\"repr-section-toggle-col\"></td>\n",
       "    <td>Sampling frequency</td>\n",
       "    <td>250.00 Hz</td>\n",
       "</tr>\n",
       "\n",
       "\n",
       "<tr class=\"repr-element acquisition-1df8058b-db2d-4cdd-8fe5-26c900f37f04 \">\n",
       "    <td class=\"repr-section-toggle-col\"></td>\n",
       "    <td>Time points</td>\n",
       "    <td>1,174,503</td>\n",
       "</tr>\n",
       "\n",
       "\n",
       "    \n",
       "\n",
       "\n",
       "\n",
       "\n",
       "\n",
       "\n",
       "\n",
       "<tr class=\"repr-section-header channels-afc06001-36e8-4f89-ada2-ecb1fa345a69\"  title=\"Hide section\" \n",
       "    onclick=\"toggleVisibility('channels-afc06001-36e8-4f89-ada2-ecb1fa345a69')\">\n",
       "    <th class=\"repr-section-toggle-col\">\n",
       "        <button>\n",
       "            \n",
       "            <span class=\"collapse-uncollapse-caret\"></span>\n",
       "        </button>\n",
       "    </th>\n",
       "    <th colspan=\"2\">\n",
       "        <strong>Channels</strong>\n",
       "    </th>\n",
       "</tr>\n",
       "\n",
       "\n",
       "<tr class=\"repr-element channels-afc06001-36e8-4f89-ada2-ecb1fa345a69 \">\n",
       "    <td class=\"repr-section-toggle-col\"></td>\n",
       "    <td>EEG</td>\n",
       "    <td>\n",
       "        <button class=\"channel-names-btn\" onclick=\"alert('Good EEG:\\n\\nFp1, AFp1, AFz, AF3, AF7, AFF5h, AFF1h, F1, F3, F5, F7, F9, FFT9h, FFT7h, FFC5h, FFC3h, FFC1h, FCz, FC1, FC3, FC5, FT7, FT9, FTT9h, FTT7h, FCC5h, FCC3h, FCC1h, C1, C3, C5, T7, TTP7h, CCP5h, CCP3h, CCP1h, CP1, CP3, CP5, TP7, TPP9h, TPP7h, CPP5h, CPP3h, CPP1h, P1, P3, P5, P7, PPO5h, PPO1h, POz, PO3, PO7, PPO9h, POO9h, O1, POO1, OI1h, Iz, Cz, C2, C4, C6, T8, FTT10h, FTT8h, FCC6h, FCC4h, FCC2h, FC2, FC4, FC6, FT8, FT10, FFT10h, FFT8h, FFC6h, FFC4h, FFC2h, Fz, F2, F4, F6, F8, F10, AFF6h, AFF2h, AF4, AF8, FP2, AFp2, Oz, OI2h, POO10h, O2, POO2, PO4, PO8, PPO10h, PPO6h, PPO2h, Pz, P2, P4, P6, P8, TPP10h, TPP8h, CPP6h, CPP4h, CPP2h, CP2, CP4, CP6, TP8, TTP8h, CCP6h, CCP4h, CCP2h')\" title=\"(Click to open in popup)&#13;&#13;Fp1, AFp1, AFz, AF3, AF7, AFF5h, AFF1h, F1, F3, F5, F7, F9, FFT9h, FFT7h, FFC5h, FFC3h, FFC1h, FCz, FC1, FC3, FC5, FT7, FT9, FTT9h, FTT7h, FCC5h, FCC3h, FCC1h, C1, C3, C5, T7, TTP7h, CCP5h, CCP3h, CCP1h, CP1, CP3, CP5, TP7, TPP9h, TPP7h, CPP5h, CPP3h, CPP1h, P1, P3, P5, P7, PPO5h, PPO1h, POz, PO3, PO7, PPO9h, POO9h, O1, POO1, OI1h, Iz, Cz, C2, C4, C6, T8, FTT10h, FTT8h, FCC6h, FCC4h, FCC2h, FC2, FC4, FC6, FT8, FT10, FFT10h, FFT8h, FFC6h, FFC4h, FFC2h, Fz, F2, F4, F6, F8, F10, AFF6h, AFF2h, AF4, AF8, FP2, AFp2, Oz, OI2h, POO10h, O2, POO2, PO4, PO8, PPO10h, PPO6h, PPO2h, Pz, P2, P4, P6, P8, TPP10h, TPP8h, CPP6h, CPP4h, CPP2h, CP2, CP4, CP6, TP8, TTP8h, CCP6h, CCP4h, CCP2h\">\n",
       "            120\n",
       "        </button>\n",
       "\n",
       "        \n",
       "    </td>\n",
       "</tr>\n",
       "\n",
       "\n",
       "<tr class=\"repr-element channels-afc06001-36e8-4f89-ada2-ecb1fa345a69 \">\n",
       "    <td class=\"repr-section-toggle-col\"></td>\n",
       "    <td>EMG</td>\n",
       "    <td>\n",
       "        <button class=\"channel-names-btn\" onclick=\"alert('Good EMG:\\n\\nLISCM, LSSCM, LSTrap, LITrap, RITrap, RISCM, RSSCM, RSTrap')\" title=\"(Click to open in popup)&#13;&#13;LISCM, LSSCM, LSTrap, LITrap, RITrap, RISCM, RSSCM, RSTrap\">\n",
       "            8\n",
       "        </button>\n",
       "\n",
       "        \n",
       "    </td>\n",
       "</tr>\n",
       "\n",
       "\n",
       "<tr class=\"repr-element channels-afc06001-36e8-4f89-ada2-ecb1fa345a69 \">\n",
       "    <td class=\"repr-section-toggle-col\"></td>\n",
       "    <td>misc</td>\n",
       "    <td>\n",
       "        <button class=\"channel-names-btn\" onclick=\"alert('Good misc:\\n\\nN-Fp1, N-AFp1, N-AFz, N-AF3, N-AF7, N-AFF5h, N-AFF1h, N-F1, N-F3, N-F5, N-F7, N-F9, N-FFT9h, N-FFT7h, N-FFC5h, N-FFC3h, N-FFC1h, N-FCz, N-FC1, N-FC3, N-FC5, N-FT7, N-FT9, N-FTT9h, N-FTT7h, N-FCC5h, N-FCC3h, N-FCC1h, N-C1, N-C3, N-C5, N-T7, N-TTP7h, N-CCP5h, N-CCP3h, N-CCP1h, N-CP1, N-CP3, N-CP5, N-TP7, N-TPP9h, N-TPP7h, N-CPP5h, N-CPP3h, N-CPP1h, N-P1, N-P3, N-P5, N-P7, N-PPO5h, N-PPO1h, N-POz, N-PO3, N-PO7, N-PPO9h, N-POO9h, N-O1, N-POO1, N-OI1h, N-Iz, N-Cz, N-C2, N-C4, N-C6, N-T8, N-FTT10h, N-FTT8h, N-FCC6h, N-FCC4h, N-FCC2h, N-FC2, N-FC4, N-FC6, N-FT8, N-FT10, N-FFT10h, N-FFT8h, N-FFC6h, N-FFC4h, N-FFC2h, N-Fz, N-F2, N-F4, N-F6, N-F8, N-F10, N-AFF6h, N-AFF2h, N-AF4, N-AF8, N-FP2, N-AFp2, N-Oz, N-OI2h, N-POO10h, N-O2, N-POO2, N-PO4, N-PO8, N-PPO10h, N-PPO6h, N-PPO2h, N-Pz, N-P2, N-P4, N-P6, N-P8, N-TPP10h, N-TPP8h, N-CPP6h, N-CPP4h, N-CPP2h, N-CP2, N-CP4, N-CP6, N-TP8, N-TTP8h, N-CCP6h, N-CCP4h, N-CCP2h, CGY-x, CGY-y, CGY-z, CWR-x, CWR-y, CWR-z, NGY-x, NGY-y, NGY-z, NWR-x, NWR-y, NWR-z, SyncPulse(uV), Participant_Paddle_Acc_X(g), BallMachine_Acc_X(g), Researcher_Paddle_Acc_X(g), Net_Acc_X(g), Table_OtherSide_Acc_X(g), Table_ParticipantSide_Acc_X(g), Participant_Paddle_Acc_Y(g), BallMachine_Acc_Y(g), Researcher_Paddle_Acc_Y(g), Net_Acc_Y(g), Table_OtherSide_Acc_Y(g), Table_ParticipantSide_Acc_Y(g), Participant_Paddle_Acc_Z(g), BallMachine_Acc_Z(g), Researcher_Paddle_Acc_Z(g), Net_Acc_Z(g), Table_OtherSide_Acc_Z(g), Table_ParticipantSide_Acc_Z(g), Imu_2_ImuGyro&nbsp;:X(D/s):, Imu_4_ImuGyro&nbsp;:X(D/s):, Imu_2_ImuGyro&nbsp;:Y(D/s):, Imu_4_ImuGyro&nbsp;:Y(D/s):, Imu_2_ImuGyro&nbsp;:Z(D/s):, Imu_4_ImuGyro&nbsp;:Z(D/s):, Imu_2_ImuMag&nbsp;:X(uT):, Imu_4_ImuMag&nbsp;:X(uT):, Imu_2_ImuMag&nbsp;:Y(uT):, Imu_4_ImuMag&nbsp;:Y(uT):, Imu_2_ImuMag&nbsp;:Z(uT):, Imu_4_ImuMag&nbsp;:Z(uT):, Imu_2&nbsp;:W():, Imu_4&nbsp;:W():, Imu_2&nbsp;:X():, Imu_4&nbsp;:X():, Imu_2&nbsp;:Y():, Imu_4&nbsp;:Y():, Imu_2&nbsp;:Z():, Imu_4&nbsp;:Z():')\" title=\"(Click to open in popup)&#13;&#13;N-Fp1, N-AFp1, N-AFz, N-AF3, N-AF7, N-AFF5h, N-AFF1h, N-F1, N-F3, N-F5, N-F7, N-F9, N-FFT9h, N-FFT7h, N-FFC5h, N-FFC3h, N-FFC1h, N-FCz, N-FC1, N-FC3, N-FC5, N-FT7, N-FT9, N-FTT9h, N-FTT7h, N-FCC5h, N-FCC3h, N-FCC1h, N-C1, N-C3, N-C5, N-T7, N-TTP7h, N-CCP5h, N-CCP3h, N-CCP1h, N-CP1, N-CP3, N-CP5, N-TP7, N-TPP9h, N-TPP7h, N-CPP5h, N-CPP3h, N-CPP1h, N-P1, N-P3, N-P5, N-P7, N-PPO5h, N-PPO1h, N-POz, N-PO3, N-PO7, N-PPO9h, N-POO9h, N-O1, N-POO1, N-OI1h, N-Iz, N-Cz, N-C2, N-C4, N-C6, N-T8, N-FTT10h, N-FTT8h, N-FCC6h, N-FCC4h, N-FCC2h, N-FC2, N-FC4, N-FC6, N-FT8, N-FT10, N-FFT10h, N-FFT8h, N-FFC6h, N-FFC4h, N-FFC2h, N-Fz, N-F2, N-F4, N-F6, N-F8, N-F10, N-AFF6h, N-AFF2h, N-AF4, N-AF8, N-FP2, N-AFp2, N-Oz, N-OI2h, N-POO10h, N-O2, N-POO2, N-PO4, N-PO8, N-PPO10h, N-PPO6h, N-PPO2h, N-Pz, N-P2, N-P4, N-P6, N-P8, N-TPP10h, N-TPP8h, N-CPP6h, N-CPP4h, N-CPP2h, N-CP2, N-CP4, N-CP6, N-TP8, N-TTP8h, N-CCP6h, N-CCP4h, N-CCP2h, CGY-x, CGY-y, CGY-z, CWR-x, CWR-y, CWR-z, NGY-x, NGY-y, NGY-z, NWR-x, NWR-y, NWR-z, SyncPulse(uV), Participant_Paddle_Acc_X(g), BallMachine_Acc_X(g), Researcher_Paddle_Acc_X(g), Net_Acc_X(g), Table_OtherSide_Acc_X(g), Table_ParticipantSide_Acc_X(g), Participant_Paddle_Acc_Y(g), BallMachine_Acc_Y(g), Researcher_Paddle_Acc_Y(g), Net_Acc_Y(g), Table_OtherSide_Acc_Y(g), Table_ParticipantSide_Acc_Y(g), Participant_Paddle_Acc_Z(g), BallMachine_Acc_Z(g), Researcher_Paddle_Acc_Z(g), Net_Acc_Z(g), Table_OtherSide_Acc_Z(g), Table_ParticipantSide_Acc_Z(g), Imu_2_ImuGyro&nbsp;:X(D/s):, Imu_4_ImuGyro&nbsp;:X(D/s):, Imu_2_ImuGyro&nbsp;:Y(D/s):, Imu_4_ImuGyro&nbsp;:Y(D/s):, Imu_2_ImuGyro&nbsp;:Z(D/s):, Imu_4_ImuGyro&nbsp;:Z(D/s):, Imu_2_ImuMag&nbsp;:X(uT):, Imu_4_ImuMag&nbsp;:X(uT):, Imu_2_ImuMag&nbsp;:Y(uT):, Imu_4_ImuMag&nbsp;:Y(uT):, Imu_2_ImuMag&nbsp;:Z(uT):, Imu_4_ImuMag&nbsp;:Z(uT):, Imu_2&nbsp;:W():, Imu_4&nbsp;:W():, Imu_2&nbsp;:X():, Imu_4&nbsp;:X():, Imu_2&nbsp;:Y():, Imu_4&nbsp;:Y():, Imu_2&nbsp;:Z():, Imu_4&nbsp;:Z():\">\n",
       "            171\n",
       "        </button>\n",
       "\n",
       "        \n",
       "    </td>\n",
       "</tr>\n",
       "\n",
       "\n",
       "<tr class=\"repr-element channels-afc06001-36e8-4f89-ada2-ecb1fa345a69 \">\n",
       "    <td class=\"repr-section-toggle-col\"></td>\n",
       "    <td>Head & sensor digitization</td>\n",
       "    \n",
       "    <td>294 points</td>\n",
       "    \n",
       "</tr>\n",
       "    \n",
       "\n",
       "\n",
       "\n",
       "\n",
       "\n",
       "\n",
       "\n",
       "<tr class=\"repr-section-header filters-eb043716-a23f-4887-ab83-a0d369be4308\"  title=\"Hide section\" \n",
       "    onclick=\"toggleVisibility('filters-eb043716-a23f-4887-ab83-a0d369be4308')\">\n",
       "    <th class=\"repr-section-toggle-col\">\n",
       "        <button>\n",
       "            \n",
       "            <span class=\"collapse-uncollapse-caret\"></span>\n",
       "        </button>\n",
       "    </th>\n",
       "    <th colspan=\"2\">\n",
       "        <strong>Filters</strong>\n",
       "    </th>\n",
       "</tr>\n",
       "\n",
       "<tr class=\"repr-element filters-eb043716-a23f-4887-ab83-a0d369be4308 \">\n",
       "    <td class=\"repr-section-toggle-col\"></td>\n",
       "    <td>Highpass</td>\n",
       "    <td>0.00 Hz</td>\n",
       "</tr>\n",
       "\n",
       "\n",
       "<tr class=\"repr-element filters-eb043716-a23f-4887-ab83-a0d369be4308 \">\n",
       "    <td class=\"repr-section-toggle-col\"></td>\n",
       "    <td>Lowpass</td>\n",
       "    <td>125.00 Hz</td>\n",
       "</tr>\n",
       "\n",
       "\n",
       "</table>"
      ],
      "text/plain": [
       "<RawEEGLAB | sub-07_task-TableTennis_eeg.fdt, 299 x 1174503 (4698.0 s), ~2.62 GB, data loaded>"
      ]
     },
     "execution_count": 9,
     "metadata": {},
     "output_type": "execute_result"
    }
   ],
   "source": [
    "eeg_channels = channels_df[channels_df['type'] == 'EEG']['name'].tolist()\n",
    "emg_channels = channels_df[channels_df['type'] == 'EMG']['name'].tolist()\n",
    "misc_channels = channels_df[channels_df['type'] == 'MISC']['name'].tolist()\n",
    "\n",
    "# Set channel types\n",
    "channel_types = {}\n",
    "for ch in raw_eeg.ch_names:\n",
    "    if ch in eeg_channels:\n",
    "        channel_types[ch] = 'eeg'\n",
    "    elif ch in emg_channels:\n",
    "        channel_types[ch] = 'emg'\n",
    "    else:\n",
    "        channel_types[ch] = 'misc'  # Includes IMU and other sensors\n",
    "\n",
    "raw_eeg.set_channel_types(channel_types)"
   ]
  },
  {
   "cell_type": "markdown",
   "id": "16da1c0a-66c0-43e9-a185-562e1fbe2b72",
   "metadata": {},
   "source": [
    "Watch channels names"
   ]
  },
  {
   "cell_type": "code",
   "execution_count": 10,
   "id": "74d27765-f327-498f-886f-d4f20e029410",
   "metadata": {
    "scrolled": true
   },
   "outputs": [
    {
     "data": {
      "text/plain": [
       "(['Fp1',\n",
       "  'AFp1',\n",
       "  'AFz',\n",
       "  'AF3',\n",
       "  'AF7',\n",
       "  'AFF5h',\n",
       "  'AFF1h',\n",
       "  'F1',\n",
       "  'F3',\n",
       "  'F5',\n",
       "  'F7',\n",
       "  'F9',\n",
       "  'FFT9h',\n",
       "  'FFT7h',\n",
       "  'FFC5h',\n",
       "  'FFC3h',\n",
       "  'FFC1h',\n",
       "  'FCz',\n",
       "  'FC1',\n",
       "  'FC3',\n",
       "  'FC5',\n",
       "  'FT7',\n",
       "  'FT9',\n",
       "  'FTT9h',\n",
       "  'FTT7h',\n",
       "  'FCC5h',\n",
       "  'FCC3h',\n",
       "  'FCC1h',\n",
       "  'C1',\n",
       "  'C3',\n",
       "  'C5',\n",
       "  'T7',\n",
       "  'TTP7h',\n",
       "  'CCP5h',\n",
       "  'CCP3h',\n",
       "  'CCP1h',\n",
       "  'CP1',\n",
       "  'CP3',\n",
       "  'CP5',\n",
       "  'TP7',\n",
       "  'TPP9h',\n",
       "  'TPP7h',\n",
       "  'CPP5h',\n",
       "  'CPP3h',\n",
       "  'CPP1h',\n",
       "  'P1',\n",
       "  'P3',\n",
       "  'P5',\n",
       "  'P7',\n",
       "  'PPO5h',\n",
       "  'PPO1h',\n",
       "  'POz',\n",
       "  'PO3',\n",
       "  'PO7',\n",
       "  'PPO9h',\n",
       "  'POO9h',\n",
       "  'O1',\n",
       "  'POO1',\n",
       "  'OI1h',\n",
       "  'Iz',\n",
       "  'Cz',\n",
       "  'C2',\n",
       "  'C4',\n",
       "  'C6',\n",
       "  'T8',\n",
       "  'FTT10h',\n",
       "  'FTT8h',\n",
       "  'FCC6h',\n",
       "  'FCC4h',\n",
       "  'FCC2h',\n",
       "  'FC2',\n",
       "  'FC4',\n",
       "  'FC6',\n",
       "  'FT8',\n",
       "  'FT10',\n",
       "  'FFT10h',\n",
       "  'FFT8h',\n",
       "  'FFC6h',\n",
       "  'FFC4h',\n",
       "  'FFC2h',\n",
       "  'Fz',\n",
       "  'F2',\n",
       "  'F4',\n",
       "  'F6',\n",
       "  'F8',\n",
       "  'F10',\n",
       "  'AFF6h',\n",
       "  'AFF2h',\n",
       "  'AF4',\n",
       "  'AF8',\n",
       "  'FP2',\n",
       "  'AFp2',\n",
       "  'Oz',\n",
       "  'OI2h',\n",
       "  'POO10h',\n",
       "  'O2',\n",
       "  'POO2',\n",
       "  'PO4',\n",
       "  'PO8',\n",
       "  'PPO10h',\n",
       "  'PPO6h',\n",
       "  'PPO2h',\n",
       "  'Pz',\n",
       "  'P2',\n",
       "  'P4',\n",
       "  'P6',\n",
       "  'P8',\n",
       "  'TPP10h',\n",
       "  'TPP8h',\n",
       "  'CPP6h',\n",
       "  'CPP4h',\n",
       "  'CPP2h',\n",
       "  'CP2',\n",
       "  'CP4',\n",
       "  'CP6',\n",
       "  'TP8',\n",
       "  'TTP8h',\n",
       "  'CCP6h',\n",
       "  'CCP4h',\n",
       "  'CCP2h'],\n",
       " ['N-Fp1',\n",
       "  'N-AFp1',\n",
       "  'N-AFz',\n",
       "  'N-AF3',\n",
       "  'N-AF7',\n",
       "  'N-AFF5h',\n",
       "  'N-AFF1h',\n",
       "  'N-F1',\n",
       "  'N-F3',\n",
       "  'N-F5',\n",
       "  'N-F7',\n",
       "  'N-F9',\n",
       "  'N-FFT9h',\n",
       "  'N-FFT7h',\n",
       "  'N-FFC5h',\n",
       "  'N-FFC3h',\n",
       "  'N-FFC1h',\n",
       "  'N-FCz',\n",
       "  'N-FC1',\n",
       "  'N-FC3',\n",
       "  'N-FC5',\n",
       "  'N-FT7',\n",
       "  'N-FT9',\n",
       "  'N-FTT9h',\n",
       "  'N-FTT7h',\n",
       "  'N-FCC5h',\n",
       "  'N-FCC3h',\n",
       "  'N-FCC1h',\n",
       "  'N-C1',\n",
       "  'N-C3',\n",
       "  'N-C5',\n",
       "  'N-T7',\n",
       "  'N-TTP7h',\n",
       "  'N-CCP5h',\n",
       "  'N-CCP3h',\n",
       "  'N-CCP1h',\n",
       "  'N-CP1',\n",
       "  'N-CP3',\n",
       "  'N-CP5',\n",
       "  'N-TP7',\n",
       "  'N-TPP9h',\n",
       "  'N-TPP7h',\n",
       "  'N-CPP5h',\n",
       "  'N-CPP3h',\n",
       "  'N-CPP1h',\n",
       "  'N-P1',\n",
       "  'N-P3',\n",
       "  'N-P5',\n",
       "  'N-P7',\n",
       "  'N-PPO5h',\n",
       "  'N-PPO1h',\n",
       "  'N-POz',\n",
       "  'N-PO3',\n",
       "  'N-PO7',\n",
       "  'N-PPO9h',\n",
       "  'N-POO9h',\n",
       "  'N-O1',\n",
       "  'N-POO1',\n",
       "  'N-OI1h',\n",
       "  'N-Iz',\n",
       "  'N-Cz',\n",
       "  'N-C2',\n",
       "  'N-C4',\n",
       "  'N-C6',\n",
       "  'N-T8',\n",
       "  'N-FTT10h',\n",
       "  'N-FTT8h',\n",
       "  'N-FCC6h',\n",
       "  'N-FCC4h',\n",
       "  'N-FCC2h',\n",
       "  'N-FC2',\n",
       "  'N-FC4',\n",
       "  'N-FC6',\n",
       "  'N-FT8',\n",
       "  'N-FT10',\n",
       "  'N-FFT10h',\n",
       "  'N-FFT8h',\n",
       "  'N-FFC6h',\n",
       "  'N-FFC4h',\n",
       "  'N-FFC2h',\n",
       "  'N-Fz',\n",
       "  'N-F2',\n",
       "  'N-F4',\n",
       "  'N-F6',\n",
       "  'N-F8',\n",
       "  'N-F10',\n",
       "  'N-AFF6h',\n",
       "  'N-AFF2h',\n",
       "  'N-AF4',\n",
       "  'N-AF8',\n",
       "  'N-FP2',\n",
       "  'N-AFp2',\n",
       "  'N-Oz',\n",
       "  'N-OI2h',\n",
       "  'N-POO10h',\n",
       "  'N-O2',\n",
       "  'N-POO2',\n",
       "  'N-PO4',\n",
       "  'N-PO8',\n",
       "  'N-PPO10h',\n",
       "  'N-PPO6h',\n",
       "  'N-PPO2h',\n",
       "  'N-Pz',\n",
       "  'N-P2',\n",
       "  'N-P4',\n",
       "  'N-P6',\n",
       "  'N-P8',\n",
       "  'N-TPP10h',\n",
       "  'N-TPP8h',\n",
       "  'N-CPP6h',\n",
       "  'N-CPP4h',\n",
       "  'N-CPP2h',\n",
       "  'N-CP2',\n",
       "  'N-CP4',\n",
       "  'N-CP6',\n",
       "  'N-TP8',\n",
       "  'N-TTP8h',\n",
       "  'N-CCP6h',\n",
       "  'N-CCP4h',\n",
       "  'N-CCP2h',\n",
       "  'CGY-x',\n",
       "  'CGY-y',\n",
       "  'CGY-z',\n",
       "  'CWR-x',\n",
       "  'CWR-y',\n",
       "  'CWR-z',\n",
       "  'NGY-x',\n",
       "  'NGY-y',\n",
       "  'NGY-z',\n",
       "  'NWR-x',\n",
       "  'NWR-y',\n",
       "  'NWR-z',\n",
       "  'SyncPulse(uV)',\n",
       "  'Participant_Paddle_Acc_X(g)',\n",
       "  'BallMachine_Acc_X(g)',\n",
       "  'Researcher_Paddle_Acc_X(g)',\n",
       "  'Net_Acc_X(g)',\n",
       "  'Table_OtherSide_Acc_X(g)',\n",
       "  'Table_ParticipantSide_Acc_X(g)',\n",
       "  'Participant_Paddle_Acc_Y(g)',\n",
       "  'BallMachine_Acc_Y(g)',\n",
       "  'Researcher_Paddle_Acc_Y(g)',\n",
       "  'Net_Acc_Y(g)',\n",
       "  'Table_OtherSide_Acc_Y(g)',\n",
       "  'Table_ParticipantSide_Acc_Y(g)',\n",
       "  'Participant_Paddle_Acc_Z(g)',\n",
       "  'BallMachine_Acc_Z(g)',\n",
       "  'Researcher_Paddle_Acc_Z(g)',\n",
       "  'Net_Acc_Z(g)',\n",
       "  'Table_OtherSide_Acc_Z(g)',\n",
       "  'Table_ParticipantSide_Acc_Z(g)',\n",
       "  'Imu_2_ImuGyro :X(D/s):',\n",
       "  'Imu_4_ImuGyro :X(D/s):',\n",
       "  'Imu_2_ImuGyro :Y(D/s):',\n",
       "  'Imu_4_ImuGyro :Y(D/s):',\n",
       "  'Imu_2_ImuGyro :Z(D/s):',\n",
       "  'Imu_4_ImuGyro :Z(D/s):',\n",
       "  'Imu_2_ImuMag :X(uT):',\n",
       "  'Imu_4_ImuMag :X(uT):',\n",
       "  'Imu_2_ImuMag :Y(uT):',\n",
       "  'Imu_4_ImuMag :Y(uT):',\n",
       "  'Imu_2_ImuMag :Z(uT):',\n",
       "  'Imu_4_ImuMag :Z(uT):',\n",
       "  'Imu_2 :W():',\n",
       "  'Imu_4 :W():',\n",
       "  'Imu_2 :X():',\n",
       "  'Imu_4 :X():',\n",
       "  'Imu_2 :Y():',\n",
       "  'Imu_4 :Y():',\n",
       "  'Imu_2 :Z():',\n",
       "  'Imu_4 :Z():'])"
      ]
     },
     "execution_count": 10,
     "metadata": {},
     "output_type": "execute_result"
    }
   ],
   "source": [
    "eeg_channels, misc_channels"
   ]
  },
  {
   "cell_type": "code",
   "execution_count": 11,
   "id": "2c4af0dc-4628-465b-9fe0-d1abaa3d9317",
   "metadata": {},
   "outputs": [],
   "source": [
    "electrodes_df.dropna(inplace=True)"
   ]
  },
  {
   "cell_type": "markdown",
   "id": "4f954446-72f6-4654-89c2-6bc48a6f42b6",
   "metadata": {},
   "source": [
    "### Извлекаем события и создаём аннотации"
   ]
  },
  {
   "cell_type": "markdown",
   "id": "e986d675-88ac-4550-9a4d-4631c8621a35",
   "metadata": {},
   "source": [
    "Join target data"
   ]
  },
  {
   "cell_type": "code",
   "execution_count": 12,
   "id": "5e4f76cd-5241-44ce-ad63-3fd17e4e0ab3",
   "metadata": {},
   "outputs": [],
   "source": [
    "eeg_file = os.path.join(eeg_dirname, f'sub-{SUB_ID}_task-TableTennis_eeg.set')\n",
    "mat = scipy.io.loadmat(eeg_file, struct_as_record=False, squeeze_me=True)\n",
    "\n",
    "events_df['bounces'] = None\n",
    "events_df['performance'] = None\n",
    "events_df['device'] = None\n",
    "events_df['orignum'] = None\n",
    "events_df.drop(columns=['duration', 'response_time', 'stim_file'], inplace=True, errors='ignore')\n",
    "\n",
    "empty_array = np.array([])\n",
    "\n",
    "for i, row in events_df.iterrows():\n",
    "    mat_event = mat['event'][i]\n",
    "    \n",
    "    assert mat_event.type == row['value'], \"asynchronous status event_type\"\n",
    "    assert row['trial_type'] == 'STATUS' or mat_event.condlabel == row['trial_type'], \"asynchronous status\"\n",
    "    assert np.abs(mat_event.latency - row['sample']) <= 2, \"asynchronous time\"\n",
    "    \n",
    "    if not isinstance(mat_event.bounces, np.ndarray):\n",
    "        events_df.at[i, 'bounces'] = mat_event.bounces\n",
    "\n",
    "    if not isinstance(mat_event.performance, np.ndarray):\n",
    "        events_df.at[i, 'performance'] = mat_event.performance\n",
    "\n",
    "    if not isinstance(mat_event.code, np.ndarray):\n",
    "        events_df.at[i, 'device'] = mat_event.code\n",
    "\n",
    "    if not isinstance(mat_event.orignum, np.ndarray):\n",
    "        events_df.at[i, 'orignum'] = mat_event.orignum\n",
    "\n",
    "# mat['event'][200].bounces,\\\n",
    "# mat['event'][200].code,\\\n",
    "# mat['event'][200].condlabel,\\\n",
    "# mat['event'][200].latency,\\\n",
    "# mat['event'][200].orignum,\\\n",
    "# mat['event'][200].performance,\\\n",
    "# mat['event'][200].type"
   ]
  },
  {
   "cell_type": "markdown",
   "id": "6ce9f32f-3d7b-4792-ba3f-c4ba45739e0a",
   "metadata": {},
   "source": [
    "`Subject_hit` in 'moving_hit', 'stationary_hit', 'moving_serve', 'stationary_serve' sessions"
   ]
  },
  {
   "cell_type": "code",
   "execution_count": 28,
   "id": "30d68771-d1a2-4cb1-bad0-01df539baa64",
   "metadata": {},
   "outputs": [
    {
     "data": {
      "text/html": [
       "<div>\n",
       "<style scoped>\n",
       "    .dataframe tbody tr th:only-of-type {\n",
       "        vertical-align: middle;\n",
       "    }\n",
       "\n",
       "    .dataframe tbody tr th {\n",
       "        vertical-align: top;\n",
       "    }\n",
       "\n",
       "    .dataframe thead th {\n",
       "        text-align: right;\n",
       "    }\n",
       "</style>\n",
       "<table border=\"1\" class=\"dataframe\">\n",
       "  <thead>\n",
       "    <tr style=\"text-align: right;\">\n",
       "      <th></th>\n",
       "      <th>onset</th>\n",
       "      <th>sample</th>\n",
       "      <th>trial_type</th>\n",
       "      <th>value</th>\n",
       "      <th>bounces</th>\n",
       "      <th>performance</th>\n",
       "      <th>device</th>\n",
       "      <th>orignum</th>\n",
       "    </tr>\n",
       "  </thead>\n",
       "  <tbody>\n",
       "    <tr>\n",
       "      <th>0</th>\n",
       "      <td>-0.002</td>\n",
       "      <td>-0.5</td>\n",
       "      <td>STATUS</td>\n",
       "      <td>boundary</td>\n",
       "      <td>None</td>\n",
       "      <td>None</td>\n",
       "      <td>None</td>\n",
       "      <td>None</td>\n",
       "    </tr>\n",
       "    <tr>\n",
       "      <th>1</th>\n",
       "      <td>3.080</td>\n",
       "      <td>770.0</td>\n",
       "      <td>STATUS</td>\n",
       "      <td>M  1</td>\n",
       "      <td>None</td>\n",
       "      <td>None</td>\n",
       "      <td>Master</td>\n",
       "      <td>None</td>\n",
       "    </tr>\n",
       "    <tr>\n",
       "      <th>2</th>\n",
       "      <td>8.270</td>\n",
       "      <td>2067.5</td>\n",
       "      <td>STATUS</td>\n",
       "      <td>M  1</td>\n",
       "      <td>None</td>\n",
       "      <td>None</td>\n",
       "      <td>Master</td>\n",
       "      <td>None</td>\n",
       "    </tr>\n",
       "    <tr>\n",
       "      <th>3</th>\n",
       "      <td>13.460</td>\n",
       "      <td>3365.0</td>\n",
       "      <td>STATUS</td>\n",
       "      <td>M  1</td>\n",
       "      <td>None</td>\n",
       "      <td>None</td>\n",
       "      <td>Master</td>\n",
       "      <td>None</td>\n",
       "    </tr>\n",
       "    <tr>\n",
       "      <th>4</th>\n",
       "      <td>18.650</td>\n",
       "      <td>4662.5</td>\n",
       "      <td>STATUS</td>\n",
       "      <td>M  1</td>\n",
       "      <td>None</td>\n",
       "      <td>None</td>\n",
       "      <td>Master</td>\n",
       "      <td>None</td>\n",
       "    </tr>\n",
       "    <tr>\n",
       "      <th>...</th>\n",
       "      <td>...</td>\n",
       "      <td>...</td>\n",
       "      <td>...</td>\n",
       "      <td>...</td>\n",
       "      <td>...</td>\n",
       "      <td>...</td>\n",
       "      <td>...</td>\n",
       "      <td>...</td>\n",
       "    </tr>\n",
       "    <tr>\n",
       "      <th>3058</th>\n",
       "      <td>4276.412</td>\n",
       "      <td>1069103.0</td>\n",
       "      <td>cooperative</td>\n",
       "      <td>Subject_receive</td>\n",
       "      <td>1Bounce_Human</td>\n",
       "      <td>1</td>\n",
       "      <td>Cometas_checked</td>\n",
       "      <td>496</td>\n",
       "    </tr>\n",
       "    <tr>\n",
       "      <th>3059</th>\n",
       "      <td>4277.064</td>\n",
       "      <td>1069266.0</td>\n",
       "      <td>cooperative</td>\n",
       "      <td>Subject_hit</td>\n",
       "      <td>1Bounce_Human</td>\n",
       "      <td>1</td>\n",
       "      <td>Cometas_checked</td>\n",
       "      <td>497</td>\n",
       "    </tr>\n",
       "    <tr>\n",
       "      <th>3060</th>\n",
       "      <td>4277.708</td>\n",
       "      <td>1069427.0</td>\n",
       "      <td>cooperative</td>\n",
       "      <td>Subject_receive</td>\n",
       "      <td>1Bounce_Human</td>\n",
       "      <td>1</td>\n",
       "      <td>Cometas_checked</td>\n",
       "      <td>498</td>\n",
       "    </tr>\n",
       "    <tr>\n",
       "      <th>3061</th>\n",
       "      <td>4278.340</td>\n",
       "      <td>1069585.0</td>\n",
       "      <td>cooperative</td>\n",
       "      <td>Subject_hit</td>\n",
       "      <td>1Bounce_Human</td>\n",
       "      <td>2</td>\n",
       "      <td>Cometas_checked</td>\n",
       "      <td>499</td>\n",
       "    </tr>\n",
       "    <tr>\n",
       "      <th>3062</th>\n",
       "      <td>4279.662</td>\n",
       "      <td>1069915.5</td>\n",
       "      <td>cooperative</td>\n",
       "      <td>M  1</td>\n",
       "      <td>None</td>\n",
       "      <td>None</td>\n",
       "      <td>Master</td>\n",
       "      <td>None</td>\n",
       "    </tr>\n",
       "  </tbody>\n",
       "</table>\n",
       "<p>3063 rows × 8 columns</p>\n",
       "</div>"
      ],
      "text/plain": [
       "         onset     sample   trial_type            value        bounces  \\\n",
       "0       -0.002       -0.5       STATUS         boundary           None   \n",
       "1        3.080      770.0       STATUS             M  1           None   \n",
       "2        8.270     2067.5       STATUS             M  1           None   \n",
       "3       13.460     3365.0       STATUS             M  1           None   \n",
       "4       18.650     4662.5       STATUS             M  1           None   \n",
       "...        ...        ...          ...              ...            ...   \n",
       "3058  4276.412  1069103.0  cooperative  Subject_receive  1Bounce_Human   \n",
       "3059  4277.064  1069266.0  cooperative      Subject_hit  1Bounce_Human   \n",
       "3060  4277.708  1069427.0  cooperative  Subject_receive  1Bounce_Human   \n",
       "3061  4278.340  1069585.0  cooperative      Subject_hit  1Bounce_Human   \n",
       "3062  4279.662  1069915.5  cooperative             M  1           None   \n",
       "\n",
       "     performance           device orignum  \n",
       "0           None             None    None  \n",
       "1           None           Master    None  \n",
       "2           None           Master    None  \n",
       "3           None           Master    None  \n",
       "4           None           Master    None  \n",
       "...          ...              ...     ...  \n",
       "3058           1  Cometas_checked     496  \n",
       "3059           1  Cometas_checked     497  \n",
       "3060           1  Cometas_checked     498  \n",
       "3061           2  Cometas_checked     499  \n",
       "3062        None           Master    None  \n",
       "\n",
       "[3063 rows x 8 columns]"
      ]
     },
     "execution_count": 28,
     "metadata": {},
     "output_type": "execute_result"
    }
   ],
   "source": [
    "events_df"
   ]
  },
  {
   "cell_type": "code",
   "execution_count": 35,
   "id": "f09662b4-229d-4b2c-9d53-2900be2b55ce",
   "metadata": {},
   "outputs": [
    {
     "name": "stdout",
     "output_type": "stream",
     "text": [
      "NOTE: pick_channels() is a legacy function. New code should use inst.pick(...).\n"
     ]
    }
   ],
   "source": [
    "from ipywidgets import interact, FloatSlider, Layout\n",
    "\n",
    "\n",
    "events_subsample_df = events_df\\\n",
    "    .query(\"value == 'Subject_hit'\")\\\n",
    "    .query(\"trial_type in ('moving_hit', 'stationary_hit', 'moving_serve', 'stationary_serve')\")\n",
    "\n",
    "\n",
    "participant_acc_channels = [\n",
    "    'Participant_Paddle_Acc_X(g)',\n",
    "    'Participant_Paddle_Acc_Y(g)',\n",
    "    'Participant_Paddle_Acc_Z(g)'\n",
    "]\n",
    "\n",
    "acc_channels = participant_acc_channels\n",
    "acc_data = raw_eeg.copy().pick_channels(acc_channels)\n",
    "acc_times = acc_data.times\n",
    "acc_values = acc_data.get_data()"
   ]
  },
  {
   "cell_type": "markdown",
   "id": "f0f789e9-5629-4d7b-95fa-f6bf766979fa",
   "metadata": {},
   "source": [
    "Defining time shift via XXX"
   ]
  },
  {
   "cell_type": "code",
   "execution_count": 36,
   "id": "d03a8ef5-0934-491f-8a76-e32300a75334",
   "metadata": {},
   "outputs": [
    {
     "data": {
      "text/html": [
       "<div>\n",
       "<style scoped>\n",
       "    .dataframe tbody tr th:only-of-type {\n",
       "        vertical-align: middle;\n",
       "    }\n",
       "\n",
       "    .dataframe tbody tr th {\n",
       "        vertical-align: top;\n",
       "    }\n",
       "\n",
       "    .dataframe thead th {\n",
       "        text-align: right;\n",
       "    }\n",
       "</style>\n",
       "<table border=\"1\" class=\"dataframe\">\n",
       "  <thead>\n",
       "    <tr style=\"text-align: right;\">\n",
       "      <th></th>\n",
       "      <th>onset</th>\n",
       "      <th>sample</th>\n",
       "      <th>trial_type</th>\n",
       "      <th>value</th>\n",
       "      <th>bounces</th>\n",
       "      <th>performance</th>\n",
       "      <th>device</th>\n",
       "      <th>orignum</th>\n",
       "    </tr>\n",
       "  </thead>\n",
       "  <tbody>\n",
       "    <tr>\n",
       "      <th>0</th>\n",
       "      <td>-0.002</td>\n",
       "      <td>-0.5</td>\n",
       "      <td>STATUS</td>\n",
       "      <td>boundary</td>\n",
       "      <td>None</td>\n",
       "      <td>None</td>\n",
       "      <td>None</td>\n",
       "      <td>None</td>\n",
       "    </tr>\n",
       "    <tr>\n",
       "      <th>1</th>\n",
       "      <td>3.080</td>\n",
       "      <td>770.0</td>\n",
       "      <td>STATUS</td>\n",
       "      <td>M  1</td>\n",
       "      <td>None</td>\n",
       "      <td>None</td>\n",
       "      <td>Master</td>\n",
       "      <td>None</td>\n",
       "    </tr>\n",
       "    <tr>\n",
       "      <th>2</th>\n",
       "      <td>8.270</td>\n",
       "      <td>2067.5</td>\n",
       "      <td>STATUS</td>\n",
       "      <td>M  1</td>\n",
       "      <td>None</td>\n",
       "      <td>None</td>\n",
       "      <td>Master</td>\n",
       "      <td>None</td>\n",
       "    </tr>\n",
       "    <tr>\n",
       "      <th>3</th>\n",
       "      <td>13.460</td>\n",
       "      <td>3365.0</td>\n",
       "      <td>STATUS</td>\n",
       "      <td>M  1</td>\n",
       "      <td>None</td>\n",
       "      <td>None</td>\n",
       "      <td>Master</td>\n",
       "      <td>None</td>\n",
       "    </tr>\n",
       "    <tr>\n",
       "      <th>4</th>\n",
       "      <td>18.650</td>\n",
       "      <td>4662.5</td>\n",
       "      <td>STATUS</td>\n",
       "      <td>M  1</td>\n",
       "      <td>None</td>\n",
       "      <td>None</td>\n",
       "      <td>Master</td>\n",
       "      <td>None</td>\n",
       "    </tr>\n",
       "    <tr>\n",
       "      <th>...</th>\n",
       "      <td>...</td>\n",
       "      <td>...</td>\n",
       "      <td>...</td>\n",
       "      <td>...</td>\n",
       "      <td>...</td>\n",
       "      <td>...</td>\n",
       "      <td>...</td>\n",
       "      <td>...</td>\n",
       "    </tr>\n",
       "    <tr>\n",
       "      <th>3058</th>\n",
       "      <td>4276.412</td>\n",
       "      <td>1069103.0</td>\n",
       "      <td>cooperative</td>\n",
       "      <td>Subject_receive</td>\n",
       "      <td>1Bounce_Human</td>\n",
       "      <td>1</td>\n",
       "      <td>Cometas_checked</td>\n",
       "      <td>496</td>\n",
       "    </tr>\n",
       "    <tr>\n",
       "      <th>3059</th>\n",
       "      <td>4277.064</td>\n",
       "      <td>1069266.0</td>\n",
       "      <td>cooperative</td>\n",
       "      <td>Subject_hit</td>\n",
       "      <td>1Bounce_Human</td>\n",
       "      <td>1</td>\n",
       "      <td>Cometas_checked</td>\n",
       "      <td>497</td>\n",
       "    </tr>\n",
       "    <tr>\n",
       "      <th>3060</th>\n",
       "      <td>4277.708</td>\n",
       "      <td>1069427.0</td>\n",
       "      <td>cooperative</td>\n",
       "      <td>Subject_receive</td>\n",
       "      <td>1Bounce_Human</td>\n",
       "      <td>1</td>\n",
       "      <td>Cometas_checked</td>\n",
       "      <td>498</td>\n",
       "    </tr>\n",
       "    <tr>\n",
       "      <th>3061</th>\n",
       "      <td>4278.340</td>\n",
       "      <td>1069585.0</td>\n",
       "      <td>cooperative</td>\n",
       "      <td>Subject_hit</td>\n",
       "      <td>1Bounce_Human</td>\n",
       "      <td>2</td>\n",
       "      <td>Cometas_checked</td>\n",
       "      <td>499</td>\n",
       "    </tr>\n",
       "    <tr>\n",
       "      <th>3062</th>\n",
       "      <td>4279.662</td>\n",
       "      <td>1069915.5</td>\n",
       "      <td>cooperative</td>\n",
       "      <td>M  1</td>\n",
       "      <td>None</td>\n",
       "      <td>None</td>\n",
       "      <td>Master</td>\n",
       "      <td>None</td>\n",
       "    </tr>\n",
       "  </tbody>\n",
       "</table>\n",
       "<p>3063 rows × 8 columns</p>\n",
       "</div>"
      ],
      "text/plain": [
       "         onset     sample   trial_type            value        bounces  \\\n",
       "0       -0.002       -0.5       STATUS         boundary           None   \n",
       "1        3.080      770.0       STATUS             M  1           None   \n",
       "2        8.270     2067.5       STATUS             M  1           None   \n",
       "3       13.460     3365.0       STATUS             M  1           None   \n",
       "4       18.650     4662.5       STATUS             M  1           None   \n",
       "...        ...        ...          ...              ...            ...   \n",
       "3058  4276.412  1069103.0  cooperative  Subject_receive  1Bounce_Human   \n",
       "3059  4277.064  1069266.0  cooperative      Subject_hit  1Bounce_Human   \n",
       "3060  4277.708  1069427.0  cooperative  Subject_receive  1Bounce_Human   \n",
       "3061  4278.340  1069585.0  cooperative      Subject_hit  1Bounce_Human   \n",
       "3062  4279.662  1069915.5  cooperative             M  1           None   \n",
       "\n",
       "     performance           device orignum  \n",
       "0           None             None    None  \n",
       "1           None           Master    None  \n",
       "2           None           Master    None  \n",
       "3           None           Master    None  \n",
       "4           None           Master    None  \n",
       "...          ...              ...     ...  \n",
       "3058           1  Cometas_checked     496  \n",
       "3059           1  Cometas_checked     497  \n",
       "3060           1  Cometas_checked     498  \n",
       "3061           2  Cometas_checked     499  \n",
       "3062        None           Master    None  \n",
       "\n",
       "[3063 rows x 8 columns]"
      ]
     },
     "execution_count": 36,
     "metadata": {},
     "output_type": "execute_result"
    }
   ],
   "source": [
    "events_df"
   ]
  },
  {
   "cell_type": "code",
   "execution_count": 45,
   "id": "93e26f93-fd26-4a36-9a81-6adf3ba61fb4",
   "metadata": {},
   "outputs": [
    {
     "data": {
      "text/html": [
       "<div>\n",
       "<style scoped>\n",
       "    .dataframe tbody tr th:only-of-type {\n",
       "        vertical-align: middle;\n",
       "    }\n",
       "\n",
       "    .dataframe tbody tr th {\n",
       "        vertical-align: top;\n",
       "    }\n",
       "\n",
       "    .dataframe thead th {\n",
       "        text-align: right;\n",
       "    }\n",
       "</style>\n",
       "<table border=\"1\" class=\"dataframe\">\n",
       "  <thead>\n",
       "    <tr style=\"text-align: right;\">\n",
       "      <th></th>\n",
       "      <th>onset</th>\n",
       "      <th>sample</th>\n",
       "      <th>trial_type</th>\n",
       "      <th>value</th>\n",
       "      <th>bounces</th>\n",
       "      <th>performance</th>\n",
       "      <th>device</th>\n",
       "      <th>orignum</th>\n",
       "    </tr>\n",
       "  </thead>\n",
       "  <tbody>\n",
       "    <tr>\n",
       "      <th>581</th>\n",
       "      <td>1069.804</td>\n",
       "      <td>267451.0</td>\n",
       "      <td>stationary_serve</td>\n",
       "      <td>Subject_hit</td>\n",
       "      <td>2Bounce_BM</td>\n",
       "      <td>2</td>\n",
       "      <td>Cometas_checked</td>\n",
       "      <td>1</td>\n",
       "    </tr>\n",
       "    <tr>\n",
       "      <th>582</th>\n",
       "      <td>1071.884</td>\n",
       "      <td>267971.0</td>\n",
       "      <td>stationary_serve</td>\n",
       "      <td>Subject_hit</td>\n",
       "      <td>2Bounce_BM</td>\n",
       "      <td>1</td>\n",
       "      <td>Cometas_checked</td>\n",
       "      <td>2</td>\n",
       "    </tr>\n",
       "    <tr>\n",
       "      <th>584</th>\n",
       "      <td>1073.904</td>\n",
       "      <td>268476.0</td>\n",
       "      <td>stationary_serve</td>\n",
       "      <td>Subject_hit</td>\n",
       "      <td>2Bounce_BM</td>\n",
       "      <td>1</td>\n",
       "      <td>Cometas_checked</td>\n",
       "      <td>3</td>\n",
       "    </tr>\n",
       "    <tr>\n",
       "      <th>585</th>\n",
       "      <td>1075.524</td>\n",
       "      <td>268881.0</td>\n",
       "      <td>stationary_serve</td>\n",
       "      <td>Subject_hit</td>\n",
       "      <td>2Bounce_BM</td>\n",
       "      <td>1</td>\n",
       "      <td>Cometas_checked</td>\n",
       "      <td>4</td>\n",
       "    </tr>\n",
       "    <tr>\n",
       "      <th>586</th>\n",
       "      <td>1077.976</td>\n",
       "      <td>269494.0</td>\n",
       "      <td>stationary_serve</td>\n",
       "      <td>Subject_hit</td>\n",
       "      <td>2Bounce_BM</td>\n",
       "      <td>1</td>\n",
       "      <td>Cometas_checked</td>\n",
       "      <td>5</td>\n",
       "    </tr>\n",
       "    <tr>\n",
       "      <th>...</th>\n",
       "      <td>...</td>\n",
       "      <td>...</td>\n",
       "      <td>...</td>\n",
       "      <td>...</td>\n",
       "      <td>...</td>\n",
       "      <td>...</td>\n",
       "      <td>...</td>\n",
       "      <td>...</td>\n",
       "    </tr>\n",
       "    <tr>\n",
       "      <th>2467</th>\n",
       "      <td>3811.884</td>\n",
       "      <td>952971.0</td>\n",
       "      <td>moving_serve</td>\n",
       "      <td>Subject_hit</td>\n",
       "      <td>2Bounce_BM</td>\n",
       "      <td>1</td>\n",
       "      <td>Cometas_checked</td>\n",
       "      <td>59</td>\n",
       "    </tr>\n",
       "    <tr>\n",
       "      <th>2469</th>\n",
       "      <td>3815.484</td>\n",
       "      <td>953871.0</td>\n",
       "      <td>moving_serve</td>\n",
       "      <td>Subject_hit</td>\n",
       "      <td>2Bounce_BM</td>\n",
       "      <td>2</td>\n",
       "      <td>Cometas_checked</td>\n",
       "      <td>60</td>\n",
       "    </tr>\n",
       "    <tr>\n",
       "      <th>2470</th>\n",
       "      <td>3817.436</td>\n",
       "      <td>954359.0</td>\n",
       "      <td>moving_serve</td>\n",
       "      <td>Subject_hit</td>\n",
       "      <td>2Bounce_BM</td>\n",
       "      <td>1</td>\n",
       "      <td>Cometas_checked</td>\n",
       "      <td>61</td>\n",
       "    </tr>\n",
       "    <tr>\n",
       "      <th>2472</th>\n",
       "      <td>3821.392</td>\n",
       "      <td>955348.0</td>\n",
       "      <td>moving_serve</td>\n",
       "      <td>Subject_hit</td>\n",
       "      <td>2Bounce_BM</td>\n",
       "      <td>1</td>\n",
       "      <td>Cometas_checked</td>\n",
       "      <td>62</td>\n",
       "    </tr>\n",
       "    <tr>\n",
       "      <th>2474</th>\n",
       "      <td>3825.608</td>\n",
       "      <td>956402.0</td>\n",
       "      <td>moving_serve</td>\n",
       "      <td>Subject_hit</td>\n",
       "      <td>2Bounce_BM</td>\n",
       "      <td>1</td>\n",
       "      <td>Cometas_checked</td>\n",
       "      <td>63</td>\n",
       "    </tr>\n",
       "  </tbody>\n",
       "</table>\n",
       "<p>816 rows × 8 columns</p>\n",
       "</div>"
      ],
      "text/plain": [
       "         onset    sample        trial_type        value     bounces  \\\n",
       "581   1069.804  267451.0  stationary_serve  Subject_hit  2Bounce_BM   \n",
       "582   1071.884  267971.0  stationary_serve  Subject_hit  2Bounce_BM   \n",
       "584   1073.904  268476.0  stationary_serve  Subject_hit  2Bounce_BM   \n",
       "585   1075.524  268881.0  stationary_serve  Subject_hit  2Bounce_BM   \n",
       "586   1077.976  269494.0  stationary_serve  Subject_hit  2Bounce_BM   \n",
       "...        ...       ...               ...          ...         ...   \n",
       "2467  3811.884  952971.0      moving_serve  Subject_hit  2Bounce_BM   \n",
       "2469  3815.484  953871.0      moving_serve  Subject_hit  2Bounce_BM   \n",
       "2470  3817.436  954359.0      moving_serve  Subject_hit  2Bounce_BM   \n",
       "2472  3821.392  955348.0      moving_serve  Subject_hit  2Bounce_BM   \n",
       "2474  3825.608  956402.0      moving_serve  Subject_hit  2Bounce_BM   \n",
       "\n",
       "     performance           device orignum  \n",
       "581            2  Cometas_checked       1  \n",
       "582            1  Cometas_checked       2  \n",
       "584            1  Cometas_checked       3  \n",
       "585            1  Cometas_checked       4  \n",
       "586            1  Cometas_checked       5  \n",
       "...          ...              ...     ...  \n",
       "2467           1  Cometas_checked      59  \n",
       "2469           2  Cometas_checked      60  \n",
       "2470           1  Cometas_checked      61  \n",
       "2472           1  Cometas_checked      62  \n",
       "2474           1  Cometas_checked      63  \n",
       "\n",
       "[816 rows x 8 columns]"
      ]
     },
     "execution_count": 45,
     "metadata": {},
     "output_type": "execute_result"
    }
   ],
   "source": [
    "events_subsample_df"
   ]
  },
  {
   "cell_type": "code",
   "execution_count": 40,
   "id": "8038791d-2a1f-47bf-8c1d-18bc888d1221",
   "metadata": {},
   "outputs": [],
   "source": [
    "acc_ttl_data = np.sqrt(np.sum(np.square(acc_values), axis=0))\n",
    "\n",
    "labels_data = np.zeros_like(acc_ttl_data)\n",
    "hit_indices = (events_subsample_df['sample'] + 0.5).astype(int)\n",
    "labels_data[hit_indices.values] = 1"
   ]
  },
  {
   "cell_type": "code",
   "execution_count": 41,
   "id": "5e4c1611-b5f2-421e-8a58-ebd9ac7b4185",
   "metadata": {},
   "outputs": [
    {
     "data": {
      "application/vnd.jupyter.widget-view+json": {
       "model_id": "5a693da806954d5784c173c6ae99ede9",
       "version_major": 2,
       "version_minor": 0
      },
      "text/plain": [
       "  0%|          | 0/117450 [00:00<?, ?it/s]"
      ]
     },
     "metadata": {},
     "output_type": "display_data"
    }
   ],
   "source": [
    "def calculate_corr(i):\n",
    "    return np.corrcoef(acc_ttl_data[i:], labels_data[:labels_data.size-i])[0, 1]\n",
    "\n",
    "\n",
    "def calculate_cov(i):\n",
    "    return np.dot(acc_ttl_data[i:], labels_data[:labels_data.size-i])\n",
    "\n",
    "\n",
    "with Pool() as pool:\n",
    "    similarity_arr = list(tqdm(pool.imap(calculate_corr, range(acc_ttl_data.size // 10)), total=acc_ttl_data.size // 10))"
   ]
  },
  {
   "cell_type": "code",
   "execution_count": 43,
   "id": "1a098aad-4583-4224-aaab-64c2adef1d43",
   "metadata": {},
   "outputs": [
    {
     "data": {
      "image/png": "[encoded data removed]",
      "text/plain": [
       "<Figure size 2000x700 with 1 Axes>"
      ]
     },
     "metadata": {},
     "output_type": "display_data"
    }
   ],
   "source": [
    "plt.figure(figsize=(20, 7))\n",
    "plt.plot(similarity_arr)\n",
    "plt.show()"
   ]
  },
  {
   "cell_type": "code",
   "execution_count": 51,
   "id": "e11711bd-b06f-403e-a28c-242436268f38",
   "metadata": {},
   "outputs": [
    {
     "data": {
      "text/plain": [
       "array([29737, 29738, 29604, ..., 46281, 45790, 44316])"
      ]
     },
     "execution_count": 51,
     "metadata": {},
     "output_type": "execute_result"
    }
   ],
   "source": [
    "np.argsort(similarity_arr)[::-1]"
   ]
  },
  {
   "cell_type": "markdown",
   "id": "a6da7094-7be6-43f6-9be2-52bf695b2bcb",
   "metadata": {},
   "source": [
    "It seems that there's no shift"
   ]
  },
  {
   "cell_type": "code",
   "execution_count": 55,
   "id": "a02ec382-3e5f-4e06-bc53-52b4efa52210",
   "metadata": {},
   "outputs": [
    {
     "data": {
      "image/png": "[encoded data removed]",
      "text/plain": [
       "<Figure size 640x480 with 1 Axes>"
      ]
     },
     "metadata": {},
     "output_type": "display_data"
    }
   ],
   "source": [
    "moving_hit_values = events_subsample_df.query(\"trial_type == 'moving_hit'\").onset\n",
    "moving_serve_values = events_subsample_df.query(\"trial_type == 'moving_serve'\").onset\n",
    "stationary_hit_values = events_subsample_df.query(\"trial_type == 'stationary_hit'\").onset\n",
    "stationary_serve_values = events_subsample_df.query(\"trial_type == 'stationary_serve'\").onset\n",
    "\n",
    "plt.scatter(moving_hit_values, np.zeros_like(moving_hit_values), alpha=1, label='moving_hit')\n",
    "plt.scatter(moving_serve_values, np.zeros_like(moving_serve_values), alpha=1, label='moving_serve')\n",
    "plt.scatter(stationary_hit_values, np.zeros_like(stationary_hit_values), alpha=1, label='stationary_hit')\n",
    "plt.scatter(stationary_serve_values, np.zeros_like(stationary_serve_values), alpha=1, label='stationary_serve')\n",
    "\n",
    "plt.legend()\n",
    "plt.show()"
   ]
  },
  {
   "cell_type": "code",
   "execution_count": 73,
   "id": "464fa371-3998-4ab9-b028-63278f709377",
   "metadata": {},
   "outputs": [
    {
     "data": {
      "text/plain": [
       "array([[1069.804, 1982.572],\n",
       "       [2437.488, 2903.804],\n",
       "       [3357.012, 3825.608]])"
      ]
     },
     "execution_count": 73,
     "metadata": {},
     "output_type": "execute_result"
    }
   ],
   "source": [
    "def find_continuous_sessions(onset_times, gap_threshold):\n",
    "    # 1) Sort all onsets\n",
    "    onsets = np.sort(np.asarray(onset_times))\n",
    "    if len(onsets) == 0:\n",
    "        return []\n",
    "\n",
    "    # 2) Compute gaps between consecutive onsets\n",
    "    diffs = np.diff(onsets)  # array of length (n_events-1)\n",
    "\n",
    "    # 3) Wherever diff > gap_threshold, mark a \"break\"\n",
    "    #    We record the indices where a new session begins (i+1)\n",
    "    break_indices = np.where(diffs > gap_threshold)[0]\n",
    "\n",
    "    # 4) Build start/end indices for each block\n",
    "    #    - The very first session starts at index 0\n",
    "    #    - Each break at diffs[i] means onsets[i] ends a session, onsets[i+1] begins the next.\n",
    "    session_starts = np.concatenate([[0], break_indices + 1])\n",
    "    session_ends   = np.concatenate([break_indices, [len(onsets) - 1]])\n",
    "\n",
    "    # 5) Turn those into (start_time, end_time) pairs\n",
    "    sessions = []\n",
    "    for s_idx, e_idx in zip(session_starts, session_ends):\n",
    "        start_t = float(onsets[s_idx])\n",
    "        end_t   = float(onsets[e_idx])\n",
    "        sessions.append((start_t, end_t))\n",
    "\n",
    "    return sessions\n",
    "\n",
    "\n",
    "def get_sessions_range(events_df: pd.DataFrame, sessions_delta: int = 60):\n",
    "    return np.array(find_continuous_sessions(events_df.onset.values, sessions_delta)).reshape(-1, 2)\n",
    "\n",
    "sessions_arr = get_sessions_range(events_subsample_df, 60)\n",
    "sessions_arr"
   ]
  },
  {
   "cell_type": "code",
   "execution_count": 86,
   "id": "8b68a65c-1937-4a28-8c2a-204e0971e56a",
   "metadata": {},
   "outputs": [
    {
     "data": {
      "application/vnd.jupyter.widget-view+json": {
       "model_id": "b6660eada0864990b1f2dfeb04fa1857",
       "version_major": 2,
       "version_minor": 0
      },
      "text/plain": [
       "  0%|          | 0/104588 [00:00<?, ?it/s]"
      ]
     },
     "metadata": {},
     "output_type": "display_data"
    },
    {
     "data": {
      "application/vnd.jupyter.widget-view+json": {
       "model_id": "f8e1923430c44d979a758f915c723d30",
       "version_major": 2,
       "version_minor": 0
      },
      "text/plain": [
       "  0%|          | 0/104588 [00:00<?, ?it/s]"
      ]
     },
     "metadata": {},
     "output_type": "display_data"
    },
    {
     "data": {
      "application/vnd.jupyter.widget-view+json": {
       "model_id": "114c4a395c1843c9b1ea5033a2fbde63",
       "version_major": 2,
       "version_minor": 0
      },
      "text/plain": [
       "  0%|          | 0/104588 [00:00<?, ?it/s]"
      ]
     },
     "metadata": {},
     "output_type": "display_data"
    }
   ],
   "source": [
    "MAX_SHIFT = acc_ttl_data.size - events_df['sample'].astype(int).max()\n",
    "peaks_arr = []\n",
    "EPS = 0.001\n",
    "\n",
    "for start, end in sessions_arr:\n",
    "    start_delta = int(start * FREQ)\n",
    "    acc_slice = acc_ttl_data[start_delta:]\n",
    "    \n",
    "    labels_data = np.zeros_like(acc_slice)\n",
    "    session_subdf = events_subsample_df.query(f\"{start - EPS} <= onset <= {end + EPS}\")\n",
    "    hit_indices = (session_subdf['sample'] + 0.5).astype(int) - start_delta\n",
    "    labels_data[hit_indices.values] = 1\n",
    "\n",
    "    def calculate_corr(i):\n",
    "        return np.corrcoef(acc_slice[i:], labels_data[:labels_data.size-i])[0, 1]\n",
    "    \n",
    "    with Pool() as pool:\n",
    "        max_shift = min(MAX_SHIFT, acc_slice.size - 1)\n",
    "        similarity_arr = list(tqdm(pool.imap(calculate_corr, range(max_shift)), total=max_shift))\n",
    "\n",
    "    peak = start_delta + np.argmax(similarity_arr)\n",
    "    peaks_arr.append(peak)"
   ]
  },
  {
   "cell_type": "markdown",
   "id": "dde7a59a-17e6-4aa6-a19e-88ab25b8bf7a",
   "metadata": {},
   "source": [
    "### Collect shifts"
   ]
  },
  {
   "cell_type": "code",
   "execution_count": 63,
   "id": "c10d8bb7-7c55-462c-9c43-a9adbde2083f",
   "metadata": {},
   "outputs": [
    {
     "data": {
      "text/plain": [
       "[28378, 29737, 53403, 58792]"
      ]
     },
     "execution_count": 63,
     "metadata": {},
     "output_type": "execute_result"
    }
   ],
   "source": [
    "def find_k_peaks(arr: np.ndarray, k: int = 4, delta_min: int = 1000):\n",
    "    peaks = []\n",
    "\n",
    "    for elem in arr:\n",
    "        peaks_len = len(peaks)\n",
    "\n",
    "        if peaks_len >= k:\n",
    "            break\n",
    "        elif peaks_len == 0:\n",
    "            peaks.append(elem)\n",
    "            continue\n",
    "\n",
    "        to_add = True\n",
    "        for peak in peaks:\n",
    "            if abs(peak - elem) < delta_min:\n",
    "                to_add = False\n",
    "                break\n",
    "\n",
    "        if to_add:\n",
    "            peaks.append(elem)\n",
    "\n",
    "    return sorted(peaks)\n",
    "\n",
    "\n",
    "find_k_peaks(np.argsort(similarity_arr)[::-1])"
   ]
  },
  {
   "cell_type": "markdown",
   "id": "413ba905-c6d8-4630-bc28-9d838cb6a1f9",
   "metadata": {},
   "source": [
    "#### Variant 3\n",
    "\n",
    "1. Calculate shift array for researcher, utilizing accelerometer data\n",
    "2. Find k sessions timesteps, where k $\\in \\{ 3; 4 \\}$\n",
    "3. Find k peaks in shift array\n",
    "5. Map session to peak in ascending order"
   ]
  },
  {
   "cell_type": "code",
   "execution_count": 118,
   "id": "b7171906-7d95-458e-ba7f-9cf6937bfce0",
   "metadata": {
    "scrolled": true
   },
   "outputs": [
    {
     "data": {
      "application/vnd.jupyter.widget-view+json": {
       "model_id": "0408a5f849c7448db3664e1b12f0358a",
       "version_major": 2,
       "version_minor": 0
      },
      "text/plain": [
       "  0%|          | 0/25 [00:00<?, ?it/s]"
      ]
     },
     "metadata": {},
     "output_type": "display_data"
    },
    {
     "name": "stdout",
     "output_type": "stream",
     "text": [
      "Reading /data/vladimiroved/realWorldTableTennis/sub-01/eeg/sub-01_task-TableTennis_eeg.fdt\n",
      "Reading 0 ... 785327  =      0.000 ...  3141.308 secs...\n"
     ]
    },
    {
     "name": "stderr",
     "output_type": "stream",
     "text": [
      "/tmp/ipykernel_1842469/3764265414.py:10: RuntimeWarning: Unknown types found, setting as type EEG:\n",
      "acc: ['CGY-x', 'CGY-y', 'CGY-z', 'CWR-x', 'CWR-y', 'CWR-z', 'NGY-x', 'NGY-y', 'NGY-z', 'NWR-x', 'NWR-y', 'NWR-z']\n",
      "cometas: ['BallMachine_Acc_X(g)', 'BallMachine_Acc_Y(g)', 'BallMachine_Acc_Z(g)', 'Participant_Paddle_Acc_X(g)', 'Participant_Paddle_Acc_Y(g)', 'Participant_Paddle_Acc_Z(g)', 'Researcher_Paddle_Acc_X(g)', 'Researcher_Paddle_Acc_Y(g)', 'Researcher_Paddle_Acc_Z(g)', 'SyncPulse(uV)']\n",
      "noise: ['N-AF3', 'N-AF4', 'N-AF7', 'N-AF8', 'N-AFF1h', 'N-AFF2h', 'N-AFF5h', 'N-AFF6h', 'N-AFp1', 'N-AFp2', 'N-AFz', 'N-C1', 'N-C2', 'N-C3', 'N-C4', 'N-C5', 'N-C6', 'N-CCP1h', 'N-CCP2h', 'N-CCP3h', 'N-CCP4h', 'N-CCP5h', 'N-CCP6h', 'N-CP1', 'N-CP2', 'N-CP3', 'N-CP4', 'N-CP5', 'N-CP6', 'N-CPP1h', 'N-CPP2h', 'N-CPP3h', 'N-CPP4h', 'N-CPP5h', 'N-CPP6h', 'N-Cz', 'N-F1', 'N-F10', 'N-F2', 'N-F3', 'N-F4', 'N-F5', 'N-F6', 'N-F7', 'N-F8', 'N-F9', 'N-FC1', 'N-FC2', 'N-FC3', 'N-FC4', 'N-FC5', 'N-FC6', 'N-FCC1h', 'N-FCC2h', 'N-FCC3h', 'N-FCC4h', 'N-FCC5h', 'N-FCC6h', 'N-FCz', 'N-FFC1h', 'N-FFC2h', 'N-FFC3h', 'N-FFC4h', 'N-FFC5h', 'N-FFC6h', 'N-FFT10h', 'N-FFT7h', 'N-FFT8h', 'N-FFT9h', 'N-FP2', 'N-FT10', 'N-FT7', 'N-FT8', 'N-FT9', 'N-FTT10h', 'N-FTT7h', 'N-FTT8h', 'N-FTT9h', 'N-Fp1', 'N-Fz', 'N-Iz', 'N-O1', 'N-O2', 'N-O9', 'N-OI1h', 'N-OI2h', 'N-Oz', 'N-P1', 'N-P2', 'N-P3', 'N-P4', 'N-P5', 'N-P6', 'N-P7', 'N-P8', 'N-PO3', 'N-PO4', 'N-PO7', 'N-PO8', 'N-POO1', 'N-POO10h', 'N-POO2', 'N-POz', 'N-PPO10h', 'N-PPO1h', 'N-PPO2h', 'N-PPO5h', 'N-PPO6h', 'N-PPO9h', 'N-Pz', 'N-T7', 'N-T8', 'N-TP7', 'N-TP8', 'N-TPP10h', 'N-TPP7h', 'N-TPP8h', 'N-TPP9h', 'N-TTP7h', 'N-TTP8h']\n",
      "  raw_eeg = mne.io.read_raw_eeglab(eeg_dirname + f'sub-{SUB_ID}_task-TableTennis_eeg.set', preload=True)\n",
      "/tmp/ipykernel_1842469/3764265414.py:10: RuntimeWarning: Estimated head radius (11.1 cm) is above the 99th percentile for adult head size. Check if the montage_units argument is correct (the default is \"mm\", but your channel positions may be in different units).\n",
      "  raw_eeg = mne.io.read_raw_eeglab(eeg_dirname + f'sub-{SUB_ID}_task-TableTennis_eeg.set', preload=True)\n",
      "/tmp/ipykernel_1842469/3764265414.py:10: RuntimeWarning: Data file name in EEG.data (sub-01_task-tabletennis_eeg.fdt) is incorrect, the file name must have changed on disk, using the correct file name (sub-01_task-TableTennis_eeg.fdt).\n",
      "  raw_eeg = mne.io.read_raw_eeglab(eeg_dirname + f'sub-{SUB_ID}_task-TableTennis_eeg.set', preload=True)\n"
     ]
    },
    {
     "name": "stdout",
     "output_type": "stream",
     "text": [
      "NOTE: pick_channels() is a legacy function. New code should use inst.pick(...).\n"
     ]
    },
    {
     "name": "stderr",
     "output_type": "stream",
     "text": [
      "/tmp/ipykernel_1842469/3764265414.py:10: RuntimeWarning: Omitted 1 annotation(s) that were outside data range.\n",
      "  raw_eeg = mne.io.read_raw_eeglab(eeg_dirname + f'sub-{SUB_ID}_task-TableTennis_eeg.set', preload=True)\n",
      "/tmp/ipykernel_1842469/3764265414.py:10: RuntimeWarning: The data contains 'boundary' events, indicating data discontinuities. Be cautious of filtering and epoching around these events.\n",
      "  raw_eeg = mne.io.read_raw_eeglab(eeg_dirname + f'sub-{SUB_ID}_task-TableTennis_eeg.set', preload=True)\n",
      "/tmp/ipykernel_1842469/3764265414.py:10: RuntimeWarning: Not setting positions of 8 emg channels found in montage:\n",
      "['LISCM', 'LSSCM', 'LSTrap', 'LITrap', 'RITrap', 'RISCM', 'RSSCM', 'RSTrap']\n",
      "Consider setting the channel types to be of EEG/sEEG/ECoG/DBS/fNIRS using inst.set_channel_types before calling inst.set_montage, or omit these channels when creating your montage.\n",
      "  raw_eeg = mne.io.read_raw_eeglab(eeg_dirname + f'sub-{SUB_ID}_task-TableTennis_eeg.set', preload=True)\n"
     ]
    },
    {
     "data": {
      "application/vnd.jupyter.widget-view+json": {
       "model_id": "eba4b59d2bf54c23af8707cd5ed6a470",
       "version_major": 2,
       "version_minor": 0
      },
      "text/plain": [
       "  0%|          | 0/88709 [00:00<?, ?it/s]"
      ]
     },
     "metadata": {},
     "output_type": "display_data"
    },
    {
     "name": "stdout",
     "output_type": "stream",
     "text": [
      "Reading /data/vladimiroved/realWorldTableTennis/sub-02/eeg/sub-02_task-TableTennis_eeg.fdt\n",
      "Reading 0 ... 1364632  =      0.000 ...  5458.528 secs...\n"
     ]
    },
    {
     "name": "stderr",
     "output_type": "stream",
     "text": [
      "/tmp/ipykernel_1842469/3764265414.py:10: RuntimeWarning: Unknown types found, setting as type EEG:\n",
      "acc: ['CGY-x', 'CGY-y', 'CGY-z', 'CWR-x', 'CWR-y', 'CWR-z', 'NGY-x', 'NGY-y', 'NGY-z', 'NWR-x', 'NWR-y', 'NWR-z']\n",
      "cometas: ['BallMachine_Acc_X(g)', 'BallMachine_Acc_Y(g)', 'BallMachine_Acc_Z(g)', 'Participant_Paddle_Acc_X(g)', 'Participant_Paddle_Acc_Y(g)', 'Participant_Paddle_Acc_Z(g)', 'Researcher_Paddle_Acc_X(g)', 'Researcher_Paddle_Acc_Y(g)', 'Researcher_Paddle_Acc_Z(g)', 'SyncPulse(uV)']\n",
      "noise: ['N-AF3', 'N-AF4', 'N-AF7', 'N-AF8', 'N-AFF1h', 'N-AFF2h', 'N-AFF5h', 'N-AFF6h', 'N-AFp1', 'N-AFp2', 'N-AFz', 'N-C1', 'N-C2', 'N-C3', 'N-C4', 'N-C5', 'N-C6', 'N-CCP1h', 'N-CCP2h', 'N-CCP3h', 'N-CCP4h', 'N-CCP5h', 'N-CCP6h', 'N-CP1', 'N-CP2', 'N-CP3', 'N-CP4', 'N-CP5', 'N-CP6', 'N-CPP1h', 'N-CPP2h', 'N-CPP3h', 'N-CPP4h', 'N-CPP5h', 'N-CPP6h', 'N-Cz', 'N-F1', 'N-F10', 'N-F2', 'N-F3', 'N-F4', 'N-F5', 'N-F6', 'N-F7', 'N-F8', 'N-F9', 'N-FC1', 'N-FC2', 'N-FC3', 'N-FC4', 'N-FC5', 'N-FC6', 'N-FCC1h', 'N-FCC2h', 'N-FCC3h', 'N-FCC4h', 'N-FCC5h', 'N-FCC6h', 'N-FCz', 'N-FFC1h', 'N-FFC2h', 'N-FFC3h', 'N-FFC4h', 'N-FFC5h', 'N-FFC6h', 'N-FFT10h', 'N-FFT7h', 'N-FFT8h', 'N-FFT9h', 'N-FP2', 'N-FT10', 'N-FT7', 'N-FT8', 'N-FT9', 'N-FTT10h', 'N-FTT7h', 'N-FTT8h', 'N-FTT9h', 'N-Fp1', 'N-Fz', 'N-Iz', 'N-O1', 'N-O2', 'N-O9', 'N-OI1h', 'N-OI2h', 'N-Oz', 'N-P1', 'N-P2', 'N-P3', 'N-P4', 'N-P5', 'N-P6', 'N-P7', 'N-P8', 'N-PO3', 'N-PO4', 'N-PO7', 'N-PO8', 'N-POO1', 'N-POO10h', 'N-POO2', 'N-POz', 'N-PPO10h', 'N-PPO1h', 'N-PPO2h', 'N-PPO5h', 'N-PPO6h', 'N-PPO9h', 'N-Pz', 'N-T7', 'N-T8', 'N-TP7', 'N-TP8', 'N-TPP10h', 'N-TPP7h', 'N-TPP8h', 'N-TPP9h', 'N-TTP7h', 'N-TTP8h']\n",
      "  raw_eeg = mne.io.read_raw_eeglab(eeg_dirname + f'sub-{SUB_ID}_task-TableTennis_eeg.set', preload=True)\n",
      "/tmp/ipykernel_1842469/3764265414.py:10: RuntimeWarning: Data file name in EEG.data (sub-02_task-tabletennis_eeg.fdt) is incorrect, the file name must have changed on disk, using the correct file name (sub-02_task-TableTennis_eeg.fdt).\n",
      "  raw_eeg = mne.io.read_raw_eeglab(eeg_dirname + f'sub-{SUB_ID}_task-TableTennis_eeg.set', preload=True)\n"
     ]
    },
    {
     "name": "stdout",
     "output_type": "stream",
     "text": [
      "NOTE: pick_channels() is a legacy function. New code should use inst.pick(...).\n"
     ]
    },
    {
     "name": "stderr",
     "output_type": "stream",
     "text": [
      "/tmp/ipykernel_1842469/3764265414.py:10: RuntimeWarning: Omitted 1 annotation(s) that were outside data range.\n",
      "  raw_eeg = mne.io.read_raw_eeglab(eeg_dirname + f'sub-{SUB_ID}_task-TableTennis_eeg.set', preload=True)\n",
      "/tmp/ipykernel_1842469/3764265414.py:10: RuntimeWarning: The data contains 'boundary' events, indicating data discontinuities. Be cautious of filtering and epoching around these events.\n",
      "  raw_eeg = mne.io.read_raw_eeglab(eeg_dirname + f'sub-{SUB_ID}_task-TableTennis_eeg.set', preload=True)\n",
      "/tmp/ipykernel_1842469/3764265414.py:10: RuntimeWarning: Not setting positions of 8 emg channels found in montage:\n",
      "['LISCM', 'LSSCM', 'LSTrap', 'LITrap', 'RITrap', 'RISCM', 'RSSCM', 'RSTrap']\n",
      "Consider setting the channel types to be of EEG/sEEG/ECoG/DBS/fNIRS using inst.set_channel_types before calling inst.set_montage, or omit these channels when creating your montage.\n",
      "  raw_eeg = mne.io.read_raw_eeglab(eeg_dirname + f'sub-{SUB_ID}_task-TableTennis_eeg.set', preload=True)\n"
     ]
    },
    {
     "data": {
      "application/vnd.jupyter.widget-view+json": {
       "model_id": "cfe2c556bd3f4a97bae174d96a739f61",
       "version_major": 2,
       "version_minor": 0
      },
      "text/plain": [
       "  0%|          | 0/44371 [00:00<?, ?it/s]"
      ]
     },
     "metadata": {},
     "output_type": "display_data"
    },
    {
     "name": "stdout",
     "output_type": "stream",
     "text": [
      "Reading /data/vladimiroved/realWorldTableTennis/sub-03/eeg/sub-03_task-TableTennis_eeg.fdt\n",
      "Reading 0 ... 1099795  =      0.000 ...  4399.180 secs...\n"
     ]
    },
    {
     "name": "stderr",
     "output_type": "stream",
     "text": [
      "/tmp/ipykernel_1842469/3764265414.py:10: RuntimeWarning: Unknown types found, setting as type EEG:\n",
      "acc: ['CGY-x', 'CGY-y', 'CGY-z', 'CWR-x', 'CWR-y', 'CWR-z', 'NGY-x', 'NGY-y', 'NGY-z', 'NWR-x', 'NWR-y', 'NWR-z']\n",
      "cometas: ['BallMachine_Acc_X(g)', 'BallMachine_Acc_Y(g)', 'BallMachine_Acc_Z(g)', 'Participant_Paddle_Acc_X(g)', 'Participant_Paddle_Acc_Y(g)', 'Participant_Paddle_Acc_Z(g)', 'Researcher_Paddle_Acc_X(g)', 'Researcher_Paddle_Acc_Y(g)', 'Researcher_Paddle_Acc_Z(g)', 'SyncPulse(uV)']\n",
      "noise: ['N-AF3', 'N-AF4', 'N-AF7', 'N-AF8', 'N-AFF1h', 'N-AFF2h', 'N-AFF5h', 'N-AFF6h', 'N-AFp1', 'N-AFp2', 'N-AFz', 'N-C1', 'N-C2', 'N-C3', 'N-C4', 'N-C5', 'N-C6', 'N-CCP1h', 'N-CCP2h', 'N-CCP3h', 'N-CCP4h', 'N-CCP5h', 'N-CCP6h', 'N-CP1', 'N-CP2', 'N-CP3', 'N-CP4', 'N-CP5', 'N-CP6', 'N-CPP1h', 'N-CPP2h', 'N-CPP3h', 'N-CPP4h', 'N-CPP5h', 'N-CPP6h', 'N-Cz', 'N-F1', 'N-F10', 'N-F2', 'N-F3', 'N-F4', 'N-F5', 'N-F6', 'N-F7', 'N-F8', 'N-F9', 'N-FC1', 'N-FC2', 'N-FC3', 'N-FC4', 'N-FC5', 'N-FC6', 'N-FCC1h', 'N-FCC2h', 'N-FCC3h', 'N-FCC4h', 'N-FCC5h', 'N-FCC6h', 'N-FCz', 'N-FFC1h', 'N-FFC2h', 'N-FFC3h', 'N-FFC4h', 'N-FFC5h', 'N-FFC6h', 'N-FFT10h', 'N-FFT7h', 'N-FFT8h', 'N-FFT9h', 'N-FP2', 'N-FT10', 'N-FT7', 'N-FT8', 'N-FT9', 'N-FTT10h', 'N-FTT7h', 'N-FTT8h', 'N-FTT9h', 'N-Fp1', 'N-Fz', 'N-Iz', 'N-O1', 'N-O2', 'N-OI1h', 'N-OI2h', 'N-Oz', 'N-P1', 'N-P2', 'N-P3', 'N-P4', 'N-P5', 'N-P6', 'N-P7', 'N-P8', 'N-PO3', 'N-PO4', 'N-PO7', 'N-PO8', 'N-POO1', 'N-POO10h', 'N-POO2', 'N-POO9h', 'N-POz', 'N-PPO10h', 'N-PPO1h', 'N-PPO2h', 'N-PPO5h', 'N-PPO6h', 'N-PPO9h', 'N-Pz', 'N-T7', 'N-T8', 'N-TP7', 'N-TP8', 'N-TPP10h', 'N-TPP7h', 'N-TPP8h', 'N-TPP9h', 'N-TTP7h', 'N-TTP8h']\n",
      "  raw_eeg = mne.io.read_raw_eeglab(eeg_dirname + f'sub-{SUB_ID}_task-TableTennis_eeg.set', preload=True)\n",
      "/tmp/ipykernel_1842469/3764265414.py:10: RuntimeWarning: Estimated head radius (11.5 cm) is above the 99th percentile for adult head size. Check if the montage_units argument is correct (the default is \"mm\", but your channel positions may be in different units).\n",
      "  raw_eeg = mne.io.read_raw_eeglab(eeg_dirname + f'sub-{SUB_ID}_task-TableTennis_eeg.set', preload=True)\n",
      "/tmp/ipykernel_1842469/3764265414.py:10: RuntimeWarning: Data file name in EEG.data (sub-03_task-tabletennis_eeg.fdt) is incorrect, the file name must have changed on disk, using the correct file name (sub-03_task-TableTennis_eeg.fdt).\n",
      "  raw_eeg = mne.io.read_raw_eeglab(eeg_dirname + f'sub-{SUB_ID}_task-TableTennis_eeg.set', preload=True)\n"
     ]
    },
    {
     "name": "stdout",
     "output_type": "stream",
     "text": [
      "NOTE: pick_channels() is a legacy function. New code should use inst.pick(...).\n"
     ]
    },
    {
     "name": "stderr",
     "output_type": "stream",
     "text": [
      "/tmp/ipykernel_1842469/3764265414.py:10: RuntimeWarning: Omitted 1 annotation(s) that were outside data range.\n",
      "  raw_eeg = mne.io.read_raw_eeglab(eeg_dirname + f'sub-{SUB_ID}_task-TableTennis_eeg.set', preload=True)\n",
      "/tmp/ipykernel_1842469/3764265414.py:10: RuntimeWarning: The data contains 'boundary' events, indicating data discontinuities. Be cautious of filtering and epoching around these events.\n",
      "  raw_eeg = mne.io.read_raw_eeglab(eeg_dirname + f'sub-{SUB_ID}_task-TableTennis_eeg.set', preload=True)\n",
      "/tmp/ipykernel_1842469/3764265414.py:10: RuntimeWarning: Not setting positions of 8 emg channels found in montage:\n",
      "['LISCM', 'LSSCM', 'LSTrap', 'LITrap', 'RITrap', 'RISCM', 'RSSCM', 'RSTrap']\n",
      "Consider setting the channel types to be of EEG/sEEG/ECoG/DBS/fNIRS using inst.set_channel_types before calling inst.set_montage, or omit these channels when creating your montage.\n",
      "  raw_eeg = mne.io.read_raw_eeglab(eeg_dirname + f'sub-{SUB_ID}_task-TableTennis_eeg.set', preload=True)\n"
     ]
    },
    {
     "data": {
      "application/vnd.jupyter.widget-view+json": {
       "model_id": "1bc438021f4d43fda613a3bb980f7f41",
       "version_major": 2,
       "version_minor": 0
      },
      "text/plain": [
       "  0%|          | 0/100901 [00:00<?, ?it/s]"
      ]
     },
     "metadata": {},
     "output_type": "display_data"
    },
    {
     "name": "stdout",
     "output_type": "stream",
     "text": [
      "Reading /data/vladimiroved/realWorldTableTennis/sub-04/eeg/sub-04_task-TableTennis_eeg.fdt\n",
      "Reading 0 ... 1057035  =      0.000 ...  4228.140 secs...\n"
     ]
    },
    {
     "name": "stderr",
     "output_type": "stream",
     "text": [
      "/tmp/ipykernel_1842469/3764265414.py:10: RuntimeWarning: Unknown types found, setting as type EEG:\n",
      "acc: ['CGY-x', 'CGY-y', 'CGY-z', 'CWR-x', 'CWR-y', 'CWR-z', 'NGY-x', 'NGY-y', 'NGY-z', 'NWR-x', 'NWR-y', 'NWR-z']\n",
      "cometas: ['BallMachine_Acc_X(g)', 'BallMachine_Acc_Y(g)', 'BallMachine_Acc_Z(g)', 'Participant_Paddle_Acc_X(g)', 'Participant_Paddle_Acc_Y(g)', 'Participant_Paddle_Acc_Z(g)', 'Researcher_Paddle_Acc_X(g)', 'Researcher_Paddle_Acc_Y(g)', 'Researcher_Paddle_Acc_Z(g)', 'SyncPulse(uV)']\n",
      "noise: ['N-AF3', 'N-AF4', 'N-AF7', 'N-AF8', 'N-AFF1h', 'N-AFF2h', 'N-AFF5h', 'N-AFF6h', 'N-AFp1', 'N-AFp2', 'N-AFz', 'N-C1', 'N-C2', 'N-C3', 'N-C4', 'N-C5', 'N-C6', 'N-CCP1h', 'N-CCP2h', 'N-CCP3h', 'N-CCP4h', 'N-CCP5h', 'N-CCP6h', 'N-CP1', 'N-CP2', 'N-CP3', 'N-CP4', 'N-CP5', 'N-CP6', 'N-CPP1h', 'N-CPP2h', 'N-CPP3h', 'N-CPP4h', 'N-CPP5h', 'N-CPP6h', 'N-Cz', 'N-F1', 'N-F10', 'N-F2', 'N-F3', 'N-F4', 'N-F5', 'N-F6', 'N-F7', 'N-F8', 'N-F9', 'N-FC1', 'N-FC2', 'N-FC3', 'N-FC4', 'N-FC5', 'N-FC6', 'N-FCC1h', 'N-FCC2h', 'N-FCC3h', 'N-FCC4h', 'N-FCC5h', 'N-FCC6h', 'N-FCz', 'N-FFC1h', 'N-FFC2h', 'N-FFC3h', 'N-FFC4h', 'N-FFC5h', 'N-FFC6h', 'N-FFT10h', 'N-FFT7h', 'N-FFT8h', 'N-FFT9h', 'N-FP2', 'N-FT10', 'N-FT7', 'N-FT8', 'N-FT9', 'N-FTT10h', 'N-FTT7h', 'N-FTT8h', 'N-FTT9h', 'N-Fp1', 'N-Fz', 'N-Iz', 'N-O1', 'N-O2', 'N-OI1h', 'N-OI2h', 'N-Oz', 'N-P1', 'N-P2', 'N-P3', 'N-P4', 'N-P5', 'N-P6', 'N-P7', 'N-P8', 'N-PO3', 'N-PO4', 'N-PO7', 'N-PO8', 'N-POO1', 'N-POO10h', 'N-POO2', 'N-POO9h', 'N-POz', 'N-PPO10h', 'N-PPO1h', 'N-PPO2h', 'N-PPO5h', 'N-PPO6h', 'N-PPO9h', 'N-Pz', 'N-T7', 'N-T8', 'N-TP7', 'N-TP8', 'N-TPP10h', 'N-TPP7h', 'N-TPP8h', 'N-TPP9h', 'N-TTP7h', 'N-TTP8h']\n",
      "  raw_eeg = mne.io.read_raw_eeglab(eeg_dirname + f'sub-{SUB_ID}_task-TableTennis_eeg.set', preload=True)\n",
      "/tmp/ipykernel_1842469/3764265414.py:10: RuntimeWarning: Estimated head radius (10.9 cm) is above the 99th percentile for adult head size. Check if the montage_units argument is correct (the default is \"mm\", but your channel positions may be in different units).\n",
      "  raw_eeg = mne.io.read_raw_eeglab(eeg_dirname + f'sub-{SUB_ID}_task-TableTennis_eeg.set', preload=True)\n",
      "/tmp/ipykernel_1842469/3764265414.py:10: RuntimeWarning: Data file name in EEG.data (sub-04_task-tabletennis_eeg.fdt) is incorrect, the file name must have changed on disk, using the correct file name (sub-04_task-TableTennis_eeg.fdt).\n",
      "  raw_eeg = mne.io.read_raw_eeglab(eeg_dirname + f'sub-{SUB_ID}_task-TableTennis_eeg.set', preload=True)\n"
     ]
    },
    {
     "name": "stdout",
     "output_type": "stream",
     "text": [
      "NOTE: pick_channels() is a legacy function. New code should use inst.pick(...).\n"
     ]
    },
    {
     "name": "stderr",
     "output_type": "stream",
     "text": [
      "/tmp/ipykernel_1842469/3764265414.py:10: RuntimeWarning: Omitted 1 annotation(s) that were outside data range.\n",
      "  raw_eeg = mne.io.read_raw_eeglab(eeg_dirname + f'sub-{SUB_ID}_task-TableTennis_eeg.set', preload=True)\n",
      "/tmp/ipykernel_1842469/3764265414.py:10: RuntimeWarning: The data contains 'boundary' events, indicating data discontinuities. Be cautious of filtering and epoching around these events.\n",
      "  raw_eeg = mne.io.read_raw_eeglab(eeg_dirname + f'sub-{SUB_ID}_task-TableTennis_eeg.set', preload=True)\n",
      "/tmp/ipykernel_1842469/3764265414.py:10: RuntimeWarning: Not setting positions of 8 emg channels found in montage:\n",
      "['LISCM', 'LSSCM', 'LSTrap', 'LITrap', 'RITrap', 'RISCM', 'RSSCM', 'RSTrap']\n",
      "Consider setting the channel types to be of EEG/sEEG/ECoG/DBS/fNIRS using inst.set_channel_types before calling inst.set_montage, or omit these channels when creating your montage.\n",
      "  raw_eeg = mne.io.read_raw_eeglab(eeg_dirname + f'sub-{SUB_ID}_task-TableTennis_eeg.set', preload=True)\n"
     ]
    },
    {
     "data": {
      "application/vnd.jupyter.widget-view+json": {
       "model_id": "375c965cf3b24bfa94bf2843ccb6071b",
       "version_major": 2,
       "version_minor": 0
      },
      "text/plain": [
       "  0%|          | 0/385681 [00:00<?, ?it/s]"
      ]
     },
     "metadata": {},
     "output_type": "display_data"
    },
    {
     "name": "stdout",
     "output_type": "stream",
     "text": [
      "Reading /data/vladimiroved/realWorldTableTennis/sub-05/eeg/sub-05_task-TableTennis_eeg.fdt\n",
      "Reading 0 ... 1038925  =      0.000 ...  4155.700 secs...\n"
     ]
    },
    {
     "name": "stderr",
     "output_type": "stream",
     "text": [
      "/tmp/ipykernel_1842469/3764265414.py:10: RuntimeWarning: Unknown types found, setting as type EEG:\n",
      "acc: ['CGY-x', 'CGY-y', 'CGY-z', 'CWR-x', 'CWR-y', 'CWR-z', 'NGY-x', 'NGY-y', 'NGY-z', 'NWR-x', 'NWR-y', 'NWR-z']\n",
      "cometas: ['BallMachine_Acc_X(g)', 'BallMachine_Acc_Y(g)', 'BallMachine_Acc_Z(g)', 'Imu_2 :W():', 'Imu_2 :X():', 'Imu_2 :Y():', 'Imu_2 :Z():', 'Imu_2_ImuGyro :X(D/s):', 'Imu_2_ImuGyro :Y(D/s):', 'Imu_2_ImuGyro :Z(D/s):', 'Imu_2_ImuMag :X(uT):', 'Imu_2_ImuMag :Y(uT):', 'Imu_2_ImuMag :Z(uT):', 'Imu_3 :W():', 'Imu_3 :X():', 'Imu_3 :Y():', 'Imu_3 :Z():', 'Imu_3_ImuGyro :X(D/s):', 'Imu_3_ImuGyro :Y(D/s):', 'Imu_3_ImuGyro :Z(D/s):', 'Imu_3_ImuMag :X(uT):', 'Imu_3_ImuMag :Y(uT):', 'Imu_3_ImuMag :Z(uT):', 'Imu_4 :W():', 'Imu_4 :X():', 'Imu_4 :Y():', 'Imu_4 :Z():', 'Imu_4_ImuGyro :X(D/s):', 'Imu_4_ImuGyro :Y(D/s):', 'Imu_4_ImuGyro :Z(D/s):', 'Imu_4_ImuMag :X(uT):', 'Imu_4_ImuMag :Y(uT):', 'Imu_4_ImuMag :Z(uT):', 'Imu_5 :W():', 'Imu_5 :X():', 'Imu_5 :Y():', 'Imu_5 :Z():', 'Imu_5_ImuGyro :X(D/s):', 'Imu_5_ImuGyro :Y(D/s):', 'Imu_5_ImuGyro :Z(D/s):', 'Imu_5_ImuMag :X(uT):', 'Imu_5_ImuMag :Y(uT):', 'Imu_5_ImuMag :Z(uT):', 'Net_Acc_X(g)', 'Net_Acc_Y(g)', 'Net_Acc_Z(g)', 'Participant_Paddle_Acc_X(g)', 'Participant_Paddle_Acc_Y(g)', 'Participant_Paddle_Acc_Z(g)', 'Researcher_Paddle_Acc_X(g)', 'Researcher_Paddle_Acc_Y(g)', 'Researcher_Paddle_Acc_Z(g)', 'SyncPulse(uV)']\n",
      "noise: ['N-AF3', 'N-AF4', 'N-AF7', 'N-AF8', 'N-AFF1h', 'N-AFF2h', 'N-AFF5h', 'N-AFF6h', 'N-AFp1', 'N-AFp2', 'N-AFz', 'N-C1', 'N-C2', 'N-C3', 'N-C4', 'N-C5', 'N-C6', 'N-CCP1h', 'N-CCP2h', 'N-CCP3h', 'N-CCP4h', 'N-CCP5h', 'N-CCP6h', 'N-CP1', 'N-CP2', 'N-CP3', 'N-CP4', 'N-CP5', 'N-CP6', 'N-CPP1h', 'N-CPP2h', 'N-CPP3h', 'N-CPP4h', 'N-CPP5h', 'N-CPP6h', 'N-Cz', 'N-F1', 'N-F10', 'N-F2', 'N-F3', 'N-F4', 'N-F5', 'N-F6', 'N-F7', 'N-F8', 'N-F9', 'N-FC1', 'N-FC2', 'N-FC3', 'N-FC4', 'N-FC5', 'N-FC6', 'N-FCC1h', 'N-FCC2h', 'N-FCC3h', 'N-FCC4h', 'N-FCC5h', 'N-FCC6h', 'N-FCz', 'N-FFC1h', 'N-FFC2h', 'N-FFC3h', 'N-FFC4h', 'N-FFC5h', 'N-FFC6h', 'N-FFT10h', 'N-FFT7h', 'N-FFT8h', 'N-FFT9h', 'N-FP2', 'N-FT10', 'N-FT7', 'N-FT8', 'N-FT9', 'N-FTT10h', 'N-FTT7h', 'N-FTT8h', 'N-FTT9h', 'N-Fp1', 'N-Fz', 'N-Iz', 'N-O1', 'N-O2', 'N-OI1h', 'N-OI2h', 'N-Oz', 'N-P1', 'N-P2', 'N-P3', 'N-P4', 'N-P5', 'N-P6', 'N-P7', 'N-P8', 'N-PO3', 'N-PO4', 'N-PO7', 'N-PO8', 'N-POO1', 'N-POO10h', 'N-POO2', 'N-POO9h', 'N-POz', 'N-PPO10h', 'N-PPO1h', 'N-PPO2h', 'N-PPO5h', 'N-PPO6h', 'N-PPO9h', 'N-Pz', 'N-T7', 'N-T8', 'N-TP7', 'N-TP8', 'N-TPP10h', 'N-TPP7h', 'N-TPP8h', 'N-TPP9h', 'N-TTP7h', 'N-TTP8h']\n",
      "  raw_eeg = mne.io.read_raw_eeglab(eeg_dirname + f'sub-{SUB_ID}_task-TableTennis_eeg.set', preload=True)\n",
      "/tmp/ipykernel_1842469/3764265414.py:10: RuntimeWarning: Data file name in EEG.data (sub-05_task-tabletennis_eeg.fdt) is incorrect, the file name must have changed on disk, using the correct file name (sub-05_task-TableTennis_eeg.fdt).\n",
      "  raw_eeg = mne.io.read_raw_eeglab(eeg_dirname + f'sub-{SUB_ID}_task-TableTennis_eeg.set', preload=True)\n"
     ]
    },
    {
     "name": "stdout",
     "output_type": "stream",
     "text": [
      "NOTE: pick_channels() is a legacy function. New code should use inst.pick(...).\n"
     ]
    },
    {
     "name": "stderr",
     "output_type": "stream",
     "text": [
      "/tmp/ipykernel_1842469/3764265414.py:10: RuntimeWarning: Omitted 1 annotation(s) that were outside data range.\n",
      "  raw_eeg = mne.io.read_raw_eeglab(eeg_dirname + f'sub-{SUB_ID}_task-TableTennis_eeg.set', preload=True)\n",
      "/tmp/ipykernel_1842469/3764265414.py:10: RuntimeWarning: The data contains 'boundary' events, indicating data discontinuities. Be cautious of filtering and epoching around these events.\n",
      "  raw_eeg = mne.io.read_raw_eeglab(eeg_dirname + f'sub-{SUB_ID}_task-TableTennis_eeg.set', preload=True)\n",
      "/tmp/ipykernel_1842469/3764265414.py:10: RuntimeWarning: Not setting positions of 8 emg channels found in montage:\n",
      "['LISCM', 'LSSCM', 'LSTrap', 'LITrap', 'RITrap', 'RISCM', 'RSSCM', 'RSTrap']\n",
      "Consider setting the channel types to be of EEG/sEEG/ECoG/DBS/fNIRS using inst.set_channel_types before calling inst.set_montage, or omit these channels when creating your montage.\n",
      "  raw_eeg = mne.io.read_raw_eeglab(eeg_dirname + f'sub-{SUB_ID}_task-TableTennis_eeg.set', preload=True)\n"
     ]
    },
    {
     "data": {
      "application/vnd.jupyter.widget-view+json": {
       "model_id": "b159d9d66b054dc78cc4cb3d9df5c04d",
       "version_major": 2,
       "version_minor": 0
      },
      "text/plain": [
       "  0%|          | 0/44860 [00:00<?, ?it/s]"
      ]
     },
     "metadata": {},
     "output_type": "display_data"
    },
    {
     "name": "stdout",
     "output_type": "stream",
     "text": [
      "Reading /data/vladimiroved/realWorldTableTennis/sub-06/eeg/sub-06_task-TableTennis_eeg.fdt\n",
      "Reading 0 ... 1042908  =      0.000 ...  4171.632 secs...\n"
     ]
    },
    {
     "name": "stderr",
     "output_type": "stream",
     "text": [
      "/tmp/ipykernel_1842469/3764265414.py:10: RuntimeWarning: Unknown types found, setting as type EEG:\n",
      "acc: ['CGY-x', 'CGY-y', 'CGY-z', 'CWR-x', 'CWR-y', 'CWR-z', 'NGY-x', 'NGY-y', 'NGY-z', 'NWR-x', 'NWR-y', 'NWR-z']\n",
      "cometas: ['BallMachine_Acc_X(g)', 'BallMachine_Acc_Y(g)', 'BallMachine_Acc_Z(g)', 'Imu_2 :W():', 'Imu_2 :X():', 'Imu_2 :Y():', 'Imu_2 :Z():', 'Imu_2_ImuGyro :X(D/s):', 'Imu_2_ImuGyro :Y(D/s):', 'Imu_2_ImuGyro :Z(D/s):', 'Imu_2_ImuMag :X(uT):', 'Imu_2_ImuMag :Y(uT):', 'Imu_2_ImuMag :Z(uT):', 'Imu_3 :W():', 'Imu_3 :X():', 'Imu_3 :Y():', 'Imu_3 :Z():', 'Imu_3_ImuGyro :X(D/s):', 'Imu_3_ImuGyro :Y(D/s):', 'Imu_3_ImuGyro :Z(D/s):', 'Imu_3_ImuMag :X(uT):', 'Imu_3_ImuMag :Y(uT):', 'Imu_3_ImuMag :Z(uT):', 'Imu_4 :W():', 'Imu_4 :X():', 'Imu_4 :Y():', 'Imu_4 :Z():', 'Imu_4_ImuGyro :X(D/s):', 'Imu_4_ImuGyro :Y(D/s):', 'Imu_4_ImuGyro :Z(D/s):', 'Imu_4_ImuMag :X(uT):', 'Imu_4_ImuMag :Y(uT):', 'Imu_4_ImuMag :Z(uT):', 'Imu_5 :W():', 'Imu_5 :X():', 'Imu_5 :Y():', 'Imu_5 :Z():', 'Imu_5_ImuGyro :X(D/s):', 'Imu_5_ImuGyro :Y(D/s):', 'Imu_5_ImuGyro :Z(D/s):', 'Imu_5_ImuMag :X(uT):', 'Imu_5_ImuMag :Y(uT):', 'Imu_5_ImuMag :Z(uT):', 'Net_Acc_X(g)', 'Net_Acc_Y(g)', 'Net_Acc_Z(g)', 'Participant_Paddle_Acc_X(g)', 'Participant_Paddle_Acc_Y(g)', 'Participant_Paddle_Acc_Z(g)', 'Researcher_Paddle_Acc_X(g)', 'Researcher_Paddle_Acc_Y(g)', 'Researcher_Paddle_Acc_Z(g)', 'SyncPulse(uV)']\n",
      "noise: ['N-AF3', 'N-AF4', 'N-AF7', 'N-AF8', 'N-AFF1h', 'N-AFF2h', 'N-AFF5h', 'N-AFF6h', 'N-AFp1', 'N-AFp2', 'N-AFz', 'N-C1', 'N-C2', 'N-C3', 'N-C4', 'N-C5', 'N-C6', 'N-CCP1h', 'N-CCP2h', 'N-CCP3h', 'N-CCP4h', 'N-CCP5h', 'N-CCP6h', 'N-CP1', 'N-CP2', 'N-CP3', 'N-CP4', 'N-CP5', 'N-CP6', 'N-CPP1h', 'N-CPP2h', 'N-CPP3h', 'N-CPP4h', 'N-CPP5h', 'N-CPP6h', 'N-Cz', 'N-F1', 'N-F10', 'N-F2', 'N-F3', 'N-F4', 'N-F5', 'N-F6', 'N-F7', 'N-F8', 'N-F9', 'N-FC1', 'N-FC2', 'N-FC3', 'N-FC4', 'N-FC5', 'N-FC6', 'N-FCC1h', 'N-FCC2h', 'N-FCC3h', 'N-FCC4h', 'N-FCC5h', 'N-FCC6h', 'N-FCz', 'N-FFC1h', 'N-FFC2h', 'N-FFC3h', 'N-FFC4h', 'N-FFC5h', 'N-FFC6h', 'N-FFT10h', 'N-FFT7h', 'N-FFT8h', 'N-FFT9h', 'N-FP2', 'N-FT10', 'N-FT7', 'N-FT8', 'N-FT9', 'N-FTT10h', 'N-FTT7h', 'N-FTT8h', 'N-FTT9h', 'N-Fp1', 'N-Fz', 'N-Iz', 'N-O1', 'N-O2', 'N-OI1h', 'N-OI2h', 'N-Oz', 'N-P1', 'N-P2', 'N-P3', 'N-P4', 'N-P5', 'N-P6', 'N-P7', 'N-P8', 'N-PO3', 'N-PO4', 'N-PO7', 'N-PO8', 'N-POO1', 'N-POO10h', 'N-POO2', 'N-POO9h', 'N-POz', 'N-PPO10h', 'N-PPO1h', 'N-PPO2h', 'N-PPO5h', 'N-PPO6h', 'N-PPO9h', 'N-Pz', 'N-T7', 'N-T8', 'N-TP7', 'N-TP8', 'N-TPP10h', 'N-TPP7h', 'N-TPP8h', 'N-TPP9h', 'N-TTP7h', 'N-TTP8h']\n",
      "  raw_eeg = mne.io.read_raw_eeglab(eeg_dirname + f'sub-{SUB_ID}_task-TableTennis_eeg.set', preload=True)\n",
      "/tmp/ipykernel_1842469/3764265414.py:10: RuntimeWarning: Estimated head radius (12.2 cm) is above the 99th percentile for adult head size. Check if the montage_units argument is correct (the default is \"mm\", but your channel positions may be in different units).\n",
      "  raw_eeg = mne.io.read_raw_eeglab(eeg_dirname + f'sub-{SUB_ID}_task-TableTennis_eeg.set', preload=True)\n",
      "/tmp/ipykernel_1842469/3764265414.py:10: RuntimeWarning: Data file name in EEG.data (sub-06_task-tabletennis_eeg.fdt) is incorrect, the file name must have changed on disk, using the correct file name (sub-06_task-TableTennis_eeg.fdt).\n",
      "  raw_eeg = mne.io.read_raw_eeglab(eeg_dirname + f'sub-{SUB_ID}_task-TableTennis_eeg.set', preload=True)\n"
     ]
    },
    {
     "name": "stdout",
     "output_type": "stream",
     "text": [
      "NOTE: pick_channels() is a legacy function. New code should use inst.pick(...).\n"
     ]
    },
    {
     "name": "stderr",
     "output_type": "stream",
     "text": [
      "/tmp/ipykernel_1842469/3764265414.py:10: RuntimeWarning: Omitted 1 annotation(s) that were outside data range.\n",
      "  raw_eeg = mne.io.read_raw_eeglab(eeg_dirname + f'sub-{SUB_ID}_task-TableTennis_eeg.set', preload=True)\n",
      "/tmp/ipykernel_1842469/3764265414.py:10: RuntimeWarning: The data contains 'boundary' events, indicating data discontinuities. Be cautious of filtering and epoching around these events.\n",
      "  raw_eeg = mne.io.read_raw_eeglab(eeg_dirname + f'sub-{SUB_ID}_task-TableTennis_eeg.set', preload=True)\n",
      "/tmp/ipykernel_1842469/3764265414.py:10: RuntimeWarning: Not setting positions of 8 emg channels found in montage:\n",
      "['LISCM', 'LSSCM', 'LSTrap', 'LITrap', 'RITrap', 'RISCM', 'RSSCM', 'RSTrap']\n",
      "Consider setting the channel types to be of EEG/sEEG/ECoG/DBS/fNIRS using inst.set_channel_types before calling inst.set_montage, or omit these channels when creating your montage.\n",
      "  raw_eeg = mne.io.read_raw_eeglab(eeg_dirname + f'sub-{SUB_ID}_task-TableTennis_eeg.set', preload=True)\n"
     ]
    },
    {
     "data": {
      "application/vnd.jupyter.widget-view+json": {
       "model_id": "6567d2a0f9ff48af9ad9adcc593f7dcf",
       "version_major": 2,
       "version_minor": 0
      },
      "text/plain": [
       "  0%|          | 0/58989 [00:00<?, ?it/s]"
      ]
     },
     "metadata": {},
     "output_type": "display_data"
    },
    {
     "name": "stdout",
     "output_type": "stream",
     "text": [
      "Reading /data/vladimiroved/realWorldTableTennis/sub-07/eeg/sub-07_task-TableTennis_eeg.fdt\n",
      "Reading 0 ... 1174502  =      0.000 ...  4698.008 secs...\n"
     ]
    },
    {
     "name": "stderr",
     "output_type": "stream",
     "text": [
      "/tmp/ipykernel_1842469/3764265414.py:10: RuntimeWarning: Unknown types found, setting as type EEG:\n",
      "acc: ['CGY-x', 'CGY-y', 'CGY-z', 'CWR-x', 'CWR-y', 'CWR-z', 'NGY-x', 'NGY-y', 'NGY-z', 'NWR-x', 'NWR-y', 'NWR-z']\n",
      "cometas: ['BallMachine_Acc_X(g)', 'BallMachine_Acc_Y(g)', 'BallMachine_Acc_Z(g)', 'Imu_2 :W():', 'Imu_2 :X():', 'Imu_2 :Y():', 'Imu_2 :Z():', 'Imu_2_ImuGyro :X(D/s):', 'Imu_2_ImuGyro :Y(D/s):', 'Imu_2_ImuGyro :Z(D/s):', 'Imu_2_ImuMag :X(uT):', 'Imu_2_ImuMag :Y(uT):', 'Imu_2_ImuMag :Z(uT):', 'Imu_4 :W():', 'Imu_4 :X():', 'Imu_4 :Y():', 'Imu_4 :Z():', 'Imu_4_ImuGyro :X(D/s):', 'Imu_4_ImuGyro :Y(D/s):', 'Imu_4_ImuGyro :Z(D/s):', 'Imu_4_ImuMag :X(uT):', 'Imu_4_ImuMag :Y(uT):', 'Imu_4_ImuMag :Z(uT):', 'Net_Acc_X(g)', 'Net_Acc_Y(g)', 'Net_Acc_Z(g)', 'Participant_Paddle_Acc_X(g)', 'Participant_Paddle_Acc_Y(g)', 'Participant_Paddle_Acc_Z(g)', 'Researcher_Paddle_Acc_X(g)', 'Researcher_Paddle_Acc_Y(g)', 'Researcher_Paddle_Acc_Z(g)', 'SyncPulse(uV)', 'Table_OtherSide_Acc_X(g)', 'Table_OtherSide_Acc_Y(g)', 'Table_OtherSide_Acc_Z(g)', 'Table_ParticipantSide_Acc_X(g)', 'Table_ParticipantSide_Acc_Y(g)', 'Table_ParticipantSide_Acc_Z(g)']\n",
      "noise: ['N-AF3', 'N-AF4', 'N-AF7', 'N-AF8', 'N-AFF1h', 'N-AFF2h', 'N-AFF5h', 'N-AFF6h', 'N-AFp1', 'N-AFp2', 'N-AFz', 'N-C1', 'N-C2', 'N-C3', 'N-C4', 'N-C5', 'N-C6', 'N-CCP1h', 'N-CCP2h', 'N-CCP3h', 'N-CCP4h', 'N-CCP5h', 'N-CCP6h', 'N-CP1', 'N-CP2', 'N-CP3', 'N-CP4', 'N-CP5', 'N-CP6', 'N-CPP1h', 'N-CPP2h', 'N-CPP3h', 'N-CPP4h', 'N-CPP5h', 'N-CPP6h', 'N-Cz', 'N-F1', 'N-F10', 'N-F2', 'N-F3', 'N-F4', 'N-F5', 'N-F6', 'N-F7', 'N-F8', 'N-F9', 'N-FC1', 'N-FC2', 'N-FC3', 'N-FC4', 'N-FC5', 'N-FC6', 'N-FCC1h', 'N-FCC2h', 'N-FCC3h', 'N-FCC4h', 'N-FCC5h', 'N-FCC6h', 'N-FCz', 'N-FFC1h', 'N-FFC2h', 'N-FFC3h', 'N-FFC4h', 'N-FFC5h', 'N-FFC6h', 'N-FFT10h', 'N-FFT7h', 'N-FFT8h', 'N-FFT9h', 'N-FP2', 'N-FT10', 'N-FT7', 'N-FT8', 'N-FT9', 'N-FTT10h', 'N-FTT7h', 'N-FTT8h', 'N-FTT9h', 'N-Fp1', 'N-Fz', 'N-Iz', 'N-O1', 'N-O2', 'N-OI1h', 'N-OI2h', 'N-Oz', 'N-P1', 'N-P2', 'N-P3', 'N-P4', 'N-P5', 'N-P6', 'N-P7', 'N-P8', 'N-PO3', 'N-PO4', 'N-PO7', 'N-PO8', 'N-POO1', 'N-POO10h', 'N-POO2', 'N-POO9h', 'N-POz', 'N-PPO10h', 'N-PPO1h', 'N-PPO2h', 'N-PPO5h', 'N-PPO6h', 'N-PPO9h', 'N-Pz', 'N-T7', 'N-T8', 'N-TP7', 'N-TP8', 'N-TPP10h', 'N-TPP7h', 'N-TPP8h', 'N-TPP9h', 'N-TTP7h', 'N-TTP8h']\n",
      "  raw_eeg = mne.io.read_raw_eeglab(eeg_dirname + f'sub-{SUB_ID}_task-TableTennis_eeg.set', preload=True)\n",
      "/tmp/ipykernel_1842469/3764265414.py:10: RuntimeWarning: Estimated head radius (11.4 cm) is above the 99th percentile for adult head size. Check if the montage_units argument is correct (the default is \"mm\", but your channel positions may be in different units).\n",
      "  raw_eeg = mne.io.read_raw_eeglab(eeg_dirname + f'sub-{SUB_ID}_task-TableTennis_eeg.set', preload=True)\n",
      "/tmp/ipykernel_1842469/3764265414.py:10: RuntimeWarning: Data file name in EEG.data (sub-07_task-tabletennis_eeg.fdt) is incorrect, the file name must have changed on disk, using the correct file name (sub-07_task-TableTennis_eeg.fdt).\n",
      "  raw_eeg = mne.io.read_raw_eeglab(eeg_dirname + f'sub-{SUB_ID}_task-TableTennis_eeg.set', preload=True)\n"
     ]
    },
    {
     "name": "stdout",
     "output_type": "stream",
     "text": [
      "NOTE: pick_channels() is a legacy function. New code should use inst.pick(...).\n"
     ]
    },
    {
     "name": "stderr",
     "output_type": "stream",
     "text": [
      "/tmp/ipykernel_1842469/3764265414.py:10: RuntimeWarning: Omitted 1 annotation(s) that were outside data range.\n",
      "  raw_eeg = mne.io.read_raw_eeglab(eeg_dirname + f'sub-{SUB_ID}_task-TableTennis_eeg.set', preload=True)\n",
      "/tmp/ipykernel_1842469/3764265414.py:10: RuntimeWarning: The data contains 'boundary' events, indicating data discontinuities. Be cautious of filtering and epoching around these events.\n",
      "  raw_eeg = mne.io.read_raw_eeglab(eeg_dirname + f'sub-{SUB_ID}_task-TableTennis_eeg.set', preload=True)\n",
      "/tmp/ipykernel_1842469/3764265414.py:10: RuntimeWarning: Not setting positions of 8 emg channels found in montage:\n",
      "['LISCM', 'LSSCM', 'LSTrap', 'LITrap', 'RITrap', 'RISCM', 'RSSCM', 'RSTrap']\n",
      "Consider setting the channel types to be of EEG/sEEG/ECoG/DBS/fNIRS using inst.set_channel_types before calling inst.set_montage, or omit these channels when creating your montage.\n",
      "  raw_eeg = mne.io.read_raw_eeglab(eeg_dirname + f'sub-{SUB_ID}_task-TableTennis_eeg.set', preload=True)\n"
     ]
    },
    {
     "data": {
      "application/vnd.jupyter.widget-view+json": {
       "model_id": "1a1c30a7e5a64c63b21ac19e3f257206",
       "version_major": 2,
       "version_minor": 0
      },
      "text/plain": [
       "  0%|          | 0/104588 [00:00<?, ?it/s]"
      ]
     },
     "metadata": {},
     "output_type": "display_data"
    },
    {
     "name": "stdout",
     "output_type": "stream",
     "text": [
      "Reading /data/vladimiroved/realWorldTableTennis/sub-08/eeg/sub-08_task-TableTennis_eeg.fdt\n",
      "Reading 0 ... 1159909  =      0.000 ...  4639.636 secs...\n"
     ]
    },
    {
     "name": "stderr",
     "output_type": "stream",
     "text": [
      "/tmp/ipykernel_1842469/3764265414.py:10: RuntimeWarning: Unknown types found, setting as type EEG:\n",
      "acc: ['CGY-x', 'CGY-y', 'CGY-z', 'CWR-x', 'CWR-y', 'CWR-z', 'NGY-x', 'NGY-y', 'NGY-z', 'NWR-x', 'NWR-y', 'NWR-z']\n",
      "cometas: ['BallMachine_Acc_X(g)', 'BallMachine_Acc_Y(g)', 'BallMachine_Acc_Z(g)', 'Imu_2 :W():', 'Imu_2 :X():', 'Imu_2 :Y():', 'Imu_2 :Z():', 'Imu_2_ImuGyro :X(D/s):', 'Imu_2_ImuGyro :Y(D/s):', 'Imu_2_ImuGyro :Z(D/s):', 'Imu_2_ImuMag :X(uT):', 'Imu_2_ImuMag :Y(uT):', 'Imu_2_ImuMag :Z(uT):', 'Imu_4 :W():', 'Imu_4 :X():', 'Imu_4 :Y():', 'Imu_4 :Z():', 'Imu_4_ImuGyro :X(D/s):', 'Imu_4_ImuGyro :Y(D/s):', 'Imu_4_ImuGyro :Z(D/s):', 'Imu_4_ImuMag :X(uT):', 'Imu_4_ImuMag :Y(uT):', 'Imu_4_ImuMag :Z(uT):', 'Net_Acc_X(g)', 'Net_Acc_Y(g)', 'Net_Acc_Z(g)', 'Participant_Paddle_Acc_X(g)', 'Participant_Paddle_Acc_Y(g)', 'Participant_Paddle_Acc_Z(g)', 'Researcher_Paddle_Acc_X(g)', 'Researcher_Paddle_Acc_Y(g)', 'Researcher_Paddle_Acc_Z(g)', 'SyncPulse(uV)', 'Table_OtherSide_Acc_X(g)', 'Table_OtherSide_Acc_Y(g)', 'Table_OtherSide_Acc_Z(g)', 'Table_ParticipantSide_Acc_X(g)', 'Table_ParticipantSide_Acc_Y(g)', 'Table_ParticipantSide_Acc_Z(g)']\n",
      "noise: ['N-AF3', 'N-AF4', 'N-AF7', 'N-AF8', 'N-AFF1h', 'N-AFF2h', 'N-AFF5h', 'N-AFF6h', 'N-AFp1', 'N-AFp2', 'N-AFz', 'N-C1', 'N-C2', 'N-C3', 'N-C4', 'N-C5', 'N-C6', 'N-CCP1h', 'N-CCP2h', 'N-CCP3h', 'N-CCP4h', 'N-CCP5h', 'N-CCP6h', 'N-CP1', 'N-CP2', 'N-CP3', 'N-CP4', 'N-CP5', 'N-CP6', 'N-CPP1h', 'N-CPP2h', 'N-CPP3h', 'N-CPP4h', 'N-CPP5h', 'N-CPP6h', 'N-Cz', 'N-F1', 'N-F10', 'N-F2', 'N-F3', 'N-F4', 'N-F5', 'N-F6', 'N-F7', 'N-F8', 'N-F9', 'N-FC1', 'N-FC2', 'N-FC3', 'N-FC4', 'N-FC5', 'N-FC6', 'N-FCC1h', 'N-FCC2h', 'N-FCC3h', 'N-FCC4h', 'N-FCC5h', 'N-FCC6h', 'N-FCz', 'N-FFC1h', 'N-FFC2h', 'N-FFC3h', 'N-FFC4h', 'N-FFC5h', 'N-FFC6h', 'N-FFT10h', 'N-FFT7h', 'N-FFT8h', 'N-FFT9h', 'N-FP2', 'N-FT10', 'N-FT7', 'N-FT8', 'N-FT9', 'N-FTT10h', 'N-FTT7h', 'N-FTT8h', 'N-FTT9h', 'N-Fp1', 'N-Fz', 'N-Iz', 'N-O1', 'N-O2', 'N-OI1h', 'N-OI2h', 'N-Oz', 'N-P1', 'N-P2', 'N-P3', 'N-P4', 'N-P5', 'N-P6', 'N-P7', 'N-P8', 'N-PO3', 'N-PO4', 'N-PO7', 'N-PO8', 'N-POO1', 'N-POO10h', 'N-POO2', 'N-POO9h', 'N-POz', 'N-PPO10h', 'N-PPO1h', 'N-PPO2h', 'N-PPO5h', 'N-PPO6h', 'N-PPO9h', 'N-Pz', 'N-T7', 'N-T8', 'N-TP7', 'N-TP8', 'N-TPP10h', 'N-TPP7h', 'N-TPP8h', 'N-TPP9h', 'N-TTP7h', 'N-TTP8h']\n",
      "  raw_eeg = mne.io.read_raw_eeglab(eeg_dirname + f'sub-{SUB_ID}_task-TableTennis_eeg.set', preload=True)\n",
      "/tmp/ipykernel_1842469/3764265414.py:10: RuntimeWarning: Estimated head radius (10.9 cm) is above the 99th percentile for adult head size. Check if the montage_units argument is correct (the default is \"mm\", but your channel positions may be in different units).\n",
      "  raw_eeg = mne.io.read_raw_eeglab(eeg_dirname + f'sub-{SUB_ID}_task-TableTennis_eeg.set', preload=True)\n",
      "/tmp/ipykernel_1842469/3764265414.py:10: RuntimeWarning: Data file name in EEG.data (sub-08_task-tabletennis_eeg.fdt) is incorrect, the file name must have changed on disk, using the correct file name (sub-08_task-TableTennis_eeg.fdt).\n",
      "  raw_eeg = mne.io.read_raw_eeglab(eeg_dirname + f'sub-{SUB_ID}_task-TableTennis_eeg.set', preload=True)\n"
     ]
    },
    {
     "name": "stdout",
     "output_type": "stream",
     "text": [
      "NOTE: pick_channels() is a legacy function. New code should use inst.pick(...).\n"
     ]
    },
    {
     "name": "stderr",
     "output_type": "stream",
     "text": [
      "/tmp/ipykernel_1842469/3764265414.py:10: RuntimeWarning: Omitted 1 annotation(s) that were outside data range.\n",
      "  raw_eeg = mne.io.read_raw_eeglab(eeg_dirname + f'sub-{SUB_ID}_task-TableTennis_eeg.set', preload=True)\n",
      "/tmp/ipykernel_1842469/3764265414.py:10: RuntimeWarning: The data contains 'boundary' events, indicating data discontinuities. Be cautious of filtering and epoching around these events.\n",
      "  raw_eeg = mne.io.read_raw_eeglab(eeg_dirname + f'sub-{SUB_ID}_task-TableTennis_eeg.set', preload=True)\n",
      "/tmp/ipykernel_1842469/3764265414.py:10: RuntimeWarning: Not setting positions of 8 emg channels found in montage:\n",
      "['LISCM', 'LSSCM', 'LSTrap', 'LITrap', 'RITrap', 'RISCM', 'RSSCM', 'RSTrap']\n",
      "Consider setting the channel types to be of EEG/sEEG/ECoG/DBS/fNIRS using inst.set_channel_types before calling inst.set_montage, or omit these channels when creating your montage.\n",
      "  raw_eeg = mne.io.read_raw_eeglab(eeg_dirname + f'sub-{SUB_ID}_task-TableTennis_eeg.set', preload=True)\n"
     ]
    },
    {
     "data": {
      "application/vnd.jupyter.widget-view+json": {
       "model_id": "e610ca52bc334f8dba7d9147936a686a",
       "version_major": 2,
       "version_minor": 0
      },
      "text/plain": [
       "  0%|          | 0/96587 [00:00<?, ?it/s]"
      ]
     },
     "metadata": {},
     "output_type": "display_data"
    },
    {
     "name": "stdout",
     "output_type": "stream",
     "text": [
      "Reading /data/vladimiroved/realWorldTableTennis/sub-09/eeg/sub-09_task-TableTennis_eeg.fdt\n",
      "Reading 0 ... 1146678  =      0.000 ...  4586.712 secs...\n"
     ]
    },
    {
     "name": "stderr",
     "output_type": "stream",
     "text": [
      "/tmp/ipykernel_1842469/3764265414.py:10: RuntimeWarning: Unknown types found, setting as type EEG:\n",
      "acc: ['CGY-x', 'CGY-y', 'CGY-z', 'CWR-x', 'CWR-y', 'CWR-z', 'NGY-x', 'NGY-y', 'NGY-z', 'NWR-x', 'NWR-y', 'NWR-z']\n",
      "cometas: ['BallMachine_Acc_X(g)', 'BallMachine_Acc_Y(g)', 'BallMachine_Acc_Z(g)', 'Imu_1 :W():', 'Imu_1 :X():', 'Imu_1 :Y():', 'Imu_1 :Z():', 'Imu_1_ImuGyro :X(D/s):', 'Imu_1_ImuGyro :Y(D/s):', 'Imu_1_ImuGyro :Z(D/s):', 'Imu_1_ImuMag :X(uT):', 'Imu_1_ImuMag :Y(uT):', 'Imu_1_ImuMag :Z(uT):', 'Imu_2 :W():', 'Imu_2 :X():', 'Imu_2 :Y():', 'Imu_2 :Z():', 'Imu_2_ImuGyro :X(D/s):', 'Imu_2_ImuGyro :Y(D/s):', 'Imu_2_ImuGyro :Z(D/s):', 'Imu_2_ImuMag :X(uT):', 'Imu_2_ImuMag :Y(uT):', 'Imu_2_ImuMag :Z(uT):', 'Imu_4 :W():', 'Imu_4 :X():', 'Imu_4 :Y():', 'Imu_4 :Z():', 'Imu_4_ImuGyro :X(D/s):', 'Imu_4_ImuGyro :Y(D/s):', 'Imu_4_ImuGyro :Z(D/s):', 'Imu_4_ImuMag :X(uT):', 'Imu_4_ImuMag :Y(uT):', 'Imu_4_ImuMag :Z(uT):', 'Net_Acc_X(g)', 'Net_Acc_Y(g)', 'Net_Acc_Z(g)', 'Participant_Backpack_Acc_X(g)', 'Participant_Backpack_Acc_Y(g)', 'Participant_Backpack_Acc_Z(g)', 'Participant_Paddle_Acc_X(g)', 'Participant_Paddle_Acc_Y(g)', 'Participant_Paddle_Acc_Z(g)', 'Researcher_Paddle_Acc_X(g)', 'Researcher_Paddle_Acc_Y(g)', 'Researcher_Paddle_Acc_Z(g)', 'SyncPulse(uV)', 'Table_OtherSide_Acc_X(g)', 'Table_OtherSide_Acc_Y(g)', 'Table_OtherSide_Acc_Z(g)', 'Table_ParticipantSide_Acc_X(g)', 'Table_ParticipantSide_Acc_Y(g)', 'Table_ParticipantSide_Acc_Z(g)']\n",
      "noise: ['N-AF3', 'N-AF4', 'N-AF7', 'N-AF8', 'N-AFF1h', 'N-AFF2h', 'N-AFF5h', 'N-AFF6h', 'N-AFp1', 'N-AFp2', 'N-AFz', 'N-C1', 'N-C2', 'N-C3', 'N-C4', 'N-C5', 'N-C6', 'N-CCP1h', 'N-CCP2h', 'N-CCP3h', 'N-CCP4h', 'N-CCP5h', 'N-CCP6h', 'N-CP1', 'N-CP2', 'N-CP3', 'N-CP4', 'N-CP5', 'N-CP6', 'N-CPP1h', 'N-CPP2h', 'N-CPP3h', 'N-CPP4h', 'N-CPP5h', 'N-CPP6h', 'N-Cz', 'N-F1', 'N-F10', 'N-F2', 'N-F3', 'N-F4', 'N-F5', 'N-F6', 'N-F7', 'N-F8', 'N-F9', 'N-FC1', 'N-FC2', 'N-FC3', 'N-FC4', 'N-FC5', 'N-FC6', 'N-FCC1h', 'N-FCC2h', 'N-FCC3h', 'N-FCC4h', 'N-FCC5h', 'N-FCC6h', 'N-FCz', 'N-FFC1h', 'N-FFC2h', 'N-FFC3h', 'N-FFC4h', 'N-FFC5h', 'N-FFC6h', 'N-FFT10h', 'N-FFT7h', 'N-FFT8h', 'N-FFT9h', 'N-FP2', 'N-FT10', 'N-FT7', 'N-FT8', 'N-FT9', 'N-FTT10h', 'N-FTT7h', 'N-FTT8h', 'N-FTT9h', 'N-Fp1', 'N-Fz', 'N-Iz', 'N-O1', 'N-O2', 'N-OI1h', 'N-OI2h', 'N-Oz', 'N-P1', 'N-P2', 'N-P3', 'N-P4', 'N-P5', 'N-P6', 'N-P7', 'N-P8', 'N-PO3', 'N-PO4', 'N-PO7', 'N-PO8', 'N-POO1', 'N-POO10h', 'N-POO2', 'N-POO9h', 'N-POz', 'N-PPO10h', 'N-PPO1h', 'N-PPO2h', 'N-PPO5h', 'N-PPO6h', 'N-PPO9h', 'N-Pz', 'N-T7', 'N-T8', 'N-TP7', 'N-TP8', 'N-TPP10h', 'N-TPP7h', 'N-TPP8h', 'N-TPP9h', 'N-TTP7h', 'N-TTP8h']\n",
      "  raw_eeg = mne.io.read_raw_eeglab(eeg_dirname + f'sub-{SUB_ID}_task-TableTennis_eeg.set', preload=True)\n",
      "/tmp/ipykernel_1842469/3764265414.py:10: RuntimeWarning: Estimated head radius (11.7 cm) is above the 99th percentile for adult head size. Check if the montage_units argument is correct (the default is \"mm\", but your channel positions may be in different units).\n",
      "  raw_eeg = mne.io.read_raw_eeglab(eeg_dirname + f'sub-{SUB_ID}_task-TableTennis_eeg.set', preload=True)\n",
      "/tmp/ipykernel_1842469/3764265414.py:10: RuntimeWarning: Data file name in EEG.data (sub-09_task-tabletennis_eeg.fdt) is incorrect, the file name must have changed on disk, using the correct file name (sub-09_task-TableTennis_eeg.fdt).\n",
      "  raw_eeg = mne.io.read_raw_eeglab(eeg_dirname + f'sub-{SUB_ID}_task-TableTennis_eeg.set', preload=True)\n"
     ]
    },
    {
     "name": "stdout",
     "output_type": "stream",
     "text": [
      "NOTE: pick_channels() is a legacy function. New code should use inst.pick(...).\n"
     ]
    },
    {
     "name": "stderr",
     "output_type": "stream",
     "text": [
      "/tmp/ipykernel_1842469/3764265414.py:10: RuntimeWarning: Omitted 1 annotation(s) that were outside data range.\n",
      "  raw_eeg = mne.io.read_raw_eeglab(eeg_dirname + f'sub-{SUB_ID}_task-TableTennis_eeg.set', preload=True)\n",
      "/tmp/ipykernel_1842469/3764265414.py:10: RuntimeWarning: The data contains 'boundary' events, indicating data discontinuities. Be cautious of filtering and epoching around these events.\n",
      "  raw_eeg = mne.io.read_raw_eeglab(eeg_dirname + f'sub-{SUB_ID}_task-TableTennis_eeg.set', preload=True)\n",
      "/tmp/ipykernel_1842469/3764265414.py:10: RuntimeWarning: Not setting positions of 8 emg channels found in montage:\n",
      "['LISCM', 'LSSCM', 'LSTrap', 'LITrap', 'RITrap', 'RISCM', 'RSSCM', 'RSTrap']\n",
      "Consider setting the channel types to be of EEG/sEEG/ECoG/DBS/fNIRS using inst.set_channel_types before calling inst.set_montage, or omit these channels when creating your montage.\n",
      "  raw_eeg = mne.io.read_raw_eeglab(eeg_dirname + f'sub-{SUB_ID}_task-TableTennis_eeg.set', preload=True)\n"
     ]
    },
    {
     "data": {
      "application/vnd.jupyter.widget-view+json": {
       "model_id": "4435cd15221344689bb16f2fdfd3abe5",
       "version_major": 2,
       "version_minor": 0
      },
      "text/plain": [
       "  0%|          | 0/79593 [00:00<?, ?it/s]"
      ]
     },
     "metadata": {},
     "output_type": "display_data"
    },
    {
     "name": "stdout",
     "output_type": "stream",
     "text": [
      "Reading /data/vladimiroved/realWorldTableTennis/sub-10/eeg/sub-10_task-TableTennis_eeg.fdt\n",
      "Reading 0 ... 1139465  =      0.000 ...  4557.860 secs...\n"
     ]
    },
    {
     "name": "stderr",
     "output_type": "stream",
     "text": [
      "/tmp/ipykernel_1842469/3764265414.py:10: RuntimeWarning: Unknown types found, setting as type EEG:\n",
      "acc: ['CGY-x', 'CGY-y', 'CGY-z', 'CWR-x', 'CWR-y', 'CWR-z', 'NGY-x', 'NGY-y', 'NGY-z', 'NWR-x', 'NWR-y', 'NWR-z']\n",
      "cometas: ['BallMachine_Acc_X(g)', 'BallMachine_Acc_Y(g)', 'BallMachine_Acc_Z(g)', 'Imu_1 :W():', 'Imu_1 :X():', 'Imu_1 :Y():', 'Imu_1 :Z():', 'Imu_1_ImuGyro :X(D/s):', 'Imu_1_ImuGyro :Y(D/s):', 'Imu_1_ImuGyro :Z(D/s):', 'Imu_1_ImuMag :X(uT):', 'Imu_1_ImuMag :Y(uT):', 'Imu_1_ImuMag :Z(uT):', 'Imu_2 :W():', 'Imu_2 :X():', 'Imu_2 :Y():', 'Imu_2 :Z():', 'Imu_2_ImuGyro :X(D/s):', 'Imu_2_ImuGyro :Y(D/s):', 'Imu_2_ImuGyro :Z(D/s):', 'Imu_2_ImuMag :X(uT):', 'Imu_2_ImuMag :Y(uT):', 'Imu_2_ImuMag :Z(uT):', 'Imu_4 :W():', 'Imu_4 :X():', 'Imu_4 :Y():', 'Imu_4 :Z():', 'Imu_4_ImuGyro :X(D/s):', 'Imu_4_ImuGyro :Y(D/s):', 'Imu_4_ImuGyro :Z(D/s):', 'Imu_4_ImuMag :X(uT):', 'Imu_4_ImuMag :Y(uT):', 'Imu_4_ImuMag :Z(uT):', 'Net_Acc_X(g)', 'Net_Acc_Y(g)', 'Net_Acc_Z(g)', 'Participant_Backpack_Acc_X(g)', 'Participant_Backpack_Acc_Y(g)', 'Participant_Backpack_Acc_Z(g)', 'Participant_Paddle_Acc_X(g)', 'Participant_Paddle_Acc_Y(g)', 'Participant_Paddle_Acc_Z(g)', 'Researcher_Paddle_Acc_X(g)', 'Researcher_Paddle_Acc_Y(g)', 'Researcher_Paddle_Acc_Z(g)', 'SyncPulse(uV)', 'Table_OtherSide_Acc_X(g)', 'Table_OtherSide_Acc_Y(g)', 'Table_OtherSide_Acc_Z(g)', 'Table_ParticipantSide_Acc_X(g)', 'Table_ParticipantSide_Acc_Y(g)', 'Table_ParticipantSide_Acc_Z(g)']\n",
      "noise: ['N-AF3', 'N-AF4', 'N-AF7', 'N-AF8', 'N-AFF1h', 'N-AFF2h', 'N-AFF5h', 'N-AFF6h', 'N-AFp1', 'N-AFp2', 'N-AFz', 'N-C1', 'N-C2', 'N-C3', 'N-C4', 'N-C5', 'N-C6', 'N-CCP1h', 'N-CCP2h', 'N-CCP3h', 'N-CCP4h', 'N-CCP5h', 'N-CCP6h', 'N-CP1', 'N-CP2', 'N-CP3', 'N-CP4', 'N-CP5', 'N-CP6', 'N-CPP1h', 'N-CPP2h', 'N-CPP3h', 'N-CPP4h', 'N-CPP5h', 'N-CPP6h', 'N-Cz', 'N-F1', 'N-F10', 'N-F2', 'N-F3', 'N-F4', 'N-F5', 'N-F6', 'N-F7', 'N-F8', 'N-F9', 'N-FC1', 'N-FC2', 'N-FC3', 'N-FC4', 'N-FC5', 'N-FC6', 'N-FCC1h', 'N-FCC2h', 'N-FCC3h', 'N-FCC4h', 'N-FCC5h', 'N-FCC6h', 'N-FCz', 'N-FFC1h', 'N-FFC2h', 'N-FFC3h', 'N-FFC4h', 'N-FFC5h', 'N-FFC6h', 'N-FFT10h', 'N-FFT7h', 'N-FFT8h', 'N-FFT9h', 'N-FP2', 'N-FT10', 'N-FT7', 'N-FT8', 'N-FT9', 'N-FTT10h', 'N-FTT7h', 'N-FTT8h', 'N-FTT9h', 'N-Fp1', 'N-Fz', 'N-Iz', 'N-O1', 'N-O2', 'N-OI1h', 'N-OI2h', 'N-Oz', 'N-P1', 'N-P2', 'N-P3', 'N-P4', 'N-P5', 'N-P6', 'N-P7', 'N-P8', 'N-PO3', 'N-PO4', 'N-PO7', 'N-PO8', 'N-POO1', 'N-POO10h', 'N-POO2', 'N-POO9h', 'N-POz', 'N-PPO10h', 'N-PPO1h', 'N-PPO2h', 'N-PPO5h', 'N-PPO6h', 'N-PPO9h', 'N-Pz', 'N-T7', 'N-T8', 'N-TP7', 'N-TP8', 'N-TPP10h', 'N-TPP7h', 'N-TPP8h', 'N-TPP9h', 'N-TTP7h', 'N-TTP8h']\n",
      "  raw_eeg = mne.io.read_raw_eeglab(eeg_dirname + f'sub-{SUB_ID}_task-TableTennis_eeg.set', preload=True)\n",
      "/tmp/ipykernel_1842469/3764265414.py:10: RuntimeWarning: Data file name in EEG.data (sub-10_task-tabletennis_eeg.fdt) is incorrect, the file name must have changed on disk, using the correct file name (sub-10_task-TableTennis_eeg.fdt).\n",
      "  raw_eeg = mne.io.read_raw_eeglab(eeg_dirname + f'sub-{SUB_ID}_task-TableTennis_eeg.set', preload=True)\n",
      "/tmp/ipykernel_1842469/3764265414.py:10: RuntimeWarning: Omitted 1 annotation(s) that were outside data range.\n",
      "  raw_eeg = mne.io.read_raw_eeglab(eeg_dirname + f'sub-{SUB_ID}_task-TableTennis_eeg.set', preload=True)\n",
      "/tmp/ipykernel_1842469/3764265414.py:10: RuntimeWarning: The data contains 'boundary' events, indicating data discontinuities. Be cautious of filtering and epoching around these events.\n",
      "  raw_eeg = mne.io.read_raw_eeglab(eeg_dirname + f'sub-{SUB_ID}_task-TableTennis_eeg.set', preload=True)\n",
      "/tmp/ipykernel_1842469/3764265414.py:10: RuntimeWarning: Not setting positions of 8 emg channels found in montage:\n",
      "['LISCM', 'LSSCM', 'LSTrap', 'LITrap', 'RITrap', 'RISCM', 'RSSCM', 'RSTrap']\n",
      "Consider setting the channel types to be of EEG/sEEG/ECoG/DBS/fNIRS using inst.set_channel_types before calling inst.set_montage, or omit these channels when creating your montage.\n",
      "  raw_eeg = mne.io.read_raw_eeglab(eeg_dirname + f'sub-{SUB_ID}_task-TableTennis_eeg.set', preload=True)\n"
     ]
    },
    {
     "name": "stdout",
     "output_type": "stream",
     "text": [
      "NOTE: pick_channels() is a legacy function. New code should use inst.pick(...).\n"
     ]
    },
    {
     "data": {
      "application/vnd.jupyter.widget-view+json": {
       "model_id": "9a14847f6ed049748bf8438ab94ff367",
       "version_major": 2,
       "version_minor": 0
      },
      "text/plain": [
       "  0%|          | 0/69785 [00:00<?, ?it/s]"
      ]
     },
     "metadata": {},
     "output_type": "display_data"
    },
    {
     "name": "stdout",
     "output_type": "stream",
     "text": [
      "Reading /data/vladimiroved/realWorldTableTennis/sub-11/eeg/sub-11_task-TableTennis_eeg.fdt\n",
      "Reading 0 ... 1104856  =      0.000 ...  4419.424 secs...\n"
     ]
    },
    {
     "name": "stderr",
     "output_type": "stream",
     "text": [
      "/tmp/ipykernel_1842469/3764265414.py:10: RuntimeWarning: Unknown types found, setting as type EEG:\n",
      "acc: ['CGY-x', 'CGY-y', 'CGY-z', 'CWR-x', 'CWR-y', 'CWR-z', 'NGY-x', 'NGY-y', 'NGY-z', 'NWR-x', 'NWR-y', 'NWR-z']\n",
      "cometas: ['BallMachine_Acc_X(g)', 'BallMachine_Acc_Y(g)', 'BallMachine_Acc_Z(g)', 'IMU1_RMS', 'Imu_1 :W():', 'Imu_1 :X():', 'Imu_1 :Y():', 'Imu_1 :Z():', 'Imu_1_ImuGyro :X(D/s):', 'Imu_1_ImuGyro :Y(D/s):', 'Imu_1_ImuGyro :Z(D/s):', 'Imu_1_ImuMag :X(uT):', 'Imu_1_ImuMag :Y(uT):', 'Imu_1_ImuMag :Z(uT):', 'Imu_2 :W():', 'Imu_2 :X():', 'Imu_2 :Y():', 'Imu_2 :Z():', 'Imu_2_ImuGyro :X(D/s):', 'Imu_2_ImuGyro :Y(D/s):', 'Imu_2_ImuGyro :Z(D/s):', 'Imu_2_ImuMag :X(uT):', 'Imu_2_ImuMag :Y(uT):', 'Imu_2_ImuMag :Z(uT):', 'Imu_4 :W():', 'Imu_4 :X():', 'Imu_4 :Y():', 'Imu_4 :Z():', 'Imu_4_ImuGyro :X(D/s):', 'Imu_4_ImuGyro :Y(D/s):', 'Imu_4_ImuGyro :Z(D/s):', 'Imu_4_ImuMag :X(uT):', 'Imu_4_ImuMag :Y(uT):', 'Imu_4_ImuMag :Z(uT):', 'Net_Acc_X(g)', 'Net_Acc_Y(g)', 'Net_Acc_Z(g)', 'Participant_Backpack_Acc_X(g)', 'Participant_Backpack_Acc_Y(g)', 'Participant_Backpack_Acc_Z(g)', 'Participant_Paddle_Acc_X(g)', 'Participant_Paddle_Acc_Y(g)', 'Participant_Paddle_Acc_Z(g)', 'Researcher_Paddle_Acc_X(g)', 'Researcher_Paddle_Acc_Y(g)', 'Researcher_Paddle_Acc_Z(g)', 'SyncPulse(uV)', 'Table_OtherSide_Acc_X(g)', 'Table_OtherSide_Acc_Y(g)', 'Table_OtherSide_Acc_Z(g)', 'Table_ParticipantSide_Acc_X(g)', 'Table_ParticipantSide_Acc_Y(g)', 'Table_ParticipantSide_Acc_Z(g)']\n",
      "noise: ['N-AF3', 'N-AF4', 'N-AF7', 'N-AF8', 'N-AFF1h', 'N-AFF2h', 'N-AFF5h', 'N-AFF6h', 'N-AFp1', 'N-AFp2', 'N-AFz', 'N-C1', 'N-C2', 'N-C3', 'N-C4', 'N-C5', 'N-C6', 'N-CCP1h', 'N-CCP2h', 'N-CCP3h', 'N-CCP4h', 'N-CCP5h', 'N-CCP6h', 'N-CP1', 'N-CP2', 'N-CP3', 'N-CP4', 'N-CP5', 'N-CP6', 'N-CPP1h', 'N-CPP2h', 'N-CPP3h', 'N-CPP4h', 'N-CPP5h', 'N-CPP6h', 'N-Cz', 'N-F1', 'N-F10', 'N-F2', 'N-F3', 'N-F4', 'N-F5', 'N-F6', 'N-F7', 'N-F8', 'N-F9', 'N-FC1', 'N-FC2', 'N-FC3', 'N-FC4', 'N-FC5', 'N-FC6', 'N-FCC1h', 'N-FCC2h', 'N-FCC3h', 'N-FCC4h', 'N-FCC5h', 'N-FCC6h', 'N-FCz', 'N-FFC1h', 'N-FFC2h', 'N-FFC3h', 'N-FFC4h', 'N-FFC5h', 'N-FFC6h', 'N-FFT10h', 'N-FFT7h', 'N-FFT8h', 'N-FFT9h', 'N-FP2', 'N-FT10', 'N-FT7', 'N-FT8', 'N-FT9', 'N-FTT10h', 'N-FTT7h', 'N-FTT8h', 'N-FTT9h', 'N-Fp1', 'N-Fz', 'N-Iz', 'N-O1', 'N-O2', 'N-OI1h', 'N-OI2h', 'N-Oz', 'N-P1', 'N-P2', 'N-P3', 'N-P4', 'N-P5', 'N-P6', 'N-P7', 'N-P8', 'N-PO3', 'N-PO4', 'N-PO7', 'N-PO8', 'N-POO1', 'N-POO10h', 'N-POO2', 'N-POO9h', 'N-POz', 'N-PPO10h', 'N-PPO1h', 'N-PPO2h', 'N-PPO5h', 'N-PPO6h', 'N-PPO9h', 'N-Pz', 'N-T7', 'N-T8', 'N-TP7', 'N-TP8', 'N-TPP10h', 'N-TPP7h', 'N-TPP8h', 'N-TPP9h', 'N-TTP7h', 'N-TTP8h']\n",
      "  raw_eeg = mne.io.read_raw_eeglab(eeg_dirname + f'sub-{SUB_ID}_task-TableTennis_eeg.set', preload=True)\n",
      "/tmp/ipykernel_1842469/3764265414.py:10: RuntimeWarning: Estimated head radius (12.1 cm) is above the 99th percentile for adult head size. Check if the montage_units argument is correct (the default is \"mm\", but your channel positions may be in different units).\n",
      "  raw_eeg = mne.io.read_raw_eeglab(eeg_dirname + f'sub-{SUB_ID}_task-TableTennis_eeg.set', preload=True)\n",
      "/tmp/ipykernel_1842469/3764265414.py:10: RuntimeWarning: Data file name in EEG.data (sub-11_task-tabletennis_eeg.fdt) is incorrect, the file name must have changed on disk, using the correct file name (sub-11_task-TableTennis_eeg.fdt).\n",
      "  raw_eeg = mne.io.read_raw_eeglab(eeg_dirname + f'sub-{SUB_ID}_task-TableTennis_eeg.set', preload=True)\n"
     ]
    },
    {
     "name": "stdout",
     "output_type": "stream",
     "text": [
      "NOTE: pick_channels() is a legacy function. New code should use inst.pick(...).\n"
     ]
    },
    {
     "name": "stderr",
     "output_type": "stream",
     "text": [
      "/tmp/ipykernel_1842469/3764265414.py:10: RuntimeWarning: Omitted 1 annotation(s) that were outside data range.\n",
      "  raw_eeg = mne.io.read_raw_eeglab(eeg_dirname + f'sub-{SUB_ID}_task-TableTennis_eeg.set', preload=True)\n",
      "/tmp/ipykernel_1842469/3764265414.py:10: RuntimeWarning: The data contains 'boundary' events, indicating data discontinuities. Be cautious of filtering and epoching around these events.\n",
      "  raw_eeg = mne.io.read_raw_eeglab(eeg_dirname + f'sub-{SUB_ID}_task-TableTennis_eeg.set', preload=True)\n",
      "/tmp/ipykernel_1842469/3764265414.py:10: RuntimeWarning: Not setting positions of 8 emg channels found in montage:\n",
      "['LISCM', 'LSSCM', 'LSTrap', 'LITrap', 'RITrap', 'RISCM', 'RSSCM', 'RSTrap']\n",
      "Consider setting the channel types to be of EEG/sEEG/ECoG/DBS/fNIRS using inst.set_channel_types before calling inst.set_montage, or omit these channels when creating your montage.\n",
      "  raw_eeg = mne.io.read_raw_eeglab(eeg_dirname + f'sub-{SUB_ID}_task-TableTennis_eeg.set', preload=True)\n"
     ]
    },
    {
     "data": {
      "application/vnd.jupyter.widget-view+json": {
       "model_id": "7f7ef47e34404f54a1aaa0515e313957",
       "version_major": 2,
       "version_minor": 0
      },
      "text/plain": [
       "  0%|          | 0/51061 [00:00<?, ?it/s]"
      ]
     },
     "metadata": {},
     "output_type": "display_data"
    },
    {
     "name": "stdout",
     "output_type": "stream",
     "text": [
      "Reading /data/vladimiroved/realWorldTableTennis/sub-12/eeg/sub-12_task-TableTennis_eeg.fdt\n",
      "Reading 0 ... 1111931  =      0.000 ...  4447.724 secs...\n"
     ]
    },
    {
     "name": "stderr",
     "output_type": "stream",
     "text": [
      "/tmp/ipykernel_1842469/3764265414.py:10: RuntimeWarning: Unknown types found, setting as type EEG:\n",
      "acc: ['CGY-x', 'CGY-y', 'CGY-z', 'CWR-x', 'CWR-y', 'CWR-z', 'NGY-x', 'NGY-y', 'NGY-z', 'NWR-x', 'NWR-y', 'NWR-z']\n",
      "cometas: ['BallMachine_Acc_X(g)', 'BallMachine_Acc_Y(g)', 'BallMachine_Acc_Z(g)', 'IMU1_RMS', 'Imu_1 :W():', 'Imu_1 :X():', 'Imu_1 :Y():', 'Imu_1 :Z():', 'Imu_1_ImuGyro :X(D/s):', 'Imu_1_ImuGyro :Y(D/s):', 'Imu_1_ImuGyro :Z(D/s):', 'Imu_1_ImuMag :X(uT):', 'Imu_1_ImuMag :Y(uT):', 'Imu_1_ImuMag :Z(uT):', 'Imu_2 :W():', 'Imu_2 :X():', 'Imu_2 :Y():', 'Imu_2 :Z():', 'Imu_2_ImuGyro :X(D/s):', 'Imu_2_ImuGyro :Y(D/s):', 'Imu_2_ImuGyro :Z(D/s):', 'Imu_2_ImuMag :X(uT):', 'Imu_2_ImuMag :Y(uT):', 'Imu_2_ImuMag :Z(uT):', 'Imu_4 :W():', 'Imu_4 :X():', 'Imu_4 :Y():', 'Imu_4 :Z():', 'Imu_4_ImuGyro :X(D/s):', 'Imu_4_ImuGyro :Y(D/s):', 'Imu_4_ImuGyro :Z(D/s):', 'Imu_4_ImuMag :X(uT):', 'Imu_4_ImuMag :Y(uT):', 'Imu_4_ImuMag :Z(uT):', 'Net_Acc_X(g)', 'Net_Acc_Y(g)', 'Net_Acc_Z(g)', 'Participant_Backpack_Acc_X(g)', 'Participant_Backpack_Acc_Y(g)', 'Participant_Backpack_Acc_Z(g)', 'Participant_Paddle_Acc_X(g)', 'Participant_Paddle_Acc_Y(g)', 'Participant_Paddle_Acc_Z(g)', 'Researcher_Paddle_Acc_X(g)', 'Researcher_Paddle_Acc_Y(g)', 'Researcher_Paddle_Acc_Z(g)', 'SyncPulse(uV)', 'Table_OtherSide_Acc_X(g)', 'Table_OtherSide_Acc_Y(g)', 'Table_OtherSide_Acc_Z(g)', 'Table_ParticipantSide_Acc_X(g)', 'Table_ParticipantSide_Acc_Y(g)', 'Table_ParticipantSide_Acc_Z(g)']\n",
      "noise: ['N-AF3', 'N-AF4', 'N-AF7', 'N-AF8', 'N-AFF1h', 'N-AFF2h', 'N-AFF5h', 'N-AFF6h', 'N-AFp1', 'N-AFp2', 'N-AFz', 'N-C1', 'N-C2', 'N-C3', 'N-C4', 'N-C5', 'N-C6', 'N-CCP1h', 'N-CCP2h', 'N-CCP3h', 'N-CCP4h', 'N-CCP5h', 'N-CCP6h', 'N-CP1', 'N-CP2', 'N-CP3', 'N-CP4', 'N-CP5', 'N-CP6', 'N-CPP1h', 'N-CPP2h', 'N-CPP3h', 'N-CPP4h', 'N-CPP5h', 'N-CPP6h', 'N-Cz', 'N-F1', 'N-F10', 'N-F2', 'N-F3', 'N-F4', 'N-F5', 'N-F6', 'N-F7', 'N-F8', 'N-F9', 'N-FC1', 'N-FC2', 'N-FC3', 'N-FC4', 'N-FC5', 'N-FC6', 'N-FCC1h', 'N-FCC2h', 'N-FCC3h', 'N-FCC4h', 'N-FCC5h', 'N-FCC6h', 'N-FCz', 'N-FFC1h', 'N-FFC2h', 'N-FFC3h', 'N-FFC4h', 'N-FFC5h', 'N-FFC6h', 'N-FFT10h', 'N-FFT7h', 'N-FFT8h', 'N-FFT9h', 'N-FP2', 'N-FT10', 'N-FT7', 'N-FT8', 'N-FT9', 'N-FTT10h', 'N-FTT7h', 'N-FTT8h', 'N-FTT9h', 'N-Fp1', 'N-Fz', 'N-Iz', 'N-O1', 'N-O2', 'N-OI1h', 'N-OI2h', 'N-Oz', 'N-P1', 'N-P2', 'N-P3', 'N-P4', 'N-P5', 'N-P6', 'N-P7', 'N-P8', 'N-PO3', 'N-PO4', 'N-PO7', 'N-PO8', 'N-POO1', 'N-POO10h', 'N-POO2', 'N-POO9h', 'N-POz', 'N-PPO10h', 'N-PPO1h', 'N-PPO2h', 'N-PPO5h', 'N-PPO6h', 'N-PPO9h', 'N-Pz', 'N-T7', 'N-T8', 'N-TP7', 'N-TP8', 'N-TPP10h', 'N-TPP7h', 'N-TPP8h', 'N-TPP9h', 'N-TTP7h', 'N-TTP8h']\n",
      "  raw_eeg = mne.io.read_raw_eeglab(eeg_dirname + f'sub-{SUB_ID}_task-TableTennis_eeg.set', preload=True)\n",
      "/tmp/ipykernel_1842469/3764265414.py:10: RuntimeWarning: Data file name in EEG.data (sub-12_task-tabletennis_eeg.fdt) is incorrect, the file name must have changed on disk, using the correct file name (sub-12_task-TableTennis_eeg.fdt).\n",
      "  raw_eeg = mne.io.read_raw_eeglab(eeg_dirname + f'sub-{SUB_ID}_task-TableTennis_eeg.set', preload=True)\n"
     ]
    },
    {
     "name": "stdout",
     "output_type": "stream",
     "text": [
      "NOTE: pick_channels() is a legacy function. New code should use inst.pick(...).\n"
     ]
    },
    {
     "name": "stderr",
     "output_type": "stream",
     "text": [
      "/tmp/ipykernel_1842469/3764265414.py:10: RuntimeWarning: Omitted 1 annotation(s) that were outside data range.\n",
      "  raw_eeg = mne.io.read_raw_eeglab(eeg_dirname + f'sub-{SUB_ID}_task-TableTennis_eeg.set', preload=True)\n",
      "/tmp/ipykernel_1842469/3764265414.py:10: RuntimeWarning: The data contains 'boundary' events, indicating data discontinuities. Be cautious of filtering and epoching around these events.\n",
      "  raw_eeg = mne.io.read_raw_eeglab(eeg_dirname + f'sub-{SUB_ID}_task-TableTennis_eeg.set', preload=True)\n",
      "/tmp/ipykernel_1842469/3764265414.py:10: RuntimeWarning: Not setting positions of 8 emg channels found in montage:\n",
      "['LISCM', 'LSSCM', 'LSTrap', 'LITrap', 'RITrap', 'RISCM', 'RSSCM', 'RSTrap']\n",
      "Consider setting the channel types to be of EEG/sEEG/ECoG/DBS/fNIRS using inst.set_channel_types before calling inst.set_montage, or omit these channels when creating your montage.\n",
      "  raw_eeg = mne.io.read_raw_eeglab(eeg_dirname + f'sub-{SUB_ID}_task-TableTennis_eeg.set', preload=True)\n"
     ]
    },
    {
     "data": {
      "application/vnd.jupyter.widget-view+json": {
       "model_id": "58a5e610379449909bb0bb48ed4425c6",
       "version_major": 2,
       "version_minor": 0
      },
      "text/plain": [
       "  0%|          | 0/64968 [00:00<?, ?it/s]"
      ]
     },
     "metadata": {},
     "output_type": "display_data"
    },
    {
     "name": "stdout",
     "output_type": "stream",
     "text": [
      "Reading /data/vladimiroved/realWorldTableTennis/sub-13/eeg/sub-13_task-TableTennis_eeg.fdt\n",
      "Reading 0 ... 1120665  =      0.000 ...  4482.660 secs...\n"
     ]
    },
    {
     "name": "stderr",
     "output_type": "stream",
     "text": [
      "/tmp/ipykernel_1842469/3764265414.py:10: RuntimeWarning: Unknown types found, setting as type EEG:\n",
      "acc: ['CGY-x', 'CGY-y', 'CGY-z', 'CWR-x', 'CWR-y', 'CWR-z', 'NGY-x', 'NGY-y', 'NGY-z', 'NWR-x', 'NWR-y', 'NWR-z']\n",
      "cometas: ['BallMachine_Acc_X(g)', 'BallMachine_Acc_Y(g)', 'BallMachine_Acc_Z(g)', 'IMU1_RMS', 'Imu_1 :W():', 'Imu_1 :X():', 'Imu_1 :Y():', 'Imu_1 :Z():', 'Imu_1_ImuGyro :X(D/s):', 'Imu_1_ImuGyro :Y(D/s):', 'Imu_1_ImuGyro :Z(D/s):', 'Imu_1_ImuMag :X(uT):', 'Imu_1_ImuMag :Y(uT):', 'Imu_1_ImuMag :Z(uT):', 'Imu_2 :W():', 'Imu_2 :X():', 'Imu_2 :Y():', 'Imu_2 :Z():', 'Imu_2_ImuGyro :X(D/s):', 'Imu_2_ImuGyro :Y(D/s):', 'Imu_2_ImuGyro :Z(D/s):', 'Imu_2_ImuMag :X(uT):', 'Imu_2_ImuMag :Y(uT):', 'Imu_2_ImuMag :Z(uT):', 'Imu_4 :W():', 'Imu_4 :X():', 'Imu_4 :Y():', 'Imu_4 :Z():', 'Imu_4_ImuGyro :X(D/s):', 'Imu_4_ImuGyro :Y(D/s):', 'Imu_4_ImuGyro :Z(D/s):', 'Imu_4_ImuMag :X(uT):', 'Imu_4_ImuMag :Y(uT):', 'Imu_4_ImuMag :Z(uT):', 'Net_Acc_X(g)', 'Net_Acc_Y(g)', 'Net_Acc_Z(g)', 'Participant_Backpack_Acc_X(g)', 'Participant_Backpack_Acc_Y(g)', 'Participant_Backpack_Acc_Z(g)', 'Participant_Paddle_Acc_X(g)', 'Participant_Paddle_Acc_Y(g)', 'Participant_Paddle_Acc_Z(g)', 'Researcher_Paddle_Acc_X(g)', 'Researcher_Paddle_Acc_Y(g)', 'Researcher_Paddle_Acc_Z(g)', 'SyncPulse(uV)', 'Table_OtherSide_Acc_X(g)', 'Table_OtherSide_Acc_Y(g)', 'Table_OtherSide_Acc_Z(g)', 'Table_ParticipantSide_Acc_X(g)', 'Table_ParticipantSide_Acc_Y(g)', 'Table_ParticipantSide_Acc_Z(g)']\n",
      "noise: ['N-AF3', 'N-AF4', 'N-AF7', 'N-AF8', 'N-AFF1h', 'N-AFF2h', 'N-AFF5h', 'N-AFF6h', 'N-AFp1', 'N-AFp2', 'N-AFz', 'N-C1', 'N-C2', 'N-C3', 'N-C4', 'N-C5', 'N-C6', 'N-CCP1h', 'N-CCP2h', 'N-CCP3h', 'N-CCP4h', 'N-CCP5h', 'N-CCP6h', 'N-CP1', 'N-CP2', 'N-CP3', 'N-CP4', 'N-CP5', 'N-CP6', 'N-CPP1h', 'N-CPP2h', 'N-CPP3h', 'N-CPP4h', 'N-CPP5h', 'N-CPP6h', 'N-Cz', 'N-F1', 'N-F10', 'N-F2', 'N-F3', 'N-F4', 'N-F5', 'N-F6', 'N-F7', 'N-F8', 'N-F9', 'N-FC1', 'N-FC2', 'N-FC3', 'N-FC4', 'N-FC5', 'N-FC6', 'N-FCC1h', 'N-FCC2h', 'N-FCC3h', 'N-FCC4h', 'N-FCC5h', 'N-FCC6h', 'N-FCz', 'N-FFC1h', 'N-FFC2h', 'N-FFC3h', 'N-FFC4h', 'N-FFC5h', 'N-FFC6h', 'N-FFT10h', 'N-FFT7h', 'N-FFT8h', 'N-FFT9h', 'N-FP2', 'N-FT10', 'N-FT7', 'N-FT8', 'N-FT9', 'N-FTT10h', 'N-FTT7h', 'N-FTT8h', 'N-FTT9h', 'N-Fp1', 'N-Fz', 'N-Iz', 'N-O1', 'N-O2', 'N-OI1h', 'N-OI2h', 'N-Oz', 'N-P1', 'N-P2', 'N-P3', 'N-P4', 'N-P5', 'N-P6', 'N-P7', 'N-P8', 'N-PO3', 'N-PO4', 'N-PO7', 'N-PO8', 'N-POO1', 'N-POO10h', 'N-POO2', 'N-POO9h', 'N-POz', 'N-PPO10h', 'N-PPO1h', 'N-PPO2h', 'N-PPO5h', 'N-PPO6h', 'N-PPO9h', 'N-Pz', 'N-T7', 'N-T8', 'N-TP7', 'N-TP8', 'N-TPP10h', 'N-TPP7h', 'N-TPP8h', 'N-TPP9h', 'N-TTP7h', 'N-TTP8h']\n",
      "  raw_eeg = mne.io.read_raw_eeglab(eeg_dirname + f'sub-{SUB_ID}_task-TableTennis_eeg.set', preload=True)\n",
      "/tmp/ipykernel_1842469/3764265414.py:10: RuntimeWarning: Estimated head radius (11.0 cm) is above the 99th percentile for adult head size. Check if the montage_units argument is correct (the default is \"mm\", but your channel positions may be in different units).\n",
      "  raw_eeg = mne.io.read_raw_eeglab(eeg_dirname + f'sub-{SUB_ID}_task-TableTennis_eeg.set', preload=True)\n",
      "/tmp/ipykernel_1842469/3764265414.py:10: RuntimeWarning: Data file name in EEG.data (sub-13_task-tabletennis_eeg.fdt) is incorrect, the file name must have changed on disk, using the correct file name (sub-13_task-TableTennis_eeg.fdt).\n",
      "  raw_eeg = mne.io.read_raw_eeglab(eeg_dirname + f'sub-{SUB_ID}_task-TableTennis_eeg.set', preload=True)\n"
     ]
    },
    {
     "name": "stdout",
     "output_type": "stream",
     "text": [
      "NOTE: pick_channels() is a legacy function. New code should use inst.pick(...).\n"
     ]
    },
    {
     "name": "stderr",
     "output_type": "stream",
     "text": [
      "/tmp/ipykernel_1842469/3764265414.py:10: RuntimeWarning: Omitted 1 annotation(s) that were outside data range.\n",
      "  raw_eeg = mne.io.read_raw_eeglab(eeg_dirname + f'sub-{SUB_ID}_task-TableTennis_eeg.set', preload=True)\n",
      "/tmp/ipykernel_1842469/3764265414.py:10: RuntimeWarning: The data contains 'boundary' events, indicating data discontinuities. Be cautious of filtering and epoching around these events.\n",
      "  raw_eeg = mne.io.read_raw_eeglab(eeg_dirname + f'sub-{SUB_ID}_task-TableTennis_eeg.set', preload=True)\n",
      "/tmp/ipykernel_1842469/3764265414.py:10: RuntimeWarning: Not setting positions of 8 emg channels found in montage:\n",
      "['LISCM', 'LSSCM', 'LSTrap', 'LITrap', 'RITrap', 'RISCM', 'RSSCM', 'RSTrap']\n",
      "Consider setting the channel types to be of EEG/sEEG/ECoG/DBS/fNIRS using inst.set_channel_types before calling inst.set_montage, or omit these channels when creating your montage.\n",
      "  raw_eeg = mne.io.read_raw_eeglab(eeg_dirname + f'sub-{SUB_ID}_task-TableTennis_eeg.set', preload=True)\n"
     ]
    },
    {
     "data": {
      "application/vnd.jupyter.widget-view+json": {
       "model_id": "63f255f0703d42d5a95af367b9d8f1c5",
       "version_major": 2,
       "version_minor": 0
      },
      "text/plain": [
       "  0%|          | 0/58408 [00:00<?, ?it/s]"
      ]
     },
     "metadata": {},
     "output_type": "display_data"
    },
    {
     "name": "stdout",
     "output_type": "stream",
     "text": [
      "Reading /data/vladimiroved/realWorldTableTennis/sub-14/eeg/sub-14_task-TableTennis_eeg.fdt\n",
      "Reading 0 ... 1129763  =      0.000 ...  4519.052 secs...\n"
     ]
    },
    {
     "name": "stderr",
     "output_type": "stream",
     "text": [
      "/tmp/ipykernel_1842469/3764265414.py:10: RuntimeWarning: Unknown types found, setting as type EEG:\n",
      "acc: ['CGY-x', 'CGY-y', 'CGY-z', 'CWR-x', 'CWR-y', 'CWR-z', 'NGY-x', 'NGY-y', 'NGY-z', 'NWR-x', 'NWR-y', 'NWR-z']\n",
      "cometas: ['BallMachine_Acc_X(g)', 'BallMachine_Acc_Y(g)', 'BallMachine_Acc_Z(g)', 'IMU1_RMS', 'Imu_1 :W():', 'Imu_1 :X():', 'Imu_1 :Y():', 'Imu_1 :Z():', 'Imu_1_ImuGyro :X(D/s):', 'Imu_1_ImuGyro :Y(D/s):', 'Imu_1_ImuGyro :Z(D/s):', 'Imu_1_ImuMag :X(uT):', 'Imu_1_ImuMag :Y(uT):', 'Imu_1_ImuMag :Z(uT):', 'Imu_2 :W():', 'Imu_2 :X():', 'Imu_2 :Y():', 'Imu_2 :Z():', 'Imu_2_ImuGyro :X(D/s):', 'Imu_2_ImuGyro :Y(D/s):', 'Imu_2_ImuGyro :Z(D/s):', 'Imu_2_ImuMag :X(uT):', 'Imu_2_ImuMag :Y(uT):', 'Imu_2_ImuMag :Z(uT):', 'Imu_4 :W():', 'Imu_4 :X():', 'Imu_4 :Y():', 'Imu_4 :Z():', 'Imu_4_ImuGyro :X(D/s):', 'Imu_4_ImuGyro :Y(D/s):', 'Imu_4_ImuGyro :Z(D/s):', 'Imu_4_ImuMag :X(uT):', 'Imu_4_ImuMag :Y(uT):', 'Imu_4_ImuMag :Z(uT):', 'Net_Acc_X(g)', 'Net_Acc_Y(g)', 'Net_Acc_Z(g)', 'Participant_Backpack_Acc_X(g)', 'Participant_Backpack_Acc_Y(g)', 'Participant_Backpack_Acc_Z(g)', 'Participant_Paddle_Acc_X(g)', 'Participant_Paddle_Acc_Y(g)', 'Participant_Paddle_Acc_Z(g)', 'Researcher_Paddle_Acc_X(g)', 'Researcher_Paddle_Acc_Y(g)', 'Researcher_Paddle_Acc_Z(g)', 'SyncPulse(uV)', 'Table_OtherSide_Acc_X(g)', 'Table_OtherSide_Acc_Y(g)', 'Table_OtherSide_Acc_Z(g)', 'Table_ParticipantSide_Acc_X(g)', 'Table_ParticipantSide_Acc_Y(g)', 'Table_ParticipantSide_Acc_Z(g)']\n",
      "noise: ['N-AF3', 'N-AF4', 'N-AF7', 'N-AF8', 'N-AFF1h', 'N-AFF2h', 'N-AFF5h', 'N-AFF6h', 'N-AFp1', 'N-AFp2', 'N-AFz', 'N-C1', 'N-C2', 'N-C3', 'N-C4', 'N-C5', 'N-C6', 'N-CCP1h', 'N-CCP2h', 'N-CCP3h', 'N-CCP4h', 'N-CCP5h', 'N-CCP6h', 'N-CP1', 'N-CP2', 'N-CP3', 'N-CP4', 'N-CP5', 'N-CP6', 'N-CPP1h', 'N-CPP2h', 'N-CPP3h', 'N-CPP4h', 'N-CPP5h', 'N-CPP6h', 'N-Cz', 'N-F1', 'N-F10', 'N-F2', 'N-F3', 'N-F4', 'N-F5', 'N-F6', 'N-F7', 'N-F8', 'N-F9', 'N-FC1', 'N-FC2', 'N-FC3', 'N-FC4', 'N-FC5', 'N-FC6', 'N-FCC1h', 'N-FCC2h', 'N-FCC3h', 'N-FCC4h', 'N-FCC5h', 'N-FCC6h', 'N-FCz', 'N-FFC1h', 'N-FFC2h', 'N-FFC3h', 'N-FFC4h', 'N-FFC5h', 'N-FFC6h', 'N-FFT10h', 'N-FFT7h', 'N-FFT8h', 'N-FFT9h', 'N-FP2', 'N-FT10', 'N-FT7', 'N-FT8', 'N-FT9', 'N-FTT10h', 'N-FTT7h', 'N-FTT8h', 'N-FTT9h', 'N-Fp1', 'N-Fz', 'N-Iz', 'N-O1', 'N-O2', 'N-OI1h', 'N-OI2h', 'N-Oz', 'N-P1', 'N-P2', 'N-P3', 'N-P4', 'N-P5', 'N-P6', 'N-P7', 'N-P8', 'N-PO3', 'N-PO4', 'N-PO7', 'N-PO8', 'N-POO1', 'N-POO10h', 'N-POO2', 'N-POO9h', 'N-POz', 'N-PPO10h', 'N-PPO1h', 'N-PPO2h', 'N-PPO5h', 'N-PPO6h', 'N-PPO9h', 'N-Pz', 'N-T7', 'N-T8', 'N-TP7', 'N-TP8', 'N-TPP10h', 'N-TPP7h', 'N-TPP8h', 'N-TPP9h', 'N-TTP7h', 'N-TTP8h']\n",
      "  raw_eeg = mne.io.read_raw_eeglab(eeg_dirname + f'sub-{SUB_ID}_task-TableTennis_eeg.set', preload=True)\n",
      "/tmp/ipykernel_1842469/3764265414.py:10: RuntimeWarning: Estimated head radius (11.8 cm) is above the 99th percentile for adult head size. Check if the montage_units argument is correct (the default is \"mm\", but your channel positions may be in different units).\n",
      "  raw_eeg = mne.io.read_raw_eeglab(eeg_dirname + f'sub-{SUB_ID}_task-TableTennis_eeg.set', preload=True)\n",
      "/tmp/ipykernel_1842469/3764265414.py:10: RuntimeWarning: Data file name in EEG.data (sub-14_task-tabletennis_eeg.fdt) is incorrect, the file name must have changed on disk, using the correct file name (sub-14_task-TableTennis_eeg.fdt).\n",
      "  raw_eeg = mne.io.read_raw_eeglab(eeg_dirname + f'sub-{SUB_ID}_task-TableTennis_eeg.set', preload=True)\n"
     ]
    },
    {
     "name": "stdout",
     "output_type": "stream",
     "text": [
      "NOTE: pick_channels() is a legacy function. New code should use inst.pick(...).\n"
     ]
    },
    {
     "name": "stderr",
     "output_type": "stream",
     "text": [
      "/tmp/ipykernel_1842469/3764265414.py:10: RuntimeWarning: Omitted 1 annotation(s) that were outside data range.\n",
      "  raw_eeg = mne.io.read_raw_eeglab(eeg_dirname + f'sub-{SUB_ID}_task-TableTennis_eeg.set', preload=True)\n",
      "/tmp/ipykernel_1842469/3764265414.py:10: RuntimeWarning: The data contains 'boundary' events, indicating data discontinuities. Be cautious of filtering and epoching around these events.\n",
      "  raw_eeg = mne.io.read_raw_eeglab(eeg_dirname + f'sub-{SUB_ID}_task-TableTennis_eeg.set', preload=True)\n",
      "/tmp/ipykernel_1842469/3764265414.py:10: RuntimeWarning: Not setting positions of 8 emg channels found in montage:\n",
      "['LISCM', 'LSSCM', 'LSTrap', 'LITrap', 'RITrap', 'RISCM', 'RSSCM', 'RSTrap']\n",
      "Consider setting the channel types to be of EEG/sEEG/ECoG/DBS/fNIRS using inst.set_channel_types before calling inst.set_montage, or omit these channels when creating your montage.\n",
      "  raw_eeg = mne.io.read_raw_eeglab(eeg_dirname + f'sub-{SUB_ID}_task-TableTennis_eeg.set', preload=True)\n"
     ]
    },
    {
     "data": {
      "application/vnd.jupyter.widget-view+json": {
       "model_id": "1751206bf39c48419ffa9aa588ecfda5",
       "version_major": 2,
       "version_minor": 0
      },
      "text/plain": [
       "  0%|          | 0/73918 [00:00<?, ?it/s]"
      ]
     },
     "metadata": {},
     "output_type": "display_data"
    },
    {
     "name": "stdout",
     "output_type": "stream",
     "text": [
      "Reading /data/vladimiroved/realWorldTableTennis/sub-15/eeg/sub-15_task-TableTennis_eeg.fdt\n",
      "Reading 0 ... 1105756  =      0.000 ...  4423.024 secs...\n"
     ]
    },
    {
     "name": "stderr",
     "output_type": "stream",
     "text": [
      "/tmp/ipykernel_1842469/3764265414.py:10: RuntimeWarning: Unknown types found, setting as type EEG:\n",
      "acc: ['CGY-x', 'CGY-y', 'CGY-z', 'CWR-x', 'CWR-y', 'CWR-z', 'NGY-x', 'NGY-y', 'NGY-z', 'NWR-x', 'NWR-y', 'NWR-z']\n",
      "cometas: ['BallMachine_Acc_X(g)', 'BallMachine_Acc_Y(g)', 'BallMachine_Acc_Z(g)', 'IMU1_RMS', 'Imu_1 :W():', 'Imu_1 :X():', 'Imu_1 :Y():', 'Imu_1 :Z():', 'Imu_1_ImuGyro :X(D/s):', 'Imu_1_ImuGyro :Y(D/s):', 'Imu_1_ImuGyro :Z(D/s):', 'Imu_1_ImuMag :X(uT):', 'Imu_1_ImuMag :Y(uT):', 'Imu_1_ImuMag :Z(uT):', 'Imu_2 :W():', 'Imu_2 :X():', 'Imu_2 :Y():', 'Imu_2 :Z():', 'Imu_2_ImuGyro :X(D/s):', 'Imu_2_ImuGyro :Y(D/s):', 'Imu_2_ImuGyro :Z(D/s):', 'Imu_2_ImuMag :X(uT):', 'Imu_2_ImuMag :Y(uT):', 'Imu_2_ImuMag :Z(uT):', 'Imu_4 :W():', 'Imu_4 :X():', 'Imu_4 :Y():', 'Imu_4 :Z():', 'Imu_4_ImuGyro :X(D/s):', 'Imu_4_ImuGyro :Y(D/s):', 'Imu_4_ImuGyro :Z(D/s):', 'Imu_4_ImuMag :X(uT):', 'Imu_4_ImuMag :Y(uT):', 'Imu_4_ImuMag :Z(uT):', 'Net_Acc_X(g)', 'Net_Acc_Y(g)', 'Net_Acc_Z(g)', 'Participant_Backpack_Acc_X(g)', 'Participant_Backpack_Acc_Y(g)', 'Participant_Backpack_Acc_Z(g)', 'Participant_Paddle_Acc_X(g)', 'Participant_Paddle_Acc_Y(g)', 'Participant_Paddle_Acc_Z(g)', 'Researcher_Paddle_Acc_X(g)', 'Researcher_Paddle_Acc_Y(g)', 'Researcher_Paddle_Acc_Z(g)', 'SyncPulse(uV)', 'Table_OtherSide_Acc_X(g)', 'Table_OtherSide_Acc_Y(g)', 'Table_OtherSide_Acc_Z(g)', 'Table_ParticipantSide_Acc_X(g)', 'Table_ParticipantSide_Acc_Y(g)', 'Table_ParticipantSide_Acc_Z(g)']\n",
      "noise: ['N-AF3', 'N-AF4', 'N-AF7', 'N-AF8', 'N-AFF1h', 'N-AFF2h', 'N-AFF5h', 'N-AFF6h', 'N-AFp1', 'N-AFp2', 'N-AFz', 'N-C1', 'N-C2', 'N-C3', 'N-C4', 'N-C5', 'N-C6', 'N-CCP1h', 'N-CCP2h', 'N-CCP3h', 'N-CCP4h', 'N-CCP5h', 'N-CCP6h', 'N-CP1', 'N-CP2', 'N-CP3', 'N-CP4', 'N-CP5', 'N-CP6', 'N-CPP1h', 'N-CPP2h', 'N-CPP3h', 'N-CPP4h', 'N-CPP5h', 'N-CPP6h', 'N-Cz', 'N-F1', 'N-F10', 'N-F2', 'N-F3', 'N-F4', 'N-F5', 'N-F6', 'N-F7', 'N-F8', 'N-F9', 'N-FC1', 'N-FC2', 'N-FC3', 'N-FC4', 'N-FC5', 'N-FC6', 'N-FCC1h', 'N-FCC2h', 'N-FCC3h', 'N-FCC4h', 'N-FCC5h', 'N-FCC6h', 'N-FCz', 'N-FFC1h', 'N-FFC2h', 'N-FFC3h', 'N-FFC4h', 'N-FFC5h', 'N-FFC6h', 'N-FFT10h', 'N-FFT7h', 'N-FFT8h', 'N-FFT9h', 'N-FP2', 'N-FT10', 'N-FT7', 'N-FT8', 'N-FT9', 'N-FTT10h', 'N-FTT7h', 'N-FTT8h', 'N-FTT9h', 'N-Fp1', 'N-Fz', 'N-Iz', 'N-O1', 'N-O2', 'N-OI1h', 'N-OI2h', 'N-Oz', 'N-P1', 'N-P2', 'N-P3', 'N-P4', 'N-P5', 'N-P6', 'N-P7', 'N-P8', 'N-PO3', 'N-PO4', 'N-PO7', 'N-PO8', 'N-POO1', 'N-POO10h', 'N-POO2', 'N-POO9h', 'N-POz', 'N-PPO10h', 'N-PPO1h', 'N-PPO2h', 'N-PPO5h', 'N-PPO6h', 'N-PPO9h', 'N-Pz', 'N-T7', 'N-T8', 'N-TP7', 'N-TP8', 'N-TPP10h', 'N-TPP7h', 'N-TPP8h', 'N-TPP9h', 'N-TTP7h', 'N-TTP8h']\n",
      "  raw_eeg = mne.io.read_raw_eeglab(eeg_dirname + f'sub-{SUB_ID}_task-TableTennis_eeg.set', preload=True)\n",
      "/tmp/ipykernel_1842469/3764265414.py:10: RuntimeWarning: Estimated head radius (11.1 cm) is above the 99th percentile for adult head size. Check if the montage_units argument is correct (the default is \"mm\", but your channel positions may be in different units).\n",
      "  raw_eeg = mne.io.read_raw_eeglab(eeg_dirname + f'sub-{SUB_ID}_task-TableTennis_eeg.set', preload=True)\n",
      "/tmp/ipykernel_1842469/3764265414.py:10: RuntimeWarning: Data file name in EEG.data (sub-15_task-tabletennis_eeg.fdt) is incorrect, the file name must have changed on disk, using the correct file name (sub-15_task-TableTennis_eeg.fdt).\n",
      "  raw_eeg = mne.io.read_raw_eeglab(eeg_dirname + f'sub-{SUB_ID}_task-TableTennis_eeg.set', preload=True)\n"
     ]
    },
    {
     "name": "stdout",
     "output_type": "stream",
     "text": [
      "NOTE: pick_channels() is a legacy function. New code should use inst.pick(...).\n"
     ]
    },
    {
     "name": "stderr",
     "output_type": "stream",
     "text": [
      "/tmp/ipykernel_1842469/3764265414.py:10: RuntimeWarning: Omitted 1 annotation(s) that were outside data range.\n",
      "  raw_eeg = mne.io.read_raw_eeglab(eeg_dirname + f'sub-{SUB_ID}_task-TableTennis_eeg.set', preload=True)\n",
      "/tmp/ipykernel_1842469/3764265414.py:10: RuntimeWarning: The data contains 'boundary' events, indicating data discontinuities. Be cautious of filtering and epoching around these events.\n",
      "  raw_eeg = mne.io.read_raw_eeglab(eeg_dirname + f'sub-{SUB_ID}_task-TableTennis_eeg.set', preload=True)\n",
      "/tmp/ipykernel_1842469/3764265414.py:10: RuntimeWarning: Not setting positions of 8 emg channels found in montage:\n",
      "['LISCM', 'LSSCM', 'LSTrap', 'LITrap', 'RITrap', 'RISCM', 'RSSCM', 'RSTrap']\n",
      "Consider setting the channel types to be of EEG/sEEG/ECoG/DBS/fNIRS using inst.set_channel_types before calling inst.set_montage, or omit these channels when creating your montage.\n",
      "  raw_eeg = mne.io.read_raw_eeglab(eeg_dirname + f'sub-{SUB_ID}_task-TableTennis_eeg.set', preload=True)\n"
     ]
    },
    {
     "data": {
      "application/vnd.jupyter.widget-view+json": {
       "model_id": "1b5807e293b948779566b2fbf4a5144f",
       "version_major": 2,
       "version_minor": 0
      },
      "text/plain": [
       "  0%|          | 0/56375 [00:00<?, ?it/s]"
      ]
     },
     "metadata": {},
     "output_type": "display_data"
    },
    {
     "name": "stdout",
     "output_type": "stream",
     "text": [
      "Reading /data/vladimiroved/realWorldTableTennis/sub-16/eeg/sub-16_task-TableTennis_eeg.fdt\n",
      "Reading 0 ... 1151915  =      0.000 ...  4607.660 secs...\n"
     ]
    },
    {
     "name": "stderr",
     "output_type": "stream",
     "text": [
      "/tmp/ipykernel_1842469/3764265414.py:10: RuntimeWarning: Unknown types found, setting as type EEG:\n",
      "acc: ['CGY-x', 'CGY-y', 'CGY-z', 'CWR-x', 'CWR-y', 'CWR-z', 'NGY-x', 'NGY-y', 'NGY-z', 'NWR-x', 'NWR-y', 'NWR-z']\n",
      "cometas: ['BallMachine_Acc_X(g)', 'BallMachine_Acc_Y(g)', 'BallMachine_Acc_Z(g)', 'IMU1_RMS', 'Imu_1 :W():', 'Imu_1 :X():', 'Imu_1 :Y():', 'Imu_1 :Z():', 'Imu_1_ImuGyro :X(D/s):', 'Imu_1_ImuGyro :Y(D/s):', 'Imu_1_ImuGyro :Z(D/s):', 'Imu_1_ImuMag :X(uT):', 'Imu_1_ImuMag :Y(uT):', 'Imu_1_ImuMag :Z(uT):', 'Imu_2 :W():', 'Imu_2 :X():', 'Imu_2 :Y():', 'Imu_2 :Z():', 'Imu_2_ImuGyro :X(D/s):', 'Imu_2_ImuGyro :Y(D/s):', 'Imu_2_ImuGyro :Z(D/s):', 'Imu_2_ImuMag :X(uT):', 'Imu_2_ImuMag :Y(uT):', 'Imu_2_ImuMag :Z(uT):', 'Imu_4 :W():', 'Imu_4 :X():', 'Imu_4 :Y():', 'Imu_4 :Z():', 'Imu_4_ImuGyro :X(D/s):', 'Imu_4_ImuGyro :Y(D/s):', 'Imu_4_ImuGyro :Z(D/s):', 'Imu_4_ImuMag :X(uT):', 'Imu_4_ImuMag :Y(uT):', 'Imu_4_ImuMag :Z(uT):', 'Net_Acc_X(g)', 'Net_Acc_Y(g)', 'Net_Acc_Z(g)', 'Participant_Backpack_Acc_X(g)', 'Participant_Backpack_Acc_Y(g)', 'Participant_Backpack_Acc_Z(g)', 'Participant_Paddle_Acc_X(g)', 'Participant_Paddle_Acc_Y(g)', 'Participant_Paddle_Acc_Z(g)', 'Researcher_Paddle_Acc_X(g)', 'Researcher_Paddle_Acc_Y(g)', 'Researcher_Paddle_Acc_Z(g)', 'SyncPulse(uV)', 'Table_OtherSide_Acc_X(g)', 'Table_OtherSide_Acc_Y(g)', 'Table_OtherSide_Acc_Z(g)', 'Table_ParticipantSide_Acc_X(g)', 'Table_ParticipantSide_Acc_Y(g)', 'Table_ParticipantSide_Acc_Z(g)']\n",
      "noise: ['N-AF3', 'N-AF4', 'N-AF7', 'N-AF8', 'N-AFF1h', 'N-AFF2h', 'N-AFF5h', 'N-AFF6h', 'N-AFp1', 'N-AFp2', 'N-AFz', 'N-C1', 'N-C2', 'N-C3', 'N-C4', 'N-C5', 'N-C6', 'N-CCP1h', 'N-CCP2h', 'N-CCP3h', 'N-CCP4h', 'N-CCP5h', 'N-CCP6h', 'N-CP1', 'N-CP2', 'N-CP3', 'N-CP4', 'N-CP5', 'N-CP6', 'N-CPP1h', 'N-CPP2h', 'N-CPP3h', 'N-CPP4h', 'N-CPP5h', 'N-CPP6h', 'N-Cz', 'N-F1', 'N-F10', 'N-F2', 'N-F3', 'N-F4', 'N-F5', 'N-F6', 'N-F7', 'N-F8', 'N-F9', 'N-FC1', 'N-FC2', 'N-FC3', 'N-FC4', 'N-FC5', 'N-FC6', 'N-FCC1h', 'N-FCC2h', 'N-FCC3h', 'N-FCC4h', 'N-FCC5h', 'N-FCC6h', 'N-FCz', 'N-FFC1h', 'N-FFC2h', 'N-FFC3h', 'N-FFC4h', 'N-FFC5h', 'N-FFC6h', 'N-FFT10h', 'N-FFT7h', 'N-FFT8h', 'N-FFT9h', 'N-FP2', 'N-FT10', 'N-FT7', 'N-FT8', 'N-FT9', 'N-FTT10h', 'N-FTT7h', 'N-FTT8h', 'N-FTT9h', 'N-Fp1', 'N-Fz', 'N-Iz', 'N-O1', 'N-O2', 'N-OI1h', 'N-OI2h', 'N-Oz', 'N-P1', 'N-P2', 'N-P3', 'N-P4', 'N-P5', 'N-P6', 'N-P7', 'N-P8', 'N-PO3', 'N-PO4', 'N-PO7', 'N-PO8', 'N-POO1', 'N-POO10h', 'N-POO2', 'N-POO9h', 'N-POz', 'N-PPO10h', 'N-PPO1h', 'N-PPO2h', 'N-PPO5h', 'N-PPO6h', 'N-PPO9h', 'N-Pz', 'N-T7', 'N-T8', 'N-TP7', 'N-TP8', 'N-TPP10h', 'N-TPP7h', 'N-TPP8h', 'N-TPP9h', 'N-TTP7h', 'N-TTP8h']\n",
      "  raw_eeg = mne.io.read_raw_eeglab(eeg_dirname + f'sub-{SUB_ID}_task-TableTennis_eeg.set', preload=True)\n",
      "/tmp/ipykernel_1842469/3764265414.py:10: RuntimeWarning: Estimated head radius (11.6 cm) is above the 99th percentile for adult head size. Check if the montage_units argument is correct (the default is \"mm\", but your channel positions may be in different units).\n",
      "  raw_eeg = mne.io.read_raw_eeglab(eeg_dirname + f'sub-{SUB_ID}_task-TableTennis_eeg.set', preload=True)\n",
      "/tmp/ipykernel_1842469/3764265414.py:10: RuntimeWarning: Data file name in EEG.data (sub-16_task-tabletennis_eeg.fdt) is incorrect, the file name must have changed on disk, using the correct file name (sub-16_task-TableTennis_eeg.fdt).\n",
      "  raw_eeg = mne.io.read_raw_eeglab(eeg_dirname + f'sub-{SUB_ID}_task-TableTennis_eeg.set', preload=True)\n"
     ]
    },
    {
     "name": "stdout",
     "output_type": "stream",
     "text": [
      "NOTE: pick_channels() is a legacy function. New code should use inst.pick(...).\n"
     ]
    },
    {
     "name": "stderr",
     "output_type": "stream",
     "text": [
      "/tmp/ipykernel_1842469/3764265414.py:10: RuntimeWarning: Omitted 1 annotation(s) that were outside data range.\n",
      "  raw_eeg = mne.io.read_raw_eeglab(eeg_dirname + f'sub-{SUB_ID}_task-TableTennis_eeg.set', preload=True)\n",
      "/tmp/ipykernel_1842469/3764265414.py:10: RuntimeWarning: The data contains 'boundary' events, indicating data discontinuities. Be cautious of filtering and epoching around these events.\n",
      "  raw_eeg = mne.io.read_raw_eeglab(eeg_dirname + f'sub-{SUB_ID}_task-TableTennis_eeg.set', preload=True)\n",
      "/tmp/ipykernel_1842469/3764265414.py:10: RuntimeWarning: Not setting positions of 8 emg channels found in montage:\n",
      "['LISCM', 'LSSCM', 'LSTrap', 'LITrap', 'RITrap', 'RISCM', 'RSSCM', 'RSTrap']\n",
      "Consider setting the channel types to be of EEG/sEEG/ECoG/DBS/fNIRS using inst.set_channel_types before calling inst.set_montage, or omit these channels when creating your montage.\n",
      "  raw_eeg = mne.io.read_raw_eeglab(eeg_dirname + f'sub-{SUB_ID}_task-TableTennis_eeg.set', preload=True)\n"
     ]
    },
    {
     "data": {
      "application/vnd.jupyter.widget-view+json": {
       "model_id": "3c76bfda5f8d49039d01fff8f9693103",
       "version_major": 2,
       "version_minor": 0
      },
      "text/plain": [
       "  0%|          | 0/83889 [00:00<?, ?it/s]"
      ]
     },
     "metadata": {},
     "output_type": "display_data"
    },
    {
     "name": "stdout",
     "output_type": "stream",
     "text": [
      "Reading /data/vladimiroved/realWorldTableTennis/sub-17/eeg/sub-17_task-TableTennis_eeg.fdt\n",
      "Reading 0 ... 1119558  =      0.000 ...  4478.232 secs...\n"
     ]
    },
    {
     "name": "stderr",
     "output_type": "stream",
     "text": [
      "/tmp/ipykernel_1842469/3764265414.py:10: RuntimeWarning: Unknown types found, setting as type EEG:\n",
      "acc: ['CGY-x', 'CGY-y', 'CGY-z', 'CWR-x', 'CWR-y', 'CWR-z', 'NGY-x', 'NGY-y', 'NGY-z', 'NWR-x', 'NWR-y', 'NWR-z']\n",
      "cometas: ['BallMachine_Acc_X(g)', 'BallMachine_Acc_Y(g)', 'BallMachine_Acc_Z(g)', 'IMU1_RMS', 'Imu_1 :W():', 'Imu_1 :X():', 'Imu_1 :Y():', 'Imu_1 :Z():', 'Imu_1_ImuGyro :X(D/s):', 'Imu_1_ImuGyro :Y(D/s):', 'Imu_1_ImuGyro :Z(D/s):', 'Imu_1_ImuMag :X(uT):', 'Imu_1_ImuMag :Y(uT):', 'Imu_1_ImuMag :Z(uT):', 'Imu_2 :W():', 'Imu_2 :X():', 'Imu_2 :Y():', 'Imu_2 :Z():', 'Imu_2_ImuGyro :X(D/s):', 'Imu_2_ImuGyro :Y(D/s):', 'Imu_2_ImuGyro :Z(D/s):', 'Imu_2_ImuMag :X(uT):', 'Imu_2_ImuMag :Y(uT):', 'Imu_2_ImuMag :Z(uT):', 'Imu_4 :W():', 'Imu_4 :X():', 'Imu_4 :Y():', 'Imu_4 :Z():', 'Imu_4_ImuGyro :X(D/s):', 'Imu_4_ImuGyro :Y(D/s):', 'Imu_4_ImuGyro :Z(D/s):', 'Imu_4_ImuMag :X(uT):', 'Imu_4_ImuMag :Y(uT):', 'Imu_4_ImuMag :Z(uT):', 'Net_Acc_X(g)', 'Net_Acc_Y(g)', 'Net_Acc_Z(g)', 'Participant_Backpack_Acc_X(g)', 'Participant_Backpack_Acc_Y(g)', 'Participant_Backpack_Acc_Z(g)', 'Participant_Paddle_Acc_X(g)', 'Participant_Paddle_Acc_Y(g)', 'Participant_Paddle_Acc_Z(g)', 'Researcher_Paddle_Acc_X(g)', 'Researcher_Paddle_Acc_Y(g)', 'Researcher_Paddle_Acc_Z(g)', 'SyncPulse(uV)', 'Table_OtherSide_Acc_X(g)', 'Table_OtherSide_Acc_Y(g)', 'Table_OtherSide_Acc_Z(g)', 'Table_ParticipantSide_Acc_X(g)', 'Table_ParticipantSide_Acc_Y(g)', 'Table_ParticipantSide_Acc_Z(g)']\n",
      "noise: ['N-AF3', 'N-AF4', 'N-AF7', 'N-AF8', 'N-AFF1h', 'N-AFF2h', 'N-AFF5h', 'N-AFF6h', 'N-AFp1', 'N-AFp2', 'N-AFz', 'N-C1', 'N-C2', 'N-C3', 'N-C4', 'N-C5', 'N-C6', 'N-CCP1h', 'N-CCP2h', 'N-CCP3h', 'N-CCP4h', 'N-CCP5h', 'N-CCP6h', 'N-CP1', 'N-CP2', 'N-CP3', 'N-CP4', 'N-CP5', 'N-CP6', 'N-CPP1h', 'N-CPP2h', 'N-CPP3h', 'N-CPP4h', 'N-CPP5h', 'N-CPP6h', 'N-Cz', 'N-F1', 'N-F10', 'N-F2', 'N-F3', 'N-F4', 'N-F5', 'N-F6', 'N-F7', 'N-F8', 'N-F9', 'N-FC1', 'N-FC2', 'N-FC3', 'N-FC4', 'N-FC5', 'N-FC6', 'N-FCC1h', 'N-FCC2h', 'N-FCC3h', 'N-FCC4h', 'N-FCC5h', 'N-FCC6h', 'N-FCz', 'N-FFC1h', 'N-FFC2h', 'N-FFC3h', 'N-FFC4h', 'N-FFC5h', 'N-FFC6h', 'N-FFT10h', 'N-FFT7h', 'N-FFT8h', 'N-FFT9h', 'N-FP2', 'N-FT10', 'N-FT7', 'N-FT8', 'N-FT9', 'N-FTT10h', 'N-FTT7h', 'N-FTT8h', 'N-FTT9h', 'N-Fp1', 'N-Fz', 'N-Iz', 'N-O1', 'N-O2', 'N-OI1h', 'N-OI2h', 'N-Oz', 'N-P1', 'N-P2', 'N-P3', 'N-P4', 'N-P5', 'N-P6', 'N-P7', 'N-P8', 'N-PO3', 'N-PO4', 'N-PO7', 'N-PO8', 'N-POO1', 'N-POO10h', 'N-POO2', 'N-POO9h', 'N-POz', 'N-PPO10h', 'N-PPO1h', 'N-PPO2h', 'N-PPO5h', 'N-PPO6h', 'N-PPO9h', 'N-Pz', 'N-T7', 'N-T8', 'N-TP7', 'N-TP8', 'N-TPP10h', 'N-TPP7h', 'N-TPP8h', 'N-TPP9h', 'N-TTP7h', 'N-TTP8h']\n",
      "  raw_eeg = mne.io.read_raw_eeglab(eeg_dirname + f'sub-{SUB_ID}_task-TableTennis_eeg.set', preload=True)\n",
      "/tmp/ipykernel_1842469/3764265414.py:10: RuntimeWarning: Estimated head radius (11.7 cm) is above the 99th percentile for adult head size. Check if the montage_units argument is correct (the default is \"mm\", but your channel positions may be in different units).\n",
      "  raw_eeg = mne.io.read_raw_eeglab(eeg_dirname + f'sub-{SUB_ID}_task-TableTennis_eeg.set', preload=True)\n",
      "/tmp/ipykernel_1842469/3764265414.py:10: RuntimeWarning: Data file name in EEG.data (sub-17_task-tabletennis_eeg.fdt) is incorrect, the file name must have changed on disk, using the correct file name (sub-17_task-TableTennis_eeg.fdt).\n",
      "  raw_eeg = mne.io.read_raw_eeglab(eeg_dirname + f'sub-{SUB_ID}_task-TableTennis_eeg.set', preload=True)\n"
     ]
    },
    {
     "name": "stdout",
     "output_type": "stream",
     "text": [
      "NOTE: pick_channels() is a legacy function. New code should use inst.pick(...).\n"
     ]
    },
    {
     "name": "stderr",
     "output_type": "stream",
     "text": [
      "/tmp/ipykernel_1842469/3764265414.py:10: RuntimeWarning: Omitted 1 annotation(s) that were outside data range.\n",
      "  raw_eeg = mne.io.read_raw_eeglab(eeg_dirname + f'sub-{SUB_ID}_task-TableTennis_eeg.set', preload=True)\n",
      "/tmp/ipykernel_1842469/3764265414.py:10: RuntimeWarning: The data contains 'boundary' events, indicating data discontinuities. Be cautious of filtering and epoching around these events.\n",
      "  raw_eeg = mne.io.read_raw_eeglab(eeg_dirname + f'sub-{SUB_ID}_task-TableTennis_eeg.set', preload=True)\n",
      "/tmp/ipykernel_1842469/3764265414.py:10: RuntimeWarning: Not setting positions of 8 emg channels found in montage:\n",
      "['LISCM', 'LSSCM', 'LSTrap', 'LITrap', 'RITrap', 'RISCM', 'RSSCM', 'RSTrap']\n",
      "Consider setting the channel types to be of EEG/sEEG/ECoG/DBS/fNIRS using inst.set_channel_types before calling inst.set_montage, or omit these channels when creating your montage.\n",
      "  raw_eeg = mne.io.read_raw_eeglab(eeg_dirname + f'sub-{SUB_ID}_task-TableTennis_eeg.set', preload=True)\n"
     ]
    },
    {
     "data": {
      "application/vnd.jupyter.widget-view+json": {
       "model_id": "281f416603884be28a213b1e71d3574a",
       "version_major": 2,
       "version_minor": 0
      },
      "text/plain": [
       "  0%|          | 0/61956 [00:00<?, ?it/s]"
      ]
     },
     "metadata": {},
     "output_type": "display_data"
    },
    {
     "name": "stdout",
     "output_type": "stream",
     "text": [
      "Reading /data/vladimiroved/realWorldTableTennis/sub-18/eeg/sub-18_task-TableTennis_eeg.fdt\n",
      "Reading 0 ... 1155502  =      0.000 ...  4622.008 secs...\n"
     ]
    },
    {
     "name": "stderr",
     "output_type": "stream",
     "text": [
      "/tmp/ipykernel_1842469/3764265414.py:10: RuntimeWarning: Unknown types found, setting as type EEG:\n",
      "acc: ['CGY-x', 'CGY-y', 'CGY-z', 'CWR-x', 'CWR-y', 'CWR-z', 'NGY-x', 'NGY-y', 'NGY-z', 'NWR-x', 'NWR-y', 'NWR-z']\n",
      "cometas: ['BallMachine_Acc_X(g)', 'BallMachine_Acc_Y(g)', 'BallMachine_Acc_Z(g)', 'IMU1_RMS', 'Imu_1 :W():', 'Imu_1 :X():', 'Imu_1 :Y():', 'Imu_1 :Z():', 'Imu_1_ImuGyro :X(D/s):', 'Imu_1_ImuGyro :Y(D/s):', 'Imu_1_ImuGyro :Z(D/s):', 'Imu_1_ImuMag :X(uT):', 'Imu_1_ImuMag :Y(uT):', 'Imu_1_ImuMag :Z(uT):', 'Imu_2 :W():', 'Imu_2 :X():', 'Imu_2 :Y():', 'Imu_2 :Z():', 'Imu_2_ImuGyro :X(D/s):', 'Imu_2_ImuGyro :Y(D/s):', 'Imu_2_ImuGyro :Z(D/s):', 'Imu_2_ImuMag :X(uT):', 'Imu_2_ImuMag :Y(uT):', 'Imu_2_ImuMag :Z(uT):', 'Imu_4 :W():', 'Imu_4 :X():', 'Imu_4 :Y():', 'Imu_4 :Z():', 'Imu_4_ImuGyro :X(D/s):', 'Imu_4_ImuGyro :Y(D/s):', 'Imu_4_ImuGyro :Z(D/s):', 'Imu_4_ImuMag :X(uT):', 'Imu_4_ImuMag :Y(uT):', 'Imu_4_ImuMag :Z(uT):', 'Net_Acc_X(g)', 'Net_Acc_Y(g)', 'Net_Acc_Z(g)', 'Participant_Backpack_Acc_X(g)', 'Participant_Backpack_Acc_Y(g)', 'Participant_Backpack_Acc_Z(g)', 'Participant_Paddle_Acc_X(g)', 'Participant_Paddle_Acc_Y(g)', 'Participant_Paddle_Acc_Z(g)', 'Researcher_Paddle_Acc_X(g)', 'Researcher_Paddle_Acc_Y(g)', 'Researcher_Paddle_Acc_Z(g)', 'SyncPulse(uV)', 'Table_OtherSide_Acc_X(g)', 'Table_OtherSide_Acc_Y(g)', 'Table_OtherSide_Acc_Z(g)', 'Table_ParticipantSide_Acc_X(g)', 'Table_ParticipantSide_Acc_Y(g)', 'Table_ParticipantSide_Acc_Z(g)']\n",
      "noise: ['N-AF3', 'N-AF4', 'N-AF7', 'N-AF8', 'N-AFF1h', 'N-AFF2h', 'N-AFF5h', 'N-AFF6h', 'N-AFp1', 'N-AFp2', 'N-AFz', 'N-C1', 'N-C2', 'N-C3', 'N-C4', 'N-C5', 'N-C6', 'N-CCP1h', 'N-CCP2h', 'N-CCP3h', 'N-CCP4h', 'N-CCP5h', 'N-CCP6h', 'N-CP1', 'N-CP2', 'N-CP3', 'N-CP4', 'N-CP5', 'N-CP6', 'N-CPP1h', 'N-CPP2h', 'N-CPP3h', 'N-CPP4h', 'N-CPP5h', 'N-CPP6h', 'N-Cz', 'N-F1', 'N-F10', 'N-F2', 'N-F3', 'N-F4', 'N-F5', 'N-F6', 'N-F7', 'N-F8', 'N-F9', 'N-FC1', 'N-FC2', 'N-FC3', 'N-FC4', 'N-FC5', 'N-FC6', 'N-FCC1h', 'N-FCC2h', 'N-FCC3h', 'N-FCC4h', 'N-FCC5h', 'N-FCC6h', 'N-FCz', 'N-FFC1h', 'N-FFC2h', 'N-FFC3h', 'N-FFC4h', 'N-FFC5h', 'N-FFC6h', 'N-FFT10h', 'N-FFT7h', 'N-FFT8h', 'N-FFT9h', 'N-FP2', 'N-FT10', 'N-FT7', 'N-FT8', 'N-FT9', 'N-FTT10h', 'N-FTT7h', 'N-FTT8h', 'N-FTT9h', 'N-Fp1', 'N-Fz', 'N-Iz', 'N-O1', 'N-O2', 'N-OI1h', 'N-OI2h', 'N-Oz', 'N-P1', 'N-P2', 'N-P3', 'N-P4', 'N-P5', 'N-P6', 'N-P7', 'N-P8', 'N-PO3', 'N-PO4', 'N-PO7', 'N-PO8', 'N-POO1', 'N-POO10h', 'N-POO2', 'N-POO9h', 'N-POz', 'N-PPO10h', 'N-PPO1h', 'N-PPO2h', 'N-PPO5h', 'N-PPO6h', 'N-PPO9h', 'N-Pz', 'N-T7', 'N-T8', 'N-TP7', 'N-TP8', 'N-TPP10h', 'N-TPP7h', 'N-TPP8h', 'N-TPP9h', 'N-TTP7h', 'N-TTP8h']\n",
      "  raw_eeg = mne.io.read_raw_eeglab(eeg_dirname + f'sub-{SUB_ID}_task-TableTennis_eeg.set', preload=True)\n",
      "/tmp/ipykernel_1842469/3764265414.py:10: RuntimeWarning: Estimated head radius (11.4 cm) is above the 99th percentile for adult head size. Check if the montage_units argument is correct (the default is \"mm\", but your channel positions may be in different units).\n",
      "  raw_eeg = mne.io.read_raw_eeglab(eeg_dirname + f'sub-{SUB_ID}_task-TableTennis_eeg.set', preload=True)\n",
      "/tmp/ipykernel_1842469/3764265414.py:10: RuntimeWarning: Data file name in EEG.data (sub-18_task-tabletennis_eeg.fdt) is incorrect, the file name must have changed on disk, using the correct file name (sub-18_task-TableTennis_eeg.fdt).\n",
      "  raw_eeg = mne.io.read_raw_eeglab(eeg_dirname + f'sub-{SUB_ID}_task-TableTennis_eeg.set', preload=True)\n"
     ]
    },
    {
     "name": "stdout",
     "output_type": "stream",
     "text": [
      "NOTE: pick_channels() is a legacy function. New code should use inst.pick(...).\n"
     ]
    },
    {
     "name": "stderr",
     "output_type": "stream",
     "text": [
      "/tmp/ipykernel_1842469/3764265414.py:10: RuntimeWarning: Omitted 1 annotation(s) that were outside data range.\n",
      "  raw_eeg = mne.io.read_raw_eeglab(eeg_dirname + f'sub-{SUB_ID}_task-TableTennis_eeg.set', preload=True)\n",
      "/tmp/ipykernel_1842469/3764265414.py:10: RuntimeWarning: The data contains 'boundary' events, indicating data discontinuities. Be cautious of filtering and epoching around these events.\n",
      "  raw_eeg = mne.io.read_raw_eeglab(eeg_dirname + f'sub-{SUB_ID}_task-TableTennis_eeg.set', preload=True)\n",
      "/tmp/ipykernel_1842469/3764265414.py:10: RuntimeWarning: Not setting positions of 8 emg channels found in montage:\n",
      "['LISCM', 'LSSCM', 'LSTrap', 'LITrap', 'RITrap', 'RISCM', 'RSSCM', 'RSTrap']\n",
      "Consider setting the channel types to be of EEG/sEEG/ECoG/DBS/fNIRS using inst.set_channel_types before calling inst.set_montage, or omit these channels when creating your montage.\n",
      "  raw_eeg = mne.io.read_raw_eeglab(eeg_dirname + f'sub-{SUB_ID}_task-TableTennis_eeg.set', preload=True)\n"
     ]
    },
    {
     "data": {
      "application/vnd.jupyter.widget-view+json": {
       "model_id": "70951920532248efbfed99a7b08fdbaf",
       "version_major": 2,
       "version_minor": 0
      },
      "text/plain": [
       "  0%|          | 0/100154 [00:00<?, ?it/s]"
      ]
     },
     "metadata": {},
     "output_type": "display_data"
    },
    {
     "name": "stdout",
     "output_type": "stream",
     "text": [
      "Reading /data/vladimiroved/realWorldTableTennis/sub-19/eeg/sub-19_task-TableTennis_eeg.fdt\n",
      "Reading 0 ... 1117344  =      0.000 ...  4469.376 secs...\n"
     ]
    },
    {
     "name": "stderr",
     "output_type": "stream",
     "text": [
      "/tmp/ipykernel_1842469/3764265414.py:10: RuntimeWarning: Unknown types found, setting as type EEG:\n",
      "acc: ['CGY-x', 'CGY-y', 'CGY-z', 'CWR-x', 'CWR-y', 'CWR-z', 'NGY-x', 'NGY-y', 'NGY-z', 'NWR-x', 'NWR-y', 'NWR-z']\n",
      "cometas: ['BallMachine_Acc_X(g)', 'BallMachine_Acc_Y(g)', 'BallMachine_Acc_Z(g)', 'IMU1_RMS', 'Imu_1 :W():', 'Imu_1 :X():', 'Imu_1 :Y():', 'Imu_1 :Z():', 'Imu_1_ImuGyro :X(D/s):', 'Imu_1_ImuGyro :Y(D/s):', 'Imu_1_ImuGyro :Z(D/s):', 'Imu_1_ImuMag :X(uT):', 'Imu_1_ImuMag :Y(uT):', 'Imu_1_ImuMag :Z(uT):', 'Imu_2 :W():', 'Imu_2 :X():', 'Imu_2 :Y():', 'Imu_2 :Z():', 'Imu_2_ImuGyro :X(D/s):', 'Imu_2_ImuGyro :Y(D/s):', 'Imu_2_ImuGyro :Z(D/s):', 'Imu_2_ImuMag :X(uT):', 'Imu_2_ImuMag :Y(uT):', 'Imu_2_ImuMag :Z(uT):', 'Imu_4 :W():', 'Imu_4 :X():', 'Imu_4 :Y():', 'Imu_4 :Z():', 'Imu_4_ImuGyro :X(D/s):', 'Imu_4_ImuGyro :Y(D/s):', 'Imu_4_ImuGyro :Z(D/s):', 'Imu_4_ImuMag :X(uT):', 'Imu_4_ImuMag :Y(uT):', 'Imu_4_ImuMag :Z(uT):', 'Net_Acc_X(g)', 'Net_Acc_Y(g)', 'Net_Acc_Z(g)', 'Participant_Backpack_Acc_X(g)', 'Participant_Backpack_Acc_Y(g)', 'Participant_Backpack_Acc_Z(g)', 'Participant_Paddle_Acc_X(g)', 'Participant_Paddle_Acc_Y(g)', 'Participant_Paddle_Acc_Z(g)', 'Researcher_Paddle_Acc_X(g)', 'Researcher_Paddle_Acc_Y(g)', 'Researcher_Paddle_Acc_Z(g)', 'SyncPulse(uV)', 'Table_OtherSide_Acc_X(g)', 'Table_OtherSide_Acc_Y(g)', 'Table_OtherSide_Acc_Z(g)', 'Table_ParticipantSide_Acc_X(g)', 'Table_ParticipantSide_Acc_Y(g)', 'Table_ParticipantSide_Acc_Z(g)']\n",
      "noise: ['N-AF3', 'N-AF4', 'N-AF7', 'N-AF8', 'N-AFF1h', 'N-AFF2h', 'N-AFF5h', 'N-AFF6h', 'N-AFp1', 'N-AFp2', 'N-AFz', 'N-C1', 'N-C2', 'N-C3', 'N-C4', 'N-C5', 'N-C6', 'N-CCP1h', 'N-CCP2h', 'N-CCP3h', 'N-CCP4h', 'N-CCP5h', 'N-CCP6h', 'N-CP1', 'N-CP2', 'N-CP3', 'N-CP4', 'N-CP5', 'N-CP6', 'N-CPP1h', 'N-CPP2h', 'N-CPP3h', 'N-CPP4h', 'N-CPP5h', 'N-CPP6h', 'N-Cz', 'N-F1', 'N-F10', 'N-F2', 'N-F3', 'N-F4', 'N-F5', 'N-F6', 'N-F7', 'N-F8', 'N-F9', 'N-FC1', 'N-FC2', 'N-FC3', 'N-FC4', 'N-FC5', 'N-FC6', 'N-FCC1h', 'N-FCC2h', 'N-FCC3h', 'N-FCC4h', 'N-FCC5h', 'N-FCC6h', 'N-FCz', 'N-FFC1h', 'N-FFC2h', 'N-FFC3h', 'N-FFC4h', 'N-FFC5h', 'N-FFC6h', 'N-FFT10h', 'N-FFT7h', 'N-FFT8h', 'N-FFT9h', 'N-FP2', 'N-FT10', 'N-FT7', 'N-FT8', 'N-FT9', 'N-FTT10h', 'N-FTT7h', 'N-FTT8h', 'N-FTT9h', 'N-Fp1', 'N-Fz', 'N-Iz', 'N-O1', 'N-O2', 'N-OI1h', 'N-OI2h', 'N-Oz', 'N-P1', 'N-P2', 'N-P3', 'N-P4', 'N-P5', 'N-P6', 'N-P7', 'N-P8', 'N-PO3', 'N-PO4', 'N-PO7', 'N-PO8', 'N-POO1', 'N-POO10h', 'N-POO2', 'N-POO9h', 'N-POz', 'N-PPO10h', 'N-PPO1h', 'N-PPO2h', 'N-PPO5h', 'N-PPO6h', 'N-PPO9h', 'N-Pz', 'N-T7', 'N-T8', 'N-TP7', 'N-TP8', 'N-TPP10h', 'N-TPP7h', 'N-TPP8h', 'N-TPP9h', 'N-TTP7h', 'N-TTP8h']\n",
      "  raw_eeg = mne.io.read_raw_eeglab(eeg_dirname + f'sub-{SUB_ID}_task-TableTennis_eeg.set', preload=True)\n",
      "/tmp/ipykernel_1842469/3764265414.py:10: RuntimeWarning: Estimated head radius (11.0 cm) is above the 99th percentile for adult head size. Check if the montage_units argument is correct (the default is \"mm\", but your channel positions may be in different units).\n",
      "  raw_eeg = mne.io.read_raw_eeglab(eeg_dirname + f'sub-{SUB_ID}_task-TableTennis_eeg.set', preload=True)\n",
      "/tmp/ipykernel_1842469/3764265414.py:10: RuntimeWarning: Data file name in EEG.data (sub-19_task-tabletennis_eeg.fdt) is incorrect, the file name must have changed on disk, using the correct file name (sub-19_task-TableTennis_eeg.fdt).\n",
      "  raw_eeg = mne.io.read_raw_eeglab(eeg_dirname + f'sub-{SUB_ID}_task-TableTennis_eeg.set', preload=True)\n"
     ]
    },
    {
     "name": "stdout",
     "output_type": "stream",
     "text": [
      "NOTE: pick_channels() is a legacy function. New code should use inst.pick(...).\n"
     ]
    },
    {
     "name": "stderr",
     "output_type": "stream",
     "text": [
      "/tmp/ipykernel_1842469/3764265414.py:10: RuntimeWarning: Omitted 1 annotation(s) that were outside data range.\n",
      "  raw_eeg = mne.io.read_raw_eeglab(eeg_dirname + f'sub-{SUB_ID}_task-TableTennis_eeg.set', preload=True)\n",
      "/tmp/ipykernel_1842469/3764265414.py:10: RuntimeWarning: The data contains 'boundary' events, indicating data discontinuities. Be cautious of filtering and epoching around these events.\n",
      "  raw_eeg = mne.io.read_raw_eeglab(eeg_dirname + f'sub-{SUB_ID}_task-TableTennis_eeg.set', preload=True)\n",
      "/tmp/ipykernel_1842469/3764265414.py:10: RuntimeWarning: Not setting positions of 8 emg channels found in montage:\n",
      "['LISCM', 'LSSCM', 'LSTrap', 'LITrap', 'RITrap', 'RISCM', 'RSSCM', 'RSTrap']\n",
      "Consider setting the channel types to be of EEG/sEEG/ECoG/DBS/fNIRS using inst.set_channel_types before calling inst.set_montage, or omit these channels when creating your montage.\n",
      "  raw_eeg = mne.io.read_raw_eeglab(eeg_dirname + f'sub-{SUB_ID}_task-TableTennis_eeg.set', preload=True)\n"
     ]
    },
    {
     "data": {
      "application/vnd.jupyter.widget-view+json": {
       "model_id": "5a05bbe8aad041ada45e62ee9c237215",
       "version_major": 2,
       "version_minor": 0
      },
      "text/plain": [
       "  0%|          | 0/56880 [00:00<?, ?it/s]"
      ]
     },
     "metadata": {},
     "output_type": "display_data"
    },
    {
     "name": "stdout",
     "output_type": "stream",
     "text": [
      "Reading /data/vladimiroved/realWorldTableTennis/sub-20/eeg/sub-20_task-TableTennis_eeg.fdt\n",
      "Reading 0 ... 916387  =      0.000 ...  3665.548 secs...\n"
     ]
    },
    {
     "name": "stderr",
     "output_type": "stream",
     "text": [
      "/tmp/ipykernel_1842469/3764265414.py:10: RuntimeWarning: Unknown types found, setting as type EEG:\n",
      "acc: ['CGY-x', 'CGY-y', 'CGY-z', 'CWR-x', 'CWR-y', 'CWR-z', 'NGY-x', 'NGY-y', 'NGY-z', 'NWR-x', 'NWR-y', 'NWR-z']\n",
      "cometas: ['BallMachine_Acc_X(g)', 'BallMachine_Acc_Y(g)', 'BallMachine_Acc_Z(g)', 'IMU1_RMS', 'Imu_2 :W():', 'Imu_2 :X():', 'Imu_2 :Y():', 'Imu_2 :Z():', 'Imu_2_ImuGyro :X(D/s):', 'Imu_2_ImuGyro :Y(D/s):', 'Imu_2_ImuGyro :Z(D/s):', 'Imu_2_ImuMag :X(uT):', 'Imu_2_ImuMag :Y(uT):', 'Imu_2_ImuMag :Z(uT):', 'Imu_4 :W():', 'Imu_4 :X():', 'Imu_4 :Y():', 'Imu_4 :Z():', 'Imu_4_ImuGyro :X(D/s):', 'Imu_4_ImuGyro :Y(D/s):', 'Imu_4_ImuGyro :Z(D/s):', 'Imu_4_ImuMag :X(uT):', 'Imu_4_ImuMag :Y(uT):', 'Imu_4_ImuMag :Z(uT):', 'Net_Acc_X(g)', 'Net_Acc_Y(g)', 'Net_Acc_Z(g)', 'Participant_Backpack_Acc_X(g)', 'Participant_Backpack_Acc_Y(g)', 'Participant_Backpack_Acc_Z(g)', 'Participant_Paddle_Acc_X(g)', 'Participant_Paddle_Acc_Y(g)', 'Participant_Paddle_Acc_Z(g)', 'Researcher_Paddle_Acc_X(g)', 'Researcher_Paddle_Acc_Y(g)', 'Researcher_Paddle_Acc_Z(g)', 'SyncPulse(uV)', 'Table_OtherSide_Acc_X(g)', 'Table_OtherSide_Acc_Y(g)', 'Table_OtherSide_Acc_Z(g)', 'Table_ParticipantSide_Acc_X(g)', 'Table_ParticipantSide_Acc_Y(g)', 'Table_ParticipantSide_Acc_Z(g)']\n",
      "noise: ['N-AF3', 'N-AF4', 'N-AF7', 'N-AF8', 'N-AFF1h', 'N-AFF2h', 'N-AFF5h', 'N-AFF6h', 'N-AFp1', 'N-AFp2', 'N-AFz', 'N-C1', 'N-C2', 'N-C3', 'N-C4', 'N-C5', 'N-C6', 'N-CCP1h', 'N-CCP2h', 'N-CCP3h', 'N-CCP4h', 'N-CCP5h', 'N-CCP6h', 'N-CP1', 'N-CP2', 'N-CP3', 'N-CP4', 'N-CP5', 'N-CP6', 'N-CPP1h', 'N-CPP2h', 'N-CPP3h', 'N-CPP4h', 'N-CPP5h', 'N-CPP6h', 'N-Cz', 'N-F1', 'N-F10', 'N-F2', 'N-F3', 'N-F4', 'N-F5', 'N-F6', 'N-F7', 'N-F8', 'N-F9', 'N-FC1', 'N-FC2', 'N-FC3', 'N-FC4', 'N-FC5', 'N-FC6', 'N-FCC1h', 'N-FCC2h', 'N-FCC3h', 'N-FCC4h', 'N-FCC5h', 'N-FCC6h', 'N-FCz', 'N-FFC1h', 'N-FFC2h', 'N-FFC3h', 'N-FFC4h', 'N-FFC5h', 'N-FFC6h', 'N-FFT10h', 'N-FFT7h', 'N-FFT8h', 'N-FFT9h', 'N-FP2', 'N-FT10', 'N-FT7', 'N-FT8', 'N-FT9', 'N-FTT10h', 'N-FTT7h', 'N-FTT8h', 'N-FTT9h', 'N-Fp1', 'N-Fz', 'N-Iz', 'N-O1', 'N-O2', 'N-OI1h', 'N-OI2h', 'N-Oz', 'N-P1', 'N-P2', 'N-P3', 'N-P4', 'N-P5', 'N-P6', 'N-P7', 'N-P8', 'N-PO3', 'N-PO4', 'N-PO7', 'N-PO8', 'N-POO1', 'N-POO10h', 'N-POO2', 'N-POO9h', 'N-POz', 'N-PPO10h', 'N-PPO1h', 'N-PPO2h', 'N-PPO5h', 'N-PPO6h', 'N-PPO9h', 'N-Pz', 'N-T7', 'N-T8', 'N-TP7', 'N-TP8', 'N-TPP10h', 'N-TPP7h', 'N-TPP8h', 'N-TPP9h', 'N-TTP7h', 'N-TTP8h']\n",
      "  raw_eeg = mne.io.read_raw_eeglab(eeg_dirname + f'sub-{SUB_ID}_task-TableTennis_eeg.set', preload=True)\n",
      "/tmp/ipykernel_1842469/3764265414.py:10: RuntimeWarning: Estimated head radius (11.1 cm) is above the 99th percentile for adult head size. Check if the montage_units argument is correct (the default is \"mm\", but your channel positions may be in different units).\n",
      "  raw_eeg = mne.io.read_raw_eeglab(eeg_dirname + f'sub-{SUB_ID}_task-TableTennis_eeg.set', preload=True)\n",
      "/tmp/ipykernel_1842469/3764265414.py:10: RuntimeWarning: Data file name in EEG.data (sub-20_task-tabletennis_eeg.fdt) is incorrect, the file name must have changed on disk, using the correct file name (sub-20_task-TableTennis_eeg.fdt).\n",
      "  raw_eeg = mne.io.read_raw_eeglab(eeg_dirname + f'sub-{SUB_ID}_task-TableTennis_eeg.set', preload=True)\n"
     ]
    },
    {
     "name": "stdout",
     "output_type": "stream",
     "text": [
      "NOTE: pick_channels() is a legacy function. New code should use inst.pick(...).\n"
     ]
    },
    {
     "name": "stderr",
     "output_type": "stream",
     "text": [
      "/tmp/ipykernel_1842469/3764265414.py:10: RuntimeWarning: Omitted 1 annotation(s) that were outside data range.\n",
      "  raw_eeg = mne.io.read_raw_eeglab(eeg_dirname + f'sub-{SUB_ID}_task-TableTennis_eeg.set', preload=True)\n",
      "/tmp/ipykernel_1842469/3764265414.py:10: RuntimeWarning: The data contains 'boundary' events, indicating data discontinuities. Be cautious of filtering and epoching around these events.\n",
      "  raw_eeg = mne.io.read_raw_eeglab(eeg_dirname + f'sub-{SUB_ID}_task-TableTennis_eeg.set', preload=True)\n",
      "/tmp/ipykernel_1842469/3764265414.py:10: RuntimeWarning: Not setting positions of 8 emg channels found in montage:\n",
      "['LISCM', 'LSSCM', 'LSTrap', 'LITrap', 'RITrap', 'RISCM', 'RSSCM', 'RSTrap']\n",
      "Consider setting the channel types to be of EEG/sEEG/ECoG/DBS/fNIRS using inst.set_channel_types before calling inst.set_montage, or omit these channels when creating your montage.\n",
      "  raw_eeg = mne.io.read_raw_eeglab(eeg_dirname + f'sub-{SUB_ID}_task-TableTennis_eeg.set', preload=True)\n"
     ]
    },
    {
     "data": {
      "application/vnd.jupyter.widget-view+json": {
       "model_id": "f6cc954aa3324d0db63059d1bf55b55e",
       "version_major": 2,
       "version_minor": 0
      },
      "text/plain": [
       "  0%|          | 0/69020 [00:00<?, ?it/s]"
      ]
     },
     "metadata": {},
     "output_type": "display_data"
    },
    {
     "name": "stdout",
     "output_type": "stream",
     "text": [
      "Reading /data/vladimiroved/realWorldTableTennis/sub-21/eeg/sub-21_task-TableTennis_eeg.fdt\n",
      "Reading 0 ... 1128360  =      0.000 ...  4513.440 secs...\n"
     ]
    },
    {
     "name": "stderr",
     "output_type": "stream",
     "text": [
      "/tmp/ipykernel_1842469/3764265414.py:10: RuntimeWarning: Unknown types found, setting as type EEG:\n",
      "acc: ['CGY-x', 'CGY-y', 'CGY-z', 'CWR-x', 'CWR-y', 'CWR-z', 'NGY-x', 'NGY-y', 'NGY-z', 'NWR-x', 'NWR-y', 'NWR-z']\n",
      "cometas: ['BallMachine_Acc_X(g)', 'BallMachine_Acc_Y(g)', 'BallMachine_Acc_Z(g)', 'IMU1_RMS', 'Imu_1 :W():', 'Imu_1 :X():', 'Imu_1 :Y():', 'Imu_1 :Z():', 'Imu_1_ImuGyro :X(D/s):', 'Imu_1_ImuGyro :Y(D/s):', 'Imu_1_ImuGyro :Z(D/s):', 'Imu_1_ImuMag :X(uT):', 'Imu_1_ImuMag :Y(uT):', 'Imu_1_ImuMag :Z(uT):', 'Imu_2 :W():', 'Imu_2 :X():', 'Imu_2 :Y():', 'Imu_2 :Z():', 'Imu_2_ImuGyro :X(D/s):', 'Imu_2_ImuGyro :Y(D/s):', 'Imu_2_ImuGyro :Z(D/s):', 'Imu_2_ImuMag :X(uT):', 'Imu_2_ImuMag :Y(uT):', 'Imu_2_ImuMag :Z(uT):', 'Imu_4 :W():', 'Imu_4 :X():', 'Imu_4 :Y():', 'Imu_4 :Z():', 'Imu_4_ImuGyro :X(D/s):', 'Imu_4_ImuGyro :Y(D/s):', 'Imu_4_ImuGyro :Z(D/s):', 'Imu_4_ImuMag :X(uT):', 'Imu_4_ImuMag :Y(uT):', 'Imu_4_ImuMag :Z(uT):', 'Net_Acc_X(g)', 'Net_Acc_Y(g)', 'Net_Acc_Z(g)', 'Participant_Backpack_Acc_X(g)', 'Participant_Backpack_Acc_Y(g)', 'Participant_Backpack_Acc_Z(g)', 'Participant_Paddle_Acc_X(g)', 'Participant_Paddle_Acc_Y(g)', 'Participant_Paddle_Acc_Z(g)', 'Researcher_Paddle_Acc_X(g)', 'Researcher_Paddle_Acc_Y(g)', 'Researcher_Paddle_Acc_Z(g)', 'SyncPulse(uV)', 'Table_OtherSide_Acc_X(g)', 'Table_OtherSide_Acc_Y(g)', 'Table_OtherSide_Acc_Z(g)', 'Table_ParticipantSide_Acc_X(g)', 'Table_ParticipantSide_Acc_Y(g)', 'Table_ParticipantSide_Acc_Z(g)']\n",
      "noise: ['N-AF3', 'N-AF4', 'N-AF7', 'N-AF8', 'N-AFF1h', 'N-AFF2h', 'N-AFF5h', 'N-AFF6h', 'N-AFp1', 'N-AFp2', 'N-AFz', 'N-C1', 'N-C2', 'N-C3', 'N-C4', 'N-C5', 'N-C6', 'N-CCP1h', 'N-CCP2h', 'N-CCP3h', 'N-CCP4h', 'N-CCP5h', 'N-CCP6h', 'N-CP1', 'N-CP2', 'N-CP3', 'N-CP4', 'N-CP5', 'N-CP6', 'N-CPP1h', 'N-CPP2h', 'N-CPP3h', 'N-CPP4h', 'N-CPP5h', 'N-CPP6h', 'N-Cz', 'N-F1', 'N-F10', 'N-F2', 'N-F3', 'N-F4', 'N-F5', 'N-F6', 'N-F7', 'N-F8', 'N-F9', 'N-FC1', 'N-FC2', 'N-FC3', 'N-FC4', 'N-FC5', 'N-FC6', 'N-FCC1h', 'N-FCC2h', 'N-FCC3h', 'N-FCC4h', 'N-FCC5h', 'N-FCC6h', 'N-FCz', 'N-FFC1h', 'N-FFC2h', 'N-FFC3h', 'N-FFC4h', 'N-FFC5h', 'N-FFC6h', 'N-FFT10h', 'N-FFT7h', 'N-FFT8h', 'N-FFT9h', 'N-FP2', 'N-FT10', 'N-FT7', 'N-FT8', 'N-FT9', 'N-FTT10h', 'N-FTT7h', 'N-FTT8h', 'N-FTT9h', 'N-Fp1', 'N-Fz', 'N-Iz', 'N-O1', 'N-O2', 'N-OI1h', 'N-OI2h', 'N-Oz', 'N-P1', 'N-P2', 'N-P3', 'N-P4', 'N-P5', 'N-P6', 'N-P7', 'N-P8', 'N-PO3', 'N-PO4', 'N-PO7', 'N-PO8', 'N-POO1', 'N-POO10h', 'N-POO2', 'N-POO9h', 'N-POz', 'N-PPO10h', 'N-PPO1h', 'N-PPO2h', 'N-PPO5h', 'N-PPO6h', 'N-PPO9h', 'N-Pz', 'N-T7', 'N-T8', 'N-TP7', 'N-TP8', 'N-TPP10h', 'N-TPP7h', 'N-TPP8h', 'N-TPP9h', 'N-TTP7h', 'N-TTP8h']\n",
      "  raw_eeg = mne.io.read_raw_eeglab(eeg_dirname + f'sub-{SUB_ID}_task-TableTennis_eeg.set', preload=True)\n",
      "/tmp/ipykernel_1842469/3764265414.py:10: RuntimeWarning: Estimated head radius (11.3 cm) is above the 99th percentile for adult head size. Check if the montage_units argument is correct (the default is \"mm\", but your channel positions may be in different units).\n",
      "  raw_eeg = mne.io.read_raw_eeglab(eeg_dirname + f'sub-{SUB_ID}_task-TableTennis_eeg.set', preload=True)\n",
      "/tmp/ipykernel_1842469/3764265414.py:10: RuntimeWarning: Data file name in EEG.data (sub-21_task-tabletennis_eeg.fdt) is incorrect, the file name must have changed on disk, using the correct file name (sub-21_task-TableTennis_eeg.fdt).\n",
      "  raw_eeg = mne.io.read_raw_eeglab(eeg_dirname + f'sub-{SUB_ID}_task-TableTennis_eeg.set', preload=True)\n"
     ]
    },
    {
     "name": "stdout",
     "output_type": "stream",
     "text": [
      "NOTE: pick_channels() is a legacy function. New code should use inst.pick(...).\n"
     ]
    },
    {
     "name": "stderr",
     "output_type": "stream",
     "text": [
      "/tmp/ipykernel_1842469/3764265414.py:10: RuntimeWarning: Omitted 1 annotation(s) that were outside data range.\n",
      "  raw_eeg = mne.io.read_raw_eeglab(eeg_dirname + f'sub-{SUB_ID}_task-TableTennis_eeg.set', preload=True)\n",
      "/tmp/ipykernel_1842469/3764265414.py:10: RuntimeWarning: The data contains 'boundary' events, indicating data discontinuities. Be cautious of filtering and epoching around these events.\n",
      "  raw_eeg = mne.io.read_raw_eeglab(eeg_dirname + f'sub-{SUB_ID}_task-TableTennis_eeg.set', preload=True)\n",
      "/tmp/ipykernel_1842469/3764265414.py:10: RuntimeWarning: Not setting positions of 8 emg channels found in montage:\n",
      "['LISCM', 'LSSCM', 'LSTrap', 'LITrap', 'RITrap', 'RISCM', 'RSSCM', 'RSTrap']\n",
      "Consider setting the channel types to be of EEG/sEEG/ECoG/DBS/fNIRS using inst.set_channel_types before calling inst.set_montage, or omit these channels when creating your montage.\n",
      "  raw_eeg = mne.io.read_raw_eeglab(eeg_dirname + f'sub-{SUB_ID}_task-TableTennis_eeg.set', preload=True)\n"
     ]
    },
    {
     "data": {
      "application/vnd.jupyter.widget-view+json": {
       "model_id": "619e9a539cd24456919e4b1e6f4c7b93",
       "version_major": 2,
       "version_minor": 0
      },
      "text/plain": [
       "  0%|          | 0/63256 [00:00<?, ?it/s]"
      ]
     },
     "metadata": {},
     "output_type": "display_data"
    },
    {
     "name": "stdout",
     "output_type": "stream",
     "text": [
      "Reading /data/vladimiroved/realWorldTableTennis/sub-22/eeg/sub-22_task-TableTennis_eeg.fdt\n",
      "Reading 0 ... 1108946  =      0.000 ...  4435.784 secs...\n"
     ]
    },
    {
     "name": "stderr",
     "output_type": "stream",
     "text": [
      "/tmp/ipykernel_1842469/3764265414.py:10: RuntimeWarning: Unknown types found, setting as type EEG:\n",
      "acc: ['CGY-x', 'CGY-y', 'CGY-z', 'CWR-x', 'CWR-y', 'CWR-z', 'NGY-x', 'NGY-y', 'NGY-z', 'NWR-x', 'NWR-y', 'NWR-z']\n",
      "cometas: ['BallMachine_Acc_X(g)', 'BallMachine_Acc_Y(g)', 'BallMachine_Acc_Z(g)', 'IMU1_RMS', 'Imu_1 :W():', 'Imu_1 :X():', 'Imu_1 :Y():', 'Imu_1 :Z():', 'Imu_1_ImuAcc :X(g):', 'Imu_1_ImuAcc :Y(g):', 'Imu_1_ImuAcc :Z(g):', 'Imu_1_ImuGyro :X(D/s):', 'Imu_1_ImuGyro :Y(D/s):', 'Imu_1_ImuGyro :Z(D/s):', 'Imu_1_ImuMag :X(uT):', 'Imu_1_ImuMag :Y(uT):', 'Imu_1_ImuMag :Z(uT):', 'Imu_2 :W():', 'Imu_2 :X():', 'Imu_2 :Y():', 'Imu_2 :Z():', 'Imu_2_ImuGyro :X(D/s):', 'Imu_2_ImuGyro :Y(D/s):', 'Imu_2_ImuGyro :Z(D/s):', 'Imu_2_ImuMag :X(uT):', 'Imu_2_ImuMag :Y(uT):', 'Imu_2_ImuMag :Z(uT):', 'Imu_4 :W():', 'Imu_4 :X():', 'Imu_4 :Y():', 'Imu_4 :Z():', 'Imu_4_ImuGyro :X(D/s):', 'Imu_4_ImuGyro :Y(D/s):', 'Imu_4_ImuGyro :Z(D/s):', 'Imu_4_ImuMag :X(uT):', 'Imu_4_ImuMag :Y(uT):', 'Imu_4_ImuMag :Z(uT):', 'Imu_6_ImuAcc :X(g):', 'Imu_6_ImuAcc :Y(g):', 'Imu_6_ImuAcc :Z(g):', 'Imu_7_ImuAcc :X(g):', 'Imu_7_ImuAcc :Y(g):', 'Imu_7_ImuAcc :Z(g):', 'Net_Acc_X(g)', 'Net_Acc_Y(g)', 'Net_Acc_Z(g)', 'Participant_Paddle_Acc_X(g)', 'Participant_Paddle_Acc_Y(g)', 'Participant_Paddle_Acc_Z(g)', 'Researcher_Paddle_Acc_X(g)', 'Researcher_Paddle_Acc_Y(g)', 'Researcher_Paddle_Acc_Z(g)', 'SyncPulse(uV)']\n",
      "noise: ['N-AF3', 'N-AF4', 'N-AF7', 'N-AF8', 'N-AFF1h', 'N-AFF2h', 'N-AFF5h', 'N-AFF6h', 'N-AFp1', 'N-AFp2', 'N-AFz', 'N-C1', 'N-C2', 'N-C3', 'N-C4', 'N-C5', 'N-C6', 'N-CCP1h', 'N-CCP2h', 'N-CCP3h', 'N-CCP4h', 'N-CCP5h', 'N-CCP6h', 'N-CP1', 'N-CP2', 'N-CP3', 'N-CP4', 'N-CP5', 'N-CP6', 'N-CPP1h', 'N-CPP2h', 'N-CPP3h', 'N-CPP4h', 'N-CPP5h', 'N-CPP6h', 'N-Cz', 'N-F1', 'N-F10', 'N-F2', 'N-F3', 'N-F4', 'N-F5', 'N-F6', 'N-F7', 'N-F8', 'N-F9', 'N-FC1', 'N-FC2', 'N-FC3', 'N-FC4', 'N-FC5', 'N-FC6', 'N-FCC1h', 'N-FCC2h', 'N-FCC3h', 'N-FCC4h', 'N-FCC5h', 'N-FCC6h', 'N-FCz', 'N-FFC1h', 'N-FFC2h', 'N-FFC3h', 'N-FFC4h', 'N-FFC5h', 'N-FFC6h', 'N-FFT10h', 'N-FFT7h', 'N-FFT8h', 'N-FFT9h', 'N-FP2', 'N-FT10', 'N-FT7', 'N-FT8', 'N-FT9', 'N-FTT10h', 'N-FTT7h', 'N-FTT8h', 'N-FTT9h', 'N-Fp1', 'N-Fz', 'N-Iz', 'N-O1', 'N-O2', 'N-OI1h', 'N-OI2h', 'N-Oz', 'N-P1', 'N-P2', 'N-P3', 'N-P4', 'N-P5', 'N-P6', 'N-P7', 'N-P8', 'N-PO3', 'N-PO4', 'N-PO7', 'N-PO8', 'N-POO1', 'N-POO10h', 'N-POO2', 'N-POO9h', 'N-POz', 'N-PPO10h', 'N-PPO1h', 'N-PPO2h', 'N-PPO5h', 'N-PPO6h', 'N-PPO9h', 'N-Pz', 'N-T7', 'N-T8', 'N-TP7', 'N-TP8', 'N-TPP10h', 'N-TPP7h', 'N-TPP8h', 'N-TPP9h', 'N-TTP7h', 'N-TTP8h']\n",
      "  raw_eeg = mne.io.read_raw_eeglab(eeg_dirname + f'sub-{SUB_ID}_task-TableTennis_eeg.set', preload=True)\n",
      "/tmp/ipykernel_1842469/3764265414.py:10: RuntimeWarning: Estimated head radius (11.0 cm) is above the 99th percentile for adult head size. Check if the montage_units argument is correct (the default is \"mm\", but your channel positions may be in different units).\n",
      "  raw_eeg = mne.io.read_raw_eeglab(eeg_dirname + f'sub-{SUB_ID}_task-TableTennis_eeg.set', preload=True)\n",
      "/tmp/ipykernel_1842469/3764265414.py:10: RuntimeWarning: Data file name in EEG.data (sub-22_task-tabletennis_eeg.fdt) is incorrect, the file name must have changed on disk, using the correct file name (sub-22_task-TableTennis_eeg.fdt).\n",
      "  raw_eeg = mne.io.read_raw_eeglab(eeg_dirname + f'sub-{SUB_ID}_task-TableTennis_eeg.set', preload=True)\n"
     ]
    },
    {
     "name": "stdout",
     "output_type": "stream",
     "text": [
      "NOTE: pick_channels() is a legacy function. New code should use inst.pick(...).\n"
     ]
    },
    {
     "name": "stderr",
     "output_type": "stream",
     "text": [
      "/tmp/ipykernel_1842469/3764265414.py:10: RuntimeWarning: Omitted 1 annotation(s) that were outside data range.\n",
      "  raw_eeg = mne.io.read_raw_eeglab(eeg_dirname + f'sub-{SUB_ID}_task-TableTennis_eeg.set', preload=True)\n",
      "/tmp/ipykernel_1842469/3764265414.py:10: RuntimeWarning: The data contains 'boundary' events, indicating data discontinuities. Be cautious of filtering and epoching around these events.\n",
      "  raw_eeg = mne.io.read_raw_eeglab(eeg_dirname + f'sub-{SUB_ID}_task-TableTennis_eeg.set', preload=True)\n",
      "/tmp/ipykernel_1842469/3764265414.py:10: RuntimeWarning: Not setting positions of 8 emg channels found in montage:\n",
      "['LISCM', 'LSSCM', 'LSTrap', 'LITrap', 'RITrap', 'RISCM', 'RSSCM', 'RSTrap']\n",
      "Consider setting the channel types to be of EEG/sEEG/ECoG/DBS/fNIRS using inst.set_channel_types before calling inst.set_montage, or omit these channels when creating your montage.\n",
      "  raw_eeg = mne.io.read_raw_eeglab(eeg_dirname + f'sub-{SUB_ID}_task-TableTennis_eeg.set', preload=True)\n"
     ]
    },
    {
     "data": {
      "application/vnd.jupyter.widget-view+json": {
       "model_id": "c2330ce7895146bdb66b501d2f959562",
       "version_major": 2,
       "version_minor": 0
      },
      "text/plain": [
       "  0%|          | 0/51696 [00:00<?, ?it/s]"
      ]
     },
     "metadata": {},
     "output_type": "display_data"
    },
    {
     "name": "stdout",
     "output_type": "stream",
     "text": [
      "Reading /data/vladimiroved/realWorldTableTennis/sub-23/eeg/sub-23_task-TableTennis_eeg.fdt\n",
      "Reading 0 ... 1053820  =      0.000 ...  4215.280 secs...\n"
     ]
    },
    {
     "name": "stderr",
     "output_type": "stream",
     "text": [
      "/tmp/ipykernel_1842469/3764265414.py:10: RuntimeWarning: Unknown types found, setting as type EEG:\n",
      "acc: ['CGY-x', 'CGY-y', 'CGY-z', 'CWR-x', 'CWR-y', 'CWR-z', 'NGY-x', 'NGY-y', 'NGY-z', 'NWR-x', 'NWR-y', 'NWR-z']\n",
      "cometas: ['BallMachine_Acc_X(g)', 'BallMachine_Acc_Y(g)', 'BallMachine_Acc_Z(g)', 'IMU1_RMS', 'Imu_1 :W():', 'Imu_1 :X():', 'Imu_1 :Y():', 'Imu_1 :Z():', 'Imu_1_ImuGyro :X(D/s):', 'Imu_1_ImuGyro :Y(D/s):', 'Imu_1_ImuGyro :Z(D/s):', 'Imu_1_ImuMag :X(uT):', 'Imu_1_ImuMag :Y(uT):', 'Imu_1_ImuMag :Z(uT):', 'Imu_2 :W():', 'Imu_2 :X():', 'Imu_2 :Y():', 'Imu_2 :Z():', 'Imu_2_ImuGyro :X(D/s):', 'Imu_2_ImuGyro :Y(D/s):', 'Imu_2_ImuGyro :Z(D/s):', 'Imu_2_ImuMag :X(uT):', 'Imu_2_ImuMag :Y(uT):', 'Imu_2_ImuMag :Z(uT):', 'Imu_4 :W():', 'Imu_4 :X():', 'Imu_4 :Y():', 'Imu_4 :Z():', 'Imu_4_ImuGyro :X(D/s):', 'Imu_4_ImuGyro :Y(D/s):', 'Imu_4_ImuGyro :Z(D/s):', 'Imu_4_ImuMag :X(uT):', 'Imu_4_ImuMag :Y(uT):', 'Imu_4_ImuMag :Z(uT):', 'Imu_8 :W():', 'Imu_8 :X():', 'Imu_8 :Y():', 'Imu_8 :Z():', 'Imu_8_ImuGyro :X(D/s):', 'Imu_8_ImuGyro :Y(D/s):', 'Imu_8_ImuGyro :Z(D/s):', 'Imu_8_ImuMag :X(uT):', 'Imu_8_ImuMag :Y(uT):', 'Imu_8_ImuMag :Z(uT):', 'Net_Acc_X(g)', 'Net_Acc_Y(g)', 'Net_Acc_Z(g)', 'Participant_Backpack_Acc_X(g)', 'Participant_Backpack_Acc_Y(g)', 'Participant_Backpack_Acc_Z(g)', 'Participant_Head_Acc_X(g)', 'Participant_Head_Acc_Y(g)', 'Participant_Head_Acc_Z(g)', 'Participant_Paddle_Acc_X(g)', 'Participant_Paddle_Acc_Y(g)', 'Participant_Paddle_Acc_Z(g)', 'Researcher_Paddle_Acc_X(g)', 'Researcher_Paddle_Acc_Y(g)', 'Researcher_Paddle_Acc_Z(g)', 'SyncPulse(uV)', 'Table_OtherSide_Acc_X(g)', 'Table_OtherSide_Acc_Y(g)', 'Table_OtherSide_Acc_Z(g)', 'Table_ParticipantSide_Acc_X(g)', 'Table_ParticipantSide_Acc_Y(g)', 'Table_ParticipantSide_Acc_Z(g)']\n",
      "noise: ['N-AF3', 'N-AF4', 'N-AF7', 'N-AF8', 'N-AFF1h', 'N-AFF2h', 'N-AFF5h', 'N-AFF6h', 'N-AFp1', 'N-AFp2', 'N-AFz', 'N-C1', 'N-C2', 'N-C3', 'N-C4', 'N-C5', 'N-C6', 'N-CCP1h', 'N-CCP2h', 'N-CCP3h', 'N-CCP4h', 'N-CCP5h', 'N-CCP6h', 'N-CP1', 'N-CP2', 'N-CP3', 'N-CP4', 'N-CP5', 'N-CP6', 'N-CPP1h', 'N-CPP2h', 'N-CPP3h', 'N-CPP4h', 'N-CPP5h', 'N-CPP6h', 'N-Cz', 'N-F1', 'N-F10', 'N-F2', 'N-F3', 'N-F4', 'N-F5', 'N-F6', 'N-F7', 'N-F8', 'N-F9', 'N-FC1', 'N-FC2', 'N-FC3', 'N-FC4', 'N-FC5', 'N-FC6', 'N-FCC1h', 'N-FCC2h', 'N-FCC3h', 'N-FCC4h', 'N-FCC5h', 'N-FCC6h', 'N-FCz', 'N-FFC1h', 'N-FFC2h', 'N-FFC3h', 'N-FFC4h', 'N-FFC5h', 'N-FFC6h', 'N-FFT10h', 'N-FFT7h', 'N-FFT8h', 'N-FFT9h', 'N-FP2', 'N-FT10', 'N-FT7', 'N-FT8', 'N-FT9', 'N-FTT10h', 'N-FTT7h', 'N-FTT8h', 'N-FTT9h', 'N-Fp1', 'N-Fz', 'N-Iz', 'N-O1', 'N-O2', 'N-OI1h', 'N-OI2h', 'N-Oz', 'N-P1', 'N-P2', 'N-P3', 'N-P4', 'N-P5', 'N-P6', 'N-P7', 'N-P8', 'N-PO3', 'N-PO4', 'N-PO7', 'N-PO8', 'N-POO1', 'N-POO10h', 'N-POO2', 'N-POO9h', 'N-POz', 'N-PPO10h', 'N-PPO1h', 'N-PPO2h', 'N-PPO5h', 'N-PPO6h', 'N-PPO9h', 'N-Pz', 'N-T7', 'N-T8', 'N-TP7', 'N-TP8', 'N-TPP10h', 'N-TPP7h', 'N-TPP8h', 'N-TPP9h', 'N-TTP7h', 'N-TTP8h']\n",
      "  raw_eeg = mne.io.read_raw_eeglab(eeg_dirname + f'sub-{SUB_ID}_task-TableTennis_eeg.set', preload=True)\n",
      "/tmp/ipykernel_1842469/3764265414.py:10: RuntimeWarning: Estimated head radius (12.2 cm) is above the 99th percentile for adult head size. Check if the montage_units argument is correct (the default is \"mm\", but your channel positions may be in different units).\n",
      "  raw_eeg = mne.io.read_raw_eeglab(eeg_dirname + f'sub-{SUB_ID}_task-TableTennis_eeg.set', preload=True)\n",
      "/tmp/ipykernel_1842469/3764265414.py:10: RuntimeWarning: Data file name in EEG.data (sub-23_task-tabletennis_eeg.fdt) is incorrect, the file name must have changed on disk, using the correct file name (sub-23_task-TableTennis_eeg.fdt).\n",
      "  raw_eeg = mne.io.read_raw_eeglab(eeg_dirname + f'sub-{SUB_ID}_task-TableTennis_eeg.set', preload=True)\n"
     ]
    },
    {
     "name": "stdout",
     "output_type": "stream",
     "text": [
      "NOTE: pick_channels() is a legacy function. New code should use inst.pick(...).\n"
     ]
    },
    {
     "name": "stderr",
     "output_type": "stream",
     "text": [
      "/tmp/ipykernel_1842469/3764265414.py:10: RuntimeWarning: Omitted 1 annotation(s) that were outside data range.\n",
      "  raw_eeg = mne.io.read_raw_eeglab(eeg_dirname + f'sub-{SUB_ID}_task-TableTennis_eeg.set', preload=True)\n",
      "/tmp/ipykernel_1842469/3764265414.py:10: RuntimeWarning: The data contains 'boundary' events, indicating data discontinuities. Be cautious of filtering and epoching around these events.\n",
      "  raw_eeg = mne.io.read_raw_eeglab(eeg_dirname + f'sub-{SUB_ID}_task-TableTennis_eeg.set', preload=True)\n",
      "/tmp/ipykernel_1842469/3764265414.py:10: RuntimeWarning: Not setting positions of 8 emg channels found in montage:\n",
      "['LISCM', 'LSSCM', 'LSTrap', 'LITrap', 'RITrap', 'RISCM', 'RSSCM', 'RSTrap']\n",
      "Consider setting the channel types to be of EEG/sEEG/ECoG/DBS/fNIRS using inst.set_channel_types before calling inst.set_montage, or omit these channels when creating your montage.\n",
      "  raw_eeg = mne.io.read_raw_eeglab(eeg_dirname + f'sub-{SUB_ID}_task-TableTennis_eeg.set', preload=True)\n"
     ]
    },
    {
     "data": {
      "application/vnd.jupyter.widget-view+json": {
       "model_id": "e8ebf240b7d247a89f1ce5eec51393a6",
       "version_major": 2,
       "version_minor": 0
      },
      "text/plain": [
       "  0%|          | 0/69728 [00:00<?, ?it/s]"
      ]
     },
     "metadata": {},
     "output_type": "display_data"
    },
    {
     "name": "stdout",
     "output_type": "stream",
     "text": [
      "Reading /data/vladimiroved/realWorldTableTennis/sub-24/eeg/sub-24_task-TableTennis_eeg.fdt\n",
      "Reading 0 ... 1146790  =      0.000 ...  4587.160 secs...\n"
     ]
    },
    {
     "name": "stderr",
     "output_type": "stream",
     "text": [
      "/tmp/ipykernel_1842469/3764265414.py:10: RuntimeWarning: Unknown types found, setting as type EEG:\n",
      "acc: ['CGY-x', 'CGY-y', 'CGY-z', 'CWR-x', 'CWR-y', 'CWR-z', 'NGY-x', 'NGY-y', 'NGY-z', 'NWR-x', 'NWR-y', 'NWR-z']\n",
      "cometas: ['BallMachine_Acc_X(g)', 'BallMachine_Acc_Y(g)', 'BallMachine_Acc_Z(g)', 'IMU1_RMS', 'IMU8_RMS', 'Imu_1 :W():', 'Imu_1 :X():', 'Imu_1 :Y():', 'Imu_1 :Z():', 'Imu_1_ImuGyro :X(D/s):', 'Imu_1_ImuGyro :Y(D/s):', 'Imu_1_ImuGyro :Z(D/s):', 'Imu_1_ImuMag :X(uT):', 'Imu_1_ImuMag :Y(uT):', 'Imu_1_ImuMag :Z(uT):', 'Imu_2 :W():', 'Imu_2 :X():', 'Imu_2 :Y():', 'Imu_2 :Z():', 'Imu_2_ImuGyro :X(D/s):', 'Imu_2_ImuGyro :Y(D/s):', 'Imu_2_ImuGyro :Z(D/s):', 'Imu_2_ImuMag :X(uT):', 'Imu_2_ImuMag :Y(uT):', 'Imu_2_ImuMag :Z(uT):', 'Imu_4 :W():', 'Imu_4 :X():', 'Imu_4 :Y():', 'Imu_4 :Z():', 'Imu_4_ImuGyro :X(D/s):', 'Imu_4_ImuGyro :Y(D/s):', 'Imu_4_ImuGyro :Z(D/s):', 'Imu_4_ImuMag :X(uT):', 'Imu_4_ImuMag :Y(uT):', 'Imu_4_ImuMag :Z(uT):', 'Imu_8 :W():', 'Imu_8 :X():', 'Imu_8 :Y():', 'Imu_8 :Z():', 'Imu_8_ImuGyro :X(D/s):', 'Imu_8_ImuGyro :Y(D/s):', 'Imu_8_ImuGyro :Z(D/s):', 'Imu_8_ImuMag :X(uT):', 'Imu_8_ImuMag :Y(uT):', 'Imu_8_ImuMag :Z(uT):', 'Net_Acc_X(g)', 'Net_Acc_Y(g)', 'Net_Acc_Z(g)', 'Participant_Backpack_Acc_X(g)', 'Participant_Backpack_Acc_Y(g)', 'Participant_Backpack_Acc_Z(g)', 'Participant_Head_Acc_X(g)', 'Participant_Head_Acc_Y(g)', 'Participant_Head_Acc_Z(g)', 'Participant_Paddle_Acc_X(g)', 'Participant_Paddle_Acc_Y(g)', 'Participant_Paddle_Acc_Z(g)', 'Researcher_Paddle_Acc_X(g)', 'Researcher_Paddle_Acc_Y(g)', 'Researcher_Paddle_Acc_Z(g)', 'SyncPulse(uV)', 'Table_OtherSide_Acc_X(g)', 'Table_OtherSide_Acc_Y(g)', 'Table_OtherSide_Acc_Z(g)', 'Table_ParticipantSide_Acc_X(g)', 'Table_ParticipantSide_Acc_Y(g)', 'Table_ParticipantSide_Acc_Z(g)']\n",
      "noise: ['N-AF3', 'N-AF4', 'N-AF7', 'N-AF8', 'N-AFF1h', 'N-AFF2h', 'N-AFF5h', 'N-AFF6h', 'N-AFp1', 'N-AFp2', 'N-AFz', 'N-C1', 'N-C2', 'N-C3', 'N-C4', 'N-C5', 'N-C6', 'N-CCP1h', 'N-CCP2h', 'N-CCP3h', 'N-CCP4h', 'N-CCP5h', 'N-CCP6h', 'N-CP1', 'N-CP2', 'N-CP3', 'N-CP4', 'N-CP5', 'N-CP6', 'N-CPP1h', 'N-CPP2h', 'N-CPP3h', 'N-CPP4h', 'N-CPP5h', 'N-CPP6h', 'N-Cz', 'N-F1', 'N-F10', 'N-F2', 'N-F3', 'N-F4', 'N-F5', 'N-F6', 'N-F7', 'N-F8', 'N-F9', 'N-FC1', 'N-FC2', 'N-FC3', 'N-FC4', 'N-FC5', 'N-FC6', 'N-FCC1h', 'N-FCC2h', 'N-FCC3h', 'N-FCC4h', 'N-FCC5h', 'N-FCC6h', 'N-FCz', 'N-FFC1h', 'N-FFC2h', 'N-FFC3h', 'N-FFC4h', 'N-FFC5h', 'N-FFC6h', 'N-FFT10h', 'N-FFT7h', 'N-FFT8h', 'N-FFT9h', 'N-FP2', 'N-FT10', 'N-FT7', 'N-FT8', 'N-FT9', 'N-FTT10h', 'N-FTT7h', 'N-FTT8h', 'N-FTT9h', 'N-Fp1', 'N-Fz', 'N-Iz', 'N-O1', 'N-O2', 'N-OI1h', 'N-OI2h', 'N-Oz', 'N-P1', 'N-P2', 'N-P3', 'N-P4', 'N-P5', 'N-P6', 'N-P7', 'N-P8', 'N-PO3', 'N-PO4', 'N-PO7', 'N-PO8', 'N-POO1', 'N-POO10h', 'N-POO2', 'N-POO9h', 'N-POz', 'N-PPO10h', 'N-PPO1h', 'N-PPO2h', 'N-PPO5h', 'N-PPO6h', 'N-PPO9h', 'N-Pz', 'N-T7', 'N-T8', 'N-TP7', 'N-TP8', 'N-TPP10h', 'N-TPP7h', 'N-TPP8h', 'N-TPP9h', 'N-TTP7h', 'N-TTP8h']\n",
      "  raw_eeg = mne.io.read_raw_eeglab(eeg_dirname + f'sub-{SUB_ID}_task-TableTennis_eeg.set', preload=True)\n",
      "/tmp/ipykernel_1842469/3764265414.py:10: RuntimeWarning: Data file name in EEG.data (sub-24_task-tabletennis_eeg.fdt) is incorrect, the file name must have changed on disk, using the correct file name (sub-24_task-TableTennis_eeg.fdt).\n",
      "  raw_eeg = mne.io.read_raw_eeglab(eeg_dirname + f'sub-{SUB_ID}_task-TableTennis_eeg.set', preload=True)\n"
     ]
    },
    {
     "name": "stdout",
     "output_type": "stream",
     "text": [
      "NOTE: pick_channels() is a legacy function. New code should use inst.pick(...).\n"
     ]
    },
    {
     "name": "stderr",
     "output_type": "stream",
     "text": [
      "/tmp/ipykernel_1842469/3764265414.py:10: RuntimeWarning: Omitted 1 annotation(s) that were outside data range.\n",
      "  raw_eeg = mne.io.read_raw_eeglab(eeg_dirname + f'sub-{SUB_ID}_task-TableTennis_eeg.set', preload=True)\n",
      "/tmp/ipykernel_1842469/3764265414.py:10: RuntimeWarning: The data contains 'boundary' events, indicating data discontinuities. Be cautious of filtering and epoching around these events.\n",
      "  raw_eeg = mne.io.read_raw_eeglab(eeg_dirname + f'sub-{SUB_ID}_task-TableTennis_eeg.set', preload=True)\n",
      "/tmp/ipykernel_1842469/3764265414.py:10: RuntimeWarning: Not setting positions of 8 emg channels found in montage:\n",
      "['LISCM', 'LSSCM', 'LSTrap', 'LITrap', 'RITrap', 'RISCM', 'RSSCM', 'RSTrap']\n",
      "Consider setting the channel types to be of EEG/sEEG/ECoG/DBS/fNIRS using inst.set_channel_types before calling inst.set_montage, or omit these channels when creating your montage.\n",
      "  raw_eeg = mne.io.read_raw_eeglab(eeg_dirname + f'sub-{SUB_ID}_task-TableTennis_eeg.set', preload=True)\n"
     ]
    },
    {
     "data": {
      "application/vnd.jupyter.widget-view+json": {
       "model_id": "fbca7691005d4960b21f62a9d3edcd00",
       "version_major": 2,
       "version_minor": 0
      },
      "text/plain": [
       "  0%|          | 0/342 [00:00<?, ?it/s]"
      ]
     },
     "metadata": {},
     "output_type": "display_data"
    },
    {
     "name": "stdout",
     "output_type": "stream",
     "text": [
      "Reading /data/vladimiroved/realWorldTableTennis/sub-25/eeg/sub-25_task-TableTennis_eeg.fdt\n",
      "Reading 0 ... 877573  =      0.000 ...  3510.292 secs...\n"
     ]
    },
    {
     "name": "stderr",
     "output_type": "stream",
     "text": [
      "/tmp/ipykernel_1842469/3764265414.py:10: RuntimeWarning: Unknown types found, setting as type EEG:\n",
      "acc: ['CGY-x', 'CGY-y', 'CGY-z', 'CWR-x', 'CWR-y', 'CWR-z', 'NGY-x', 'NGY-y', 'NGY-z', 'NWR-x', 'NWR-y', 'NWR-z']\n",
      "cometas: ['BallMachine_Acc_X(g)', 'BallMachine_Acc_Y(g)', 'BallMachine_Acc_Z(g)', 'IMU1_RMS', 'IMU8_RMS', 'Imu_1 :W():', 'Imu_1 :X():', 'Imu_1 :Y():', 'Imu_1 :Z():', 'Imu_1_ImuGyro :X(D/s):', 'Imu_1_ImuGyro :Y(D/s):', 'Imu_1_ImuGyro :Z(D/s):', 'Imu_1_ImuMag :X(uT):', 'Imu_1_ImuMag :Y(uT):', 'Imu_1_ImuMag :Z(uT):', 'Imu_2 :W():', 'Imu_2 :X():', 'Imu_2 :Y():', 'Imu_2 :Z():', 'Imu_2_ImuGyro :X(D/s):', 'Imu_2_ImuGyro :Y(D/s):', 'Imu_2_ImuGyro :Z(D/s):', 'Imu_2_ImuMag :X(uT):', 'Imu_2_ImuMag :Y(uT):', 'Imu_2_ImuMag :Z(uT):', 'Imu_4 :W():', 'Imu_4 :X():', 'Imu_4 :Y():', 'Imu_4 :Z():', 'Imu_4_ImuGyro :X(D/s):', 'Imu_4_ImuGyro :Y(D/s):', 'Imu_4_ImuGyro :Z(D/s):', 'Imu_4_ImuMag :X(uT):', 'Imu_4_ImuMag :Y(uT):', 'Imu_4_ImuMag :Z(uT):', 'Imu_8 :W():', 'Imu_8 :X():', 'Imu_8 :Y():', 'Imu_8 :Z():', 'Imu_8_ImuGyro :X(D/s):', 'Imu_8_ImuGyro :Y(D/s):', 'Imu_8_ImuGyro :Z(D/s):', 'Imu_8_ImuMag :X(uT):', 'Imu_8_ImuMag :Y(uT):', 'Imu_8_ImuMag :Z(uT):', 'Imu_9 :W():', 'Imu_9 :X():', 'Imu_9 :Y():', 'Imu_9 :Z():', 'Imu_9_ImuGyro :X(D/s):', 'Imu_9_ImuGyro :Y(D/s):', 'Imu_9_ImuGyro :Z(D/s):', 'Imu_9_ImuMag :X(uT):', 'Imu_9_ImuMag :Y(uT):', 'Imu_9_ImuMag :Z(uT):', 'Net_Acc_X(g)', 'Net_Acc_Y(g)', 'Net_Acc_Z(g)', 'Participant_Backpack_Acc_X(g)', 'Participant_Backpack_Acc_Y(g)', 'Participant_Backpack_Acc_Z(g)', 'Participant_Head_Acc_X(g)', 'Participant_Head_Acc_Y(g)', 'Participant_Head_Acc_Z(g)', 'Participant_Paddle_Acc_X(g)', 'Participant_Paddle_Acc_Y(g)', 'Participant_Paddle_Acc_Z(g)', 'Participant_Torso_Acc_X(g)', 'Participant_Torso_Acc_Y(g)', 'Participant_Torso_Acc_Z(g)', 'Researcher_Paddle_Acc_X(g)', 'Researcher_Paddle_Acc_Y(g)', 'Researcher_Paddle_Acc_Z(g)', 'SyncPulse(uV)', 'Table_OtherSide_Acc_X(g)', 'Table_OtherSide_Acc_Y(g)', 'Table_OtherSide_Acc_Z(g)', 'Table_ParticipantSide_Acc_X(g)', 'Table_ParticipantSide_Acc_Y(g)', 'Table_ParticipantSide_Acc_Z(g)']\n",
      "noise: ['N-AF3', 'N-AF4', 'N-AF7', 'N-AF8', 'N-AFF1h', 'N-AFF2h', 'N-AFF5h', 'N-AFF6h', 'N-AFp1', 'N-AFp2', 'N-AFz', 'N-C1', 'N-C2', 'N-C3', 'N-C4', 'N-C5', 'N-C6', 'N-CCP1h', 'N-CCP2h', 'N-CCP3h', 'N-CCP4h', 'N-CCP5h', 'N-CCP6h', 'N-CP1', 'N-CP2', 'N-CP3', 'N-CP4', 'N-CP5', 'N-CP6', 'N-CPP1h', 'N-CPP2h', 'N-CPP3h', 'N-CPP4h', 'N-CPP5h', 'N-CPP6h', 'N-Cz', 'N-F1', 'N-F10', 'N-F2', 'N-F3', 'N-F4', 'N-F5', 'N-F6', 'N-F7', 'N-F8', 'N-F9', 'N-FC1', 'N-FC2', 'N-FC3', 'N-FC4', 'N-FC5', 'N-FC6', 'N-FCC1h', 'N-FCC2h', 'N-FCC3h', 'N-FCC4h', 'N-FCC5h', 'N-FCC6h', 'N-FCz', 'N-FFC1h', 'N-FFC2h', 'N-FFC3h', 'N-FFC4h', 'N-FFC5h', 'N-FFC6h', 'N-FFT10h', 'N-FFT7h', 'N-FFT8h', 'N-FFT9h', 'N-FP2', 'N-FT10', 'N-FT7', 'N-FT8', 'N-FT9', 'N-FTT10h', 'N-FTT7h', 'N-FTT8h', 'N-FTT9h', 'N-Fp1', 'N-Fz', 'N-Iz', 'N-O1', 'N-O2', 'N-OI1h', 'N-OI2h', 'N-Oz', 'N-P1', 'N-P2', 'N-P3', 'N-P4', 'N-P5', 'N-P6', 'N-P7', 'N-P8', 'N-PO3', 'N-PO4', 'N-PO7', 'N-PO8', 'N-POO1', 'N-POO10h', 'N-POO2', 'N-POO9h', 'N-POz', 'N-PPO10h', 'N-PPO1h', 'N-PPO2h', 'N-PPO5h', 'N-PPO6h', 'N-PPO9h', 'N-Pz', 'N-T7', 'N-T8', 'N-TP7', 'N-TP8', 'N-TPP10h', 'N-TPP7h', 'N-TPP8h', 'N-TPP9h', 'N-TTP7h', 'N-TTP8h']\n",
      "  raw_eeg = mne.io.read_raw_eeglab(eeg_dirname + f'sub-{SUB_ID}_task-TableTennis_eeg.set', preload=True)\n",
      "/tmp/ipykernel_1842469/3764265414.py:10: RuntimeWarning: Estimated head radius (12.1 cm) is above the 99th percentile for adult head size. Check if the montage_units argument is correct (the default is \"mm\", but your channel positions may be in different units).\n",
      "  raw_eeg = mne.io.read_raw_eeglab(eeg_dirname + f'sub-{SUB_ID}_task-TableTennis_eeg.set', preload=True)\n",
      "/tmp/ipykernel_1842469/3764265414.py:10: RuntimeWarning: Data file name in EEG.data (sub-25_task-tabletennis_eeg.fdt) is incorrect, the file name must have changed on disk, using the correct file name (sub-25_task-TableTennis_eeg.fdt).\n",
      "  raw_eeg = mne.io.read_raw_eeglab(eeg_dirname + f'sub-{SUB_ID}_task-TableTennis_eeg.set', preload=True)\n"
     ]
    },
    {
     "name": "stdout",
     "output_type": "stream",
     "text": [
      "NOTE: pick_channels() is a legacy function. New code should use inst.pick(...).\n"
     ]
    },
    {
     "name": "stderr",
     "output_type": "stream",
     "text": [
      "/tmp/ipykernel_1842469/3764265414.py:10: RuntimeWarning: Omitted 1 annotation(s) that were outside data range.\n",
      "  raw_eeg = mne.io.read_raw_eeglab(eeg_dirname + f'sub-{SUB_ID}_task-TableTennis_eeg.set', preload=True)\n",
      "/tmp/ipykernel_1842469/3764265414.py:10: RuntimeWarning: The data contains 'boundary' events, indicating data discontinuities. Be cautious of filtering and epoching around these events.\n",
      "  raw_eeg = mne.io.read_raw_eeglab(eeg_dirname + f'sub-{SUB_ID}_task-TableTennis_eeg.set', preload=True)\n",
      "/tmp/ipykernel_1842469/3764265414.py:10: RuntimeWarning: Not setting positions of 8 emg channels found in montage:\n",
      "['LISCM', 'LSSCM', 'LSTrap', 'LITrap', 'RITrap', 'RISCM', 'RSSCM', 'RSTrap']\n",
      "Consider setting the channel types to be of EEG/sEEG/ECoG/DBS/fNIRS using inst.set_channel_types before calling inst.set_montage, or omit these channels when creating your montage.\n",
      "  raw_eeg = mne.io.read_raw_eeglab(eeg_dirname + f'sub-{SUB_ID}_task-TableTennis_eeg.set', preload=True)\n"
     ]
    },
    {
     "data": {
      "application/vnd.jupyter.widget-view+json": {
       "model_id": "8a745d425d314d67b6663acf868cf9fb",
       "version_major": 2,
       "version_minor": 0
      },
      "text/plain": [
       "  0%|          | 0/36255 [00:00<?, ?it/s]"
      ]
     },
     "metadata": {},
     "output_type": "display_data"
    }
   ],
   "source": [
    "!mkdir -p ball-machine/shifts_v3\n",
    "SUB_IDS = ['0' * (n < 10) + str(n) for n in range(1, 26)]\n",
    "\n",
    "for SUB_ID in tqdm(SUB_IDS):\n",
    "    eeg_dirname = os.path.join(DATA_PATH, f'sub-{SUB_ID}', 'eeg/')\n",
    "    \n",
    "    channels_df = pd.read_csv(eeg_dirname + f'sub-{SUB_ID}_task-TableTennis_channels.tsv', sep='\\t')\n",
    "    events_df = pd.read_csv(eeg_dirname + f'sub-{SUB_ID}_task-TableTennis_events.tsv', sep='\\t')\n",
    "    \n",
    "    raw_eeg = mne.io.read_raw_eeglab(eeg_dirname + f'sub-{SUB_ID}_task-TableTennis_eeg.set', preload=True)\n",
    "\n",
    "    events_subdf = events_df\\\n",
    "        .query(\"value == 'Subject_hit'\")\\\n",
    "        .query(\"trial_type in ('moving_hit', 'stationary_hit', 'moving_serve', 'stationary_serve')\")\n",
    "    \n",
    "    acc_channels = [\n",
    "        'Participant_Paddle_Acc_X(g)',\n",
    "        'Participant_Paddle_Acc_Y(g)',\n",
    "        'Participant_Paddle_Acc_Z(g)'\n",
    "    ]\n",
    "    acc_data = raw_eeg.pick_channels(acc_channels)\n",
    "    acc_values = acc_data.get_data()\n",
    "    acc_ttl_data = np.sqrt(np.sum(np.square(acc_values), axis=0))\n",
    "    \n",
    "    labels_data = np.zeros_like(acc_ttl_data)\n",
    "    hit_indices = (events_subdf['sample'] + 0.5).astype(int)\n",
    "    labels_data[hit_indices.values] = 1\n",
    "\n",
    "    max_shift = acc_ttl_data.size - events_df['sample'].astype(int).max()\n",
    "\n",
    "    def calculate_corr(i):\n",
    "        return np.corrcoef(acc_ttl_data[i:], labels_data[:labels_data.size-i])[0, 1]\n",
    "    \n",
    "    with Pool() as pool:\n",
    "        similarity_arr = list(tqdm(pool.imap(calculate_corr, range(max_shift)), total=max_shift))\n",
    "\n",
    "    sessions_arr = get_sessions_range(events_subdf)\n",
    "    peaks_arr = find_k_peaks(np.argsort(similarity_arr)[::-1], k=len(sessions_arr))\n",
    "    \n",
    "    np.savez_compressed(\n",
    "        f'ball-machine/shifts_v3/{SUB_ID}.npz',\n",
    "        sessions=sessions_arr,\n",
    "        peaks=peaks_arr,\n",
    "    )\n",
    "    \n",
    "    gc.collect()"
   ]
  },
  {
   "cell_type": "markdown",
   "id": "99ec75b5-b216-42b0-8c66-1330df35dcfd",
   "metadata": {},
   "source": [
    "#### Variant 4\n",
    "\n",
    "\n",
    "1. Find k sessions timesteps\n",
    "2. Calculate shift array for each session with researcher (k shift arrays in total)\n",
    "3. Find 1 peak for each shift array\n",
    "4. Map session to peak in ascending order"
   ]
  },
  {
   "cell_type": "code",
   "execution_count": 94,
   "id": "1b965a6f-8363-491f-b698-3f410d64a69c",
   "metadata": {
    "scrolled": true
   },
   "outputs": [
    {
     "data": {
      "application/vnd.jupyter.widget-view+json": {
       "model_id": "f184de03569142d19b45c9a6f139c230",
       "version_major": 2,
       "version_minor": 0
      },
      "text/plain": [
       "  0%|          | 0/25 [00:00<?, ?it/s]"
      ]
     },
     "metadata": {},
     "output_type": "display_data"
    },
    {
     "name": "stdout",
     "output_type": "stream",
     "text": [
      "Reading /data/vladimiroved/realWorldTableTennis/sub-01/eeg/sub-01_task-TableTennis_eeg.fdt\n",
      "Reading 0 ... 785327  =      0.000 ...  3141.308 secs...\n"
     ]
    },
    {
     "name": "stderr",
     "output_type": "stream",
     "text": [
      "/tmp/ipykernel_1842469/1458919944.py:12: RuntimeWarning: Unknown types found, setting as type EEG:\n",
      "acc: ['CGY-x', 'CGY-y', 'CGY-z', 'CWR-x', 'CWR-y', 'CWR-z', 'NGY-x', 'NGY-y', 'NGY-z', 'NWR-x', 'NWR-y', 'NWR-z']\n",
      "cometas: ['BallMachine_Acc_X(g)', 'BallMachine_Acc_Y(g)', 'BallMachine_Acc_Z(g)', 'Participant_Paddle_Acc_X(g)', 'Participant_Paddle_Acc_Y(g)', 'Participant_Paddle_Acc_Z(g)', 'Researcher_Paddle_Acc_X(g)', 'Researcher_Paddle_Acc_Y(g)', 'Researcher_Paddle_Acc_Z(g)', 'SyncPulse(uV)']\n",
      "noise: ['N-AF3', 'N-AF4', 'N-AF7', 'N-AF8', 'N-AFF1h', 'N-AFF2h', 'N-AFF5h', 'N-AFF6h', 'N-AFp1', 'N-AFp2', 'N-AFz', 'N-C1', 'N-C2', 'N-C3', 'N-C4', 'N-C5', 'N-C6', 'N-CCP1h', 'N-CCP2h', 'N-CCP3h', 'N-CCP4h', 'N-CCP5h', 'N-CCP6h', 'N-CP1', 'N-CP2', 'N-CP3', 'N-CP4', 'N-CP5', 'N-CP6', 'N-CPP1h', 'N-CPP2h', 'N-CPP3h', 'N-CPP4h', 'N-CPP5h', 'N-CPP6h', 'N-Cz', 'N-F1', 'N-F10', 'N-F2', 'N-F3', 'N-F4', 'N-F5', 'N-F6', 'N-F7', 'N-F8', 'N-F9', 'N-FC1', 'N-FC2', 'N-FC3', 'N-FC4', 'N-FC5', 'N-FC6', 'N-FCC1h', 'N-FCC2h', 'N-FCC3h', 'N-FCC4h', 'N-FCC5h', 'N-FCC6h', 'N-FCz', 'N-FFC1h', 'N-FFC2h', 'N-FFC3h', 'N-FFC4h', 'N-FFC5h', 'N-FFC6h', 'N-FFT10h', 'N-FFT7h', 'N-FFT8h', 'N-FFT9h', 'N-FP2', 'N-FT10', 'N-FT7', 'N-FT8', 'N-FT9', 'N-FTT10h', 'N-FTT7h', 'N-FTT8h', 'N-FTT9h', 'N-Fp1', 'N-Fz', 'N-Iz', 'N-O1', 'N-O2', 'N-O9', 'N-OI1h', 'N-OI2h', 'N-Oz', 'N-P1', 'N-P2', 'N-P3', 'N-P4', 'N-P5', 'N-P6', 'N-P7', 'N-P8', 'N-PO3', 'N-PO4', 'N-PO7', 'N-PO8', 'N-POO1', 'N-POO10h', 'N-POO2', 'N-POz', 'N-PPO10h', 'N-PPO1h', 'N-PPO2h', 'N-PPO5h', 'N-PPO6h', 'N-PPO9h', 'N-Pz', 'N-T7', 'N-T8', 'N-TP7', 'N-TP8', 'N-TPP10h', 'N-TPP7h', 'N-TPP8h', 'N-TPP9h', 'N-TTP7h', 'N-TTP8h']\n",
      "  raw_eeg = mne.io.read_raw_eeglab(eeg_dirname + f'sub-{SUB_ID}_task-TableTennis_eeg.set', preload=True)\n",
      "/tmp/ipykernel_1842469/1458919944.py:12: RuntimeWarning: Estimated head radius (11.1 cm) is above the 99th percentile for adult head size. Check if the montage_units argument is correct (the default is \"mm\", but your channel positions may be in different units).\n",
      "  raw_eeg = mne.io.read_raw_eeglab(eeg_dirname + f'sub-{SUB_ID}_task-TableTennis_eeg.set', preload=True)\n",
      "/tmp/ipykernel_1842469/1458919944.py:12: RuntimeWarning: Data file name in EEG.data (sub-01_task-tabletennis_eeg.fdt) is incorrect, the file name must have changed on disk, using the correct file name (sub-01_task-TableTennis_eeg.fdt).\n",
      "  raw_eeg = mne.io.read_raw_eeglab(eeg_dirname + f'sub-{SUB_ID}_task-TableTennis_eeg.set', preload=True)\n"
     ]
    },
    {
     "name": "stdout",
     "output_type": "stream",
     "text": [
      "NOTE: pick_channels() is a legacy function. New code should use inst.pick(...).\n"
     ]
    },
    {
     "name": "stderr",
     "output_type": "stream",
     "text": [
      "/tmp/ipykernel_1842469/1458919944.py:12: RuntimeWarning: Omitted 1 annotation(s) that were outside data range.\n",
      "  raw_eeg = mne.io.read_raw_eeglab(eeg_dirname + f'sub-{SUB_ID}_task-TableTennis_eeg.set', preload=True)\n",
      "/tmp/ipykernel_1842469/1458919944.py:12: RuntimeWarning: The data contains 'boundary' events, indicating data discontinuities. Be cautious of filtering and epoching around these events.\n",
      "  raw_eeg = mne.io.read_raw_eeglab(eeg_dirname + f'sub-{SUB_ID}_task-TableTennis_eeg.set', preload=True)\n",
      "/tmp/ipykernel_1842469/1458919944.py:12: RuntimeWarning: Not setting positions of 8 emg channels found in montage:\n",
      "['LISCM', 'LSSCM', 'LSTrap', 'LITrap', 'RITrap', 'RISCM', 'RSSCM', 'RSTrap']\n",
      "Consider setting the channel types to be of EEG/sEEG/ECoG/DBS/fNIRS using inst.set_channel_types before calling inst.set_montage, or omit these channels when creating your montage.\n",
      "  raw_eeg = mne.io.read_raw_eeglab(eeg_dirname + f'sub-{SUB_ID}_task-TableTennis_eeg.set', preload=True)\n"
     ]
    },
    {
     "data": {
      "application/vnd.jupyter.widget-view+json": {
       "model_id": "ab91e2ff9524494cbae20e40d11c6e2a",
       "version_major": 2,
       "version_minor": 0
      },
      "text/plain": [
       "  0%|          | 0/88709 [00:00<?, ?it/s]"
      ]
     },
     "metadata": {},
     "output_type": "display_data"
    },
    {
     "data": {
      "application/vnd.jupyter.widget-view+json": {
       "model_id": "4cd77e7ced57488e87aeb1d27f59c6f0",
       "version_major": 2,
       "version_minor": 0
      },
      "text/plain": [
       "  0%|          | 0/88709 [00:00<?, ?it/s]"
      ]
     },
     "metadata": {},
     "output_type": "display_data"
    },
    {
     "name": "stdout",
     "output_type": "stream",
     "text": [
      "Reading /data/vladimiroved/realWorldTableTennis/sub-02/eeg/sub-02_task-TableTennis_eeg.fdt\n",
      "Reading 0 ... 1364632  =      0.000 ...  5458.528 secs...\n"
     ]
    },
    {
     "name": "stderr",
     "output_type": "stream",
     "text": [
      "/tmp/ipykernel_1842469/1458919944.py:12: RuntimeWarning: Unknown types found, setting as type EEG:\n",
      "acc: ['CGY-x', 'CGY-y', 'CGY-z', 'CWR-x', 'CWR-y', 'CWR-z', 'NGY-x', 'NGY-y', 'NGY-z', 'NWR-x', 'NWR-y', 'NWR-z']\n",
      "cometas: ['BallMachine_Acc_X(g)', 'BallMachine_Acc_Y(g)', 'BallMachine_Acc_Z(g)', 'Participant_Paddle_Acc_X(g)', 'Participant_Paddle_Acc_Y(g)', 'Participant_Paddle_Acc_Z(g)', 'Researcher_Paddle_Acc_X(g)', 'Researcher_Paddle_Acc_Y(g)', 'Researcher_Paddle_Acc_Z(g)', 'SyncPulse(uV)']\n",
      "noise: ['N-AF3', 'N-AF4', 'N-AF7', 'N-AF8', 'N-AFF1h', 'N-AFF2h', 'N-AFF5h', 'N-AFF6h', 'N-AFp1', 'N-AFp2', 'N-AFz', 'N-C1', 'N-C2', 'N-C3', 'N-C4', 'N-C5', 'N-C6', 'N-CCP1h', 'N-CCP2h', 'N-CCP3h', 'N-CCP4h', 'N-CCP5h', 'N-CCP6h', 'N-CP1', 'N-CP2', 'N-CP3', 'N-CP4', 'N-CP5', 'N-CP6', 'N-CPP1h', 'N-CPP2h', 'N-CPP3h', 'N-CPP4h', 'N-CPP5h', 'N-CPP6h', 'N-Cz', 'N-F1', 'N-F10', 'N-F2', 'N-F3', 'N-F4', 'N-F5', 'N-F6', 'N-F7', 'N-F8', 'N-F9', 'N-FC1', 'N-FC2', 'N-FC3', 'N-FC4', 'N-FC5', 'N-FC6', 'N-FCC1h', 'N-FCC2h', 'N-FCC3h', 'N-FCC4h', 'N-FCC5h', 'N-FCC6h', 'N-FCz', 'N-FFC1h', 'N-FFC2h', 'N-FFC3h', 'N-FFC4h', 'N-FFC5h', 'N-FFC6h', 'N-FFT10h', 'N-FFT7h', 'N-FFT8h', 'N-FFT9h', 'N-FP2', 'N-FT10', 'N-FT7', 'N-FT8', 'N-FT9', 'N-FTT10h', 'N-FTT7h', 'N-FTT8h', 'N-FTT9h', 'N-Fp1', 'N-Fz', 'N-Iz', 'N-O1', 'N-O2', 'N-O9', 'N-OI1h', 'N-OI2h', 'N-Oz', 'N-P1', 'N-P2', 'N-P3', 'N-P4', 'N-P5', 'N-P6', 'N-P7', 'N-P8', 'N-PO3', 'N-PO4', 'N-PO7', 'N-PO8', 'N-POO1', 'N-POO10h', 'N-POO2', 'N-POz', 'N-PPO10h', 'N-PPO1h', 'N-PPO2h', 'N-PPO5h', 'N-PPO6h', 'N-PPO9h', 'N-Pz', 'N-T7', 'N-T8', 'N-TP7', 'N-TP8', 'N-TPP10h', 'N-TPP7h', 'N-TPP8h', 'N-TPP9h', 'N-TTP7h', 'N-TTP8h']\n",
      "  raw_eeg = mne.io.read_raw_eeglab(eeg_dirname + f'sub-{SUB_ID}_task-TableTennis_eeg.set', preload=True)\n",
      "/tmp/ipykernel_1842469/1458919944.py:12: RuntimeWarning: Data file name in EEG.data (sub-02_task-tabletennis_eeg.fdt) is incorrect, the file name must have changed on disk, using the correct file name (sub-02_task-TableTennis_eeg.fdt).\n",
      "  raw_eeg = mne.io.read_raw_eeglab(eeg_dirname + f'sub-{SUB_ID}_task-TableTennis_eeg.set', preload=True)\n"
     ]
    },
    {
     "name": "stdout",
     "output_type": "stream",
     "text": [
      "NOTE: pick_channels() is a legacy function. New code should use inst.pick(...).\n"
     ]
    },
    {
     "name": "stderr",
     "output_type": "stream",
     "text": [
      "/tmp/ipykernel_1842469/1458919944.py:12: RuntimeWarning: Omitted 1 annotation(s) that were outside data range.\n",
      "  raw_eeg = mne.io.read_raw_eeglab(eeg_dirname + f'sub-{SUB_ID}_task-TableTennis_eeg.set', preload=True)\n",
      "/tmp/ipykernel_1842469/1458919944.py:12: RuntimeWarning: The data contains 'boundary' events, indicating data discontinuities. Be cautious of filtering and epoching around these events.\n",
      "  raw_eeg = mne.io.read_raw_eeglab(eeg_dirname + f'sub-{SUB_ID}_task-TableTennis_eeg.set', preload=True)\n",
      "/tmp/ipykernel_1842469/1458919944.py:12: RuntimeWarning: Not setting positions of 8 emg channels found in montage:\n",
      "['LISCM', 'LSSCM', 'LSTrap', 'LITrap', 'RITrap', 'RISCM', 'RSSCM', 'RSTrap']\n",
      "Consider setting the channel types to be of EEG/sEEG/ECoG/DBS/fNIRS using inst.set_channel_types before calling inst.set_montage, or omit these channels when creating your montage.\n",
      "  raw_eeg = mne.io.read_raw_eeglab(eeg_dirname + f'sub-{SUB_ID}_task-TableTennis_eeg.set', preload=True)\n"
     ]
    },
    {
     "data": {
      "application/vnd.jupyter.widget-view+json": {
       "model_id": "c8cdd332213f4f4d920466ef0523b9b5",
       "version_major": 2,
       "version_minor": 0
      },
      "text/plain": [
       "  0%|          | 0/44371 [00:00<?, ?it/s]"
      ]
     },
     "metadata": {},
     "output_type": "display_data"
    },
    {
     "data": {
      "application/vnd.jupyter.widget-view+json": {
       "model_id": "8725392e2b624c73bda289ce3c913f17",
       "version_major": 2,
       "version_minor": 0
      },
      "text/plain": [
       "  0%|          | 0/44371 [00:00<?, ?it/s]"
      ]
     },
     "metadata": {},
     "output_type": "display_data"
    },
    {
     "name": "stdout",
     "output_type": "stream",
     "text": [
      "Reading /data/vladimiroved/realWorldTableTennis/sub-03/eeg/sub-03_task-TableTennis_eeg.fdt\n",
      "Reading 0 ... 1099795  =      0.000 ...  4399.180 secs...\n"
     ]
    },
    {
     "name": "stderr",
     "output_type": "stream",
     "text": [
      "/tmp/ipykernel_1842469/1458919944.py:12: RuntimeWarning: Unknown types found, setting as type EEG:\n",
      "acc: ['CGY-x', 'CGY-y', 'CGY-z', 'CWR-x', 'CWR-y', 'CWR-z', 'NGY-x', 'NGY-y', 'NGY-z', 'NWR-x', 'NWR-y', 'NWR-z']\n",
      "cometas: ['BallMachine_Acc_X(g)', 'BallMachine_Acc_Y(g)', 'BallMachine_Acc_Z(g)', 'Participant_Paddle_Acc_X(g)', 'Participant_Paddle_Acc_Y(g)', 'Participant_Paddle_Acc_Z(g)', 'Researcher_Paddle_Acc_X(g)', 'Researcher_Paddle_Acc_Y(g)', 'Researcher_Paddle_Acc_Z(g)', 'SyncPulse(uV)']\n",
      "noise: ['N-AF3', 'N-AF4', 'N-AF7', 'N-AF8', 'N-AFF1h', 'N-AFF2h', 'N-AFF5h', 'N-AFF6h', 'N-AFp1', 'N-AFp2', 'N-AFz', 'N-C1', 'N-C2', 'N-C3', 'N-C4', 'N-C5', 'N-C6', 'N-CCP1h', 'N-CCP2h', 'N-CCP3h', 'N-CCP4h', 'N-CCP5h', 'N-CCP6h', 'N-CP1', 'N-CP2', 'N-CP3', 'N-CP4', 'N-CP5', 'N-CP6', 'N-CPP1h', 'N-CPP2h', 'N-CPP3h', 'N-CPP4h', 'N-CPP5h', 'N-CPP6h', 'N-Cz', 'N-F1', 'N-F10', 'N-F2', 'N-F3', 'N-F4', 'N-F5', 'N-F6', 'N-F7', 'N-F8', 'N-F9', 'N-FC1', 'N-FC2', 'N-FC3', 'N-FC4', 'N-FC5', 'N-FC6', 'N-FCC1h', 'N-FCC2h', 'N-FCC3h', 'N-FCC4h', 'N-FCC5h', 'N-FCC6h', 'N-FCz', 'N-FFC1h', 'N-FFC2h', 'N-FFC3h', 'N-FFC4h', 'N-FFC5h', 'N-FFC6h', 'N-FFT10h', 'N-FFT7h', 'N-FFT8h', 'N-FFT9h', 'N-FP2', 'N-FT10', 'N-FT7', 'N-FT8', 'N-FT9', 'N-FTT10h', 'N-FTT7h', 'N-FTT8h', 'N-FTT9h', 'N-Fp1', 'N-Fz', 'N-Iz', 'N-O1', 'N-O2', 'N-OI1h', 'N-OI2h', 'N-Oz', 'N-P1', 'N-P2', 'N-P3', 'N-P4', 'N-P5', 'N-P6', 'N-P7', 'N-P8', 'N-PO3', 'N-PO4', 'N-PO7', 'N-PO8', 'N-POO1', 'N-POO10h', 'N-POO2', 'N-POO9h', 'N-POz', 'N-PPO10h', 'N-PPO1h', 'N-PPO2h', 'N-PPO5h', 'N-PPO6h', 'N-PPO9h', 'N-Pz', 'N-T7', 'N-T8', 'N-TP7', 'N-TP8', 'N-TPP10h', 'N-TPP7h', 'N-TPP8h', 'N-TPP9h', 'N-TTP7h', 'N-TTP8h']\n",
      "  raw_eeg = mne.io.read_raw_eeglab(eeg_dirname + f'sub-{SUB_ID}_task-TableTennis_eeg.set', preload=True)\n",
      "/tmp/ipykernel_1842469/1458919944.py:12: RuntimeWarning: Estimated head radius (11.5 cm) is above the 99th percentile for adult head size. Check if the montage_units argument is correct (the default is \"mm\", but your channel positions may be in different units).\n",
      "  raw_eeg = mne.io.read_raw_eeglab(eeg_dirname + f'sub-{SUB_ID}_task-TableTennis_eeg.set', preload=True)\n",
      "/tmp/ipykernel_1842469/1458919944.py:12: RuntimeWarning: Data file name in EEG.data (sub-03_task-tabletennis_eeg.fdt) is incorrect, the file name must have changed on disk, using the correct file name (sub-03_task-TableTennis_eeg.fdt).\n",
      "  raw_eeg = mne.io.read_raw_eeglab(eeg_dirname + f'sub-{SUB_ID}_task-TableTennis_eeg.set', preload=True)\n"
     ]
    },
    {
     "name": "stdout",
     "output_type": "stream",
     "text": [
      "NOTE: pick_channels() is a legacy function. New code should use inst.pick(...).\n"
     ]
    },
    {
     "name": "stderr",
     "output_type": "stream",
     "text": [
      "/tmp/ipykernel_1842469/1458919944.py:12: RuntimeWarning: Omitted 1 annotation(s) that were outside data range.\n",
      "  raw_eeg = mne.io.read_raw_eeglab(eeg_dirname + f'sub-{SUB_ID}_task-TableTennis_eeg.set', preload=True)\n",
      "/tmp/ipykernel_1842469/1458919944.py:12: RuntimeWarning: The data contains 'boundary' events, indicating data discontinuities. Be cautious of filtering and epoching around these events.\n",
      "  raw_eeg = mne.io.read_raw_eeglab(eeg_dirname + f'sub-{SUB_ID}_task-TableTennis_eeg.set', preload=True)\n",
      "/tmp/ipykernel_1842469/1458919944.py:12: RuntimeWarning: Not setting positions of 8 emg channels found in montage:\n",
      "['LISCM', 'LSSCM', 'LSTrap', 'LITrap', 'RITrap', 'RISCM', 'RSSCM', 'RSTrap']\n",
      "Consider setting the channel types to be of EEG/sEEG/ECoG/DBS/fNIRS using inst.set_channel_types before calling inst.set_montage, or omit these channels when creating your montage.\n",
      "  raw_eeg = mne.io.read_raw_eeglab(eeg_dirname + f'sub-{SUB_ID}_task-TableTennis_eeg.set', preload=True)\n"
     ]
    },
    {
     "data": {
      "application/vnd.jupyter.widget-view+json": {
       "model_id": "c63e3f7c9eee47cd82282aa1512b5511",
       "version_major": 2,
       "version_minor": 0
      },
      "text/plain": [
       "  0%|          | 0/100901 [00:00<?, ?it/s]"
      ]
     },
     "metadata": {},
     "output_type": "display_data"
    },
    {
     "data": {
      "application/vnd.jupyter.widget-view+json": {
       "model_id": "f1025d780b5a4f98a9dc136c3da2bea7",
       "version_major": 2,
       "version_minor": 0
      },
      "text/plain": [
       "  0%|          | 0/100901 [00:00<?, ?it/s]"
      ]
     },
     "metadata": {},
     "output_type": "display_data"
    },
    {
     "data": {
      "application/vnd.jupyter.widget-view+json": {
       "model_id": "d9d5c85a747445448dc7f41551971b29",
       "version_major": 2,
       "version_minor": 0
      },
      "text/plain": [
       "  0%|          | 0/100901 [00:00<?, ?it/s]"
      ]
     },
     "metadata": {},
     "output_type": "display_data"
    },
    {
     "data": {
      "application/vnd.jupyter.widget-view+json": {
       "model_id": "929dd78331dd44e8acb139240fa40924",
       "version_major": 2,
       "version_minor": 0
      },
      "text/plain": [
       "  0%|          | 0/100901 [00:00<?, ?it/s]"
      ]
     },
     "metadata": {},
     "output_type": "display_data"
    },
    {
     "name": "stdout",
     "output_type": "stream",
     "text": [
      "Reading /data/vladimiroved/realWorldTableTennis/sub-04/eeg/sub-04_task-TableTennis_eeg.fdt\n",
      "Reading 0 ... 1057035  =      0.000 ...  4228.140 secs...\n"
     ]
    },
    {
     "name": "stderr",
     "output_type": "stream",
     "text": [
      "/tmp/ipykernel_1842469/1458919944.py:12: RuntimeWarning: Unknown types found, setting as type EEG:\n",
      "acc: ['CGY-x', 'CGY-y', 'CGY-z', 'CWR-x', 'CWR-y', 'CWR-z', 'NGY-x', 'NGY-y', 'NGY-z', 'NWR-x', 'NWR-y', 'NWR-z']\n",
      "cometas: ['BallMachine_Acc_X(g)', 'BallMachine_Acc_Y(g)', 'BallMachine_Acc_Z(g)', 'Participant_Paddle_Acc_X(g)', 'Participant_Paddle_Acc_Y(g)', 'Participant_Paddle_Acc_Z(g)', 'Researcher_Paddle_Acc_X(g)', 'Researcher_Paddle_Acc_Y(g)', 'Researcher_Paddle_Acc_Z(g)', 'SyncPulse(uV)']\n",
      "noise: ['N-AF3', 'N-AF4', 'N-AF7', 'N-AF8', 'N-AFF1h', 'N-AFF2h', 'N-AFF5h', 'N-AFF6h', 'N-AFp1', 'N-AFp2', 'N-AFz', 'N-C1', 'N-C2', 'N-C3', 'N-C4', 'N-C5', 'N-C6', 'N-CCP1h', 'N-CCP2h', 'N-CCP3h', 'N-CCP4h', 'N-CCP5h', 'N-CCP6h', 'N-CP1', 'N-CP2', 'N-CP3', 'N-CP4', 'N-CP5', 'N-CP6', 'N-CPP1h', 'N-CPP2h', 'N-CPP3h', 'N-CPP4h', 'N-CPP5h', 'N-CPP6h', 'N-Cz', 'N-F1', 'N-F10', 'N-F2', 'N-F3', 'N-F4', 'N-F5', 'N-F6', 'N-F7', 'N-F8', 'N-F9', 'N-FC1', 'N-FC2', 'N-FC3', 'N-FC4', 'N-FC5', 'N-FC6', 'N-FCC1h', 'N-FCC2h', 'N-FCC3h', 'N-FCC4h', 'N-FCC5h', 'N-FCC6h', 'N-FCz', 'N-FFC1h', 'N-FFC2h', 'N-FFC3h', 'N-FFC4h', 'N-FFC5h', 'N-FFC6h', 'N-FFT10h', 'N-FFT7h', 'N-FFT8h', 'N-FFT9h', 'N-FP2', 'N-FT10', 'N-FT7', 'N-FT8', 'N-FT9', 'N-FTT10h', 'N-FTT7h', 'N-FTT8h', 'N-FTT9h', 'N-Fp1', 'N-Fz', 'N-Iz', 'N-O1', 'N-O2', 'N-OI1h', 'N-OI2h', 'N-Oz', 'N-P1', 'N-P2', 'N-P3', 'N-P4', 'N-P5', 'N-P6', 'N-P7', 'N-P8', 'N-PO3', 'N-PO4', 'N-PO7', 'N-PO8', 'N-POO1', 'N-POO10h', 'N-POO2', 'N-POO9h', 'N-POz', 'N-PPO10h', 'N-PPO1h', 'N-PPO2h', 'N-PPO5h', 'N-PPO6h', 'N-PPO9h', 'N-Pz', 'N-T7', 'N-T8', 'N-TP7', 'N-TP8', 'N-TPP10h', 'N-TPP7h', 'N-TPP8h', 'N-TPP9h', 'N-TTP7h', 'N-TTP8h']\n",
      "  raw_eeg = mne.io.read_raw_eeglab(eeg_dirname + f'sub-{SUB_ID}_task-TableTennis_eeg.set', preload=True)\n",
      "/tmp/ipykernel_1842469/1458919944.py:12: RuntimeWarning: Estimated head radius (10.9 cm) is above the 99th percentile for adult head size. Check if the montage_units argument is correct (the default is \"mm\", but your channel positions may be in different units).\n",
      "  raw_eeg = mne.io.read_raw_eeglab(eeg_dirname + f'sub-{SUB_ID}_task-TableTennis_eeg.set', preload=True)\n",
      "/tmp/ipykernel_1842469/1458919944.py:12: RuntimeWarning: Data file name in EEG.data (sub-04_task-tabletennis_eeg.fdt) is incorrect, the file name must have changed on disk, using the correct file name (sub-04_task-TableTennis_eeg.fdt).\n",
      "  raw_eeg = mne.io.read_raw_eeglab(eeg_dirname + f'sub-{SUB_ID}_task-TableTennis_eeg.set', preload=True)\n"
     ]
    },
    {
     "name": "stdout",
     "output_type": "stream",
     "text": [
      "NOTE: pick_channels() is a legacy function. New code should use inst.pick(...).\n"
     ]
    },
    {
     "name": "stderr",
     "output_type": "stream",
     "text": [
      "/tmp/ipykernel_1842469/1458919944.py:12: RuntimeWarning: Omitted 1 annotation(s) that were outside data range.\n",
      "  raw_eeg = mne.io.read_raw_eeglab(eeg_dirname + f'sub-{SUB_ID}_task-TableTennis_eeg.set', preload=True)\n",
      "/tmp/ipykernel_1842469/1458919944.py:12: RuntimeWarning: The data contains 'boundary' events, indicating data discontinuities. Be cautious of filtering and epoching around these events.\n",
      "  raw_eeg = mne.io.read_raw_eeglab(eeg_dirname + f'sub-{SUB_ID}_task-TableTennis_eeg.set', preload=True)\n",
      "/tmp/ipykernel_1842469/1458919944.py:12: RuntimeWarning: Not setting positions of 8 emg channels found in montage:\n",
      "['LISCM', 'LSSCM', 'LSTrap', 'LITrap', 'RITrap', 'RISCM', 'RSSCM', 'RSTrap']\n",
      "Consider setting the channel types to be of EEG/sEEG/ECoG/DBS/fNIRS using inst.set_channel_types before calling inst.set_montage, or omit these channels when creating your montage.\n",
      "  raw_eeg = mne.io.read_raw_eeglab(eeg_dirname + f'sub-{SUB_ID}_task-TableTennis_eeg.set', preload=True)\n"
     ]
    },
    {
     "data": {
      "application/vnd.jupyter.widget-view+json": {
       "model_id": "9e650ea9e0d84d36959aa084be9c2e44",
       "version_major": 2,
       "version_minor": 0
      },
      "text/plain": [
       "  0%|          | 0/385681 [00:00<?, ?it/s]"
      ]
     },
     "metadata": {},
     "output_type": "display_data"
    },
    {
     "data": {
      "application/vnd.jupyter.widget-view+json": {
       "model_id": "81fc40fc7575439fa541ce94fcc43338",
       "version_major": 2,
       "version_minor": 0
      },
      "text/plain": [
       "  0%|          | 0/385681 [00:00<?, ?it/s]"
      ]
     },
     "metadata": {},
     "output_type": "display_data"
    },
    {
     "name": "stdout",
     "output_type": "stream",
     "text": [
      "Reading /data/vladimiroved/realWorldTableTennis/sub-05/eeg/sub-05_task-TableTennis_eeg.fdt\n",
      "Reading 0 ... 1038925  =      0.000 ...  4155.700 secs...\n"
     ]
    },
    {
     "name": "stderr",
     "output_type": "stream",
     "text": [
      "/tmp/ipykernel_1842469/1458919944.py:12: RuntimeWarning: Unknown types found, setting as type EEG:\n",
      "acc: ['CGY-x', 'CGY-y', 'CGY-z', 'CWR-x', 'CWR-y', 'CWR-z', 'NGY-x', 'NGY-y', 'NGY-z', 'NWR-x', 'NWR-y', 'NWR-z']\n",
      "cometas: ['BallMachine_Acc_X(g)', 'BallMachine_Acc_Y(g)', 'BallMachine_Acc_Z(g)', 'Imu_2 :W():', 'Imu_2 :X():', 'Imu_2 :Y():', 'Imu_2 :Z():', 'Imu_2_ImuGyro :X(D/s):', 'Imu_2_ImuGyro :Y(D/s):', 'Imu_2_ImuGyro :Z(D/s):', 'Imu_2_ImuMag :X(uT):', 'Imu_2_ImuMag :Y(uT):', 'Imu_2_ImuMag :Z(uT):', 'Imu_3 :W():', 'Imu_3 :X():', 'Imu_3 :Y():', 'Imu_3 :Z():', 'Imu_3_ImuGyro :X(D/s):', 'Imu_3_ImuGyro :Y(D/s):', 'Imu_3_ImuGyro :Z(D/s):', 'Imu_3_ImuMag :X(uT):', 'Imu_3_ImuMag :Y(uT):', 'Imu_3_ImuMag :Z(uT):', 'Imu_4 :W():', 'Imu_4 :X():', 'Imu_4 :Y():', 'Imu_4 :Z():', 'Imu_4_ImuGyro :X(D/s):', 'Imu_4_ImuGyro :Y(D/s):', 'Imu_4_ImuGyro :Z(D/s):', 'Imu_4_ImuMag :X(uT):', 'Imu_4_ImuMag :Y(uT):', 'Imu_4_ImuMag :Z(uT):', 'Imu_5 :W():', 'Imu_5 :X():', 'Imu_5 :Y():', 'Imu_5 :Z():', 'Imu_5_ImuGyro :X(D/s):', 'Imu_5_ImuGyro :Y(D/s):', 'Imu_5_ImuGyro :Z(D/s):', 'Imu_5_ImuMag :X(uT):', 'Imu_5_ImuMag :Y(uT):', 'Imu_5_ImuMag :Z(uT):', 'Net_Acc_X(g)', 'Net_Acc_Y(g)', 'Net_Acc_Z(g)', 'Participant_Paddle_Acc_X(g)', 'Participant_Paddle_Acc_Y(g)', 'Participant_Paddle_Acc_Z(g)', 'Researcher_Paddle_Acc_X(g)', 'Researcher_Paddle_Acc_Y(g)', 'Researcher_Paddle_Acc_Z(g)', 'SyncPulse(uV)']\n",
      "noise: ['N-AF3', 'N-AF4', 'N-AF7', 'N-AF8', 'N-AFF1h', 'N-AFF2h', 'N-AFF5h', 'N-AFF6h', 'N-AFp1', 'N-AFp2', 'N-AFz', 'N-C1', 'N-C2', 'N-C3', 'N-C4', 'N-C5', 'N-C6', 'N-CCP1h', 'N-CCP2h', 'N-CCP3h', 'N-CCP4h', 'N-CCP5h', 'N-CCP6h', 'N-CP1', 'N-CP2', 'N-CP3', 'N-CP4', 'N-CP5', 'N-CP6', 'N-CPP1h', 'N-CPP2h', 'N-CPP3h', 'N-CPP4h', 'N-CPP5h', 'N-CPP6h', 'N-Cz', 'N-F1', 'N-F10', 'N-F2', 'N-F3', 'N-F4', 'N-F5', 'N-F6', 'N-F7', 'N-F8', 'N-F9', 'N-FC1', 'N-FC2', 'N-FC3', 'N-FC4', 'N-FC5', 'N-FC6', 'N-FCC1h', 'N-FCC2h', 'N-FCC3h', 'N-FCC4h', 'N-FCC5h', 'N-FCC6h', 'N-FCz', 'N-FFC1h', 'N-FFC2h', 'N-FFC3h', 'N-FFC4h', 'N-FFC5h', 'N-FFC6h', 'N-FFT10h', 'N-FFT7h', 'N-FFT8h', 'N-FFT9h', 'N-FP2', 'N-FT10', 'N-FT7', 'N-FT8', 'N-FT9', 'N-FTT10h', 'N-FTT7h', 'N-FTT8h', 'N-FTT9h', 'N-Fp1', 'N-Fz', 'N-Iz', 'N-O1', 'N-O2', 'N-OI1h', 'N-OI2h', 'N-Oz', 'N-P1', 'N-P2', 'N-P3', 'N-P4', 'N-P5', 'N-P6', 'N-P7', 'N-P8', 'N-PO3', 'N-PO4', 'N-PO7', 'N-PO8', 'N-POO1', 'N-POO10h', 'N-POO2', 'N-POO9h', 'N-POz', 'N-PPO10h', 'N-PPO1h', 'N-PPO2h', 'N-PPO5h', 'N-PPO6h', 'N-PPO9h', 'N-Pz', 'N-T7', 'N-T8', 'N-TP7', 'N-TP8', 'N-TPP10h', 'N-TPP7h', 'N-TPP8h', 'N-TPP9h', 'N-TTP7h', 'N-TTP8h']\n",
      "  raw_eeg = mne.io.read_raw_eeglab(eeg_dirname + f'sub-{SUB_ID}_task-TableTennis_eeg.set', preload=True)\n",
      "/tmp/ipykernel_1842469/1458919944.py:12: RuntimeWarning: Data file name in EEG.data (sub-05_task-tabletennis_eeg.fdt) is incorrect, the file name must have changed on disk, using the correct file name (sub-05_task-TableTennis_eeg.fdt).\n",
      "  raw_eeg = mne.io.read_raw_eeglab(eeg_dirname + f'sub-{SUB_ID}_task-TableTennis_eeg.set', preload=True)\n"
     ]
    },
    {
     "name": "stdout",
     "output_type": "stream",
     "text": [
      "NOTE: pick_channels() is a legacy function. New code should use inst.pick(...).\n"
     ]
    },
    {
     "name": "stderr",
     "output_type": "stream",
     "text": [
      "/tmp/ipykernel_1842469/1458919944.py:12: RuntimeWarning: Omitted 1 annotation(s) that were outside data range.\n",
      "  raw_eeg = mne.io.read_raw_eeglab(eeg_dirname + f'sub-{SUB_ID}_task-TableTennis_eeg.set', preload=True)\n",
      "/tmp/ipykernel_1842469/1458919944.py:12: RuntimeWarning: The data contains 'boundary' events, indicating data discontinuities. Be cautious of filtering and epoching around these events.\n",
      "  raw_eeg = mne.io.read_raw_eeglab(eeg_dirname + f'sub-{SUB_ID}_task-TableTennis_eeg.set', preload=True)\n",
      "/tmp/ipykernel_1842469/1458919944.py:12: RuntimeWarning: Not setting positions of 8 emg channels found in montage:\n",
      "['LISCM', 'LSSCM', 'LSTrap', 'LITrap', 'RITrap', 'RISCM', 'RSSCM', 'RSTrap']\n",
      "Consider setting the channel types to be of EEG/sEEG/ECoG/DBS/fNIRS using inst.set_channel_types before calling inst.set_montage, or omit these channels when creating your montage.\n",
      "  raw_eeg = mne.io.read_raw_eeglab(eeg_dirname + f'sub-{SUB_ID}_task-TableTennis_eeg.set', preload=True)\n"
     ]
    },
    {
     "data": {
      "application/vnd.jupyter.widget-view+json": {
       "model_id": "8d137b15a94f465aabae5a4a7f352e50",
       "version_major": 2,
       "version_minor": 0
      },
      "text/plain": [
       "  0%|          | 0/44860 [00:00<?, ?it/s]"
      ]
     },
     "metadata": {},
     "output_type": "display_data"
    },
    {
     "data": {
      "application/vnd.jupyter.widget-view+json": {
       "model_id": "69b13406a2a44e3cb243808827dc5343",
       "version_major": 2,
       "version_minor": 0
      },
      "text/plain": [
       "  0%|          | 0/44860 [00:00<?, ?it/s]"
      ]
     },
     "metadata": {},
     "output_type": "display_data"
    },
    {
     "data": {
      "application/vnd.jupyter.widget-view+json": {
       "model_id": "dadf3b4fa76b46ef9473a08955de91b2",
       "version_major": 2,
       "version_minor": 0
      },
      "text/plain": [
       "  0%|          | 0/44860 [00:00<?, ?it/s]"
      ]
     },
     "metadata": {},
     "output_type": "display_data"
    },
    {
     "name": "stdout",
     "output_type": "stream",
     "text": [
      "Reading /data/vladimiroved/realWorldTableTennis/sub-06/eeg/sub-06_task-TableTennis_eeg.fdt\n",
      "Reading 0 ... 1042908  =      0.000 ...  4171.632 secs...\n"
     ]
    },
    {
     "name": "stderr",
     "output_type": "stream",
     "text": [
      "/tmp/ipykernel_1842469/1458919944.py:12: RuntimeWarning: Unknown types found, setting as type EEG:\n",
      "acc: ['CGY-x', 'CGY-y', 'CGY-z', 'CWR-x', 'CWR-y', 'CWR-z', 'NGY-x', 'NGY-y', 'NGY-z', 'NWR-x', 'NWR-y', 'NWR-z']\n",
      "cometas: ['BallMachine_Acc_X(g)', 'BallMachine_Acc_Y(g)', 'BallMachine_Acc_Z(g)', 'Imu_2 :W():', 'Imu_2 :X():', 'Imu_2 :Y():', 'Imu_2 :Z():', 'Imu_2_ImuGyro :X(D/s):', 'Imu_2_ImuGyro :Y(D/s):', 'Imu_2_ImuGyro :Z(D/s):', 'Imu_2_ImuMag :X(uT):', 'Imu_2_ImuMag :Y(uT):', 'Imu_2_ImuMag :Z(uT):', 'Imu_3 :W():', 'Imu_3 :X():', 'Imu_3 :Y():', 'Imu_3 :Z():', 'Imu_3_ImuGyro :X(D/s):', 'Imu_3_ImuGyro :Y(D/s):', 'Imu_3_ImuGyro :Z(D/s):', 'Imu_3_ImuMag :X(uT):', 'Imu_3_ImuMag :Y(uT):', 'Imu_3_ImuMag :Z(uT):', 'Imu_4 :W():', 'Imu_4 :X():', 'Imu_4 :Y():', 'Imu_4 :Z():', 'Imu_4_ImuGyro :X(D/s):', 'Imu_4_ImuGyro :Y(D/s):', 'Imu_4_ImuGyro :Z(D/s):', 'Imu_4_ImuMag :X(uT):', 'Imu_4_ImuMag :Y(uT):', 'Imu_4_ImuMag :Z(uT):', 'Imu_5 :W():', 'Imu_5 :X():', 'Imu_5 :Y():', 'Imu_5 :Z():', 'Imu_5_ImuGyro :X(D/s):', 'Imu_5_ImuGyro :Y(D/s):', 'Imu_5_ImuGyro :Z(D/s):', 'Imu_5_ImuMag :X(uT):', 'Imu_5_ImuMag :Y(uT):', 'Imu_5_ImuMag :Z(uT):', 'Net_Acc_X(g)', 'Net_Acc_Y(g)', 'Net_Acc_Z(g)', 'Participant_Paddle_Acc_X(g)', 'Participant_Paddle_Acc_Y(g)', 'Participant_Paddle_Acc_Z(g)', 'Researcher_Paddle_Acc_X(g)', 'Researcher_Paddle_Acc_Y(g)', 'Researcher_Paddle_Acc_Z(g)', 'SyncPulse(uV)']\n",
      "noise: ['N-AF3', 'N-AF4', 'N-AF7', 'N-AF8', 'N-AFF1h', 'N-AFF2h', 'N-AFF5h', 'N-AFF6h', 'N-AFp1', 'N-AFp2', 'N-AFz', 'N-C1', 'N-C2', 'N-C3', 'N-C4', 'N-C5', 'N-C6', 'N-CCP1h', 'N-CCP2h', 'N-CCP3h', 'N-CCP4h', 'N-CCP5h', 'N-CCP6h', 'N-CP1', 'N-CP2', 'N-CP3', 'N-CP4', 'N-CP5', 'N-CP6', 'N-CPP1h', 'N-CPP2h', 'N-CPP3h', 'N-CPP4h', 'N-CPP5h', 'N-CPP6h', 'N-Cz', 'N-F1', 'N-F10', 'N-F2', 'N-F3', 'N-F4', 'N-F5', 'N-F6', 'N-F7', 'N-F8', 'N-F9', 'N-FC1', 'N-FC2', 'N-FC3', 'N-FC4', 'N-FC5', 'N-FC6', 'N-FCC1h', 'N-FCC2h', 'N-FCC3h', 'N-FCC4h', 'N-FCC5h', 'N-FCC6h', 'N-FCz', 'N-FFC1h', 'N-FFC2h', 'N-FFC3h', 'N-FFC4h', 'N-FFC5h', 'N-FFC6h', 'N-FFT10h', 'N-FFT7h', 'N-FFT8h', 'N-FFT9h', 'N-FP2', 'N-FT10', 'N-FT7', 'N-FT8', 'N-FT9', 'N-FTT10h', 'N-FTT7h', 'N-FTT8h', 'N-FTT9h', 'N-Fp1', 'N-Fz', 'N-Iz', 'N-O1', 'N-O2', 'N-OI1h', 'N-OI2h', 'N-Oz', 'N-P1', 'N-P2', 'N-P3', 'N-P4', 'N-P5', 'N-P6', 'N-P7', 'N-P8', 'N-PO3', 'N-PO4', 'N-PO7', 'N-PO8', 'N-POO1', 'N-POO10h', 'N-POO2', 'N-POO9h', 'N-POz', 'N-PPO10h', 'N-PPO1h', 'N-PPO2h', 'N-PPO5h', 'N-PPO6h', 'N-PPO9h', 'N-Pz', 'N-T7', 'N-T8', 'N-TP7', 'N-TP8', 'N-TPP10h', 'N-TPP7h', 'N-TPP8h', 'N-TPP9h', 'N-TTP7h', 'N-TTP8h']\n",
      "  raw_eeg = mne.io.read_raw_eeglab(eeg_dirname + f'sub-{SUB_ID}_task-TableTennis_eeg.set', preload=True)\n",
      "/tmp/ipykernel_1842469/1458919944.py:12: RuntimeWarning: Estimated head radius (12.2 cm) is above the 99th percentile for adult head size. Check if the montage_units argument is correct (the default is \"mm\", but your channel positions may be in different units).\n",
      "  raw_eeg = mne.io.read_raw_eeglab(eeg_dirname + f'sub-{SUB_ID}_task-TableTennis_eeg.set', preload=True)\n",
      "/tmp/ipykernel_1842469/1458919944.py:12: RuntimeWarning: Data file name in EEG.data (sub-06_task-tabletennis_eeg.fdt) is incorrect, the file name must have changed on disk, using the correct file name (sub-06_task-TableTennis_eeg.fdt).\n",
      "  raw_eeg = mne.io.read_raw_eeglab(eeg_dirname + f'sub-{SUB_ID}_task-TableTennis_eeg.set', preload=True)\n"
     ]
    },
    {
     "name": "stdout",
     "output_type": "stream",
     "text": [
      "NOTE: pick_channels() is a legacy function. New code should use inst.pick(...).\n"
     ]
    },
    {
     "name": "stderr",
     "output_type": "stream",
     "text": [
      "/tmp/ipykernel_1842469/1458919944.py:12: RuntimeWarning: Omitted 1 annotation(s) that were outside data range.\n",
      "  raw_eeg = mne.io.read_raw_eeglab(eeg_dirname + f'sub-{SUB_ID}_task-TableTennis_eeg.set', preload=True)\n",
      "/tmp/ipykernel_1842469/1458919944.py:12: RuntimeWarning: The data contains 'boundary' events, indicating data discontinuities. Be cautious of filtering and epoching around these events.\n",
      "  raw_eeg = mne.io.read_raw_eeglab(eeg_dirname + f'sub-{SUB_ID}_task-TableTennis_eeg.set', preload=True)\n",
      "/tmp/ipykernel_1842469/1458919944.py:12: RuntimeWarning: Not setting positions of 8 emg channels found in montage:\n",
      "['LISCM', 'LSSCM', 'LSTrap', 'LITrap', 'RITrap', 'RISCM', 'RSSCM', 'RSTrap']\n",
      "Consider setting the channel types to be of EEG/sEEG/ECoG/DBS/fNIRS using inst.set_channel_types before calling inst.set_montage, or omit these channels when creating your montage.\n",
      "  raw_eeg = mne.io.read_raw_eeglab(eeg_dirname + f'sub-{SUB_ID}_task-TableTennis_eeg.set', preload=True)\n"
     ]
    },
    {
     "data": {
      "application/vnd.jupyter.widget-view+json": {
       "model_id": "d331bbbfa8be4e4aa3b846ffd2f7d8f4",
       "version_major": 2,
       "version_minor": 0
      },
      "text/plain": [
       "  0%|          | 0/58989 [00:00<?, ?it/s]"
      ]
     },
     "metadata": {},
     "output_type": "display_data"
    },
    {
     "data": {
      "application/vnd.jupyter.widget-view+json": {
       "model_id": "90ff2504b4894e57b476d50cddf45dba",
       "version_major": 2,
       "version_minor": 0
      },
      "text/plain": [
       "  0%|          | 0/58989 [00:00<?, ?it/s]"
      ]
     },
     "metadata": {},
     "output_type": "display_data"
    },
    {
     "data": {
      "application/vnd.jupyter.widget-view+json": {
       "model_id": "038e0c912598406da3bb1a86604fa271",
       "version_major": 2,
       "version_minor": 0
      },
      "text/plain": [
       "  0%|          | 0/58989 [00:00<?, ?it/s]"
      ]
     },
     "metadata": {},
     "output_type": "display_data"
    },
    {
     "name": "stdout",
     "output_type": "stream",
     "text": [
      "Reading /data/vladimiroved/realWorldTableTennis/sub-07/eeg/sub-07_task-TableTennis_eeg.fdt\n",
      "Reading 0 ... 1174502  =      0.000 ...  4698.008 secs...\n"
     ]
    },
    {
     "name": "stderr",
     "output_type": "stream",
     "text": [
      "/tmp/ipykernel_1842469/1458919944.py:12: RuntimeWarning: Unknown types found, setting as type EEG:\n",
      "acc: ['CGY-x', 'CGY-y', 'CGY-z', 'CWR-x', 'CWR-y', 'CWR-z', 'NGY-x', 'NGY-y', 'NGY-z', 'NWR-x', 'NWR-y', 'NWR-z']\n",
      "cometas: ['BallMachine_Acc_X(g)', 'BallMachine_Acc_Y(g)', 'BallMachine_Acc_Z(g)', 'Imu_2 :W():', 'Imu_2 :X():', 'Imu_2 :Y():', 'Imu_2 :Z():', 'Imu_2_ImuGyro :X(D/s):', 'Imu_2_ImuGyro :Y(D/s):', 'Imu_2_ImuGyro :Z(D/s):', 'Imu_2_ImuMag :X(uT):', 'Imu_2_ImuMag :Y(uT):', 'Imu_2_ImuMag :Z(uT):', 'Imu_4 :W():', 'Imu_4 :X():', 'Imu_4 :Y():', 'Imu_4 :Z():', 'Imu_4_ImuGyro :X(D/s):', 'Imu_4_ImuGyro :Y(D/s):', 'Imu_4_ImuGyro :Z(D/s):', 'Imu_4_ImuMag :X(uT):', 'Imu_4_ImuMag :Y(uT):', 'Imu_4_ImuMag :Z(uT):', 'Net_Acc_X(g)', 'Net_Acc_Y(g)', 'Net_Acc_Z(g)', 'Participant_Paddle_Acc_X(g)', 'Participant_Paddle_Acc_Y(g)', 'Participant_Paddle_Acc_Z(g)', 'Researcher_Paddle_Acc_X(g)', 'Researcher_Paddle_Acc_Y(g)', 'Researcher_Paddle_Acc_Z(g)', 'SyncPulse(uV)', 'Table_OtherSide_Acc_X(g)', 'Table_OtherSide_Acc_Y(g)', 'Table_OtherSide_Acc_Z(g)', 'Table_ParticipantSide_Acc_X(g)', 'Table_ParticipantSide_Acc_Y(g)', 'Table_ParticipantSide_Acc_Z(g)']\n",
      "noise: ['N-AF3', 'N-AF4', 'N-AF7', 'N-AF8', 'N-AFF1h', 'N-AFF2h', 'N-AFF5h', 'N-AFF6h', 'N-AFp1', 'N-AFp2', 'N-AFz', 'N-C1', 'N-C2', 'N-C3', 'N-C4', 'N-C5', 'N-C6', 'N-CCP1h', 'N-CCP2h', 'N-CCP3h', 'N-CCP4h', 'N-CCP5h', 'N-CCP6h', 'N-CP1', 'N-CP2', 'N-CP3', 'N-CP4', 'N-CP5', 'N-CP6', 'N-CPP1h', 'N-CPP2h', 'N-CPP3h', 'N-CPP4h', 'N-CPP5h', 'N-CPP6h', 'N-Cz', 'N-F1', 'N-F10', 'N-F2', 'N-F3', 'N-F4', 'N-F5', 'N-F6', 'N-F7', 'N-F8', 'N-F9', 'N-FC1', 'N-FC2', 'N-FC3', 'N-FC4', 'N-FC5', 'N-FC6', 'N-FCC1h', 'N-FCC2h', 'N-FCC3h', 'N-FCC4h', 'N-FCC5h', 'N-FCC6h', 'N-FCz', 'N-FFC1h', 'N-FFC2h', 'N-FFC3h', 'N-FFC4h', 'N-FFC5h', 'N-FFC6h', 'N-FFT10h', 'N-FFT7h', 'N-FFT8h', 'N-FFT9h', 'N-FP2', 'N-FT10', 'N-FT7', 'N-FT8', 'N-FT9', 'N-FTT10h', 'N-FTT7h', 'N-FTT8h', 'N-FTT9h', 'N-Fp1', 'N-Fz', 'N-Iz', 'N-O1', 'N-O2', 'N-OI1h', 'N-OI2h', 'N-Oz', 'N-P1', 'N-P2', 'N-P3', 'N-P4', 'N-P5', 'N-P6', 'N-P7', 'N-P8', 'N-PO3', 'N-PO4', 'N-PO7', 'N-PO8', 'N-POO1', 'N-POO10h', 'N-POO2', 'N-POO9h', 'N-POz', 'N-PPO10h', 'N-PPO1h', 'N-PPO2h', 'N-PPO5h', 'N-PPO6h', 'N-PPO9h', 'N-Pz', 'N-T7', 'N-T8', 'N-TP7', 'N-TP8', 'N-TPP10h', 'N-TPP7h', 'N-TPP8h', 'N-TPP9h', 'N-TTP7h', 'N-TTP8h']\n",
      "  raw_eeg = mne.io.read_raw_eeglab(eeg_dirname + f'sub-{SUB_ID}_task-TableTennis_eeg.set', preload=True)\n",
      "/tmp/ipykernel_1842469/1458919944.py:12: RuntimeWarning: Estimated head radius (11.4 cm) is above the 99th percentile for adult head size. Check if the montage_units argument is correct (the default is \"mm\", but your channel positions may be in different units).\n",
      "  raw_eeg = mne.io.read_raw_eeglab(eeg_dirname + f'sub-{SUB_ID}_task-TableTennis_eeg.set', preload=True)\n",
      "/tmp/ipykernel_1842469/1458919944.py:12: RuntimeWarning: Data file name in EEG.data (sub-07_task-tabletennis_eeg.fdt) is incorrect, the file name must have changed on disk, using the correct file name (sub-07_task-TableTennis_eeg.fdt).\n",
      "  raw_eeg = mne.io.read_raw_eeglab(eeg_dirname + f'sub-{SUB_ID}_task-TableTennis_eeg.set', preload=True)\n"
     ]
    },
    {
     "name": "stdout",
     "output_type": "stream",
     "text": [
      "NOTE: pick_channels() is a legacy function. New code should use inst.pick(...).\n"
     ]
    },
    {
     "name": "stderr",
     "output_type": "stream",
     "text": [
      "/tmp/ipykernel_1842469/1458919944.py:12: RuntimeWarning: Omitted 1 annotation(s) that were outside data range.\n",
      "  raw_eeg = mne.io.read_raw_eeglab(eeg_dirname + f'sub-{SUB_ID}_task-TableTennis_eeg.set', preload=True)\n",
      "/tmp/ipykernel_1842469/1458919944.py:12: RuntimeWarning: The data contains 'boundary' events, indicating data discontinuities. Be cautious of filtering and epoching around these events.\n",
      "  raw_eeg = mne.io.read_raw_eeglab(eeg_dirname + f'sub-{SUB_ID}_task-TableTennis_eeg.set', preload=True)\n",
      "/tmp/ipykernel_1842469/1458919944.py:12: RuntimeWarning: Not setting positions of 8 emg channels found in montage:\n",
      "['LISCM', 'LSSCM', 'LSTrap', 'LITrap', 'RITrap', 'RISCM', 'RSSCM', 'RSTrap']\n",
      "Consider setting the channel types to be of EEG/sEEG/ECoG/DBS/fNIRS using inst.set_channel_types before calling inst.set_montage, or omit these channels when creating your montage.\n",
      "  raw_eeg = mne.io.read_raw_eeglab(eeg_dirname + f'sub-{SUB_ID}_task-TableTennis_eeg.set', preload=True)\n"
     ]
    },
    {
     "data": {
      "application/vnd.jupyter.widget-view+json": {
       "model_id": "cec76d763622409384069daaa8055bb5",
       "version_major": 2,
       "version_minor": 0
      },
      "text/plain": [
       "  0%|          | 0/104588 [00:00<?, ?it/s]"
      ]
     },
     "metadata": {},
     "output_type": "display_data"
    },
    {
     "data": {
      "application/vnd.jupyter.widget-view+json": {
       "model_id": "a4997aeadd6d4a16844272ad847a98e4",
       "version_major": 2,
       "version_minor": 0
      },
      "text/plain": [
       "  0%|          | 0/104588 [00:00<?, ?it/s]"
      ]
     },
     "metadata": {},
     "output_type": "display_data"
    },
    {
     "data": {
      "application/vnd.jupyter.widget-view+json": {
       "model_id": "c4fc5655a9404643a44ca7720c1f9a52",
       "version_major": 2,
       "version_minor": 0
      },
      "text/plain": [
       "  0%|          | 0/104588 [00:00<?, ?it/s]"
      ]
     },
     "metadata": {},
     "output_type": "display_data"
    },
    {
     "name": "stdout",
     "output_type": "stream",
     "text": [
      "Reading /data/vladimiroved/realWorldTableTennis/sub-08/eeg/sub-08_task-TableTennis_eeg.fdt\n",
      "Reading 0 ... 1159909  =      0.000 ...  4639.636 secs...\n"
     ]
    },
    {
     "name": "stderr",
     "output_type": "stream",
     "text": [
      "/tmp/ipykernel_1842469/1458919944.py:12: RuntimeWarning: Unknown types found, setting as type EEG:\n",
      "acc: ['CGY-x', 'CGY-y', 'CGY-z', 'CWR-x', 'CWR-y', 'CWR-z', 'NGY-x', 'NGY-y', 'NGY-z', 'NWR-x', 'NWR-y', 'NWR-z']\n",
      "cometas: ['BallMachine_Acc_X(g)', 'BallMachine_Acc_Y(g)', 'BallMachine_Acc_Z(g)', 'Imu_2 :W():', 'Imu_2 :X():', 'Imu_2 :Y():', 'Imu_2 :Z():', 'Imu_2_ImuGyro :X(D/s):', 'Imu_2_ImuGyro :Y(D/s):', 'Imu_2_ImuGyro :Z(D/s):', 'Imu_2_ImuMag :X(uT):', 'Imu_2_ImuMag :Y(uT):', 'Imu_2_ImuMag :Z(uT):', 'Imu_4 :W():', 'Imu_4 :X():', 'Imu_4 :Y():', 'Imu_4 :Z():', 'Imu_4_ImuGyro :X(D/s):', 'Imu_4_ImuGyro :Y(D/s):', 'Imu_4_ImuGyro :Z(D/s):', 'Imu_4_ImuMag :X(uT):', 'Imu_4_ImuMag :Y(uT):', 'Imu_4_ImuMag :Z(uT):', 'Net_Acc_X(g)', 'Net_Acc_Y(g)', 'Net_Acc_Z(g)', 'Participant_Paddle_Acc_X(g)', 'Participant_Paddle_Acc_Y(g)', 'Participant_Paddle_Acc_Z(g)', 'Researcher_Paddle_Acc_X(g)', 'Researcher_Paddle_Acc_Y(g)', 'Researcher_Paddle_Acc_Z(g)', 'SyncPulse(uV)', 'Table_OtherSide_Acc_X(g)', 'Table_OtherSide_Acc_Y(g)', 'Table_OtherSide_Acc_Z(g)', 'Table_ParticipantSide_Acc_X(g)', 'Table_ParticipantSide_Acc_Y(g)', 'Table_ParticipantSide_Acc_Z(g)']\n",
      "noise: ['N-AF3', 'N-AF4', 'N-AF7', 'N-AF8', 'N-AFF1h', 'N-AFF2h', 'N-AFF5h', 'N-AFF6h', 'N-AFp1', 'N-AFp2', 'N-AFz', 'N-C1', 'N-C2', 'N-C3', 'N-C4', 'N-C5', 'N-C6', 'N-CCP1h', 'N-CCP2h', 'N-CCP3h', 'N-CCP4h', 'N-CCP5h', 'N-CCP6h', 'N-CP1', 'N-CP2', 'N-CP3', 'N-CP4', 'N-CP5', 'N-CP6', 'N-CPP1h', 'N-CPP2h', 'N-CPP3h', 'N-CPP4h', 'N-CPP5h', 'N-CPP6h', 'N-Cz', 'N-F1', 'N-F10', 'N-F2', 'N-F3', 'N-F4', 'N-F5', 'N-F6', 'N-F7', 'N-F8', 'N-F9', 'N-FC1', 'N-FC2', 'N-FC3', 'N-FC4', 'N-FC5', 'N-FC6', 'N-FCC1h', 'N-FCC2h', 'N-FCC3h', 'N-FCC4h', 'N-FCC5h', 'N-FCC6h', 'N-FCz', 'N-FFC1h', 'N-FFC2h', 'N-FFC3h', 'N-FFC4h', 'N-FFC5h', 'N-FFC6h', 'N-FFT10h', 'N-FFT7h', 'N-FFT8h', 'N-FFT9h', 'N-FP2', 'N-FT10', 'N-FT7', 'N-FT8', 'N-FT9', 'N-FTT10h', 'N-FTT7h', 'N-FTT8h', 'N-FTT9h', 'N-Fp1', 'N-Fz', 'N-Iz', 'N-O1', 'N-O2', 'N-OI1h', 'N-OI2h', 'N-Oz', 'N-P1', 'N-P2', 'N-P3', 'N-P4', 'N-P5', 'N-P6', 'N-P7', 'N-P8', 'N-PO3', 'N-PO4', 'N-PO7', 'N-PO8', 'N-POO1', 'N-POO10h', 'N-POO2', 'N-POO9h', 'N-POz', 'N-PPO10h', 'N-PPO1h', 'N-PPO2h', 'N-PPO5h', 'N-PPO6h', 'N-PPO9h', 'N-Pz', 'N-T7', 'N-T8', 'N-TP7', 'N-TP8', 'N-TPP10h', 'N-TPP7h', 'N-TPP8h', 'N-TPP9h', 'N-TTP7h', 'N-TTP8h']\n",
      "  raw_eeg = mne.io.read_raw_eeglab(eeg_dirname + f'sub-{SUB_ID}_task-TableTennis_eeg.set', preload=True)\n",
      "/tmp/ipykernel_1842469/1458919944.py:12: RuntimeWarning: Estimated head radius (10.9 cm) is above the 99th percentile for adult head size. Check if the montage_units argument is correct (the default is \"mm\", but your channel positions may be in different units).\n",
      "  raw_eeg = mne.io.read_raw_eeglab(eeg_dirname + f'sub-{SUB_ID}_task-TableTennis_eeg.set', preload=True)\n",
      "/tmp/ipykernel_1842469/1458919944.py:12: RuntimeWarning: Data file name in EEG.data (sub-08_task-tabletennis_eeg.fdt) is incorrect, the file name must have changed on disk, using the correct file name (sub-08_task-TableTennis_eeg.fdt).\n",
      "  raw_eeg = mne.io.read_raw_eeglab(eeg_dirname + f'sub-{SUB_ID}_task-TableTennis_eeg.set', preload=True)\n"
     ]
    },
    {
     "name": "stdout",
     "output_type": "stream",
     "text": [
      "NOTE: pick_channels() is a legacy function. New code should use inst.pick(...).\n"
     ]
    },
    {
     "name": "stderr",
     "output_type": "stream",
     "text": [
      "/tmp/ipykernel_1842469/1458919944.py:12: RuntimeWarning: Omitted 1 annotation(s) that were outside data range.\n",
      "  raw_eeg = mne.io.read_raw_eeglab(eeg_dirname + f'sub-{SUB_ID}_task-TableTennis_eeg.set', preload=True)\n",
      "/tmp/ipykernel_1842469/1458919944.py:12: RuntimeWarning: The data contains 'boundary' events, indicating data discontinuities. Be cautious of filtering and epoching around these events.\n",
      "  raw_eeg = mne.io.read_raw_eeglab(eeg_dirname + f'sub-{SUB_ID}_task-TableTennis_eeg.set', preload=True)\n",
      "/tmp/ipykernel_1842469/1458919944.py:12: RuntimeWarning: Not setting positions of 8 emg channels found in montage:\n",
      "['LISCM', 'LSSCM', 'LSTrap', 'LITrap', 'RITrap', 'RISCM', 'RSSCM', 'RSTrap']\n",
      "Consider setting the channel types to be of EEG/sEEG/ECoG/DBS/fNIRS using inst.set_channel_types before calling inst.set_montage, or omit these channels when creating your montage.\n",
      "  raw_eeg = mne.io.read_raw_eeglab(eeg_dirname + f'sub-{SUB_ID}_task-TableTennis_eeg.set', preload=True)\n"
     ]
    },
    {
     "data": {
      "application/vnd.jupyter.widget-view+json": {
       "model_id": "8743ad1f627d4a16ac09a07ffeadbcd9",
       "version_major": 2,
       "version_minor": 0
      },
      "text/plain": [
       "  0%|          | 0/96587 [00:00<?, ?it/s]"
      ]
     },
     "metadata": {},
     "output_type": "display_data"
    },
    {
     "data": {
      "application/vnd.jupyter.widget-view+json": {
       "model_id": "89e10cda376444d390c05fbe4e1782dd",
       "version_major": 2,
       "version_minor": 0
      },
      "text/plain": [
       "  0%|          | 0/96587 [00:00<?, ?it/s]"
      ]
     },
     "metadata": {},
     "output_type": "display_data"
    },
    {
     "data": {
      "application/vnd.jupyter.widget-view+json": {
       "model_id": "82e63a22d389434ea9ea0777bc6c0660",
       "version_major": 2,
       "version_minor": 0
      },
      "text/plain": [
       "  0%|          | 0/96587 [00:00<?, ?it/s]"
      ]
     },
     "metadata": {},
     "output_type": "display_data"
    },
    {
     "name": "stdout",
     "output_type": "stream",
     "text": [
      "Reading /data/vladimiroved/realWorldTableTennis/sub-09/eeg/sub-09_task-TableTennis_eeg.fdt\n",
      "Reading 0 ... 1146678  =      0.000 ...  4586.712 secs...\n"
     ]
    },
    {
     "name": "stderr",
     "output_type": "stream",
     "text": [
      "/tmp/ipykernel_1842469/1458919944.py:12: RuntimeWarning: Unknown types found, setting as type EEG:\n",
      "acc: ['CGY-x', 'CGY-y', 'CGY-z', 'CWR-x', 'CWR-y', 'CWR-z', 'NGY-x', 'NGY-y', 'NGY-z', 'NWR-x', 'NWR-y', 'NWR-z']\n",
      "cometas: ['BallMachine_Acc_X(g)', 'BallMachine_Acc_Y(g)', 'BallMachine_Acc_Z(g)', 'Imu_1 :W():', 'Imu_1 :X():', 'Imu_1 :Y():', 'Imu_1 :Z():', 'Imu_1_ImuGyro :X(D/s):', 'Imu_1_ImuGyro :Y(D/s):', 'Imu_1_ImuGyro :Z(D/s):', 'Imu_1_ImuMag :X(uT):', 'Imu_1_ImuMag :Y(uT):', 'Imu_1_ImuMag :Z(uT):', 'Imu_2 :W():', 'Imu_2 :X():', 'Imu_2 :Y():', 'Imu_2 :Z():', 'Imu_2_ImuGyro :X(D/s):', 'Imu_2_ImuGyro :Y(D/s):', 'Imu_2_ImuGyro :Z(D/s):', 'Imu_2_ImuMag :X(uT):', 'Imu_2_ImuMag :Y(uT):', 'Imu_2_ImuMag :Z(uT):', 'Imu_4 :W():', 'Imu_4 :X():', 'Imu_4 :Y():', 'Imu_4 :Z():', 'Imu_4_ImuGyro :X(D/s):', 'Imu_4_ImuGyro :Y(D/s):', 'Imu_4_ImuGyro :Z(D/s):', 'Imu_4_ImuMag :X(uT):', 'Imu_4_ImuMag :Y(uT):', 'Imu_4_ImuMag :Z(uT):', 'Net_Acc_X(g)', 'Net_Acc_Y(g)', 'Net_Acc_Z(g)', 'Participant_Backpack_Acc_X(g)', 'Participant_Backpack_Acc_Y(g)', 'Participant_Backpack_Acc_Z(g)', 'Participant_Paddle_Acc_X(g)', 'Participant_Paddle_Acc_Y(g)', 'Participant_Paddle_Acc_Z(g)', 'Researcher_Paddle_Acc_X(g)', 'Researcher_Paddle_Acc_Y(g)', 'Researcher_Paddle_Acc_Z(g)', 'SyncPulse(uV)', 'Table_OtherSide_Acc_X(g)', 'Table_OtherSide_Acc_Y(g)', 'Table_OtherSide_Acc_Z(g)', 'Table_ParticipantSide_Acc_X(g)', 'Table_ParticipantSide_Acc_Y(g)', 'Table_ParticipantSide_Acc_Z(g)']\n",
      "noise: ['N-AF3', 'N-AF4', 'N-AF7', 'N-AF8', 'N-AFF1h', 'N-AFF2h', 'N-AFF5h', 'N-AFF6h', 'N-AFp1', 'N-AFp2', 'N-AFz', 'N-C1', 'N-C2', 'N-C3', 'N-C4', 'N-C5', 'N-C6', 'N-CCP1h', 'N-CCP2h', 'N-CCP3h', 'N-CCP4h', 'N-CCP5h', 'N-CCP6h', 'N-CP1', 'N-CP2', 'N-CP3', 'N-CP4', 'N-CP5', 'N-CP6', 'N-CPP1h', 'N-CPP2h', 'N-CPP3h', 'N-CPP4h', 'N-CPP5h', 'N-CPP6h', 'N-Cz', 'N-F1', 'N-F10', 'N-F2', 'N-F3', 'N-F4', 'N-F5', 'N-F6', 'N-F7', 'N-F8', 'N-F9', 'N-FC1', 'N-FC2', 'N-FC3', 'N-FC4', 'N-FC5', 'N-FC6', 'N-FCC1h', 'N-FCC2h', 'N-FCC3h', 'N-FCC4h', 'N-FCC5h', 'N-FCC6h', 'N-FCz', 'N-FFC1h', 'N-FFC2h', 'N-FFC3h', 'N-FFC4h', 'N-FFC5h', 'N-FFC6h', 'N-FFT10h', 'N-FFT7h', 'N-FFT8h', 'N-FFT9h', 'N-FP2', 'N-FT10', 'N-FT7', 'N-FT8', 'N-FT9', 'N-FTT10h', 'N-FTT7h', 'N-FTT8h', 'N-FTT9h', 'N-Fp1', 'N-Fz', 'N-Iz', 'N-O1', 'N-O2', 'N-OI1h', 'N-OI2h', 'N-Oz', 'N-P1', 'N-P2', 'N-P3', 'N-P4', 'N-P5', 'N-P6', 'N-P7', 'N-P8', 'N-PO3', 'N-PO4', 'N-PO7', 'N-PO8', 'N-POO1', 'N-POO10h', 'N-POO2', 'N-POO9h', 'N-POz', 'N-PPO10h', 'N-PPO1h', 'N-PPO2h', 'N-PPO5h', 'N-PPO6h', 'N-PPO9h', 'N-Pz', 'N-T7', 'N-T8', 'N-TP7', 'N-TP8', 'N-TPP10h', 'N-TPP7h', 'N-TPP8h', 'N-TPP9h', 'N-TTP7h', 'N-TTP8h']\n",
      "  raw_eeg = mne.io.read_raw_eeglab(eeg_dirname + f'sub-{SUB_ID}_task-TableTennis_eeg.set', preload=True)\n",
      "/tmp/ipykernel_1842469/1458919944.py:12: RuntimeWarning: Estimated head radius (11.7 cm) is above the 99th percentile for adult head size. Check if the montage_units argument is correct (the default is \"mm\", but your channel positions may be in different units).\n",
      "  raw_eeg = mne.io.read_raw_eeglab(eeg_dirname + f'sub-{SUB_ID}_task-TableTennis_eeg.set', preload=True)\n",
      "/tmp/ipykernel_1842469/1458919944.py:12: RuntimeWarning: Data file name in EEG.data (sub-09_task-tabletennis_eeg.fdt) is incorrect, the file name must have changed on disk, using the correct file name (sub-09_task-TableTennis_eeg.fdt).\n",
      "  raw_eeg = mne.io.read_raw_eeglab(eeg_dirname + f'sub-{SUB_ID}_task-TableTennis_eeg.set', preload=True)\n"
     ]
    },
    {
     "name": "stdout",
     "output_type": "stream",
     "text": [
      "NOTE: pick_channels() is a legacy function. New code should use inst.pick(...).\n"
     ]
    },
    {
     "name": "stderr",
     "output_type": "stream",
     "text": [
      "/tmp/ipykernel_1842469/1458919944.py:12: RuntimeWarning: Omitted 1 annotation(s) that were outside data range.\n",
      "  raw_eeg = mne.io.read_raw_eeglab(eeg_dirname + f'sub-{SUB_ID}_task-TableTennis_eeg.set', preload=True)\n",
      "/tmp/ipykernel_1842469/1458919944.py:12: RuntimeWarning: The data contains 'boundary' events, indicating data discontinuities. Be cautious of filtering and epoching around these events.\n",
      "  raw_eeg = mne.io.read_raw_eeglab(eeg_dirname + f'sub-{SUB_ID}_task-TableTennis_eeg.set', preload=True)\n",
      "/tmp/ipykernel_1842469/1458919944.py:12: RuntimeWarning: Not setting positions of 8 emg channels found in montage:\n",
      "['LISCM', 'LSSCM', 'LSTrap', 'LITrap', 'RITrap', 'RISCM', 'RSSCM', 'RSTrap']\n",
      "Consider setting the channel types to be of EEG/sEEG/ECoG/DBS/fNIRS using inst.set_channel_types before calling inst.set_montage, or omit these channels when creating your montage.\n",
      "  raw_eeg = mne.io.read_raw_eeglab(eeg_dirname + f'sub-{SUB_ID}_task-TableTennis_eeg.set', preload=True)\n"
     ]
    },
    {
     "data": {
      "application/vnd.jupyter.widget-view+json": {
       "model_id": "bcf68390f4f5439eae14dad715607f24",
       "version_major": 2,
       "version_minor": 0
      },
      "text/plain": [
       "  0%|          | 0/79593 [00:00<?, ?it/s]"
      ]
     },
     "metadata": {},
     "output_type": "display_data"
    },
    {
     "data": {
      "application/vnd.jupyter.widget-view+json": {
       "model_id": "29ad66489a9d4ef0abce4b1b42a06c9c",
       "version_major": 2,
       "version_minor": 0
      },
      "text/plain": [
       "  0%|          | 0/79593 [00:00<?, ?it/s]"
      ]
     },
     "metadata": {},
     "output_type": "display_data"
    },
    {
     "data": {
      "application/vnd.jupyter.widget-view+json": {
       "model_id": "ef9ed02461154150a9c4cd6dfee462b2",
       "version_major": 2,
       "version_minor": 0
      },
      "text/plain": [
       "  0%|          | 0/79593 [00:00<?, ?it/s]"
      ]
     },
     "metadata": {},
     "output_type": "display_data"
    },
    {
     "name": "stdout",
     "output_type": "stream",
     "text": [
      "Reading /data/vladimiroved/realWorldTableTennis/sub-10/eeg/sub-10_task-TableTennis_eeg.fdt\n",
      "Reading 0 ... 1139465  =      0.000 ...  4557.860 secs...\n"
     ]
    },
    {
     "name": "stderr",
     "output_type": "stream",
     "text": [
      "/tmp/ipykernel_1842469/1458919944.py:12: RuntimeWarning: Unknown types found, setting as type EEG:\n",
      "acc: ['CGY-x', 'CGY-y', 'CGY-z', 'CWR-x', 'CWR-y', 'CWR-z', 'NGY-x', 'NGY-y', 'NGY-z', 'NWR-x', 'NWR-y', 'NWR-z']\n",
      "cometas: ['BallMachine_Acc_X(g)', 'BallMachine_Acc_Y(g)', 'BallMachine_Acc_Z(g)', 'Imu_1 :W():', 'Imu_1 :X():', 'Imu_1 :Y():', 'Imu_1 :Z():', 'Imu_1_ImuGyro :X(D/s):', 'Imu_1_ImuGyro :Y(D/s):', 'Imu_1_ImuGyro :Z(D/s):', 'Imu_1_ImuMag :X(uT):', 'Imu_1_ImuMag :Y(uT):', 'Imu_1_ImuMag :Z(uT):', 'Imu_2 :W():', 'Imu_2 :X():', 'Imu_2 :Y():', 'Imu_2 :Z():', 'Imu_2_ImuGyro :X(D/s):', 'Imu_2_ImuGyro :Y(D/s):', 'Imu_2_ImuGyro :Z(D/s):', 'Imu_2_ImuMag :X(uT):', 'Imu_2_ImuMag :Y(uT):', 'Imu_2_ImuMag :Z(uT):', 'Imu_4 :W():', 'Imu_4 :X():', 'Imu_4 :Y():', 'Imu_4 :Z():', 'Imu_4_ImuGyro :X(D/s):', 'Imu_4_ImuGyro :Y(D/s):', 'Imu_4_ImuGyro :Z(D/s):', 'Imu_4_ImuMag :X(uT):', 'Imu_4_ImuMag :Y(uT):', 'Imu_4_ImuMag :Z(uT):', 'Net_Acc_X(g)', 'Net_Acc_Y(g)', 'Net_Acc_Z(g)', 'Participant_Backpack_Acc_X(g)', 'Participant_Backpack_Acc_Y(g)', 'Participant_Backpack_Acc_Z(g)', 'Participant_Paddle_Acc_X(g)', 'Participant_Paddle_Acc_Y(g)', 'Participant_Paddle_Acc_Z(g)', 'Researcher_Paddle_Acc_X(g)', 'Researcher_Paddle_Acc_Y(g)', 'Researcher_Paddle_Acc_Z(g)', 'SyncPulse(uV)', 'Table_OtherSide_Acc_X(g)', 'Table_OtherSide_Acc_Y(g)', 'Table_OtherSide_Acc_Z(g)', 'Table_ParticipantSide_Acc_X(g)', 'Table_ParticipantSide_Acc_Y(g)', 'Table_ParticipantSide_Acc_Z(g)']\n",
      "noise: ['N-AF3', 'N-AF4', 'N-AF7', 'N-AF8', 'N-AFF1h', 'N-AFF2h', 'N-AFF5h', 'N-AFF6h', 'N-AFp1', 'N-AFp2', 'N-AFz', 'N-C1', 'N-C2', 'N-C3', 'N-C4', 'N-C5', 'N-C6', 'N-CCP1h', 'N-CCP2h', 'N-CCP3h', 'N-CCP4h', 'N-CCP5h', 'N-CCP6h', 'N-CP1', 'N-CP2', 'N-CP3', 'N-CP4', 'N-CP5', 'N-CP6', 'N-CPP1h', 'N-CPP2h', 'N-CPP3h', 'N-CPP4h', 'N-CPP5h', 'N-CPP6h', 'N-Cz', 'N-F1', 'N-F10', 'N-F2', 'N-F3', 'N-F4', 'N-F5', 'N-F6', 'N-F7', 'N-F8', 'N-F9', 'N-FC1', 'N-FC2', 'N-FC3', 'N-FC4', 'N-FC5', 'N-FC6', 'N-FCC1h', 'N-FCC2h', 'N-FCC3h', 'N-FCC4h', 'N-FCC5h', 'N-FCC6h', 'N-FCz', 'N-FFC1h', 'N-FFC2h', 'N-FFC3h', 'N-FFC4h', 'N-FFC5h', 'N-FFC6h', 'N-FFT10h', 'N-FFT7h', 'N-FFT8h', 'N-FFT9h', 'N-FP2', 'N-FT10', 'N-FT7', 'N-FT8', 'N-FT9', 'N-FTT10h', 'N-FTT7h', 'N-FTT8h', 'N-FTT9h', 'N-Fp1', 'N-Fz', 'N-Iz', 'N-O1', 'N-O2', 'N-OI1h', 'N-OI2h', 'N-Oz', 'N-P1', 'N-P2', 'N-P3', 'N-P4', 'N-P5', 'N-P6', 'N-P7', 'N-P8', 'N-PO3', 'N-PO4', 'N-PO7', 'N-PO8', 'N-POO1', 'N-POO10h', 'N-POO2', 'N-POO9h', 'N-POz', 'N-PPO10h', 'N-PPO1h', 'N-PPO2h', 'N-PPO5h', 'N-PPO6h', 'N-PPO9h', 'N-Pz', 'N-T7', 'N-T8', 'N-TP7', 'N-TP8', 'N-TPP10h', 'N-TPP7h', 'N-TPP8h', 'N-TPP9h', 'N-TTP7h', 'N-TTP8h']\n",
      "  raw_eeg = mne.io.read_raw_eeglab(eeg_dirname + f'sub-{SUB_ID}_task-TableTennis_eeg.set', preload=True)\n",
      "/tmp/ipykernel_1842469/1458919944.py:12: RuntimeWarning: Data file name in EEG.data (sub-10_task-tabletennis_eeg.fdt) is incorrect, the file name must have changed on disk, using the correct file name (sub-10_task-TableTennis_eeg.fdt).\n",
      "  raw_eeg = mne.io.read_raw_eeglab(eeg_dirname + f'sub-{SUB_ID}_task-TableTennis_eeg.set', preload=True)\n"
     ]
    },
    {
     "name": "stdout",
     "output_type": "stream",
     "text": [
      "NOTE: pick_channels() is a legacy function. New code should use inst.pick(...).\n"
     ]
    },
    {
     "name": "stderr",
     "output_type": "stream",
     "text": [
      "/tmp/ipykernel_1842469/1458919944.py:12: RuntimeWarning: Omitted 1 annotation(s) that were outside data range.\n",
      "  raw_eeg = mne.io.read_raw_eeglab(eeg_dirname + f'sub-{SUB_ID}_task-TableTennis_eeg.set', preload=True)\n",
      "/tmp/ipykernel_1842469/1458919944.py:12: RuntimeWarning: The data contains 'boundary' events, indicating data discontinuities. Be cautious of filtering and epoching around these events.\n",
      "  raw_eeg = mne.io.read_raw_eeglab(eeg_dirname + f'sub-{SUB_ID}_task-TableTennis_eeg.set', preload=True)\n",
      "/tmp/ipykernel_1842469/1458919944.py:12: RuntimeWarning: Not setting positions of 8 emg channels found in montage:\n",
      "['LISCM', 'LSSCM', 'LSTrap', 'LITrap', 'RITrap', 'RISCM', 'RSSCM', 'RSTrap']\n",
      "Consider setting the channel types to be of EEG/sEEG/ECoG/DBS/fNIRS using inst.set_channel_types before calling inst.set_montage, or omit these channels when creating your montage.\n",
      "  raw_eeg = mne.io.read_raw_eeglab(eeg_dirname + f'sub-{SUB_ID}_task-TableTennis_eeg.set', preload=True)\n"
     ]
    },
    {
     "data": {
      "application/vnd.jupyter.widget-view+json": {
       "model_id": "3bc279edd1074c46bb15b04fb81c74f8",
       "version_major": 2,
       "version_minor": 0
      },
      "text/plain": [
       "  0%|          | 0/69785 [00:00<?, ?it/s]"
      ]
     },
     "metadata": {},
     "output_type": "display_data"
    },
    {
     "data": {
      "application/vnd.jupyter.widget-view+json": {
       "model_id": "4dc446bcfc484e2abac687f236eeddb8",
       "version_major": 2,
       "version_minor": 0
      },
      "text/plain": [
       "  0%|          | 0/69785 [00:00<?, ?it/s]"
      ]
     },
     "metadata": {},
     "output_type": "display_data"
    },
    {
     "data": {
      "application/vnd.jupyter.widget-view+json": {
       "model_id": "bc711c7865104f57a6b7abfad2deeddf",
       "version_major": 2,
       "version_minor": 0
      },
      "text/plain": [
       "  0%|          | 0/69785 [00:00<?, ?it/s]"
      ]
     },
     "metadata": {},
     "output_type": "display_data"
    },
    {
     "name": "stdout",
     "output_type": "stream",
     "text": [
      "Reading /data/vladimiroved/realWorldTableTennis/sub-11/eeg/sub-11_task-TableTennis_eeg.fdt\n",
      "Reading 0 ... 1104856  =      0.000 ...  4419.424 secs...\n"
     ]
    },
    {
     "name": "stderr",
     "output_type": "stream",
     "text": [
      "/tmp/ipykernel_1842469/1458919944.py:12: RuntimeWarning: Unknown types found, setting as type EEG:\n",
      "acc: ['CGY-x', 'CGY-y', 'CGY-z', 'CWR-x', 'CWR-y', 'CWR-z', 'NGY-x', 'NGY-y', 'NGY-z', 'NWR-x', 'NWR-y', 'NWR-z']\n",
      "cometas: ['BallMachine_Acc_X(g)', 'BallMachine_Acc_Y(g)', 'BallMachine_Acc_Z(g)', 'IMU1_RMS', 'Imu_1 :W():', 'Imu_1 :X():', 'Imu_1 :Y():', 'Imu_1 :Z():', 'Imu_1_ImuGyro :X(D/s):', 'Imu_1_ImuGyro :Y(D/s):', 'Imu_1_ImuGyro :Z(D/s):', 'Imu_1_ImuMag :X(uT):', 'Imu_1_ImuMag :Y(uT):', 'Imu_1_ImuMag :Z(uT):', 'Imu_2 :W():', 'Imu_2 :X():', 'Imu_2 :Y():', 'Imu_2 :Z():', 'Imu_2_ImuGyro :X(D/s):', 'Imu_2_ImuGyro :Y(D/s):', 'Imu_2_ImuGyro :Z(D/s):', 'Imu_2_ImuMag :X(uT):', 'Imu_2_ImuMag :Y(uT):', 'Imu_2_ImuMag :Z(uT):', 'Imu_4 :W():', 'Imu_4 :X():', 'Imu_4 :Y():', 'Imu_4 :Z():', 'Imu_4_ImuGyro :X(D/s):', 'Imu_4_ImuGyro :Y(D/s):', 'Imu_4_ImuGyro :Z(D/s):', 'Imu_4_ImuMag :X(uT):', 'Imu_4_ImuMag :Y(uT):', 'Imu_4_ImuMag :Z(uT):', 'Net_Acc_X(g)', 'Net_Acc_Y(g)', 'Net_Acc_Z(g)', 'Participant_Backpack_Acc_X(g)', 'Participant_Backpack_Acc_Y(g)', 'Participant_Backpack_Acc_Z(g)', 'Participant_Paddle_Acc_X(g)', 'Participant_Paddle_Acc_Y(g)', 'Participant_Paddle_Acc_Z(g)', 'Researcher_Paddle_Acc_X(g)', 'Researcher_Paddle_Acc_Y(g)', 'Researcher_Paddle_Acc_Z(g)', 'SyncPulse(uV)', 'Table_OtherSide_Acc_X(g)', 'Table_OtherSide_Acc_Y(g)', 'Table_OtherSide_Acc_Z(g)', 'Table_ParticipantSide_Acc_X(g)', 'Table_ParticipantSide_Acc_Y(g)', 'Table_ParticipantSide_Acc_Z(g)']\n",
      "noise: ['N-AF3', 'N-AF4', 'N-AF7', 'N-AF8', 'N-AFF1h', 'N-AFF2h', 'N-AFF5h', 'N-AFF6h', 'N-AFp1', 'N-AFp2', 'N-AFz', 'N-C1', 'N-C2', 'N-C3', 'N-C4', 'N-C5', 'N-C6', 'N-CCP1h', 'N-CCP2h', 'N-CCP3h', 'N-CCP4h', 'N-CCP5h', 'N-CCP6h', 'N-CP1', 'N-CP2', 'N-CP3', 'N-CP4', 'N-CP5', 'N-CP6', 'N-CPP1h', 'N-CPP2h', 'N-CPP3h', 'N-CPP4h', 'N-CPP5h', 'N-CPP6h', 'N-Cz', 'N-F1', 'N-F10', 'N-F2', 'N-F3', 'N-F4', 'N-F5', 'N-F6', 'N-F7', 'N-F8', 'N-F9', 'N-FC1', 'N-FC2', 'N-FC3', 'N-FC4', 'N-FC5', 'N-FC6', 'N-FCC1h', 'N-FCC2h', 'N-FCC3h', 'N-FCC4h', 'N-FCC5h', 'N-FCC6h', 'N-FCz', 'N-FFC1h', 'N-FFC2h', 'N-FFC3h', 'N-FFC4h', 'N-FFC5h', 'N-FFC6h', 'N-FFT10h', 'N-FFT7h', 'N-FFT8h', 'N-FFT9h', 'N-FP2', 'N-FT10', 'N-FT7', 'N-FT8', 'N-FT9', 'N-FTT10h', 'N-FTT7h', 'N-FTT8h', 'N-FTT9h', 'N-Fp1', 'N-Fz', 'N-Iz', 'N-O1', 'N-O2', 'N-OI1h', 'N-OI2h', 'N-Oz', 'N-P1', 'N-P2', 'N-P3', 'N-P4', 'N-P5', 'N-P6', 'N-P7', 'N-P8', 'N-PO3', 'N-PO4', 'N-PO7', 'N-PO8', 'N-POO1', 'N-POO10h', 'N-POO2', 'N-POO9h', 'N-POz', 'N-PPO10h', 'N-PPO1h', 'N-PPO2h', 'N-PPO5h', 'N-PPO6h', 'N-PPO9h', 'N-Pz', 'N-T7', 'N-T8', 'N-TP7', 'N-TP8', 'N-TPP10h', 'N-TPP7h', 'N-TPP8h', 'N-TPP9h', 'N-TTP7h', 'N-TTP8h']\n",
      "  raw_eeg = mne.io.read_raw_eeglab(eeg_dirname + f'sub-{SUB_ID}_task-TableTennis_eeg.set', preload=True)\n",
      "/tmp/ipykernel_1842469/1458919944.py:12: RuntimeWarning: Estimated head radius (12.1 cm) is above the 99th percentile for adult head size. Check if the montage_units argument is correct (the default is \"mm\", but your channel positions may be in different units).\n",
      "  raw_eeg = mne.io.read_raw_eeglab(eeg_dirname + f'sub-{SUB_ID}_task-TableTennis_eeg.set', preload=True)\n",
      "/tmp/ipykernel_1842469/1458919944.py:12: RuntimeWarning: Data file name in EEG.data (sub-11_task-tabletennis_eeg.fdt) is incorrect, the file name must have changed on disk, using the correct file name (sub-11_task-TableTennis_eeg.fdt).\n",
      "  raw_eeg = mne.io.read_raw_eeglab(eeg_dirname + f'sub-{SUB_ID}_task-TableTennis_eeg.set', preload=True)\n"
     ]
    },
    {
     "name": "stdout",
     "output_type": "stream",
     "text": [
      "NOTE: pick_channels() is a legacy function. New code should use inst.pick(...).\n"
     ]
    },
    {
     "name": "stderr",
     "output_type": "stream",
     "text": [
      "/tmp/ipykernel_1842469/1458919944.py:12: RuntimeWarning: Omitted 1 annotation(s) that were outside data range.\n",
      "  raw_eeg = mne.io.read_raw_eeglab(eeg_dirname + f'sub-{SUB_ID}_task-TableTennis_eeg.set', preload=True)\n",
      "/tmp/ipykernel_1842469/1458919944.py:12: RuntimeWarning: The data contains 'boundary' events, indicating data discontinuities. Be cautious of filtering and epoching around these events.\n",
      "  raw_eeg = mne.io.read_raw_eeglab(eeg_dirname + f'sub-{SUB_ID}_task-TableTennis_eeg.set', preload=True)\n",
      "/tmp/ipykernel_1842469/1458919944.py:12: RuntimeWarning: Not setting positions of 8 emg channels found in montage:\n",
      "['LISCM', 'LSSCM', 'LSTrap', 'LITrap', 'RITrap', 'RISCM', 'RSSCM', 'RSTrap']\n",
      "Consider setting the channel types to be of EEG/sEEG/ECoG/DBS/fNIRS using inst.set_channel_types before calling inst.set_montage, or omit these channels when creating your montage.\n",
      "  raw_eeg = mne.io.read_raw_eeglab(eeg_dirname + f'sub-{SUB_ID}_task-TableTennis_eeg.set', preload=True)\n"
     ]
    },
    {
     "data": {
      "application/vnd.jupyter.widget-view+json": {
       "model_id": "4c06f9117b18435a89e27f6019d23775",
       "version_major": 2,
       "version_minor": 0
      },
      "text/plain": [
       "  0%|          | 0/51061 [00:00<?, ?it/s]"
      ]
     },
     "metadata": {},
     "output_type": "display_data"
    },
    {
     "data": {
      "application/vnd.jupyter.widget-view+json": {
       "model_id": "c2db85e03d9c440eb7476abb64b6c19d",
       "version_major": 2,
       "version_minor": 0
      },
      "text/plain": [
       "  0%|          | 0/51061 [00:00<?, ?it/s]"
      ]
     },
     "metadata": {},
     "output_type": "display_data"
    },
    {
     "data": {
      "application/vnd.jupyter.widget-view+json": {
       "model_id": "81dbbcc1f1894dc3bb2775c02f7b6989",
       "version_major": 2,
       "version_minor": 0
      },
      "text/plain": [
       "  0%|          | 0/51061 [00:00<?, ?it/s]"
      ]
     },
     "metadata": {},
     "output_type": "display_data"
    },
    {
     "data": {
      "application/vnd.jupyter.widget-view+json": {
       "model_id": "617e1ab3498a4767912bcf29355fc6f7",
       "version_major": 2,
       "version_minor": 0
      },
      "text/plain": [
       "  0%|          | 0/51061 [00:00<?, ?it/s]"
      ]
     },
     "metadata": {},
     "output_type": "display_data"
    },
    {
     "name": "stdout",
     "output_type": "stream",
     "text": [
      "Reading /data/vladimiroved/realWorldTableTennis/sub-12/eeg/sub-12_task-TableTennis_eeg.fdt\n",
      "Reading 0 ... 1111931  =      0.000 ...  4447.724 secs...\n"
     ]
    },
    {
     "name": "stderr",
     "output_type": "stream",
     "text": [
      "/tmp/ipykernel_1842469/1458919944.py:12: RuntimeWarning: Unknown types found, setting as type EEG:\n",
      "acc: ['CGY-x', 'CGY-y', 'CGY-z', 'CWR-x', 'CWR-y', 'CWR-z', 'NGY-x', 'NGY-y', 'NGY-z', 'NWR-x', 'NWR-y', 'NWR-z']\n",
      "cometas: ['BallMachine_Acc_X(g)', 'BallMachine_Acc_Y(g)', 'BallMachine_Acc_Z(g)', 'IMU1_RMS', 'Imu_1 :W():', 'Imu_1 :X():', 'Imu_1 :Y():', 'Imu_1 :Z():', 'Imu_1_ImuGyro :X(D/s):', 'Imu_1_ImuGyro :Y(D/s):', 'Imu_1_ImuGyro :Z(D/s):', 'Imu_1_ImuMag :X(uT):', 'Imu_1_ImuMag :Y(uT):', 'Imu_1_ImuMag :Z(uT):', 'Imu_2 :W():', 'Imu_2 :X():', 'Imu_2 :Y():', 'Imu_2 :Z():', 'Imu_2_ImuGyro :X(D/s):', 'Imu_2_ImuGyro :Y(D/s):', 'Imu_2_ImuGyro :Z(D/s):', 'Imu_2_ImuMag :X(uT):', 'Imu_2_ImuMag :Y(uT):', 'Imu_2_ImuMag :Z(uT):', 'Imu_4 :W():', 'Imu_4 :X():', 'Imu_4 :Y():', 'Imu_4 :Z():', 'Imu_4_ImuGyro :X(D/s):', 'Imu_4_ImuGyro :Y(D/s):', 'Imu_4_ImuGyro :Z(D/s):', 'Imu_4_ImuMag :X(uT):', 'Imu_4_ImuMag :Y(uT):', 'Imu_4_ImuMag :Z(uT):', 'Net_Acc_X(g)', 'Net_Acc_Y(g)', 'Net_Acc_Z(g)', 'Participant_Backpack_Acc_X(g)', 'Participant_Backpack_Acc_Y(g)', 'Participant_Backpack_Acc_Z(g)', 'Participant_Paddle_Acc_X(g)', 'Participant_Paddle_Acc_Y(g)', 'Participant_Paddle_Acc_Z(g)', 'Researcher_Paddle_Acc_X(g)', 'Researcher_Paddle_Acc_Y(g)', 'Researcher_Paddle_Acc_Z(g)', 'SyncPulse(uV)', 'Table_OtherSide_Acc_X(g)', 'Table_OtherSide_Acc_Y(g)', 'Table_OtherSide_Acc_Z(g)', 'Table_ParticipantSide_Acc_X(g)', 'Table_ParticipantSide_Acc_Y(g)', 'Table_ParticipantSide_Acc_Z(g)']\n",
      "noise: ['N-AF3', 'N-AF4', 'N-AF7', 'N-AF8', 'N-AFF1h', 'N-AFF2h', 'N-AFF5h', 'N-AFF6h', 'N-AFp1', 'N-AFp2', 'N-AFz', 'N-C1', 'N-C2', 'N-C3', 'N-C4', 'N-C5', 'N-C6', 'N-CCP1h', 'N-CCP2h', 'N-CCP3h', 'N-CCP4h', 'N-CCP5h', 'N-CCP6h', 'N-CP1', 'N-CP2', 'N-CP3', 'N-CP4', 'N-CP5', 'N-CP6', 'N-CPP1h', 'N-CPP2h', 'N-CPP3h', 'N-CPP4h', 'N-CPP5h', 'N-CPP6h', 'N-Cz', 'N-F1', 'N-F10', 'N-F2', 'N-F3', 'N-F4', 'N-F5', 'N-F6', 'N-F7', 'N-F8', 'N-F9', 'N-FC1', 'N-FC2', 'N-FC3', 'N-FC4', 'N-FC5', 'N-FC6', 'N-FCC1h', 'N-FCC2h', 'N-FCC3h', 'N-FCC4h', 'N-FCC5h', 'N-FCC6h', 'N-FCz', 'N-FFC1h', 'N-FFC2h', 'N-FFC3h', 'N-FFC4h', 'N-FFC5h', 'N-FFC6h', 'N-FFT10h', 'N-FFT7h', 'N-FFT8h', 'N-FFT9h', 'N-FP2', 'N-FT10', 'N-FT7', 'N-FT8', 'N-FT9', 'N-FTT10h', 'N-FTT7h', 'N-FTT8h', 'N-FTT9h', 'N-Fp1', 'N-Fz', 'N-Iz', 'N-O1', 'N-O2', 'N-OI1h', 'N-OI2h', 'N-Oz', 'N-P1', 'N-P2', 'N-P3', 'N-P4', 'N-P5', 'N-P6', 'N-P7', 'N-P8', 'N-PO3', 'N-PO4', 'N-PO7', 'N-PO8', 'N-POO1', 'N-POO10h', 'N-POO2', 'N-POO9h', 'N-POz', 'N-PPO10h', 'N-PPO1h', 'N-PPO2h', 'N-PPO5h', 'N-PPO6h', 'N-PPO9h', 'N-Pz', 'N-T7', 'N-T8', 'N-TP7', 'N-TP8', 'N-TPP10h', 'N-TPP7h', 'N-TPP8h', 'N-TPP9h', 'N-TTP7h', 'N-TTP8h']\n",
      "  raw_eeg = mne.io.read_raw_eeglab(eeg_dirname + f'sub-{SUB_ID}_task-TableTennis_eeg.set', preload=True)\n",
      "/tmp/ipykernel_1842469/1458919944.py:12: RuntimeWarning: Data file name in EEG.data (sub-12_task-tabletennis_eeg.fdt) is incorrect, the file name must have changed on disk, using the correct file name (sub-12_task-TableTennis_eeg.fdt).\n",
      "  raw_eeg = mne.io.read_raw_eeglab(eeg_dirname + f'sub-{SUB_ID}_task-TableTennis_eeg.set', preload=True)\n"
     ]
    },
    {
     "name": "stdout",
     "output_type": "stream",
     "text": [
      "NOTE: pick_channels() is a legacy function. New code should use inst.pick(...).\n"
     ]
    },
    {
     "name": "stderr",
     "output_type": "stream",
     "text": [
      "/tmp/ipykernel_1842469/1458919944.py:12: RuntimeWarning: Omitted 1 annotation(s) that were outside data range.\n",
      "  raw_eeg = mne.io.read_raw_eeglab(eeg_dirname + f'sub-{SUB_ID}_task-TableTennis_eeg.set', preload=True)\n",
      "/tmp/ipykernel_1842469/1458919944.py:12: RuntimeWarning: The data contains 'boundary' events, indicating data discontinuities. Be cautious of filtering and epoching around these events.\n",
      "  raw_eeg = mne.io.read_raw_eeglab(eeg_dirname + f'sub-{SUB_ID}_task-TableTennis_eeg.set', preload=True)\n",
      "/tmp/ipykernel_1842469/1458919944.py:12: RuntimeWarning: Not setting positions of 8 emg channels found in montage:\n",
      "['LISCM', 'LSSCM', 'LSTrap', 'LITrap', 'RITrap', 'RISCM', 'RSSCM', 'RSTrap']\n",
      "Consider setting the channel types to be of EEG/sEEG/ECoG/DBS/fNIRS using inst.set_channel_types before calling inst.set_montage, or omit these channels when creating your montage.\n",
      "  raw_eeg = mne.io.read_raw_eeglab(eeg_dirname + f'sub-{SUB_ID}_task-TableTennis_eeg.set', preload=True)\n"
     ]
    },
    {
     "data": {
      "application/vnd.jupyter.widget-view+json": {
       "model_id": "22cdba28acc14094828941df1996bded",
       "version_major": 2,
       "version_minor": 0
      },
      "text/plain": [
       "  0%|          | 0/64968 [00:00<?, ?it/s]"
      ]
     },
     "metadata": {},
     "output_type": "display_data"
    },
    {
     "data": {
      "application/vnd.jupyter.widget-view+json": {
       "model_id": "f4e608e825b14a03a6408f3cda3f87c4",
       "version_major": 2,
       "version_minor": 0
      },
      "text/plain": [
       "  0%|          | 0/64968 [00:00<?, ?it/s]"
      ]
     },
     "metadata": {},
     "output_type": "display_data"
    },
    {
     "data": {
      "application/vnd.jupyter.widget-view+json": {
       "model_id": "0f5699aa3bb54404ac4fe3e8b0aa845c",
       "version_major": 2,
       "version_minor": 0
      },
      "text/plain": [
       "  0%|          | 0/64968 [00:00<?, ?it/s]"
      ]
     },
     "metadata": {},
     "output_type": "display_data"
    },
    {
     "data": {
      "application/vnd.jupyter.widget-view+json": {
       "model_id": "edf8ad0d602e492cac38a8b759162a01",
       "version_major": 2,
       "version_minor": 0
      },
      "text/plain": [
       "  0%|          | 0/64968 [00:00<?, ?it/s]"
      ]
     },
     "metadata": {},
     "output_type": "display_data"
    },
    {
     "name": "stdout",
     "output_type": "stream",
     "text": [
      "Reading /data/vladimiroved/realWorldTableTennis/sub-13/eeg/sub-13_task-TableTennis_eeg.fdt\n",
      "Reading 0 ... 1120665  =      0.000 ...  4482.660 secs...\n"
     ]
    },
    {
     "name": "stderr",
     "output_type": "stream",
     "text": [
      "/tmp/ipykernel_1842469/1458919944.py:12: RuntimeWarning: Unknown types found, setting as type EEG:\n",
      "acc: ['CGY-x', 'CGY-y', 'CGY-z', 'CWR-x', 'CWR-y', 'CWR-z', 'NGY-x', 'NGY-y', 'NGY-z', 'NWR-x', 'NWR-y', 'NWR-z']\n",
      "cometas: ['BallMachine_Acc_X(g)', 'BallMachine_Acc_Y(g)', 'BallMachine_Acc_Z(g)', 'IMU1_RMS', 'Imu_1 :W():', 'Imu_1 :X():', 'Imu_1 :Y():', 'Imu_1 :Z():', 'Imu_1_ImuGyro :X(D/s):', 'Imu_1_ImuGyro :Y(D/s):', 'Imu_1_ImuGyro :Z(D/s):', 'Imu_1_ImuMag :X(uT):', 'Imu_1_ImuMag :Y(uT):', 'Imu_1_ImuMag :Z(uT):', 'Imu_2 :W():', 'Imu_2 :X():', 'Imu_2 :Y():', 'Imu_2 :Z():', 'Imu_2_ImuGyro :X(D/s):', 'Imu_2_ImuGyro :Y(D/s):', 'Imu_2_ImuGyro :Z(D/s):', 'Imu_2_ImuMag :X(uT):', 'Imu_2_ImuMag :Y(uT):', 'Imu_2_ImuMag :Z(uT):', 'Imu_4 :W():', 'Imu_4 :X():', 'Imu_4 :Y():', 'Imu_4 :Z():', 'Imu_4_ImuGyro :X(D/s):', 'Imu_4_ImuGyro :Y(D/s):', 'Imu_4_ImuGyro :Z(D/s):', 'Imu_4_ImuMag :X(uT):', 'Imu_4_ImuMag :Y(uT):', 'Imu_4_ImuMag :Z(uT):', 'Net_Acc_X(g)', 'Net_Acc_Y(g)', 'Net_Acc_Z(g)', 'Participant_Backpack_Acc_X(g)', 'Participant_Backpack_Acc_Y(g)', 'Participant_Backpack_Acc_Z(g)', 'Participant_Paddle_Acc_X(g)', 'Participant_Paddle_Acc_Y(g)', 'Participant_Paddle_Acc_Z(g)', 'Researcher_Paddle_Acc_X(g)', 'Researcher_Paddle_Acc_Y(g)', 'Researcher_Paddle_Acc_Z(g)', 'SyncPulse(uV)', 'Table_OtherSide_Acc_X(g)', 'Table_OtherSide_Acc_Y(g)', 'Table_OtherSide_Acc_Z(g)', 'Table_ParticipantSide_Acc_X(g)', 'Table_ParticipantSide_Acc_Y(g)', 'Table_ParticipantSide_Acc_Z(g)']\n",
      "noise: ['N-AF3', 'N-AF4', 'N-AF7', 'N-AF8', 'N-AFF1h', 'N-AFF2h', 'N-AFF5h', 'N-AFF6h', 'N-AFp1', 'N-AFp2', 'N-AFz', 'N-C1', 'N-C2', 'N-C3', 'N-C4', 'N-C5', 'N-C6', 'N-CCP1h', 'N-CCP2h', 'N-CCP3h', 'N-CCP4h', 'N-CCP5h', 'N-CCP6h', 'N-CP1', 'N-CP2', 'N-CP3', 'N-CP4', 'N-CP5', 'N-CP6', 'N-CPP1h', 'N-CPP2h', 'N-CPP3h', 'N-CPP4h', 'N-CPP5h', 'N-CPP6h', 'N-Cz', 'N-F1', 'N-F10', 'N-F2', 'N-F3', 'N-F4', 'N-F5', 'N-F6', 'N-F7', 'N-F8', 'N-F9', 'N-FC1', 'N-FC2', 'N-FC3', 'N-FC4', 'N-FC5', 'N-FC6', 'N-FCC1h', 'N-FCC2h', 'N-FCC3h', 'N-FCC4h', 'N-FCC5h', 'N-FCC6h', 'N-FCz', 'N-FFC1h', 'N-FFC2h', 'N-FFC3h', 'N-FFC4h', 'N-FFC5h', 'N-FFC6h', 'N-FFT10h', 'N-FFT7h', 'N-FFT8h', 'N-FFT9h', 'N-FP2', 'N-FT10', 'N-FT7', 'N-FT8', 'N-FT9', 'N-FTT10h', 'N-FTT7h', 'N-FTT8h', 'N-FTT9h', 'N-Fp1', 'N-Fz', 'N-Iz', 'N-O1', 'N-O2', 'N-OI1h', 'N-OI2h', 'N-Oz', 'N-P1', 'N-P2', 'N-P3', 'N-P4', 'N-P5', 'N-P6', 'N-P7', 'N-P8', 'N-PO3', 'N-PO4', 'N-PO7', 'N-PO8', 'N-POO1', 'N-POO10h', 'N-POO2', 'N-POO9h', 'N-POz', 'N-PPO10h', 'N-PPO1h', 'N-PPO2h', 'N-PPO5h', 'N-PPO6h', 'N-PPO9h', 'N-Pz', 'N-T7', 'N-T8', 'N-TP7', 'N-TP8', 'N-TPP10h', 'N-TPP7h', 'N-TPP8h', 'N-TPP9h', 'N-TTP7h', 'N-TTP8h']\n",
      "  raw_eeg = mne.io.read_raw_eeglab(eeg_dirname + f'sub-{SUB_ID}_task-TableTennis_eeg.set', preload=True)\n",
      "/tmp/ipykernel_1842469/1458919944.py:12: RuntimeWarning: Estimated head radius (11.0 cm) is above the 99th percentile for adult head size. Check if the montage_units argument is correct (the default is \"mm\", but your channel positions may be in different units).\n",
      "  raw_eeg = mne.io.read_raw_eeglab(eeg_dirname + f'sub-{SUB_ID}_task-TableTennis_eeg.set', preload=True)\n",
      "/tmp/ipykernel_1842469/1458919944.py:12: RuntimeWarning: Data file name in EEG.data (sub-13_task-tabletennis_eeg.fdt) is incorrect, the file name must have changed on disk, using the correct file name (sub-13_task-TableTennis_eeg.fdt).\n",
      "  raw_eeg = mne.io.read_raw_eeglab(eeg_dirname + f'sub-{SUB_ID}_task-TableTennis_eeg.set', preload=True)\n"
     ]
    },
    {
     "name": "stdout",
     "output_type": "stream",
     "text": [
      "NOTE: pick_channels() is a legacy function. New code should use inst.pick(...).\n"
     ]
    },
    {
     "name": "stderr",
     "output_type": "stream",
     "text": [
      "/tmp/ipykernel_1842469/1458919944.py:12: RuntimeWarning: Omitted 1 annotation(s) that were outside data range.\n",
      "  raw_eeg = mne.io.read_raw_eeglab(eeg_dirname + f'sub-{SUB_ID}_task-TableTennis_eeg.set', preload=True)\n",
      "/tmp/ipykernel_1842469/1458919944.py:12: RuntimeWarning: The data contains 'boundary' events, indicating data discontinuities. Be cautious of filtering and epoching around these events.\n",
      "  raw_eeg = mne.io.read_raw_eeglab(eeg_dirname + f'sub-{SUB_ID}_task-TableTennis_eeg.set', preload=True)\n",
      "/tmp/ipykernel_1842469/1458919944.py:12: RuntimeWarning: Not setting positions of 8 emg channels found in montage:\n",
      "['LISCM', 'LSSCM', 'LSTrap', 'LITrap', 'RITrap', 'RISCM', 'RSSCM', 'RSTrap']\n",
      "Consider setting the channel types to be of EEG/sEEG/ECoG/DBS/fNIRS using inst.set_channel_types before calling inst.set_montage, or omit these channels when creating your montage.\n",
      "  raw_eeg = mne.io.read_raw_eeglab(eeg_dirname + f'sub-{SUB_ID}_task-TableTennis_eeg.set', preload=True)\n"
     ]
    },
    {
     "data": {
      "application/vnd.jupyter.widget-view+json": {
       "model_id": "31f6732f74ab4df3bfef4f113a23ef15",
       "version_major": 2,
       "version_minor": 0
      },
      "text/plain": [
       "  0%|          | 0/58408 [00:00<?, ?it/s]"
      ]
     },
     "metadata": {},
     "output_type": "display_data"
    },
    {
     "data": {
      "application/vnd.jupyter.widget-view+json": {
       "model_id": "d3614eb9313840ce917cc8ee63d996e2",
       "version_major": 2,
       "version_minor": 0
      },
      "text/plain": [
       "  0%|          | 0/58408 [00:00<?, ?it/s]"
      ]
     },
     "metadata": {},
     "output_type": "display_data"
    },
    {
     "data": {
      "application/vnd.jupyter.widget-view+json": {
       "model_id": "19358191e56a402c981743658ccd302f",
       "version_major": 2,
       "version_minor": 0
      },
      "text/plain": [
       "  0%|          | 0/58408 [00:00<?, ?it/s]"
      ]
     },
     "metadata": {},
     "output_type": "display_data"
    },
    {
     "data": {
      "application/vnd.jupyter.widget-view+json": {
       "model_id": "9fae356a4b474e519294af7698bc33d1",
       "version_major": 2,
       "version_minor": 0
      },
      "text/plain": [
       "  0%|          | 0/58408 [00:00<?, ?it/s]"
      ]
     },
     "metadata": {},
     "output_type": "display_data"
    },
    {
     "name": "stdout",
     "output_type": "stream",
     "text": [
      "Reading /data/vladimiroved/realWorldTableTennis/sub-14/eeg/sub-14_task-TableTennis_eeg.fdt\n",
      "Reading 0 ... 1129763  =      0.000 ...  4519.052 secs...\n"
     ]
    },
    {
     "name": "stderr",
     "output_type": "stream",
     "text": [
      "/tmp/ipykernel_1842469/1458919944.py:12: RuntimeWarning: Unknown types found, setting as type EEG:\n",
      "acc: ['CGY-x', 'CGY-y', 'CGY-z', 'CWR-x', 'CWR-y', 'CWR-z', 'NGY-x', 'NGY-y', 'NGY-z', 'NWR-x', 'NWR-y', 'NWR-z']\n",
      "cometas: ['BallMachine_Acc_X(g)', 'BallMachine_Acc_Y(g)', 'BallMachine_Acc_Z(g)', 'IMU1_RMS', 'Imu_1 :W():', 'Imu_1 :X():', 'Imu_1 :Y():', 'Imu_1 :Z():', 'Imu_1_ImuGyro :X(D/s):', 'Imu_1_ImuGyro :Y(D/s):', 'Imu_1_ImuGyro :Z(D/s):', 'Imu_1_ImuMag :X(uT):', 'Imu_1_ImuMag :Y(uT):', 'Imu_1_ImuMag :Z(uT):', 'Imu_2 :W():', 'Imu_2 :X():', 'Imu_2 :Y():', 'Imu_2 :Z():', 'Imu_2_ImuGyro :X(D/s):', 'Imu_2_ImuGyro :Y(D/s):', 'Imu_2_ImuGyro :Z(D/s):', 'Imu_2_ImuMag :X(uT):', 'Imu_2_ImuMag :Y(uT):', 'Imu_2_ImuMag :Z(uT):', 'Imu_4 :W():', 'Imu_4 :X():', 'Imu_4 :Y():', 'Imu_4 :Z():', 'Imu_4_ImuGyro :X(D/s):', 'Imu_4_ImuGyro :Y(D/s):', 'Imu_4_ImuGyro :Z(D/s):', 'Imu_4_ImuMag :X(uT):', 'Imu_4_ImuMag :Y(uT):', 'Imu_4_ImuMag :Z(uT):', 'Net_Acc_X(g)', 'Net_Acc_Y(g)', 'Net_Acc_Z(g)', 'Participant_Backpack_Acc_X(g)', 'Participant_Backpack_Acc_Y(g)', 'Participant_Backpack_Acc_Z(g)', 'Participant_Paddle_Acc_X(g)', 'Participant_Paddle_Acc_Y(g)', 'Participant_Paddle_Acc_Z(g)', 'Researcher_Paddle_Acc_X(g)', 'Researcher_Paddle_Acc_Y(g)', 'Researcher_Paddle_Acc_Z(g)', 'SyncPulse(uV)', 'Table_OtherSide_Acc_X(g)', 'Table_OtherSide_Acc_Y(g)', 'Table_OtherSide_Acc_Z(g)', 'Table_ParticipantSide_Acc_X(g)', 'Table_ParticipantSide_Acc_Y(g)', 'Table_ParticipantSide_Acc_Z(g)']\n",
      "noise: ['N-AF3', 'N-AF4', 'N-AF7', 'N-AF8', 'N-AFF1h', 'N-AFF2h', 'N-AFF5h', 'N-AFF6h', 'N-AFp1', 'N-AFp2', 'N-AFz', 'N-C1', 'N-C2', 'N-C3', 'N-C4', 'N-C5', 'N-C6', 'N-CCP1h', 'N-CCP2h', 'N-CCP3h', 'N-CCP4h', 'N-CCP5h', 'N-CCP6h', 'N-CP1', 'N-CP2', 'N-CP3', 'N-CP4', 'N-CP5', 'N-CP6', 'N-CPP1h', 'N-CPP2h', 'N-CPP3h', 'N-CPP4h', 'N-CPP5h', 'N-CPP6h', 'N-Cz', 'N-F1', 'N-F10', 'N-F2', 'N-F3', 'N-F4', 'N-F5', 'N-F6', 'N-F7', 'N-F8', 'N-F9', 'N-FC1', 'N-FC2', 'N-FC3', 'N-FC4', 'N-FC5', 'N-FC6', 'N-FCC1h', 'N-FCC2h', 'N-FCC3h', 'N-FCC4h', 'N-FCC5h', 'N-FCC6h', 'N-FCz', 'N-FFC1h', 'N-FFC2h', 'N-FFC3h', 'N-FFC4h', 'N-FFC5h', 'N-FFC6h', 'N-FFT10h', 'N-FFT7h', 'N-FFT8h', 'N-FFT9h', 'N-FP2', 'N-FT10', 'N-FT7', 'N-FT8', 'N-FT9', 'N-FTT10h', 'N-FTT7h', 'N-FTT8h', 'N-FTT9h', 'N-Fp1', 'N-Fz', 'N-Iz', 'N-O1', 'N-O2', 'N-OI1h', 'N-OI2h', 'N-Oz', 'N-P1', 'N-P2', 'N-P3', 'N-P4', 'N-P5', 'N-P6', 'N-P7', 'N-P8', 'N-PO3', 'N-PO4', 'N-PO7', 'N-PO8', 'N-POO1', 'N-POO10h', 'N-POO2', 'N-POO9h', 'N-POz', 'N-PPO10h', 'N-PPO1h', 'N-PPO2h', 'N-PPO5h', 'N-PPO6h', 'N-PPO9h', 'N-Pz', 'N-T7', 'N-T8', 'N-TP7', 'N-TP8', 'N-TPP10h', 'N-TPP7h', 'N-TPP8h', 'N-TPP9h', 'N-TTP7h', 'N-TTP8h']\n",
      "  raw_eeg = mne.io.read_raw_eeglab(eeg_dirname + f'sub-{SUB_ID}_task-TableTennis_eeg.set', preload=True)\n",
      "/tmp/ipykernel_1842469/1458919944.py:12: RuntimeWarning: Estimated head radius (11.8 cm) is above the 99th percentile for adult head size. Check if the montage_units argument is correct (the default is \"mm\", but your channel positions may be in different units).\n",
      "  raw_eeg = mne.io.read_raw_eeglab(eeg_dirname + f'sub-{SUB_ID}_task-TableTennis_eeg.set', preload=True)\n",
      "/tmp/ipykernel_1842469/1458919944.py:12: RuntimeWarning: Data file name in EEG.data (sub-14_task-tabletennis_eeg.fdt) is incorrect, the file name must have changed on disk, using the correct file name (sub-14_task-TableTennis_eeg.fdt).\n",
      "  raw_eeg = mne.io.read_raw_eeglab(eeg_dirname + f'sub-{SUB_ID}_task-TableTennis_eeg.set', preload=True)\n"
     ]
    },
    {
     "name": "stdout",
     "output_type": "stream",
     "text": [
      "NOTE: pick_channels() is a legacy function. New code should use inst.pick(...).\n"
     ]
    },
    {
     "name": "stderr",
     "output_type": "stream",
     "text": [
      "/tmp/ipykernel_1842469/1458919944.py:12: RuntimeWarning: Omitted 1 annotation(s) that were outside data range.\n",
      "  raw_eeg = mne.io.read_raw_eeglab(eeg_dirname + f'sub-{SUB_ID}_task-TableTennis_eeg.set', preload=True)\n",
      "/tmp/ipykernel_1842469/1458919944.py:12: RuntimeWarning: The data contains 'boundary' events, indicating data discontinuities. Be cautious of filtering and epoching around these events.\n",
      "  raw_eeg = mne.io.read_raw_eeglab(eeg_dirname + f'sub-{SUB_ID}_task-TableTennis_eeg.set', preload=True)\n",
      "/tmp/ipykernel_1842469/1458919944.py:12: RuntimeWarning: Not setting positions of 8 emg channels found in montage:\n",
      "['LISCM', 'LSSCM', 'LSTrap', 'LITrap', 'RITrap', 'RISCM', 'RSSCM', 'RSTrap']\n",
      "Consider setting the channel types to be of EEG/sEEG/ECoG/DBS/fNIRS using inst.set_channel_types before calling inst.set_montage, or omit these channels when creating your montage.\n",
      "  raw_eeg = mne.io.read_raw_eeglab(eeg_dirname + f'sub-{SUB_ID}_task-TableTennis_eeg.set', preload=True)\n"
     ]
    },
    {
     "data": {
      "application/vnd.jupyter.widget-view+json": {
       "model_id": "fffd30a4266141a3b28a8a7c18acdd03",
       "version_major": 2,
       "version_minor": 0
      },
      "text/plain": [
       "  0%|          | 0/73918 [00:00<?, ?it/s]"
      ]
     },
     "metadata": {},
     "output_type": "display_data"
    },
    {
     "data": {
      "application/vnd.jupyter.widget-view+json": {
       "model_id": "9403580e548f42c1bd30b54fc1599aee",
       "version_major": 2,
       "version_minor": 0
      },
      "text/plain": [
       "  0%|          | 0/73918 [00:00<?, ?it/s]"
      ]
     },
     "metadata": {},
     "output_type": "display_data"
    },
    {
     "data": {
      "application/vnd.jupyter.widget-view+json": {
       "model_id": "1b3298b2aca045869290450d28781a84",
       "version_major": 2,
       "version_minor": 0
      },
      "text/plain": [
       "  0%|          | 0/73918 [00:00<?, ?it/s]"
      ]
     },
     "metadata": {},
     "output_type": "display_data"
    },
    {
     "data": {
      "application/vnd.jupyter.widget-view+json": {
       "model_id": "50d04a5e0f684ccdb4720bacdcc0ad8a",
       "version_major": 2,
       "version_minor": 0
      },
      "text/plain": [
       "  0%|          | 0/73918 [00:00<?, ?it/s]"
      ]
     },
     "metadata": {},
     "output_type": "display_data"
    },
    {
     "name": "stdout",
     "output_type": "stream",
     "text": [
      "Reading /data/vladimiroved/realWorldTableTennis/sub-15/eeg/sub-15_task-TableTennis_eeg.fdt\n",
      "Reading 0 ... 1105756  =      0.000 ...  4423.024 secs...\n"
     ]
    },
    {
     "name": "stderr",
     "output_type": "stream",
     "text": [
      "/tmp/ipykernel_1842469/1458919944.py:12: RuntimeWarning: Unknown types found, setting as type EEG:\n",
      "acc: ['CGY-x', 'CGY-y', 'CGY-z', 'CWR-x', 'CWR-y', 'CWR-z', 'NGY-x', 'NGY-y', 'NGY-z', 'NWR-x', 'NWR-y', 'NWR-z']\n",
      "cometas: ['BallMachine_Acc_X(g)', 'BallMachine_Acc_Y(g)', 'BallMachine_Acc_Z(g)', 'IMU1_RMS', 'Imu_1 :W():', 'Imu_1 :X():', 'Imu_1 :Y():', 'Imu_1 :Z():', 'Imu_1_ImuGyro :X(D/s):', 'Imu_1_ImuGyro :Y(D/s):', 'Imu_1_ImuGyro :Z(D/s):', 'Imu_1_ImuMag :X(uT):', 'Imu_1_ImuMag :Y(uT):', 'Imu_1_ImuMag :Z(uT):', 'Imu_2 :W():', 'Imu_2 :X():', 'Imu_2 :Y():', 'Imu_2 :Z():', 'Imu_2_ImuGyro :X(D/s):', 'Imu_2_ImuGyro :Y(D/s):', 'Imu_2_ImuGyro :Z(D/s):', 'Imu_2_ImuMag :X(uT):', 'Imu_2_ImuMag :Y(uT):', 'Imu_2_ImuMag :Z(uT):', 'Imu_4 :W():', 'Imu_4 :X():', 'Imu_4 :Y():', 'Imu_4 :Z():', 'Imu_4_ImuGyro :X(D/s):', 'Imu_4_ImuGyro :Y(D/s):', 'Imu_4_ImuGyro :Z(D/s):', 'Imu_4_ImuMag :X(uT):', 'Imu_4_ImuMag :Y(uT):', 'Imu_4_ImuMag :Z(uT):', 'Net_Acc_X(g)', 'Net_Acc_Y(g)', 'Net_Acc_Z(g)', 'Participant_Backpack_Acc_X(g)', 'Participant_Backpack_Acc_Y(g)', 'Participant_Backpack_Acc_Z(g)', 'Participant_Paddle_Acc_X(g)', 'Participant_Paddle_Acc_Y(g)', 'Participant_Paddle_Acc_Z(g)', 'Researcher_Paddle_Acc_X(g)', 'Researcher_Paddle_Acc_Y(g)', 'Researcher_Paddle_Acc_Z(g)', 'SyncPulse(uV)', 'Table_OtherSide_Acc_X(g)', 'Table_OtherSide_Acc_Y(g)', 'Table_OtherSide_Acc_Z(g)', 'Table_ParticipantSide_Acc_X(g)', 'Table_ParticipantSide_Acc_Y(g)', 'Table_ParticipantSide_Acc_Z(g)']\n",
      "noise: ['N-AF3', 'N-AF4', 'N-AF7', 'N-AF8', 'N-AFF1h', 'N-AFF2h', 'N-AFF5h', 'N-AFF6h', 'N-AFp1', 'N-AFp2', 'N-AFz', 'N-C1', 'N-C2', 'N-C3', 'N-C4', 'N-C5', 'N-C6', 'N-CCP1h', 'N-CCP2h', 'N-CCP3h', 'N-CCP4h', 'N-CCP5h', 'N-CCP6h', 'N-CP1', 'N-CP2', 'N-CP3', 'N-CP4', 'N-CP5', 'N-CP6', 'N-CPP1h', 'N-CPP2h', 'N-CPP3h', 'N-CPP4h', 'N-CPP5h', 'N-CPP6h', 'N-Cz', 'N-F1', 'N-F10', 'N-F2', 'N-F3', 'N-F4', 'N-F5', 'N-F6', 'N-F7', 'N-F8', 'N-F9', 'N-FC1', 'N-FC2', 'N-FC3', 'N-FC4', 'N-FC5', 'N-FC6', 'N-FCC1h', 'N-FCC2h', 'N-FCC3h', 'N-FCC4h', 'N-FCC5h', 'N-FCC6h', 'N-FCz', 'N-FFC1h', 'N-FFC2h', 'N-FFC3h', 'N-FFC4h', 'N-FFC5h', 'N-FFC6h', 'N-FFT10h', 'N-FFT7h', 'N-FFT8h', 'N-FFT9h', 'N-FP2', 'N-FT10', 'N-FT7', 'N-FT8', 'N-FT9', 'N-FTT10h', 'N-FTT7h', 'N-FTT8h', 'N-FTT9h', 'N-Fp1', 'N-Fz', 'N-Iz', 'N-O1', 'N-O2', 'N-OI1h', 'N-OI2h', 'N-Oz', 'N-P1', 'N-P2', 'N-P3', 'N-P4', 'N-P5', 'N-P6', 'N-P7', 'N-P8', 'N-PO3', 'N-PO4', 'N-PO7', 'N-PO8', 'N-POO1', 'N-POO10h', 'N-POO2', 'N-POO9h', 'N-POz', 'N-PPO10h', 'N-PPO1h', 'N-PPO2h', 'N-PPO5h', 'N-PPO6h', 'N-PPO9h', 'N-Pz', 'N-T7', 'N-T8', 'N-TP7', 'N-TP8', 'N-TPP10h', 'N-TPP7h', 'N-TPP8h', 'N-TPP9h', 'N-TTP7h', 'N-TTP8h']\n",
      "  raw_eeg = mne.io.read_raw_eeglab(eeg_dirname + f'sub-{SUB_ID}_task-TableTennis_eeg.set', preload=True)\n",
      "/tmp/ipykernel_1842469/1458919944.py:12: RuntimeWarning: Estimated head radius (11.1 cm) is above the 99th percentile for adult head size. Check if the montage_units argument is correct (the default is \"mm\", but your channel positions may be in different units).\n",
      "  raw_eeg = mne.io.read_raw_eeglab(eeg_dirname + f'sub-{SUB_ID}_task-TableTennis_eeg.set', preload=True)\n",
      "/tmp/ipykernel_1842469/1458919944.py:12: RuntimeWarning: Data file name in EEG.data (sub-15_task-tabletennis_eeg.fdt) is incorrect, the file name must have changed on disk, using the correct file name (sub-15_task-TableTennis_eeg.fdt).\n",
      "  raw_eeg = mne.io.read_raw_eeglab(eeg_dirname + f'sub-{SUB_ID}_task-TableTennis_eeg.set', preload=True)\n"
     ]
    },
    {
     "name": "stdout",
     "output_type": "stream",
     "text": [
      "NOTE: pick_channels() is a legacy function. New code should use inst.pick(...).\n"
     ]
    },
    {
     "name": "stderr",
     "output_type": "stream",
     "text": [
      "/tmp/ipykernel_1842469/1458919944.py:12: RuntimeWarning: Omitted 1 annotation(s) that were outside data range.\n",
      "  raw_eeg = mne.io.read_raw_eeglab(eeg_dirname + f'sub-{SUB_ID}_task-TableTennis_eeg.set', preload=True)\n",
      "/tmp/ipykernel_1842469/1458919944.py:12: RuntimeWarning: The data contains 'boundary' events, indicating data discontinuities. Be cautious of filtering and epoching around these events.\n",
      "  raw_eeg = mne.io.read_raw_eeglab(eeg_dirname + f'sub-{SUB_ID}_task-TableTennis_eeg.set', preload=True)\n",
      "/tmp/ipykernel_1842469/1458919944.py:12: RuntimeWarning: Not setting positions of 8 emg channels found in montage:\n",
      "['LISCM', 'LSSCM', 'LSTrap', 'LITrap', 'RITrap', 'RISCM', 'RSSCM', 'RSTrap']\n",
      "Consider setting the channel types to be of EEG/sEEG/ECoG/DBS/fNIRS using inst.set_channel_types before calling inst.set_montage, or omit these channels when creating your montage.\n",
      "  raw_eeg = mne.io.read_raw_eeglab(eeg_dirname + f'sub-{SUB_ID}_task-TableTennis_eeg.set', preload=True)\n"
     ]
    },
    {
     "data": {
      "application/vnd.jupyter.widget-view+json": {
       "model_id": "35f1b156a90749e880af9f5af196954b",
       "version_major": 2,
       "version_minor": 0
      },
      "text/plain": [
       "  0%|          | 0/56375 [00:00<?, ?it/s]"
      ]
     },
     "metadata": {},
     "output_type": "display_data"
    },
    {
     "data": {
      "application/vnd.jupyter.widget-view+json": {
       "model_id": "7bc698ffbeff45d8b80ff1473870c760",
       "version_major": 2,
       "version_minor": 0
      },
      "text/plain": [
       "  0%|          | 0/56375 [00:00<?, ?it/s]"
      ]
     },
     "metadata": {},
     "output_type": "display_data"
    },
    {
     "data": {
      "application/vnd.jupyter.widget-view+json": {
       "model_id": "d767b52750324603ae0805834c451f94",
       "version_major": 2,
       "version_minor": 0
      },
      "text/plain": [
       "  0%|          | 0/56375 [00:00<?, ?it/s]"
      ]
     },
     "metadata": {},
     "output_type": "display_data"
    },
    {
     "data": {
      "application/vnd.jupyter.widget-view+json": {
       "model_id": "a990b1302c0447be88bd46354fe2f394",
       "version_major": 2,
       "version_minor": 0
      },
      "text/plain": [
       "  0%|          | 0/56375 [00:00<?, ?it/s]"
      ]
     },
     "metadata": {},
     "output_type": "display_data"
    },
    {
     "name": "stdout",
     "output_type": "stream",
     "text": [
      "Reading /data/vladimiroved/realWorldTableTennis/sub-16/eeg/sub-16_task-TableTennis_eeg.fdt\n",
      "Reading 0 ... 1151915  =      0.000 ...  4607.660 secs...\n"
     ]
    },
    {
     "name": "stderr",
     "output_type": "stream",
     "text": [
      "/tmp/ipykernel_1842469/1458919944.py:12: RuntimeWarning: Unknown types found, setting as type EEG:\n",
      "acc: ['CGY-x', 'CGY-y', 'CGY-z', 'CWR-x', 'CWR-y', 'CWR-z', 'NGY-x', 'NGY-y', 'NGY-z', 'NWR-x', 'NWR-y', 'NWR-z']\n",
      "cometas: ['BallMachine_Acc_X(g)', 'BallMachine_Acc_Y(g)', 'BallMachine_Acc_Z(g)', 'IMU1_RMS', 'Imu_1 :W():', 'Imu_1 :X():', 'Imu_1 :Y():', 'Imu_1 :Z():', 'Imu_1_ImuGyro :X(D/s):', 'Imu_1_ImuGyro :Y(D/s):', 'Imu_1_ImuGyro :Z(D/s):', 'Imu_1_ImuMag :X(uT):', 'Imu_1_ImuMag :Y(uT):', 'Imu_1_ImuMag :Z(uT):', 'Imu_2 :W():', 'Imu_2 :X():', 'Imu_2 :Y():', 'Imu_2 :Z():', 'Imu_2_ImuGyro :X(D/s):', 'Imu_2_ImuGyro :Y(D/s):', 'Imu_2_ImuGyro :Z(D/s):', 'Imu_2_ImuMag :X(uT):', 'Imu_2_ImuMag :Y(uT):', 'Imu_2_ImuMag :Z(uT):', 'Imu_4 :W():', 'Imu_4 :X():', 'Imu_4 :Y():', 'Imu_4 :Z():', 'Imu_4_ImuGyro :X(D/s):', 'Imu_4_ImuGyro :Y(D/s):', 'Imu_4_ImuGyro :Z(D/s):', 'Imu_4_ImuMag :X(uT):', 'Imu_4_ImuMag :Y(uT):', 'Imu_4_ImuMag :Z(uT):', 'Net_Acc_X(g)', 'Net_Acc_Y(g)', 'Net_Acc_Z(g)', 'Participant_Backpack_Acc_X(g)', 'Participant_Backpack_Acc_Y(g)', 'Participant_Backpack_Acc_Z(g)', 'Participant_Paddle_Acc_X(g)', 'Participant_Paddle_Acc_Y(g)', 'Participant_Paddle_Acc_Z(g)', 'Researcher_Paddle_Acc_X(g)', 'Researcher_Paddle_Acc_Y(g)', 'Researcher_Paddle_Acc_Z(g)', 'SyncPulse(uV)', 'Table_OtherSide_Acc_X(g)', 'Table_OtherSide_Acc_Y(g)', 'Table_OtherSide_Acc_Z(g)', 'Table_ParticipantSide_Acc_X(g)', 'Table_ParticipantSide_Acc_Y(g)', 'Table_ParticipantSide_Acc_Z(g)']\n",
      "noise: ['N-AF3', 'N-AF4', 'N-AF7', 'N-AF8', 'N-AFF1h', 'N-AFF2h', 'N-AFF5h', 'N-AFF6h', 'N-AFp1', 'N-AFp2', 'N-AFz', 'N-C1', 'N-C2', 'N-C3', 'N-C4', 'N-C5', 'N-C6', 'N-CCP1h', 'N-CCP2h', 'N-CCP3h', 'N-CCP4h', 'N-CCP5h', 'N-CCP6h', 'N-CP1', 'N-CP2', 'N-CP3', 'N-CP4', 'N-CP5', 'N-CP6', 'N-CPP1h', 'N-CPP2h', 'N-CPP3h', 'N-CPP4h', 'N-CPP5h', 'N-CPP6h', 'N-Cz', 'N-F1', 'N-F10', 'N-F2', 'N-F3', 'N-F4', 'N-F5', 'N-F6', 'N-F7', 'N-F8', 'N-F9', 'N-FC1', 'N-FC2', 'N-FC3', 'N-FC4', 'N-FC5', 'N-FC6', 'N-FCC1h', 'N-FCC2h', 'N-FCC3h', 'N-FCC4h', 'N-FCC5h', 'N-FCC6h', 'N-FCz', 'N-FFC1h', 'N-FFC2h', 'N-FFC3h', 'N-FFC4h', 'N-FFC5h', 'N-FFC6h', 'N-FFT10h', 'N-FFT7h', 'N-FFT8h', 'N-FFT9h', 'N-FP2', 'N-FT10', 'N-FT7', 'N-FT8', 'N-FT9', 'N-FTT10h', 'N-FTT7h', 'N-FTT8h', 'N-FTT9h', 'N-Fp1', 'N-Fz', 'N-Iz', 'N-O1', 'N-O2', 'N-OI1h', 'N-OI2h', 'N-Oz', 'N-P1', 'N-P2', 'N-P3', 'N-P4', 'N-P5', 'N-P6', 'N-P7', 'N-P8', 'N-PO3', 'N-PO4', 'N-PO7', 'N-PO8', 'N-POO1', 'N-POO10h', 'N-POO2', 'N-POO9h', 'N-POz', 'N-PPO10h', 'N-PPO1h', 'N-PPO2h', 'N-PPO5h', 'N-PPO6h', 'N-PPO9h', 'N-Pz', 'N-T7', 'N-T8', 'N-TP7', 'N-TP8', 'N-TPP10h', 'N-TPP7h', 'N-TPP8h', 'N-TPP9h', 'N-TTP7h', 'N-TTP8h']\n",
      "  raw_eeg = mne.io.read_raw_eeglab(eeg_dirname + f'sub-{SUB_ID}_task-TableTennis_eeg.set', preload=True)\n",
      "/tmp/ipykernel_1842469/1458919944.py:12: RuntimeWarning: Estimated head radius (11.6 cm) is above the 99th percentile for adult head size. Check if the montage_units argument is correct (the default is \"mm\", but your channel positions may be in different units).\n",
      "  raw_eeg = mne.io.read_raw_eeglab(eeg_dirname + f'sub-{SUB_ID}_task-TableTennis_eeg.set', preload=True)\n",
      "/tmp/ipykernel_1842469/1458919944.py:12: RuntimeWarning: Data file name in EEG.data (sub-16_task-tabletennis_eeg.fdt) is incorrect, the file name must have changed on disk, using the correct file name (sub-16_task-TableTennis_eeg.fdt).\n",
      "  raw_eeg = mne.io.read_raw_eeglab(eeg_dirname + f'sub-{SUB_ID}_task-TableTennis_eeg.set', preload=True)\n"
     ]
    },
    {
     "name": "stdout",
     "output_type": "stream",
     "text": [
      "NOTE: pick_channels() is a legacy function. New code should use inst.pick(...).\n"
     ]
    },
    {
     "name": "stderr",
     "output_type": "stream",
     "text": [
      "/tmp/ipykernel_1842469/1458919944.py:12: RuntimeWarning: Omitted 1 annotation(s) that were outside data range.\n",
      "  raw_eeg = mne.io.read_raw_eeglab(eeg_dirname + f'sub-{SUB_ID}_task-TableTennis_eeg.set', preload=True)\n",
      "/tmp/ipykernel_1842469/1458919944.py:12: RuntimeWarning: The data contains 'boundary' events, indicating data discontinuities. Be cautious of filtering and epoching around these events.\n",
      "  raw_eeg = mne.io.read_raw_eeglab(eeg_dirname + f'sub-{SUB_ID}_task-TableTennis_eeg.set', preload=True)\n",
      "/tmp/ipykernel_1842469/1458919944.py:12: RuntimeWarning: Not setting positions of 8 emg channels found in montage:\n",
      "['LISCM', 'LSSCM', 'LSTrap', 'LITrap', 'RITrap', 'RISCM', 'RSSCM', 'RSTrap']\n",
      "Consider setting the channel types to be of EEG/sEEG/ECoG/DBS/fNIRS using inst.set_channel_types before calling inst.set_montage, or omit these channels when creating your montage.\n",
      "  raw_eeg = mne.io.read_raw_eeglab(eeg_dirname + f'sub-{SUB_ID}_task-TableTennis_eeg.set', preload=True)\n"
     ]
    },
    {
     "data": {
      "application/vnd.jupyter.widget-view+json": {
       "model_id": "7e4f698104f24f1e8a2e5c369c024269",
       "version_major": 2,
       "version_minor": 0
      },
      "text/plain": [
       "  0%|          | 0/83889 [00:00<?, ?it/s]"
      ]
     },
     "metadata": {},
     "output_type": "display_data"
    },
    {
     "data": {
      "application/vnd.jupyter.widget-view+json": {
       "model_id": "3bf62431314c4358be596bdc47a9e1b2",
       "version_major": 2,
       "version_minor": 0
      },
      "text/plain": [
       "  0%|          | 0/83889 [00:00<?, ?it/s]"
      ]
     },
     "metadata": {},
     "output_type": "display_data"
    },
    {
     "data": {
      "application/vnd.jupyter.widget-view+json": {
       "model_id": "1ef37b8754f247c09b0646ae49d3ed4f",
       "version_major": 2,
       "version_minor": 0
      },
      "text/plain": [
       "  0%|          | 0/83889 [00:00<?, ?it/s]"
      ]
     },
     "metadata": {},
     "output_type": "display_data"
    },
    {
     "data": {
      "application/vnd.jupyter.widget-view+json": {
       "model_id": "c01fc96f853b4e759b5fb65f9c0848e3",
       "version_major": 2,
       "version_minor": 0
      },
      "text/plain": [
       "  0%|          | 0/83889 [00:00<?, ?it/s]"
      ]
     },
     "metadata": {},
     "output_type": "display_data"
    },
    {
     "name": "stdout",
     "output_type": "stream",
     "text": [
      "Reading /data/vladimiroved/realWorldTableTennis/sub-17/eeg/sub-17_task-TableTennis_eeg.fdt\n",
      "Reading 0 ... 1119558  =      0.000 ...  4478.232 secs...\n"
     ]
    },
    {
     "name": "stderr",
     "output_type": "stream",
     "text": [
      "/tmp/ipykernel_1842469/1458919944.py:12: RuntimeWarning: Unknown types found, setting as type EEG:\n",
      "acc: ['CGY-x', 'CGY-y', 'CGY-z', 'CWR-x', 'CWR-y', 'CWR-z', 'NGY-x', 'NGY-y', 'NGY-z', 'NWR-x', 'NWR-y', 'NWR-z']\n",
      "cometas: ['BallMachine_Acc_X(g)', 'BallMachine_Acc_Y(g)', 'BallMachine_Acc_Z(g)', 'IMU1_RMS', 'Imu_1 :W():', 'Imu_1 :X():', 'Imu_1 :Y():', 'Imu_1 :Z():', 'Imu_1_ImuGyro :X(D/s):', 'Imu_1_ImuGyro :Y(D/s):', 'Imu_1_ImuGyro :Z(D/s):', 'Imu_1_ImuMag :X(uT):', 'Imu_1_ImuMag :Y(uT):', 'Imu_1_ImuMag :Z(uT):', 'Imu_2 :W():', 'Imu_2 :X():', 'Imu_2 :Y():', 'Imu_2 :Z():', 'Imu_2_ImuGyro :X(D/s):', 'Imu_2_ImuGyro :Y(D/s):', 'Imu_2_ImuGyro :Z(D/s):', 'Imu_2_ImuMag :X(uT):', 'Imu_2_ImuMag :Y(uT):', 'Imu_2_ImuMag :Z(uT):', 'Imu_4 :W():', 'Imu_4 :X():', 'Imu_4 :Y():', 'Imu_4 :Z():', 'Imu_4_ImuGyro :X(D/s):', 'Imu_4_ImuGyro :Y(D/s):', 'Imu_4_ImuGyro :Z(D/s):', 'Imu_4_ImuMag :X(uT):', 'Imu_4_ImuMag :Y(uT):', 'Imu_4_ImuMag :Z(uT):', 'Net_Acc_X(g)', 'Net_Acc_Y(g)', 'Net_Acc_Z(g)', 'Participant_Backpack_Acc_X(g)', 'Participant_Backpack_Acc_Y(g)', 'Participant_Backpack_Acc_Z(g)', 'Participant_Paddle_Acc_X(g)', 'Participant_Paddle_Acc_Y(g)', 'Participant_Paddle_Acc_Z(g)', 'Researcher_Paddle_Acc_X(g)', 'Researcher_Paddle_Acc_Y(g)', 'Researcher_Paddle_Acc_Z(g)', 'SyncPulse(uV)', 'Table_OtherSide_Acc_X(g)', 'Table_OtherSide_Acc_Y(g)', 'Table_OtherSide_Acc_Z(g)', 'Table_ParticipantSide_Acc_X(g)', 'Table_ParticipantSide_Acc_Y(g)', 'Table_ParticipantSide_Acc_Z(g)']\n",
      "noise: ['N-AF3', 'N-AF4', 'N-AF7', 'N-AF8', 'N-AFF1h', 'N-AFF2h', 'N-AFF5h', 'N-AFF6h', 'N-AFp1', 'N-AFp2', 'N-AFz', 'N-C1', 'N-C2', 'N-C3', 'N-C4', 'N-C5', 'N-C6', 'N-CCP1h', 'N-CCP2h', 'N-CCP3h', 'N-CCP4h', 'N-CCP5h', 'N-CCP6h', 'N-CP1', 'N-CP2', 'N-CP3', 'N-CP4', 'N-CP5', 'N-CP6', 'N-CPP1h', 'N-CPP2h', 'N-CPP3h', 'N-CPP4h', 'N-CPP5h', 'N-CPP6h', 'N-Cz', 'N-F1', 'N-F10', 'N-F2', 'N-F3', 'N-F4', 'N-F5', 'N-F6', 'N-F7', 'N-F8', 'N-F9', 'N-FC1', 'N-FC2', 'N-FC3', 'N-FC4', 'N-FC5', 'N-FC6', 'N-FCC1h', 'N-FCC2h', 'N-FCC3h', 'N-FCC4h', 'N-FCC5h', 'N-FCC6h', 'N-FCz', 'N-FFC1h', 'N-FFC2h', 'N-FFC3h', 'N-FFC4h', 'N-FFC5h', 'N-FFC6h', 'N-FFT10h', 'N-FFT7h', 'N-FFT8h', 'N-FFT9h', 'N-FP2', 'N-FT10', 'N-FT7', 'N-FT8', 'N-FT9', 'N-FTT10h', 'N-FTT7h', 'N-FTT8h', 'N-FTT9h', 'N-Fp1', 'N-Fz', 'N-Iz', 'N-O1', 'N-O2', 'N-OI1h', 'N-OI2h', 'N-Oz', 'N-P1', 'N-P2', 'N-P3', 'N-P4', 'N-P5', 'N-P6', 'N-P7', 'N-P8', 'N-PO3', 'N-PO4', 'N-PO7', 'N-PO8', 'N-POO1', 'N-POO10h', 'N-POO2', 'N-POO9h', 'N-POz', 'N-PPO10h', 'N-PPO1h', 'N-PPO2h', 'N-PPO5h', 'N-PPO6h', 'N-PPO9h', 'N-Pz', 'N-T7', 'N-T8', 'N-TP7', 'N-TP8', 'N-TPP10h', 'N-TPP7h', 'N-TPP8h', 'N-TPP9h', 'N-TTP7h', 'N-TTP8h']\n",
      "  raw_eeg = mne.io.read_raw_eeglab(eeg_dirname + f'sub-{SUB_ID}_task-TableTennis_eeg.set', preload=True)\n",
      "/tmp/ipykernel_1842469/1458919944.py:12: RuntimeWarning: Estimated head radius (11.7 cm) is above the 99th percentile for adult head size. Check if the montage_units argument is correct (the default is \"mm\", but your channel positions may be in different units).\n",
      "  raw_eeg = mne.io.read_raw_eeglab(eeg_dirname + f'sub-{SUB_ID}_task-TableTennis_eeg.set', preload=True)\n",
      "/tmp/ipykernel_1842469/1458919944.py:12: RuntimeWarning: Data file name in EEG.data (sub-17_task-tabletennis_eeg.fdt) is incorrect, the file name must have changed on disk, using the correct file name (sub-17_task-TableTennis_eeg.fdt).\n",
      "  raw_eeg = mne.io.read_raw_eeglab(eeg_dirname + f'sub-{SUB_ID}_task-TableTennis_eeg.set', preload=True)\n"
     ]
    },
    {
     "name": "stdout",
     "output_type": "stream",
     "text": [
      "NOTE: pick_channels() is a legacy function. New code should use inst.pick(...).\n"
     ]
    },
    {
     "name": "stderr",
     "output_type": "stream",
     "text": [
      "/tmp/ipykernel_1842469/1458919944.py:12: RuntimeWarning: Omitted 1 annotation(s) that were outside data range.\n",
      "  raw_eeg = mne.io.read_raw_eeglab(eeg_dirname + f'sub-{SUB_ID}_task-TableTennis_eeg.set', preload=True)\n",
      "/tmp/ipykernel_1842469/1458919944.py:12: RuntimeWarning: The data contains 'boundary' events, indicating data discontinuities. Be cautious of filtering and epoching around these events.\n",
      "  raw_eeg = mne.io.read_raw_eeglab(eeg_dirname + f'sub-{SUB_ID}_task-TableTennis_eeg.set', preload=True)\n",
      "/tmp/ipykernel_1842469/1458919944.py:12: RuntimeWarning: Not setting positions of 8 emg channels found in montage:\n",
      "['LISCM', 'LSSCM', 'LSTrap', 'LITrap', 'RITrap', 'RISCM', 'RSSCM', 'RSTrap']\n",
      "Consider setting the channel types to be of EEG/sEEG/ECoG/DBS/fNIRS using inst.set_channel_types before calling inst.set_montage, or omit these channels when creating your montage.\n",
      "  raw_eeg = mne.io.read_raw_eeglab(eeg_dirname + f'sub-{SUB_ID}_task-TableTennis_eeg.set', preload=True)\n"
     ]
    },
    {
     "data": {
      "application/vnd.jupyter.widget-view+json": {
       "model_id": "f048f4cfe0e04b2683ca7ae0752bbc52",
       "version_major": 2,
       "version_minor": 0
      },
      "text/plain": [
       "  0%|          | 0/61956 [00:00<?, ?it/s]"
      ]
     },
     "metadata": {},
     "output_type": "display_data"
    },
    {
     "data": {
      "application/vnd.jupyter.widget-view+json": {
       "model_id": "291c7422db4a41c983bba17fbc65578f",
       "version_major": 2,
       "version_minor": 0
      },
      "text/plain": [
       "  0%|          | 0/61956 [00:00<?, ?it/s]"
      ]
     },
     "metadata": {},
     "output_type": "display_data"
    },
    {
     "data": {
      "application/vnd.jupyter.widget-view+json": {
       "model_id": "cc2ed13e102b4ed9aff736228b88d3a0",
       "version_major": 2,
       "version_minor": 0
      },
      "text/plain": [
       "  0%|          | 0/61956 [00:00<?, ?it/s]"
      ]
     },
     "metadata": {},
     "output_type": "display_data"
    },
    {
     "name": "stdout",
     "output_type": "stream",
     "text": [
      "Reading /data/vladimiroved/realWorldTableTennis/sub-18/eeg/sub-18_task-TableTennis_eeg.fdt\n",
      "Reading 0 ... 1155502  =      0.000 ...  4622.008 secs...\n"
     ]
    },
    {
     "name": "stderr",
     "output_type": "stream",
     "text": [
      "/tmp/ipykernel_1842469/1458919944.py:12: RuntimeWarning: Unknown types found, setting as type EEG:\n",
      "acc: ['CGY-x', 'CGY-y', 'CGY-z', 'CWR-x', 'CWR-y', 'CWR-z', 'NGY-x', 'NGY-y', 'NGY-z', 'NWR-x', 'NWR-y', 'NWR-z']\n",
      "cometas: ['BallMachine_Acc_X(g)', 'BallMachine_Acc_Y(g)', 'BallMachine_Acc_Z(g)', 'IMU1_RMS', 'Imu_1 :W():', 'Imu_1 :X():', 'Imu_1 :Y():', 'Imu_1 :Z():', 'Imu_1_ImuGyro :X(D/s):', 'Imu_1_ImuGyro :Y(D/s):', 'Imu_1_ImuGyro :Z(D/s):', 'Imu_1_ImuMag :X(uT):', 'Imu_1_ImuMag :Y(uT):', 'Imu_1_ImuMag :Z(uT):', 'Imu_2 :W():', 'Imu_2 :X():', 'Imu_2 :Y():', 'Imu_2 :Z():', 'Imu_2_ImuGyro :X(D/s):', 'Imu_2_ImuGyro :Y(D/s):', 'Imu_2_ImuGyro :Z(D/s):', 'Imu_2_ImuMag :X(uT):', 'Imu_2_ImuMag :Y(uT):', 'Imu_2_ImuMag :Z(uT):', 'Imu_4 :W():', 'Imu_4 :X():', 'Imu_4 :Y():', 'Imu_4 :Z():', 'Imu_4_ImuGyro :X(D/s):', 'Imu_4_ImuGyro :Y(D/s):', 'Imu_4_ImuGyro :Z(D/s):', 'Imu_4_ImuMag :X(uT):', 'Imu_4_ImuMag :Y(uT):', 'Imu_4_ImuMag :Z(uT):', 'Net_Acc_X(g)', 'Net_Acc_Y(g)', 'Net_Acc_Z(g)', 'Participant_Backpack_Acc_X(g)', 'Participant_Backpack_Acc_Y(g)', 'Participant_Backpack_Acc_Z(g)', 'Participant_Paddle_Acc_X(g)', 'Participant_Paddle_Acc_Y(g)', 'Participant_Paddle_Acc_Z(g)', 'Researcher_Paddle_Acc_X(g)', 'Researcher_Paddle_Acc_Y(g)', 'Researcher_Paddle_Acc_Z(g)', 'SyncPulse(uV)', 'Table_OtherSide_Acc_X(g)', 'Table_OtherSide_Acc_Y(g)', 'Table_OtherSide_Acc_Z(g)', 'Table_ParticipantSide_Acc_X(g)', 'Table_ParticipantSide_Acc_Y(g)', 'Table_ParticipantSide_Acc_Z(g)']\n",
      "noise: ['N-AF3', 'N-AF4', 'N-AF7', 'N-AF8', 'N-AFF1h', 'N-AFF2h', 'N-AFF5h', 'N-AFF6h', 'N-AFp1', 'N-AFp2', 'N-AFz', 'N-C1', 'N-C2', 'N-C3', 'N-C4', 'N-C5', 'N-C6', 'N-CCP1h', 'N-CCP2h', 'N-CCP3h', 'N-CCP4h', 'N-CCP5h', 'N-CCP6h', 'N-CP1', 'N-CP2', 'N-CP3', 'N-CP4', 'N-CP5', 'N-CP6', 'N-CPP1h', 'N-CPP2h', 'N-CPP3h', 'N-CPP4h', 'N-CPP5h', 'N-CPP6h', 'N-Cz', 'N-F1', 'N-F10', 'N-F2', 'N-F3', 'N-F4', 'N-F5', 'N-F6', 'N-F7', 'N-F8', 'N-F9', 'N-FC1', 'N-FC2', 'N-FC3', 'N-FC4', 'N-FC5', 'N-FC6', 'N-FCC1h', 'N-FCC2h', 'N-FCC3h', 'N-FCC4h', 'N-FCC5h', 'N-FCC6h', 'N-FCz', 'N-FFC1h', 'N-FFC2h', 'N-FFC3h', 'N-FFC4h', 'N-FFC5h', 'N-FFC6h', 'N-FFT10h', 'N-FFT7h', 'N-FFT8h', 'N-FFT9h', 'N-FP2', 'N-FT10', 'N-FT7', 'N-FT8', 'N-FT9', 'N-FTT10h', 'N-FTT7h', 'N-FTT8h', 'N-FTT9h', 'N-Fp1', 'N-Fz', 'N-Iz', 'N-O1', 'N-O2', 'N-OI1h', 'N-OI2h', 'N-Oz', 'N-P1', 'N-P2', 'N-P3', 'N-P4', 'N-P5', 'N-P6', 'N-P7', 'N-P8', 'N-PO3', 'N-PO4', 'N-PO7', 'N-PO8', 'N-POO1', 'N-POO10h', 'N-POO2', 'N-POO9h', 'N-POz', 'N-PPO10h', 'N-PPO1h', 'N-PPO2h', 'N-PPO5h', 'N-PPO6h', 'N-PPO9h', 'N-Pz', 'N-T7', 'N-T8', 'N-TP7', 'N-TP8', 'N-TPP10h', 'N-TPP7h', 'N-TPP8h', 'N-TPP9h', 'N-TTP7h', 'N-TTP8h']\n",
      "  raw_eeg = mne.io.read_raw_eeglab(eeg_dirname + f'sub-{SUB_ID}_task-TableTennis_eeg.set', preload=True)\n",
      "/tmp/ipykernel_1842469/1458919944.py:12: RuntimeWarning: Estimated head radius (11.4 cm) is above the 99th percentile for adult head size. Check if the montage_units argument is correct (the default is \"mm\", but your channel positions may be in different units).\n",
      "  raw_eeg = mne.io.read_raw_eeglab(eeg_dirname + f'sub-{SUB_ID}_task-TableTennis_eeg.set', preload=True)\n",
      "/tmp/ipykernel_1842469/1458919944.py:12: RuntimeWarning: Data file name in EEG.data (sub-18_task-tabletennis_eeg.fdt) is incorrect, the file name must have changed on disk, using the correct file name (sub-18_task-TableTennis_eeg.fdt).\n",
      "  raw_eeg = mne.io.read_raw_eeglab(eeg_dirname + f'sub-{SUB_ID}_task-TableTennis_eeg.set', preload=True)\n"
     ]
    },
    {
     "name": "stdout",
     "output_type": "stream",
     "text": [
      "NOTE: pick_channels() is a legacy function. New code should use inst.pick(...).\n"
     ]
    },
    {
     "name": "stderr",
     "output_type": "stream",
     "text": [
      "/tmp/ipykernel_1842469/1458919944.py:12: RuntimeWarning: Omitted 1 annotation(s) that were outside data range.\n",
      "  raw_eeg = mne.io.read_raw_eeglab(eeg_dirname + f'sub-{SUB_ID}_task-TableTennis_eeg.set', preload=True)\n",
      "/tmp/ipykernel_1842469/1458919944.py:12: RuntimeWarning: The data contains 'boundary' events, indicating data discontinuities. Be cautious of filtering and epoching around these events.\n",
      "  raw_eeg = mne.io.read_raw_eeglab(eeg_dirname + f'sub-{SUB_ID}_task-TableTennis_eeg.set', preload=True)\n",
      "/tmp/ipykernel_1842469/1458919944.py:12: RuntimeWarning: Not setting positions of 8 emg channels found in montage:\n",
      "['LISCM', 'LSSCM', 'LSTrap', 'LITrap', 'RITrap', 'RISCM', 'RSSCM', 'RSTrap']\n",
      "Consider setting the channel types to be of EEG/sEEG/ECoG/DBS/fNIRS using inst.set_channel_types before calling inst.set_montage, or omit these channels when creating your montage.\n",
      "  raw_eeg = mne.io.read_raw_eeglab(eeg_dirname + f'sub-{SUB_ID}_task-TableTennis_eeg.set', preload=True)\n"
     ]
    },
    {
     "data": {
      "application/vnd.jupyter.widget-view+json": {
       "model_id": "41e29efe86504374b0c1fe08b3215173",
       "version_major": 2,
       "version_minor": 0
      },
      "text/plain": [
       "  0%|          | 0/100154 [00:00<?, ?it/s]"
      ]
     },
     "metadata": {},
     "output_type": "display_data"
    },
    {
     "data": {
      "application/vnd.jupyter.widget-view+json": {
       "model_id": "525f980109fa4f0580c263e19c01ac5b",
       "version_major": 2,
       "version_minor": 0
      },
      "text/plain": [
       "  0%|          | 0/100154 [00:00<?, ?it/s]"
      ]
     },
     "metadata": {},
     "output_type": "display_data"
    },
    {
     "data": {
      "application/vnd.jupyter.widget-view+json": {
       "model_id": "687b91302f8b4f20952f7f7594b2733d",
       "version_major": 2,
       "version_minor": 0
      },
      "text/plain": [
       "  0%|          | 0/100154 [00:00<?, ?it/s]"
      ]
     },
     "metadata": {},
     "output_type": "display_data"
    },
    {
     "name": "stdout",
     "output_type": "stream",
     "text": [
      "Reading /data/vladimiroved/realWorldTableTennis/sub-19/eeg/sub-19_task-TableTennis_eeg.fdt\n",
      "Reading 0 ... 1117344  =      0.000 ...  4469.376 secs...\n"
     ]
    },
    {
     "name": "stderr",
     "output_type": "stream",
     "text": [
      "/tmp/ipykernel_1842469/1458919944.py:12: RuntimeWarning: Unknown types found, setting as type EEG:\n",
      "acc: ['CGY-x', 'CGY-y', 'CGY-z', 'CWR-x', 'CWR-y', 'CWR-z', 'NGY-x', 'NGY-y', 'NGY-z', 'NWR-x', 'NWR-y', 'NWR-z']\n",
      "cometas: ['BallMachine_Acc_X(g)', 'BallMachine_Acc_Y(g)', 'BallMachine_Acc_Z(g)', 'IMU1_RMS', 'Imu_1 :W():', 'Imu_1 :X():', 'Imu_1 :Y():', 'Imu_1 :Z():', 'Imu_1_ImuGyro :X(D/s):', 'Imu_1_ImuGyro :Y(D/s):', 'Imu_1_ImuGyro :Z(D/s):', 'Imu_1_ImuMag :X(uT):', 'Imu_1_ImuMag :Y(uT):', 'Imu_1_ImuMag :Z(uT):', 'Imu_2 :W():', 'Imu_2 :X():', 'Imu_2 :Y():', 'Imu_2 :Z():', 'Imu_2_ImuGyro :X(D/s):', 'Imu_2_ImuGyro :Y(D/s):', 'Imu_2_ImuGyro :Z(D/s):', 'Imu_2_ImuMag :X(uT):', 'Imu_2_ImuMag :Y(uT):', 'Imu_2_ImuMag :Z(uT):', 'Imu_4 :W():', 'Imu_4 :X():', 'Imu_4 :Y():', 'Imu_4 :Z():', 'Imu_4_ImuGyro :X(D/s):', 'Imu_4_ImuGyro :Y(D/s):', 'Imu_4_ImuGyro :Z(D/s):', 'Imu_4_ImuMag :X(uT):', 'Imu_4_ImuMag :Y(uT):', 'Imu_4_ImuMag :Z(uT):', 'Net_Acc_X(g)', 'Net_Acc_Y(g)', 'Net_Acc_Z(g)', 'Participant_Backpack_Acc_X(g)', 'Participant_Backpack_Acc_Y(g)', 'Participant_Backpack_Acc_Z(g)', 'Participant_Paddle_Acc_X(g)', 'Participant_Paddle_Acc_Y(g)', 'Participant_Paddle_Acc_Z(g)', 'Researcher_Paddle_Acc_X(g)', 'Researcher_Paddle_Acc_Y(g)', 'Researcher_Paddle_Acc_Z(g)', 'SyncPulse(uV)', 'Table_OtherSide_Acc_X(g)', 'Table_OtherSide_Acc_Y(g)', 'Table_OtherSide_Acc_Z(g)', 'Table_ParticipantSide_Acc_X(g)', 'Table_ParticipantSide_Acc_Y(g)', 'Table_ParticipantSide_Acc_Z(g)']\n",
      "noise: ['N-AF3', 'N-AF4', 'N-AF7', 'N-AF8', 'N-AFF1h', 'N-AFF2h', 'N-AFF5h', 'N-AFF6h', 'N-AFp1', 'N-AFp2', 'N-AFz', 'N-C1', 'N-C2', 'N-C3', 'N-C4', 'N-C5', 'N-C6', 'N-CCP1h', 'N-CCP2h', 'N-CCP3h', 'N-CCP4h', 'N-CCP5h', 'N-CCP6h', 'N-CP1', 'N-CP2', 'N-CP3', 'N-CP4', 'N-CP5', 'N-CP6', 'N-CPP1h', 'N-CPP2h', 'N-CPP3h', 'N-CPP4h', 'N-CPP5h', 'N-CPP6h', 'N-Cz', 'N-F1', 'N-F10', 'N-F2', 'N-F3', 'N-F4', 'N-F5', 'N-F6', 'N-F7', 'N-F8', 'N-F9', 'N-FC1', 'N-FC2', 'N-FC3', 'N-FC4', 'N-FC5', 'N-FC6', 'N-FCC1h', 'N-FCC2h', 'N-FCC3h', 'N-FCC4h', 'N-FCC5h', 'N-FCC6h', 'N-FCz', 'N-FFC1h', 'N-FFC2h', 'N-FFC3h', 'N-FFC4h', 'N-FFC5h', 'N-FFC6h', 'N-FFT10h', 'N-FFT7h', 'N-FFT8h', 'N-FFT9h', 'N-FP2', 'N-FT10', 'N-FT7', 'N-FT8', 'N-FT9', 'N-FTT10h', 'N-FTT7h', 'N-FTT8h', 'N-FTT9h', 'N-Fp1', 'N-Fz', 'N-Iz', 'N-O1', 'N-O2', 'N-OI1h', 'N-OI2h', 'N-Oz', 'N-P1', 'N-P2', 'N-P3', 'N-P4', 'N-P5', 'N-P6', 'N-P7', 'N-P8', 'N-PO3', 'N-PO4', 'N-PO7', 'N-PO8', 'N-POO1', 'N-POO10h', 'N-POO2', 'N-POO9h', 'N-POz', 'N-PPO10h', 'N-PPO1h', 'N-PPO2h', 'N-PPO5h', 'N-PPO6h', 'N-PPO9h', 'N-Pz', 'N-T7', 'N-T8', 'N-TP7', 'N-TP8', 'N-TPP10h', 'N-TPP7h', 'N-TPP8h', 'N-TPP9h', 'N-TTP7h', 'N-TTP8h']\n",
      "  raw_eeg = mne.io.read_raw_eeglab(eeg_dirname + f'sub-{SUB_ID}_task-TableTennis_eeg.set', preload=True)\n",
      "/tmp/ipykernel_1842469/1458919944.py:12: RuntimeWarning: Estimated head radius (11.0 cm) is above the 99th percentile for adult head size. Check if the montage_units argument is correct (the default is \"mm\", but your channel positions may be in different units).\n",
      "  raw_eeg = mne.io.read_raw_eeglab(eeg_dirname + f'sub-{SUB_ID}_task-TableTennis_eeg.set', preload=True)\n",
      "/tmp/ipykernel_1842469/1458919944.py:12: RuntimeWarning: Data file name in EEG.data (sub-19_task-tabletennis_eeg.fdt) is incorrect, the file name must have changed on disk, using the correct file name (sub-19_task-TableTennis_eeg.fdt).\n",
      "  raw_eeg = mne.io.read_raw_eeglab(eeg_dirname + f'sub-{SUB_ID}_task-TableTennis_eeg.set', preload=True)\n"
     ]
    },
    {
     "name": "stdout",
     "output_type": "stream",
     "text": [
      "NOTE: pick_channels() is a legacy function. New code should use inst.pick(...).\n"
     ]
    },
    {
     "name": "stderr",
     "output_type": "stream",
     "text": [
      "/tmp/ipykernel_1842469/1458919944.py:12: RuntimeWarning: Omitted 1 annotation(s) that were outside data range.\n",
      "  raw_eeg = mne.io.read_raw_eeglab(eeg_dirname + f'sub-{SUB_ID}_task-TableTennis_eeg.set', preload=True)\n",
      "/tmp/ipykernel_1842469/1458919944.py:12: RuntimeWarning: The data contains 'boundary' events, indicating data discontinuities. Be cautious of filtering and epoching around these events.\n",
      "  raw_eeg = mne.io.read_raw_eeglab(eeg_dirname + f'sub-{SUB_ID}_task-TableTennis_eeg.set', preload=True)\n",
      "/tmp/ipykernel_1842469/1458919944.py:12: RuntimeWarning: Not setting positions of 8 emg channels found in montage:\n",
      "['LISCM', 'LSSCM', 'LSTrap', 'LITrap', 'RITrap', 'RISCM', 'RSSCM', 'RSTrap']\n",
      "Consider setting the channel types to be of EEG/sEEG/ECoG/DBS/fNIRS using inst.set_channel_types before calling inst.set_montage, or omit these channels when creating your montage.\n",
      "  raw_eeg = mne.io.read_raw_eeglab(eeg_dirname + f'sub-{SUB_ID}_task-TableTennis_eeg.set', preload=True)\n"
     ]
    },
    {
     "data": {
      "application/vnd.jupyter.widget-view+json": {
       "model_id": "b7fca95ec1d949acab1094f41c87db1e",
       "version_major": 2,
       "version_minor": 0
      },
      "text/plain": [
       "  0%|          | 0/56880 [00:00<?, ?it/s]"
      ]
     },
     "metadata": {},
     "output_type": "display_data"
    },
    {
     "data": {
      "application/vnd.jupyter.widget-view+json": {
       "model_id": "d85a053a90bd4257af2f7f547ae47b3b",
       "version_major": 2,
       "version_minor": 0
      },
      "text/plain": [
       "  0%|          | 0/56880 [00:00<?, ?it/s]"
      ]
     },
     "metadata": {},
     "output_type": "display_data"
    },
    {
     "data": {
      "application/vnd.jupyter.widget-view+json": {
       "model_id": "a136b7bd3c40488994b804f2fff3bc6f",
       "version_major": 2,
       "version_minor": 0
      },
      "text/plain": [
       "  0%|          | 0/56880 [00:00<?, ?it/s]"
      ]
     },
     "metadata": {},
     "output_type": "display_data"
    },
    {
     "data": {
      "application/vnd.jupyter.widget-view+json": {
       "model_id": "5a0df380109c41bbb70707dd102ed102",
       "version_major": 2,
       "version_minor": 0
      },
      "text/plain": [
       "  0%|          | 0/56880 [00:00<?, ?it/s]"
      ]
     },
     "metadata": {},
     "output_type": "display_data"
    },
    {
     "name": "stdout",
     "output_type": "stream",
     "text": [
      "Reading /data/vladimiroved/realWorldTableTennis/sub-20/eeg/sub-20_task-TableTennis_eeg.fdt\n",
      "Reading 0 ... 916387  =      0.000 ...  3665.548 secs...\n"
     ]
    },
    {
     "name": "stderr",
     "output_type": "stream",
     "text": [
      "/tmp/ipykernel_1842469/1458919944.py:12: RuntimeWarning: Unknown types found, setting as type EEG:\n",
      "acc: ['CGY-x', 'CGY-y', 'CGY-z', 'CWR-x', 'CWR-y', 'CWR-z', 'NGY-x', 'NGY-y', 'NGY-z', 'NWR-x', 'NWR-y', 'NWR-z']\n",
      "cometas: ['BallMachine_Acc_X(g)', 'BallMachine_Acc_Y(g)', 'BallMachine_Acc_Z(g)', 'IMU1_RMS', 'Imu_2 :W():', 'Imu_2 :X():', 'Imu_2 :Y():', 'Imu_2 :Z():', 'Imu_2_ImuGyro :X(D/s):', 'Imu_2_ImuGyro :Y(D/s):', 'Imu_2_ImuGyro :Z(D/s):', 'Imu_2_ImuMag :X(uT):', 'Imu_2_ImuMag :Y(uT):', 'Imu_2_ImuMag :Z(uT):', 'Imu_4 :W():', 'Imu_4 :X():', 'Imu_4 :Y():', 'Imu_4 :Z():', 'Imu_4_ImuGyro :X(D/s):', 'Imu_4_ImuGyro :Y(D/s):', 'Imu_4_ImuGyro :Z(D/s):', 'Imu_4_ImuMag :X(uT):', 'Imu_4_ImuMag :Y(uT):', 'Imu_4_ImuMag :Z(uT):', 'Net_Acc_X(g)', 'Net_Acc_Y(g)', 'Net_Acc_Z(g)', 'Participant_Backpack_Acc_X(g)', 'Participant_Backpack_Acc_Y(g)', 'Participant_Backpack_Acc_Z(g)', 'Participant_Paddle_Acc_X(g)', 'Participant_Paddle_Acc_Y(g)', 'Participant_Paddle_Acc_Z(g)', 'Researcher_Paddle_Acc_X(g)', 'Researcher_Paddle_Acc_Y(g)', 'Researcher_Paddle_Acc_Z(g)', 'SyncPulse(uV)', 'Table_OtherSide_Acc_X(g)', 'Table_OtherSide_Acc_Y(g)', 'Table_OtherSide_Acc_Z(g)', 'Table_ParticipantSide_Acc_X(g)', 'Table_ParticipantSide_Acc_Y(g)', 'Table_ParticipantSide_Acc_Z(g)']\n",
      "noise: ['N-AF3', 'N-AF4', 'N-AF7', 'N-AF8', 'N-AFF1h', 'N-AFF2h', 'N-AFF5h', 'N-AFF6h', 'N-AFp1', 'N-AFp2', 'N-AFz', 'N-C1', 'N-C2', 'N-C3', 'N-C4', 'N-C5', 'N-C6', 'N-CCP1h', 'N-CCP2h', 'N-CCP3h', 'N-CCP4h', 'N-CCP5h', 'N-CCP6h', 'N-CP1', 'N-CP2', 'N-CP3', 'N-CP4', 'N-CP5', 'N-CP6', 'N-CPP1h', 'N-CPP2h', 'N-CPP3h', 'N-CPP4h', 'N-CPP5h', 'N-CPP6h', 'N-Cz', 'N-F1', 'N-F10', 'N-F2', 'N-F3', 'N-F4', 'N-F5', 'N-F6', 'N-F7', 'N-F8', 'N-F9', 'N-FC1', 'N-FC2', 'N-FC3', 'N-FC4', 'N-FC5', 'N-FC6', 'N-FCC1h', 'N-FCC2h', 'N-FCC3h', 'N-FCC4h', 'N-FCC5h', 'N-FCC6h', 'N-FCz', 'N-FFC1h', 'N-FFC2h', 'N-FFC3h', 'N-FFC4h', 'N-FFC5h', 'N-FFC6h', 'N-FFT10h', 'N-FFT7h', 'N-FFT8h', 'N-FFT9h', 'N-FP2', 'N-FT10', 'N-FT7', 'N-FT8', 'N-FT9', 'N-FTT10h', 'N-FTT7h', 'N-FTT8h', 'N-FTT9h', 'N-Fp1', 'N-Fz', 'N-Iz', 'N-O1', 'N-O2', 'N-OI1h', 'N-OI2h', 'N-Oz', 'N-P1', 'N-P2', 'N-P3', 'N-P4', 'N-P5', 'N-P6', 'N-P7', 'N-P8', 'N-PO3', 'N-PO4', 'N-PO7', 'N-PO8', 'N-POO1', 'N-POO10h', 'N-POO2', 'N-POO9h', 'N-POz', 'N-PPO10h', 'N-PPO1h', 'N-PPO2h', 'N-PPO5h', 'N-PPO6h', 'N-PPO9h', 'N-Pz', 'N-T7', 'N-T8', 'N-TP7', 'N-TP8', 'N-TPP10h', 'N-TPP7h', 'N-TPP8h', 'N-TPP9h', 'N-TTP7h', 'N-TTP8h']\n",
      "  raw_eeg = mne.io.read_raw_eeglab(eeg_dirname + f'sub-{SUB_ID}_task-TableTennis_eeg.set', preload=True)\n",
      "/tmp/ipykernel_1842469/1458919944.py:12: RuntimeWarning: Estimated head radius (11.1 cm) is above the 99th percentile for adult head size. Check if the montage_units argument is correct (the default is \"mm\", but your channel positions may be in different units).\n",
      "  raw_eeg = mne.io.read_raw_eeglab(eeg_dirname + f'sub-{SUB_ID}_task-TableTennis_eeg.set', preload=True)\n",
      "/tmp/ipykernel_1842469/1458919944.py:12: RuntimeWarning: Data file name in EEG.data (sub-20_task-tabletennis_eeg.fdt) is incorrect, the file name must have changed on disk, using the correct file name (sub-20_task-TableTennis_eeg.fdt).\n",
      "  raw_eeg = mne.io.read_raw_eeglab(eeg_dirname + f'sub-{SUB_ID}_task-TableTennis_eeg.set', preload=True)\n"
     ]
    },
    {
     "name": "stdout",
     "output_type": "stream",
     "text": [
      "NOTE: pick_channels() is a legacy function. New code should use inst.pick(...).\n"
     ]
    },
    {
     "name": "stderr",
     "output_type": "stream",
     "text": [
      "/tmp/ipykernel_1842469/1458919944.py:12: RuntimeWarning: Omitted 1 annotation(s) that were outside data range.\n",
      "  raw_eeg = mne.io.read_raw_eeglab(eeg_dirname + f'sub-{SUB_ID}_task-TableTennis_eeg.set', preload=True)\n",
      "/tmp/ipykernel_1842469/1458919944.py:12: RuntimeWarning: The data contains 'boundary' events, indicating data discontinuities. Be cautious of filtering and epoching around these events.\n",
      "  raw_eeg = mne.io.read_raw_eeglab(eeg_dirname + f'sub-{SUB_ID}_task-TableTennis_eeg.set', preload=True)\n",
      "/tmp/ipykernel_1842469/1458919944.py:12: RuntimeWarning: Not setting positions of 8 emg channels found in montage:\n",
      "['LISCM', 'LSSCM', 'LSTrap', 'LITrap', 'RITrap', 'RISCM', 'RSSCM', 'RSTrap']\n",
      "Consider setting the channel types to be of EEG/sEEG/ECoG/DBS/fNIRS using inst.set_channel_types before calling inst.set_montage, or omit these channels when creating your montage.\n",
      "  raw_eeg = mne.io.read_raw_eeglab(eeg_dirname + f'sub-{SUB_ID}_task-TableTennis_eeg.set', preload=True)\n"
     ]
    },
    {
     "data": {
      "application/vnd.jupyter.widget-view+json": {
       "model_id": "f85cd7679c71444190adbdc8dd2f1cd1",
       "version_major": 2,
       "version_minor": 0
      },
      "text/plain": [
       "  0%|          | 0/69020 [00:00<?, ?it/s]"
      ]
     },
     "metadata": {},
     "output_type": "display_data"
    },
    {
     "data": {
      "application/vnd.jupyter.widget-view+json": {
       "model_id": "d2b73e4ae1f04858a3d20f35707bee2d",
       "version_major": 2,
       "version_minor": 0
      },
      "text/plain": [
       "  0%|          | 0/69020 [00:00<?, ?it/s]"
      ]
     },
     "metadata": {},
     "output_type": "display_data"
    },
    {
     "data": {
      "application/vnd.jupyter.widget-view+json": {
       "model_id": "fc2a3544e7984b1b8dbfd232c8f3ce5b",
       "version_major": 2,
       "version_minor": 0
      },
      "text/plain": [
       "  0%|          | 0/69020 [00:00<?, ?it/s]"
      ]
     },
     "metadata": {},
     "output_type": "display_data"
    },
    {
     "name": "stdout",
     "output_type": "stream",
     "text": [
      "Reading /data/vladimiroved/realWorldTableTennis/sub-21/eeg/sub-21_task-TableTennis_eeg.fdt\n",
      "Reading 0 ... 1128360  =      0.000 ...  4513.440 secs...\n"
     ]
    },
    {
     "name": "stderr",
     "output_type": "stream",
     "text": [
      "/tmp/ipykernel_1842469/1458919944.py:12: RuntimeWarning: Unknown types found, setting as type EEG:\n",
      "acc: ['CGY-x', 'CGY-y', 'CGY-z', 'CWR-x', 'CWR-y', 'CWR-z', 'NGY-x', 'NGY-y', 'NGY-z', 'NWR-x', 'NWR-y', 'NWR-z']\n",
      "cometas: ['BallMachine_Acc_X(g)', 'BallMachine_Acc_Y(g)', 'BallMachine_Acc_Z(g)', 'IMU1_RMS', 'Imu_1 :W():', 'Imu_1 :X():', 'Imu_1 :Y():', 'Imu_1 :Z():', 'Imu_1_ImuGyro :X(D/s):', 'Imu_1_ImuGyro :Y(D/s):', 'Imu_1_ImuGyro :Z(D/s):', 'Imu_1_ImuMag :X(uT):', 'Imu_1_ImuMag :Y(uT):', 'Imu_1_ImuMag :Z(uT):', 'Imu_2 :W():', 'Imu_2 :X():', 'Imu_2 :Y():', 'Imu_2 :Z():', 'Imu_2_ImuGyro :X(D/s):', 'Imu_2_ImuGyro :Y(D/s):', 'Imu_2_ImuGyro :Z(D/s):', 'Imu_2_ImuMag :X(uT):', 'Imu_2_ImuMag :Y(uT):', 'Imu_2_ImuMag :Z(uT):', 'Imu_4 :W():', 'Imu_4 :X():', 'Imu_4 :Y():', 'Imu_4 :Z():', 'Imu_4_ImuGyro :X(D/s):', 'Imu_4_ImuGyro :Y(D/s):', 'Imu_4_ImuGyro :Z(D/s):', 'Imu_4_ImuMag :X(uT):', 'Imu_4_ImuMag :Y(uT):', 'Imu_4_ImuMag :Z(uT):', 'Net_Acc_X(g)', 'Net_Acc_Y(g)', 'Net_Acc_Z(g)', 'Participant_Backpack_Acc_X(g)', 'Participant_Backpack_Acc_Y(g)', 'Participant_Backpack_Acc_Z(g)', 'Participant_Paddle_Acc_X(g)', 'Participant_Paddle_Acc_Y(g)', 'Participant_Paddle_Acc_Z(g)', 'Researcher_Paddle_Acc_X(g)', 'Researcher_Paddle_Acc_Y(g)', 'Researcher_Paddle_Acc_Z(g)', 'SyncPulse(uV)', 'Table_OtherSide_Acc_X(g)', 'Table_OtherSide_Acc_Y(g)', 'Table_OtherSide_Acc_Z(g)', 'Table_ParticipantSide_Acc_X(g)', 'Table_ParticipantSide_Acc_Y(g)', 'Table_ParticipantSide_Acc_Z(g)']\n",
      "noise: ['N-AF3', 'N-AF4', 'N-AF7', 'N-AF8', 'N-AFF1h', 'N-AFF2h', 'N-AFF5h', 'N-AFF6h', 'N-AFp1', 'N-AFp2', 'N-AFz', 'N-C1', 'N-C2', 'N-C3', 'N-C4', 'N-C5', 'N-C6', 'N-CCP1h', 'N-CCP2h', 'N-CCP3h', 'N-CCP4h', 'N-CCP5h', 'N-CCP6h', 'N-CP1', 'N-CP2', 'N-CP3', 'N-CP4', 'N-CP5', 'N-CP6', 'N-CPP1h', 'N-CPP2h', 'N-CPP3h', 'N-CPP4h', 'N-CPP5h', 'N-CPP6h', 'N-Cz', 'N-F1', 'N-F10', 'N-F2', 'N-F3', 'N-F4', 'N-F5', 'N-F6', 'N-F7', 'N-F8', 'N-F9', 'N-FC1', 'N-FC2', 'N-FC3', 'N-FC4', 'N-FC5', 'N-FC6', 'N-FCC1h', 'N-FCC2h', 'N-FCC3h', 'N-FCC4h', 'N-FCC5h', 'N-FCC6h', 'N-FCz', 'N-FFC1h', 'N-FFC2h', 'N-FFC3h', 'N-FFC4h', 'N-FFC5h', 'N-FFC6h', 'N-FFT10h', 'N-FFT7h', 'N-FFT8h', 'N-FFT9h', 'N-FP2', 'N-FT10', 'N-FT7', 'N-FT8', 'N-FT9', 'N-FTT10h', 'N-FTT7h', 'N-FTT8h', 'N-FTT9h', 'N-Fp1', 'N-Fz', 'N-Iz', 'N-O1', 'N-O2', 'N-OI1h', 'N-OI2h', 'N-Oz', 'N-P1', 'N-P2', 'N-P3', 'N-P4', 'N-P5', 'N-P6', 'N-P7', 'N-P8', 'N-PO3', 'N-PO4', 'N-PO7', 'N-PO8', 'N-POO1', 'N-POO10h', 'N-POO2', 'N-POO9h', 'N-POz', 'N-PPO10h', 'N-PPO1h', 'N-PPO2h', 'N-PPO5h', 'N-PPO6h', 'N-PPO9h', 'N-Pz', 'N-T7', 'N-T8', 'N-TP7', 'N-TP8', 'N-TPP10h', 'N-TPP7h', 'N-TPP8h', 'N-TPP9h', 'N-TTP7h', 'N-TTP8h']\n",
      "  raw_eeg = mne.io.read_raw_eeglab(eeg_dirname + f'sub-{SUB_ID}_task-TableTennis_eeg.set', preload=True)\n",
      "/tmp/ipykernel_1842469/1458919944.py:12: RuntimeWarning: Estimated head radius (11.3 cm) is above the 99th percentile for adult head size. Check if the montage_units argument is correct (the default is \"mm\", but your channel positions may be in different units).\n",
      "  raw_eeg = mne.io.read_raw_eeglab(eeg_dirname + f'sub-{SUB_ID}_task-TableTennis_eeg.set', preload=True)\n",
      "/tmp/ipykernel_1842469/1458919944.py:12: RuntimeWarning: Data file name in EEG.data (sub-21_task-tabletennis_eeg.fdt) is incorrect, the file name must have changed on disk, using the correct file name (sub-21_task-TableTennis_eeg.fdt).\n",
      "  raw_eeg = mne.io.read_raw_eeglab(eeg_dirname + f'sub-{SUB_ID}_task-TableTennis_eeg.set', preload=True)\n"
     ]
    },
    {
     "name": "stdout",
     "output_type": "stream",
     "text": [
      "NOTE: pick_channels() is a legacy function. New code should use inst.pick(...).\n"
     ]
    },
    {
     "name": "stderr",
     "output_type": "stream",
     "text": [
      "/tmp/ipykernel_1842469/1458919944.py:12: RuntimeWarning: Omitted 1 annotation(s) that were outside data range.\n",
      "  raw_eeg = mne.io.read_raw_eeglab(eeg_dirname + f'sub-{SUB_ID}_task-TableTennis_eeg.set', preload=True)\n",
      "/tmp/ipykernel_1842469/1458919944.py:12: RuntimeWarning: The data contains 'boundary' events, indicating data discontinuities. Be cautious of filtering and epoching around these events.\n",
      "  raw_eeg = mne.io.read_raw_eeglab(eeg_dirname + f'sub-{SUB_ID}_task-TableTennis_eeg.set', preload=True)\n",
      "/tmp/ipykernel_1842469/1458919944.py:12: RuntimeWarning: Not setting positions of 8 emg channels found in montage:\n",
      "['LISCM', 'LSSCM', 'LSTrap', 'LITrap', 'RITrap', 'RISCM', 'RSSCM', 'RSTrap']\n",
      "Consider setting the channel types to be of EEG/sEEG/ECoG/DBS/fNIRS using inst.set_channel_types before calling inst.set_montage, or omit these channels when creating your montage.\n",
      "  raw_eeg = mne.io.read_raw_eeglab(eeg_dirname + f'sub-{SUB_ID}_task-TableTennis_eeg.set', preload=True)\n"
     ]
    },
    {
     "data": {
      "application/vnd.jupyter.widget-view+json": {
       "model_id": "bfaa792c3a45454ca877162524f97f28",
       "version_major": 2,
       "version_minor": 0
      },
      "text/plain": [
       "  0%|          | 0/63256 [00:00<?, ?it/s]"
      ]
     },
     "metadata": {},
     "output_type": "display_data"
    },
    {
     "data": {
      "application/vnd.jupyter.widget-view+json": {
       "model_id": "2ca5e65c1a3f4436a8c1e1662919f68e",
       "version_major": 2,
       "version_minor": 0
      },
      "text/plain": [
       "  0%|          | 0/63256 [00:00<?, ?it/s]"
      ]
     },
     "metadata": {},
     "output_type": "display_data"
    },
    {
     "data": {
      "application/vnd.jupyter.widget-view+json": {
       "model_id": "34e36cd431cb49c49e30c8eae3c76f50",
       "version_major": 2,
       "version_minor": 0
      },
      "text/plain": [
       "  0%|          | 0/63256 [00:00<?, ?it/s]"
      ]
     },
     "metadata": {},
     "output_type": "display_data"
    },
    {
     "data": {
      "application/vnd.jupyter.widget-view+json": {
       "model_id": "5fcabee97f5d49d6b9f5cf5402f49bba",
       "version_major": 2,
       "version_minor": 0
      },
      "text/plain": [
       "  0%|          | 0/63256 [00:00<?, ?it/s]"
      ]
     },
     "metadata": {},
     "output_type": "display_data"
    },
    {
     "name": "stdout",
     "output_type": "stream",
     "text": [
      "Reading /data/vladimiroved/realWorldTableTennis/sub-22/eeg/sub-22_task-TableTennis_eeg.fdt\n",
      "Reading 0 ... 1108946  =      0.000 ...  4435.784 secs...\n"
     ]
    },
    {
     "name": "stderr",
     "output_type": "stream",
     "text": [
      "/tmp/ipykernel_1842469/1458919944.py:12: RuntimeWarning: Unknown types found, setting as type EEG:\n",
      "acc: ['CGY-x', 'CGY-y', 'CGY-z', 'CWR-x', 'CWR-y', 'CWR-z', 'NGY-x', 'NGY-y', 'NGY-z', 'NWR-x', 'NWR-y', 'NWR-z']\n",
      "cometas: ['BallMachine_Acc_X(g)', 'BallMachine_Acc_Y(g)', 'BallMachine_Acc_Z(g)', 'IMU1_RMS', 'Imu_1 :W():', 'Imu_1 :X():', 'Imu_1 :Y():', 'Imu_1 :Z():', 'Imu_1_ImuAcc :X(g):', 'Imu_1_ImuAcc :Y(g):', 'Imu_1_ImuAcc :Z(g):', 'Imu_1_ImuGyro :X(D/s):', 'Imu_1_ImuGyro :Y(D/s):', 'Imu_1_ImuGyro :Z(D/s):', 'Imu_1_ImuMag :X(uT):', 'Imu_1_ImuMag :Y(uT):', 'Imu_1_ImuMag :Z(uT):', 'Imu_2 :W():', 'Imu_2 :X():', 'Imu_2 :Y():', 'Imu_2 :Z():', 'Imu_2_ImuGyro :X(D/s):', 'Imu_2_ImuGyro :Y(D/s):', 'Imu_2_ImuGyro :Z(D/s):', 'Imu_2_ImuMag :X(uT):', 'Imu_2_ImuMag :Y(uT):', 'Imu_2_ImuMag :Z(uT):', 'Imu_4 :W():', 'Imu_4 :X():', 'Imu_4 :Y():', 'Imu_4 :Z():', 'Imu_4_ImuGyro :X(D/s):', 'Imu_4_ImuGyro :Y(D/s):', 'Imu_4_ImuGyro :Z(D/s):', 'Imu_4_ImuMag :X(uT):', 'Imu_4_ImuMag :Y(uT):', 'Imu_4_ImuMag :Z(uT):', 'Imu_6_ImuAcc :X(g):', 'Imu_6_ImuAcc :Y(g):', 'Imu_6_ImuAcc :Z(g):', 'Imu_7_ImuAcc :X(g):', 'Imu_7_ImuAcc :Y(g):', 'Imu_7_ImuAcc :Z(g):', 'Net_Acc_X(g)', 'Net_Acc_Y(g)', 'Net_Acc_Z(g)', 'Participant_Paddle_Acc_X(g)', 'Participant_Paddle_Acc_Y(g)', 'Participant_Paddle_Acc_Z(g)', 'Researcher_Paddle_Acc_X(g)', 'Researcher_Paddle_Acc_Y(g)', 'Researcher_Paddle_Acc_Z(g)', 'SyncPulse(uV)']\n",
      "noise: ['N-AF3', 'N-AF4', 'N-AF7', 'N-AF8', 'N-AFF1h', 'N-AFF2h', 'N-AFF5h', 'N-AFF6h', 'N-AFp1', 'N-AFp2', 'N-AFz', 'N-C1', 'N-C2', 'N-C3', 'N-C4', 'N-C5', 'N-C6', 'N-CCP1h', 'N-CCP2h', 'N-CCP3h', 'N-CCP4h', 'N-CCP5h', 'N-CCP6h', 'N-CP1', 'N-CP2', 'N-CP3', 'N-CP4', 'N-CP5', 'N-CP6', 'N-CPP1h', 'N-CPP2h', 'N-CPP3h', 'N-CPP4h', 'N-CPP5h', 'N-CPP6h', 'N-Cz', 'N-F1', 'N-F10', 'N-F2', 'N-F3', 'N-F4', 'N-F5', 'N-F6', 'N-F7', 'N-F8', 'N-F9', 'N-FC1', 'N-FC2', 'N-FC3', 'N-FC4', 'N-FC5', 'N-FC6', 'N-FCC1h', 'N-FCC2h', 'N-FCC3h', 'N-FCC4h', 'N-FCC5h', 'N-FCC6h', 'N-FCz', 'N-FFC1h', 'N-FFC2h', 'N-FFC3h', 'N-FFC4h', 'N-FFC5h', 'N-FFC6h', 'N-FFT10h', 'N-FFT7h', 'N-FFT8h', 'N-FFT9h', 'N-FP2', 'N-FT10', 'N-FT7', 'N-FT8', 'N-FT9', 'N-FTT10h', 'N-FTT7h', 'N-FTT8h', 'N-FTT9h', 'N-Fp1', 'N-Fz', 'N-Iz', 'N-O1', 'N-O2', 'N-OI1h', 'N-OI2h', 'N-Oz', 'N-P1', 'N-P2', 'N-P3', 'N-P4', 'N-P5', 'N-P6', 'N-P7', 'N-P8', 'N-PO3', 'N-PO4', 'N-PO7', 'N-PO8', 'N-POO1', 'N-POO10h', 'N-POO2', 'N-POO9h', 'N-POz', 'N-PPO10h', 'N-PPO1h', 'N-PPO2h', 'N-PPO5h', 'N-PPO6h', 'N-PPO9h', 'N-Pz', 'N-T7', 'N-T8', 'N-TP7', 'N-TP8', 'N-TPP10h', 'N-TPP7h', 'N-TPP8h', 'N-TPP9h', 'N-TTP7h', 'N-TTP8h']\n",
      "  raw_eeg = mne.io.read_raw_eeglab(eeg_dirname + f'sub-{SUB_ID}_task-TableTennis_eeg.set', preload=True)\n",
      "/tmp/ipykernel_1842469/1458919944.py:12: RuntimeWarning: Estimated head radius (11.0 cm) is above the 99th percentile for adult head size. Check if the montage_units argument is correct (the default is \"mm\", but your channel positions may be in different units).\n",
      "  raw_eeg = mne.io.read_raw_eeglab(eeg_dirname + f'sub-{SUB_ID}_task-TableTennis_eeg.set', preload=True)\n",
      "/tmp/ipykernel_1842469/1458919944.py:12: RuntimeWarning: Data file name in EEG.data (sub-22_task-tabletennis_eeg.fdt) is incorrect, the file name must have changed on disk, using the correct file name (sub-22_task-TableTennis_eeg.fdt).\n",
      "  raw_eeg = mne.io.read_raw_eeglab(eeg_dirname + f'sub-{SUB_ID}_task-TableTennis_eeg.set', preload=True)\n"
     ]
    },
    {
     "name": "stdout",
     "output_type": "stream",
     "text": [
      "NOTE: pick_channels() is a legacy function. New code should use inst.pick(...).\n"
     ]
    },
    {
     "name": "stderr",
     "output_type": "stream",
     "text": [
      "/tmp/ipykernel_1842469/1458919944.py:12: RuntimeWarning: Omitted 1 annotation(s) that were outside data range.\n",
      "  raw_eeg = mne.io.read_raw_eeglab(eeg_dirname + f'sub-{SUB_ID}_task-TableTennis_eeg.set', preload=True)\n",
      "/tmp/ipykernel_1842469/1458919944.py:12: RuntimeWarning: The data contains 'boundary' events, indicating data discontinuities. Be cautious of filtering and epoching around these events.\n",
      "  raw_eeg = mne.io.read_raw_eeglab(eeg_dirname + f'sub-{SUB_ID}_task-TableTennis_eeg.set', preload=True)\n",
      "/tmp/ipykernel_1842469/1458919944.py:12: RuntimeWarning: Not setting positions of 8 emg channels found in montage:\n",
      "['LISCM', 'LSSCM', 'LSTrap', 'LITrap', 'RITrap', 'RISCM', 'RSSCM', 'RSTrap']\n",
      "Consider setting the channel types to be of EEG/sEEG/ECoG/DBS/fNIRS using inst.set_channel_types before calling inst.set_montage, or omit these channels when creating your montage.\n",
      "  raw_eeg = mne.io.read_raw_eeglab(eeg_dirname + f'sub-{SUB_ID}_task-TableTennis_eeg.set', preload=True)\n"
     ]
    },
    {
     "data": {
      "application/vnd.jupyter.widget-view+json": {
       "model_id": "d201661924534a3188cf21bc6ab8db23",
       "version_major": 2,
       "version_minor": 0
      },
      "text/plain": [
       "  0%|          | 0/51696 [00:00<?, ?it/s]"
      ]
     },
     "metadata": {},
     "output_type": "display_data"
    },
    {
     "data": {
      "application/vnd.jupyter.widget-view+json": {
       "model_id": "197c2520611743bd9fc247d7456d06dc",
       "version_major": 2,
       "version_minor": 0
      },
      "text/plain": [
       "  0%|          | 0/51696 [00:00<?, ?it/s]"
      ]
     },
     "metadata": {},
     "output_type": "display_data"
    },
    {
     "data": {
      "application/vnd.jupyter.widget-view+json": {
       "model_id": "9dafb1e798b14a69b8c86325bab081a0",
       "version_major": 2,
       "version_minor": 0
      },
      "text/plain": [
       "  0%|          | 0/51696 [00:00<?, ?it/s]"
      ]
     },
     "metadata": {},
     "output_type": "display_data"
    },
    {
     "data": {
      "application/vnd.jupyter.widget-view+json": {
       "model_id": "9c17e33f8fd641d19be8120d06117ac6",
       "version_major": 2,
       "version_minor": 0
      },
      "text/plain": [
       "  0%|          | 0/51696 [00:00<?, ?it/s]"
      ]
     },
     "metadata": {},
     "output_type": "display_data"
    },
    {
     "name": "stdout",
     "output_type": "stream",
     "text": [
      "Reading /data/vladimiroved/realWorldTableTennis/sub-23/eeg/sub-23_task-TableTennis_eeg.fdt\n",
      "Reading 0 ... 1053820  =      0.000 ...  4215.280 secs...\n"
     ]
    },
    {
     "name": "stderr",
     "output_type": "stream",
     "text": [
      "/tmp/ipykernel_1842469/1458919944.py:12: RuntimeWarning: Unknown types found, setting as type EEG:\n",
      "acc: ['CGY-x', 'CGY-y', 'CGY-z', 'CWR-x', 'CWR-y', 'CWR-z', 'NGY-x', 'NGY-y', 'NGY-z', 'NWR-x', 'NWR-y', 'NWR-z']\n",
      "cometas: ['BallMachine_Acc_X(g)', 'BallMachine_Acc_Y(g)', 'BallMachine_Acc_Z(g)', 'IMU1_RMS', 'Imu_1 :W():', 'Imu_1 :X():', 'Imu_1 :Y():', 'Imu_1 :Z():', 'Imu_1_ImuGyro :X(D/s):', 'Imu_1_ImuGyro :Y(D/s):', 'Imu_1_ImuGyro :Z(D/s):', 'Imu_1_ImuMag :X(uT):', 'Imu_1_ImuMag :Y(uT):', 'Imu_1_ImuMag :Z(uT):', 'Imu_2 :W():', 'Imu_2 :X():', 'Imu_2 :Y():', 'Imu_2 :Z():', 'Imu_2_ImuGyro :X(D/s):', 'Imu_2_ImuGyro :Y(D/s):', 'Imu_2_ImuGyro :Z(D/s):', 'Imu_2_ImuMag :X(uT):', 'Imu_2_ImuMag :Y(uT):', 'Imu_2_ImuMag :Z(uT):', 'Imu_4 :W():', 'Imu_4 :X():', 'Imu_4 :Y():', 'Imu_4 :Z():', 'Imu_4_ImuGyro :X(D/s):', 'Imu_4_ImuGyro :Y(D/s):', 'Imu_4_ImuGyro :Z(D/s):', 'Imu_4_ImuMag :X(uT):', 'Imu_4_ImuMag :Y(uT):', 'Imu_4_ImuMag :Z(uT):', 'Imu_8 :W():', 'Imu_8 :X():', 'Imu_8 :Y():', 'Imu_8 :Z():', 'Imu_8_ImuGyro :X(D/s):', 'Imu_8_ImuGyro :Y(D/s):', 'Imu_8_ImuGyro :Z(D/s):', 'Imu_8_ImuMag :X(uT):', 'Imu_8_ImuMag :Y(uT):', 'Imu_8_ImuMag :Z(uT):', 'Net_Acc_X(g)', 'Net_Acc_Y(g)', 'Net_Acc_Z(g)', 'Participant_Backpack_Acc_X(g)', 'Participant_Backpack_Acc_Y(g)', 'Participant_Backpack_Acc_Z(g)', 'Participant_Head_Acc_X(g)', 'Participant_Head_Acc_Y(g)', 'Participant_Head_Acc_Z(g)', 'Participant_Paddle_Acc_X(g)', 'Participant_Paddle_Acc_Y(g)', 'Participant_Paddle_Acc_Z(g)', 'Researcher_Paddle_Acc_X(g)', 'Researcher_Paddle_Acc_Y(g)', 'Researcher_Paddle_Acc_Z(g)', 'SyncPulse(uV)', 'Table_OtherSide_Acc_X(g)', 'Table_OtherSide_Acc_Y(g)', 'Table_OtherSide_Acc_Z(g)', 'Table_ParticipantSide_Acc_X(g)', 'Table_ParticipantSide_Acc_Y(g)', 'Table_ParticipantSide_Acc_Z(g)']\n",
      "noise: ['N-AF3', 'N-AF4', 'N-AF7', 'N-AF8', 'N-AFF1h', 'N-AFF2h', 'N-AFF5h', 'N-AFF6h', 'N-AFp1', 'N-AFp2', 'N-AFz', 'N-C1', 'N-C2', 'N-C3', 'N-C4', 'N-C5', 'N-C6', 'N-CCP1h', 'N-CCP2h', 'N-CCP3h', 'N-CCP4h', 'N-CCP5h', 'N-CCP6h', 'N-CP1', 'N-CP2', 'N-CP3', 'N-CP4', 'N-CP5', 'N-CP6', 'N-CPP1h', 'N-CPP2h', 'N-CPP3h', 'N-CPP4h', 'N-CPP5h', 'N-CPP6h', 'N-Cz', 'N-F1', 'N-F10', 'N-F2', 'N-F3', 'N-F4', 'N-F5', 'N-F6', 'N-F7', 'N-F8', 'N-F9', 'N-FC1', 'N-FC2', 'N-FC3', 'N-FC4', 'N-FC5', 'N-FC6', 'N-FCC1h', 'N-FCC2h', 'N-FCC3h', 'N-FCC4h', 'N-FCC5h', 'N-FCC6h', 'N-FCz', 'N-FFC1h', 'N-FFC2h', 'N-FFC3h', 'N-FFC4h', 'N-FFC5h', 'N-FFC6h', 'N-FFT10h', 'N-FFT7h', 'N-FFT8h', 'N-FFT9h', 'N-FP2', 'N-FT10', 'N-FT7', 'N-FT8', 'N-FT9', 'N-FTT10h', 'N-FTT7h', 'N-FTT8h', 'N-FTT9h', 'N-Fp1', 'N-Fz', 'N-Iz', 'N-O1', 'N-O2', 'N-OI1h', 'N-OI2h', 'N-Oz', 'N-P1', 'N-P2', 'N-P3', 'N-P4', 'N-P5', 'N-P6', 'N-P7', 'N-P8', 'N-PO3', 'N-PO4', 'N-PO7', 'N-PO8', 'N-POO1', 'N-POO10h', 'N-POO2', 'N-POO9h', 'N-POz', 'N-PPO10h', 'N-PPO1h', 'N-PPO2h', 'N-PPO5h', 'N-PPO6h', 'N-PPO9h', 'N-Pz', 'N-T7', 'N-T8', 'N-TP7', 'N-TP8', 'N-TPP10h', 'N-TPP7h', 'N-TPP8h', 'N-TPP9h', 'N-TTP7h', 'N-TTP8h']\n",
      "  raw_eeg = mne.io.read_raw_eeglab(eeg_dirname + f'sub-{SUB_ID}_task-TableTennis_eeg.set', preload=True)\n",
      "/tmp/ipykernel_1842469/1458919944.py:12: RuntimeWarning: Estimated head radius (12.2 cm) is above the 99th percentile for adult head size. Check if the montage_units argument is correct (the default is \"mm\", but your channel positions may be in different units).\n",
      "  raw_eeg = mne.io.read_raw_eeglab(eeg_dirname + f'sub-{SUB_ID}_task-TableTennis_eeg.set', preload=True)\n",
      "/tmp/ipykernel_1842469/1458919944.py:12: RuntimeWarning: Data file name in EEG.data (sub-23_task-tabletennis_eeg.fdt) is incorrect, the file name must have changed on disk, using the correct file name (sub-23_task-TableTennis_eeg.fdt).\n",
      "  raw_eeg = mne.io.read_raw_eeglab(eeg_dirname + f'sub-{SUB_ID}_task-TableTennis_eeg.set', preload=True)\n"
     ]
    },
    {
     "name": "stdout",
     "output_type": "stream",
     "text": [
      "NOTE: pick_channels() is a legacy function. New code should use inst.pick(...).\n"
     ]
    },
    {
     "name": "stderr",
     "output_type": "stream",
     "text": [
      "/tmp/ipykernel_1842469/1458919944.py:12: RuntimeWarning: Omitted 1 annotation(s) that were outside data range.\n",
      "  raw_eeg = mne.io.read_raw_eeglab(eeg_dirname + f'sub-{SUB_ID}_task-TableTennis_eeg.set', preload=True)\n",
      "/tmp/ipykernel_1842469/1458919944.py:12: RuntimeWarning: The data contains 'boundary' events, indicating data discontinuities. Be cautious of filtering and epoching around these events.\n",
      "  raw_eeg = mne.io.read_raw_eeglab(eeg_dirname + f'sub-{SUB_ID}_task-TableTennis_eeg.set', preload=True)\n",
      "/tmp/ipykernel_1842469/1458919944.py:12: RuntimeWarning: Not setting positions of 8 emg channels found in montage:\n",
      "['LISCM', 'LSSCM', 'LSTrap', 'LITrap', 'RITrap', 'RISCM', 'RSSCM', 'RSTrap']\n",
      "Consider setting the channel types to be of EEG/sEEG/ECoG/DBS/fNIRS using inst.set_channel_types before calling inst.set_montage, or omit these channels when creating your montage.\n",
      "  raw_eeg = mne.io.read_raw_eeglab(eeg_dirname + f'sub-{SUB_ID}_task-TableTennis_eeg.set', preload=True)\n"
     ]
    },
    {
     "data": {
      "application/vnd.jupyter.widget-view+json": {
       "model_id": "83e418d29b3a4d3a99aa909e2e068892",
       "version_major": 2,
       "version_minor": 0
      },
      "text/plain": [
       "  0%|          | 0/69728 [00:00<?, ?it/s]"
      ]
     },
     "metadata": {},
     "output_type": "display_data"
    },
    {
     "data": {
      "application/vnd.jupyter.widget-view+json": {
       "model_id": "205a4d72bcff4d0fa7f78eebd9e164d2",
       "version_major": 2,
       "version_minor": 0
      },
      "text/plain": [
       "  0%|          | 0/69728 [00:00<?, ?it/s]"
      ]
     },
     "metadata": {},
     "output_type": "display_data"
    },
    {
     "data": {
      "application/vnd.jupyter.widget-view+json": {
       "model_id": "e26938c9495f4f3db2501eb9711cdfc2",
       "version_major": 2,
       "version_minor": 0
      },
      "text/plain": [
       "  0%|          | 0/69728 [00:00<?, ?it/s]"
      ]
     },
     "metadata": {},
     "output_type": "display_data"
    },
    {
     "name": "stdout",
     "output_type": "stream",
     "text": [
      "Reading /data/vladimiroved/realWorldTableTennis/sub-24/eeg/sub-24_task-TableTennis_eeg.fdt\n",
      "Reading 0 ... 1146790  =      0.000 ...  4587.160 secs...\n"
     ]
    },
    {
     "name": "stderr",
     "output_type": "stream",
     "text": [
      "/tmp/ipykernel_1842469/1458919944.py:12: RuntimeWarning: Unknown types found, setting as type EEG:\n",
      "acc: ['CGY-x', 'CGY-y', 'CGY-z', 'CWR-x', 'CWR-y', 'CWR-z', 'NGY-x', 'NGY-y', 'NGY-z', 'NWR-x', 'NWR-y', 'NWR-z']\n",
      "cometas: ['BallMachine_Acc_X(g)', 'BallMachine_Acc_Y(g)', 'BallMachine_Acc_Z(g)', 'IMU1_RMS', 'IMU8_RMS', 'Imu_1 :W():', 'Imu_1 :X():', 'Imu_1 :Y():', 'Imu_1 :Z():', 'Imu_1_ImuGyro :X(D/s):', 'Imu_1_ImuGyro :Y(D/s):', 'Imu_1_ImuGyro :Z(D/s):', 'Imu_1_ImuMag :X(uT):', 'Imu_1_ImuMag :Y(uT):', 'Imu_1_ImuMag :Z(uT):', 'Imu_2 :W():', 'Imu_2 :X():', 'Imu_2 :Y():', 'Imu_2 :Z():', 'Imu_2_ImuGyro :X(D/s):', 'Imu_2_ImuGyro :Y(D/s):', 'Imu_2_ImuGyro :Z(D/s):', 'Imu_2_ImuMag :X(uT):', 'Imu_2_ImuMag :Y(uT):', 'Imu_2_ImuMag :Z(uT):', 'Imu_4 :W():', 'Imu_4 :X():', 'Imu_4 :Y():', 'Imu_4 :Z():', 'Imu_4_ImuGyro :X(D/s):', 'Imu_4_ImuGyro :Y(D/s):', 'Imu_4_ImuGyro :Z(D/s):', 'Imu_4_ImuMag :X(uT):', 'Imu_4_ImuMag :Y(uT):', 'Imu_4_ImuMag :Z(uT):', 'Imu_8 :W():', 'Imu_8 :X():', 'Imu_8 :Y():', 'Imu_8 :Z():', 'Imu_8_ImuGyro :X(D/s):', 'Imu_8_ImuGyro :Y(D/s):', 'Imu_8_ImuGyro :Z(D/s):', 'Imu_8_ImuMag :X(uT):', 'Imu_8_ImuMag :Y(uT):', 'Imu_8_ImuMag :Z(uT):', 'Net_Acc_X(g)', 'Net_Acc_Y(g)', 'Net_Acc_Z(g)', 'Participant_Backpack_Acc_X(g)', 'Participant_Backpack_Acc_Y(g)', 'Participant_Backpack_Acc_Z(g)', 'Participant_Head_Acc_X(g)', 'Participant_Head_Acc_Y(g)', 'Participant_Head_Acc_Z(g)', 'Participant_Paddle_Acc_X(g)', 'Participant_Paddle_Acc_Y(g)', 'Participant_Paddle_Acc_Z(g)', 'Researcher_Paddle_Acc_X(g)', 'Researcher_Paddle_Acc_Y(g)', 'Researcher_Paddle_Acc_Z(g)', 'SyncPulse(uV)', 'Table_OtherSide_Acc_X(g)', 'Table_OtherSide_Acc_Y(g)', 'Table_OtherSide_Acc_Z(g)', 'Table_ParticipantSide_Acc_X(g)', 'Table_ParticipantSide_Acc_Y(g)', 'Table_ParticipantSide_Acc_Z(g)']\n",
      "noise: ['N-AF3', 'N-AF4', 'N-AF7', 'N-AF8', 'N-AFF1h', 'N-AFF2h', 'N-AFF5h', 'N-AFF6h', 'N-AFp1', 'N-AFp2', 'N-AFz', 'N-C1', 'N-C2', 'N-C3', 'N-C4', 'N-C5', 'N-C6', 'N-CCP1h', 'N-CCP2h', 'N-CCP3h', 'N-CCP4h', 'N-CCP5h', 'N-CCP6h', 'N-CP1', 'N-CP2', 'N-CP3', 'N-CP4', 'N-CP5', 'N-CP6', 'N-CPP1h', 'N-CPP2h', 'N-CPP3h', 'N-CPP4h', 'N-CPP5h', 'N-CPP6h', 'N-Cz', 'N-F1', 'N-F10', 'N-F2', 'N-F3', 'N-F4', 'N-F5', 'N-F6', 'N-F7', 'N-F8', 'N-F9', 'N-FC1', 'N-FC2', 'N-FC3', 'N-FC4', 'N-FC5', 'N-FC6', 'N-FCC1h', 'N-FCC2h', 'N-FCC3h', 'N-FCC4h', 'N-FCC5h', 'N-FCC6h', 'N-FCz', 'N-FFC1h', 'N-FFC2h', 'N-FFC3h', 'N-FFC4h', 'N-FFC5h', 'N-FFC6h', 'N-FFT10h', 'N-FFT7h', 'N-FFT8h', 'N-FFT9h', 'N-FP2', 'N-FT10', 'N-FT7', 'N-FT8', 'N-FT9', 'N-FTT10h', 'N-FTT7h', 'N-FTT8h', 'N-FTT9h', 'N-Fp1', 'N-Fz', 'N-Iz', 'N-O1', 'N-O2', 'N-OI1h', 'N-OI2h', 'N-Oz', 'N-P1', 'N-P2', 'N-P3', 'N-P4', 'N-P5', 'N-P6', 'N-P7', 'N-P8', 'N-PO3', 'N-PO4', 'N-PO7', 'N-PO8', 'N-POO1', 'N-POO10h', 'N-POO2', 'N-POO9h', 'N-POz', 'N-PPO10h', 'N-PPO1h', 'N-PPO2h', 'N-PPO5h', 'N-PPO6h', 'N-PPO9h', 'N-Pz', 'N-T7', 'N-T8', 'N-TP7', 'N-TP8', 'N-TPP10h', 'N-TPP7h', 'N-TPP8h', 'N-TPP9h', 'N-TTP7h', 'N-TTP8h']\n",
      "  raw_eeg = mne.io.read_raw_eeglab(eeg_dirname + f'sub-{SUB_ID}_task-TableTennis_eeg.set', preload=True)\n",
      "/tmp/ipykernel_1842469/1458919944.py:12: RuntimeWarning: Data file name in EEG.data (sub-24_task-tabletennis_eeg.fdt) is incorrect, the file name must have changed on disk, using the correct file name (sub-24_task-TableTennis_eeg.fdt).\n",
      "  raw_eeg = mne.io.read_raw_eeglab(eeg_dirname + f'sub-{SUB_ID}_task-TableTennis_eeg.set', preload=True)\n"
     ]
    },
    {
     "name": "stdout",
     "output_type": "stream",
     "text": [
      "NOTE: pick_channels() is a legacy function. New code should use inst.pick(...).\n"
     ]
    },
    {
     "name": "stderr",
     "output_type": "stream",
     "text": [
      "/tmp/ipykernel_1842469/1458919944.py:12: RuntimeWarning: Omitted 1 annotation(s) that were outside data range.\n",
      "  raw_eeg = mne.io.read_raw_eeglab(eeg_dirname + f'sub-{SUB_ID}_task-TableTennis_eeg.set', preload=True)\n",
      "/tmp/ipykernel_1842469/1458919944.py:12: RuntimeWarning: The data contains 'boundary' events, indicating data discontinuities. Be cautious of filtering and epoching around these events.\n",
      "  raw_eeg = mne.io.read_raw_eeglab(eeg_dirname + f'sub-{SUB_ID}_task-TableTennis_eeg.set', preload=True)\n",
      "/tmp/ipykernel_1842469/1458919944.py:12: RuntimeWarning: Not setting positions of 8 emg channels found in montage:\n",
      "['LISCM', 'LSSCM', 'LSTrap', 'LITrap', 'RITrap', 'RISCM', 'RSSCM', 'RSTrap']\n",
      "Consider setting the channel types to be of EEG/sEEG/ECoG/DBS/fNIRS using inst.set_channel_types before calling inst.set_montage, or omit these channels when creating your montage.\n",
      "  raw_eeg = mne.io.read_raw_eeglab(eeg_dirname + f'sub-{SUB_ID}_task-TableTennis_eeg.set', preload=True)\n"
     ]
    },
    {
     "data": {
      "application/vnd.jupyter.widget-view+json": {
       "model_id": "7e2ae4f7b7f54782befa9e6d68a55311",
       "version_major": 2,
       "version_minor": 0
      },
      "text/plain": [
       "  0%|          | 0/342 [00:00<?, ?it/s]"
      ]
     },
     "metadata": {},
     "output_type": "display_data"
    },
    {
     "data": {
      "application/vnd.jupyter.widget-view+json": {
       "model_id": "6062cef221b94be097e9e7f92088b187",
       "version_major": 2,
       "version_minor": 0
      },
      "text/plain": [
       "  0%|          | 0/342 [00:00<?, ?it/s]"
      ]
     },
     "metadata": {},
     "output_type": "display_data"
    },
    {
     "data": {
      "application/vnd.jupyter.widget-view+json": {
       "model_id": "5620c57faa734acbb95723cefd4297ce",
       "version_major": 2,
       "version_minor": 0
      },
      "text/plain": [
       "  0%|          | 0/342 [00:00<?, ?it/s]"
      ]
     },
     "metadata": {},
     "output_type": "display_data"
    },
    {
     "name": "stdout",
     "output_type": "stream",
     "text": [
      "Reading /data/vladimiroved/realWorldTableTennis/sub-25/eeg/sub-25_task-TableTennis_eeg.fdt\n",
      "Reading 0 ... 877573  =      0.000 ...  3510.292 secs...\n"
     ]
    },
    {
     "name": "stderr",
     "output_type": "stream",
     "text": [
      "/tmp/ipykernel_1842469/1458919944.py:12: RuntimeWarning: Unknown types found, setting as type EEG:\n",
      "acc: ['CGY-x', 'CGY-y', 'CGY-z', 'CWR-x', 'CWR-y', 'CWR-z', 'NGY-x', 'NGY-y', 'NGY-z', 'NWR-x', 'NWR-y', 'NWR-z']\n",
      "cometas: ['BallMachine_Acc_X(g)', 'BallMachine_Acc_Y(g)', 'BallMachine_Acc_Z(g)', 'IMU1_RMS', 'IMU8_RMS', 'Imu_1 :W():', 'Imu_1 :X():', 'Imu_1 :Y():', 'Imu_1 :Z():', 'Imu_1_ImuGyro :X(D/s):', 'Imu_1_ImuGyro :Y(D/s):', 'Imu_1_ImuGyro :Z(D/s):', 'Imu_1_ImuMag :X(uT):', 'Imu_1_ImuMag :Y(uT):', 'Imu_1_ImuMag :Z(uT):', 'Imu_2 :W():', 'Imu_2 :X():', 'Imu_2 :Y():', 'Imu_2 :Z():', 'Imu_2_ImuGyro :X(D/s):', 'Imu_2_ImuGyro :Y(D/s):', 'Imu_2_ImuGyro :Z(D/s):', 'Imu_2_ImuMag :X(uT):', 'Imu_2_ImuMag :Y(uT):', 'Imu_2_ImuMag :Z(uT):', 'Imu_4 :W():', 'Imu_4 :X():', 'Imu_4 :Y():', 'Imu_4 :Z():', 'Imu_4_ImuGyro :X(D/s):', 'Imu_4_ImuGyro :Y(D/s):', 'Imu_4_ImuGyro :Z(D/s):', 'Imu_4_ImuMag :X(uT):', 'Imu_4_ImuMag :Y(uT):', 'Imu_4_ImuMag :Z(uT):', 'Imu_8 :W():', 'Imu_8 :X():', 'Imu_8 :Y():', 'Imu_8 :Z():', 'Imu_8_ImuGyro :X(D/s):', 'Imu_8_ImuGyro :Y(D/s):', 'Imu_8_ImuGyro :Z(D/s):', 'Imu_8_ImuMag :X(uT):', 'Imu_8_ImuMag :Y(uT):', 'Imu_8_ImuMag :Z(uT):', 'Imu_9 :W():', 'Imu_9 :X():', 'Imu_9 :Y():', 'Imu_9 :Z():', 'Imu_9_ImuGyro :X(D/s):', 'Imu_9_ImuGyro :Y(D/s):', 'Imu_9_ImuGyro :Z(D/s):', 'Imu_9_ImuMag :X(uT):', 'Imu_9_ImuMag :Y(uT):', 'Imu_9_ImuMag :Z(uT):', 'Net_Acc_X(g)', 'Net_Acc_Y(g)', 'Net_Acc_Z(g)', 'Participant_Backpack_Acc_X(g)', 'Participant_Backpack_Acc_Y(g)', 'Participant_Backpack_Acc_Z(g)', 'Participant_Head_Acc_X(g)', 'Participant_Head_Acc_Y(g)', 'Participant_Head_Acc_Z(g)', 'Participant_Paddle_Acc_X(g)', 'Participant_Paddle_Acc_Y(g)', 'Participant_Paddle_Acc_Z(g)', 'Participant_Torso_Acc_X(g)', 'Participant_Torso_Acc_Y(g)', 'Participant_Torso_Acc_Z(g)', 'Researcher_Paddle_Acc_X(g)', 'Researcher_Paddle_Acc_Y(g)', 'Researcher_Paddle_Acc_Z(g)', 'SyncPulse(uV)', 'Table_OtherSide_Acc_X(g)', 'Table_OtherSide_Acc_Y(g)', 'Table_OtherSide_Acc_Z(g)', 'Table_ParticipantSide_Acc_X(g)', 'Table_ParticipantSide_Acc_Y(g)', 'Table_ParticipantSide_Acc_Z(g)']\n",
      "noise: ['N-AF3', 'N-AF4', 'N-AF7', 'N-AF8', 'N-AFF1h', 'N-AFF2h', 'N-AFF5h', 'N-AFF6h', 'N-AFp1', 'N-AFp2', 'N-AFz', 'N-C1', 'N-C2', 'N-C3', 'N-C4', 'N-C5', 'N-C6', 'N-CCP1h', 'N-CCP2h', 'N-CCP3h', 'N-CCP4h', 'N-CCP5h', 'N-CCP6h', 'N-CP1', 'N-CP2', 'N-CP3', 'N-CP4', 'N-CP5', 'N-CP6', 'N-CPP1h', 'N-CPP2h', 'N-CPP3h', 'N-CPP4h', 'N-CPP5h', 'N-CPP6h', 'N-Cz', 'N-F1', 'N-F10', 'N-F2', 'N-F3', 'N-F4', 'N-F5', 'N-F6', 'N-F7', 'N-F8', 'N-F9', 'N-FC1', 'N-FC2', 'N-FC3', 'N-FC4', 'N-FC5', 'N-FC6', 'N-FCC1h', 'N-FCC2h', 'N-FCC3h', 'N-FCC4h', 'N-FCC5h', 'N-FCC6h', 'N-FCz', 'N-FFC1h', 'N-FFC2h', 'N-FFC3h', 'N-FFC4h', 'N-FFC5h', 'N-FFC6h', 'N-FFT10h', 'N-FFT7h', 'N-FFT8h', 'N-FFT9h', 'N-FP2', 'N-FT10', 'N-FT7', 'N-FT8', 'N-FT9', 'N-FTT10h', 'N-FTT7h', 'N-FTT8h', 'N-FTT9h', 'N-Fp1', 'N-Fz', 'N-Iz', 'N-O1', 'N-O2', 'N-OI1h', 'N-OI2h', 'N-Oz', 'N-P1', 'N-P2', 'N-P3', 'N-P4', 'N-P5', 'N-P6', 'N-P7', 'N-P8', 'N-PO3', 'N-PO4', 'N-PO7', 'N-PO8', 'N-POO1', 'N-POO10h', 'N-POO2', 'N-POO9h', 'N-POz', 'N-PPO10h', 'N-PPO1h', 'N-PPO2h', 'N-PPO5h', 'N-PPO6h', 'N-PPO9h', 'N-Pz', 'N-T7', 'N-T8', 'N-TP7', 'N-TP8', 'N-TPP10h', 'N-TPP7h', 'N-TPP8h', 'N-TPP9h', 'N-TTP7h', 'N-TTP8h']\n",
      "  raw_eeg = mne.io.read_raw_eeglab(eeg_dirname + f'sub-{SUB_ID}_task-TableTennis_eeg.set', preload=True)\n",
      "/tmp/ipykernel_1842469/1458919944.py:12: RuntimeWarning: Estimated head radius (12.1 cm) is above the 99th percentile for adult head size. Check if the montage_units argument is correct (the default is \"mm\", but your channel positions may be in different units).\n",
      "  raw_eeg = mne.io.read_raw_eeglab(eeg_dirname + f'sub-{SUB_ID}_task-TableTennis_eeg.set', preload=True)\n",
      "/tmp/ipykernel_1842469/1458919944.py:12: RuntimeWarning: Data file name in EEG.data (sub-25_task-tabletennis_eeg.fdt) is incorrect, the file name must have changed on disk, using the correct file name (sub-25_task-TableTennis_eeg.fdt).\n",
      "  raw_eeg = mne.io.read_raw_eeglab(eeg_dirname + f'sub-{SUB_ID}_task-TableTennis_eeg.set', preload=True)\n"
     ]
    },
    {
     "name": "stdout",
     "output_type": "stream",
     "text": [
      "NOTE: pick_channels() is a legacy function. New code should use inst.pick(...).\n"
     ]
    },
    {
     "name": "stderr",
     "output_type": "stream",
     "text": [
      "/tmp/ipykernel_1842469/1458919944.py:12: RuntimeWarning: Omitted 1 annotation(s) that were outside data range.\n",
      "  raw_eeg = mne.io.read_raw_eeglab(eeg_dirname + f'sub-{SUB_ID}_task-TableTennis_eeg.set', preload=True)\n",
      "/tmp/ipykernel_1842469/1458919944.py:12: RuntimeWarning: The data contains 'boundary' events, indicating data discontinuities. Be cautious of filtering and epoching around these events.\n",
      "  raw_eeg = mne.io.read_raw_eeglab(eeg_dirname + f'sub-{SUB_ID}_task-TableTennis_eeg.set', preload=True)\n",
      "/tmp/ipykernel_1842469/1458919944.py:12: RuntimeWarning: Not setting positions of 8 emg channels found in montage:\n",
      "['LISCM', 'LSSCM', 'LSTrap', 'LITrap', 'RITrap', 'RISCM', 'RSSCM', 'RSTrap']\n",
      "Consider setting the channel types to be of EEG/sEEG/ECoG/DBS/fNIRS using inst.set_channel_types before calling inst.set_montage, or omit these channels when creating your montage.\n",
      "  raw_eeg = mne.io.read_raw_eeglab(eeg_dirname + f'sub-{SUB_ID}_task-TableTennis_eeg.set', preload=True)\n"
     ]
    },
    {
     "data": {
      "application/vnd.jupyter.widget-view+json": {
       "model_id": "2ba53eadb45647958395e11fed2fc26a",
       "version_major": 2,
       "version_minor": 0
      },
      "text/plain": [
       "  0%|          | 0/36255 [00:00<?, ?it/s]"
      ]
     },
     "metadata": {},
     "output_type": "display_data"
    },
    {
     "data": {
      "application/vnd.jupyter.widget-view+json": {
       "model_id": "1dccc433e6e843d09c0e634d4cbcb38f",
       "version_major": 2,
       "version_minor": 0
      },
      "text/plain": [
       "  0%|          | 0/36255 [00:00<?, ?it/s]"
      ]
     },
     "metadata": {},
     "output_type": "display_data"
    },
    {
     "data": {
      "application/vnd.jupyter.widget-view+json": {
       "model_id": "4fae53a91ca04f38b4b6e8e1fe2f6078",
       "version_major": 2,
       "version_minor": 0
      },
      "text/plain": [
       "  0%|          | 0/36255 [00:00<?, ?it/s]"
      ]
     },
     "metadata": {},
     "output_type": "display_data"
    }
   ],
   "source": [
    "!mkdir -p ball-machine/shifts_v4\n",
    "SUB_IDS = ['0' * (n < 10) + str(n) for n in range(1, 26)]\n",
    "EPS = 0.001\n",
    "FREQ = 250\n",
    "\n",
    "for SUB_ID in tqdm(SUB_IDS):    \n",
    "    eeg_dirname = os.path.join(DATA_PATH, f'sub-{SUB_ID}', 'eeg/')\n",
    "    \n",
    "    channels_df = pd.read_csv(eeg_dirname + f'sub-{SUB_ID}_task-TableTennis_channels.tsv', sep='\\t')\n",
    "    events_df = pd.read_csv(eeg_dirname + f'sub-{SUB_ID}_task-TableTennis_events.tsv', sep='\\t')\n",
    "    \n",
    "    raw_eeg = mne.io.read_raw_eeglab(eeg_dirname + f'sub-{SUB_ID}_task-TableTennis_eeg.set', preload=True)\n",
    "\n",
    "    events_subdf = events_df\\\n",
    "        .query(\"value == 'Subject_hit'\")\\\n",
    "        .query(\"trial_type in ('moving_hit', 'stationary_hit', 'moving_serve', 'stationary_serve')\")\n",
    "    \n",
    "    acc_channels = [\n",
    "        'Participant_Paddle_Acc_X(g)',\n",
    "        'Participant_Paddle_Acc_Y(g)',\n",
    "        'Participant_Paddle_Acc_Z(g)'\n",
    "    ]\n",
    "    acc_data = raw_eeg.pick_channels(acc_channels)\n",
    "    acc_values = acc_data.get_data()\n",
    "    acc_ttl_data = np.sqrt(np.sum(np.square(acc_values), axis=0))\n",
    "\n",
    "    sessions_arr = get_sessions_range(events_subdf)\n",
    "    peaks_arr = []\n",
    "    max_shift = acc_ttl_data.size - events_df['sample'].astype(int).max()\n",
    "    \n",
    "    for start, end in sessions_arr:\n",
    "        start_delta = int(start * FREQ)\n",
    "        acc_slice = acc_ttl_data[start_delta:]\n",
    "        \n",
    "        labels_data = np.zeros_like(acc_slice)\n",
    "        session_subdf = events_subdf.query(f\"{start - EPS} <= onset <= {end + EPS}\")\n",
    "        hit_indices = (session_subdf['sample'] + 0.5).astype(int) - start_delta\n",
    "        labels_data[hit_indices.values] = 1\n",
    "    \n",
    "        def calculate_corr(i):\n",
    "            return np.corrcoef(acc_slice[i:], labels_data[:labels_data.size-i])[0, 1]\n",
    "        \n",
    "        with Pool() as pool:\n",
    "            max_shift_session = min(max_shift, acc_slice.size - 1)\n",
    "            similarity_arr = list(tqdm(pool.imap(calculate_corr, range(max_shift_session)), total=max_shift_session))\n",
    "    \n",
    "        peak = np.argmax(similarity_arr)\n",
    "        peaks_arr.append(peak)\n",
    "    \n",
    "    np.savez_compressed(\n",
    "        f'ball-machine/shifts_v4/{SUB_ID}.npz',\n",
    "        sessions=sessions_arr,\n",
    "        peaks=peaks_arr,\n",
    "    )\n",
    "    \n",
    "    gc.collect()"
   ]
  },
  {
   "cell_type": "markdown",
   "id": "04c05800-18f4-4223-94df-61ab2f8c00af",
   "metadata": {},
   "source": [
    "### Compare variants 3 and 4"
   ]
  },
  {
   "cell_type": "code",
   "execution_count": 119,
   "id": "148671ea-7d46-4b46-97a5-b6a8782572eb",
   "metadata": {},
   "outputs": [
    {
     "name": "stdout",
     "output_type": "stream",
     "text": [
      "1\n",
      "[79869 80965]\n",
      "[43722 80965]\n",
      "2\n",
      "[17767 20584]\n",
      "[ 2128 17767]\n",
      "3\n",
      "[   98 63898 66301 90523]\n",
      "[   98 21456 66301 90523]\n",
      "4\n",
      "[  560 10355]\n",
      "[  560 10355]\n",
      "5\n",
      "[22198 23960 28993]\n",
      "[ 5512 23960 28993]\n",
      "6\n",
      "[19880 20932 49487]\n",
      "[20932 49487 57944]\n",
      "7\n",
      "[28378 29737 53403]\n",
      "[29737 58792 69320]\n",
      "8\n",
      "[ 2004 10005 39967]\n",
      "[ 2004 39967 67746]\n",
      "9\n",
      "[10744 12195 27467]\n",
      "[19566 44549 72994]\n",
      "10\n",
      "[18704 47652 50158]\n",
      "[ 3429 18704 50158]\n",
      "11\n",
      "[19916 21448 28380 49884]\n",
      "[ 1543 21448 28380 49884]\n",
      "12\n",
      "[ 1858  3093 15809 61945]\n",
      "[ 1858 15809 26245 61945]\n",
      "13\n",
      "[ 7584  9084 10680 39205]\n",
      "[ 7584 22109 39205 57815]\n",
      "14\n",
      "[ 1360  4423  6751 73702]\n",
      "[ 4423 37360 54202 73703]\n",
      "15\n",
      "[ 5883 19747 51302 55004]\n",
      "[ 5883 19746 32402 55004]\n",
      "16\n",
      "[ 1529 36759 54657 82486]\n",
      "[ 1529 36759 54657 82486]\n",
      "17\n",
      "[17989 34513 48499]\n",
      "[17990 34513 50572]\n",
      "18\n",
      "[50969 85535 90129]\n",
      "[11896 50969 90129]\n",
      "19\n",
      "[ 6191 13701 16919 46999]\n",
      "[ 6191 13701 30680 46999]\n",
      "20\n",
      "[18568 21622 39415]\n",
      "[18568 36409 51119]\n",
      "21\n",
      "[11823 14795 57506 61478]\n",
      "[ 1888 11823 32430 57506]\n",
      "22\n",
      "[ 6448 15408 29537 48736]\n",
      "[ 6448 15311 29537 50600]\n",
      "23\n",
      "[ 4430 45765 48324]\n",
      "[ 4430 26295 48324]\n",
      "24\n",
      "[227]\n",
      "[248 227  27]\n",
      "25\n",
      "[11241 31686 34596]\n",
      "[11241 16940 34596]\n"
     ]
    }
   ],
   "source": [
    "sub_ids = ['0' * (n < 10) + str(n) for n in range(1, 26)]\n",
    "shifts_v3 = [np.load(f'ball-machine/shifts_v3/{sub_id}.npz') for sub_id in sub_ids]\n",
    "shifts_v4 = [np.load(f'ball-machine/shifts_v4/{sub_id}.npz') for sub_id in sub_ids]\n",
    "\n",
    "for i in range(len(sub_ids)):\n",
    "    shift_3 = shifts_v3[i]['peaks'].reshape(-1)\n",
    "    shift_4 = shifts_v4[i]['peaks'].reshape(-1)\n",
    "\n",
    "    print(i+1)\n",
    "    print(shift_3)\n",
    "    print(shift_4)"
   ]
  },
  {
   "cell_type": "markdown",
   "id": "32293df6-3747-4874-8690-3ee752e76455",
   "metadata": {},
   "source": [
    "Выберем 4 вариант"
   ]
  },
  {
   "cell_type": "code",
   "execution_count": 120,
   "id": "3fc4e974-bf76-49db-ba56-626e71ee8f1d",
   "metadata": {},
   "outputs": [],
   "source": [
    "# In tennis forehand stroke studies using IMUs, acceleration peaks typically occur about 8–12 ms after actual ball contact.\n",
    "# 12 ms = 12 / 1000 sec = 3 / 250 sec = 3 steps\n",
    "EVENT_TO_PEAK_SHIFT = 3\n",
    "\n",
    "!mkdir -p ball-machine/shifts_final\n",
    "\n",
    "sub_ids = ['0' * (n < 10) + str(n) for n in range(1, 26)]\n",
    "shifts_v3 = [np.load(f'ball-machine/shifts_v3/{sub_id}.npz') for sub_id in sub_ids]\n",
    "shifts_v4 = [np.load(f'ball-machine/shifts_v4/{sub_id}.npz') for sub_id in sub_ids]\n",
    "\n",
    "for i, sub_id in enumerate(sub_ids):\n",
    "    shift = shifts_v4[i]\n",
    "\n",
    "    np.savez_compressed(\n",
    "        f'ball-machine/shifts_final/{sub_id}.npz',\n",
    "        sessions=shift['sessions'],\n",
    "        peaks=shift['peaks'] - EVENT_TO_PEAK_SHIFT,\n",
    "    )"
   ]
  },
  {
   "cell_type": "markdown",
   "id": "b066675b-8b9d-45f7-bda3-7dfa88dcd4f5",
   "metadata": {
    "jp-MarkdownHeadingCollapsed": true
   },
   "source": [
    "## Final flow"
   ]
  },
  {
   "cell_type": "code",
   "execution_count": 121,
   "id": "4f33f154-e30c-487f-af44-44cf09311e61",
   "metadata": {},
   "outputs": [],
   "source": [
    "!mkdir -p ball-machine/data"
   ]
  },
  {
   "cell_type": "code",
   "execution_count": null,
   "id": "3fc954be-5f93-4c22-af5c-bfdf348c8038",
   "metadata": {},
   "outputs": [
    {
     "data": {
      "application/vnd.jupyter.widget-view+json": {
       "model_id": "eef1c17617004c9baab4ca901ef90d0a",
       "version_major": 2,
       "version_minor": 0
      },
      "text/plain": [
       "  0%|          | 0/25 [00:00<?, ?it/s]"
      ]
     },
     "metadata": {},
     "output_type": "display_data"
    },
    {
     "name": "stdout",
     "output_type": "stream",
     "text": [
      "Reading /data/vladimiroved/realWorldTableTennis/sub-01/eeg/sub-01_task-TableTennis_eeg.fdt\n",
      "Reading 0 ... 785327  =      0.000 ...  3141.308 secs...\n"
     ]
    },
    {
     "name": "stderr",
     "output_type": "stream",
     "text": [
      "/tmp/ipykernel_1842469/3295343524.py:52: RuntimeWarning: Unknown types found, setting as type EEG:\n",
      "acc: ['CGY-x', 'CGY-y', 'CGY-z', 'CWR-x', 'CWR-y', 'CWR-z', 'NGY-x', 'NGY-y', 'NGY-z', 'NWR-x', 'NWR-y', 'NWR-z']\n",
      "cometas: ['BallMachine_Acc_X(g)', 'BallMachine_Acc_Y(g)', 'BallMachine_Acc_Z(g)', 'Participant_Paddle_Acc_X(g)', 'Participant_Paddle_Acc_Y(g)', 'Participant_Paddle_Acc_Z(g)', 'Researcher_Paddle_Acc_X(g)', 'Researcher_Paddle_Acc_Y(g)', 'Researcher_Paddle_Acc_Z(g)', 'SyncPulse(uV)']\n",
      "noise: ['N-AF3', 'N-AF4', 'N-AF7', 'N-AF8', 'N-AFF1h', 'N-AFF2h', 'N-AFF5h', 'N-AFF6h', 'N-AFp1', 'N-AFp2', 'N-AFz', 'N-C1', 'N-C2', 'N-C3', 'N-C4', 'N-C5', 'N-C6', 'N-CCP1h', 'N-CCP2h', 'N-CCP3h', 'N-CCP4h', 'N-CCP5h', 'N-CCP6h', 'N-CP1', 'N-CP2', 'N-CP3', 'N-CP4', 'N-CP5', 'N-CP6', 'N-CPP1h', 'N-CPP2h', 'N-CPP3h', 'N-CPP4h', 'N-CPP5h', 'N-CPP6h', 'N-Cz', 'N-F1', 'N-F10', 'N-F2', 'N-F3', 'N-F4', 'N-F5', 'N-F6', 'N-F7', 'N-F8', 'N-F9', 'N-FC1', 'N-FC2', 'N-FC3', 'N-FC4', 'N-FC5', 'N-FC6', 'N-FCC1h', 'N-FCC2h', 'N-FCC3h', 'N-FCC4h', 'N-FCC5h', 'N-FCC6h', 'N-FCz', 'N-FFC1h', 'N-FFC2h', 'N-FFC3h', 'N-FFC4h', 'N-FFC5h', 'N-FFC6h', 'N-FFT10h', 'N-FFT7h', 'N-FFT8h', 'N-FFT9h', 'N-FP2', 'N-FT10', 'N-FT7', 'N-FT8', 'N-FT9', 'N-FTT10h', 'N-FTT7h', 'N-FTT8h', 'N-FTT9h', 'N-Fp1', 'N-Fz', 'N-Iz', 'N-O1', 'N-O2', 'N-O9', 'N-OI1h', 'N-OI2h', 'N-Oz', 'N-P1', 'N-P2', 'N-P3', 'N-P4', 'N-P5', 'N-P6', 'N-P7', 'N-P8', 'N-PO3', 'N-PO4', 'N-PO7', 'N-PO8', 'N-POO1', 'N-POO10h', 'N-POO2', 'N-POz', 'N-PPO10h', 'N-PPO1h', 'N-PPO2h', 'N-PPO5h', 'N-PPO6h', 'N-PPO9h', 'N-Pz', 'N-T7', 'N-T8', 'N-TP7', 'N-TP8', 'N-TPP10h', 'N-TPP7h', 'N-TPP8h', 'N-TPP9h', 'N-TTP7h', 'N-TTP8h']\n",
      "  raw_eeg = mne.io.read_raw_eeglab(eeg_dirname + f'sub-{SUB_ID}_task-TableTennis_eeg.set', preload=True)\n",
      "/tmp/ipykernel_1842469/3295343524.py:52: RuntimeWarning: Estimated head radius (11.1 cm) is above the 99th percentile for adult head size. Check if the montage_units argument is correct (the default is \"mm\", but your channel positions may be in different units).\n",
      "  raw_eeg = mne.io.read_raw_eeglab(eeg_dirname + f'sub-{SUB_ID}_task-TableTennis_eeg.set', preload=True)\n",
      "/tmp/ipykernel_1842469/3295343524.py:52: RuntimeWarning: Data file name in EEG.data (sub-01_task-tabletennis_eeg.fdt) is incorrect, the file name must have changed on disk, using the correct file name (sub-01_task-TableTennis_eeg.fdt).\n",
      "  raw_eeg = mne.io.read_raw_eeglab(eeg_dirname + f'sub-{SUB_ID}_task-TableTennis_eeg.set', preload=True)\n",
      "/tmp/ipykernel_1842469/3295343524.py:52: RuntimeWarning: Omitted 1 annotation(s) that were outside data range.\n",
      "  raw_eeg = mne.io.read_raw_eeglab(eeg_dirname + f'sub-{SUB_ID}_task-TableTennis_eeg.set', preload=True)\n",
      "/tmp/ipykernel_1842469/3295343524.py:52: RuntimeWarning: The data contains 'boundary' events, indicating data discontinuities. Be cautious of filtering and epoching around these events.\n",
      "  raw_eeg = mne.io.read_raw_eeglab(eeg_dirname + f'sub-{SUB_ID}_task-TableTennis_eeg.set', preload=True)\n",
      "/tmp/ipykernel_1842469/3295343524.py:52: RuntimeWarning: Not setting positions of 8 emg channels found in montage:\n",
      "['LISCM', 'LSSCM', 'LSTrap', 'LITrap', 'RITrap', 'RISCM', 'RSSCM', 'RSTrap']\n",
      "Consider setting the channel types to be of EEG/sEEG/ECoG/DBS/fNIRS using inst.set_channel_types before calling inst.set_montage, or omit these channels when creating your montage.\n",
      "  raw_eeg = mne.io.read_raw_eeglab(eeg_dirname + f'sub-{SUB_ID}_task-TableTennis_eeg.set', preload=True)\n",
      "/tmp/ipykernel_1842469/3295343524.py:70: RuntimeWarning: The unit for channel(s) BallMachine_Acc_X(g), BallMachine_Acc_Y(g), BallMachine_Acc_Z(g), CGY-x, CGY-y, CGY-z, CWR-x, CWR-y, CWR-z, N-AF3, N-AF4, N-AF7, N-AF8, N-AFF1h, N-AFF2h, N-AFF5h, N-AFF6h, N-AFp1, N-AFp2, N-AFz, N-C1, N-C2, N-C3, N-C4, N-C5, N-C6, N-CCP1h, N-CCP2h, N-CCP3h, N-CCP4h, N-CCP5h, N-CCP6h, N-CP1, N-CP2, N-CP3, N-CP4, N-CP5, N-CP6, N-CPP1h, N-CPP2h, N-CPP3h, N-CPP4h, N-CPP5h, N-CPP6h, N-Cz, N-F1, N-F10, N-F2, N-F3, N-F4, N-F5, N-F6, N-F7, N-F8, N-F9, N-FC1, N-FC2, N-FC3, N-FC4, N-FC5, N-FC6, N-FCC1h, N-FCC2h, N-FCC3h, N-FCC4h, N-FCC5h, N-FCC6h, N-FCz, N-FFC1h, N-FFC2h, N-FFC3h, N-FFC4h, N-FFC5h, N-FFC6h, N-FFT10h, N-FFT7h, N-FFT8h, N-FFT9h, N-FP2, N-FT10, N-FT7, N-FT8, N-FT9, N-FTT10h, N-FTT7h, N-FTT8h, N-FTT9h, N-Fp1, N-Fz, N-Iz, N-O1, N-O2, N-O9, N-OI1h, N-OI2h, N-Oz, N-P1, N-P2, N-P3, N-P4, N-P5, N-P6, N-P7, N-P8, N-PO3, N-PO4, N-PO7, N-PO8, N-POO1, N-POO10h, N-POO2, N-POz, N-PPO10h, N-PPO1h, N-PPO2h, N-PPO5h, N-PPO6h, N-PPO9h, N-Pz, N-T7, N-T8, N-TP7, N-TP8, N-TPP10h, N-TPP7h, N-TPP8h, N-TPP9h, N-TTP7h, N-TTP8h, NGY-x, NGY-y, NGY-z, NWR-x, NWR-y, NWR-z, Participant_Paddle_Acc_X(g), Participant_Paddle_Acc_Y(g), Participant_Paddle_Acc_Z(g), Researcher_Paddle_Acc_X(g), Researcher_Paddle_Acc_Y(g), Researcher_Paddle_Acc_Z(g), SyncPulse(uV) has changed from V to NA.\n",
      "  raw_eeg.set_channel_types(channel_types)\n"
     ]
    },
    {
     "name": "stdout",
     "output_type": "stream",
     "text": [
      "NOTE: pick_channels() is a legacy function. New code should use inst.pick(...).\n",
      "Reading /data/vladimiroved/realWorldTableTennis/sub-02/eeg/sub-02_task-TableTennis_eeg.fdt\n",
      "Reading 0 ... 1364632  =      0.000 ...  5458.528 secs...\n"
     ]
    },
    {
     "name": "stderr",
     "output_type": "stream",
     "text": [
      "/tmp/ipykernel_1842469/3295343524.py:52: RuntimeWarning: Unknown types found, setting as type EEG:\n",
      "acc: ['CGY-x', 'CGY-y', 'CGY-z', 'CWR-x', 'CWR-y', 'CWR-z', 'NGY-x', 'NGY-y', 'NGY-z', 'NWR-x', 'NWR-y', 'NWR-z']\n",
      "cometas: ['BallMachine_Acc_X(g)', 'BallMachine_Acc_Y(g)', 'BallMachine_Acc_Z(g)', 'Participant_Paddle_Acc_X(g)', 'Participant_Paddle_Acc_Y(g)', 'Participant_Paddle_Acc_Z(g)', 'Researcher_Paddle_Acc_X(g)', 'Researcher_Paddle_Acc_Y(g)', 'Researcher_Paddle_Acc_Z(g)', 'SyncPulse(uV)']\n",
      "noise: ['N-AF3', 'N-AF4', 'N-AF7', 'N-AF8', 'N-AFF1h', 'N-AFF2h', 'N-AFF5h', 'N-AFF6h', 'N-AFp1', 'N-AFp2', 'N-AFz', 'N-C1', 'N-C2', 'N-C3', 'N-C4', 'N-C5', 'N-C6', 'N-CCP1h', 'N-CCP2h', 'N-CCP3h', 'N-CCP4h', 'N-CCP5h', 'N-CCP6h', 'N-CP1', 'N-CP2', 'N-CP3', 'N-CP4', 'N-CP5', 'N-CP6', 'N-CPP1h', 'N-CPP2h', 'N-CPP3h', 'N-CPP4h', 'N-CPP5h', 'N-CPP6h', 'N-Cz', 'N-F1', 'N-F10', 'N-F2', 'N-F3', 'N-F4', 'N-F5', 'N-F6', 'N-F7', 'N-F8', 'N-F9', 'N-FC1', 'N-FC2', 'N-FC3', 'N-FC4', 'N-FC5', 'N-FC6', 'N-FCC1h', 'N-FCC2h', 'N-FCC3h', 'N-FCC4h', 'N-FCC5h', 'N-FCC6h', 'N-FCz', 'N-FFC1h', 'N-FFC2h', 'N-FFC3h', 'N-FFC4h', 'N-FFC5h', 'N-FFC6h', 'N-FFT10h', 'N-FFT7h', 'N-FFT8h', 'N-FFT9h', 'N-FP2', 'N-FT10', 'N-FT7', 'N-FT8', 'N-FT9', 'N-FTT10h', 'N-FTT7h', 'N-FTT8h', 'N-FTT9h', 'N-Fp1', 'N-Fz', 'N-Iz', 'N-O1', 'N-O2', 'N-O9', 'N-OI1h', 'N-OI2h', 'N-Oz', 'N-P1', 'N-P2', 'N-P3', 'N-P4', 'N-P5', 'N-P6', 'N-P7', 'N-P8', 'N-PO3', 'N-PO4', 'N-PO7', 'N-PO8', 'N-POO1', 'N-POO10h', 'N-POO2', 'N-POz', 'N-PPO10h', 'N-PPO1h', 'N-PPO2h', 'N-PPO5h', 'N-PPO6h', 'N-PPO9h', 'N-Pz', 'N-T7', 'N-T8', 'N-TP7', 'N-TP8', 'N-TPP10h', 'N-TPP7h', 'N-TPP8h', 'N-TPP9h', 'N-TTP7h', 'N-TTP8h']\n",
      "  raw_eeg = mne.io.read_raw_eeglab(eeg_dirname + f'sub-{SUB_ID}_task-TableTennis_eeg.set', preload=True)\n",
      "/tmp/ipykernel_1842469/3295343524.py:52: RuntimeWarning: Data file name in EEG.data (sub-02_task-tabletennis_eeg.fdt) is incorrect, the file name must have changed on disk, using the correct file name (sub-02_task-TableTennis_eeg.fdt).\n",
      "  raw_eeg = mne.io.read_raw_eeglab(eeg_dirname + f'sub-{SUB_ID}_task-TableTennis_eeg.set', preload=True)\n",
      "/tmp/ipykernel_1842469/3295343524.py:52: RuntimeWarning: Omitted 1 annotation(s) that were outside data range.\n",
      "  raw_eeg = mne.io.read_raw_eeglab(eeg_dirname + f'sub-{SUB_ID}_task-TableTennis_eeg.set', preload=True)\n",
      "/tmp/ipykernel_1842469/3295343524.py:52: RuntimeWarning: The data contains 'boundary' events, indicating data discontinuities. Be cautious of filtering and epoching around these events.\n",
      "  raw_eeg = mne.io.read_raw_eeglab(eeg_dirname + f'sub-{SUB_ID}_task-TableTennis_eeg.set', preload=True)\n",
      "/tmp/ipykernel_1842469/3295343524.py:52: RuntimeWarning: Not setting positions of 8 emg channels found in montage:\n",
      "['LISCM', 'LSSCM', 'LSTrap', 'LITrap', 'RITrap', 'RISCM', 'RSSCM', 'RSTrap']\n",
      "Consider setting the channel types to be of EEG/sEEG/ECoG/DBS/fNIRS using inst.set_channel_types before calling inst.set_montage, or omit these channels when creating your montage.\n",
      "  raw_eeg = mne.io.read_raw_eeglab(eeg_dirname + f'sub-{SUB_ID}_task-TableTennis_eeg.set', preload=True)\n",
      "/tmp/ipykernel_1842469/3295343524.py:70: RuntimeWarning: The unit for channel(s) BallMachine_Acc_X(g), BallMachine_Acc_Y(g), BallMachine_Acc_Z(g), CGY-x, CGY-y, CGY-z, CWR-x, CWR-y, CWR-z, N-AF3, N-AF4, N-AF7, N-AF8, N-AFF1h, N-AFF2h, N-AFF5h, N-AFF6h, N-AFp1, N-AFp2, N-AFz, N-C1, N-C2, N-C3, N-C4, N-C5, N-C6, N-CCP1h, N-CCP2h, N-CCP3h, N-CCP4h, N-CCP5h, N-CCP6h, N-CP1, N-CP2, N-CP3, N-CP4, N-CP5, N-CP6, N-CPP1h, N-CPP2h, N-CPP3h, N-CPP4h, N-CPP5h, N-CPP6h, N-Cz, N-F1, N-F10, N-F2, N-F3, N-F4, N-F5, N-F6, N-F7, N-F8, N-F9, N-FC1, N-FC2, N-FC3, N-FC4, N-FC5, N-FC6, N-FCC1h, N-FCC2h, N-FCC3h, N-FCC4h, N-FCC5h, N-FCC6h, N-FCz, N-FFC1h, N-FFC2h, N-FFC3h, N-FFC4h, N-FFC5h, N-FFC6h, N-FFT10h, N-FFT7h, N-FFT8h, N-FFT9h, N-FP2, N-FT10, N-FT7, N-FT8, N-FT9, N-FTT10h, N-FTT7h, N-FTT8h, N-FTT9h, N-Fp1, N-Fz, N-Iz, N-O1, N-O2, N-O9, N-OI1h, N-OI2h, N-Oz, N-P1, N-P2, N-P3, N-P4, N-P5, N-P6, N-P7, N-P8, N-PO3, N-PO4, N-PO7, N-PO8, N-POO1, N-POO10h, N-POO2, N-POz, N-PPO10h, N-PPO1h, N-PPO2h, N-PPO5h, N-PPO6h, N-PPO9h, N-Pz, N-T7, N-T8, N-TP7, N-TP8, N-TPP10h, N-TPP7h, N-TPP8h, N-TPP9h, N-TTP7h, N-TTP8h, NGY-x, NGY-y, NGY-z, NWR-x, NWR-y, NWR-z, Participant_Paddle_Acc_X(g), Participant_Paddle_Acc_Y(g), Participant_Paddle_Acc_Z(g), Researcher_Paddle_Acc_X(g), Researcher_Paddle_Acc_Y(g), Researcher_Paddle_Acc_Z(g), SyncPulse(uV) has changed from V to NA.\n",
      "  raw_eeg.set_channel_types(channel_types)\n"
     ]
    },
    {
     "name": "stdout",
     "output_type": "stream",
     "text": [
      "NOTE: pick_channels() is a legacy function. New code should use inst.pick(...).\n",
      "Reading /data/vladimiroved/realWorldTableTennis/sub-03/eeg/sub-03_task-TableTennis_eeg.fdt\n",
      "Reading 0 ... 1099795  =      0.000 ...  4399.180 secs...\n"
     ]
    },
    {
     "name": "stderr",
     "output_type": "stream",
     "text": [
      "/tmp/ipykernel_1842469/3295343524.py:52: RuntimeWarning: Unknown types found, setting as type EEG:\n",
      "acc: ['CGY-x', 'CGY-y', 'CGY-z', 'CWR-x', 'CWR-y', 'CWR-z', 'NGY-x', 'NGY-y', 'NGY-z', 'NWR-x', 'NWR-y', 'NWR-z']\n",
      "cometas: ['BallMachine_Acc_X(g)', 'BallMachine_Acc_Y(g)', 'BallMachine_Acc_Z(g)', 'Participant_Paddle_Acc_X(g)', 'Participant_Paddle_Acc_Y(g)', 'Participant_Paddle_Acc_Z(g)', 'Researcher_Paddle_Acc_X(g)', 'Researcher_Paddle_Acc_Y(g)', 'Researcher_Paddle_Acc_Z(g)', 'SyncPulse(uV)']\n",
      "noise: ['N-AF3', 'N-AF4', 'N-AF7', 'N-AF8', 'N-AFF1h', 'N-AFF2h', 'N-AFF5h', 'N-AFF6h', 'N-AFp1', 'N-AFp2', 'N-AFz', 'N-C1', 'N-C2', 'N-C3', 'N-C4', 'N-C5', 'N-C6', 'N-CCP1h', 'N-CCP2h', 'N-CCP3h', 'N-CCP4h', 'N-CCP5h', 'N-CCP6h', 'N-CP1', 'N-CP2', 'N-CP3', 'N-CP4', 'N-CP5', 'N-CP6', 'N-CPP1h', 'N-CPP2h', 'N-CPP3h', 'N-CPP4h', 'N-CPP5h', 'N-CPP6h', 'N-Cz', 'N-F1', 'N-F10', 'N-F2', 'N-F3', 'N-F4', 'N-F5', 'N-F6', 'N-F7', 'N-F8', 'N-F9', 'N-FC1', 'N-FC2', 'N-FC3', 'N-FC4', 'N-FC5', 'N-FC6', 'N-FCC1h', 'N-FCC2h', 'N-FCC3h', 'N-FCC4h', 'N-FCC5h', 'N-FCC6h', 'N-FCz', 'N-FFC1h', 'N-FFC2h', 'N-FFC3h', 'N-FFC4h', 'N-FFC5h', 'N-FFC6h', 'N-FFT10h', 'N-FFT7h', 'N-FFT8h', 'N-FFT9h', 'N-FP2', 'N-FT10', 'N-FT7', 'N-FT8', 'N-FT9', 'N-FTT10h', 'N-FTT7h', 'N-FTT8h', 'N-FTT9h', 'N-Fp1', 'N-Fz', 'N-Iz', 'N-O1', 'N-O2', 'N-OI1h', 'N-OI2h', 'N-Oz', 'N-P1', 'N-P2', 'N-P3', 'N-P4', 'N-P5', 'N-P6', 'N-P7', 'N-P8', 'N-PO3', 'N-PO4', 'N-PO7', 'N-PO8', 'N-POO1', 'N-POO10h', 'N-POO2', 'N-POO9h', 'N-POz', 'N-PPO10h', 'N-PPO1h', 'N-PPO2h', 'N-PPO5h', 'N-PPO6h', 'N-PPO9h', 'N-Pz', 'N-T7', 'N-T8', 'N-TP7', 'N-TP8', 'N-TPP10h', 'N-TPP7h', 'N-TPP8h', 'N-TPP9h', 'N-TTP7h', 'N-TTP8h']\n",
      "  raw_eeg = mne.io.read_raw_eeglab(eeg_dirname + f'sub-{SUB_ID}_task-TableTennis_eeg.set', preload=True)\n",
      "/tmp/ipykernel_1842469/3295343524.py:52: RuntimeWarning: Estimated head radius (11.5 cm) is above the 99th percentile for adult head size. Check if the montage_units argument is correct (the default is \"mm\", but your channel positions may be in different units).\n",
      "  raw_eeg = mne.io.read_raw_eeglab(eeg_dirname + f'sub-{SUB_ID}_task-TableTennis_eeg.set', preload=True)\n",
      "/tmp/ipykernel_1842469/3295343524.py:52: RuntimeWarning: Data file name in EEG.data (sub-03_task-tabletennis_eeg.fdt) is incorrect, the file name must have changed on disk, using the correct file name (sub-03_task-TableTennis_eeg.fdt).\n",
      "  raw_eeg = mne.io.read_raw_eeglab(eeg_dirname + f'sub-{SUB_ID}_task-TableTennis_eeg.set', preload=True)\n",
      "/tmp/ipykernel_1842469/3295343524.py:52: RuntimeWarning: Omitted 1 annotation(s) that were outside data range.\n",
      "  raw_eeg = mne.io.read_raw_eeglab(eeg_dirname + f'sub-{SUB_ID}_task-TableTennis_eeg.set', preload=True)\n",
      "/tmp/ipykernel_1842469/3295343524.py:52: RuntimeWarning: The data contains 'boundary' events, indicating data discontinuities. Be cautious of filtering and epoching around these events.\n",
      "  raw_eeg = mne.io.read_raw_eeglab(eeg_dirname + f'sub-{SUB_ID}_task-TableTennis_eeg.set', preload=True)\n",
      "/tmp/ipykernel_1842469/3295343524.py:52: RuntimeWarning: Not setting positions of 8 emg channels found in montage:\n",
      "['LISCM', 'LSSCM', 'LSTrap', 'LITrap', 'RITrap', 'RISCM', 'RSSCM', 'RSTrap']\n",
      "Consider setting the channel types to be of EEG/sEEG/ECoG/DBS/fNIRS using inst.set_channel_types before calling inst.set_montage, or omit these channels when creating your montage.\n",
      "  raw_eeg = mne.io.read_raw_eeglab(eeg_dirname + f'sub-{SUB_ID}_task-TableTennis_eeg.set', preload=True)\n",
      "/tmp/ipykernel_1842469/3295343524.py:70: RuntimeWarning: The unit for channel(s) BallMachine_Acc_X(g), BallMachine_Acc_Y(g), BallMachine_Acc_Z(g), CGY-x, CGY-y, CGY-z, CWR-x, CWR-y, CWR-z, N-AF3, N-AF4, N-AF7, N-AF8, N-AFF1h, N-AFF2h, N-AFF5h, N-AFF6h, N-AFp1, N-AFp2, N-AFz, N-C1, N-C2, N-C3, N-C4, N-C5, N-C6, N-CCP1h, N-CCP2h, N-CCP3h, N-CCP4h, N-CCP5h, N-CCP6h, N-CP1, N-CP2, N-CP3, N-CP4, N-CP5, N-CP6, N-CPP1h, N-CPP2h, N-CPP3h, N-CPP4h, N-CPP5h, N-CPP6h, N-Cz, N-F1, N-F10, N-F2, N-F3, N-F4, N-F5, N-F6, N-F7, N-F8, N-F9, N-FC1, N-FC2, N-FC3, N-FC4, N-FC5, N-FC6, N-FCC1h, N-FCC2h, N-FCC3h, N-FCC4h, N-FCC5h, N-FCC6h, N-FCz, N-FFC1h, N-FFC2h, N-FFC3h, N-FFC4h, N-FFC5h, N-FFC6h, N-FFT10h, N-FFT7h, N-FFT8h, N-FFT9h, N-FP2, N-FT10, N-FT7, N-FT8, N-FT9, N-FTT10h, N-FTT7h, N-FTT8h, N-FTT9h, N-Fp1, N-Fz, N-Iz, N-O1, N-O2, N-OI1h, N-OI2h, N-Oz, N-P1, N-P2, N-P3, N-P4, N-P5, N-P6, N-P7, N-P8, N-PO3, N-PO4, N-PO7, N-PO8, N-POO1, N-POO10h, N-POO2, N-POO9h, N-POz, N-PPO10h, N-PPO1h, N-PPO2h, N-PPO5h, N-PPO6h, N-PPO9h, N-Pz, N-T7, N-T8, N-TP7, N-TP8, N-TPP10h, N-TPP7h, N-TPP8h, N-TPP9h, N-TTP7h, N-TTP8h, NGY-x, NGY-y, NGY-z, NWR-x, NWR-y, NWR-z, Participant_Paddle_Acc_X(g), Participant_Paddle_Acc_Y(g), Participant_Paddle_Acc_Z(g), Researcher_Paddle_Acc_X(g), Researcher_Paddle_Acc_Y(g), Researcher_Paddle_Acc_Z(g), SyncPulse(uV) has changed from V to NA.\n",
      "  raw_eeg.set_channel_types(channel_types)\n"
     ]
    },
    {
     "name": "stdout",
     "output_type": "stream",
     "text": [
      "NOTE: pick_channels() is a legacy function. New code should use inst.pick(...).\n",
      "Reading /data/vladimiroved/realWorldTableTennis/sub-04/eeg/sub-04_task-TableTennis_eeg.fdt\n",
      "Reading 0 ... 1057035  =      0.000 ...  4228.140 secs...\n"
     ]
    },
    {
     "name": "stderr",
     "output_type": "stream",
     "text": [
      "/tmp/ipykernel_1842469/3295343524.py:52: RuntimeWarning: Unknown types found, setting as type EEG:\n",
      "acc: ['CGY-x', 'CGY-y', 'CGY-z', 'CWR-x', 'CWR-y', 'CWR-z', 'NGY-x', 'NGY-y', 'NGY-z', 'NWR-x', 'NWR-y', 'NWR-z']\n",
      "cometas: ['BallMachine_Acc_X(g)', 'BallMachine_Acc_Y(g)', 'BallMachine_Acc_Z(g)', 'Participant_Paddle_Acc_X(g)', 'Participant_Paddle_Acc_Y(g)', 'Participant_Paddle_Acc_Z(g)', 'Researcher_Paddle_Acc_X(g)', 'Researcher_Paddle_Acc_Y(g)', 'Researcher_Paddle_Acc_Z(g)', 'SyncPulse(uV)']\n",
      "noise: ['N-AF3', 'N-AF4', 'N-AF7', 'N-AF8', 'N-AFF1h', 'N-AFF2h', 'N-AFF5h', 'N-AFF6h', 'N-AFp1', 'N-AFp2', 'N-AFz', 'N-C1', 'N-C2', 'N-C3', 'N-C4', 'N-C5', 'N-C6', 'N-CCP1h', 'N-CCP2h', 'N-CCP3h', 'N-CCP4h', 'N-CCP5h', 'N-CCP6h', 'N-CP1', 'N-CP2', 'N-CP3', 'N-CP4', 'N-CP5', 'N-CP6', 'N-CPP1h', 'N-CPP2h', 'N-CPP3h', 'N-CPP4h', 'N-CPP5h', 'N-CPP6h', 'N-Cz', 'N-F1', 'N-F10', 'N-F2', 'N-F3', 'N-F4', 'N-F5', 'N-F6', 'N-F7', 'N-F8', 'N-F9', 'N-FC1', 'N-FC2', 'N-FC3', 'N-FC4', 'N-FC5', 'N-FC6', 'N-FCC1h', 'N-FCC2h', 'N-FCC3h', 'N-FCC4h', 'N-FCC5h', 'N-FCC6h', 'N-FCz', 'N-FFC1h', 'N-FFC2h', 'N-FFC3h', 'N-FFC4h', 'N-FFC5h', 'N-FFC6h', 'N-FFT10h', 'N-FFT7h', 'N-FFT8h', 'N-FFT9h', 'N-FP2', 'N-FT10', 'N-FT7', 'N-FT8', 'N-FT9', 'N-FTT10h', 'N-FTT7h', 'N-FTT8h', 'N-FTT9h', 'N-Fp1', 'N-Fz', 'N-Iz', 'N-O1', 'N-O2', 'N-OI1h', 'N-OI2h', 'N-Oz', 'N-P1', 'N-P2', 'N-P3', 'N-P4', 'N-P5', 'N-P6', 'N-P7', 'N-P8', 'N-PO3', 'N-PO4', 'N-PO7', 'N-PO8', 'N-POO1', 'N-POO10h', 'N-POO2', 'N-POO9h', 'N-POz', 'N-PPO10h', 'N-PPO1h', 'N-PPO2h', 'N-PPO5h', 'N-PPO6h', 'N-PPO9h', 'N-Pz', 'N-T7', 'N-T8', 'N-TP7', 'N-TP8', 'N-TPP10h', 'N-TPP7h', 'N-TPP8h', 'N-TPP9h', 'N-TTP7h', 'N-TTP8h']\n",
      "  raw_eeg = mne.io.read_raw_eeglab(eeg_dirname + f'sub-{SUB_ID}_task-TableTennis_eeg.set', preload=True)\n",
      "/tmp/ipykernel_1842469/3295343524.py:52: RuntimeWarning: Estimated head radius (10.9 cm) is above the 99th percentile for adult head size. Check if the montage_units argument is correct (the default is \"mm\", but your channel positions may be in different units).\n",
      "  raw_eeg = mne.io.read_raw_eeglab(eeg_dirname + f'sub-{SUB_ID}_task-TableTennis_eeg.set', preload=True)\n",
      "/tmp/ipykernel_1842469/3295343524.py:52: RuntimeWarning: Data file name in EEG.data (sub-04_task-tabletennis_eeg.fdt) is incorrect, the file name must have changed on disk, using the correct file name (sub-04_task-TableTennis_eeg.fdt).\n",
      "  raw_eeg = mne.io.read_raw_eeglab(eeg_dirname + f'sub-{SUB_ID}_task-TableTennis_eeg.set', preload=True)\n",
      "/tmp/ipykernel_1842469/3295343524.py:52: RuntimeWarning: Omitted 1 annotation(s) that were outside data range.\n",
      "  raw_eeg = mne.io.read_raw_eeglab(eeg_dirname + f'sub-{SUB_ID}_task-TableTennis_eeg.set', preload=True)\n",
      "/tmp/ipykernel_1842469/3295343524.py:52: RuntimeWarning: The data contains 'boundary' events, indicating data discontinuities. Be cautious of filtering and epoching around these events.\n",
      "  raw_eeg = mne.io.read_raw_eeglab(eeg_dirname + f'sub-{SUB_ID}_task-TableTennis_eeg.set', preload=True)\n",
      "/tmp/ipykernel_1842469/3295343524.py:52: RuntimeWarning: Not setting positions of 8 emg channels found in montage:\n",
      "['LISCM', 'LSSCM', 'LSTrap', 'LITrap', 'RITrap', 'RISCM', 'RSSCM', 'RSTrap']\n",
      "Consider setting the channel types to be of EEG/sEEG/ECoG/DBS/fNIRS using inst.set_channel_types before calling inst.set_montage, or omit these channels when creating your montage.\n",
      "  raw_eeg = mne.io.read_raw_eeglab(eeg_dirname + f'sub-{SUB_ID}_task-TableTennis_eeg.set', preload=True)\n",
      "/tmp/ipykernel_1842469/3295343524.py:70: RuntimeWarning: The unit for channel(s) BallMachine_Acc_X(g), BallMachine_Acc_Y(g), BallMachine_Acc_Z(g), CGY-x, CGY-y, CGY-z, CWR-x, CWR-y, CWR-z, N-AF3, N-AF4, N-AF7, N-AF8, N-AFF1h, N-AFF2h, N-AFF5h, N-AFF6h, N-AFp1, N-AFp2, N-AFz, N-C1, N-C2, N-C3, N-C4, N-C5, N-C6, N-CCP1h, N-CCP2h, N-CCP3h, N-CCP4h, N-CCP5h, N-CCP6h, N-CP1, N-CP2, N-CP3, N-CP4, N-CP5, N-CP6, N-CPP1h, N-CPP2h, N-CPP3h, N-CPP4h, N-CPP5h, N-CPP6h, N-Cz, N-F1, N-F10, N-F2, N-F3, N-F4, N-F5, N-F6, N-F7, N-F8, N-F9, N-FC1, N-FC2, N-FC3, N-FC4, N-FC5, N-FC6, N-FCC1h, N-FCC2h, N-FCC3h, N-FCC4h, N-FCC5h, N-FCC6h, N-FCz, N-FFC1h, N-FFC2h, N-FFC3h, N-FFC4h, N-FFC5h, N-FFC6h, N-FFT10h, N-FFT7h, N-FFT8h, N-FFT9h, N-FP2, N-FT10, N-FT7, N-FT8, N-FT9, N-FTT10h, N-FTT7h, N-FTT8h, N-FTT9h, N-Fp1, N-Fz, N-Iz, N-O1, N-O2, N-OI1h, N-OI2h, N-Oz, N-P1, N-P2, N-P3, N-P4, N-P5, N-P6, N-P7, N-P8, N-PO3, N-PO4, N-PO7, N-PO8, N-POO1, N-POO10h, N-POO2, N-POO9h, N-POz, N-PPO10h, N-PPO1h, N-PPO2h, N-PPO5h, N-PPO6h, N-PPO9h, N-Pz, N-T7, N-T8, N-TP7, N-TP8, N-TPP10h, N-TPP7h, N-TPP8h, N-TPP9h, N-TTP7h, N-TTP8h, NGY-x, NGY-y, NGY-z, NWR-x, NWR-y, NWR-z, Participant_Paddle_Acc_X(g), Participant_Paddle_Acc_Y(g), Participant_Paddle_Acc_Z(g), Researcher_Paddle_Acc_X(g), Researcher_Paddle_Acc_Y(g), Researcher_Paddle_Acc_Z(g), SyncPulse(uV) has changed from V to NA.\n",
      "  raw_eeg.set_channel_types(channel_types)\n"
     ]
    },
    {
     "name": "stdout",
     "output_type": "stream",
     "text": [
      "NOTE: pick_channels() is a legacy function. New code should use inst.pick(...).\n",
      "Reading /data/vladimiroved/realWorldTableTennis/sub-05/eeg/sub-05_task-TableTennis_eeg.fdt\n",
      "Reading 0 ... 1038925  =      0.000 ...  4155.700 secs...\n"
     ]
    },
    {
     "name": "stderr",
     "output_type": "stream",
     "text": [
      "/tmp/ipykernel_1842469/3295343524.py:52: RuntimeWarning: Unknown types found, setting as type EEG:\n",
      "acc: ['CGY-x', 'CGY-y', 'CGY-z', 'CWR-x', 'CWR-y', 'CWR-z', 'NGY-x', 'NGY-y', 'NGY-z', 'NWR-x', 'NWR-y', 'NWR-z']\n",
      "cometas: ['BallMachine_Acc_X(g)', 'BallMachine_Acc_Y(g)', 'BallMachine_Acc_Z(g)', 'Imu_2 :W():', 'Imu_2 :X():', 'Imu_2 :Y():', 'Imu_2 :Z():', 'Imu_2_ImuGyro :X(D/s):', 'Imu_2_ImuGyro :Y(D/s):', 'Imu_2_ImuGyro :Z(D/s):', 'Imu_2_ImuMag :X(uT):', 'Imu_2_ImuMag :Y(uT):', 'Imu_2_ImuMag :Z(uT):', 'Imu_3 :W():', 'Imu_3 :X():', 'Imu_3 :Y():', 'Imu_3 :Z():', 'Imu_3_ImuGyro :X(D/s):', 'Imu_3_ImuGyro :Y(D/s):', 'Imu_3_ImuGyro :Z(D/s):', 'Imu_3_ImuMag :X(uT):', 'Imu_3_ImuMag :Y(uT):', 'Imu_3_ImuMag :Z(uT):', 'Imu_4 :W():', 'Imu_4 :X():', 'Imu_4 :Y():', 'Imu_4 :Z():', 'Imu_4_ImuGyro :X(D/s):', 'Imu_4_ImuGyro :Y(D/s):', 'Imu_4_ImuGyro :Z(D/s):', 'Imu_4_ImuMag :X(uT):', 'Imu_4_ImuMag :Y(uT):', 'Imu_4_ImuMag :Z(uT):', 'Imu_5 :W():', 'Imu_5 :X():', 'Imu_5 :Y():', 'Imu_5 :Z():', 'Imu_5_ImuGyro :X(D/s):', 'Imu_5_ImuGyro :Y(D/s):', 'Imu_5_ImuGyro :Z(D/s):', 'Imu_5_ImuMag :X(uT):', 'Imu_5_ImuMag :Y(uT):', 'Imu_5_ImuMag :Z(uT):', 'Net_Acc_X(g)', 'Net_Acc_Y(g)', 'Net_Acc_Z(g)', 'Participant_Paddle_Acc_X(g)', 'Participant_Paddle_Acc_Y(g)', 'Participant_Paddle_Acc_Z(g)', 'Researcher_Paddle_Acc_X(g)', 'Researcher_Paddle_Acc_Y(g)', 'Researcher_Paddle_Acc_Z(g)', 'SyncPulse(uV)']\n",
      "noise: ['N-AF3', 'N-AF4', 'N-AF7', 'N-AF8', 'N-AFF1h', 'N-AFF2h', 'N-AFF5h', 'N-AFF6h', 'N-AFp1', 'N-AFp2', 'N-AFz', 'N-C1', 'N-C2', 'N-C3', 'N-C4', 'N-C5', 'N-C6', 'N-CCP1h', 'N-CCP2h', 'N-CCP3h', 'N-CCP4h', 'N-CCP5h', 'N-CCP6h', 'N-CP1', 'N-CP2', 'N-CP3', 'N-CP4', 'N-CP5', 'N-CP6', 'N-CPP1h', 'N-CPP2h', 'N-CPP3h', 'N-CPP4h', 'N-CPP5h', 'N-CPP6h', 'N-Cz', 'N-F1', 'N-F10', 'N-F2', 'N-F3', 'N-F4', 'N-F5', 'N-F6', 'N-F7', 'N-F8', 'N-F9', 'N-FC1', 'N-FC2', 'N-FC3', 'N-FC4', 'N-FC5', 'N-FC6', 'N-FCC1h', 'N-FCC2h', 'N-FCC3h', 'N-FCC4h', 'N-FCC5h', 'N-FCC6h', 'N-FCz', 'N-FFC1h', 'N-FFC2h', 'N-FFC3h', 'N-FFC4h', 'N-FFC5h', 'N-FFC6h', 'N-FFT10h', 'N-FFT7h', 'N-FFT8h', 'N-FFT9h', 'N-FP2', 'N-FT10', 'N-FT7', 'N-FT8', 'N-FT9', 'N-FTT10h', 'N-FTT7h', 'N-FTT8h', 'N-FTT9h', 'N-Fp1', 'N-Fz', 'N-Iz', 'N-O1', 'N-O2', 'N-OI1h', 'N-OI2h', 'N-Oz', 'N-P1', 'N-P2', 'N-P3', 'N-P4', 'N-P5', 'N-P6', 'N-P7', 'N-P8', 'N-PO3', 'N-PO4', 'N-PO7', 'N-PO8', 'N-POO1', 'N-POO10h', 'N-POO2', 'N-POO9h', 'N-POz', 'N-PPO10h', 'N-PPO1h', 'N-PPO2h', 'N-PPO5h', 'N-PPO6h', 'N-PPO9h', 'N-Pz', 'N-T7', 'N-T8', 'N-TP7', 'N-TP8', 'N-TPP10h', 'N-TPP7h', 'N-TPP8h', 'N-TPP9h', 'N-TTP7h', 'N-TTP8h']\n",
      "  raw_eeg = mne.io.read_raw_eeglab(eeg_dirname + f'sub-{SUB_ID}_task-TableTennis_eeg.set', preload=True)\n",
      "/tmp/ipykernel_1842469/3295343524.py:52: RuntimeWarning: Data file name in EEG.data (sub-05_task-tabletennis_eeg.fdt) is incorrect, the file name must have changed on disk, using the correct file name (sub-05_task-TableTennis_eeg.fdt).\n",
      "  raw_eeg = mne.io.read_raw_eeglab(eeg_dirname + f'sub-{SUB_ID}_task-TableTennis_eeg.set', preload=True)\n",
      "/tmp/ipykernel_1842469/3295343524.py:52: RuntimeWarning: Omitted 1 annotation(s) that were outside data range.\n",
      "  raw_eeg = mne.io.read_raw_eeglab(eeg_dirname + f'sub-{SUB_ID}_task-TableTennis_eeg.set', preload=True)\n",
      "/tmp/ipykernel_1842469/3295343524.py:52: RuntimeWarning: The data contains 'boundary' events, indicating data discontinuities. Be cautious of filtering and epoching around these events.\n",
      "  raw_eeg = mne.io.read_raw_eeglab(eeg_dirname + f'sub-{SUB_ID}_task-TableTennis_eeg.set', preload=True)\n",
      "/tmp/ipykernel_1842469/3295343524.py:52: RuntimeWarning: Not setting positions of 8 emg channels found in montage:\n",
      "['LISCM', 'LSSCM', 'LSTrap', 'LITrap', 'RITrap', 'RISCM', 'RSSCM', 'RSTrap']\n",
      "Consider setting the channel types to be of EEG/sEEG/ECoG/DBS/fNIRS using inst.set_channel_types before calling inst.set_montage, or omit these channels when creating your montage.\n",
      "  raw_eeg = mne.io.read_raw_eeglab(eeg_dirname + f'sub-{SUB_ID}_task-TableTennis_eeg.set', preload=True)\n",
      "/tmp/ipykernel_1842469/3295343524.py:70: RuntimeWarning: The unit for channel(s) BallMachine_Acc_X(g), BallMachine_Acc_Y(g), BallMachine_Acc_Z(g), CGY-x, CGY-y, CGY-z, CWR-x, CWR-y, CWR-z, Imu_2 :W():, Imu_2 :X():, Imu_2 :Y():, Imu_2 :Z():, Imu_2_ImuGyro :X(D/s):, Imu_2_ImuGyro :Y(D/s):, Imu_2_ImuGyro :Z(D/s):, Imu_2_ImuMag :X(uT):, Imu_2_ImuMag :Y(uT):, Imu_2_ImuMag :Z(uT):, Imu_3 :W():, Imu_3 :X():, Imu_3 :Y():, Imu_3 :Z():, Imu_3_ImuGyro :X(D/s):, Imu_3_ImuGyro :Y(D/s):, Imu_3_ImuGyro :Z(D/s):, Imu_3_ImuMag :X(uT):, Imu_3_ImuMag :Y(uT):, Imu_3_ImuMag :Z(uT):, Imu_4 :W():, Imu_4 :X():, Imu_4 :Y():, Imu_4 :Z():, Imu_4_ImuGyro :X(D/s):, Imu_4_ImuGyro :Y(D/s):, Imu_4_ImuGyro :Z(D/s):, Imu_4_ImuMag :X(uT):, Imu_4_ImuMag :Y(uT):, Imu_4_ImuMag :Z(uT):, Imu_5 :W():, Imu_5 :X():, Imu_5 :Y():, Imu_5 :Z():, Imu_5_ImuGyro :X(D/s):, Imu_5_ImuGyro :Y(D/s):, Imu_5_ImuGyro :Z(D/s):, Imu_5_ImuMag :X(uT):, Imu_5_ImuMag :Y(uT):, Imu_5_ImuMag :Z(uT):, N-AF3, N-AF4, N-AF7, N-AF8, N-AFF1h, N-AFF2h, N-AFF5h, N-AFF6h, N-AFp1, N-AFp2, N-AFz, N-C1, N-C2, N-C3, N-C4, N-C5, N-C6, N-CCP1h, N-CCP2h, N-CCP3h, N-CCP4h, N-CCP5h, N-CCP6h, N-CP1, N-CP2, N-CP3, N-CP4, N-CP5, N-CP6, N-CPP1h, N-CPP2h, N-CPP3h, N-CPP4h, N-CPP5h, N-CPP6h, N-Cz, N-F1, N-F10, N-F2, N-F3, N-F4, N-F5, N-F6, N-F7, N-F8, N-F9, N-FC1, N-FC2, N-FC3, N-FC4, N-FC5, N-FC6, N-FCC1h, N-FCC2h, N-FCC3h, N-FCC4h, N-FCC5h, N-FCC6h, N-FCz, N-FFC1h, N-FFC2h, N-FFC3h, N-FFC4h, N-FFC5h, N-FFC6h, N-FFT10h, N-FFT7h, N-FFT8h, N-FFT9h, N-FP2, N-FT10, N-FT7, N-FT8, N-FT9, N-FTT10h, N-FTT7h, N-FTT8h, N-FTT9h, N-Fp1, N-Fz, N-Iz, N-O1, N-O2, N-OI1h, N-OI2h, N-Oz, N-P1, N-P2, N-P3, N-P4, N-P5, N-P6, N-P7, N-P8, N-PO3, N-PO4, N-PO7, N-PO8, N-POO1, N-POO10h, N-POO2, N-POO9h, N-POz, N-PPO10h, N-PPO1h, N-PPO2h, N-PPO5h, N-PPO6h, N-PPO9h, N-Pz, N-T7, N-T8, N-TP7, N-TP8, N-TPP10h, N-TPP7h, N-TPP8h, N-TPP9h, N-TTP7h, N-TTP8h, NGY-x, NGY-y, NGY-z, NWR-x, NWR-y, NWR-z, Net_Acc_X(g), Net_Acc_Y(g), Net_Acc_Z(g), Participant_Paddle_Acc_X(g), Participant_Paddle_Acc_Y(g), Participant_Paddle_Acc_Z(g), Researcher_Paddle_Acc_X(g), Researcher_Paddle_Acc_Y(g), Researcher_Paddle_Acc_Z(g), SyncPulse(uV) has changed from V to NA.\n",
      "  raw_eeg.set_channel_types(channel_types)\n"
     ]
    },
    {
     "name": "stdout",
     "output_type": "stream",
     "text": [
      "NOTE: pick_channels() is a legacy function. New code should use inst.pick(...).\n",
      "Reading /data/vladimiroved/realWorldTableTennis/sub-06/eeg/sub-06_task-TableTennis_eeg.fdt\n",
      "Reading 0 ... 1042908  =      0.000 ...  4171.632 secs...\n"
     ]
    },
    {
     "name": "stderr",
     "output_type": "stream",
     "text": [
      "/tmp/ipykernel_1842469/3295343524.py:52: RuntimeWarning: Unknown types found, setting as type EEG:\n",
      "acc: ['CGY-x', 'CGY-y', 'CGY-z', 'CWR-x', 'CWR-y', 'CWR-z', 'NGY-x', 'NGY-y', 'NGY-z', 'NWR-x', 'NWR-y', 'NWR-z']\n",
      "cometas: ['BallMachine_Acc_X(g)', 'BallMachine_Acc_Y(g)', 'BallMachine_Acc_Z(g)', 'Imu_2 :W():', 'Imu_2 :X():', 'Imu_2 :Y():', 'Imu_2 :Z():', 'Imu_2_ImuGyro :X(D/s):', 'Imu_2_ImuGyro :Y(D/s):', 'Imu_2_ImuGyro :Z(D/s):', 'Imu_2_ImuMag :X(uT):', 'Imu_2_ImuMag :Y(uT):', 'Imu_2_ImuMag :Z(uT):', 'Imu_3 :W():', 'Imu_3 :X():', 'Imu_3 :Y():', 'Imu_3 :Z():', 'Imu_3_ImuGyro :X(D/s):', 'Imu_3_ImuGyro :Y(D/s):', 'Imu_3_ImuGyro :Z(D/s):', 'Imu_3_ImuMag :X(uT):', 'Imu_3_ImuMag :Y(uT):', 'Imu_3_ImuMag :Z(uT):', 'Imu_4 :W():', 'Imu_4 :X():', 'Imu_4 :Y():', 'Imu_4 :Z():', 'Imu_4_ImuGyro :X(D/s):', 'Imu_4_ImuGyro :Y(D/s):', 'Imu_4_ImuGyro :Z(D/s):', 'Imu_4_ImuMag :X(uT):', 'Imu_4_ImuMag :Y(uT):', 'Imu_4_ImuMag :Z(uT):', 'Imu_5 :W():', 'Imu_5 :X():', 'Imu_5 :Y():', 'Imu_5 :Z():', 'Imu_5_ImuGyro :X(D/s):', 'Imu_5_ImuGyro :Y(D/s):', 'Imu_5_ImuGyro :Z(D/s):', 'Imu_5_ImuMag :X(uT):', 'Imu_5_ImuMag :Y(uT):', 'Imu_5_ImuMag :Z(uT):', 'Net_Acc_X(g)', 'Net_Acc_Y(g)', 'Net_Acc_Z(g)', 'Participant_Paddle_Acc_X(g)', 'Participant_Paddle_Acc_Y(g)', 'Participant_Paddle_Acc_Z(g)', 'Researcher_Paddle_Acc_X(g)', 'Researcher_Paddle_Acc_Y(g)', 'Researcher_Paddle_Acc_Z(g)', 'SyncPulse(uV)']\n",
      "noise: ['N-AF3', 'N-AF4', 'N-AF7', 'N-AF8', 'N-AFF1h', 'N-AFF2h', 'N-AFF5h', 'N-AFF6h', 'N-AFp1', 'N-AFp2', 'N-AFz', 'N-C1', 'N-C2', 'N-C3', 'N-C4', 'N-C5', 'N-C6', 'N-CCP1h', 'N-CCP2h', 'N-CCP3h', 'N-CCP4h', 'N-CCP5h', 'N-CCP6h', 'N-CP1', 'N-CP2', 'N-CP3', 'N-CP4', 'N-CP5', 'N-CP6', 'N-CPP1h', 'N-CPP2h', 'N-CPP3h', 'N-CPP4h', 'N-CPP5h', 'N-CPP6h', 'N-Cz', 'N-F1', 'N-F10', 'N-F2', 'N-F3', 'N-F4', 'N-F5', 'N-F6', 'N-F7', 'N-F8', 'N-F9', 'N-FC1', 'N-FC2', 'N-FC3', 'N-FC4', 'N-FC5', 'N-FC6', 'N-FCC1h', 'N-FCC2h', 'N-FCC3h', 'N-FCC4h', 'N-FCC5h', 'N-FCC6h', 'N-FCz', 'N-FFC1h', 'N-FFC2h', 'N-FFC3h', 'N-FFC4h', 'N-FFC5h', 'N-FFC6h', 'N-FFT10h', 'N-FFT7h', 'N-FFT8h', 'N-FFT9h', 'N-FP2', 'N-FT10', 'N-FT7', 'N-FT8', 'N-FT9', 'N-FTT10h', 'N-FTT7h', 'N-FTT8h', 'N-FTT9h', 'N-Fp1', 'N-Fz', 'N-Iz', 'N-O1', 'N-O2', 'N-OI1h', 'N-OI2h', 'N-Oz', 'N-P1', 'N-P2', 'N-P3', 'N-P4', 'N-P5', 'N-P6', 'N-P7', 'N-P8', 'N-PO3', 'N-PO4', 'N-PO7', 'N-PO8', 'N-POO1', 'N-POO10h', 'N-POO2', 'N-POO9h', 'N-POz', 'N-PPO10h', 'N-PPO1h', 'N-PPO2h', 'N-PPO5h', 'N-PPO6h', 'N-PPO9h', 'N-Pz', 'N-T7', 'N-T8', 'N-TP7', 'N-TP8', 'N-TPP10h', 'N-TPP7h', 'N-TPP8h', 'N-TPP9h', 'N-TTP7h', 'N-TTP8h']\n",
      "  raw_eeg = mne.io.read_raw_eeglab(eeg_dirname + f'sub-{SUB_ID}_task-TableTennis_eeg.set', preload=True)\n",
      "/tmp/ipykernel_1842469/3295343524.py:52: RuntimeWarning: Estimated head radius (12.2 cm) is above the 99th percentile for adult head size. Check if the montage_units argument is correct (the default is \"mm\", but your channel positions may be in different units).\n",
      "  raw_eeg = mne.io.read_raw_eeglab(eeg_dirname + f'sub-{SUB_ID}_task-TableTennis_eeg.set', preload=True)\n",
      "/tmp/ipykernel_1842469/3295343524.py:52: RuntimeWarning: Data file name in EEG.data (sub-06_task-tabletennis_eeg.fdt) is incorrect, the file name must have changed on disk, using the correct file name (sub-06_task-TableTennis_eeg.fdt).\n",
      "  raw_eeg = mne.io.read_raw_eeglab(eeg_dirname + f'sub-{SUB_ID}_task-TableTennis_eeg.set', preload=True)\n",
      "/tmp/ipykernel_1842469/3295343524.py:52: RuntimeWarning: Omitted 1 annotation(s) that were outside data range.\n",
      "  raw_eeg = mne.io.read_raw_eeglab(eeg_dirname + f'sub-{SUB_ID}_task-TableTennis_eeg.set', preload=True)\n",
      "/tmp/ipykernel_1842469/3295343524.py:52: RuntimeWarning: The data contains 'boundary' events, indicating data discontinuities. Be cautious of filtering and epoching around these events.\n",
      "  raw_eeg = mne.io.read_raw_eeglab(eeg_dirname + f'sub-{SUB_ID}_task-TableTennis_eeg.set', preload=True)\n",
      "/tmp/ipykernel_1842469/3295343524.py:52: RuntimeWarning: Not setting positions of 8 emg channels found in montage:\n",
      "['LISCM', 'LSSCM', 'LSTrap', 'LITrap', 'RITrap', 'RISCM', 'RSSCM', 'RSTrap']\n",
      "Consider setting the channel types to be of EEG/sEEG/ECoG/DBS/fNIRS using inst.set_channel_types before calling inst.set_montage, or omit these channels when creating your montage.\n",
      "  raw_eeg = mne.io.read_raw_eeglab(eeg_dirname + f'sub-{SUB_ID}_task-TableTennis_eeg.set', preload=True)\n",
      "/tmp/ipykernel_1842469/3295343524.py:70: RuntimeWarning: The unit for channel(s) BallMachine_Acc_X(g), BallMachine_Acc_Y(g), BallMachine_Acc_Z(g), CGY-x, CGY-y, CGY-z, CWR-x, CWR-y, CWR-z, Imu_2 :W():, Imu_2 :X():, Imu_2 :Y():, Imu_2 :Z():, Imu_2_ImuGyro :X(D/s):, Imu_2_ImuGyro :Y(D/s):, Imu_2_ImuGyro :Z(D/s):, Imu_2_ImuMag :X(uT):, Imu_2_ImuMag :Y(uT):, Imu_2_ImuMag :Z(uT):, Imu_3 :W():, Imu_3 :X():, Imu_3 :Y():, Imu_3 :Z():, Imu_3_ImuGyro :X(D/s):, Imu_3_ImuGyro :Y(D/s):, Imu_3_ImuGyro :Z(D/s):, Imu_3_ImuMag :X(uT):, Imu_3_ImuMag :Y(uT):, Imu_3_ImuMag :Z(uT):, Imu_4 :W():, Imu_4 :X():, Imu_4 :Y():, Imu_4 :Z():, Imu_4_ImuGyro :X(D/s):, Imu_4_ImuGyro :Y(D/s):, Imu_4_ImuGyro :Z(D/s):, Imu_4_ImuMag :X(uT):, Imu_4_ImuMag :Y(uT):, Imu_4_ImuMag :Z(uT):, Imu_5 :W():, Imu_5 :X():, Imu_5 :Y():, Imu_5 :Z():, Imu_5_ImuGyro :X(D/s):, Imu_5_ImuGyro :Y(D/s):, Imu_5_ImuGyro :Z(D/s):, Imu_5_ImuMag :X(uT):, Imu_5_ImuMag :Y(uT):, Imu_5_ImuMag :Z(uT):, N-AF3, N-AF4, N-AF7, N-AF8, N-AFF1h, N-AFF2h, N-AFF5h, N-AFF6h, N-AFp1, N-AFp2, N-AFz, N-C1, N-C2, N-C3, N-C4, N-C5, N-C6, N-CCP1h, N-CCP2h, N-CCP3h, N-CCP4h, N-CCP5h, N-CCP6h, N-CP1, N-CP2, N-CP3, N-CP4, N-CP5, N-CP6, N-CPP1h, N-CPP2h, N-CPP3h, N-CPP4h, N-CPP5h, N-CPP6h, N-Cz, N-F1, N-F10, N-F2, N-F3, N-F4, N-F5, N-F6, N-F7, N-F8, N-F9, N-FC1, N-FC2, N-FC3, N-FC4, N-FC5, N-FC6, N-FCC1h, N-FCC2h, N-FCC3h, N-FCC4h, N-FCC5h, N-FCC6h, N-FCz, N-FFC1h, N-FFC2h, N-FFC3h, N-FFC4h, N-FFC5h, N-FFC6h, N-FFT10h, N-FFT7h, N-FFT8h, N-FFT9h, N-FP2, N-FT10, N-FT7, N-FT8, N-FT9, N-FTT10h, N-FTT7h, N-FTT8h, N-FTT9h, N-Fp1, N-Fz, N-Iz, N-O1, N-O2, N-OI1h, N-OI2h, N-Oz, N-P1, N-P2, N-P3, N-P4, N-P5, N-P6, N-P7, N-P8, N-PO3, N-PO4, N-PO7, N-PO8, N-POO1, N-POO10h, N-POO2, N-POO9h, N-POz, N-PPO10h, N-PPO1h, N-PPO2h, N-PPO5h, N-PPO6h, N-PPO9h, N-Pz, N-T7, N-T8, N-TP7, N-TP8, N-TPP10h, N-TPP7h, N-TPP8h, N-TPP9h, N-TTP7h, N-TTP8h, NGY-x, NGY-y, NGY-z, NWR-x, NWR-y, NWR-z, Net_Acc_X(g), Net_Acc_Y(g), Net_Acc_Z(g), Participant_Paddle_Acc_X(g), Participant_Paddle_Acc_Y(g), Participant_Paddle_Acc_Z(g), Researcher_Paddle_Acc_X(g), Researcher_Paddle_Acc_Y(g), Researcher_Paddle_Acc_Z(g), SyncPulse(uV) has changed from V to NA.\n",
      "  raw_eeg.set_channel_types(channel_types)\n"
     ]
    },
    {
     "name": "stdout",
     "output_type": "stream",
     "text": [
      "NOTE: pick_channels() is a legacy function. New code should use inst.pick(...).\n",
      "Reading /data/vladimiroved/realWorldTableTennis/sub-07/eeg/sub-07_task-TableTennis_eeg.fdt\n",
      "Reading 0 ... 1174502  =      0.000 ...  4698.008 secs...\n"
     ]
    },
    {
     "name": "stderr",
     "output_type": "stream",
     "text": [
      "/tmp/ipykernel_1842469/3295343524.py:52: RuntimeWarning: Unknown types found, setting as type EEG:\n",
      "acc: ['CGY-x', 'CGY-y', 'CGY-z', 'CWR-x', 'CWR-y', 'CWR-z', 'NGY-x', 'NGY-y', 'NGY-z', 'NWR-x', 'NWR-y', 'NWR-z']\n",
      "cometas: ['BallMachine_Acc_X(g)', 'BallMachine_Acc_Y(g)', 'BallMachine_Acc_Z(g)', 'Imu_2 :W():', 'Imu_2 :X():', 'Imu_2 :Y():', 'Imu_2 :Z():', 'Imu_2_ImuGyro :X(D/s):', 'Imu_2_ImuGyro :Y(D/s):', 'Imu_2_ImuGyro :Z(D/s):', 'Imu_2_ImuMag :X(uT):', 'Imu_2_ImuMag :Y(uT):', 'Imu_2_ImuMag :Z(uT):', 'Imu_4 :W():', 'Imu_4 :X():', 'Imu_4 :Y():', 'Imu_4 :Z():', 'Imu_4_ImuGyro :X(D/s):', 'Imu_4_ImuGyro :Y(D/s):', 'Imu_4_ImuGyro :Z(D/s):', 'Imu_4_ImuMag :X(uT):', 'Imu_4_ImuMag :Y(uT):', 'Imu_4_ImuMag :Z(uT):', 'Net_Acc_X(g)', 'Net_Acc_Y(g)', 'Net_Acc_Z(g)', 'Participant_Paddle_Acc_X(g)', 'Participant_Paddle_Acc_Y(g)', 'Participant_Paddle_Acc_Z(g)', 'Researcher_Paddle_Acc_X(g)', 'Researcher_Paddle_Acc_Y(g)', 'Researcher_Paddle_Acc_Z(g)', 'SyncPulse(uV)', 'Table_OtherSide_Acc_X(g)', 'Table_OtherSide_Acc_Y(g)', 'Table_OtherSide_Acc_Z(g)', 'Table_ParticipantSide_Acc_X(g)', 'Table_ParticipantSide_Acc_Y(g)', 'Table_ParticipantSide_Acc_Z(g)']\n",
      "noise: ['N-AF3', 'N-AF4', 'N-AF7', 'N-AF8', 'N-AFF1h', 'N-AFF2h', 'N-AFF5h', 'N-AFF6h', 'N-AFp1', 'N-AFp2', 'N-AFz', 'N-C1', 'N-C2', 'N-C3', 'N-C4', 'N-C5', 'N-C6', 'N-CCP1h', 'N-CCP2h', 'N-CCP3h', 'N-CCP4h', 'N-CCP5h', 'N-CCP6h', 'N-CP1', 'N-CP2', 'N-CP3', 'N-CP4', 'N-CP5', 'N-CP6', 'N-CPP1h', 'N-CPP2h', 'N-CPP3h', 'N-CPP4h', 'N-CPP5h', 'N-CPP6h', 'N-Cz', 'N-F1', 'N-F10', 'N-F2', 'N-F3', 'N-F4', 'N-F5', 'N-F6', 'N-F7', 'N-F8', 'N-F9', 'N-FC1', 'N-FC2', 'N-FC3', 'N-FC4', 'N-FC5', 'N-FC6', 'N-FCC1h', 'N-FCC2h', 'N-FCC3h', 'N-FCC4h', 'N-FCC5h', 'N-FCC6h', 'N-FCz', 'N-FFC1h', 'N-FFC2h', 'N-FFC3h', 'N-FFC4h', 'N-FFC5h', 'N-FFC6h', 'N-FFT10h', 'N-FFT7h', 'N-FFT8h', 'N-FFT9h', 'N-FP2', 'N-FT10', 'N-FT7', 'N-FT8', 'N-FT9', 'N-FTT10h', 'N-FTT7h', 'N-FTT8h', 'N-FTT9h', 'N-Fp1', 'N-Fz', 'N-Iz', 'N-O1', 'N-O2', 'N-OI1h', 'N-OI2h', 'N-Oz', 'N-P1', 'N-P2', 'N-P3', 'N-P4', 'N-P5', 'N-P6', 'N-P7', 'N-P8', 'N-PO3', 'N-PO4', 'N-PO7', 'N-PO8', 'N-POO1', 'N-POO10h', 'N-POO2', 'N-POO9h', 'N-POz', 'N-PPO10h', 'N-PPO1h', 'N-PPO2h', 'N-PPO5h', 'N-PPO6h', 'N-PPO9h', 'N-Pz', 'N-T7', 'N-T8', 'N-TP7', 'N-TP8', 'N-TPP10h', 'N-TPP7h', 'N-TPP8h', 'N-TPP9h', 'N-TTP7h', 'N-TTP8h']\n",
      "  raw_eeg = mne.io.read_raw_eeglab(eeg_dirname + f'sub-{SUB_ID}_task-TableTennis_eeg.set', preload=True)\n",
      "/tmp/ipykernel_1842469/3295343524.py:52: RuntimeWarning: Estimated head radius (11.4 cm) is above the 99th percentile for adult head size. Check if the montage_units argument is correct (the default is \"mm\", but your channel positions may be in different units).\n",
      "  raw_eeg = mne.io.read_raw_eeglab(eeg_dirname + f'sub-{SUB_ID}_task-TableTennis_eeg.set', preload=True)\n",
      "/tmp/ipykernel_1842469/3295343524.py:52: RuntimeWarning: Data file name in EEG.data (sub-07_task-tabletennis_eeg.fdt) is incorrect, the file name must have changed on disk, using the correct file name (sub-07_task-TableTennis_eeg.fdt).\n",
      "  raw_eeg = mne.io.read_raw_eeglab(eeg_dirname + f'sub-{SUB_ID}_task-TableTennis_eeg.set', preload=True)\n",
      "/tmp/ipykernel_1842469/3295343524.py:52: RuntimeWarning: Omitted 1 annotation(s) that were outside data range.\n",
      "  raw_eeg = mne.io.read_raw_eeglab(eeg_dirname + f'sub-{SUB_ID}_task-TableTennis_eeg.set', preload=True)\n",
      "/tmp/ipykernel_1842469/3295343524.py:52: RuntimeWarning: The data contains 'boundary' events, indicating data discontinuities. Be cautious of filtering and epoching around these events.\n",
      "  raw_eeg = mne.io.read_raw_eeglab(eeg_dirname + f'sub-{SUB_ID}_task-TableTennis_eeg.set', preload=True)\n",
      "/tmp/ipykernel_1842469/3295343524.py:52: RuntimeWarning: Not setting positions of 8 emg channels found in montage:\n",
      "['LISCM', 'LSSCM', 'LSTrap', 'LITrap', 'RITrap', 'RISCM', 'RSSCM', 'RSTrap']\n",
      "Consider setting the channel types to be of EEG/sEEG/ECoG/DBS/fNIRS using inst.set_channel_types before calling inst.set_montage, or omit these channels when creating your montage.\n",
      "  raw_eeg = mne.io.read_raw_eeglab(eeg_dirname + f'sub-{SUB_ID}_task-TableTennis_eeg.set', preload=True)\n",
      "/tmp/ipykernel_1842469/3295343524.py:70: RuntimeWarning: The unit for channel(s) BallMachine_Acc_X(g), BallMachine_Acc_Y(g), BallMachine_Acc_Z(g), CGY-x, CGY-y, CGY-z, CWR-x, CWR-y, CWR-z, Imu_2 :W():, Imu_2 :X():, Imu_2 :Y():, Imu_2 :Z():, Imu_2_ImuGyro :X(D/s):, Imu_2_ImuGyro :Y(D/s):, Imu_2_ImuGyro :Z(D/s):, Imu_2_ImuMag :X(uT):, Imu_2_ImuMag :Y(uT):, Imu_2_ImuMag :Z(uT):, Imu_4 :W():, Imu_4 :X():, Imu_4 :Y():, Imu_4 :Z():, Imu_4_ImuGyro :X(D/s):, Imu_4_ImuGyro :Y(D/s):, Imu_4_ImuGyro :Z(D/s):, Imu_4_ImuMag :X(uT):, Imu_4_ImuMag :Y(uT):, Imu_4_ImuMag :Z(uT):, N-AF3, N-AF4, N-AF7, N-AF8, N-AFF1h, N-AFF2h, N-AFF5h, N-AFF6h, N-AFp1, N-AFp2, N-AFz, N-C1, N-C2, N-C3, N-C4, N-C5, N-C6, N-CCP1h, N-CCP2h, N-CCP3h, N-CCP4h, N-CCP5h, N-CCP6h, N-CP1, N-CP2, N-CP3, N-CP4, N-CP5, N-CP6, N-CPP1h, N-CPP2h, N-CPP3h, N-CPP4h, N-CPP5h, N-CPP6h, N-Cz, N-F1, N-F10, N-F2, N-F3, N-F4, N-F5, N-F6, N-F7, N-F8, N-F9, N-FC1, N-FC2, N-FC3, N-FC4, N-FC5, N-FC6, N-FCC1h, N-FCC2h, N-FCC3h, N-FCC4h, N-FCC5h, N-FCC6h, N-FCz, N-FFC1h, N-FFC2h, N-FFC3h, N-FFC4h, N-FFC5h, N-FFC6h, N-FFT10h, N-FFT7h, N-FFT8h, N-FFT9h, N-FP2, N-FT10, N-FT7, N-FT8, N-FT9, N-FTT10h, N-FTT7h, N-FTT8h, N-FTT9h, N-Fp1, N-Fz, N-Iz, N-O1, N-O2, N-OI1h, N-OI2h, N-Oz, N-P1, N-P2, N-P3, N-P4, N-P5, N-P6, N-P7, N-P8, N-PO3, N-PO4, N-PO7, N-PO8, N-POO1, N-POO10h, N-POO2, N-POO9h, N-POz, N-PPO10h, N-PPO1h, N-PPO2h, N-PPO5h, N-PPO6h, N-PPO9h, N-Pz, N-T7, N-T8, N-TP7, N-TP8, N-TPP10h, N-TPP7h, N-TPP8h, N-TPP9h, N-TTP7h, N-TTP8h, NGY-x, NGY-y, NGY-z, NWR-x, NWR-y, NWR-z, Net_Acc_X(g), Net_Acc_Y(g), Net_Acc_Z(g), Participant_Paddle_Acc_X(g), Participant_Paddle_Acc_Y(g), Participant_Paddle_Acc_Z(g), Researcher_Paddle_Acc_X(g), Researcher_Paddle_Acc_Y(g), Researcher_Paddle_Acc_Z(g), SyncPulse(uV), Table_OtherSide_Acc_X(g), Table_OtherSide_Acc_Y(g), Table_OtherSide_Acc_Z(g), Table_ParticipantSide_Acc_X(g), Table_ParticipantSide_Acc_Y(g), Table_ParticipantSide_Acc_Z(g) has changed from V to NA.\n",
      "  raw_eeg.set_channel_types(channel_types)\n"
     ]
    },
    {
     "name": "stdout",
     "output_type": "stream",
     "text": [
      "NOTE: pick_channels() is a legacy function. New code should use inst.pick(...).\n",
      "Reading /data/vladimiroved/realWorldTableTennis/sub-08/eeg/sub-08_task-TableTennis_eeg.fdt\n",
      "Reading 0 ... 1159909  =      0.000 ...  4639.636 secs...\n"
     ]
    },
    {
     "name": "stderr",
     "output_type": "stream",
     "text": [
      "/tmp/ipykernel_1842469/3295343524.py:52: RuntimeWarning: Unknown types found, setting as type EEG:\n",
      "acc: ['CGY-x', 'CGY-y', 'CGY-z', 'CWR-x', 'CWR-y', 'CWR-z', 'NGY-x', 'NGY-y', 'NGY-z', 'NWR-x', 'NWR-y', 'NWR-z']\n",
      "cometas: ['BallMachine_Acc_X(g)', 'BallMachine_Acc_Y(g)', 'BallMachine_Acc_Z(g)', 'Imu_2 :W():', 'Imu_2 :X():', 'Imu_2 :Y():', 'Imu_2 :Z():', 'Imu_2_ImuGyro :X(D/s):', 'Imu_2_ImuGyro :Y(D/s):', 'Imu_2_ImuGyro :Z(D/s):', 'Imu_2_ImuMag :X(uT):', 'Imu_2_ImuMag :Y(uT):', 'Imu_2_ImuMag :Z(uT):', 'Imu_4 :W():', 'Imu_4 :X():', 'Imu_4 :Y():', 'Imu_4 :Z():', 'Imu_4_ImuGyro :X(D/s):', 'Imu_4_ImuGyro :Y(D/s):', 'Imu_4_ImuGyro :Z(D/s):', 'Imu_4_ImuMag :X(uT):', 'Imu_4_ImuMag :Y(uT):', 'Imu_4_ImuMag :Z(uT):', 'Net_Acc_X(g)', 'Net_Acc_Y(g)', 'Net_Acc_Z(g)', 'Participant_Paddle_Acc_X(g)', 'Participant_Paddle_Acc_Y(g)', 'Participant_Paddle_Acc_Z(g)', 'Researcher_Paddle_Acc_X(g)', 'Researcher_Paddle_Acc_Y(g)', 'Researcher_Paddle_Acc_Z(g)', 'SyncPulse(uV)', 'Table_OtherSide_Acc_X(g)', 'Table_OtherSide_Acc_Y(g)', 'Table_OtherSide_Acc_Z(g)', 'Table_ParticipantSide_Acc_X(g)', 'Table_ParticipantSide_Acc_Y(g)', 'Table_ParticipantSide_Acc_Z(g)']\n",
      "noise: ['N-AF3', 'N-AF4', 'N-AF7', 'N-AF8', 'N-AFF1h', 'N-AFF2h', 'N-AFF5h', 'N-AFF6h', 'N-AFp1', 'N-AFp2', 'N-AFz', 'N-C1', 'N-C2', 'N-C3', 'N-C4', 'N-C5', 'N-C6', 'N-CCP1h', 'N-CCP2h', 'N-CCP3h', 'N-CCP4h', 'N-CCP5h', 'N-CCP6h', 'N-CP1', 'N-CP2', 'N-CP3', 'N-CP4', 'N-CP5', 'N-CP6', 'N-CPP1h', 'N-CPP2h', 'N-CPP3h', 'N-CPP4h', 'N-CPP5h', 'N-CPP6h', 'N-Cz', 'N-F1', 'N-F10', 'N-F2', 'N-F3', 'N-F4', 'N-F5', 'N-F6', 'N-F7', 'N-F8', 'N-F9', 'N-FC1', 'N-FC2', 'N-FC3', 'N-FC4', 'N-FC5', 'N-FC6', 'N-FCC1h', 'N-FCC2h', 'N-FCC3h', 'N-FCC4h', 'N-FCC5h', 'N-FCC6h', 'N-FCz', 'N-FFC1h', 'N-FFC2h', 'N-FFC3h', 'N-FFC4h', 'N-FFC5h', 'N-FFC6h', 'N-FFT10h', 'N-FFT7h', 'N-FFT8h', 'N-FFT9h', 'N-FP2', 'N-FT10', 'N-FT7', 'N-FT8', 'N-FT9', 'N-FTT10h', 'N-FTT7h', 'N-FTT8h', 'N-FTT9h', 'N-Fp1', 'N-Fz', 'N-Iz', 'N-O1', 'N-O2', 'N-OI1h', 'N-OI2h', 'N-Oz', 'N-P1', 'N-P2', 'N-P3', 'N-P4', 'N-P5', 'N-P6', 'N-P7', 'N-P8', 'N-PO3', 'N-PO4', 'N-PO7', 'N-PO8', 'N-POO1', 'N-POO10h', 'N-POO2', 'N-POO9h', 'N-POz', 'N-PPO10h', 'N-PPO1h', 'N-PPO2h', 'N-PPO5h', 'N-PPO6h', 'N-PPO9h', 'N-Pz', 'N-T7', 'N-T8', 'N-TP7', 'N-TP8', 'N-TPP10h', 'N-TPP7h', 'N-TPP8h', 'N-TPP9h', 'N-TTP7h', 'N-TTP8h']\n",
      "  raw_eeg = mne.io.read_raw_eeglab(eeg_dirname + f'sub-{SUB_ID}_task-TableTennis_eeg.set', preload=True)\n",
      "/tmp/ipykernel_1842469/3295343524.py:52: RuntimeWarning: Estimated head radius (10.9 cm) is above the 99th percentile for adult head size. Check if the montage_units argument is correct (the default is \"mm\", but your channel positions may be in different units).\n",
      "  raw_eeg = mne.io.read_raw_eeglab(eeg_dirname + f'sub-{SUB_ID}_task-TableTennis_eeg.set', preload=True)\n",
      "/tmp/ipykernel_1842469/3295343524.py:52: RuntimeWarning: Data file name in EEG.data (sub-08_task-tabletennis_eeg.fdt) is incorrect, the file name must have changed on disk, using the correct file name (sub-08_task-TableTennis_eeg.fdt).\n",
      "  raw_eeg = mne.io.read_raw_eeglab(eeg_dirname + f'sub-{SUB_ID}_task-TableTennis_eeg.set', preload=True)\n",
      "/tmp/ipykernel_1842469/3295343524.py:52: RuntimeWarning: Omitted 1 annotation(s) that were outside data range.\n",
      "  raw_eeg = mne.io.read_raw_eeglab(eeg_dirname + f'sub-{SUB_ID}_task-TableTennis_eeg.set', preload=True)\n",
      "/tmp/ipykernel_1842469/3295343524.py:52: RuntimeWarning: The data contains 'boundary' events, indicating data discontinuities. Be cautious of filtering and epoching around these events.\n",
      "  raw_eeg = mne.io.read_raw_eeglab(eeg_dirname + f'sub-{SUB_ID}_task-TableTennis_eeg.set', preload=True)\n",
      "/tmp/ipykernel_1842469/3295343524.py:52: RuntimeWarning: Not setting positions of 8 emg channels found in montage:\n",
      "['LISCM', 'LSSCM', 'LSTrap', 'LITrap', 'RITrap', 'RISCM', 'RSSCM', 'RSTrap']\n",
      "Consider setting the channel types to be of EEG/sEEG/ECoG/DBS/fNIRS using inst.set_channel_types before calling inst.set_montage, or omit these channels when creating your montage.\n",
      "  raw_eeg = mne.io.read_raw_eeglab(eeg_dirname + f'sub-{SUB_ID}_task-TableTennis_eeg.set', preload=True)\n",
      "/tmp/ipykernel_1842469/3295343524.py:70: RuntimeWarning: The unit for channel(s) BallMachine_Acc_X(g), BallMachine_Acc_Y(g), BallMachine_Acc_Z(g), CGY-x, CGY-y, CGY-z, CWR-x, CWR-y, CWR-z, Imu_2 :W():, Imu_2 :X():, Imu_2 :Y():, Imu_2 :Z():, Imu_2_ImuGyro :X(D/s):, Imu_2_ImuGyro :Y(D/s):, Imu_2_ImuGyro :Z(D/s):, Imu_2_ImuMag :X(uT):, Imu_2_ImuMag :Y(uT):, Imu_2_ImuMag :Z(uT):, Imu_4 :W():, Imu_4 :X():, Imu_4 :Y():, Imu_4 :Z():, Imu_4_ImuGyro :X(D/s):, Imu_4_ImuGyro :Y(D/s):, Imu_4_ImuGyro :Z(D/s):, Imu_4_ImuMag :X(uT):, Imu_4_ImuMag :Y(uT):, Imu_4_ImuMag :Z(uT):, N-AF3, N-AF4, N-AF7, N-AF8, N-AFF1h, N-AFF2h, N-AFF5h, N-AFF6h, N-AFp1, N-AFp2, N-AFz, N-C1, N-C2, N-C3, N-C4, N-C5, N-C6, N-CCP1h, N-CCP2h, N-CCP3h, N-CCP4h, N-CCP5h, N-CCP6h, N-CP1, N-CP2, N-CP3, N-CP4, N-CP5, N-CP6, N-CPP1h, N-CPP2h, N-CPP3h, N-CPP4h, N-CPP5h, N-CPP6h, N-Cz, N-F1, N-F10, N-F2, N-F3, N-F4, N-F5, N-F6, N-F7, N-F8, N-F9, N-FC1, N-FC2, N-FC3, N-FC4, N-FC5, N-FC6, N-FCC1h, N-FCC2h, N-FCC3h, N-FCC4h, N-FCC5h, N-FCC6h, N-FCz, N-FFC1h, N-FFC2h, N-FFC3h, N-FFC4h, N-FFC5h, N-FFC6h, N-FFT10h, N-FFT7h, N-FFT8h, N-FFT9h, N-FP2, N-FT10, N-FT7, N-FT8, N-FT9, N-FTT10h, N-FTT7h, N-FTT8h, N-FTT9h, N-Fp1, N-Fz, N-Iz, N-O1, N-O2, N-OI1h, N-OI2h, N-Oz, N-P1, N-P2, N-P3, N-P4, N-P5, N-P6, N-P7, N-P8, N-PO3, N-PO4, N-PO7, N-PO8, N-POO1, N-POO10h, N-POO2, N-POO9h, N-POz, N-PPO10h, N-PPO1h, N-PPO2h, N-PPO5h, N-PPO6h, N-PPO9h, N-Pz, N-T7, N-T8, N-TP7, N-TP8, N-TPP10h, N-TPP7h, N-TPP8h, N-TPP9h, N-TTP7h, N-TTP8h, NGY-x, NGY-y, NGY-z, NWR-x, NWR-y, NWR-z, Net_Acc_X(g), Net_Acc_Y(g), Net_Acc_Z(g), Participant_Paddle_Acc_X(g), Participant_Paddle_Acc_Y(g), Participant_Paddle_Acc_Z(g), Researcher_Paddle_Acc_X(g), Researcher_Paddle_Acc_Y(g), Researcher_Paddle_Acc_Z(g), SyncPulse(uV), Table_OtherSide_Acc_X(g), Table_OtherSide_Acc_Y(g), Table_OtherSide_Acc_Z(g), Table_ParticipantSide_Acc_X(g), Table_ParticipantSide_Acc_Y(g), Table_ParticipantSide_Acc_Z(g) has changed from V to NA.\n",
      "  raw_eeg.set_channel_types(channel_types)\n"
     ]
    },
    {
     "name": "stdout",
     "output_type": "stream",
     "text": [
      "NOTE: pick_channels() is a legacy function. New code should use inst.pick(...).\n",
      "Reading /data/vladimiroved/realWorldTableTennis/sub-09/eeg/sub-09_task-TableTennis_eeg.fdt\n",
      "Reading 0 ... 1146678  =      0.000 ...  4586.712 secs...\n"
     ]
    },
    {
     "name": "stderr",
     "output_type": "stream",
     "text": [
      "/tmp/ipykernel_1842469/3295343524.py:52: RuntimeWarning: Unknown types found, setting as type EEG:\n",
      "acc: ['CGY-x', 'CGY-y', 'CGY-z', 'CWR-x', 'CWR-y', 'CWR-z', 'NGY-x', 'NGY-y', 'NGY-z', 'NWR-x', 'NWR-y', 'NWR-z']\n",
      "cometas: ['BallMachine_Acc_X(g)', 'BallMachine_Acc_Y(g)', 'BallMachine_Acc_Z(g)', 'Imu_1 :W():', 'Imu_1 :X():', 'Imu_1 :Y():', 'Imu_1 :Z():', 'Imu_1_ImuGyro :X(D/s):', 'Imu_1_ImuGyro :Y(D/s):', 'Imu_1_ImuGyro :Z(D/s):', 'Imu_1_ImuMag :X(uT):', 'Imu_1_ImuMag :Y(uT):', 'Imu_1_ImuMag :Z(uT):', 'Imu_2 :W():', 'Imu_2 :X():', 'Imu_2 :Y():', 'Imu_2 :Z():', 'Imu_2_ImuGyro :X(D/s):', 'Imu_2_ImuGyro :Y(D/s):', 'Imu_2_ImuGyro :Z(D/s):', 'Imu_2_ImuMag :X(uT):', 'Imu_2_ImuMag :Y(uT):', 'Imu_2_ImuMag :Z(uT):', 'Imu_4 :W():', 'Imu_4 :X():', 'Imu_4 :Y():', 'Imu_4 :Z():', 'Imu_4_ImuGyro :X(D/s):', 'Imu_4_ImuGyro :Y(D/s):', 'Imu_4_ImuGyro :Z(D/s):', 'Imu_4_ImuMag :X(uT):', 'Imu_4_ImuMag :Y(uT):', 'Imu_4_ImuMag :Z(uT):', 'Net_Acc_X(g)', 'Net_Acc_Y(g)', 'Net_Acc_Z(g)', 'Participant_Backpack_Acc_X(g)', 'Participant_Backpack_Acc_Y(g)', 'Participant_Backpack_Acc_Z(g)', 'Participant_Paddle_Acc_X(g)', 'Participant_Paddle_Acc_Y(g)', 'Participant_Paddle_Acc_Z(g)', 'Researcher_Paddle_Acc_X(g)', 'Researcher_Paddle_Acc_Y(g)', 'Researcher_Paddle_Acc_Z(g)', 'SyncPulse(uV)', 'Table_OtherSide_Acc_X(g)', 'Table_OtherSide_Acc_Y(g)', 'Table_OtherSide_Acc_Z(g)', 'Table_ParticipantSide_Acc_X(g)', 'Table_ParticipantSide_Acc_Y(g)', 'Table_ParticipantSide_Acc_Z(g)']\n",
      "noise: ['N-AF3', 'N-AF4', 'N-AF7', 'N-AF8', 'N-AFF1h', 'N-AFF2h', 'N-AFF5h', 'N-AFF6h', 'N-AFp1', 'N-AFp2', 'N-AFz', 'N-C1', 'N-C2', 'N-C3', 'N-C4', 'N-C5', 'N-C6', 'N-CCP1h', 'N-CCP2h', 'N-CCP3h', 'N-CCP4h', 'N-CCP5h', 'N-CCP6h', 'N-CP1', 'N-CP2', 'N-CP3', 'N-CP4', 'N-CP5', 'N-CP6', 'N-CPP1h', 'N-CPP2h', 'N-CPP3h', 'N-CPP4h', 'N-CPP5h', 'N-CPP6h', 'N-Cz', 'N-F1', 'N-F10', 'N-F2', 'N-F3', 'N-F4', 'N-F5', 'N-F6', 'N-F7', 'N-F8', 'N-F9', 'N-FC1', 'N-FC2', 'N-FC3', 'N-FC4', 'N-FC5', 'N-FC6', 'N-FCC1h', 'N-FCC2h', 'N-FCC3h', 'N-FCC4h', 'N-FCC5h', 'N-FCC6h', 'N-FCz', 'N-FFC1h', 'N-FFC2h', 'N-FFC3h', 'N-FFC4h', 'N-FFC5h', 'N-FFC6h', 'N-FFT10h', 'N-FFT7h', 'N-FFT8h', 'N-FFT9h', 'N-FP2', 'N-FT10', 'N-FT7', 'N-FT8', 'N-FT9', 'N-FTT10h', 'N-FTT7h', 'N-FTT8h', 'N-FTT9h', 'N-Fp1', 'N-Fz', 'N-Iz', 'N-O1', 'N-O2', 'N-OI1h', 'N-OI2h', 'N-Oz', 'N-P1', 'N-P2', 'N-P3', 'N-P4', 'N-P5', 'N-P6', 'N-P7', 'N-P8', 'N-PO3', 'N-PO4', 'N-PO7', 'N-PO8', 'N-POO1', 'N-POO10h', 'N-POO2', 'N-POO9h', 'N-POz', 'N-PPO10h', 'N-PPO1h', 'N-PPO2h', 'N-PPO5h', 'N-PPO6h', 'N-PPO9h', 'N-Pz', 'N-T7', 'N-T8', 'N-TP7', 'N-TP8', 'N-TPP10h', 'N-TPP7h', 'N-TPP8h', 'N-TPP9h', 'N-TTP7h', 'N-TTP8h']\n",
      "  raw_eeg = mne.io.read_raw_eeglab(eeg_dirname + f'sub-{SUB_ID}_task-TableTennis_eeg.set', preload=True)\n",
      "/tmp/ipykernel_1842469/3295343524.py:52: RuntimeWarning: Estimated head radius (11.7 cm) is above the 99th percentile for adult head size. Check if the montage_units argument is correct (the default is \"mm\", but your channel positions may be in different units).\n",
      "  raw_eeg = mne.io.read_raw_eeglab(eeg_dirname + f'sub-{SUB_ID}_task-TableTennis_eeg.set', preload=True)\n",
      "/tmp/ipykernel_1842469/3295343524.py:52: RuntimeWarning: Data file name in EEG.data (sub-09_task-tabletennis_eeg.fdt) is incorrect, the file name must have changed on disk, using the correct file name (sub-09_task-TableTennis_eeg.fdt).\n",
      "  raw_eeg = mne.io.read_raw_eeglab(eeg_dirname + f'sub-{SUB_ID}_task-TableTennis_eeg.set', preload=True)\n",
      "/tmp/ipykernel_1842469/3295343524.py:52: RuntimeWarning: Omitted 1 annotation(s) that were outside data range.\n",
      "  raw_eeg = mne.io.read_raw_eeglab(eeg_dirname + f'sub-{SUB_ID}_task-TableTennis_eeg.set', preload=True)\n",
      "/tmp/ipykernel_1842469/3295343524.py:52: RuntimeWarning: The data contains 'boundary' events, indicating data discontinuities. Be cautious of filtering and epoching around these events.\n",
      "  raw_eeg = mne.io.read_raw_eeglab(eeg_dirname + f'sub-{SUB_ID}_task-TableTennis_eeg.set', preload=True)\n",
      "/tmp/ipykernel_1842469/3295343524.py:52: RuntimeWarning: Not setting positions of 8 emg channels found in montage:\n",
      "['LISCM', 'LSSCM', 'LSTrap', 'LITrap', 'RITrap', 'RISCM', 'RSSCM', 'RSTrap']\n",
      "Consider setting the channel types to be of EEG/sEEG/ECoG/DBS/fNIRS using inst.set_channel_types before calling inst.set_montage, or omit these channels when creating your montage.\n",
      "  raw_eeg = mne.io.read_raw_eeglab(eeg_dirname + f'sub-{SUB_ID}_task-TableTennis_eeg.set', preload=True)\n",
      "/tmp/ipykernel_1842469/3295343524.py:70: RuntimeWarning: The unit for channel(s) BallMachine_Acc_X(g), BallMachine_Acc_Y(g), BallMachine_Acc_Z(g), CGY-x, CGY-y, CGY-z, CWR-x, CWR-y, CWR-z, Imu_1 :W():, Imu_1 :X():, Imu_1 :Y():, Imu_1 :Z():, Imu_1_ImuGyro :X(D/s):, Imu_1_ImuGyro :Y(D/s):, Imu_1_ImuGyro :Z(D/s):, Imu_1_ImuMag :X(uT):, Imu_1_ImuMag :Y(uT):, Imu_1_ImuMag :Z(uT):, Imu_2 :W():, Imu_2 :X():, Imu_2 :Y():, Imu_2 :Z():, Imu_2_ImuGyro :X(D/s):, Imu_2_ImuGyro :Y(D/s):, Imu_2_ImuGyro :Z(D/s):, Imu_2_ImuMag :X(uT):, Imu_2_ImuMag :Y(uT):, Imu_2_ImuMag :Z(uT):, Imu_4 :W():, Imu_4 :X():, Imu_4 :Y():, Imu_4 :Z():, Imu_4_ImuGyro :X(D/s):, Imu_4_ImuGyro :Y(D/s):, Imu_4_ImuGyro :Z(D/s):, Imu_4_ImuMag :X(uT):, Imu_4_ImuMag :Y(uT):, Imu_4_ImuMag :Z(uT):, N-AF3, N-AF4, N-AF7, N-AF8, N-AFF1h, N-AFF2h, N-AFF5h, N-AFF6h, N-AFp1, N-AFp2, N-AFz, N-C1, N-C2, N-C3, N-C4, N-C5, N-C6, N-CCP1h, N-CCP2h, N-CCP3h, N-CCP4h, N-CCP5h, N-CCP6h, N-CP1, N-CP2, N-CP3, N-CP4, N-CP5, N-CP6, N-CPP1h, N-CPP2h, N-CPP3h, N-CPP4h, N-CPP5h, N-CPP6h, N-Cz, N-F1, N-F10, N-F2, N-F3, N-F4, N-F5, N-F6, N-F7, N-F8, N-F9, N-FC1, N-FC2, N-FC3, N-FC4, N-FC5, N-FC6, N-FCC1h, N-FCC2h, N-FCC3h, N-FCC4h, N-FCC5h, N-FCC6h, N-FCz, N-FFC1h, N-FFC2h, N-FFC3h, N-FFC4h, N-FFC5h, N-FFC6h, N-FFT10h, N-FFT7h, N-FFT8h, N-FFT9h, N-FP2, N-FT10, N-FT7, N-FT8, N-FT9, N-FTT10h, N-FTT7h, N-FTT8h, N-FTT9h, N-Fp1, N-Fz, N-Iz, N-O1, N-O2, N-OI1h, N-OI2h, N-Oz, N-P1, N-P2, N-P3, N-P4, N-P5, N-P6, N-P7, N-P8, N-PO3, N-PO4, N-PO7, N-PO8, N-POO1, N-POO10h, N-POO2, N-POO9h, N-POz, N-PPO10h, N-PPO1h, N-PPO2h, N-PPO5h, N-PPO6h, N-PPO9h, N-Pz, N-T7, N-T8, N-TP7, N-TP8, N-TPP10h, N-TPP7h, N-TPP8h, N-TPP9h, N-TTP7h, N-TTP8h, NGY-x, NGY-y, NGY-z, NWR-x, NWR-y, NWR-z, Net_Acc_X(g), Net_Acc_Y(g), Net_Acc_Z(g), Participant_Backpack_Acc_X(g), Participant_Backpack_Acc_Y(g), Participant_Backpack_Acc_Z(g), Participant_Paddle_Acc_X(g), Participant_Paddle_Acc_Y(g), Participant_Paddle_Acc_Z(g), Researcher_Paddle_Acc_X(g), Researcher_Paddle_Acc_Y(g), Researcher_Paddle_Acc_Z(g), SyncPulse(uV), Table_OtherSide_Acc_X(g), Table_OtherSide_Acc_Y(g), Table_OtherSide_Acc_Z(g), Table_ParticipantSide_Acc_X(g), Table_ParticipantSide_Acc_Y(g), Table_ParticipantSide_Acc_Z(g) has changed from V to NA.\n",
      "  raw_eeg.set_channel_types(channel_types)\n"
     ]
    },
    {
     "name": "stdout",
     "output_type": "stream",
     "text": [
      "NOTE: pick_channels() is a legacy function. New code should use inst.pick(...).\n",
      "Reading /data/vladimiroved/realWorldTableTennis/sub-10/eeg/sub-10_task-TableTennis_eeg.fdt\n",
      "Reading 0 ... 1139465  =      0.000 ...  4557.860 secs...\n"
     ]
    },
    {
     "name": "stderr",
     "output_type": "stream",
     "text": [
      "/tmp/ipykernel_1842469/3295343524.py:52: RuntimeWarning: Unknown types found, setting as type EEG:\n",
      "acc: ['CGY-x', 'CGY-y', 'CGY-z', 'CWR-x', 'CWR-y', 'CWR-z', 'NGY-x', 'NGY-y', 'NGY-z', 'NWR-x', 'NWR-y', 'NWR-z']\n",
      "cometas: ['BallMachine_Acc_X(g)', 'BallMachine_Acc_Y(g)', 'BallMachine_Acc_Z(g)', 'Imu_1 :W():', 'Imu_1 :X():', 'Imu_1 :Y():', 'Imu_1 :Z():', 'Imu_1_ImuGyro :X(D/s):', 'Imu_1_ImuGyro :Y(D/s):', 'Imu_1_ImuGyro :Z(D/s):', 'Imu_1_ImuMag :X(uT):', 'Imu_1_ImuMag :Y(uT):', 'Imu_1_ImuMag :Z(uT):', 'Imu_2 :W():', 'Imu_2 :X():', 'Imu_2 :Y():', 'Imu_2 :Z():', 'Imu_2_ImuGyro :X(D/s):', 'Imu_2_ImuGyro :Y(D/s):', 'Imu_2_ImuGyro :Z(D/s):', 'Imu_2_ImuMag :X(uT):', 'Imu_2_ImuMag :Y(uT):', 'Imu_2_ImuMag :Z(uT):', 'Imu_4 :W():', 'Imu_4 :X():', 'Imu_4 :Y():', 'Imu_4 :Z():', 'Imu_4_ImuGyro :X(D/s):', 'Imu_4_ImuGyro :Y(D/s):', 'Imu_4_ImuGyro :Z(D/s):', 'Imu_4_ImuMag :X(uT):', 'Imu_4_ImuMag :Y(uT):', 'Imu_4_ImuMag :Z(uT):', 'Net_Acc_X(g)', 'Net_Acc_Y(g)', 'Net_Acc_Z(g)', 'Participant_Backpack_Acc_X(g)', 'Participant_Backpack_Acc_Y(g)', 'Participant_Backpack_Acc_Z(g)', 'Participant_Paddle_Acc_X(g)', 'Participant_Paddle_Acc_Y(g)', 'Participant_Paddle_Acc_Z(g)', 'Researcher_Paddle_Acc_X(g)', 'Researcher_Paddle_Acc_Y(g)', 'Researcher_Paddle_Acc_Z(g)', 'SyncPulse(uV)', 'Table_OtherSide_Acc_X(g)', 'Table_OtherSide_Acc_Y(g)', 'Table_OtherSide_Acc_Z(g)', 'Table_ParticipantSide_Acc_X(g)', 'Table_ParticipantSide_Acc_Y(g)', 'Table_ParticipantSide_Acc_Z(g)']\n",
      "noise: ['N-AF3', 'N-AF4', 'N-AF7', 'N-AF8', 'N-AFF1h', 'N-AFF2h', 'N-AFF5h', 'N-AFF6h', 'N-AFp1', 'N-AFp2', 'N-AFz', 'N-C1', 'N-C2', 'N-C3', 'N-C4', 'N-C5', 'N-C6', 'N-CCP1h', 'N-CCP2h', 'N-CCP3h', 'N-CCP4h', 'N-CCP5h', 'N-CCP6h', 'N-CP1', 'N-CP2', 'N-CP3', 'N-CP4', 'N-CP5', 'N-CP6', 'N-CPP1h', 'N-CPP2h', 'N-CPP3h', 'N-CPP4h', 'N-CPP5h', 'N-CPP6h', 'N-Cz', 'N-F1', 'N-F10', 'N-F2', 'N-F3', 'N-F4', 'N-F5', 'N-F6', 'N-F7', 'N-F8', 'N-F9', 'N-FC1', 'N-FC2', 'N-FC3', 'N-FC4', 'N-FC5', 'N-FC6', 'N-FCC1h', 'N-FCC2h', 'N-FCC3h', 'N-FCC4h', 'N-FCC5h', 'N-FCC6h', 'N-FCz', 'N-FFC1h', 'N-FFC2h', 'N-FFC3h', 'N-FFC4h', 'N-FFC5h', 'N-FFC6h', 'N-FFT10h', 'N-FFT7h', 'N-FFT8h', 'N-FFT9h', 'N-FP2', 'N-FT10', 'N-FT7', 'N-FT8', 'N-FT9', 'N-FTT10h', 'N-FTT7h', 'N-FTT8h', 'N-FTT9h', 'N-Fp1', 'N-Fz', 'N-Iz', 'N-O1', 'N-O2', 'N-OI1h', 'N-OI2h', 'N-Oz', 'N-P1', 'N-P2', 'N-P3', 'N-P4', 'N-P5', 'N-P6', 'N-P7', 'N-P8', 'N-PO3', 'N-PO4', 'N-PO7', 'N-PO8', 'N-POO1', 'N-POO10h', 'N-POO2', 'N-POO9h', 'N-POz', 'N-PPO10h', 'N-PPO1h', 'N-PPO2h', 'N-PPO5h', 'N-PPO6h', 'N-PPO9h', 'N-Pz', 'N-T7', 'N-T8', 'N-TP7', 'N-TP8', 'N-TPP10h', 'N-TPP7h', 'N-TPP8h', 'N-TPP9h', 'N-TTP7h', 'N-TTP8h']\n",
      "  raw_eeg = mne.io.read_raw_eeglab(eeg_dirname + f'sub-{SUB_ID}_task-TableTennis_eeg.set', preload=True)\n",
      "/tmp/ipykernel_1842469/3295343524.py:52: RuntimeWarning: Data file name in EEG.data (sub-10_task-tabletennis_eeg.fdt) is incorrect, the file name must have changed on disk, using the correct file name (sub-10_task-TableTennis_eeg.fdt).\n",
      "  raw_eeg = mne.io.read_raw_eeglab(eeg_dirname + f'sub-{SUB_ID}_task-TableTennis_eeg.set', preload=True)\n",
      "/tmp/ipykernel_1842469/3295343524.py:52: RuntimeWarning: Omitted 1 annotation(s) that were outside data range.\n",
      "  raw_eeg = mne.io.read_raw_eeglab(eeg_dirname + f'sub-{SUB_ID}_task-TableTennis_eeg.set', preload=True)\n",
      "/tmp/ipykernel_1842469/3295343524.py:52: RuntimeWarning: The data contains 'boundary' events, indicating data discontinuities. Be cautious of filtering and epoching around these events.\n",
      "  raw_eeg = mne.io.read_raw_eeglab(eeg_dirname + f'sub-{SUB_ID}_task-TableTennis_eeg.set', preload=True)\n",
      "/tmp/ipykernel_1842469/3295343524.py:52: RuntimeWarning: Not setting positions of 8 emg channels found in montage:\n",
      "['LISCM', 'LSSCM', 'LSTrap', 'LITrap', 'RITrap', 'RISCM', 'RSSCM', 'RSTrap']\n",
      "Consider setting the channel types to be of EEG/sEEG/ECoG/DBS/fNIRS using inst.set_channel_types before calling inst.set_montage, or omit these channels when creating your montage.\n",
      "  raw_eeg = mne.io.read_raw_eeglab(eeg_dirname + f'sub-{SUB_ID}_task-TableTennis_eeg.set', preload=True)\n",
      "/tmp/ipykernel_1842469/3295343524.py:70: RuntimeWarning: The unit for channel(s) BallMachine_Acc_X(g), BallMachine_Acc_Y(g), BallMachine_Acc_Z(g), CGY-x, CGY-y, CGY-z, CWR-x, CWR-y, CWR-z, Imu_1 :W():, Imu_1 :X():, Imu_1 :Y():, Imu_1 :Z():, Imu_1_ImuGyro :X(D/s):, Imu_1_ImuGyro :Y(D/s):, Imu_1_ImuGyro :Z(D/s):, Imu_1_ImuMag :X(uT):, Imu_1_ImuMag :Y(uT):, Imu_1_ImuMag :Z(uT):, Imu_2 :W():, Imu_2 :X():, Imu_2 :Y():, Imu_2 :Z():, Imu_2_ImuGyro :X(D/s):, Imu_2_ImuGyro :Y(D/s):, Imu_2_ImuGyro :Z(D/s):, Imu_2_ImuMag :X(uT):, Imu_2_ImuMag :Y(uT):, Imu_2_ImuMag :Z(uT):, Imu_4 :W():, Imu_4 :X():, Imu_4 :Y():, Imu_4 :Z():, Imu_4_ImuGyro :X(D/s):, Imu_4_ImuGyro :Y(D/s):, Imu_4_ImuGyro :Z(D/s):, Imu_4_ImuMag :X(uT):, Imu_4_ImuMag :Y(uT):, Imu_4_ImuMag :Z(uT):, N-AF3, N-AF4, N-AF7, N-AF8, N-AFF1h, N-AFF2h, N-AFF5h, N-AFF6h, N-AFp1, N-AFp2, N-AFz, N-C1, N-C2, N-C3, N-C4, N-C5, N-C6, N-CCP1h, N-CCP2h, N-CCP3h, N-CCP4h, N-CCP5h, N-CCP6h, N-CP1, N-CP2, N-CP3, N-CP4, N-CP5, N-CP6, N-CPP1h, N-CPP2h, N-CPP3h, N-CPP4h, N-CPP5h, N-CPP6h, N-Cz, N-F1, N-F10, N-F2, N-F3, N-F4, N-F5, N-F6, N-F7, N-F8, N-F9, N-FC1, N-FC2, N-FC3, N-FC4, N-FC5, N-FC6, N-FCC1h, N-FCC2h, N-FCC3h, N-FCC4h, N-FCC5h, N-FCC6h, N-FCz, N-FFC1h, N-FFC2h, N-FFC3h, N-FFC4h, N-FFC5h, N-FFC6h, N-FFT10h, N-FFT7h, N-FFT8h, N-FFT9h, N-FP2, N-FT10, N-FT7, N-FT8, N-FT9, N-FTT10h, N-FTT7h, N-FTT8h, N-FTT9h, N-Fp1, N-Fz, N-Iz, N-O1, N-O2, N-OI1h, N-OI2h, N-Oz, N-P1, N-P2, N-P3, N-P4, N-P5, N-P6, N-P7, N-P8, N-PO3, N-PO4, N-PO7, N-PO8, N-POO1, N-POO10h, N-POO2, N-POO9h, N-POz, N-PPO10h, N-PPO1h, N-PPO2h, N-PPO5h, N-PPO6h, N-PPO9h, N-Pz, N-T7, N-T8, N-TP7, N-TP8, N-TPP10h, N-TPP7h, N-TPP8h, N-TPP9h, N-TTP7h, N-TTP8h, NGY-x, NGY-y, NGY-z, NWR-x, NWR-y, NWR-z, Net_Acc_X(g), Net_Acc_Y(g), Net_Acc_Z(g), Participant_Backpack_Acc_X(g), Participant_Backpack_Acc_Y(g), Participant_Backpack_Acc_Z(g), Participant_Paddle_Acc_X(g), Participant_Paddle_Acc_Y(g), Participant_Paddle_Acc_Z(g), Researcher_Paddle_Acc_X(g), Researcher_Paddle_Acc_Y(g), Researcher_Paddle_Acc_Z(g), SyncPulse(uV), Table_OtherSide_Acc_X(g), Table_OtherSide_Acc_Y(g), Table_OtherSide_Acc_Z(g), Table_ParticipantSide_Acc_X(g), Table_ParticipantSide_Acc_Y(g), Table_ParticipantSide_Acc_Z(g) has changed from V to NA.\n",
      "  raw_eeg.set_channel_types(channel_types)\n"
     ]
    },
    {
     "name": "stdout",
     "output_type": "stream",
     "text": [
      "NOTE: pick_channels() is a legacy function. New code should use inst.pick(...).\n",
      "Reading /data/vladimiroved/realWorldTableTennis/sub-11/eeg/sub-11_task-TableTennis_eeg.fdt\n",
      "Reading 0 ... 1104856  =      0.000 ...  4419.424 secs...\n"
     ]
    },
    {
     "name": "stderr",
     "output_type": "stream",
     "text": [
      "/tmp/ipykernel_1842469/3295343524.py:52: RuntimeWarning: Unknown types found, setting as type EEG:\n",
      "acc: ['CGY-x', 'CGY-y', 'CGY-z', 'CWR-x', 'CWR-y', 'CWR-z', 'NGY-x', 'NGY-y', 'NGY-z', 'NWR-x', 'NWR-y', 'NWR-z']\n",
      "cometas: ['BallMachine_Acc_X(g)', 'BallMachine_Acc_Y(g)', 'BallMachine_Acc_Z(g)', 'IMU1_RMS', 'Imu_1 :W():', 'Imu_1 :X():', 'Imu_1 :Y():', 'Imu_1 :Z():', 'Imu_1_ImuGyro :X(D/s):', 'Imu_1_ImuGyro :Y(D/s):', 'Imu_1_ImuGyro :Z(D/s):', 'Imu_1_ImuMag :X(uT):', 'Imu_1_ImuMag :Y(uT):', 'Imu_1_ImuMag :Z(uT):', 'Imu_2 :W():', 'Imu_2 :X():', 'Imu_2 :Y():', 'Imu_2 :Z():', 'Imu_2_ImuGyro :X(D/s):', 'Imu_2_ImuGyro :Y(D/s):', 'Imu_2_ImuGyro :Z(D/s):', 'Imu_2_ImuMag :X(uT):', 'Imu_2_ImuMag :Y(uT):', 'Imu_2_ImuMag :Z(uT):', 'Imu_4 :W():', 'Imu_4 :X():', 'Imu_4 :Y():', 'Imu_4 :Z():', 'Imu_4_ImuGyro :X(D/s):', 'Imu_4_ImuGyro :Y(D/s):', 'Imu_4_ImuGyro :Z(D/s):', 'Imu_4_ImuMag :X(uT):', 'Imu_4_ImuMag :Y(uT):', 'Imu_4_ImuMag :Z(uT):', 'Net_Acc_X(g)', 'Net_Acc_Y(g)', 'Net_Acc_Z(g)', 'Participant_Backpack_Acc_X(g)', 'Participant_Backpack_Acc_Y(g)', 'Participant_Backpack_Acc_Z(g)', 'Participant_Paddle_Acc_X(g)', 'Participant_Paddle_Acc_Y(g)', 'Participant_Paddle_Acc_Z(g)', 'Researcher_Paddle_Acc_X(g)', 'Researcher_Paddle_Acc_Y(g)', 'Researcher_Paddle_Acc_Z(g)', 'SyncPulse(uV)', 'Table_OtherSide_Acc_X(g)', 'Table_OtherSide_Acc_Y(g)', 'Table_OtherSide_Acc_Z(g)', 'Table_ParticipantSide_Acc_X(g)', 'Table_ParticipantSide_Acc_Y(g)', 'Table_ParticipantSide_Acc_Z(g)']\n",
      "noise: ['N-AF3', 'N-AF4', 'N-AF7', 'N-AF8', 'N-AFF1h', 'N-AFF2h', 'N-AFF5h', 'N-AFF6h', 'N-AFp1', 'N-AFp2', 'N-AFz', 'N-C1', 'N-C2', 'N-C3', 'N-C4', 'N-C5', 'N-C6', 'N-CCP1h', 'N-CCP2h', 'N-CCP3h', 'N-CCP4h', 'N-CCP5h', 'N-CCP6h', 'N-CP1', 'N-CP2', 'N-CP3', 'N-CP4', 'N-CP5', 'N-CP6', 'N-CPP1h', 'N-CPP2h', 'N-CPP3h', 'N-CPP4h', 'N-CPP5h', 'N-CPP6h', 'N-Cz', 'N-F1', 'N-F10', 'N-F2', 'N-F3', 'N-F4', 'N-F5', 'N-F6', 'N-F7', 'N-F8', 'N-F9', 'N-FC1', 'N-FC2', 'N-FC3', 'N-FC4', 'N-FC5', 'N-FC6', 'N-FCC1h', 'N-FCC2h', 'N-FCC3h', 'N-FCC4h', 'N-FCC5h', 'N-FCC6h', 'N-FCz', 'N-FFC1h', 'N-FFC2h', 'N-FFC3h', 'N-FFC4h', 'N-FFC5h', 'N-FFC6h', 'N-FFT10h', 'N-FFT7h', 'N-FFT8h', 'N-FFT9h', 'N-FP2', 'N-FT10', 'N-FT7', 'N-FT8', 'N-FT9', 'N-FTT10h', 'N-FTT7h', 'N-FTT8h', 'N-FTT9h', 'N-Fp1', 'N-Fz', 'N-Iz', 'N-O1', 'N-O2', 'N-OI1h', 'N-OI2h', 'N-Oz', 'N-P1', 'N-P2', 'N-P3', 'N-P4', 'N-P5', 'N-P6', 'N-P7', 'N-P8', 'N-PO3', 'N-PO4', 'N-PO7', 'N-PO8', 'N-POO1', 'N-POO10h', 'N-POO2', 'N-POO9h', 'N-POz', 'N-PPO10h', 'N-PPO1h', 'N-PPO2h', 'N-PPO5h', 'N-PPO6h', 'N-PPO9h', 'N-Pz', 'N-T7', 'N-T8', 'N-TP7', 'N-TP8', 'N-TPP10h', 'N-TPP7h', 'N-TPP8h', 'N-TPP9h', 'N-TTP7h', 'N-TTP8h']\n",
      "  raw_eeg = mne.io.read_raw_eeglab(eeg_dirname + f'sub-{SUB_ID}_task-TableTennis_eeg.set', preload=True)\n",
      "/tmp/ipykernel_1842469/3295343524.py:52: RuntimeWarning: Estimated head radius (12.1 cm) is above the 99th percentile for adult head size. Check if the montage_units argument is correct (the default is \"mm\", but your channel positions may be in different units).\n",
      "  raw_eeg = mne.io.read_raw_eeglab(eeg_dirname + f'sub-{SUB_ID}_task-TableTennis_eeg.set', preload=True)\n",
      "/tmp/ipykernel_1842469/3295343524.py:52: RuntimeWarning: Data file name in EEG.data (sub-11_task-tabletennis_eeg.fdt) is incorrect, the file name must have changed on disk, using the correct file name (sub-11_task-TableTennis_eeg.fdt).\n",
      "  raw_eeg = mne.io.read_raw_eeglab(eeg_dirname + f'sub-{SUB_ID}_task-TableTennis_eeg.set', preload=True)\n",
      "/tmp/ipykernel_1842469/3295343524.py:52: RuntimeWarning: Omitted 1 annotation(s) that were outside data range.\n",
      "  raw_eeg = mne.io.read_raw_eeglab(eeg_dirname + f'sub-{SUB_ID}_task-TableTennis_eeg.set', preload=True)\n",
      "/tmp/ipykernel_1842469/3295343524.py:52: RuntimeWarning: The data contains 'boundary' events, indicating data discontinuities. Be cautious of filtering and epoching around these events.\n",
      "  raw_eeg = mne.io.read_raw_eeglab(eeg_dirname + f'sub-{SUB_ID}_task-TableTennis_eeg.set', preload=True)\n",
      "/tmp/ipykernel_1842469/3295343524.py:52: RuntimeWarning: Not setting positions of 8 emg channels found in montage:\n",
      "['LISCM', 'LSSCM', 'LSTrap', 'LITrap', 'RITrap', 'RISCM', 'RSSCM', 'RSTrap']\n",
      "Consider setting the channel types to be of EEG/sEEG/ECoG/DBS/fNIRS using inst.set_channel_types before calling inst.set_montage, or omit these channels when creating your montage.\n",
      "  raw_eeg = mne.io.read_raw_eeglab(eeg_dirname + f'sub-{SUB_ID}_task-TableTennis_eeg.set', preload=True)\n",
      "/tmp/ipykernel_1842469/3295343524.py:70: RuntimeWarning: The unit for channel(s) BallMachine_Acc_X(g), BallMachine_Acc_Y(g), BallMachine_Acc_Z(g), CGY-x, CGY-y, CGY-z, CWR-x, CWR-y, CWR-z, IMU1_RMS, Imu_1 :W():, Imu_1 :X():, Imu_1 :Y():, Imu_1 :Z():, Imu_1_ImuGyro :X(D/s):, Imu_1_ImuGyro :Y(D/s):, Imu_1_ImuGyro :Z(D/s):, Imu_1_ImuMag :X(uT):, Imu_1_ImuMag :Y(uT):, Imu_1_ImuMag :Z(uT):, Imu_2 :W():, Imu_2 :X():, Imu_2 :Y():, Imu_2 :Z():, Imu_2_ImuGyro :X(D/s):, Imu_2_ImuGyro :Y(D/s):, Imu_2_ImuGyro :Z(D/s):, Imu_2_ImuMag :X(uT):, Imu_2_ImuMag :Y(uT):, Imu_2_ImuMag :Z(uT):, Imu_4 :W():, Imu_4 :X():, Imu_4 :Y():, Imu_4 :Z():, Imu_4_ImuGyro :X(D/s):, Imu_4_ImuGyro :Y(D/s):, Imu_4_ImuGyro :Z(D/s):, Imu_4_ImuMag :X(uT):, Imu_4_ImuMag :Y(uT):, Imu_4_ImuMag :Z(uT):, N-AF3, N-AF4, N-AF7, N-AF8, N-AFF1h, N-AFF2h, N-AFF5h, N-AFF6h, N-AFp1, N-AFp2, N-AFz, N-C1, N-C2, N-C3, N-C4, N-C5, N-C6, N-CCP1h, N-CCP2h, N-CCP3h, N-CCP4h, N-CCP5h, N-CCP6h, N-CP1, N-CP2, N-CP3, N-CP4, N-CP5, N-CP6, N-CPP1h, N-CPP2h, N-CPP3h, N-CPP4h, N-CPP5h, N-CPP6h, N-Cz, N-F1, N-F10, N-F2, N-F3, N-F4, N-F5, N-F6, N-F7, N-F8, N-F9, N-FC1, N-FC2, N-FC3, N-FC4, N-FC5, N-FC6, N-FCC1h, N-FCC2h, N-FCC3h, N-FCC4h, N-FCC5h, N-FCC6h, N-FCz, N-FFC1h, N-FFC2h, N-FFC3h, N-FFC4h, N-FFC5h, N-FFC6h, N-FFT10h, N-FFT7h, N-FFT8h, N-FFT9h, N-FP2, N-FT10, N-FT7, N-FT8, N-FT9, N-FTT10h, N-FTT7h, N-FTT8h, N-FTT9h, N-Fp1, N-Fz, N-Iz, N-O1, N-O2, N-OI1h, N-OI2h, N-Oz, N-P1, N-P2, N-P3, N-P4, N-P5, N-P6, N-P7, N-P8, N-PO3, N-PO4, N-PO7, N-PO8, N-POO1, N-POO10h, N-POO2, N-POO9h, N-POz, N-PPO10h, N-PPO1h, N-PPO2h, N-PPO5h, N-PPO6h, N-PPO9h, N-Pz, N-T7, N-T8, N-TP7, N-TP8, N-TPP10h, N-TPP7h, N-TPP8h, N-TPP9h, N-TTP7h, N-TTP8h, NGY-x, NGY-y, NGY-z, NWR-x, NWR-y, NWR-z, Net_Acc_X(g), Net_Acc_Y(g), Net_Acc_Z(g), Participant_Backpack_Acc_X(g), Participant_Backpack_Acc_Y(g), Participant_Backpack_Acc_Z(g), Participant_Paddle_Acc_X(g), Participant_Paddle_Acc_Y(g), Participant_Paddle_Acc_Z(g), Researcher_Paddle_Acc_X(g), Researcher_Paddle_Acc_Y(g), Researcher_Paddle_Acc_Z(g), SyncPulse(uV), Table_OtherSide_Acc_X(g), Table_OtherSide_Acc_Y(g), Table_OtherSide_Acc_Z(g), Table_ParticipantSide_Acc_X(g), Table_ParticipantSide_Acc_Y(g), Table_ParticipantSide_Acc_Z(g) has changed from V to NA.\n",
      "  raw_eeg.set_channel_types(channel_types)\n"
     ]
    },
    {
     "name": "stdout",
     "output_type": "stream",
     "text": [
      "NOTE: pick_channels() is a legacy function. New code should use inst.pick(...).\n",
      "Reading /data/vladimiroved/realWorldTableTennis/sub-12/eeg/sub-12_task-TableTennis_eeg.fdt\n",
      "Reading 0 ... 1111931  =      0.000 ...  4447.724 secs...\n"
     ]
    },
    {
     "name": "stderr",
     "output_type": "stream",
     "text": [
      "/tmp/ipykernel_1842469/3295343524.py:52: RuntimeWarning: Unknown types found, setting as type EEG:\n",
      "acc: ['CGY-x', 'CGY-y', 'CGY-z', 'CWR-x', 'CWR-y', 'CWR-z', 'NGY-x', 'NGY-y', 'NGY-z', 'NWR-x', 'NWR-y', 'NWR-z']\n",
      "cometas: ['BallMachine_Acc_X(g)', 'BallMachine_Acc_Y(g)', 'BallMachine_Acc_Z(g)', 'IMU1_RMS', 'Imu_1 :W():', 'Imu_1 :X():', 'Imu_1 :Y():', 'Imu_1 :Z():', 'Imu_1_ImuGyro :X(D/s):', 'Imu_1_ImuGyro :Y(D/s):', 'Imu_1_ImuGyro :Z(D/s):', 'Imu_1_ImuMag :X(uT):', 'Imu_1_ImuMag :Y(uT):', 'Imu_1_ImuMag :Z(uT):', 'Imu_2 :W():', 'Imu_2 :X():', 'Imu_2 :Y():', 'Imu_2 :Z():', 'Imu_2_ImuGyro :X(D/s):', 'Imu_2_ImuGyro :Y(D/s):', 'Imu_2_ImuGyro :Z(D/s):', 'Imu_2_ImuMag :X(uT):', 'Imu_2_ImuMag :Y(uT):', 'Imu_2_ImuMag :Z(uT):', 'Imu_4 :W():', 'Imu_4 :X():', 'Imu_4 :Y():', 'Imu_4 :Z():', 'Imu_4_ImuGyro :X(D/s):', 'Imu_4_ImuGyro :Y(D/s):', 'Imu_4_ImuGyro :Z(D/s):', 'Imu_4_ImuMag :X(uT):', 'Imu_4_ImuMag :Y(uT):', 'Imu_4_ImuMag :Z(uT):', 'Net_Acc_X(g)', 'Net_Acc_Y(g)', 'Net_Acc_Z(g)', 'Participant_Backpack_Acc_X(g)', 'Participant_Backpack_Acc_Y(g)', 'Participant_Backpack_Acc_Z(g)', 'Participant_Paddle_Acc_X(g)', 'Participant_Paddle_Acc_Y(g)', 'Participant_Paddle_Acc_Z(g)', 'Researcher_Paddle_Acc_X(g)', 'Researcher_Paddle_Acc_Y(g)', 'Researcher_Paddle_Acc_Z(g)', 'SyncPulse(uV)', 'Table_OtherSide_Acc_X(g)', 'Table_OtherSide_Acc_Y(g)', 'Table_OtherSide_Acc_Z(g)', 'Table_ParticipantSide_Acc_X(g)', 'Table_ParticipantSide_Acc_Y(g)', 'Table_ParticipantSide_Acc_Z(g)']\n",
      "noise: ['N-AF3', 'N-AF4', 'N-AF7', 'N-AF8', 'N-AFF1h', 'N-AFF2h', 'N-AFF5h', 'N-AFF6h', 'N-AFp1', 'N-AFp2', 'N-AFz', 'N-C1', 'N-C2', 'N-C3', 'N-C4', 'N-C5', 'N-C6', 'N-CCP1h', 'N-CCP2h', 'N-CCP3h', 'N-CCP4h', 'N-CCP5h', 'N-CCP6h', 'N-CP1', 'N-CP2', 'N-CP3', 'N-CP4', 'N-CP5', 'N-CP6', 'N-CPP1h', 'N-CPP2h', 'N-CPP3h', 'N-CPP4h', 'N-CPP5h', 'N-CPP6h', 'N-Cz', 'N-F1', 'N-F10', 'N-F2', 'N-F3', 'N-F4', 'N-F5', 'N-F6', 'N-F7', 'N-F8', 'N-F9', 'N-FC1', 'N-FC2', 'N-FC3', 'N-FC4', 'N-FC5', 'N-FC6', 'N-FCC1h', 'N-FCC2h', 'N-FCC3h', 'N-FCC4h', 'N-FCC5h', 'N-FCC6h', 'N-FCz', 'N-FFC1h', 'N-FFC2h', 'N-FFC3h', 'N-FFC4h', 'N-FFC5h', 'N-FFC6h', 'N-FFT10h', 'N-FFT7h', 'N-FFT8h', 'N-FFT9h', 'N-FP2', 'N-FT10', 'N-FT7', 'N-FT8', 'N-FT9', 'N-FTT10h', 'N-FTT7h', 'N-FTT8h', 'N-FTT9h', 'N-Fp1', 'N-Fz', 'N-Iz', 'N-O1', 'N-O2', 'N-OI1h', 'N-OI2h', 'N-Oz', 'N-P1', 'N-P2', 'N-P3', 'N-P4', 'N-P5', 'N-P6', 'N-P7', 'N-P8', 'N-PO3', 'N-PO4', 'N-PO7', 'N-PO8', 'N-POO1', 'N-POO10h', 'N-POO2', 'N-POO9h', 'N-POz', 'N-PPO10h', 'N-PPO1h', 'N-PPO2h', 'N-PPO5h', 'N-PPO6h', 'N-PPO9h', 'N-Pz', 'N-T7', 'N-T8', 'N-TP7', 'N-TP8', 'N-TPP10h', 'N-TPP7h', 'N-TPP8h', 'N-TPP9h', 'N-TTP7h', 'N-TTP8h']\n",
      "  raw_eeg = mne.io.read_raw_eeglab(eeg_dirname + f'sub-{SUB_ID}_task-TableTennis_eeg.set', preload=True)\n",
      "/tmp/ipykernel_1842469/3295343524.py:52: RuntimeWarning: Data file name in EEG.data (sub-12_task-tabletennis_eeg.fdt) is incorrect, the file name must have changed on disk, using the correct file name (sub-12_task-TableTennis_eeg.fdt).\n",
      "  raw_eeg = mne.io.read_raw_eeglab(eeg_dirname + f'sub-{SUB_ID}_task-TableTennis_eeg.set', preload=True)\n",
      "/tmp/ipykernel_1842469/3295343524.py:52: RuntimeWarning: Omitted 1 annotation(s) that were outside data range.\n",
      "  raw_eeg = mne.io.read_raw_eeglab(eeg_dirname + f'sub-{SUB_ID}_task-TableTennis_eeg.set', preload=True)\n",
      "/tmp/ipykernel_1842469/3295343524.py:52: RuntimeWarning: The data contains 'boundary' events, indicating data discontinuities. Be cautious of filtering and epoching around these events.\n",
      "  raw_eeg = mne.io.read_raw_eeglab(eeg_dirname + f'sub-{SUB_ID}_task-TableTennis_eeg.set', preload=True)\n",
      "/tmp/ipykernel_1842469/3295343524.py:52: RuntimeWarning: Not setting positions of 8 emg channels found in montage:\n",
      "['LISCM', 'LSSCM', 'LSTrap', 'LITrap', 'RITrap', 'RISCM', 'RSSCM', 'RSTrap']\n",
      "Consider setting the channel types to be of EEG/sEEG/ECoG/DBS/fNIRS using inst.set_channel_types before calling inst.set_montage, or omit these channels when creating your montage.\n",
      "  raw_eeg = mne.io.read_raw_eeglab(eeg_dirname + f'sub-{SUB_ID}_task-TableTennis_eeg.set', preload=True)\n",
      "/tmp/ipykernel_1842469/3295343524.py:70: RuntimeWarning: The unit for channel(s) BallMachine_Acc_X(g), BallMachine_Acc_Y(g), BallMachine_Acc_Z(g), CGY-x, CGY-y, CGY-z, CWR-x, CWR-y, CWR-z, IMU1_RMS, Imu_1 :W():, Imu_1 :X():, Imu_1 :Y():, Imu_1 :Z():, Imu_1_ImuGyro :X(D/s):, Imu_1_ImuGyro :Y(D/s):, Imu_1_ImuGyro :Z(D/s):, Imu_1_ImuMag :X(uT):, Imu_1_ImuMag :Y(uT):, Imu_1_ImuMag :Z(uT):, Imu_2 :W():, Imu_2 :X():, Imu_2 :Y():, Imu_2 :Z():, Imu_2_ImuGyro :X(D/s):, Imu_2_ImuGyro :Y(D/s):, Imu_2_ImuGyro :Z(D/s):, Imu_2_ImuMag :X(uT):, Imu_2_ImuMag :Y(uT):, Imu_2_ImuMag :Z(uT):, Imu_4 :W():, Imu_4 :X():, Imu_4 :Y():, Imu_4 :Z():, Imu_4_ImuGyro :X(D/s):, Imu_4_ImuGyro :Y(D/s):, Imu_4_ImuGyro :Z(D/s):, Imu_4_ImuMag :X(uT):, Imu_4_ImuMag :Y(uT):, Imu_4_ImuMag :Z(uT):, N-AF3, N-AF4, N-AF7, N-AF8, N-AFF1h, N-AFF2h, N-AFF5h, N-AFF6h, N-AFp1, N-AFp2, N-AFz, N-C1, N-C2, N-C3, N-C4, N-C5, N-C6, N-CCP1h, N-CCP2h, N-CCP3h, N-CCP4h, N-CCP5h, N-CCP6h, N-CP1, N-CP2, N-CP3, N-CP4, N-CP5, N-CP6, N-CPP1h, N-CPP2h, N-CPP3h, N-CPP4h, N-CPP5h, N-CPP6h, N-Cz, N-F1, N-F10, N-F2, N-F3, N-F4, N-F5, N-F6, N-F7, N-F8, N-F9, N-FC1, N-FC2, N-FC3, N-FC4, N-FC5, N-FC6, N-FCC1h, N-FCC2h, N-FCC3h, N-FCC4h, N-FCC5h, N-FCC6h, N-FCz, N-FFC1h, N-FFC2h, N-FFC3h, N-FFC4h, N-FFC5h, N-FFC6h, N-FFT10h, N-FFT7h, N-FFT8h, N-FFT9h, N-FP2, N-FT10, N-FT7, N-FT8, N-FT9, N-FTT10h, N-FTT7h, N-FTT8h, N-FTT9h, N-Fp1, N-Fz, N-Iz, N-O1, N-O2, N-OI1h, N-OI2h, N-Oz, N-P1, N-P2, N-P3, N-P4, N-P5, N-P6, N-P7, N-P8, N-PO3, N-PO4, N-PO7, N-PO8, N-POO1, N-POO10h, N-POO2, N-POO9h, N-POz, N-PPO10h, N-PPO1h, N-PPO2h, N-PPO5h, N-PPO6h, N-PPO9h, N-Pz, N-T7, N-T8, N-TP7, N-TP8, N-TPP10h, N-TPP7h, N-TPP8h, N-TPP9h, N-TTP7h, N-TTP8h, NGY-x, NGY-y, NGY-z, NWR-x, NWR-y, NWR-z, Net_Acc_X(g), Net_Acc_Y(g), Net_Acc_Z(g), Participant_Backpack_Acc_X(g), Participant_Backpack_Acc_Y(g), Participant_Backpack_Acc_Z(g), Participant_Paddle_Acc_X(g), Participant_Paddle_Acc_Y(g), Participant_Paddle_Acc_Z(g), Researcher_Paddle_Acc_X(g), Researcher_Paddle_Acc_Y(g), Researcher_Paddle_Acc_Z(g), SyncPulse(uV), Table_OtherSide_Acc_X(g), Table_OtherSide_Acc_Y(g), Table_OtherSide_Acc_Z(g), Table_ParticipantSide_Acc_X(g), Table_ParticipantSide_Acc_Y(g), Table_ParticipantSide_Acc_Z(g) has changed from V to NA.\n",
      "  raw_eeg.set_channel_types(channel_types)\n"
     ]
    },
    {
     "name": "stdout",
     "output_type": "stream",
     "text": [
      "NOTE: pick_channels() is a legacy function. New code should use inst.pick(...).\n",
      "Reading /data/vladimiroved/realWorldTableTennis/sub-13/eeg/sub-13_task-TableTennis_eeg.fdt\n",
      "Reading 0 ... 1120665  =      0.000 ...  4482.660 secs...\n"
     ]
    },
    {
     "name": "stderr",
     "output_type": "stream",
     "text": [
      "/tmp/ipykernel_1842469/3295343524.py:52: RuntimeWarning: Unknown types found, setting as type EEG:\n",
      "acc: ['CGY-x', 'CGY-y', 'CGY-z', 'CWR-x', 'CWR-y', 'CWR-z', 'NGY-x', 'NGY-y', 'NGY-z', 'NWR-x', 'NWR-y', 'NWR-z']\n",
      "cometas: ['BallMachine_Acc_X(g)', 'BallMachine_Acc_Y(g)', 'BallMachine_Acc_Z(g)', 'IMU1_RMS', 'Imu_1 :W():', 'Imu_1 :X():', 'Imu_1 :Y():', 'Imu_1 :Z():', 'Imu_1_ImuGyro :X(D/s):', 'Imu_1_ImuGyro :Y(D/s):', 'Imu_1_ImuGyro :Z(D/s):', 'Imu_1_ImuMag :X(uT):', 'Imu_1_ImuMag :Y(uT):', 'Imu_1_ImuMag :Z(uT):', 'Imu_2 :W():', 'Imu_2 :X():', 'Imu_2 :Y():', 'Imu_2 :Z():', 'Imu_2_ImuGyro :X(D/s):', 'Imu_2_ImuGyro :Y(D/s):', 'Imu_2_ImuGyro :Z(D/s):', 'Imu_2_ImuMag :X(uT):', 'Imu_2_ImuMag :Y(uT):', 'Imu_2_ImuMag :Z(uT):', 'Imu_4 :W():', 'Imu_4 :X():', 'Imu_4 :Y():', 'Imu_4 :Z():', 'Imu_4_ImuGyro :X(D/s):', 'Imu_4_ImuGyro :Y(D/s):', 'Imu_4_ImuGyro :Z(D/s):', 'Imu_4_ImuMag :X(uT):', 'Imu_4_ImuMag :Y(uT):', 'Imu_4_ImuMag :Z(uT):', 'Net_Acc_X(g)', 'Net_Acc_Y(g)', 'Net_Acc_Z(g)', 'Participant_Backpack_Acc_X(g)', 'Participant_Backpack_Acc_Y(g)', 'Participant_Backpack_Acc_Z(g)', 'Participant_Paddle_Acc_X(g)', 'Participant_Paddle_Acc_Y(g)', 'Participant_Paddle_Acc_Z(g)', 'Researcher_Paddle_Acc_X(g)', 'Researcher_Paddle_Acc_Y(g)', 'Researcher_Paddle_Acc_Z(g)', 'SyncPulse(uV)', 'Table_OtherSide_Acc_X(g)', 'Table_OtherSide_Acc_Y(g)', 'Table_OtherSide_Acc_Z(g)', 'Table_ParticipantSide_Acc_X(g)', 'Table_ParticipantSide_Acc_Y(g)', 'Table_ParticipantSide_Acc_Z(g)']\n",
      "noise: ['N-AF3', 'N-AF4', 'N-AF7', 'N-AF8', 'N-AFF1h', 'N-AFF2h', 'N-AFF5h', 'N-AFF6h', 'N-AFp1', 'N-AFp2', 'N-AFz', 'N-C1', 'N-C2', 'N-C3', 'N-C4', 'N-C5', 'N-C6', 'N-CCP1h', 'N-CCP2h', 'N-CCP3h', 'N-CCP4h', 'N-CCP5h', 'N-CCP6h', 'N-CP1', 'N-CP2', 'N-CP3', 'N-CP4', 'N-CP5', 'N-CP6', 'N-CPP1h', 'N-CPP2h', 'N-CPP3h', 'N-CPP4h', 'N-CPP5h', 'N-CPP6h', 'N-Cz', 'N-F1', 'N-F10', 'N-F2', 'N-F3', 'N-F4', 'N-F5', 'N-F6', 'N-F7', 'N-F8', 'N-F9', 'N-FC1', 'N-FC2', 'N-FC3', 'N-FC4', 'N-FC5', 'N-FC6', 'N-FCC1h', 'N-FCC2h', 'N-FCC3h', 'N-FCC4h', 'N-FCC5h', 'N-FCC6h', 'N-FCz', 'N-FFC1h', 'N-FFC2h', 'N-FFC3h', 'N-FFC4h', 'N-FFC5h', 'N-FFC6h', 'N-FFT10h', 'N-FFT7h', 'N-FFT8h', 'N-FFT9h', 'N-FP2', 'N-FT10', 'N-FT7', 'N-FT8', 'N-FT9', 'N-FTT10h', 'N-FTT7h', 'N-FTT8h', 'N-FTT9h', 'N-Fp1', 'N-Fz', 'N-Iz', 'N-O1', 'N-O2', 'N-OI1h', 'N-OI2h', 'N-Oz', 'N-P1', 'N-P2', 'N-P3', 'N-P4', 'N-P5', 'N-P6', 'N-P7', 'N-P8', 'N-PO3', 'N-PO4', 'N-PO7', 'N-PO8', 'N-POO1', 'N-POO10h', 'N-POO2', 'N-POO9h', 'N-POz', 'N-PPO10h', 'N-PPO1h', 'N-PPO2h', 'N-PPO5h', 'N-PPO6h', 'N-PPO9h', 'N-Pz', 'N-T7', 'N-T8', 'N-TP7', 'N-TP8', 'N-TPP10h', 'N-TPP7h', 'N-TPP8h', 'N-TPP9h', 'N-TTP7h', 'N-TTP8h']\n",
      "  raw_eeg = mne.io.read_raw_eeglab(eeg_dirname + f'sub-{SUB_ID}_task-TableTennis_eeg.set', preload=True)\n",
      "/tmp/ipykernel_1842469/3295343524.py:52: RuntimeWarning: Estimated head radius (11.0 cm) is above the 99th percentile for adult head size. Check if the montage_units argument is correct (the default is \"mm\", but your channel positions may be in different units).\n",
      "  raw_eeg = mne.io.read_raw_eeglab(eeg_dirname + f'sub-{SUB_ID}_task-TableTennis_eeg.set', preload=True)\n",
      "/tmp/ipykernel_1842469/3295343524.py:52: RuntimeWarning: Data file name in EEG.data (sub-13_task-tabletennis_eeg.fdt) is incorrect, the file name must have changed on disk, using the correct file name (sub-13_task-TableTennis_eeg.fdt).\n",
      "  raw_eeg = mne.io.read_raw_eeglab(eeg_dirname + f'sub-{SUB_ID}_task-TableTennis_eeg.set', preload=True)\n",
      "/tmp/ipykernel_1842469/3295343524.py:52: RuntimeWarning: Omitted 1 annotation(s) that were outside data range.\n",
      "  raw_eeg = mne.io.read_raw_eeglab(eeg_dirname + f'sub-{SUB_ID}_task-TableTennis_eeg.set', preload=True)\n",
      "/tmp/ipykernel_1842469/3295343524.py:52: RuntimeWarning: The data contains 'boundary' events, indicating data discontinuities. Be cautious of filtering and epoching around these events.\n",
      "  raw_eeg = mne.io.read_raw_eeglab(eeg_dirname + f'sub-{SUB_ID}_task-TableTennis_eeg.set', preload=True)\n",
      "/tmp/ipykernel_1842469/3295343524.py:52: RuntimeWarning: Not setting positions of 8 emg channels found in montage:\n",
      "['LISCM', 'LSSCM', 'LSTrap', 'LITrap', 'RITrap', 'RISCM', 'RSSCM', 'RSTrap']\n",
      "Consider setting the channel types to be of EEG/sEEG/ECoG/DBS/fNIRS using inst.set_channel_types before calling inst.set_montage, or omit these channels when creating your montage.\n",
      "  raw_eeg = mne.io.read_raw_eeglab(eeg_dirname + f'sub-{SUB_ID}_task-TableTennis_eeg.set', preload=True)\n",
      "/tmp/ipykernel_1842469/3295343524.py:70: RuntimeWarning: The unit for channel(s) BallMachine_Acc_X(g), BallMachine_Acc_Y(g), BallMachine_Acc_Z(g), CGY-x, CGY-y, CGY-z, CWR-x, CWR-y, CWR-z, IMU1_RMS, Imu_1 :W():, Imu_1 :X():, Imu_1 :Y():, Imu_1 :Z():, Imu_1_ImuGyro :X(D/s):, Imu_1_ImuGyro :Y(D/s):, Imu_1_ImuGyro :Z(D/s):, Imu_1_ImuMag :X(uT):, Imu_1_ImuMag :Y(uT):, Imu_1_ImuMag :Z(uT):, Imu_2 :W():, Imu_2 :X():, Imu_2 :Y():, Imu_2 :Z():, Imu_2_ImuGyro :X(D/s):, Imu_2_ImuGyro :Y(D/s):, Imu_2_ImuGyro :Z(D/s):, Imu_2_ImuMag :X(uT):, Imu_2_ImuMag :Y(uT):, Imu_2_ImuMag :Z(uT):, Imu_4 :W():, Imu_4 :X():, Imu_4 :Y():, Imu_4 :Z():, Imu_4_ImuGyro :X(D/s):, Imu_4_ImuGyro :Y(D/s):, Imu_4_ImuGyro :Z(D/s):, Imu_4_ImuMag :X(uT):, Imu_4_ImuMag :Y(uT):, Imu_4_ImuMag :Z(uT):, N-AF3, N-AF4, N-AF7, N-AF8, N-AFF1h, N-AFF2h, N-AFF5h, N-AFF6h, N-AFp1, N-AFp2, N-AFz, N-C1, N-C2, N-C3, N-C4, N-C5, N-C6, N-CCP1h, N-CCP2h, N-CCP3h, N-CCP4h, N-CCP5h, N-CCP6h, N-CP1, N-CP2, N-CP3, N-CP4, N-CP5, N-CP6, N-CPP1h, N-CPP2h, N-CPP3h, N-CPP4h, N-CPP5h, N-CPP6h, N-Cz, N-F1, N-F10, N-F2, N-F3, N-F4, N-F5, N-F6, N-F7, N-F8, N-F9, N-FC1, N-FC2, N-FC3, N-FC4, N-FC5, N-FC6, N-FCC1h, N-FCC2h, N-FCC3h, N-FCC4h, N-FCC5h, N-FCC6h, N-FCz, N-FFC1h, N-FFC2h, N-FFC3h, N-FFC4h, N-FFC5h, N-FFC6h, N-FFT10h, N-FFT7h, N-FFT8h, N-FFT9h, N-FP2, N-FT10, N-FT7, N-FT8, N-FT9, N-FTT10h, N-FTT7h, N-FTT8h, N-FTT9h, N-Fp1, N-Fz, N-Iz, N-O1, N-O2, N-OI1h, N-OI2h, N-Oz, N-P1, N-P2, N-P3, N-P4, N-P5, N-P6, N-P7, N-P8, N-PO3, N-PO4, N-PO7, N-PO8, N-POO1, N-POO10h, N-POO2, N-POO9h, N-POz, N-PPO10h, N-PPO1h, N-PPO2h, N-PPO5h, N-PPO6h, N-PPO9h, N-Pz, N-T7, N-T8, N-TP7, N-TP8, N-TPP10h, N-TPP7h, N-TPP8h, N-TPP9h, N-TTP7h, N-TTP8h, NGY-x, NGY-y, NGY-z, NWR-x, NWR-y, NWR-z, Net_Acc_X(g), Net_Acc_Y(g), Net_Acc_Z(g), Participant_Backpack_Acc_X(g), Participant_Backpack_Acc_Y(g), Participant_Backpack_Acc_Z(g), Participant_Paddle_Acc_X(g), Participant_Paddle_Acc_Y(g), Participant_Paddle_Acc_Z(g), Researcher_Paddle_Acc_X(g), Researcher_Paddle_Acc_Y(g), Researcher_Paddle_Acc_Z(g), SyncPulse(uV), Table_OtherSide_Acc_X(g), Table_OtherSide_Acc_Y(g), Table_OtherSide_Acc_Z(g), Table_ParticipantSide_Acc_X(g), Table_ParticipantSide_Acc_Y(g), Table_ParticipantSide_Acc_Z(g) has changed from V to NA.\n",
      "  raw_eeg.set_channel_types(channel_types)\n"
     ]
    },
    {
     "name": "stdout",
     "output_type": "stream",
     "text": [
      "NOTE: pick_channels() is a legacy function. New code should use inst.pick(...).\n",
      "Reading /data/vladimiroved/realWorldTableTennis/sub-14/eeg/sub-14_task-TableTennis_eeg.fdt\n",
      "Reading 0 ... 1129763  =      0.000 ...  4519.052 secs...\n"
     ]
    },
    {
     "name": "stderr",
     "output_type": "stream",
     "text": [
      "/tmp/ipykernel_1842469/3295343524.py:52: RuntimeWarning: Unknown types found, setting as type EEG:\n",
      "acc: ['CGY-x', 'CGY-y', 'CGY-z', 'CWR-x', 'CWR-y', 'CWR-z', 'NGY-x', 'NGY-y', 'NGY-z', 'NWR-x', 'NWR-y', 'NWR-z']\n",
      "cometas: ['BallMachine_Acc_X(g)', 'BallMachine_Acc_Y(g)', 'BallMachine_Acc_Z(g)', 'IMU1_RMS', 'Imu_1 :W():', 'Imu_1 :X():', 'Imu_1 :Y():', 'Imu_1 :Z():', 'Imu_1_ImuGyro :X(D/s):', 'Imu_1_ImuGyro :Y(D/s):', 'Imu_1_ImuGyro :Z(D/s):', 'Imu_1_ImuMag :X(uT):', 'Imu_1_ImuMag :Y(uT):', 'Imu_1_ImuMag :Z(uT):', 'Imu_2 :W():', 'Imu_2 :X():', 'Imu_2 :Y():', 'Imu_2 :Z():', 'Imu_2_ImuGyro :X(D/s):', 'Imu_2_ImuGyro :Y(D/s):', 'Imu_2_ImuGyro :Z(D/s):', 'Imu_2_ImuMag :X(uT):', 'Imu_2_ImuMag :Y(uT):', 'Imu_2_ImuMag :Z(uT):', 'Imu_4 :W():', 'Imu_4 :X():', 'Imu_4 :Y():', 'Imu_4 :Z():', 'Imu_4_ImuGyro :X(D/s):', 'Imu_4_ImuGyro :Y(D/s):', 'Imu_4_ImuGyro :Z(D/s):', 'Imu_4_ImuMag :X(uT):', 'Imu_4_ImuMag :Y(uT):', 'Imu_4_ImuMag :Z(uT):', 'Net_Acc_X(g)', 'Net_Acc_Y(g)', 'Net_Acc_Z(g)', 'Participant_Backpack_Acc_X(g)', 'Participant_Backpack_Acc_Y(g)', 'Participant_Backpack_Acc_Z(g)', 'Participant_Paddle_Acc_X(g)', 'Participant_Paddle_Acc_Y(g)', 'Participant_Paddle_Acc_Z(g)', 'Researcher_Paddle_Acc_X(g)', 'Researcher_Paddle_Acc_Y(g)', 'Researcher_Paddle_Acc_Z(g)', 'SyncPulse(uV)', 'Table_OtherSide_Acc_X(g)', 'Table_OtherSide_Acc_Y(g)', 'Table_OtherSide_Acc_Z(g)', 'Table_ParticipantSide_Acc_X(g)', 'Table_ParticipantSide_Acc_Y(g)', 'Table_ParticipantSide_Acc_Z(g)']\n",
      "noise: ['N-AF3', 'N-AF4', 'N-AF7', 'N-AF8', 'N-AFF1h', 'N-AFF2h', 'N-AFF5h', 'N-AFF6h', 'N-AFp1', 'N-AFp2', 'N-AFz', 'N-C1', 'N-C2', 'N-C3', 'N-C4', 'N-C5', 'N-C6', 'N-CCP1h', 'N-CCP2h', 'N-CCP3h', 'N-CCP4h', 'N-CCP5h', 'N-CCP6h', 'N-CP1', 'N-CP2', 'N-CP3', 'N-CP4', 'N-CP5', 'N-CP6', 'N-CPP1h', 'N-CPP2h', 'N-CPP3h', 'N-CPP4h', 'N-CPP5h', 'N-CPP6h', 'N-Cz', 'N-F1', 'N-F10', 'N-F2', 'N-F3', 'N-F4', 'N-F5', 'N-F6', 'N-F7', 'N-F8', 'N-F9', 'N-FC1', 'N-FC2', 'N-FC3', 'N-FC4', 'N-FC5', 'N-FC6', 'N-FCC1h', 'N-FCC2h', 'N-FCC3h', 'N-FCC4h', 'N-FCC5h', 'N-FCC6h', 'N-FCz', 'N-FFC1h', 'N-FFC2h', 'N-FFC3h', 'N-FFC4h', 'N-FFC5h', 'N-FFC6h', 'N-FFT10h', 'N-FFT7h', 'N-FFT8h', 'N-FFT9h', 'N-FP2', 'N-FT10', 'N-FT7', 'N-FT8', 'N-FT9', 'N-FTT10h', 'N-FTT7h', 'N-FTT8h', 'N-FTT9h', 'N-Fp1', 'N-Fz', 'N-Iz', 'N-O1', 'N-O2', 'N-OI1h', 'N-OI2h', 'N-Oz', 'N-P1', 'N-P2', 'N-P3', 'N-P4', 'N-P5', 'N-P6', 'N-P7', 'N-P8', 'N-PO3', 'N-PO4', 'N-PO7', 'N-PO8', 'N-POO1', 'N-POO10h', 'N-POO2', 'N-POO9h', 'N-POz', 'N-PPO10h', 'N-PPO1h', 'N-PPO2h', 'N-PPO5h', 'N-PPO6h', 'N-PPO9h', 'N-Pz', 'N-T7', 'N-T8', 'N-TP7', 'N-TP8', 'N-TPP10h', 'N-TPP7h', 'N-TPP8h', 'N-TPP9h', 'N-TTP7h', 'N-TTP8h']\n",
      "  raw_eeg = mne.io.read_raw_eeglab(eeg_dirname + f'sub-{SUB_ID}_task-TableTennis_eeg.set', preload=True)\n",
      "/tmp/ipykernel_1842469/3295343524.py:52: RuntimeWarning: Estimated head radius (11.8 cm) is above the 99th percentile for adult head size. Check if the montage_units argument is correct (the default is \"mm\", but your channel positions may be in different units).\n",
      "  raw_eeg = mne.io.read_raw_eeglab(eeg_dirname + f'sub-{SUB_ID}_task-TableTennis_eeg.set', preload=True)\n",
      "/tmp/ipykernel_1842469/3295343524.py:52: RuntimeWarning: Data file name in EEG.data (sub-14_task-tabletennis_eeg.fdt) is incorrect, the file name must have changed on disk, using the correct file name (sub-14_task-TableTennis_eeg.fdt).\n",
      "  raw_eeg = mne.io.read_raw_eeglab(eeg_dirname + f'sub-{SUB_ID}_task-TableTennis_eeg.set', preload=True)\n",
      "/tmp/ipykernel_1842469/3295343524.py:52: RuntimeWarning: Omitted 1 annotation(s) that were outside data range.\n",
      "  raw_eeg = mne.io.read_raw_eeglab(eeg_dirname + f'sub-{SUB_ID}_task-TableTennis_eeg.set', preload=True)\n",
      "/tmp/ipykernel_1842469/3295343524.py:52: RuntimeWarning: The data contains 'boundary' events, indicating data discontinuities. Be cautious of filtering and epoching around these events.\n",
      "  raw_eeg = mne.io.read_raw_eeglab(eeg_dirname + f'sub-{SUB_ID}_task-TableTennis_eeg.set', preload=True)\n",
      "/tmp/ipykernel_1842469/3295343524.py:52: RuntimeWarning: Not setting positions of 8 emg channels found in montage:\n",
      "['LISCM', 'LSSCM', 'LSTrap', 'LITrap', 'RITrap', 'RISCM', 'RSSCM', 'RSTrap']\n",
      "Consider setting the channel types to be of EEG/sEEG/ECoG/DBS/fNIRS using inst.set_channel_types before calling inst.set_montage, or omit these channels when creating your montage.\n",
      "  raw_eeg = mne.io.read_raw_eeglab(eeg_dirname + f'sub-{SUB_ID}_task-TableTennis_eeg.set', preload=True)\n",
      "/tmp/ipykernel_1842469/3295343524.py:70: RuntimeWarning: The unit for channel(s) BallMachine_Acc_X(g), BallMachine_Acc_Y(g), BallMachine_Acc_Z(g), CGY-x, CGY-y, CGY-z, CWR-x, CWR-y, CWR-z, IMU1_RMS, Imu_1 :W():, Imu_1 :X():, Imu_1 :Y():, Imu_1 :Z():, Imu_1_ImuGyro :X(D/s):, Imu_1_ImuGyro :Y(D/s):, Imu_1_ImuGyro :Z(D/s):, Imu_1_ImuMag :X(uT):, Imu_1_ImuMag :Y(uT):, Imu_1_ImuMag :Z(uT):, Imu_2 :W():, Imu_2 :X():, Imu_2 :Y():, Imu_2 :Z():, Imu_2_ImuGyro :X(D/s):, Imu_2_ImuGyro :Y(D/s):, Imu_2_ImuGyro :Z(D/s):, Imu_2_ImuMag :X(uT):, Imu_2_ImuMag :Y(uT):, Imu_2_ImuMag :Z(uT):, Imu_4 :W():, Imu_4 :X():, Imu_4 :Y():, Imu_4 :Z():, Imu_4_ImuGyro :X(D/s):, Imu_4_ImuGyro :Y(D/s):, Imu_4_ImuGyro :Z(D/s):, Imu_4_ImuMag :X(uT):, Imu_4_ImuMag :Y(uT):, Imu_4_ImuMag :Z(uT):, N-AF3, N-AF4, N-AF7, N-AF8, N-AFF1h, N-AFF2h, N-AFF5h, N-AFF6h, N-AFp1, N-AFp2, N-AFz, N-C1, N-C2, N-C3, N-C4, N-C5, N-C6, N-CCP1h, N-CCP2h, N-CCP3h, N-CCP4h, N-CCP5h, N-CCP6h, N-CP1, N-CP2, N-CP3, N-CP4, N-CP5, N-CP6, N-CPP1h, N-CPP2h, N-CPP3h, N-CPP4h, N-CPP5h, N-CPP6h, N-Cz, N-F1, N-F10, N-F2, N-F3, N-F4, N-F5, N-F6, N-F7, N-F8, N-F9, N-FC1, N-FC2, N-FC3, N-FC4, N-FC5, N-FC6, N-FCC1h, N-FCC2h, N-FCC3h, N-FCC4h, N-FCC5h, N-FCC6h, N-FCz, N-FFC1h, N-FFC2h, N-FFC3h, N-FFC4h, N-FFC5h, N-FFC6h, N-FFT10h, N-FFT7h, N-FFT8h, N-FFT9h, N-FP2, N-FT10, N-FT7, N-FT8, N-FT9, N-FTT10h, N-FTT7h, N-FTT8h, N-FTT9h, N-Fp1, N-Fz, N-Iz, N-O1, N-O2, N-OI1h, N-OI2h, N-Oz, N-P1, N-P2, N-P3, N-P4, N-P5, N-P6, N-P7, N-P8, N-PO3, N-PO4, N-PO7, N-PO8, N-POO1, N-POO10h, N-POO2, N-POO9h, N-POz, N-PPO10h, N-PPO1h, N-PPO2h, N-PPO5h, N-PPO6h, N-PPO9h, N-Pz, N-T7, N-T8, N-TP7, N-TP8, N-TPP10h, N-TPP7h, N-TPP8h, N-TPP9h, N-TTP7h, N-TTP8h, NGY-x, NGY-y, NGY-z, NWR-x, NWR-y, NWR-z, Net_Acc_X(g), Net_Acc_Y(g), Net_Acc_Z(g), Participant_Backpack_Acc_X(g), Participant_Backpack_Acc_Y(g), Participant_Backpack_Acc_Z(g), Participant_Paddle_Acc_X(g), Participant_Paddle_Acc_Y(g), Participant_Paddle_Acc_Z(g), Researcher_Paddle_Acc_X(g), Researcher_Paddle_Acc_Y(g), Researcher_Paddle_Acc_Z(g), SyncPulse(uV), Table_OtherSide_Acc_X(g), Table_OtherSide_Acc_Y(g), Table_OtherSide_Acc_Z(g), Table_ParticipantSide_Acc_X(g), Table_ParticipantSide_Acc_Y(g), Table_ParticipantSide_Acc_Z(g) has changed from V to NA.\n",
      "  raw_eeg.set_channel_types(channel_types)\n"
     ]
    },
    {
     "name": "stdout",
     "output_type": "stream",
     "text": [
      "NOTE: pick_channels() is a legacy function. New code should use inst.pick(...).\n",
      "Reading /data/vladimiroved/realWorldTableTennis/sub-15/eeg/sub-15_task-TableTennis_eeg.fdt\n",
      "Reading 0 ... 1105756  =      0.000 ...  4423.024 secs...\n"
     ]
    },
    {
     "name": "stderr",
     "output_type": "stream",
     "text": [
      "/tmp/ipykernel_1842469/3295343524.py:52: RuntimeWarning: Unknown types found, setting as type EEG:\n",
      "acc: ['CGY-x', 'CGY-y', 'CGY-z', 'CWR-x', 'CWR-y', 'CWR-z', 'NGY-x', 'NGY-y', 'NGY-z', 'NWR-x', 'NWR-y', 'NWR-z']\n",
      "cometas: ['BallMachine_Acc_X(g)', 'BallMachine_Acc_Y(g)', 'BallMachine_Acc_Z(g)', 'IMU1_RMS', 'Imu_1 :W():', 'Imu_1 :X():', 'Imu_1 :Y():', 'Imu_1 :Z():', 'Imu_1_ImuGyro :X(D/s):', 'Imu_1_ImuGyro :Y(D/s):', 'Imu_1_ImuGyro :Z(D/s):', 'Imu_1_ImuMag :X(uT):', 'Imu_1_ImuMag :Y(uT):', 'Imu_1_ImuMag :Z(uT):', 'Imu_2 :W():', 'Imu_2 :X():', 'Imu_2 :Y():', 'Imu_2 :Z():', 'Imu_2_ImuGyro :X(D/s):', 'Imu_2_ImuGyro :Y(D/s):', 'Imu_2_ImuGyro :Z(D/s):', 'Imu_2_ImuMag :X(uT):', 'Imu_2_ImuMag :Y(uT):', 'Imu_2_ImuMag :Z(uT):', 'Imu_4 :W():', 'Imu_4 :X():', 'Imu_4 :Y():', 'Imu_4 :Z():', 'Imu_4_ImuGyro :X(D/s):', 'Imu_4_ImuGyro :Y(D/s):', 'Imu_4_ImuGyro :Z(D/s):', 'Imu_4_ImuMag :X(uT):', 'Imu_4_ImuMag :Y(uT):', 'Imu_4_ImuMag :Z(uT):', 'Net_Acc_X(g)', 'Net_Acc_Y(g)', 'Net_Acc_Z(g)', 'Participant_Backpack_Acc_X(g)', 'Participant_Backpack_Acc_Y(g)', 'Participant_Backpack_Acc_Z(g)', 'Participant_Paddle_Acc_X(g)', 'Participant_Paddle_Acc_Y(g)', 'Participant_Paddle_Acc_Z(g)', 'Researcher_Paddle_Acc_X(g)', 'Researcher_Paddle_Acc_Y(g)', 'Researcher_Paddle_Acc_Z(g)', 'SyncPulse(uV)', 'Table_OtherSide_Acc_X(g)', 'Table_OtherSide_Acc_Y(g)', 'Table_OtherSide_Acc_Z(g)', 'Table_ParticipantSide_Acc_X(g)', 'Table_ParticipantSide_Acc_Y(g)', 'Table_ParticipantSide_Acc_Z(g)']\n",
      "noise: ['N-AF3', 'N-AF4', 'N-AF7', 'N-AF8', 'N-AFF1h', 'N-AFF2h', 'N-AFF5h', 'N-AFF6h', 'N-AFp1', 'N-AFp2', 'N-AFz', 'N-C1', 'N-C2', 'N-C3', 'N-C4', 'N-C5', 'N-C6', 'N-CCP1h', 'N-CCP2h', 'N-CCP3h', 'N-CCP4h', 'N-CCP5h', 'N-CCP6h', 'N-CP1', 'N-CP2', 'N-CP3', 'N-CP4', 'N-CP5', 'N-CP6', 'N-CPP1h', 'N-CPP2h', 'N-CPP3h', 'N-CPP4h', 'N-CPP5h', 'N-CPP6h', 'N-Cz', 'N-F1', 'N-F10', 'N-F2', 'N-F3', 'N-F4', 'N-F5', 'N-F6', 'N-F7', 'N-F8', 'N-F9', 'N-FC1', 'N-FC2', 'N-FC3', 'N-FC4', 'N-FC5', 'N-FC6', 'N-FCC1h', 'N-FCC2h', 'N-FCC3h', 'N-FCC4h', 'N-FCC5h', 'N-FCC6h', 'N-FCz', 'N-FFC1h', 'N-FFC2h', 'N-FFC3h', 'N-FFC4h', 'N-FFC5h', 'N-FFC6h', 'N-FFT10h', 'N-FFT7h', 'N-FFT8h', 'N-FFT9h', 'N-FP2', 'N-FT10', 'N-FT7', 'N-FT8', 'N-FT9', 'N-FTT10h', 'N-FTT7h', 'N-FTT8h', 'N-FTT9h', 'N-Fp1', 'N-Fz', 'N-Iz', 'N-O1', 'N-O2', 'N-OI1h', 'N-OI2h', 'N-Oz', 'N-P1', 'N-P2', 'N-P3', 'N-P4', 'N-P5', 'N-P6', 'N-P7', 'N-P8', 'N-PO3', 'N-PO4', 'N-PO7', 'N-PO8', 'N-POO1', 'N-POO10h', 'N-POO2', 'N-POO9h', 'N-POz', 'N-PPO10h', 'N-PPO1h', 'N-PPO2h', 'N-PPO5h', 'N-PPO6h', 'N-PPO9h', 'N-Pz', 'N-T7', 'N-T8', 'N-TP7', 'N-TP8', 'N-TPP10h', 'N-TPP7h', 'N-TPP8h', 'N-TPP9h', 'N-TTP7h', 'N-TTP8h']\n",
      "  raw_eeg = mne.io.read_raw_eeglab(eeg_dirname + f'sub-{SUB_ID}_task-TableTennis_eeg.set', preload=True)\n",
      "/tmp/ipykernel_1842469/3295343524.py:52: RuntimeWarning: Estimated head radius (11.1 cm) is above the 99th percentile for adult head size. Check if the montage_units argument is correct (the default is \"mm\", but your channel positions may be in different units).\n",
      "  raw_eeg = mne.io.read_raw_eeglab(eeg_dirname + f'sub-{SUB_ID}_task-TableTennis_eeg.set', preload=True)\n",
      "/tmp/ipykernel_1842469/3295343524.py:52: RuntimeWarning: Data file name in EEG.data (sub-15_task-tabletennis_eeg.fdt) is incorrect, the file name must have changed on disk, using the correct file name (sub-15_task-TableTennis_eeg.fdt).\n",
      "  raw_eeg = mne.io.read_raw_eeglab(eeg_dirname + f'sub-{SUB_ID}_task-TableTennis_eeg.set', preload=True)\n",
      "/tmp/ipykernel_1842469/3295343524.py:52: RuntimeWarning: Omitted 1 annotation(s) that were outside data range.\n",
      "  raw_eeg = mne.io.read_raw_eeglab(eeg_dirname + f'sub-{SUB_ID}_task-TableTennis_eeg.set', preload=True)\n",
      "/tmp/ipykernel_1842469/3295343524.py:52: RuntimeWarning: The data contains 'boundary' events, indicating data discontinuities. Be cautious of filtering and epoching around these events.\n",
      "  raw_eeg = mne.io.read_raw_eeglab(eeg_dirname + f'sub-{SUB_ID}_task-TableTennis_eeg.set', preload=True)\n",
      "/tmp/ipykernel_1842469/3295343524.py:52: RuntimeWarning: Not setting positions of 8 emg channels found in montage:\n",
      "['LISCM', 'LSSCM', 'LSTrap', 'LITrap', 'RITrap', 'RISCM', 'RSSCM', 'RSTrap']\n",
      "Consider setting the channel types to be of EEG/sEEG/ECoG/DBS/fNIRS using inst.set_channel_types before calling inst.set_montage, or omit these channels when creating your montage.\n",
      "  raw_eeg = mne.io.read_raw_eeglab(eeg_dirname + f'sub-{SUB_ID}_task-TableTennis_eeg.set', preload=True)\n",
      "/tmp/ipykernel_1842469/3295343524.py:70: RuntimeWarning: The unit for channel(s) BallMachine_Acc_X(g), BallMachine_Acc_Y(g), BallMachine_Acc_Z(g), CGY-x, CGY-y, CGY-z, CWR-x, CWR-y, CWR-z, IMU1_RMS, Imu_1 :W():, Imu_1 :X():, Imu_1 :Y():, Imu_1 :Z():, Imu_1_ImuGyro :X(D/s):, Imu_1_ImuGyro :Y(D/s):, Imu_1_ImuGyro :Z(D/s):, Imu_1_ImuMag :X(uT):, Imu_1_ImuMag :Y(uT):, Imu_1_ImuMag :Z(uT):, Imu_2 :W():, Imu_2 :X():, Imu_2 :Y():, Imu_2 :Z():, Imu_2_ImuGyro :X(D/s):, Imu_2_ImuGyro :Y(D/s):, Imu_2_ImuGyro :Z(D/s):, Imu_2_ImuMag :X(uT):, Imu_2_ImuMag :Y(uT):, Imu_2_ImuMag :Z(uT):, Imu_4 :W():, Imu_4 :X():, Imu_4 :Y():, Imu_4 :Z():, Imu_4_ImuGyro :X(D/s):, Imu_4_ImuGyro :Y(D/s):, Imu_4_ImuGyro :Z(D/s):, Imu_4_ImuMag :X(uT):, Imu_4_ImuMag :Y(uT):, Imu_4_ImuMag :Z(uT):, N-AF3, N-AF4, N-AF7, N-AF8, N-AFF1h, N-AFF2h, N-AFF5h, N-AFF6h, N-AFp1, N-AFp2, N-AFz, N-C1, N-C2, N-C3, N-C4, N-C5, N-C6, N-CCP1h, N-CCP2h, N-CCP3h, N-CCP4h, N-CCP5h, N-CCP6h, N-CP1, N-CP2, N-CP3, N-CP4, N-CP5, N-CP6, N-CPP1h, N-CPP2h, N-CPP3h, N-CPP4h, N-CPP5h, N-CPP6h, N-Cz, N-F1, N-F10, N-F2, N-F3, N-F4, N-F5, N-F6, N-F7, N-F8, N-F9, N-FC1, N-FC2, N-FC3, N-FC4, N-FC5, N-FC6, N-FCC1h, N-FCC2h, N-FCC3h, N-FCC4h, N-FCC5h, N-FCC6h, N-FCz, N-FFC1h, N-FFC2h, N-FFC3h, N-FFC4h, N-FFC5h, N-FFC6h, N-FFT10h, N-FFT7h, N-FFT8h, N-FFT9h, N-FP2, N-FT10, N-FT7, N-FT8, N-FT9, N-FTT10h, N-FTT7h, N-FTT8h, N-FTT9h, N-Fp1, N-Fz, N-Iz, N-O1, N-O2, N-OI1h, N-OI2h, N-Oz, N-P1, N-P2, N-P3, N-P4, N-P5, N-P6, N-P7, N-P8, N-PO3, N-PO4, N-PO7, N-PO8, N-POO1, N-POO10h, N-POO2, N-POO9h, N-POz, N-PPO10h, N-PPO1h, N-PPO2h, N-PPO5h, N-PPO6h, N-PPO9h, N-Pz, N-T7, N-T8, N-TP7, N-TP8, N-TPP10h, N-TPP7h, N-TPP8h, N-TPP9h, N-TTP7h, N-TTP8h, NGY-x, NGY-y, NGY-z, NWR-x, NWR-y, NWR-z, Net_Acc_X(g), Net_Acc_Y(g), Net_Acc_Z(g), Participant_Backpack_Acc_X(g), Participant_Backpack_Acc_Y(g), Participant_Backpack_Acc_Z(g), Participant_Paddle_Acc_X(g), Participant_Paddle_Acc_Y(g), Participant_Paddle_Acc_Z(g), Researcher_Paddle_Acc_X(g), Researcher_Paddle_Acc_Y(g), Researcher_Paddle_Acc_Z(g), SyncPulse(uV), Table_OtherSide_Acc_X(g), Table_OtherSide_Acc_Y(g), Table_OtherSide_Acc_Z(g), Table_ParticipantSide_Acc_X(g), Table_ParticipantSide_Acc_Y(g), Table_ParticipantSide_Acc_Z(g) has changed from V to NA.\n",
      "  raw_eeg.set_channel_types(channel_types)\n"
     ]
    },
    {
     "name": "stdout",
     "output_type": "stream",
     "text": [
      "NOTE: pick_channels() is a legacy function. New code should use inst.pick(...).\n",
      "Reading /data/vladimiroved/realWorldTableTennis/sub-16/eeg/sub-16_task-TableTennis_eeg.fdt\n",
      "Reading 0 ... 1151915  =      0.000 ...  4607.660 secs...\n"
     ]
    },
    {
     "name": "stderr",
     "output_type": "stream",
     "text": [
      "/tmp/ipykernel_1842469/3295343524.py:52: RuntimeWarning: Unknown types found, setting as type EEG:\n",
      "acc: ['CGY-x', 'CGY-y', 'CGY-z', 'CWR-x', 'CWR-y', 'CWR-z', 'NGY-x', 'NGY-y', 'NGY-z', 'NWR-x', 'NWR-y', 'NWR-z']\n",
      "cometas: ['BallMachine_Acc_X(g)', 'BallMachine_Acc_Y(g)', 'BallMachine_Acc_Z(g)', 'IMU1_RMS', 'Imu_1 :W():', 'Imu_1 :X():', 'Imu_1 :Y():', 'Imu_1 :Z():', 'Imu_1_ImuGyro :X(D/s):', 'Imu_1_ImuGyro :Y(D/s):', 'Imu_1_ImuGyro :Z(D/s):', 'Imu_1_ImuMag :X(uT):', 'Imu_1_ImuMag :Y(uT):', 'Imu_1_ImuMag :Z(uT):', 'Imu_2 :W():', 'Imu_2 :X():', 'Imu_2 :Y():', 'Imu_2 :Z():', 'Imu_2_ImuGyro :X(D/s):', 'Imu_2_ImuGyro :Y(D/s):', 'Imu_2_ImuGyro :Z(D/s):', 'Imu_2_ImuMag :X(uT):', 'Imu_2_ImuMag :Y(uT):', 'Imu_2_ImuMag :Z(uT):', 'Imu_4 :W():', 'Imu_4 :X():', 'Imu_4 :Y():', 'Imu_4 :Z():', 'Imu_4_ImuGyro :X(D/s):', 'Imu_4_ImuGyro :Y(D/s):', 'Imu_4_ImuGyro :Z(D/s):', 'Imu_4_ImuMag :X(uT):', 'Imu_4_ImuMag :Y(uT):', 'Imu_4_ImuMag :Z(uT):', 'Net_Acc_X(g)', 'Net_Acc_Y(g)', 'Net_Acc_Z(g)', 'Participant_Backpack_Acc_X(g)', 'Participant_Backpack_Acc_Y(g)', 'Participant_Backpack_Acc_Z(g)', 'Participant_Paddle_Acc_X(g)', 'Participant_Paddle_Acc_Y(g)', 'Participant_Paddle_Acc_Z(g)', 'Researcher_Paddle_Acc_X(g)', 'Researcher_Paddle_Acc_Y(g)', 'Researcher_Paddle_Acc_Z(g)', 'SyncPulse(uV)', 'Table_OtherSide_Acc_X(g)', 'Table_OtherSide_Acc_Y(g)', 'Table_OtherSide_Acc_Z(g)', 'Table_ParticipantSide_Acc_X(g)', 'Table_ParticipantSide_Acc_Y(g)', 'Table_ParticipantSide_Acc_Z(g)']\n",
      "noise: ['N-AF3', 'N-AF4', 'N-AF7', 'N-AF8', 'N-AFF1h', 'N-AFF2h', 'N-AFF5h', 'N-AFF6h', 'N-AFp1', 'N-AFp2', 'N-AFz', 'N-C1', 'N-C2', 'N-C3', 'N-C4', 'N-C5', 'N-C6', 'N-CCP1h', 'N-CCP2h', 'N-CCP3h', 'N-CCP4h', 'N-CCP5h', 'N-CCP6h', 'N-CP1', 'N-CP2', 'N-CP3', 'N-CP4', 'N-CP5', 'N-CP6', 'N-CPP1h', 'N-CPP2h', 'N-CPP3h', 'N-CPP4h', 'N-CPP5h', 'N-CPP6h', 'N-Cz', 'N-F1', 'N-F10', 'N-F2', 'N-F3', 'N-F4', 'N-F5', 'N-F6', 'N-F7', 'N-F8', 'N-F9', 'N-FC1', 'N-FC2', 'N-FC3', 'N-FC4', 'N-FC5', 'N-FC6', 'N-FCC1h', 'N-FCC2h', 'N-FCC3h', 'N-FCC4h', 'N-FCC5h', 'N-FCC6h', 'N-FCz', 'N-FFC1h', 'N-FFC2h', 'N-FFC3h', 'N-FFC4h', 'N-FFC5h', 'N-FFC6h', 'N-FFT10h', 'N-FFT7h', 'N-FFT8h', 'N-FFT9h', 'N-FP2', 'N-FT10', 'N-FT7', 'N-FT8', 'N-FT9', 'N-FTT10h', 'N-FTT7h', 'N-FTT8h', 'N-FTT9h', 'N-Fp1', 'N-Fz', 'N-Iz', 'N-O1', 'N-O2', 'N-OI1h', 'N-OI2h', 'N-Oz', 'N-P1', 'N-P2', 'N-P3', 'N-P4', 'N-P5', 'N-P6', 'N-P7', 'N-P8', 'N-PO3', 'N-PO4', 'N-PO7', 'N-PO8', 'N-POO1', 'N-POO10h', 'N-POO2', 'N-POO9h', 'N-POz', 'N-PPO10h', 'N-PPO1h', 'N-PPO2h', 'N-PPO5h', 'N-PPO6h', 'N-PPO9h', 'N-Pz', 'N-T7', 'N-T8', 'N-TP7', 'N-TP8', 'N-TPP10h', 'N-TPP7h', 'N-TPP8h', 'N-TPP9h', 'N-TTP7h', 'N-TTP8h']\n",
      "  raw_eeg = mne.io.read_raw_eeglab(eeg_dirname + f'sub-{SUB_ID}_task-TableTennis_eeg.set', preload=True)\n",
      "/tmp/ipykernel_1842469/3295343524.py:52: RuntimeWarning: Estimated head radius (11.6 cm) is above the 99th percentile for adult head size. Check if the montage_units argument is correct (the default is \"mm\", but your channel positions may be in different units).\n",
      "  raw_eeg = mne.io.read_raw_eeglab(eeg_dirname + f'sub-{SUB_ID}_task-TableTennis_eeg.set', preload=True)\n",
      "/tmp/ipykernel_1842469/3295343524.py:52: RuntimeWarning: Data file name in EEG.data (sub-16_task-tabletennis_eeg.fdt) is incorrect, the file name must have changed on disk, using the correct file name (sub-16_task-TableTennis_eeg.fdt).\n",
      "  raw_eeg = mne.io.read_raw_eeglab(eeg_dirname + f'sub-{SUB_ID}_task-TableTennis_eeg.set', preload=True)\n",
      "/tmp/ipykernel_1842469/3295343524.py:52: RuntimeWarning: Omitted 1 annotation(s) that were outside data range.\n",
      "  raw_eeg = mne.io.read_raw_eeglab(eeg_dirname + f'sub-{SUB_ID}_task-TableTennis_eeg.set', preload=True)\n",
      "/tmp/ipykernel_1842469/3295343524.py:52: RuntimeWarning: The data contains 'boundary' events, indicating data discontinuities. Be cautious of filtering and epoching around these events.\n",
      "  raw_eeg = mne.io.read_raw_eeglab(eeg_dirname + f'sub-{SUB_ID}_task-TableTennis_eeg.set', preload=True)\n",
      "/tmp/ipykernel_1842469/3295343524.py:52: RuntimeWarning: Not setting positions of 8 emg channels found in montage:\n",
      "['LISCM', 'LSSCM', 'LSTrap', 'LITrap', 'RITrap', 'RISCM', 'RSSCM', 'RSTrap']\n",
      "Consider setting the channel types to be of EEG/sEEG/ECoG/DBS/fNIRS using inst.set_channel_types before calling inst.set_montage, or omit these channels when creating your montage.\n",
      "  raw_eeg = mne.io.read_raw_eeglab(eeg_dirname + f'sub-{SUB_ID}_task-TableTennis_eeg.set', preload=True)\n",
      "/tmp/ipykernel_1842469/3295343524.py:70: RuntimeWarning: The unit for channel(s) BallMachine_Acc_X(g), BallMachine_Acc_Y(g), BallMachine_Acc_Z(g), CGY-x, CGY-y, CGY-z, CWR-x, CWR-y, CWR-z, IMU1_RMS, Imu_1 :W():, Imu_1 :X():, Imu_1 :Y():, Imu_1 :Z():, Imu_1_ImuGyro :X(D/s):, Imu_1_ImuGyro :Y(D/s):, Imu_1_ImuGyro :Z(D/s):, Imu_1_ImuMag :X(uT):, Imu_1_ImuMag :Y(uT):, Imu_1_ImuMag :Z(uT):, Imu_2 :W():, Imu_2 :X():, Imu_2 :Y():, Imu_2 :Z():, Imu_2_ImuGyro :X(D/s):, Imu_2_ImuGyro :Y(D/s):, Imu_2_ImuGyro :Z(D/s):, Imu_2_ImuMag :X(uT):, Imu_2_ImuMag :Y(uT):, Imu_2_ImuMag :Z(uT):, Imu_4 :W():, Imu_4 :X():, Imu_4 :Y():, Imu_4 :Z():, Imu_4_ImuGyro :X(D/s):, Imu_4_ImuGyro :Y(D/s):, Imu_4_ImuGyro :Z(D/s):, Imu_4_ImuMag :X(uT):, Imu_4_ImuMag :Y(uT):, Imu_4_ImuMag :Z(uT):, N-AF3, N-AF4, N-AF7, N-AF8, N-AFF1h, N-AFF2h, N-AFF5h, N-AFF6h, N-AFp1, N-AFp2, N-AFz, N-C1, N-C2, N-C3, N-C4, N-C5, N-C6, N-CCP1h, N-CCP2h, N-CCP3h, N-CCP4h, N-CCP5h, N-CCP6h, N-CP1, N-CP2, N-CP3, N-CP4, N-CP5, N-CP6, N-CPP1h, N-CPP2h, N-CPP3h, N-CPP4h, N-CPP5h, N-CPP6h, N-Cz, N-F1, N-F10, N-F2, N-F3, N-F4, N-F5, N-F6, N-F7, N-F8, N-F9, N-FC1, N-FC2, N-FC3, N-FC4, N-FC5, N-FC6, N-FCC1h, N-FCC2h, N-FCC3h, N-FCC4h, N-FCC5h, N-FCC6h, N-FCz, N-FFC1h, N-FFC2h, N-FFC3h, N-FFC4h, N-FFC5h, N-FFC6h, N-FFT10h, N-FFT7h, N-FFT8h, N-FFT9h, N-FP2, N-FT10, N-FT7, N-FT8, N-FT9, N-FTT10h, N-FTT7h, N-FTT8h, N-FTT9h, N-Fp1, N-Fz, N-Iz, N-O1, N-O2, N-OI1h, N-OI2h, N-Oz, N-P1, N-P2, N-P3, N-P4, N-P5, N-P6, N-P7, N-P8, N-PO3, N-PO4, N-PO7, N-PO8, N-POO1, N-POO10h, N-POO2, N-POO9h, N-POz, N-PPO10h, N-PPO1h, N-PPO2h, N-PPO5h, N-PPO6h, N-PPO9h, N-Pz, N-T7, N-T8, N-TP7, N-TP8, N-TPP10h, N-TPP7h, N-TPP8h, N-TPP9h, N-TTP7h, N-TTP8h, NGY-x, NGY-y, NGY-z, NWR-x, NWR-y, NWR-z, Net_Acc_X(g), Net_Acc_Y(g), Net_Acc_Z(g), Participant_Backpack_Acc_X(g), Participant_Backpack_Acc_Y(g), Participant_Backpack_Acc_Z(g), Participant_Paddle_Acc_X(g), Participant_Paddle_Acc_Y(g), Participant_Paddle_Acc_Z(g), Researcher_Paddle_Acc_X(g), Researcher_Paddle_Acc_Y(g), Researcher_Paddle_Acc_Z(g), SyncPulse(uV), Table_OtherSide_Acc_X(g), Table_OtherSide_Acc_Y(g), Table_OtherSide_Acc_Z(g), Table_ParticipantSide_Acc_X(g), Table_ParticipantSide_Acc_Y(g), Table_ParticipantSide_Acc_Z(g) has changed from V to NA.\n",
      "  raw_eeg.set_channel_types(channel_types)\n"
     ]
    },
    {
     "name": "stdout",
     "output_type": "stream",
     "text": [
      "NOTE: pick_channels() is a legacy function. New code should use inst.pick(...).\n",
      "Reading /data/vladimiroved/realWorldTableTennis/sub-17/eeg/sub-17_task-TableTennis_eeg.fdt\n",
      "Reading 0 ... 1119558  =      0.000 ...  4478.232 secs...\n"
     ]
    },
    {
     "name": "stderr",
     "output_type": "stream",
     "text": [
      "/tmp/ipykernel_1842469/3295343524.py:52: RuntimeWarning: Unknown types found, setting as type EEG:\n",
      "acc: ['CGY-x', 'CGY-y', 'CGY-z', 'CWR-x', 'CWR-y', 'CWR-z', 'NGY-x', 'NGY-y', 'NGY-z', 'NWR-x', 'NWR-y', 'NWR-z']\n",
      "cometas: ['BallMachine_Acc_X(g)', 'BallMachine_Acc_Y(g)', 'BallMachine_Acc_Z(g)', 'IMU1_RMS', 'Imu_1 :W():', 'Imu_1 :X():', 'Imu_1 :Y():', 'Imu_1 :Z():', 'Imu_1_ImuGyro :X(D/s):', 'Imu_1_ImuGyro :Y(D/s):', 'Imu_1_ImuGyro :Z(D/s):', 'Imu_1_ImuMag :X(uT):', 'Imu_1_ImuMag :Y(uT):', 'Imu_1_ImuMag :Z(uT):', 'Imu_2 :W():', 'Imu_2 :X():', 'Imu_2 :Y():', 'Imu_2 :Z():', 'Imu_2_ImuGyro :X(D/s):', 'Imu_2_ImuGyro :Y(D/s):', 'Imu_2_ImuGyro :Z(D/s):', 'Imu_2_ImuMag :X(uT):', 'Imu_2_ImuMag :Y(uT):', 'Imu_2_ImuMag :Z(uT):', 'Imu_4 :W():', 'Imu_4 :X():', 'Imu_4 :Y():', 'Imu_4 :Z():', 'Imu_4_ImuGyro :X(D/s):', 'Imu_4_ImuGyro :Y(D/s):', 'Imu_4_ImuGyro :Z(D/s):', 'Imu_4_ImuMag :X(uT):', 'Imu_4_ImuMag :Y(uT):', 'Imu_4_ImuMag :Z(uT):', 'Net_Acc_X(g)', 'Net_Acc_Y(g)', 'Net_Acc_Z(g)', 'Participant_Backpack_Acc_X(g)', 'Participant_Backpack_Acc_Y(g)', 'Participant_Backpack_Acc_Z(g)', 'Participant_Paddle_Acc_X(g)', 'Participant_Paddle_Acc_Y(g)', 'Participant_Paddle_Acc_Z(g)', 'Researcher_Paddle_Acc_X(g)', 'Researcher_Paddle_Acc_Y(g)', 'Researcher_Paddle_Acc_Z(g)', 'SyncPulse(uV)', 'Table_OtherSide_Acc_X(g)', 'Table_OtherSide_Acc_Y(g)', 'Table_OtherSide_Acc_Z(g)', 'Table_ParticipantSide_Acc_X(g)', 'Table_ParticipantSide_Acc_Y(g)', 'Table_ParticipantSide_Acc_Z(g)']\n",
      "noise: ['N-AF3', 'N-AF4', 'N-AF7', 'N-AF8', 'N-AFF1h', 'N-AFF2h', 'N-AFF5h', 'N-AFF6h', 'N-AFp1', 'N-AFp2', 'N-AFz', 'N-C1', 'N-C2', 'N-C3', 'N-C4', 'N-C5', 'N-C6', 'N-CCP1h', 'N-CCP2h', 'N-CCP3h', 'N-CCP4h', 'N-CCP5h', 'N-CCP6h', 'N-CP1', 'N-CP2', 'N-CP3', 'N-CP4', 'N-CP5', 'N-CP6', 'N-CPP1h', 'N-CPP2h', 'N-CPP3h', 'N-CPP4h', 'N-CPP5h', 'N-CPP6h', 'N-Cz', 'N-F1', 'N-F10', 'N-F2', 'N-F3', 'N-F4', 'N-F5', 'N-F6', 'N-F7', 'N-F8', 'N-F9', 'N-FC1', 'N-FC2', 'N-FC3', 'N-FC4', 'N-FC5', 'N-FC6', 'N-FCC1h', 'N-FCC2h', 'N-FCC3h', 'N-FCC4h', 'N-FCC5h', 'N-FCC6h', 'N-FCz', 'N-FFC1h', 'N-FFC2h', 'N-FFC3h', 'N-FFC4h', 'N-FFC5h', 'N-FFC6h', 'N-FFT10h', 'N-FFT7h', 'N-FFT8h', 'N-FFT9h', 'N-FP2', 'N-FT10', 'N-FT7', 'N-FT8', 'N-FT9', 'N-FTT10h', 'N-FTT7h', 'N-FTT8h', 'N-FTT9h', 'N-Fp1', 'N-Fz', 'N-Iz', 'N-O1', 'N-O2', 'N-OI1h', 'N-OI2h', 'N-Oz', 'N-P1', 'N-P2', 'N-P3', 'N-P4', 'N-P5', 'N-P6', 'N-P7', 'N-P8', 'N-PO3', 'N-PO4', 'N-PO7', 'N-PO8', 'N-POO1', 'N-POO10h', 'N-POO2', 'N-POO9h', 'N-POz', 'N-PPO10h', 'N-PPO1h', 'N-PPO2h', 'N-PPO5h', 'N-PPO6h', 'N-PPO9h', 'N-Pz', 'N-T7', 'N-T8', 'N-TP7', 'N-TP8', 'N-TPP10h', 'N-TPP7h', 'N-TPP8h', 'N-TPP9h', 'N-TTP7h', 'N-TTP8h']\n",
      "  raw_eeg = mne.io.read_raw_eeglab(eeg_dirname + f'sub-{SUB_ID}_task-TableTennis_eeg.set', preload=True)\n",
      "/tmp/ipykernel_1842469/3295343524.py:52: RuntimeWarning: Estimated head radius (11.7 cm) is above the 99th percentile for adult head size. Check if the montage_units argument is correct (the default is \"mm\", but your channel positions may be in different units).\n",
      "  raw_eeg = mne.io.read_raw_eeglab(eeg_dirname + f'sub-{SUB_ID}_task-TableTennis_eeg.set', preload=True)\n",
      "/tmp/ipykernel_1842469/3295343524.py:52: RuntimeWarning: Data file name in EEG.data (sub-17_task-tabletennis_eeg.fdt) is incorrect, the file name must have changed on disk, using the correct file name (sub-17_task-TableTennis_eeg.fdt).\n",
      "  raw_eeg = mne.io.read_raw_eeglab(eeg_dirname + f'sub-{SUB_ID}_task-TableTennis_eeg.set', preload=True)\n",
      "/tmp/ipykernel_1842469/3295343524.py:52: RuntimeWarning: Omitted 1 annotation(s) that were outside data range.\n",
      "  raw_eeg = mne.io.read_raw_eeglab(eeg_dirname + f'sub-{SUB_ID}_task-TableTennis_eeg.set', preload=True)\n",
      "/tmp/ipykernel_1842469/3295343524.py:52: RuntimeWarning: The data contains 'boundary' events, indicating data discontinuities. Be cautious of filtering and epoching around these events.\n",
      "  raw_eeg = mne.io.read_raw_eeglab(eeg_dirname + f'sub-{SUB_ID}_task-TableTennis_eeg.set', preload=True)\n",
      "/tmp/ipykernel_1842469/3295343524.py:52: RuntimeWarning: Not setting positions of 8 emg channels found in montage:\n",
      "['LISCM', 'LSSCM', 'LSTrap', 'LITrap', 'RITrap', 'RISCM', 'RSSCM', 'RSTrap']\n",
      "Consider setting the channel types to be of EEG/sEEG/ECoG/DBS/fNIRS using inst.set_channel_types before calling inst.set_montage, or omit these channels when creating your montage.\n",
      "  raw_eeg = mne.io.read_raw_eeglab(eeg_dirname + f'sub-{SUB_ID}_task-TableTennis_eeg.set', preload=True)\n",
      "/tmp/ipykernel_1842469/3295343524.py:70: RuntimeWarning: The unit for channel(s) BallMachine_Acc_X(g), BallMachine_Acc_Y(g), BallMachine_Acc_Z(g), CGY-x, CGY-y, CGY-z, CWR-x, CWR-y, CWR-z, IMU1_RMS, Imu_1 :W():, Imu_1 :X():, Imu_1 :Y():, Imu_1 :Z():, Imu_1_ImuGyro :X(D/s):, Imu_1_ImuGyro :Y(D/s):, Imu_1_ImuGyro :Z(D/s):, Imu_1_ImuMag :X(uT):, Imu_1_ImuMag :Y(uT):, Imu_1_ImuMag :Z(uT):, Imu_2 :W():, Imu_2 :X():, Imu_2 :Y():, Imu_2 :Z():, Imu_2_ImuGyro :X(D/s):, Imu_2_ImuGyro :Y(D/s):, Imu_2_ImuGyro :Z(D/s):, Imu_2_ImuMag :X(uT):, Imu_2_ImuMag :Y(uT):, Imu_2_ImuMag :Z(uT):, Imu_4 :W():, Imu_4 :X():, Imu_4 :Y():, Imu_4 :Z():, Imu_4_ImuGyro :X(D/s):, Imu_4_ImuGyro :Y(D/s):, Imu_4_ImuGyro :Z(D/s):, Imu_4_ImuMag :X(uT):, Imu_4_ImuMag :Y(uT):, Imu_4_ImuMag :Z(uT):, N-AF3, N-AF4, N-AF7, N-AF8, N-AFF1h, N-AFF2h, N-AFF5h, N-AFF6h, N-AFp1, N-AFp2, N-AFz, N-C1, N-C2, N-C3, N-C4, N-C5, N-C6, N-CCP1h, N-CCP2h, N-CCP3h, N-CCP4h, N-CCP5h, N-CCP6h, N-CP1, N-CP2, N-CP3, N-CP4, N-CP5, N-CP6, N-CPP1h, N-CPP2h, N-CPP3h, N-CPP4h, N-CPP5h, N-CPP6h, N-Cz, N-F1, N-F10, N-F2, N-F3, N-F4, N-F5, N-F6, N-F7, N-F8, N-F9, N-FC1, N-FC2, N-FC3, N-FC4, N-FC5, N-FC6, N-FCC1h, N-FCC2h, N-FCC3h, N-FCC4h, N-FCC5h, N-FCC6h, N-FCz, N-FFC1h, N-FFC2h, N-FFC3h, N-FFC4h, N-FFC5h, N-FFC6h, N-FFT10h, N-FFT7h, N-FFT8h, N-FFT9h, N-FP2, N-FT10, N-FT7, N-FT8, N-FT9, N-FTT10h, N-FTT7h, N-FTT8h, N-FTT9h, N-Fp1, N-Fz, N-Iz, N-O1, N-O2, N-OI1h, N-OI2h, N-Oz, N-P1, N-P2, N-P3, N-P4, N-P5, N-P6, N-P7, N-P8, N-PO3, N-PO4, N-PO7, N-PO8, N-POO1, N-POO10h, N-POO2, N-POO9h, N-POz, N-PPO10h, N-PPO1h, N-PPO2h, N-PPO5h, N-PPO6h, N-PPO9h, N-Pz, N-T7, N-T8, N-TP7, N-TP8, N-TPP10h, N-TPP7h, N-TPP8h, N-TPP9h, N-TTP7h, N-TTP8h, NGY-x, NGY-y, NGY-z, NWR-x, NWR-y, NWR-z, Net_Acc_X(g), Net_Acc_Y(g), Net_Acc_Z(g), Participant_Backpack_Acc_X(g), Participant_Backpack_Acc_Y(g), Participant_Backpack_Acc_Z(g), Participant_Paddle_Acc_X(g), Participant_Paddle_Acc_Y(g), Participant_Paddle_Acc_Z(g), Researcher_Paddle_Acc_X(g), Researcher_Paddle_Acc_Y(g), Researcher_Paddle_Acc_Z(g), SyncPulse(uV), Table_OtherSide_Acc_X(g), Table_OtherSide_Acc_Y(g), Table_OtherSide_Acc_Z(g), Table_ParticipantSide_Acc_X(g), Table_ParticipantSide_Acc_Y(g), Table_ParticipantSide_Acc_Z(g) has changed from V to NA.\n",
      "  raw_eeg.set_channel_types(channel_types)\n"
     ]
    },
    {
     "name": "stdout",
     "output_type": "stream",
     "text": [
      "NOTE: pick_channels() is a legacy function. New code should use inst.pick(...).\n",
      "Reading /data/vladimiroved/realWorldTableTennis/sub-18/eeg/sub-18_task-TableTennis_eeg.fdt\n",
      "Reading 0 ... 1155502  =      0.000 ...  4622.008 secs...\n"
     ]
    },
    {
     "name": "stderr",
     "output_type": "stream",
     "text": [
      "/tmp/ipykernel_1842469/3295343524.py:52: RuntimeWarning: Unknown types found, setting as type EEG:\n",
      "acc: ['CGY-x', 'CGY-y', 'CGY-z', 'CWR-x', 'CWR-y', 'CWR-z', 'NGY-x', 'NGY-y', 'NGY-z', 'NWR-x', 'NWR-y', 'NWR-z']\n",
      "cometas: ['BallMachine_Acc_X(g)', 'BallMachine_Acc_Y(g)', 'BallMachine_Acc_Z(g)', 'IMU1_RMS', 'Imu_1 :W():', 'Imu_1 :X():', 'Imu_1 :Y():', 'Imu_1 :Z():', 'Imu_1_ImuGyro :X(D/s):', 'Imu_1_ImuGyro :Y(D/s):', 'Imu_1_ImuGyro :Z(D/s):', 'Imu_1_ImuMag :X(uT):', 'Imu_1_ImuMag :Y(uT):', 'Imu_1_ImuMag :Z(uT):', 'Imu_2 :W():', 'Imu_2 :X():', 'Imu_2 :Y():', 'Imu_2 :Z():', 'Imu_2_ImuGyro :X(D/s):', 'Imu_2_ImuGyro :Y(D/s):', 'Imu_2_ImuGyro :Z(D/s):', 'Imu_2_ImuMag :X(uT):', 'Imu_2_ImuMag :Y(uT):', 'Imu_2_ImuMag :Z(uT):', 'Imu_4 :W():', 'Imu_4 :X():', 'Imu_4 :Y():', 'Imu_4 :Z():', 'Imu_4_ImuGyro :X(D/s):', 'Imu_4_ImuGyro :Y(D/s):', 'Imu_4_ImuGyro :Z(D/s):', 'Imu_4_ImuMag :X(uT):', 'Imu_4_ImuMag :Y(uT):', 'Imu_4_ImuMag :Z(uT):', 'Net_Acc_X(g)', 'Net_Acc_Y(g)', 'Net_Acc_Z(g)', 'Participant_Backpack_Acc_X(g)', 'Participant_Backpack_Acc_Y(g)', 'Participant_Backpack_Acc_Z(g)', 'Participant_Paddle_Acc_X(g)', 'Participant_Paddle_Acc_Y(g)', 'Participant_Paddle_Acc_Z(g)', 'Researcher_Paddle_Acc_X(g)', 'Researcher_Paddle_Acc_Y(g)', 'Researcher_Paddle_Acc_Z(g)', 'SyncPulse(uV)', 'Table_OtherSide_Acc_X(g)', 'Table_OtherSide_Acc_Y(g)', 'Table_OtherSide_Acc_Z(g)', 'Table_ParticipantSide_Acc_X(g)', 'Table_ParticipantSide_Acc_Y(g)', 'Table_ParticipantSide_Acc_Z(g)']\n",
      "noise: ['N-AF3', 'N-AF4', 'N-AF7', 'N-AF8', 'N-AFF1h', 'N-AFF2h', 'N-AFF5h', 'N-AFF6h', 'N-AFp1', 'N-AFp2', 'N-AFz', 'N-C1', 'N-C2', 'N-C3', 'N-C4', 'N-C5', 'N-C6', 'N-CCP1h', 'N-CCP2h', 'N-CCP3h', 'N-CCP4h', 'N-CCP5h', 'N-CCP6h', 'N-CP1', 'N-CP2', 'N-CP3', 'N-CP4', 'N-CP5', 'N-CP6', 'N-CPP1h', 'N-CPP2h', 'N-CPP3h', 'N-CPP4h', 'N-CPP5h', 'N-CPP6h', 'N-Cz', 'N-F1', 'N-F10', 'N-F2', 'N-F3', 'N-F4', 'N-F5', 'N-F6', 'N-F7', 'N-F8', 'N-F9', 'N-FC1', 'N-FC2', 'N-FC3', 'N-FC4', 'N-FC5', 'N-FC6', 'N-FCC1h', 'N-FCC2h', 'N-FCC3h', 'N-FCC4h', 'N-FCC5h', 'N-FCC6h', 'N-FCz', 'N-FFC1h', 'N-FFC2h', 'N-FFC3h', 'N-FFC4h', 'N-FFC5h', 'N-FFC6h', 'N-FFT10h', 'N-FFT7h', 'N-FFT8h', 'N-FFT9h', 'N-FP2', 'N-FT10', 'N-FT7', 'N-FT8', 'N-FT9', 'N-FTT10h', 'N-FTT7h', 'N-FTT8h', 'N-FTT9h', 'N-Fp1', 'N-Fz', 'N-Iz', 'N-O1', 'N-O2', 'N-OI1h', 'N-OI2h', 'N-Oz', 'N-P1', 'N-P2', 'N-P3', 'N-P4', 'N-P5', 'N-P6', 'N-P7', 'N-P8', 'N-PO3', 'N-PO4', 'N-PO7', 'N-PO8', 'N-POO1', 'N-POO10h', 'N-POO2', 'N-POO9h', 'N-POz', 'N-PPO10h', 'N-PPO1h', 'N-PPO2h', 'N-PPO5h', 'N-PPO6h', 'N-PPO9h', 'N-Pz', 'N-T7', 'N-T8', 'N-TP7', 'N-TP8', 'N-TPP10h', 'N-TPP7h', 'N-TPP8h', 'N-TPP9h', 'N-TTP7h', 'N-TTP8h']\n",
      "  raw_eeg = mne.io.read_raw_eeglab(eeg_dirname + f'sub-{SUB_ID}_task-TableTennis_eeg.set', preload=True)\n",
      "/tmp/ipykernel_1842469/3295343524.py:52: RuntimeWarning: Estimated head radius (11.4 cm) is above the 99th percentile for adult head size. Check if the montage_units argument is correct (the default is \"mm\", but your channel positions may be in different units).\n",
      "  raw_eeg = mne.io.read_raw_eeglab(eeg_dirname + f'sub-{SUB_ID}_task-TableTennis_eeg.set', preload=True)\n",
      "/tmp/ipykernel_1842469/3295343524.py:52: RuntimeWarning: Data file name in EEG.data (sub-18_task-tabletennis_eeg.fdt) is incorrect, the file name must have changed on disk, using the correct file name (sub-18_task-TableTennis_eeg.fdt).\n",
      "  raw_eeg = mne.io.read_raw_eeglab(eeg_dirname + f'sub-{SUB_ID}_task-TableTennis_eeg.set', preload=True)\n",
      "/tmp/ipykernel_1842469/3295343524.py:52: RuntimeWarning: Omitted 1 annotation(s) that were outside data range.\n",
      "  raw_eeg = mne.io.read_raw_eeglab(eeg_dirname + f'sub-{SUB_ID}_task-TableTennis_eeg.set', preload=True)\n",
      "/tmp/ipykernel_1842469/3295343524.py:52: RuntimeWarning: The data contains 'boundary' events, indicating data discontinuities. Be cautious of filtering and epoching around these events.\n",
      "  raw_eeg = mne.io.read_raw_eeglab(eeg_dirname + f'sub-{SUB_ID}_task-TableTennis_eeg.set', preload=True)\n",
      "/tmp/ipykernel_1842469/3295343524.py:52: RuntimeWarning: Not setting positions of 8 emg channels found in montage:\n",
      "['LISCM', 'LSSCM', 'LSTrap', 'LITrap', 'RITrap', 'RISCM', 'RSSCM', 'RSTrap']\n",
      "Consider setting the channel types to be of EEG/sEEG/ECoG/DBS/fNIRS using inst.set_channel_types before calling inst.set_montage, or omit these channels when creating your montage.\n",
      "  raw_eeg = mne.io.read_raw_eeglab(eeg_dirname + f'sub-{SUB_ID}_task-TableTennis_eeg.set', preload=True)\n",
      "/tmp/ipykernel_1842469/3295343524.py:70: RuntimeWarning: The unit for channel(s) BallMachine_Acc_X(g), BallMachine_Acc_Y(g), BallMachine_Acc_Z(g), CGY-x, CGY-y, CGY-z, CWR-x, CWR-y, CWR-z, IMU1_RMS, Imu_1 :W():, Imu_1 :X():, Imu_1 :Y():, Imu_1 :Z():, Imu_1_ImuGyro :X(D/s):, Imu_1_ImuGyro :Y(D/s):, Imu_1_ImuGyro :Z(D/s):, Imu_1_ImuMag :X(uT):, Imu_1_ImuMag :Y(uT):, Imu_1_ImuMag :Z(uT):, Imu_2 :W():, Imu_2 :X():, Imu_2 :Y():, Imu_2 :Z():, Imu_2_ImuGyro :X(D/s):, Imu_2_ImuGyro :Y(D/s):, Imu_2_ImuGyro :Z(D/s):, Imu_2_ImuMag :X(uT):, Imu_2_ImuMag :Y(uT):, Imu_2_ImuMag :Z(uT):, Imu_4 :W():, Imu_4 :X():, Imu_4 :Y():, Imu_4 :Z():, Imu_4_ImuGyro :X(D/s):, Imu_4_ImuGyro :Y(D/s):, Imu_4_ImuGyro :Z(D/s):, Imu_4_ImuMag :X(uT):, Imu_4_ImuMag :Y(uT):, Imu_4_ImuMag :Z(uT):, N-AF3, N-AF4, N-AF7, N-AF8, N-AFF1h, N-AFF2h, N-AFF5h, N-AFF6h, N-AFp1, N-AFp2, N-AFz, N-C1, N-C2, N-C3, N-C4, N-C5, N-C6, N-CCP1h, N-CCP2h, N-CCP3h, N-CCP4h, N-CCP5h, N-CCP6h, N-CP1, N-CP2, N-CP3, N-CP4, N-CP5, N-CP6, N-CPP1h, N-CPP2h, N-CPP3h, N-CPP4h, N-CPP5h, N-CPP6h, N-Cz, N-F1, N-F10, N-F2, N-F3, N-F4, N-F5, N-F6, N-F7, N-F8, N-F9, N-FC1, N-FC2, N-FC3, N-FC4, N-FC5, N-FC6, N-FCC1h, N-FCC2h, N-FCC3h, N-FCC4h, N-FCC5h, N-FCC6h, N-FCz, N-FFC1h, N-FFC2h, N-FFC3h, N-FFC4h, N-FFC5h, N-FFC6h, N-FFT10h, N-FFT7h, N-FFT8h, N-FFT9h, N-FP2, N-FT10, N-FT7, N-FT8, N-FT9, N-FTT10h, N-FTT7h, N-FTT8h, N-FTT9h, N-Fp1, N-Fz, N-Iz, N-O1, N-O2, N-OI1h, N-OI2h, N-Oz, N-P1, N-P2, N-P3, N-P4, N-P5, N-P6, N-P7, N-P8, N-PO3, N-PO4, N-PO7, N-PO8, N-POO1, N-POO10h, N-POO2, N-POO9h, N-POz, N-PPO10h, N-PPO1h, N-PPO2h, N-PPO5h, N-PPO6h, N-PPO9h, N-Pz, N-T7, N-T8, N-TP7, N-TP8, N-TPP10h, N-TPP7h, N-TPP8h, N-TPP9h, N-TTP7h, N-TTP8h, NGY-x, NGY-y, NGY-z, NWR-x, NWR-y, NWR-z, Net_Acc_X(g), Net_Acc_Y(g), Net_Acc_Z(g), Participant_Backpack_Acc_X(g), Participant_Backpack_Acc_Y(g), Participant_Backpack_Acc_Z(g), Participant_Paddle_Acc_X(g), Participant_Paddle_Acc_Y(g), Participant_Paddle_Acc_Z(g), Researcher_Paddle_Acc_X(g), Researcher_Paddle_Acc_Y(g), Researcher_Paddle_Acc_Z(g), SyncPulse(uV), Table_OtherSide_Acc_X(g), Table_OtherSide_Acc_Y(g), Table_OtherSide_Acc_Z(g), Table_ParticipantSide_Acc_X(g), Table_ParticipantSide_Acc_Y(g), Table_ParticipantSide_Acc_Z(g) has changed from V to NA.\n",
      "  raw_eeg.set_channel_types(channel_types)\n"
     ]
    },
    {
     "name": "stdout",
     "output_type": "stream",
     "text": [
      "NOTE: pick_channels() is a legacy function. New code should use inst.pick(...).\n",
      "Reading /data/vladimiroved/realWorldTableTennis/sub-19/eeg/sub-19_task-TableTennis_eeg.fdt\n",
      "Reading 0 ... 1117344  =      0.000 ...  4469.376 secs...\n"
     ]
    },
    {
     "name": "stderr",
     "output_type": "stream",
     "text": [
      "/tmp/ipykernel_1842469/3295343524.py:52: RuntimeWarning: Unknown types found, setting as type EEG:\n",
      "acc: ['CGY-x', 'CGY-y', 'CGY-z', 'CWR-x', 'CWR-y', 'CWR-z', 'NGY-x', 'NGY-y', 'NGY-z', 'NWR-x', 'NWR-y', 'NWR-z']\n",
      "cometas: ['BallMachine_Acc_X(g)', 'BallMachine_Acc_Y(g)', 'BallMachine_Acc_Z(g)', 'IMU1_RMS', 'Imu_1 :W():', 'Imu_1 :X():', 'Imu_1 :Y():', 'Imu_1 :Z():', 'Imu_1_ImuGyro :X(D/s):', 'Imu_1_ImuGyro :Y(D/s):', 'Imu_1_ImuGyro :Z(D/s):', 'Imu_1_ImuMag :X(uT):', 'Imu_1_ImuMag :Y(uT):', 'Imu_1_ImuMag :Z(uT):', 'Imu_2 :W():', 'Imu_2 :X():', 'Imu_2 :Y():', 'Imu_2 :Z():', 'Imu_2_ImuGyro :X(D/s):', 'Imu_2_ImuGyro :Y(D/s):', 'Imu_2_ImuGyro :Z(D/s):', 'Imu_2_ImuMag :X(uT):', 'Imu_2_ImuMag :Y(uT):', 'Imu_2_ImuMag :Z(uT):', 'Imu_4 :W():', 'Imu_4 :X():', 'Imu_4 :Y():', 'Imu_4 :Z():', 'Imu_4_ImuGyro :X(D/s):', 'Imu_4_ImuGyro :Y(D/s):', 'Imu_4_ImuGyro :Z(D/s):', 'Imu_4_ImuMag :X(uT):', 'Imu_4_ImuMag :Y(uT):', 'Imu_4_ImuMag :Z(uT):', 'Net_Acc_X(g)', 'Net_Acc_Y(g)', 'Net_Acc_Z(g)', 'Participant_Backpack_Acc_X(g)', 'Participant_Backpack_Acc_Y(g)', 'Participant_Backpack_Acc_Z(g)', 'Participant_Paddle_Acc_X(g)', 'Participant_Paddle_Acc_Y(g)', 'Participant_Paddle_Acc_Z(g)', 'Researcher_Paddle_Acc_X(g)', 'Researcher_Paddle_Acc_Y(g)', 'Researcher_Paddle_Acc_Z(g)', 'SyncPulse(uV)', 'Table_OtherSide_Acc_X(g)', 'Table_OtherSide_Acc_Y(g)', 'Table_OtherSide_Acc_Z(g)', 'Table_ParticipantSide_Acc_X(g)', 'Table_ParticipantSide_Acc_Y(g)', 'Table_ParticipantSide_Acc_Z(g)']\n",
      "noise: ['N-AF3', 'N-AF4', 'N-AF7', 'N-AF8', 'N-AFF1h', 'N-AFF2h', 'N-AFF5h', 'N-AFF6h', 'N-AFp1', 'N-AFp2', 'N-AFz', 'N-C1', 'N-C2', 'N-C3', 'N-C4', 'N-C5', 'N-C6', 'N-CCP1h', 'N-CCP2h', 'N-CCP3h', 'N-CCP4h', 'N-CCP5h', 'N-CCP6h', 'N-CP1', 'N-CP2', 'N-CP3', 'N-CP4', 'N-CP5', 'N-CP6', 'N-CPP1h', 'N-CPP2h', 'N-CPP3h', 'N-CPP4h', 'N-CPP5h', 'N-CPP6h', 'N-Cz', 'N-F1', 'N-F10', 'N-F2', 'N-F3', 'N-F4', 'N-F5', 'N-F6', 'N-F7', 'N-F8', 'N-F9', 'N-FC1', 'N-FC2', 'N-FC3', 'N-FC4', 'N-FC5', 'N-FC6', 'N-FCC1h', 'N-FCC2h', 'N-FCC3h', 'N-FCC4h', 'N-FCC5h', 'N-FCC6h', 'N-FCz', 'N-FFC1h', 'N-FFC2h', 'N-FFC3h', 'N-FFC4h', 'N-FFC5h', 'N-FFC6h', 'N-FFT10h', 'N-FFT7h', 'N-FFT8h', 'N-FFT9h', 'N-FP2', 'N-FT10', 'N-FT7', 'N-FT8', 'N-FT9', 'N-FTT10h', 'N-FTT7h', 'N-FTT8h', 'N-FTT9h', 'N-Fp1', 'N-Fz', 'N-Iz', 'N-O1', 'N-O2', 'N-OI1h', 'N-OI2h', 'N-Oz', 'N-P1', 'N-P2', 'N-P3', 'N-P4', 'N-P5', 'N-P6', 'N-P7', 'N-P8', 'N-PO3', 'N-PO4', 'N-PO7', 'N-PO8', 'N-POO1', 'N-POO10h', 'N-POO2', 'N-POO9h', 'N-POz', 'N-PPO10h', 'N-PPO1h', 'N-PPO2h', 'N-PPO5h', 'N-PPO6h', 'N-PPO9h', 'N-Pz', 'N-T7', 'N-T8', 'N-TP7', 'N-TP8', 'N-TPP10h', 'N-TPP7h', 'N-TPP8h', 'N-TPP9h', 'N-TTP7h', 'N-TTP8h']\n",
      "  raw_eeg = mne.io.read_raw_eeglab(eeg_dirname + f'sub-{SUB_ID}_task-TableTennis_eeg.set', preload=True)\n",
      "/tmp/ipykernel_1842469/3295343524.py:52: RuntimeWarning: Estimated head radius (11.0 cm) is above the 99th percentile for adult head size. Check if the montage_units argument is correct (the default is \"mm\", but your channel positions may be in different units).\n",
      "  raw_eeg = mne.io.read_raw_eeglab(eeg_dirname + f'sub-{SUB_ID}_task-TableTennis_eeg.set', preload=True)\n",
      "/tmp/ipykernel_1842469/3295343524.py:52: RuntimeWarning: Data file name in EEG.data (sub-19_task-tabletennis_eeg.fdt) is incorrect, the file name must have changed on disk, using the correct file name (sub-19_task-TableTennis_eeg.fdt).\n",
      "  raw_eeg = mne.io.read_raw_eeglab(eeg_dirname + f'sub-{SUB_ID}_task-TableTennis_eeg.set', preload=True)\n",
      "/tmp/ipykernel_1842469/3295343524.py:52: RuntimeWarning: Omitted 1 annotation(s) that were outside data range.\n",
      "  raw_eeg = mne.io.read_raw_eeglab(eeg_dirname + f'sub-{SUB_ID}_task-TableTennis_eeg.set', preload=True)\n",
      "/tmp/ipykernel_1842469/3295343524.py:52: RuntimeWarning: The data contains 'boundary' events, indicating data discontinuities. Be cautious of filtering and epoching around these events.\n",
      "  raw_eeg = mne.io.read_raw_eeglab(eeg_dirname + f'sub-{SUB_ID}_task-TableTennis_eeg.set', preload=True)\n",
      "/tmp/ipykernel_1842469/3295343524.py:52: RuntimeWarning: Not setting positions of 8 emg channels found in montage:\n",
      "['LISCM', 'LSSCM', 'LSTrap', 'LITrap', 'RITrap', 'RISCM', 'RSSCM', 'RSTrap']\n",
      "Consider setting the channel types to be of EEG/sEEG/ECoG/DBS/fNIRS using inst.set_channel_types before calling inst.set_montage, or omit these channels when creating your montage.\n",
      "  raw_eeg = mne.io.read_raw_eeglab(eeg_dirname + f'sub-{SUB_ID}_task-TableTennis_eeg.set', preload=True)\n",
      "/tmp/ipykernel_1842469/3295343524.py:70: RuntimeWarning: The unit for channel(s) BallMachine_Acc_X(g), BallMachine_Acc_Y(g), BallMachine_Acc_Z(g), CGY-x, CGY-y, CGY-z, CWR-x, CWR-y, CWR-z, IMU1_RMS, Imu_1 :W():, Imu_1 :X():, Imu_1 :Y():, Imu_1 :Z():, Imu_1_ImuGyro :X(D/s):, Imu_1_ImuGyro :Y(D/s):, Imu_1_ImuGyro :Z(D/s):, Imu_1_ImuMag :X(uT):, Imu_1_ImuMag :Y(uT):, Imu_1_ImuMag :Z(uT):, Imu_2 :W():, Imu_2 :X():, Imu_2 :Y():, Imu_2 :Z():, Imu_2_ImuGyro :X(D/s):, Imu_2_ImuGyro :Y(D/s):, Imu_2_ImuGyro :Z(D/s):, Imu_2_ImuMag :X(uT):, Imu_2_ImuMag :Y(uT):, Imu_2_ImuMag :Z(uT):, Imu_4 :W():, Imu_4 :X():, Imu_4 :Y():, Imu_4 :Z():, Imu_4_ImuGyro :X(D/s):, Imu_4_ImuGyro :Y(D/s):, Imu_4_ImuGyro :Z(D/s):, Imu_4_ImuMag :X(uT):, Imu_4_ImuMag :Y(uT):, Imu_4_ImuMag :Z(uT):, N-AF3, N-AF4, N-AF7, N-AF8, N-AFF1h, N-AFF2h, N-AFF5h, N-AFF6h, N-AFp1, N-AFp2, N-AFz, N-C1, N-C2, N-C3, N-C4, N-C5, N-C6, N-CCP1h, N-CCP2h, N-CCP3h, N-CCP4h, N-CCP5h, N-CCP6h, N-CP1, N-CP2, N-CP3, N-CP4, N-CP5, N-CP6, N-CPP1h, N-CPP2h, N-CPP3h, N-CPP4h, N-CPP5h, N-CPP6h, N-Cz, N-F1, N-F10, N-F2, N-F3, N-F4, N-F5, N-F6, N-F7, N-F8, N-F9, N-FC1, N-FC2, N-FC3, N-FC4, N-FC5, N-FC6, N-FCC1h, N-FCC2h, N-FCC3h, N-FCC4h, N-FCC5h, N-FCC6h, N-FCz, N-FFC1h, N-FFC2h, N-FFC3h, N-FFC4h, N-FFC5h, N-FFC6h, N-FFT10h, N-FFT7h, N-FFT8h, N-FFT9h, N-FP2, N-FT10, N-FT7, N-FT8, N-FT9, N-FTT10h, N-FTT7h, N-FTT8h, N-FTT9h, N-Fp1, N-Fz, N-Iz, N-O1, N-O2, N-OI1h, N-OI2h, N-Oz, N-P1, N-P2, N-P3, N-P4, N-P5, N-P6, N-P7, N-P8, N-PO3, N-PO4, N-PO7, N-PO8, N-POO1, N-POO10h, N-POO2, N-POO9h, N-POz, N-PPO10h, N-PPO1h, N-PPO2h, N-PPO5h, N-PPO6h, N-PPO9h, N-Pz, N-T7, N-T8, N-TP7, N-TP8, N-TPP10h, N-TPP7h, N-TPP8h, N-TPP9h, N-TTP7h, N-TTP8h, NGY-x, NGY-y, NGY-z, NWR-x, NWR-y, NWR-z, Net_Acc_X(g), Net_Acc_Y(g), Net_Acc_Z(g), Participant_Backpack_Acc_X(g), Participant_Backpack_Acc_Y(g), Participant_Backpack_Acc_Z(g), Participant_Paddle_Acc_X(g), Participant_Paddle_Acc_Y(g), Participant_Paddle_Acc_Z(g), Researcher_Paddle_Acc_X(g), Researcher_Paddle_Acc_Y(g), Researcher_Paddle_Acc_Z(g), SyncPulse(uV), Table_OtherSide_Acc_X(g), Table_OtherSide_Acc_Y(g), Table_OtherSide_Acc_Z(g), Table_ParticipantSide_Acc_X(g), Table_ParticipantSide_Acc_Y(g), Table_ParticipantSide_Acc_Z(g) has changed from V to NA.\n",
      "  raw_eeg.set_channel_types(channel_types)\n"
     ]
    },
    {
     "name": "stdout",
     "output_type": "stream",
     "text": [
      "NOTE: pick_channels() is a legacy function. New code should use inst.pick(...).\n",
      "Reading /data/vladimiroved/realWorldTableTennis/sub-20/eeg/sub-20_task-TableTennis_eeg.fdt\n",
      "Reading 0 ... 916387  =      0.000 ...  3665.548 secs...\n"
     ]
    },
    {
     "name": "stderr",
     "output_type": "stream",
     "text": [
      "/tmp/ipykernel_1842469/3295343524.py:52: RuntimeWarning: Unknown types found, setting as type EEG:\n",
      "acc: ['CGY-x', 'CGY-y', 'CGY-z', 'CWR-x', 'CWR-y', 'CWR-z', 'NGY-x', 'NGY-y', 'NGY-z', 'NWR-x', 'NWR-y', 'NWR-z']\n",
      "cometas: ['BallMachine_Acc_X(g)', 'BallMachine_Acc_Y(g)', 'BallMachine_Acc_Z(g)', 'IMU1_RMS', 'Imu_2 :W():', 'Imu_2 :X():', 'Imu_2 :Y():', 'Imu_2 :Z():', 'Imu_2_ImuGyro :X(D/s):', 'Imu_2_ImuGyro :Y(D/s):', 'Imu_2_ImuGyro :Z(D/s):', 'Imu_2_ImuMag :X(uT):', 'Imu_2_ImuMag :Y(uT):', 'Imu_2_ImuMag :Z(uT):', 'Imu_4 :W():', 'Imu_4 :X():', 'Imu_4 :Y():', 'Imu_4 :Z():', 'Imu_4_ImuGyro :X(D/s):', 'Imu_4_ImuGyro :Y(D/s):', 'Imu_4_ImuGyro :Z(D/s):', 'Imu_4_ImuMag :X(uT):', 'Imu_4_ImuMag :Y(uT):', 'Imu_4_ImuMag :Z(uT):', 'Net_Acc_X(g)', 'Net_Acc_Y(g)', 'Net_Acc_Z(g)', 'Participant_Backpack_Acc_X(g)', 'Participant_Backpack_Acc_Y(g)', 'Participant_Backpack_Acc_Z(g)', 'Participant_Paddle_Acc_X(g)', 'Participant_Paddle_Acc_Y(g)', 'Participant_Paddle_Acc_Z(g)', 'Researcher_Paddle_Acc_X(g)', 'Researcher_Paddle_Acc_Y(g)', 'Researcher_Paddle_Acc_Z(g)', 'SyncPulse(uV)', 'Table_OtherSide_Acc_X(g)', 'Table_OtherSide_Acc_Y(g)', 'Table_OtherSide_Acc_Z(g)', 'Table_ParticipantSide_Acc_X(g)', 'Table_ParticipantSide_Acc_Y(g)', 'Table_ParticipantSide_Acc_Z(g)']\n",
      "noise: ['N-AF3', 'N-AF4', 'N-AF7', 'N-AF8', 'N-AFF1h', 'N-AFF2h', 'N-AFF5h', 'N-AFF6h', 'N-AFp1', 'N-AFp2', 'N-AFz', 'N-C1', 'N-C2', 'N-C3', 'N-C4', 'N-C5', 'N-C6', 'N-CCP1h', 'N-CCP2h', 'N-CCP3h', 'N-CCP4h', 'N-CCP5h', 'N-CCP6h', 'N-CP1', 'N-CP2', 'N-CP3', 'N-CP4', 'N-CP5', 'N-CP6', 'N-CPP1h', 'N-CPP2h', 'N-CPP3h', 'N-CPP4h', 'N-CPP5h', 'N-CPP6h', 'N-Cz', 'N-F1', 'N-F10', 'N-F2', 'N-F3', 'N-F4', 'N-F5', 'N-F6', 'N-F7', 'N-F8', 'N-F9', 'N-FC1', 'N-FC2', 'N-FC3', 'N-FC4', 'N-FC5', 'N-FC6', 'N-FCC1h', 'N-FCC2h', 'N-FCC3h', 'N-FCC4h', 'N-FCC5h', 'N-FCC6h', 'N-FCz', 'N-FFC1h', 'N-FFC2h', 'N-FFC3h', 'N-FFC4h', 'N-FFC5h', 'N-FFC6h', 'N-FFT10h', 'N-FFT7h', 'N-FFT8h', 'N-FFT9h', 'N-FP2', 'N-FT10', 'N-FT7', 'N-FT8', 'N-FT9', 'N-FTT10h', 'N-FTT7h', 'N-FTT8h', 'N-FTT9h', 'N-Fp1', 'N-Fz', 'N-Iz', 'N-O1', 'N-O2', 'N-OI1h', 'N-OI2h', 'N-Oz', 'N-P1', 'N-P2', 'N-P3', 'N-P4', 'N-P5', 'N-P6', 'N-P7', 'N-P8', 'N-PO3', 'N-PO4', 'N-PO7', 'N-PO8', 'N-POO1', 'N-POO10h', 'N-POO2', 'N-POO9h', 'N-POz', 'N-PPO10h', 'N-PPO1h', 'N-PPO2h', 'N-PPO5h', 'N-PPO6h', 'N-PPO9h', 'N-Pz', 'N-T7', 'N-T8', 'N-TP7', 'N-TP8', 'N-TPP10h', 'N-TPP7h', 'N-TPP8h', 'N-TPP9h', 'N-TTP7h', 'N-TTP8h']\n",
      "  raw_eeg = mne.io.read_raw_eeglab(eeg_dirname + f'sub-{SUB_ID}_task-TableTennis_eeg.set', preload=True)\n",
      "/tmp/ipykernel_1842469/3295343524.py:52: RuntimeWarning: Estimated head radius (11.1 cm) is above the 99th percentile for adult head size. Check if the montage_units argument is correct (the default is \"mm\", but your channel positions may be in different units).\n",
      "  raw_eeg = mne.io.read_raw_eeglab(eeg_dirname + f'sub-{SUB_ID}_task-TableTennis_eeg.set', preload=True)\n",
      "/tmp/ipykernel_1842469/3295343524.py:52: RuntimeWarning: Data file name in EEG.data (sub-20_task-tabletennis_eeg.fdt) is incorrect, the file name must have changed on disk, using the correct file name (sub-20_task-TableTennis_eeg.fdt).\n",
      "  raw_eeg = mne.io.read_raw_eeglab(eeg_dirname + f'sub-{SUB_ID}_task-TableTennis_eeg.set', preload=True)\n",
      "/tmp/ipykernel_1842469/3295343524.py:52: RuntimeWarning: Omitted 1 annotation(s) that were outside data range.\n",
      "  raw_eeg = mne.io.read_raw_eeglab(eeg_dirname + f'sub-{SUB_ID}_task-TableTennis_eeg.set', preload=True)\n",
      "/tmp/ipykernel_1842469/3295343524.py:52: RuntimeWarning: The data contains 'boundary' events, indicating data discontinuities. Be cautious of filtering and epoching around these events.\n",
      "  raw_eeg = mne.io.read_raw_eeglab(eeg_dirname + f'sub-{SUB_ID}_task-TableTennis_eeg.set', preload=True)\n",
      "/tmp/ipykernel_1842469/3295343524.py:52: RuntimeWarning: Not setting positions of 8 emg channels found in montage:\n",
      "['LISCM', 'LSSCM', 'LSTrap', 'LITrap', 'RITrap', 'RISCM', 'RSSCM', 'RSTrap']\n",
      "Consider setting the channel types to be of EEG/sEEG/ECoG/DBS/fNIRS using inst.set_channel_types before calling inst.set_montage, or omit these channels when creating your montage.\n",
      "  raw_eeg = mne.io.read_raw_eeglab(eeg_dirname + f'sub-{SUB_ID}_task-TableTennis_eeg.set', preload=True)\n",
      "/tmp/ipykernel_1842469/3295343524.py:70: RuntimeWarning: The unit for channel(s) BallMachine_Acc_X(g), BallMachine_Acc_Y(g), BallMachine_Acc_Z(g), CGY-x, CGY-y, CGY-z, CWR-x, CWR-y, CWR-z, IMU1_RMS, Imu_2 :W():, Imu_2 :X():, Imu_2 :Y():, Imu_2 :Z():, Imu_2_ImuGyro :X(D/s):, Imu_2_ImuGyro :Y(D/s):, Imu_2_ImuGyro :Z(D/s):, Imu_2_ImuMag :X(uT):, Imu_2_ImuMag :Y(uT):, Imu_2_ImuMag :Z(uT):, Imu_4 :W():, Imu_4 :X():, Imu_4 :Y():, Imu_4 :Z():, Imu_4_ImuGyro :X(D/s):, Imu_4_ImuGyro :Y(D/s):, Imu_4_ImuGyro :Z(D/s):, Imu_4_ImuMag :X(uT):, Imu_4_ImuMag :Y(uT):, Imu_4_ImuMag :Z(uT):, N-AF3, N-AF4, N-AF7, N-AF8, N-AFF1h, N-AFF2h, N-AFF5h, N-AFF6h, N-AFp1, N-AFp2, N-AFz, N-C1, N-C2, N-C3, N-C4, N-C5, N-C6, N-CCP1h, N-CCP2h, N-CCP3h, N-CCP4h, N-CCP5h, N-CCP6h, N-CP1, N-CP2, N-CP3, N-CP4, N-CP5, N-CP6, N-CPP1h, N-CPP2h, N-CPP3h, N-CPP4h, N-CPP5h, N-CPP6h, N-Cz, N-F1, N-F10, N-F2, N-F3, N-F4, N-F5, N-F6, N-F7, N-F8, N-F9, N-FC1, N-FC2, N-FC3, N-FC4, N-FC5, N-FC6, N-FCC1h, N-FCC2h, N-FCC3h, N-FCC4h, N-FCC5h, N-FCC6h, N-FCz, N-FFC1h, N-FFC2h, N-FFC3h, N-FFC4h, N-FFC5h, N-FFC6h, N-FFT10h, N-FFT7h, N-FFT8h, N-FFT9h, N-FP2, N-FT10, N-FT7, N-FT8, N-FT9, N-FTT10h, N-FTT7h, N-FTT8h, N-FTT9h, N-Fp1, N-Fz, N-Iz, N-O1, N-O2, N-OI1h, N-OI2h, N-Oz, N-P1, N-P2, N-P3, N-P4, N-P5, N-P6, N-P7, N-P8, N-PO3, N-PO4, N-PO7, N-PO8, N-POO1, N-POO10h, N-POO2, N-POO9h, N-POz, N-PPO10h, N-PPO1h, N-PPO2h, N-PPO5h, N-PPO6h, N-PPO9h, N-Pz, N-T7, N-T8, N-TP7, N-TP8, N-TPP10h, N-TPP7h, N-TPP8h, N-TPP9h, N-TTP7h, N-TTP8h, NGY-x, NGY-y, NGY-z, NWR-x, NWR-y, NWR-z, Net_Acc_X(g), Net_Acc_Y(g), Net_Acc_Z(g), Participant_Backpack_Acc_X(g), Participant_Backpack_Acc_Y(g), Participant_Backpack_Acc_Z(g), Participant_Paddle_Acc_X(g), Participant_Paddle_Acc_Y(g), Participant_Paddle_Acc_Z(g), Researcher_Paddle_Acc_X(g), Researcher_Paddle_Acc_Y(g), Researcher_Paddle_Acc_Z(g), SyncPulse(uV), Table_OtherSide_Acc_X(g), Table_OtherSide_Acc_Y(g), Table_OtherSide_Acc_Z(g), Table_ParticipantSide_Acc_X(g), Table_ParticipantSide_Acc_Y(g), Table_ParticipantSide_Acc_Z(g) has changed from V to NA.\n",
      "  raw_eeg.set_channel_types(channel_types)\n"
     ]
    },
    {
     "name": "stdout",
     "output_type": "stream",
     "text": [
      "NOTE: pick_channels() is a legacy function. New code should use inst.pick(...).\n",
      "Reading /data/vladimiroved/realWorldTableTennis/sub-21/eeg/sub-21_task-TableTennis_eeg.fdt\n",
      "Reading 0 ... 1128360  =      0.000 ...  4513.440 secs...\n"
     ]
    },
    {
     "name": "stderr",
     "output_type": "stream",
     "text": [
      "/tmp/ipykernel_1842469/3295343524.py:52: RuntimeWarning: Unknown types found, setting as type EEG:\n",
      "acc: ['CGY-x', 'CGY-y', 'CGY-z', 'CWR-x', 'CWR-y', 'CWR-z', 'NGY-x', 'NGY-y', 'NGY-z', 'NWR-x', 'NWR-y', 'NWR-z']\n",
      "cometas: ['BallMachine_Acc_X(g)', 'BallMachine_Acc_Y(g)', 'BallMachine_Acc_Z(g)', 'IMU1_RMS', 'Imu_1 :W():', 'Imu_1 :X():', 'Imu_1 :Y():', 'Imu_1 :Z():', 'Imu_1_ImuGyro :X(D/s):', 'Imu_1_ImuGyro :Y(D/s):', 'Imu_1_ImuGyro :Z(D/s):', 'Imu_1_ImuMag :X(uT):', 'Imu_1_ImuMag :Y(uT):', 'Imu_1_ImuMag :Z(uT):', 'Imu_2 :W():', 'Imu_2 :X():', 'Imu_2 :Y():', 'Imu_2 :Z():', 'Imu_2_ImuGyro :X(D/s):', 'Imu_2_ImuGyro :Y(D/s):', 'Imu_2_ImuGyro :Z(D/s):', 'Imu_2_ImuMag :X(uT):', 'Imu_2_ImuMag :Y(uT):', 'Imu_2_ImuMag :Z(uT):', 'Imu_4 :W():', 'Imu_4 :X():', 'Imu_4 :Y():', 'Imu_4 :Z():', 'Imu_4_ImuGyro :X(D/s):', 'Imu_4_ImuGyro :Y(D/s):', 'Imu_4_ImuGyro :Z(D/s):', 'Imu_4_ImuMag :X(uT):', 'Imu_4_ImuMag :Y(uT):', 'Imu_4_ImuMag :Z(uT):', 'Net_Acc_X(g)', 'Net_Acc_Y(g)', 'Net_Acc_Z(g)', 'Participant_Backpack_Acc_X(g)', 'Participant_Backpack_Acc_Y(g)', 'Participant_Backpack_Acc_Z(g)', 'Participant_Paddle_Acc_X(g)', 'Participant_Paddle_Acc_Y(g)', 'Participant_Paddle_Acc_Z(g)', 'Researcher_Paddle_Acc_X(g)', 'Researcher_Paddle_Acc_Y(g)', 'Researcher_Paddle_Acc_Z(g)', 'SyncPulse(uV)', 'Table_OtherSide_Acc_X(g)', 'Table_OtherSide_Acc_Y(g)', 'Table_OtherSide_Acc_Z(g)', 'Table_ParticipantSide_Acc_X(g)', 'Table_ParticipantSide_Acc_Y(g)', 'Table_ParticipantSide_Acc_Z(g)']\n",
      "noise: ['N-AF3', 'N-AF4', 'N-AF7', 'N-AF8', 'N-AFF1h', 'N-AFF2h', 'N-AFF5h', 'N-AFF6h', 'N-AFp1', 'N-AFp2', 'N-AFz', 'N-C1', 'N-C2', 'N-C3', 'N-C4', 'N-C5', 'N-C6', 'N-CCP1h', 'N-CCP2h', 'N-CCP3h', 'N-CCP4h', 'N-CCP5h', 'N-CCP6h', 'N-CP1', 'N-CP2', 'N-CP3', 'N-CP4', 'N-CP5', 'N-CP6', 'N-CPP1h', 'N-CPP2h', 'N-CPP3h', 'N-CPP4h', 'N-CPP5h', 'N-CPP6h', 'N-Cz', 'N-F1', 'N-F10', 'N-F2', 'N-F3', 'N-F4', 'N-F5', 'N-F6', 'N-F7', 'N-F8', 'N-F9', 'N-FC1', 'N-FC2', 'N-FC3', 'N-FC4', 'N-FC5', 'N-FC6', 'N-FCC1h', 'N-FCC2h', 'N-FCC3h', 'N-FCC4h', 'N-FCC5h', 'N-FCC6h', 'N-FCz', 'N-FFC1h', 'N-FFC2h', 'N-FFC3h', 'N-FFC4h', 'N-FFC5h', 'N-FFC6h', 'N-FFT10h', 'N-FFT7h', 'N-FFT8h', 'N-FFT9h', 'N-FP2', 'N-FT10', 'N-FT7', 'N-FT8', 'N-FT9', 'N-FTT10h', 'N-FTT7h', 'N-FTT8h', 'N-FTT9h', 'N-Fp1', 'N-Fz', 'N-Iz', 'N-O1', 'N-O2', 'N-OI1h', 'N-OI2h', 'N-Oz', 'N-P1', 'N-P2', 'N-P3', 'N-P4', 'N-P5', 'N-P6', 'N-P7', 'N-P8', 'N-PO3', 'N-PO4', 'N-PO7', 'N-PO8', 'N-POO1', 'N-POO10h', 'N-POO2', 'N-POO9h', 'N-POz', 'N-PPO10h', 'N-PPO1h', 'N-PPO2h', 'N-PPO5h', 'N-PPO6h', 'N-PPO9h', 'N-Pz', 'N-T7', 'N-T8', 'N-TP7', 'N-TP8', 'N-TPP10h', 'N-TPP7h', 'N-TPP8h', 'N-TPP9h', 'N-TTP7h', 'N-TTP8h']\n",
      "  raw_eeg = mne.io.read_raw_eeglab(eeg_dirname + f'sub-{SUB_ID}_task-TableTennis_eeg.set', preload=True)\n",
      "/tmp/ipykernel_1842469/3295343524.py:52: RuntimeWarning: Estimated head radius (11.3 cm) is above the 99th percentile for adult head size. Check if the montage_units argument is correct (the default is \"mm\", but your channel positions may be in different units).\n",
      "  raw_eeg = mne.io.read_raw_eeglab(eeg_dirname + f'sub-{SUB_ID}_task-TableTennis_eeg.set', preload=True)\n",
      "/tmp/ipykernel_1842469/3295343524.py:52: RuntimeWarning: Data file name in EEG.data (sub-21_task-tabletennis_eeg.fdt) is incorrect, the file name must have changed on disk, using the correct file name (sub-21_task-TableTennis_eeg.fdt).\n",
      "  raw_eeg = mne.io.read_raw_eeglab(eeg_dirname + f'sub-{SUB_ID}_task-TableTennis_eeg.set', preload=True)\n",
      "/tmp/ipykernel_1842469/3295343524.py:52: RuntimeWarning: Omitted 1 annotation(s) that were outside data range.\n",
      "  raw_eeg = mne.io.read_raw_eeglab(eeg_dirname + f'sub-{SUB_ID}_task-TableTennis_eeg.set', preload=True)\n",
      "/tmp/ipykernel_1842469/3295343524.py:52: RuntimeWarning: The data contains 'boundary' events, indicating data discontinuities. Be cautious of filtering and epoching around these events.\n",
      "  raw_eeg = mne.io.read_raw_eeglab(eeg_dirname + f'sub-{SUB_ID}_task-TableTennis_eeg.set', preload=True)\n",
      "/tmp/ipykernel_1842469/3295343524.py:52: RuntimeWarning: Not setting positions of 8 emg channels found in montage:\n",
      "['LISCM', 'LSSCM', 'LSTrap', 'LITrap', 'RITrap', 'RISCM', 'RSSCM', 'RSTrap']\n",
      "Consider setting the channel types to be of EEG/sEEG/ECoG/DBS/fNIRS using inst.set_channel_types before calling inst.set_montage, or omit these channels when creating your montage.\n",
      "  raw_eeg = mne.io.read_raw_eeglab(eeg_dirname + f'sub-{SUB_ID}_task-TableTennis_eeg.set', preload=True)\n",
      "/tmp/ipykernel_1842469/3295343524.py:70: RuntimeWarning: The unit for channel(s) BallMachine_Acc_X(g), BallMachine_Acc_Y(g), BallMachine_Acc_Z(g), CGY-x, CGY-y, CGY-z, CWR-x, CWR-y, CWR-z, IMU1_RMS, Imu_1 :W():, Imu_1 :X():, Imu_1 :Y():, Imu_1 :Z():, Imu_1_ImuGyro :X(D/s):, Imu_1_ImuGyro :Y(D/s):, Imu_1_ImuGyro :Z(D/s):, Imu_1_ImuMag :X(uT):, Imu_1_ImuMag :Y(uT):, Imu_1_ImuMag :Z(uT):, Imu_2 :W():, Imu_2 :X():, Imu_2 :Y():, Imu_2 :Z():, Imu_2_ImuGyro :X(D/s):, Imu_2_ImuGyro :Y(D/s):, Imu_2_ImuGyro :Z(D/s):, Imu_2_ImuMag :X(uT):, Imu_2_ImuMag :Y(uT):, Imu_2_ImuMag :Z(uT):, Imu_4 :W():, Imu_4 :X():, Imu_4 :Y():, Imu_4 :Z():, Imu_4_ImuGyro :X(D/s):, Imu_4_ImuGyro :Y(D/s):, Imu_4_ImuGyro :Z(D/s):, Imu_4_ImuMag :X(uT):, Imu_4_ImuMag :Y(uT):, Imu_4_ImuMag :Z(uT):, N-AF3, N-AF4, N-AF7, N-AF8, N-AFF1h, N-AFF2h, N-AFF5h, N-AFF6h, N-AFp1, N-AFp2, N-AFz, N-C1, N-C2, N-C3, N-C4, N-C5, N-C6, N-CCP1h, N-CCP2h, N-CCP3h, N-CCP4h, N-CCP5h, N-CCP6h, N-CP1, N-CP2, N-CP3, N-CP4, N-CP5, N-CP6, N-CPP1h, N-CPP2h, N-CPP3h, N-CPP4h, N-CPP5h, N-CPP6h, N-Cz, N-F1, N-F10, N-F2, N-F3, N-F4, N-F5, N-F6, N-F7, N-F8, N-F9, N-FC1, N-FC2, N-FC3, N-FC4, N-FC5, N-FC6, N-FCC1h, N-FCC2h, N-FCC3h, N-FCC4h, N-FCC5h, N-FCC6h, N-FCz, N-FFC1h, N-FFC2h, N-FFC3h, N-FFC4h, N-FFC5h, N-FFC6h, N-FFT10h, N-FFT7h, N-FFT8h, N-FFT9h, N-FP2, N-FT10, N-FT7, N-FT8, N-FT9, N-FTT10h, N-FTT7h, N-FTT8h, N-FTT9h, N-Fp1, N-Fz, N-Iz, N-O1, N-O2, N-OI1h, N-OI2h, N-Oz, N-P1, N-P2, N-P3, N-P4, N-P5, N-P6, N-P7, N-P8, N-PO3, N-PO4, N-PO7, N-PO8, N-POO1, N-POO10h, N-POO2, N-POO9h, N-POz, N-PPO10h, N-PPO1h, N-PPO2h, N-PPO5h, N-PPO6h, N-PPO9h, N-Pz, N-T7, N-T8, N-TP7, N-TP8, N-TPP10h, N-TPP7h, N-TPP8h, N-TPP9h, N-TTP7h, N-TTP8h, NGY-x, NGY-y, NGY-z, NWR-x, NWR-y, NWR-z, Net_Acc_X(g), Net_Acc_Y(g), Net_Acc_Z(g), Participant_Backpack_Acc_X(g), Participant_Backpack_Acc_Y(g), Participant_Backpack_Acc_Z(g), Participant_Paddle_Acc_X(g), Participant_Paddle_Acc_Y(g), Participant_Paddle_Acc_Z(g), Researcher_Paddle_Acc_X(g), Researcher_Paddle_Acc_Y(g), Researcher_Paddle_Acc_Z(g), SyncPulse(uV), Table_OtherSide_Acc_X(g), Table_OtherSide_Acc_Y(g), Table_OtherSide_Acc_Z(g), Table_ParticipantSide_Acc_X(g), Table_ParticipantSide_Acc_Y(g), Table_ParticipantSide_Acc_Z(g) has changed from V to NA.\n",
      "  raw_eeg.set_channel_types(channel_types)\n"
     ]
    },
    {
     "name": "stdout",
     "output_type": "stream",
     "text": [
      "NOTE: pick_channels() is a legacy function. New code should use inst.pick(...).\n",
      "Reading /data/vladimiroved/realWorldTableTennis/sub-22/eeg/sub-22_task-TableTennis_eeg.fdt\n",
      "Reading 0 ... 1108946  =      0.000 ...  4435.784 secs...\n"
     ]
    },
    {
     "name": "stderr",
     "output_type": "stream",
     "text": [
      "/tmp/ipykernel_1842469/3295343524.py:52: RuntimeWarning: Unknown types found, setting as type EEG:\n",
      "acc: ['CGY-x', 'CGY-y', 'CGY-z', 'CWR-x', 'CWR-y', 'CWR-z', 'NGY-x', 'NGY-y', 'NGY-z', 'NWR-x', 'NWR-y', 'NWR-z']\n",
      "cometas: ['BallMachine_Acc_X(g)', 'BallMachine_Acc_Y(g)', 'BallMachine_Acc_Z(g)', 'IMU1_RMS', 'Imu_1 :W():', 'Imu_1 :X():', 'Imu_1 :Y():', 'Imu_1 :Z():', 'Imu_1_ImuAcc :X(g):', 'Imu_1_ImuAcc :Y(g):', 'Imu_1_ImuAcc :Z(g):', 'Imu_1_ImuGyro :X(D/s):', 'Imu_1_ImuGyro :Y(D/s):', 'Imu_1_ImuGyro :Z(D/s):', 'Imu_1_ImuMag :X(uT):', 'Imu_1_ImuMag :Y(uT):', 'Imu_1_ImuMag :Z(uT):', 'Imu_2 :W():', 'Imu_2 :X():', 'Imu_2 :Y():', 'Imu_2 :Z():', 'Imu_2_ImuGyro :X(D/s):', 'Imu_2_ImuGyro :Y(D/s):', 'Imu_2_ImuGyro :Z(D/s):', 'Imu_2_ImuMag :X(uT):', 'Imu_2_ImuMag :Y(uT):', 'Imu_2_ImuMag :Z(uT):', 'Imu_4 :W():', 'Imu_4 :X():', 'Imu_4 :Y():', 'Imu_4 :Z():', 'Imu_4_ImuGyro :X(D/s):', 'Imu_4_ImuGyro :Y(D/s):', 'Imu_4_ImuGyro :Z(D/s):', 'Imu_4_ImuMag :X(uT):', 'Imu_4_ImuMag :Y(uT):', 'Imu_4_ImuMag :Z(uT):', 'Imu_6_ImuAcc :X(g):', 'Imu_6_ImuAcc :Y(g):', 'Imu_6_ImuAcc :Z(g):', 'Imu_7_ImuAcc :X(g):', 'Imu_7_ImuAcc :Y(g):', 'Imu_7_ImuAcc :Z(g):', 'Net_Acc_X(g)', 'Net_Acc_Y(g)', 'Net_Acc_Z(g)', 'Participant_Paddle_Acc_X(g)', 'Participant_Paddle_Acc_Y(g)', 'Participant_Paddle_Acc_Z(g)', 'Researcher_Paddle_Acc_X(g)', 'Researcher_Paddle_Acc_Y(g)', 'Researcher_Paddle_Acc_Z(g)', 'SyncPulse(uV)']\n",
      "noise: ['N-AF3', 'N-AF4', 'N-AF7', 'N-AF8', 'N-AFF1h', 'N-AFF2h', 'N-AFF5h', 'N-AFF6h', 'N-AFp1', 'N-AFp2', 'N-AFz', 'N-C1', 'N-C2', 'N-C3', 'N-C4', 'N-C5', 'N-C6', 'N-CCP1h', 'N-CCP2h', 'N-CCP3h', 'N-CCP4h', 'N-CCP5h', 'N-CCP6h', 'N-CP1', 'N-CP2', 'N-CP3', 'N-CP4', 'N-CP5', 'N-CP6', 'N-CPP1h', 'N-CPP2h', 'N-CPP3h', 'N-CPP4h', 'N-CPP5h', 'N-CPP6h', 'N-Cz', 'N-F1', 'N-F10', 'N-F2', 'N-F3', 'N-F4', 'N-F5', 'N-F6', 'N-F7', 'N-F8', 'N-F9', 'N-FC1', 'N-FC2', 'N-FC3', 'N-FC4', 'N-FC5', 'N-FC6', 'N-FCC1h', 'N-FCC2h', 'N-FCC3h', 'N-FCC4h', 'N-FCC5h', 'N-FCC6h', 'N-FCz', 'N-FFC1h', 'N-FFC2h', 'N-FFC3h', 'N-FFC4h', 'N-FFC5h', 'N-FFC6h', 'N-FFT10h', 'N-FFT7h', 'N-FFT8h', 'N-FFT9h', 'N-FP2', 'N-FT10', 'N-FT7', 'N-FT8', 'N-FT9', 'N-FTT10h', 'N-FTT7h', 'N-FTT8h', 'N-FTT9h', 'N-Fp1', 'N-Fz', 'N-Iz', 'N-O1', 'N-O2', 'N-OI1h', 'N-OI2h', 'N-Oz', 'N-P1', 'N-P2', 'N-P3', 'N-P4', 'N-P5', 'N-P6', 'N-P7', 'N-P8', 'N-PO3', 'N-PO4', 'N-PO7', 'N-PO8', 'N-POO1', 'N-POO10h', 'N-POO2', 'N-POO9h', 'N-POz', 'N-PPO10h', 'N-PPO1h', 'N-PPO2h', 'N-PPO5h', 'N-PPO6h', 'N-PPO9h', 'N-Pz', 'N-T7', 'N-T8', 'N-TP7', 'N-TP8', 'N-TPP10h', 'N-TPP7h', 'N-TPP8h', 'N-TPP9h', 'N-TTP7h', 'N-TTP8h']\n",
      "  raw_eeg = mne.io.read_raw_eeglab(eeg_dirname + f'sub-{SUB_ID}_task-TableTennis_eeg.set', preload=True)\n",
      "/tmp/ipykernel_1842469/3295343524.py:52: RuntimeWarning: Estimated head radius (11.0 cm) is above the 99th percentile for adult head size. Check if the montage_units argument is correct (the default is \"mm\", but your channel positions may be in different units).\n",
      "  raw_eeg = mne.io.read_raw_eeglab(eeg_dirname + f'sub-{SUB_ID}_task-TableTennis_eeg.set', preload=True)\n",
      "/tmp/ipykernel_1842469/3295343524.py:52: RuntimeWarning: Data file name in EEG.data (sub-22_task-tabletennis_eeg.fdt) is incorrect, the file name must have changed on disk, using the correct file name (sub-22_task-TableTennis_eeg.fdt).\n",
      "  raw_eeg = mne.io.read_raw_eeglab(eeg_dirname + f'sub-{SUB_ID}_task-TableTennis_eeg.set', preload=True)\n",
      "/tmp/ipykernel_1842469/3295343524.py:52: RuntimeWarning: Omitted 1 annotation(s) that were outside data range.\n",
      "  raw_eeg = mne.io.read_raw_eeglab(eeg_dirname + f'sub-{SUB_ID}_task-TableTennis_eeg.set', preload=True)\n",
      "/tmp/ipykernel_1842469/3295343524.py:52: RuntimeWarning: The data contains 'boundary' events, indicating data discontinuities. Be cautious of filtering and epoching around these events.\n",
      "  raw_eeg = mne.io.read_raw_eeglab(eeg_dirname + f'sub-{SUB_ID}_task-TableTennis_eeg.set', preload=True)\n",
      "/tmp/ipykernel_1842469/3295343524.py:52: RuntimeWarning: Not setting positions of 8 emg channels found in montage:\n",
      "['LISCM', 'LSSCM', 'LSTrap', 'LITrap', 'RITrap', 'RISCM', 'RSSCM', 'RSTrap']\n",
      "Consider setting the channel types to be of EEG/sEEG/ECoG/DBS/fNIRS using inst.set_channel_types before calling inst.set_montage, or omit these channels when creating your montage.\n",
      "  raw_eeg = mne.io.read_raw_eeglab(eeg_dirname + f'sub-{SUB_ID}_task-TableTennis_eeg.set', preload=True)\n",
      "/tmp/ipykernel_1842469/3295343524.py:70: RuntimeWarning: The unit for channel(s) BallMachine_Acc_X(g), BallMachine_Acc_Y(g), BallMachine_Acc_Z(g), CGY-x, CGY-y, CGY-z, CWR-x, CWR-y, CWR-z, IMU1_RMS, Imu_1 :W():, Imu_1 :X():, Imu_1 :Y():, Imu_1 :Z():, Imu_1_ImuAcc :X(g):, Imu_1_ImuAcc :Y(g):, Imu_1_ImuAcc :Z(g):, Imu_1_ImuGyro :X(D/s):, Imu_1_ImuGyro :Y(D/s):, Imu_1_ImuGyro :Z(D/s):, Imu_1_ImuMag :X(uT):, Imu_1_ImuMag :Y(uT):, Imu_1_ImuMag :Z(uT):, Imu_2 :W():, Imu_2 :X():, Imu_2 :Y():, Imu_2 :Z():, Imu_2_ImuGyro :X(D/s):, Imu_2_ImuGyro :Y(D/s):, Imu_2_ImuGyro :Z(D/s):, Imu_2_ImuMag :X(uT):, Imu_2_ImuMag :Y(uT):, Imu_2_ImuMag :Z(uT):, Imu_4 :W():, Imu_4 :X():, Imu_4 :Y():, Imu_4 :Z():, Imu_4_ImuGyro :X(D/s):, Imu_4_ImuGyro :Y(D/s):, Imu_4_ImuGyro :Z(D/s):, Imu_4_ImuMag :X(uT):, Imu_4_ImuMag :Y(uT):, Imu_4_ImuMag :Z(uT):, Imu_6_ImuAcc :X(g):, Imu_6_ImuAcc :Y(g):, Imu_6_ImuAcc :Z(g):, Imu_7_ImuAcc :X(g):, Imu_7_ImuAcc :Y(g):, Imu_7_ImuAcc :Z(g):, N-AF3, N-AF4, N-AF7, N-AF8, N-AFF1h, N-AFF2h, N-AFF5h, N-AFF6h, N-AFp1, N-AFp2, N-AFz, N-C1, N-C2, N-C3, N-C4, N-C5, N-C6, N-CCP1h, N-CCP2h, N-CCP3h, N-CCP4h, N-CCP5h, N-CCP6h, N-CP1, N-CP2, N-CP3, N-CP4, N-CP5, N-CP6, N-CPP1h, N-CPP2h, N-CPP3h, N-CPP4h, N-CPP5h, N-CPP6h, N-Cz, N-F1, N-F10, N-F2, N-F3, N-F4, N-F5, N-F6, N-F7, N-F8, N-F9, N-FC1, N-FC2, N-FC3, N-FC4, N-FC5, N-FC6, N-FCC1h, N-FCC2h, N-FCC3h, N-FCC4h, N-FCC5h, N-FCC6h, N-FCz, N-FFC1h, N-FFC2h, N-FFC3h, N-FFC4h, N-FFC5h, N-FFC6h, N-FFT10h, N-FFT7h, N-FFT8h, N-FFT9h, N-FP2, N-FT10, N-FT7, N-FT8, N-FT9, N-FTT10h, N-FTT7h, N-FTT8h, N-FTT9h, N-Fp1, N-Fz, N-Iz, N-O1, N-O2, N-OI1h, N-OI2h, N-Oz, N-P1, N-P2, N-P3, N-P4, N-P5, N-P6, N-P7, N-P8, N-PO3, N-PO4, N-PO7, N-PO8, N-POO1, N-POO10h, N-POO2, N-POO9h, N-POz, N-PPO10h, N-PPO1h, N-PPO2h, N-PPO5h, N-PPO6h, N-PPO9h, N-Pz, N-T7, N-T8, N-TP7, N-TP8, N-TPP10h, N-TPP7h, N-TPP8h, N-TPP9h, N-TTP7h, N-TTP8h, NGY-x, NGY-y, NGY-z, NWR-x, NWR-y, NWR-z, Net_Acc_X(g), Net_Acc_Y(g), Net_Acc_Z(g), Participant_Paddle_Acc_X(g), Participant_Paddle_Acc_Y(g), Participant_Paddle_Acc_Z(g), Researcher_Paddle_Acc_X(g), Researcher_Paddle_Acc_Y(g), Researcher_Paddle_Acc_Z(g), SyncPulse(uV) has changed from V to NA.\n",
      "  raw_eeg.set_channel_types(channel_types)\n"
     ]
    },
    {
     "name": "stdout",
     "output_type": "stream",
     "text": [
      "NOTE: pick_channels() is a legacy function. New code should use inst.pick(...).\n",
      "Reading /data/vladimiroved/realWorldTableTennis/sub-23/eeg/sub-23_task-TableTennis_eeg.fdt\n",
      "Reading 0 ... 1053820  =      0.000 ...  4215.280 secs...\n"
     ]
    },
    {
     "name": "stderr",
     "output_type": "stream",
     "text": [
      "/tmp/ipykernel_1842469/3295343524.py:52: RuntimeWarning: Unknown types found, setting as type EEG:\n",
      "acc: ['CGY-x', 'CGY-y', 'CGY-z', 'CWR-x', 'CWR-y', 'CWR-z', 'NGY-x', 'NGY-y', 'NGY-z', 'NWR-x', 'NWR-y', 'NWR-z']\n",
      "cometas: ['BallMachine_Acc_X(g)', 'BallMachine_Acc_Y(g)', 'BallMachine_Acc_Z(g)', 'IMU1_RMS', 'Imu_1 :W():', 'Imu_1 :X():', 'Imu_1 :Y():', 'Imu_1 :Z():', 'Imu_1_ImuGyro :X(D/s):', 'Imu_1_ImuGyro :Y(D/s):', 'Imu_1_ImuGyro :Z(D/s):', 'Imu_1_ImuMag :X(uT):', 'Imu_1_ImuMag :Y(uT):', 'Imu_1_ImuMag :Z(uT):', 'Imu_2 :W():', 'Imu_2 :X():', 'Imu_2 :Y():', 'Imu_2 :Z():', 'Imu_2_ImuGyro :X(D/s):', 'Imu_2_ImuGyro :Y(D/s):', 'Imu_2_ImuGyro :Z(D/s):', 'Imu_2_ImuMag :X(uT):', 'Imu_2_ImuMag :Y(uT):', 'Imu_2_ImuMag :Z(uT):', 'Imu_4 :W():', 'Imu_4 :X():', 'Imu_4 :Y():', 'Imu_4 :Z():', 'Imu_4_ImuGyro :X(D/s):', 'Imu_4_ImuGyro :Y(D/s):', 'Imu_4_ImuGyro :Z(D/s):', 'Imu_4_ImuMag :X(uT):', 'Imu_4_ImuMag :Y(uT):', 'Imu_4_ImuMag :Z(uT):', 'Imu_8 :W():', 'Imu_8 :X():', 'Imu_8 :Y():', 'Imu_8 :Z():', 'Imu_8_ImuGyro :X(D/s):', 'Imu_8_ImuGyro :Y(D/s):', 'Imu_8_ImuGyro :Z(D/s):', 'Imu_8_ImuMag :X(uT):', 'Imu_8_ImuMag :Y(uT):', 'Imu_8_ImuMag :Z(uT):', 'Net_Acc_X(g)', 'Net_Acc_Y(g)', 'Net_Acc_Z(g)', 'Participant_Backpack_Acc_X(g)', 'Participant_Backpack_Acc_Y(g)', 'Participant_Backpack_Acc_Z(g)', 'Participant_Head_Acc_X(g)', 'Participant_Head_Acc_Y(g)', 'Participant_Head_Acc_Z(g)', 'Participant_Paddle_Acc_X(g)', 'Participant_Paddle_Acc_Y(g)', 'Participant_Paddle_Acc_Z(g)', 'Researcher_Paddle_Acc_X(g)', 'Researcher_Paddle_Acc_Y(g)', 'Researcher_Paddle_Acc_Z(g)', 'SyncPulse(uV)', 'Table_OtherSide_Acc_X(g)', 'Table_OtherSide_Acc_Y(g)', 'Table_OtherSide_Acc_Z(g)', 'Table_ParticipantSide_Acc_X(g)', 'Table_ParticipantSide_Acc_Y(g)', 'Table_ParticipantSide_Acc_Z(g)']\n",
      "noise: ['N-AF3', 'N-AF4', 'N-AF7', 'N-AF8', 'N-AFF1h', 'N-AFF2h', 'N-AFF5h', 'N-AFF6h', 'N-AFp1', 'N-AFp2', 'N-AFz', 'N-C1', 'N-C2', 'N-C3', 'N-C4', 'N-C5', 'N-C6', 'N-CCP1h', 'N-CCP2h', 'N-CCP3h', 'N-CCP4h', 'N-CCP5h', 'N-CCP6h', 'N-CP1', 'N-CP2', 'N-CP3', 'N-CP4', 'N-CP5', 'N-CP6', 'N-CPP1h', 'N-CPP2h', 'N-CPP3h', 'N-CPP4h', 'N-CPP5h', 'N-CPP6h', 'N-Cz', 'N-F1', 'N-F10', 'N-F2', 'N-F3', 'N-F4', 'N-F5', 'N-F6', 'N-F7', 'N-F8', 'N-F9', 'N-FC1', 'N-FC2', 'N-FC3', 'N-FC4', 'N-FC5', 'N-FC6', 'N-FCC1h', 'N-FCC2h', 'N-FCC3h', 'N-FCC4h', 'N-FCC5h', 'N-FCC6h', 'N-FCz', 'N-FFC1h', 'N-FFC2h', 'N-FFC3h', 'N-FFC4h', 'N-FFC5h', 'N-FFC6h', 'N-FFT10h', 'N-FFT7h', 'N-FFT8h', 'N-FFT9h', 'N-FP2', 'N-FT10', 'N-FT7', 'N-FT8', 'N-FT9', 'N-FTT10h', 'N-FTT7h', 'N-FTT8h', 'N-FTT9h', 'N-Fp1', 'N-Fz', 'N-Iz', 'N-O1', 'N-O2', 'N-OI1h', 'N-OI2h', 'N-Oz', 'N-P1', 'N-P2', 'N-P3', 'N-P4', 'N-P5', 'N-P6', 'N-P7', 'N-P8', 'N-PO3', 'N-PO4', 'N-PO7', 'N-PO8', 'N-POO1', 'N-POO10h', 'N-POO2', 'N-POO9h', 'N-POz', 'N-PPO10h', 'N-PPO1h', 'N-PPO2h', 'N-PPO5h', 'N-PPO6h', 'N-PPO9h', 'N-Pz', 'N-T7', 'N-T8', 'N-TP7', 'N-TP8', 'N-TPP10h', 'N-TPP7h', 'N-TPP8h', 'N-TPP9h', 'N-TTP7h', 'N-TTP8h']\n",
      "  raw_eeg = mne.io.read_raw_eeglab(eeg_dirname + f'sub-{SUB_ID}_task-TableTennis_eeg.set', preload=True)\n",
      "/tmp/ipykernel_1842469/3295343524.py:52: RuntimeWarning: Estimated head radius (12.2 cm) is above the 99th percentile for adult head size. Check if the montage_units argument is correct (the default is \"mm\", but your channel positions may be in different units).\n",
      "  raw_eeg = mne.io.read_raw_eeglab(eeg_dirname + f'sub-{SUB_ID}_task-TableTennis_eeg.set', preload=True)\n",
      "/tmp/ipykernel_1842469/3295343524.py:52: RuntimeWarning: Data file name in EEG.data (sub-23_task-tabletennis_eeg.fdt) is incorrect, the file name must have changed on disk, using the correct file name (sub-23_task-TableTennis_eeg.fdt).\n",
      "  raw_eeg = mne.io.read_raw_eeglab(eeg_dirname + f'sub-{SUB_ID}_task-TableTennis_eeg.set', preload=True)\n",
      "/tmp/ipykernel_1842469/3295343524.py:52: RuntimeWarning: Omitted 1 annotation(s) that were outside data range.\n",
      "  raw_eeg = mne.io.read_raw_eeglab(eeg_dirname + f'sub-{SUB_ID}_task-TableTennis_eeg.set', preload=True)\n",
      "/tmp/ipykernel_1842469/3295343524.py:52: RuntimeWarning: The data contains 'boundary' events, indicating data discontinuities. Be cautious of filtering and epoching around these events.\n",
      "  raw_eeg = mne.io.read_raw_eeglab(eeg_dirname + f'sub-{SUB_ID}_task-TableTennis_eeg.set', preload=True)\n",
      "/tmp/ipykernel_1842469/3295343524.py:52: RuntimeWarning: Not setting positions of 8 emg channels found in montage:\n",
      "['LISCM', 'LSSCM', 'LSTrap', 'LITrap', 'RITrap', 'RISCM', 'RSSCM', 'RSTrap']\n",
      "Consider setting the channel types to be of EEG/sEEG/ECoG/DBS/fNIRS using inst.set_channel_types before calling inst.set_montage, or omit these channels when creating your montage.\n",
      "  raw_eeg = mne.io.read_raw_eeglab(eeg_dirname + f'sub-{SUB_ID}_task-TableTennis_eeg.set', preload=True)\n",
      "/tmp/ipykernel_1842469/3295343524.py:70: RuntimeWarning: The unit for channel(s) BallMachine_Acc_X(g), BallMachine_Acc_Y(g), BallMachine_Acc_Z(g), CGY-x, CGY-y, CGY-z, CWR-x, CWR-y, CWR-z, IMU1_RMS, Imu_1 :W():, Imu_1 :X():, Imu_1 :Y():, Imu_1 :Z():, Imu_1_ImuGyro :X(D/s):, Imu_1_ImuGyro :Y(D/s):, Imu_1_ImuGyro :Z(D/s):, Imu_1_ImuMag :X(uT):, Imu_1_ImuMag :Y(uT):, Imu_1_ImuMag :Z(uT):, Imu_2 :W():, Imu_2 :X():, Imu_2 :Y():, Imu_2 :Z():, Imu_2_ImuGyro :X(D/s):, Imu_2_ImuGyro :Y(D/s):, Imu_2_ImuGyro :Z(D/s):, Imu_2_ImuMag :X(uT):, Imu_2_ImuMag :Y(uT):, Imu_2_ImuMag :Z(uT):, Imu_4 :W():, Imu_4 :X():, Imu_4 :Y():, Imu_4 :Z():, Imu_4_ImuGyro :X(D/s):, Imu_4_ImuGyro :Y(D/s):, Imu_4_ImuGyro :Z(D/s):, Imu_4_ImuMag :X(uT):, Imu_4_ImuMag :Y(uT):, Imu_4_ImuMag :Z(uT):, Imu_8 :W():, Imu_8 :X():, Imu_8 :Y():, Imu_8 :Z():, Imu_8_ImuGyro :X(D/s):, Imu_8_ImuGyro :Y(D/s):, Imu_8_ImuGyro :Z(D/s):, Imu_8_ImuMag :X(uT):, Imu_8_ImuMag :Y(uT):, Imu_8_ImuMag :Z(uT):, N-AF3, N-AF4, N-AF7, N-AF8, N-AFF1h, N-AFF2h, N-AFF5h, N-AFF6h, N-AFp1, N-AFp2, N-AFz, N-C1, N-C2, N-C3, N-C4, N-C5, N-C6, N-CCP1h, N-CCP2h, N-CCP3h, N-CCP4h, N-CCP5h, N-CCP6h, N-CP1, N-CP2, N-CP3, N-CP4, N-CP5, N-CP6, N-CPP1h, N-CPP2h, N-CPP3h, N-CPP4h, N-CPP5h, N-CPP6h, N-Cz, N-F1, N-F10, N-F2, N-F3, N-F4, N-F5, N-F6, N-F7, N-F8, N-F9, N-FC1, N-FC2, N-FC3, N-FC4, N-FC5, N-FC6, N-FCC1h, N-FCC2h, N-FCC3h, N-FCC4h, N-FCC5h, N-FCC6h, N-FCz, N-FFC1h, N-FFC2h, N-FFC3h, N-FFC4h, N-FFC5h, N-FFC6h, N-FFT10h, N-FFT7h, N-FFT8h, N-FFT9h, N-FP2, N-FT10, N-FT7, N-FT8, N-FT9, N-FTT10h, N-FTT7h, N-FTT8h, N-FTT9h, N-Fp1, N-Fz, N-Iz, N-O1, N-O2, N-OI1h, N-OI2h, N-Oz, N-P1, N-P2, N-P3, N-P4, N-P5, N-P6, N-P7, N-P8, N-PO3, N-PO4, N-PO7, N-PO8, N-POO1, N-POO10h, N-POO2, N-POO9h, N-POz, N-PPO10h, N-PPO1h, N-PPO2h, N-PPO5h, N-PPO6h, N-PPO9h, N-Pz, N-T7, N-T8, N-TP7, N-TP8, N-TPP10h, N-TPP7h, N-TPP8h, N-TPP9h, N-TTP7h, N-TTP8h, NGY-x, NGY-y, NGY-z, NWR-x, NWR-y, NWR-z, Net_Acc_X(g), Net_Acc_Y(g), Net_Acc_Z(g), Participant_Backpack_Acc_X(g), Participant_Backpack_Acc_Y(g), Participant_Backpack_Acc_Z(g), Participant_Head_Acc_X(g), Participant_Head_Acc_Y(g), Participant_Head_Acc_Z(g), Participant_Paddle_Acc_X(g), Participant_Paddle_Acc_Y(g), Participant_Paddle_Acc_Z(g), Researcher_Paddle_Acc_X(g), Researcher_Paddle_Acc_Y(g), Researcher_Paddle_Acc_Z(g), SyncPulse(uV), Table_OtherSide_Acc_X(g), Table_OtherSide_Acc_Y(g), Table_OtherSide_Acc_Z(g), Table_ParticipantSide_Acc_X(g), Table_ParticipantSide_Acc_Y(g), Table_ParticipantSide_Acc_Z(g) has changed from V to NA.\n",
      "  raw_eeg.set_channel_types(channel_types)\n"
     ]
    },
    {
     "name": "stdout",
     "output_type": "stream",
     "text": [
      "NOTE: pick_channels() is a legacy function. New code should use inst.pick(...).\n",
      "Reading /data/vladimiroved/realWorldTableTennis/sub-24/eeg/sub-24_task-TableTennis_eeg.fdt\n",
      "Reading 0 ... 1146790  =      0.000 ...  4587.160 secs...\n"
     ]
    },
    {
     "name": "stderr",
     "output_type": "stream",
     "text": [
      "/tmp/ipykernel_1842469/3295343524.py:52: RuntimeWarning: Unknown types found, setting as type EEG:\n",
      "acc: ['CGY-x', 'CGY-y', 'CGY-z', 'CWR-x', 'CWR-y', 'CWR-z', 'NGY-x', 'NGY-y', 'NGY-z', 'NWR-x', 'NWR-y', 'NWR-z']\n",
      "cometas: ['BallMachine_Acc_X(g)', 'BallMachine_Acc_Y(g)', 'BallMachine_Acc_Z(g)', 'IMU1_RMS', 'IMU8_RMS', 'Imu_1 :W():', 'Imu_1 :X():', 'Imu_1 :Y():', 'Imu_1 :Z():', 'Imu_1_ImuGyro :X(D/s):', 'Imu_1_ImuGyro :Y(D/s):', 'Imu_1_ImuGyro :Z(D/s):', 'Imu_1_ImuMag :X(uT):', 'Imu_1_ImuMag :Y(uT):', 'Imu_1_ImuMag :Z(uT):', 'Imu_2 :W():', 'Imu_2 :X():', 'Imu_2 :Y():', 'Imu_2 :Z():', 'Imu_2_ImuGyro :X(D/s):', 'Imu_2_ImuGyro :Y(D/s):', 'Imu_2_ImuGyro :Z(D/s):', 'Imu_2_ImuMag :X(uT):', 'Imu_2_ImuMag :Y(uT):', 'Imu_2_ImuMag :Z(uT):', 'Imu_4 :W():', 'Imu_4 :X():', 'Imu_4 :Y():', 'Imu_4 :Z():', 'Imu_4_ImuGyro :X(D/s):', 'Imu_4_ImuGyro :Y(D/s):', 'Imu_4_ImuGyro :Z(D/s):', 'Imu_4_ImuMag :X(uT):', 'Imu_4_ImuMag :Y(uT):', 'Imu_4_ImuMag :Z(uT):', 'Imu_8 :W():', 'Imu_8 :X():', 'Imu_8 :Y():', 'Imu_8 :Z():', 'Imu_8_ImuGyro :X(D/s):', 'Imu_8_ImuGyro :Y(D/s):', 'Imu_8_ImuGyro :Z(D/s):', 'Imu_8_ImuMag :X(uT):', 'Imu_8_ImuMag :Y(uT):', 'Imu_8_ImuMag :Z(uT):', 'Net_Acc_X(g)', 'Net_Acc_Y(g)', 'Net_Acc_Z(g)', 'Participant_Backpack_Acc_X(g)', 'Participant_Backpack_Acc_Y(g)', 'Participant_Backpack_Acc_Z(g)', 'Participant_Head_Acc_X(g)', 'Participant_Head_Acc_Y(g)', 'Participant_Head_Acc_Z(g)', 'Participant_Paddle_Acc_X(g)', 'Participant_Paddle_Acc_Y(g)', 'Participant_Paddle_Acc_Z(g)', 'Researcher_Paddle_Acc_X(g)', 'Researcher_Paddle_Acc_Y(g)', 'Researcher_Paddle_Acc_Z(g)', 'SyncPulse(uV)', 'Table_OtherSide_Acc_X(g)', 'Table_OtherSide_Acc_Y(g)', 'Table_OtherSide_Acc_Z(g)', 'Table_ParticipantSide_Acc_X(g)', 'Table_ParticipantSide_Acc_Y(g)', 'Table_ParticipantSide_Acc_Z(g)']\n",
      "noise: ['N-AF3', 'N-AF4', 'N-AF7', 'N-AF8', 'N-AFF1h', 'N-AFF2h', 'N-AFF5h', 'N-AFF6h', 'N-AFp1', 'N-AFp2', 'N-AFz', 'N-C1', 'N-C2', 'N-C3', 'N-C4', 'N-C5', 'N-C6', 'N-CCP1h', 'N-CCP2h', 'N-CCP3h', 'N-CCP4h', 'N-CCP5h', 'N-CCP6h', 'N-CP1', 'N-CP2', 'N-CP3', 'N-CP4', 'N-CP5', 'N-CP6', 'N-CPP1h', 'N-CPP2h', 'N-CPP3h', 'N-CPP4h', 'N-CPP5h', 'N-CPP6h', 'N-Cz', 'N-F1', 'N-F10', 'N-F2', 'N-F3', 'N-F4', 'N-F5', 'N-F6', 'N-F7', 'N-F8', 'N-F9', 'N-FC1', 'N-FC2', 'N-FC3', 'N-FC4', 'N-FC5', 'N-FC6', 'N-FCC1h', 'N-FCC2h', 'N-FCC3h', 'N-FCC4h', 'N-FCC5h', 'N-FCC6h', 'N-FCz', 'N-FFC1h', 'N-FFC2h', 'N-FFC3h', 'N-FFC4h', 'N-FFC5h', 'N-FFC6h', 'N-FFT10h', 'N-FFT7h', 'N-FFT8h', 'N-FFT9h', 'N-FP2', 'N-FT10', 'N-FT7', 'N-FT8', 'N-FT9', 'N-FTT10h', 'N-FTT7h', 'N-FTT8h', 'N-FTT9h', 'N-Fp1', 'N-Fz', 'N-Iz', 'N-O1', 'N-O2', 'N-OI1h', 'N-OI2h', 'N-Oz', 'N-P1', 'N-P2', 'N-P3', 'N-P4', 'N-P5', 'N-P6', 'N-P7', 'N-P8', 'N-PO3', 'N-PO4', 'N-PO7', 'N-PO8', 'N-POO1', 'N-POO10h', 'N-POO2', 'N-POO9h', 'N-POz', 'N-PPO10h', 'N-PPO1h', 'N-PPO2h', 'N-PPO5h', 'N-PPO6h', 'N-PPO9h', 'N-Pz', 'N-T7', 'N-T8', 'N-TP7', 'N-TP8', 'N-TPP10h', 'N-TPP7h', 'N-TPP8h', 'N-TPP9h', 'N-TTP7h', 'N-TTP8h']\n",
      "  raw_eeg = mne.io.read_raw_eeglab(eeg_dirname + f'sub-{SUB_ID}_task-TableTennis_eeg.set', preload=True)\n",
      "/tmp/ipykernel_1842469/3295343524.py:52: RuntimeWarning: Data file name in EEG.data (sub-24_task-tabletennis_eeg.fdt) is incorrect, the file name must have changed on disk, using the correct file name (sub-24_task-TableTennis_eeg.fdt).\n",
      "  raw_eeg = mne.io.read_raw_eeglab(eeg_dirname + f'sub-{SUB_ID}_task-TableTennis_eeg.set', preload=True)\n",
      "/tmp/ipykernel_1842469/3295343524.py:52: RuntimeWarning: Omitted 1 annotation(s) that were outside data range.\n",
      "  raw_eeg = mne.io.read_raw_eeglab(eeg_dirname + f'sub-{SUB_ID}_task-TableTennis_eeg.set', preload=True)\n",
      "/tmp/ipykernel_1842469/3295343524.py:52: RuntimeWarning: The data contains 'boundary' events, indicating data discontinuities. Be cautious of filtering and epoching around these events.\n",
      "  raw_eeg = mne.io.read_raw_eeglab(eeg_dirname + f'sub-{SUB_ID}_task-TableTennis_eeg.set', preload=True)\n",
      "/tmp/ipykernel_1842469/3295343524.py:52: RuntimeWarning: Not setting positions of 8 emg channels found in montage:\n",
      "['LISCM', 'LSSCM', 'LSTrap', 'LITrap', 'RITrap', 'RISCM', 'RSSCM', 'RSTrap']\n",
      "Consider setting the channel types to be of EEG/sEEG/ECoG/DBS/fNIRS using inst.set_channel_types before calling inst.set_montage, or omit these channels when creating your montage.\n",
      "  raw_eeg = mne.io.read_raw_eeglab(eeg_dirname + f'sub-{SUB_ID}_task-TableTennis_eeg.set', preload=True)\n",
      "/tmp/ipykernel_1842469/3295343524.py:70: RuntimeWarning: The unit for channel(s) BallMachine_Acc_X(g), BallMachine_Acc_Y(g), BallMachine_Acc_Z(g), CGY-x, CGY-y, CGY-z, CWR-x, CWR-y, CWR-z, IMU1_RMS, IMU8_RMS, Imu_1 :W():, Imu_1 :X():, Imu_1 :Y():, Imu_1 :Z():, Imu_1_ImuGyro :X(D/s):, Imu_1_ImuGyro :Y(D/s):, Imu_1_ImuGyro :Z(D/s):, Imu_1_ImuMag :X(uT):, Imu_1_ImuMag :Y(uT):, Imu_1_ImuMag :Z(uT):, Imu_2 :W():, Imu_2 :X():, Imu_2 :Y():, Imu_2 :Z():, Imu_2_ImuGyro :X(D/s):, Imu_2_ImuGyro :Y(D/s):, Imu_2_ImuGyro :Z(D/s):, Imu_2_ImuMag :X(uT):, Imu_2_ImuMag :Y(uT):, Imu_2_ImuMag :Z(uT):, Imu_4 :W():, Imu_4 :X():, Imu_4 :Y():, Imu_4 :Z():, Imu_4_ImuGyro :X(D/s):, Imu_4_ImuGyro :Y(D/s):, Imu_4_ImuGyro :Z(D/s):, Imu_4_ImuMag :X(uT):, Imu_4_ImuMag :Y(uT):, Imu_4_ImuMag :Z(uT):, Imu_8 :W():, Imu_8 :X():, Imu_8 :Y():, Imu_8 :Z():, Imu_8_ImuGyro :X(D/s):, Imu_8_ImuGyro :Y(D/s):, Imu_8_ImuGyro :Z(D/s):, Imu_8_ImuMag :X(uT):, Imu_8_ImuMag :Y(uT):, Imu_8_ImuMag :Z(uT):, N-AF3, N-AF4, N-AF7, N-AF8, N-AFF1h, N-AFF2h, N-AFF5h, N-AFF6h, N-AFp1, N-AFp2, N-AFz, N-C1, N-C2, N-C3, N-C4, N-C5, N-C6, N-CCP1h, N-CCP2h, N-CCP3h, N-CCP4h, N-CCP5h, N-CCP6h, N-CP1, N-CP2, N-CP3, N-CP4, N-CP5, N-CP6, N-CPP1h, N-CPP2h, N-CPP3h, N-CPP4h, N-CPP5h, N-CPP6h, N-Cz, N-F1, N-F10, N-F2, N-F3, N-F4, N-F5, N-F6, N-F7, N-F8, N-F9, N-FC1, N-FC2, N-FC3, N-FC4, N-FC5, N-FC6, N-FCC1h, N-FCC2h, N-FCC3h, N-FCC4h, N-FCC5h, N-FCC6h, N-FCz, N-FFC1h, N-FFC2h, N-FFC3h, N-FFC4h, N-FFC5h, N-FFC6h, N-FFT10h, N-FFT7h, N-FFT8h, N-FFT9h, N-FP2, N-FT10, N-FT7, N-FT8, N-FT9, N-FTT10h, N-FTT7h, N-FTT8h, N-FTT9h, N-Fp1, N-Fz, N-Iz, N-O1, N-O2, N-OI1h, N-OI2h, N-Oz, N-P1, N-P2, N-P3, N-P4, N-P5, N-P6, N-P7, N-P8, N-PO3, N-PO4, N-PO7, N-PO8, N-POO1, N-POO10h, N-POO2, N-POO9h, N-POz, N-PPO10h, N-PPO1h, N-PPO2h, N-PPO5h, N-PPO6h, N-PPO9h, N-Pz, N-T7, N-T8, N-TP7, N-TP8, N-TPP10h, N-TPP7h, N-TPP8h, N-TPP9h, N-TTP7h, N-TTP8h, NGY-x, NGY-y, NGY-z, NWR-x, NWR-y, NWR-z, Net_Acc_X(g), Net_Acc_Y(g), Net_Acc_Z(g), Participant_Backpack_Acc_X(g), Participant_Backpack_Acc_Y(g), Participant_Backpack_Acc_Z(g), Participant_Head_Acc_X(g), Participant_Head_Acc_Y(g), Participant_Head_Acc_Z(g), Participant_Paddle_Acc_X(g), Participant_Paddle_Acc_Y(g), Participant_Paddle_Acc_Z(g), Researcher_Paddle_Acc_X(g), Researcher_Paddle_Acc_Y(g), Researcher_Paddle_Acc_Z(g), SyncPulse(uV), Table_OtherSide_Acc_X(g), Table_OtherSide_Acc_Y(g), Table_OtherSide_Acc_Z(g), Table_ParticipantSide_Acc_X(g), Table_ParticipantSide_Acc_Y(g), Table_ParticipantSide_Acc_Z(g) has changed from V to NA.\n",
      "  raw_eeg.set_channel_types(channel_types)\n"
     ]
    },
    {
     "name": "stdout",
     "output_type": "stream",
     "text": [
      "NOTE: pick_channels() is a legacy function. New code should use inst.pick(...).\n"
     ]
    }
   ],
   "source": [
    "PARTICIPANT_CHANNELS = [\n",
    "    'Fp1', 'AFp1', 'AFz', 'AF3', 'AF7', 'AFF5h', 'AFF1h', 'F1', 'F3',\n",
    "    'F5', 'F7', 'F9', 'FFT9h', 'FFT7h', 'FFC5h', 'FFC3h', 'FFC1h',\n",
    "    'FCz', 'FC1', 'FC3', 'FC5', 'FT7', 'FT9', 'FTT9h', 'FTT7h',\n",
    "    'FCC5h', 'FCC3h', 'FCC1h', 'C1', 'C3', 'C5', 'T7', 'TTP7h',\n",
    "    'CCP5h', 'CCP3h', 'CCP1h', 'CP1', 'CP3', 'CP5', 'TP7', 'TPP9h',\n",
    "    'TPP7h', 'CPP5h', 'CPP3h', 'CPP1h', 'P1', 'P3', 'P5', 'P7',\n",
    "    'PPO5h', 'PPO1h', 'POz', 'PO3', 'PO7', 'PPO9h', 'O1', 'POO1',\n",
    "    'OI1h', 'Iz', 'Cz', 'C2', 'C4', 'C6', 'T8', 'FTT10h', 'FTT8h',\n",
    "    'FCC6h', 'FCC4h', 'FCC2h', 'FC2', 'FC4', 'FC6', 'FT8', 'FT10',\n",
    "    'FFT10h', 'FFT8h', 'FFC6h', 'FFC4h', 'FFC2h', 'Fz', 'F2', 'F4',\n",
    "    'F6', 'F8', 'F10', 'AFF6h', 'AFF2h', 'AF4', 'AF8', 'FP2', 'AFp2',\n",
    "    'Oz', 'OI2h', 'POO10h', 'O2', 'POO2', 'PO4', 'PO8', 'PPO10h',\n",
    "    'PPO6h', 'PPO2h', 'Pz', 'P2', 'P4', 'P6', 'P8', 'TPP10h', 'TPP8h',\n",
    "    'CPP6h', 'CPP4h', 'CPP2h', 'CP2', 'CP4', 'CP6', 'TP8', 'TTP8h',\n",
    "    'CCP6h', 'CCP4h', 'CCP2h', 'N-Fp1', 'N-AFp1', 'N-AFz', 'N-AF3',\n",
    "    'N-AF7', 'N-AFF5h', 'N-AFF1h', 'N-F1', 'N-F3', 'N-F5', 'N-F7',\n",
    "    'N-F9', 'N-FFT9h', 'N-FFT7h', 'N-FFC5h', 'N-FFC3h', 'N-FFC1h',\n",
    "    'N-FCz', 'N-FC1', 'N-FC3', 'N-FC5', 'N-FT7', 'N-FT9', 'N-FTT9h',\n",
    "    'N-FTT7h', 'N-FCC5h', 'N-FCC3h', 'N-FCC1h', 'N-C1', 'N-C3', 'N-C5',\n",
    "    'N-T7', 'N-TTP7h', 'N-CCP5h', 'N-CCP3h', 'N-CCP1h', 'N-CP1',\n",
    "    'N-CP3', 'N-CP5', 'N-TP7', 'N-TPP9h', 'N-TPP7h', 'N-CPP5h',\n",
    "    'N-CPP3h', 'N-CPP1h', 'N-P1', 'N-P3', 'N-P5', 'N-P7', 'N-PPO5h',\n",
    "    'N-PPO1h', 'N-POz', 'N-PO3', 'N-PO7', 'N-PPO9h', 'N-O1', 'N-POO1',\n",
    "    'N-OI1h', 'N-Iz', 'N-Cz', 'N-C2', 'N-C4', 'N-C6', 'N-T8',\n",
    "    'N-FTT10h', 'N-FTT8h', 'N-FCC6h', 'N-FCC4h', 'N-FCC2h', 'N-FC2',\n",
    "    'N-FC4', 'N-FC6', 'N-FT8', 'N-FT10', 'N-FFT10h', 'N-FFT8h',\n",
    "    'N-FFC6h', 'N-FFC4h', 'N-FFC2h', 'N-Fz', 'N-F2', 'N-F4', 'N-F6',\n",
    "    'N-F8', 'N-F10', 'N-AFF6h', 'N-AFF2h', 'N-AF4', 'N-AF8', 'N-FP2',\n",
    "    'N-AFp2', 'N-Oz', 'N-OI2h', 'N-POO10h', 'N-O2', 'N-POO2', 'N-PO4',\n",
    "    'N-PO8', 'N-PPO10h', 'N-PPO6h', 'N-PPO2h', 'N-Pz', 'N-P2', 'N-P4',\n",
    "    'N-P6', 'N-P8', 'N-TPP10h', 'N-TPP8h', 'N-CPP6h', 'N-CPP4h',\n",
    "    'N-CPP2h', 'N-CP2', 'N-CP4', 'N-CP6', 'N-TP8', 'N-TTP8h',\n",
    "    'N-CCP6h', 'N-CCP4h', 'N-CCP2h', 'LISCM', 'LSSCM', 'LSTrap',\n",
    "    'LITrap', 'CGY-x', 'CGY-y', 'CGY-z', 'RITrap', 'RISCM', 'RSSCM',\n",
    "    'RSTrap', 'CWR-x', 'CWR-y', 'CWR-z', 'NGY-x', 'NGY-y', 'NGY-z',\n",
    "    'NWR-x', 'NWR-y', 'NWR-z', 'Participant_Paddle_Acc_X(g)',\n",
    "    'Participant_Paddle_Acc_Y(g)', 'Participant_Paddle_Acc_Z(g)'\n",
    "]\n",
    "T_LEN = 1\n",
    "EPS = 1e-3\n",
    "\n",
    "SUB_IDS = ['0' * (n < 10) + str(n) for n in range(1, 26)]\n",
    "\n",
    "for SUB_ID in tqdm(SUB_IDS):\n",
    "    eeg_dirname = os.path.join(DATA_PATH, f'sub-{SUB_ID}', 'eeg/')\n",
    "    \n",
    "    channels_df = pd.read_csv(eeg_dirname + f'sub-{SUB_ID}_task-TableTennis_channels.tsv', sep='\\t')\n",
    "    events_df = pd.read_csv(eeg_dirname + f'sub-{SUB_ID}_task-TableTennis_events.tsv', sep='\\t')\n",
    "    shift_arr = np.load(f'ball-machine/shifts_final/{SUB_ID}.npz', allow_pickle=True)\n",
    "    \n",
    "    raw_eeg = mne.io.read_raw_eeglab(eeg_dirname + f'sub-{SUB_ID}_task-TableTennis_eeg.set', preload=True)\n",
    "    eeg_file = os.path.join(eeg_dirname, f'sub-{SUB_ID}_task-TableTennis_eeg.set')\n",
    "    mat = scipy.io.loadmat(eeg_file, struct_as_record=False, squeeze_me=True)\n",
    "    \n",
    "    eeg_channels = channels_df[channels_df['type'] == 'EEG']['name'].tolist()\n",
    "    emg_channels = channels_df[channels_df['type'] == 'EMG']['name'].tolist()\n",
    "    misc_channels = channels_df[channels_df['type'] == 'MISC']['name'].tolist()\n",
    "    \n",
    "    # Set channel types\n",
    "    channel_types = {}\n",
    "    for ch in raw_eeg.ch_names:\n",
    "        if ch in eeg_channels:\n",
    "            channel_types[ch] = 'eeg'\n",
    "        elif ch in emg_channels:\n",
    "            channel_types[ch] = 'emg'\n",
    "        else:\n",
    "            channel_types[ch] = 'misc'  # Includes IMU and other sensors\n",
    "    \n",
    "    raw_eeg.set_channel_types(channel_types)\n",
    "    \n",
    "    events_df['bounces'] = None\n",
    "    events_df['performance'] = None\n",
    "    events_df['device'] = None\n",
    "    events_df['orignum'] = None\n",
    "    \n",
    "    for i, row in events_df.iterrows():\n",
    "        mat_event = mat['event'][i]\n",
    "        \n",
    "        assert mat_event.type == row['value'], \"asynchronous status event_type\"\n",
    "        assert row['trial_type'] == 'STATUS' or mat_event.condlabel == row['trial_type'], \"asynchronous status\"\n",
    "        assert np.abs(mat_event.latency - row['sample']) <= 2, \"asynchronous time\"\n",
    "        \n",
    "        if not isinstance(mat_event.bounces, np.ndarray):\n",
    "            events_df.at[i, 'bounces'] = mat_event.bounces\n",
    "    \n",
    "        if not isinstance(mat_event.performance, np.ndarray):\n",
    "            events_df.at[i, 'performance'] = mat_event.performance\n",
    "    \n",
    "        if not isinstance(mat_event.code, np.ndarray):\n",
    "            events_df.at[i, 'device'] = mat_event.code\n",
    "    \n",
    "        if not isinstance(mat_event.orignum, np.ndarray):\n",
    "            events_df.at[i, 'orignum'] = mat_event.orignum\n",
    "    \n",
    "    \n",
    "    filtered_events_df = events_df\\\n",
    "        .query(\"value == 'Subject_hit'\")\\\n",
    "        .query(\"trial_type in ('moving_hit', 'stationary_hit', 'moving_serve', 'stationary_serve')\")\\\n",
    "        .query(\"performance != 4\")\n",
    "    filtered_events_df['shifted_sample'] = None\n",
    "\n",
    "    acc_channels = [\n",
    "        'Participant_Paddle_Acc_X(g)',\n",
    "        'Participant_Paddle_Acc_Y(g)',\n",
    "        'Participant_Paddle_Acc_Z(g)'\n",
    "    ]\n",
    "\n",
    "    for ind, row in filtered_events_df.iterrows():\n",
    "        sample, onset = row['sample'], row['onset']\n",
    "        delta = None\n",
    "    \n",
    "        for i, (session_start, session_end) in enumerate(shift_arr['sessions']):\n",
    "            if session_start - EPS <= onset <= session_end + EPS:\n",
    "                delta = shift_arr['peaks'][i]\n",
    "                break\n",
    "        \n",
    "        filtered_events_df.at[ind, 'shifted_sample'] = sample + delta\n",
    "    \n",
    "    filtered_events_df['shifted_sample'] = filtered_events_df['shifted_sample'].astype(int)\n",
    "    \n",
    "    total_data = raw_eeg.pick_channels(PARTICIPANT_CHANNELS)\n",
    "    sfreq = raw_eeg.info['sfreq']\n",
    "    window_size = int(T_LEN * sfreq)\n",
    "    data_hit = []\n",
    "    \n",
    "    for idx, row in filtered_events_df.iterrows():\n",
    "        event_type = row['value']\n",
    "        sample_index = row['shifted_sample']\n",
    "        \n",
    "        start_index = sample_index - window_size\n",
    "        end_index = sample_index + window_size\n",
    "        \n",
    "        # Skip this event if the window is out of bounds\n",
    "        if start_index < 0 or end_index > total_data.n_times:\n",
    "            continue\n",
    "        \n",
    "        data_segment = total_data.get_data(start=start_index, stop=end_index)\n",
    "        data_hit.append(data_segment)\n",
    "    \n",
    "    data_hit_npy = np.array(data_hit)\n",
    "    \n",
    "    data_hit_target = filtered_events_df.performance.values\n",
    "    data_hit_timesteps = filtered_events_df.onset.values\n",
    "    \n",
    "    np.savez_compressed(\n",
    "        f'ball-machine/data/signals_{SUB_ID}.npz',\n",
    "        signals=data_hit_npy,\n",
    "        target=data_hit_target,\n",
    "        timesteps=data_hit_timesteps,\n",
    "        channels=PARTICIPANT_CHANNELS\n",
    "    )\n",
    "    \n",
    "    gc.collect()"
   ]
  },
  {
   "cell_type": "markdown",
   "id": "d54f1d94-ff1f-44b7-b20c-8152284380ef",
   "metadata": {
    "jp-MarkdownHeadingCollapsed": true
   },
   "source": [
    "## Calculate mean and std"
   ]
  },
  {
   "cell_type": "code",
   "execution_count": 146,
   "id": "70361645-86f7-4ba5-bf34-4dd7ac587cea",
   "metadata": {},
   "outputs": [],
   "source": [
    "!mkdir -p ball-machine/signals-stats"
   ]
  },
  {
   "cell_type": "code",
   "execution_count": 139,
   "id": "2fdd2ce5-c0ab-42c0-9b6c-6bf892ac27ce",
   "metadata": {},
   "outputs": [
    {
     "data": {
      "application/vnd.jupyter.widget-view+json": {
       "model_id": "8329d155538e40e19bd58eef93eafd47",
       "version_major": 2,
       "version_minor": 0
      },
      "text/plain": [
       "  0%|          | 0/25 [00:00<?, ?it/s]"
      ]
     },
     "metadata": {},
     "output_type": "display_data"
    },
    {
     "name": "stdout",
     "output_type": "stream",
     "text": [
      "EEG mean: (119,) EEG std: (119,)\n",
      "IMU mean: (23,) IMU std: (23,)\n"
     ]
    }
   ],
   "source": [
    "eeg_scaler = StandardScaler()\n",
    "imu_scaler = StandardScaler()\n",
    "\n",
    "root = Path(\"ball-machine/data\")\n",
    "for fn in tqdm(sorted(root.glob(\"signals_*.npz\"))):\n",
    "    d = np.load(fn, allow_pickle=True)\n",
    "    signals = d['signals'].astype(np.float32)\n",
    "    channels = d['channels']\n",
    "\n",
    "    # ----- split scalp EEG vs noise vs \"other\" -----\n",
    "    # Assumption: first block = scalp, second block = noise (same length)\n",
    "    idx_noise_start = np.where(np.char.startswith(channels, 'N-'))[0][0]\n",
    "    scalp = signals[:, :idx_noise_start, :]\n",
    "    noise = signals[:, idx_noise_start:2*idx_noise_start, :]\n",
    "    other = signals[:, 2*idx_noise_start:, :]\n",
    "    eeg = scalp - noise\n",
    "    imu = other\n",
    "\n",
    "    # reshape so samples × features\n",
    "    n_trials, n_ch_eeg, n_times = eeg.shape\n",
    "    eeg_batch = eeg.transpose(0,2,1).reshape(-1, n_ch_eeg)  # (n_trials*n_times, n_ch_eeg)\n",
    "    imu_batch = imu.transpose(0,2,1).reshape(-1, imu.shape[1])  # (n_trials*n_times, n_ch_imu)\n",
    "\n",
    "    eeg_scaler.partial_fit(eeg_batch)\n",
    "    imu_scaler.partial_fit(imu_batch)\n",
    "\n",
    "# after all files:\n",
    "eeg_mean = eeg_scaler.mean_       # shape (n_ch_eeg,)\n",
    "eeg_std  = np.sqrt(eeg_scaler.var_)   # var_ stores unbiased-true variance\n",
    "\n",
    "imu_mean = imu_scaler.mean_       # shape (n_ch_imu,)\n",
    "imu_std  = np.sqrt(imu_scaler.var_)\n",
    "\n",
    "print(\"EEG mean:\", eeg_mean.shape, \"EEG std:\", eeg_std.shape)\n",
    "print(\"IMU mean:\", imu_mean.shape, \"IMU std:\", imu_std.shape)"
   ]
  },
  {
   "cell_type": "code",
   "execution_count": 147,
   "id": "c5683f0a-93b9-4d30-94cd-8e262863622b",
   "metadata": {},
   "outputs": [],
   "source": [
    "np.save('ball-machine/signals-stats/eeg_mean.npy', eeg_mean)\n",
    "np.save('ball-machine/signals-stats/eeg_std.npy', eeg_std)\n",
    "np.save('ball-machine/signals-stats/imu_mean.npy', imu_mean)\n",
    "np.save('ball-machine/signals-stats/imu_std.npy', imu_std)"
   ]
  },
  {
   "cell_type": "code",
   "execution_count": 3,
   "id": "372cf5c0-9da4-4a77-9b2b-526b3c1ec984",
   "metadata": {},
   "outputs": [],
   "source": [
    "def zscore(arr, mean=None, std=None):\n",
    "    # arr.shape = (K_EVENTS, K_CHANNELS, TIMESTEPS)\n",
    "    arr_mean = arr.mean(axis=(0, 2), keepdims=True) if mean is None else mean.reshape(1, -1, 1)\n",
    "    arr_std = arr.std(axis=(0, 2), keepdims=True) if std is None else std.reshape(1, -1, 1)\n",
    "    return (arr - arr_mean) / arr_std\n",
    "\n",
    "\n",
    "def load_subject(npz_path: Path, **kwargs):\n",
    "    d = np.load(npz_path, allow_pickle=True)\n",
    "    # signals.shape = (K_EVENTS, EEG_CHANNELS + IMU_CHANNELS, TIMESTEPS)\n",
    "    signals = d['signals'].astype(np.float32)\n",
    "    channels = d['channels']\n",
    "    target = d['target']\n",
    "\n",
    "    # ----- split scalp EEG vs noise vs \"other\" -----\n",
    "    # Assumption: first block = scalp, second block = noise (same length)\n",
    "    idx_noise_start = np.where(np.char.startswith(channels, 'N-'))[0][0]\n",
    "    scalp = signals[:, :idx_noise_start, :]\n",
    "    noise = signals[:, idx_noise_start:2*idx_noise_start, :]\n",
    "    other = signals[:, 2*idx_noise_start:, :]\n",
    "    eeg = scalp - noise\n",
    "\n",
    "    imu_names = (\n",
    "        'LISCM', 'LSSCM', 'LSTrap', 'LITrap',\n",
    "        'RITrap', 'RISCM', 'RSSCM', 'RSTrap',\n",
    "        'Participant_Paddle_Acc_X(g)',\n",
    "        'Participant_Paddle_Acc_Y(g)',\n",
    "        'Participant_Paddle_Acc_Z(g)'\n",
    "    )\n",
    "    imu_idx = np.array(\n",
    "        [int(np.where(channels == n)[0][0]) for n in imu_names]\n",
    "    )\n",
    "    imu = signals[:, imu_idx, :]\n",
    "    imu_idx -= 2*idx_noise_start\n",
    "\n",
    "    eeg_mean, eeg_std = kwargs.get('eeg_mean'), kwargs.get('eeg_std')\n",
    "    imu_mean, imu_std = kwargs.get('imu_mean'), kwargs.get('imu_std')\n",
    "    imu_mean = imu_mean[imu_idx] if imu_mean is not None else None\n",
    "    imu_std = imu_std[imu_idx] if imu_std is not None else None\n",
    "    \n",
    "    eeg = zscore(eeg, eeg_mean, eeg_std)\n",
    "    imu = zscore(imu, imu_mean, imu_std)\n",
    "\n",
    "    target[target == 2] = 1\n",
    "\n",
    "    return eeg, imu, target"
   ]
  },
  {
   "cell_type": "code",
   "execution_count": 4,
   "id": "a5315a1c-027c-4a74-a1e9-e2c5304b5769",
   "metadata": {},
   "outputs": [],
   "source": [
    "PATH_MACHINE = \"ball-machine/signals-stats/\"\n",
    "\n",
    "eeg_mean = np.load(os.path.join(PATH_MACHINE, \"eeg_mean.npy\"))\n",
    "eeg_std = np.load(os.path.join(PATH_MACHINE, \"eeg_std.npy\"))\n",
    "imu_mean = np.load(os.path.join(PATH_MACHINE, \"imu_mean.npy\"))\n",
    "imu_std = np.load(os.path.join(PATH_MACHINE, \"imu_std.npy\"))"
   ]
  },
  {
   "cell_type": "markdown",
   "id": "fff84326-c61e-4237-bbc5-d29f41f493c5",
   "metadata": {},
   "source": [
    "Data pipeline"
   ]
  },
  {
   "cell_type": "code",
   "execution_count": 5,
   "id": "b526c91f-cccc-4917-82e5-c7b549e42505",
   "metadata": {},
   "outputs": [
    {
     "data": {
      "application/vnd.jupyter.widget-view+json": {
       "model_id": "257885be65564b9ea1a61d5f9eb75dcb",
       "version_major": 2,
       "version_minor": 0
      },
      "text/plain": [
       "  0%|          | 0/25 [00:00<?, ?it/s]"
      ]
     },
     "metadata": {},
     "output_type": "display_data"
    },
    {
     "name": "stdout",
     "output_type": "stream",
     "text": [
      "Loaded: (17735, 119, 500) (17735, 11, 500) (17735,)\n",
      "CPU times: user 1min 54s, sys: 36min 40s, total: 38min 35s\n",
      "Wall time: 38min 46s\n"
     ]
    }
   ],
   "source": [
    "%%time\n",
    "root = Path(\"ball-machine/data/\")\n",
    "eeg_list, imu_list, y_list, subjects_list = [], [], [], []\n",
    "\n",
    "for npz_file in tqdm(sorted(root.glob(\"signals_*.npz\"))):\n",
    "    subject_id = int(npz_file.name[-6:-4])\n",
    "    eeg, imu, target = load_subject(\n",
    "        npz_file,\n",
    "        eeg_mean=eeg_mean,\n",
    "        eeg_std=eeg_std,\n",
    "        imu_mean=imu_mean,\n",
    "        imu_std=imu_std\n",
    "    )\n",
    "    assert len(eeg) == len(imu) == len(target)\n",
    "    assert eeg.shape[2] == imu.shape[2]\n",
    "    assert eeg.shape[1] == 119\n",
    "    assert 3 <= imu.shape[1] <= 23\n",
    "    \n",
    "    eeg_list.append(eeg)\n",
    "    imu_list.append(imu)\n",
    "    y_list.append(target)\n",
    "    subjects_list.append([subject_id] * len(y_list))\n",
    "\n",
    "eeg_total = np.concatenate(eeg_list, axis=0)         # (N, K_EEG, K_TS)\n",
    "imu_total = np.concatenate(imu_list, axis=0)         # (N, K_IMU, K_TS)\n",
    "y_total = np.concatenate(y_list, axis=0).astype(int) # (N,)\n",
    "subjects_total = np.concatenate(subjects_list, axis=0)\n",
    "\n",
    "del eeg_list, imu_list, y_list\n",
    "\n",
    "print(\"Loaded:\", eeg_total.shape, imu_total.shape, y_total.shape)"
   ]
  },
  {
   "cell_type": "code",
   "execution_count": 12,
   "id": "bbc625d6-fccf-43c6-a941-a0e3d0e9e178",
   "metadata": {},
   "outputs": [
    {
     "data": {
      "application/vnd.jupyter.widget-view+json": {
       "model_id": "56d138088c504b2ab8738bcf877498f8",
       "version_major": 2,
       "version_minor": 0
      },
      "text/plain": [
       "0it [00:00, ?it/s]"
      ]
     },
     "metadata": {},
     "output_type": "display_data"
    },
    {
     "name": "stdout",
     "output_type": "stream",
     "text": [
      "CPU times: user 38min 38s, sys: 38min 59s, total: 1h 17min 37s\n",
      "Wall time: 2min 4s\n"
     ]
    }
   ],
   "source": [
    "%%time\n",
    "def imu_stats(arr):\n",
    "    # arr: (N, C, T) → output shape (N, (C+1)*4)\n",
    "    acceleration = np.sqrt(np.sum(np.square(arr[:, -3:, :]), axis=1, keepdims=True))\n",
    "    arr_stacked = np.concatenate((arr, acceleration), axis=1)\n",
    "    mean = arr_stacked.mean(axis=2)\n",
    "    std = arr_stacked.std(axis=2)\n",
    "    mx = arr_stacked.max(axis=2)\n",
    "    mn = arr_stacked.min(axis=2)\n",
    "    return np.concatenate([mean, std, mx, mn], axis=1)\n",
    "    \n",
    "window_size = 0.3   # seconds  \n",
    "step_size   = 0.1   # seconds  \n",
    "sfreq       = 250   # Hz\n",
    "SUBSAMPLE_SIZE = 1000\n",
    "\n",
    "np.random.rand(SEED)\n",
    "rand_indices = np.random.choice(len(y_total), SUBSAMPLE_SIZE, replace=False)\n",
    "eeg = eeg_total[rand_indices]\n",
    "imu = imu_total[rand_indices]\n",
    "\n",
    "win_len = int(window_size * sfreq)  # → 75 samples  \n",
    "step    = int(step_size   * sfreq)  # → 25 samples  \n",
    "starts  = np.arange(0, eeg.shape[2] - win_len + 1, step)\n",
    "n_win   = len(starts)\n",
    "\n",
    "# pre‐allocate  \n",
    "#   cov_ts:   (n_events, n_windows, n_chans, n_chans)  \n",
    "#   imu_ts:   (n_events, n_windows, (n_imu+1)*4)  \n",
    "cov_ts     = np.zeros((eeg.shape[0], n_win, eeg.shape[1], eeg.shape[1]), dtype=np.float32)  \n",
    "imu_ts     = np.zeros((imu.shape[0], n_win, (imu.shape[1]+1)*4),         dtype=np.float32)\n",
    "\n",
    "cov_est = Covariances(estimator='oas')\n",
    "\n",
    "for w, start in tqdm(enumerate(starts)):\n",
    "    stop = start + win_len\n",
    "\n",
    "    # --- EEG covariance for this window ---  \n",
    "    seg_eeg = eeg[:, :, start:stop]           # (N_events, K_eeg, win_len)  \n",
    "    cov_ts[:, w, :, :] = cov_est.transform(seg_eeg)\n",
    "\n",
    "    # --- IMU stats for this window ---  \n",
    "    seg_imu = imu[:, :, start:stop]           # (N_events, K_imu, win_len)  \n",
    "    imu_ts[:, w, :] = imu_stats(seg_imu)      # (mean, std, max, min for each ch + accel)  \n"
   ]
  },
  {
   "cell_type": "code",
   "execution_count": 44,
   "id": "a1541b4a-6eee-4678-8466-a1730fca35e5",
   "metadata": {},
   "outputs": [
    {
     "data": {
      "application/vnd.jupyter.widget-view+json": {
       "model_id": "d37a0f32dab746ac97480f507504f1be",
       "version_major": 2,
       "version_minor": 0
      },
      "text/plain": [
       "  0%|          | 0/1000 [00:00<?, ?it/s]"
      ]
     },
     "metadata": {},
     "output_type": "display_data"
    },
    {
     "name": "stdout",
     "output_type": "stream",
     "text": [
      "CPU times: user 1.82 s, sys: 11.3 s, total: 13.1 s\n",
      "Wall time: 10min 27s\n"
     ]
    }
   ],
   "source": [
    "%%time\n",
    "def scan_lagged_cca(X: np.ndarray, Y: np.ndarray, lag_set: tuple, model: str = 'cca'):\n",
    "    \"\"\"Return τ⋆ and its first canonical correlation.\"\"\"\n",
    "    best_tau, best_rho = None, -np.inf\n",
    "    T = len(X)\n",
    "    for tau in lag_set:\n",
    "        Xτ = X[:T - tau] if tau else X\n",
    "        Yτ = Y[tau:] if tau else Y\n",
    "        if model == 'cca':\n",
    "            cca = CCA(n_components=1, scale=True)\n",
    "        else:\n",
    "            cca = PLS(n_components=1, scale=True)\n",
    "        u, v = cca.fit_transform(Xτ, Yτ)\n",
    "        rho = np.corrcoef(u[:, 0], v[:, 0])[0, 1]\n",
    "        if rho > best_rho:\n",
    "            best_tau, best_rho = tau, rho\n",
    "\n",
    "    return best_tau, best_rho\n",
    "\n",
    "\n",
    "lag_set = np.arange(10)\n",
    "partial_scan_lagged_cca = partial(scan_lagged_cca, lag_set=lag_set, model='pls')\n",
    "\n",
    "with Pool() as pool:\n",
    "    tau_arr = list(\n",
    "        tqdm(\n",
    "            pool.starmap(\n",
    "                partial_scan_lagged_cca,\n",
    "                zip(cov_ts.reshape(len(cov_ts), n_win, -1), imu_ts)\n",
    "            ),\n",
    "            total=len(cov_ts)\n",
    "        )\n",
    "    )"
   ]
  },
  {
   "cell_type": "code",
   "execution_count": 50,
   "id": "c66146ee-ee4e-4716-bab5-882ab00ac477",
   "metadata": {},
   "outputs": [
    {
     "data": {
      "image/png": "[encoded data removed]",
      "text/plain": [
       "<Figure size 640x480 with 1 Axes>"
      ]
     },
     "metadata": {},
     "output_type": "display_data"
    }
   ],
   "source": [
    "sns.barplot(Counter(list(map(lambda x: x[0], tau_arr))))\n",
    "plt.xlabel(\"Shift, 0.1 sec\")\n",
    "plt.ylabel(\"Count\")\n",
    "plt.title(\"Shift distribution\")\n",
    "plt.show()"
   ]
  },
  {
   "cell_type": "code",
   "execution_count": 52,
   "id": "dc7e430b-ab3f-4c61-b55e-fcd031ac96da",
   "metadata": {},
   "outputs": [],
   "source": [
    "del cov_ts, imu_ts"
   ]
  },
  {
   "cell_type": "code",
   "execution_count": 68,
   "id": "db415a51-8f9e-44c0-9ee4-1b3930a5ddd0",
   "metadata": {},
   "outputs": [
    {
     "data": {
      "application/vnd.jupyter.widget-view+json": {
       "model_id": "db94aa8f471b4aeda054ff469c144c7d",
       "version_major": 2,
       "version_minor": 0
      },
      "text/plain": [
       "  0%|          | 0/18 [00:00<?, ?it/s]"
      ]
     },
     "metadata": {},
     "output_type": "display_data"
    },
    {
     "name": "stdout",
     "output_type": "stream",
     "text": [
      "CPU times: user 9h 17min 53s, sys: 14h 57min 9s, total: 1d 15min 3s\n",
      "Wall time: 1h 30min 17s\n"
     ]
    }
   ],
   "source": [
    "%%time\n",
    "def imu_stats(arr):\n",
    "    # arr: (N, C, T) → output shape (N, (C+1)*4)\n",
    "    acceleration = np.sqrt(np.sum(np.square(arr[:, -3:, :]), axis=1, keepdims=True))\n",
    "    arr_stacked = np.concatenate((arr, acceleration), axis=1)\n",
    "    mean = arr_stacked.mean(axis=2)\n",
    "    std = arr_stacked.std(axis=2)\n",
    "    mx = arr_stacked.max(axis=2)\n",
    "    mn = arr_stacked.min(axis=2)\n",
    "    return np.concatenate([mean, std, mx, mn], axis=1)\n",
    "    \n",
    "window_size = 0.3   # seconds  \n",
    "step_size   = 0.1   # seconds  \n",
    "sfreq       = 250   # Hz\n",
    "SUBSAMPLE_SIZE = 1000\n",
    "\n",
    "np.random.rand(SEED)\n",
    "rand_indices = np.random.choice(len(y_total), SUBSAMPLE_SIZE, replace=False)\n",
    "eeg = eeg_total[rand_indices]\n",
    "imu = imu_total[rand_indices]\n",
    "\n",
    "win_len = int(window_size * sfreq)  # → 75 samples  \n",
    "step    = int(step_size   * sfreq)  # → 25 samples  \n",
    "starts  = np.arange(0, eeg.shape[2] - win_len + 1, step)\n",
    "n_win   = len(starts)\n",
    "\n",
    "# pre‐allocate  \n",
    "#   cov_ts:   (n_events, n_windows, n_chans, n_chans)  \n",
    "#   imu_ts:   (n_events, n_windows, (n_imu+1)*4)  \n",
    "cov_ts     = np.zeros((eeg.shape[0], n_win, eeg.shape[1]*(eeg.shape[1]+1)//2), dtype=np.float32)  \n",
    "imu_ts     = np.zeros((imu.shape[0], n_win, (imu.shape[1]+1)*4),         dtype=np.float32)\n",
    "\n",
    "pipe = Pipeline([('cov', Covariances(estimator='oas')), ('tangent', TangentSpace())])\n",
    "setattr(pipe['tangent'], \"reference_\", Covariances('oas').transform(eeg_total[0:1])[0])\n",
    "\n",
    "for w, start in tqdm(enumerate(starts), total=len(starts)):\n",
    "    stop = start + win_len\n",
    "\n",
    "    # --- EEG covariance for this window ---  \n",
    "    seg_eeg = eeg[:, :, start:stop]           # (N_events, K_eeg, win_len)  \n",
    "    cov_ts[:, w, :] = pipe.transform(seg_eeg)\n",
    "\n",
    "    # --- IMU stats for this window ---  \n",
    "    seg_imu = imu[:, :, start:stop]           # (N_events, K_imu, win_len)  \n",
    "    imu_ts[:, w, :] = imu_stats(seg_imu)      # (mean, std, max, min for each ch + accel)  \n"
   ]
  },
  {
   "cell_type": "code",
   "execution_count": 69,
   "id": "38b0403c-0e67-4031-942c-4679e4aa0e89",
   "metadata": {},
   "outputs": [
    {
     "data": {
      "application/vnd.jupyter.widget-view+json": {
       "model_id": "136dbf823a984de8bd4ef6147b4d1797",
       "version_major": 2,
       "version_minor": 0
      },
      "text/plain": [
       "  0%|          | 0/1000 [00:00<?, ?it/s]"
      ]
     },
     "metadata": {},
     "output_type": "display_data"
    },
    {
     "name": "stdout",
     "output_type": "stream",
     "text": [
      "CPU times: user 1.18 s, sys: 8.16 s, total: 9.34 s\n",
      "Wall time: 5min 39s\n"
     ]
    }
   ],
   "source": [
    "%%time\n",
    "lag_set = np.arange(10)\n",
    "partial_scan_lagged_cca = partial(scan_lagged_cca, lag_set=lag_set, model='pls')\n",
    "\n",
    "with Pool() as pool:\n",
    "    tau_arr_2 = list(\n",
    "        tqdm(\n",
    "            pool.starmap(\n",
    "                partial_scan_lagged_cca,\n",
    "                zip(cov_ts.reshape(len(cov_ts), n_win, -1), imu_ts)\n",
    "            ),\n",
    "            total=len(cov_ts)\n",
    "        )\n",
    "    )"
   ]
  },
  {
   "cell_type": "code",
   "execution_count": 70,
   "id": "78b2d0b9-cbf3-404f-9781-8f1841b0ec39",
   "metadata": {},
   "outputs": [
    {
     "data": {
      "image/png": "[encoded data removed]",
      "text/plain": [
       "<Figure size 640x480 with 1 Axes>"
      ]
     },
     "metadata": {},
     "output_type": "display_data"
    }
   ],
   "source": [
    "sns.barplot(Counter(list(map(lambda x: x[0], tau_arr_2))))\n",
    "plt.xlabel(\"Shift, 0.1 sec\")\n",
    "plt.ylabel(\"Count\")\n",
    "plt.title(\"Shift distribution\")\n",
    "plt.show()"
   ]
  },
  {
   "cell_type": "code",
   "execution_count": 71,
   "id": "9fea6f67-f75e-4b8a-9673-db58d3ee30e7",
   "metadata": {},
   "outputs": [],
   "source": [
    "del cov_ts, imu_ts"
   ]
  },
  {
   "cell_type": "code",
   "execution_count": 77,
   "id": "98f7de00-8224-48e9-bfca-e5c309d45af6",
   "metadata": {},
   "outputs": [],
   "source": [
    "eeg_tr = np.swapaxes(eeg, 1, 2)\n",
    "imu_tr = np.swapaxes(imu, 1, 2)"
   ]
  },
  {
   "cell_type": "code",
   "execution_count": 78,
   "id": "7b4c51b5-2dd9-4f9d-90a9-3767747baf64",
   "metadata": {},
   "outputs": [
    {
     "data": {
      "application/vnd.jupyter.widget-view+json": {
       "model_id": "ca7f56967ed543ecaf1137e34aa79923",
       "version_major": 2,
       "version_minor": 0
      },
      "text/plain": [
       "  0%|          | 0/1000 [00:00<?, ?it/s]"
      ]
     },
     "metadata": {},
     "output_type": "display_data"
    }
   ],
   "source": [
    "lag_set = np.arange(0, 301, 25)\n",
    "partial_scan_lagged_cca = partial(scan_lagged_cca, lag_set=lag_set, model='pls')\n",
    "\n",
    "with Pool() as pool:\n",
    "    tau_arr_3 = list(\n",
    "        tqdm(\n",
    "            pool.starmap(\n",
    "                partial_scan_lagged_cca,\n",
    "                zip(eeg_tr, imu_tr)\n",
    "            ),\n",
    "            total=len(eeg_tr)\n",
    "        )\n",
    "    )"
   ]
  },
  {
   "cell_type": "code",
   "execution_count": 79,
   "id": "303860b7-1565-4177-9f4b-2b071615fc5d",
   "metadata": {},
   "outputs": [
    {
     "data": {
      "image/png": "[encoded data removed]",
      "text/plain": [
       "<Figure size 640x480 with 1 Axes>"
      ]
     },
     "metadata": {},
     "output_type": "display_data"
    }
   ],
   "source": [
    "sns.barplot(Counter(list(map(lambda x: x[0], tau_arr_3))))\n",
    "plt.xlabel(\"Shift, 0.1 sec\")\n",
    "plt.ylabel(\"Count\")\n",
    "plt.title(\"Shift distribution\")\n",
    "plt.show()"
   ]
  }
 ],
 "metadata": {
  "kernelspec": {
   "display_name": "Python 3 (ipykernel)",
   "language": "python",
   "name": "python3"
  },
  "language_info": {
   "codemirror_mode": {
    "name": "ipython",
    "version": 3
   },
   "file_extension": ".py",
   "mimetype": "text/x-python",
   "name": "python",
   "nbconvert_exporter": "python",
   "pygments_lexer": "ipython3",
   "version": "3.10.12"
  }
 },
 "nbformat": 4,
 "nbformat_minor": 5
}
