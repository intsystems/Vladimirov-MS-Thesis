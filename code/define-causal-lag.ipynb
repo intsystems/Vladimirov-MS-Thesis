{
 "cells": [
  {
   "cell_type": "markdown",
   "id": "4a06af59-c00d-47cd-98f7-0b6bb5a2cabe",
   "metadata": {
    "jp-MarkdownHeadingCollapsed": true
   },
   "source": [
    "## Imports"
   ]
  },
  {
   "cell_type": "code",
   "execution_count": 4,
   "id": "c314b2b8-8cdb-4289-a277-553c6083c4ba",
   "metadata": {},
   "outputs": [],
   "source": [
    "import argparse\n",
    "import os\n",
    "import time\n",
    "import sys\n",
    "import random\n",
    "import gc\n",
    "import json\n",
    "import pickle\n",
    "from collections import Counter\n",
    "from multiprocessing import Pool\n",
    "from pathlib import Path\n",
    "\n",
    "from functools import partial\n",
    "\n",
    "import numpy as np\n",
    "import pandas as pd\n",
    "import matplotlib.pyplot as plt\n",
    "import seaborn as sns\n",
    "import scipy\n",
    "\n",
    "from sklearn.pipeline import Pipeline\n",
    "from sklearn.model_selection import train_test_split\n",
    "from sklearn.preprocessing import StandardScaler\n",
    "from sklearn.cross_decomposition import CCA, PLSRegression as PLS\n",
    "from IPython.display import Video, HTML\n",
    "from tqdm.notebook import tqdm\n",
    "from joblib import Parallel, delayed\n",
    "\n",
    "from pyriemann.estimation import XdawnCovariances, BlockCovariances, Covariances\n",
    "from pyriemann.tangentspace import TangentSpace\n",
    "\n",
    "manualSeed = 111\n",
    "SEED = manualSeed\n",
    "random.seed(manualSeed)\n",
    "\n",
    "DATA_PATH = '/data/vladimiroved/realWorldTableTennis'\n",
    "FREQ = 250"
   ]
  },
  {
   "cell_type": "markdown",
   "id": "b066675b-8b9d-45f7-bda3-7dfa88dcd4f5",
   "metadata": {},
   "source": [
    "## Collect data"
   ]
  },
  {
   "cell_type": "code",
   "execution_count": 5,
   "id": "4f33f154-e30c-487f-af44-44cf09311e61",
   "metadata": {},
   "outputs": [],
   "source": [
    "!mkdir -p causal-lag-data"
   ]
  },
  {
   "cell_type": "code",
   "execution_count": 5,
   "id": "3fc954be-5f93-4c22-af5c-bfdf348c8038",
   "metadata": {
    "scrolled": true
   },
   "outputs": [],
   "source": [
    "PARTICIPANT_CHANNELS = [\n",
    "    'Fp1', 'AFp1', 'AFz', 'AF3', 'AF7', 'AFF5h', 'AFF1h', 'F1', 'F3',\n",
    "    'F5', 'F7', 'F9', 'FFT9h', 'FFT7h', 'FFC5h', 'FFC3h', 'FFC1h',\n",
    "    'FCz', 'FC1', 'FC3', 'FC5', 'FT7', 'FT9', 'FTT9h', 'FTT7h',\n",
    "    'FCC5h', 'FCC3h', 'FCC1h', 'C1', 'C3', 'C5', 'T7', 'TTP7h',\n",
    "    'CCP5h', 'CCP3h', 'CCP1h', 'CP1', 'CP3', 'CP5', 'TP7', 'TPP9h',\n",
    "    'TPP7h', 'CPP5h', 'CPP3h', 'CPP1h', 'P1', 'P3', 'P5', 'P7',\n",
    "    'PPO5h', 'PPO1h', 'POz', 'PO3', 'PO7', 'PPO9h', 'O1', 'POO1',\n",
    "    'OI1h', 'Iz', 'Cz', 'C2', 'C4', 'C6', 'T8', 'FTT10h', 'FTT8h',\n",
    "    'FCC6h', 'FCC4h', 'FCC2h', 'FC2', 'FC4', 'FC6', 'FT8', 'FT10',\n",
    "    'FFT10h', 'FFT8h', 'FFC6h', 'FFC4h', 'FFC2h', 'Fz', 'F2', 'F4',\n",
    "    'F6', 'F8', 'F10', 'AFF6h', 'AFF2h', 'AF4', 'AF8', 'FP2', 'AFp2',\n",
    "    'Oz', 'OI2h', 'POO10h', 'O2', 'POO2', 'PO4', 'PO8', 'PPO10h',\n",
    "    'PPO6h', 'PPO2h', 'Pz', 'P2', 'P4', 'P6', 'P8', 'TPP10h', 'TPP8h',\n",
    "    'CPP6h', 'CPP4h', 'CPP2h', 'CP2', 'CP4', 'CP6', 'TP8', 'TTP8h',\n",
    "    'CCP6h', 'CCP4h', 'CCP2h', 'N-Fp1', 'N-AFp1', 'N-AFz', 'N-AF3',\n",
    "    'N-AF7', 'N-AFF5h', 'N-AFF1h', 'N-F1', 'N-F3', 'N-F5', 'N-F7',\n",
    "    'N-F9', 'N-FFT9h', 'N-FFT7h', 'N-FFC5h', 'N-FFC3h', 'N-FFC1h',\n",
    "    'N-FCz', 'N-FC1', 'N-FC3', 'N-FC5', 'N-FT7', 'N-FT9', 'N-FTT9h',\n",
    "    'N-FTT7h', 'N-FCC5h', 'N-FCC3h', 'N-FCC1h', 'N-C1', 'N-C3', 'N-C5',\n",
    "    'N-T7', 'N-TTP7h', 'N-CCP5h', 'N-CCP3h', 'N-CCP1h', 'N-CP1',\n",
    "    'N-CP3', 'N-CP5', 'N-TP7', 'N-TPP9h', 'N-TPP7h', 'N-CPP5h',\n",
    "    'N-CPP3h', 'N-CPP1h', 'N-P1', 'N-P3', 'N-P5', 'N-P7', 'N-PPO5h',\n",
    "    'N-PPO1h', 'N-POz', 'N-PO3', 'N-PO7', 'N-PPO9h', 'N-O1', 'N-POO1',\n",
    "    'N-OI1h', 'N-Iz', 'N-Cz', 'N-C2', 'N-C4', 'N-C6', 'N-T8',\n",
    "    'N-FTT10h', 'N-FTT8h', 'N-FCC6h', 'N-FCC4h', 'N-FCC2h', 'N-FC2',\n",
    "    'N-FC4', 'N-FC6', 'N-FT8', 'N-FT10', 'N-FFT10h', 'N-FFT8h',\n",
    "    'N-FFC6h', 'N-FFC4h', 'N-FFC2h', 'N-Fz', 'N-F2', 'N-F4', 'N-F6',\n",
    "    'N-F8', 'N-F10', 'N-AFF6h', 'N-AFF2h', 'N-AF4', 'N-AF8', 'N-FP2',\n",
    "    'N-AFp2', 'N-Oz', 'N-OI2h', 'N-POO10h', 'N-O2', 'N-POO2', 'N-PO4',\n",
    "    'N-PO8', 'N-PPO10h', 'N-PPO6h', 'N-PPO2h', 'N-Pz', 'N-P2', 'N-P4',\n",
    "    'N-P6', 'N-P8', 'N-TPP10h', 'N-TPP8h', 'N-CPP6h', 'N-CPP4h',\n",
    "    'N-CPP2h', 'N-CP2', 'N-CP4', 'N-CP6', 'N-TP8', 'N-TTP8h',\n",
    "    'N-CCP6h', 'N-CCP4h', 'N-CCP2h', 'LISCM', 'LSSCM', 'LSTrap',\n",
    "    'LITrap', 'CGY-x', 'CGY-y', 'CGY-z', 'RITrap', 'RISCM', 'RSSCM',\n",
    "    'RSTrap', 'CWR-x', 'CWR-y', 'CWR-z', 'NGY-x', 'NGY-y', 'NGY-z',\n",
    "    'NWR-x', 'NWR-y', 'NWR-z', 'Participant_Paddle_Acc_X(g)',\n",
    "    'Participant_Paddle_Acc_Y(g)', 'Participant_Paddle_Acc_Z(g)'\n",
    "]\n",
    "EPS = 1e-3\n",
    "SFREQ = 250\n",
    "SUB_IDS = ['0' * (n < 10) + str(n) for n in range(1, 26)]\n",
    "data_sample_arr = []\n",
    "\n",
    "np.random.seed(SEED)\n",
    "\n",
    "for SUB_ID in tqdm(SUB_IDS):\n",
    "    eeg_dirname = os.path.join(DATA_PATH, f'sub-{SUB_ID}', 'eeg/')\n",
    "    channels_df = pd.read_csv(eeg_dirname + f'sub-{SUB_ID}_task-TableTennis_channels.tsv', sep='\\t')\n",
    "    raw_eeg = mne.io.read_raw_eeglab(eeg_dirname + f'sub-{SUB_ID}_task-TableTennis_eeg.set', preload=True)\n",
    "    \n",
    "    eeg_channels = channels_df[channels_df['type'] == 'EEG']['name'].tolist()\n",
    "    emg_channels = channels_df[channels_df['type'] == 'EMG']['name'].tolist()\n",
    "    misc_channels = channels_df[channels_df['type'] == 'MISC']['name'].tolist()\n",
    "    \n",
    "    # Set channel types\n",
    "    channel_types = {}\n",
    "    for ch in raw_eeg.ch_names:\n",
    "        if ch in eeg_channels:\n",
    "            channel_types[ch] = 'eeg'\n",
    "        elif ch in emg_channels:\n",
    "            channel_types[ch] = 'emg'\n",
    "        else:\n",
    "            channel_types[ch] = 'misc'  # Includes IMU and other sensors\n",
    "    \n",
    "    raw_eeg.set_channel_types(channel_types)\n",
    "\n",
    "    # Take a random start moment from 10th to 50th minute\n",
    "    start_idx = np.random.randint(low=250*10*60, high=250*50*60)\n",
    "    # end_idx = start_idx + 1 minute\n",
    "    end_idx = start_idx + 250 * 60\n",
    "    \n",
    "    data_sample = raw_eeg.pick_channels(PARTICIPANT_CHANNELS).get_data(start=start_idx, stop=end_idx)\n",
    "\n",
    "    data_sample_arr.append(data_sample)\n",
    "    \n",
    "    gc.collect()"
   ]
  },
  {
   "cell_type": "code",
   "execution_count": 7,
   "id": "8e03ef81-28c2-447a-b93a-316749f6894e",
   "metadata": {},
   "outputs": [
    {
     "data": {
      "text/plain": [
       "(25, 261, 15000)"
      ]
     },
     "execution_count": 7,
     "metadata": {},
     "output_type": "execute_result"
    }
   ],
   "source": [
    "signals_slices_npy = np.stack(data_sample_arr)\n",
    "np.save('causal-lag-data/signals_sample.npy', signals_slices_npy)\n",
    "signals_slices_npy.shape"
   ]
  },
  {
   "cell_type": "code",
   "execution_count": 6,
   "id": "257e2e11-a4a2-478b-bf57-b6c0b5991336",
   "metadata": {},
   "outputs": [],
   "source": [
    "signals_slices_npy = np.load('../data/causal-lag-data/signals_sample.npy')"
   ]
  },
  {
   "cell_type": "markdown",
   "id": "f6bb3aff-f6e5-4a02-8077-212a3bc06f22",
   "metadata": {},
   "source": [
    "### Transform data"
   ]
  },
  {
   "cell_type": "code",
   "execution_count": 9,
   "id": "1339b1b9-2f14-430c-9ed3-854e698dd11b",
   "metadata": {},
   "outputs": [],
   "source": [
    "idx_noise_start = np.where(np.char.startswith(PARTICIPANT_CHANNELS, 'N-'))[0][0]\n",
    "scalp = signals_slices_npy[:, :idx_noise_start, :]\n",
    "noise = signals_slices_npy[:, idx_noise_start:2*idx_noise_start, :]\n",
    "eeg = scalp - noise\n",
    "\n",
    "imu_names = (\n",
    "    'LISCM', 'LSSCM', 'LSTrap', 'LITrap',\n",
    "    'RITrap', 'RISCM', 'RSSCM', 'RSTrap',\n",
    "    'Participant_Paddle_Acc_X(g)',\n",
    "    'Participant_Paddle_Acc_Y(g)',\n",
    "    'Participant_Paddle_Acc_Z(g)'\n",
    ")\n",
    "imu_idx = np.array([\n",
    "    PARTICIPANT_CHANNELS.index(nm) for nm in imu_names\n",
    "])\n",
    "imu = signals_slices_npy[:, imu_idx, :]\n",
    "imu_idx -= 2*idx_noise_start"
   ]
  },
  {
   "cell_type": "code",
   "execution_count": 11,
   "id": "a0534bb7-2c7a-4a95-b1d0-45bb642e962a",
   "metadata": {},
   "outputs": [],
   "source": [
    "def zscore(arr, mean=None, std=None):\n",
    "    # arr.shape = (K_EVENTS, K_CHANNELS, TIMESTEPS)\n",
    "    arr_mean = arr.mean(axis=(0, 2), keepdims=True) if mean is None else mean.reshape(1, -1, 1)\n",
    "    arr_std = arr.std(axis=(0, 2), keepdims=True) if std is None else std.reshape(1, -1, 1)\n",
    "    return (arr - arr_mean) / arr_std\n",
    "\n",
    "\n",
    "PATH_MACHINE = \"../data/human-player/signals-stats/\"\n",
    "\n",
    "eeg_mean = np.load(os.path.join(PATH_MACHINE, \"eeg_mean.npy\"))\n",
    "eeg_std = np.load(os.path.join(PATH_MACHINE, \"eeg_std.npy\"))\n",
    "imu_mean = np.load(os.path.join(PATH_MACHINE, \"imu_mean.npy\"))\n",
    "imu_std = np.load(os.path.join(PATH_MACHINE, \"imu_std.npy\"))\n",
    "\n",
    "imu_mean = imu_mean[imu_idx]\n",
    "imu_std = imu_std[imu_idx]\n",
    "\n",
    "eeg = zscore(eeg, eeg_mean, eeg_std)\n",
    "imu = zscore(imu, imu_mean, imu_std)"
   ]
  },
  {
   "cell_type": "markdown",
   "id": "148de91e-ec6c-4d81-9020-a4d598f81928",
   "metadata": {},
   "source": [
    "## Define causal lag $\\tau$"
   ]
  },
  {
   "cell_type": "markdown",
   "id": "9a4e0390-e34a-4e4b-b142-4b68aa421a78",
   "metadata": {},
   "source": [
    "### Covariance"
   ]
  },
  {
   "cell_type": "code",
   "execution_count": 37,
   "id": "bbc625d6-fccf-43c6-a941-a0e3d0e9e178",
   "metadata": {},
   "outputs": [
    {
     "data": {
      "application/vnd.jupyter.widget-view+json": {
       "model_id": "66223b1aa59c4f46bcf440d3130e3a7e",
       "version_major": 2,
       "version_minor": 0
      },
      "text/plain": [
       "  0%|          | 0/598 [00:00<?, ?it/s]"
      ]
     },
     "metadata": {},
     "output_type": "display_data"
    },
    {
     "name": "stdout",
     "output_type": "stream",
     "text": [
      "CPU times: user 10min 47s, sys: 24min 24s, total: 35min 12s\n",
      "Wall time: 1min 48s\n"
     ]
    }
   ],
   "source": [
    "%%time\n",
    "def imu_stats(arr):\n",
    "    # arr: (N, C, T) → output shape (N, (C+1)*4)\n",
    "    acceleration = np.sqrt(np.sum(np.square(arr[:, -3:, :]), axis=1, keepdims=True))\n",
    "    arr_stacked = np.concatenate((arr, acceleration), axis=1)\n",
    "    mean = arr_stacked.mean(axis=2)\n",
    "    std = arr_stacked.std(axis=2)\n",
    "    mx = arr_stacked.max(axis=2)\n",
    "    mn = arr_stacked.min(axis=2)\n",
    "    return np.concatenate([mean, std, mx, mn], axis=1)\n",
    "    \n",
    "window_size = 0.3   # seconds  \n",
    "step_size   = 0.1   # seconds  \n",
    "sfreq       = 250   # Hz\n",
    "\n",
    "win_len = int(window_size * sfreq)  # → 75 samples  \n",
    "step    = int(step_size   * sfreq)  # → 25 samples  \n",
    "starts  = np.arange(0, eeg.shape[2] - win_len + 1, step)\n",
    "n_win   = len(starts)\n",
    "\n",
    "# pre‐allocate  \n",
    "#   cov_ts:   (n_events, n_windows, n_chans, n_chans)  \n",
    "#   imu_ts:   (n_events, n_windows, (n_imu+1)*4)  \n",
    "cov_ts = np.zeros((eeg.shape[0], n_win, eeg.shape[1], eeg.shape[1]), dtype=np.float32)  \n",
    "imu_ts = np.zeros((imu.shape[0], n_win, (imu.shape[1]+1)*4),         dtype=np.float32)\n",
    "\n",
    "cov_est = Covariances(estimator='oas')\n",
    "\n",
    "for w, start in tqdm(enumerate(starts), total=len(starts)):\n",
    "    stop = start + win_len\n",
    "\n",
    "    # --- EEG covariance for this window ---  \n",
    "    seg_eeg = eeg[:, :, start:stop]           # (N_events, K_eeg, win_len)  \n",
    "    cov_ts[:, w, :, :] = cov_est.transform(seg_eeg)\n",
    "\n",
    "    # --- IMU stats for this window ---  \n",
    "    seg_imu = imu[:, :, start:stop]           # (N_events, K_imu, win_len)  \n",
    "    imu_ts[:, w, :] = imu_stats(seg_imu)      # (mean, std, max, min for each ch + accel)  \n"
   ]
  },
  {
   "cell_type": "code",
   "execution_count": 38,
   "id": "a1541b4a-6eee-4678-8466-a1730fca35e5",
   "metadata": {},
   "outputs": [
    {
     "data": {
      "application/vnd.jupyter.widget-view+json": {
       "model_id": "9f47452d6b524c2ba8b27805e283f430",
       "version_major": 2,
       "version_minor": 0
      },
      "text/plain": [
       "  0%|          | 0/25 [00:00<?, ?it/s]"
      ]
     },
     "metadata": {},
     "output_type": "display_data"
    },
    {
     "name": "stdout",
     "output_type": "stream",
     "text": [
      "CPU times: user 485 ms, sys: 1.74 s, total: 2.22 s\n",
      "Wall time: 33.7 s\n"
     ]
    }
   ],
   "source": [
    "%%time\n",
    "def scan_lagged_cca(X: np.ndarray, Y: np.ndarray, lag_set: tuple, model: str = 'cca'):\n",
    "    \"\"\"Return τ⋆ and its first canonical correlation.\"\"\"\n",
    "    best_tau, best_rho = None, -np.inf\n",
    "    T = len(X)\n",
    "    for tau in lag_set:\n",
    "        Xτ = X[:T - tau] if tau else X\n",
    "        Yτ = Y[tau:] if tau else Y\n",
    "        if model == 'cca':\n",
    "            cca = CCA(n_components=1, scale=True)\n",
    "        else:\n",
    "            cca = PLS(n_components=1, scale=True)\n",
    "        u, v = cca.fit_transform(Xτ, Yτ)\n",
    "        rho = np.corrcoef(u[:, 0], v[:, 0])[0, 1]\n",
    "        if rho > best_rho:\n",
    "            best_tau, best_rho = tau, rho\n",
    "\n",
    "    return best_tau, best_rho\n",
    "\n",
    "\n",
    "lag_set = np.arange(10)\n",
    "partial_scan_lagged_cca = partial(scan_lagged_cca, lag_set=lag_set, model='pls')\n",
    "\n",
    "with Pool() as pool:\n",
    "    tau_arr = list(\n",
    "        tqdm(\n",
    "            pool.starmap(\n",
    "                partial_scan_lagged_cca,\n",
    "                zip(cov_ts.reshape(len(cov_ts), n_win, -1), imu_ts)\n",
    "            ),\n",
    "            total=len(cov_ts)\n",
    "        )\n",
    "    )"
   ]
  },
  {
   "cell_type": "code",
   "execution_count": 39,
   "id": "c66146ee-ee4e-4716-bab5-882ab00ac477",
   "metadata": {},
   "outputs": [
    {
     "data": {
      "image/png": "[encoded data removed]",
      "text/plain": [
       "<Figure size 640x480 with 1 Axes>"
      ]
     },
     "metadata": {},
     "output_type": "display_data"
    }
   ],
   "source": [
    "sns.barplot(Counter(list(map(lambda x: x[0], tau_arr))))\n",
    "plt.xlabel(\"Shift, 0.1 sec\")\n",
    "plt.ylabel(\"Count\")\n",
    "plt.title(\"Shift distribution\")\n",
    "plt.show()"
   ]
  },
  {
   "cell_type": "code",
   "execution_count": 40,
   "id": "dc7e430b-ab3f-4c61-b55e-fcd031ac96da",
   "metadata": {},
   "outputs": [],
   "source": [
    "del cov_ts, imu_ts"
   ]
  },
  {
   "cell_type": "markdown",
   "id": "630cd523-4d5e-4f41-8970-bae1c167de17",
   "metadata": {},
   "source": [
    "### Covariance + TangentSpace"
   ]
  },
  {
   "cell_type": "code",
   "execution_count": 41,
   "id": "db415a51-8f9e-44c0-9ee4-1b3930a5ddd0",
   "metadata": {},
   "outputs": [
    {
     "data": {
      "application/vnd.jupyter.widget-view+json": {
       "model_id": "5a2f6bdb14824ab2b962860652a44b18",
       "version_major": 2,
       "version_minor": 0
      },
      "text/plain": [
       "  0%|          | 0/598 [00:00<?, ?it/s]"
      ]
     },
     "metadata": {},
     "output_type": "display_data"
    },
    {
     "name": "stdout",
     "output_type": "stream",
     "text": [
      "CPU times: user 24min 53s, sys: 55min 11s, total: 1h 20min 4s\n",
      "Wall time: 5min 22s\n"
     ]
    }
   ],
   "source": [
    "%%time\n",
    "def imu_stats(arr):\n",
    "    # arr: (N, C, T) → output shape (N, (C+1)*4)\n",
    "    acceleration = np.sqrt(np.sum(np.square(arr[:, -3:, :]), axis=1, keepdims=True))\n",
    "    arr_stacked = np.concatenate((arr, acceleration), axis=1)\n",
    "    mean = arr_stacked.mean(axis=2)\n",
    "    std = arr_stacked.std(axis=2)\n",
    "    mx = arr_stacked.max(axis=2)\n",
    "    mn = arr_stacked.min(axis=2)\n",
    "    return np.concatenate([mean, std, mx, mn], axis=1)\n",
    "    \n",
    "window_size = 0.3   # seconds  \n",
    "step_size   = 0.1   # seconds  \n",
    "sfreq       = 250   # Hz\n",
    "\n",
    "win_len = int(window_size * sfreq)  # → 75 samples  \n",
    "step    = int(step_size   * sfreq)  # → 25 samples  \n",
    "starts  = np.arange(0, eeg.shape[2] - win_len + 1, step)\n",
    "n_win   = len(starts)\n",
    "\n",
    "# pre‐allocate  \n",
    "#   cov_ts:   (n_events, n_windows, n_chans, n_chans)  \n",
    "#   imu_ts:   (n_events, n_windows, (n_imu+1)*4)  \n",
    "cov_ts     = np.zeros((eeg.shape[0], n_win, eeg.shape[1]*(eeg.shape[1]+1)//2), dtype=np.float32)  \n",
    "imu_ts     = np.zeros((imu.shape[0], n_win, (imu.shape[1]+1)*4),         dtype=np.float32)\n",
    "\n",
    "pipe = Pipeline([('cov', Covariances(estimator='oas')), ('tangent', TangentSpace())])\n",
    "setattr(pipe['tangent'], \"reference_\", Covariances('oas').transform(eeg[0:1])[0])\n",
    "\n",
    "for w, start in tqdm(enumerate(starts), total=len(starts)):\n",
    "    stop = start + win_len\n",
    "\n",
    "    # --- EEG covariance for this window ---  \n",
    "    seg_eeg = eeg[:, :, start:stop]           # (N_events, K_eeg, win_len)  \n",
    "    cov_ts[:, w, :] = pipe.transform(seg_eeg)\n",
    "\n",
    "    # --- IMU stats for this window ---  \n",
    "    seg_imu = imu[:, :, start:stop]           # (N_events, K_imu, win_len)  \n",
    "    imu_ts[:, w, :] = imu_stats(seg_imu)      # (mean, std, max, min for each ch + accel)  \n"
   ]
  },
  {
   "cell_type": "code",
   "execution_count": 42,
   "id": "38b0403c-0e67-4031-942c-4679e4aa0e89",
   "metadata": {},
   "outputs": [
    {
     "data": {
      "application/vnd.jupyter.widget-view+json": {
       "model_id": "c70b4dcc31bc4cf0840c379343778dd0",
       "version_major": 2,
       "version_minor": 0
      },
      "text/plain": [
       "  0%|          | 0/25 [00:00<?, ?it/s]"
      ]
     },
     "metadata": {},
     "output_type": "display_data"
    },
    {
     "name": "stdout",
     "output_type": "stream",
     "text": [
      "CPU times: user 287 ms, sys: 1.1 s, total: 1.38 s\n",
      "Wall time: 18.6 s\n"
     ]
    }
   ],
   "source": [
    "%%time\n",
    "lag_set = np.arange(10)\n",
    "partial_scan_lagged_cca = partial(scan_lagged_cca, lag_set=lag_set, model='pls')\n",
    "\n",
    "with Pool() as pool:\n",
    "    tau_arr_2 = list(\n",
    "        tqdm(\n",
    "            pool.starmap(\n",
    "                partial_scan_lagged_cca,\n",
    "                zip(cov_ts.reshape(len(cov_ts), n_win, -1), imu_ts)\n",
    "            ),\n",
    "            total=len(cov_ts)\n",
    "        )\n",
    "    )"
   ]
  },
  {
   "cell_type": "code",
   "execution_count": 43,
   "id": "78b2d0b9-cbf3-404f-9781-8f1841b0ec39",
   "metadata": {},
   "outputs": [
    {
     "data": {
      "image/png": "[encoded data removed]",
      "text/plain": [
       "<Figure size 640x480 with 1 Axes>"
      ]
     },
     "metadata": {},
     "output_type": "display_data"
    }
   ],
   "source": [
    "sns.barplot(Counter(list(map(lambda x: x[0], tau_arr_2))))\n",
    "plt.xlabel(\"Shift, 0.1 sec\")\n",
    "plt.ylabel(\"Count\")\n",
    "plt.title(\"Shift distribution\")\n",
    "plt.show()"
   ]
  },
  {
   "cell_type": "code",
   "execution_count": 44,
   "id": "9fea6f67-f75e-4b8a-9673-db58d3ee30e7",
   "metadata": {},
   "outputs": [],
   "source": [
    "del cov_ts, imu_ts"
   ]
  },
  {
   "cell_type": "markdown",
   "id": "d04ef2f1-0b15-46a3-8f3b-7b64829208f9",
   "metadata": {},
   "source": [
    "### Raw data"
   ]
  },
  {
   "cell_type": "code",
   "execution_count": 24,
   "id": "98f7de00-8224-48e9-bfca-e5c309d45af6",
   "metadata": {},
   "outputs": [],
   "source": [
    "eeg_tr = np.swapaxes(eeg, 1, 2)\n",
    "imu_tr = np.swapaxes(imu, 1, 2)"
   ]
  },
  {
   "cell_type": "code",
   "execution_count": 25,
   "id": "7b4c51b5-2dd9-4f9d-90a9-3767747baf64",
   "metadata": {},
   "outputs": [
    {
     "data": {
      "application/vnd.jupyter.widget-view+json": {
       "model_id": "371aba3a1ea441bcb09b40aa73302143",
       "version_major": 2,
       "version_minor": 0
      },
      "text/plain": [
       "  0%|          | 0/25 [00:00<?, ?it/s]"
      ]
     },
     "metadata": {},
     "output_type": "display_data"
    }
   ],
   "source": [
    "lag_set = np.arange(0, 251, 25)\n",
    "partial_scan_lagged_cca = partial(scan_lagged_cca, lag_set=lag_set, model='pls')\n",
    "\n",
    "with Pool() as pool:\n",
    "    tau_arr_3 = list(\n",
    "        tqdm(\n",
    "            pool.starmap(\n",
    "                partial_scan_lagged_cca,\n",
    "                zip(eeg_tr, imu_tr)\n",
    "            ),\n",
    "            total=len(eeg_tr)\n",
    "        )\n",
    "    )"
   ]
  },
  {
   "cell_type": "code",
   "execution_count": 28,
   "id": "303860b7-1565-4177-9f4b-2b071615fc5d",
   "metadata": {},
   "outputs": [
    {
     "data": {
      "image/png": "[encoded data removed]",
      "text/plain": [
       "<Figure size 640x480 with 1 Axes>"
      ]
     },
     "metadata": {},
     "output_type": "display_data"
    }
   ],
   "source": [
    "sns.barplot(Counter(list(map(lambda x: x[0], tau_arr_3))))\n",
    "plt.xlabel(\"Shift, steps\")\n",
    "plt.ylabel(\"Count\")\n",
    "plt.title(\"Shift distribution\")\n",
    "plt.show()"
   ]
  },
  {
   "cell_type": "markdown",
   "id": "ac5a3969-505d-4aac-a2af-13ceb2478b08",
   "metadata": {},
   "source": [
    "**Вывод**\n",
    "\n",
    "Для различных представлений EEG и IMU сигналов каузальный лаг находится в промежутке 0-100 ms. Это меньше 10% от длины временного окна событий. Таким образом, можно положить каузальный лаг равным 0, так как особого влияния малый ненулевой лаг не оказыавет."
   ]
  }
 ],
 "metadata": {
  "kernelspec": {
   "display_name": "Python 3 (ipykernel)",
   "language": "python",
   "name": "python3"
  },
  "language_info": {
   "codemirror_mode": {
    "name": "ipython",
    "version": 3
   },
   "file_extension": ".py",
   "mimetype": "text/x-python",
   "name": "python",
   "nbconvert_exporter": "python",
   "pygments_lexer": "ipython3",
   "version": "3.10.12"
  }
 },
 "nbformat": 4,
 "nbformat_minor": 5
}
