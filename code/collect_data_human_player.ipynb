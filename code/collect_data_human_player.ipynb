{
 "cells": [
  {
   "cell_type": "markdown",
   "id": "4a06af59-c00d-47cd-98f7-0b6bb5a2cabe",
   "metadata": {
    "jp-MarkdownHeadingCollapsed": true
   },
   "source": [
    "## Imports"
   ]
  },
  {
   "cell_type": "code",
   "execution_count": 47,
   "id": "c314b2b8-8cdb-4289-a277-553c6083c4ba",
   "metadata": {},
   "outputs": [],
   "source": [
    "import argparse\n",
    "import os\n",
    "import time\n",
    "import sys\n",
    "import random\n",
    "import gc\n",
    "import json\n",
    "import pickle\n",
    "from collections import Counter\n",
    "from multiprocessing import Pool\n",
    "from pathlib import Path\n",
    "\n",
    "import mat73\n",
    "\n",
    "import numpy as np\n",
    "import pandas as pd\n",
    "import matplotlib.pyplot as plt\n",
    "import mne\n",
    "import nibabel as nib\n",
    "import scipy\n",
    "\n",
    "from sklearn.model_selection import train_test_split\n",
    "from sklearn.preprocessing import StandardScaler\n",
    "\n",
    "from IPython.display import Video, HTML"
   ]
  },
  {
   "cell_type": "code",
   "execution_count": 22,
   "id": "9e1fe055-1a9d-43ae-b6ee-327b26b1389a",
   "metadata": {},
   "outputs": [],
   "source": [
    "import torch\n",
    "import torch.nn as nn\n",
    "import torch.optim as optim\n",
    "from torch.utils.data import Dataset, DataLoader\n",
    "import torch.nn.functional as F\n",
    "from tqdm.notebook import tqdm\n",
    "\n",
    "manualSeed = 111\n",
    "SEED = manualSeed\n",
    "\n",
    "random.seed(manualSeed)\n",
    "torch.manual_seed(manualSeed)\n",
    "torch.use_deterministic_algorithms(True)\n",
    "DEVICE = torch.device(\"cuda\" if torch.cuda.is_available() else \"cpu\")\n",
    "USE_CUDA = torch.cuda.is_available()\n",
    "\n",
    "\n",
    "def reset_seed(seed=manualSeed):\n",
    "    torch.manual_seed(seed)\n",
    "    np.random.seed(seed)\n",
    "\n",
    "\n",
    "os.environ['CUBLAS_WORKSPACE_CONFIG'] = ':16:8'\n",
    "os.environ['CUDA_LAUNCH_BLOCKING'] = '1'\n",
    "\n",
    "DATA_PATH = '/data/vladimiroved/realWorldTableTennis'\n",
    "SUB_ID = '07'"
   ]
  },
  {
   "cell_type": "markdown",
   "id": "a01e7e9d-bf4b-48f4-9618-e53a38857720",
   "metadata": {
    "jp-MarkdownHeadingCollapsed": true
   },
   "source": [
    "## EDA"
   ]
  },
  {
   "cell_type": "markdown",
   "id": "dba55f29-6567-4c77-93dd-8c25cde94556",
   "metadata": {},
   "source": [
    "Your dataset is organized as follows for each subject (e.g., `sub-01`):\n",
    "\n",
    "- **`anat` Folder**:\n",
    "  - `sub-01_T1w.nii`: De-identified T1-weighted anatomical MRI scan in NIfTI format.\n",
    "\n",
    "- **`eeg` Folder**:\n",
    "  - `sub-01_task-TableTennis_eeg.set`: EEGLAB dataset file containing EEG data.\n",
    "  - `sub-01_task-TableTennis_eeg.fdt`: EEGLAB binary data file associated with the `.set` file.\n",
    "  - `sub-01_task-TableTennis_channels.tsv`: Tab-separated file with channel information.\n",
    "  - `sub-01_task-TableTennis_coordsystem.json`: JSON file describing the coordinate system.\n",
    "  - `sub-01_task-TableTennis_electrodes.tsv`: Tab-separated file with electrode positions.\n",
    "  - `sub-01_task-TableTennis_events.tsv`: Tab-separated file with event information.\n",
    "  - `sub-01_task-TableTennis_events.json`: JSON file describing the events."
   ]
  },
  {
   "cell_type": "code",
   "execution_count": 23,
   "id": "1bb924b6-8ede-49fa-961d-0eea93bff7d8",
   "metadata": {},
   "outputs": [],
   "source": [
    "eeg_dirname = os.path.join(DATA_PATH, f'sub-{SUB_ID}', 'eeg/')\n",
    "anat_dirname = os.path.join(DATA_PATH, f'sub-{SUB_ID}', 'anat/')\n",
    "\n",
    "channels_df = pd.read_csv(eeg_dirname + f'sub-{SUB_ID}_task-TableTennis_channels.tsv', sep='\\t')\n",
    "electrodes_df = pd.read_csv(eeg_dirname + f'sub-{SUB_ID}_task-TableTennis_electrodes.tsv', sep='\\t')\n",
    "events_df = pd.read_csv(eeg_dirname + f'sub-{SUB_ID}_task-TableTennis_events.tsv', sep='\\t')\n",
    "participants_df = pd.read_csv(DATA_PATH + '/participants.tsv', sep='\\t')\n",
    "\n",
    "with open(eeg_dirname + f'sub-{SUB_ID}_task-TableTennis_coordsystem.json', 'rb') as fd:\n",
    "    coord_system = json.load(fd)\n",
    "\n",
    "with open(eeg_dirname + f'sub-{SUB_ID}_task-TableTennis_events.json', 'rb') as fd:\n",
    "    events = json.load(fd)\n",
    "\n",
    "with open(DATA_PATH + '/participants.json', 'rb') as fd:\n",
    "    participants_json = json.load(fd)"
   ]
  },
  {
   "cell_type": "markdown",
   "id": "4b28a70f-8fc8-4ec8-9c7f-6809964d2ba3",
   "metadata": {},
   "source": [
    "### Data View"
   ]
  },
  {
   "cell_type": "code",
   "execution_count": 24,
   "id": "115b2d63-b3f0-43d9-91fb-72edbd92b51c",
   "metadata": {},
   "outputs": [
    {
     "name": "stdout",
     "output_type": "stream",
     "text": [
      "(270, 3)\n"
     ]
    },
    {
     "data": {
      "text/html": [
       "<div>\n",
       "<style scoped>\n",
       "    .dataframe tbody tr th:only-of-type {\n",
       "        vertical-align: middle;\n",
       "    }\n",
       "\n",
       "    .dataframe tbody tr th {\n",
       "        vertical-align: top;\n",
       "    }\n",
       "\n",
       "    .dataframe thead th {\n",
       "        text-align: right;\n",
       "    }\n",
       "</style>\n",
       "<table border=\"1\" class=\"dataframe\">\n",
       "  <thead>\n",
       "    <tr style=\"text-align: right;\">\n",
       "      <th></th>\n",
       "      <th>name</th>\n",
       "      <th>type</th>\n",
       "      <th>units</th>\n",
       "    </tr>\n",
       "  </thead>\n",
       "  <tbody>\n",
       "    <tr>\n",
       "      <th>163</th>\n",
       "      <td>N-CPP3h</td>\n",
       "      <td>MISC</td>\n",
       "      <td>NaN</td>\n",
       "    </tr>\n",
       "    <tr>\n",
       "      <th>26</th>\n",
       "      <td>FCC3h</td>\n",
       "      <td>EEG</td>\n",
       "      <td>microV</td>\n",
       "    </tr>\n",
       "    <tr>\n",
       "      <th>165</th>\n",
       "      <td>N-P1</td>\n",
       "      <td>MISC</td>\n",
       "      <td>NaN</td>\n",
       "    </tr>\n",
       "    <tr>\n",
       "      <th>183</th>\n",
       "      <td>N-C6</td>\n",
       "      <td>MISC</td>\n",
       "      <td>NaN</td>\n",
       "    </tr>\n",
       "    <tr>\n",
       "      <th>143</th>\n",
       "      <td>N-FTT9h</td>\n",
       "      <td>MISC</td>\n",
       "      <td>NaN</td>\n",
       "    </tr>\n",
       "  </tbody>\n",
       "</table>\n",
       "</div>"
      ],
      "text/plain": [
       "        name  type   units\n",
       "163  N-CPP3h  MISC     NaN\n",
       "26     FCC3h   EEG  microV\n",
       "165     N-P1  MISC     NaN\n",
       "183     N-C6  MISC     NaN\n",
       "143  N-FTT9h  MISC     NaN"
      ]
     },
     "execution_count": 24,
     "metadata": {},
     "output_type": "execute_result"
    }
   ],
   "source": [
    "print(channels_df.shape)\n",
    "channels_df.sample(5, random_state=SEED)"
   ]
  },
  {
   "cell_type": "code",
   "execution_count": 25,
   "id": "72165c84-a551-40b4-bfb2-bd20e5f8e9c2",
   "metadata": {},
   "outputs": [
    {
     "name": "stdout",
     "output_type": "stream",
     "text": [
      "(270, 4)\n"
     ]
    },
    {
     "data": {
      "text/html": [
       "<div>\n",
       "<style scoped>\n",
       "    .dataframe tbody tr th:only-of-type {\n",
       "        vertical-align: middle;\n",
       "    }\n",
       "\n",
       "    .dataframe tbody tr th {\n",
       "        vertical-align: top;\n",
       "    }\n",
       "\n",
       "    .dataframe thead th {\n",
       "        text-align: right;\n",
       "    }\n",
       "</style>\n",
       "<table border=\"1\" class=\"dataframe\">\n",
       "  <thead>\n",
       "    <tr style=\"text-align: right;\">\n",
       "      <th></th>\n",
       "      <th>name</th>\n",
       "      <th>x</th>\n",
       "      <th>y</th>\n",
       "      <th>z</th>\n",
       "    </tr>\n",
       "  </thead>\n",
       "  <tbody>\n",
       "    <tr>\n",
       "      <th>163</th>\n",
       "      <td>N-CPP3h</td>\n",
       "      <td>NaN</td>\n",
       "      <td>NaN</td>\n",
       "      <td>NaN</td>\n",
       "    </tr>\n",
       "    <tr>\n",
       "      <th>26</th>\n",
       "      <td>FCC3h</td>\n",
       "      <td>10.37</td>\n",
       "      <td>57.56</td>\n",
       "      <td>113.4</td>\n",
       "    </tr>\n",
       "    <tr>\n",
       "      <th>165</th>\n",
       "      <td>N-P1</td>\n",
       "      <td>NaN</td>\n",
       "      <td>NaN</td>\n",
       "      <td>NaN</td>\n",
       "    </tr>\n",
       "    <tr>\n",
       "      <th>183</th>\n",
       "      <td>N-C6</td>\n",
       "      <td>NaN</td>\n",
       "      <td>NaN</td>\n",
       "      <td>NaN</td>\n",
       "    </tr>\n",
       "    <tr>\n",
       "      <th>143</th>\n",
       "      <td>N-FTT9h</td>\n",
       "      <td>NaN</td>\n",
       "      <td>NaN</td>\n",
       "      <td>NaN</td>\n",
       "    </tr>\n",
       "  </tbody>\n",
       "</table>\n",
       "</div>"
      ],
      "text/plain": [
       "        name      x      y      z\n",
       "163  N-CPP3h    NaN    NaN    NaN\n",
       "26     FCC3h  10.37  57.56  113.4\n",
       "165     N-P1    NaN    NaN    NaN\n",
       "183     N-C6    NaN    NaN    NaN\n",
       "143  N-FTT9h    NaN    NaN    NaN"
      ]
     },
     "execution_count": 25,
     "metadata": {},
     "output_type": "execute_result"
    }
   ],
   "source": [
    "print(electrodes_df.shape)\n",
    "electrodes_df.sample(5, random_state=SEED)"
   ]
  },
  {
   "cell_type": "code",
   "execution_count": 14,
   "id": "0d11aa6a-afd0-40d4-95b8-620b1bb9a73d",
   "metadata": {},
   "outputs": [
    {
     "name": "stdout",
     "output_type": "stream",
     "text": [
      "(3063, 7)\n"
     ]
    },
    {
     "data": {
      "text/html": [
       "<div>\n",
       "<style scoped>\n",
       "    .dataframe tbody tr th:only-of-type {\n",
       "        vertical-align: middle;\n",
       "    }\n",
       "\n",
       "    .dataframe tbody tr th {\n",
       "        vertical-align: top;\n",
       "    }\n",
       "\n",
       "    .dataframe thead th {\n",
       "        text-align: right;\n",
       "    }\n",
       "</style>\n",
       "<table border=\"1\" class=\"dataframe\">\n",
       "  <thead>\n",
       "    <tr style=\"text-align: right;\">\n",
       "      <th></th>\n",
       "      <th>onset</th>\n",
       "      <th>duration</th>\n",
       "      <th>sample</th>\n",
       "      <th>trial_type</th>\n",
       "      <th>response_time</th>\n",
       "      <th>stim_file</th>\n",
       "      <th>value</th>\n",
       "    </tr>\n",
       "  </thead>\n",
       "  <tbody>\n",
       "    <tr>\n",
       "      <th>2236</th>\n",
       "      <td>3436.684</td>\n",
       "      <td>NaN</td>\n",
       "      <td>859171.0</td>\n",
       "      <td>moving_serve</td>\n",
       "      <td>NaN</td>\n",
       "      <td>NaN</td>\n",
       "      <td>Subject_hit</td>\n",
       "    </tr>\n",
       "    <tr>\n",
       "      <th>1279</th>\n",
       "      <td>2135.968</td>\n",
       "      <td>NaN</td>\n",
       "      <td>533992.0</td>\n",
       "      <td>competitive</td>\n",
       "      <td>NaN</td>\n",
       "      <td>NaN</td>\n",
       "      <td>Subject_hit</td>\n",
       "    </tr>\n",
       "    <tr>\n",
       "      <th>2840</th>\n",
       "      <td>4092.850</td>\n",
       "      <td>NaN</td>\n",
       "      <td>1023212.5</td>\n",
       "      <td>cooperative</td>\n",
       "      <td>NaN</td>\n",
       "      <td>NaN</td>\n",
       "      <td>M  1</td>\n",
       "    </tr>\n",
       "    <tr>\n",
       "      <th>979</th>\n",
       "      <td>1688.136</td>\n",
       "      <td>NaN</td>\n",
       "      <td>422034.0</td>\n",
       "      <td>moving_hit</td>\n",
       "      <td>NaN</td>\n",
       "      <td>NaN</td>\n",
       "      <td>Subject_hit</td>\n",
       "    </tr>\n",
       "    <tr>\n",
       "      <th>1347</th>\n",
       "      <td>2231.248</td>\n",
       "      <td>NaN</td>\n",
       "      <td>557812.0</td>\n",
       "      <td>competitive</td>\n",
       "      <td>NaN</td>\n",
       "      <td>NaN</td>\n",
       "      <td>Subject_hit</td>\n",
       "    </tr>\n",
       "  </tbody>\n",
       "</table>\n",
       "</div>"
      ],
      "text/plain": [
       "         onset  duration     sample    trial_type  response_time  stim_file  \\\n",
       "2236  3436.684       NaN   859171.0  moving_serve            NaN        NaN   \n",
       "1279  2135.968       NaN   533992.0   competitive            NaN        NaN   \n",
       "2840  4092.850       NaN  1023212.5   cooperative            NaN        NaN   \n",
       "979   1688.136       NaN   422034.0    moving_hit            NaN        NaN   \n",
       "1347  2231.248       NaN   557812.0   competitive            NaN        NaN   \n",
       "\n",
       "            value  \n",
       "2236  Subject_hit  \n",
       "1279  Subject_hit  \n",
       "2840         M  1  \n",
       "979   Subject_hit  \n",
       "1347  Subject_hit  "
      ]
     },
     "execution_count": 14,
     "metadata": {},
     "output_type": "execute_result"
    }
   ],
   "source": [
    "print(events_df.shape)\n",
    "events_df.sample(5, random_state=SEED)"
   ]
  },
  {
   "cell_type": "code",
   "execution_count": 15,
   "id": "9823ee45-309e-4b97-b726-23d1bfd50fdd",
   "metadata": {},
   "outputs": [
    {
     "data": {
      "text/plain": [
       "({'EEGCoordinateUnits': 'mm',\n",
       "  'EEGCoordinateSystem': 'Other',\n",
       "  'EEGCoordinateSystemDescription': 'EEGLAB'},\n",
       " {'onset': {'Description': 'Event onset', 'Units': 'second'},\n",
       "  'trial_type': {'LongName': 'Event categorization',\n",
       "   'Description': 'Primary categorization of each trial to identify them as instances of the experimental conditions (equivalent to the EEG.event.condlabel field in the data).',\n",
       "   'Levels': {'competitive': 'Competitive games with a human player',\n",
       "    'cooperative': 'Cooperative hitting with a human player',\n",
       "    'moving_hit': 'Ball machine; machine was oscillating; 1 bounce',\n",
       "    'moving_serve': 'Ball machine; machine was oscillating; 2 bounces',\n",
       "    'stationary_hit': 'Ball machine; machine was not oscillating; 1 bounce',\n",
       "    'stationary_serve': 'Ball machine; machine was not oscillating; 2 bounces'}},\n",
       "  'value': {'Description': 'Type of event (equivalent to the EEG.event.type field in the data).',\n",
       "   'Levels': {'M 1': 'Sync event recorded with BrainVision system',\n",
       "    'Subject_hit': \"The participant's paddle made contact with the ball\",\n",
       "    'Subject_receive': \"The ball machine fed OR the human opponent's paddle made contact with the ball\"}}})"
      ]
     },
     "execution_count": 15,
     "metadata": {},
     "output_type": "execute_result"
    }
   ],
   "source": [
    "coord_system, events"
   ]
  },
  {
   "cell_type": "code",
   "execution_count": 16,
   "id": "54d634de-4c80-45df-bace-c031f8268fc1",
   "metadata": {},
   "outputs": [
    {
     "name": "stdout",
     "output_type": "stream",
     "text": [
      "Reading /data/kazachkovda/realWorldTableTennis/sub-07/eeg/sub-07_task-TableTennis_eeg.fdt\n",
      "Reading 0 ... 1174502  =      0.000 ...  4698.008 secs...\n"
     ]
    },
    {
     "name": "stderr",
     "output_type": "stream",
     "text": [
      "/tmp/ipykernel_1573707/1054951819.py:1: RuntimeWarning: Unknown types found, setting as type EEG:\n",
      "acc: ['CGY-x', 'CGY-y', 'CGY-z', 'CWR-x', 'CWR-y', 'CWR-z', 'NGY-x', 'NGY-y', 'NGY-z', 'NWR-x', 'NWR-y', 'NWR-z']\n",
      "cometas: ['BallMachine_Acc_X(g)', 'BallMachine_Acc_Y(g)', 'BallMachine_Acc_Z(g)', 'Imu_2 :W():', 'Imu_2 :X():', 'Imu_2 :Y():', 'Imu_2 :Z():', 'Imu_2_ImuGyro :X(D/s):', 'Imu_2_ImuGyro :Y(D/s):', 'Imu_2_ImuGyro :Z(D/s):', 'Imu_2_ImuMag :X(uT):', 'Imu_2_ImuMag :Y(uT):', 'Imu_2_ImuMag :Z(uT):', 'Imu_4 :W():', 'Imu_4 :X():', 'Imu_4 :Y():', 'Imu_4 :Z():', 'Imu_4_ImuGyro :X(D/s):', 'Imu_4_ImuGyro :Y(D/s):', 'Imu_4_ImuGyro :Z(D/s):', 'Imu_4_ImuMag :X(uT):', 'Imu_4_ImuMag :Y(uT):', 'Imu_4_ImuMag :Z(uT):', 'Net_Acc_X(g)', 'Net_Acc_Y(g)', 'Net_Acc_Z(g)', 'Participant_Paddle_Acc_X(g)', 'Participant_Paddle_Acc_Y(g)', 'Participant_Paddle_Acc_Z(g)', 'Researcher_Paddle_Acc_X(g)', 'Researcher_Paddle_Acc_Y(g)', 'Researcher_Paddle_Acc_Z(g)', 'SyncPulse(uV)', 'Table_OtherSide_Acc_X(g)', 'Table_OtherSide_Acc_Y(g)', 'Table_OtherSide_Acc_Z(g)', 'Table_ParticipantSide_Acc_X(g)', 'Table_ParticipantSide_Acc_Y(g)', 'Table_ParticipantSide_Acc_Z(g)']\n",
      "noise: ['N-AF3', 'N-AF4', 'N-AF7', 'N-AF8', 'N-AFF1h', 'N-AFF2h', 'N-AFF5h', 'N-AFF6h', 'N-AFp1', 'N-AFp2', 'N-AFz', 'N-C1', 'N-C2', 'N-C3', 'N-C4', 'N-C5', 'N-C6', 'N-CCP1h', 'N-CCP2h', 'N-CCP3h', 'N-CCP4h', 'N-CCP5h', 'N-CCP6h', 'N-CP1', 'N-CP2', 'N-CP3', 'N-CP4', 'N-CP5', 'N-CP6', 'N-CPP1h', 'N-CPP2h', 'N-CPP3h', 'N-CPP4h', 'N-CPP5h', 'N-CPP6h', 'N-Cz', 'N-F1', 'N-F10', 'N-F2', 'N-F3', 'N-F4', 'N-F5', 'N-F6', 'N-F7', 'N-F8', 'N-F9', 'N-FC1', 'N-FC2', 'N-FC3', 'N-FC4', 'N-FC5', 'N-FC6', 'N-FCC1h', 'N-FCC2h', 'N-FCC3h', 'N-FCC4h', 'N-FCC5h', 'N-FCC6h', 'N-FCz', 'N-FFC1h', 'N-FFC2h', 'N-FFC3h', 'N-FFC4h', 'N-FFC5h', 'N-FFC6h', 'N-FFT10h', 'N-FFT7h', 'N-FFT8h', 'N-FFT9h', 'N-FP2', 'N-FT10', 'N-FT7', 'N-FT8', 'N-FT9', 'N-FTT10h', 'N-FTT7h', 'N-FTT8h', 'N-FTT9h', 'N-Fp1', 'N-Fz', 'N-Iz', 'N-O1', 'N-O2', 'N-OI1h', 'N-OI2h', 'N-Oz', 'N-P1', 'N-P2', 'N-P3', 'N-P4', 'N-P5', 'N-P6', 'N-P7', 'N-P8', 'N-PO3', 'N-PO4', 'N-PO7', 'N-PO8', 'N-POO1', 'N-POO10h', 'N-POO2', 'N-POO9h', 'N-POz', 'N-PPO10h', 'N-PPO1h', 'N-PPO2h', 'N-PPO5h', 'N-PPO6h', 'N-PPO9h', 'N-Pz', 'N-T7', 'N-T8', 'N-TP7', 'N-TP8', 'N-TPP10h', 'N-TPP7h', 'N-TPP8h', 'N-TPP9h', 'N-TTP7h', 'N-TTP8h']\n",
      "  raw_eeg = mne.io.read_raw_eeglab(eeg_dirname + f'sub-{SUB_ID}_task-TableTennis_eeg.set', preload=True)\n",
      "/tmp/ipykernel_1573707/1054951819.py:1: RuntimeWarning: Estimated head radius (11.4 cm) is above the 99th percentile for adult head size. Check if the montage_units argument is correct (the default is \"mm\", but your channel positions may be in different units).\n",
      "  raw_eeg = mne.io.read_raw_eeglab(eeg_dirname + f'sub-{SUB_ID}_task-TableTennis_eeg.set', preload=True)\n",
      "/tmp/ipykernel_1573707/1054951819.py:1: RuntimeWarning: Data file name in EEG.data (sub-07_task-tabletennis_eeg.fdt) is incorrect, the file name must have changed on disk, using the correct file name (sub-07_task-TableTennis_eeg.fdt).\n",
      "  raw_eeg = mne.io.read_raw_eeglab(eeg_dirname + f'sub-{SUB_ID}_task-TableTennis_eeg.set', preload=True)\n",
      "/tmp/ipykernel_1573707/1054951819.py:1: RuntimeWarning: Omitted 1 annotation(s) that were outside data range.\n",
      "  raw_eeg = mne.io.read_raw_eeglab(eeg_dirname + f'sub-{SUB_ID}_task-TableTennis_eeg.set', preload=True)\n",
      "/tmp/ipykernel_1573707/1054951819.py:1: RuntimeWarning: The data contains 'boundary' events, indicating data discontinuities. Be cautious of filtering and epoching around these events.\n",
      "  raw_eeg = mne.io.read_raw_eeglab(eeg_dirname + f'sub-{SUB_ID}_task-TableTennis_eeg.set', preload=True)\n",
      "/tmp/ipykernel_1573707/1054951819.py:1: RuntimeWarning: Not setting positions of 8 emg channels found in montage:\n",
      "['LISCM', 'LSSCM', 'LSTrap', 'LITrap', 'RITrap', 'RISCM', 'RSSCM', 'RSTrap']\n",
      "Consider setting the channel types to be of EEG/sEEG/ECoG/DBS/fNIRS using inst.set_channel_types before calling inst.set_montage, or omit these channels when creating your montage.\n",
      "  raw_eeg = mne.io.read_raw_eeglab(eeg_dirname + f'sub-{SUB_ID}_task-TableTennis_eeg.set', preload=True)\n"
     ]
    }
   ],
   "source": [
    "raw_eeg = mne.io.read_raw_eeglab(eeg_dirname + f'sub-{SUB_ID}_task-TableTennis_eeg.set', preload=True)"
   ]
  },
  {
   "cell_type": "markdown",
   "id": "b67298df-7a42-42f5-95fb-6e135b68047c",
   "metadata": {},
   "source": [
    "**Визуализация обработанных ЭЭГ**"
   ]
  },
  {
   "cell_type": "code",
   "execution_count": 17,
   "id": "0382e3b1-1da2-4368-8fc9-d5d04292b358",
   "metadata": {},
   "outputs": [
    {
     "name": "stderr",
     "output_type": "stream",
     "text": [
      "/tmp/ipykernel_1573707/49138378.py:15: RuntimeWarning: The unit for channel(s) BallMachine_Acc_X(g), BallMachine_Acc_Y(g), BallMachine_Acc_Z(g), CGY-x, CGY-y, CGY-z, CWR-x, CWR-y, CWR-z, Imu_2 :W():, Imu_2 :X():, Imu_2 :Y():, Imu_2 :Z():, Imu_2_ImuGyro :X(D/s):, Imu_2_ImuGyro :Y(D/s):, Imu_2_ImuGyro :Z(D/s):, Imu_2_ImuMag :X(uT):, Imu_2_ImuMag :Y(uT):, Imu_2_ImuMag :Z(uT):, Imu_4 :W():, Imu_4 :X():, Imu_4 :Y():, Imu_4 :Z():, Imu_4_ImuGyro :X(D/s):, Imu_4_ImuGyro :Y(D/s):, Imu_4_ImuGyro :Z(D/s):, Imu_4_ImuMag :X(uT):, Imu_4_ImuMag :Y(uT):, Imu_4_ImuMag :Z(uT):, N-AF3, N-AF4, N-AF7, N-AF8, N-AFF1h, N-AFF2h, N-AFF5h, N-AFF6h, N-AFp1, N-AFp2, N-AFz, N-C1, N-C2, N-C3, N-C4, N-C5, N-C6, N-CCP1h, N-CCP2h, N-CCP3h, N-CCP4h, N-CCP5h, N-CCP6h, N-CP1, N-CP2, N-CP3, N-CP4, N-CP5, N-CP6, N-CPP1h, N-CPP2h, N-CPP3h, N-CPP4h, N-CPP5h, N-CPP6h, N-Cz, N-F1, N-F10, N-F2, N-F3, N-F4, N-F5, N-F6, N-F7, N-F8, N-F9, N-FC1, N-FC2, N-FC3, N-FC4, N-FC5, N-FC6, N-FCC1h, N-FCC2h, N-FCC3h, N-FCC4h, N-FCC5h, N-FCC6h, N-FCz, N-FFC1h, N-FFC2h, N-FFC3h, N-FFC4h, N-FFC5h, N-FFC6h, N-FFT10h, N-FFT7h, N-FFT8h, N-FFT9h, N-FP2, N-FT10, N-FT7, N-FT8, N-FT9, N-FTT10h, N-FTT7h, N-FTT8h, N-FTT9h, N-Fp1, N-Fz, N-Iz, N-O1, N-O2, N-OI1h, N-OI2h, N-Oz, N-P1, N-P2, N-P3, N-P4, N-P5, N-P6, N-P7, N-P8, N-PO3, N-PO4, N-PO7, N-PO8, N-POO1, N-POO10h, N-POO2, N-POO9h, N-POz, N-PPO10h, N-PPO1h, N-PPO2h, N-PPO5h, N-PPO6h, N-PPO9h, N-Pz, N-T7, N-T8, N-TP7, N-TP8, N-TPP10h, N-TPP7h, N-TPP8h, N-TPP9h, N-TTP7h, N-TTP8h, NGY-x, NGY-y, NGY-z, NWR-x, NWR-y, NWR-z, Net_Acc_X(g), Net_Acc_Y(g), Net_Acc_Z(g), Participant_Paddle_Acc_X(g), Participant_Paddle_Acc_Y(g), Participant_Paddle_Acc_Z(g), Researcher_Paddle_Acc_X(g), Researcher_Paddle_Acc_Y(g), Researcher_Paddle_Acc_Z(g), SyncPulse(uV), Table_OtherSide_Acc_X(g), Table_OtherSide_Acc_Y(g), Table_OtherSide_Acc_Z(g), Table_ParticipantSide_Acc_X(g), Table_ParticipantSide_Acc_Y(g), Table_ParticipantSide_Acc_Z(g) has changed from V to NA.\n",
      "  raw_eeg.set_channel_types(channel_types)\n"
     ]
    },
    {
     "data": {
      "text/html": [
       "<script type=\"text/javascript\">\n",
       "    const toggleVisibility = (className) => {\n",
       "\n",
       "  const elements = document.querySelectorAll(`.${className}`)\n",
       "\n",
       "  elements.forEach(element => {\n",
       "    if (element.classList.contains('repr-section-header')) {\n",
       "      // Don't collapse the section header row.\n",
       "       return\n",
       "    }\n",
       "    if (element.classList.contains('repr-element-collapsed')) {\n",
       "      // Force a reflow to ensure the display change takes effect before removing the class\n",
       "      element.classList.remove('repr-element-collapsed')\n",
       "      element.offsetHeight // This forces the browser to recalculate layout\n",
       "      element.classList.remove('repr-element-faded')\n",
       "    } else {\n",
       "      // Start transition to hide the element\n",
       "      element.classList.add('repr-element-faded')\n",
       "      element.addEventListener('transitionend', handler = (e) => {\n",
       "        if (e.propertyName === 'opacity' && getComputedStyle(element).opacity === '0.2') {\n",
       "          element.classList.add('repr-element-collapsed')\n",
       "          element.removeEventListener('transitionend', handler)\n",
       "        }\n",
       "      });\n",
       "    }\n",
       "  });\n",
       "\n",
       "  // Take care of button (adjust caret)\n",
       "  const button = document.querySelectorAll(`.repr-section-header.${className} > th.repr-section-toggle-col > button`)[0]\n",
       "  button.classList.toggle('collapsed')\n",
       "\n",
       "  // Take care of the tooltip of the section header row\n",
       "  const sectionHeaderRow = document.querySelectorAll(`tr.repr-section-header.${className}`)[0]\n",
       "  sectionHeaderRow.classList.toggle('collapsed')\n",
       "  sectionHeaderRow.title = sectionHeaderRow.title === 'Hide section' ? 'Show section' : 'Hide section'\n",
       "}\n",
       "</script>\n",
       "\n",
       "<style type=\"text/css\">\n",
       "    table.repr.table.table-hover.table-striped.table-sm.table-responsive.small {\n",
       "  /* Don't make rows wider than they need to be. */\n",
       "  display: inline;\n",
       "}\n",
       "\n",
       "table > tbody > tr.repr-element > td {\n",
       "  /* Apply a tighter layout to the table cells. */\n",
       "  padding-top: 0.1rem;\n",
       "  padding-bottom: 0.1rem;\n",
       "  padding-right: 1rem;\n",
       "}\n",
       "\n",
       "table > tbody > tr > td.repr-section-toggle-col {\n",
       "  /* Remove background and border of the first cell in every row\n",
       "     (this row is only used for the collapse / uncollapse caret)\n",
       "\n",
       "     TODO: Need to find a good solution for VS Code that works in both\n",
       "           light and dark mode. */\n",
       "  border-color: transparent;\n",
       "  --bs-table-accent-bg: transparent;\n",
       "}\n",
       "\n",
       "tr.repr-section-header {\n",
       "  /* Remove stripes from section header rows */\n",
       "  background-color: transparent;\n",
       "  border-color: transparent;\n",
       "  --bs-table-striped-bg: transparent;\n",
       "  cursor: pointer;\n",
       "}\n",
       "\n",
       "tr.repr-section-header > th {\n",
       "  text-align: left !important;\n",
       "  vertical-align: middle;\n",
       "}\n",
       "\n",
       ".repr-element, tr.repr-element > td {\n",
       "  opacity: 1;\n",
       "  text-align: left !important;\n",
       "}\n",
       "\n",
       ".repr-element-faded {\n",
       "  transition: 0.3s ease;\n",
       "  opacity: 0.2;\n",
       "}\n",
       "\n",
       ".repr-element-collapsed {\n",
       "  display: none;\n",
       "}\n",
       "\n",
       "/* Collapse / uncollapse button and the caret it contains. */\n",
       ".repr-section-toggle-col button {\n",
       "  cursor: pointer;\n",
       "  width: 1rem;\n",
       "  background-color: transparent;\n",
       "  border-color: transparent;\n",
       "}\n",
       "\n",
       "span.collapse-uncollapse-caret {\n",
       "  width: 1rem;\n",
       "  height: 1rem;\n",
       "  display: block;\n",
       "  background-repeat: no-repeat;\n",
       "  background-position: left;\n",
       "  background-size: contain;\n",
       "}\n",
       "\n",
       "/* The collapse / uncollapse carets were copied from the free Font Awesome collection and adjusted. */\n",
       "\n",
       "/* Default to black carets for light mode */\n",
       ".repr-section-toggle-col > button.collapsed > span.collapse-uncollapse-caret {\n",
       "  background-image: url('data:image/svg+xml;charset=utf8,<svg xmlns=\"http://www.w3.org/2000/svg\" viewBox=\"0 0 256 512\"><!--!Font Awesome Free 6.5.2 by @fontawesome - https://fontawesome.com License - https://fontawesome.com/license/free Copyright 2024 Fonticons, Inc.--><path fill=\"black\" d=\"M246.6 278.6c12.5-12.5 12.5-32.8 0-45.3l-128-128c-9.2-9.2-22.9-11.9-34.9-6.9s-19.8 16.6-19.8 29.6l0 256c0 12.9 7.8 24.6 19.8 29.6s25.7 2.2 34.9-6.9l128-128z\"/></svg>');\n",
       "}\n",
       "\n",
       ".repr-section-toggle-col\n",
       "  > button:not(.collapsed)\n",
       "  > span.collapse-uncollapse-caret {\n",
       "  background-image: url('data:image/svg+xml;charset=utf8,<svg xmlns=\"http://www.w3.org/2000/svg\" viewBox=\"0 0 320 512\"><!--!Font Awesome Free 6.5.2 by @fontawesome - https://fontawesome.com License - https://fontawesome.com/license/free Copyright 2024 Fonticons, Inc.--><path fill=\"black\" d=\"M137.4 374.6c12.5 12.5 32.8 12.5 45.3 0l128-128c9.2-9.2 11.9-22.9 6.9-34.9s-16.6-19.8-29.6-19.8L32 192c-12.9 0-24.6 7.8-29.6 19.8s-2.2 25.7 6.9 34.9l128 128z\"/></svg>');\n",
       "}\n",
       "\n",
       "/* Use white carets for dark mode */\n",
       "@media (prefers-color-scheme: dark) {\n",
       "  .repr-section-toggle-col > button.collapsed > span.collapse-uncollapse-caret {\n",
       "    background-image: url('data:image/svg+xml;charset=utf8,<svg xmlns=\"http://www.w3.org/2000/svg\" viewBox=\"0 0 256 512\"><!--!Font Awesome Free 6.5.2 by @fontawesome - https://fontawesome.com License - https://fontawesome.com/license/free Copyright 2024 Fonticons, Inc.--><path fill=\"white\" d=\"M246.6 278.6c12.5-12.5 12.5-32.8 0-45.3l-128-128c-9.2-9.2-22.9-11.9-34.9-6.9s-19.8 16.6-19.8 29.6l0 256c0 12.9 7.8 24.6 19.8 29.6s25.7 2.2 34.9-6.9l128-128z\"/></svg>');\n",
       "  }\n",
       "\n",
       "  .repr-section-toggle-col\n",
       "    > button:not(.collapsed)\n",
       "    > span.collapse-uncollapse-caret {\n",
       "    background-image: url('data:image/svg+xml;charset=utf8,<svg xmlns=\"http://www.w3.org/2000/svg\" viewBox=\"0 0 320 512\"><!--!Font Awesome Free 6.5.2 by @fontawesome - https://fontawesome.com License - https://fontawesome.com/license/free Copyright 2024 Fonticons, Inc.--><path fill=\"white\" d=\"M137.4 374.6c12.5 12.5 32.8 12.5 45.3 0l128-128c9.2-9.2 11.9-22.9 6.9-34.9s-16.6-19.8-29.6-19.8L32 192c-12.9 0-24.6 7.8-29.6 19.8s-2.2 25.7 6.9 34.9l128 128z\"/></svg>');\n",
       "  }\n",
       "}\n",
       "\n",
       ".channel-names-btn {\n",
       "  padding: 0;\n",
       "  border: none;\n",
       "  background: none;\n",
       "  text-decoration: underline;\n",
       "  text-decoration-style: dashed;\n",
       "  cursor: pointer;\n",
       "  color: #0d6efd;\n",
       "}\n",
       "\n",
       ".channel-names-btn:hover {\n",
       "  color: #0a58ca;\n",
       "}\n",
       "</style>\n",
       "\n",
       "\n",
       "\n",
       "<table class=\"repr table table-hover table-striped table-sm table-responsive small\">\n",
       "    \n",
       "\n",
       "\n",
       "\n",
       "\n",
       "\n",
       "\n",
       "\n",
       "<tr class=\"repr-section-header general-10b2f705-4cf8-4017-b4b0-1e0f57f76da1\"  title=\"Hide section\" \n",
       "    onclick=\"toggleVisibility('general-10b2f705-4cf8-4017-b4b0-1e0f57f76da1')\">\n",
       "    <th class=\"repr-section-toggle-col\">\n",
       "        <button>\n",
       "            \n",
       "            <span class=\"collapse-uncollapse-caret\"></span>\n",
       "        </button>\n",
       "    </th>\n",
       "    <th colspan=\"2\">\n",
       "        <strong>General</strong>\n",
       "    </th>\n",
       "</tr>\n",
       "\n",
       "<tr class=\"repr-element general-10b2f705-4cf8-4017-b4b0-1e0f57f76da1 \">\n",
       "    <td class=\"repr-section-toggle-col\"></td>\n",
       "    <td>Filename(s)</td>\n",
       "    <td>\n",
       "        \n",
       "        sub-07_task-TableTennis_eeg.fdt\n",
       "        \n",
       "        \n",
       "    </td>\n",
       "</tr>\n",
       "\n",
       "<tr class=\"repr-element general-10b2f705-4cf8-4017-b4b0-1e0f57f76da1 \">\n",
       "    <td class=\"repr-section-toggle-col\"></td>\n",
       "    <td>MNE object type</td>\n",
       "    <td>RawEEGLAB</td>\n",
       "</tr>\n",
       "<tr class=\"repr-element general-10b2f705-4cf8-4017-b4b0-1e0f57f76da1 \">\n",
       "    <td class=\"repr-section-toggle-col\"></td>\n",
       "    <td>Measurement date</td>\n",
       "    \n",
       "    <td>Unknown</td>\n",
       "    \n",
       "</tr>\n",
       "<tr class=\"repr-element general-10b2f705-4cf8-4017-b4b0-1e0f57f76da1 \">\n",
       "    <td class=\"repr-section-toggle-col\"></td>\n",
       "    <td>Participant</td>\n",
       "    \n",
       "    <td>Unknown</td>\n",
       "    \n",
       "</tr>\n",
       "<tr class=\"repr-element general-10b2f705-4cf8-4017-b4b0-1e0f57f76da1 \">\n",
       "    <td class=\"repr-section-toggle-col\"></td>\n",
       "    <td>Experimenter</td>\n",
       "    \n",
       "    <td>Unknown</td>\n",
       "    \n",
       "</tr>\n",
       "    \n",
       "\n",
       "\n",
       "\n",
       "\n",
       "\n",
       "\n",
       "\n",
       "<tr class=\"repr-section-header acquisition-6014a015-6675-4501-89e6-95fb92662a59\" \n",
       "    title=\"Hide section\"  onclick=\"toggleVisibility('acquisition-6014a015-6675-4501-89e6-95fb92662a59')\">\n",
       "    <th class=\"repr-section-toggle-col\">\n",
       "        <button>\n",
       "            \n",
       "            <span class=\"collapse-uncollapse-caret\"></span>\n",
       "        </button>\n",
       "    </th>\n",
       "    <th colspan=\"2\">\n",
       "        <strong>Acquisition</strong>\n",
       "    </th>\n",
       "</tr>\n",
       "\n",
       "<tr class=\"repr-element acquisition-6014a015-6675-4501-89e6-95fb92662a59 \">\n",
       "    <td class=\"repr-section-toggle-col\"></td>\n",
       "    <td>Duration</td>\n",
       "    <td>01:18:19 (HH:MM:SS)</td>\n",
       "</tr>\n",
       "\n",
       "\n",
       "\n",
       "\n",
       "\n",
       "\n",
       "\n",
       "\n",
       "<tr class=\"repr-element acquisition-6014a015-6675-4501-89e6-95fb92662a59 \">\n",
       "    <td class=\"repr-section-toggle-col\"></td>\n",
       "    <td>Sampling frequency</td>\n",
       "    <td>250.00 Hz</td>\n",
       "</tr>\n",
       "\n",
       "\n",
       "<tr class=\"repr-element acquisition-6014a015-6675-4501-89e6-95fb92662a59 \">\n",
       "    <td class=\"repr-section-toggle-col\"></td>\n",
       "    <td>Time points</td>\n",
       "    <td>1,174,503</td>\n",
       "</tr>\n",
       "\n",
       "\n",
       "    \n",
       "\n",
       "\n",
       "\n",
       "\n",
       "\n",
       "\n",
       "\n",
       "<tr class=\"repr-section-header channels-a210262d-0f8e-4ec2-b837-9c8a5acc4140\"  title=\"Hide section\" \n",
       "    onclick=\"toggleVisibility('channels-a210262d-0f8e-4ec2-b837-9c8a5acc4140')\">\n",
       "    <th class=\"repr-section-toggle-col\">\n",
       "        <button>\n",
       "            \n",
       "            <span class=\"collapse-uncollapse-caret\"></span>\n",
       "        </button>\n",
       "    </th>\n",
       "    <th colspan=\"2\">\n",
       "        <strong>Channels</strong>\n",
       "    </th>\n",
       "</tr>\n",
       "\n",
       "\n",
       "<tr class=\"repr-element channels-a210262d-0f8e-4ec2-b837-9c8a5acc4140 \">\n",
       "    <td class=\"repr-section-toggle-col\"></td>\n",
       "    <td>EEG</td>\n",
       "    <td>\n",
       "        <button class=\"channel-names-btn\" onclick=\"alert('Good EEG:\\n\\nFp1, AFp1, AFz, AF3, AF7, AFF5h, AFF1h, F1, F3, F5, F7, F9, FFT9h, FFT7h, FFC5h, FFC3h, FFC1h, FCz, FC1, FC3, FC5, FT7, FT9, FTT9h, FTT7h, FCC5h, FCC3h, FCC1h, C1, C3, C5, T7, TTP7h, CCP5h, CCP3h, CCP1h, CP1, CP3, CP5, TP7, TPP9h, TPP7h, CPP5h, CPP3h, CPP1h, P1, P3, P5, P7, PPO5h, PPO1h, POz, PO3, PO7, PPO9h, POO9h, O1, POO1, OI1h, Iz, Cz, C2, C4, C6, T8, FTT10h, FTT8h, FCC6h, FCC4h, FCC2h, FC2, FC4, FC6, FT8, FT10, FFT10h, FFT8h, FFC6h, FFC4h, FFC2h, Fz, F2, F4, F6, F8, F10, AFF6h, AFF2h, AF4, AF8, FP2, AFp2, Oz, OI2h, POO10h, O2, POO2, PO4, PO8, PPO10h, PPO6h, PPO2h, Pz, P2, P4, P6, P8, TPP10h, TPP8h, CPP6h, CPP4h, CPP2h, CP2, CP4, CP6, TP8, TTP8h, CCP6h, CCP4h, CCP2h')\" title=\"(Click to open in popup)&#13;&#13;Fp1, AFp1, AFz, AF3, AF7, AFF5h, AFF1h, F1, F3, F5, F7, F9, FFT9h, FFT7h, FFC5h, FFC3h, FFC1h, FCz, FC1, FC3, FC5, FT7, FT9, FTT9h, FTT7h, FCC5h, FCC3h, FCC1h, C1, C3, C5, T7, TTP7h, CCP5h, CCP3h, CCP1h, CP1, CP3, CP5, TP7, TPP9h, TPP7h, CPP5h, CPP3h, CPP1h, P1, P3, P5, P7, PPO5h, PPO1h, POz, PO3, PO7, PPO9h, POO9h, O1, POO1, OI1h, Iz, Cz, C2, C4, C6, T8, FTT10h, FTT8h, FCC6h, FCC4h, FCC2h, FC2, FC4, FC6, FT8, FT10, FFT10h, FFT8h, FFC6h, FFC4h, FFC2h, Fz, F2, F4, F6, F8, F10, AFF6h, AFF2h, AF4, AF8, FP2, AFp2, Oz, OI2h, POO10h, O2, POO2, PO4, PO8, PPO10h, PPO6h, PPO2h, Pz, P2, P4, P6, P8, TPP10h, TPP8h, CPP6h, CPP4h, CPP2h, CP2, CP4, CP6, TP8, TTP8h, CCP6h, CCP4h, CCP2h\">\n",
       "            120\n",
       "        </button>\n",
       "\n",
       "        \n",
       "    </td>\n",
       "</tr>\n",
       "\n",
       "\n",
       "<tr class=\"repr-element channels-a210262d-0f8e-4ec2-b837-9c8a5acc4140 \">\n",
       "    <td class=\"repr-section-toggle-col\"></td>\n",
       "    <td>EMG</td>\n",
       "    <td>\n",
       "        <button class=\"channel-names-btn\" onclick=\"alert('Good EMG:\\n\\nLISCM, LSSCM, LSTrap, LITrap, RITrap, RISCM, RSSCM, RSTrap')\" title=\"(Click to open in popup)&#13;&#13;LISCM, LSSCM, LSTrap, LITrap, RITrap, RISCM, RSSCM, RSTrap\">\n",
       "            8\n",
       "        </button>\n",
       "\n",
       "        \n",
       "    </td>\n",
       "</tr>\n",
       "\n",
       "\n",
       "<tr class=\"repr-element channels-a210262d-0f8e-4ec2-b837-9c8a5acc4140 \">\n",
       "    <td class=\"repr-section-toggle-col\"></td>\n",
       "    <td>misc</td>\n",
       "    <td>\n",
       "        <button class=\"channel-names-btn\" onclick=\"alert('Good misc:\\n\\nN-Fp1, N-AFp1, N-AFz, N-AF3, N-AF7, N-AFF5h, N-AFF1h, N-F1, N-F3, N-F5, N-F7, N-F9, N-FFT9h, N-FFT7h, N-FFC5h, N-FFC3h, N-FFC1h, N-FCz, N-FC1, N-FC3, N-FC5, N-FT7, N-FT9, N-FTT9h, N-FTT7h, N-FCC5h, N-FCC3h, N-FCC1h, N-C1, N-C3, N-C5, N-T7, N-TTP7h, N-CCP5h, N-CCP3h, N-CCP1h, N-CP1, N-CP3, N-CP5, N-TP7, N-TPP9h, N-TPP7h, N-CPP5h, N-CPP3h, N-CPP1h, N-P1, N-P3, N-P5, N-P7, N-PPO5h, N-PPO1h, N-POz, N-PO3, N-PO7, N-PPO9h, N-POO9h, N-O1, N-POO1, N-OI1h, N-Iz, N-Cz, N-C2, N-C4, N-C6, N-T8, N-FTT10h, N-FTT8h, N-FCC6h, N-FCC4h, N-FCC2h, N-FC2, N-FC4, N-FC6, N-FT8, N-FT10, N-FFT10h, N-FFT8h, N-FFC6h, N-FFC4h, N-FFC2h, N-Fz, N-F2, N-F4, N-F6, N-F8, N-F10, N-AFF6h, N-AFF2h, N-AF4, N-AF8, N-FP2, N-AFp2, N-Oz, N-OI2h, N-POO10h, N-O2, N-POO2, N-PO4, N-PO8, N-PPO10h, N-PPO6h, N-PPO2h, N-Pz, N-P2, N-P4, N-P6, N-P8, N-TPP10h, N-TPP8h, N-CPP6h, N-CPP4h, N-CPP2h, N-CP2, N-CP4, N-CP6, N-TP8, N-TTP8h, N-CCP6h, N-CCP4h, N-CCP2h, CGY-x, CGY-y, CGY-z, CWR-x, CWR-y, CWR-z, NGY-x, NGY-y, NGY-z, NWR-x, NWR-y, NWR-z, SyncPulse(uV), Participant_Paddle_Acc_X(g), BallMachine_Acc_X(g), Researcher_Paddle_Acc_X(g), Net_Acc_X(g), Table_OtherSide_Acc_X(g), Table_ParticipantSide_Acc_X(g), Participant_Paddle_Acc_Y(g), BallMachine_Acc_Y(g), Researcher_Paddle_Acc_Y(g), Net_Acc_Y(g), Table_OtherSide_Acc_Y(g), Table_ParticipantSide_Acc_Y(g), Participant_Paddle_Acc_Z(g), BallMachine_Acc_Z(g), Researcher_Paddle_Acc_Z(g), Net_Acc_Z(g), Table_OtherSide_Acc_Z(g), Table_ParticipantSide_Acc_Z(g), Imu_2_ImuGyro&nbsp;:X(D/s):, Imu_4_ImuGyro&nbsp;:X(D/s):, Imu_2_ImuGyro&nbsp;:Y(D/s):, Imu_4_ImuGyro&nbsp;:Y(D/s):, Imu_2_ImuGyro&nbsp;:Z(D/s):, Imu_4_ImuGyro&nbsp;:Z(D/s):, Imu_2_ImuMag&nbsp;:X(uT):, Imu_4_ImuMag&nbsp;:X(uT):, Imu_2_ImuMag&nbsp;:Y(uT):, Imu_4_ImuMag&nbsp;:Y(uT):, Imu_2_ImuMag&nbsp;:Z(uT):, Imu_4_ImuMag&nbsp;:Z(uT):, Imu_2&nbsp;:W():, Imu_4&nbsp;:W():, Imu_2&nbsp;:X():, Imu_4&nbsp;:X():, Imu_2&nbsp;:Y():, Imu_4&nbsp;:Y():, Imu_2&nbsp;:Z():, Imu_4&nbsp;:Z():')\" title=\"(Click to open in popup)&#13;&#13;N-Fp1, N-AFp1, N-AFz, N-AF3, N-AF7, N-AFF5h, N-AFF1h, N-F1, N-F3, N-F5, N-F7, N-F9, N-FFT9h, N-FFT7h, N-FFC5h, N-FFC3h, N-FFC1h, N-FCz, N-FC1, N-FC3, N-FC5, N-FT7, N-FT9, N-FTT9h, N-FTT7h, N-FCC5h, N-FCC3h, N-FCC1h, N-C1, N-C3, N-C5, N-T7, N-TTP7h, N-CCP5h, N-CCP3h, N-CCP1h, N-CP1, N-CP3, N-CP5, N-TP7, N-TPP9h, N-TPP7h, N-CPP5h, N-CPP3h, N-CPP1h, N-P1, N-P3, N-P5, N-P7, N-PPO5h, N-PPO1h, N-POz, N-PO3, N-PO7, N-PPO9h, N-POO9h, N-O1, N-POO1, N-OI1h, N-Iz, N-Cz, N-C2, N-C4, N-C6, N-T8, N-FTT10h, N-FTT8h, N-FCC6h, N-FCC4h, N-FCC2h, N-FC2, N-FC4, N-FC6, N-FT8, N-FT10, N-FFT10h, N-FFT8h, N-FFC6h, N-FFC4h, N-FFC2h, N-Fz, N-F2, N-F4, N-F6, N-F8, N-F10, N-AFF6h, N-AFF2h, N-AF4, N-AF8, N-FP2, N-AFp2, N-Oz, N-OI2h, N-POO10h, N-O2, N-POO2, N-PO4, N-PO8, N-PPO10h, N-PPO6h, N-PPO2h, N-Pz, N-P2, N-P4, N-P6, N-P8, N-TPP10h, N-TPP8h, N-CPP6h, N-CPP4h, N-CPP2h, N-CP2, N-CP4, N-CP6, N-TP8, N-TTP8h, N-CCP6h, N-CCP4h, N-CCP2h, CGY-x, CGY-y, CGY-z, CWR-x, CWR-y, CWR-z, NGY-x, NGY-y, NGY-z, NWR-x, NWR-y, NWR-z, SyncPulse(uV), Participant_Paddle_Acc_X(g), BallMachine_Acc_X(g), Researcher_Paddle_Acc_X(g), Net_Acc_X(g), Table_OtherSide_Acc_X(g), Table_ParticipantSide_Acc_X(g), Participant_Paddle_Acc_Y(g), BallMachine_Acc_Y(g), Researcher_Paddle_Acc_Y(g), Net_Acc_Y(g), Table_OtherSide_Acc_Y(g), Table_ParticipantSide_Acc_Y(g), Participant_Paddle_Acc_Z(g), BallMachine_Acc_Z(g), Researcher_Paddle_Acc_Z(g), Net_Acc_Z(g), Table_OtherSide_Acc_Z(g), Table_ParticipantSide_Acc_Z(g), Imu_2_ImuGyro&nbsp;:X(D/s):, Imu_4_ImuGyro&nbsp;:X(D/s):, Imu_2_ImuGyro&nbsp;:Y(D/s):, Imu_4_ImuGyro&nbsp;:Y(D/s):, Imu_2_ImuGyro&nbsp;:Z(D/s):, Imu_4_ImuGyro&nbsp;:Z(D/s):, Imu_2_ImuMag&nbsp;:X(uT):, Imu_4_ImuMag&nbsp;:X(uT):, Imu_2_ImuMag&nbsp;:Y(uT):, Imu_4_ImuMag&nbsp;:Y(uT):, Imu_2_ImuMag&nbsp;:Z(uT):, Imu_4_ImuMag&nbsp;:Z(uT):, Imu_2&nbsp;:W():, Imu_4&nbsp;:W():, Imu_2&nbsp;:X():, Imu_4&nbsp;:X():, Imu_2&nbsp;:Y():, Imu_4&nbsp;:Y():, Imu_2&nbsp;:Z():, Imu_4&nbsp;:Z():\">\n",
       "            171\n",
       "        </button>\n",
       "\n",
       "        \n",
       "    </td>\n",
       "</tr>\n",
       "\n",
       "\n",
       "<tr class=\"repr-element channels-a210262d-0f8e-4ec2-b837-9c8a5acc4140 \">\n",
       "    <td class=\"repr-section-toggle-col\"></td>\n",
       "    <td>Head & sensor digitization</td>\n",
       "    \n",
       "    <td>294 points</td>\n",
       "    \n",
       "</tr>\n",
       "    \n",
       "\n",
       "\n",
       "\n",
       "\n",
       "\n",
       "\n",
       "\n",
       "<tr class=\"repr-section-header filters-38816478-da38-4af5-8ebb-7d02c0ef2c75\"  title=\"Hide section\" \n",
       "    onclick=\"toggleVisibility('filters-38816478-da38-4af5-8ebb-7d02c0ef2c75')\">\n",
       "    <th class=\"repr-section-toggle-col\">\n",
       "        <button>\n",
       "            \n",
       "            <span class=\"collapse-uncollapse-caret\"></span>\n",
       "        </button>\n",
       "    </th>\n",
       "    <th colspan=\"2\">\n",
       "        <strong>Filters</strong>\n",
       "    </th>\n",
       "</tr>\n",
       "\n",
       "<tr class=\"repr-element filters-38816478-da38-4af5-8ebb-7d02c0ef2c75 \">\n",
       "    <td class=\"repr-section-toggle-col\"></td>\n",
       "    <td>Highpass</td>\n",
       "    <td>0.00 Hz</td>\n",
       "</tr>\n",
       "\n",
       "\n",
       "<tr class=\"repr-element filters-38816478-da38-4af5-8ebb-7d02c0ef2c75 \">\n",
       "    <td class=\"repr-section-toggle-col\"></td>\n",
       "    <td>Lowpass</td>\n",
       "    <td>125.00 Hz</td>\n",
       "</tr>\n",
       "\n",
       "\n",
       "</table>"
      ],
      "text/plain": [
       "<RawEEGLAB | sub-07_task-TableTennis_eeg.fdt, 299 x 1174503 (4698.0 s), ~2.62 GB, data loaded>"
      ]
     },
     "execution_count": 17,
     "metadata": {},
     "output_type": "execute_result"
    }
   ],
   "source": [
    "eeg_channels = channels_df[channels_df['type'] == 'EEG']['name'].tolist()\n",
    "emg_channels = channels_df[channels_df['type'] == 'EMG']['name'].tolist()\n",
    "misc_channels = channels_df[channels_df['type'] == 'MISC']['name'].tolist()\n",
    "\n",
    "# Set channel types\n",
    "channel_types = {}\n",
    "for ch in raw_eeg.ch_names:\n",
    "    if ch in eeg_channels:\n",
    "        channel_types[ch] = 'eeg'\n",
    "    elif ch in emg_channels:\n",
    "        channel_types[ch] = 'emg'\n",
    "    else:\n",
    "        channel_types[ch] = 'misc'  # Includes IMU and other sensors\n",
    "\n",
    "raw_eeg.set_channel_types(channel_types)"
   ]
  },
  {
   "cell_type": "markdown",
   "id": "16da1c0a-66c0-43e9-a185-562e1fbe2b72",
   "metadata": {},
   "source": [
    "Watch channels names"
   ]
  },
  {
   "cell_type": "code",
   "execution_count": 18,
   "id": "74d27765-f327-498f-886f-d4f20e029410",
   "metadata": {
    "scrolled": true
   },
   "outputs": [
    {
     "data": {
      "text/plain": [
       "(['Fp1',\n",
       "  'AFp1',\n",
       "  'AFz',\n",
       "  'AF3',\n",
       "  'AF7',\n",
       "  'AFF5h',\n",
       "  'AFF1h',\n",
       "  'F1',\n",
       "  'F3',\n",
       "  'F5',\n",
       "  'F7',\n",
       "  'F9',\n",
       "  'FFT9h',\n",
       "  'FFT7h',\n",
       "  'FFC5h',\n",
       "  'FFC3h',\n",
       "  'FFC1h',\n",
       "  'FCz',\n",
       "  'FC1',\n",
       "  'FC3',\n",
       "  'FC5',\n",
       "  'FT7',\n",
       "  'FT9',\n",
       "  'FTT9h',\n",
       "  'FTT7h',\n",
       "  'FCC5h',\n",
       "  'FCC3h',\n",
       "  'FCC1h',\n",
       "  'C1',\n",
       "  'C3',\n",
       "  'C5',\n",
       "  'T7',\n",
       "  'TTP7h',\n",
       "  'CCP5h',\n",
       "  'CCP3h',\n",
       "  'CCP1h',\n",
       "  'CP1',\n",
       "  'CP3',\n",
       "  'CP5',\n",
       "  'TP7',\n",
       "  'TPP9h',\n",
       "  'TPP7h',\n",
       "  'CPP5h',\n",
       "  'CPP3h',\n",
       "  'CPP1h',\n",
       "  'P1',\n",
       "  'P3',\n",
       "  'P5',\n",
       "  'P7',\n",
       "  'PPO5h',\n",
       "  'PPO1h',\n",
       "  'POz',\n",
       "  'PO3',\n",
       "  'PO7',\n",
       "  'PPO9h',\n",
       "  'POO9h',\n",
       "  'O1',\n",
       "  'POO1',\n",
       "  'OI1h',\n",
       "  'Iz',\n",
       "  'Cz',\n",
       "  'C2',\n",
       "  'C4',\n",
       "  'C6',\n",
       "  'T8',\n",
       "  'FTT10h',\n",
       "  'FTT8h',\n",
       "  'FCC6h',\n",
       "  'FCC4h',\n",
       "  'FCC2h',\n",
       "  'FC2',\n",
       "  'FC4',\n",
       "  'FC6',\n",
       "  'FT8',\n",
       "  'FT10',\n",
       "  'FFT10h',\n",
       "  'FFT8h',\n",
       "  'FFC6h',\n",
       "  'FFC4h',\n",
       "  'FFC2h',\n",
       "  'Fz',\n",
       "  'F2',\n",
       "  'F4',\n",
       "  'F6',\n",
       "  'F8',\n",
       "  'F10',\n",
       "  'AFF6h',\n",
       "  'AFF2h',\n",
       "  'AF4',\n",
       "  'AF8',\n",
       "  'FP2',\n",
       "  'AFp2',\n",
       "  'Oz',\n",
       "  'OI2h',\n",
       "  'POO10h',\n",
       "  'O2',\n",
       "  'POO2',\n",
       "  'PO4',\n",
       "  'PO8',\n",
       "  'PPO10h',\n",
       "  'PPO6h',\n",
       "  'PPO2h',\n",
       "  'Pz',\n",
       "  'P2',\n",
       "  'P4',\n",
       "  'P6',\n",
       "  'P8',\n",
       "  'TPP10h',\n",
       "  'TPP8h',\n",
       "  'CPP6h',\n",
       "  'CPP4h',\n",
       "  'CPP2h',\n",
       "  'CP2',\n",
       "  'CP4',\n",
       "  'CP6',\n",
       "  'TP8',\n",
       "  'TTP8h',\n",
       "  'CCP6h',\n",
       "  'CCP4h',\n",
       "  'CCP2h'],\n",
       " ['N-Fp1',\n",
       "  'N-AFp1',\n",
       "  'N-AFz',\n",
       "  'N-AF3',\n",
       "  'N-AF7',\n",
       "  'N-AFF5h',\n",
       "  'N-AFF1h',\n",
       "  'N-F1',\n",
       "  'N-F3',\n",
       "  'N-F5',\n",
       "  'N-F7',\n",
       "  'N-F9',\n",
       "  'N-FFT9h',\n",
       "  'N-FFT7h',\n",
       "  'N-FFC5h',\n",
       "  'N-FFC3h',\n",
       "  'N-FFC1h',\n",
       "  'N-FCz',\n",
       "  'N-FC1',\n",
       "  'N-FC3',\n",
       "  'N-FC5',\n",
       "  'N-FT7',\n",
       "  'N-FT9',\n",
       "  'N-FTT9h',\n",
       "  'N-FTT7h',\n",
       "  'N-FCC5h',\n",
       "  'N-FCC3h',\n",
       "  'N-FCC1h',\n",
       "  'N-C1',\n",
       "  'N-C3',\n",
       "  'N-C5',\n",
       "  'N-T7',\n",
       "  'N-TTP7h',\n",
       "  'N-CCP5h',\n",
       "  'N-CCP3h',\n",
       "  'N-CCP1h',\n",
       "  'N-CP1',\n",
       "  'N-CP3',\n",
       "  'N-CP5',\n",
       "  'N-TP7',\n",
       "  'N-TPP9h',\n",
       "  'N-TPP7h',\n",
       "  'N-CPP5h',\n",
       "  'N-CPP3h',\n",
       "  'N-CPP1h',\n",
       "  'N-P1',\n",
       "  'N-P3',\n",
       "  'N-P5',\n",
       "  'N-P7',\n",
       "  'N-PPO5h',\n",
       "  'N-PPO1h',\n",
       "  'N-POz',\n",
       "  'N-PO3',\n",
       "  'N-PO7',\n",
       "  'N-PPO9h',\n",
       "  'N-POO9h',\n",
       "  'N-O1',\n",
       "  'N-POO1',\n",
       "  'N-OI1h',\n",
       "  'N-Iz',\n",
       "  'N-Cz',\n",
       "  'N-C2',\n",
       "  'N-C4',\n",
       "  'N-C6',\n",
       "  'N-T8',\n",
       "  'N-FTT10h',\n",
       "  'N-FTT8h',\n",
       "  'N-FCC6h',\n",
       "  'N-FCC4h',\n",
       "  'N-FCC2h',\n",
       "  'N-FC2',\n",
       "  'N-FC4',\n",
       "  'N-FC6',\n",
       "  'N-FT8',\n",
       "  'N-FT10',\n",
       "  'N-FFT10h',\n",
       "  'N-FFT8h',\n",
       "  'N-FFC6h',\n",
       "  'N-FFC4h',\n",
       "  'N-FFC2h',\n",
       "  'N-Fz',\n",
       "  'N-F2',\n",
       "  'N-F4',\n",
       "  'N-F6',\n",
       "  'N-F8',\n",
       "  'N-F10',\n",
       "  'N-AFF6h',\n",
       "  'N-AFF2h',\n",
       "  'N-AF4',\n",
       "  'N-AF8',\n",
       "  'N-FP2',\n",
       "  'N-AFp2',\n",
       "  'N-Oz',\n",
       "  'N-OI2h',\n",
       "  'N-POO10h',\n",
       "  'N-O2',\n",
       "  'N-POO2',\n",
       "  'N-PO4',\n",
       "  'N-PO8',\n",
       "  'N-PPO10h',\n",
       "  'N-PPO6h',\n",
       "  'N-PPO2h',\n",
       "  'N-Pz',\n",
       "  'N-P2',\n",
       "  'N-P4',\n",
       "  'N-P6',\n",
       "  'N-P8',\n",
       "  'N-TPP10h',\n",
       "  'N-TPP8h',\n",
       "  'N-CPP6h',\n",
       "  'N-CPP4h',\n",
       "  'N-CPP2h',\n",
       "  'N-CP2',\n",
       "  'N-CP4',\n",
       "  'N-CP6',\n",
       "  'N-TP8',\n",
       "  'N-TTP8h',\n",
       "  'N-CCP6h',\n",
       "  'N-CCP4h',\n",
       "  'N-CCP2h',\n",
       "  'CGY-x',\n",
       "  'CGY-y',\n",
       "  'CGY-z',\n",
       "  'CWR-x',\n",
       "  'CWR-y',\n",
       "  'CWR-z',\n",
       "  'NGY-x',\n",
       "  'NGY-y',\n",
       "  'NGY-z',\n",
       "  'NWR-x',\n",
       "  'NWR-y',\n",
       "  'NWR-z',\n",
       "  'SyncPulse(uV)',\n",
       "  'Participant_Paddle_Acc_X(g)',\n",
       "  'BallMachine_Acc_X(g)',\n",
       "  'Researcher_Paddle_Acc_X(g)',\n",
       "  'Net_Acc_X(g)',\n",
       "  'Table_OtherSide_Acc_X(g)',\n",
       "  'Table_ParticipantSide_Acc_X(g)',\n",
       "  'Participant_Paddle_Acc_Y(g)',\n",
       "  'BallMachine_Acc_Y(g)',\n",
       "  'Researcher_Paddle_Acc_Y(g)',\n",
       "  'Net_Acc_Y(g)',\n",
       "  'Table_OtherSide_Acc_Y(g)',\n",
       "  'Table_ParticipantSide_Acc_Y(g)',\n",
       "  'Participant_Paddle_Acc_Z(g)',\n",
       "  'BallMachine_Acc_Z(g)',\n",
       "  'Researcher_Paddle_Acc_Z(g)',\n",
       "  'Net_Acc_Z(g)',\n",
       "  'Table_OtherSide_Acc_Z(g)',\n",
       "  'Table_ParticipantSide_Acc_Z(g)',\n",
       "  'Imu_2_ImuGyro :X(D/s):',\n",
       "  'Imu_4_ImuGyro :X(D/s):',\n",
       "  'Imu_2_ImuGyro :Y(D/s):',\n",
       "  'Imu_4_ImuGyro :Y(D/s):',\n",
       "  'Imu_2_ImuGyro :Z(D/s):',\n",
       "  'Imu_4_ImuGyro :Z(D/s):',\n",
       "  'Imu_2_ImuMag :X(uT):',\n",
       "  'Imu_4_ImuMag :X(uT):',\n",
       "  'Imu_2_ImuMag :Y(uT):',\n",
       "  'Imu_4_ImuMag :Y(uT):',\n",
       "  'Imu_2_ImuMag :Z(uT):',\n",
       "  'Imu_4_ImuMag :Z(uT):',\n",
       "  'Imu_2 :W():',\n",
       "  'Imu_4 :W():',\n",
       "  'Imu_2 :X():',\n",
       "  'Imu_4 :X():',\n",
       "  'Imu_2 :Y():',\n",
       "  'Imu_4 :Y():',\n",
       "  'Imu_2 :Z():',\n",
       "  'Imu_4 :Z():'])"
      ]
     },
     "execution_count": 18,
     "metadata": {},
     "output_type": "execute_result"
    }
   ],
   "source": [
    "eeg_channels, misc_channels"
   ]
  },
  {
   "cell_type": "code",
   "execution_count": 19,
   "id": "2c4af0dc-4628-465b-9fe0-d1abaa3d9317",
   "metadata": {},
   "outputs": [],
   "source": [
    "electrodes_df.dropna(inplace=True)"
   ]
  },
  {
   "cell_type": "markdown",
   "id": "4f954446-72f6-4654-89c2-6bc48a6f42b6",
   "metadata": {},
   "source": [
    "### Извлекаем события и создаём аннотации"
   ]
  },
  {
   "cell_type": "markdown",
   "id": "e986d675-88ac-4550-9a4d-4631c8621a35",
   "metadata": {},
   "source": [
    "Join target data"
   ]
  },
  {
   "cell_type": "code",
   "execution_count": 26,
   "id": "5e4f76cd-5241-44ce-ad63-3fd17e4e0ab3",
   "metadata": {},
   "outputs": [],
   "source": [
    "eeg_file = os.path.join(eeg_dirname, f'sub-{SUB_ID}_task-TableTennis_eeg.set')\n",
    "mat = scipy.io.loadmat(eeg_file, struct_as_record=False, squeeze_me=True)\n",
    "\n",
    "events_df['bounces'] = None\n",
    "events_df['performance'] = None\n",
    "events_df['device'] = None\n",
    "events_df['orignum'] = None\n",
    "events_df.drop(columns=['duration', 'response_time', 'stim_file'], inplace=True, errors='ignore')\n",
    "\n",
    "empty_array = np.array([])\n",
    "\n",
    "for i, row in events_df.iterrows():\n",
    "    mat_event = mat['event'][i]\n",
    "    \n",
    "    assert mat_event.type == row['value'], \"asynchronous status event_type\"\n",
    "    assert row['trial_type'] == 'STATUS' or mat_event.condlabel == row['trial_type'], \"asynchronous status\"\n",
    "    assert np.abs(mat_event.latency - row['sample']) <= 2, \"asynchronous time\"\n",
    "    \n",
    "    if not isinstance(mat_event.bounces, np.ndarray):\n",
    "        events_df.at[i, 'bounces'] = mat_event.bounces\n",
    "\n",
    "    if not isinstance(mat_event.performance, np.ndarray):\n",
    "        events_df.at[i, 'performance'] = mat_event.performance\n",
    "\n",
    "    if not isinstance(mat_event.code, np.ndarray):\n",
    "        events_df.at[i, 'device'] = mat_event.code\n",
    "\n",
    "    if not isinstance(mat_event.orignum, np.ndarray):\n",
    "        events_df.at[i, 'orignum'] = mat_event.orignum\n",
    "\n",
    "# mat['event'][200].bounces,\\\n",
    "# mat['event'][200].code,\\\n",
    "# mat['event'][200].condlabel,\\\n",
    "# mat['event'][200].latency,\\\n",
    "# mat['event'][200].orignum,\\\n",
    "# mat['event'][200].performance,\\\n",
    "# mat['event'][200].type"
   ]
  },
  {
   "cell_type": "markdown",
   "id": "6ce9f32f-3d7b-4792-ba3f-c4ba45739e0a",
   "metadata": {},
   "source": [
    "`Subject_hit` or `Subject_receive` in **competitive** and **cooperative** sessions"
   ]
  },
  {
   "cell_type": "code",
   "execution_count": 27,
   "id": "f09662b4-229d-4b2c-9d53-2900be2b55ce",
   "metadata": {},
   "outputs": [
    {
     "name": "stdout",
     "output_type": "stream",
     "text": [
      "NOTE: pick_channels() is a legacy function. New code should use inst.pick(...).\n"
     ]
    },
    {
     "data": {
      "application/vnd.jupyter.widget-view+json": {
       "model_id": "c5374ebc71a443ff9ed190b64bec91e6",
       "version_major": 2,
       "version_minor": 0
      },
      "text/plain": [
       "interactive(children=(FloatSlider(value=1981.0, description='Start Time (s)', layout=Layout(width='800px'), ma…"
      ]
     },
     "metadata": {},
     "output_type": "display_data"
    },
    {
     "data": {
      "text/plain": [
       "<function __main__.plot_accelerometer_data(start_time=0.0, duration=10.0)>"
      ]
     },
     "execution_count": 27,
     "metadata": {},
     "output_type": "execute_result"
    }
   ],
   "source": [
    "from ipywidgets import interact, FloatSlider, Layout\n",
    "\n",
    "\n",
    "event_types_of_interest = ['Subject_hit', 'Subject_receive']\n",
    "competitive_events_df = events_df\\\n",
    "    .query(\"value in ('Subject_hit', 'Subject_receive')\")\\\n",
    "    .query(\"trial_type in ('competitive', 'cooperative')\")\n",
    "\n",
    "participant_acc_channels = [\n",
    "    'Participant_Paddle_Acc_X(g)',\n",
    "    'Participant_Paddle_Acc_Y(g)',\n",
    "    'Participant_Paddle_Acc_Z(g)'\n",
    "]\n",
    "researcher_acc_channels = [\n",
    "    'Researcher_Paddle_Acc_X(g)',\n",
    "    'Researcher_Paddle_Acc_Y(g)',\n",
    "    'Researcher_Paddle_Acc_Z(g)'\n",
    "]\n",
    "acc_channels = participant_acc_channels + researcher_acc_channels\n",
    "acc_data = raw_eeg.copy().pick_channels(acc_channels)\n",
    "acc_times = acc_data.times\n",
    "acc_values = acc_data.get_data()\n",
    "\n",
    "# acc_values = acc_values[:]\n",
    "\n",
    "participant_hits = competitive_events_df[competitive_events_df['value'] == 'Subject_hit']['onset'].values\n",
    "scientist_hits = competitive_events_df[competitive_events_df['value'] == 'Subject_receive']['onset'].values\n",
    "\n",
    "# EEG shift in seconds\n",
    "SHIFT = 0 / 250\n",
    "\n",
    "# Define the interactive plotting function\n",
    "def plot_accelerometer_data(start_time=0.0, duration=10.0):\n",
    "    # Calculate end time\n",
    "    end_time = start_time + duration\n",
    "    start_time += SHIFT\n",
    "    end_time += SHIFT\n",
    "\n",
    "    # Find indices corresponding to the start and end times\n",
    "    start_idx = np.searchsorted(acc_times, start_time)\n",
    "    end_idx = np.searchsorted(acc_times, end_time)\n",
    "\n",
    "    # Extract data for the time window\n",
    "    time_window = acc_times[start_idx:end_idx]\n",
    "    acc_values_window = acc_values[:, start_idx:end_idx]\n",
    "\n",
    "    # Create the plot\n",
    "    fig, axs = plt.subplots(len(acc_channels), 1, figsize=(12, 8), sharex=True)\n",
    "\n",
    "    for idx, ch_name in enumerate(acc_channels):\n",
    "        axs[idx].plot(time_window - SHIFT, acc_values_window[idx, :], label=ch_name)\n",
    "        axs[idx].set_ylabel('Acceleration (g)')\n",
    "        axs[idx].legend(loc='upper right')\n",
    "        axs[idx].grid(True)\n",
    "\n",
    "        # Mark participant's hit moments\n",
    "        for hit_time in participant_hits:\n",
    "            if idx < 3 and start_time <= hit_time + SHIFT <= end_time:\n",
    "                axs[idx].axvline(x=hit_time, color='blue', linestyle='--')\n",
    "\n",
    "        # Mark scientist's hit moments\n",
    "        for hit_time in scientist_hits:\n",
    "            if idx >= 3 and start_time <= hit_time + SHIFT <= end_time:\n",
    "                axs[idx].axvline(x=hit_time, color='green', linestyle='--')\n",
    "\n",
    "    axs[-1].set_xlabel('Time (s)')\n",
    "    plt.tight_layout()\n",
    "    plt.show()\n",
    "\n",
    "# Create interactive widgets for start time and duration\n",
    "max_time = acc_times[-1]\n",
    "\n",
    "start_time_slider = FloatSlider(\n",
    "    min=0.0,\n",
    "    max=max_time - 1.0,  # Subtract 1.0 to allow for duration\n",
    "    step=2.0,\n",
    "    value=1981.0,\n",
    "    description='Start Time (s)',\n",
    "    layout=Layout(width='800px')  # Increase the width of the slider\n",
    ")\n",
    "\n",
    "duration_slider = FloatSlider(\n",
    "    min=1.0,\n",
    "    max=90.0,\n",
    "    step=1.0,\n",
    "    value=45.0,\n",
    "    description='Duration (s)',\n",
    "    layout=Layout(width='800px')  # Increase the width of the slider\n",
    ")\n",
    "\n",
    "# Use interact to create interactive plot\n",
    "interact(\n",
    "    plot_accelerometer_data,\n",
    "    start_time=start_time_slider,\n",
    "    duration=duration_slider\n",
    ")"
   ]
  },
  {
   "cell_type": "markdown",
   "id": "f0f789e9-5629-4d7b-95fa-f6bf766979fa",
   "metadata": {},
   "source": [
    "Defining time shift via XXX"
   ]
  },
  {
   "cell_type": "code",
   "execution_count": 28,
   "id": "8038791d-2a1f-47bf-8c1d-18bc888d1221",
   "metadata": {},
   "outputs": [],
   "source": [
    "acc_ttl_data = np.sqrt(np.sum(np.square(acc_values[3:]), axis=0))\n",
    "\n",
    "labels_data = np.zeros_like(acc_ttl_data)\n",
    "hit_indices = (events_df.query(\"value == 'Subject_receive'\")['sample'] + 0.5).astype(int)\n",
    "labels_data[hit_indices.values] = 1"
   ]
  },
  {
   "cell_type": "code",
   "execution_count": 29,
   "id": "5e4c1611-b5f2-421e-8a58-ebd9ac7b4185",
   "metadata": {},
   "outputs": [
    {
     "data": {
      "application/vnd.jupyter.widget-view+json": {
       "model_id": "9710bcc1a71e4cf3ad58045445971ca5",
       "version_major": 2,
       "version_minor": 0
      },
      "text/plain": [
       "  0%|          | 0/87757 [00:00<?, ?it/s]"
      ]
     },
     "metadata": {},
     "output_type": "display_data"
    }
   ],
   "source": [
    "def calculate_corr(i):\n",
    "    return np.corrcoef(acc_ttl_data[i:], labels_data[:labels_data.size-i])[0, 1]\n",
    "\n",
    "\n",
    "def calculate_cov(i):\n",
    "    return np.dot(acc_ttl_data[i:], labels_data[:labels_data.size-i])\n",
    "\n",
    "\n",
    "with Pool() as pool:\n",
    "    similarity_arr = list(tqdm(pool.imap(calculate_corr, range(acc_ttl_data.size // 10)), total=acc_ttl_data.size // 10))"
   ]
  },
  {
   "cell_type": "code",
   "execution_count": 30,
   "id": "1a098aad-4583-4224-aaab-64c2adef1d43",
   "metadata": {},
   "outputs": [
    {
     "data": {
      "image/png": "[encoded data removed]",
      "text/plain": [
       "<Figure size 2000x700 with 1 Axes>"
      ]
     },
     "metadata": {},
     "output_type": "display_data"
    }
   ],
   "source": [
    "plt.figure(figsize=(20, 7))\n",
    "plt.plot(similarity_arr)\n",
    "plt.show()"
   ]
  },
  {
   "cell_type": "code",
   "execution_count": 33,
   "id": "2ab78ee2-72d5-46fe-a0e6-adc865f17ea5",
   "metadata": {},
   "outputs": [
    {
     "data": {
      "text/plain": [
       "array([2264,  112, 4763, 2219, 1580, 1848, 2263,  111, 2075, 4762,  113,\n",
       "       2218, 2615, 1299, 2307, 2255, 3291, 2616,  801, 1591, 3694, 2220,\n",
       "       2252,  585, 2076, 7616,  114, 1595,  930, 2254])"
      ]
     },
     "execution_count": 33,
     "metadata": {},
     "output_type": "execute_result"
    }
   ],
   "source": [
    "np.argsort(similarity_arr)[::-1][:30]"
   ]
  },
  {
   "cell_type": "code",
   "execution_count": 34,
   "id": "a02ec382-3e5f-4e06-bc53-52b4efa52210",
   "metadata": {},
   "outputs": [
    {
     "data": {
      "image/png": "[encoded data removed]",
      "text/plain": [
       "<Figure size 640x480 with 1 Axes>"
      ]
     },
     "metadata": {},
     "output_type": "display_data"
    }
   ],
   "source": [
    "competitive_onset_values = competitive_events_df.query(\"trial_type == 'competitive'\").onset\n",
    "cooperative_onset_values = competitive_events_df.query(\"trial_type == 'cooperative'\").onset\n",
    "\n",
    "plt.scatter(competitive_onset_values, np.zeros_like(competitive_onset_values), alpha=0.1, label='competitive')\n",
    "plt.scatter(cooperative_onset_values, np.zeros_like(cooperative_onset_values), alpha=0.1, label='cooperative')\n",
    "plt.legend()\n",
    "plt.show()"
   ]
  },
  {
   "cell_type": "code",
   "execution_count": 25,
   "id": "464fa371-3998-4ab9-b028-63278f709377",
   "metadata": {},
   "outputs": [
    {
     "data": {
      "text/plain": [
       "[(np.float64(614.012), np.float64(1065.8)),\n",
       " (np.float64(1986.576), np.float64(2433.484)),\n",
       " (np.float64(2907.808), np.float64(3353.008)),\n",
       " (np.float64(3829.584), np.float64(4278.34))]"
      ]
     },
     "execution_count": 25,
     "metadata": {},
     "output_type": "execute_result"
    }
   ],
   "source": [
    "sessions_start = sorted([\n",
    "    competitive_onset_values.iloc[0],\n",
    "    cooperative_onset_values.iloc[0],\n",
    "    competitive_onset_values[\n",
    "        competitive_onset_values.diff().sort_values().index[-2]\n",
    "    ],\n",
    "    cooperative_onset_values[\n",
    "        cooperative_onset_values.diff().sort_values().index[-2]\n",
    "    ],\n",
    "])\n",
    "sessions_end = sorted([\n",
    "    competitive_onset_values.iloc[-1],\n",
    "    cooperative_onset_values.iloc[-1],\n",
    "    competitive_onset_values[::-1][\n",
    "        competitive_onset_values[::-1].diff().sort_values().index[0]\n",
    "    ],\n",
    "    cooperative_onset_values[::-1][\n",
    "        cooperative_onset_values[::-1].diff().sort_values().index[0]\n",
    "    ],\n",
    "])\n",
    "\n",
    "sessions_arr = list(zip(sessions_start, sessions_end))\n",
    "sessions_arr"
   ]
  },
  {
   "cell_type": "markdown",
   "id": "daae11db-b372-4bdf-82dc-411e5399c4af",
   "metadata": {},
   "source": [
    "For sub-15\n",
    "\n",
    "<style type=\"text/css\">\n",
    ".tg  {border-collapse:collapse;border-spacing:0;}\n",
    ".tg td{border-color:black;border-style:solid;border-width:1px;font-family:Arial, sans-serif;font-size:14px;\n",
    "  overflow:hidden;padding:10px 5px;word-break:normal;}\n",
    ".tg th{border-color:black;border-style:solid;border-width:1px;font-family:Arial, sans-serif;font-size:14px;\n",
    "  font-weight:normal;overflow:hidden;padding:10px 5px;word-break:normal;}\n",
    ".tg .tg-dvpl{border-color:inherit;text-align:right;vertical-align:top}\n",
    ".tg .tg-0pky{border-color:inherit;text-align:left;vertical-align:top}\n",
    "</style>\n",
    "<table class=\"tg\"><thead>\n",
    "  <tr>\n",
    "    <th class=\"tg-dvpl\">     SHIFT (1/250 sec)<br>SESSION START (sec)</th>\n",
    "    <th class=\"tg-0pky\">10815</th>\n",
    "    <th class=\"tg-0pky\">23620</th>\n",
    "    <th class=\"tg-0pky\">29515</th>\n",
    "    <th class=\"tg-0pky\">43890</th>\n",
    "  </tr></thead>\n",
    "<tbody>\n",
    "  <tr>\n",
    "    <td class=\"tg-dvpl\">1030</td>\n",
    "    <td class=\"tg-0pky\">+</td>\n",
    "    <td class=\"tg-0pky\"></td>\n",
    "    <td class=\"tg-0pky\"></td>\n",
    "    <td class=\"tg-0pky\"></td>\n",
    "  </tr>\n",
    "  <tr>\n",
    "    <td class=\"tg-dvpl\">1933</td>\n",
    "    <td class=\"tg-0pky\"></td>\n",
    "    <td class=\"tg-0pky\">+</td>\n",
    "    <td class=\"tg-0pky\"></td>\n",
    "    <td class=\"tg-0pky\"></td>\n",
    "  </tr>\n",
    "  <tr>\n",
    "    <td class=\"tg-dvpl\">2375</td>\n",
    "    <td class=\"tg-0pky\"></td>\n",
    "    <td class=\"tg-0pky\"></td>\n",
    "    <td class=\"tg-0pky\">+</td>\n",
    "    <td class=\"tg-0pky\"></td>\n",
    "  </tr>\n",
    "  <tr>\n",
    "    <td class=\"tg-dvpl\">3278</td>\n",
    "    <td class=\"tg-0pky\"></td>\n",
    "    <td class=\"tg-0pky\"></td>\n",
    "    <td class=\"tg-0pky\"></td>\n",
    "    <td class=\"tg-0pky\">+</td>\n",
    "  </tr>\n",
    "</tbody>\n",
    "</table>"
   ]
  },
  {
   "cell_type": "markdown",
   "id": "dde7a59a-17e6-4aa6-a19e-88ab25b8bf7a",
   "metadata": {},
   "source": [
    "### Collect shifts"
   ]
  },
  {
   "cell_type": "code",
   "execution_count": 11,
   "id": "4e66b9df-c0f5-47ad-b284-a6da81983e09",
   "metadata": {},
   "outputs": [],
   "source": [
    "def find_k_peaks(arr: np.ndarray, k: int = 4, delta_min: int = 1000):\n",
    "    peaks = []\n",
    "\n",
    "    for elem in arr:\n",
    "        peaks_len = len(peaks)\n",
    "\n",
    "        if peaks_len >= k:\n",
    "            break\n",
    "        elif peaks_len == 0:\n",
    "            peaks.append(elem)\n",
    "            continue\n",
    "\n",
    "        to_add = True\n",
    "        for peak in peaks:\n",
    "            if abs(peak - elem) < delta_min:\n",
    "                to_add = False\n",
    "                break\n",
    "\n",
    "        if to_add:\n",
    "            peaks.append(elem)\n",
    "\n",
    "    return sorted(peaks)\n",
    "\n",
    "\n",
    "def find_continuous_sessions(onset_times, gap_threshold):\n",
    "    # 1) Sort all onsets\n",
    "    onsets = np.sort(np.asarray(onset_times))\n",
    "    if len(onsets) == 0:\n",
    "        return []\n",
    "\n",
    "    # 2) Compute gaps between consecutive onsets\n",
    "    diffs = np.diff(onsets)  # array of length (n_events-1)\n",
    "\n",
    "    # 3) Wherever diff > gap_threshold, mark a \"break\"\n",
    "    #    We record the indices where a new session begins (i+1)\n",
    "    break_indices = np.where(diffs > gap_threshold)[0]\n",
    "\n",
    "    # 4) Build start/end indices for each block\n",
    "    #    - The very first session starts at index 0\n",
    "    #    - Each break at diffs[i] means onsets[i] ends a session, onsets[i+1] begins the next.\n",
    "    session_starts = np.concatenate([[0], break_indices + 1])\n",
    "    session_ends   = np.concatenate([break_indices, [len(onsets) - 1]])\n",
    "\n",
    "    # 5) Turn those into (start_time, end_time) pairs\n",
    "    sessions = []\n",
    "    for s_idx, e_idx in zip(session_starts, session_ends):\n",
    "        start_t = float(onsets[s_idx])\n",
    "        end_t   = float(onsets[e_idx])\n",
    "        sessions.append((start_t, end_t))\n",
    "\n",
    "    return sessions\n",
    "\n",
    "\n",
    "def get_sessions_range(events_df: pd.DataFrame, sessions_delta: int = 60):\n",
    "    return np.array(find_continuous_sessions(events_df.onset.values, sessions_delta)).reshape(-1, 2)\n"
   ]
  },
  {
   "cell_type": "markdown",
   "id": "413ba905-c6d8-4630-bc28-9d838cb6a1f9",
   "metadata": {},
   "source": [
    "#### Variant 3\n",
    "\n",
    "1. Calculate shift array for researcher, utilizing accelerometer data\n",
    "2. Find k sessions timesteps, where k $\\in \\{ 3; 4 \\}$\n",
    "3. Find k peaks in shift array\n",
    "5. Map session to peak in ascending order"
   ]
  },
  {
   "cell_type": "code",
   "execution_count": 12,
   "id": "b7171906-7d95-458e-ba7f-9cf6937bfce0",
   "metadata": {
    "scrolled": true
   },
   "outputs": [
    {
     "data": {
      "application/vnd.jupyter.widget-view+json": {
       "model_id": "6b2f29bfc64545dcb30f939c5a0bcac3",
       "version_major": 2,
       "version_minor": 0
      },
      "text/plain": [
       "  0%|          | 0/25 [00:00<?, ?it/s]"
      ]
     },
     "metadata": {},
     "output_type": "display_data"
    },
    {
     "name": "stdout",
     "output_type": "stream",
     "text": [
      "Reading /data/vladimiroved/realWorldTableTennis/sub-01/eeg/sub-01_task-TableTennis_eeg.fdt\n",
      "Reading 0 ... 785327  =      0.000 ...  3141.308 secs...\n"
     ]
    },
    {
     "name": "stderr",
     "output_type": "stream",
     "text": [
      "/tmp/ipykernel_1155911/1650543861.py:10: RuntimeWarning: Unknown types found, setting as type EEG:\n",
      "acc: ['CGY-x', 'CGY-y', 'CGY-z', 'CWR-x', 'CWR-y', 'CWR-z', 'NGY-x', 'NGY-y', 'NGY-z', 'NWR-x', 'NWR-y', 'NWR-z']\n",
      "cometas: ['BallMachine_Acc_X(g)', 'BallMachine_Acc_Y(g)', 'BallMachine_Acc_Z(g)', 'Participant_Paddle_Acc_X(g)', 'Participant_Paddle_Acc_Y(g)', 'Participant_Paddle_Acc_Z(g)', 'Researcher_Paddle_Acc_X(g)', 'Researcher_Paddle_Acc_Y(g)', 'Researcher_Paddle_Acc_Z(g)', 'SyncPulse(uV)']\n",
      "noise: ['N-AF3', 'N-AF4', 'N-AF7', 'N-AF8', 'N-AFF1h', 'N-AFF2h', 'N-AFF5h', 'N-AFF6h', 'N-AFp1', 'N-AFp2', 'N-AFz', 'N-C1', 'N-C2', 'N-C3', 'N-C4', 'N-C5', 'N-C6', 'N-CCP1h', 'N-CCP2h', 'N-CCP3h', 'N-CCP4h', 'N-CCP5h', 'N-CCP6h', 'N-CP1', 'N-CP2', 'N-CP3', 'N-CP4', 'N-CP5', 'N-CP6', 'N-CPP1h', 'N-CPP2h', 'N-CPP3h', 'N-CPP4h', 'N-CPP5h', 'N-CPP6h', 'N-Cz', 'N-F1', 'N-F10', 'N-F2', 'N-F3', 'N-F4', 'N-F5', 'N-F6', 'N-F7', 'N-F8', 'N-F9', 'N-FC1', 'N-FC2', 'N-FC3', 'N-FC4', 'N-FC5', 'N-FC6', 'N-FCC1h', 'N-FCC2h', 'N-FCC3h', 'N-FCC4h', 'N-FCC5h', 'N-FCC6h', 'N-FCz', 'N-FFC1h', 'N-FFC2h', 'N-FFC3h', 'N-FFC4h', 'N-FFC5h', 'N-FFC6h', 'N-FFT10h', 'N-FFT7h', 'N-FFT8h', 'N-FFT9h', 'N-FP2', 'N-FT10', 'N-FT7', 'N-FT8', 'N-FT9', 'N-FTT10h', 'N-FTT7h', 'N-FTT8h', 'N-FTT9h', 'N-Fp1', 'N-Fz', 'N-Iz', 'N-O1', 'N-O2', 'N-O9', 'N-OI1h', 'N-OI2h', 'N-Oz', 'N-P1', 'N-P2', 'N-P3', 'N-P4', 'N-P5', 'N-P6', 'N-P7', 'N-P8', 'N-PO3', 'N-PO4', 'N-PO7', 'N-PO8', 'N-POO1', 'N-POO10h', 'N-POO2', 'N-POz', 'N-PPO10h', 'N-PPO1h', 'N-PPO2h', 'N-PPO5h', 'N-PPO6h', 'N-PPO9h', 'N-Pz', 'N-T7', 'N-T8', 'N-TP7', 'N-TP8', 'N-TPP10h', 'N-TPP7h', 'N-TPP8h', 'N-TPP9h', 'N-TTP7h', 'N-TTP8h']\n",
      "  raw_eeg = mne.io.read_raw_eeglab(eeg_dirname + f'sub-{SUB_ID}_task-TableTennis_eeg.set', preload=True)\n",
      "/tmp/ipykernel_1155911/1650543861.py:10: RuntimeWarning: Estimated head radius (11.1 cm) is above the 99th percentile for adult head size. Check if the montage_units argument is correct (the default is \"mm\", but your channel positions may be in different units).\n",
      "  raw_eeg = mne.io.read_raw_eeglab(eeg_dirname + f'sub-{SUB_ID}_task-TableTennis_eeg.set', preload=True)\n",
      "/tmp/ipykernel_1155911/1650543861.py:10: RuntimeWarning: Data file name in EEG.data (sub-01_task-tabletennis_eeg.fdt) is incorrect, the file name must have changed on disk, using the correct file name (sub-01_task-TableTennis_eeg.fdt).\n",
      "  raw_eeg = mne.io.read_raw_eeglab(eeg_dirname + f'sub-{SUB_ID}_task-TableTennis_eeg.set', preload=True)\n"
     ]
    },
    {
     "name": "stdout",
     "output_type": "stream",
     "text": [
      "NOTE: pick_channels() is a legacy function. New code should use inst.pick(...).\n"
     ]
    },
    {
     "name": "stderr",
     "output_type": "stream",
     "text": [
      "/tmp/ipykernel_1155911/1650543861.py:10: RuntimeWarning: Omitted 1 annotation(s) that were outside data range.\n",
      "  raw_eeg = mne.io.read_raw_eeglab(eeg_dirname + f'sub-{SUB_ID}_task-TableTennis_eeg.set', preload=True)\n",
      "/tmp/ipykernel_1155911/1650543861.py:10: RuntimeWarning: The data contains 'boundary' events, indicating data discontinuities. Be cautious of filtering and epoching around these events.\n",
      "  raw_eeg = mne.io.read_raw_eeglab(eeg_dirname + f'sub-{SUB_ID}_task-TableTennis_eeg.set', preload=True)\n",
      "/tmp/ipykernel_1155911/1650543861.py:10: RuntimeWarning: Not setting positions of 8 emg channels found in montage:\n",
      "['LISCM', 'LSSCM', 'LSTrap', 'LITrap', 'RITrap', 'RISCM', 'RSSCM', 'RSTrap']\n",
      "Consider setting the channel types to be of EEG/sEEG/ECoG/DBS/fNIRS using inst.set_channel_types before calling inst.set_montage, or omit these channels when creating your montage.\n",
      "  raw_eeg = mne.io.read_raw_eeglab(eeg_dirname + f'sub-{SUB_ID}_task-TableTennis_eeg.set', preload=True)\n"
     ]
    },
    {
     "data": {
      "application/vnd.jupyter.widget-view+json": {
       "model_id": "025c3f8b40464d2c8dfed5d48f1dce3e",
       "version_major": 2,
       "version_minor": 0
      },
      "text/plain": [
       "  0%|          | 0/88709 [00:00<?, ?it/s]"
      ]
     },
     "metadata": {},
     "output_type": "display_data"
    },
    {
     "name": "stdout",
     "output_type": "stream",
     "text": [
      "Reading /data/vladimiroved/realWorldTableTennis/sub-02/eeg/sub-02_task-TableTennis_eeg.fdt\n",
      "Reading 0 ... 1364632  =      0.000 ...  5458.528 secs...\n"
     ]
    },
    {
     "name": "stderr",
     "output_type": "stream",
     "text": [
      "/tmp/ipykernel_1155911/1650543861.py:10: RuntimeWarning: Unknown types found, setting as type EEG:\n",
      "acc: ['CGY-x', 'CGY-y', 'CGY-z', 'CWR-x', 'CWR-y', 'CWR-z', 'NGY-x', 'NGY-y', 'NGY-z', 'NWR-x', 'NWR-y', 'NWR-z']\n",
      "cometas: ['BallMachine_Acc_X(g)', 'BallMachine_Acc_Y(g)', 'BallMachine_Acc_Z(g)', 'Participant_Paddle_Acc_X(g)', 'Participant_Paddle_Acc_Y(g)', 'Participant_Paddle_Acc_Z(g)', 'Researcher_Paddle_Acc_X(g)', 'Researcher_Paddle_Acc_Y(g)', 'Researcher_Paddle_Acc_Z(g)', 'SyncPulse(uV)']\n",
      "noise: ['N-AF3', 'N-AF4', 'N-AF7', 'N-AF8', 'N-AFF1h', 'N-AFF2h', 'N-AFF5h', 'N-AFF6h', 'N-AFp1', 'N-AFp2', 'N-AFz', 'N-C1', 'N-C2', 'N-C3', 'N-C4', 'N-C5', 'N-C6', 'N-CCP1h', 'N-CCP2h', 'N-CCP3h', 'N-CCP4h', 'N-CCP5h', 'N-CCP6h', 'N-CP1', 'N-CP2', 'N-CP3', 'N-CP4', 'N-CP5', 'N-CP6', 'N-CPP1h', 'N-CPP2h', 'N-CPP3h', 'N-CPP4h', 'N-CPP5h', 'N-CPP6h', 'N-Cz', 'N-F1', 'N-F10', 'N-F2', 'N-F3', 'N-F4', 'N-F5', 'N-F6', 'N-F7', 'N-F8', 'N-F9', 'N-FC1', 'N-FC2', 'N-FC3', 'N-FC4', 'N-FC5', 'N-FC6', 'N-FCC1h', 'N-FCC2h', 'N-FCC3h', 'N-FCC4h', 'N-FCC5h', 'N-FCC6h', 'N-FCz', 'N-FFC1h', 'N-FFC2h', 'N-FFC3h', 'N-FFC4h', 'N-FFC5h', 'N-FFC6h', 'N-FFT10h', 'N-FFT7h', 'N-FFT8h', 'N-FFT9h', 'N-FP2', 'N-FT10', 'N-FT7', 'N-FT8', 'N-FT9', 'N-FTT10h', 'N-FTT7h', 'N-FTT8h', 'N-FTT9h', 'N-Fp1', 'N-Fz', 'N-Iz', 'N-O1', 'N-O2', 'N-O9', 'N-OI1h', 'N-OI2h', 'N-Oz', 'N-P1', 'N-P2', 'N-P3', 'N-P4', 'N-P5', 'N-P6', 'N-P7', 'N-P8', 'N-PO3', 'N-PO4', 'N-PO7', 'N-PO8', 'N-POO1', 'N-POO10h', 'N-POO2', 'N-POz', 'N-PPO10h', 'N-PPO1h', 'N-PPO2h', 'N-PPO5h', 'N-PPO6h', 'N-PPO9h', 'N-Pz', 'N-T7', 'N-T8', 'N-TP7', 'N-TP8', 'N-TPP10h', 'N-TPP7h', 'N-TPP8h', 'N-TPP9h', 'N-TTP7h', 'N-TTP8h']\n",
      "  raw_eeg = mne.io.read_raw_eeglab(eeg_dirname + f'sub-{SUB_ID}_task-TableTennis_eeg.set', preload=True)\n",
      "/tmp/ipykernel_1155911/1650543861.py:10: RuntimeWarning: Data file name in EEG.data (sub-02_task-tabletennis_eeg.fdt) is incorrect, the file name must have changed on disk, using the correct file name (sub-02_task-TableTennis_eeg.fdt).\n",
      "  raw_eeg = mne.io.read_raw_eeglab(eeg_dirname + f'sub-{SUB_ID}_task-TableTennis_eeg.set', preload=True)\n"
     ]
    },
    {
     "name": "stdout",
     "output_type": "stream",
     "text": [
      "NOTE: pick_channels() is a legacy function. New code should use inst.pick(...).\n"
     ]
    },
    {
     "name": "stderr",
     "output_type": "stream",
     "text": [
      "/tmp/ipykernel_1155911/1650543861.py:10: RuntimeWarning: Omitted 1 annotation(s) that were outside data range.\n",
      "  raw_eeg = mne.io.read_raw_eeglab(eeg_dirname + f'sub-{SUB_ID}_task-TableTennis_eeg.set', preload=True)\n",
      "/tmp/ipykernel_1155911/1650543861.py:10: RuntimeWarning: The data contains 'boundary' events, indicating data discontinuities. Be cautious of filtering and epoching around these events.\n",
      "  raw_eeg = mne.io.read_raw_eeglab(eeg_dirname + f'sub-{SUB_ID}_task-TableTennis_eeg.set', preload=True)\n",
      "/tmp/ipykernel_1155911/1650543861.py:10: RuntimeWarning: Not setting positions of 8 emg channels found in montage:\n",
      "['LISCM', 'LSSCM', 'LSTrap', 'LITrap', 'RITrap', 'RISCM', 'RSSCM', 'RSTrap']\n",
      "Consider setting the channel types to be of EEG/sEEG/ECoG/DBS/fNIRS using inst.set_channel_types before calling inst.set_montage, or omit these channels when creating your montage.\n",
      "  raw_eeg = mne.io.read_raw_eeglab(eeg_dirname + f'sub-{SUB_ID}_task-TableTennis_eeg.set', preload=True)\n"
     ]
    },
    {
     "data": {
      "application/vnd.jupyter.widget-view+json": {
       "model_id": "00481be80f1f4a14bd3efae7e6d7e3a9",
       "version_major": 2,
       "version_minor": 0
      },
      "text/plain": [
       "  0%|          | 0/44371 [00:00<?, ?it/s]"
      ]
     },
     "metadata": {},
     "output_type": "display_data"
    },
    {
     "name": "stdout",
     "output_type": "stream",
     "text": [
      "Reading /data/vladimiroved/realWorldTableTennis/sub-03/eeg/sub-03_task-TableTennis_eeg.fdt\n",
      "Reading 0 ... 1099795  =      0.000 ...  4399.180 secs...\n"
     ]
    },
    {
     "name": "stderr",
     "output_type": "stream",
     "text": [
      "/tmp/ipykernel_1155911/1650543861.py:10: RuntimeWarning: Unknown types found, setting as type EEG:\n",
      "acc: ['CGY-x', 'CGY-y', 'CGY-z', 'CWR-x', 'CWR-y', 'CWR-z', 'NGY-x', 'NGY-y', 'NGY-z', 'NWR-x', 'NWR-y', 'NWR-z']\n",
      "cometas: ['BallMachine_Acc_X(g)', 'BallMachine_Acc_Y(g)', 'BallMachine_Acc_Z(g)', 'Participant_Paddle_Acc_X(g)', 'Participant_Paddle_Acc_Y(g)', 'Participant_Paddle_Acc_Z(g)', 'Researcher_Paddle_Acc_X(g)', 'Researcher_Paddle_Acc_Y(g)', 'Researcher_Paddle_Acc_Z(g)', 'SyncPulse(uV)']\n",
      "noise: ['N-AF3', 'N-AF4', 'N-AF7', 'N-AF8', 'N-AFF1h', 'N-AFF2h', 'N-AFF5h', 'N-AFF6h', 'N-AFp1', 'N-AFp2', 'N-AFz', 'N-C1', 'N-C2', 'N-C3', 'N-C4', 'N-C5', 'N-C6', 'N-CCP1h', 'N-CCP2h', 'N-CCP3h', 'N-CCP4h', 'N-CCP5h', 'N-CCP6h', 'N-CP1', 'N-CP2', 'N-CP3', 'N-CP4', 'N-CP5', 'N-CP6', 'N-CPP1h', 'N-CPP2h', 'N-CPP3h', 'N-CPP4h', 'N-CPP5h', 'N-CPP6h', 'N-Cz', 'N-F1', 'N-F10', 'N-F2', 'N-F3', 'N-F4', 'N-F5', 'N-F6', 'N-F7', 'N-F8', 'N-F9', 'N-FC1', 'N-FC2', 'N-FC3', 'N-FC4', 'N-FC5', 'N-FC6', 'N-FCC1h', 'N-FCC2h', 'N-FCC3h', 'N-FCC4h', 'N-FCC5h', 'N-FCC6h', 'N-FCz', 'N-FFC1h', 'N-FFC2h', 'N-FFC3h', 'N-FFC4h', 'N-FFC5h', 'N-FFC6h', 'N-FFT10h', 'N-FFT7h', 'N-FFT8h', 'N-FFT9h', 'N-FP2', 'N-FT10', 'N-FT7', 'N-FT8', 'N-FT9', 'N-FTT10h', 'N-FTT7h', 'N-FTT8h', 'N-FTT9h', 'N-Fp1', 'N-Fz', 'N-Iz', 'N-O1', 'N-O2', 'N-OI1h', 'N-OI2h', 'N-Oz', 'N-P1', 'N-P2', 'N-P3', 'N-P4', 'N-P5', 'N-P6', 'N-P7', 'N-P8', 'N-PO3', 'N-PO4', 'N-PO7', 'N-PO8', 'N-POO1', 'N-POO10h', 'N-POO2', 'N-POO9h', 'N-POz', 'N-PPO10h', 'N-PPO1h', 'N-PPO2h', 'N-PPO5h', 'N-PPO6h', 'N-PPO9h', 'N-Pz', 'N-T7', 'N-T8', 'N-TP7', 'N-TP8', 'N-TPP10h', 'N-TPP7h', 'N-TPP8h', 'N-TPP9h', 'N-TTP7h', 'N-TTP8h']\n",
      "  raw_eeg = mne.io.read_raw_eeglab(eeg_dirname + f'sub-{SUB_ID}_task-TableTennis_eeg.set', preload=True)\n",
      "/tmp/ipykernel_1155911/1650543861.py:10: RuntimeWarning: Estimated head radius (11.5 cm) is above the 99th percentile for adult head size. Check if the montage_units argument is correct (the default is \"mm\", but your channel positions may be in different units).\n",
      "  raw_eeg = mne.io.read_raw_eeglab(eeg_dirname + f'sub-{SUB_ID}_task-TableTennis_eeg.set', preload=True)\n",
      "/tmp/ipykernel_1155911/1650543861.py:10: RuntimeWarning: Data file name in EEG.data (sub-03_task-tabletennis_eeg.fdt) is incorrect, the file name must have changed on disk, using the correct file name (sub-03_task-TableTennis_eeg.fdt).\n",
      "  raw_eeg = mne.io.read_raw_eeglab(eeg_dirname + f'sub-{SUB_ID}_task-TableTennis_eeg.set', preload=True)\n"
     ]
    },
    {
     "name": "stdout",
     "output_type": "stream",
     "text": [
      "NOTE: pick_channels() is a legacy function. New code should use inst.pick(...).\n"
     ]
    },
    {
     "name": "stderr",
     "output_type": "stream",
     "text": [
      "/tmp/ipykernel_1155911/1650543861.py:10: RuntimeWarning: Omitted 1 annotation(s) that were outside data range.\n",
      "  raw_eeg = mne.io.read_raw_eeglab(eeg_dirname + f'sub-{SUB_ID}_task-TableTennis_eeg.set', preload=True)\n",
      "/tmp/ipykernel_1155911/1650543861.py:10: RuntimeWarning: The data contains 'boundary' events, indicating data discontinuities. Be cautious of filtering and epoching around these events.\n",
      "  raw_eeg = mne.io.read_raw_eeglab(eeg_dirname + f'sub-{SUB_ID}_task-TableTennis_eeg.set', preload=True)\n",
      "/tmp/ipykernel_1155911/1650543861.py:10: RuntimeWarning: Not setting positions of 8 emg channels found in montage:\n",
      "['LISCM', 'LSSCM', 'LSTrap', 'LITrap', 'RITrap', 'RISCM', 'RSSCM', 'RSTrap']\n",
      "Consider setting the channel types to be of EEG/sEEG/ECoG/DBS/fNIRS using inst.set_channel_types before calling inst.set_montage, or omit these channels when creating your montage.\n",
      "  raw_eeg = mne.io.read_raw_eeglab(eeg_dirname + f'sub-{SUB_ID}_task-TableTennis_eeg.set', preload=True)\n"
     ]
    },
    {
     "data": {
      "application/vnd.jupyter.widget-view+json": {
       "model_id": "0117e16ea9a047b1b9714a0c8ab8ae9b",
       "version_major": 2,
       "version_minor": 0
      },
      "text/plain": [
       "  0%|          | 0/100901 [00:00<?, ?it/s]"
      ]
     },
     "metadata": {},
     "output_type": "display_data"
    },
    {
     "name": "stdout",
     "output_type": "stream",
     "text": [
      "Reading /data/vladimiroved/realWorldTableTennis/sub-04/eeg/sub-04_task-TableTennis_eeg.fdt\n",
      "Reading 0 ... 1057035  =      0.000 ...  4228.140 secs...\n"
     ]
    },
    {
     "name": "stderr",
     "output_type": "stream",
     "text": [
      "/tmp/ipykernel_1155911/1650543861.py:10: RuntimeWarning: Unknown types found, setting as type EEG:\n",
      "acc: ['CGY-x', 'CGY-y', 'CGY-z', 'CWR-x', 'CWR-y', 'CWR-z', 'NGY-x', 'NGY-y', 'NGY-z', 'NWR-x', 'NWR-y', 'NWR-z']\n",
      "cometas: ['BallMachine_Acc_X(g)', 'BallMachine_Acc_Y(g)', 'BallMachine_Acc_Z(g)', 'Participant_Paddle_Acc_X(g)', 'Participant_Paddle_Acc_Y(g)', 'Participant_Paddle_Acc_Z(g)', 'Researcher_Paddle_Acc_X(g)', 'Researcher_Paddle_Acc_Y(g)', 'Researcher_Paddle_Acc_Z(g)', 'SyncPulse(uV)']\n",
      "noise: ['N-AF3', 'N-AF4', 'N-AF7', 'N-AF8', 'N-AFF1h', 'N-AFF2h', 'N-AFF5h', 'N-AFF6h', 'N-AFp1', 'N-AFp2', 'N-AFz', 'N-C1', 'N-C2', 'N-C3', 'N-C4', 'N-C5', 'N-C6', 'N-CCP1h', 'N-CCP2h', 'N-CCP3h', 'N-CCP4h', 'N-CCP5h', 'N-CCP6h', 'N-CP1', 'N-CP2', 'N-CP3', 'N-CP4', 'N-CP5', 'N-CP6', 'N-CPP1h', 'N-CPP2h', 'N-CPP3h', 'N-CPP4h', 'N-CPP5h', 'N-CPP6h', 'N-Cz', 'N-F1', 'N-F10', 'N-F2', 'N-F3', 'N-F4', 'N-F5', 'N-F6', 'N-F7', 'N-F8', 'N-F9', 'N-FC1', 'N-FC2', 'N-FC3', 'N-FC4', 'N-FC5', 'N-FC6', 'N-FCC1h', 'N-FCC2h', 'N-FCC3h', 'N-FCC4h', 'N-FCC5h', 'N-FCC6h', 'N-FCz', 'N-FFC1h', 'N-FFC2h', 'N-FFC3h', 'N-FFC4h', 'N-FFC5h', 'N-FFC6h', 'N-FFT10h', 'N-FFT7h', 'N-FFT8h', 'N-FFT9h', 'N-FP2', 'N-FT10', 'N-FT7', 'N-FT8', 'N-FT9', 'N-FTT10h', 'N-FTT7h', 'N-FTT8h', 'N-FTT9h', 'N-Fp1', 'N-Fz', 'N-Iz', 'N-O1', 'N-O2', 'N-OI1h', 'N-OI2h', 'N-Oz', 'N-P1', 'N-P2', 'N-P3', 'N-P4', 'N-P5', 'N-P6', 'N-P7', 'N-P8', 'N-PO3', 'N-PO4', 'N-PO7', 'N-PO8', 'N-POO1', 'N-POO10h', 'N-POO2', 'N-POO9h', 'N-POz', 'N-PPO10h', 'N-PPO1h', 'N-PPO2h', 'N-PPO5h', 'N-PPO6h', 'N-PPO9h', 'N-Pz', 'N-T7', 'N-T8', 'N-TP7', 'N-TP8', 'N-TPP10h', 'N-TPP7h', 'N-TPP8h', 'N-TPP9h', 'N-TTP7h', 'N-TTP8h']\n",
      "  raw_eeg = mne.io.read_raw_eeglab(eeg_dirname + f'sub-{SUB_ID}_task-TableTennis_eeg.set', preload=True)\n",
      "/tmp/ipykernel_1155911/1650543861.py:10: RuntimeWarning: Estimated head radius (10.9 cm) is above the 99th percentile for adult head size. Check if the montage_units argument is correct (the default is \"mm\", but your channel positions may be in different units).\n",
      "  raw_eeg = mne.io.read_raw_eeglab(eeg_dirname + f'sub-{SUB_ID}_task-TableTennis_eeg.set', preload=True)\n",
      "/tmp/ipykernel_1155911/1650543861.py:10: RuntimeWarning: Data file name in EEG.data (sub-04_task-tabletennis_eeg.fdt) is incorrect, the file name must have changed on disk, using the correct file name (sub-04_task-TableTennis_eeg.fdt).\n",
      "  raw_eeg = mne.io.read_raw_eeglab(eeg_dirname + f'sub-{SUB_ID}_task-TableTennis_eeg.set', preload=True)\n"
     ]
    },
    {
     "name": "stdout",
     "output_type": "stream",
     "text": [
      "NOTE: pick_channels() is a legacy function. New code should use inst.pick(...).\n"
     ]
    },
    {
     "name": "stderr",
     "output_type": "stream",
     "text": [
      "/tmp/ipykernel_1155911/1650543861.py:10: RuntimeWarning: Omitted 1 annotation(s) that were outside data range.\n",
      "  raw_eeg = mne.io.read_raw_eeglab(eeg_dirname + f'sub-{SUB_ID}_task-TableTennis_eeg.set', preload=True)\n",
      "/tmp/ipykernel_1155911/1650543861.py:10: RuntimeWarning: The data contains 'boundary' events, indicating data discontinuities. Be cautious of filtering and epoching around these events.\n",
      "  raw_eeg = mne.io.read_raw_eeglab(eeg_dirname + f'sub-{SUB_ID}_task-TableTennis_eeg.set', preload=True)\n",
      "/tmp/ipykernel_1155911/1650543861.py:10: RuntimeWarning: Not setting positions of 8 emg channels found in montage:\n",
      "['LISCM', 'LSSCM', 'LSTrap', 'LITrap', 'RITrap', 'RISCM', 'RSSCM', 'RSTrap']\n",
      "Consider setting the channel types to be of EEG/sEEG/ECoG/DBS/fNIRS using inst.set_channel_types before calling inst.set_montage, or omit these channels when creating your montage.\n",
      "  raw_eeg = mne.io.read_raw_eeglab(eeg_dirname + f'sub-{SUB_ID}_task-TableTennis_eeg.set', preload=True)\n"
     ]
    },
    {
     "data": {
      "application/vnd.jupyter.widget-view+json": {
       "model_id": "9ce3c86431a54aaba9717675c720c8d6",
       "version_major": 2,
       "version_minor": 0
      },
      "text/plain": [
       "  0%|          | 0/385681 [00:00<?, ?it/s]"
      ]
     },
     "metadata": {},
     "output_type": "display_data"
    },
    {
     "name": "stdout",
     "output_type": "stream",
     "text": [
      "Reading /data/vladimiroved/realWorldTableTennis/sub-05/eeg/sub-05_task-TableTennis_eeg.fdt\n",
      "Reading 0 ... 1038925  =      0.000 ...  4155.700 secs...\n"
     ]
    },
    {
     "name": "stderr",
     "output_type": "stream",
     "text": [
      "/tmp/ipykernel_1155911/1650543861.py:10: RuntimeWarning: Unknown types found, setting as type EEG:\n",
      "acc: ['CGY-x', 'CGY-y', 'CGY-z', 'CWR-x', 'CWR-y', 'CWR-z', 'NGY-x', 'NGY-y', 'NGY-z', 'NWR-x', 'NWR-y', 'NWR-z']\n",
      "cometas: ['BallMachine_Acc_X(g)', 'BallMachine_Acc_Y(g)', 'BallMachine_Acc_Z(g)', 'Imu_2 :W():', 'Imu_2 :X():', 'Imu_2 :Y():', 'Imu_2 :Z():', 'Imu_2_ImuGyro :X(D/s):', 'Imu_2_ImuGyro :Y(D/s):', 'Imu_2_ImuGyro :Z(D/s):', 'Imu_2_ImuMag :X(uT):', 'Imu_2_ImuMag :Y(uT):', 'Imu_2_ImuMag :Z(uT):', 'Imu_3 :W():', 'Imu_3 :X():', 'Imu_3 :Y():', 'Imu_3 :Z():', 'Imu_3_ImuGyro :X(D/s):', 'Imu_3_ImuGyro :Y(D/s):', 'Imu_3_ImuGyro :Z(D/s):', 'Imu_3_ImuMag :X(uT):', 'Imu_3_ImuMag :Y(uT):', 'Imu_3_ImuMag :Z(uT):', 'Imu_4 :W():', 'Imu_4 :X():', 'Imu_4 :Y():', 'Imu_4 :Z():', 'Imu_4_ImuGyro :X(D/s):', 'Imu_4_ImuGyro :Y(D/s):', 'Imu_4_ImuGyro :Z(D/s):', 'Imu_4_ImuMag :X(uT):', 'Imu_4_ImuMag :Y(uT):', 'Imu_4_ImuMag :Z(uT):', 'Imu_5 :W():', 'Imu_5 :X():', 'Imu_5 :Y():', 'Imu_5 :Z():', 'Imu_5_ImuGyro :X(D/s):', 'Imu_5_ImuGyro :Y(D/s):', 'Imu_5_ImuGyro :Z(D/s):', 'Imu_5_ImuMag :X(uT):', 'Imu_5_ImuMag :Y(uT):', 'Imu_5_ImuMag :Z(uT):', 'Net_Acc_X(g)', 'Net_Acc_Y(g)', 'Net_Acc_Z(g)', 'Participant_Paddle_Acc_X(g)', 'Participant_Paddle_Acc_Y(g)', 'Participant_Paddle_Acc_Z(g)', 'Researcher_Paddle_Acc_X(g)', 'Researcher_Paddle_Acc_Y(g)', 'Researcher_Paddle_Acc_Z(g)', 'SyncPulse(uV)']\n",
      "noise: ['N-AF3', 'N-AF4', 'N-AF7', 'N-AF8', 'N-AFF1h', 'N-AFF2h', 'N-AFF5h', 'N-AFF6h', 'N-AFp1', 'N-AFp2', 'N-AFz', 'N-C1', 'N-C2', 'N-C3', 'N-C4', 'N-C5', 'N-C6', 'N-CCP1h', 'N-CCP2h', 'N-CCP3h', 'N-CCP4h', 'N-CCP5h', 'N-CCP6h', 'N-CP1', 'N-CP2', 'N-CP3', 'N-CP4', 'N-CP5', 'N-CP6', 'N-CPP1h', 'N-CPP2h', 'N-CPP3h', 'N-CPP4h', 'N-CPP5h', 'N-CPP6h', 'N-Cz', 'N-F1', 'N-F10', 'N-F2', 'N-F3', 'N-F4', 'N-F5', 'N-F6', 'N-F7', 'N-F8', 'N-F9', 'N-FC1', 'N-FC2', 'N-FC3', 'N-FC4', 'N-FC5', 'N-FC6', 'N-FCC1h', 'N-FCC2h', 'N-FCC3h', 'N-FCC4h', 'N-FCC5h', 'N-FCC6h', 'N-FCz', 'N-FFC1h', 'N-FFC2h', 'N-FFC3h', 'N-FFC4h', 'N-FFC5h', 'N-FFC6h', 'N-FFT10h', 'N-FFT7h', 'N-FFT8h', 'N-FFT9h', 'N-FP2', 'N-FT10', 'N-FT7', 'N-FT8', 'N-FT9', 'N-FTT10h', 'N-FTT7h', 'N-FTT8h', 'N-FTT9h', 'N-Fp1', 'N-Fz', 'N-Iz', 'N-O1', 'N-O2', 'N-OI1h', 'N-OI2h', 'N-Oz', 'N-P1', 'N-P2', 'N-P3', 'N-P4', 'N-P5', 'N-P6', 'N-P7', 'N-P8', 'N-PO3', 'N-PO4', 'N-PO7', 'N-PO8', 'N-POO1', 'N-POO10h', 'N-POO2', 'N-POO9h', 'N-POz', 'N-PPO10h', 'N-PPO1h', 'N-PPO2h', 'N-PPO5h', 'N-PPO6h', 'N-PPO9h', 'N-Pz', 'N-T7', 'N-T8', 'N-TP7', 'N-TP8', 'N-TPP10h', 'N-TPP7h', 'N-TPP8h', 'N-TPP9h', 'N-TTP7h', 'N-TTP8h']\n",
      "  raw_eeg = mne.io.read_raw_eeglab(eeg_dirname + f'sub-{SUB_ID}_task-TableTennis_eeg.set', preload=True)\n",
      "/tmp/ipykernel_1155911/1650543861.py:10: RuntimeWarning: Data file name in EEG.data (sub-05_task-tabletennis_eeg.fdt) is incorrect, the file name must have changed on disk, using the correct file name (sub-05_task-TableTennis_eeg.fdt).\n",
      "  raw_eeg = mne.io.read_raw_eeglab(eeg_dirname + f'sub-{SUB_ID}_task-TableTennis_eeg.set', preload=True)\n"
     ]
    },
    {
     "name": "stdout",
     "output_type": "stream",
     "text": [
      "NOTE: pick_channels() is a legacy function. New code should use inst.pick(...).\n"
     ]
    },
    {
     "name": "stderr",
     "output_type": "stream",
     "text": [
      "/tmp/ipykernel_1155911/1650543861.py:10: RuntimeWarning: Omitted 1 annotation(s) that were outside data range.\n",
      "  raw_eeg = mne.io.read_raw_eeglab(eeg_dirname + f'sub-{SUB_ID}_task-TableTennis_eeg.set', preload=True)\n",
      "/tmp/ipykernel_1155911/1650543861.py:10: RuntimeWarning: The data contains 'boundary' events, indicating data discontinuities. Be cautious of filtering and epoching around these events.\n",
      "  raw_eeg = mne.io.read_raw_eeglab(eeg_dirname + f'sub-{SUB_ID}_task-TableTennis_eeg.set', preload=True)\n",
      "/tmp/ipykernel_1155911/1650543861.py:10: RuntimeWarning: Not setting positions of 8 emg channels found in montage:\n",
      "['LISCM', 'LSSCM', 'LSTrap', 'LITrap', 'RITrap', 'RISCM', 'RSSCM', 'RSTrap']\n",
      "Consider setting the channel types to be of EEG/sEEG/ECoG/DBS/fNIRS using inst.set_channel_types before calling inst.set_montage, or omit these channels when creating your montage.\n",
      "  raw_eeg = mne.io.read_raw_eeglab(eeg_dirname + f'sub-{SUB_ID}_task-TableTennis_eeg.set', preload=True)\n"
     ]
    },
    {
     "data": {
      "application/vnd.jupyter.widget-view+json": {
       "model_id": "68b42df137ed4b62bb91f39d610b9ee1",
       "version_major": 2,
       "version_minor": 0
      },
      "text/plain": [
       "  0%|          | 0/44860 [00:00<?, ?it/s]"
      ]
     },
     "metadata": {},
     "output_type": "display_data"
    },
    {
     "name": "stdout",
     "output_type": "stream",
     "text": [
      "Reading /data/vladimiroved/realWorldTableTennis/sub-06/eeg/sub-06_task-TableTennis_eeg.fdt\n",
      "Reading 0 ... 1042908  =      0.000 ...  4171.632 secs...\n"
     ]
    },
    {
     "name": "stderr",
     "output_type": "stream",
     "text": [
      "/tmp/ipykernel_1155911/1650543861.py:10: RuntimeWarning: Unknown types found, setting as type EEG:\n",
      "acc: ['CGY-x', 'CGY-y', 'CGY-z', 'CWR-x', 'CWR-y', 'CWR-z', 'NGY-x', 'NGY-y', 'NGY-z', 'NWR-x', 'NWR-y', 'NWR-z']\n",
      "cometas: ['BallMachine_Acc_X(g)', 'BallMachine_Acc_Y(g)', 'BallMachine_Acc_Z(g)', 'Imu_2 :W():', 'Imu_2 :X():', 'Imu_2 :Y():', 'Imu_2 :Z():', 'Imu_2_ImuGyro :X(D/s):', 'Imu_2_ImuGyro :Y(D/s):', 'Imu_2_ImuGyro :Z(D/s):', 'Imu_2_ImuMag :X(uT):', 'Imu_2_ImuMag :Y(uT):', 'Imu_2_ImuMag :Z(uT):', 'Imu_3 :W():', 'Imu_3 :X():', 'Imu_3 :Y():', 'Imu_3 :Z():', 'Imu_3_ImuGyro :X(D/s):', 'Imu_3_ImuGyro :Y(D/s):', 'Imu_3_ImuGyro :Z(D/s):', 'Imu_3_ImuMag :X(uT):', 'Imu_3_ImuMag :Y(uT):', 'Imu_3_ImuMag :Z(uT):', 'Imu_4 :W():', 'Imu_4 :X():', 'Imu_4 :Y():', 'Imu_4 :Z():', 'Imu_4_ImuGyro :X(D/s):', 'Imu_4_ImuGyro :Y(D/s):', 'Imu_4_ImuGyro :Z(D/s):', 'Imu_4_ImuMag :X(uT):', 'Imu_4_ImuMag :Y(uT):', 'Imu_4_ImuMag :Z(uT):', 'Imu_5 :W():', 'Imu_5 :X():', 'Imu_5 :Y():', 'Imu_5 :Z():', 'Imu_5_ImuGyro :X(D/s):', 'Imu_5_ImuGyro :Y(D/s):', 'Imu_5_ImuGyro :Z(D/s):', 'Imu_5_ImuMag :X(uT):', 'Imu_5_ImuMag :Y(uT):', 'Imu_5_ImuMag :Z(uT):', 'Net_Acc_X(g)', 'Net_Acc_Y(g)', 'Net_Acc_Z(g)', 'Participant_Paddle_Acc_X(g)', 'Participant_Paddle_Acc_Y(g)', 'Participant_Paddle_Acc_Z(g)', 'Researcher_Paddle_Acc_X(g)', 'Researcher_Paddle_Acc_Y(g)', 'Researcher_Paddle_Acc_Z(g)', 'SyncPulse(uV)']\n",
      "noise: ['N-AF3', 'N-AF4', 'N-AF7', 'N-AF8', 'N-AFF1h', 'N-AFF2h', 'N-AFF5h', 'N-AFF6h', 'N-AFp1', 'N-AFp2', 'N-AFz', 'N-C1', 'N-C2', 'N-C3', 'N-C4', 'N-C5', 'N-C6', 'N-CCP1h', 'N-CCP2h', 'N-CCP3h', 'N-CCP4h', 'N-CCP5h', 'N-CCP6h', 'N-CP1', 'N-CP2', 'N-CP3', 'N-CP4', 'N-CP5', 'N-CP6', 'N-CPP1h', 'N-CPP2h', 'N-CPP3h', 'N-CPP4h', 'N-CPP5h', 'N-CPP6h', 'N-Cz', 'N-F1', 'N-F10', 'N-F2', 'N-F3', 'N-F4', 'N-F5', 'N-F6', 'N-F7', 'N-F8', 'N-F9', 'N-FC1', 'N-FC2', 'N-FC3', 'N-FC4', 'N-FC5', 'N-FC6', 'N-FCC1h', 'N-FCC2h', 'N-FCC3h', 'N-FCC4h', 'N-FCC5h', 'N-FCC6h', 'N-FCz', 'N-FFC1h', 'N-FFC2h', 'N-FFC3h', 'N-FFC4h', 'N-FFC5h', 'N-FFC6h', 'N-FFT10h', 'N-FFT7h', 'N-FFT8h', 'N-FFT9h', 'N-FP2', 'N-FT10', 'N-FT7', 'N-FT8', 'N-FT9', 'N-FTT10h', 'N-FTT7h', 'N-FTT8h', 'N-FTT9h', 'N-Fp1', 'N-Fz', 'N-Iz', 'N-O1', 'N-O2', 'N-OI1h', 'N-OI2h', 'N-Oz', 'N-P1', 'N-P2', 'N-P3', 'N-P4', 'N-P5', 'N-P6', 'N-P7', 'N-P8', 'N-PO3', 'N-PO4', 'N-PO7', 'N-PO8', 'N-POO1', 'N-POO10h', 'N-POO2', 'N-POO9h', 'N-POz', 'N-PPO10h', 'N-PPO1h', 'N-PPO2h', 'N-PPO5h', 'N-PPO6h', 'N-PPO9h', 'N-Pz', 'N-T7', 'N-T8', 'N-TP7', 'N-TP8', 'N-TPP10h', 'N-TPP7h', 'N-TPP8h', 'N-TPP9h', 'N-TTP7h', 'N-TTP8h']\n",
      "  raw_eeg = mne.io.read_raw_eeglab(eeg_dirname + f'sub-{SUB_ID}_task-TableTennis_eeg.set', preload=True)\n",
      "/tmp/ipykernel_1155911/1650543861.py:10: RuntimeWarning: Estimated head radius (12.2 cm) is above the 99th percentile for adult head size. Check if the montage_units argument is correct (the default is \"mm\", but your channel positions may be in different units).\n",
      "  raw_eeg = mne.io.read_raw_eeglab(eeg_dirname + f'sub-{SUB_ID}_task-TableTennis_eeg.set', preload=True)\n",
      "/tmp/ipykernel_1155911/1650543861.py:10: RuntimeWarning: Data file name in EEG.data (sub-06_task-tabletennis_eeg.fdt) is incorrect, the file name must have changed on disk, using the correct file name (sub-06_task-TableTennis_eeg.fdt).\n",
      "  raw_eeg = mne.io.read_raw_eeglab(eeg_dirname + f'sub-{SUB_ID}_task-TableTennis_eeg.set', preload=True)\n"
     ]
    },
    {
     "name": "stdout",
     "output_type": "stream",
     "text": [
      "NOTE: pick_channels() is a legacy function. New code should use inst.pick(...).\n"
     ]
    },
    {
     "name": "stderr",
     "output_type": "stream",
     "text": [
      "/tmp/ipykernel_1155911/1650543861.py:10: RuntimeWarning: Omitted 1 annotation(s) that were outside data range.\n",
      "  raw_eeg = mne.io.read_raw_eeglab(eeg_dirname + f'sub-{SUB_ID}_task-TableTennis_eeg.set', preload=True)\n",
      "/tmp/ipykernel_1155911/1650543861.py:10: RuntimeWarning: The data contains 'boundary' events, indicating data discontinuities. Be cautious of filtering and epoching around these events.\n",
      "  raw_eeg = mne.io.read_raw_eeglab(eeg_dirname + f'sub-{SUB_ID}_task-TableTennis_eeg.set', preload=True)\n",
      "/tmp/ipykernel_1155911/1650543861.py:10: RuntimeWarning: Not setting positions of 8 emg channels found in montage:\n",
      "['LISCM', 'LSSCM', 'LSTrap', 'LITrap', 'RITrap', 'RISCM', 'RSSCM', 'RSTrap']\n",
      "Consider setting the channel types to be of EEG/sEEG/ECoG/DBS/fNIRS using inst.set_channel_types before calling inst.set_montage, or omit these channels when creating your montage.\n",
      "  raw_eeg = mne.io.read_raw_eeglab(eeg_dirname + f'sub-{SUB_ID}_task-TableTennis_eeg.set', preload=True)\n"
     ]
    },
    {
     "data": {
      "application/vnd.jupyter.widget-view+json": {
       "model_id": "3f9b8645dac24f908677783fb19d1f02",
       "version_major": 2,
       "version_minor": 0
      },
      "text/plain": [
       "  0%|          | 0/58989 [00:00<?, ?it/s]"
      ]
     },
     "metadata": {},
     "output_type": "display_data"
    },
    {
     "name": "stdout",
     "output_type": "stream",
     "text": [
      "Reading /data/vladimiroved/realWorldTableTennis/sub-07/eeg/sub-07_task-TableTennis_eeg.fdt\n",
      "Reading 0 ... 1174502  =      0.000 ...  4698.008 secs...\n"
     ]
    },
    {
     "name": "stderr",
     "output_type": "stream",
     "text": [
      "/tmp/ipykernel_1155911/1650543861.py:10: RuntimeWarning: Unknown types found, setting as type EEG:\n",
      "acc: ['CGY-x', 'CGY-y', 'CGY-z', 'CWR-x', 'CWR-y', 'CWR-z', 'NGY-x', 'NGY-y', 'NGY-z', 'NWR-x', 'NWR-y', 'NWR-z']\n",
      "cometas: ['BallMachine_Acc_X(g)', 'BallMachine_Acc_Y(g)', 'BallMachine_Acc_Z(g)', 'Imu_2 :W():', 'Imu_2 :X():', 'Imu_2 :Y():', 'Imu_2 :Z():', 'Imu_2_ImuGyro :X(D/s):', 'Imu_2_ImuGyro :Y(D/s):', 'Imu_2_ImuGyro :Z(D/s):', 'Imu_2_ImuMag :X(uT):', 'Imu_2_ImuMag :Y(uT):', 'Imu_2_ImuMag :Z(uT):', 'Imu_4 :W():', 'Imu_4 :X():', 'Imu_4 :Y():', 'Imu_4 :Z():', 'Imu_4_ImuGyro :X(D/s):', 'Imu_4_ImuGyro :Y(D/s):', 'Imu_4_ImuGyro :Z(D/s):', 'Imu_4_ImuMag :X(uT):', 'Imu_4_ImuMag :Y(uT):', 'Imu_4_ImuMag :Z(uT):', 'Net_Acc_X(g)', 'Net_Acc_Y(g)', 'Net_Acc_Z(g)', 'Participant_Paddle_Acc_X(g)', 'Participant_Paddle_Acc_Y(g)', 'Participant_Paddle_Acc_Z(g)', 'Researcher_Paddle_Acc_X(g)', 'Researcher_Paddle_Acc_Y(g)', 'Researcher_Paddle_Acc_Z(g)', 'SyncPulse(uV)', 'Table_OtherSide_Acc_X(g)', 'Table_OtherSide_Acc_Y(g)', 'Table_OtherSide_Acc_Z(g)', 'Table_ParticipantSide_Acc_X(g)', 'Table_ParticipantSide_Acc_Y(g)', 'Table_ParticipantSide_Acc_Z(g)']\n",
      "noise: ['N-AF3', 'N-AF4', 'N-AF7', 'N-AF8', 'N-AFF1h', 'N-AFF2h', 'N-AFF5h', 'N-AFF6h', 'N-AFp1', 'N-AFp2', 'N-AFz', 'N-C1', 'N-C2', 'N-C3', 'N-C4', 'N-C5', 'N-C6', 'N-CCP1h', 'N-CCP2h', 'N-CCP3h', 'N-CCP4h', 'N-CCP5h', 'N-CCP6h', 'N-CP1', 'N-CP2', 'N-CP3', 'N-CP4', 'N-CP5', 'N-CP6', 'N-CPP1h', 'N-CPP2h', 'N-CPP3h', 'N-CPP4h', 'N-CPP5h', 'N-CPP6h', 'N-Cz', 'N-F1', 'N-F10', 'N-F2', 'N-F3', 'N-F4', 'N-F5', 'N-F6', 'N-F7', 'N-F8', 'N-F9', 'N-FC1', 'N-FC2', 'N-FC3', 'N-FC4', 'N-FC5', 'N-FC6', 'N-FCC1h', 'N-FCC2h', 'N-FCC3h', 'N-FCC4h', 'N-FCC5h', 'N-FCC6h', 'N-FCz', 'N-FFC1h', 'N-FFC2h', 'N-FFC3h', 'N-FFC4h', 'N-FFC5h', 'N-FFC6h', 'N-FFT10h', 'N-FFT7h', 'N-FFT8h', 'N-FFT9h', 'N-FP2', 'N-FT10', 'N-FT7', 'N-FT8', 'N-FT9', 'N-FTT10h', 'N-FTT7h', 'N-FTT8h', 'N-FTT9h', 'N-Fp1', 'N-Fz', 'N-Iz', 'N-O1', 'N-O2', 'N-OI1h', 'N-OI2h', 'N-Oz', 'N-P1', 'N-P2', 'N-P3', 'N-P4', 'N-P5', 'N-P6', 'N-P7', 'N-P8', 'N-PO3', 'N-PO4', 'N-PO7', 'N-PO8', 'N-POO1', 'N-POO10h', 'N-POO2', 'N-POO9h', 'N-POz', 'N-PPO10h', 'N-PPO1h', 'N-PPO2h', 'N-PPO5h', 'N-PPO6h', 'N-PPO9h', 'N-Pz', 'N-T7', 'N-T8', 'N-TP7', 'N-TP8', 'N-TPP10h', 'N-TPP7h', 'N-TPP8h', 'N-TPP9h', 'N-TTP7h', 'N-TTP8h']\n",
      "  raw_eeg = mne.io.read_raw_eeglab(eeg_dirname + f'sub-{SUB_ID}_task-TableTennis_eeg.set', preload=True)\n",
      "/tmp/ipykernel_1155911/1650543861.py:10: RuntimeWarning: Estimated head radius (11.4 cm) is above the 99th percentile for adult head size. Check if the montage_units argument is correct (the default is \"mm\", but your channel positions may be in different units).\n",
      "  raw_eeg = mne.io.read_raw_eeglab(eeg_dirname + f'sub-{SUB_ID}_task-TableTennis_eeg.set', preload=True)\n",
      "/tmp/ipykernel_1155911/1650543861.py:10: RuntimeWarning: Data file name in EEG.data (sub-07_task-tabletennis_eeg.fdt) is incorrect, the file name must have changed on disk, using the correct file name (sub-07_task-TableTennis_eeg.fdt).\n",
      "  raw_eeg = mne.io.read_raw_eeglab(eeg_dirname + f'sub-{SUB_ID}_task-TableTennis_eeg.set', preload=True)\n"
     ]
    },
    {
     "name": "stdout",
     "output_type": "stream",
     "text": [
      "NOTE: pick_channels() is a legacy function. New code should use inst.pick(...).\n"
     ]
    },
    {
     "name": "stderr",
     "output_type": "stream",
     "text": [
      "/tmp/ipykernel_1155911/1650543861.py:10: RuntimeWarning: Omitted 1 annotation(s) that were outside data range.\n",
      "  raw_eeg = mne.io.read_raw_eeglab(eeg_dirname + f'sub-{SUB_ID}_task-TableTennis_eeg.set', preload=True)\n",
      "/tmp/ipykernel_1155911/1650543861.py:10: RuntimeWarning: The data contains 'boundary' events, indicating data discontinuities. Be cautious of filtering and epoching around these events.\n",
      "  raw_eeg = mne.io.read_raw_eeglab(eeg_dirname + f'sub-{SUB_ID}_task-TableTennis_eeg.set', preload=True)\n",
      "/tmp/ipykernel_1155911/1650543861.py:10: RuntimeWarning: Not setting positions of 8 emg channels found in montage:\n",
      "['LISCM', 'LSSCM', 'LSTrap', 'LITrap', 'RITrap', 'RISCM', 'RSSCM', 'RSTrap']\n",
      "Consider setting the channel types to be of EEG/sEEG/ECoG/DBS/fNIRS using inst.set_channel_types before calling inst.set_montage, or omit these channels when creating your montage.\n",
      "  raw_eeg = mne.io.read_raw_eeglab(eeg_dirname + f'sub-{SUB_ID}_task-TableTennis_eeg.set', preload=True)\n"
     ]
    },
    {
     "data": {
      "application/vnd.jupyter.widget-view+json": {
       "model_id": "18253b3b276744a9a0b31a7255d7b2ee",
       "version_major": 2,
       "version_minor": 0
      },
      "text/plain": [
       "  0%|          | 0/104588 [00:00<?, ?it/s]"
      ]
     },
     "metadata": {},
     "output_type": "display_data"
    },
    {
     "name": "stdout",
     "output_type": "stream",
     "text": [
      "Reading /data/vladimiroved/realWorldTableTennis/sub-08/eeg/sub-08_task-TableTennis_eeg.fdt\n",
      "Reading 0 ... 1159909  =      0.000 ...  4639.636 secs...\n"
     ]
    },
    {
     "name": "stderr",
     "output_type": "stream",
     "text": [
      "/tmp/ipykernel_1155911/1650543861.py:10: RuntimeWarning: Unknown types found, setting as type EEG:\n",
      "acc: ['CGY-x', 'CGY-y', 'CGY-z', 'CWR-x', 'CWR-y', 'CWR-z', 'NGY-x', 'NGY-y', 'NGY-z', 'NWR-x', 'NWR-y', 'NWR-z']\n",
      "cometas: ['BallMachine_Acc_X(g)', 'BallMachine_Acc_Y(g)', 'BallMachine_Acc_Z(g)', 'Imu_2 :W():', 'Imu_2 :X():', 'Imu_2 :Y():', 'Imu_2 :Z():', 'Imu_2_ImuGyro :X(D/s):', 'Imu_2_ImuGyro :Y(D/s):', 'Imu_2_ImuGyro :Z(D/s):', 'Imu_2_ImuMag :X(uT):', 'Imu_2_ImuMag :Y(uT):', 'Imu_2_ImuMag :Z(uT):', 'Imu_4 :W():', 'Imu_4 :X():', 'Imu_4 :Y():', 'Imu_4 :Z():', 'Imu_4_ImuGyro :X(D/s):', 'Imu_4_ImuGyro :Y(D/s):', 'Imu_4_ImuGyro :Z(D/s):', 'Imu_4_ImuMag :X(uT):', 'Imu_4_ImuMag :Y(uT):', 'Imu_4_ImuMag :Z(uT):', 'Net_Acc_X(g)', 'Net_Acc_Y(g)', 'Net_Acc_Z(g)', 'Participant_Paddle_Acc_X(g)', 'Participant_Paddle_Acc_Y(g)', 'Participant_Paddle_Acc_Z(g)', 'Researcher_Paddle_Acc_X(g)', 'Researcher_Paddle_Acc_Y(g)', 'Researcher_Paddle_Acc_Z(g)', 'SyncPulse(uV)', 'Table_OtherSide_Acc_X(g)', 'Table_OtherSide_Acc_Y(g)', 'Table_OtherSide_Acc_Z(g)', 'Table_ParticipantSide_Acc_X(g)', 'Table_ParticipantSide_Acc_Y(g)', 'Table_ParticipantSide_Acc_Z(g)']\n",
      "noise: ['N-AF3', 'N-AF4', 'N-AF7', 'N-AF8', 'N-AFF1h', 'N-AFF2h', 'N-AFF5h', 'N-AFF6h', 'N-AFp1', 'N-AFp2', 'N-AFz', 'N-C1', 'N-C2', 'N-C3', 'N-C4', 'N-C5', 'N-C6', 'N-CCP1h', 'N-CCP2h', 'N-CCP3h', 'N-CCP4h', 'N-CCP5h', 'N-CCP6h', 'N-CP1', 'N-CP2', 'N-CP3', 'N-CP4', 'N-CP5', 'N-CP6', 'N-CPP1h', 'N-CPP2h', 'N-CPP3h', 'N-CPP4h', 'N-CPP5h', 'N-CPP6h', 'N-Cz', 'N-F1', 'N-F10', 'N-F2', 'N-F3', 'N-F4', 'N-F5', 'N-F6', 'N-F7', 'N-F8', 'N-F9', 'N-FC1', 'N-FC2', 'N-FC3', 'N-FC4', 'N-FC5', 'N-FC6', 'N-FCC1h', 'N-FCC2h', 'N-FCC3h', 'N-FCC4h', 'N-FCC5h', 'N-FCC6h', 'N-FCz', 'N-FFC1h', 'N-FFC2h', 'N-FFC3h', 'N-FFC4h', 'N-FFC5h', 'N-FFC6h', 'N-FFT10h', 'N-FFT7h', 'N-FFT8h', 'N-FFT9h', 'N-FP2', 'N-FT10', 'N-FT7', 'N-FT8', 'N-FT9', 'N-FTT10h', 'N-FTT7h', 'N-FTT8h', 'N-FTT9h', 'N-Fp1', 'N-Fz', 'N-Iz', 'N-O1', 'N-O2', 'N-OI1h', 'N-OI2h', 'N-Oz', 'N-P1', 'N-P2', 'N-P3', 'N-P4', 'N-P5', 'N-P6', 'N-P7', 'N-P8', 'N-PO3', 'N-PO4', 'N-PO7', 'N-PO8', 'N-POO1', 'N-POO10h', 'N-POO2', 'N-POO9h', 'N-POz', 'N-PPO10h', 'N-PPO1h', 'N-PPO2h', 'N-PPO5h', 'N-PPO6h', 'N-PPO9h', 'N-Pz', 'N-T7', 'N-T8', 'N-TP7', 'N-TP8', 'N-TPP10h', 'N-TPP7h', 'N-TPP8h', 'N-TPP9h', 'N-TTP7h', 'N-TTP8h']\n",
      "  raw_eeg = mne.io.read_raw_eeglab(eeg_dirname + f'sub-{SUB_ID}_task-TableTennis_eeg.set', preload=True)\n",
      "/tmp/ipykernel_1155911/1650543861.py:10: RuntimeWarning: Estimated head radius (10.9 cm) is above the 99th percentile for adult head size. Check if the montage_units argument is correct (the default is \"mm\", but your channel positions may be in different units).\n",
      "  raw_eeg = mne.io.read_raw_eeglab(eeg_dirname + f'sub-{SUB_ID}_task-TableTennis_eeg.set', preload=True)\n",
      "/tmp/ipykernel_1155911/1650543861.py:10: RuntimeWarning: Data file name in EEG.data (sub-08_task-tabletennis_eeg.fdt) is incorrect, the file name must have changed on disk, using the correct file name (sub-08_task-TableTennis_eeg.fdt).\n",
      "  raw_eeg = mne.io.read_raw_eeglab(eeg_dirname + f'sub-{SUB_ID}_task-TableTennis_eeg.set', preload=True)\n"
     ]
    },
    {
     "name": "stdout",
     "output_type": "stream",
     "text": [
      "NOTE: pick_channels() is a legacy function. New code should use inst.pick(...).\n"
     ]
    },
    {
     "name": "stderr",
     "output_type": "stream",
     "text": [
      "/tmp/ipykernel_1155911/1650543861.py:10: RuntimeWarning: Omitted 1 annotation(s) that were outside data range.\n",
      "  raw_eeg = mne.io.read_raw_eeglab(eeg_dirname + f'sub-{SUB_ID}_task-TableTennis_eeg.set', preload=True)\n",
      "/tmp/ipykernel_1155911/1650543861.py:10: RuntimeWarning: The data contains 'boundary' events, indicating data discontinuities. Be cautious of filtering and epoching around these events.\n",
      "  raw_eeg = mne.io.read_raw_eeglab(eeg_dirname + f'sub-{SUB_ID}_task-TableTennis_eeg.set', preload=True)\n",
      "/tmp/ipykernel_1155911/1650543861.py:10: RuntimeWarning: Not setting positions of 8 emg channels found in montage:\n",
      "['LISCM', 'LSSCM', 'LSTrap', 'LITrap', 'RITrap', 'RISCM', 'RSSCM', 'RSTrap']\n",
      "Consider setting the channel types to be of EEG/sEEG/ECoG/DBS/fNIRS using inst.set_channel_types before calling inst.set_montage, or omit these channels when creating your montage.\n",
      "  raw_eeg = mne.io.read_raw_eeglab(eeg_dirname + f'sub-{SUB_ID}_task-TableTennis_eeg.set', preload=True)\n"
     ]
    },
    {
     "data": {
      "application/vnd.jupyter.widget-view+json": {
       "model_id": "efa62294b06d4e93a11d889706ec2c23",
       "version_major": 2,
       "version_minor": 0
      },
      "text/plain": [
       "  0%|          | 0/96587 [00:00<?, ?it/s]"
      ]
     },
     "metadata": {},
     "output_type": "display_data"
    },
    {
     "name": "stdout",
     "output_type": "stream",
     "text": [
      "Reading /data/vladimiroved/realWorldTableTennis/sub-09/eeg/sub-09_task-TableTennis_eeg.fdt\n",
      "Reading 0 ... 1146678  =      0.000 ...  4586.712 secs...\n"
     ]
    },
    {
     "name": "stderr",
     "output_type": "stream",
     "text": [
      "/tmp/ipykernel_1155911/1650543861.py:10: RuntimeWarning: Unknown types found, setting as type EEG:\n",
      "acc: ['CGY-x', 'CGY-y', 'CGY-z', 'CWR-x', 'CWR-y', 'CWR-z', 'NGY-x', 'NGY-y', 'NGY-z', 'NWR-x', 'NWR-y', 'NWR-z']\n",
      "cometas: ['BallMachine_Acc_X(g)', 'BallMachine_Acc_Y(g)', 'BallMachine_Acc_Z(g)', 'Imu_1 :W():', 'Imu_1 :X():', 'Imu_1 :Y():', 'Imu_1 :Z():', 'Imu_1_ImuGyro :X(D/s):', 'Imu_1_ImuGyro :Y(D/s):', 'Imu_1_ImuGyro :Z(D/s):', 'Imu_1_ImuMag :X(uT):', 'Imu_1_ImuMag :Y(uT):', 'Imu_1_ImuMag :Z(uT):', 'Imu_2 :W():', 'Imu_2 :X():', 'Imu_2 :Y():', 'Imu_2 :Z():', 'Imu_2_ImuGyro :X(D/s):', 'Imu_2_ImuGyro :Y(D/s):', 'Imu_2_ImuGyro :Z(D/s):', 'Imu_2_ImuMag :X(uT):', 'Imu_2_ImuMag :Y(uT):', 'Imu_2_ImuMag :Z(uT):', 'Imu_4 :W():', 'Imu_4 :X():', 'Imu_4 :Y():', 'Imu_4 :Z():', 'Imu_4_ImuGyro :X(D/s):', 'Imu_4_ImuGyro :Y(D/s):', 'Imu_4_ImuGyro :Z(D/s):', 'Imu_4_ImuMag :X(uT):', 'Imu_4_ImuMag :Y(uT):', 'Imu_4_ImuMag :Z(uT):', 'Net_Acc_X(g)', 'Net_Acc_Y(g)', 'Net_Acc_Z(g)', 'Participant_Backpack_Acc_X(g)', 'Participant_Backpack_Acc_Y(g)', 'Participant_Backpack_Acc_Z(g)', 'Participant_Paddle_Acc_X(g)', 'Participant_Paddle_Acc_Y(g)', 'Participant_Paddle_Acc_Z(g)', 'Researcher_Paddle_Acc_X(g)', 'Researcher_Paddle_Acc_Y(g)', 'Researcher_Paddle_Acc_Z(g)', 'SyncPulse(uV)', 'Table_OtherSide_Acc_X(g)', 'Table_OtherSide_Acc_Y(g)', 'Table_OtherSide_Acc_Z(g)', 'Table_ParticipantSide_Acc_X(g)', 'Table_ParticipantSide_Acc_Y(g)', 'Table_ParticipantSide_Acc_Z(g)']\n",
      "noise: ['N-AF3', 'N-AF4', 'N-AF7', 'N-AF8', 'N-AFF1h', 'N-AFF2h', 'N-AFF5h', 'N-AFF6h', 'N-AFp1', 'N-AFp2', 'N-AFz', 'N-C1', 'N-C2', 'N-C3', 'N-C4', 'N-C5', 'N-C6', 'N-CCP1h', 'N-CCP2h', 'N-CCP3h', 'N-CCP4h', 'N-CCP5h', 'N-CCP6h', 'N-CP1', 'N-CP2', 'N-CP3', 'N-CP4', 'N-CP5', 'N-CP6', 'N-CPP1h', 'N-CPP2h', 'N-CPP3h', 'N-CPP4h', 'N-CPP5h', 'N-CPP6h', 'N-Cz', 'N-F1', 'N-F10', 'N-F2', 'N-F3', 'N-F4', 'N-F5', 'N-F6', 'N-F7', 'N-F8', 'N-F9', 'N-FC1', 'N-FC2', 'N-FC3', 'N-FC4', 'N-FC5', 'N-FC6', 'N-FCC1h', 'N-FCC2h', 'N-FCC3h', 'N-FCC4h', 'N-FCC5h', 'N-FCC6h', 'N-FCz', 'N-FFC1h', 'N-FFC2h', 'N-FFC3h', 'N-FFC4h', 'N-FFC5h', 'N-FFC6h', 'N-FFT10h', 'N-FFT7h', 'N-FFT8h', 'N-FFT9h', 'N-FP2', 'N-FT10', 'N-FT7', 'N-FT8', 'N-FT9', 'N-FTT10h', 'N-FTT7h', 'N-FTT8h', 'N-FTT9h', 'N-Fp1', 'N-Fz', 'N-Iz', 'N-O1', 'N-O2', 'N-OI1h', 'N-OI2h', 'N-Oz', 'N-P1', 'N-P2', 'N-P3', 'N-P4', 'N-P5', 'N-P6', 'N-P7', 'N-P8', 'N-PO3', 'N-PO4', 'N-PO7', 'N-PO8', 'N-POO1', 'N-POO10h', 'N-POO2', 'N-POO9h', 'N-POz', 'N-PPO10h', 'N-PPO1h', 'N-PPO2h', 'N-PPO5h', 'N-PPO6h', 'N-PPO9h', 'N-Pz', 'N-T7', 'N-T8', 'N-TP7', 'N-TP8', 'N-TPP10h', 'N-TPP7h', 'N-TPP8h', 'N-TPP9h', 'N-TTP7h', 'N-TTP8h']\n",
      "  raw_eeg = mne.io.read_raw_eeglab(eeg_dirname + f'sub-{SUB_ID}_task-TableTennis_eeg.set', preload=True)\n",
      "/tmp/ipykernel_1155911/1650543861.py:10: RuntimeWarning: Estimated head radius (11.7 cm) is above the 99th percentile for adult head size. Check if the montage_units argument is correct (the default is \"mm\", but your channel positions may be in different units).\n",
      "  raw_eeg = mne.io.read_raw_eeglab(eeg_dirname + f'sub-{SUB_ID}_task-TableTennis_eeg.set', preload=True)\n",
      "/tmp/ipykernel_1155911/1650543861.py:10: RuntimeWarning: Data file name in EEG.data (sub-09_task-tabletennis_eeg.fdt) is incorrect, the file name must have changed on disk, using the correct file name (sub-09_task-TableTennis_eeg.fdt).\n",
      "  raw_eeg = mne.io.read_raw_eeglab(eeg_dirname + f'sub-{SUB_ID}_task-TableTennis_eeg.set', preload=True)\n"
     ]
    },
    {
     "name": "stdout",
     "output_type": "stream",
     "text": [
      "NOTE: pick_channels() is a legacy function. New code should use inst.pick(...).\n"
     ]
    },
    {
     "name": "stderr",
     "output_type": "stream",
     "text": [
      "/tmp/ipykernel_1155911/1650543861.py:10: RuntimeWarning: Omitted 1 annotation(s) that were outside data range.\n",
      "  raw_eeg = mne.io.read_raw_eeglab(eeg_dirname + f'sub-{SUB_ID}_task-TableTennis_eeg.set', preload=True)\n",
      "/tmp/ipykernel_1155911/1650543861.py:10: RuntimeWarning: The data contains 'boundary' events, indicating data discontinuities. Be cautious of filtering and epoching around these events.\n",
      "  raw_eeg = mne.io.read_raw_eeglab(eeg_dirname + f'sub-{SUB_ID}_task-TableTennis_eeg.set', preload=True)\n",
      "/tmp/ipykernel_1155911/1650543861.py:10: RuntimeWarning: Not setting positions of 8 emg channels found in montage:\n",
      "['LISCM', 'LSSCM', 'LSTrap', 'LITrap', 'RITrap', 'RISCM', 'RSSCM', 'RSTrap']\n",
      "Consider setting the channel types to be of EEG/sEEG/ECoG/DBS/fNIRS using inst.set_channel_types before calling inst.set_montage, or omit these channels when creating your montage.\n",
      "  raw_eeg = mne.io.read_raw_eeglab(eeg_dirname + f'sub-{SUB_ID}_task-TableTennis_eeg.set', preload=True)\n"
     ]
    },
    {
     "data": {
      "application/vnd.jupyter.widget-view+json": {
       "model_id": "7e483ad4c02c49d29d66a849491bfc49",
       "version_major": 2,
       "version_minor": 0
      },
      "text/plain": [
       "  0%|          | 0/79593 [00:00<?, ?it/s]"
      ]
     },
     "metadata": {},
     "output_type": "display_data"
    },
    {
     "name": "stdout",
     "output_type": "stream",
     "text": [
      "Reading /data/vladimiroved/realWorldTableTennis/sub-10/eeg/sub-10_task-TableTennis_eeg.fdt\n",
      "Reading 0 ... 1139465  =      0.000 ...  4557.860 secs...\n"
     ]
    },
    {
     "name": "stderr",
     "output_type": "stream",
     "text": [
      "/tmp/ipykernel_1155911/1650543861.py:10: RuntimeWarning: Unknown types found, setting as type EEG:\n",
      "acc: ['CGY-x', 'CGY-y', 'CGY-z', 'CWR-x', 'CWR-y', 'CWR-z', 'NGY-x', 'NGY-y', 'NGY-z', 'NWR-x', 'NWR-y', 'NWR-z']\n",
      "cometas: ['BallMachine_Acc_X(g)', 'BallMachine_Acc_Y(g)', 'BallMachine_Acc_Z(g)', 'Imu_1 :W():', 'Imu_1 :X():', 'Imu_1 :Y():', 'Imu_1 :Z():', 'Imu_1_ImuGyro :X(D/s):', 'Imu_1_ImuGyro :Y(D/s):', 'Imu_1_ImuGyro :Z(D/s):', 'Imu_1_ImuMag :X(uT):', 'Imu_1_ImuMag :Y(uT):', 'Imu_1_ImuMag :Z(uT):', 'Imu_2 :W():', 'Imu_2 :X():', 'Imu_2 :Y():', 'Imu_2 :Z():', 'Imu_2_ImuGyro :X(D/s):', 'Imu_2_ImuGyro :Y(D/s):', 'Imu_2_ImuGyro :Z(D/s):', 'Imu_2_ImuMag :X(uT):', 'Imu_2_ImuMag :Y(uT):', 'Imu_2_ImuMag :Z(uT):', 'Imu_4 :W():', 'Imu_4 :X():', 'Imu_4 :Y():', 'Imu_4 :Z():', 'Imu_4_ImuGyro :X(D/s):', 'Imu_4_ImuGyro :Y(D/s):', 'Imu_4_ImuGyro :Z(D/s):', 'Imu_4_ImuMag :X(uT):', 'Imu_4_ImuMag :Y(uT):', 'Imu_4_ImuMag :Z(uT):', 'Net_Acc_X(g)', 'Net_Acc_Y(g)', 'Net_Acc_Z(g)', 'Participant_Backpack_Acc_X(g)', 'Participant_Backpack_Acc_Y(g)', 'Participant_Backpack_Acc_Z(g)', 'Participant_Paddle_Acc_X(g)', 'Participant_Paddle_Acc_Y(g)', 'Participant_Paddle_Acc_Z(g)', 'Researcher_Paddle_Acc_X(g)', 'Researcher_Paddle_Acc_Y(g)', 'Researcher_Paddle_Acc_Z(g)', 'SyncPulse(uV)', 'Table_OtherSide_Acc_X(g)', 'Table_OtherSide_Acc_Y(g)', 'Table_OtherSide_Acc_Z(g)', 'Table_ParticipantSide_Acc_X(g)', 'Table_ParticipantSide_Acc_Y(g)', 'Table_ParticipantSide_Acc_Z(g)']\n",
      "noise: ['N-AF3', 'N-AF4', 'N-AF7', 'N-AF8', 'N-AFF1h', 'N-AFF2h', 'N-AFF5h', 'N-AFF6h', 'N-AFp1', 'N-AFp2', 'N-AFz', 'N-C1', 'N-C2', 'N-C3', 'N-C4', 'N-C5', 'N-C6', 'N-CCP1h', 'N-CCP2h', 'N-CCP3h', 'N-CCP4h', 'N-CCP5h', 'N-CCP6h', 'N-CP1', 'N-CP2', 'N-CP3', 'N-CP4', 'N-CP5', 'N-CP6', 'N-CPP1h', 'N-CPP2h', 'N-CPP3h', 'N-CPP4h', 'N-CPP5h', 'N-CPP6h', 'N-Cz', 'N-F1', 'N-F10', 'N-F2', 'N-F3', 'N-F4', 'N-F5', 'N-F6', 'N-F7', 'N-F8', 'N-F9', 'N-FC1', 'N-FC2', 'N-FC3', 'N-FC4', 'N-FC5', 'N-FC6', 'N-FCC1h', 'N-FCC2h', 'N-FCC3h', 'N-FCC4h', 'N-FCC5h', 'N-FCC6h', 'N-FCz', 'N-FFC1h', 'N-FFC2h', 'N-FFC3h', 'N-FFC4h', 'N-FFC5h', 'N-FFC6h', 'N-FFT10h', 'N-FFT7h', 'N-FFT8h', 'N-FFT9h', 'N-FP2', 'N-FT10', 'N-FT7', 'N-FT8', 'N-FT9', 'N-FTT10h', 'N-FTT7h', 'N-FTT8h', 'N-FTT9h', 'N-Fp1', 'N-Fz', 'N-Iz', 'N-O1', 'N-O2', 'N-OI1h', 'N-OI2h', 'N-Oz', 'N-P1', 'N-P2', 'N-P3', 'N-P4', 'N-P5', 'N-P6', 'N-P7', 'N-P8', 'N-PO3', 'N-PO4', 'N-PO7', 'N-PO8', 'N-POO1', 'N-POO10h', 'N-POO2', 'N-POO9h', 'N-POz', 'N-PPO10h', 'N-PPO1h', 'N-PPO2h', 'N-PPO5h', 'N-PPO6h', 'N-PPO9h', 'N-Pz', 'N-T7', 'N-T8', 'N-TP7', 'N-TP8', 'N-TPP10h', 'N-TPP7h', 'N-TPP8h', 'N-TPP9h', 'N-TTP7h', 'N-TTP8h']\n",
      "  raw_eeg = mne.io.read_raw_eeglab(eeg_dirname + f'sub-{SUB_ID}_task-TableTennis_eeg.set', preload=True)\n",
      "/tmp/ipykernel_1155911/1650543861.py:10: RuntimeWarning: Data file name in EEG.data (sub-10_task-tabletennis_eeg.fdt) is incorrect, the file name must have changed on disk, using the correct file name (sub-10_task-TableTennis_eeg.fdt).\n",
      "  raw_eeg = mne.io.read_raw_eeglab(eeg_dirname + f'sub-{SUB_ID}_task-TableTennis_eeg.set', preload=True)\n"
     ]
    },
    {
     "name": "stdout",
     "output_type": "stream",
     "text": [
      "NOTE: pick_channels() is a legacy function. New code should use inst.pick(...).\n"
     ]
    },
    {
     "name": "stderr",
     "output_type": "stream",
     "text": [
      "/tmp/ipykernel_1155911/1650543861.py:10: RuntimeWarning: Omitted 1 annotation(s) that were outside data range.\n",
      "  raw_eeg = mne.io.read_raw_eeglab(eeg_dirname + f'sub-{SUB_ID}_task-TableTennis_eeg.set', preload=True)\n",
      "/tmp/ipykernel_1155911/1650543861.py:10: RuntimeWarning: The data contains 'boundary' events, indicating data discontinuities. Be cautious of filtering and epoching around these events.\n",
      "  raw_eeg = mne.io.read_raw_eeglab(eeg_dirname + f'sub-{SUB_ID}_task-TableTennis_eeg.set', preload=True)\n",
      "/tmp/ipykernel_1155911/1650543861.py:10: RuntimeWarning: Not setting positions of 8 emg channels found in montage:\n",
      "['LISCM', 'LSSCM', 'LSTrap', 'LITrap', 'RITrap', 'RISCM', 'RSSCM', 'RSTrap']\n",
      "Consider setting the channel types to be of EEG/sEEG/ECoG/DBS/fNIRS using inst.set_channel_types before calling inst.set_montage, or omit these channels when creating your montage.\n",
      "  raw_eeg = mne.io.read_raw_eeglab(eeg_dirname + f'sub-{SUB_ID}_task-TableTennis_eeg.set', preload=True)\n"
     ]
    },
    {
     "data": {
      "application/vnd.jupyter.widget-view+json": {
       "model_id": "78f0f00d2b7745e3b6efb58bdaca24e9",
       "version_major": 2,
       "version_minor": 0
      },
      "text/plain": [
       "  0%|          | 0/69785 [00:00<?, ?it/s]"
      ]
     },
     "metadata": {},
     "output_type": "display_data"
    },
    {
     "name": "stdout",
     "output_type": "stream",
     "text": [
      "Reading /data/vladimiroved/realWorldTableTennis/sub-11/eeg/sub-11_task-TableTennis_eeg.fdt\n",
      "Reading 0 ... 1104856  =      0.000 ...  4419.424 secs...\n"
     ]
    },
    {
     "name": "stderr",
     "output_type": "stream",
     "text": [
      "/tmp/ipykernel_1155911/1650543861.py:10: RuntimeWarning: Unknown types found, setting as type EEG:\n",
      "acc: ['CGY-x', 'CGY-y', 'CGY-z', 'CWR-x', 'CWR-y', 'CWR-z', 'NGY-x', 'NGY-y', 'NGY-z', 'NWR-x', 'NWR-y', 'NWR-z']\n",
      "cometas: ['BallMachine_Acc_X(g)', 'BallMachine_Acc_Y(g)', 'BallMachine_Acc_Z(g)', 'IMU1_RMS', 'Imu_1 :W():', 'Imu_1 :X():', 'Imu_1 :Y():', 'Imu_1 :Z():', 'Imu_1_ImuGyro :X(D/s):', 'Imu_1_ImuGyro :Y(D/s):', 'Imu_1_ImuGyro :Z(D/s):', 'Imu_1_ImuMag :X(uT):', 'Imu_1_ImuMag :Y(uT):', 'Imu_1_ImuMag :Z(uT):', 'Imu_2 :W():', 'Imu_2 :X():', 'Imu_2 :Y():', 'Imu_2 :Z():', 'Imu_2_ImuGyro :X(D/s):', 'Imu_2_ImuGyro :Y(D/s):', 'Imu_2_ImuGyro :Z(D/s):', 'Imu_2_ImuMag :X(uT):', 'Imu_2_ImuMag :Y(uT):', 'Imu_2_ImuMag :Z(uT):', 'Imu_4 :W():', 'Imu_4 :X():', 'Imu_4 :Y():', 'Imu_4 :Z():', 'Imu_4_ImuGyro :X(D/s):', 'Imu_4_ImuGyro :Y(D/s):', 'Imu_4_ImuGyro :Z(D/s):', 'Imu_4_ImuMag :X(uT):', 'Imu_4_ImuMag :Y(uT):', 'Imu_4_ImuMag :Z(uT):', 'Net_Acc_X(g)', 'Net_Acc_Y(g)', 'Net_Acc_Z(g)', 'Participant_Backpack_Acc_X(g)', 'Participant_Backpack_Acc_Y(g)', 'Participant_Backpack_Acc_Z(g)', 'Participant_Paddle_Acc_X(g)', 'Participant_Paddle_Acc_Y(g)', 'Participant_Paddle_Acc_Z(g)', 'Researcher_Paddle_Acc_X(g)', 'Researcher_Paddle_Acc_Y(g)', 'Researcher_Paddle_Acc_Z(g)', 'SyncPulse(uV)', 'Table_OtherSide_Acc_X(g)', 'Table_OtherSide_Acc_Y(g)', 'Table_OtherSide_Acc_Z(g)', 'Table_ParticipantSide_Acc_X(g)', 'Table_ParticipantSide_Acc_Y(g)', 'Table_ParticipantSide_Acc_Z(g)']\n",
      "noise: ['N-AF3', 'N-AF4', 'N-AF7', 'N-AF8', 'N-AFF1h', 'N-AFF2h', 'N-AFF5h', 'N-AFF6h', 'N-AFp1', 'N-AFp2', 'N-AFz', 'N-C1', 'N-C2', 'N-C3', 'N-C4', 'N-C5', 'N-C6', 'N-CCP1h', 'N-CCP2h', 'N-CCP3h', 'N-CCP4h', 'N-CCP5h', 'N-CCP6h', 'N-CP1', 'N-CP2', 'N-CP3', 'N-CP4', 'N-CP5', 'N-CP6', 'N-CPP1h', 'N-CPP2h', 'N-CPP3h', 'N-CPP4h', 'N-CPP5h', 'N-CPP6h', 'N-Cz', 'N-F1', 'N-F10', 'N-F2', 'N-F3', 'N-F4', 'N-F5', 'N-F6', 'N-F7', 'N-F8', 'N-F9', 'N-FC1', 'N-FC2', 'N-FC3', 'N-FC4', 'N-FC5', 'N-FC6', 'N-FCC1h', 'N-FCC2h', 'N-FCC3h', 'N-FCC4h', 'N-FCC5h', 'N-FCC6h', 'N-FCz', 'N-FFC1h', 'N-FFC2h', 'N-FFC3h', 'N-FFC4h', 'N-FFC5h', 'N-FFC6h', 'N-FFT10h', 'N-FFT7h', 'N-FFT8h', 'N-FFT9h', 'N-FP2', 'N-FT10', 'N-FT7', 'N-FT8', 'N-FT9', 'N-FTT10h', 'N-FTT7h', 'N-FTT8h', 'N-FTT9h', 'N-Fp1', 'N-Fz', 'N-Iz', 'N-O1', 'N-O2', 'N-OI1h', 'N-OI2h', 'N-Oz', 'N-P1', 'N-P2', 'N-P3', 'N-P4', 'N-P5', 'N-P6', 'N-P7', 'N-P8', 'N-PO3', 'N-PO4', 'N-PO7', 'N-PO8', 'N-POO1', 'N-POO10h', 'N-POO2', 'N-POO9h', 'N-POz', 'N-PPO10h', 'N-PPO1h', 'N-PPO2h', 'N-PPO5h', 'N-PPO6h', 'N-PPO9h', 'N-Pz', 'N-T7', 'N-T8', 'N-TP7', 'N-TP8', 'N-TPP10h', 'N-TPP7h', 'N-TPP8h', 'N-TPP9h', 'N-TTP7h', 'N-TTP8h']\n",
      "  raw_eeg = mne.io.read_raw_eeglab(eeg_dirname + f'sub-{SUB_ID}_task-TableTennis_eeg.set', preload=True)\n",
      "/tmp/ipykernel_1155911/1650543861.py:10: RuntimeWarning: Estimated head radius (12.1 cm) is above the 99th percentile for adult head size. Check if the montage_units argument is correct (the default is \"mm\", but your channel positions may be in different units).\n",
      "  raw_eeg = mne.io.read_raw_eeglab(eeg_dirname + f'sub-{SUB_ID}_task-TableTennis_eeg.set', preload=True)\n",
      "/tmp/ipykernel_1155911/1650543861.py:10: RuntimeWarning: Data file name in EEG.data (sub-11_task-tabletennis_eeg.fdt) is incorrect, the file name must have changed on disk, using the correct file name (sub-11_task-TableTennis_eeg.fdt).\n",
      "  raw_eeg = mne.io.read_raw_eeglab(eeg_dirname + f'sub-{SUB_ID}_task-TableTennis_eeg.set', preload=True)\n"
     ]
    },
    {
     "name": "stdout",
     "output_type": "stream",
     "text": [
      "NOTE: pick_channels() is a legacy function. New code should use inst.pick(...).\n"
     ]
    },
    {
     "name": "stderr",
     "output_type": "stream",
     "text": [
      "/tmp/ipykernel_1155911/1650543861.py:10: RuntimeWarning: Omitted 1 annotation(s) that were outside data range.\n",
      "  raw_eeg = mne.io.read_raw_eeglab(eeg_dirname + f'sub-{SUB_ID}_task-TableTennis_eeg.set', preload=True)\n",
      "/tmp/ipykernel_1155911/1650543861.py:10: RuntimeWarning: The data contains 'boundary' events, indicating data discontinuities. Be cautious of filtering and epoching around these events.\n",
      "  raw_eeg = mne.io.read_raw_eeglab(eeg_dirname + f'sub-{SUB_ID}_task-TableTennis_eeg.set', preload=True)\n",
      "/tmp/ipykernel_1155911/1650543861.py:10: RuntimeWarning: Not setting positions of 8 emg channels found in montage:\n",
      "['LISCM', 'LSSCM', 'LSTrap', 'LITrap', 'RITrap', 'RISCM', 'RSSCM', 'RSTrap']\n",
      "Consider setting the channel types to be of EEG/sEEG/ECoG/DBS/fNIRS using inst.set_channel_types before calling inst.set_montage, or omit these channels when creating your montage.\n",
      "  raw_eeg = mne.io.read_raw_eeglab(eeg_dirname + f'sub-{SUB_ID}_task-TableTennis_eeg.set', preload=True)\n"
     ]
    },
    {
     "data": {
      "application/vnd.jupyter.widget-view+json": {
       "model_id": "bbff149135ab47659f6c08c305129c3e",
       "version_major": 2,
       "version_minor": 0
      },
      "text/plain": [
       "  0%|          | 0/51061 [00:00<?, ?it/s]"
      ]
     },
     "metadata": {},
     "output_type": "display_data"
    },
    {
     "name": "stdout",
     "output_type": "stream",
     "text": [
      "Reading /data/vladimiroved/realWorldTableTennis/sub-12/eeg/sub-12_task-TableTennis_eeg.fdt\n",
      "Reading 0 ... 1111931  =      0.000 ...  4447.724 secs...\n"
     ]
    },
    {
     "name": "stderr",
     "output_type": "stream",
     "text": [
      "/tmp/ipykernel_1155911/1650543861.py:10: RuntimeWarning: Unknown types found, setting as type EEG:\n",
      "acc: ['CGY-x', 'CGY-y', 'CGY-z', 'CWR-x', 'CWR-y', 'CWR-z', 'NGY-x', 'NGY-y', 'NGY-z', 'NWR-x', 'NWR-y', 'NWR-z']\n",
      "cometas: ['BallMachine_Acc_X(g)', 'BallMachine_Acc_Y(g)', 'BallMachine_Acc_Z(g)', 'IMU1_RMS', 'Imu_1 :W():', 'Imu_1 :X():', 'Imu_1 :Y():', 'Imu_1 :Z():', 'Imu_1_ImuGyro :X(D/s):', 'Imu_1_ImuGyro :Y(D/s):', 'Imu_1_ImuGyro :Z(D/s):', 'Imu_1_ImuMag :X(uT):', 'Imu_1_ImuMag :Y(uT):', 'Imu_1_ImuMag :Z(uT):', 'Imu_2 :W():', 'Imu_2 :X():', 'Imu_2 :Y():', 'Imu_2 :Z():', 'Imu_2_ImuGyro :X(D/s):', 'Imu_2_ImuGyro :Y(D/s):', 'Imu_2_ImuGyro :Z(D/s):', 'Imu_2_ImuMag :X(uT):', 'Imu_2_ImuMag :Y(uT):', 'Imu_2_ImuMag :Z(uT):', 'Imu_4 :W():', 'Imu_4 :X():', 'Imu_4 :Y():', 'Imu_4 :Z():', 'Imu_4_ImuGyro :X(D/s):', 'Imu_4_ImuGyro :Y(D/s):', 'Imu_4_ImuGyro :Z(D/s):', 'Imu_4_ImuMag :X(uT):', 'Imu_4_ImuMag :Y(uT):', 'Imu_4_ImuMag :Z(uT):', 'Net_Acc_X(g)', 'Net_Acc_Y(g)', 'Net_Acc_Z(g)', 'Participant_Backpack_Acc_X(g)', 'Participant_Backpack_Acc_Y(g)', 'Participant_Backpack_Acc_Z(g)', 'Participant_Paddle_Acc_X(g)', 'Participant_Paddle_Acc_Y(g)', 'Participant_Paddle_Acc_Z(g)', 'Researcher_Paddle_Acc_X(g)', 'Researcher_Paddle_Acc_Y(g)', 'Researcher_Paddle_Acc_Z(g)', 'SyncPulse(uV)', 'Table_OtherSide_Acc_X(g)', 'Table_OtherSide_Acc_Y(g)', 'Table_OtherSide_Acc_Z(g)', 'Table_ParticipantSide_Acc_X(g)', 'Table_ParticipantSide_Acc_Y(g)', 'Table_ParticipantSide_Acc_Z(g)']\n",
      "noise: ['N-AF3', 'N-AF4', 'N-AF7', 'N-AF8', 'N-AFF1h', 'N-AFF2h', 'N-AFF5h', 'N-AFF6h', 'N-AFp1', 'N-AFp2', 'N-AFz', 'N-C1', 'N-C2', 'N-C3', 'N-C4', 'N-C5', 'N-C6', 'N-CCP1h', 'N-CCP2h', 'N-CCP3h', 'N-CCP4h', 'N-CCP5h', 'N-CCP6h', 'N-CP1', 'N-CP2', 'N-CP3', 'N-CP4', 'N-CP5', 'N-CP6', 'N-CPP1h', 'N-CPP2h', 'N-CPP3h', 'N-CPP4h', 'N-CPP5h', 'N-CPP6h', 'N-Cz', 'N-F1', 'N-F10', 'N-F2', 'N-F3', 'N-F4', 'N-F5', 'N-F6', 'N-F7', 'N-F8', 'N-F9', 'N-FC1', 'N-FC2', 'N-FC3', 'N-FC4', 'N-FC5', 'N-FC6', 'N-FCC1h', 'N-FCC2h', 'N-FCC3h', 'N-FCC4h', 'N-FCC5h', 'N-FCC6h', 'N-FCz', 'N-FFC1h', 'N-FFC2h', 'N-FFC3h', 'N-FFC4h', 'N-FFC5h', 'N-FFC6h', 'N-FFT10h', 'N-FFT7h', 'N-FFT8h', 'N-FFT9h', 'N-FP2', 'N-FT10', 'N-FT7', 'N-FT8', 'N-FT9', 'N-FTT10h', 'N-FTT7h', 'N-FTT8h', 'N-FTT9h', 'N-Fp1', 'N-Fz', 'N-Iz', 'N-O1', 'N-O2', 'N-OI1h', 'N-OI2h', 'N-Oz', 'N-P1', 'N-P2', 'N-P3', 'N-P4', 'N-P5', 'N-P6', 'N-P7', 'N-P8', 'N-PO3', 'N-PO4', 'N-PO7', 'N-PO8', 'N-POO1', 'N-POO10h', 'N-POO2', 'N-POO9h', 'N-POz', 'N-PPO10h', 'N-PPO1h', 'N-PPO2h', 'N-PPO5h', 'N-PPO6h', 'N-PPO9h', 'N-Pz', 'N-T7', 'N-T8', 'N-TP7', 'N-TP8', 'N-TPP10h', 'N-TPP7h', 'N-TPP8h', 'N-TPP9h', 'N-TTP7h', 'N-TTP8h']\n",
      "  raw_eeg = mne.io.read_raw_eeglab(eeg_dirname + f'sub-{SUB_ID}_task-TableTennis_eeg.set', preload=True)\n",
      "/tmp/ipykernel_1155911/1650543861.py:10: RuntimeWarning: Data file name in EEG.data (sub-12_task-tabletennis_eeg.fdt) is incorrect, the file name must have changed on disk, using the correct file name (sub-12_task-TableTennis_eeg.fdt).\n",
      "  raw_eeg = mne.io.read_raw_eeglab(eeg_dirname + f'sub-{SUB_ID}_task-TableTennis_eeg.set', preload=True)\n"
     ]
    },
    {
     "name": "stdout",
     "output_type": "stream",
     "text": [
      "NOTE: pick_channels() is a legacy function. New code should use inst.pick(...).\n"
     ]
    },
    {
     "name": "stderr",
     "output_type": "stream",
     "text": [
      "/tmp/ipykernel_1155911/1650543861.py:10: RuntimeWarning: Omitted 1 annotation(s) that were outside data range.\n",
      "  raw_eeg = mne.io.read_raw_eeglab(eeg_dirname + f'sub-{SUB_ID}_task-TableTennis_eeg.set', preload=True)\n",
      "/tmp/ipykernel_1155911/1650543861.py:10: RuntimeWarning: The data contains 'boundary' events, indicating data discontinuities. Be cautious of filtering and epoching around these events.\n",
      "  raw_eeg = mne.io.read_raw_eeglab(eeg_dirname + f'sub-{SUB_ID}_task-TableTennis_eeg.set', preload=True)\n",
      "/tmp/ipykernel_1155911/1650543861.py:10: RuntimeWarning: Not setting positions of 8 emg channels found in montage:\n",
      "['LISCM', 'LSSCM', 'LSTrap', 'LITrap', 'RITrap', 'RISCM', 'RSSCM', 'RSTrap']\n",
      "Consider setting the channel types to be of EEG/sEEG/ECoG/DBS/fNIRS using inst.set_channel_types before calling inst.set_montage, or omit these channels when creating your montage.\n",
      "  raw_eeg = mne.io.read_raw_eeglab(eeg_dirname + f'sub-{SUB_ID}_task-TableTennis_eeg.set', preload=True)\n"
     ]
    },
    {
     "data": {
      "application/vnd.jupyter.widget-view+json": {
       "model_id": "d8aa538278b5437e82a6b2bcc0353855",
       "version_major": 2,
       "version_minor": 0
      },
      "text/plain": [
       "  0%|          | 0/64968 [00:00<?, ?it/s]"
      ]
     },
     "metadata": {},
     "output_type": "display_data"
    },
    {
     "name": "stdout",
     "output_type": "stream",
     "text": [
      "Reading /data/vladimiroved/realWorldTableTennis/sub-13/eeg/sub-13_task-TableTennis_eeg.fdt\n",
      "Reading 0 ... 1120665  =      0.000 ...  4482.660 secs...\n"
     ]
    },
    {
     "name": "stderr",
     "output_type": "stream",
     "text": [
      "/tmp/ipykernel_1155911/1650543861.py:10: RuntimeWarning: Unknown types found, setting as type EEG:\n",
      "acc: ['CGY-x', 'CGY-y', 'CGY-z', 'CWR-x', 'CWR-y', 'CWR-z', 'NGY-x', 'NGY-y', 'NGY-z', 'NWR-x', 'NWR-y', 'NWR-z']\n",
      "cometas: ['BallMachine_Acc_X(g)', 'BallMachine_Acc_Y(g)', 'BallMachine_Acc_Z(g)', 'IMU1_RMS', 'Imu_1 :W():', 'Imu_1 :X():', 'Imu_1 :Y():', 'Imu_1 :Z():', 'Imu_1_ImuGyro :X(D/s):', 'Imu_1_ImuGyro :Y(D/s):', 'Imu_1_ImuGyro :Z(D/s):', 'Imu_1_ImuMag :X(uT):', 'Imu_1_ImuMag :Y(uT):', 'Imu_1_ImuMag :Z(uT):', 'Imu_2 :W():', 'Imu_2 :X():', 'Imu_2 :Y():', 'Imu_2 :Z():', 'Imu_2_ImuGyro :X(D/s):', 'Imu_2_ImuGyro :Y(D/s):', 'Imu_2_ImuGyro :Z(D/s):', 'Imu_2_ImuMag :X(uT):', 'Imu_2_ImuMag :Y(uT):', 'Imu_2_ImuMag :Z(uT):', 'Imu_4 :W():', 'Imu_4 :X():', 'Imu_4 :Y():', 'Imu_4 :Z():', 'Imu_4_ImuGyro :X(D/s):', 'Imu_4_ImuGyro :Y(D/s):', 'Imu_4_ImuGyro :Z(D/s):', 'Imu_4_ImuMag :X(uT):', 'Imu_4_ImuMag :Y(uT):', 'Imu_4_ImuMag :Z(uT):', 'Net_Acc_X(g)', 'Net_Acc_Y(g)', 'Net_Acc_Z(g)', 'Participant_Backpack_Acc_X(g)', 'Participant_Backpack_Acc_Y(g)', 'Participant_Backpack_Acc_Z(g)', 'Participant_Paddle_Acc_X(g)', 'Participant_Paddle_Acc_Y(g)', 'Participant_Paddle_Acc_Z(g)', 'Researcher_Paddle_Acc_X(g)', 'Researcher_Paddle_Acc_Y(g)', 'Researcher_Paddle_Acc_Z(g)', 'SyncPulse(uV)', 'Table_OtherSide_Acc_X(g)', 'Table_OtherSide_Acc_Y(g)', 'Table_OtherSide_Acc_Z(g)', 'Table_ParticipantSide_Acc_X(g)', 'Table_ParticipantSide_Acc_Y(g)', 'Table_ParticipantSide_Acc_Z(g)']\n",
      "noise: ['N-AF3', 'N-AF4', 'N-AF7', 'N-AF8', 'N-AFF1h', 'N-AFF2h', 'N-AFF5h', 'N-AFF6h', 'N-AFp1', 'N-AFp2', 'N-AFz', 'N-C1', 'N-C2', 'N-C3', 'N-C4', 'N-C5', 'N-C6', 'N-CCP1h', 'N-CCP2h', 'N-CCP3h', 'N-CCP4h', 'N-CCP5h', 'N-CCP6h', 'N-CP1', 'N-CP2', 'N-CP3', 'N-CP4', 'N-CP5', 'N-CP6', 'N-CPP1h', 'N-CPP2h', 'N-CPP3h', 'N-CPP4h', 'N-CPP5h', 'N-CPP6h', 'N-Cz', 'N-F1', 'N-F10', 'N-F2', 'N-F3', 'N-F4', 'N-F5', 'N-F6', 'N-F7', 'N-F8', 'N-F9', 'N-FC1', 'N-FC2', 'N-FC3', 'N-FC4', 'N-FC5', 'N-FC6', 'N-FCC1h', 'N-FCC2h', 'N-FCC3h', 'N-FCC4h', 'N-FCC5h', 'N-FCC6h', 'N-FCz', 'N-FFC1h', 'N-FFC2h', 'N-FFC3h', 'N-FFC4h', 'N-FFC5h', 'N-FFC6h', 'N-FFT10h', 'N-FFT7h', 'N-FFT8h', 'N-FFT9h', 'N-FP2', 'N-FT10', 'N-FT7', 'N-FT8', 'N-FT9', 'N-FTT10h', 'N-FTT7h', 'N-FTT8h', 'N-FTT9h', 'N-Fp1', 'N-Fz', 'N-Iz', 'N-O1', 'N-O2', 'N-OI1h', 'N-OI2h', 'N-Oz', 'N-P1', 'N-P2', 'N-P3', 'N-P4', 'N-P5', 'N-P6', 'N-P7', 'N-P8', 'N-PO3', 'N-PO4', 'N-PO7', 'N-PO8', 'N-POO1', 'N-POO10h', 'N-POO2', 'N-POO9h', 'N-POz', 'N-PPO10h', 'N-PPO1h', 'N-PPO2h', 'N-PPO5h', 'N-PPO6h', 'N-PPO9h', 'N-Pz', 'N-T7', 'N-T8', 'N-TP7', 'N-TP8', 'N-TPP10h', 'N-TPP7h', 'N-TPP8h', 'N-TPP9h', 'N-TTP7h', 'N-TTP8h']\n",
      "  raw_eeg = mne.io.read_raw_eeglab(eeg_dirname + f'sub-{SUB_ID}_task-TableTennis_eeg.set', preload=True)\n",
      "/tmp/ipykernel_1155911/1650543861.py:10: RuntimeWarning: Estimated head radius (11.0 cm) is above the 99th percentile for adult head size. Check if the montage_units argument is correct (the default is \"mm\", but your channel positions may be in different units).\n",
      "  raw_eeg = mne.io.read_raw_eeglab(eeg_dirname + f'sub-{SUB_ID}_task-TableTennis_eeg.set', preload=True)\n",
      "/tmp/ipykernel_1155911/1650543861.py:10: RuntimeWarning: Data file name in EEG.data (sub-13_task-tabletennis_eeg.fdt) is incorrect, the file name must have changed on disk, using the correct file name (sub-13_task-TableTennis_eeg.fdt).\n",
      "  raw_eeg = mne.io.read_raw_eeglab(eeg_dirname + f'sub-{SUB_ID}_task-TableTennis_eeg.set', preload=True)\n"
     ]
    },
    {
     "name": "stdout",
     "output_type": "stream",
     "text": [
      "NOTE: pick_channels() is a legacy function. New code should use inst.pick(...).\n"
     ]
    },
    {
     "name": "stderr",
     "output_type": "stream",
     "text": [
      "/tmp/ipykernel_1155911/1650543861.py:10: RuntimeWarning: Omitted 1 annotation(s) that were outside data range.\n",
      "  raw_eeg = mne.io.read_raw_eeglab(eeg_dirname + f'sub-{SUB_ID}_task-TableTennis_eeg.set', preload=True)\n",
      "/tmp/ipykernel_1155911/1650543861.py:10: RuntimeWarning: The data contains 'boundary' events, indicating data discontinuities. Be cautious of filtering and epoching around these events.\n",
      "  raw_eeg = mne.io.read_raw_eeglab(eeg_dirname + f'sub-{SUB_ID}_task-TableTennis_eeg.set', preload=True)\n",
      "/tmp/ipykernel_1155911/1650543861.py:10: RuntimeWarning: Not setting positions of 8 emg channels found in montage:\n",
      "['LISCM', 'LSSCM', 'LSTrap', 'LITrap', 'RITrap', 'RISCM', 'RSSCM', 'RSTrap']\n",
      "Consider setting the channel types to be of EEG/sEEG/ECoG/DBS/fNIRS using inst.set_channel_types before calling inst.set_montage, or omit these channels when creating your montage.\n",
      "  raw_eeg = mne.io.read_raw_eeglab(eeg_dirname + f'sub-{SUB_ID}_task-TableTennis_eeg.set', preload=True)\n"
     ]
    },
    {
     "data": {
      "application/vnd.jupyter.widget-view+json": {
       "model_id": "fbeddfb854f14bf0b178f1e4dc2f64f1",
       "version_major": 2,
       "version_minor": 0
      },
      "text/plain": [
       "  0%|          | 0/58408 [00:00<?, ?it/s]"
      ]
     },
     "metadata": {},
     "output_type": "display_data"
    },
    {
     "name": "stdout",
     "output_type": "stream",
     "text": [
      "Reading /data/vladimiroved/realWorldTableTennis/sub-14/eeg/sub-14_task-TableTennis_eeg.fdt\n",
      "Reading 0 ... 1129763  =      0.000 ...  4519.052 secs...\n"
     ]
    },
    {
     "name": "stderr",
     "output_type": "stream",
     "text": [
      "/tmp/ipykernel_1155911/1650543861.py:10: RuntimeWarning: Unknown types found, setting as type EEG:\n",
      "acc: ['CGY-x', 'CGY-y', 'CGY-z', 'CWR-x', 'CWR-y', 'CWR-z', 'NGY-x', 'NGY-y', 'NGY-z', 'NWR-x', 'NWR-y', 'NWR-z']\n",
      "cometas: ['BallMachine_Acc_X(g)', 'BallMachine_Acc_Y(g)', 'BallMachine_Acc_Z(g)', 'IMU1_RMS', 'Imu_1 :W():', 'Imu_1 :X():', 'Imu_1 :Y():', 'Imu_1 :Z():', 'Imu_1_ImuGyro :X(D/s):', 'Imu_1_ImuGyro :Y(D/s):', 'Imu_1_ImuGyro :Z(D/s):', 'Imu_1_ImuMag :X(uT):', 'Imu_1_ImuMag :Y(uT):', 'Imu_1_ImuMag :Z(uT):', 'Imu_2 :W():', 'Imu_2 :X():', 'Imu_2 :Y():', 'Imu_2 :Z():', 'Imu_2_ImuGyro :X(D/s):', 'Imu_2_ImuGyro :Y(D/s):', 'Imu_2_ImuGyro :Z(D/s):', 'Imu_2_ImuMag :X(uT):', 'Imu_2_ImuMag :Y(uT):', 'Imu_2_ImuMag :Z(uT):', 'Imu_4 :W():', 'Imu_4 :X():', 'Imu_4 :Y():', 'Imu_4 :Z():', 'Imu_4_ImuGyro :X(D/s):', 'Imu_4_ImuGyro :Y(D/s):', 'Imu_4_ImuGyro :Z(D/s):', 'Imu_4_ImuMag :X(uT):', 'Imu_4_ImuMag :Y(uT):', 'Imu_4_ImuMag :Z(uT):', 'Net_Acc_X(g)', 'Net_Acc_Y(g)', 'Net_Acc_Z(g)', 'Participant_Backpack_Acc_X(g)', 'Participant_Backpack_Acc_Y(g)', 'Participant_Backpack_Acc_Z(g)', 'Participant_Paddle_Acc_X(g)', 'Participant_Paddle_Acc_Y(g)', 'Participant_Paddle_Acc_Z(g)', 'Researcher_Paddle_Acc_X(g)', 'Researcher_Paddle_Acc_Y(g)', 'Researcher_Paddle_Acc_Z(g)', 'SyncPulse(uV)', 'Table_OtherSide_Acc_X(g)', 'Table_OtherSide_Acc_Y(g)', 'Table_OtherSide_Acc_Z(g)', 'Table_ParticipantSide_Acc_X(g)', 'Table_ParticipantSide_Acc_Y(g)', 'Table_ParticipantSide_Acc_Z(g)']\n",
      "noise: ['N-AF3', 'N-AF4', 'N-AF7', 'N-AF8', 'N-AFF1h', 'N-AFF2h', 'N-AFF5h', 'N-AFF6h', 'N-AFp1', 'N-AFp2', 'N-AFz', 'N-C1', 'N-C2', 'N-C3', 'N-C4', 'N-C5', 'N-C6', 'N-CCP1h', 'N-CCP2h', 'N-CCP3h', 'N-CCP4h', 'N-CCP5h', 'N-CCP6h', 'N-CP1', 'N-CP2', 'N-CP3', 'N-CP4', 'N-CP5', 'N-CP6', 'N-CPP1h', 'N-CPP2h', 'N-CPP3h', 'N-CPP4h', 'N-CPP5h', 'N-CPP6h', 'N-Cz', 'N-F1', 'N-F10', 'N-F2', 'N-F3', 'N-F4', 'N-F5', 'N-F6', 'N-F7', 'N-F8', 'N-F9', 'N-FC1', 'N-FC2', 'N-FC3', 'N-FC4', 'N-FC5', 'N-FC6', 'N-FCC1h', 'N-FCC2h', 'N-FCC3h', 'N-FCC4h', 'N-FCC5h', 'N-FCC6h', 'N-FCz', 'N-FFC1h', 'N-FFC2h', 'N-FFC3h', 'N-FFC4h', 'N-FFC5h', 'N-FFC6h', 'N-FFT10h', 'N-FFT7h', 'N-FFT8h', 'N-FFT9h', 'N-FP2', 'N-FT10', 'N-FT7', 'N-FT8', 'N-FT9', 'N-FTT10h', 'N-FTT7h', 'N-FTT8h', 'N-FTT9h', 'N-Fp1', 'N-Fz', 'N-Iz', 'N-O1', 'N-O2', 'N-OI1h', 'N-OI2h', 'N-Oz', 'N-P1', 'N-P2', 'N-P3', 'N-P4', 'N-P5', 'N-P6', 'N-P7', 'N-P8', 'N-PO3', 'N-PO4', 'N-PO7', 'N-PO8', 'N-POO1', 'N-POO10h', 'N-POO2', 'N-POO9h', 'N-POz', 'N-PPO10h', 'N-PPO1h', 'N-PPO2h', 'N-PPO5h', 'N-PPO6h', 'N-PPO9h', 'N-Pz', 'N-T7', 'N-T8', 'N-TP7', 'N-TP8', 'N-TPP10h', 'N-TPP7h', 'N-TPP8h', 'N-TPP9h', 'N-TTP7h', 'N-TTP8h']\n",
      "  raw_eeg = mne.io.read_raw_eeglab(eeg_dirname + f'sub-{SUB_ID}_task-TableTennis_eeg.set', preload=True)\n",
      "/tmp/ipykernel_1155911/1650543861.py:10: RuntimeWarning: Estimated head radius (11.8 cm) is above the 99th percentile for adult head size. Check if the montage_units argument is correct (the default is \"mm\", but your channel positions may be in different units).\n",
      "  raw_eeg = mne.io.read_raw_eeglab(eeg_dirname + f'sub-{SUB_ID}_task-TableTennis_eeg.set', preload=True)\n",
      "/tmp/ipykernel_1155911/1650543861.py:10: RuntimeWarning: Data file name in EEG.data (sub-14_task-tabletennis_eeg.fdt) is incorrect, the file name must have changed on disk, using the correct file name (sub-14_task-TableTennis_eeg.fdt).\n",
      "  raw_eeg = mne.io.read_raw_eeglab(eeg_dirname + f'sub-{SUB_ID}_task-TableTennis_eeg.set', preload=True)\n"
     ]
    },
    {
     "name": "stdout",
     "output_type": "stream",
     "text": [
      "NOTE: pick_channels() is a legacy function. New code should use inst.pick(...).\n"
     ]
    },
    {
     "name": "stderr",
     "output_type": "stream",
     "text": [
      "/tmp/ipykernel_1155911/1650543861.py:10: RuntimeWarning: Omitted 1 annotation(s) that were outside data range.\n",
      "  raw_eeg = mne.io.read_raw_eeglab(eeg_dirname + f'sub-{SUB_ID}_task-TableTennis_eeg.set', preload=True)\n",
      "/tmp/ipykernel_1155911/1650543861.py:10: RuntimeWarning: The data contains 'boundary' events, indicating data discontinuities. Be cautious of filtering and epoching around these events.\n",
      "  raw_eeg = mne.io.read_raw_eeglab(eeg_dirname + f'sub-{SUB_ID}_task-TableTennis_eeg.set', preload=True)\n",
      "/tmp/ipykernel_1155911/1650543861.py:10: RuntimeWarning: Not setting positions of 8 emg channels found in montage:\n",
      "['LISCM', 'LSSCM', 'LSTrap', 'LITrap', 'RITrap', 'RISCM', 'RSSCM', 'RSTrap']\n",
      "Consider setting the channel types to be of EEG/sEEG/ECoG/DBS/fNIRS using inst.set_channel_types before calling inst.set_montage, or omit these channels when creating your montage.\n",
      "  raw_eeg = mne.io.read_raw_eeglab(eeg_dirname + f'sub-{SUB_ID}_task-TableTennis_eeg.set', preload=True)\n"
     ]
    },
    {
     "data": {
      "application/vnd.jupyter.widget-view+json": {
       "model_id": "e97a8fc393834c6bb8481507c091fbc3",
       "version_major": 2,
       "version_minor": 0
      },
      "text/plain": [
       "  0%|          | 0/73918 [00:00<?, ?it/s]"
      ]
     },
     "metadata": {},
     "output_type": "display_data"
    },
    {
     "name": "stdout",
     "output_type": "stream",
     "text": [
      "Reading /data/vladimiroved/realWorldTableTennis/sub-15/eeg/sub-15_task-TableTennis_eeg.fdt\n",
      "Reading 0 ... 1105756  =      0.000 ...  4423.024 secs...\n"
     ]
    },
    {
     "name": "stderr",
     "output_type": "stream",
     "text": [
      "/tmp/ipykernel_1155911/1650543861.py:10: RuntimeWarning: Unknown types found, setting as type EEG:\n",
      "acc: ['CGY-x', 'CGY-y', 'CGY-z', 'CWR-x', 'CWR-y', 'CWR-z', 'NGY-x', 'NGY-y', 'NGY-z', 'NWR-x', 'NWR-y', 'NWR-z']\n",
      "cometas: ['BallMachine_Acc_X(g)', 'BallMachine_Acc_Y(g)', 'BallMachine_Acc_Z(g)', 'IMU1_RMS', 'Imu_1 :W():', 'Imu_1 :X():', 'Imu_1 :Y():', 'Imu_1 :Z():', 'Imu_1_ImuGyro :X(D/s):', 'Imu_1_ImuGyro :Y(D/s):', 'Imu_1_ImuGyro :Z(D/s):', 'Imu_1_ImuMag :X(uT):', 'Imu_1_ImuMag :Y(uT):', 'Imu_1_ImuMag :Z(uT):', 'Imu_2 :W():', 'Imu_2 :X():', 'Imu_2 :Y():', 'Imu_2 :Z():', 'Imu_2_ImuGyro :X(D/s):', 'Imu_2_ImuGyro :Y(D/s):', 'Imu_2_ImuGyro :Z(D/s):', 'Imu_2_ImuMag :X(uT):', 'Imu_2_ImuMag :Y(uT):', 'Imu_2_ImuMag :Z(uT):', 'Imu_4 :W():', 'Imu_4 :X():', 'Imu_4 :Y():', 'Imu_4 :Z():', 'Imu_4_ImuGyro :X(D/s):', 'Imu_4_ImuGyro :Y(D/s):', 'Imu_4_ImuGyro :Z(D/s):', 'Imu_4_ImuMag :X(uT):', 'Imu_4_ImuMag :Y(uT):', 'Imu_4_ImuMag :Z(uT):', 'Net_Acc_X(g)', 'Net_Acc_Y(g)', 'Net_Acc_Z(g)', 'Participant_Backpack_Acc_X(g)', 'Participant_Backpack_Acc_Y(g)', 'Participant_Backpack_Acc_Z(g)', 'Participant_Paddle_Acc_X(g)', 'Participant_Paddle_Acc_Y(g)', 'Participant_Paddle_Acc_Z(g)', 'Researcher_Paddle_Acc_X(g)', 'Researcher_Paddle_Acc_Y(g)', 'Researcher_Paddle_Acc_Z(g)', 'SyncPulse(uV)', 'Table_OtherSide_Acc_X(g)', 'Table_OtherSide_Acc_Y(g)', 'Table_OtherSide_Acc_Z(g)', 'Table_ParticipantSide_Acc_X(g)', 'Table_ParticipantSide_Acc_Y(g)', 'Table_ParticipantSide_Acc_Z(g)']\n",
      "noise: ['N-AF3', 'N-AF4', 'N-AF7', 'N-AF8', 'N-AFF1h', 'N-AFF2h', 'N-AFF5h', 'N-AFF6h', 'N-AFp1', 'N-AFp2', 'N-AFz', 'N-C1', 'N-C2', 'N-C3', 'N-C4', 'N-C5', 'N-C6', 'N-CCP1h', 'N-CCP2h', 'N-CCP3h', 'N-CCP4h', 'N-CCP5h', 'N-CCP6h', 'N-CP1', 'N-CP2', 'N-CP3', 'N-CP4', 'N-CP5', 'N-CP6', 'N-CPP1h', 'N-CPP2h', 'N-CPP3h', 'N-CPP4h', 'N-CPP5h', 'N-CPP6h', 'N-Cz', 'N-F1', 'N-F10', 'N-F2', 'N-F3', 'N-F4', 'N-F5', 'N-F6', 'N-F7', 'N-F8', 'N-F9', 'N-FC1', 'N-FC2', 'N-FC3', 'N-FC4', 'N-FC5', 'N-FC6', 'N-FCC1h', 'N-FCC2h', 'N-FCC3h', 'N-FCC4h', 'N-FCC5h', 'N-FCC6h', 'N-FCz', 'N-FFC1h', 'N-FFC2h', 'N-FFC3h', 'N-FFC4h', 'N-FFC5h', 'N-FFC6h', 'N-FFT10h', 'N-FFT7h', 'N-FFT8h', 'N-FFT9h', 'N-FP2', 'N-FT10', 'N-FT7', 'N-FT8', 'N-FT9', 'N-FTT10h', 'N-FTT7h', 'N-FTT8h', 'N-FTT9h', 'N-Fp1', 'N-Fz', 'N-Iz', 'N-O1', 'N-O2', 'N-OI1h', 'N-OI2h', 'N-Oz', 'N-P1', 'N-P2', 'N-P3', 'N-P4', 'N-P5', 'N-P6', 'N-P7', 'N-P8', 'N-PO3', 'N-PO4', 'N-PO7', 'N-PO8', 'N-POO1', 'N-POO10h', 'N-POO2', 'N-POO9h', 'N-POz', 'N-PPO10h', 'N-PPO1h', 'N-PPO2h', 'N-PPO5h', 'N-PPO6h', 'N-PPO9h', 'N-Pz', 'N-T7', 'N-T8', 'N-TP7', 'N-TP8', 'N-TPP10h', 'N-TPP7h', 'N-TPP8h', 'N-TPP9h', 'N-TTP7h', 'N-TTP8h']\n",
      "  raw_eeg = mne.io.read_raw_eeglab(eeg_dirname + f'sub-{SUB_ID}_task-TableTennis_eeg.set', preload=True)\n",
      "/tmp/ipykernel_1155911/1650543861.py:10: RuntimeWarning: Estimated head radius (11.1 cm) is above the 99th percentile for adult head size. Check if the montage_units argument is correct (the default is \"mm\", but your channel positions may be in different units).\n",
      "  raw_eeg = mne.io.read_raw_eeglab(eeg_dirname + f'sub-{SUB_ID}_task-TableTennis_eeg.set', preload=True)\n",
      "/tmp/ipykernel_1155911/1650543861.py:10: RuntimeWarning: Data file name in EEG.data (sub-15_task-tabletennis_eeg.fdt) is incorrect, the file name must have changed on disk, using the correct file name (sub-15_task-TableTennis_eeg.fdt).\n",
      "  raw_eeg = mne.io.read_raw_eeglab(eeg_dirname + f'sub-{SUB_ID}_task-TableTennis_eeg.set', preload=True)\n"
     ]
    },
    {
     "name": "stdout",
     "output_type": "stream",
     "text": [
      "NOTE: pick_channels() is a legacy function. New code should use inst.pick(...).\n"
     ]
    },
    {
     "name": "stderr",
     "output_type": "stream",
     "text": [
      "/tmp/ipykernel_1155911/1650543861.py:10: RuntimeWarning: Omitted 1 annotation(s) that were outside data range.\n",
      "  raw_eeg = mne.io.read_raw_eeglab(eeg_dirname + f'sub-{SUB_ID}_task-TableTennis_eeg.set', preload=True)\n",
      "/tmp/ipykernel_1155911/1650543861.py:10: RuntimeWarning: The data contains 'boundary' events, indicating data discontinuities. Be cautious of filtering and epoching around these events.\n",
      "  raw_eeg = mne.io.read_raw_eeglab(eeg_dirname + f'sub-{SUB_ID}_task-TableTennis_eeg.set', preload=True)\n",
      "/tmp/ipykernel_1155911/1650543861.py:10: RuntimeWarning: Not setting positions of 8 emg channels found in montage:\n",
      "['LISCM', 'LSSCM', 'LSTrap', 'LITrap', 'RITrap', 'RISCM', 'RSSCM', 'RSTrap']\n",
      "Consider setting the channel types to be of EEG/sEEG/ECoG/DBS/fNIRS using inst.set_channel_types before calling inst.set_montage, or omit these channels when creating your montage.\n",
      "  raw_eeg = mne.io.read_raw_eeglab(eeg_dirname + f'sub-{SUB_ID}_task-TableTennis_eeg.set', preload=True)\n"
     ]
    },
    {
     "data": {
      "application/vnd.jupyter.widget-view+json": {
       "model_id": "01d1c3ac9eff4bd18c49c855dccf1886",
       "version_major": 2,
       "version_minor": 0
      },
      "text/plain": [
       "  0%|          | 0/56375 [00:00<?, ?it/s]"
      ]
     },
     "metadata": {},
     "output_type": "display_data"
    },
    {
     "name": "stdout",
     "output_type": "stream",
     "text": [
      "Reading /data/vladimiroved/realWorldTableTennis/sub-16/eeg/sub-16_task-TableTennis_eeg.fdt\n",
      "Reading 0 ... 1151915  =      0.000 ...  4607.660 secs...\n"
     ]
    },
    {
     "name": "stderr",
     "output_type": "stream",
     "text": [
      "/tmp/ipykernel_1155911/1650543861.py:10: RuntimeWarning: Unknown types found, setting as type EEG:\n",
      "acc: ['CGY-x', 'CGY-y', 'CGY-z', 'CWR-x', 'CWR-y', 'CWR-z', 'NGY-x', 'NGY-y', 'NGY-z', 'NWR-x', 'NWR-y', 'NWR-z']\n",
      "cometas: ['BallMachine_Acc_X(g)', 'BallMachine_Acc_Y(g)', 'BallMachine_Acc_Z(g)', 'IMU1_RMS', 'Imu_1 :W():', 'Imu_1 :X():', 'Imu_1 :Y():', 'Imu_1 :Z():', 'Imu_1_ImuGyro :X(D/s):', 'Imu_1_ImuGyro :Y(D/s):', 'Imu_1_ImuGyro :Z(D/s):', 'Imu_1_ImuMag :X(uT):', 'Imu_1_ImuMag :Y(uT):', 'Imu_1_ImuMag :Z(uT):', 'Imu_2 :W():', 'Imu_2 :X():', 'Imu_2 :Y():', 'Imu_2 :Z():', 'Imu_2_ImuGyro :X(D/s):', 'Imu_2_ImuGyro :Y(D/s):', 'Imu_2_ImuGyro :Z(D/s):', 'Imu_2_ImuMag :X(uT):', 'Imu_2_ImuMag :Y(uT):', 'Imu_2_ImuMag :Z(uT):', 'Imu_4 :W():', 'Imu_4 :X():', 'Imu_4 :Y():', 'Imu_4 :Z():', 'Imu_4_ImuGyro :X(D/s):', 'Imu_4_ImuGyro :Y(D/s):', 'Imu_4_ImuGyro :Z(D/s):', 'Imu_4_ImuMag :X(uT):', 'Imu_4_ImuMag :Y(uT):', 'Imu_4_ImuMag :Z(uT):', 'Net_Acc_X(g)', 'Net_Acc_Y(g)', 'Net_Acc_Z(g)', 'Participant_Backpack_Acc_X(g)', 'Participant_Backpack_Acc_Y(g)', 'Participant_Backpack_Acc_Z(g)', 'Participant_Paddle_Acc_X(g)', 'Participant_Paddle_Acc_Y(g)', 'Participant_Paddle_Acc_Z(g)', 'Researcher_Paddle_Acc_X(g)', 'Researcher_Paddle_Acc_Y(g)', 'Researcher_Paddle_Acc_Z(g)', 'SyncPulse(uV)', 'Table_OtherSide_Acc_X(g)', 'Table_OtherSide_Acc_Y(g)', 'Table_OtherSide_Acc_Z(g)', 'Table_ParticipantSide_Acc_X(g)', 'Table_ParticipantSide_Acc_Y(g)', 'Table_ParticipantSide_Acc_Z(g)']\n",
      "noise: ['N-AF3', 'N-AF4', 'N-AF7', 'N-AF8', 'N-AFF1h', 'N-AFF2h', 'N-AFF5h', 'N-AFF6h', 'N-AFp1', 'N-AFp2', 'N-AFz', 'N-C1', 'N-C2', 'N-C3', 'N-C4', 'N-C5', 'N-C6', 'N-CCP1h', 'N-CCP2h', 'N-CCP3h', 'N-CCP4h', 'N-CCP5h', 'N-CCP6h', 'N-CP1', 'N-CP2', 'N-CP3', 'N-CP4', 'N-CP5', 'N-CP6', 'N-CPP1h', 'N-CPP2h', 'N-CPP3h', 'N-CPP4h', 'N-CPP5h', 'N-CPP6h', 'N-Cz', 'N-F1', 'N-F10', 'N-F2', 'N-F3', 'N-F4', 'N-F5', 'N-F6', 'N-F7', 'N-F8', 'N-F9', 'N-FC1', 'N-FC2', 'N-FC3', 'N-FC4', 'N-FC5', 'N-FC6', 'N-FCC1h', 'N-FCC2h', 'N-FCC3h', 'N-FCC4h', 'N-FCC5h', 'N-FCC6h', 'N-FCz', 'N-FFC1h', 'N-FFC2h', 'N-FFC3h', 'N-FFC4h', 'N-FFC5h', 'N-FFC6h', 'N-FFT10h', 'N-FFT7h', 'N-FFT8h', 'N-FFT9h', 'N-FP2', 'N-FT10', 'N-FT7', 'N-FT8', 'N-FT9', 'N-FTT10h', 'N-FTT7h', 'N-FTT8h', 'N-FTT9h', 'N-Fp1', 'N-Fz', 'N-Iz', 'N-O1', 'N-O2', 'N-OI1h', 'N-OI2h', 'N-Oz', 'N-P1', 'N-P2', 'N-P3', 'N-P4', 'N-P5', 'N-P6', 'N-P7', 'N-P8', 'N-PO3', 'N-PO4', 'N-PO7', 'N-PO8', 'N-POO1', 'N-POO10h', 'N-POO2', 'N-POO9h', 'N-POz', 'N-PPO10h', 'N-PPO1h', 'N-PPO2h', 'N-PPO5h', 'N-PPO6h', 'N-PPO9h', 'N-Pz', 'N-T7', 'N-T8', 'N-TP7', 'N-TP8', 'N-TPP10h', 'N-TPP7h', 'N-TPP8h', 'N-TPP9h', 'N-TTP7h', 'N-TTP8h']\n",
      "  raw_eeg = mne.io.read_raw_eeglab(eeg_dirname + f'sub-{SUB_ID}_task-TableTennis_eeg.set', preload=True)\n",
      "/tmp/ipykernel_1155911/1650543861.py:10: RuntimeWarning: Estimated head radius (11.6 cm) is above the 99th percentile for adult head size. Check if the montage_units argument is correct (the default is \"mm\", but your channel positions may be in different units).\n",
      "  raw_eeg = mne.io.read_raw_eeglab(eeg_dirname + f'sub-{SUB_ID}_task-TableTennis_eeg.set', preload=True)\n",
      "/tmp/ipykernel_1155911/1650543861.py:10: RuntimeWarning: Data file name in EEG.data (sub-16_task-tabletennis_eeg.fdt) is incorrect, the file name must have changed on disk, using the correct file name (sub-16_task-TableTennis_eeg.fdt).\n",
      "  raw_eeg = mne.io.read_raw_eeglab(eeg_dirname + f'sub-{SUB_ID}_task-TableTennis_eeg.set', preload=True)\n"
     ]
    },
    {
     "name": "stdout",
     "output_type": "stream",
     "text": [
      "NOTE: pick_channels() is a legacy function. New code should use inst.pick(...).\n"
     ]
    },
    {
     "name": "stderr",
     "output_type": "stream",
     "text": [
      "/tmp/ipykernel_1155911/1650543861.py:10: RuntimeWarning: Omitted 1 annotation(s) that were outside data range.\n",
      "  raw_eeg = mne.io.read_raw_eeglab(eeg_dirname + f'sub-{SUB_ID}_task-TableTennis_eeg.set', preload=True)\n",
      "/tmp/ipykernel_1155911/1650543861.py:10: RuntimeWarning: The data contains 'boundary' events, indicating data discontinuities. Be cautious of filtering and epoching around these events.\n",
      "  raw_eeg = mne.io.read_raw_eeglab(eeg_dirname + f'sub-{SUB_ID}_task-TableTennis_eeg.set', preload=True)\n",
      "/tmp/ipykernel_1155911/1650543861.py:10: RuntimeWarning: Not setting positions of 8 emg channels found in montage:\n",
      "['LISCM', 'LSSCM', 'LSTrap', 'LITrap', 'RITrap', 'RISCM', 'RSSCM', 'RSTrap']\n",
      "Consider setting the channel types to be of EEG/sEEG/ECoG/DBS/fNIRS using inst.set_channel_types before calling inst.set_montage, or omit these channels when creating your montage.\n",
      "  raw_eeg = mne.io.read_raw_eeglab(eeg_dirname + f'sub-{SUB_ID}_task-TableTennis_eeg.set', preload=True)\n"
     ]
    },
    {
     "data": {
      "application/vnd.jupyter.widget-view+json": {
       "model_id": "f509df2e9b104831a77e1c090f412c41",
       "version_major": 2,
       "version_minor": 0
      },
      "text/plain": [
       "  0%|          | 0/83889 [00:00<?, ?it/s]"
      ]
     },
     "metadata": {},
     "output_type": "display_data"
    },
    {
     "name": "stdout",
     "output_type": "stream",
     "text": [
      "Reading /data/vladimiroved/realWorldTableTennis/sub-17/eeg/sub-17_task-TableTennis_eeg.fdt\n",
      "Reading 0 ... 1119558  =      0.000 ...  4478.232 secs...\n"
     ]
    },
    {
     "name": "stderr",
     "output_type": "stream",
     "text": [
      "/tmp/ipykernel_1155911/1650543861.py:10: RuntimeWarning: Unknown types found, setting as type EEG:\n",
      "acc: ['CGY-x', 'CGY-y', 'CGY-z', 'CWR-x', 'CWR-y', 'CWR-z', 'NGY-x', 'NGY-y', 'NGY-z', 'NWR-x', 'NWR-y', 'NWR-z']\n",
      "cometas: ['BallMachine_Acc_X(g)', 'BallMachine_Acc_Y(g)', 'BallMachine_Acc_Z(g)', 'IMU1_RMS', 'Imu_1 :W():', 'Imu_1 :X():', 'Imu_1 :Y():', 'Imu_1 :Z():', 'Imu_1_ImuGyro :X(D/s):', 'Imu_1_ImuGyro :Y(D/s):', 'Imu_1_ImuGyro :Z(D/s):', 'Imu_1_ImuMag :X(uT):', 'Imu_1_ImuMag :Y(uT):', 'Imu_1_ImuMag :Z(uT):', 'Imu_2 :W():', 'Imu_2 :X():', 'Imu_2 :Y():', 'Imu_2 :Z():', 'Imu_2_ImuGyro :X(D/s):', 'Imu_2_ImuGyro :Y(D/s):', 'Imu_2_ImuGyro :Z(D/s):', 'Imu_2_ImuMag :X(uT):', 'Imu_2_ImuMag :Y(uT):', 'Imu_2_ImuMag :Z(uT):', 'Imu_4 :W():', 'Imu_4 :X():', 'Imu_4 :Y():', 'Imu_4 :Z():', 'Imu_4_ImuGyro :X(D/s):', 'Imu_4_ImuGyro :Y(D/s):', 'Imu_4_ImuGyro :Z(D/s):', 'Imu_4_ImuMag :X(uT):', 'Imu_4_ImuMag :Y(uT):', 'Imu_4_ImuMag :Z(uT):', 'Net_Acc_X(g)', 'Net_Acc_Y(g)', 'Net_Acc_Z(g)', 'Participant_Backpack_Acc_X(g)', 'Participant_Backpack_Acc_Y(g)', 'Participant_Backpack_Acc_Z(g)', 'Participant_Paddle_Acc_X(g)', 'Participant_Paddle_Acc_Y(g)', 'Participant_Paddle_Acc_Z(g)', 'Researcher_Paddle_Acc_X(g)', 'Researcher_Paddle_Acc_Y(g)', 'Researcher_Paddle_Acc_Z(g)', 'SyncPulse(uV)', 'Table_OtherSide_Acc_X(g)', 'Table_OtherSide_Acc_Y(g)', 'Table_OtherSide_Acc_Z(g)', 'Table_ParticipantSide_Acc_X(g)', 'Table_ParticipantSide_Acc_Y(g)', 'Table_ParticipantSide_Acc_Z(g)']\n",
      "noise: ['N-AF3', 'N-AF4', 'N-AF7', 'N-AF8', 'N-AFF1h', 'N-AFF2h', 'N-AFF5h', 'N-AFF6h', 'N-AFp1', 'N-AFp2', 'N-AFz', 'N-C1', 'N-C2', 'N-C3', 'N-C4', 'N-C5', 'N-C6', 'N-CCP1h', 'N-CCP2h', 'N-CCP3h', 'N-CCP4h', 'N-CCP5h', 'N-CCP6h', 'N-CP1', 'N-CP2', 'N-CP3', 'N-CP4', 'N-CP5', 'N-CP6', 'N-CPP1h', 'N-CPP2h', 'N-CPP3h', 'N-CPP4h', 'N-CPP5h', 'N-CPP6h', 'N-Cz', 'N-F1', 'N-F10', 'N-F2', 'N-F3', 'N-F4', 'N-F5', 'N-F6', 'N-F7', 'N-F8', 'N-F9', 'N-FC1', 'N-FC2', 'N-FC3', 'N-FC4', 'N-FC5', 'N-FC6', 'N-FCC1h', 'N-FCC2h', 'N-FCC3h', 'N-FCC4h', 'N-FCC5h', 'N-FCC6h', 'N-FCz', 'N-FFC1h', 'N-FFC2h', 'N-FFC3h', 'N-FFC4h', 'N-FFC5h', 'N-FFC6h', 'N-FFT10h', 'N-FFT7h', 'N-FFT8h', 'N-FFT9h', 'N-FP2', 'N-FT10', 'N-FT7', 'N-FT8', 'N-FT9', 'N-FTT10h', 'N-FTT7h', 'N-FTT8h', 'N-FTT9h', 'N-Fp1', 'N-Fz', 'N-Iz', 'N-O1', 'N-O2', 'N-OI1h', 'N-OI2h', 'N-Oz', 'N-P1', 'N-P2', 'N-P3', 'N-P4', 'N-P5', 'N-P6', 'N-P7', 'N-P8', 'N-PO3', 'N-PO4', 'N-PO7', 'N-PO8', 'N-POO1', 'N-POO10h', 'N-POO2', 'N-POO9h', 'N-POz', 'N-PPO10h', 'N-PPO1h', 'N-PPO2h', 'N-PPO5h', 'N-PPO6h', 'N-PPO9h', 'N-Pz', 'N-T7', 'N-T8', 'N-TP7', 'N-TP8', 'N-TPP10h', 'N-TPP7h', 'N-TPP8h', 'N-TPP9h', 'N-TTP7h', 'N-TTP8h']\n",
      "  raw_eeg = mne.io.read_raw_eeglab(eeg_dirname + f'sub-{SUB_ID}_task-TableTennis_eeg.set', preload=True)\n",
      "/tmp/ipykernel_1155911/1650543861.py:10: RuntimeWarning: Estimated head radius (11.7 cm) is above the 99th percentile for adult head size. Check if the montage_units argument is correct (the default is \"mm\", but your channel positions may be in different units).\n",
      "  raw_eeg = mne.io.read_raw_eeglab(eeg_dirname + f'sub-{SUB_ID}_task-TableTennis_eeg.set', preload=True)\n",
      "/tmp/ipykernel_1155911/1650543861.py:10: RuntimeWarning: Data file name in EEG.data (sub-17_task-tabletennis_eeg.fdt) is incorrect, the file name must have changed on disk, using the correct file name (sub-17_task-TableTennis_eeg.fdt).\n",
      "  raw_eeg = mne.io.read_raw_eeglab(eeg_dirname + f'sub-{SUB_ID}_task-TableTennis_eeg.set', preload=True)\n"
     ]
    },
    {
     "name": "stdout",
     "output_type": "stream",
     "text": [
      "NOTE: pick_channels() is a legacy function. New code should use inst.pick(...).\n"
     ]
    },
    {
     "name": "stderr",
     "output_type": "stream",
     "text": [
      "/tmp/ipykernel_1155911/1650543861.py:10: RuntimeWarning: Omitted 1 annotation(s) that were outside data range.\n",
      "  raw_eeg = mne.io.read_raw_eeglab(eeg_dirname + f'sub-{SUB_ID}_task-TableTennis_eeg.set', preload=True)\n",
      "/tmp/ipykernel_1155911/1650543861.py:10: RuntimeWarning: The data contains 'boundary' events, indicating data discontinuities. Be cautious of filtering and epoching around these events.\n",
      "  raw_eeg = mne.io.read_raw_eeglab(eeg_dirname + f'sub-{SUB_ID}_task-TableTennis_eeg.set', preload=True)\n",
      "/tmp/ipykernel_1155911/1650543861.py:10: RuntimeWarning: Not setting positions of 8 emg channels found in montage:\n",
      "['LISCM', 'LSSCM', 'LSTrap', 'LITrap', 'RITrap', 'RISCM', 'RSSCM', 'RSTrap']\n",
      "Consider setting the channel types to be of EEG/sEEG/ECoG/DBS/fNIRS using inst.set_channel_types before calling inst.set_montage, or omit these channels when creating your montage.\n",
      "  raw_eeg = mne.io.read_raw_eeglab(eeg_dirname + f'sub-{SUB_ID}_task-TableTennis_eeg.set', preload=True)\n"
     ]
    },
    {
     "data": {
      "application/vnd.jupyter.widget-view+json": {
       "model_id": "d67bdf2ee1f84267b022ee789d4af90a",
       "version_major": 2,
       "version_minor": 0
      },
      "text/plain": [
       "  0%|          | 0/61956 [00:00<?, ?it/s]"
      ]
     },
     "metadata": {},
     "output_type": "display_data"
    },
    {
     "name": "stdout",
     "output_type": "stream",
     "text": [
      "Reading /data/vladimiroved/realWorldTableTennis/sub-18/eeg/sub-18_task-TableTennis_eeg.fdt\n",
      "Reading 0 ... 1155502  =      0.000 ...  4622.008 secs...\n"
     ]
    },
    {
     "name": "stderr",
     "output_type": "stream",
     "text": [
      "/tmp/ipykernel_1155911/1650543861.py:10: RuntimeWarning: Unknown types found, setting as type EEG:\n",
      "acc: ['CGY-x', 'CGY-y', 'CGY-z', 'CWR-x', 'CWR-y', 'CWR-z', 'NGY-x', 'NGY-y', 'NGY-z', 'NWR-x', 'NWR-y', 'NWR-z']\n",
      "cometas: ['BallMachine_Acc_X(g)', 'BallMachine_Acc_Y(g)', 'BallMachine_Acc_Z(g)', 'IMU1_RMS', 'Imu_1 :W():', 'Imu_1 :X():', 'Imu_1 :Y():', 'Imu_1 :Z():', 'Imu_1_ImuGyro :X(D/s):', 'Imu_1_ImuGyro :Y(D/s):', 'Imu_1_ImuGyro :Z(D/s):', 'Imu_1_ImuMag :X(uT):', 'Imu_1_ImuMag :Y(uT):', 'Imu_1_ImuMag :Z(uT):', 'Imu_2 :W():', 'Imu_2 :X():', 'Imu_2 :Y():', 'Imu_2 :Z():', 'Imu_2_ImuGyro :X(D/s):', 'Imu_2_ImuGyro :Y(D/s):', 'Imu_2_ImuGyro :Z(D/s):', 'Imu_2_ImuMag :X(uT):', 'Imu_2_ImuMag :Y(uT):', 'Imu_2_ImuMag :Z(uT):', 'Imu_4 :W():', 'Imu_4 :X():', 'Imu_4 :Y():', 'Imu_4 :Z():', 'Imu_4_ImuGyro :X(D/s):', 'Imu_4_ImuGyro :Y(D/s):', 'Imu_4_ImuGyro :Z(D/s):', 'Imu_4_ImuMag :X(uT):', 'Imu_4_ImuMag :Y(uT):', 'Imu_4_ImuMag :Z(uT):', 'Net_Acc_X(g)', 'Net_Acc_Y(g)', 'Net_Acc_Z(g)', 'Participant_Backpack_Acc_X(g)', 'Participant_Backpack_Acc_Y(g)', 'Participant_Backpack_Acc_Z(g)', 'Participant_Paddle_Acc_X(g)', 'Participant_Paddle_Acc_Y(g)', 'Participant_Paddle_Acc_Z(g)', 'Researcher_Paddle_Acc_X(g)', 'Researcher_Paddle_Acc_Y(g)', 'Researcher_Paddle_Acc_Z(g)', 'SyncPulse(uV)', 'Table_OtherSide_Acc_X(g)', 'Table_OtherSide_Acc_Y(g)', 'Table_OtherSide_Acc_Z(g)', 'Table_ParticipantSide_Acc_X(g)', 'Table_ParticipantSide_Acc_Y(g)', 'Table_ParticipantSide_Acc_Z(g)']\n",
      "noise: ['N-AF3', 'N-AF4', 'N-AF7', 'N-AF8', 'N-AFF1h', 'N-AFF2h', 'N-AFF5h', 'N-AFF6h', 'N-AFp1', 'N-AFp2', 'N-AFz', 'N-C1', 'N-C2', 'N-C3', 'N-C4', 'N-C5', 'N-C6', 'N-CCP1h', 'N-CCP2h', 'N-CCP3h', 'N-CCP4h', 'N-CCP5h', 'N-CCP6h', 'N-CP1', 'N-CP2', 'N-CP3', 'N-CP4', 'N-CP5', 'N-CP6', 'N-CPP1h', 'N-CPP2h', 'N-CPP3h', 'N-CPP4h', 'N-CPP5h', 'N-CPP6h', 'N-Cz', 'N-F1', 'N-F10', 'N-F2', 'N-F3', 'N-F4', 'N-F5', 'N-F6', 'N-F7', 'N-F8', 'N-F9', 'N-FC1', 'N-FC2', 'N-FC3', 'N-FC4', 'N-FC5', 'N-FC6', 'N-FCC1h', 'N-FCC2h', 'N-FCC3h', 'N-FCC4h', 'N-FCC5h', 'N-FCC6h', 'N-FCz', 'N-FFC1h', 'N-FFC2h', 'N-FFC3h', 'N-FFC4h', 'N-FFC5h', 'N-FFC6h', 'N-FFT10h', 'N-FFT7h', 'N-FFT8h', 'N-FFT9h', 'N-FP2', 'N-FT10', 'N-FT7', 'N-FT8', 'N-FT9', 'N-FTT10h', 'N-FTT7h', 'N-FTT8h', 'N-FTT9h', 'N-Fp1', 'N-Fz', 'N-Iz', 'N-O1', 'N-O2', 'N-OI1h', 'N-OI2h', 'N-Oz', 'N-P1', 'N-P2', 'N-P3', 'N-P4', 'N-P5', 'N-P6', 'N-P7', 'N-P8', 'N-PO3', 'N-PO4', 'N-PO7', 'N-PO8', 'N-POO1', 'N-POO10h', 'N-POO2', 'N-POO9h', 'N-POz', 'N-PPO10h', 'N-PPO1h', 'N-PPO2h', 'N-PPO5h', 'N-PPO6h', 'N-PPO9h', 'N-Pz', 'N-T7', 'N-T8', 'N-TP7', 'N-TP8', 'N-TPP10h', 'N-TPP7h', 'N-TPP8h', 'N-TPP9h', 'N-TTP7h', 'N-TTP8h']\n",
      "  raw_eeg = mne.io.read_raw_eeglab(eeg_dirname + f'sub-{SUB_ID}_task-TableTennis_eeg.set', preload=True)\n",
      "/tmp/ipykernel_1155911/1650543861.py:10: RuntimeWarning: Estimated head radius (11.4 cm) is above the 99th percentile for adult head size. Check if the montage_units argument is correct (the default is \"mm\", but your channel positions may be in different units).\n",
      "  raw_eeg = mne.io.read_raw_eeglab(eeg_dirname + f'sub-{SUB_ID}_task-TableTennis_eeg.set', preload=True)\n",
      "/tmp/ipykernel_1155911/1650543861.py:10: RuntimeWarning: Data file name in EEG.data (sub-18_task-tabletennis_eeg.fdt) is incorrect, the file name must have changed on disk, using the correct file name (sub-18_task-TableTennis_eeg.fdt).\n",
      "  raw_eeg = mne.io.read_raw_eeglab(eeg_dirname + f'sub-{SUB_ID}_task-TableTennis_eeg.set', preload=True)\n"
     ]
    },
    {
     "name": "stdout",
     "output_type": "stream",
     "text": [
      "NOTE: pick_channels() is a legacy function. New code should use inst.pick(...).\n"
     ]
    },
    {
     "name": "stderr",
     "output_type": "stream",
     "text": [
      "/tmp/ipykernel_1155911/1650543861.py:10: RuntimeWarning: Omitted 1 annotation(s) that were outside data range.\n",
      "  raw_eeg = mne.io.read_raw_eeglab(eeg_dirname + f'sub-{SUB_ID}_task-TableTennis_eeg.set', preload=True)\n",
      "/tmp/ipykernel_1155911/1650543861.py:10: RuntimeWarning: The data contains 'boundary' events, indicating data discontinuities. Be cautious of filtering and epoching around these events.\n",
      "  raw_eeg = mne.io.read_raw_eeglab(eeg_dirname + f'sub-{SUB_ID}_task-TableTennis_eeg.set', preload=True)\n",
      "/tmp/ipykernel_1155911/1650543861.py:10: RuntimeWarning: Not setting positions of 8 emg channels found in montage:\n",
      "['LISCM', 'LSSCM', 'LSTrap', 'LITrap', 'RITrap', 'RISCM', 'RSSCM', 'RSTrap']\n",
      "Consider setting the channel types to be of EEG/sEEG/ECoG/DBS/fNIRS using inst.set_channel_types before calling inst.set_montage, or omit these channels when creating your montage.\n",
      "  raw_eeg = mne.io.read_raw_eeglab(eeg_dirname + f'sub-{SUB_ID}_task-TableTennis_eeg.set', preload=True)\n"
     ]
    },
    {
     "data": {
      "application/vnd.jupyter.widget-view+json": {
       "model_id": "f4f1efc3fe2f4128a064a7cd9625e6b5",
       "version_major": 2,
       "version_minor": 0
      },
      "text/plain": [
       "  0%|          | 0/100154 [00:00<?, ?it/s]"
      ]
     },
     "metadata": {},
     "output_type": "display_data"
    },
    {
     "name": "stdout",
     "output_type": "stream",
     "text": [
      "Reading /data/vladimiroved/realWorldTableTennis/sub-19/eeg/sub-19_task-TableTennis_eeg.fdt\n",
      "Reading 0 ... 1117344  =      0.000 ...  4469.376 secs...\n"
     ]
    },
    {
     "name": "stderr",
     "output_type": "stream",
     "text": [
      "/tmp/ipykernel_1155911/1650543861.py:10: RuntimeWarning: Unknown types found, setting as type EEG:\n",
      "acc: ['CGY-x', 'CGY-y', 'CGY-z', 'CWR-x', 'CWR-y', 'CWR-z', 'NGY-x', 'NGY-y', 'NGY-z', 'NWR-x', 'NWR-y', 'NWR-z']\n",
      "cometas: ['BallMachine_Acc_X(g)', 'BallMachine_Acc_Y(g)', 'BallMachine_Acc_Z(g)', 'IMU1_RMS', 'Imu_1 :W():', 'Imu_1 :X():', 'Imu_1 :Y():', 'Imu_1 :Z():', 'Imu_1_ImuGyro :X(D/s):', 'Imu_1_ImuGyro :Y(D/s):', 'Imu_1_ImuGyro :Z(D/s):', 'Imu_1_ImuMag :X(uT):', 'Imu_1_ImuMag :Y(uT):', 'Imu_1_ImuMag :Z(uT):', 'Imu_2 :W():', 'Imu_2 :X():', 'Imu_2 :Y():', 'Imu_2 :Z():', 'Imu_2_ImuGyro :X(D/s):', 'Imu_2_ImuGyro :Y(D/s):', 'Imu_2_ImuGyro :Z(D/s):', 'Imu_2_ImuMag :X(uT):', 'Imu_2_ImuMag :Y(uT):', 'Imu_2_ImuMag :Z(uT):', 'Imu_4 :W():', 'Imu_4 :X():', 'Imu_4 :Y():', 'Imu_4 :Z():', 'Imu_4_ImuGyro :X(D/s):', 'Imu_4_ImuGyro :Y(D/s):', 'Imu_4_ImuGyro :Z(D/s):', 'Imu_4_ImuMag :X(uT):', 'Imu_4_ImuMag :Y(uT):', 'Imu_4_ImuMag :Z(uT):', 'Net_Acc_X(g)', 'Net_Acc_Y(g)', 'Net_Acc_Z(g)', 'Participant_Backpack_Acc_X(g)', 'Participant_Backpack_Acc_Y(g)', 'Participant_Backpack_Acc_Z(g)', 'Participant_Paddle_Acc_X(g)', 'Participant_Paddle_Acc_Y(g)', 'Participant_Paddle_Acc_Z(g)', 'Researcher_Paddle_Acc_X(g)', 'Researcher_Paddle_Acc_Y(g)', 'Researcher_Paddle_Acc_Z(g)', 'SyncPulse(uV)', 'Table_OtherSide_Acc_X(g)', 'Table_OtherSide_Acc_Y(g)', 'Table_OtherSide_Acc_Z(g)', 'Table_ParticipantSide_Acc_X(g)', 'Table_ParticipantSide_Acc_Y(g)', 'Table_ParticipantSide_Acc_Z(g)']\n",
      "noise: ['N-AF3', 'N-AF4', 'N-AF7', 'N-AF8', 'N-AFF1h', 'N-AFF2h', 'N-AFF5h', 'N-AFF6h', 'N-AFp1', 'N-AFp2', 'N-AFz', 'N-C1', 'N-C2', 'N-C3', 'N-C4', 'N-C5', 'N-C6', 'N-CCP1h', 'N-CCP2h', 'N-CCP3h', 'N-CCP4h', 'N-CCP5h', 'N-CCP6h', 'N-CP1', 'N-CP2', 'N-CP3', 'N-CP4', 'N-CP5', 'N-CP6', 'N-CPP1h', 'N-CPP2h', 'N-CPP3h', 'N-CPP4h', 'N-CPP5h', 'N-CPP6h', 'N-Cz', 'N-F1', 'N-F10', 'N-F2', 'N-F3', 'N-F4', 'N-F5', 'N-F6', 'N-F7', 'N-F8', 'N-F9', 'N-FC1', 'N-FC2', 'N-FC3', 'N-FC4', 'N-FC5', 'N-FC6', 'N-FCC1h', 'N-FCC2h', 'N-FCC3h', 'N-FCC4h', 'N-FCC5h', 'N-FCC6h', 'N-FCz', 'N-FFC1h', 'N-FFC2h', 'N-FFC3h', 'N-FFC4h', 'N-FFC5h', 'N-FFC6h', 'N-FFT10h', 'N-FFT7h', 'N-FFT8h', 'N-FFT9h', 'N-FP2', 'N-FT10', 'N-FT7', 'N-FT8', 'N-FT9', 'N-FTT10h', 'N-FTT7h', 'N-FTT8h', 'N-FTT9h', 'N-Fp1', 'N-Fz', 'N-Iz', 'N-O1', 'N-O2', 'N-OI1h', 'N-OI2h', 'N-Oz', 'N-P1', 'N-P2', 'N-P3', 'N-P4', 'N-P5', 'N-P6', 'N-P7', 'N-P8', 'N-PO3', 'N-PO4', 'N-PO7', 'N-PO8', 'N-POO1', 'N-POO10h', 'N-POO2', 'N-POO9h', 'N-POz', 'N-PPO10h', 'N-PPO1h', 'N-PPO2h', 'N-PPO5h', 'N-PPO6h', 'N-PPO9h', 'N-Pz', 'N-T7', 'N-T8', 'N-TP7', 'N-TP8', 'N-TPP10h', 'N-TPP7h', 'N-TPP8h', 'N-TPP9h', 'N-TTP7h', 'N-TTP8h']\n",
      "  raw_eeg = mne.io.read_raw_eeglab(eeg_dirname + f'sub-{SUB_ID}_task-TableTennis_eeg.set', preload=True)\n",
      "/tmp/ipykernel_1155911/1650543861.py:10: RuntimeWarning: Estimated head radius (11.0 cm) is above the 99th percentile for adult head size. Check if the montage_units argument is correct (the default is \"mm\", but your channel positions may be in different units).\n",
      "  raw_eeg = mne.io.read_raw_eeglab(eeg_dirname + f'sub-{SUB_ID}_task-TableTennis_eeg.set', preload=True)\n",
      "/tmp/ipykernel_1155911/1650543861.py:10: RuntimeWarning: Data file name in EEG.data (sub-19_task-tabletennis_eeg.fdt) is incorrect, the file name must have changed on disk, using the correct file name (sub-19_task-TableTennis_eeg.fdt).\n",
      "  raw_eeg = mne.io.read_raw_eeglab(eeg_dirname + f'sub-{SUB_ID}_task-TableTennis_eeg.set', preload=True)\n"
     ]
    },
    {
     "name": "stdout",
     "output_type": "stream",
     "text": [
      "NOTE: pick_channels() is a legacy function. New code should use inst.pick(...).\n"
     ]
    },
    {
     "name": "stderr",
     "output_type": "stream",
     "text": [
      "/tmp/ipykernel_1155911/1650543861.py:10: RuntimeWarning: Omitted 1 annotation(s) that were outside data range.\n",
      "  raw_eeg = mne.io.read_raw_eeglab(eeg_dirname + f'sub-{SUB_ID}_task-TableTennis_eeg.set', preload=True)\n",
      "/tmp/ipykernel_1155911/1650543861.py:10: RuntimeWarning: The data contains 'boundary' events, indicating data discontinuities. Be cautious of filtering and epoching around these events.\n",
      "  raw_eeg = mne.io.read_raw_eeglab(eeg_dirname + f'sub-{SUB_ID}_task-TableTennis_eeg.set', preload=True)\n",
      "/tmp/ipykernel_1155911/1650543861.py:10: RuntimeWarning: Not setting positions of 8 emg channels found in montage:\n",
      "['LISCM', 'LSSCM', 'LSTrap', 'LITrap', 'RITrap', 'RISCM', 'RSSCM', 'RSTrap']\n",
      "Consider setting the channel types to be of EEG/sEEG/ECoG/DBS/fNIRS using inst.set_channel_types before calling inst.set_montage, or omit these channels when creating your montage.\n",
      "  raw_eeg = mne.io.read_raw_eeglab(eeg_dirname + f'sub-{SUB_ID}_task-TableTennis_eeg.set', preload=True)\n"
     ]
    },
    {
     "data": {
      "application/vnd.jupyter.widget-view+json": {
       "model_id": "0881670a4e75436facb97fc8b2da6565",
       "version_major": 2,
       "version_minor": 0
      },
      "text/plain": [
       "  0%|          | 0/56880 [00:00<?, ?it/s]"
      ]
     },
     "metadata": {},
     "output_type": "display_data"
    },
    {
     "name": "stdout",
     "output_type": "stream",
     "text": [
      "Reading /data/vladimiroved/realWorldTableTennis/sub-20/eeg/sub-20_task-TableTennis_eeg.fdt\n",
      "Reading 0 ... 916387  =      0.000 ...  3665.548 secs...\n"
     ]
    },
    {
     "name": "stderr",
     "output_type": "stream",
     "text": [
      "/tmp/ipykernel_1155911/1650543861.py:10: RuntimeWarning: Unknown types found, setting as type EEG:\n",
      "acc: ['CGY-x', 'CGY-y', 'CGY-z', 'CWR-x', 'CWR-y', 'CWR-z', 'NGY-x', 'NGY-y', 'NGY-z', 'NWR-x', 'NWR-y', 'NWR-z']\n",
      "cometas: ['BallMachine_Acc_X(g)', 'BallMachine_Acc_Y(g)', 'BallMachine_Acc_Z(g)', 'IMU1_RMS', 'Imu_2 :W():', 'Imu_2 :X():', 'Imu_2 :Y():', 'Imu_2 :Z():', 'Imu_2_ImuGyro :X(D/s):', 'Imu_2_ImuGyro :Y(D/s):', 'Imu_2_ImuGyro :Z(D/s):', 'Imu_2_ImuMag :X(uT):', 'Imu_2_ImuMag :Y(uT):', 'Imu_2_ImuMag :Z(uT):', 'Imu_4 :W():', 'Imu_4 :X():', 'Imu_4 :Y():', 'Imu_4 :Z():', 'Imu_4_ImuGyro :X(D/s):', 'Imu_4_ImuGyro :Y(D/s):', 'Imu_4_ImuGyro :Z(D/s):', 'Imu_4_ImuMag :X(uT):', 'Imu_4_ImuMag :Y(uT):', 'Imu_4_ImuMag :Z(uT):', 'Net_Acc_X(g)', 'Net_Acc_Y(g)', 'Net_Acc_Z(g)', 'Participant_Backpack_Acc_X(g)', 'Participant_Backpack_Acc_Y(g)', 'Participant_Backpack_Acc_Z(g)', 'Participant_Paddle_Acc_X(g)', 'Participant_Paddle_Acc_Y(g)', 'Participant_Paddle_Acc_Z(g)', 'Researcher_Paddle_Acc_X(g)', 'Researcher_Paddle_Acc_Y(g)', 'Researcher_Paddle_Acc_Z(g)', 'SyncPulse(uV)', 'Table_OtherSide_Acc_X(g)', 'Table_OtherSide_Acc_Y(g)', 'Table_OtherSide_Acc_Z(g)', 'Table_ParticipantSide_Acc_X(g)', 'Table_ParticipantSide_Acc_Y(g)', 'Table_ParticipantSide_Acc_Z(g)']\n",
      "noise: ['N-AF3', 'N-AF4', 'N-AF7', 'N-AF8', 'N-AFF1h', 'N-AFF2h', 'N-AFF5h', 'N-AFF6h', 'N-AFp1', 'N-AFp2', 'N-AFz', 'N-C1', 'N-C2', 'N-C3', 'N-C4', 'N-C5', 'N-C6', 'N-CCP1h', 'N-CCP2h', 'N-CCP3h', 'N-CCP4h', 'N-CCP5h', 'N-CCP6h', 'N-CP1', 'N-CP2', 'N-CP3', 'N-CP4', 'N-CP5', 'N-CP6', 'N-CPP1h', 'N-CPP2h', 'N-CPP3h', 'N-CPP4h', 'N-CPP5h', 'N-CPP6h', 'N-Cz', 'N-F1', 'N-F10', 'N-F2', 'N-F3', 'N-F4', 'N-F5', 'N-F6', 'N-F7', 'N-F8', 'N-F9', 'N-FC1', 'N-FC2', 'N-FC3', 'N-FC4', 'N-FC5', 'N-FC6', 'N-FCC1h', 'N-FCC2h', 'N-FCC3h', 'N-FCC4h', 'N-FCC5h', 'N-FCC6h', 'N-FCz', 'N-FFC1h', 'N-FFC2h', 'N-FFC3h', 'N-FFC4h', 'N-FFC5h', 'N-FFC6h', 'N-FFT10h', 'N-FFT7h', 'N-FFT8h', 'N-FFT9h', 'N-FP2', 'N-FT10', 'N-FT7', 'N-FT8', 'N-FT9', 'N-FTT10h', 'N-FTT7h', 'N-FTT8h', 'N-FTT9h', 'N-Fp1', 'N-Fz', 'N-Iz', 'N-O1', 'N-O2', 'N-OI1h', 'N-OI2h', 'N-Oz', 'N-P1', 'N-P2', 'N-P3', 'N-P4', 'N-P5', 'N-P6', 'N-P7', 'N-P8', 'N-PO3', 'N-PO4', 'N-PO7', 'N-PO8', 'N-POO1', 'N-POO10h', 'N-POO2', 'N-POO9h', 'N-POz', 'N-PPO10h', 'N-PPO1h', 'N-PPO2h', 'N-PPO5h', 'N-PPO6h', 'N-PPO9h', 'N-Pz', 'N-T7', 'N-T8', 'N-TP7', 'N-TP8', 'N-TPP10h', 'N-TPP7h', 'N-TPP8h', 'N-TPP9h', 'N-TTP7h', 'N-TTP8h']\n",
      "  raw_eeg = mne.io.read_raw_eeglab(eeg_dirname + f'sub-{SUB_ID}_task-TableTennis_eeg.set', preload=True)\n",
      "/tmp/ipykernel_1155911/1650543861.py:10: RuntimeWarning: Estimated head radius (11.1 cm) is above the 99th percentile for adult head size. Check if the montage_units argument is correct (the default is \"mm\", but your channel positions may be in different units).\n",
      "  raw_eeg = mne.io.read_raw_eeglab(eeg_dirname + f'sub-{SUB_ID}_task-TableTennis_eeg.set', preload=True)\n",
      "/tmp/ipykernel_1155911/1650543861.py:10: RuntimeWarning: Data file name in EEG.data (sub-20_task-tabletennis_eeg.fdt) is incorrect, the file name must have changed on disk, using the correct file name (sub-20_task-TableTennis_eeg.fdt).\n",
      "  raw_eeg = mne.io.read_raw_eeglab(eeg_dirname + f'sub-{SUB_ID}_task-TableTennis_eeg.set', preload=True)\n"
     ]
    },
    {
     "name": "stdout",
     "output_type": "stream",
     "text": [
      "NOTE: pick_channels() is a legacy function. New code should use inst.pick(...).\n"
     ]
    },
    {
     "name": "stderr",
     "output_type": "stream",
     "text": [
      "/tmp/ipykernel_1155911/1650543861.py:10: RuntimeWarning: Omitted 1 annotation(s) that were outside data range.\n",
      "  raw_eeg = mne.io.read_raw_eeglab(eeg_dirname + f'sub-{SUB_ID}_task-TableTennis_eeg.set', preload=True)\n",
      "/tmp/ipykernel_1155911/1650543861.py:10: RuntimeWarning: The data contains 'boundary' events, indicating data discontinuities. Be cautious of filtering and epoching around these events.\n",
      "  raw_eeg = mne.io.read_raw_eeglab(eeg_dirname + f'sub-{SUB_ID}_task-TableTennis_eeg.set', preload=True)\n",
      "/tmp/ipykernel_1155911/1650543861.py:10: RuntimeWarning: Not setting positions of 8 emg channels found in montage:\n",
      "['LISCM', 'LSSCM', 'LSTrap', 'LITrap', 'RITrap', 'RISCM', 'RSSCM', 'RSTrap']\n",
      "Consider setting the channel types to be of EEG/sEEG/ECoG/DBS/fNIRS using inst.set_channel_types before calling inst.set_montage, or omit these channels when creating your montage.\n",
      "  raw_eeg = mne.io.read_raw_eeglab(eeg_dirname + f'sub-{SUB_ID}_task-TableTennis_eeg.set', preload=True)\n"
     ]
    },
    {
     "data": {
      "application/vnd.jupyter.widget-view+json": {
       "model_id": "7b2e873706d04d7d8d4534ed2634675a",
       "version_major": 2,
       "version_minor": 0
      },
      "text/plain": [
       "  0%|          | 0/69020 [00:00<?, ?it/s]"
      ]
     },
     "metadata": {},
     "output_type": "display_data"
    },
    {
     "name": "stdout",
     "output_type": "stream",
     "text": [
      "Reading /data/vladimiroved/realWorldTableTennis/sub-21/eeg/sub-21_task-TableTennis_eeg.fdt\n",
      "Reading 0 ... 1128360  =      0.000 ...  4513.440 secs...\n"
     ]
    },
    {
     "name": "stderr",
     "output_type": "stream",
     "text": [
      "/tmp/ipykernel_1155911/1650543861.py:10: RuntimeWarning: Unknown types found, setting as type EEG:\n",
      "acc: ['CGY-x', 'CGY-y', 'CGY-z', 'CWR-x', 'CWR-y', 'CWR-z', 'NGY-x', 'NGY-y', 'NGY-z', 'NWR-x', 'NWR-y', 'NWR-z']\n",
      "cometas: ['BallMachine_Acc_X(g)', 'BallMachine_Acc_Y(g)', 'BallMachine_Acc_Z(g)', 'IMU1_RMS', 'Imu_1 :W():', 'Imu_1 :X():', 'Imu_1 :Y():', 'Imu_1 :Z():', 'Imu_1_ImuGyro :X(D/s):', 'Imu_1_ImuGyro :Y(D/s):', 'Imu_1_ImuGyro :Z(D/s):', 'Imu_1_ImuMag :X(uT):', 'Imu_1_ImuMag :Y(uT):', 'Imu_1_ImuMag :Z(uT):', 'Imu_2 :W():', 'Imu_2 :X():', 'Imu_2 :Y():', 'Imu_2 :Z():', 'Imu_2_ImuGyro :X(D/s):', 'Imu_2_ImuGyro :Y(D/s):', 'Imu_2_ImuGyro :Z(D/s):', 'Imu_2_ImuMag :X(uT):', 'Imu_2_ImuMag :Y(uT):', 'Imu_2_ImuMag :Z(uT):', 'Imu_4 :W():', 'Imu_4 :X():', 'Imu_4 :Y():', 'Imu_4 :Z():', 'Imu_4_ImuGyro :X(D/s):', 'Imu_4_ImuGyro :Y(D/s):', 'Imu_4_ImuGyro :Z(D/s):', 'Imu_4_ImuMag :X(uT):', 'Imu_4_ImuMag :Y(uT):', 'Imu_4_ImuMag :Z(uT):', 'Net_Acc_X(g)', 'Net_Acc_Y(g)', 'Net_Acc_Z(g)', 'Participant_Backpack_Acc_X(g)', 'Participant_Backpack_Acc_Y(g)', 'Participant_Backpack_Acc_Z(g)', 'Participant_Paddle_Acc_X(g)', 'Participant_Paddle_Acc_Y(g)', 'Participant_Paddle_Acc_Z(g)', 'Researcher_Paddle_Acc_X(g)', 'Researcher_Paddle_Acc_Y(g)', 'Researcher_Paddle_Acc_Z(g)', 'SyncPulse(uV)', 'Table_OtherSide_Acc_X(g)', 'Table_OtherSide_Acc_Y(g)', 'Table_OtherSide_Acc_Z(g)', 'Table_ParticipantSide_Acc_X(g)', 'Table_ParticipantSide_Acc_Y(g)', 'Table_ParticipantSide_Acc_Z(g)']\n",
      "noise: ['N-AF3', 'N-AF4', 'N-AF7', 'N-AF8', 'N-AFF1h', 'N-AFF2h', 'N-AFF5h', 'N-AFF6h', 'N-AFp1', 'N-AFp2', 'N-AFz', 'N-C1', 'N-C2', 'N-C3', 'N-C4', 'N-C5', 'N-C6', 'N-CCP1h', 'N-CCP2h', 'N-CCP3h', 'N-CCP4h', 'N-CCP5h', 'N-CCP6h', 'N-CP1', 'N-CP2', 'N-CP3', 'N-CP4', 'N-CP5', 'N-CP6', 'N-CPP1h', 'N-CPP2h', 'N-CPP3h', 'N-CPP4h', 'N-CPP5h', 'N-CPP6h', 'N-Cz', 'N-F1', 'N-F10', 'N-F2', 'N-F3', 'N-F4', 'N-F5', 'N-F6', 'N-F7', 'N-F8', 'N-F9', 'N-FC1', 'N-FC2', 'N-FC3', 'N-FC4', 'N-FC5', 'N-FC6', 'N-FCC1h', 'N-FCC2h', 'N-FCC3h', 'N-FCC4h', 'N-FCC5h', 'N-FCC6h', 'N-FCz', 'N-FFC1h', 'N-FFC2h', 'N-FFC3h', 'N-FFC4h', 'N-FFC5h', 'N-FFC6h', 'N-FFT10h', 'N-FFT7h', 'N-FFT8h', 'N-FFT9h', 'N-FP2', 'N-FT10', 'N-FT7', 'N-FT8', 'N-FT9', 'N-FTT10h', 'N-FTT7h', 'N-FTT8h', 'N-FTT9h', 'N-Fp1', 'N-Fz', 'N-Iz', 'N-O1', 'N-O2', 'N-OI1h', 'N-OI2h', 'N-Oz', 'N-P1', 'N-P2', 'N-P3', 'N-P4', 'N-P5', 'N-P6', 'N-P7', 'N-P8', 'N-PO3', 'N-PO4', 'N-PO7', 'N-PO8', 'N-POO1', 'N-POO10h', 'N-POO2', 'N-POO9h', 'N-POz', 'N-PPO10h', 'N-PPO1h', 'N-PPO2h', 'N-PPO5h', 'N-PPO6h', 'N-PPO9h', 'N-Pz', 'N-T7', 'N-T8', 'N-TP7', 'N-TP8', 'N-TPP10h', 'N-TPP7h', 'N-TPP8h', 'N-TPP9h', 'N-TTP7h', 'N-TTP8h']\n",
      "  raw_eeg = mne.io.read_raw_eeglab(eeg_dirname + f'sub-{SUB_ID}_task-TableTennis_eeg.set', preload=True)\n",
      "/tmp/ipykernel_1155911/1650543861.py:10: RuntimeWarning: Estimated head radius (11.3 cm) is above the 99th percentile for adult head size. Check if the montage_units argument is correct (the default is \"mm\", but your channel positions may be in different units).\n",
      "  raw_eeg = mne.io.read_raw_eeglab(eeg_dirname + f'sub-{SUB_ID}_task-TableTennis_eeg.set', preload=True)\n",
      "/tmp/ipykernel_1155911/1650543861.py:10: RuntimeWarning: Data file name in EEG.data (sub-21_task-tabletennis_eeg.fdt) is incorrect, the file name must have changed on disk, using the correct file name (sub-21_task-TableTennis_eeg.fdt).\n",
      "  raw_eeg = mne.io.read_raw_eeglab(eeg_dirname + f'sub-{SUB_ID}_task-TableTennis_eeg.set', preload=True)\n"
     ]
    },
    {
     "name": "stdout",
     "output_type": "stream",
     "text": [
      "NOTE: pick_channels() is a legacy function. New code should use inst.pick(...).\n"
     ]
    },
    {
     "name": "stderr",
     "output_type": "stream",
     "text": [
      "/tmp/ipykernel_1155911/1650543861.py:10: RuntimeWarning: Omitted 1 annotation(s) that were outside data range.\n",
      "  raw_eeg = mne.io.read_raw_eeglab(eeg_dirname + f'sub-{SUB_ID}_task-TableTennis_eeg.set', preload=True)\n",
      "/tmp/ipykernel_1155911/1650543861.py:10: RuntimeWarning: The data contains 'boundary' events, indicating data discontinuities. Be cautious of filtering and epoching around these events.\n",
      "  raw_eeg = mne.io.read_raw_eeglab(eeg_dirname + f'sub-{SUB_ID}_task-TableTennis_eeg.set', preload=True)\n",
      "/tmp/ipykernel_1155911/1650543861.py:10: RuntimeWarning: Not setting positions of 8 emg channels found in montage:\n",
      "['LISCM', 'LSSCM', 'LSTrap', 'LITrap', 'RITrap', 'RISCM', 'RSSCM', 'RSTrap']\n",
      "Consider setting the channel types to be of EEG/sEEG/ECoG/DBS/fNIRS using inst.set_channel_types before calling inst.set_montage, or omit these channels when creating your montage.\n",
      "  raw_eeg = mne.io.read_raw_eeglab(eeg_dirname + f'sub-{SUB_ID}_task-TableTennis_eeg.set', preload=True)\n"
     ]
    },
    {
     "data": {
      "application/vnd.jupyter.widget-view+json": {
       "model_id": "72fc52aa77964d4c9951a47b0abd8600",
       "version_major": 2,
       "version_minor": 0
      },
      "text/plain": [
       "  0%|          | 0/63256 [00:00<?, ?it/s]"
      ]
     },
     "metadata": {},
     "output_type": "display_data"
    },
    {
     "name": "stdout",
     "output_type": "stream",
     "text": [
      "Reading /data/vladimiroved/realWorldTableTennis/sub-22/eeg/sub-22_task-TableTennis_eeg.fdt\n",
      "Reading 0 ... 1108946  =      0.000 ...  4435.784 secs...\n"
     ]
    },
    {
     "name": "stderr",
     "output_type": "stream",
     "text": [
      "/tmp/ipykernel_1155911/1650543861.py:10: RuntimeWarning: Unknown types found, setting as type EEG:\n",
      "acc: ['CGY-x', 'CGY-y', 'CGY-z', 'CWR-x', 'CWR-y', 'CWR-z', 'NGY-x', 'NGY-y', 'NGY-z', 'NWR-x', 'NWR-y', 'NWR-z']\n",
      "cometas: ['BallMachine_Acc_X(g)', 'BallMachine_Acc_Y(g)', 'BallMachine_Acc_Z(g)', 'IMU1_RMS', 'Imu_1 :W():', 'Imu_1 :X():', 'Imu_1 :Y():', 'Imu_1 :Z():', 'Imu_1_ImuAcc :X(g):', 'Imu_1_ImuAcc :Y(g):', 'Imu_1_ImuAcc :Z(g):', 'Imu_1_ImuGyro :X(D/s):', 'Imu_1_ImuGyro :Y(D/s):', 'Imu_1_ImuGyro :Z(D/s):', 'Imu_1_ImuMag :X(uT):', 'Imu_1_ImuMag :Y(uT):', 'Imu_1_ImuMag :Z(uT):', 'Imu_2 :W():', 'Imu_2 :X():', 'Imu_2 :Y():', 'Imu_2 :Z():', 'Imu_2_ImuGyro :X(D/s):', 'Imu_2_ImuGyro :Y(D/s):', 'Imu_2_ImuGyro :Z(D/s):', 'Imu_2_ImuMag :X(uT):', 'Imu_2_ImuMag :Y(uT):', 'Imu_2_ImuMag :Z(uT):', 'Imu_4 :W():', 'Imu_4 :X():', 'Imu_4 :Y():', 'Imu_4 :Z():', 'Imu_4_ImuGyro :X(D/s):', 'Imu_4_ImuGyro :Y(D/s):', 'Imu_4_ImuGyro :Z(D/s):', 'Imu_4_ImuMag :X(uT):', 'Imu_4_ImuMag :Y(uT):', 'Imu_4_ImuMag :Z(uT):', 'Imu_6_ImuAcc :X(g):', 'Imu_6_ImuAcc :Y(g):', 'Imu_6_ImuAcc :Z(g):', 'Imu_7_ImuAcc :X(g):', 'Imu_7_ImuAcc :Y(g):', 'Imu_7_ImuAcc :Z(g):', 'Net_Acc_X(g)', 'Net_Acc_Y(g)', 'Net_Acc_Z(g)', 'Participant_Paddle_Acc_X(g)', 'Participant_Paddle_Acc_Y(g)', 'Participant_Paddle_Acc_Z(g)', 'Researcher_Paddle_Acc_X(g)', 'Researcher_Paddle_Acc_Y(g)', 'Researcher_Paddle_Acc_Z(g)', 'SyncPulse(uV)']\n",
      "noise: ['N-AF3', 'N-AF4', 'N-AF7', 'N-AF8', 'N-AFF1h', 'N-AFF2h', 'N-AFF5h', 'N-AFF6h', 'N-AFp1', 'N-AFp2', 'N-AFz', 'N-C1', 'N-C2', 'N-C3', 'N-C4', 'N-C5', 'N-C6', 'N-CCP1h', 'N-CCP2h', 'N-CCP3h', 'N-CCP4h', 'N-CCP5h', 'N-CCP6h', 'N-CP1', 'N-CP2', 'N-CP3', 'N-CP4', 'N-CP5', 'N-CP6', 'N-CPP1h', 'N-CPP2h', 'N-CPP3h', 'N-CPP4h', 'N-CPP5h', 'N-CPP6h', 'N-Cz', 'N-F1', 'N-F10', 'N-F2', 'N-F3', 'N-F4', 'N-F5', 'N-F6', 'N-F7', 'N-F8', 'N-F9', 'N-FC1', 'N-FC2', 'N-FC3', 'N-FC4', 'N-FC5', 'N-FC6', 'N-FCC1h', 'N-FCC2h', 'N-FCC3h', 'N-FCC4h', 'N-FCC5h', 'N-FCC6h', 'N-FCz', 'N-FFC1h', 'N-FFC2h', 'N-FFC3h', 'N-FFC4h', 'N-FFC5h', 'N-FFC6h', 'N-FFT10h', 'N-FFT7h', 'N-FFT8h', 'N-FFT9h', 'N-FP2', 'N-FT10', 'N-FT7', 'N-FT8', 'N-FT9', 'N-FTT10h', 'N-FTT7h', 'N-FTT8h', 'N-FTT9h', 'N-Fp1', 'N-Fz', 'N-Iz', 'N-O1', 'N-O2', 'N-OI1h', 'N-OI2h', 'N-Oz', 'N-P1', 'N-P2', 'N-P3', 'N-P4', 'N-P5', 'N-P6', 'N-P7', 'N-P8', 'N-PO3', 'N-PO4', 'N-PO7', 'N-PO8', 'N-POO1', 'N-POO10h', 'N-POO2', 'N-POO9h', 'N-POz', 'N-PPO10h', 'N-PPO1h', 'N-PPO2h', 'N-PPO5h', 'N-PPO6h', 'N-PPO9h', 'N-Pz', 'N-T7', 'N-T8', 'N-TP7', 'N-TP8', 'N-TPP10h', 'N-TPP7h', 'N-TPP8h', 'N-TPP9h', 'N-TTP7h', 'N-TTP8h']\n",
      "  raw_eeg = mne.io.read_raw_eeglab(eeg_dirname + f'sub-{SUB_ID}_task-TableTennis_eeg.set', preload=True)\n",
      "/tmp/ipykernel_1155911/1650543861.py:10: RuntimeWarning: Estimated head radius (11.0 cm) is above the 99th percentile for adult head size. Check if the montage_units argument is correct (the default is \"mm\", but your channel positions may be in different units).\n",
      "  raw_eeg = mne.io.read_raw_eeglab(eeg_dirname + f'sub-{SUB_ID}_task-TableTennis_eeg.set', preload=True)\n",
      "/tmp/ipykernel_1155911/1650543861.py:10: RuntimeWarning: Data file name in EEG.data (sub-22_task-tabletennis_eeg.fdt) is incorrect, the file name must have changed on disk, using the correct file name (sub-22_task-TableTennis_eeg.fdt).\n",
      "  raw_eeg = mne.io.read_raw_eeglab(eeg_dirname + f'sub-{SUB_ID}_task-TableTennis_eeg.set', preload=True)\n"
     ]
    },
    {
     "name": "stdout",
     "output_type": "stream",
     "text": [
      "NOTE: pick_channels() is a legacy function. New code should use inst.pick(...).\n"
     ]
    },
    {
     "name": "stderr",
     "output_type": "stream",
     "text": [
      "/tmp/ipykernel_1155911/1650543861.py:10: RuntimeWarning: Omitted 1 annotation(s) that were outside data range.\n",
      "  raw_eeg = mne.io.read_raw_eeglab(eeg_dirname + f'sub-{SUB_ID}_task-TableTennis_eeg.set', preload=True)\n",
      "/tmp/ipykernel_1155911/1650543861.py:10: RuntimeWarning: The data contains 'boundary' events, indicating data discontinuities. Be cautious of filtering and epoching around these events.\n",
      "  raw_eeg = mne.io.read_raw_eeglab(eeg_dirname + f'sub-{SUB_ID}_task-TableTennis_eeg.set', preload=True)\n",
      "/tmp/ipykernel_1155911/1650543861.py:10: RuntimeWarning: Not setting positions of 8 emg channels found in montage:\n",
      "['LISCM', 'LSSCM', 'LSTrap', 'LITrap', 'RITrap', 'RISCM', 'RSSCM', 'RSTrap']\n",
      "Consider setting the channel types to be of EEG/sEEG/ECoG/DBS/fNIRS using inst.set_channel_types before calling inst.set_montage, or omit these channels when creating your montage.\n",
      "  raw_eeg = mne.io.read_raw_eeglab(eeg_dirname + f'sub-{SUB_ID}_task-TableTennis_eeg.set', preload=True)\n"
     ]
    },
    {
     "data": {
      "application/vnd.jupyter.widget-view+json": {
       "model_id": "f50f77e208064b97a27572619bba11ee",
       "version_major": 2,
       "version_minor": 0
      },
      "text/plain": [
       "  0%|          | 0/51696 [00:00<?, ?it/s]"
      ]
     },
     "metadata": {},
     "output_type": "display_data"
    },
    {
     "name": "stdout",
     "output_type": "stream",
     "text": [
      "Reading /data/vladimiroved/realWorldTableTennis/sub-23/eeg/sub-23_task-TableTennis_eeg.fdt\n",
      "Reading 0 ... 1053820  =      0.000 ...  4215.280 secs...\n"
     ]
    },
    {
     "name": "stderr",
     "output_type": "stream",
     "text": [
      "/tmp/ipykernel_1155911/1650543861.py:10: RuntimeWarning: Unknown types found, setting as type EEG:\n",
      "acc: ['CGY-x', 'CGY-y', 'CGY-z', 'CWR-x', 'CWR-y', 'CWR-z', 'NGY-x', 'NGY-y', 'NGY-z', 'NWR-x', 'NWR-y', 'NWR-z']\n",
      "cometas: ['BallMachine_Acc_X(g)', 'BallMachine_Acc_Y(g)', 'BallMachine_Acc_Z(g)', 'IMU1_RMS', 'Imu_1 :W():', 'Imu_1 :X():', 'Imu_1 :Y():', 'Imu_1 :Z():', 'Imu_1_ImuGyro :X(D/s):', 'Imu_1_ImuGyro :Y(D/s):', 'Imu_1_ImuGyro :Z(D/s):', 'Imu_1_ImuMag :X(uT):', 'Imu_1_ImuMag :Y(uT):', 'Imu_1_ImuMag :Z(uT):', 'Imu_2 :W():', 'Imu_2 :X():', 'Imu_2 :Y():', 'Imu_2 :Z():', 'Imu_2_ImuGyro :X(D/s):', 'Imu_2_ImuGyro :Y(D/s):', 'Imu_2_ImuGyro :Z(D/s):', 'Imu_2_ImuMag :X(uT):', 'Imu_2_ImuMag :Y(uT):', 'Imu_2_ImuMag :Z(uT):', 'Imu_4 :W():', 'Imu_4 :X():', 'Imu_4 :Y():', 'Imu_4 :Z():', 'Imu_4_ImuGyro :X(D/s):', 'Imu_4_ImuGyro :Y(D/s):', 'Imu_4_ImuGyro :Z(D/s):', 'Imu_4_ImuMag :X(uT):', 'Imu_4_ImuMag :Y(uT):', 'Imu_4_ImuMag :Z(uT):', 'Imu_8 :W():', 'Imu_8 :X():', 'Imu_8 :Y():', 'Imu_8 :Z():', 'Imu_8_ImuGyro :X(D/s):', 'Imu_8_ImuGyro :Y(D/s):', 'Imu_8_ImuGyro :Z(D/s):', 'Imu_8_ImuMag :X(uT):', 'Imu_8_ImuMag :Y(uT):', 'Imu_8_ImuMag :Z(uT):', 'Net_Acc_X(g)', 'Net_Acc_Y(g)', 'Net_Acc_Z(g)', 'Participant_Backpack_Acc_X(g)', 'Participant_Backpack_Acc_Y(g)', 'Participant_Backpack_Acc_Z(g)', 'Participant_Head_Acc_X(g)', 'Participant_Head_Acc_Y(g)', 'Participant_Head_Acc_Z(g)', 'Participant_Paddle_Acc_X(g)', 'Participant_Paddle_Acc_Y(g)', 'Participant_Paddle_Acc_Z(g)', 'Researcher_Paddle_Acc_X(g)', 'Researcher_Paddle_Acc_Y(g)', 'Researcher_Paddle_Acc_Z(g)', 'SyncPulse(uV)', 'Table_OtherSide_Acc_X(g)', 'Table_OtherSide_Acc_Y(g)', 'Table_OtherSide_Acc_Z(g)', 'Table_ParticipantSide_Acc_X(g)', 'Table_ParticipantSide_Acc_Y(g)', 'Table_ParticipantSide_Acc_Z(g)']\n",
      "noise: ['N-AF3', 'N-AF4', 'N-AF7', 'N-AF8', 'N-AFF1h', 'N-AFF2h', 'N-AFF5h', 'N-AFF6h', 'N-AFp1', 'N-AFp2', 'N-AFz', 'N-C1', 'N-C2', 'N-C3', 'N-C4', 'N-C5', 'N-C6', 'N-CCP1h', 'N-CCP2h', 'N-CCP3h', 'N-CCP4h', 'N-CCP5h', 'N-CCP6h', 'N-CP1', 'N-CP2', 'N-CP3', 'N-CP4', 'N-CP5', 'N-CP6', 'N-CPP1h', 'N-CPP2h', 'N-CPP3h', 'N-CPP4h', 'N-CPP5h', 'N-CPP6h', 'N-Cz', 'N-F1', 'N-F10', 'N-F2', 'N-F3', 'N-F4', 'N-F5', 'N-F6', 'N-F7', 'N-F8', 'N-F9', 'N-FC1', 'N-FC2', 'N-FC3', 'N-FC4', 'N-FC5', 'N-FC6', 'N-FCC1h', 'N-FCC2h', 'N-FCC3h', 'N-FCC4h', 'N-FCC5h', 'N-FCC6h', 'N-FCz', 'N-FFC1h', 'N-FFC2h', 'N-FFC3h', 'N-FFC4h', 'N-FFC5h', 'N-FFC6h', 'N-FFT10h', 'N-FFT7h', 'N-FFT8h', 'N-FFT9h', 'N-FP2', 'N-FT10', 'N-FT7', 'N-FT8', 'N-FT9', 'N-FTT10h', 'N-FTT7h', 'N-FTT8h', 'N-FTT9h', 'N-Fp1', 'N-Fz', 'N-Iz', 'N-O1', 'N-O2', 'N-OI1h', 'N-OI2h', 'N-Oz', 'N-P1', 'N-P2', 'N-P3', 'N-P4', 'N-P5', 'N-P6', 'N-P7', 'N-P8', 'N-PO3', 'N-PO4', 'N-PO7', 'N-PO8', 'N-POO1', 'N-POO10h', 'N-POO2', 'N-POO9h', 'N-POz', 'N-PPO10h', 'N-PPO1h', 'N-PPO2h', 'N-PPO5h', 'N-PPO6h', 'N-PPO9h', 'N-Pz', 'N-T7', 'N-T8', 'N-TP7', 'N-TP8', 'N-TPP10h', 'N-TPP7h', 'N-TPP8h', 'N-TPP9h', 'N-TTP7h', 'N-TTP8h']\n",
      "  raw_eeg = mne.io.read_raw_eeglab(eeg_dirname + f'sub-{SUB_ID}_task-TableTennis_eeg.set', preload=True)\n",
      "/tmp/ipykernel_1155911/1650543861.py:10: RuntimeWarning: Estimated head radius (12.2 cm) is above the 99th percentile for adult head size. Check if the montage_units argument is correct (the default is \"mm\", but your channel positions may be in different units).\n",
      "  raw_eeg = mne.io.read_raw_eeglab(eeg_dirname + f'sub-{SUB_ID}_task-TableTennis_eeg.set', preload=True)\n",
      "/tmp/ipykernel_1155911/1650543861.py:10: RuntimeWarning: Data file name in EEG.data (sub-23_task-tabletennis_eeg.fdt) is incorrect, the file name must have changed on disk, using the correct file name (sub-23_task-TableTennis_eeg.fdt).\n",
      "  raw_eeg = mne.io.read_raw_eeglab(eeg_dirname + f'sub-{SUB_ID}_task-TableTennis_eeg.set', preload=True)\n"
     ]
    },
    {
     "name": "stdout",
     "output_type": "stream",
     "text": [
      "NOTE: pick_channels() is a legacy function. New code should use inst.pick(...).\n"
     ]
    },
    {
     "name": "stderr",
     "output_type": "stream",
     "text": [
      "/tmp/ipykernel_1155911/1650543861.py:10: RuntimeWarning: Omitted 1 annotation(s) that were outside data range.\n",
      "  raw_eeg = mne.io.read_raw_eeglab(eeg_dirname + f'sub-{SUB_ID}_task-TableTennis_eeg.set', preload=True)\n",
      "/tmp/ipykernel_1155911/1650543861.py:10: RuntimeWarning: The data contains 'boundary' events, indicating data discontinuities. Be cautious of filtering and epoching around these events.\n",
      "  raw_eeg = mne.io.read_raw_eeglab(eeg_dirname + f'sub-{SUB_ID}_task-TableTennis_eeg.set', preload=True)\n",
      "/tmp/ipykernel_1155911/1650543861.py:10: RuntimeWarning: Not setting positions of 8 emg channels found in montage:\n",
      "['LISCM', 'LSSCM', 'LSTrap', 'LITrap', 'RITrap', 'RISCM', 'RSSCM', 'RSTrap']\n",
      "Consider setting the channel types to be of EEG/sEEG/ECoG/DBS/fNIRS using inst.set_channel_types before calling inst.set_montage, or omit these channels when creating your montage.\n",
      "  raw_eeg = mne.io.read_raw_eeglab(eeg_dirname + f'sub-{SUB_ID}_task-TableTennis_eeg.set', preload=True)\n"
     ]
    },
    {
     "data": {
      "application/vnd.jupyter.widget-view+json": {
       "model_id": "87a1cf989dcd4477b55688ca0422492c",
       "version_major": 2,
       "version_minor": 0
      },
      "text/plain": [
       "  0%|          | 0/69728 [00:00<?, ?it/s]"
      ]
     },
     "metadata": {},
     "output_type": "display_data"
    },
    {
     "name": "stdout",
     "output_type": "stream",
     "text": [
      "Reading /data/vladimiroved/realWorldTableTennis/sub-24/eeg/sub-24_task-TableTennis_eeg.fdt\n",
      "Reading 0 ... 1146790  =      0.000 ...  4587.160 secs...\n"
     ]
    },
    {
     "name": "stderr",
     "output_type": "stream",
     "text": [
      "/tmp/ipykernel_1155911/1650543861.py:10: RuntimeWarning: Unknown types found, setting as type EEG:\n",
      "acc: ['CGY-x', 'CGY-y', 'CGY-z', 'CWR-x', 'CWR-y', 'CWR-z', 'NGY-x', 'NGY-y', 'NGY-z', 'NWR-x', 'NWR-y', 'NWR-z']\n",
      "cometas: ['BallMachine_Acc_X(g)', 'BallMachine_Acc_Y(g)', 'BallMachine_Acc_Z(g)', 'IMU1_RMS', 'IMU8_RMS', 'Imu_1 :W():', 'Imu_1 :X():', 'Imu_1 :Y():', 'Imu_1 :Z():', 'Imu_1_ImuGyro :X(D/s):', 'Imu_1_ImuGyro :Y(D/s):', 'Imu_1_ImuGyro :Z(D/s):', 'Imu_1_ImuMag :X(uT):', 'Imu_1_ImuMag :Y(uT):', 'Imu_1_ImuMag :Z(uT):', 'Imu_2 :W():', 'Imu_2 :X():', 'Imu_2 :Y():', 'Imu_2 :Z():', 'Imu_2_ImuGyro :X(D/s):', 'Imu_2_ImuGyro :Y(D/s):', 'Imu_2_ImuGyro :Z(D/s):', 'Imu_2_ImuMag :X(uT):', 'Imu_2_ImuMag :Y(uT):', 'Imu_2_ImuMag :Z(uT):', 'Imu_4 :W():', 'Imu_4 :X():', 'Imu_4 :Y():', 'Imu_4 :Z():', 'Imu_4_ImuGyro :X(D/s):', 'Imu_4_ImuGyro :Y(D/s):', 'Imu_4_ImuGyro :Z(D/s):', 'Imu_4_ImuMag :X(uT):', 'Imu_4_ImuMag :Y(uT):', 'Imu_4_ImuMag :Z(uT):', 'Imu_8 :W():', 'Imu_8 :X():', 'Imu_8 :Y():', 'Imu_8 :Z():', 'Imu_8_ImuGyro :X(D/s):', 'Imu_8_ImuGyro :Y(D/s):', 'Imu_8_ImuGyro :Z(D/s):', 'Imu_8_ImuMag :X(uT):', 'Imu_8_ImuMag :Y(uT):', 'Imu_8_ImuMag :Z(uT):', 'Net_Acc_X(g)', 'Net_Acc_Y(g)', 'Net_Acc_Z(g)', 'Participant_Backpack_Acc_X(g)', 'Participant_Backpack_Acc_Y(g)', 'Participant_Backpack_Acc_Z(g)', 'Participant_Head_Acc_X(g)', 'Participant_Head_Acc_Y(g)', 'Participant_Head_Acc_Z(g)', 'Participant_Paddle_Acc_X(g)', 'Participant_Paddle_Acc_Y(g)', 'Participant_Paddle_Acc_Z(g)', 'Researcher_Paddle_Acc_X(g)', 'Researcher_Paddle_Acc_Y(g)', 'Researcher_Paddle_Acc_Z(g)', 'SyncPulse(uV)', 'Table_OtherSide_Acc_X(g)', 'Table_OtherSide_Acc_Y(g)', 'Table_OtherSide_Acc_Z(g)', 'Table_ParticipantSide_Acc_X(g)', 'Table_ParticipantSide_Acc_Y(g)', 'Table_ParticipantSide_Acc_Z(g)']\n",
      "noise: ['N-AF3', 'N-AF4', 'N-AF7', 'N-AF8', 'N-AFF1h', 'N-AFF2h', 'N-AFF5h', 'N-AFF6h', 'N-AFp1', 'N-AFp2', 'N-AFz', 'N-C1', 'N-C2', 'N-C3', 'N-C4', 'N-C5', 'N-C6', 'N-CCP1h', 'N-CCP2h', 'N-CCP3h', 'N-CCP4h', 'N-CCP5h', 'N-CCP6h', 'N-CP1', 'N-CP2', 'N-CP3', 'N-CP4', 'N-CP5', 'N-CP6', 'N-CPP1h', 'N-CPP2h', 'N-CPP3h', 'N-CPP4h', 'N-CPP5h', 'N-CPP6h', 'N-Cz', 'N-F1', 'N-F10', 'N-F2', 'N-F3', 'N-F4', 'N-F5', 'N-F6', 'N-F7', 'N-F8', 'N-F9', 'N-FC1', 'N-FC2', 'N-FC3', 'N-FC4', 'N-FC5', 'N-FC6', 'N-FCC1h', 'N-FCC2h', 'N-FCC3h', 'N-FCC4h', 'N-FCC5h', 'N-FCC6h', 'N-FCz', 'N-FFC1h', 'N-FFC2h', 'N-FFC3h', 'N-FFC4h', 'N-FFC5h', 'N-FFC6h', 'N-FFT10h', 'N-FFT7h', 'N-FFT8h', 'N-FFT9h', 'N-FP2', 'N-FT10', 'N-FT7', 'N-FT8', 'N-FT9', 'N-FTT10h', 'N-FTT7h', 'N-FTT8h', 'N-FTT9h', 'N-Fp1', 'N-Fz', 'N-Iz', 'N-O1', 'N-O2', 'N-OI1h', 'N-OI2h', 'N-Oz', 'N-P1', 'N-P2', 'N-P3', 'N-P4', 'N-P5', 'N-P6', 'N-P7', 'N-P8', 'N-PO3', 'N-PO4', 'N-PO7', 'N-PO8', 'N-POO1', 'N-POO10h', 'N-POO2', 'N-POO9h', 'N-POz', 'N-PPO10h', 'N-PPO1h', 'N-PPO2h', 'N-PPO5h', 'N-PPO6h', 'N-PPO9h', 'N-Pz', 'N-T7', 'N-T8', 'N-TP7', 'N-TP8', 'N-TPP10h', 'N-TPP7h', 'N-TPP8h', 'N-TPP9h', 'N-TTP7h', 'N-TTP8h']\n",
      "  raw_eeg = mne.io.read_raw_eeglab(eeg_dirname + f'sub-{SUB_ID}_task-TableTennis_eeg.set', preload=True)\n",
      "/tmp/ipykernel_1155911/1650543861.py:10: RuntimeWarning: Data file name in EEG.data (sub-24_task-tabletennis_eeg.fdt) is incorrect, the file name must have changed on disk, using the correct file name (sub-24_task-TableTennis_eeg.fdt).\n",
      "  raw_eeg = mne.io.read_raw_eeglab(eeg_dirname + f'sub-{SUB_ID}_task-TableTennis_eeg.set', preload=True)\n"
     ]
    },
    {
     "name": "stdout",
     "output_type": "stream",
     "text": [
      "NOTE: pick_channels() is a legacy function. New code should use inst.pick(...).\n"
     ]
    },
    {
     "name": "stderr",
     "output_type": "stream",
     "text": [
      "/tmp/ipykernel_1155911/1650543861.py:10: RuntimeWarning: Omitted 1 annotation(s) that were outside data range.\n",
      "  raw_eeg = mne.io.read_raw_eeglab(eeg_dirname + f'sub-{SUB_ID}_task-TableTennis_eeg.set', preload=True)\n",
      "/tmp/ipykernel_1155911/1650543861.py:10: RuntimeWarning: The data contains 'boundary' events, indicating data discontinuities. Be cautious of filtering and epoching around these events.\n",
      "  raw_eeg = mne.io.read_raw_eeglab(eeg_dirname + f'sub-{SUB_ID}_task-TableTennis_eeg.set', preload=True)\n",
      "/tmp/ipykernel_1155911/1650543861.py:10: RuntimeWarning: Not setting positions of 8 emg channels found in montage:\n",
      "['LISCM', 'LSSCM', 'LSTrap', 'LITrap', 'RITrap', 'RISCM', 'RSSCM', 'RSTrap']\n",
      "Consider setting the channel types to be of EEG/sEEG/ECoG/DBS/fNIRS using inst.set_channel_types before calling inst.set_montage, or omit these channels when creating your montage.\n",
      "  raw_eeg = mne.io.read_raw_eeglab(eeg_dirname + f'sub-{SUB_ID}_task-TableTennis_eeg.set', preload=True)\n"
     ]
    },
    {
     "data": {
      "application/vnd.jupyter.widget-view+json": {
       "model_id": "cb707969a1e94d5192a824527ff024d6",
       "version_major": 2,
       "version_minor": 0
      },
      "text/plain": [
       "  0%|          | 0/342 [00:00<?, ?it/s]"
      ]
     },
     "metadata": {},
     "output_type": "display_data"
    },
    {
     "name": "stdout",
     "output_type": "stream",
     "text": [
      "Reading /data/vladimiroved/realWorldTableTennis/sub-25/eeg/sub-25_task-TableTennis_eeg.fdt\n",
      "Reading 0 ... 877573  =      0.000 ...  3510.292 secs...\n"
     ]
    },
    {
     "name": "stderr",
     "output_type": "stream",
     "text": [
      "/tmp/ipykernel_1155911/1650543861.py:10: RuntimeWarning: Unknown types found, setting as type EEG:\n",
      "acc: ['CGY-x', 'CGY-y', 'CGY-z', 'CWR-x', 'CWR-y', 'CWR-z', 'NGY-x', 'NGY-y', 'NGY-z', 'NWR-x', 'NWR-y', 'NWR-z']\n",
      "cometas: ['BallMachine_Acc_X(g)', 'BallMachine_Acc_Y(g)', 'BallMachine_Acc_Z(g)', 'IMU1_RMS', 'IMU8_RMS', 'Imu_1 :W():', 'Imu_1 :X():', 'Imu_1 :Y():', 'Imu_1 :Z():', 'Imu_1_ImuGyro :X(D/s):', 'Imu_1_ImuGyro :Y(D/s):', 'Imu_1_ImuGyro :Z(D/s):', 'Imu_1_ImuMag :X(uT):', 'Imu_1_ImuMag :Y(uT):', 'Imu_1_ImuMag :Z(uT):', 'Imu_2 :W():', 'Imu_2 :X():', 'Imu_2 :Y():', 'Imu_2 :Z():', 'Imu_2_ImuGyro :X(D/s):', 'Imu_2_ImuGyro :Y(D/s):', 'Imu_2_ImuGyro :Z(D/s):', 'Imu_2_ImuMag :X(uT):', 'Imu_2_ImuMag :Y(uT):', 'Imu_2_ImuMag :Z(uT):', 'Imu_4 :W():', 'Imu_4 :X():', 'Imu_4 :Y():', 'Imu_4 :Z():', 'Imu_4_ImuGyro :X(D/s):', 'Imu_4_ImuGyro :Y(D/s):', 'Imu_4_ImuGyro :Z(D/s):', 'Imu_4_ImuMag :X(uT):', 'Imu_4_ImuMag :Y(uT):', 'Imu_4_ImuMag :Z(uT):', 'Imu_8 :W():', 'Imu_8 :X():', 'Imu_8 :Y():', 'Imu_8 :Z():', 'Imu_8_ImuGyro :X(D/s):', 'Imu_8_ImuGyro :Y(D/s):', 'Imu_8_ImuGyro :Z(D/s):', 'Imu_8_ImuMag :X(uT):', 'Imu_8_ImuMag :Y(uT):', 'Imu_8_ImuMag :Z(uT):', 'Imu_9 :W():', 'Imu_9 :X():', 'Imu_9 :Y():', 'Imu_9 :Z():', 'Imu_9_ImuGyro :X(D/s):', 'Imu_9_ImuGyro :Y(D/s):', 'Imu_9_ImuGyro :Z(D/s):', 'Imu_9_ImuMag :X(uT):', 'Imu_9_ImuMag :Y(uT):', 'Imu_9_ImuMag :Z(uT):', 'Net_Acc_X(g)', 'Net_Acc_Y(g)', 'Net_Acc_Z(g)', 'Participant_Backpack_Acc_X(g)', 'Participant_Backpack_Acc_Y(g)', 'Participant_Backpack_Acc_Z(g)', 'Participant_Head_Acc_X(g)', 'Participant_Head_Acc_Y(g)', 'Participant_Head_Acc_Z(g)', 'Participant_Paddle_Acc_X(g)', 'Participant_Paddle_Acc_Y(g)', 'Participant_Paddle_Acc_Z(g)', 'Participant_Torso_Acc_X(g)', 'Participant_Torso_Acc_Y(g)', 'Participant_Torso_Acc_Z(g)', 'Researcher_Paddle_Acc_X(g)', 'Researcher_Paddle_Acc_Y(g)', 'Researcher_Paddle_Acc_Z(g)', 'SyncPulse(uV)', 'Table_OtherSide_Acc_X(g)', 'Table_OtherSide_Acc_Y(g)', 'Table_OtherSide_Acc_Z(g)', 'Table_ParticipantSide_Acc_X(g)', 'Table_ParticipantSide_Acc_Y(g)', 'Table_ParticipantSide_Acc_Z(g)']\n",
      "noise: ['N-AF3', 'N-AF4', 'N-AF7', 'N-AF8', 'N-AFF1h', 'N-AFF2h', 'N-AFF5h', 'N-AFF6h', 'N-AFp1', 'N-AFp2', 'N-AFz', 'N-C1', 'N-C2', 'N-C3', 'N-C4', 'N-C5', 'N-C6', 'N-CCP1h', 'N-CCP2h', 'N-CCP3h', 'N-CCP4h', 'N-CCP5h', 'N-CCP6h', 'N-CP1', 'N-CP2', 'N-CP3', 'N-CP4', 'N-CP5', 'N-CP6', 'N-CPP1h', 'N-CPP2h', 'N-CPP3h', 'N-CPP4h', 'N-CPP5h', 'N-CPP6h', 'N-Cz', 'N-F1', 'N-F10', 'N-F2', 'N-F3', 'N-F4', 'N-F5', 'N-F6', 'N-F7', 'N-F8', 'N-F9', 'N-FC1', 'N-FC2', 'N-FC3', 'N-FC4', 'N-FC5', 'N-FC6', 'N-FCC1h', 'N-FCC2h', 'N-FCC3h', 'N-FCC4h', 'N-FCC5h', 'N-FCC6h', 'N-FCz', 'N-FFC1h', 'N-FFC2h', 'N-FFC3h', 'N-FFC4h', 'N-FFC5h', 'N-FFC6h', 'N-FFT10h', 'N-FFT7h', 'N-FFT8h', 'N-FFT9h', 'N-FP2', 'N-FT10', 'N-FT7', 'N-FT8', 'N-FT9', 'N-FTT10h', 'N-FTT7h', 'N-FTT8h', 'N-FTT9h', 'N-Fp1', 'N-Fz', 'N-Iz', 'N-O1', 'N-O2', 'N-OI1h', 'N-OI2h', 'N-Oz', 'N-P1', 'N-P2', 'N-P3', 'N-P4', 'N-P5', 'N-P6', 'N-P7', 'N-P8', 'N-PO3', 'N-PO4', 'N-PO7', 'N-PO8', 'N-POO1', 'N-POO10h', 'N-POO2', 'N-POO9h', 'N-POz', 'N-PPO10h', 'N-PPO1h', 'N-PPO2h', 'N-PPO5h', 'N-PPO6h', 'N-PPO9h', 'N-Pz', 'N-T7', 'N-T8', 'N-TP7', 'N-TP8', 'N-TPP10h', 'N-TPP7h', 'N-TPP8h', 'N-TPP9h', 'N-TTP7h', 'N-TTP8h']\n",
      "  raw_eeg = mne.io.read_raw_eeglab(eeg_dirname + f'sub-{SUB_ID}_task-TableTennis_eeg.set', preload=True)\n",
      "/tmp/ipykernel_1155911/1650543861.py:10: RuntimeWarning: Estimated head radius (12.1 cm) is above the 99th percentile for adult head size. Check if the montage_units argument is correct (the default is \"mm\", but your channel positions may be in different units).\n",
      "  raw_eeg = mne.io.read_raw_eeglab(eeg_dirname + f'sub-{SUB_ID}_task-TableTennis_eeg.set', preload=True)\n",
      "/tmp/ipykernel_1155911/1650543861.py:10: RuntimeWarning: Data file name in EEG.data (sub-25_task-tabletennis_eeg.fdt) is incorrect, the file name must have changed on disk, using the correct file name (sub-25_task-TableTennis_eeg.fdt).\n",
      "  raw_eeg = mne.io.read_raw_eeglab(eeg_dirname + f'sub-{SUB_ID}_task-TableTennis_eeg.set', preload=True)\n"
     ]
    },
    {
     "name": "stdout",
     "output_type": "stream",
     "text": [
      "NOTE: pick_channels() is a legacy function. New code should use inst.pick(...).\n"
     ]
    },
    {
     "name": "stderr",
     "output_type": "stream",
     "text": [
      "/tmp/ipykernel_1155911/1650543861.py:10: RuntimeWarning: Omitted 1 annotation(s) that were outside data range.\n",
      "  raw_eeg = mne.io.read_raw_eeglab(eeg_dirname + f'sub-{SUB_ID}_task-TableTennis_eeg.set', preload=True)\n",
      "/tmp/ipykernel_1155911/1650543861.py:10: RuntimeWarning: The data contains 'boundary' events, indicating data discontinuities. Be cautious of filtering and epoching around these events.\n",
      "  raw_eeg = mne.io.read_raw_eeglab(eeg_dirname + f'sub-{SUB_ID}_task-TableTennis_eeg.set', preload=True)\n",
      "/tmp/ipykernel_1155911/1650543861.py:10: RuntimeWarning: Not setting positions of 8 emg channels found in montage:\n",
      "['LISCM', 'LSSCM', 'LSTrap', 'LITrap', 'RITrap', 'RISCM', 'RSSCM', 'RSTrap']\n",
      "Consider setting the channel types to be of EEG/sEEG/ECoG/DBS/fNIRS using inst.set_channel_types before calling inst.set_montage, or omit these channels when creating your montage.\n",
      "  raw_eeg = mne.io.read_raw_eeglab(eeg_dirname + f'sub-{SUB_ID}_task-TableTennis_eeg.set', preload=True)\n"
     ]
    },
    {
     "data": {
      "application/vnd.jupyter.widget-view+json": {
       "model_id": "543be2bf143e4327a68f57885de89a90",
       "version_major": 2,
       "version_minor": 0
      },
      "text/plain": [
       "  0%|          | 0/36255 [00:00<?, ?it/s]"
      ]
     },
     "metadata": {},
     "output_type": "display_data"
    }
   ],
   "source": [
    "!mkdir -p human-player/shifts_v3\n",
    "SUB_IDS = ['0' * (n < 10) + str(n) for n in range(1, 26)]\n",
    "\n",
    "for SUB_ID in tqdm(SUB_IDS):\n",
    "    eeg_dirname = os.path.join(DATA_PATH, f'sub-{SUB_ID}', 'eeg/')\n",
    "    \n",
    "    channels_df = pd.read_csv(eeg_dirname + f'sub-{SUB_ID}_task-TableTennis_channels.tsv', sep='\\t')\n",
    "    events_df = pd.read_csv(eeg_dirname + f'sub-{SUB_ID}_task-TableTennis_events.tsv', sep='\\t')\n",
    "    \n",
    "    raw_eeg = mne.io.read_raw_eeglab(eeg_dirname + f'sub-{SUB_ID}_task-TableTennis_eeg.set', preload=True)\n",
    "\n",
    "    events_subdf = events_df\\\n",
    "        .query(\"value in ('Subject_hit', 'Subject_receive')\")\\\n",
    "        .query(\"trial_type in ('competitive', 'cooperative')\") \n",
    "    \n",
    "    participant_acc_channels = [\n",
    "        'Participant_Paddle_Acc_X(g)',\n",
    "        'Participant_Paddle_Acc_Y(g)',\n",
    "        'Participant_Paddle_Acc_Z(g)'\n",
    "    ]\n",
    "    researcher_acc_channels = [\n",
    "        'Researcher_Paddle_Acc_X(g)',\n",
    "        'Researcher_Paddle_Acc_Y(g)',\n",
    "        'Researcher_Paddle_Acc_Z(g)'\n",
    "    ]\n",
    "    acc_channels = participant_acc_channels + researcher_acc_channels\n",
    "    acc_data = raw_eeg.pick_channels(acc_channels)\n",
    "    acc_values = acc_data.get_data()\n",
    "    acc_ttl_data = np.sqrt(np.sum(np.square(acc_values[3:]), axis=0))\n",
    "    \n",
    "    labels_data = np.zeros_like(acc_ttl_data)\n",
    "    hit_indices = (events_df.query(\"value == 'Subject_receive'\")['sample'] + 0.5).astype(int)\n",
    "    labels_data[hit_indices.values] = 1\n",
    "    max_shift = acc_ttl_data.size - events_df['sample'].astype(int).max()\n",
    "\n",
    "    def calculate_corr(i):\n",
    "        return np.corrcoef(acc_ttl_data[i:], labels_data[:labels_data.size-i])[0, 1]\n",
    "    \n",
    "    with Pool() as pool:\n",
    "        similarity_arr = list(tqdm(pool.imap(calculate_corr, range(max_shift)), total=max_shift))\n",
    "\n",
    "    sessions_arr = get_sessions_range(events_subdf)\n",
    "    peaks_arr = find_k_peaks(np.argsort(similarity_arr)[::-1], k=len(sessions_arr))\n",
    "    \n",
    "    np.savez_compressed(\n",
    "        f'human-player/shifts_v3/{SUB_ID}.npz',\n",
    "        sessions=sessions_arr,\n",
    "        peaks=peaks_arr,\n",
    "    )\n",
    "    \n",
    "    gc.collect()"
   ]
  },
  {
   "cell_type": "markdown",
   "id": "99ec75b5-b216-42b0-8c66-1330df35dcfd",
   "metadata": {},
   "source": [
    "#### Variant 4\n",
    "\n",
    "1. Find k sessions timesteps\n",
    "2. Calculate shift array for each session with researcher (k shift arrays in total)\n",
    "3. Find 1 peak for each shift array\n",
    "4. Map session to peak in ascending order"
   ]
  },
  {
   "cell_type": "code",
   "execution_count": null,
   "id": "1b965a6f-8363-491f-b698-3f410d64a69c",
   "metadata": {
    "scrolled": true
   },
   "outputs": [
    {
     "data": {
      "application/vnd.jupyter.widget-view+json": {
       "model_id": "e909dc2b961047f7ae6d1418d191b495",
       "version_major": 2,
       "version_minor": 0
      },
      "text/plain": [
       "  0%|          | 0/20 [00:00<?, ?it/s]"
      ]
     },
     "metadata": {},
     "output_type": "display_data"
    },
    {
     "name": "stdout",
     "output_type": "stream",
     "text": [
      "Reading /data/vladimiroved/realWorldTableTennis/sub-06/eeg/sub-06_task-TableTennis_eeg.fdt\n",
      "Reading 0 ... 1042908  =      0.000 ...  4171.632 secs...\n"
     ]
    },
    {
     "name": "stderr",
     "output_type": "stream",
     "text": [
      "/tmp/ipykernel_1155911/1650871764.py:11: RuntimeWarning: Unknown types found, setting as type EEG:\n",
      "acc: ['CGY-x', 'CGY-y', 'CGY-z', 'CWR-x', 'CWR-y', 'CWR-z', 'NGY-x', 'NGY-y', 'NGY-z', 'NWR-x', 'NWR-y', 'NWR-z']\n",
      "cometas: ['BallMachine_Acc_X(g)', 'BallMachine_Acc_Y(g)', 'BallMachine_Acc_Z(g)', 'Imu_2 :W():', 'Imu_2 :X():', 'Imu_2 :Y():', 'Imu_2 :Z():', 'Imu_2_ImuGyro :X(D/s):', 'Imu_2_ImuGyro :Y(D/s):', 'Imu_2_ImuGyro :Z(D/s):', 'Imu_2_ImuMag :X(uT):', 'Imu_2_ImuMag :Y(uT):', 'Imu_2_ImuMag :Z(uT):', 'Imu_3 :W():', 'Imu_3 :X():', 'Imu_3 :Y():', 'Imu_3 :Z():', 'Imu_3_ImuGyro :X(D/s):', 'Imu_3_ImuGyro :Y(D/s):', 'Imu_3_ImuGyro :Z(D/s):', 'Imu_3_ImuMag :X(uT):', 'Imu_3_ImuMag :Y(uT):', 'Imu_3_ImuMag :Z(uT):', 'Imu_4 :W():', 'Imu_4 :X():', 'Imu_4 :Y():', 'Imu_4 :Z():', 'Imu_4_ImuGyro :X(D/s):', 'Imu_4_ImuGyro :Y(D/s):', 'Imu_4_ImuGyro :Z(D/s):', 'Imu_4_ImuMag :X(uT):', 'Imu_4_ImuMag :Y(uT):', 'Imu_4_ImuMag :Z(uT):', 'Imu_5 :W():', 'Imu_5 :X():', 'Imu_5 :Y():', 'Imu_5 :Z():', 'Imu_5_ImuGyro :X(D/s):', 'Imu_5_ImuGyro :Y(D/s):', 'Imu_5_ImuGyro :Z(D/s):', 'Imu_5_ImuMag :X(uT):', 'Imu_5_ImuMag :Y(uT):', 'Imu_5_ImuMag :Z(uT):', 'Net_Acc_X(g)', 'Net_Acc_Y(g)', 'Net_Acc_Z(g)', 'Participant_Paddle_Acc_X(g)', 'Participant_Paddle_Acc_Y(g)', 'Participant_Paddle_Acc_Z(g)', 'Researcher_Paddle_Acc_X(g)', 'Researcher_Paddle_Acc_Y(g)', 'Researcher_Paddle_Acc_Z(g)', 'SyncPulse(uV)']\n",
      "noise: ['N-AF3', 'N-AF4', 'N-AF7', 'N-AF8', 'N-AFF1h', 'N-AFF2h', 'N-AFF5h', 'N-AFF6h', 'N-AFp1', 'N-AFp2', 'N-AFz', 'N-C1', 'N-C2', 'N-C3', 'N-C4', 'N-C5', 'N-C6', 'N-CCP1h', 'N-CCP2h', 'N-CCP3h', 'N-CCP4h', 'N-CCP5h', 'N-CCP6h', 'N-CP1', 'N-CP2', 'N-CP3', 'N-CP4', 'N-CP5', 'N-CP6', 'N-CPP1h', 'N-CPP2h', 'N-CPP3h', 'N-CPP4h', 'N-CPP5h', 'N-CPP6h', 'N-Cz', 'N-F1', 'N-F10', 'N-F2', 'N-F3', 'N-F4', 'N-F5', 'N-F6', 'N-F7', 'N-F8', 'N-F9', 'N-FC1', 'N-FC2', 'N-FC3', 'N-FC4', 'N-FC5', 'N-FC6', 'N-FCC1h', 'N-FCC2h', 'N-FCC3h', 'N-FCC4h', 'N-FCC5h', 'N-FCC6h', 'N-FCz', 'N-FFC1h', 'N-FFC2h', 'N-FFC3h', 'N-FFC4h', 'N-FFC5h', 'N-FFC6h', 'N-FFT10h', 'N-FFT7h', 'N-FFT8h', 'N-FFT9h', 'N-FP2', 'N-FT10', 'N-FT7', 'N-FT8', 'N-FT9', 'N-FTT10h', 'N-FTT7h', 'N-FTT8h', 'N-FTT9h', 'N-Fp1', 'N-Fz', 'N-Iz', 'N-O1', 'N-O2', 'N-OI1h', 'N-OI2h', 'N-Oz', 'N-P1', 'N-P2', 'N-P3', 'N-P4', 'N-P5', 'N-P6', 'N-P7', 'N-P8', 'N-PO3', 'N-PO4', 'N-PO7', 'N-PO8', 'N-POO1', 'N-POO10h', 'N-POO2', 'N-POO9h', 'N-POz', 'N-PPO10h', 'N-PPO1h', 'N-PPO2h', 'N-PPO5h', 'N-PPO6h', 'N-PPO9h', 'N-Pz', 'N-T7', 'N-T8', 'N-TP7', 'N-TP8', 'N-TPP10h', 'N-TPP7h', 'N-TPP8h', 'N-TPP9h', 'N-TTP7h', 'N-TTP8h']\n",
      "  raw_eeg = mne.io.read_raw_eeglab(eeg_dirname + f'sub-{SUB_ID}_task-TableTennis_eeg.set', preload=True)\n",
      "/tmp/ipykernel_1155911/1650871764.py:11: RuntimeWarning: Estimated head radius (12.2 cm) is above the 99th percentile for adult head size. Check if the montage_units argument is correct (the default is \"mm\", but your channel positions may be in different units).\n",
      "  raw_eeg = mne.io.read_raw_eeglab(eeg_dirname + f'sub-{SUB_ID}_task-TableTennis_eeg.set', preload=True)\n",
      "/tmp/ipykernel_1155911/1650871764.py:11: RuntimeWarning: Data file name in EEG.data (sub-06_task-tabletennis_eeg.fdt) is incorrect, the file name must have changed on disk, using the correct file name (sub-06_task-TableTennis_eeg.fdt).\n",
      "  raw_eeg = mne.io.read_raw_eeglab(eeg_dirname + f'sub-{SUB_ID}_task-TableTennis_eeg.set', preload=True)\n"
     ]
    },
    {
     "name": "stdout",
     "output_type": "stream",
     "text": [
      "NOTE: pick_channels() is a legacy function. New code should use inst.pick(...).\n"
     ]
    },
    {
     "name": "stderr",
     "output_type": "stream",
     "text": [
      "/tmp/ipykernel_1155911/1650871764.py:11: RuntimeWarning: Omitted 1 annotation(s) that were outside data range.\n",
      "  raw_eeg = mne.io.read_raw_eeglab(eeg_dirname + f'sub-{SUB_ID}_task-TableTennis_eeg.set', preload=True)\n",
      "/tmp/ipykernel_1155911/1650871764.py:11: RuntimeWarning: The data contains 'boundary' events, indicating data discontinuities. Be cautious of filtering and epoching around these events.\n",
      "  raw_eeg = mne.io.read_raw_eeglab(eeg_dirname + f'sub-{SUB_ID}_task-TableTennis_eeg.set', preload=True)\n",
      "/tmp/ipykernel_1155911/1650871764.py:11: RuntimeWarning: Not setting positions of 8 emg channels found in montage:\n",
      "['LISCM', 'LSSCM', 'LSTrap', 'LITrap', 'RITrap', 'RISCM', 'RSSCM', 'RSTrap']\n",
      "Consider setting the channel types to be of EEG/sEEG/ECoG/DBS/fNIRS using inst.set_channel_types before calling inst.set_montage, or omit these channels when creating your montage.\n",
      "  raw_eeg = mne.io.read_raw_eeglab(eeg_dirname + f'sub-{SUB_ID}_task-TableTennis_eeg.set', preload=True)\n"
     ]
    },
    {
     "data": {
      "application/vnd.jupyter.widget-view+json": {
       "model_id": "f605400e94504a1c9d99dea3d8b3a5e2",
       "version_major": 2,
       "version_minor": 0
      },
      "text/plain": [
       "  0%|          | 0/58989 [00:00<?, ?it/s]"
      ]
     },
     "metadata": {},
     "output_type": "display_data"
    },
    {
     "data": {
      "application/vnd.jupyter.widget-view+json": {
       "model_id": "f7b2a35bd3fe41aaaed3db1417338c9f",
       "version_major": 2,
       "version_minor": 0
      },
      "text/plain": [
       "  0%|          | 0/58989 [00:00<?, ?it/s]"
      ]
     },
     "metadata": {},
     "output_type": "display_data"
    },
    {
     "data": {
      "application/vnd.jupyter.widget-view+json": {
       "model_id": "828c7ace69ab4b3a9cae50d6c7db29c3",
       "version_major": 2,
       "version_minor": 0
      },
      "text/plain": [
       "  0%|          | 0/58989 [00:00<?, ?it/s]"
      ]
     },
     "metadata": {},
     "output_type": "display_data"
    },
    {
     "name": "stdout",
     "output_type": "stream",
     "text": [
      "Reading /data/vladimiroved/realWorldTableTennis/sub-07/eeg/sub-07_task-TableTennis_eeg.fdt\n",
      "Reading 0 ... 1174502  =      0.000 ...  4698.008 secs...\n"
     ]
    },
    {
     "name": "stderr",
     "output_type": "stream",
     "text": [
      "/tmp/ipykernel_1155911/1650871764.py:11: RuntimeWarning: Unknown types found, setting as type EEG:\n",
      "acc: ['CGY-x', 'CGY-y', 'CGY-z', 'CWR-x', 'CWR-y', 'CWR-z', 'NGY-x', 'NGY-y', 'NGY-z', 'NWR-x', 'NWR-y', 'NWR-z']\n",
      "cometas: ['BallMachine_Acc_X(g)', 'BallMachine_Acc_Y(g)', 'BallMachine_Acc_Z(g)', 'Imu_2 :W():', 'Imu_2 :X():', 'Imu_2 :Y():', 'Imu_2 :Z():', 'Imu_2_ImuGyro :X(D/s):', 'Imu_2_ImuGyro :Y(D/s):', 'Imu_2_ImuGyro :Z(D/s):', 'Imu_2_ImuMag :X(uT):', 'Imu_2_ImuMag :Y(uT):', 'Imu_2_ImuMag :Z(uT):', 'Imu_4 :W():', 'Imu_4 :X():', 'Imu_4 :Y():', 'Imu_4 :Z():', 'Imu_4_ImuGyro :X(D/s):', 'Imu_4_ImuGyro :Y(D/s):', 'Imu_4_ImuGyro :Z(D/s):', 'Imu_4_ImuMag :X(uT):', 'Imu_4_ImuMag :Y(uT):', 'Imu_4_ImuMag :Z(uT):', 'Net_Acc_X(g)', 'Net_Acc_Y(g)', 'Net_Acc_Z(g)', 'Participant_Paddle_Acc_X(g)', 'Participant_Paddle_Acc_Y(g)', 'Participant_Paddle_Acc_Z(g)', 'Researcher_Paddle_Acc_X(g)', 'Researcher_Paddle_Acc_Y(g)', 'Researcher_Paddle_Acc_Z(g)', 'SyncPulse(uV)', 'Table_OtherSide_Acc_X(g)', 'Table_OtherSide_Acc_Y(g)', 'Table_OtherSide_Acc_Z(g)', 'Table_ParticipantSide_Acc_X(g)', 'Table_ParticipantSide_Acc_Y(g)', 'Table_ParticipantSide_Acc_Z(g)']\n",
      "noise: ['N-AF3', 'N-AF4', 'N-AF7', 'N-AF8', 'N-AFF1h', 'N-AFF2h', 'N-AFF5h', 'N-AFF6h', 'N-AFp1', 'N-AFp2', 'N-AFz', 'N-C1', 'N-C2', 'N-C3', 'N-C4', 'N-C5', 'N-C6', 'N-CCP1h', 'N-CCP2h', 'N-CCP3h', 'N-CCP4h', 'N-CCP5h', 'N-CCP6h', 'N-CP1', 'N-CP2', 'N-CP3', 'N-CP4', 'N-CP5', 'N-CP6', 'N-CPP1h', 'N-CPP2h', 'N-CPP3h', 'N-CPP4h', 'N-CPP5h', 'N-CPP6h', 'N-Cz', 'N-F1', 'N-F10', 'N-F2', 'N-F3', 'N-F4', 'N-F5', 'N-F6', 'N-F7', 'N-F8', 'N-F9', 'N-FC1', 'N-FC2', 'N-FC3', 'N-FC4', 'N-FC5', 'N-FC6', 'N-FCC1h', 'N-FCC2h', 'N-FCC3h', 'N-FCC4h', 'N-FCC5h', 'N-FCC6h', 'N-FCz', 'N-FFC1h', 'N-FFC2h', 'N-FFC3h', 'N-FFC4h', 'N-FFC5h', 'N-FFC6h', 'N-FFT10h', 'N-FFT7h', 'N-FFT8h', 'N-FFT9h', 'N-FP2', 'N-FT10', 'N-FT7', 'N-FT8', 'N-FT9', 'N-FTT10h', 'N-FTT7h', 'N-FTT8h', 'N-FTT9h', 'N-Fp1', 'N-Fz', 'N-Iz', 'N-O1', 'N-O2', 'N-OI1h', 'N-OI2h', 'N-Oz', 'N-P1', 'N-P2', 'N-P3', 'N-P4', 'N-P5', 'N-P6', 'N-P7', 'N-P8', 'N-PO3', 'N-PO4', 'N-PO7', 'N-PO8', 'N-POO1', 'N-POO10h', 'N-POO2', 'N-POO9h', 'N-POz', 'N-PPO10h', 'N-PPO1h', 'N-PPO2h', 'N-PPO5h', 'N-PPO6h', 'N-PPO9h', 'N-Pz', 'N-T7', 'N-T8', 'N-TP7', 'N-TP8', 'N-TPP10h', 'N-TPP7h', 'N-TPP8h', 'N-TPP9h', 'N-TTP7h', 'N-TTP8h']\n",
      "  raw_eeg = mne.io.read_raw_eeglab(eeg_dirname + f'sub-{SUB_ID}_task-TableTennis_eeg.set', preload=True)\n",
      "/tmp/ipykernel_1155911/1650871764.py:11: RuntimeWarning: Estimated head radius (11.4 cm) is above the 99th percentile for adult head size. Check if the montage_units argument is correct (the default is \"mm\", but your channel positions may be in different units).\n",
      "  raw_eeg = mne.io.read_raw_eeglab(eeg_dirname + f'sub-{SUB_ID}_task-TableTennis_eeg.set', preload=True)\n",
      "/tmp/ipykernel_1155911/1650871764.py:11: RuntimeWarning: Data file name in EEG.data (sub-07_task-tabletennis_eeg.fdt) is incorrect, the file name must have changed on disk, using the correct file name (sub-07_task-TableTennis_eeg.fdt).\n",
      "  raw_eeg = mne.io.read_raw_eeglab(eeg_dirname + f'sub-{SUB_ID}_task-TableTennis_eeg.set', preload=True)\n"
     ]
    },
    {
     "name": "stdout",
     "output_type": "stream",
     "text": [
      "NOTE: pick_channels() is a legacy function. New code should use inst.pick(...).\n"
     ]
    },
    {
     "name": "stderr",
     "output_type": "stream",
     "text": [
      "/tmp/ipykernel_1155911/1650871764.py:11: RuntimeWarning: Omitted 1 annotation(s) that were outside data range.\n",
      "  raw_eeg = mne.io.read_raw_eeglab(eeg_dirname + f'sub-{SUB_ID}_task-TableTennis_eeg.set', preload=True)\n",
      "/tmp/ipykernel_1155911/1650871764.py:11: RuntimeWarning: The data contains 'boundary' events, indicating data discontinuities. Be cautious of filtering and epoching around these events.\n",
      "  raw_eeg = mne.io.read_raw_eeglab(eeg_dirname + f'sub-{SUB_ID}_task-TableTennis_eeg.set', preload=True)\n",
      "/tmp/ipykernel_1155911/1650871764.py:11: RuntimeWarning: Not setting positions of 8 emg channels found in montage:\n",
      "['LISCM', 'LSSCM', 'LSTrap', 'LITrap', 'RITrap', 'RISCM', 'RSSCM', 'RSTrap']\n",
      "Consider setting the channel types to be of EEG/sEEG/ECoG/DBS/fNIRS using inst.set_channel_types before calling inst.set_montage, or omit these channels when creating your montage.\n",
      "  raw_eeg = mne.io.read_raw_eeglab(eeg_dirname + f'sub-{SUB_ID}_task-TableTennis_eeg.set', preload=True)\n"
     ]
    },
    {
     "data": {
      "application/vnd.jupyter.widget-view+json": {
       "model_id": "09e30ea6f58f4cea8c5daac69ae6d8b9",
       "version_major": 2,
       "version_minor": 0
      },
      "text/plain": [
       "  0%|          | 0/104588 [00:00<?, ?it/s]"
      ]
     },
     "metadata": {},
     "output_type": "display_data"
    },
    {
     "data": {
      "application/vnd.jupyter.widget-view+json": {
       "model_id": "c8361e14c4024be0a3ef04d4b7b14c9c",
       "version_major": 2,
       "version_minor": 0
      },
      "text/plain": [
       "  0%|          | 0/104588 [00:00<?, ?it/s]"
      ]
     },
     "metadata": {},
     "output_type": "display_data"
    },
    {
     "data": {
      "application/vnd.jupyter.widget-view+json": {
       "model_id": "be0f8e5826984841b1048a694dbc43e1",
       "version_major": 2,
       "version_minor": 0
      },
      "text/plain": [
       "  0%|          | 0/104588 [00:00<?, ?it/s]"
      ]
     },
     "metadata": {},
     "output_type": "display_data"
    },
    {
     "data": {
      "application/vnd.jupyter.widget-view+json": {
       "model_id": "70d1e02d65654ba5afd3309cb2383d1e",
       "version_major": 2,
       "version_minor": 0
      },
      "text/plain": [
       "  0%|          | 0/104588 [00:00<?, ?it/s]"
      ]
     },
     "metadata": {},
     "output_type": "display_data"
    },
    {
     "name": "stdout",
     "output_type": "stream",
     "text": [
      "Reading /data/vladimiroved/realWorldTableTennis/sub-08/eeg/sub-08_task-TableTennis_eeg.fdt\n",
      "Reading 0 ... 1159909  =      0.000 ...  4639.636 secs...\n"
     ]
    },
    {
     "name": "stderr",
     "output_type": "stream",
     "text": [
      "/tmp/ipykernel_1155911/1650871764.py:11: RuntimeWarning: Unknown types found, setting as type EEG:\n",
      "acc: ['CGY-x', 'CGY-y', 'CGY-z', 'CWR-x', 'CWR-y', 'CWR-z', 'NGY-x', 'NGY-y', 'NGY-z', 'NWR-x', 'NWR-y', 'NWR-z']\n",
      "cometas: ['BallMachine_Acc_X(g)', 'BallMachine_Acc_Y(g)', 'BallMachine_Acc_Z(g)', 'Imu_2 :W():', 'Imu_2 :X():', 'Imu_2 :Y():', 'Imu_2 :Z():', 'Imu_2_ImuGyro :X(D/s):', 'Imu_2_ImuGyro :Y(D/s):', 'Imu_2_ImuGyro :Z(D/s):', 'Imu_2_ImuMag :X(uT):', 'Imu_2_ImuMag :Y(uT):', 'Imu_2_ImuMag :Z(uT):', 'Imu_4 :W():', 'Imu_4 :X():', 'Imu_4 :Y():', 'Imu_4 :Z():', 'Imu_4_ImuGyro :X(D/s):', 'Imu_4_ImuGyro :Y(D/s):', 'Imu_4_ImuGyro :Z(D/s):', 'Imu_4_ImuMag :X(uT):', 'Imu_4_ImuMag :Y(uT):', 'Imu_4_ImuMag :Z(uT):', 'Net_Acc_X(g)', 'Net_Acc_Y(g)', 'Net_Acc_Z(g)', 'Participant_Paddle_Acc_X(g)', 'Participant_Paddle_Acc_Y(g)', 'Participant_Paddle_Acc_Z(g)', 'Researcher_Paddle_Acc_X(g)', 'Researcher_Paddle_Acc_Y(g)', 'Researcher_Paddle_Acc_Z(g)', 'SyncPulse(uV)', 'Table_OtherSide_Acc_X(g)', 'Table_OtherSide_Acc_Y(g)', 'Table_OtherSide_Acc_Z(g)', 'Table_ParticipantSide_Acc_X(g)', 'Table_ParticipantSide_Acc_Y(g)', 'Table_ParticipantSide_Acc_Z(g)']\n",
      "noise: ['N-AF3', 'N-AF4', 'N-AF7', 'N-AF8', 'N-AFF1h', 'N-AFF2h', 'N-AFF5h', 'N-AFF6h', 'N-AFp1', 'N-AFp2', 'N-AFz', 'N-C1', 'N-C2', 'N-C3', 'N-C4', 'N-C5', 'N-C6', 'N-CCP1h', 'N-CCP2h', 'N-CCP3h', 'N-CCP4h', 'N-CCP5h', 'N-CCP6h', 'N-CP1', 'N-CP2', 'N-CP3', 'N-CP4', 'N-CP5', 'N-CP6', 'N-CPP1h', 'N-CPP2h', 'N-CPP3h', 'N-CPP4h', 'N-CPP5h', 'N-CPP6h', 'N-Cz', 'N-F1', 'N-F10', 'N-F2', 'N-F3', 'N-F4', 'N-F5', 'N-F6', 'N-F7', 'N-F8', 'N-F9', 'N-FC1', 'N-FC2', 'N-FC3', 'N-FC4', 'N-FC5', 'N-FC6', 'N-FCC1h', 'N-FCC2h', 'N-FCC3h', 'N-FCC4h', 'N-FCC5h', 'N-FCC6h', 'N-FCz', 'N-FFC1h', 'N-FFC2h', 'N-FFC3h', 'N-FFC4h', 'N-FFC5h', 'N-FFC6h', 'N-FFT10h', 'N-FFT7h', 'N-FFT8h', 'N-FFT9h', 'N-FP2', 'N-FT10', 'N-FT7', 'N-FT8', 'N-FT9', 'N-FTT10h', 'N-FTT7h', 'N-FTT8h', 'N-FTT9h', 'N-Fp1', 'N-Fz', 'N-Iz', 'N-O1', 'N-O2', 'N-OI1h', 'N-OI2h', 'N-Oz', 'N-P1', 'N-P2', 'N-P3', 'N-P4', 'N-P5', 'N-P6', 'N-P7', 'N-P8', 'N-PO3', 'N-PO4', 'N-PO7', 'N-PO8', 'N-POO1', 'N-POO10h', 'N-POO2', 'N-POO9h', 'N-POz', 'N-PPO10h', 'N-PPO1h', 'N-PPO2h', 'N-PPO5h', 'N-PPO6h', 'N-PPO9h', 'N-Pz', 'N-T7', 'N-T8', 'N-TP7', 'N-TP8', 'N-TPP10h', 'N-TPP7h', 'N-TPP8h', 'N-TPP9h', 'N-TTP7h', 'N-TTP8h']\n",
      "  raw_eeg = mne.io.read_raw_eeglab(eeg_dirname + f'sub-{SUB_ID}_task-TableTennis_eeg.set', preload=True)\n",
      "/tmp/ipykernel_1155911/1650871764.py:11: RuntimeWarning: Estimated head radius (10.9 cm) is above the 99th percentile for adult head size. Check if the montage_units argument is correct (the default is \"mm\", but your channel positions may be in different units).\n",
      "  raw_eeg = mne.io.read_raw_eeglab(eeg_dirname + f'sub-{SUB_ID}_task-TableTennis_eeg.set', preload=True)\n",
      "/tmp/ipykernel_1155911/1650871764.py:11: RuntimeWarning: Data file name in EEG.data (sub-08_task-tabletennis_eeg.fdt) is incorrect, the file name must have changed on disk, using the correct file name (sub-08_task-TableTennis_eeg.fdt).\n",
      "  raw_eeg = mne.io.read_raw_eeglab(eeg_dirname + f'sub-{SUB_ID}_task-TableTennis_eeg.set', preload=True)\n"
     ]
    },
    {
     "name": "stdout",
     "output_type": "stream",
     "text": [
      "NOTE: pick_channels() is a legacy function. New code should use inst.pick(...).\n"
     ]
    },
    {
     "name": "stderr",
     "output_type": "stream",
     "text": [
      "/tmp/ipykernel_1155911/1650871764.py:11: RuntimeWarning: Omitted 1 annotation(s) that were outside data range.\n",
      "  raw_eeg = mne.io.read_raw_eeglab(eeg_dirname + f'sub-{SUB_ID}_task-TableTennis_eeg.set', preload=True)\n",
      "/tmp/ipykernel_1155911/1650871764.py:11: RuntimeWarning: The data contains 'boundary' events, indicating data discontinuities. Be cautious of filtering and epoching around these events.\n",
      "  raw_eeg = mne.io.read_raw_eeglab(eeg_dirname + f'sub-{SUB_ID}_task-TableTennis_eeg.set', preload=True)\n",
      "/tmp/ipykernel_1155911/1650871764.py:11: RuntimeWarning: Not setting positions of 8 emg channels found in montage:\n",
      "['LISCM', 'LSSCM', 'LSTrap', 'LITrap', 'RITrap', 'RISCM', 'RSSCM', 'RSTrap']\n",
      "Consider setting the channel types to be of EEG/sEEG/ECoG/DBS/fNIRS using inst.set_channel_types before calling inst.set_montage, or omit these channels when creating your montage.\n",
      "  raw_eeg = mne.io.read_raw_eeglab(eeg_dirname + f'sub-{SUB_ID}_task-TableTennis_eeg.set', preload=True)\n"
     ]
    },
    {
     "data": {
      "application/vnd.jupyter.widget-view+json": {
       "model_id": "527c215beb654630b29cab22595c67ab",
       "version_major": 2,
       "version_minor": 0
      },
      "text/plain": [
       "  0%|          | 0/96587 [00:00<?, ?it/s]"
      ]
     },
     "metadata": {},
     "output_type": "display_data"
    },
    {
     "data": {
      "application/vnd.jupyter.widget-view+json": {
       "model_id": "0e1be2def704453c885896d0dd511d41",
       "version_major": 2,
       "version_minor": 0
      },
      "text/plain": [
       "  0%|          | 0/96587 [00:00<?, ?it/s]"
      ]
     },
     "metadata": {},
     "output_type": "display_data"
    },
    {
     "data": {
      "application/vnd.jupyter.widget-view+json": {
       "model_id": "f13b40d8b75b41b2821b1daf5d5fab47",
       "version_major": 2,
       "version_minor": 0
      },
      "text/plain": [
       "  0%|          | 0/96587 [00:00<?, ?it/s]"
      ]
     },
     "metadata": {},
     "output_type": "display_data"
    },
    {
     "name": "stdout",
     "output_type": "stream",
     "text": [
      "Reading /data/vladimiroved/realWorldTableTennis/sub-09/eeg/sub-09_task-TableTennis_eeg.fdt\n",
      "Reading 0 ... 1146678  =      0.000 ...  4586.712 secs...\n"
     ]
    },
    {
     "name": "stderr",
     "output_type": "stream",
     "text": [
      "/tmp/ipykernel_1155911/1650871764.py:11: RuntimeWarning: Unknown types found, setting as type EEG:\n",
      "acc: ['CGY-x', 'CGY-y', 'CGY-z', 'CWR-x', 'CWR-y', 'CWR-z', 'NGY-x', 'NGY-y', 'NGY-z', 'NWR-x', 'NWR-y', 'NWR-z']\n",
      "cometas: ['BallMachine_Acc_X(g)', 'BallMachine_Acc_Y(g)', 'BallMachine_Acc_Z(g)', 'Imu_1 :W():', 'Imu_1 :X():', 'Imu_1 :Y():', 'Imu_1 :Z():', 'Imu_1_ImuGyro :X(D/s):', 'Imu_1_ImuGyro :Y(D/s):', 'Imu_1_ImuGyro :Z(D/s):', 'Imu_1_ImuMag :X(uT):', 'Imu_1_ImuMag :Y(uT):', 'Imu_1_ImuMag :Z(uT):', 'Imu_2 :W():', 'Imu_2 :X():', 'Imu_2 :Y():', 'Imu_2 :Z():', 'Imu_2_ImuGyro :X(D/s):', 'Imu_2_ImuGyro :Y(D/s):', 'Imu_2_ImuGyro :Z(D/s):', 'Imu_2_ImuMag :X(uT):', 'Imu_2_ImuMag :Y(uT):', 'Imu_2_ImuMag :Z(uT):', 'Imu_4 :W():', 'Imu_4 :X():', 'Imu_4 :Y():', 'Imu_4 :Z():', 'Imu_4_ImuGyro :X(D/s):', 'Imu_4_ImuGyro :Y(D/s):', 'Imu_4_ImuGyro :Z(D/s):', 'Imu_4_ImuMag :X(uT):', 'Imu_4_ImuMag :Y(uT):', 'Imu_4_ImuMag :Z(uT):', 'Net_Acc_X(g)', 'Net_Acc_Y(g)', 'Net_Acc_Z(g)', 'Participant_Backpack_Acc_X(g)', 'Participant_Backpack_Acc_Y(g)', 'Participant_Backpack_Acc_Z(g)', 'Participant_Paddle_Acc_X(g)', 'Participant_Paddle_Acc_Y(g)', 'Participant_Paddle_Acc_Z(g)', 'Researcher_Paddle_Acc_X(g)', 'Researcher_Paddle_Acc_Y(g)', 'Researcher_Paddle_Acc_Z(g)', 'SyncPulse(uV)', 'Table_OtherSide_Acc_X(g)', 'Table_OtherSide_Acc_Y(g)', 'Table_OtherSide_Acc_Z(g)', 'Table_ParticipantSide_Acc_X(g)', 'Table_ParticipantSide_Acc_Y(g)', 'Table_ParticipantSide_Acc_Z(g)']\n",
      "noise: ['N-AF3', 'N-AF4', 'N-AF7', 'N-AF8', 'N-AFF1h', 'N-AFF2h', 'N-AFF5h', 'N-AFF6h', 'N-AFp1', 'N-AFp2', 'N-AFz', 'N-C1', 'N-C2', 'N-C3', 'N-C4', 'N-C5', 'N-C6', 'N-CCP1h', 'N-CCP2h', 'N-CCP3h', 'N-CCP4h', 'N-CCP5h', 'N-CCP6h', 'N-CP1', 'N-CP2', 'N-CP3', 'N-CP4', 'N-CP5', 'N-CP6', 'N-CPP1h', 'N-CPP2h', 'N-CPP3h', 'N-CPP4h', 'N-CPP5h', 'N-CPP6h', 'N-Cz', 'N-F1', 'N-F10', 'N-F2', 'N-F3', 'N-F4', 'N-F5', 'N-F6', 'N-F7', 'N-F8', 'N-F9', 'N-FC1', 'N-FC2', 'N-FC3', 'N-FC4', 'N-FC5', 'N-FC6', 'N-FCC1h', 'N-FCC2h', 'N-FCC3h', 'N-FCC4h', 'N-FCC5h', 'N-FCC6h', 'N-FCz', 'N-FFC1h', 'N-FFC2h', 'N-FFC3h', 'N-FFC4h', 'N-FFC5h', 'N-FFC6h', 'N-FFT10h', 'N-FFT7h', 'N-FFT8h', 'N-FFT9h', 'N-FP2', 'N-FT10', 'N-FT7', 'N-FT8', 'N-FT9', 'N-FTT10h', 'N-FTT7h', 'N-FTT8h', 'N-FTT9h', 'N-Fp1', 'N-Fz', 'N-Iz', 'N-O1', 'N-O2', 'N-OI1h', 'N-OI2h', 'N-Oz', 'N-P1', 'N-P2', 'N-P3', 'N-P4', 'N-P5', 'N-P6', 'N-P7', 'N-P8', 'N-PO3', 'N-PO4', 'N-PO7', 'N-PO8', 'N-POO1', 'N-POO10h', 'N-POO2', 'N-POO9h', 'N-POz', 'N-PPO10h', 'N-PPO1h', 'N-PPO2h', 'N-PPO5h', 'N-PPO6h', 'N-PPO9h', 'N-Pz', 'N-T7', 'N-T8', 'N-TP7', 'N-TP8', 'N-TPP10h', 'N-TPP7h', 'N-TPP8h', 'N-TPP9h', 'N-TTP7h', 'N-TTP8h']\n",
      "  raw_eeg = mne.io.read_raw_eeglab(eeg_dirname + f'sub-{SUB_ID}_task-TableTennis_eeg.set', preload=True)\n",
      "/tmp/ipykernel_1155911/1650871764.py:11: RuntimeWarning: Estimated head radius (11.7 cm) is above the 99th percentile for adult head size. Check if the montage_units argument is correct (the default is \"mm\", but your channel positions may be in different units).\n",
      "  raw_eeg = mne.io.read_raw_eeglab(eeg_dirname + f'sub-{SUB_ID}_task-TableTennis_eeg.set', preload=True)\n",
      "/tmp/ipykernel_1155911/1650871764.py:11: RuntimeWarning: Data file name in EEG.data (sub-09_task-tabletennis_eeg.fdt) is incorrect, the file name must have changed on disk, using the correct file name (sub-09_task-TableTennis_eeg.fdt).\n",
      "  raw_eeg = mne.io.read_raw_eeglab(eeg_dirname + f'sub-{SUB_ID}_task-TableTennis_eeg.set', preload=True)\n"
     ]
    },
    {
     "name": "stdout",
     "output_type": "stream",
     "text": [
      "NOTE: pick_channels() is a legacy function. New code should use inst.pick(...).\n"
     ]
    },
    {
     "name": "stderr",
     "output_type": "stream",
     "text": [
      "/tmp/ipykernel_1155911/1650871764.py:11: RuntimeWarning: Omitted 1 annotation(s) that were outside data range.\n",
      "  raw_eeg = mne.io.read_raw_eeglab(eeg_dirname + f'sub-{SUB_ID}_task-TableTennis_eeg.set', preload=True)\n",
      "/tmp/ipykernel_1155911/1650871764.py:11: RuntimeWarning: The data contains 'boundary' events, indicating data discontinuities. Be cautious of filtering and epoching around these events.\n",
      "  raw_eeg = mne.io.read_raw_eeglab(eeg_dirname + f'sub-{SUB_ID}_task-TableTennis_eeg.set', preload=True)\n",
      "/tmp/ipykernel_1155911/1650871764.py:11: RuntimeWarning: Not setting positions of 8 emg channels found in montage:\n",
      "['LISCM', 'LSSCM', 'LSTrap', 'LITrap', 'RITrap', 'RISCM', 'RSSCM', 'RSTrap']\n",
      "Consider setting the channel types to be of EEG/sEEG/ECoG/DBS/fNIRS using inst.set_channel_types before calling inst.set_montage, or omit these channels when creating your montage.\n",
      "  raw_eeg = mne.io.read_raw_eeglab(eeg_dirname + f'sub-{SUB_ID}_task-TableTennis_eeg.set', preload=True)\n"
     ]
    },
    {
     "data": {
      "application/vnd.jupyter.widget-view+json": {
       "model_id": "c3f50f285bab4040b126a3c59001f171",
       "version_major": 2,
       "version_minor": 0
      },
      "text/plain": [
       "  0%|          | 0/79593 [00:00<?, ?it/s]"
      ]
     },
     "metadata": {},
     "output_type": "display_data"
    },
    {
     "data": {
      "application/vnd.jupyter.widget-view+json": {
       "model_id": "324a25b6a28d41bb9560701c17b4464a",
       "version_major": 2,
       "version_minor": 0
      },
      "text/plain": [
       "  0%|          | 0/79593 [00:00<?, ?it/s]"
      ]
     },
     "metadata": {},
     "output_type": "display_data"
    },
    {
     "data": {
      "application/vnd.jupyter.widget-view+json": {
       "model_id": "e9750a4550a6450e969e795c3e298311",
       "version_major": 2,
       "version_minor": 0
      },
      "text/plain": [
       "  0%|          | 0/79593 [00:00<?, ?it/s]"
      ]
     },
     "metadata": {},
     "output_type": "display_data"
    },
    {
     "name": "stdout",
     "output_type": "stream",
     "text": [
      "Reading /data/vladimiroved/realWorldTableTennis/sub-10/eeg/sub-10_task-TableTennis_eeg.fdt\n",
      "Reading 0 ... 1139465  =      0.000 ...  4557.860 secs...\n"
     ]
    },
    {
     "name": "stderr",
     "output_type": "stream",
     "text": [
      "/tmp/ipykernel_1155911/1650871764.py:11: RuntimeWarning: Unknown types found, setting as type EEG:\n",
      "acc: ['CGY-x', 'CGY-y', 'CGY-z', 'CWR-x', 'CWR-y', 'CWR-z', 'NGY-x', 'NGY-y', 'NGY-z', 'NWR-x', 'NWR-y', 'NWR-z']\n",
      "cometas: ['BallMachine_Acc_X(g)', 'BallMachine_Acc_Y(g)', 'BallMachine_Acc_Z(g)', 'Imu_1 :W():', 'Imu_1 :X():', 'Imu_1 :Y():', 'Imu_1 :Z():', 'Imu_1_ImuGyro :X(D/s):', 'Imu_1_ImuGyro :Y(D/s):', 'Imu_1_ImuGyro :Z(D/s):', 'Imu_1_ImuMag :X(uT):', 'Imu_1_ImuMag :Y(uT):', 'Imu_1_ImuMag :Z(uT):', 'Imu_2 :W():', 'Imu_2 :X():', 'Imu_2 :Y():', 'Imu_2 :Z():', 'Imu_2_ImuGyro :X(D/s):', 'Imu_2_ImuGyro :Y(D/s):', 'Imu_2_ImuGyro :Z(D/s):', 'Imu_2_ImuMag :X(uT):', 'Imu_2_ImuMag :Y(uT):', 'Imu_2_ImuMag :Z(uT):', 'Imu_4 :W():', 'Imu_4 :X():', 'Imu_4 :Y():', 'Imu_4 :Z():', 'Imu_4_ImuGyro :X(D/s):', 'Imu_4_ImuGyro :Y(D/s):', 'Imu_4_ImuGyro :Z(D/s):', 'Imu_4_ImuMag :X(uT):', 'Imu_4_ImuMag :Y(uT):', 'Imu_4_ImuMag :Z(uT):', 'Net_Acc_X(g)', 'Net_Acc_Y(g)', 'Net_Acc_Z(g)', 'Participant_Backpack_Acc_X(g)', 'Participant_Backpack_Acc_Y(g)', 'Participant_Backpack_Acc_Z(g)', 'Participant_Paddle_Acc_X(g)', 'Participant_Paddle_Acc_Y(g)', 'Participant_Paddle_Acc_Z(g)', 'Researcher_Paddle_Acc_X(g)', 'Researcher_Paddle_Acc_Y(g)', 'Researcher_Paddle_Acc_Z(g)', 'SyncPulse(uV)', 'Table_OtherSide_Acc_X(g)', 'Table_OtherSide_Acc_Y(g)', 'Table_OtherSide_Acc_Z(g)', 'Table_ParticipantSide_Acc_X(g)', 'Table_ParticipantSide_Acc_Y(g)', 'Table_ParticipantSide_Acc_Z(g)']\n",
      "noise: ['N-AF3', 'N-AF4', 'N-AF7', 'N-AF8', 'N-AFF1h', 'N-AFF2h', 'N-AFF5h', 'N-AFF6h', 'N-AFp1', 'N-AFp2', 'N-AFz', 'N-C1', 'N-C2', 'N-C3', 'N-C4', 'N-C5', 'N-C6', 'N-CCP1h', 'N-CCP2h', 'N-CCP3h', 'N-CCP4h', 'N-CCP5h', 'N-CCP6h', 'N-CP1', 'N-CP2', 'N-CP3', 'N-CP4', 'N-CP5', 'N-CP6', 'N-CPP1h', 'N-CPP2h', 'N-CPP3h', 'N-CPP4h', 'N-CPP5h', 'N-CPP6h', 'N-Cz', 'N-F1', 'N-F10', 'N-F2', 'N-F3', 'N-F4', 'N-F5', 'N-F6', 'N-F7', 'N-F8', 'N-F9', 'N-FC1', 'N-FC2', 'N-FC3', 'N-FC4', 'N-FC5', 'N-FC6', 'N-FCC1h', 'N-FCC2h', 'N-FCC3h', 'N-FCC4h', 'N-FCC5h', 'N-FCC6h', 'N-FCz', 'N-FFC1h', 'N-FFC2h', 'N-FFC3h', 'N-FFC4h', 'N-FFC5h', 'N-FFC6h', 'N-FFT10h', 'N-FFT7h', 'N-FFT8h', 'N-FFT9h', 'N-FP2', 'N-FT10', 'N-FT7', 'N-FT8', 'N-FT9', 'N-FTT10h', 'N-FTT7h', 'N-FTT8h', 'N-FTT9h', 'N-Fp1', 'N-Fz', 'N-Iz', 'N-O1', 'N-O2', 'N-OI1h', 'N-OI2h', 'N-Oz', 'N-P1', 'N-P2', 'N-P3', 'N-P4', 'N-P5', 'N-P6', 'N-P7', 'N-P8', 'N-PO3', 'N-PO4', 'N-PO7', 'N-PO8', 'N-POO1', 'N-POO10h', 'N-POO2', 'N-POO9h', 'N-POz', 'N-PPO10h', 'N-PPO1h', 'N-PPO2h', 'N-PPO5h', 'N-PPO6h', 'N-PPO9h', 'N-Pz', 'N-T7', 'N-T8', 'N-TP7', 'N-TP8', 'N-TPP10h', 'N-TPP7h', 'N-TPP8h', 'N-TPP9h', 'N-TTP7h', 'N-TTP8h']\n",
      "  raw_eeg = mne.io.read_raw_eeglab(eeg_dirname + f'sub-{SUB_ID}_task-TableTennis_eeg.set', preload=True)\n",
      "/tmp/ipykernel_1155911/1650871764.py:11: RuntimeWarning: Data file name in EEG.data (sub-10_task-tabletennis_eeg.fdt) is incorrect, the file name must have changed on disk, using the correct file name (sub-10_task-TableTennis_eeg.fdt).\n",
      "  raw_eeg = mne.io.read_raw_eeglab(eeg_dirname + f'sub-{SUB_ID}_task-TableTennis_eeg.set', preload=True)\n"
     ]
    },
    {
     "name": "stdout",
     "output_type": "stream",
     "text": [
      "NOTE: pick_channels() is a legacy function. New code should use inst.pick(...).\n"
     ]
    },
    {
     "name": "stderr",
     "output_type": "stream",
     "text": [
      "/tmp/ipykernel_1155911/1650871764.py:11: RuntimeWarning: Omitted 1 annotation(s) that were outside data range.\n",
      "  raw_eeg = mne.io.read_raw_eeglab(eeg_dirname + f'sub-{SUB_ID}_task-TableTennis_eeg.set', preload=True)\n",
      "/tmp/ipykernel_1155911/1650871764.py:11: RuntimeWarning: The data contains 'boundary' events, indicating data discontinuities. Be cautious of filtering and epoching around these events.\n",
      "  raw_eeg = mne.io.read_raw_eeglab(eeg_dirname + f'sub-{SUB_ID}_task-TableTennis_eeg.set', preload=True)\n",
      "/tmp/ipykernel_1155911/1650871764.py:11: RuntimeWarning: Not setting positions of 8 emg channels found in montage:\n",
      "['LISCM', 'LSSCM', 'LSTrap', 'LITrap', 'RITrap', 'RISCM', 'RSSCM', 'RSTrap']\n",
      "Consider setting the channel types to be of EEG/sEEG/ECoG/DBS/fNIRS using inst.set_channel_types before calling inst.set_montage, or omit these channels when creating your montage.\n",
      "  raw_eeg = mne.io.read_raw_eeglab(eeg_dirname + f'sub-{SUB_ID}_task-TableTennis_eeg.set', preload=True)\n"
     ]
    },
    {
     "data": {
      "application/vnd.jupyter.widget-view+json": {
       "model_id": "9623ae92d1374e36b7b04c6811af6f49",
       "version_major": 2,
       "version_minor": 0
      },
      "text/plain": [
       "  0%|          | 0/69785 [00:00<?, ?it/s]"
      ]
     },
     "metadata": {},
     "output_type": "display_data"
    },
    {
     "data": {
      "application/vnd.jupyter.widget-view+json": {
       "model_id": "a722bcb09ffc461c9dd1ca2865b2f621",
       "version_major": 2,
       "version_minor": 0
      },
      "text/plain": [
       "  0%|          | 0/69785 [00:00<?, ?it/s]"
      ]
     },
     "metadata": {},
     "output_type": "display_data"
    },
    {
     "data": {
      "application/vnd.jupyter.widget-view+json": {
       "model_id": "c51284313fe74b0696858d5f7922a102",
       "version_major": 2,
       "version_minor": 0
      },
      "text/plain": [
       "  0%|          | 0/69785 [00:00<?, ?it/s]"
      ]
     },
     "metadata": {},
     "output_type": "display_data"
    },
    {
     "name": "stdout",
     "output_type": "stream",
     "text": [
      "Reading /data/vladimiroved/realWorldTableTennis/sub-11/eeg/sub-11_task-TableTennis_eeg.fdt\n",
      "Reading 0 ... 1104856  =      0.000 ...  4419.424 secs...\n"
     ]
    },
    {
     "name": "stderr",
     "output_type": "stream",
     "text": [
      "/tmp/ipykernel_1155911/1650871764.py:11: RuntimeWarning: Unknown types found, setting as type EEG:\n",
      "acc: ['CGY-x', 'CGY-y', 'CGY-z', 'CWR-x', 'CWR-y', 'CWR-z', 'NGY-x', 'NGY-y', 'NGY-z', 'NWR-x', 'NWR-y', 'NWR-z']\n",
      "cometas: ['BallMachine_Acc_X(g)', 'BallMachine_Acc_Y(g)', 'BallMachine_Acc_Z(g)', 'IMU1_RMS', 'Imu_1 :W():', 'Imu_1 :X():', 'Imu_1 :Y():', 'Imu_1 :Z():', 'Imu_1_ImuGyro :X(D/s):', 'Imu_1_ImuGyro :Y(D/s):', 'Imu_1_ImuGyro :Z(D/s):', 'Imu_1_ImuMag :X(uT):', 'Imu_1_ImuMag :Y(uT):', 'Imu_1_ImuMag :Z(uT):', 'Imu_2 :W():', 'Imu_2 :X():', 'Imu_2 :Y():', 'Imu_2 :Z():', 'Imu_2_ImuGyro :X(D/s):', 'Imu_2_ImuGyro :Y(D/s):', 'Imu_2_ImuGyro :Z(D/s):', 'Imu_2_ImuMag :X(uT):', 'Imu_2_ImuMag :Y(uT):', 'Imu_2_ImuMag :Z(uT):', 'Imu_4 :W():', 'Imu_4 :X():', 'Imu_4 :Y():', 'Imu_4 :Z():', 'Imu_4_ImuGyro :X(D/s):', 'Imu_4_ImuGyro :Y(D/s):', 'Imu_4_ImuGyro :Z(D/s):', 'Imu_4_ImuMag :X(uT):', 'Imu_4_ImuMag :Y(uT):', 'Imu_4_ImuMag :Z(uT):', 'Net_Acc_X(g)', 'Net_Acc_Y(g)', 'Net_Acc_Z(g)', 'Participant_Backpack_Acc_X(g)', 'Participant_Backpack_Acc_Y(g)', 'Participant_Backpack_Acc_Z(g)', 'Participant_Paddle_Acc_X(g)', 'Participant_Paddle_Acc_Y(g)', 'Participant_Paddle_Acc_Z(g)', 'Researcher_Paddle_Acc_X(g)', 'Researcher_Paddle_Acc_Y(g)', 'Researcher_Paddle_Acc_Z(g)', 'SyncPulse(uV)', 'Table_OtherSide_Acc_X(g)', 'Table_OtherSide_Acc_Y(g)', 'Table_OtherSide_Acc_Z(g)', 'Table_ParticipantSide_Acc_X(g)', 'Table_ParticipantSide_Acc_Y(g)', 'Table_ParticipantSide_Acc_Z(g)']\n",
      "noise: ['N-AF3', 'N-AF4', 'N-AF7', 'N-AF8', 'N-AFF1h', 'N-AFF2h', 'N-AFF5h', 'N-AFF6h', 'N-AFp1', 'N-AFp2', 'N-AFz', 'N-C1', 'N-C2', 'N-C3', 'N-C4', 'N-C5', 'N-C6', 'N-CCP1h', 'N-CCP2h', 'N-CCP3h', 'N-CCP4h', 'N-CCP5h', 'N-CCP6h', 'N-CP1', 'N-CP2', 'N-CP3', 'N-CP4', 'N-CP5', 'N-CP6', 'N-CPP1h', 'N-CPP2h', 'N-CPP3h', 'N-CPP4h', 'N-CPP5h', 'N-CPP6h', 'N-Cz', 'N-F1', 'N-F10', 'N-F2', 'N-F3', 'N-F4', 'N-F5', 'N-F6', 'N-F7', 'N-F8', 'N-F9', 'N-FC1', 'N-FC2', 'N-FC3', 'N-FC4', 'N-FC5', 'N-FC6', 'N-FCC1h', 'N-FCC2h', 'N-FCC3h', 'N-FCC4h', 'N-FCC5h', 'N-FCC6h', 'N-FCz', 'N-FFC1h', 'N-FFC2h', 'N-FFC3h', 'N-FFC4h', 'N-FFC5h', 'N-FFC6h', 'N-FFT10h', 'N-FFT7h', 'N-FFT8h', 'N-FFT9h', 'N-FP2', 'N-FT10', 'N-FT7', 'N-FT8', 'N-FT9', 'N-FTT10h', 'N-FTT7h', 'N-FTT8h', 'N-FTT9h', 'N-Fp1', 'N-Fz', 'N-Iz', 'N-O1', 'N-O2', 'N-OI1h', 'N-OI2h', 'N-Oz', 'N-P1', 'N-P2', 'N-P3', 'N-P4', 'N-P5', 'N-P6', 'N-P7', 'N-P8', 'N-PO3', 'N-PO4', 'N-PO7', 'N-PO8', 'N-POO1', 'N-POO10h', 'N-POO2', 'N-POO9h', 'N-POz', 'N-PPO10h', 'N-PPO1h', 'N-PPO2h', 'N-PPO5h', 'N-PPO6h', 'N-PPO9h', 'N-Pz', 'N-T7', 'N-T8', 'N-TP7', 'N-TP8', 'N-TPP10h', 'N-TPP7h', 'N-TPP8h', 'N-TPP9h', 'N-TTP7h', 'N-TTP8h']\n",
      "  raw_eeg = mne.io.read_raw_eeglab(eeg_dirname + f'sub-{SUB_ID}_task-TableTennis_eeg.set', preload=True)\n",
      "/tmp/ipykernel_1155911/1650871764.py:11: RuntimeWarning: Estimated head radius (12.1 cm) is above the 99th percentile for adult head size. Check if the montage_units argument is correct (the default is \"mm\", but your channel positions may be in different units).\n",
      "  raw_eeg = mne.io.read_raw_eeglab(eeg_dirname + f'sub-{SUB_ID}_task-TableTennis_eeg.set', preload=True)\n",
      "/tmp/ipykernel_1155911/1650871764.py:11: RuntimeWarning: Data file name in EEG.data (sub-11_task-tabletennis_eeg.fdt) is incorrect, the file name must have changed on disk, using the correct file name (sub-11_task-TableTennis_eeg.fdt).\n",
      "  raw_eeg = mne.io.read_raw_eeglab(eeg_dirname + f'sub-{SUB_ID}_task-TableTennis_eeg.set', preload=True)\n"
     ]
    },
    {
     "name": "stdout",
     "output_type": "stream",
     "text": [
      "NOTE: pick_channels() is a legacy function. New code should use inst.pick(...).\n"
     ]
    },
    {
     "name": "stderr",
     "output_type": "stream",
     "text": [
      "/tmp/ipykernel_1155911/1650871764.py:11: RuntimeWarning: Omitted 1 annotation(s) that were outside data range.\n",
      "  raw_eeg = mne.io.read_raw_eeglab(eeg_dirname + f'sub-{SUB_ID}_task-TableTennis_eeg.set', preload=True)\n",
      "/tmp/ipykernel_1155911/1650871764.py:11: RuntimeWarning: The data contains 'boundary' events, indicating data discontinuities. Be cautious of filtering and epoching around these events.\n",
      "  raw_eeg = mne.io.read_raw_eeglab(eeg_dirname + f'sub-{SUB_ID}_task-TableTennis_eeg.set', preload=True)\n",
      "/tmp/ipykernel_1155911/1650871764.py:11: RuntimeWarning: Not setting positions of 8 emg channels found in montage:\n",
      "['LISCM', 'LSSCM', 'LSTrap', 'LITrap', 'RITrap', 'RISCM', 'RSSCM', 'RSTrap']\n",
      "Consider setting the channel types to be of EEG/sEEG/ECoG/DBS/fNIRS using inst.set_channel_types before calling inst.set_montage, or omit these channels when creating your montage.\n",
      "  raw_eeg = mne.io.read_raw_eeglab(eeg_dirname + f'sub-{SUB_ID}_task-TableTennis_eeg.set', preload=True)\n"
     ]
    },
    {
     "data": {
      "application/vnd.jupyter.widget-view+json": {
       "model_id": "86593c7ef21c489da151a063a76af99f",
       "version_major": 2,
       "version_minor": 0
      },
      "text/plain": [
       "  0%|          | 0/51061 [00:00<?, ?it/s]"
      ]
     },
     "metadata": {},
     "output_type": "display_data"
    },
    {
     "data": {
      "application/vnd.jupyter.widget-view+json": {
       "model_id": "5d0cfcaeb2d7486f8e0fb8bce6c4bfc7",
       "version_major": 2,
       "version_minor": 0
      },
      "text/plain": [
       "  0%|          | 0/51061 [00:00<?, ?it/s]"
      ]
     },
     "metadata": {},
     "output_type": "display_data"
    },
    {
     "name": "stdout",
     "output_type": "stream",
     "text": [
      "Reading /data/vladimiroved/realWorldTableTennis/sub-12/eeg/sub-12_task-TableTennis_eeg.fdt\n",
      "Reading 0 ... 1111931  =      0.000 ...  4447.724 secs...\n"
     ]
    },
    {
     "name": "stderr",
     "output_type": "stream",
     "text": [
      "/tmp/ipykernel_1155911/1650871764.py:11: RuntimeWarning: Unknown types found, setting as type EEG:\n",
      "acc: ['CGY-x', 'CGY-y', 'CGY-z', 'CWR-x', 'CWR-y', 'CWR-z', 'NGY-x', 'NGY-y', 'NGY-z', 'NWR-x', 'NWR-y', 'NWR-z']\n",
      "cometas: ['BallMachine_Acc_X(g)', 'BallMachine_Acc_Y(g)', 'BallMachine_Acc_Z(g)', 'IMU1_RMS', 'Imu_1 :W():', 'Imu_1 :X():', 'Imu_1 :Y():', 'Imu_1 :Z():', 'Imu_1_ImuGyro :X(D/s):', 'Imu_1_ImuGyro :Y(D/s):', 'Imu_1_ImuGyro :Z(D/s):', 'Imu_1_ImuMag :X(uT):', 'Imu_1_ImuMag :Y(uT):', 'Imu_1_ImuMag :Z(uT):', 'Imu_2 :W():', 'Imu_2 :X():', 'Imu_2 :Y():', 'Imu_2 :Z():', 'Imu_2_ImuGyro :X(D/s):', 'Imu_2_ImuGyro :Y(D/s):', 'Imu_2_ImuGyro :Z(D/s):', 'Imu_2_ImuMag :X(uT):', 'Imu_2_ImuMag :Y(uT):', 'Imu_2_ImuMag :Z(uT):', 'Imu_4 :W():', 'Imu_4 :X():', 'Imu_4 :Y():', 'Imu_4 :Z():', 'Imu_4_ImuGyro :X(D/s):', 'Imu_4_ImuGyro :Y(D/s):', 'Imu_4_ImuGyro :Z(D/s):', 'Imu_4_ImuMag :X(uT):', 'Imu_4_ImuMag :Y(uT):', 'Imu_4_ImuMag :Z(uT):', 'Net_Acc_X(g)', 'Net_Acc_Y(g)', 'Net_Acc_Z(g)', 'Participant_Backpack_Acc_X(g)', 'Participant_Backpack_Acc_Y(g)', 'Participant_Backpack_Acc_Z(g)', 'Participant_Paddle_Acc_X(g)', 'Participant_Paddle_Acc_Y(g)', 'Participant_Paddle_Acc_Z(g)', 'Researcher_Paddle_Acc_X(g)', 'Researcher_Paddle_Acc_Y(g)', 'Researcher_Paddle_Acc_Z(g)', 'SyncPulse(uV)', 'Table_OtherSide_Acc_X(g)', 'Table_OtherSide_Acc_Y(g)', 'Table_OtherSide_Acc_Z(g)', 'Table_ParticipantSide_Acc_X(g)', 'Table_ParticipantSide_Acc_Y(g)', 'Table_ParticipantSide_Acc_Z(g)']\n",
      "noise: ['N-AF3', 'N-AF4', 'N-AF7', 'N-AF8', 'N-AFF1h', 'N-AFF2h', 'N-AFF5h', 'N-AFF6h', 'N-AFp1', 'N-AFp2', 'N-AFz', 'N-C1', 'N-C2', 'N-C3', 'N-C4', 'N-C5', 'N-C6', 'N-CCP1h', 'N-CCP2h', 'N-CCP3h', 'N-CCP4h', 'N-CCP5h', 'N-CCP6h', 'N-CP1', 'N-CP2', 'N-CP3', 'N-CP4', 'N-CP5', 'N-CP6', 'N-CPP1h', 'N-CPP2h', 'N-CPP3h', 'N-CPP4h', 'N-CPP5h', 'N-CPP6h', 'N-Cz', 'N-F1', 'N-F10', 'N-F2', 'N-F3', 'N-F4', 'N-F5', 'N-F6', 'N-F7', 'N-F8', 'N-F9', 'N-FC1', 'N-FC2', 'N-FC3', 'N-FC4', 'N-FC5', 'N-FC6', 'N-FCC1h', 'N-FCC2h', 'N-FCC3h', 'N-FCC4h', 'N-FCC5h', 'N-FCC6h', 'N-FCz', 'N-FFC1h', 'N-FFC2h', 'N-FFC3h', 'N-FFC4h', 'N-FFC5h', 'N-FFC6h', 'N-FFT10h', 'N-FFT7h', 'N-FFT8h', 'N-FFT9h', 'N-FP2', 'N-FT10', 'N-FT7', 'N-FT8', 'N-FT9', 'N-FTT10h', 'N-FTT7h', 'N-FTT8h', 'N-FTT9h', 'N-Fp1', 'N-Fz', 'N-Iz', 'N-O1', 'N-O2', 'N-OI1h', 'N-OI2h', 'N-Oz', 'N-P1', 'N-P2', 'N-P3', 'N-P4', 'N-P5', 'N-P6', 'N-P7', 'N-P8', 'N-PO3', 'N-PO4', 'N-PO7', 'N-PO8', 'N-POO1', 'N-POO10h', 'N-POO2', 'N-POO9h', 'N-POz', 'N-PPO10h', 'N-PPO1h', 'N-PPO2h', 'N-PPO5h', 'N-PPO6h', 'N-PPO9h', 'N-Pz', 'N-T7', 'N-T8', 'N-TP7', 'N-TP8', 'N-TPP10h', 'N-TPP7h', 'N-TPP8h', 'N-TPP9h', 'N-TTP7h', 'N-TTP8h']\n",
      "  raw_eeg = mne.io.read_raw_eeglab(eeg_dirname + f'sub-{SUB_ID}_task-TableTennis_eeg.set', preload=True)\n",
      "/tmp/ipykernel_1155911/1650871764.py:11: RuntimeWarning: Data file name in EEG.data (sub-12_task-tabletennis_eeg.fdt) is incorrect, the file name must have changed on disk, using the correct file name (sub-12_task-TableTennis_eeg.fdt).\n",
      "  raw_eeg = mne.io.read_raw_eeglab(eeg_dirname + f'sub-{SUB_ID}_task-TableTennis_eeg.set', preload=True)\n"
     ]
    },
    {
     "name": "stdout",
     "output_type": "stream",
     "text": [
      "NOTE: pick_channels() is a legacy function. New code should use inst.pick(...).\n"
     ]
    },
    {
     "name": "stderr",
     "output_type": "stream",
     "text": [
      "/tmp/ipykernel_1155911/1650871764.py:11: RuntimeWarning: Omitted 1 annotation(s) that were outside data range.\n",
      "  raw_eeg = mne.io.read_raw_eeglab(eeg_dirname + f'sub-{SUB_ID}_task-TableTennis_eeg.set', preload=True)\n",
      "/tmp/ipykernel_1155911/1650871764.py:11: RuntimeWarning: The data contains 'boundary' events, indicating data discontinuities. Be cautious of filtering and epoching around these events.\n",
      "  raw_eeg = mne.io.read_raw_eeglab(eeg_dirname + f'sub-{SUB_ID}_task-TableTennis_eeg.set', preload=True)\n",
      "/tmp/ipykernel_1155911/1650871764.py:11: RuntimeWarning: Not setting positions of 8 emg channels found in montage:\n",
      "['LISCM', 'LSSCM', 'LSTrap', 'LITrap', 'RITrap', 'RISCM', 'RSSCM', 'RSTrap']\n",
      "Consider setting the channel types to be of EEG/sEEG/ECoG/DBS/fNIRS using inst.set_channel_types before calling inst.set_montage, or omit these channels when creating your montage.\n",
      "  raw_eeg = mne.io.read_raw_eeglab(eeg_dirname + f'sub-{SUB_ID}_task-TableTennis_eeg.set', preload=True)\n"
     ]
    },
    {
     "data": {
      "application/vnd.jupyter.widget-view+json": {
       "model_id": "0aeb44d28f6f4f76bc218a24f820889d",
       "version_major": 2,
       "version_minor": 0
      },
      "text/plain": [
       "  0%|          | 0/64968 [00:00<?, ?it/s]"
      ]
     },
     "metadata": {},
     "output_type": "display_data"
    },
    {
     "data": {
      "application/vnd.jupyter.widget-view+json": {
       "model_id": "089eee0b9180422cba914ceffaf5d60c",
       "version_major": 2,
       "version_minor": 0
      },
      "text/plain": [
       "  0%|          | 0/64968 [00:00<?, ?it/s]"
      ]
     },
     "metadata": {},
     "output_type": "display_data"
    },
    {
     "name": "stderr",
     "output_type": "stream",
     "text": [
      "IOPub message rate exceeded.\n",
      "The Jupyter server will temporarily stop sending output\n",
      "to the client in order to avoid crashing it.\n",
      "To change this limit, set the config variable\n",
      "`--ServerApp.iopub_msg_rate_limit`.\n",
      "\n",
      "Current values:\n",
      "ServerApp.iopub_msg_rate_limit=1000.0 (msgs/sec)\n",
      "ServerApp.rate_limit_window=3.0 (secs)\n",
      "\n"
     ]
    },
    {
     "data": {
      "application/vnd.jupyter.widget-view+json": {
       "model_id": "24013c3ef626464bac8c042364b2c2e8",
       "version_major": 2,
       "version_minor": 0
      },
      "text/plain": [
       "  0%|          | 0/58408 [00:00<?, ?it/s]"
      ]
     },
     "metadata": {},
     "output_type": "display_data"
    },
    {
     "name": "stderr",
     "output_type": "stream",
     "text": [
      "IOPub message rate exceeded.\n",
      "The Jupyter server will temporarily stop sending output\n",
      "to the client in order to avoid crashing it.\n",
      "To change this limit, set the config variable\n",
      "`--ServerApp.iopub_msg_rate_limit`.\n",
      "\n",
      "Current values:\n",
      "ServerApp.iopub_msg_rate_limit=1000.0 (msgs/sec)\n",
      "ServerApp.rate_limit_window=3.0 (secs)\n",
      "\n"
     ]
    },
    {
     "data": {
      "application/vnd.jupyter.widget-view+json": {
       "model_id": "5fc12228a325413c9650d6900a1a5d14",
       "version_major": 2,
       "version_minor": 0
      },
      "text/plain": [
       "  0%|          | 0/73918 [00:00<?, ?it/s]"
      ]
     },
     "metadata": {},
     "output_type": "display_data"
    },
    {
     "name": "stdout",
     "output_type": "stream",
     "text": [
      "Reading /data/vladimiroved/realWorldTableTennis/sub-15/eeg/sub-15_task-TableTennis_eeg.fdt\n",
      "Reading 0 ... 1105756  =      0.000 ...  4423.024 secs...\n"
     ]
    },
    {
     "name": "stderr",
     "output_type": "stream",
     "text": [
      "/tmp/ipykernel_1155911/1650871764.py:11: RuntimeWarning: Unknown types found, setting as type EEG:\n",
      "acc: ['CGY-x', 'CGY-y', 'CGY-z', 'CWR-x', 'CWR-y', 'CWR-z', 'NGY-x', 'NGY-y', 'NGY-z', 'NWR-x', 'NWR-y', 'NWR-z']\n",
      "cometas: ['BallMachine_Acc_X(g)', 'BallMachine_Acc_Y(g)', 'BallMachine_Acc_Z(g)', 'IMU1_RMS', 'Imu_1 :W():', 'Imu_1 :X():', 'Imu_1 :Y():', 'Imu_1 :Z():', 'Imu_1_ImuGyro :X(D/s):', 'Imu_1_ImuGyro :Y(D/s):', 'Imu_1_ImuGyro :Z(D/s):', 'Imu_1_ImuMag :X(uT):', 'Imu_1_ImuMag :Y(uT):', 'Imu_1_ImuMag :Z(uT):', 'Imu_2 :W():', 'Imu_2 :X():', 'Imu_2 :Y():', 'Imu_2 :Z():', 'Imu_2_ImuGyro :X(D/s):', 'Imu_2_ImuGyro :Y(D/s):', 'Imu_2_ImuGyro :Z(D/s):', 'Imu_2_ImuMag :X(uT):', 'Imu_2_ImuMag :Y(uT):', 'Imu_2_ImuMag :Z(uT):', 'Imu_4 :W():', 'Imu_4 :X():', 'Imu_4 :Y():', 'Imu_4 :Z():', 'Imu_4_ImuGyro :X(D/s):', 'Imu_4_ImuGyro :Y(D/s):', 'Imu_4_ImuGyro :Z(D/s):', 'Imu_4_ImuMag :X(uT):', 'Imu_4_ImuMag :Y(uT):', 'Imu_4_ImuMag :Z(uT):', 'Net_Acc_X(g)', 'Net_Acc_Y(g)', 'Net_Acc_Z(g)', 'Participant_Backpack_Acc_X(g)', 'Participant_Backpack_Acc_Y(g)', 'Participant_Backpack_Acc_Z(g)', 'Participant_Paddle_Acc_X(g)', 'Participant_Paddle_Acc_Y(g)', 'Participant_Paddle_Acc_Z(g)', 'Researcher_Paddle_Acc_X(g)', 'Researcher_Paddle_Acc_Y(g)', 'Researcher_Paddle_Acc_Z(g)', 'SyncPulse(uV)', 'Table_OtherSide_Acc_X(g)', 'Table_OtherSide_Acc_Y(g)', 'Table_OtherSide_Acc_Z(g)', 'Table_ParticipantSide_Acc_X(g)', 'Table_ParticipantSide_Acc_Y(g)', 'Table_ParticipantSide_Acc_Z(g)']\n",
      "noise: ['N-AF3', 'N-AF4', 'N-AF7', 'N-AF8', 'N-AFF1h', 'N-AFF2h', 'N-AFF5h', 'N-AFF6h', 'N-AFp1', 'N-AFp2', 'N-AFz', 'N-C1', 'N-C2', 'N-C3', 'N-C4', 'N-C5', 'N-C6', 'N-CCP1h', 'N-CCP2h', 'N-CCP3h', 'N-CCP4h', 'N-CCP5h', 'N-CCP6h', 'N-CP1', 'N-CP2', 'N-CP3', 'N-CP4', 'N-CP5', 'N-CP6', 'N-CPP1h', 'N-CPP2h', 'N-CPP3h', 'N-CPP4h', 'N-CPP5h', 'N-CPP6h', 'N-Cz', 'N-F1', 'N-F10', 'N-F2', 'N-F3', 'N-F4', 'N-F5', 'N-F6', 'N-F7', 'N-F8', 'N-F9', 'N-FC1', 'N-FC2', 'N-FC3', 'N-FC4', 'N-FC5', 'N-FC6', 'N-FCC1h', 'N-FCC2h', 'N-FCC3h', 'N-FCC4h', 'N-FCC5h', 'N-FCC6h', 'N-FCz', 'N-FFC1h', 'N-FFC2h', 'N-FFC3h', 'N-FFC4h', 'N-FFC5h', 'N-FFC6h', 'N-FFT10h', 'N-FFT7h', 'N-FFT8h', 'N-FFT9h', 'N-FP2', 'N-FT10', 'N-FT7', 'N-FT8', 'N-FT9', 'N-FTT10h', 'N-FTT7h', 'N-FTT8h', 'N-FTT9h', 'N-Fp1', 'N-Fz', 'N-Iz', 'N-O1', 'N-O2', 'N-OI1h', 'N-OI2h', 'N-Oz', 'N-P1', 'N-P2', 'N-P3', 'N-P4', 'N-P5', 'N-P6', 'N-P7', 'N-P8', 'N-PO3', 'N-PO4', 'N-PO7', 'N-PO8', 'N-POO1', 'N-POO10h', 'N-POO2', 'N-POO9h', 'N-POz', 'N-PPO10h', 'N-PPO1h', 'N-PPO2h', 'N-PPO5h', 'N-PPO6h', 'N-PPO9h', 'N-Pz', 'N-T7', 'N-T8', 'N-TP7', 'N-TP8', 'N-TPP10h', 'N-TPP7h', 'N-TPP8h', 'N-TPP9h', 'N-TTP7h', 'N-TTP8h']\n",
      "  raw_eeg = mne.io.read_raw_eeglab(eeg_dirname + f'sub-{SUB_ID}_task-TableTennis_eeg.set', preload=True)\n",
      "/tmp/ipykernel_1155911/1650871764.py:11: RuntimeWarning: Estimated head radius (11.1 cm) is above the 99th percentile for adult head size. Check if the montage_units argument is correct (the default is \"mm\", but your channel positions may be in different units).\n",
      "  raw_eeg = mne.io.read_raw_eeglab(eeg_dirname + f'sub-{SUB_ID}_task-TableTennis_eeg.set', preload=True)\n",
      "/tmp/ipykernel_1155911/1650871764.py:11: RuntimeWarning: Data file name in EEG.data (sub-15_task-tabletennis_eeg.fdt) is incorrect, the file name must have changed on disk, using the correct file name (sub-15_task-TableTennis_eeg.fdt).\n",
      "  raw_eeg = mne.io.read_raw_eeglab(eeg_dirname + f'sub-{SUB_ID}_task-TableTennis_eeg.set', preload=True)\n"
     ]
    },
    {
     "name": "stdout",
     "output_type": "stream",
     "text": [
      "NOTE: pick_channels() is a legacy function. New code should use inst.pick(...).\n"
     ]
    },
    {
     "name": "stderr",
     "output_type": "stream",
     "text": [
      "/tmp/ipykernel_1155911/1650871764.py:11: RuntimeWarning: Omitted 1 annotation(s) that were outside data range.\n",
      "  raw_eeg = mne.io.read_raw_eeglab(eeg_dirname + f'sub-{SUB_ID}_task-TableTennis_eeg.set', preload=True)\n",
      "/tmp/ipykernel_1155911/1650871764.py:11: RuntimeWarning: The data contains 'boundary' events, indicating data discontinuities. Be cautious of filtering and epoching around these events.\n",
      "  raw_eeg = mne.io.read_raw_eeglab(eeg_dirname + f'sub-{SUB_ID}_task-TableTennis_eeg.set', preload=True)\n",
      "/tmp/ipykernel_1155911/1650871764.py:11: RuntimeWarning: Not setting positions of 8 emg channels found in montage:\n",
      "['LISCM', 'LSSCM', 'LSTrap', 'LITrap', 'RITrap', 'RISCM', 'RSSCM', 'RSTrap']\n",
      "Consider setting the channel types to be of EEG/sEEG/ECoG/DBS/fNIRS using inst.set_channel_types before calling inst.set_montage, or omit these channels when creating your montage.\n",
      "  raw_eeg = mne.io.read_raw_eeglab(eeg_dirname + f'sub-{SUB_ID}_task-TableTennis_eeg.set', preload=True)\n"
     ]
    },
    {
     "data": {
      "application/vnd.jupyter.widget-view+json": {
       "model_id": "4ae422e7879d41e481d1605efd65cecd",
       "version_major": 2,
       "version_minor": 0
      },
      "text/plain": [
       "  0%|          | 0/56375 [00:00<?, ?it/s]"
      ]
     },
     "metadata": {},
     "output_type": "display_data"
    },
    {
     "data": {
      "application/vnd.jupyter.widget-view+json": {
       "model_id": "95ff2f4532824eb59bbb2f767b5b8bd5",
       "version_major": 2,
       "version_minor": 0
      },
      "text/plain": [
       "  0%|          | 0/56375 [00:00<?, ?it/s]"
      ]
     },
     "metadata": {},
     "output_type": "display_data"
    },
    {
     "data": {
      "application/vnd.jupyter.widget-view+json": {
       "model_id": "93fa3f47790741d5b5a82f7f848dbf2d",
       "version_major": 2,
       "version_minor": 0
      },
      "text/plain": [
       "  0%|          | 0/56375 [00:00<?, ?it/s]"
      ]
     },
     "metadata": {},
     "output_type": "display_data"
    },
    {
     "name": "stdout",
     "output_type": "stream",
     "text": [
      "Reading /data/vladimiroved/realWorldTableTennis/sub-16/eeg/sub-16_task-TableTennis_eeg.fdt\n",
      "Reading 0 ... 1151915  =      0.000 ...  4607.660 secs...\n"
     ]
    },
    {
     "name": "stderr",
     "output_type": "stream",
     "text": [
      "/tmp/ipykernel_1155911/1650871764.py:11: RuntimeWarning: Unknown types found, setting as type EEG:\n",
      "acc: ['CGY-x', 'CGY-y', 'CGY-z', 'CWR-x', 'CWR-y', 'CWR-z', 'NGY-x', 'NGY-y', 'NGY-z', 'NWR-x', 'NWR-y', 'NWR-z']\n",
      "cometas: ['BallMachine_Acc_X(g)', 'BallMachine_Acc_Y(g)', 'BallMachine_Acc_Z(g)', 'IMU1_RMS', 'Imu_1 :W():', 'Imu_1 :X():', 'Imu_1 :Y():', 'Imu_1 :Z():', 'Imu_1_ImuGyro :X(D/s):', 'Imu_1_ImuGyro :Y(D/s):', 'Imu_1_ImuGyro :Z(D/s):', 'Imu_1_ImuMag :X(uT):', 'Imu_1_ImuMag :Y(uT):', 'Imu_1_ImuMag :Z(uT):', 'Imu_2 :W():', 'Imu_2 :X():', 'Imu_2 :Y():', 'Imu_2 :Z():', 'Imu_2_ImuGyro :X(D/s):', 'Imu_2_ImuGyro :Y(D/s):', 'Imu_2_ImuGyro :Z(D/s):', 'Imu_2_ImuMag :X(uT):', 'Imu_2_ImuMag :Y(uT):', 'Imu_2_ImuMag :Z(uT):', 'Imu_4 :W():', 'Imu_4 :X():', 'Imu_4 :Y():', 'Imu_4 :Z():', 'Imu_4_ImuGyro :X(D/s):', 'Imu_4_ImuGyro :Y(D/s):', 'Imu_4_ImuGyro :Z(D/s):', 'Imu_4_ImuMag :X(uT):', 'Imu_4_ImuMag :Y(uT):', 'Imu_4_ImuMag :Z(uT):', 'Net_Acc_X(g)', 'Net_Acc_Y(g)', 'Net_Acc_Z(g)', 'Participant_Backpack_Acc_X(g)', 'Participant_Backpack_Acc_Y(g)', 'Participant_Backpack_Acc_Z(g)', 'Participant_Paddle_Acc_X(g)', 'Participant_Paddle_Acc_Y(g)', 'Participant_Paddle_Acc_Z(g)', 'Researcher_Paddle_Acc_X(g)', 'Researcher_Paddle_Acc_Y(g)', 'Researcher_Paddle_Acc_Z(g)', 'SyncPulse(uV)', 'Table_OtherSide_Acc_X(g)', 'Table_OtherSide_Acc_Y(g)', 'Table_OtherSide_Acc_Z(g)', 'Table_ParticipantSide_Acc_X(g)', 'Table_ParticipantSide_Acc_Y(g)', 'Table_ParticipantSide_Acc_Z(g)']\n",
      "noise: ['N-AF3', 'N-AF4', 'N-AF7', 'N-AF8', 'N-AFF1h', 'N-AFF2h', 'N-AFF5h', 'N-AFF6h', 'N-AFp1', 'N-AFp2', 'N-AFz', 'N-C1', 'N-C2', 'N-C3', 'N-C4', 'N-C5', 'N-C6', 'N-CCP1h', 'N-CCP2h', 'N-CCP3h', 'N-CCP4h', 'N-CCP5h', 'N-CCP6h', 'N-CP1', 'N-CP2', 'N-CP3', 'N-CP4', 'N-CP5', 'N-CP6', 'N-CPP1h', 'N-CPP2h', 'N-CPP3h', 'N-CPP4h', 'N-CPP5h', 'N-CPP6h', 'N-Cz', 'N-F1', 'N-F10', 'N-F2', 'N-F3', 'N-F4', 'N-F5', 'N-F6', 'N-F7', 'N-F8', 'N-F9', 'N-FC1', 'N-FC2', 'N-FC3', 'N-FC4', 'N-FC5', 'N-FC6', 'N-FCC1h', 'N-FCC2h', 'N-FCC3h', 'N-FCC4h', 'N-FCC5h', 'N-FCC6h', 'N-FCz', 'N-FFC1h', 'N-FFC2h', 'N-FFC3h', 'N-FFC4h', 'N-FFC5h', 'N-FFC6h', 'N-FFT10h', 'N-FFT7h', 'N-FFT8h', 'N-FFT9h', 'N-FP2', 'N-FT10', 'N-FT7', 'N-FT8', 'N-FT9', 'N-FTT10h', 'N-FTT7h', 'N-FTT8h', 'N-FTT9h', 'N-Fp1', 'N-Fz', 'N-Iz', 'N-O1', 'N-O2', 'N-OI1h', 'N-OI2h', 'N-Oz', 'N-P1', 'N-P2', 'N-P3', 'N-P4', 'N-P5', 'N-P6', 'N-P7', 'N-P8', 'N-PO3', 'N-PO4', 'N-PO7', 'N-PO8', 'N-POO1', 'N-POO10h', 'N-POO2', 'N-POO9h', 'N-POz', 'N-PPO10h', 'N-PPO1h', 'N-PPO2h', 'N-PPO5h', 'N-PPO6h', 'N-PPO9h', 'N-Pz', 'N-T7', 'N-T8', 'N-TP7', 'N-TP8', 'N-TPP10h', 'N-TPP7h', 'N-TPP8h', 'N-TPP9h', 'N-TTP7h', 'N-TTP8h']\n",
      "  raw_eeg = mne.io.read_raw_eeglab(eeg_dirname + f'sub-{SUB_ID}_task-TableTennis_eeg.set', preload=True)\n",
      "/tmp/ipykernel_1155911/1650871764.py:11: RuntimeWarning: Estimated head radius (11.6 cm) is above the 99th percentile for adult head size. Check if the montage_units argument is correct (the default is \"mm\", but your channel positions may be in different units).\n",
      "  raw_eeg = mne.io.read_raw_eeglab(eeg_dirname + f'sub-{SUB_ID}_task-TableTennis_eeg.set', preload=True)\n",
      "/tmp/ipykernel_1155911/1650871764.py:11: RuntimeWarning: Data file name in EEG.data (sub-16_task-tabletennis_eeg.fdt) is incorrect, the file name must have changed on disk, using the correct file name (sub-16_task-TableTennis_eeg.fdt).\n",
      "  raw_eeg = mne.io.read_raw_eeglab(eeg_dirname + f'sub-{SUB_ID}_task-TableTennis_eeg.set', preload=True)\n"
     ]
    },
    {
     "name": "stdout",
     "output_type": "stream",
     "text": [
      "NOTE: pick_channels() is a legacy function. New code should use inst.pick(...).\n"
     ]
    },
    {
     "name": "stderr",
     "output_type": "stream",
     "text": [
      "/tmp/ipykernel_1155911/1650871764.py:11: RuntimeWarning: Omitted 1 annotation(s) that were outside data range.\n",
      "  raw_eeg = mne.io.read_raw_eeglab(eeg_dirname + f'sub-{SUB_ID}_task-TableTennis_eeg.set', preload=True)\n",
      "/tmp/ipykernel_1155911/1650871764.py:11: RuntimeWarning: The data contains 'boundary' events, indicating data discontinuities. Be cautious of filtering and epoching around these events.\n",
      "  raw_eeg = mne.io.read_raw_eeglab(eeg_dirname + f'sub-{SUB_ID}_task-TableTennis_eeg.set', preload=True)\n",
      "/tmp/ipykernel_1155911/1650871764.py:11: RuntimeWarning: Not setting positions of 8 emg channels found in montage:\n",
      "['LISCM', 'LSSCM', 'LSTrap', 'LITrap', 'RITrap', 'RISCM', 'RSSCM', 'RSTrap']\n",
      "Consider setting the channel types to be of EEG/sEEG/ECoG/DBS/fNIRS using inst.set_channel_types before calling inst.set_montage, or omit these channels when creating your montage.\n",
      "  raw_eeg = mne.io.read_raw_eeglab(eeg_dirname + f'sub-{SUB_ID}_task-TableTennis_eeg.set', preload=True)\n"
     ]
    },
    {
     "data": {
      "application/vnd.jupyter.widget-view+json": {
       "model_id": "45c6fe63f74840b89561ac621cbb63bf",
       "version_major": 2,
       "version_minor": 0
      },
      "text/plain": [
       "  0%|          | 0/83889 [00:00<?, ?it/s]"
      ]
     },
     "metadata": {},
     "output_type": "display_data"
    },
    {
     "data": {
      "application/vnd.jupyter.widget-view+json": {
       "model_id": "74aaddc157ea47d4bdf0bf8265581727",
       "version_major": 2,
       "version_minor": 0
      },
      "text/plain": [
       "  0%|          | 0/83889 [00:00<?, ?it/s]"
      ]
     },
     "metadata": {},
     "output_type": "display_data"
    },
    {
     "data": {
      "application/vnd.jupyter.widget-view+json": {
       "model_id": "3fc633be2d9140fe89c64084c5aa74e6",
       "version_major": 2,
       "version_minor": 0
      },
      "text/plain": [
       "  0%|          | 0/83889 [00:00<?, ?it/s]"
      ]
     },
     "metadata": {},
     "output_type": "display_data"
    },
    {
     "name": "stdout",
     "output_type": "stream",
     "text": [
      "Reading /data/vladimiroved/realWorldTableTennis/sub-17/eeg/sub-17_task-TableTennis_eeg.fdt\n",
      "Reading 0 ... 1119558  =      0.000 ...  4478.232 secs...\n"
     ]
    },
    {
     "name": "stderr",
     "output_type": "stream",
     "text": [
      "/tmp/ipykernel_1155911/1650871764.py:11: RuntimeWarning: Unknown types found, setting as type EEG:\n",
      "acc: ['CGY-x', 'CGY-y', 'CGY-z', 'CWR-x', 'CWR-y', 'CWR-z', 'NGY-x', 'NGY-y', 'NGY-z', 'NWR-x', 'NWR-y', 'NWR-z']\n",
      "cometas: ['BallMachine_Acc_X(g)', 'BallMachine_Acc_Y(g)', 'BallMachine_Acc_Z(g)', 'IMU1_RMS', 'Imu_1 :W():', 'Imu_1 :X():', 'Imu_1 :Y():', 'Imu_1 :Z():', 'Imu_1_ImuGyro :X(D/s):', 'Imu_1_ImuGyro :Y(D/s):', 'Imu_1_ImuGyro :Z(D/s):', 'Imu_1_ImuMag :X(uT):', 'Imu_1_ImuMag :Y(uT):', 'Imu_1_ImuMag :Z(uT):', 'Imu_2 :W():', 'Imu_2 :X():', 'Imu_2 :Y():', 'Imu_2 :Z():', 'Imu_2_ImuGyro :X(D/s):', 'Imu_2_ImuGyro :Y(D/s):', 'Imu_2_ImuGyro :Z(D/s):', 'Imu_2_ImuMag :X(uT):', 'Imu_2_ImuMag :Y(uT):', 'Imu_2_ImuMag :Z(uT):', 'Imu_4 :W():', 'Imu_4 :X():', 'Imu_4 :Y():', 'Imu_4 :Z():', 'Imu_4_ImuGyro :X(D/s):', 'Imu_4_ImuGyro :Y(D/s):', 'Imu_4_ImuGyro :Z(D/s):', 'Imu_4_ImuMag :X(uT):', 'Imu_4_ImuMag :Y(uT):', 'Imu_4_ImuMag :Z(uT):', 'Net_Acc_X(g)', 'Net_Acc_Y(g)', 'Net_Acc_Z(g)', 'Participant_Backpack_Acc_X(g)', 'Participant_Backpack_Acc_Y(g)', 'Participant_Backpack_Acc_Z(g)', 'Participant_Paddle_Acc_X(g)', 'Participant_Paddle_Acc_Y(g)', 'Participant_Paddle_Acc_Z(g)', 'Researcher_Paddle_Acc_X(g)', 'Researcher_Paddle_Acc_Y(g)', 'Researcher_Paddle_Acc_Z(g)', 'SyncPulse(uV)', 'Table_OtherSide_Acc_X(g)', 'Table_OtherSide_Acc_Y(g)', 'Table_OtherSide_Acc_Z(g)', 'Table_ParticipantSide_Acc_X(g)', 'Table_ParticipantSide_Acc_Y(g)', 'Table_ParticipantSide_Acc_Z(g)']\n",
      "noise: ['N-AF3', 'N-AF4', 'N-AF7', 'N-AF8', 'N-AFF1h', 'N-AFF2h', 'N-AFF5h', 'N-AFF6h', 'N-AFp1', 'N-AFp2', 'N-AFz', 'N-C1', 'N-C2', 'N-C3', 'N-C4', 'N-C5', 'N-C6', 'N-CCP1h', 'N-CCP2h', 'N-CCP3h', 'N-CCP4h', 'N-CCP5h', 'N-CCP6h', 'N-CP1', 'N-CP2', 'N-CP3', 'N-CP4', 'N-CP5', 'N-CP6', 'N-CPP1h', 'N-CPP2h', 'N-CPP3h', 'N-CPP4h', 'N-CPP5h', 'N-CPP6h', 'N-Cz', 'N-F1', 'N-F10', 'N-F2', 'N-F3', 'N-F4', 'N-F5', 'N-F6', 'N-F7', 'N-F8', 'N-F9', 'N-FC1', 'N-FC2', 'N-FC3', 'N-FC4', 'N-FC5', 'N-FC6', 'N-FCC1h', 'N-FCC2h', 'N-FCC3h', 'N-FCC4h', 'N-FCC5h', 'N-FCC6h', 'N-FCz', 'N-FFC1h', 'N-FFC2h', 'N-FFC3h', 'N-FFC4h', 'N-FFC5h', 'N-FFC6h', 'N-FFT10h', 'N-FFT7h', 'N-FFT8h', 'N-FFT9h', 'N-FP2', 'N-FT10', 'N-FT7', 'N-FT8', 'N-FT9', 'N-FTT10h', 'N-FTT7h', 'N-FTT8h', 'N-FTT9h', 'N-Fp1', 'N-Fz', 'N-Iz', 'N-O1', 'N-O2', 'N-OI1h', 'N-OI2h', 'N-Oz', 'N-P1', 'N-P2', 'N-P3', 'N-P4', 'N-P5', 'N-P6', 'N-P7', 'N-P8', 'N-PO3', 'N-PO4', 'N-PO7', 'N-PO8', 'N-POO1', 'N-POO10h', 'N-POO2', 'N-POO9h', 'N-POz', 'N-PPO10h', 'N-PPO1h', 'N-PPO2h', 'N-PPO5h', 'N-PPO6h', 'N-PPO9h', 'N-Pz', 'N-T7', 'N-T8', 'N-TP7', 'N-TP8', 'N-TPP10h', 'N-TPP7h', 'N-TPP8h', 'N-TPP9h', 'N-TTP7h', 'N-TTP8h']\n",
      "  raw_eeg = mne.io.read_raw_eeglab(eeg_dirname + f'sub-{SUB_ID}_task-TableTennis_eeg.set', preload=True)\n",
      "/tmp/ipykernel_1155911/1650871764.py:11: RuntimeWarning: Estimated head radius (11.7 cm) is above the 99th percentile for adult head size. Check if the montage_units argument is correct (the default is \"mm\", but your channel positions may be in different units).\n",
      "  raw_eeg = mne.io.read_raw_eeglab(eeg_dirname + f'sub-{SUB_ID}_task-TableTennis_eeg.set', preload=True)\n",
      "/tmp/ipykernel_1155911/1650871764.py:11: RuntimeWarning: Data file name in EEG.data (sub-17_task-tabletennis_eeg.fdt) is incorrect, the file name must have changed on disk, using the correct file name (sub-17_task-TableTennis_eeg.fdt).\n",
      "  raw_eeg = mne.io.read_raw_eeglab(eeg_dirname + f'sub-{SUB_ID}_task-TableTennis_eeg.set', preload=True)\n"
     ]
    },
    {
     "name": "stdout",
     "output_type": "stream",
     "text": [
      "NOTE: pick_channels() is a legacy function. New code should use inst.pick(...).\n"
     ]
    },
    {
     "name": "stderr",
     "output_type": "stream",
     "text": [
      "/tmp/ipykernel_1155911/1650871764.py:11: RuntimeWarning: Omitted 1 annotation(s) that were outside data range.\n",
      "  raw_eeg = mne.io.read_raw_eeglab(eeg_dirname + f'sub-{SUB_ID}_task-TableTennis_eeg.set', preload=True)\n",
      "/tmp/ipykernel_1155911/1650871764.py:11: RuntimeWarning: The data contains 'boundary' events, indicating data discontinuities. Be cautious of filtering and epoching around these events.\n",
      "  raw_eeg = mne.io.read_raw_eeglab(eeg_dirname + f'sub-{SUB_ID}_task-TableTennis_eeg.set', preload=True)\n",
      "/tmp/ipykernel_1155911/1650871764.py:11: RuntimeWarning: Not setting positions of 8 emg channels found in montage:\n",
      "['LISCM', 'LSSCM', 'LSTrap', 'LITrap', 'RITrap', 'RISCM', 'RSSCM', 'RSTrap']\n",
      "Consider setting the channel types to be of EEG/sEEG/ECoG/DBS/fNIRS using inst.set_channel_types before calling inst.set_montage, or omit these channels when creating your montage.\n",
      "  raw_eeg = mne.io.read_raw_eeglab(eeg_dirname + f'sub-{SUB_ID}_task-TableTennis_eeg.set', preload=True)\n"
     ]
    },
    {
     "data": {
      "application/vnd.jupyter.widget-view+json": {
       "model_id": "44500ab90644423fab4c01e96d3292cc",
       "version_major": 2,
       "version_minor": 0
      },
      "text/plain": [
       "  0%|          | 0/61956 [00:00<?, ?it/s]"
      ]
     },
     "metadata": {},
     "output_type": "display_data"
    },
    {
     "name": "stderr",
     "output_type": "stream",
     "text": [
      "IOPub message rate exceeded.\n",
      "The Jupyter server will temporarily stop sending output\n",
      "to the client in order to avoid crashing it.\n",
      "To change this limit, set the config variable\n",
      "`--ServerApp.iopub_msg_rate_limit`.\n",
      "\n",
      "Current values:\n",
      "ServerApp.iopub_msg_rate_limit=1000.0 (msgs/sec)\n",
      "ServerApp.rate_limit_window=3.0 (secs)\n",
      "\n"
     ]
    },
    {
     "data": {
      "application/vnd.jupyter.widget-view+json": {
       "model_id": "ade065d496dc4b549f7b91ad65019bfe",
       "version_major": 2,
       "version_minor": 0
      },
      "text/plain": [
       "  0%|          | 0/100154 [00:00<?, ?it/s]"
      ]
     },
     "metadata": {},
     "output_type": "display_data"
    },
    {
     "name": "stdout",
     "output_type": "stream",
     "text": [
      "Reading /data/vladimiroved/realWorldTableTennis/sub-19/eeg/sub-19_task-TableTennis_eeg.fdt\n",
      "Reading 0 ... 1117344  =      0.000 ...  4469.376 secs...\n"
     ]
    },
    {
     "name": "stderr",
     "output_type": "stream",
     "text": [
      "/tmp/ipykernel_1155911/1650871764.py:11: RuntimeWarning: Unknown types found, setting as type EEG:\n",
      "acc: ['CGY-x', 'CGY-y', 'CGY-z', 'CWR-x', 'CWR-y', 'CWR-z', 'NGY-x', 'NGY-y', 'NGY-z', 'NWR-x', 'NWR-y', 'NWR-z']\n",
      "cometas: ['BallMachine_Acc_X(g)', 'BallMachine_Acc_Y(g)', 'BallMachine_Acc_Z(g)', 'IMU1_RMS', 'Imu_1 :W():', 'Imu_1 :X():', 'Imu_1 :Y():', 'Imu_1 :Z():', 'Imu_1_ImuGyro :X(D/s):', 'Imu_1_ImuGyro :Y(D/s):', 'Imu_1_ImuGyro :Z(D/s):', 'Imu_1_ImuMag :X(uT):', 'Imu_1_ImuMag :Y(uT):', 'Imu_1_ImuMag :Z(uT):', 'Imu_2 :W():', 'Imu_2 :X():', 'Imu_2 :Y():', 'Imu_2 :Z():', 'Imu_2_ImuGyro :X(D/s):', 'Imu_2_ImuGyro :Y(D/s):', 'Imu_2_ImuGyro :Z(D/s):', 'Imu_2_ImuMag :X(uT):', 'Imu_2_ImuMag :Y(uT):', 'Imu_2_ImuMag :Z(uT):', 'Imu_4 :W():', 'Imu_4 :X():', 'Imu_4 :Y():', 'Imu_4 :Z():', 'Imu_4_ImuGyro :X(D/s):', 'Imu_4_ImuGyro :Y(D/s):', 'Imu_4_ImuGyro :Z(D/s):', 'Imu_4_ImuMag :X(uT):', 'Imu_4_ImuMag :Y(uT):', 'Imu_4_ImuMag :Z(uT):', 'Net_Acc_X(g)', 'Net_Acc_Y(g)', 'Net_Acc_Z(g)', 'Participant_Backpack_Acc_X(g)', 'Participant_Backpack_Acc_Y(g)', 'Participant_Backpack_Acc_Z(g)', 'Participant_Paddle_Acc_X(g)', 'Participant_Paddle_Acc_Y(g)', 'Participant_Paddle_Acc_Z(g)', 'Researcher_Paddle_Acc_X(g)', 'Researcher_Paddle_Acc_Y(g)', 'Researcher_Paddle_Acc_Z(g)', 'SyncPulse(uV)', 'Table_OtherSide_Acc_X(g)', 'Table_OtherSide_Acc_Y(g)', 'Table_OtherSide_Acc_Z(g)', 'Table_ParticipantSide_Acc_X(g)', 'Table_ParticipantSide_Acc_Y(g)', 'Table_ParticipantSide_Acc_Z(g)']\n",
      "noise: ['N-AF3', 'N-AF4', 'N-AF7', 'N-AF8', 'N-AFF1h', 'N-AFF2h', 'N-AFF5h', 'N-AFF6h', 'N-AFp1', 'N-AFp2', 'N-AFz', 'N-C1', 'N-C2', 'N-C3', 'N-C4', 'N-C5', 'N-C6', 'N-CCP1h', 'N-CCP2h', 'N-CCP3h', 'N-CCP4h', 'N-CCP5h', 'N-CCP6h', 'N-CP1', 'N-CP2', 'N-CP3', 'N-CP4', 'N-CP5', 'N-CP6', 'N-CPP1h', 'N-CPP2h', 'N-CPP3h', 'N-CPP4h', 'N-CPP5h', 'N-CPP6h', 'N-Cz', 'N-F1', 'N-F10', 'N-F2', 'N-F3', 'N-F4', 'N-F5', 'N-F6', 'N-F7', 'N-F8', 'N-F9', 'N-FC1', 'N-FC2', 'N-FC3', 'N-FC4', 'N-FC5', 'N-FC6', 'N-FCC1h', 'N-FCC2h', 'N-FCC3h', 'N-FCC4h', 'N-FCC5h', 'N-FCC6h', 'N-FCz', 'N-FFC1h', 'N-FFC2h', 'N-FFC3h', 'N-FFC4h', 'N-FFC5h', 'N-FFC6h', 'N-FFT10h', 'N-FFT7h', 'N-FFT8h', 'N-FFT9h', 'N-FP2', 'N-FT10', 'N-FT7', 'N-FT8', 'N-FT9', 'N-FTT10h', 'N-FTT7h', 'N-FTT8h', 'N-FTT9h', 'N-Fp1', 'N-Fz', 'N-Iz', 'N-O1', 'N-O2', 'N-OI1h', 'N-OI2h', 'N-Oz', 'N-P1', 'N-P2', 'N-P3', 'N-P4', 'N-P5', 'N-P6', 'N-P7', 'N-P8', 'N-PO3', 'N-PO4', 'N-PO7', 'N-PO8', 'N-POO1', 'N-POO10h', 'N-POO2', 'N-POO9h', 'N-POz', 'N-PPO10h', 'N-PPO1h', 'N-PPO2h', 'N-PPO5h', 'N-PPO6h', 'N-PPO9h', 'N-Pz', 'N-T7', 'N-T8', 'N-TP7', 'N-TP8', 'N-TPP10h', 'N-TPP7h', 'N-TPP8h', 'N-TPP9h', 'N-TTP7h', 'N-TTP8h']\n",
      "  raw_eeg = mne.io.read_raw_eeglab(eeg_dirname + f'sub-{SUB_ID}_task-TableTennis_eeg.set', preload=True)\n",
      "/tmp/ipykernel_1155911/1650871764.py:11: RuntimeWarning: Estimated head radius (11.0 cm) is above the 99th percentile for adult head size. Check if the montage_units argument is correct (the default is \"mm\", but your channel positions may be in different units).\n",
      "  raw_eeg = mne.io.read_raw_eeglab(eeg_dirname + f'sub-{SUB_ID}_task-TableTennis_eeg.set', preload=True)\n",
      "/tmp/ipykernel_1155911/1650871764.py:11: RuntimeWarning: Data file name in EEG.data (sub-19_task-tabletennis_eeg.fdt) is incorrect, the file name must have changed on disk, using the correct file name (sub-19_task-TableTennis_eeg.fdt).\n",
      "  raw_eeg = mne.io.read_raw_eeglab(eeg_dirname + f'sub-{SUB_ID}_task-TableTennis_eeg.set', preload=True)\n"
     ]
    },
    {
     "name": "stdout",
     "output_type": "stream",
     "text": [
      "NOTE: pick_channels() is a legacy function. New code should use inst.pick(...).\n"
     ]
    },
    {
     "name": "stderr",
     "output_type": "stream",
     "text": [
      "/tmp/ipykernel_1155911/1650871764.py:11: RuntimeWarning: Omitted 1 annotation(s) that were outside data range.\n",
      "  raw_eeg = mne.io.read_raw_eeglab(eeg_dirname + f'sub-{SUB_ID}_task-TableTennis_eeg.set', preload=True)\n",
      "/tmp/ipykernel_1155911/1650871764.py:11: RuntimeWarning: The data contains 'boundary' events, indicating data discontinuities. Be cautious of filtering and epoching around these events.\n",
      "  raw_eeg = mne.io.read_raw_eeglab(eeg_dirname + f'sub-{SUB_ID}_task-TableTennis_eeg.set', preload=True)\n",
      "/tmp/ipykernel_1155911/1650871764.py:11: RuntimeWarning: Not setting positions of 8 emg channels found in montage:\n",
      "['LISCM', 'LSSCM', 'LSTrap', 'LITrap', 'RITrap', 'RISCM', 'RSSCM', 'RSTrap']\n",
      "Consider setting the channel types to be of EEG/sEEG/ECoG/DBS/fNIRS using inst.set_channel_types before calling inst.set_montage, or omit these channels when creating your montage.\n",
      "  raw_eeg = mne.io.read_raw_eeglab(eeg_dirname + f'sub-{SUB_ID}_task-TableTennis_eeg.set', preload=True)\n"
     ]
    },
    {
     "data": {
      "application/vnd.jupyter.widget-view+json": {
       "model_id": "dd9ff298cb6a4ae09353f38141151eb7",
       "version_major": 2,
       "version_minor": 0
      },
      "text/plain": [
       "  0%|          | 0/56880 [00:00<?, ?it/s]"
      ]
     },
     "metadata": {},
     "output_type": "display_data"
    },
    {
     "data": {
      "application/vnd.jupyter.widget-view+json": {
       "model_id": "07bae943cb524b9f998477716f479194",
       "version_major": 2,
       "version_minor": 0
      },
      "text/plain": [
       "  0%|          | 0/56880 [00:00<?, ?it/s]"
      ]
     },
     "metadata": {},
     "output_type": "display_data"
    },
    {
     "data": {
      "application/vnd.jupyter.widget-view+json": {
       "model_id": "e2a2be484e1e40e6889e897e65c10e10",
       "version_major": 2,
       "version_minor": 0
      },
      "text/plain": [
       "  0%|          | 0/56880 [00:00<?, ?it/s]"
      ]
     },
     "metadata": {},
     "output_type": "display_data"
    },
    {
     "data": {
      "application/vnd.jupyter.widget-view+json": {
       "model_id": "e0f53e2f0634417b839347ccb0a4a4df",
       "version_major": 2,
       "version_minor": 0
      },
      "text/plain": [
       "  0%|          | 0/56880 [00:00<?, ?it/s]"
      ]
     },
     "metadata": {},
     "output_type": "display_data"
    },
    {
     "name": "stdout",
     "output_type": "stream",
     "text": [
      "Reading /data/vladimiroved/realWorldTableTennis/sub-20/eeg/sub-20_task-TableTennis_eeg.fdt\n",
      "Reading 0 ... 916387  =      0.000 ...  3665.548 secs...\n"
     ]
    },
    {
     "name": "stderr",
     "output_type": "stream",
     "text": [
      "/tmp/ipykernel_1155911/1650871764.py:11: RuntimeWarning: Unknown types found, setting as type EEG:\n",
      "acc: ['CGY-x', 'CGY-y', 'CGY-z', 'CWR-x', 'CWR-y', 'CWR-z', 'NGY-x', 'NGY-y', 'NGY-z', 'NWR-x', 'NWR-y', 'NWR-z']\n",
      "cometas: ['BallMachine_Acc_X(g)', 'BallMachine_Acc_Y(g)', 'BallMachine_Acc_Z(g)', 'IMU1_RMS', 'Imu_2 :W():', 'Imu_2 :X():', 'Imu_2 :Y():', 'Imu_2 :Z():', 'Imu_2_ImuGyro :X(D/s):', 'Imu_2_ImuGyro :Y(D/s):', 'Imu_2_ImuGyro :Z(D/s):', 'Imu_2_ImuMag :X(uT):', 'Imu_2_ImuMag :Y(uT):', 'Imu_2_ImuMag :Z(uT):', 'Imu_4 :W():', 'Imu_4 :X():', 'Imu_4 :Y():', 'Imu_4 :Z():', 'Imu_4_ImuGyro :X(D/s):', 'Imu_4_ImuGyro :Y(D/s):', 'Imu_4_ImuGyro :Z(D/s):', 'Imu_4_ImuMag :X(uT):', 'Imu_4_ImuMag :Y(uT):', 'Imu_4_ImuMag :Z(uT):', 'Net_Acc_X(g)', 'Net_Acc_Y(g)', 'Net_Acc_Z(g)', 'Participant_Backpack_Acc_X(g)', 'Participant_Backpack_Acc_Y(g)', 'Participant_Backpack_Acc_Z(g)', 'Participant_Paddle_Acc_X(g)', 'Participant_Paddle_Acc_Y(g)', 'Participant_Paddle_Acc_Z(g)', 'Researcher_Paddle_Acc_X(g)', 'Researcher_Paddle_Acc_Y(g)', 'Researcher_Paddle_Acc_Z(g)', 'SyncPulse(uV)', 'Table_OtherSide_Acc_X(g)', 'Table_OtherSide_Acc_Y(g)', 'Table_OtherSide_Acc_Z(g)', 'Table_ParticipantSide_Acc_X(g)', 'Table_ParticipantSide_Acc_Y(g)', 'Table_ParticipantSide_Acc_Z(g)']\n",
      "noise: ['N-AF3', 'N-AF4', 'N-AF7', 'N-AF8', 'N-AFF1h', 'N-AFF2h', 'N-AFF5h', 'N-AFF6h', 'N-AFp1', 'N-AFp2', 'N-AFz', 'N-C1', 'N-C2', 'N-C3', 'N-C4', 'N-C5', 'N-C6', 'N-CCP1h', 'N-CCP2h', 'N-CCP3h', 'N-CCP4h', 'N-CCP5h', 'N-CCP6h', 'N-CP1', 'N-CP2', 'N-CP3', 'N-CP4', 'N-CP5', 'N-CP6', 'N-CPP1h', 'N-CPP2h', 'N-CPP3h', 'N-CPP4h', 'N-CPP5h', 'N-CPP6h', 'N-Cz', 'N-F1', 'N-F10', 'N-F2', 'N-F3', 'N-F4', 'N-F5', 'N-F6', 'N-F7', 'N-F8', 'N-F9', 'N-FC1', 'N-FC2', 'N-FC3', 'N-FC4', 'N-FC5', 'N-FC6', 'N-FCC1h', 'N-FCC2h', 'N-FCC3h', 'N-FCC4h', 'N-FCC5h', 'N-FCC6h', 'N-FCz', 'N-FFC1h', 'N-FFC2h', 'N-FFC3h', 'N-FFC4h', 'N-FFC5h', 'N-FFC6h', 'N-FFT10h', 'N-FFT7h', 'N-FFT8h', 'N-FFT9h', 'N-FP2', 'N-FT10', 'N-FT7', 'N-FT8', 'N-FT9', 'N-FTT10h', 'N-FTT7h', 'N-FTT8h', 'N-FTT9h', 'N-Fp1', 'N-Fz', 'N-Iz', 'N-O1', 'N-O2', 'N-OI1h', 'N-OI2h', 'N-Oz', 'N-P1', 'N-P2', 'N-P3', 'N-P4', 'N-P5', 'N-P6', 'N-P7', 'N-P8', 'N-PO3', 'N-PO4', 'N-PO7', 'N-PO8', 'N-POO1', 'N-POO10h', 'N-POO2', 'N-POO9h', 'N-POz', 'N-PPO10h', 'N-PPO1h', 'N-PPO2h', 'N-PPO5h', 'N-PPO6h', 'N-PPO9h', 'N-Pz', 'N-T7', 'N-T8', 'N-TP7', 'N-TP8', 'N-TPP10h', 'N-TPP7h', 'N-TPP8h', 'N-TPP9h', 'N-TTP7h', 'N-TTP8h']\n",
      "  raw_eeg = mne.io.read_raw_eeglab(eeg_dirname + f'sub-{SUB_ID}_task-TableTennis_eeg.set', preload=True)\n",
      "/tmp/ipykernel_1155911/1650871764.py:11: RuntimeWarning: Estimated head radius (11.1 cm) is above the 99th percentile for adult head size. Check if the montage_units argument is correct (the default is \"mm\", but your channel positions may be in different units).\n",
      "  raw_eeg = mne.io.read_raw_eeglab(eeg_dirname + f'sub-{SUB_ID}_task-TableTennis_eeg.set', preload=True)\n",
      "/tmp/ipykernel_1155911/1650871764.py:11: RuntimeWarning: Data file name in EEG.data (sub-20_task-tabletennis_eeg.fdt) is incorrect, the file name must have changed on disk, using the correct file name (sub-20_task-TableTennis_eeg.fdt).\n",
      "  raw_eeg = mne.io.read_raw_eeglab(eeg_dirname + f'sub-{SUB_ID}_task-TableTennis_eeg.set', preload=True)\n"
     ]
    },
    {
     "name": "stdout",
     "output_type": "stream",
     "text": [
      "NOTE: pick_channels() is a legacy function. New code should use inst.pick(...).\n"
     ]
    },
    {
     "name": "stderr",
     "output_type": "stream",
     "text": [
      "/tmp/ipykernel_1155911/1650871764.py:11: RuntimeWarning: Omitted 1 annotation(s) that were outside data range.\n",
      "  raw_eeg = mne.io.read_raw_eeglab(eeg_dirname + f'sub-{SUB_ID}_task-TableTennis_eeg.set', preload=True)\n",
      "/tmp/ipykernel_1155911/1650871764.py:11: RuntimeWarning: The data contains 'boundary' events, indicating data discontinuities. Be cautious of filtering and epoching around these events.\n",
      "  raw_eeg = mne.io.read_raw_eeglab(eeg_dirname + f'sub-{SUB_ID}_task-TableTennis_eeg.set', preload=True)\n",
      "/tmp/ipykernel_1155911/1650871764.py:11: RuntimeWarning: Not setting positions of 8 emg channels found in montage:\n",
      "['LISCM', 'LSSCM', 'LSTrap', 'LITrap', 'RITrap', 'RISCM', 'RSSCM', 'RSTrap']\n",
      "Consider setting the channel types to be of EEG/sEEG/ECoG/DBS/fNIRS using inst.set_channel_types before calling inst.set_montage, or omit these channels when creating your montage.\n",
      "  raw_eeg = mne.io.read_raw_eeglab(eeg_dirname + f'sub-{SUB_ID}_task-TableTennis_eeg.set', preload=True)\n"
     ]
    },
    {
     "data": {
      "application/vnd.jupyter.widget-view+json": {
       "model_id": "bb46b73803f947278a460ba9f8f9c0a1",
       "version_major": 2,
       "version_minor": 0
      },
      "text/plain": [
       "  0%|          | 0/69020 [00:00<?, ?it/s]"
      ]
     },
     "metadata": {},
     "output_type": "display_data"
    },
    {
     "data": {
      "application/vnd.jupyter.widget-view+json": {
       "model_id": "61b2840e9c3746c095bc3dce854293ee",
       "version_major": 2,
       "version_minor": 0
      },
      "text/plain": [
       "  0%|          | 0/69020 [00:00<?, ?it/s]"
      ]
     },
     "metadata": {},
     "output_type": "display_data"
    },
    {
     "data": {
      "application/vnd.jupyter.widget-view+json": {
       "model_id": "8411cd1c2ec6486fbaf9874c70ca068a",
       "version_major": 2,
       "version_minor": 0
      },
      "text/plain": [
       "  0%|          | 0/69020 [00:00<?, ?it/s]"
      ]
     },
     "metadata": {},
     "output_type": "display_data"
    },
    {
     "data": {
      "application/vnd.jupyter.widget-view+json": {
       "model_id": "804c8b7e9caa4dd3acce897c2c25ee63",
       "version_major": 2,
       "version_minor": 0
      },
      "text/plain": [
       "  0%|          | 0/69020 [00:00<?, ?it/s]"
      ]
     },
     "metadata": {},
     "output_type": "display_data"
    },
    {
     "name": "stdout",
     "output_type": "stream",
     "text": [
      "Reading /data/vladimiroved/realWorldTableTennis/sub-21/eeg/sub-21_task-TableTennis_eeg.fdt\n",
      "Reading 0 ... 1128360  =      0.000 ...  4513.440 secs...\n"
     ]
    },
    {
     "name": "stderr",
     "output_type": "stream",
     "text": [
      "/tmp/ipykernel_1155911/1650871764.py:11: RuntimeWarning: Unknown types found, setting as type EEG:\n",
      "acc: ['CGY-x', 'CGY-y', 'CGY-z', 'CWR-x', 'CWR-y', 'CWR-z', 'NGY-x', 'NGY-y', 'NGY-z', 'NWR-x', 'NWR-y', 'NWR-z']\n",
      "cometas: ['BallMachine_Acc_X(g)', 'BallMachine_Acc_Y(g)', 'BallMachine_Acc_Z(g)', 'IMU1_RMS', 'Imu_1 :W():', 'Imu_1 :X():', 'Imu_1 :Y():', 'Imu_1 :Z():', 'Imu_1_ImuGyro :X(D/s):', 'Imu_1_ImuGyro :Y(D/s):', 'Imu_1_ImuGyro :Z(D/s):', 'Imu_1_ImuMag :X(uT):', 'Imu_1_ImuMag :Y(uT):', 'Imu_1_ImuMag :Z(uT):', 'Imu_2 :W():', 'Imu_2 :X():', 'Imu_2 :Y():', 'Imu_2 :Z():', 'Imu_2_ImuGyro :X(D/s):', 'Imu_2_ImuGyro :Y(D/s):', 'Imu_2_ImuGyro :Z(D/s):', 'Imu_2_ImuMag :X(uT):', 'Imu_2_ImuMag :Y(uT):', 'Imu_2_ImuMag :Z(uT):', 'Imu_4 :W():', 'Imu_4 :X():', 'Imu_4 :Y():', 'Imu_4 :Z():', 'Imu_4_ImuGyro :X(D/s):', 'Imu_4_ImuGyro :Y(D/s):', 'Imu_4_ImuGyro :Z(D/s):', 'Imu_4_ImuMag :X(uT):', 'Imu_4_ImuMag :Y(uT):', 'Imu_4_ImuMag :Z(uT):', 'Net_Acc_X(g)', 'Net_Acc_Y(g)', 'Net_Acc_Z(g)', 'Participant_Backpack_Acc_X(g)', 'Participant_Backpack_Acc_Y(g)', 'Participant_Backpack_Acc_Z(g)', 'Participant_Paddle_Acc_X(g)', 'Participant_Paddle_Acc_Y(g)', 'Participant_Paddle_Acc_Z(g)', 'Researcher_Paddle_Acc_X(g)', 'Researcher_Paddle_Acc_Y(g)', 'Researcher_Paddle_Acc_Z(g)', 'SyncPulse(uV)', 'Table_OtherSide_Acc_X(g)', 'Table_OtherSide_Acc_Y(g)', 'Table_OtherSide_Acc_Z(g)', 'Table_ParticipantSide_Acc_X(g)', 'Table_ParticipantSide_Acc_Y(g)', 'Table_ParticipantSide_Acc_Z(g)']\n",
      "noise: ['N-AF3', 'N-AF4', 'N-AF7', 'N-AF8', 'N-AFF1h', 'N-AFF2h', 'N-AFF5h', 'N-AFF6h', 'N-AFp1', 'N-AFp2', 'N-AFz', 'N-C1', 'N-C2', 'N-C3', 'N-C4', 'N-C5', 'N-C6', 'N-CCP1h', 'N-CCP2h', 'N-CCP3h', 'N-CCP4h', 'N-CCP5h', 'N-CCP6h', 'N-CP1', 'N-CP2', 'N-CP3', 'N-CP4', 'N-CP5', 'N-CP6', 'N-CPP1h', 'N-CPP2h', 'N-CPP3h', 'N-CPP4h', 'N-CPP5h', 'N-CPP6h', 'N-Cz', 'N-F1', 'N-F10', 'N-F2', 'N-F3', 'N-F4', 'N-F5', 'N-F6', 'N-F7', 'N-F8', 'N-F9', 'N-FC1', 'N-FC2', 'N-FC3', 'N-FC4', 'N-FC5', 'N-FC6', 'N-FCC1h', 'N-FCC2h', 'N-FCC3h', 'N-FCC4h', 'N-FCC5h', 'N-FCC6h', 'N-FCz', 'N-FFC1h', 'N-FFC2h', 'N-FFC3h', 'N-FFC4h', 'N-FFC5h', 'N-FFC6h', 'N-FFT10h', 'N-FFT7h', 'N-FFT8h', 'N-FFT9h', 'N-FP2', 'N-FT10', 'N-FT7', 'N-FT8', 'N-FT9', 'N-FTT10h', 'N-FTT7h', 'N-FTT8h', 'N-FTT9h', 'N-Fp1', 'N-Fz', 'N-Iz', 'N-O1', 'N-O2', 'N-OI1h', 'N-OI2h', 'N-Oz', 'N-P1', 'N-P2', 'N-P3', 'N-P4', 'N-P5', 'N-P6', 'N-P7', 'N-P8', 'N-PO3', 'N-PO4', 'N-PO7', 'N-PO8', 'N-POO1', 'N-POO10h', 'N-POO2', 'N-POO9h', 'N-POz', 'N-PPO10h', 'N-PPO1h', 'N-PPO2h', 'N-PPO5h', 'N-PPO6h', 'N-PPO9h', 'N-Pz', 'N-T7', 'N-T8', 'N-TP7', 'N-TP8', 'N-TPP10h', 'N-TPP7h', 'N-TPP8h', 'N-TPP9h', 'N-TTP7h', 'N-TTP8h']\n",
      "  raw_eeg = mne.io.read_raw_eeglab(eeg_dirname + f'sub-{SUB_ID}_task-TableTennis_eeg.set', preload=True)\n",
      "/tmp/ipykernel_1155911/1650871764.py:11: RuntimeWarning: Estimated head radius (11.3 cm) is above the 99th percentile for adult head size. Check if the montage_units argument is correct (the default is \"mm\", but your channel positions may be in different units).\n",
      "  raw_eeg = mne.io.read_raw_eeglab(eeg_dirname + f'sub-{SUB_ID}_task-TableTennis_eeg.set', preload=True)\n",
      "/tmp/ipykernel_1155911/1650871764.py:11: RuntimeWarning: Data file name in EEG.data (sub-21_task-tabletennis_eeg.fdt) is incorrect, the file name must have changed on disk, using the correct file name (sub-21_task-TableTennis_eeg.fdt).\n",
      "  raw_eeg = mne.io.read_raw_eeglab(eeg_dirname + f'sub-{SUB_ID}_task-TableTennis_eeg.set', preload=True)\n"
     ]
    },
    {
     "name": "stdout",
     "output_type": "stream",
     "text": [
      "NOTE: pick_channels() is a legacy function. New code should use inst.pick(...).\n"
     ]
    },
    {
     "name": "stderr",
     "output_type": "stream",
     "text": [
      "/tmp/ipykernel_1155911/1650871764.py:11: RuntimeWarning: Omitted 1 annotation(s) that were outside data range.\n",
      "  raw_eeg = mne.io.read_raw_eeglab(eeg_dirname + f'sub-{SUB_ID}_task-TableTennis_eeg.set', preload=True)\n",
      "/tmp/ipykernel_1155911/1650871764.py:11: RuntimeWarning: The data contains 'boundary' events, indicating data discontinuities. Be cautious of filtering and epoching around these events.\n",
      "  raw_eeg = mne.io.read_raw_eeglab(eeg_dirname + f'sub-{SUB_ID}_task-TableTennis_eeg.set', preload=True)\n",
      "/tmp/ipykernel_1155911/1650871764.py:11: RuntimeWarning: Not setting positions of 8 emg channels found in montage:\n",
      "['LISCM', 'LSSCM', 'LSTrap', 'LITrap', 'RITrap', 'RISCM', 'RSSCM', 'RSTrap']\n",
      "Consider setting the channel types to be of EEG/sEEG/ECoG/DBS/fNIRS using inst.set_channel_types before calling inst.set_montage, or omit these channels when creating your montage.\n",
      "  raw_eeg = mne.io.read_raw_eeglab(eeg_dirname + f'sub-{SUB_ID}_task-TableTennis_eeg.set', preload=True)\n"
     ]
    },
    {
     "data": {
      "application/vnd.jupyter.widget-view+json": {
       "model_id": "4c90d5c18eb547bd9773be555ae40d13",
       "version_major": 2,
       "version_minor": 0
      },
      "text/plain": [
       "  0%|          | 0/63256 [00:00<?, ?it/s]"
      ]
     },
     "metadata": {},
     "output_type": "display_data"
    },
    {
     "data": {
      "application/vnd.jupyter.widget-view+json": {
       "model_id": "df095ea61fb24edc92f8a2626761ffeb",
       "version_major": 2,
       "version_minor": 0
      },
      "text/plain": [
       "  0%|          | 0/63256 [00:00<?, ?it/s]"
      ]
     },
     "metadata": {},
     "output_type": "display_data"
    },
    {
     "data": {
      "application/vnd.jupyter.widget-view+json": {
       "model_id": "e9651b4ef4ae42a8a058459077727fd4",
       "version_major": 2,
       "version_minor": 0
      },
      "text/plain": [
       "  0%|          | 0/63256 [00:00<?, ?it/s]"
      ]
     },
     "metadata": {},
     "output_type": "display_data"
    },
    {
     "name": "stdout",
     "output_type": "stream",
     "text": [
      "Reading /data/vladimiroved/realWorldTableTennis/sub-22/eeg/sub-22_task-TableTennis_eeg.fdt\n",
      "Reading 0 ... 1108946  =      0.000 ...  4435.784 secs...\n"
     ]
    },
    {
     "name": "stderr",
     "output_type": "stream",
     "text": [
      "/tmp/ipykernel_1155911/1650871764.py:11: RuntimeWarning: Unknown types found, setting as type EEG:\n",
      "acc: ['CGY-x', 'CGY-y', 'CGY-z', 'CWR-x', 'CWR-y', 'CWR-z', 'NGY-x', 'NGY-y', 'NGY-z', 'NWR-x', 'NWR-y', 'NWR-z']\n",
      "cometas: ['BallMachine_Acc_X(g)', 'BallMachine_Acc_Y(g)', 'BallMachine_Acc_Z(g)', 'IMU1_RMS', 'Imu_1 :W():', 'Imu_1 :X():', 'Imu_1 :Y():', 'Imu_1 :Z():', 'Imu_1_ImuAcc :X(g):', 'Imu_1_ImuAcc :Y(g):', 'Imu_1_ImuAcc :Z(g):', 'Imu_1_ImuGyro :X(D/s):', 'Imu_1_ImuGyro :Y(D/s):', 'Imu_1_ImuGyro :Z(D/s):', 'Imu_1_ImuMag :X(uT):', 'Imu_1_ImuMag :Y(uT):', 'Imu_1_ImuMag :Z(uT):', 'Imu_2 :W():', 'Imu_2 :X():', 'Imu_2 :Y():', 'Imu_2 :Z():', 'Imu_2_ImuGyro :X(D/s):', 'Imu_2_ImuGyro :Y(D/s):', 'Imu_2_ImuGyro :Z(D/s):', 'Imu_2_ImuMag :X(uT):', 'Imu_2_ImuMag :Y(uT):', 'Imu_2_ImuMag :Z(uT):', 'Imu_4 :W():', 'Imu_4 :X():', 'Imu_4 :Y():', 'Imu_4 :Z():', 'Imu_4_ImuGyro :X(D/s):', 'Imu_4_ImuGyro :Y(D/s):', 'Imu_4_ImuGyro :Z(D/s):', 'Imu_4_ImuMag :X(uT):', 'Imu_4_ImuMag :Y(uT):', 'Imu_4_ImuMag :Z(uT):', 'Imu_6_ImuAcc :X(g):', 'Imu_6_ImuAcc :Y(g):', 'Imu_6_ImuAcc :Z(g):', 'Imu_7_ImuAcc :X(g):', 'Imu_7_ImuAcc :Y(g):', 'Imu_7_ImuAcc :Z(g):', 'Net_Acc_X(g)', 'Net_Acc_Y(g)', 'Net_Acc_Z(g)', 'Participant_Paddle_Acc_X(g)', 'Participant_Paddle_Acc_Y(g)', 'Participant_Paddle_Acc_Z(g)', 'Researcher_Paddle_Acc_X(g)', 'Researcher_Paddle_Acc_Y(g)', 'Researcher_Paddle_Acc_Z(g)', 'SyncPulse(uV)']\n",
      "noise: ['N-AF3', 'N-AF4', 'N-AF7', 'N-AF8', 'N-AFF1h', 'N-AFF2h', 'N-AFF5h', 'N-AFF6h', 'N-AFp1', 'N-AFp2', 'N-AFz', 'N-C1', 'N-C2', 'N-C3', 'N-C4', 'N-C5', 'N-C6', 'N-CCP1h', 'N-CCP2h', 'N-CCP3h', 'N-CCP4h', 'N-CCP5h', 'N-CCP6h', 'N-CP1', 'N-CP2', 'N-CP3', 'N-CP4', 'N-CP5', 'N-CP6', 'N-CPP1h', 'N-CPP2h', 'N-CPP3h', 'N-CPP4h', 'N-CPP5h', 'N-CPP6h', 'N-Cz', 'N-F1', 'N-F10', 'N-F2', 'N-F3', 'N-F4', 'N-F5', 'N-F6', 'N-F7', 'N-F8', 'N-F9', 'N-FC1', 'N-FC2', 'N-FC3', 'N-FC4', 'N-FC5', 'N-FC6', 'N-FCC1h', 'N-FCC2h', 'N-FCC3h', 'N-FCC4h', 'N-FCC5h', 'N-FCC6h', 'N-FCz', 'N-FFC1h', 'N-FFC2h', 'N-FFC3h', 'N-FFC4h', 'N-FFC5h', 'N-FFC6h', 'N-FFT10h', 'N-FFT7h', 'N-FFT8h', 'N-FFT9h', 'N-FP2', 'N-FT10', 'N-FT7', 'N-FT8', 'N-FT9', 'N-FTT10h', 'N-FTT7h', 'N-FTT8h', 'N-FTT9h', 'N-Fp1', 'N-Fz', 'N-Iz', 'N-O1', 'N-O2', 'N-OI1h', 'N-OI2h', 'N-Oz', 'N-P1', 'N-P2', 'N-P3', 'N-P4', 'N-P5', 'N-P6', 'N-P7', 'N-P8', 'N-PO3', 'N-PO4', 'N-PO7', 'N-PO8', 'N-POO1', 'N-POO10h', 'N-POO2', 'N-POO9h', 'N-POz', 'N-PPO10h', 'N-PPO1h', 'N-PPO2h', 'N-PPO5h', 'N-PPO6h', 'N-PPO9h', 'N-Pz', 'N-T7', 'N-T8', 'N-TP7', 'N-TP8', 'N-TPP10h', 'N-TPP7h', 'N-TPP8h', 'N-TPP9h', 'N-TTP7h', 'N-TTP8h']\n",
      "  raw_eeg = mne.io.read_raw_eeglab(eeg_dirname + f'sub-{SUB_ID}_task-TableTennis_eeg.set', preload=True)\n",
      "/tmp/ipykernel_1155911/1650871764.py:11: RuntimeWarning: Estimated head radius (11.0 cm) is above the 99th percentile for adult head size. Check if the montage_units argument is correct (the default is \"mm\", but your channel positions may be in different units).\n",
      "  raw_eeg = mne.io.read_raw_eeglab(eeg_dirname + f'sub-{SUB_ID}_task-TableTennis_eeg.set', preload=True)\n",
      "/tmp/ipykernel_1155911/1650871764.py:11: RuntimeWarning: Data file name in EEG.data (sub-22_task-tabletennis_eeg.fdt) is incorrect, the file name must have changed on disk, using the correct file name (sub-22_task-TableTennis_eeg.fdt).\n",
      "  raw_eeg = mne.io.read_raw_eeglab(eeg_dirname + f'sub-{SUB_ID}_task-TableTennis_eeg.set', preload=True)\n"
     ]
    },
    {
     "name": "stdout",
     "output_type": "stream",
     "text": [
      "NOTE: pick_channels() is a legacy function. New code should use inst.pick(...).\n"
     ]
    },
    {
     "name": "stderr",
     "output_type": "stream",
     "text": [
      "/tmp/ipykernel_1155911/1650871764.py:11: RuntimeWarning: Omitted 1 annotation(s) that were outside data range.\n",
      "  raw_eeg = mne.io.read_raw_eeglab(eeg_dirname + f'sub-{SUB_ID}_task-TableTennis_eeg.set', preload=True)\n",
      "/tmp/ipykernel_1155911/1650871764.py:11: RuntimeWarning: The data contains 'boundary' events, indicating data discontinuities. Be cautious of filtering and epoching around these events.\n",
      "  raw_eeg = mne.io.read_raw_eeglab(eeg_dirname + f'sub-{SUB_ID}_task-TableTennis_eeg.set', preload=True)\n",
      "/tmp/ipykernel_1155911/1650871764.py:11: RuntimeWarning: Not setting positions of 8 emg channels found in montage:\n",
      "['LISCM', 'LSSCM', 'LSTrap', 'LITrap', 'RITrap', 'RISCM', 'RSSCM', 'RSTrap']\n",
      "Consider setting the channel types to be of EEG/sEEG/ECoG/DBS/fNIRS using inst.set_channel_types before calling inst.set_montage, or omit these channels when creating your montage.\n",
      "  raw_eeg = mne.io.read_raw_eeglab(eeg_dirname + f'sub-{SUB_ID}_task-TableTennis_eeg.set', preload=True)\n"
     ]
    },
    {
     "data": {
      "application/vnd.jupyter.widget-view+json": {
       "model_id": "149d772bcd4544a6b62c158fa38006ca",
       "version_major": 2,
       "version_minor": 0
      },
      "text/plain": [
       "  0%|          | 0/51696 [00:00<?, ?it/s]"
      ]
     },
     "metadata": {},
     "output_type": "display_data"
    },
    {
     "data": {
      "application/vnd.jupyter.widget-view+json": {
       "model_id": "903fbdefd1544525a7f4769f585d1fd3",
       "version_major": 2,
       "version_minor": 0
      },
      "text/plain": [
       "  0%|          | 0/51696 [00:00<?, ?it/s]"
      ]
     },
     "metadata": {},
     "output_type": "display_data"
    },
    {
     "data": {
      "application/vnd.jupyter.widget-view+json": {
       "model_id": "a65ac3de67fd435db4b4bcc3838c01ba",
       "version_major": 2,
       "version_minor": 0
      },
      "text/plain": [
       "  0%|          | 0/51696 [00:00<?, ?it/s]"
      ]
     },
     "metadata": {},
     "output_type": "display_data"
    }
   ],
   "source": [
    "!mkdir -p human-player/shifts_v4\n",
    "SUB_IDS = ['0' * (n < 10) + str(n) for n in range(1, 26)]\n",
    "EPS = 0.001\n",
    "\n",
    "for SUB_ID in tqdm(SUB_IDS):\n",
    "    eeg_dirname = os.path.join(DATA_PATH, f'sub-{SUB_ID}', 'eeg/')\n",
    "    \n",
    "    channels_df = pd.read_csv(eeg_dirname + f'sub-{SUB_ID}_task-TableTennis_channels.tsv', sep='\\t')\n",
    "    events_df = pd.read_csv(eeg_dirname + f'sub-{SUB_ID}_task-TableTennis_events.tsv', sep='\\t')\n",
    "    \n",
    "    raw_eeg = mne.io.read_raw_eeglab(eeg_dirname + f'sub-{SUB_ID}_task-TableTennis_eeg.set', preload=True)\n",
    "\n",
    "    events_subdf = events_df\\\n",
    "        .query(\"value in ('Subject_hit', 'Subject_receive')\")\\\n",
    "        .query(\"trial_type in ('competitive', 'cooperative')\") \n",
    "    \n",
    "    participant_acc_channels = [\n",
    "        'Participant_Paddle_Acc_X(g)',\n",
    "        'Participant_Paddle_Acc_Y(g)',\n",
    "        'Participant_Paddle_Acc_Z(g)'\n",
    "    ]\n",
    "    researcher_acc_channels = [\n",
    "        'Researcher_Paddle_Acc_X(g)',\n",
    "        'Researcher_Paddle_Acc_Y(g)',\n",
    "        'Researcher_Paddle_Acc_Z(g)'\n",
    "    ]\n",
    "    acc_channels = participant_acc_channels + researcher_acc_channels\n",
    "    acc_data = raw_eeg.pick_channels(acc_channels)\n",
    "    acc_values = acc_data.get_data()\n",
    "    acc_ttl_data = np.sqrt(np.sum(np.square(acc_values[3:]), axis=0))\n",
    "\n",
    "    sessions_arr = get_sessions_range(events_subdf)\n",
    "    peaks_arr = []\n",
    "    max_shift = acc_ttl_data.size - events_df['sample'].astype(int).max()\n",
    "    \n",
    "    for start, end in sessions_arr:\n",
    "        labels_data = np.zeros_like(acc_ttl_data)\n",
    "        session_subdf = events_subdf\\\n",
    "            .query(\"value == 'Subject_receive'\")\\\n",
    "            .query(f\"{start - EPS} <= onset <= {end + EPS}\")\n",
    "        \n",
    "        hit_indices = (session_subdf['sample'] + 0.5).astype(int)\n",
    "        labels_data[hit_indices.values] = 1\n",
    "    \n",
    "        def calculate_corr(i):\n",
    "            return np.corrcoef(acc_ttl_data[i:], labels_data[:labels_data.size-i])[0, 1]\n",
    "        \n",
    "        with Pool() as pool:\n",
    "            similarity_arr = list(tqdm(pool.imap(calculate_corr, range(max_shift)), total=max_shift))\n",
    "    \n",
    "        peak = find_k_peaks(np.argsort(similarity_arr)[::-1], k=1)\n",
    "        peaks_arr.append(peak)\n",
    "    \n",
    "    np.savez_compressed(\n",
    "        f'human-player/shifts_v4/{SUB_ID}.npz',\n",
    "        sessions=sessions_arr,\n",
    "        peaks=peaks_arr,\n",
    "    )\n",
    "    \n",
    "    gc.collect()"
   ]
  },
  {
   "cell_type": "markdown",
   "id": "04c05800-18f4-4223-94df-61ab2f8c00af",
   "metadata": {},
   "source": [
    "### Compare variants 3 and 4"
   ]
  },
  {
   "cell_type": "code",
   "execution_count": 19,
   "id": "148671ea-7d46-4b46-97a5-b6a8782572eb",
   "metadata": {},
   "outputs": [
    {
     "name": "stdout",
     "output_type": "stream",
     "text": [
      "1\n",
      "[61125]\n",
      "[61125]\n",
      "2\n",
      "[ 2130 36398]\n",
      "[ 2130 36398]\n",
      "3\n",
      "[16379 47584 80246 96504]\n",
      "[16379 47584 80246 96504]\n",
      "4\n",
      "[    0  1272 18398]\n",
      "[    0  1272 15635]\n",
      "5\n",
      "[ 1733 10335 27634 36117]\n",
      "[ 1733 10335 27634 36117]\n",
      "6\n",
      "[27365 41754 54162]\n",
      "[ 7390 27365 54162]\n",
      "7\n",
      "[10235 44722 65210 97822]\n",
      "[10235 44722 65210 97822]\n",
      "8\n",
      "[21388 25456 85319]\n",
      "[21388 54256 85319]\n",
      "9\n",
      "[ 8494 32223 63809]\n",
      "[ 8494 32223 63809]\n",
      "10\n",
      "[14740 37406 44558]\n",
      "[14740 37406 67505]\n",
      "11\n",
      "[ 6340 12202 25234]\n",
      "[ 6340 25234 39469]\n",
      "12\n",
      "[22584 38522 48494]\n",
      "[ 6532 22584 48494]\n",
      "13\n",
      "[ 1457 11946 24513 47580]\n",
      "[ 1457 11946 24513 47580]\n",
      "14\n",
      "[25155 48278 66970]\n",
      "[25155 48278 66970]\n",
      "15\n",
      "[10815 23619 43894]\n",
      "[10816 23619 43894]\n",
      "16\n",
      "[41247 65229 70856]\n",
      "[23168 41247 70856]\n",
      "17\n",
      "[ 5872 29634 44793 57835]\n",
      "[ 5872 29634 44793 57835]\n",
      "18\n",
      "[23990 32539 98405]\n",
      "[32539 59883 98405]\n",
      "19\n",
      "[ 9821 21163 38880 54979]\n",
      "[ 9821 21164 38880 54979]\n",
      "20\n",
      "[ 3743 26059 46728 63001]\n",
      "[ 3744 26059 46728 63001]\n",
      "21\n",
      "[10277 22684 54180]\n",
      "[10277 22684 54180]\n",
      "22\n",
      "[ 2989 11499 26553 35513]\n",
      "[ 2989 11499 26553 35513]\n",
      "23\n",
      "[18232 32684 67742]\n",
      "[18232 32684 67742]\n",
      "24\n",
      "[58]\n",
      "[254 325  59 166]\n",
      "25\n",
      "[ 2181 13311 24039]\n",
      "[ 2181 13311 24039]\n"
     ]
    }
   ],
   "source": [
    "sub_ids = ['0' * (n < 10) + str(n) for n in range(1, 26)]\n",
    "shifts_v3 = [np.load(f'human-player/shifts_v3/{sub_id}.npz') for sub_id in sub_ids]\n",
    "shifts_v4 = [np.load(f'human-player/shifts_v4/{sub_id}.npz') for sub_id in sub_ids]\n",
    "\n",
    "for i in range(len(sub_ids)):\n",
    "    shift_3 = shifts_v3[i]['peaks'].reshape(-1)\n",
    "    shift_4 = shifts_v4[i]['peaks'].reshape(-1)\n",
    "\n",
    "    print(i+1)\n",
    "    print(shift_3)\n",
    "    print(shift_4)"
   ]
  },
  {
   "cell_type": "markdown",
   "id": "7d5efbb0-412d-45c1-952f-7de358d6b09d",
   "metadata": {},
   "source": [
    "### Final shifts\n",
    "\n",
    "Everything from v4"
   ]
  },
  {
   "cell_type": "code",
   "execution_count": 36,
   "id": "a1bcbe07-913c-4100-9841-97a81678bcfa",
   "metadata": {},
   "outputs": [],
   "source": [
    "# In tennis forehand stroke studies using IMUs, acceleration peaks typically occur about 8–12 ms after actual ball contact.\n",
    "# 12 ms = 12 / 1000 sec = 3 / 250 sec = 3 steps\n",
    "EVENT_TO_PEAK_SHIFT = 3\n",
    "\n",
    "!mkdir -p human-player/shifts_final\n",
    "\n",
    "sub_ids = ['0' * (n < 10) + str(n) for n in range(1, 26)]\n",
    "shifts_v3 = [np.load(f'human-player/shifts_v3/{sub_id}.npz') for sub_id in sub_ids]\n",
    "shifts_v4 = [np.load(f'human-player/shifts_v4/{sub_id}.npz') for sub_id in sub_ids]\n",
    "\n",
    "for i, sub_id in enumerate(sub_ids):\n",
    "    shift = shifts_v4[i]\n",
    "\n",
    "    np.savez_compressed(\n",
    "        f'human-player/shifts_final/{sub_id}.npz',\n",
    "        sessions=shift['sessions'],\n",
    "        peaks=shift['peaks'] - EVENT_TO_PEAK_SHIFT,\n",
    "    )"
   ]
  },
  {
   "cell_type": "markdown",
   "id": "005ce851-db54-499e-8ff9-41f4f20ed533",
   "metadata": {
    "jp-MarkdownHeadingCollapsed": true
   },
   "source": [
    "## Data collection pipeline"
   ]
  },
  {
   "cell_type": "code",
   "execution_count": null,
   "id": "6982c90b-7b26-42fb-b3cf-d8af81e86f87",
   "metadata": {},
   "outputs": [],
   "source": [
    "!mkdir -p human-player/data/"
   ]
  },
  {
   "cell_type": "code",
   "execution_count": 38,
   "id": "ffc553f4-302b-40ea-8040-c37e3359c5dd",
   "metadata": {},
   "outputs": [],
   "source": [
    "def define_successful_hit(events_df: pd.DataFrame, result_col: str = 'score') -> pd.DataFrame:\n",
    "    df = events_df.copy()\n",
    "    df.dropna(subset=['orignum'], inplace=True)\n",
    "    df = df.query(\n",
    "        \"trial_type in ('cooperative', 'competitive')\"\n",
    "    ).assign(\n",
    "        timedelta=df.query(\"value != 'M  1'\").onset.diff(periods=-1).abs()\n",
    "    )\n",
    "    df = df.assign(\n",
    "        session_end=df.timedelta > 4\n",
    "    )\n",
    "    \n",
    "    df['score'] = None\n",
    "    index = df.index\n",
    "\n",
    "    df.loc[index[df.performance.isin([2, 3])], 'score'] = -1\n",
    "    df.loc[index[(df.session_end) & (df.performance == 1)], 'score'] = 1\n",
    "    df.loc[index[(~df.session_end) & (df.performance == 1)], 'score'] = 0\n",
    "    df.loc[index[(df.score == 0) & (df.score.shift(-1) == -1)], 'score'] = 2\n",
    "\n",
    "    df.drop(columns=['session_end', 'timedelta'], inplace=True)\n",
    "    return df"
   ]
  },
  {
   "cell_type": "code",
   "execution_count": 39,
   "id": "041683dd-a630-49e4-86de-df1e938365a3",
   "metadata": {
    "scrolled": true
   },
   "outputs": [
    {
     "data": {
      "application/vnd.jupyter.widget-view+json": {
       "model_id": "994a381ae7d14ffb8d6469e77a44f37a",
       "version_major": 2,
       "version_minor": 0
      },
      "text/plain": [
       "  0%|          | 0/25 [00:00<?, ?it/s]"
      ]
     },
     "metadata": {},
     "output_type": "display_data"
    },
    {
     "name": "stdout",
     "output_type": "stream",
     "text": [
      "Reading /data/vladimiroved/realWorldTableTennis/sub-01/eeg/sub-01_task-TableTennis_eeg.fdt\n",
      "Reading 0 ... 785327  =      0.000 ...  3141.308 secs...\n"
     ]
    },
    {
     "name": "stderr",
     "output_type": "stream",
     "text": [
      "/tmp/ipykernel_1155911/3376151839.py:52: RuntimeWarning: Unknown types found, setting as type EEG:\n",
      "acc: ['CGY-x', 'CGY-y', 'CGY-z', 'CWR-x', 'CWR-y', 'CWR-z', 'NGY-x', 'NGY-y', 'NGY-z', 'NWR-x', 'NWR-y', 'NWR-z']\n",
      "cometas: ['BallMachine_Acc_X(g)', 'BallMachine_Acc_Y(g)', 'BallMachine_Acc_Z(g)', 'Participant_Paddle_Acc_X(g)', 'Participant_Paddle_Acc_Y(g)', 'Participant_Paddle_Acc_Z(g)', 'Researcher_Paddle_Acc_X(g)', 'Researcher_Paddle_Acc_Y(g)', 'Researcher_Paddle_Acc_Z(g)', 'SyncPulse(uV)']\n",
      "noise: ['N-AF3', 'N-AF4', 'N-AF7', 'N-AF8', 'N-AFF1h', 'N-AFF2h', 'N-AFF5h', 'N-AFF6h', 'N-AFp1', 'N-AFp2', 'N-AFz', 'N-C1', 'N-C2', 'N-C3', 'N-C4', 'N-C5', 'N-C6', 'N-CCP1h', 'N-CCP2h', 'N-CCP3h', 'N-CCP4h', 'N-CCP5h', 'N-CCP6h', 'N-CP1', 'N-CP2', 'N-CP3', 'N-CP4', 'N-CP5', 'N-CP6', 'N-CPP1h', 'N-CPP2h', 'N-CPP3h', 'N-CPP4h', 'N-CPP5h', 'N-CPP6h', 'N-Cz', 'N-F1', 'N-F10', 'N-F2', 'N-F3', 'N-F4', 'N-F5', 'N-F6', 'N-F7', 'N-F8', 'N-F9', 'N-FC1', 'N-FC2', 'N-FC3', 'N-FC4', 'N-FC5', 'N-FC6', 'N-FCC1h', 'N-FCC2h', 'N-FCC3h', 'N-FCC4h', 'N-FCC5h', 'N-FCC6h', 'N-FCz', 'N-FFC1h', 'N-FFC2h', 'N-FFC3h', 'N-FFC4h', 'N-FFC5h', 'N-FFC6h', 'N-FFT10h', 'N-FFT7h', 'N-FFT8h', 'N-FFT9h', 'N-FP2', 'N-FT10', 'N-FT7', 'N-FT8', 'N-FT9', 'N-FTT10h', 'N-FTT7h', 'N-FTT8h', 'N-FTT9h', 'N-Fp1', 'N-Fz', 'N-Iz', 'N-O1', 'N-O2', 'N-O9', 'N-OI1h', 'N-OI2h', 'N-Oz', 'N-P1', 'N-P2', 'N-P3', 'N-P4', 'N-P5', 'N-P6', 'N-P7', 'N-P8', 'N-PO3', 'N-PO4', 'N-PO7', 'N-PO8', 'N-POO1', 'N-POO10h', 'N-POO2', 'N-POz', 'N-PPO10h', 'N-PPO1h', 'N-PPO2h', 'N-PPO5h', 'N-PPO6h', 'N-PPO9h', 'N-Pz', 'N-T7', 'N-T8', 'N-TP7', 'N-TP8', 'N-TPP10h', 'N-TPP7h', 'N-TPP8h', 'N-TPP9h', 'N-TTP7h', 'N-TTP8h']\n",
      "  raw_eeg = mne.io.read_raw_eeglab(eeg_dirname + f'sub-{SUB_ID}_task-TableTennis_eeg.set', preload=True)\n",
      "/tmp/ipykernel_1155911/3376151839.py:52: RuntimeWarning: Estimated head radius (11.1 cm) is above the 99th percentile for adult head size. Check if the montage_units argument is correct (the default is \"mm\", but your channel positions may be in different units).\n",
      "  raw_eeg = mne.io.read_raw_eeglab(eeg_dirname + f'sub-{SUB_ID}_task-TableTennis_eeg.set', preload=True)\n",
      "/tmp/ipykernel_1155911/3376151839.py:52: RuntimeWarning: Data file name in EEG.data (sub-01_task-tabletennis_eeg.fdt) is incorrect, the file name must have changed on disk, using the correct file name (sub-01_task-TableTennis_eeg.fdt).\n",
      "  raw_eeg = mne.io.read_raw_eeglab(eeg_dirname + f'sub-{SUB_ID}_task-TableTennis_eeg.set', preload=True)\n",
      "/tmp/ipykernel_1155911/3376151839.py:52: RuntimeWarning: Omitted 1 annotation(s) that were outside data range.\n",
      "  raw_eeg = mne.io.read_raw_eeglab(eeg_dirname + f'sub-{SUB_ID}_task-TableTennis_eeg.set', preload=True)\n",
      "/tmp/ipykernel_1155911/3376151839.py:52: RuntimeWarning: The data contains 'boundary' events, indicating data discontinuities. Be cautious of filtering and epoching around these events.\n",
      "  raw_eeg = mne.io.read_raw_eeglab(eeg_dirname + f'sub-{SUB_ID}_task-TableTennis_eeg.set', preload=True)\n",
      "/tmp/ipykernel_1155911/3376151839.py:52: RuntimeWarning: Not setting positions of 8 emg channels found in montage:\n",
      "['LISCM', 'LSSCM', 'LSTrap', 'LITrap', 'RITrap', 'RISCM', 'RSSCM', 'RSTrap']\n",
      "Consider setting the channel types to be of EEG/sEEG/ECoG/DBS/fNIRS using inst.set_channel_types before calling inst.set_montage, or omit these channels when creating your montage.\n",
      "  raw_eeg = mne.io.read_raw_eeglab(eeg_dirname + f'sub-{SUB_ID}_task-TableTennis_eeg.set', preload=True)\n",
      "/tmp/ipykernel_1155911/3376151839.py:70: RuntimeWarning: The unit for channel(s) BallMachine_Acc_X(g), BallMachine_Acc_Y(g), BallMachine_Acc_Z(g), CGY-x, CGY-y, CGY-z, CWR-x, CWR-y, CWR-z, N-AF3, N-AF4, N-AF7, N-AF8, N-AFF1h, N-AFF2h, N-AFF5h, N-AFF6h, N-AFp1, N-AFp2, N-AFz, N-C1, N-C2, N-C3, N-C4, N-C5, N-C6, N-CCP1h, N-CCP2h, N-CCP3h, N-CCP4h, N-CCP5h, N-CCP6h, N-CP1, N-CP2, N-CP3, N-CP4, N-CP5, N-CP6, N-CPP1h, N-CPP2h, N-CPP3h, N-CPP4h, N-CPP5h, N-CPP6h, N-Cz, N-F1, N-F10, N-F2, N-F3, N-F4, N-F5, N-F6, N-F7, N-F8, N-F9, N-FC1, N-FC2, N-FC3, N-FC4, N-FC5, N-FC6, N-FCC1h, N-FCC2h, N-FCC3h, N-FCC4h, N-FCC5h, N-FCC6h, N-FCz, N-FFC1h, N-FFC2h, N-FFC3h, N-FFC4h, N-FFC5h, N-FFC6h, N-FFT10h, N-FFT7h, N-FFT8h, N-FFT9h, N-FP2, N-FT10, N-FT7, N-FT8, N-FT9, N-FTT10h, N-FTT7h, N-FTT8h, N-FTT9h, N-Fp1, N-Fz, N-Iz, N-O1, N-O2, N-O9, N-OI1h, N-OI2h, N-Oz, N-P1, N-P2, N-P3, N-P4, N-P5, N-P6, N-P7, N-P8, N-PO3, N-PO4, N-PO7, N-PO8, N-POO1, N-POO10h, N-POO2, N-POz, N-PPO10h, N-PPO1h, N-PPO2h, N-PPO5h, N-PPO6h, N-PPO9h, N-Pz, N-T7, N-T8, N-TP7, N-TP8, N-TPP10h, N-TPP7h, N-TPP8h, N-TPP9h, N-TTP7h, N-TTP8h, NGY-x, NGY-y, NGY-z, NWR-x, NWR-y, NWR-z, Participant_Paddle_Acc_X(g), Participant_Paddle_Acc_Y(g), Participant_Paddle_Acc_Z(g), Researcher_Paddle_Acc_X(g), Researcher_Paddle_Acc_Y(g), Researcher_Paddle_Acc_Z(g), SyncPulse(uV) has changed from V to NA.\n",
      "  raw_eeg.set_channel_types(channel_types)\n"
     ]
    },
    {
     "name": "stdout",
     "output_type": "stream",
     "text": [
      "NOTE: pick_channels() is a legacy function. New code should use inst.pick(...).\n",
      "Reading /data/vladimiroved/realWorldTableTennis/sub-02/eeg/sub-02_task-TableTennis_eeg.fdt\n",
      "Reading 0 ... 1364632  =      0.000 ...  5458.528 secs...\n"
     ]
    },
    {
     "name": "stderr",
     "output_type": "stream",
     "text": [
      "/tmp/ipykernel_1155911/3376151839.py:52: RuntimeWarning: Unknown types found, setting as type EEG:\n",
      "acc: ['CGY-x', 'CGY-y', 'CGY-z', 'CWR-x', 'CWR-y', 'CWR-z', 'NGY-x', 'NGY-y', 'NGY-z', 'NWR-x', 'NWR-y', 'NWR-z']\n",
      "cometas: ['BallMachine_Acc_X(g)', 'BallMachine_Acc_Y(g)', 'BallMachine_Acc_Z(g)', 'Participant_Paddle_Acc_X(g)', 'Participant_Paddle_Acc_Y(g)', 'Participant_Paddle_Acc_Z(g)', 'Researcher_Paddle_Acc_X(g)', 'Researcher_Paddle_Acc_Y(g)', 'Researcher_Paddle_Acc_Z(g)', 'SyncPulse(uV)']\n",
      "noise: ['N-AF3', 'N-AF4', 'N-AF7', 'N-AF8', 'N-AFF1h', 'N-AFF2h', 'N-AFF5h', 'N-AFF6h', 'N-AFp1', 'N-AFp2', 'N-AFz', 'N-C1', 'N-C2', 'N-C3', 'N-C4', 'N-C5', 'N-C6', 'N-CCP1h', 'N-CCP2h', 'N-CCP3h', 'N-CCP4h', 'N-CCP5h', 'N-CCP6h', 'N-CP1', 'N-CP2', 'N-CP3', 'N-CP4', 'N-CP5', 'N-CP6', 'N-CPP1h', 'N-CPP2h', 'N-CPP3h', 'N-CPP4h', 'N-CPP5h', 'N-CPP6h', 'N-Cz', 'N-F1', 'N-F10', 'N-F2', 'N-F3', 'N-F4', 'N-F5', 'N-F6', 'N-F7', 'N-F8', 'N-F9', 'N-FC1', 'N-FC2', 'N-FC3', 'N-FC4', 'N-FC5', 'N-FC6', 'N-FCC1h', 'N-FCC2h', 'N-FCC3h', 'N-FCC4h', 'N-FCC5h', 'N-FCC6h', 'N-FCz', 'N-FFC1h', 'N-FFC2h', 'N-FFC3h', 'N-FFC4h', 'N-FFC5h', 'N-FFC6h', 'N-FFT10h', 'N-FFT7h', 'N-FFT8h', 'N-FFT9h', 'N-FP2', 'N-FT10', 'N-FT7', 'N-FT8', 'N-FT9', 'N-FTT10h', 'N-FTT7h', 'N-FTT8h', 'N-FTT9h', 'N-Fp1', 'N-Fz', 'N-Iz', 'N-O1', 'N-O2', 'N-O9', 'N-OI1h', 'N-OI2h', 'N-Oz', 'N-P1', 'N-P2', 'N-P3', 'N-P4', 'N-P5', 'N-P6', 'N-P7', 'N-P8', 'N-PO3', 'N-PO4', 'N-PO7', 'N-PO8', 'N-POO1', 'N-POO10h', 'N-POO2', 'N-POz', 'N-PPO10h', 'N-PPO1h', 'N-PPO2h', 'N-PPO5h', 'N-PPO6h', 'N-PPO9h', 'N-Pz', 'N-T7', 'N-T8', 'N-TP7', 'N-TP8', 'N-TPP10h', 'N-TPP7h', 'N-TPP8h', 'N-TPP9h', 'N-TTP7h', 'N-TTP8h']\n",
      "  raw_eeg = mne.io.read_raw_eeglab(eeg_dirname + f'sub-{SUB_ID}_task-TableTennis_eeg.set', preload=True)\n",
      "/tmp/ipykernel_1155911/3376151839.py:52: RuntimeWarning: Data file name in EEG.data (sub-02_task-tabletennis_eeg.fdt) is incorrect, the file name must have changed on disk, using the correct file name (sub-02_task-TableTennis_eeg.fdt).\n",
      "  raw_eeg = mne.io.read_raw_eeglab(eeg_dirname + f'sub-{SUB_ID}_task-TableTennis_eeg.set', preload=True)\n",
      "/tmp/ipykernel_1155911/3376151839.py:52: RuntimeWarning: Omitted 1 annotation(s) that were outside data range.\n",
      "  raw_eeg = mne.io.read_raw_eeglab(eeg_dirname + f'sub-{SUB_ID}_task-TableTennis_eeg.set', preload=True)\n",
      "/tmp/ipykernel_1155911/3376151839.py:52: RuntimeWarning: The data contains 'boundary' events, indicating data discontinuities. Be cautious of filtering and epoching around these events.\n",
      "  raw_eeg = mne.io.read_raw_eeglab(eeg_dirname + f'sub-{SUB_ID}_task-TableTennis_eeg.set', preload=True)\n",
      "/tmp/ipykernel_1155911/3376151839.py:52: RuntimeWarning: Not setting positions of 8 emg channels found in montage:\n",
      "['LISCM', 'LSSCM', 'LSTrap', 'LITrap', 'RITrap', 'RISCM', 'RSSCM', 'RSTrap']\n",
      "Consider setting the channel types to be of EEG/sEEG/ECoG/DBS/fNIRS using inst.set_channel_types before calling inst.set_montage, or omit these channels when creating your montage.\n",
      "  raw_eeg = mne.io.read_raw_eeglab(eeg_dirname + f'sub-{SUB_ID}_task-TableTennis_eeg.set', preload=True)\n",
      "/tmp/ipykernel_1155911/3376151839.py:70: RuntimeWarning: The unit for channel(s) BallMachine_Acc_X(g), BallMachine_Acc_Y(g), BallMachine_Acc_Z(g), CGY-x, CGY-y, CGY-z, CWR-x, CWR-y, CWR-z, N-AF3, N-AF4, N-AF7, N-AF8, N-AFF1h, N-AFF2h, N-AFF5h, N-AFF6h, N-AFp1, N-AFp2, N-AFz, N-C1, N-C2, N-C3, N-C4, N-C5, N-C6, N-CCP1h, N-CCP2h, N-CCP3h, N-CCP4h, N-CCP5h, N-CCP6h, N-CP1, N-CP2, N-CP3, N-CP4, N-CP5, N-CP6, N-CPP1h, N-CPP2h, N-CPP3h, N-CPP4h, N-CPP5h, N-CPP6h, N-Cz, N-F1, N-F10, N-F2, N-F3, N-F4, N-F5, N-F6, N-F7, N-F8, N-F9, N-FC1, N-FC2, N-FC3, N-FC4, N-FC5, N-FC6, N-FCC1h, N-FCC2h, N-FCC3h, N-FCC4h, N-FCC5h, N-FCC6h, N-FCz, N-FFC1h, N-FFC2h, N-FFC3h, N-FFC4h, N-FFC5h, N-FFC6h, N-FFT10h, N-FFT7h, N-FFT8h, N-FFT9h, N-FP2, N-FT10, N-FT7, N-FT8, N-FT9, N-FTT10h, N-FTT7h, N-FTT8h, N-FTT9h, N-Fp1, N-Fz, N-Iz, N-O1, N-O2, N-O9, N-OI1h, N-OI2h, N-Oz, N-P1, N-P2, N-P3, N-P4, N-P5, N-P6, N-P7, N-P8, N-PO3, N-PO4, N-PO7, N-PO8, N-POO1, N-POO10h, N-POO2, N-POz, N-PPO10h, N-PPO1h, N-PPO2h, N-PPO5h, N-PPO6h, N-PPO9h, N-Pz, N-T7, N-T8, N-TP7, N-TP8, N-TPP10h, N-TPP7h, N-TPP8h, N-TPP9h, N-TTP7h, N-TTP8h, NGY-x, NGY-y, NGY-z, NWR-x, NWR-y, NWR-z, Participant_Paddle_Acc_X(g), Participant_Paddle_Acc_Y(g), Participant_Paddle_Acc_Z(g), Researcher_Paddle_Acc_X(g), Researcher_Paddle_Acc_Y(g), Researcher_Paddle_Acc_Z(g), SyncPulse(uV) has changed from V to NA.\n",
      "  raw_eeg.set_channel_types(channel_types)\n"
     ]
    },
    {
     "name": "stdout",
     "output_type": "stream",
     "text": [
      "NOTE: pick_channels() is a legacy function. New code should use inst.pick(...).\n",
      "Reading /data/vladimiroved/realWorldTableTennis/sub-03/eeg/sub-03_task-TableTennis_eeg.fdt\n",
      "Reading 0 ... 1099795  =      0.000 ...  4399.180 secs...\n"
     ]
    },
    {
     "name": "stderr",
     "output_type": "stream",
     "text": [
      "/tmp/ipykernel_1155911/3376151839.py:52: RuntimeWarning: Unknown types found, setting as type EEG:\n",
      "acc: ['CGY-x', 'CGY-y', 'CGY-z', 'CWR-x', 'CWR-y', 'CWR-z', 'NGY-x', 'NGY-y', 'NGY-z', 'NWR-x', 'NWR-y', 'NWR-z']\n",
      "cometas: ['BallMachine_Acc_X(g)', 'BallMachine_Acc_Y(g)', 'BallMachine_Acc_Z(g)', 'Participant_Paddle_Acc_X(g)', 'Participant_Paddle_Acc_Y(g)', 'Participant_Paddle_Acc_Z(g)', 'Researcher_Paddle_Acc_X(g)', 'Researcher_Paddle_Acc_Y(g)', 'Researcher_Paddle_Acc_Z(g)', 'SyncPulse(uV)']\n",
      "noise: ['N-AF3', 'N-AF4', 'N-AF7', 'N-AF8', 'N-AFF1h', 'N-AFF2h', 'N-AFF5h', 'N-AFF6h', 'N-AFp1', 'N-AFp2', 'N-AFz', 'N-C1', 'N-C2', 'N-C3', 'N-C4', 'N-C5', 'N-C6', 'N-CCP1h', 'N-CCP2h', 'N-CCP3h', 'N-CCP4h', 'N-CCP5h', 'N-CCP6h', 'N-CP1', 'N-CP2', 'N-CP3', 'N-CP4', 'N-CP5', 'N-CP6', 'N-CPP1h', 'N-CPP2h', 'N-CPP3h', 'N-CPP4h', 'N-CPP5h', 'N-CPP6h', 'N-Cz', 'N-F1', 'N-F10', 'N-F2', 'N-F3', 'N-F4', 'N-F5', 'N-F6', 'N-F7', 'N-F8', 'N-F9', 'N-FC1', 'N-FC2', 'N-FC3', 'N-FC4', 'N-FC5', 'N-FC6', 'N-FCC1h', 'N-FCC2h', 'N-FCC3h', 'N-FCC4h', 'N-FCC5h', 'N-FCC6h', 'N-FCz', 'N-FFC1h', 'N-FFC2h', 'N-FFC3h', 'N-FFC4h', 'N-FFC5h', 'N-FFC6h', 'N-FFT10h', 'N-FFT7h', 'N-FFT8h', 'N-FFT9h', 'N-FP2', 'N-FT10', 'N-FT7', 'N-FT8', 'N-FT9', 'N-FTT10h', 'N-FTT7h', 'N-FTT8h', 'N-FTT9h', 'N-Fp1', 'N-Fz', 'N-Iz', 'N-O1', 'N-O2', 'N-OI1h', 'N-OI2h', 'N-Oz', 'N-P1', 'N-P2', 'N-P3', 'N-P4', 'N-P5', 'N-P6', 'N-P7', 'N-P8', 'N-PO3', 'N-PO4', 'N-PO7', 'N-PO8', 'N-POO1', 'N-POO10h', 'N-POO2', 'N-POO9h', 'N-POz', 'N-PPO10h', 'N-PPO1h', 'N-PPO2h', 'N-PPO5h', 'N-PPO6h', 'N-PPO9h', 'N-Pz', 'N-T7', 'N-T8', 'N-TP7', 'N-TP8', 'N-TPP10h', 'N-TPP7h', 'N-TPP8h', 'N-TPP9h', 'N-TTP7h', 'N-TTP8h']\n",
      "  raw_eeg = mne.io.read_raw_eeglab(eeg_dirname + f'sub-{SUB_ID}_task-TableTennis_eeg.set', preload=True)\n",
      "/tmp/ipykernel_1155911/3376151839.py:52: RuntimeWarning: Estimated head radius (11.5 cm) is above the 99th percentile for adult head size. Check if the montage_units argument is correct (the default is \"mm\", but your channel positions may be in different units).\n",
      "  raw_eeg = mne.io.read_raw_eeglab(eeg_dirname + f'sub-{SUB_ID}_task-TableTennis_eeg.set', preload=True)\n",
      "/tmp/ipykernel_1155911/3376151839.py:52: RuntimeWarning: Data file name in EEG.data (sub-03_task-tabletennis_eeg.fdt) is incorrect, the file name must have changed on disk, using the correct file name (sub-03_task-TableTennis_eeg.fdt).\n",
      "  raw_eeg = mne.io.read_raw_eeglab(eeg_dirname + f'sub-{SUB_ID}_task-TableTennis_eeg.set', preload=True)\n",
      "/tmp/ipykernel_1155911/3376151839.py:52: RuntimeWarning: Omitted 1 annotation(s) that were outside data range.\n",
      "  raw_eeg = mne.io.read_raw_eeglab(eeg_dirname + f'sub-{SUB_ID}_task-TableTennis_eeg.set', preload=True)\n",
      "/tmp/ipykernel_1155911/3376151839.py:52: RuntimeWarning: The data contains 'boundary' events, indicating data discontinuities. Be cautious of filtering and epoching around these events.\n",
      "  raw_eeg = mne.io.read_raw_eeglab(eeg_dirname + f'sub-{SUB_ID}_task-TableTennis_eeg.set', preload=True)\n",
      "/tmp/ipykernel_1155911/3376151839.py:52: RuntimeWarning: Not setting positions of 8 emg channels found in montage:\n",
      "['LISCM', 'LSSCM', 'LSTrap', 'LITrap', 'RITrap', 'RISCM', 'RSSCM', 'RSTrap']\n",
      "Consider setting the channel types to be of EEG/sEEG/ECoG/DBS/fNIRS using inst.set_channel_types before calling inst.set_montage, or omit these channels when creating your montage.\n",
      "  raw_eeg = mne.io.read_raw_eeglab(eeg_dirname + f'sub-{SUB_ID}_task-TableTennis_eeg.set', preload=True)\n",
      "/tmp/ipykernel_1155911/3376151839.py:70: RuntimeWarning: The unit for channel(s) BallMachine_Acc_X(g), BallMachine_Acc_Y(g), BallMachine_Acc_Z(g), CGY-x, CGY-y, CGY-z, CWR-x, CWR-y, CWR-z, N-AF3, N-AF4, N-AF7, N-AF8, N-AFF1h, N-AFF2h, N-AFF5h, N-AFF6h, N-AFp1, N-AFp2, N-AFz, N-C1, N-C2, N-C3, N-C4, N-C5, N-C6, N-CCP1h, N-CCP2h, N-CCP3h, N-CCP4h, N-CCP5h, N-CCP6h, N-CP1, N-CP2, N-CP3, N-CP4, N-CP5, N-CP6, N-CPP1h, N-CPP2h, N-CPP3h, N-CPP4h, N-CPP5h, N-CPP6h, N-Cz, N-F1, N-F10, N-F2, N-F3, N-F4, N-F5, N-F6, N-F7, N-F8, N-F9, N-FC1, N-FC2, N-FC3, N-FC4, N-FC5, N-FC6, N-FCC1h, N-FCC2h, N-FCC3h, N-FCC4h, N-FCC5h, N-FCC6h, N-FCz, N-FFC1h, N-FFC2h, N-FFC3h, N-FFC4h, N-FFC5h, N-FFC6h, N-FFT10h, N-FFT7h, N-FFT8h, N-FFT9h, N-FP2, N-FT10, N-FT7, N-FT8, N-FT9, N-FTT10h, N-FTT7h, N-FTT8h, N-FTT9h, N-Fp1, N-Fz, N-Iz, N-O1, N-O2, N-OI1h, N-OI2h, N-Oz, N-P1, N-P2, N-P3, N-P4, N-P5, N-P6, N-P7, N-P8, N-PO3, N-PO4, N-PO7, N-PO8, N-POO1, N-POO10h, N-POO2, N-POO9h, N-POz, N-PPO10h, N-PPO1h, N-PPO2h, N-PPO5h, N-PPO6h, N-PPO9h, N-Pz, N-T7, N-T8, N-TP7, N-TP8, N-TPP10h, N-TPP7h, N-TPP8h, N-TPP9h, N-TTP7h, N-TTP8h, NGY-x, NGY-y, NGY-z, NWR-x, NWR-y, NWR-z, Participant_Paddle_Acc_X(g), Participant_Paddle_Acc_Y(g), Participant_Paddle_Acc_Z(g), Researcher_Paddle_Acc_X(g), Researcher_Paddle_Acc_Y(g), Researcher_Paddle_Acc_Z(g), SyncPulse(uV) has changed from V to NA.\n",
      "  raw_eeg.set_channel_types(channel_types)\n"
     ]
    },
    {
     "name": "stdout",
     "output_type": "stream",
     "text": [
      "NOTE: pick_channels() is a legacy function. New code should use inst.pick(...).\n",
      "Reading /data/vladimiroved/realWorldTableTennis/sub-04/eeg/sub-04_task-TableTennis_eeg.fdt\n",
      "Reading 0 ... 1057035  =      0.000 ...  4228.140 secs...\n"
     ]
    },
    {
     "name": "stderr",
     "output_type": "stream",
     "text": [
      "/tmp/ipykernel_1155911/3376151839.py:52: RuntimeWarning: Unknown types found, setting as type EEG:\n",
      "acc: ['CGY-x', 'CGY-y', 'CGY-z', 'CWR-x', 'CWR-y', 'CWR-z', 'NGY-x', 'NGY-y', 'NGY-z', 'NWR-x', 'NWR-y', 'NWR-z']\n",
      "cometas: ['BallMachine_Acc_X(g)', 'BallMachine_Acc_Y(g)', 'BallMachine_Acc_Z(g)', 'Participant_Paddle_Acc_X(g)', 'Participant_Paddle_Acc_Y(g)', 'Participant_Paddle_Acc_Z(g)', 'Researcher_Paddle_Acc_X(g)', 'Researcher_Paddle_Acc_Y(g)', 'Researcher_Paddle_Acc_Z(g)', 'SyncPulse(uV)']\n",
      "noise: ['N-AF3', 'N-AF4', 'N-AF7', 'N-AF8', 'N-AFF1h', 'N-AFF2h', 'N-AFF5h', 'N-AFF6h', 'N-AFp1', 'N-AFp2', 'N-AFz', 'N-C1', 'N-C2', 'N-C3', 'N-C4', 'N-C5', 'N-C6', 'N-CCP1h', 'N-CCP2h', 'N-CCP3h', 'N-CCP4h', 'N-CCP5h', 'N-CCP6h', 'N-CP1', 'N-CP2', 'N-CP3', 'N-CP4', 'N-CP5', 'N-CP6', 'N-CPP1h', 'N-CPP2h', 'N-CPP3h', 'N-CPP4h', 'N-CPP5h', 'N-CPP6h', 'N-Cz', 'N-F1', 'N-F10', 'N-F2', 'N-F3', 'N-F4', 'N-F5', 'N-F6', 'N-F7', 'N-F8', 'N-F9', 'N-FC1', 'N-FC2', 'N-FC3', 'N-FC4', 'N-FC5', 'N-FC6', 'N-FCC1h', 'N-FCC2h', 'N-FCC3h', 'N-FCC4h', 'N-FCC5h', 'N-FCC6h', 'N-FCz', 'N-FFC1h', 'N-FFC2h', 'N-FFC3h', 'N-FFC4h', 'N-FFC5h', 'N-FFC6h', 'N-FFT10h', 'N-FFT7h', 'N-FFT8h', 'N-FFT9h', 'N-FP2', 'N-FT10', 'N-FT7', 'N-FT8', 'N-FT9', 'N-FTT10h', 'N-FTT7h', 'N-FTT8h', 'N-FTT9h', 'N-Fp1', 'N-Fz', 'N-Iz', 'N-O1', 'N-O2', 'N-OI1h', 'N-OI2h', 'N-Oz', 'N-P1', 'N-P2', 'N-P3', 'N-P4', 'N-P5', 'N-P6', 'N-P7', 'N-P8', 'N-PO3', 'N-PO4', 'N-PO7', 'N-PO8', 'N-POO1', 'N-POO10h', 'N-POO2', 'N-POO9h', 'N-POz', 'N-PPO10h', 'N-PPO1h', 'N-PPO2h', 'N-PPO5h', 'N-PPO6h', 'N-PPO9h', 'N-Pz', 'N-T7', 'N-T8', 'N-TP7', 'N-TP8', 'N-TPP10h', 'N-TPP7h', 'N-TPP8h', 'N-TPP9h', 'N-TTP7h', 'N-TTP8h']\n",
      "  raw_eeg = mne.io.read_raw_eeglab(eeg_dirname + f'sub-{SUB_ID}_task-TableTennis_eeg.set', preload=True)\n",
      "/tmp/ipykernel_1155911/3376151839.py:52: RuntimeWarning: Estimated head radius (10.9 cm) is above the 99th percentile for adult head size. Check if the montage_units argument is correct (the default is \"mm\", but your channel positions may be in different units).\n",
      "  raw_eeg = mne.io.read_raw_eeglab(eeg_dirname + f'sub-{SUB_ID}_task-TableTennis_eeg.set', preload=True)\n",
      "/tmp/ipykernel_1155911/3376151839.py:52: RuntimeWarning: Data file name in EEG.data (sub-04_task-tabletennis_eeg.fdt) is incorrect, the file name must have changed on disk, using the correct file name (sub-04_task-TableTennis_eeg.fdt).\n",
      "  raw_eeg = mne.io.read_raw_eeglab(eeg_dirname + f'sub-{SUB_ID}_task-TableTennis_eeg.set', preload=True)\n",
      "/tmp/ipykernel_1155911/3376151839.py:52: RuntimeWarning: Omitted 1 annotation(s) that were outside data range.\n",
      "  raw_eeg = mne.io.read_raw_eeglab(eeg_dirname + f'sub-{SUB_ID}_task-TableTennis_eeg.set', preload=True)\n",
      "/tmp/ipykernel_1155911/3376151839.py:52: RuntimeWarning: The data contains 'boundary' events, indicating data discontinuities. Be cautious of filtering and epoching around these events.\n",
      "  raw_eeg = mne.io.read_raw_eeglab(eeg_dirname + f'sub-{SUB_ID}_task-TableTennis_eeg.set', preload=True)\n",
      "/tmp/ipykernel_1155911/3376151839.py:52: RuntimeWarning: Not setting positions of 8 emg channels found in montage:\n",
      "['LISCM', 'LSSCM', 'LSTrap', 'LITrap', 'RITrap', 'RISCM', 'RSSCM', 'RSTrap']\n",
      "Consider setting the channel types to be of EEG/sEEG/ECoG/DBS/fNIRS using inst.set_channel_types before calling inst.set_montage, or omit these channels when creating your montage.\n",
      "  raw_eeg = mne.io.read_raw_eeglab(eeg_dirname + f'sub-{SUB_ID}_task-TableTennis_eeg.set', preload=True)\n",
      "/tmp/ipykernel_1155911/3376151839.py:70: RuntimeWarning: The unit for channel(s) BallMachine_Acc_X(g), BallMachine_Acc_Y(g), BallMachine_Acc_Z(g), CGY-x, CGY-y, CGY-z, CWR-x, CWR-y, CWR-z, N-AF3, N-AF4, N-AF7, N-AF8, N-AFF1h, N-AFF2h, N-AFF5h, N-AFF6h, N-AFp1, N-AFp2, N-AFz, N-C1, N-C2, N-C3, N-C4, N-C5, N-C6, N-CCP1h, N-CCP2h, N-CCP3h, N-CCP4h, N-CCP5h, N-CCP6h, N-CP1, N-CP2, N-CP3, N-CP4, N-CP5, N-CP6, N-CPP1h, N-CPP2h, N-CPP3h, N-CPP4h, N-CPP5h, N-CPP6h, N-Cz, N-F1, N-F10, N-F2, N-F3, N-F4, N-F5, N-F6, N-F7, N-F8, N-F9, N-FC1, N-FC2, N-FC3, N-FC4, N-FC5, N-FC6, N-FCC1h, N-FCC2h, N-FCC3h, N-FCC4h, N-FCC5h, N-FCC6h, N-FCz, N-FFC1h, N-FFC2h, N-FFC3h, N-FFC4h, N-FFC5h, N-FFC6h, N-FFT10h, N-FFT7h, N-FFT8h, N-FFT9h, N-FP2, N-FT10, N-FT7, N-FT8, N-FT9, N-FTT10h, N-FTT7h, N-FTT8h, N-FTT9h, N-Fp1, N-Fz, N-Iz, N-O1, N-O2, N-OI1h, N-OI2h, N-Oz, N-P1, N-P2, N-P3, N-P4, N-P5, N-P6, N-P7, N-P8, N-PO3, N-PO4, N-PO7, N-PO8, N-POO1, N-POO10h, N-POO2, N-POO9h, N-POz, N-PPO10h, N-PPO1h, N-PPO2h, N-PPO5h, N-PPO6h, N-PPO9h, N-Pz, N-T7, N-T8, N-TP7, N-TP8, N-TPP10h, N-TPP7h, N-TPP8h, N-TPP9h, N-TTP7h, N-TTP8h, NGY-x, NGY-y, NGY-z, NWR-x, NWR-y, NWR-z, Participant_Paddle_Acc_X(g), Participant_Paddle_Acc_Y(g), Participant_Paddle_Acc_Z(g), Researcher_Paddle_Acc_X(g), Researcher_Paddle_Acc_Y(g), Researcher_Paddle_Acc_Z(g), SyncPulse(uV) has changed from V to NA.\n",
      "  raw_eeg.set_channel_types(channel_types)\n"
     ]
    },
    {
     "name": "stdout",
     "output_type": "stream",
     "text": [
      "NOTE: pick_channels() is a legacy function. New code should use inst.pick(...).\n",
      "Reading /data/vladimiroved/realWorldTableTennis/sub-05/eeg/sub-05_task-TableTennis_eeg.fdt\n",
      "Reading 0 ... 1038925  =      0.000 ...  4155.700 secs...\n"
     ]
    },
    {
     "name": "stderr",
     "output_type": "stream",
     "text": [
      "/tmp/ipykernel_1155911/3376151839.py:52: RuntimeWarning: Unknown types found, setting as type EEG:\n",
      "acc: ['CGY-x', 'CGY-y', 'CGY-z', 'CWR-x', 'CWR-y', 'CWR-z', 'NGY-x', 'NGY-y', 'NGY-z', 'NWR-x', 'NWR-y', 'NWR-z']\n",
      "cometas: ['BallMachine_Acc_X(g)', 'BallMachine_Acc_Y(g)', 'BallMachine_Acc_Z(g)', 'Imu_2 :W():', 'Imu_2 :X():', 'Imu_2 :Y():', 'Imu_2 :Z():', 'Imu_2_ImuGyro :X(D/s):', 'Imu_2_ImuGyro :Y(D/s):', 'Imu_2_ImuGyro :Z(D/s):', 'Imu_2_ImuMag :X(uT):', 'Imu_2_ImuMag :Y(uT):', 'Imu_2_ImuMag :Z(uT):', 'Imu_3 :W():', 'Imu_3 :X():', 'Imu_3 :Y():', 'Imu_3 :Z():', 'Imu_3_ImuGyro :X(D/s):', 'Imu_3_ImuGyro :Y(D/s):', 'Imu_3_ImuGyro :Z(D/s):', 'Imu_3_ImuMag :X(uT):', 'Imu_3_ImuMag :Y(uT):', 'Imu_3_ImuMag :Z(uT):', 'Imu_4 :W():', 'Imu_4 :X():', 'Imu_4 :Y():', 'Imu_4 :Z():', 'Imu_4_ImuGyro :X(D/s):', 'Imu_4_ImuGyro :Y(D/s):', 'Imu_4_ImuGyro :Z(D/s):', 'Imu_4_ImuMag :X(uT):', 'Imu_4_ImuMag :Y(uT):', 'Imu_4_ImuMag :Z(uT):', 'Imu_5 :W():', 'Imu_5 :X():', 'Imu_5 :Y():', 'Imu_5 :Z():', 'Imu_5_ImuGyro :X(D/s):', 'Imu_5_ImuGyro :Y(D/s):', 'Imu_5_ImuGyro :Z(D/s):', 'Imu_5_ImuMag :X(uT):', 'Imu_5_ImuMag :Y(uT):', 'Imu_5_ImuMag :Z(uT):', 'Net_Acc_X(g)', 'Net_Acc_Y(g)', 'Net_Acc_Z(g)', 'Participant_Paddle_Acc_X(g)', 'Participant_Paddle_Acc_Y(g)', 'Participant_Paddle_Acc_Z(g)', 'Researcher_Paddle_Acc_X(g)', 'Researcher_Paddle_Acc_Y(g)', 'Researcher_Paddle_Acc_Z(g)', 'SyncPulse(uV)']\n",
      "noise: ['N-AF3', 'N-AF4', 'N-AF7', 'N-AF8', 'N-AFF1h', 'N-AFF2h', 'N-AFF5h', 'N-AFF6h', 'N-AFp1', 'N-AFp2', 'N-AFz', 'N-C1', 'N-C2', 'N-C3', 'N-C4', 'N-C5', 'N-C6', 'N-CCP1h', 'N-CCP2h', 'N-CCP3h', 'N-CCP4h', 'N-CCP5h', 'N-CCP6h', 'N-CP1', 'N-CP2', 'N-CP3', 'N-CP4', 'N-CP5', 'N-CP6', 'N-CPP1h', 'N-CPP2h', 'N-CPP3h', 'N-CPP4h', 'N-CPP5h', 'N-CPP6h', 'N-Cz', 'N-F1', 'N-F10', 'N-F2', 'N-F3', 'N-F4', 'N-F5', 'N-F6', 'N-F7', 'N-F8', 'N-F9', 'N-FC1', 'N-FC2', 'N-FC3', 'N-FC4', 'N-FC5', 'N-FC6', 'N-FCC1h', 'N-FCC2h', 'N-FCC3h', 'N-FCC4h', 'N-FCC5h', 'N-FCC6h', 'N-FCz', 'N-FFC1h', 'N-FFC2h', 'N-FFC3h', 'N-FFC4h', 'N-FFC5h', 'N-FFC6h', 'N-FFT10h', 'N-FFT7h', 'N-FFT8h', 'N-FFT9h', 'N-FP2', 'N-FT10', 'N-FT7', 'N-FT8', 'N-FT9', 'N-FTT10h', 'N-FTT7h', 'N-FTT8h', 'N-FTT9h', 'N-Fp1', 'N-Fz', 'N-Iz', 'N-O1', 'N-O2', 'N-OI1h', 'N-OI2h', 'N-Oz', 'N-P1', 'N-P2', 'N-P3', 'N-P4', 'N-P5', 'N-P6', 'N-P7', 'N-P8', 'N-PO3', 'N-PO4', 'N-PO7', 'N-PO8', 'N-POO1', 'N-POO10h', 'N-POO2', 'N-POO9h', 'N-POz', 'N-PPO10h', 'N-PPO1h', 'N-PPO2h', 'N-PPO5h', 'N-PPO6h', 'N-PPO9h', 'N-Pz', 'N-T7', 'N-T8', 'N-TP7', 'N-TP8', 'N-TPP10h', 'N-TPP7h', 'N-TPP8h', 'N-TPP9h', 'N-TTP7h', 'N-TTP8h']\n",
      "  raw_eeg = mne.io.read_raw_eeglab(eeg_dirname + f'sub-{SUB_ID}_task-TableTennis_eeg.set', preload=True)\n",
      "/tmp/ipykernel_1155911/3376151839.py:52: RuntimeWarning: Data file name in EEG.data (sub-05_task-tabletennis_eeg.fdt) is incorrect, the file name must have changed on disk, using the correct file name (sub-05_task-TableTennis_eeg.fdt).\n",
      "  raw_eeg = mne.io.read_raw_eeglab(eeg_dirname + f'sub-{SUB_ID}_task-TableTennis_eeg.set', preload=True)\n",
      "/tmp/ipykernel_1155911/3376151839.py:52: RuntimeWarning: Omitted 1 annotation(s) that were outside data range.\n",
      "  raw_eeg = mne.io.read_raw_eeglab(eeg_dirname + f'sub-{SUB_ID}_task-TableTennis_eeg.set', preload=True)\n",
      "/tmp/ipykernel_1155911/3376151839.py:52: RuntimeWarning: The data contains 'boundary' events, indicating data discontinuities. Be cautious of filtering and epoching around these events.\n",
      "  raw_eeg = mne.io.read_raw_eeglab(eeg_dirname + f'sub-{SUB_ID}_task-TableTennis_eeg.set', preload=True)\n",
      "/tmp/ipykernel_1155911/3376151839.py:52: RuntimeWarning: Not setting positions of 8 emg channels found in montage:\n",
      "['LISCM', 'LSSCM', 'LSTrap', 'LITrap', 'RITrap', 'RISCM', 'RSSCM', 'RSTrap']\n",
      "Consider setting the channel types to be of EEG/sEEG/ECoG/DBS/fNIRS using inst.set_channel_types before calling inst.set_montage, or omit these channels when creating your montage.\n",
      "  raw_eeg = mne.io.read_raw_eeglab(eeg_dirname + f'sub-{SUB_ID}_task-TableTennis_eeg.set', preload=True)\n",
      "/tmp/ipykernel_1155911/3376151839.py:70: RuntimeWarning: The unit for channel(s) BallMachine_Acc_X(g), BallMachine_Acc_Y(g), BallMachine_Acc_Z(g), CGY-x, CGY-y, CGY-z, CWR-x, CWR-y, CWR-z, Imu_2 :W():, Imu_2 :X():, Imu_2 :Y():, Imu_2 :Z():, Imu_2_ImuGyro :X(D/s):, Imu_2_ImuGyro :Y(D/s):, Imu_2_ImuGyro :Z(D/s):, Imu_2_ImuMag :X(uT):, Imu_2_ImuMag :Y(uT):, Imu_2_ImuMag :Z(uT):, Imu_3 :W():, Imu_3 :X():, Imu_3 :Y():, Imu_3 :Z():, Imu_3_ImuGyro :X(D/s):, Imu_3_ImuGyro :Y(D/s):, Imu_3_ImuGyro :Z(D/s):, Imu_3_ImuMag :X(uT):, Imu_3_ImuMag :Y(uT):, Imu_3_ImuMag :Z(uT):, Imu_4 :W():, Imu_4 :X():, Imu_4 :Y():, Imu_4 :Z():, Imu_4_ImuGyro :X(D/s):, Imu_4_ImuGyro :Y(D/s):, Imu_4_ImuGyro :Z(D/s):, Imu_4_ImuMag :X(uT):, Imu_4_ImuMag :Y(uT):, Imu_4_ImuMag :Z(uT):, Imu_5 :W():, Imu_5 :X():, Imu_5 :Y():, Imu_5 :Z():, Imu_5_ImuGyro :X(D/s):, Imu_5_ImuGyro :Y(D/s):, Imu_5_ImuGyro :Z(D/s):, Imu_5_ImuMag :X(uT):, Imu_5_ImuMag :Y(uT):, Imu_5_ImuMag :Z(uT):, N-AF3, N-AF4, N-AF7, N-AF8, N-AFF1h, N-AFF2h, N-AFF5h, N-AFF6h, N-AFp1, N-AFp2, N-AFz, N-C1, N-C2, N-C3, N-C4, N-C5, N-C6, N-CCP1h, N-CCP2h, N-CCP3h, N-CCP4h, N-CCP5h, N-CCP6h, N-CP1, N-CP2, N-CP3, N-CP4, N-CP5, N-CP6, N-CPP1h, N-CPP2h, N-CPP3h, N-CPP4h, N-CPP5h, N-CPP6h, N-Cz, N-F1, N-F10, N-F2, N-F3, N-F4, N-F5, N-F6, N-F7, N-F8, N-F9, N-FC1, N-FC2, N-FC3, N-FC4, N-FC5, N-FC6, N-FCC1h, N-FCC2h, N-FCC3h, N-FCC4h, N-FCC5h, N-FCC6h, N-FCz, N-FFC1h, N-FFC2h, N-FFC3h, N-FFC4h, N-FFC5h, N-FFC6h, N-FFT10h, N-FFT7h, N-FFT8h, N-FFT9h, N-FP2, N-FT10, N-FT7, N-FT8, N-FT9, N-FTT10h, N-FTT7h, N-FTT8h, N-FTT9h, N-Fp1, N-Fz, N-Iz, N-O1, N-O2, N-OI1h, N-OI2h, N-Oz, N-P1, N-P2, N-P3, N-P4, N-P5, N-P6, N-P7, N-P8, N-PO3, N-PO4, N-PO7, N-PO8, N-POO1, N-POO10h, N-POO2, N-POO9h, N-POz, N-PPO10h, N-PPO1h, N-PPO2h, N-PPO5h, N-PPO6h, N-PPO9h, N-Pz, N-T7, N-T8, N-TP7, N-TP8, N-TPP10h, N-TPP7h, N-TPP8h, N-TPP9h, N-TTP7h, N-TTP8h, NGY-x, NGY-y, NGY-z, NWR-x, NWR-y, NWR-z, Net_Acc_X(g), Net_Acc_Y(g), Net_Acc_Z(g), Participant_Paddle_Acc_X(g), Participant_Paddle_Acc_Y(g), Participant_Paddle_Acc_Z(g), Researcher_Paddle_Acc_X(g), Researcher_Paddle_Acc_Y(g), Researcher_Paddle_Acc_Z(g), SyncPulse(uV) has changed from V to NA.\n",
      "  raw_eeg.set_channel_types(channel_types)\n"
     ]
    },
    {
     "name": "stdout",
     "output_type": "stream",
     "text": [
      "NOTE: pick_channels() is a legacy function. New code should use inst.pick(...).\n",
      "Reading /data/vladimiroved/realWorldTableTennis/sub-06/eeg/sub-06_task-TableTennis_eeg.fdt\n",
      "Reading 0 ... 1042908  =      0.000 ...  4171.632 secs...\n"
     ]
    },
    {
     "name": "stderr",
     "output_type": "stream",
     "text": [
      "/tmp/ipykernel_1155911/3376151839.py:52: RuntimeWarning: Unknown types found, setting as type EEG:\n",
      "acc: ['CGY-x', 'CGY-y', 'CGY-z', 'CWR-x', 'CWR-y', 'CWR-z', 'NGY-x', 'NGY-y', 'NGY-z', 'NWR-x', 'NWR-y', 'NWR-z']\n",
      "cometas: ['BallMachine_Acc_X(g)', 'BallMachine_Acc_Y(g)', 'BallMachine_Acc_Z(g)', 'Imu_2 :W():', 'Imu_2 :X():', 'Imu_2 :Y():', 'Imu_2 :Z():', 'Imu_2_ImuGyro :X(D/s):', 'Imu_2_ImuGyro :Y(D/s):', 'Imu_2_ImuGyro :Z(D/s):', 'Imu_2_ImuMag :X(uT):', 'Imu_2_ImuMag :Y(uT):', 'Imu_2_ImuMag :Z(uT):', 'Imu_3 :W():', 'Imu_3 :X():', 'Imu_3 :Y():', 'Imu_3 :Z():', 'Imu_3_ImuGyro :X(D/s):', 'Imu_3_ImuGyro :Y(D/s):', 'Imu_3_ImuGyro :Z(D/s):', 'Imu_3_ImuMag :X(uT):', 'Imu_3_ImuMag :Y(uT):', 'Imu_3_ImuMag :Z(uT):', 'Imu_4 :W():', 'Imu_4 :X():', 'Imu_4 :Y():', 'Imu_4 :Z():', 'Imu_4_ImuGyro :X(D/s):', 'Imu_4_ImuGyro :Y(D/s):', 'Imu_4_ImuGyro :Z(D/s):', 'Imu_4_ImuMag :X(uT):', 'Imu_4_ImuMag :Y(uT):', 'Imu_4_ImuMag :Z(uT):', 'Imu_5 :W():', 'Imu_5 :X():', 'Imu_5 :Y():', 'Imu_5 :Z():', 'Imu_5_ImuGyro :X(D/s):', 'Imu_5_ImuGyro :Y(D/s):', 'Imu_5_ImuGyro :Z(D/s):', 'Imu_5_ImuMag :X(uT):', 'Imu_5_ImuMag :Y(uT):', 'Imu_5_ImuMag :Z(uT):', 'Net_Acc_X(g)', 'Net_Acc_Y(g)', 'Net_Acc_Z(g)', 'Participant_Paddle_Acc_X(g)', 'Participant_Paddle_Acc_Y(g)', 'Participant_Paddle_Acc_Z(g)', 'Researcher_Paddle_Acc_X(g)', 'Researcher_Paddle_Acc_Y(g)', 'Researcher_Paddle_Acc_Z(g)', 'SyncPulse(uV)']\n",
      "noise: ['N-AF3', 'N-AF4', 'N-AF7', 'N-AF8', 'N-AFF1h', 'N-AFF2h', 'N-AFF5h', 'N-AFF6h', 'N-AFp1', 'N-AFp2', 'N-AFz', 'N-C1', 'N-C2', 'N-C3', 'N-C4', 'N-C5', 'N-C6', 'N-CCP1h', 'N-CCP2h', 'N-CCP3h', 'N-CCP4h', 'N-CCP5h', 'N-CCP6h', 'N-CP1', 'N-CP2', 'N-CP3', 'N-CP4', 'N-CP5', 'N-CP6', 'N-CPP1h', 'N-CPP2h', 'N-CPP3h', 'N-CPP4h', 'N-CPP5h', 'N-CPP6h', 'N-Cz', 'N-F1', 'N-F10', 'N-F2', 'N-F3', 'N-F4', 'N-F5', 'N-F6', 'N-F7', 'N-F8', 'N-F9', 'N-FC1', 'N-FC2', 'N-FC3', 'N-FC4', 'N-FC5', 'N-FC6', 'N-FCC1h', 'N-FCC2h', 'N-FCC3h', 'N-FCC4h', 'N-FCC5h', 'N-FCC6h', 'N-FCz', 'N-FFC1h', 'N-FFC2h', 'N-FFC3h', 'N-FFC4h', 'N-FFC5h', 'N-FFC6h', 'N-FFT10h', 'N-FFT7h', 'N-FFT8h', 'N-FFT9h', 'N-FP2', 'N-FT10', 'N-FT7', 'N-FT8', 'N-FT9', 'N-FTT10h', 'N-FTT7h', 'N-FTT8h', 'N-FTT9h', 'N-Fp1', 'N-Fz', 'N-Iz', 'N-O1', 'N-O2', 'N-OI1h', 'N-OI2h', 'N-Oz', 'N-P1', 'N-P2', 'N-P3', 'N-P4', 'N-P5', 'N-P6', 'N-P7', 'N-P8', 'N-PO3', 'N-PO4', 'N-PO7', 'N-PO8', 'N-POO1', 'N-POO10h', 'N-POO2', 'N-POO9h', 'N-POz', 'N-PPO10h', 'N-PPO1h', 'N-PPO2h', 'N-PPO5h', 'N-PPO6h', 'N-PPO9h', 'N-Pz', 'N-T7', 'N-T8', 'N-TP7', 'N-TP8', 'N-TPP10h', 'N-TPP7h', 'N-TPP8h', 'N-TPP9h', 'N-TTP7h', 'N-TTP8h']\n",
      "  raw_eeg = mne.io.read_raw_eeglab(eeg_dirname + f'sub-{SUB_ID}_task-TableTennis_eeg.set', preload=True)\n",
      "/tmp/ipykernel_1155911/3376151839.py:52: RuntimeWarning: Estimated head radius (12.2 cm) is above the 99th percentile for adult head size. Check if the montage_units argument is correct (the default is \"mm\", but your channel positions may be in different units).\n",
      "  raw_eeg = mne.io.read_raw_eeglab(eeg_dirname + f'sub-{SUB_ID}_task-TableTennis_eeg.set', preload=True)\n",
      "/tmp/ipykernel_1155911/3376151839.py:52: RuntimeWarning: Data file name in EEG.data (sub-06_task-tabletennis_eeg.fdt) is incorrect, the file name must have changed on disk, using the correct file name (sub-06_task-TableTennis_eeg.fdt).\n",
      "  raw_eeg = mne.io.read_raw_eeglab(eeg_dirname + f'sub-{SUB_ID}_task-TableTennis_eeg.set', preload=True)\n",
      "/tmp/ipykernel_1155911/3376151839.py:52: RuntimeWarning: Omitted 1 annotation(s) that were outside data range.\n",
      "  raw_eeg = mne.io.read_raw_eeglab(eeg_dirname + f'sub-{SUB_ID}_task-TableTennis_eeg.set', preload=True)\n",
      "/tmp/ipykernel_1155911/3376151839.py:52: RuntimeWarning: The data contains 'boundary' events, indicating data discontinuities. Be cautious of filtering and epoching around these events.\n",
      "  raw_eeg = mne.io.read_raw_eeglab(eeg_dirname + f'sub-{SUB_ID}_task-TableTennis_eeg.set', preload=True)\n",
      "/tmp/ipykernel_1155911/3376151839.py:52: RuntimeWarning: Not setting positions of 8 emg channels found in montage:\n",
      "['LISCM', 'LSSCM', 'LSTrap', 'LITrap', 'RITrap', 'RISCM', 'RSSCM', 'RSTrap']\n",
      "Consider setting the channel types to be of EEG/sEEG/ECoG/DBS/fNIRS using inst.set_channel_types before calling inst.set_montage, or omit these channels when creating your montage.\n",
      "  raw_eeg = mne.io.read_raw_eeglab(eeg_dirname + f'sub-{SUB_ID}_task-TableTennis_eeg.set', preload=True)\n",
      "/tmp/ipykernel_1155911/3376151839.py:70: RuntimeWarning: The unit for channel(s) BallMachine_Acc_X(g), BallMachine_Acc_Y(g), BallMachine_Acc_Z(g), CGY-x, CGY-y, CGY-z, CWR-x, CWR-y, CWR-z, Imu_2 :W():, Imu_2 :X():, Imu_2 :Y():, Imu_2 :Z():, Imu_2_ImuGyro :X(D/s):, Imu_2_ImuGyro :Y(D/s):, Imu_2_ImuGyro :Z(D/s):, Imu_2_ImuMag :X(uT):, Imu_2_ImuMag :Y(uT):, Imu_2_ImuMag :Z(uT):, Imu_3 :W():, Imu_3 :X():, Imu_3 :Y():, Imu_3 :Z():, Imu_3_ImuGyro :X(D/s):, Imu_3_ImuGyro :Y(D/s):, Imu_3_ImuGyro :Z(D/s):, Imu_3_ImuMag :X(uT):, Imu_3_ImuMag :Y(uT):, Imu_3_ImuMag :Z(uT):, Imu_4 :W():, Imu_4 :X():, Imu_4 :Y():, Imu_4 :Z():, Imu_4_ImuGyro :X(D/s):, Imu_4_ImuGyro :Y(D/s):, Imu_4_ImuGyro :Z(D/s):, Imu_4_ImuMag :X(uT):, Imu_4_ImuMag :Y(uT):, Imu_4_ImuMag :Z(uT):, Imu_5 :W():, Imu_5 :X():, Imu_5 :Y():, Imu_5 :Z():, Imu_5_ImuGyro :X(D/s):, Imu_5_ImuGyro :Y(D/s):, Imu_5_ImuGyro :Z(D/s):, Imu_5_ImuMag :X(uT):, Imu_5_ImuMag :Y(uT):, Imu_5_ImuMag :Z(uT):, N-AF3, N-AF4, N-AF7, N-AF8, N-AFF1h, N-AFF2h, N-AFF5h, N-AFF6h, N-AFp1, N-AFp2, N-AFz, N-C1, N-C2, N-C3, N-C4, N-C5, N-C6, N-CCP1h, N-CCP2h, N-CCP3h, N-CCP4h, N-CCP5h, N-CCP6h, N-CP1, N-CP2, N-CP3, N-CP4, N-CP5, N-CP6, N-CPP1h, N-CPP2h, N-CPP3h, N-CPP4h, N-CPP5h, N-CPP6h, N-Cz, N-F1, N-F10, N-F2, N-F3, N-F4, N-F5, N-F6, N-F7, N-F8, N-F9, N-FC1, N-FC2, N-FC3, N-FC4, N-FC5, N-FC6, N-FCC1h, N-FCC2h, N-FCC3h, N-FCC4h, N-FCC5h, N-FCC6h, N-FCz, N-FFC1h, N-FFC2h, N-FFC3h, N-FFC4h, N-FFC5h, N-FFC6h, N-FFT10h, N-FFT7h, N-FFT8h, N-FFT9h, N-FP2, N-FT10, N-FT7, N-FT8, N-FT9, N-FTT10h, N-FTT7h, N-FTT8h, N-FTT9h, N-Fp1, N-Fz, N-Iz, N-O1, N-O2, N-OI1h, N-OI2h, N-Oz, N-P1, N-P2, N-P3, N-P4, N-P5, N-P6, N-P7, N-P8, N-PO3, N-PO4, N-PO7, N-PO8, N-POO1, N-POO10h, N-POO2, N-POO9h, N-POz, N-PPO10h, N-PPO1h, N-PPO2h, N-PPO5h, N-PPO6h, N-PPO9h, N-Pz, N-T7, N-T8, N-TP7, N-TP8, N-TPP10h, N-TPP7h, N-TPP8h, N-TPP9h, N-TTP7h, N-TTP8h, NGY-x, NGY-y, NGY-z, NWR-x, NWR-y, NWR-z, Net_Acc_X(g), Net_Acc_Y(g), Net_Acc_Z(g), Participant_Paddle_Acc_X(g), Participant_Paddle_Acc_Y(g), Participant_Paddle_Acc_Z(g), Researcher_Paddle_Acc_X(g), Researcher_Paddle_Acc_Y(g), Researcher_Paddle_Acc_Z(g), SyncPulse(uV) has changed from V to NA.\n",
      "  raw_eeg.set_channel_types(channel_types)\n"
     ]
    },
    {
     "name": "stdout",
     "output_type": "stream",
     "text": [
      "NOTE: pick_channels() is a legacy function. New code should use inst.pick(...).\n",
      "Reading /data/vladimiroved/realWorldTableTennis/sub-07/eeg/sub-07_task-TableTennis_eeg.fdt\n",
      "Reading 0 ... 1174502  =      0.000 ...  4698.008 secs...\n"
     ]
    },
    {
     "name": "stderr",
     "output_type": "stream",
     "text": [
      "/tmp/ipykernel_1155911/3376151839.py:52: RuntimeWarning: Unknown types found, setting as type EEG:\n",
      "acc: ['CGY-x', 'CGY-y', 'CGY-z', 'CWR-x', 'CWR-y', 'CWR-z', 'NGY-x', 'NGY-y', 'NGY-z', 'NWR-x', 'NWR-y', 'NWR-z']\n",
      "cometas: ['BallMachine_Acc_X(g)', 'BallMachine_Acc_Y(g)', 'BallMachine_Acc_Z(g)', 'Imu_2 :W():', 'Imu_2 :X():', 'Imu_2 :Y():', 'Imu_2 :Z():', 'Imu_2_ImuGyro :X(D/s):', 'Imu_2_ImuGyro :Y(D/s):', 'Imu_2_ImuGyro :Z(D/s):', 'Imu_2_ImuMag :X(uT):', 'Imu_2_ImuMag :Y(uT):', 'Imu_2_ImuMag :Z(uT):', 'Imu_4 :W():', 'Imu_4 :X():', 'Imu_4 :Y():', 'Imu_4 :Z():', 'Imu_4_ImuGyro :X(D/s):', 'Imu_4_ImuGyro :Y(D/s):', 'Imu_4_ImuGyro :Z(D/s):', 'Imu_4_ImuMag :X(uT):', 'Imu_4_ImuMag :Y(uT):', 'Imu_4_ImuMag :Z(uT):', 'Net_Acc_X(g)', 'Net_Acc_Y(g)', 'Net_Acc_Z(g)', 'Participant_Paddle_Acc_X(g)', 'Participant_Paddle_Acc_Y(g)', 'Participant_Paddle_Acc_Z(g)', 'Researcher_Paddle_Acc_X(g)', 'Researcher_Paddle_Acc_Y(g)', 'Researcher_Paddle_Acc_Z(g)', 'SyncPulse(uV)', 'Table_OtherSide_Acc_X(g)', 'Table_OtherSide_Acc_Y(g)', 'Table_OtherSide_Acc_Z(g)', 'Table_ParticipantSide_Acc_X(g)', 'Table_ParticipantSide_Acc_Y(g)', 'Table_ParticipantSide_Acc_Z(g)']\n",
      "noise: ['N-AF3', 'N-AF4', 'N-AF7', 'N-AF8', 'N-AFF1h', 'N-AFF2h', 'N-AFF5h', 'N-AFF6h', 'N-AFp1', 'N-AFp2', 'N-AFz', 'N-C1', 'N-C2', 'N-C3', 'N-C4', 'N-C5', 'N-C6', 'N-CCP1h', 'N-CCP2h', 'N-CCP3h', 'N-CCP4h', 'N-CCP5h', 'N-CCP6h', 'N-CP1', 'N-CP2', 'N-CP3', 'N-CP4', 'N-CP5', 'N-CP6', 'N-CPP1h', 'N-CPP2h', 'N-CPP3h', 'N-CPP4h', 'N-CPP5h', 'N-CPP6h', 'N-Cz', 'N-F1', 'N-F10', 'N-F2', 'N-F3', 'N-F4', 'N-F5', 'N-F6', 'N-F7', 'N-F8', 'N-F9', 'N-FC1', 'N-FC2', 'N-FC3', 'N-FC4', 'N-FC5', 'N-FC6', 'N-FCC1h', 'N-FCC2h', 'N-FCC3h', 'N-FCC4h', 'N-FCC5h', 'N-FCC6h', 'N-FCz', 'N-FFC1h', 'N-FFC2h', 'N-FFC3h', 'N-FFC4h', 'N-FFC5h', 'N-FFC6h', 'N-FFT10h', 'N-FFT7h', 'N-FFT8h', 'N-FFT9h', 'N-FP2', 'N-FT10', 'N-FT7', 'N-FT8', 'N-FT9', 'N-FTT10h', 'N-FTT7h', 'N-FTT8h', 'N-FTT9h', 'N-Fp1', 'N-Fz', 'N-Iz', 'N-O1', 'N-O2', 'N-OI1h', 'N-OI2h', 'N-Oz', 'N-P1', 'N-P2', 'N-P3', 'N-P4', 'N-P5', 'N-P6', 'N-P7', 'N-P8', 'N-PO3', 'N-PO4', 'N-PO7', 'N-PO8', 'N-POO1', 'N-POO10h', 'N-POO2', 'N-POO9h', 'N-POz', 'N-PPO10h', 'N-PPO1h', 'N-PPO2h', 'N-PPO5h', 'N-PPO6h', 'N-PPO9h', 'N-Pz', 'N-T7', 'N-T8', 'N-TP7', 'N-TP8', 'N-TPP10h', 'N-TPP7h', 'N-TPP8h', 'N-TPP9h', 'N-TTP7h', 'N-TTP8h']\n",
      "  raw_eeg = mne.io.read_raw_eeglab(eeg_dirname + f'sub-{SUB_ID}_task-TableTennis_eeg.set', preload=True)\n",
      "/tmp/ipykernel_1155911/3376151839.py:52: RuntimeWarning: Estimated head radius (11.4 cm) is above the 99th percentile for adult head size. Check if the montage_units argument is correct (the default is \"mm\", but your channel positions may be in different units).\n",
      "  raw_eeg = mne.io.read_raw_eeglab(eeg_dirname + f'sub-{SUB_ID}_task-TableTennis_eeg.set', preload=True)\n",
      "/tmp/ipykernel_1155911/3376151839.py:52: RuntimeWarning: Data file name in EEG.data (sub-07_task-tabletennis_eeg.fdt) is incorrect, the file name must have changed on disk, using the correct file name (sub-07_task-TableTennis_eeg.fdt).\n",
      "  raw_eeg = mne.io.read_raw_eeglab(eeg_dirname + f'sub-{SUB_ID}_task-TableTennis_eeg.set', preload=True)\n",
      "/tmp/ipykernel_1155911/3376151839.py:52: RuntimeWarning: Omitted 1 annotation(s) that were outside data range.\n",
      "  raw_eeg = mne.io.read_raw_eeglab(eeg_dirname + f'sub-{SUB_ID}_task-TableTennis_eeg.set', preload=True)\n",
      "/tmp/ipykernel_1155911/3376151839.py:52: RuntimeWarning: The data contains 'boundary' events, indicating data discontinuities. Be cautious of filtering and epoching around these events.\n",
      "  raw_eeg = mne.io.read_raw_eeglab(eeg_dirname + f'sub-{SUB_ID}_task-TableTennis_eeg.set', preload=True)\n",
      "/tmp/ipykernel_1155911/3376151839.py:52: RuntimeWarning: Not setting positions of 8 emg channels found in montage:\n",
      "['LISCM', 'LSSCM', 'LSTrap', 'LITrap', 'RITrap', 'RISCM', 'RSSCM', 'RSTrap']\n",
      "Consider setting the channel types to be of EEG/sEEG/ECoG/DBS/fNIRS using inst.set_channel_types before calling inst.set_montage, or omit these channels when creating your montage.\n",
      "  raw_eeg = mne.io.read_raw_eeglab(eeg_dirname + f'sub-{SUB_ID}_task-TableTennis_eeg.set', preload=True)\n",
      "/tmp/ipykernel_1155911/3376151839.py:70: RuntimeWarning: The unit for channel(s) BallMachine_Acc_X(g), BallMachine_Acc_Y(g), BallMachine_Acc_Z(g), CGY-x, CGY-y, CGY-z, CWR-x, CWR-y, CWR-z, Imu_2 :W():, Imu_2 :X():, Imu_2 :Y():, Imu_2 :Z():, Imu_2_ImuGyro :X(D/s):, Imu_2_ImuGyro :Y(D/s):, Imu_2_ImuGyro :Z(D/s):, Imu_2_ImuMag :X(uT):, Imu_2_ImuMag :Y(uT):, Imu_2_ImuMag :Z(uT):, Imu_4 :W():, Imu_4 :X():, Imu_4 :Y():, Imu_4 :Z():, Imu_4_ImuGyro :X(D/s):, Imu_4_ImuGyro :Y(D/s):, Imu_4_ImuGyro :Z(D/s):, Imu_4_ImuMag :X(uT):, Imu_4_ImuMag :Y(uT):, Imu_4_ImuMag :Z(uT):, N-AF3, N-AF4, N-AF7, N-AF8, N-AFF1h, N-AFF2h, N-AFF5h, N-AFF6h, N-AFp1, N-AFp2, N-AFz, N-C1, N-C2, N-C3, N-C4, N-C5, N-C6, N-CCP1h, N-CCP2h, N-CCP3h, N-CCP4h, N-CCP5h, N-CCP6h, N-CP1, N-CP2, N-CP3, N-CP4, N-CP5, N-CP6, N-CPP1h, N-CPP2h, N-CPP3h, N-CPP4h, N-CPP5h, N-CPP6h, N-Cz, N-F1, N-F10, N-F2, N-F3, N-F4, N-F5, N-F6, N-F7, N-F8, N-F9, N-FC1, N-FC2, N-FC3, N-FC4, N-FC5, N-FC6, N-FCC1h, N-FCC2h, N-FCC3h, N-FCC4h, N-FCC5h, N-FCC6h, N-FCz, N-FFC1h, N-FFC2h, N-FFC3h, N-FFC4h, N-FFC5h, N-FFC6h, N-FFT10h, N-FFT7h, N-FFT8h, N-FFT9h, N-FP2, N-FT10, N-FT7, N-FT8, N-FT9, N-FTT10h, N-FTT7h, N-FTT8h, N-FTT9h, N-Fp1, N-Fz, N-Iz, N-O1, N-O2, N-OI1h, N-OI2h, N-Oz, N-P1, N-P2, N-P3, N-P4, N-P5, N-P6, N-P7, N-P8, N-PO3, N-PO4, N-PO7, N-PO8, N-POO1, N-POO10h, N-POO2, N-POO9h, N-POz, N-PPO10h, N-PPO1h, N-PPO2h, N-PPO5h, N-PPO6h, N-PPO9h, N-Pz, N-T7, N-T8, N-TP7, N-TP8, N-TPP10h, N-TPP7h, N-TPP8h, N-TPP9h, N-TTP7h, N-TTP8h, NGY-x, NGY-y, NGY-z, NWR-x, NWR-y, NWR-z, Net_Acc_X(g), Net_Acc_Y(g), Net_Acc_Z(g), Participant_Paddle_Acc_X(g), Participant_Paddle_Acc_Y(g), Participant_Paddle_Acc_Z(g), Researcher_Paddle_Acc_X(g), Researcher_Paddle_Acc_Y(g), Researcher_Paddle_Acc_Z(g), SyncPulse(uV), Table_OtherSide_Acc_X(g), Table_OtherSide_Acc_Y(g), Table_OtherSide_Acc_Z(g), Table_ParticipantSide_Acc_X(g), Table_ParticipantSide_Acc_Y(g), Table_ParticipantSide_Acc_Z(g) has changed from V to NA.\n",
      "  raw_eeg.set_channel_types(channel_types)\n"
     ]
    },
    {
     "name": "stdout",
     "output_type": "stream",
     "text": [
      "NOTE: pick_channels() is a legacy function. New code should use inst.pick(...).\n",
      "Reading /data/vladimiroved/realWorldTableTennis/sub-08/eeg/sub-08_task-TableTennis_eeg.fdt\n",
      "Reading 0 ... 1159909  =      0.000 ...  4639.636 secs...\n"
     ]
    },
    {
     "name": "stderr",
     "output_type": "stream",
     "text": [
      "/tmp/ipykernel_1155911/3376151839.py:52: RuntimeWarning: Unknown types found, setting as type EEG:\n",
      "acc: ['CGY-x', 'CGY-y', 'CGY-z', 'CWR-x', 'CWR-y', 'CWR-z', 'NGY-x', 'NGY-y', 'NGY-z', 'NWR-x', 'NWR-y', 'NWR-z']\n",
      "cometas: ['BallMachine_Acc_X(g)', 'BallMachine_Acc_Y(g)', 'BallMachine_Acc_Z(g)', 'Imu_2 :W():', 'Imu_2 :X():', 'Imu_2 :Y():', 'Imu_2 :Z():', 'Imu_2_ImuGyro :X(D/s):', 'Imu_2_ImuGyro :Y(D/s):', 'Imu_2_ImuGyro :Z(D/s):', 'Imu_2_ImuMag :X(uT):', 'Imu_2_ImuMag :Y(uT):', 'Imu_2_ImuMag :Z(uT):', 'Imu_4 :W():', 'Imu_4 :X():', 'Imu_4 :Y():', 'Imu_4 :Z():', 'Imu_4_ImuGyro :X(D/s):', 'Imu_4_ImuGyro :Y(D/s):', 'Imu_4_ImuGyro :Z(D/s):', 'Imu_4_ImuMag :X(uT):', 'Imu_4_ImuMag :Y(uT):', 'Imu_4_ImuMag :Z(uT):', 'Net_Acc_X(g)', 'Net_Acc_Y(g)', 'Net_Acc_Z(g)', 'Participant_Paddle_Acc_X(g)', 'Participant_Paddle_Acc_Y(g)', 'Participant_Paddle_Acc_Z(g)', 'Researcher_Paddle_Acc_X(g)', 'Researcher_Paddle_Acc_Y(g)', 'Researcher_Paddle_Acc_Z(g)', 'SyncPulse(uV)', 'Table_OtherSide_Acc_X(g)', 'Table_OtherSide_Acc_Y(g)', 'Table_OtherSide_Acc_Z(g)', 'Table_ParticipantSide_Acc_X(g)', 'Table_ParticipantSide_Acc_Y(g)', 'Table_ParticipantSide_Acc_Z(g)']\n",
      "noise: ['N-AF3', 'N-AF4', 'N-AF7', 'N-AF8', 'N-AFF1h', 'N-AFF2h', 'N-AFF5h', 'N-AFF6h', 'N-AFp1', 'N-AFp2', 'N-AFz', 'N-C1', 'N-C2', 'N-C3', 'N-C4', 'N-C5', 'N-C6', 'N-CCP1h', 'N-CCP2h', 'N-CCP3h', 'N-CCP4h', 'N-CCP5h', 'N-CCP6h', 'N-CP1', 'N-CP2', 'N-CP3', 'N-CP4', 'N-CP5', 'N-CP6', 'N-CPP1h', 'N-CPP2h', 'N-CPP3h', 'N-CPP4h', 'N-CPP5h', 'N-CPP6h', 'N-Cz', 'N-F1', 'N-F10', 'N-F2', 'N-F3', 'N-F4', 'N-F5', 'N-F6', 'N-F7', 'N-F8', 'N-F9', 'N-FC1', 'N-FC2', 'N-FC3', 'N-FC4', 'N-FC5', 'N-FC6', 'N-FCC1h', 'N-FCC2h', 'N-FCC3h', 'N-FCC4h', 'N-FCC5h', 'N-FCC6h', 'N-FCz', 'N-FFC1h', 'N-FFC2h', 'N-FFC3h', 'N-FFC4h', 'N-FFC5h', 'N-FFC6h', 'N-FFT10h', 'N-FFT7h', 'N-FFT8h', 'N-FFT9h', 'N-FP2', 'N-FT10', 'N-FT7', 'N-FT8', 'N-FT9', 'N-FTT10h', 'N-FTT7h', 'N-FTT8h', 'N-FTT9h', 'N-Fp1', 'N-Fz', 'N-Iz', 'N-O1', 'N-O2', 'N-OI1h', 'N-OI2h', 'N-Oz', 'N-P1', 'N-P2', 'N-P3', 'N-P4', 'N-P5', 'N-P6', 'N-P7', 'N-P8', 'N-PO3', 'N-PO4', 'N-PO7', 'N-PO8', 'N-POO1', 'N-POO10h', 'N-POO2', 'N-POO9h', 'N-POz', 'N-PPO10h', 'N-PPO1h', 'N-PPO2h', 'N-PPO5h', 'N-PPO6h', 'N-PPO9h', 'N-Pz', 'N-T7', 'N-T8', 'N-TP7', 'N-TP8', 'N-TPP10h', 'N-TPP7h', 'N-TPP8h', 'N-TPP9h', 'N-TTP7h', 'N-TTP8h']\n",
      "  raw_eeg = mne.io.read_raw_eeglab(eeg_dirname + f'sub-{SUB_ID}_task-TableTennis_eeg.set', preload=True)\n",
      "/tmp/ipykernel_1155911/3376151839.py:52: RuntimeWarning: Estimated head radius (10.9 cm) is above the 99th percentile for adult head size. Check if the montage_units argument is correct (the default is \"mm\", but your channel positions may be in different units).\n",
      "  raw_eeg = mne.io.read_raw_eeglab(eeg_dirname + f'sub-{SUB_ID}_task-TableTennis_eeg.set', preload=True)\n",
      "/tmp/ipykernel_1155911/3376151839.py:52: RuntimeWarning: Data file name in EEG.data (sub-08_task-tabletennis_eeg.fdt) is incorrect, the file name must have changed on disk, using the correct file name (sub-08_task-TableTennis_eeg.fdt).\n",
      "  raw_eeg = mne.io.read_raw_eeglab(eeg_dirname + f'sub-{SUB_ID}_task-TableTennis_eeg.set', preload=True)\n",
      "/tmp/ipykernel_1155911/3376151839.py:52: RuntimeWarning: Omitted 1 annotation(s) that were outside data range.\n",
      "  raw_eeg = mne.io.read_raw_eeglab(eeg_dirname + f'sub-{SUB_ID}_task-TableTennis_eeg.set', preload=True)\n",
      "/tmp/ipykernel_1155911/3376151839.py:52: RuntimeWarning: The data contains 'boundary' events, indicating data discontinuities. Be cautious of filtering and epoching around these events.\n",
      "  raw_eeg = mne.io.read_raw_eeglab(eeg_dirname + f'sub-{SUB_ID}_task-TableTennis_eeg.set', preload=True)\n",
      "/tmp/ipykernel_1155911/3376151839.py:52: RuntimeWarning: Not setting positions of 8 emg channels found in montage:\n",
      "['LISCM', 'LSSCM', 'LSTrap', 'LITrap', 'RITrap', 'RISCM', 'RSSCM', 'RSTrap']\n",
      "Consider setting the channel types to be of EEG/sEEG/ECoG/DBS/fNIRS using inst.set_channel_types before calling inst.set_montage, or omit these channels when creating your montage.\n",
      "  raw_eeg = mne.io.read_raw_eeglab(eeg_dirname + f'sub-{SUB_ID}_task-TableTennis_eeg.set', preload=True)\n",
      "/tmp/ipykernel_1155911/3376151839.py:70: RuntimeWarning: The unit for channel(s) BallMachine_Acc_X(g), BallMachine_Acc_Y(g), BallMachine_Acc_Z(g), CGY-x, CGY-y, CGY-z, CWR-x, CWR-y, CWR-z, Imu_2 :W():, Imu_2 :X():, Imu_2 :Y():, Imu_2 :Z():, Imu_2_ImuGyro :X(D/s):, Imu_2_ImuGyro :Y(D/s):, Imu_2_ImuGyro :Z(D/s):, Imu_2_ImuMag :X(uT):, Imu_2_ImuMag :Y(uT):, Imu_2_ImuMag :Z(uT):, Imu_4 :W():, Imu_4 :X():, Imu_4 :Y():, Imu_4 :Z():, Imu_4_ImuGyro :X(D/s):, Imu_4_ImuGyro :Y(D/s):, Imu_4_ImuGyro :Z(D/s):, Imu_4_ImuMag :X(uT):, Imu_4_ImuMag :Y(uT):, Imu_4_ImuMag :Z(uT):, N-AF3, N-AF4, N-AF7, N-AF8, N-AFF1h, N-AFF2h, N-AFF5h, N-AFF6h, N-AFp1, N-AFp2, N-AFz, N-C1, N-C2, N-C3, N-C4, N-C5, N-C6, N-CCP1h, N-CCP2h, N-CCP3h, N-CCP4h, N-CCP5h, N-CCP6h, N-CP1, N-CP2, N-CP3, N-CP4, N-CP5, N-CP6, N-CPP1h, N-CPP2h, N-CPP3h, N-CPP4h, N-CPP5h, N-CPP6h, N-Cz, N-F1, N-F10, N-F2, N-F3, N-F4, N-F5, N-F6, N-F7, N-F8, N-F9, N-FC1, N-FC2, N-FC3, N-FC4, N-FC5, N-FC6, N-FCC1h, N-FCC2h, N-FCC3h, N-FCC4h, N-FCC5h, N-FCC6h, N-FCz, N-FFC1h, N-FFC2h, N-FFC3h, N-FFC4h, N-FFC5h, N-FFC6h, N-FFT10h, N-FFT7h, N-FFT8h, N-FFT9h, N-FP2, N-FT10, N-FT7, N-FT8, N-FT9, N-FTT10h, N-FTT7h, N-FTT8h, N-FTT9h, N-Fp1, N-Fz, N-Iz, N-O1, N-O2, N-OI1h, N-OI2h, N-Oz, N-P1, N-P2, N-P3, N-P4, N-P5, N-P6, N-P7, N-P8, N-PO3, N-PO4, N-PO7, N-PO8, N-POO1, N-POO10h, N-POO2, N-POO9h, N-POz, N-PPO10h, N-PPO1h, N-PPO2h, N-PPO5h, N-PPO6h, N-PPO9h, N-Pz, N-T7, N-T8, N-TP7, N-TP8, N-TPP10h, N-TPP7h, N-TPP8h, N-TPP9h, N-TTP7h, N-TTP8h, NGY-x, NGY-y, NGY-z, NWR-x, NWR-y, NWR-z, Net_Acc_X(g), Net_Acc_Y(g), Net_Acc_Z(g), Participant_Paddle_Acc_X(g), Participant_Paddle_Acc_Y(g), Participant_Paddle_Acc_Z(g), Researcher_Paddle_Acc_X(g), Researcher_Paddle_Acc_Y(g), Researcher_Paddle_Acc_Z(g), SyncPulse(uV), Table_OtherSide_Acc_X(g), Table_OtherSide_Acc_Y(g), Table_OtherSide_Acc_Z(g), Table_ParticipantSide_Acc_X(g), Table_ParticipantSide_Acc_Y(g), Table_ParticipantSide_Acc_Z(g) has changed from V to NA.\n",
      "  raw_eeg.set_channel_types(channel_types)\n"
     ]
    },
    {
     "name": "stdout",
     "output_type": "stream",
     "text": [
      "NOTE: pick_channels() is a legacy function. New code should use inst.pick(...).\n",
      "Reading /data/vladimiroved/realWorldTableTennis/sub-09/eeg/sub-09_task-TableTennis_eeg.fdt\n",
      "Reading 0 ... 1146678  =      0.000 ...  4586.712 secs...\n"
     ]
    },
    {
     "name": "stderr",
     "output_type": "stream",
     "text": [
      "/tmp/ipykernel_1155911/3376151839.py:52: RuntimeWarning: Unknown types found, setting as type EEG:\n",
      "acc: ['CGY-x', 'CGY-y', 'CGY-z', 'CWR-x', 'CWR-y', 'CWR-z', 'NGY-x', 'NGY-y', 'NGY-z', 'NWR-x', 'NWR-y', 'NWR-z']\n",
      "cometas: ['BallMachine_Acc_X(g)', 'BallMachine_Acc_Y(g)', 'BallMachine_Acc_Z(g)', 'Imu_1 :W():', 'Imu_1 :X():', 'Imu_1 :Y():', 'Imu_1 :Z():', 'Imu_1_ImuGyro :X(D/s):', 'Imu_1_ImuGyro :Y(D/s):', 'Imu_1_ImuGyro :Z(D/s):', 'Imu_1_ImuMag :X(uT):', 'Imu_1_ImuMag :Y(uT):', 'Imu_1_ImuMag :Z(uT):', 'Imu_2 :W():', 'Imu_2 :X():', 'Imu_2 :Y():', 'Imu_2 :Z():', 'Imu_2_ImuGyro :X(D/s):', 'Imu_2_ImuGyro :Y(D/s):', 'Imu_2_ImuGyro :Z(D/s):', 'Imu_2_ImuMag :X(uT):', 'Imu_2_ImuMag :Y(uT):', 'Imu_2_ImuMag :Z(uT):', 'Imu_4 :W():', 'Imu_4 :X():', 'Imu_4 :Y():', 'Imu_4 :Z():', 'Imu_4_ImuGyro :X(D/s):', 'Imu_4_ImuGyro :Y(D/s):', 'Imu_4_ImuGyro :Z(D/s):', 'Imu_4_ImuMag :X(uT):', 'Imu_4_ImuMag :Y(uT):', 'Imu_4_ImuMag :Z(uT):', 'Net_Acc_X(g)', 'Net_Acc_Y(g)', 'Net_Acc_Z(g)', 'Participant_Backpack_Acc_X(g)', 'Participant_Backpack_Acc_Y(g)', 'Participant_Backpack_Acc_Z(g)', 'Participant_Paddle_Acc_X(g)', 'Participant_Paddle_Acc_Y(g)', 'Participant_Paddle_Acc_Z(g)', 'Researcher_Paddle_Acc_X(g)', 'Researcher_Paddle_Acc_Y(g)', 'Researcher_Paddle_Acc_Z(g)', 'SyncPulse(uV)', 'Table_OtherSide_Acc_X(g)', 'Table_OtherSide_Acc_Y(g)', 'Table_OtherSide_Acc_Z(g)', 'Table_ParticipantSide_Acc_X(g)', 'Table_ParticipantSide_Acc_Y(g)', 'Table_ParticipantSide_Acc_Z(g)']\n",
      "noise: ['N-AF3', 'N-AF4', 'N-AF7', 'N-AF8', 'N-AFF1h', 'N-AFF2h', 'N-AFF5h', 'N-AFF6h', 'N-AFp1', 'N-AFp2', 'N-AFz', 'N-C1', 'N-C2', 'N-C3', 'N-C4', 'N-C5', 'N-C6', 'N-CCP1h', 'N-CCP2h', 'N-CCP3h', 'N-CCP4h', 'N-CCP5h', 'N-CCP6h', 'N-CP1', 'N-CP2', 'N-CP3', 'N-CP4', 'N-CP5', 'N-CP6', 'N-CPP1h', 'N-CPP2h', 'N-CPP3h', 'N-CPP4h', 'N-CPP5h', 'N-CPP6h', 'N-Cz', 'N-F1', 'N-F10', 'N-F2', 'N-F3', 'N-F4', 'N-F5', 'N-F6', 'N-F7', 'N-F8', 'N-F9', 'N-FC1', 'N-FC2', 'N-FC3', 'N-FC4', 'N-FC5', 'N-FC6', 'N-FCC1h', 'N-FCC2h', 'N-FCC3h', 'N-FCC4h', 'N-FCC5h', 'N-FCC6h', 'N-FCz', 'N-FFC1h', 'N-FFC2h', 'N-FFC3h', 'N-FFC4h', 'N-FFC5h', 'N-FFC6h', 'N-FFT10h', 'N-FFT7h', 'N-FFT8h', 'N-FFT9h', 'N-FP2', 'N-FT10', 'N-FT7', 'N-FT8', 'N-FT9', 'N-FTT10h', 'N-FTT7h', 'N-FTT8h', 'N-FTT9h', 'N-Fp1', 'N-Fz', 'N-Iz', 'N-O1', 'N-O2', 'N-OI1h', 'N-OI2h', 'N-Oz', 'N-P1', 'N-P2', 'N-P3', 'N-P4', 'N-P5', 'N-P6', 'N-P7', 'N-P8', 'N-PO3', 'N-PO4', 'N-PO7', 'N-PO8', 'N-POO1', 'N-POO10h', 'N-POO2', 'N-POO9h', 'N-POz', 'N-PPO10h', 'N-PPO1h', 'N-PPO2h', 'N-PPO5h', 'N-PPO6h', 'N-PPO9h', 'N-Pz', 'N-T7', 'N-T8', 'N-TP7', 'N-TP8', 'N-TPP10h', 'N-TPP7h', 'N-TPP8h', 'N-TPP9h', 'N-TTP7h', 'N-TTP8h']\n",
      "  raw_eeg = mne.io.read_raw_eeglab(eeg_dirname + f'sub-{SUB_ID}_task-TableTennis_eeg.set', preload=True)\n",
      "/tmp/ipykernel_1155911/3376151839.py:52: RuntimeWarning: Estimated head radius (11.7 cm) is above the 99th percentile for adult head size. Check if the montage_units argument is correct (the default is \"mm\", but your channel positions may be in different units).\n",
      "  raw_eeg = mne.io.read_raw_eeglab(eeg_dirname + f'sub-{SUB_ID}_task-TableTennis_eeg.set', preload=True)\n",
      "/tmp/ipykernel_1155911/3376151839.py:52: RuntimeWarning: Data file name in EEG.data (sub-09_task-tabletennis_eeg.fdt) is incorrect, the file name must have changed on disk, using the correct file name (sub-09_task-TableTennis_eeg.fdt).\n",
      "  raw_eeg = mne.io.read_raw_eeglab(eeg_dirname + f'sub-{SUB_ID}_task-TableTennis_eeg.set', preload=True)\n",
      "/tmp/ipykernel_1155911/3376151839.py:52: RuntimeWarning: Omitted 1 annotation(s) that were outside data range.\n",
      "  raw_eeg = mne.io.read_raw_eeglab(eeg_dirname + f'sub-{SUB_ID}_task-TableTennis_eeg.set', preload=True)\n",
      "/tmp/ipykernel_1155911/3376151839.py:52: RuntimeWarning: The data contains 'boundary' events, indicating data discontinuities. Be cautious of filtering and epoching around these events.\n",
      "  raw_eeg = mne.io.read_raw_eeglab(eeg_dirname + f'sub-{SUB_ID}_task-TableTennis_eeg.set', preload=True)\n",
      "/tmp/ipykernel_1155911/3376151839.py:52: RuntimeWarning: Not setting positions of 8 emg channels found in montage:\n",
      "['LISCM', 'LSSCM', 'LSTrap', 'LITrap', 'RITrap', 'RISCM', 'RSSCM', 'RSTrap']\n",
      "Consider setting the channel types to be of EEG/sEEG/ECoG/DBS/fNIRS using inst.set_channel_types before calling inst.set_montage, or omit these channels when creating your montage.\n",
      "  raw_eeg = mne.io.read_raw_eeglab(eeg_dirname + f'sub-{SUB_ID}_task-TableTennis_eeg.set', preload=True)\n",
      "/tmp/ipykernel_1155911/3376151839.py:70: RuntimeWarning: The unit for channel(s) BallMachine_Acc_X(g), BallMachine_Acc_Y(g), BallMachine_Acc_Z(g), CGY-x, CGY-y, CGY-z, CWR-x, CWR-y, CWR-z, Imu_1 :W():, Imu_1 :X():, Imu_1 :Y():, Imu_1 :Z():, Imu_1_ImuGyro :X(D/s):, Imu_1_ImuGyro :Y(D/s):, Imu_1_ImuGyro :Z(D/s):, Imu_1_ImuMag :X(uT):, Imu_1_ImuMag :Y(uT):, Imu_1_ImuMag :Z(uT):, Imu_2 :W():, Imu_2 :X():, Imu_2 :Y():, Imu_2 :Z():, Imu_2_ImuGyro :X(D/s):, Imu_2_ImuGyro :Y(D/s):, Imu_2_ImuGyro :Z(D/s):, Imu_2_ImuMag :X(uT):, Imu_2_ImuMag :Y(uT):, Imu_2_ImuMag :Z(uT):, Imu_4 :W():, Imu_4 :X():, Imu_4 :Y():, Imu_4 :Z():, Imu_4_ImuGyro :X(D/s):, Imu_4_ImuGyro :Y(D/s):, Imu_4_ImuGyro :Z(D/s):, Imu_4_ImuMag :X(uT):, Imu_4_ImuMag :Y(uT):, Imu_4_ImuMag :Z(uT):, N-AF3, N-AF4, N-AF7, N-AF8, N-AFF1h, N-AFF2h, N-AFF5h, N-AFF6h, N-AFp1, N-AFp2, N-AFz, N-C1, N-C2, N-C3, N-C4, N-C5, N-C6, N-CCP1h, N-CCP2h, N-CCP3h, N-CCP4h, N-CCP5h, N-CCP6h, N-CP1, N-CP2, N-CP3, N-CP4, N-CP5, N-CP6, N-CPP1h, N-CPP2h, N-CPP3h, N-CPP4h, N-CPP5h, N-CPP6h, N-Cz, N-F1, N-F10, N-F2, N-F3, N-F4, N-F5, N-F6, N-F7, N-F8, N-F9, N-FC1, N-FC2, N-FC3, N-FC4, N-FC5, N-FC6, N-FCC1h, N-FCC2h, N-FCC3h, N-FCC4h, N-FCC5h, N-FCC6h, N-FCz, N-FFC1h, N-FFC2h, N-FFC3h, N-FFC4h, N-FFC5h, N-FFC6h, N-FFT10h, N-FFT7h, N-FFT8h, N-FFT9h, N-FP2, N-FT10, N-FT7, N-FT8, N-FT9, N-FTT10h, N-FTT7h, N-FTT8h, N-FTT9h, N-Fp1, N-Fz, N-Iz, N-O1, N-O2, N-OI1h, N-OI2h, N-Oz, N-P1, N-P2, N-P3, N-P4, N-P5, N-P6, N-P7, N-P8, N-PO3, N-PO4, N-PO7, N-PO8, N-POO1, N-POO10h, N-POO2, N-POO9h, N-POz, N-PPO10h, N-PPO1h, N-PPO2h, N-PPO5h, N-PPO6h, N-PPO9h, N-Pz, N-T7, N-T8, N-TP7, N-TP8, N-TPP10h, N-TPP7h, N-TPP8h, N-TPP9h, N-TTP7h, N-TTP8h, NGY-x, NGY-y, NGY-z, NWR-x, NWR-y, NWR-z, Net_Acc_X(g), Net_Acc_Y(g), Net_Acc_Z(g), Participant_Backpack_Acc_X(g), Participant_Backpack_Acc_Y(g), Participant_Backpack_Acc_Z(g), Participant_Paddle_Acc_X(g), Participant_Paddle_Acc_Y(g), Participant_Paddle_Acc_Z(g), Researcher_Paddle_Acc_X(g), Researcher_Paddle_Acc_Y(g), Researcher_Paddle_Acc_Z(g), SyncPulse(uV), Table_OtherSide_Acc_X(g), Table_OtherSide_Acc_Y(g), Table_OtherSide_Acc_Z(g), Table_ParticipantSide_Acc_X(g), Table_ParticipantSide_Acc_Y(g), Table_ParticipantSide_Acc_Z(g) has changed from V to NA.\n",
      "  raw_eeg.set_channel_types(channel_types)\n"
     ]
    },
    {
     "name": "stdout",
     "output_type": "stream",
     "text": [
      "NOTE: pick_channels() is a legacy function. New code should use inst.pick(...).\n",
      "Reading /data/vladimiroved/realWorldTableTennis/sub-10/eeg/sub-10_task-TableTennis_eeg.fdt\n",
      "Reading 0 ... 1139465  =      0.000 ...  4557.860 secs...\n"
     ]
    },
    {
     "name": "stderr",
     "output_type": "stream",
     "text": [
      "/tmp/ipykernel_1155911/3376151839.py:52: RuntimeWarning: Unknown types found, setting as type EEG:\n",
      "acc: ['CGY-x', 'CGY-y', 'CGY-z', 'CWR-x', 'CWR-y', 'CWR-z', 'NGY-x', 'NGY-y', 'NGY-z', 'NWR-x', 'NWR-y', 'NWR-z']\n",
      "cometas: ['BallMachine_Acc_X(g)', 'BallMachine_Acc_Y(g)', 'BallMachine_Acc_Z(g)', 'Imu_1 :W():', 'Imu_1 :X():', 'Imu_1 :Y():', 'Imu_1 :Z():', 'Imu_1_ImuGyro :X(D/s):', 'Imu_1_ImuGyro :Y(D/s):', 'Imu_1_ImuGyro :Z(D/s):', 'Imu_1_ImuMag :X(uT):', 'Imu_1_ImuMag :Y(uT):', 'Imu_1_ImuMag :Z(uT):', 'Imu_2 :W():', 'Imu_2 :X():', 'Imu_2 :Y():', 'Imu_2 :Z():', 'Imu_2_ImuGyro :X(D/s):', 'Imu_2_ImuGyro :Y(D/s):', 'Imu_2_ImuGyro :Z(D/s):', 'Imu_2_ImuMag :X(uT):', 'Imu_2_ImuMag :Y(uT):', 'Imu_2_ImuMag :Z(uT):', 'Imu_4 :W():', 'Imu_4 :X():', 'Imu_4 :Y():', 'Imu_4 :Z():', 'Imu_4_ImuGyro :X(D/s):', 'Imu_4_ImuGyro :Y(D/s):', 'Imu_4_ImuGyro :Z(D/s):', 'Imu_4_ImuMag :X(uT):', 'Imu_4_ImuMag :Y(uT):', 'Imu_4_ImuMag :Z(uT):', 'Net_Acc_X(g)', 'Net_Acc_Y(g)', 'Net_Acc_Z(g)', 'Participant_Backpack_Acc_X(g)', 'Participant_Backpack_Acc_Y(g)', 'Participant_Backpack_Acc_Z(g)', 'Participant_Paddle_Acc_X(g)', 'Participant_Paddle_Acc_Y(g)', 'Participant_Paddle_Acc_Z(g)', 'Researcher_Paddle_Acc_X(g)', 'Researcher_Paddle_Acc_Y(g)', 'Researcher_Paddle_Acc_Z(g)', 'SyncPulse(uV)', 'Table_OtherSide_Acc_X(g)', 'Table_OtherSide_Acc_Y(g)', 'Table_OtherSide_Acc_Z(g)', 'Table_ParticipantSide_Acc_X(g)', 'Table_ParticipantSide_Acc_Y(g)', 'Table_ParticipantSide_Acc_Z(g)']\n",
      "noise: ['N-AF3', 'N-AF4', 'N-AF7', 'N-AF8', 'N-AFF1h', 'N-AFF2h', 'N-AFF5h', 'N-AFF6h', 'N-AFp1', 'N-AFp2', 'N-AFz', 'N-C1', 'N-C2', 'N-C3', 'N-C4', 'N-C5', 'N-C6', 'N-CCP1h', 'N-CCP2h', 'N-CCP3h', 'N-CCP4h', 'N-CCP5h', 'N-CCP6h', 'N-CP1', 'N-CP2', 'N-CP3', 'N-CP4', 'N-CP5', 'N-CP6', 'N-CPP1h', 'N-CPP2h', 'N-CPP3h', 'N-CPP4h', 'N-CPP5h', 'N-CPP6h', 'N-Cz', 'N-F1', 'N-F10', 'N-F2', 'N-F3', 'N-F4', 'N-F5', 'N-F6', 'N-F7', 'N-F8', 'N-F9', 'N-FC1', 'N-FC2', 'N-FC3', 'N-FC4', 'N-FC5', 'N-FC6', 'N-FCC1h', 'N-FCC2h', 'N-FCC3h', 'N-FCC4h', 'N-FCC5h', 'N-FCC6h', 'N-FCz', 'N-FFC1h', 'N-FFC2h', 'N-FFC3h', 'N-FFC4h', 'N-FFC5h', 'N-FFC6h', 'N-FFT10h', 'N-FFT7h', 'N-FFT8h', 'N-FFT9h', 'N-FP2', 'N-FT10', 'N-FT7', 'N-FT8', 'N-FT9', 'N-FTT10h', 'N-FTT7h', 'N-FTT8h', 'N-FTT9h', 'N-Fp1', 'N-Fz', 'N-Iz', 'N-O1', 'N-O2', 'N-OI1h', 'N-OI2h', 'N-Oz', 'N-P1', 'N-P2', 'N-P3', 'N-P4', 'N-P5', 'N-P6', 'N-P7', 'N-P8', 'N-PO3', 'N-PO4', 'N-PO7', 'N-PO8', 'N-POO1', 'N-POO10h', 'N-POO2', 'N-POO9h', 'N-POz', 'N-PPO10h', 'N-PPO1h', 'N-PPO2h', 'N-PPO5h', 'N-PPO6h', 'N-PPO9h', 'N-Pz', 'N-T7', 'N-T8', 'N-TP7', 'N-TP8', 'N-TPP10h', 'N-TPP7h', 'N-TPP8h', 'N-TPP9h', 'N-TTP7h', 'N-TTP8h']\n",
      "  raw_eeg = mne.io.read_raw_eeglab(eeg_dirname + f'sub-{SUB_ID}_task-TableTennis_eeg.set', preload=True)\n",
      "/tmp/ipykernel_1155911/3376151839.py:52: RuntimeWarning: Data file name in EEG.data (sub-10_task-tabletennis_eeg.fdt) is incorrect, the file name must have changed on disk, using the correct file name (sub-10_task-TableTennis_eeg.fdt).\n",
      "  raw_eeg = mne.io.read_raw_eeglab(eeg_dirname + f'sub-{SUB_ID}_task-TableTennis_eeg.set', preload=True)\n",
      "/tmp/ipykernel_1155911/3376151839.py:52: RuntimeWarning: Omitted 1 annotation(s) that were outside data range.\n",
      "  raw_eeg = mne.io.read_raw_eeglab(eeg_dirname + f'sub-{SUB_ID}_task-TableTennis_eeg.set', preload=True)\n",
      "/tmp/ipykernel_1155911/3376151839.py:52: RuntimeWarning: The data contains 'boundary' events, indicating data discontinuities. Be cautious of filtering and epoching around these events.\n",
      "  raw_eeg = mne.io.read_raw_eeglab(eeg_dirname + f'sub-{SUB_ID}_task-TableTennis_eeg.set', preload=True)\n",
      "/tmp/ipykernel_1155911/3376151839.py:52: RuntimeWarning: Not setting positions of 8 emg channels found in montage:\n",
      "['LISCM', 'LSSCM', 'LSTrap', 'LITrap', 'RITrap', 'RISCM', 'RSSCM', 'RSTrap']\n",
      "Consider setting the channel types to be of EEG/sEEG/ECoG/DBS/fNIRS using inst.set_channel_types before calling inst.set_montage, or omit these channels when creating your montage.\n",
      "  raw_eeg = mne.io.read_raw_eeglab(eeg_dirname + f'sub-{SUB_ID}_task-TableTennis_eeg.set', preload=True)\n",
      "/tmp/ipykernel_1155911/3376151839.py:70: RuntimeWarning: The unit for channel(s) BallMachine_Acc_X(g), BallMachine_Acc_Y(g), BallMachine_Acc_Z(g), CGY-x, CGY-y, CGY-z, CWR-x, CWR-y, CWR-z, Imu_1 :W():, Imu_1 :X():, Imu_1 :Y():, Imu_1 :Z():, Imu_1_ImuGyro :X(D/s):, Imu_1_ImuGyro :Y(D/s):, Imu_1_ImuGyro :Z(D/s):, Imu_1_ImuMag :X(uT):, Imu_1_ImuMag :Y(uT):, Imu_1_ImuMag :Z(uT):, Imu_2 :W():, Imu_2 :X():, Imu_2 :Y():, Imu_2 :Z():, Imu_2_ImuGyro :X(D/s):, Imu_2_ImuGyro :Y(D/s):, Imu_2_ImuGyro :Z(D/s):, Imu_2_ImuMag :X(uT):, Imu_2_ImuMag :Y(uT):, Imu_2_ImuMag :Z(uT):, Imu_4 :W():, Imu_4 :X():, Imu_4 :Y():, Imu_4 :Z():, Imu_4_ImuGyro :X(D/s):, Imu_4_ImuGyro :Y(D/s):, Imu_4_ImuGyro :Z(D/s):, Imu_4_ImuMag :X(uT):, Imu_4_ImuMag :Y(uT):, Imu_4_ImuMag :Z(uT):, N-AF3, N-AF4, N-AF7, N-AF8, N-AFF1h, N-AFF2h, N-AFF5h, N-AFF6h, N-AFp1, N-AFp2, N-AFz, N-C1, N-C2, N-C3, N-C4, N-C5, N-C6, N-CCP1h, N-CCP2h, N-CCP3h, N-CCP4h, N-CCP5h, N-CCP6h, N-CP1, N-CP2, N-CP3, N-CP4, N-CP5, N-CP6, N-CPP1h, N-CPP2h, N-CPP3h, N-CPP4h, N-CPP5h, N-CPP6h, N-Cz, N-F1, N-F10, N-F2, N-F3, N-F4, N-F5, N-F6, N-F7, N-F8, N-F9, N-FC1, N-FC2, N-FC3, N-FC4, N-FC5, N-FC6, N-FCC1h, N-FCC2h, N-FCC3h, N-FCC4h, N-FCC5h, N-FCC6h, N-FCz, N-FFC1h, N-FFC2h, N-FFC3h, N-FFC4h, N-FFC5h, N-FFC6h, N-FFT10h, N-FFT7h, N-FFT8h, N-FFT9h, N-FP2, N-FT10, N-FT7, N-FT8, N-FT9, N-FTT10h, N-FTT7h, N-FTT8h, N-FTT9h, N-Fp1, N-Fz, N-Iz, N-O1, N-O2, N-OI1h, N-OI2h, N-Oz, N-P1, N-P2, N-P3, N-P4, N-P5, N-P6, N-P7, N-P8, N-PO3, N-PO4, N-PO7, N-PO8, N-POO1, N-POO10h, N-POO2, N-POO9h, N-POz, N-PPO10h, N-PPO1h, N-PPO2h, N-PPO5h, N-PPO6h, N-PPO9h, N-Pz, N-T7, N-T8, N-TP7, N-TP8, N-TPP10h, N-TPP7h, N-TPP8h, N-TPP9h, N-TTP7h, N-TTP8h, NGY-x, NGY-y, NGY-z, NWR-x, NWR-y, NWR-z, Net_Acc_X(g), Net_Acc_Y(g), Net_Acc_Z(g), Participant_Backpack_Acc_X(g), Participant_Backpack_Acc_Y(g), Participant_Backpack_Acc_Z(g), Participant_Paddle_Acc_X(g), Participant_Paddle_Acc_Y(g), Participant_Paddle_Acc_Z(g), Researcher_Paddle_Acc_X(g), Researcher_Paddle_Acc_Y(g), Researcher_Paddle_Acc_Z(g), SyncPulse(uV), Table_OtherSide_Acc_X(g), Table_OtherSide_Acc_Y(g), Table_OtherSide_Acc_Z(g), Table_ParticipantSide_Acc_X(g), Table_ParticipantSide_Acc_Y(g), Table_ParticipantSide_Acc_Z(g) has changed from V to NA.\n",
      "  raw_eeg.set_channel_types(channel_types)\n"
     ]
    },
    {
     "name": "stdout",
     "output_type": "stream",
     "text": [
      "NOTE: pick_channels() is a legacy function. New code should use inst.pick(...).\n",
      "Reading /data/vladimiroved/realWorldTableTennis/sub-11/eeg/sub-11_task-TableTennis_eeg.fdt\n",
      "Reading 0 ... 1104856  =      0.000 ...  4419.424 secs...\n"
     ]
    },
    {
     "name": "stderr",
     "output_type": "stream",
     "text": [
      "/tmp/ipykernel_1155911/3376151839.py:52: RuntimeWarning: Unknown types found, setting as type EEG:\n",
      "acc: ['CGY-x', 'CGY-y', 'CGY-z', 'CWR-x', 'CWR-y', 'CWR-z', 'NGY-x', 'NGY-y', 'NGY-z', 'NWR-x', 'NWR-y', 'NWR-z']\n",
      "cometas: ['BallMachine_Acc_X(g)', 'BallMachine_Acc_Y(g)', 'BallMachine_Acc_Z(g)', 'IMU1_RMS', 'Imu_1 :W():', 'Imu_1 :X():', 'Imu_1 :Y():', 'Imu_1 :Z():', 'Imu_1_ImuGyro :X(D/s):', 'Imu_1_ImuGyro :Y(D/s):', 'Imu_1_ImuGyro :Z(D/s):', 'Imu_1_ImuMag :X(uT):', 'Imu_1_ImuMag :Y(uT):', 'Imu_1_ImuMag :Z(uT):', 'Imu_2 :W():', 'Imu_2 :X():', 'Imu_2 :Y():', 'Imu_2 :Z():', 'Imu_2_ImuGyro :X(D/s):', 'Imu_2_ImuGyro :Y(D/s):', 'Imu_2_ImuGyro :Z(D/s):', 'Imu_2_ImuMag :X(uT):', 'Imu_2_ImuMag :Y(uT):', 'Imu_2_ImuMag :Z(uT):', 'Imu_4 :W():', 'Imu_4 :X():', 'Imu_4 :Y():', 'Imu_4 :Z():', 'Imu_4_ImuGyro :X(D/s):', 'Imu_4_ImuGyro :Y(D/s):', 'Imu_4_ImuGyro :Z(D/s):', 'Imu_4_ImuMag :X(uT):', 'Imu_4_ImuMag :Y(uT):', 'Imu_4_ImuMag :Z(uT):', 'Net_Acc_X(g)', 'Net_Acc_Y(g)', 'Net_Acc_Z(g)', 'Participant_Backpack_Acc_X(g)', 'Participant_Backpack_Acc_Y(g)', 'Participant_Backpack_Acc_Z(g)', 'Participant_Paddle_Acc_X(g)', 'Participant_Paddle_Acc_Y(g)', 'Participant_Paddle_Acc_Z(g)', 'Researcher_Paddle_Acc_X(g)', 'Researcher_Paddle_Acc_Y(g)', 'Researcher_Paddle_Acc_Z(g)', 'SyncPulse(uV)', 'Table_OtherSide_Acc_X(g)', 'Table_OtherSide_Acc_Y(g)', 'Table_OtherSide_Acc_Z(g)', 'Table_ParticipantSide_Acc_X(g)', 'Table_ParticipantSide_Acc_Y(g)', 'Table_ParticipantSide_Acc_Z(g)']\n",
      "noise: ['N-AF3', 'N-AF4', 'N-AF7', 'N-AF8', 'N-AFF1h', 'N-AFF2h', 'N-AFF5h', 'N-AFF6h', 'N-AFp1', 'N-AFp2', 'N-AFz', 'N-C1', 'N-C2', 'N-C3', 'N-C4', 'N-C5', 'N-C6', 'N-CCP1h', 'N-CCP2h', 'N-CCP3h', 'N-CCP4h', 'N-CCP5h', 'N-CCP6h', 'N-CP1', 'N-CP2', 'N-CP3', 'N-CP4', 'N-CP5', 'N-CP6', 'N-CPP1h', 'N-CPP2h', 'N-CPP3h', 'N-CPP4h', 'N-CPP5h', 'N-CPP6h', 'N-Cz', 'N-F1', 'N-F10', 'N-F2', 'N-F3', 'N-F4', 'N-F5', 'N-F6', 'N-F7', 'N-F8', 'N-F9', 'N-FC1', 'N-FC2', 'N-FC3', 'N-FC4', 'N-FC5', 'N-FC6', 'N-FCC1h', 'N-FCC2h', 'N-FCC3h', 'N-FCC4h', 'N-FCC5h', 'N-FCC6h', 'N-FCz', 'N-FFC1h', 'N-FFC2h', 'N-FFC3h', 'N-FFC4h', 'N-FFC5h', 'N-FFC6h', 'N-FFT10h', 'N-FFT7h', 'N-FFT8h', 'N-FFT9h', 'N-FP2', 'N-FT10', 'N-FT7', 'N-FT8', 'N-FT9', 'N-FTT10h', 'N-FTT7h', 'N-FTT8h', 'N-FTT9h', 'N-Fp1', 'N-Fz', 'N-Iz', 'N-O1', 'N-O2', 'N-OI1h', 'N-OI2h', 'N-Oz', 'N-P1', 'N-P2', 'N-P3', 'N-P4', 'N-P5', 'N-P6', 'N-P7', 'N-P8', 'N-PO3', 'N-PO4', 'N-PO7', 'N-PO8', 'N-POO1', 'N-POO10h', 'N-POO2', 'N-POO9h', 'N-POz', 'N-PPO10h', 'N-PPO1h', 'N-PPO2h', 'N-PPO5h', 'N-PPO6h', 'N-PPO9h', 'N-Pz', 'N-T7', 'N-T8', 'N-TP7', 'N-TP8', 'N-TPP10h', 'N-TPP7h', 'N-TPP8h', 'N-TPP9h', 'N-TTP7h', 'N-TTP8h']\n",
      "  raw_eeg = mne.io.read_raw_eeglab(eeg_dirname + f'sub-{SUB_ID}_task-TableTennis_eeg.set', preload=True)\n",
      "/tmp/ipykernel_1155911/3376151839.py:52: RuntimeWarning: Estimated head radius (12.1 cm) is above the 99th percentile for adult head size. Check if the montage_units argument is correct (the default is \"mm\", but your channel positions may be in different units).\n",
      "  raw_eeg = mne.io.read_raw_eeglab(eeg_dirname + f'sub-{SUB_ID}_task-TableTennis_eeg.set', preload=True)\n",
      "/tmp/ipykernel_1155911/3376151839.py:52: RuntimeWarning: Data file name in EEG.data (sub-11_task-tabletennis_eeg.fdt) is incorrect, the file name must have changed on disk, using the correct file name (sub-11_task-TableTennis_eeg.fdt).\n",
      "  raw_eeg = mne.io.read_raw_eeglab(eeg_dirname + f'sub-{SUB_ID}_task-TableTennis_eeg.set', preload=True)\n",
      "/tmp/ipykernel_1155911/3376151839.py:52: RuntimeWarning: Omitted 1 annotation(s) that were outside data range.\n",
      "  raw_eeg = mne.io.read_raw_eeglab(eeg_dirname + f'sub-{SUB_ID}_task-TableTennis_eeg.set', preload=True)\n",
      "/tmp/ipykernel_1155911/3376151839.py:52: RuntimeWarning: The data contains 'boundary' events, indicating data discontinuities. Be cautious of filtering and epoching around these events.\n",
      "  raw_eeg = mne.io.read_raw_eeglab(eeg_dirname + f'sub-{SUB_ID}_task-TableTennis_eeg.set', preload=True)\n",
      "/tmp/ipykernel_1155911/3376151839.py:52: RuntimeWarning: Not setting positions of 8 emg channels found in montage:\n",
      "['LISCM', 'LSSCM', 'LSTrap', 'LITrap', 'RITrap', 'RISCM', 'RSSCM', 'RSTrap']\n",
      "Consider setting the channel types to be of EEG/sEEG/ECoG/DBS/fNIRS using inst.set_channel_types before calling inst.set_montage, or omit these channels when creating your montage.\n",
      "  raw_eeg = mne.io.read_raw_eeglab(eeg_dirname + f'sub-{SUB_ID}_task-TableTennis_eeg.set', preload=True)\n",
      "/tmp/ipykernel_1155911/3376151839.py:70: RuntimeWarning: The unit for channel(s) BallMachine_Acc_X(g), BallMachine_Acc_Y(g), BallMachine_Acc_Z(g), CGY-x, CGY-y, CGY-z, CWR-x, CWR-y, CWR-z, IMU1_RMS, Imu_1 :W():, Imu_1 :X():, Imu_1 :Y():, Imu_1 :Z():, Imu_1_ImuGyro :X(D/s):, Imu_1_ImuGyro :Y(D/s):, Imu_1_ImuGyro :Z(D/s):, Imu_1_ImuMag :X(uT):, Imu_1_ImuMag :Y(uT):, Imu_1_ImuMag :Z(uT):, Imu_2 :W():, Imu_2 :X():, Imu_2 :Y():, Imu_2 :Z():, Imu_2_ImuGyro :X(D/s):, Imu_2_ImuGyro :Y(D/s):, Imu_2_ImuGyro :Z(D/s):, Imu_2_ImuMag :X(uT):, Imu_2_ImuMag :Y(uT):, Imu_2_ImuMag :Z(uT):, Imu_4 :W():, Imu_4 :X():, Imu_4 :Y():, Imu_4 :Z():, Imu_4_ImuGyro :X(D/s):, Imu_4_ImuGyro :Y(D/s):, Imu_4_ImuGyro :Z(D/s):, Imu_4_ImuMag :X(uT):, Imu_4_ImuMag :Y(uT):, Imu_4_ImuMag :Z(uT):, N-AF3, N-AF4, N-AF7, N-AF8, N-AFF1h, N-AFF2h, N-AFF5h, N-AFF6h, N-AFp1, N-AFp2, N-AFz, N-C1, N-C2, N-C3, N-C4, N-C5, N-C6, N-CCP1h, N-CCP2h, N-CCP3h, N-CCP4h, N-CCP5h, N-CCP6h, N-CP1, N-CP2, N-CP3, N-CP4, N-CP5, N-CP6, N-CPP1h, N-CPP2h, N-CPP3h, N-CPP4h, N-CPP5h, N-CPP6h, N-Cz, N-F1, N-F10, N-F2, N-F3, N-F4, N-F5, N-F6, N-F7, N-F8, N-F9, N-FC1, N-FC2, N-FC3, N-FC4, N-FC5, N-FC6, N-FCC1h, N-FCC2h, N-FCC3h, N-FCC4h, N-FCC5h, N-FCC6h, N-FCz, N-FFC1h, N-FFC2h, N-FFC3h, N-FFC4h, N-FFC5h, N-FFC6h, N-FFT10h, N-FFT7h, N-FFT8h, N-FFT9h, N-FP2, N-FT10, N-FT7, N-FT8, N-FT9, N-FTT10h, N-FTT7h, N-FTT8h, N-FTT9h, N-Fp1, N-Fz, N-Iz, N-O1, N-O2, N-OI1h, N-OI2h, N-Oz, N-P1, N-P2, N-P3, N-P4, N-P5, N-P6, N-P7, N-P8, N-PO3, N-PO4, N-PO7, N-PO8, N-POO1, N-POO10h, N-POO2, N-POO9h, N-POz, N-PPO10h, N-PPO1h, N-PPO2h, N-PPO5h, N-PPO6h, N-PPO9h, N-Pz, N-T7, N-T8, N-TP7, N-TP8, N-TPP10h, N-TPP7h, N-TPP8h, N-TPP9h, N-TTP7h, N-TTP8h, NGY-x, NGY-y, NGY-z, NWR-x, NWR-y, NWR-z, Net_Acc_X(g), Net_Acc_Y(g), Net_Acc_Z(g), Participant_Backpack_Acc_X(g), Participant_Backpack_Acc_Y(g), Participant_Backpack_Acc_Z(g), Participant_Paddle_Acc_X(g), Participant_Paddle_Acc_Y(g), Participant_Paddle_Acc_Z(g), Researcher_Paddle_Acc_X(g), Researcher_Paddle_Acc_Y(g), Researcher_Paddle_Acc_Z(g), SyncPulse(uV), Table_OtherSide_Acc_X(g), Table_OtherSide_Acc_Y(g), Table_OtherSide_Acc_Z(g), Table_ParticipantSide_Acc_X(g), Table_ParticipantSide_Acc_Y(g), Table_ParticipantSide_Acc_Z(g) has changed from V to NA.\n",
      "  raw_eeg.set_channel_types(channel_types)\n"
     ]
    },
    {
     "name": "stdout",
     "output_type": "stream",
     "text": [
      "NOTE: pick_channels() is a legacy function. New code should use inst.pick(...).\n",
      "Reading /data/vladimiroved/realWorldTableTennis/sub-12/eeg/sub-12_task-TableTennis_eeg.fdt\n",
      "Reading 0 ... 1111931  =      0.000 ...  4447.724 secs...\n"
     ]
    },
    {
     "name": "stderr",
     "output_type": "stream",
     "text": [
      "/tmp/ipykernel_1155911/3376151839.py:52: RuntimeWarning: Unknown types found, setting as type EEG:\n",
      "acc: ['CGY-x', 'CGY-y', 'CGY-z', 'CWR-x', 'CWR-y', 'CWR-z', 'NGY-x', 'NGY-y', 'NGY-z', 'NWR-x', 'NWR-y', 'NWR-z']\n",
      "cometas: ['BallMachine_Acc_X(g)', 'BallMachine_Acc_Y(g)', 'BallMachine_Acc_Z(g)', 'IMU1_RMS', 'Imu_1 :W():', 'Imu_1 :X():', 'Imu_1 :Y():', 'Imu_1 :Z():', 'Imu_1_ImuGyro :X(D/s):', 'Imu_1_ImuGyro :Y(D/s):', 'Imu_1_ImuGyro :Z(D/s):', 'Imu_1_ImuMag :X(uT):', 'Imu_1_ImuMag :Y(uT):', 'Imu_1_ImuMag :Z(uT):', 'Imu_2 :W():', 'Imu_2 :X():', 'Imu_2 :Y():', 'Imu_2 :Z():', 'Imu_2_ImuGyro :X(D/s):', 'Imu_2_ImuGyro :Y(D/s):', 'Imu_2_ImuGyro :Z(D/s):', 'Imu_2_ImuMag :X(uT):', 'Imu_2_ImuMag :Y(uT):', 'Imu_2_ImuMag :Z(uT):', 'Imu_4 :W():', 'Imu_4 :X():', 'Imu_4 :Y():', 'Imu_4 :Z():', 'Imu_4_ImuGyro :X(D/s):', 'Imu_4_ImuGyro :Y(D/s):', 'Imu_4_ImuGyro :Z(D/s):', 'Imu_4_ImuMag :X(uT):', 'Imu_4_ImuMag :Y(uT):', 'Imu_4_ImuMag :Z(uT):', 'Net_Acc_X(g)', 'Net_Acc_Y(g)', 'Net_Acc_Z(g)', 'Participant_Backpack_Acc_X(g)', 'Participant_Backpack_Acc_Y(g)', 'Participant_Backpack_Acc_Z(g)', 'Participant_Paddle_Acc_X(g)', 'Participant_Paddle_Acc_Y(g)', 'Participant_Paddle_Acc_Z(g)', 'Researcher_Paddle_Acc_X(g)', 'Researcher_Paddle_Acc_Y(g)', 'Researcher_Paddle_Acc_Z(g)', 'SyncPulse(uV)', 'Table_OtherSide_Acc_X(g)', 'Table_OtherSide_Acc_Y(g)', 'Table_OtherSide_Acc_Z(g)', 'Table_ParticipantSide_Acc_X(g)', 'Table_ParticipantSide_Acc_Y(g)', 'Table_ParticipantSide_Acc_Z(g)']\n",
      "noise: ['N-AF3', 'N-AF4', 'N-AF7', 'N-AF8', 'N-AFF1h', 'N-AFF2h', 'N-AFF5h', 'N-AFF6h', 'N-AFp1', 'N-AFp2', 'N-AFz', 'N-C1', 'N-C2', 'N-C3', 'N-C4', 'N-C5', 'N-C6', 'N-CCP1h', 'N-CCP2h', 'N-CCP3h', 'N-CCP4h', 'N-CCP5h', 'N-CCP6h', 'N-CP1', 'N-CP2', 'N-CP3', 'N-CP4', 'N-CP5', 'N-CP6', 'N-CPP1h', 'N-CPP2h', 'N-CPP3h', 'N-CPP4h', 'N-CPP5h', 'N-CPP6h', 'N-Cz', 'N-F1', 'N-F10', 'N-F2', 'N-F3', 'N-F4', 'N-F5', 'N-F6', 'N-F7', 'N-F8', 'N-F9', 'N-FC1', 'N-FC2', 'N-FC3', 'N-FC4', 'N-FC5', 'N-FC6', 'N-FCC1h', 'N-FCC2h', 'N-FCC3h', 'N-FCC4h', 'N-FCC5h', 'N-FCC6h', 'N-FCz', 'N-FFC1h', 'N-FFC2h', 'N-FFC3h', 'N-FFC4h', 'N-FFC5h', 'N-FFC6h', 'N-FFT10h', 'N-FFT7h', 'N-FFT8h', 'N-FFT9h', 'N-FP2', 'N-FT10', 'N-FT7', 'N-FT8', 'N-FT9', 'N-FTT10h', 'N-FTT7h', 'N-FTT8h', 'N-FTT9h', 'N-Fp1', 'N-Fz', 'N-Iz', 'N-O1', 'N-O2', 'N-OI1h', 'N-OI2h', 'N-Oz', 'N-P1', 'N-P2', 'N-P3', 'N-P4', 'N-P5', 'N-P6', 'N-P7', 'N-P8', 'N-PO3', 'N-PO4', 'N-PO7', 'N-PO8', 'N-POO1', 'N-POO10h', 'N-POO2', 'N-POO9h', 'N-POz', 'N-PPO10h', 'N-PPO1h', 'N-PPO2h', 'N-PPO5h', 'N-PPO6h', 'N-PPO9h', 'N-Pz', 'N-T7', 'N-T8', 'N-TP7', 'N-TP8', 'N-TPP10h', 'N-TPP7h', 'N-TPP8h', 'N-TPP9h', 'N-TTP7h', 'N-TTP8h']\n",
      "  raw_eeg = mne.io.read_raw_eeglab(eeg_dirname + f'sub-{SUB_ID}_task-TableTennis_eeg.set', preload=True)\n",
      "/tmp/ipykernel_1155911/3376151839.py:52: RuntimeWarning: Data file name in EEG.data (sub-12_task-tabletennis_eeg.fdt) is incorrect, the file name must have changed on disk, using the correct file name (sub-12_task-TableTennis_eeg.fdt).\n",
      "  raw_eeg = mne.io.read_raw_eeglab(eeg_dirname + f'sub-{SUB_ID}_task-TableTennis_eeg.set', preload=True)\n",
      "/tmp/ipykernel_1155911/3376151839.py:52: RuntimeWarning: Omitted 1 annotation(s) that were outside data range.\n",
      "  raw_eeg = mne.io.read_raw_eeglab(eeg_dirname + f'sub-{SUB_ID}_task-TableTennis_eeg.set', preload=True)\n",
      "/tmp/ipykernel_1155911/3376151839.py:52: RuntimeWarning: The data contains 'boundary' events, indicating data discontinuities. Be cautious of filtering and epoching around these events.\n",
      "  raw_eeg = mne.io.read_raw_eeglab(eeg_dirname + f'sub-{SUB_ID}_task-TableTennis_eeg.set', preload=True)\n",
      "/tmp/ipykernel_1155911/3376151839.py:52: RuntimeWarning: Not setting positions of 8 emg channels found in montage:\n",
      "['LISCM', 'LSSCM', 'LSTrap', 'LITrap', 'RITrap', 'RISCM', 'RSSCM', 'RSTrap']\n",
      "Consider setting the channel types to be of EEG/sEEG/ECoG/DBS/fNIRS using inst.set_channel_types before calling inst.set_montage, or omit these channels when creating your montage.\n",
      "  raw_eeg = mne.io.read_raw_eeglab(eeg_dirname + f'sub-{SUB_ID}_task-TableTennis_eeg.set', preload=True)\n",
      "/tmp/ipykernel_1155911/3376151839.py:70: RuntimeWarning: The unit for channel(s) BallMachine_Acc_X(g), BallMachine_Acc_Y(g), BallMachine_Acc_Z(g), CGY-x, CGY-y, CGY-z, CWR-x, CWR-y, CWR-z, IMU1_RMS, Imu_1 :W():, Imu_1 :X():, Imu_1 :Y():, Imu_1 :Z():, Imu_1_ImuGyro :X(D/s):, Imu_1_ImuGyro :Y(D/s):, Imu_1_ImuGyro :Z(D/s):, Imu_1_ImuMag :X(uT):, Imu_1_ImuMag :Y(uT):, Imu_1_ImuMag :Z(uT):, Imu_2 :W():, Imu_2 :X():, Imu_2 :Y():, Imu_2 :Z():, Imu_2_ImuGyro :X(D/s):, Imu_2_ImuGyro :Y(D/s):, Imu_2_ImuGyro :Z(D/s):, Imu_2_ImuMag :X(uT):, Imu_2_ImuMag :Y(uT):, Imu_2_ImuMag :Z(uT):, Imu_4 :W():, Imu_4 :X():, Imu_4 :Y():, Imu_4 :Z():, Imu_4_ImuGyro :X(D/s):, Imu_4_ImuGyro :Y(D/s):, Imu_4_ImuGyro :Z(D/s):, Imu_4_ImuMag :X(uT):, Imu_4_ImuMag :Y(uT):, Imu_4_ImuMag :Z(uT):, N-AF3, N-AF4, N-AF7, N-AF8, N-AFF1h, N-AFF2h, N-AFF5h, N-AFF6h, N-AFp1, N-AFp2, N-AFz, N-C1, N-C2, N-C3, N-C4, N-C5, N-C6, N-CCP1h, N-CCP2h, N-CCP3h, N-CCP4h, N-CCP5h, N-CCP6h, N-CP1, N-CP2, N-CP3, N-CP4, N-CP5, N-CP6, N-CPP1h, N-CPP2h, N-CPP3h, N-CPP4h, N-CPP5h, N-CPP6h, N-Cz, N-F1, N-F10, N-F2, N-F3, N-F4, N-F5, N-F6, N-F7, N-F8, N-F9, N-FC1, N-FC2, N-FC3, N-FC4, N-FC5, N-FC6, N-FCC1h, N-FCC2h, N-FCC3h, N-FCC4h, N-FCC5h, N-FCC6h, N-FCz, N-FFC1h, N-FFC2h, N-FFC3h, N-FFC4h, N-FFC5h, N-FFC6h, N-FFT10h, N-FFT7h, N-FFT8h, N-FFT9h, N-FP2, N-FT10, N-FT7, N-FT8, N-FT9, N-FTT10h, N-FTT7h, N-FTT8h, N-FTT9h, N-Fp1, N-Fz, N-Iz, N-O1, N-O2, N-OI1h, N-OI2h, N-Oz, N-P1, N-P2, N-P3, N-P4, N-P5, N-P6, N-P7, N-P8, N-PO3, N-PO4, N-PO7, N-PO8, N-POO1, N-POO10h, N-POO2, N-POO9h, N-POz, N-PPO10h, N-PPO1h, N-PPO2h, N-PPO5h, N-PPO6h, N-PPO9h, N-Pz, N-T7, N-T8, N-TP7, N-TP8, N-TPP10h, N-TPP7h, N-TPP8h, N-TPP9h, N-TTP7h, N-TTP8h, NGY-x, NGY-y, NGY-z, NWR-x, NWR-y, NWR-z, Net_Acc_X(g), Net_Acc_Y(g), Net_Acc_Z(g), Participant_Backpack_Acc_X(g), Participant_Backpack_Acc_Y(g), Participant_Backpack_Acc_Z(g), Participant_Paddle_Acc_X(g), Participant_Paddle_Acc_Y(g), Participant_Paddle_Acc_Z(g), Researcher_Paddle_Acc_X(g), Researcher_Paddle_Acc_Y(g), Researcher_Paddle_Acc_Z(g), SyncPulse(uV), Table_OtherSide_Acc_X(g), Table_OtherSide_Acc_Y(g), Table_OtherSide_Acc_Z(g), Table_ParticipantSide_Acc_X(g), Table_ParticipantSide_Acc_Y(g), Table_ParticipantSide_Acc_Z(g) has changed from V to NA.\n",
      "  raw_eeg.set_channel_types(channel_types)\n"
     ]
    },
    {
     "name": "stdout",
     "output_type": "stream",
     "text": [
      "NOTE: pick_channels() is a legacy function. New code should use inst.pick(...).\n",
      "Reading /data/vladimiroved/realWorldTableTennis/sub-13/eeg/sub-13_task-TableTennis_eeg.fdt\n",
      "Reading 0 ... 1120665  =      0.000 ...  4482.660 secs...\n"
     ]
    },
    {
     "name": "stderr",
     "output_type": "stream",
     "text": [
      "/tmp/ipykernel_1155911/3376151839.py:52: RuntimeWarning: Unknown types found, setting as type EEG:\n",
      "acc: ['CGY-x', 'CGY-y', 'CGY-z', 'CWR-x', 'CWR-y', 'CWR-z', 'NGY-x', 'NGY-y', 'NGY-z', 'NWR-x', 'NWR-y', 'NWR-z']\n",
      "cometas: ['BallMachine_Acc_X(g)', 'BallMachine_Acc_Y(g)', 'BallMachine_Acc_Z(g)', 'IMU1_RMS', 'Imu_1 :W():', 'Imu_1 :X():', 'Imu_1 :Y():', 'Imu_1 :Z():', 'Imu_1_ImuGyro :X(D/s):', 'Imu_1_ImuGyro :Y(D/s):', 'Imu_1_ImuGyro :Z(D/s):', 'Imu_1_ImuMag :X(uT):', 'Imu_1_ImuMag :Y(uT):', 'Imu_1_ImuMag :Z(uT):', 'Imu_2 :W():', 'Imu_2 :X():', 'Imu_2 :Y():', 'Imu_2 :Z():', 'Imu_2_ImuGyro :X(D/s):', 'Imu_2_ImuGyro :Y(D/s):', 'Imu_2_ImuGyro :Z(D/s):', 'Imu_2_ImuMag :X(uT):', 'Imu_2_ImuMag :Y(uT):', 'Imu_2_ImuMag :Z(uT):', 'Imu_4 :W():', 'Imu_4 :X():', 'Imu_4 :Y():', 'Imu_4 :Z():', 'Imu_4_ImuGyro :X(D/s):', 'Imu_4_ImuGyro :Y(D/s):', 'Imu_4_ImuGyro :Z(D/s):', 'Imu_4_ImuMag :X(uT):', 'Imu_4_ImuMag :Y(uT):', 'Imu_4_ImuMag :Z(uT):', 'Net_Acc_X(g)', 'Net_Acc_Y(g)', 'Net_Acc_Z(g)', 'Participant_Backpack_Acc_X(g)', 'Participant_Backpack_Acc_Y(g)', 'Participant_Backpack_Acc_Z(g)', 'Participant_Paddle_Acc_X(g)', 'Participant_Paddle_Acc_Y(g)', 'Participant_Paddle_Acc_Z(g)', 'Researcher_Paddle_Acc_X(g)', 'Researcher_Paddle_Acc_Y(g)', 'Researcher_Paddle_Acc_Z(g)', 'SyncPulse(uV)', 'Table_OtherSide_Acc_X(g)', 'Table_OtherSide_Acc_Y(g)', 'Table_OtherSide_Acc_Z(g)', 'Table_ParticipantSide_Acc_X(g)', 'Table_ParticipantSide_Acc_Y(g)', 'Table_ParticipantSide_Acc_Z(g)']\n",
      "noise: ['N-AF3', 'N-AF4', 'N-AF7', 'N-AF8', 'N-AFF1h', 'N-AFF2h', 'N-AFF5h', 'N-AFF6h', 'N-AFp1', 'N-AFp2', 'N-AFz', 'N-C1', 'N-C2', 'N-C3', 'N-C4', 'N-C5', 'N-C6', 'N-CCP1h', 'N-CCP2h', 'N-CCP3h', 'N-CCP4h', 'N-CCP5h', 'N-CCP6h', 'N-CP1', 'N-CP2', 'N-CP3', 'N-CP4', 'N-CP5', 'N-CP6', 'N-CPP1h', 'N-CPP2h', 'N-CPP3h', 'N-CPP4h', 'N-CPP5h', 'N-CPP6h', 'N-Cz', 'N-F1', 'N-F10', 'N-F2', 'N-F3', 'N-F4', 'N-F5', 'N-F6', 'N-F7', 'N-F8', 'N-F9', 'N-FC1', 'N-FC2', 'N-FC3', 'N-FC4', 'N-FC5', 'N-FC6', 'N-FCC1h', 'N-FCC2h', 'N-FCC3h', 'N-FCC4h', 'N-FCC5h', 'N-FCC6h', 'N-FCz', 'N-FFC1h', 'N-FFC2h', 'N-FFC3h', 'N-FFC4h', 'N-FFC5h', 'N-FFC6h', 'N-FFT10h', 'N-FFT7h', 'N-FFT8h', 'N-FFT9h', 'N-FP2', 'N-FT10', 'N-FT7', 'N-FT8', 'N-FT9', 'N-FTT10h', 'N-FTT7h', 'N-FTT8h', 'N-FTT9h', 'N-Fp1', 'N-Fz', 'N-Iz', 'N-O1', 'N-O2', 'N-OI1h', 'N-OI2h', 'N-Oz', 'N-P1', 'N-P2', 'N-P3', 'N-P4', 'N-P5', 'N-P6', 'N-P7', 'N-P8', 'N-PO3', 'N-PO4', 'N-PO7', 'N-PO8', 'N-POO1', 'N-POO10h', 'N-POO2', 'N-POO9h', 'N-POz', 'N-PPO10h', 'N-PPO1h', 'N-PPO2h', 'N-PPO5h', 'N-PPO6h', 'N-PPO9h', 'N-Pz', 'N-T7', 'N-T8', 'N-TP7', 'N-TP8', 'N-TPP10h', 'N-TPP7h', 'N-TPP8h', 'N-TPP9h', 'N-TTP7h', 'N-TTP8h']\n",
      "  raw_eeg = mne.io.read_raw_eeglab(eeg_dirname + f'sub-{SUB_ID}_task-TableTennis_eeg.set', preload=True)\n",
      "/tmp/ipykernel_1155911/3376151839.py:52: RuntimeWarning: Estimated head radius (11.0 cm) is above the 99th percentile for adult head size. Check if the montage_units argument is correct (the default is \"mm\", but your channel positions may be in different units).\n",
      "  raw_eeg = mne.io.read_raw_eeglab(eeg_dirname + f'sub-{SUB_ID}_task-TableTennis_eeg.set', preload=True)\n",
      "/tmp/ipykernel_1155911/3376151839.py:52: RuntimeWarning: Data file name in EEG.data (sub-13_task-tabletennis_eeg.fdt) is incorrect, the file name must have changed on disk, using the correct file name (sub-13_task-TableTennis_eeg.fdt).\n",
      "  raw_eeg = mne.io.read_raw_eeglab(eeg_dirname + f'sub-{SUB_ID}_task-TableTennis_eeg.set', preload=True)\n",
      "/tmp/ipykernel_1155911/3376151839.py:52: RuntimeWarning: Omitted 1 annotation(s) that were outside data range.\n",
      "  raw_eeg = mne.io.read_raw_eeglab(eeg_dirname + f'sub-{SUB_ID}_task-TableTennis_eeg.set', preload=True)\n",
      "/tmp/ipykernel_1155911/3376151839.py:52: RuntimeWarning: The data contains 'boundary' events, indicating data discontinuities. Be cautious of filtering and epoching around these events.\n",
      "  raw_eeg = mne.io.read_raw_eeglab(eeg_dirname + f'sub-{SUB_ID}_task-TableTennis_eeg.set', preload=True)\n",
      "/tmp/ipykernel_1155911/3376151839.py:52: RuntimeWarning: Not setting positions of 8 emg channels found in montage:\n",
      "['LISCM', 'LSSCM', 'LSTrap', 'LITrap', 'RITrap', 'RISCM', 'RSSCM', 'RSTrap']\n",
      "Consider setting the channel types to be of EEG/sEEG/ECoG/DBS/fNIRS using inst.set_channel_types before calling inst.set_montage, or omit these channels when creating your montage.\n",
      "  raw_eeg = mne.io.read_raw_eeglab(eeg_dirname + f'sub-{SUB_ID}_task-TableTennis_eeg.set', preload=True)\n",
      "/tmp/ipykernel_1155911/3376151839.py:70: RuntimeWarning: The unit for channel(s) BallMachine_Acc_X(g), BallMachine_Acc_Y(g), BallMachine_Acc_Z(g), CGY-x, CGY-y, CGY-z, CWR-x, CWR-y, CWR-z, IMU1_RMS, Imu_1 :W():, Imu_1 :X():, Imu_1 :Y():, Imu_1 :Z():, Imu_1_ImuGyro :X(D/s):, Imu_1_ImuGyro :Y(D/s):, Imu_1_ImuGyro :Z(D/s):, Imu_1_ImuMag :X(uT):, Imu_1_ImuMag :Y(uT):, Imu_1_ImuMag :Z(uT):, Imu_2 :W():, Imu_2 :X():, Imu_2 :Y():, Imu_2 :Z():, Imu_2_ImuGyro :X(D/s):, Imu_2_ImuGyro :Y(D/s):, Imu_2_ImuGyro :Z(D/s):, Imu_2_ImuMag :X(uT):, Imu_2_ImuMag :Y(uT):, Imu_2_ImuMag :Z(uT):, Imu_4 :W():, Imu_4 :X():, Imu_4 :Y():, Imu_4 :Z():, Imu_4_ImuGyro :X(D/s):, Imu_4_ImuGyro :Y(D/s):, Imu_4_ImuGyro :Z(D/s):, Imu_4_ImuMag :X(uT):, Imu_4_ImuMag :Y(uT):, Imu_4_ImuMag :Z(uT):, N-AF3, N-AF4, N-AF7, N-AF8, N-AFF1h, N-AFF2h, N-AFF5h, N-AFF6h, N-AFp1, N-AFp2, N-AFz, N-C1, N-C2, N-C3, N-C4, N-C5, N-C6, N-CCP1h, N-CCP2h, N-CCP3h, N-CCP4h, N-CCP5h, N-CCP6h, N-CP1, N-CP2, N-CP3, N-CP4, N-CP5, N-CP6, N-CPP1h, N-CPP2h, N-CPP3h, N-CPP4h, N-CPP5h, N-CPP6h, N-Cz, N-F1, N-F10, N-F2, N-F3, N-F4, N-F5, N-F6, N-F7, N-F8, N-F9, N-FC1, N-FC2, N-FC3, N-FC4, N-FC5, N-FC6, N-FCC1h, N-FCC2h, N-FCC3h, N-FCC4h, N-FCC5h, N-FCC6h, N-FCz, N-FFC1h, N-FFC2h, N-FFC3h, N-FFC4h, N-FFC5h, N-FFC6h, N-FFT10h, N-FFT7h, N-FFT8h, N-FFT9h, N-FP2, N-FT10, N-FT7, N-FT8, N-FT9, N-FTT10h, N-FTT7h, N-FTT8h, N-FTT9h, N-Fp1, N-Fz, N-Iz, N-O1, N-O2, N-OI1h, N-OI2h, N-Oz, N-P1, N-P2, N-P3, N-P4, N-P5, N-P6, N-P7, N-P8, N-PO3, N-PO4, N-PO7, N-PO8, N-POO1, N-POO10h, N-POO2, N-POO9h, N-POz, N-PPO10h, N-PPO1h, N-PPO2h, N-PPO5h, N-PPO6h, N-PPO9h, N-Pz, N-T7, N-T8, N-TP7, N-TP8, N-TPP10h, N-TPP7h, N-TPP8h, N-TPP9h, N-TTP7h, N-TTP8h, NGY-x, NGY-y, NGY-z, NWR-x, NWR-y, NWR-z, Net_Acc_X(g), Net_Acc_Y(g), Net_Acc_Z(g), Participant_Backpack_Acc_X(g), Participant_Backpack_Acc_Y(g), Participant_Backpack_Acc_Z(g), Participant_Paddle_Acc_X(g), Participant_Paddle_Acc_Y(g), Participant_Paddle_Acc_Z(g), Researcher_Paddle_Acc_X(g), Researcher_Paddle_Acc_Y(g), Researcher_Paddle_Acc_Z(g), SyncPulse(uV), Table_OtherSide_Acc_X(g), Table_OtherSide_Acc_Y(g), Table_OtherSide_Acc_Z(g), Table_ParticipantSide_Acc_X(g), Table_ParticipantSide_Acc_Y(g), Table_ParticipantSide_Acc_Z(g) has changed from V to NA.\n",
      "  raw_eeg.set_channel_types(channel_types)\n"
     ]
    },
    {
     "name": "stdout",
     "output_type": "stream",
     "text": [
      "NOTE: pick_channels() is a legacy function. New code should use inst.pick(...).\n",
      "Reading /data/vladimiroved/realWorldTableTennis/sub-14/eeg/sub-14_task-TableTennis_eeg.fdt\n",
      "Reading 0 ... 1129763  =      0.000 ...  4519.052 secs...\n"
     ]
    },
    {
     "name": "stderr",
     "output_type": "stream",
     "text": [
      "/tmp/ipykernel_1155911/3376151839.py:52: RuntimeWarning: Unknown types found, setting as type EEG:\n",
      "acc: ['CGY-x', 'CGY-y', 'CGY-z', 'CWR-x', 'CWR-y', 'CWR-z', 'NGY-x', 'NGY-y', 'NGY-z', 'NWR-x', 'NWR-y', 'NWR-z']\n",
      "cometas: ['BallMachine_Acc_X(g)', 'BallMachine_Acc_Y(g)', 'BallMachine_Acc_Z(g)', 'IMU1_RMS', 'Imu_1 :W():', 'Imu_1 :X():', 'Imu_1 :Y():', 'Imu_1 :Z():', 'Imu_1_ImuGyro :X(D/s):', 'Imu_1_ImuGyro :Y(D/s):', 'Imu_1_ImuGyro :Z(D/s):', 'Imu_1_ImuMag :X(uT):', 'Imu_1_ImuMag :Y(uT):', 'Imu_1_ImuMag :Z(uT):', 'Imu_2 :W():', 'Imu_2 :X():', 'Imu_2 :Y():', 'Imu_2 :Z():', 'Imu_2_ImuGyro :X(D/s):', 'Imu_2_ImuGyro :Y(D/s):', 'Imu_2_ImuGyro :Z(D/s):', 'Imu_2_ImuMag :X(uT):', 'Imu_2_ImuMag :Y(uT):', 'Imu_2_ImuMag :Z(uT):', 'Imu_4 :W():', 'Imu_4 :X():', 'Imu_4 :Y():', 'Imu_4 :Z():', 'Imu_4_ImuGyro :X(D/s):', 'Imu_4_ImuGyro :Y(D/s):', 'Imu_4_ImuGyro :Z(D/s):', 'Imu_4_ImuMag :X(uT):', 'Imu_4_ImuMag :Y(uT):', 'Imu_4_ImuMag :Z(uT):', 'Net_Acc_X(g)', 'Net_Acc_Y(g)', 'Net_Acc_Z(g)', 'Participant_Backpack_Acc_X(g)', 'Participant_Backpack_Acc_Y(g)', 'Participant_Backpack_Acc_Z(g)', 'Participant_Paddle_Acc_X(g)', 'Participant_Paddle_Acc_Y(g)', 'Participant_Paddle_Acc_Z(g)', 'Researcher_Paddle_Acc_X(g)', 'Researcher_Paddle_Acc_Y(g)', 'Researcher_Paddle_Acc_Z(g)', 'SyncPulse(uV)', 'Table_OtherSide_Acc_X(g)', 'Table_OtherSide_Acc_Y(g)', 'Table_OtherSide_Acc_Z(g)', 'Table_ParticipantSide_Acc_X(g)', 'Table_ParticipantSide_Acc_Y(g)', 'Table_ParticipantSide_Acc_Z(g)']\n",
      "noise: ['N-AF3', 'N-AF4', 'N-AF7', 'N-AF8', 'N-AFF1h', 'N-AFF2h', 'N-AFF5h', 'N-AFF6h', 'N-AFp1', 'N-AFp2', 'N-AFz', 'N-C1', 'N-C2', 'N-C3', 'N-C4', 'N-C5', 'N-C6', 'N-CCP1h', 'N-CCP2h', 'N-CCP3h', 'N-CCP4h', 'N-CCP5h', 'N-CCP6h', 'N-CP1', 'N-CP2', 'N-CP3', 'N-CP4', 'N-CP5', 'N-CP6', 'N-CPP1h', 'N-CPP2h', 'N-CPP3h', 'N-CPP4h', 'N-CPP5h', 'N-CPP6h', 'N-Cz', 'N-F1', 'N-F10', 'N-F2', 'N-F3', 'N-F4', 'N-F5', 'N-F6', 'N-F7', 'N-F8', 'N-F9', 'N-FC1', 'N-FC2', 'N-FC3', 'N-FC4', 'N-FC5', 'N-FC6', 'N-FCC1h', 'N-FCC2h', 'N-FCC3h', 'N-FCC4h', 'N-FCC5h', 'N-FCC6h', 'N-FCz', 'N-FFC1h', 'N-FFC2h', 'N-FFC3h', 'N-FFC4h', 'N-FFC5h', 'N-FFC6h', 'N-FFT10h', 'N-FFT7h', 'N-FFT8h', 'N-FFT9h', 'N-FP2', 'N-FT10', 'N-FT7', 'N-FT8', 'N-FT9', 'N-FTT10h', 'N-FTT7h', 'N-FTT8h', 'N-FTT9h', 'N-Fp1', 'N-Fz', 'N-Iz', 'N-O1', 'N-O2', 'N-OI1h', 'N-OI2h', 'N-Oz', 'N-P1', 'N-P2', 'N-P3', 'N-P4', 'N-P5', 'N-P6', 'N-P7', 'N-P8', 'N-PO3', 'N-PO4', 'N-PO7', 'N-PO8', 'N-POO1', 'N-POO10h', 'N-POO2', 'N-POO9h', 'N-POz', 'N-PPO10h', 'N-PPO1h', 'N-PPO2h', 'N-PPO5h', 'N-PPO6h', 'N-PPO9h', 'N-Pz', 'N-T7', 'N-T8', 'N-TP7', 'N-TP8', 'N-TPP10h', 'N-TPP7h', 'N-TPP8h', 'N-TPP9h', 'N-TTP7h', 'N-TTP8h']\n",
      "  raw_eeg = mne.io.read_raw_eeglab(eeg_dirname + f'sub-{SUB_ID}_task-TableTennis_eeg.set', preload=True)\n",
      "/tmp/ipykernel_1155911/3376151839.py:52: RuntimeWarning: Estimated head radius (11.8 cm) is above the 99th percentile for adult head size. Check if the montage_units argument is correct (the default is \"mm\", but your channel positions may be in different units).\n",
      "  raw_eeg = mne.io.read_raw_eeglab(eeg_dirname + f'sub-{SUB_ID}_task-TableTennis_eeg.set', preload=True)\n",
      "/tmp/ipykernel_1155911/3376151839.py:52: RuntimeWarning: Data file name in EEG.data (sub-14_task-tabletennis_eeg.fdt) is incorrect, the file name must have changed on disk, using the correct file name (sub-14_task-TableTennis_eeg.fdt).\n",
      "  raw_eeg = mne.io.read_raw_eeglab(eeg_dirname + f'sub-{SUB_ID}_task-TableTennis_eeg.set', preload=True)\n",
      "/tmp/ipykernel_1155911/3376151839.py:52: RuntimeWarning: Omitted 1 annotation(s) that were outside data range.\n",
      "  raw_eeg = mne.io.read_raw_eeglab(eeg_dirname + f'sub-{SUB_ID}_task-TableTennis_eeg.set', preload=True)\n",
      "/tmp/ipykernel_1155911/3376151839.py:52: RuntimeWarning: The data contains 'boundary' events, indicating data discontinuities. Be cautious of filtering and epoching around these events.\n",
      "  raw_eeg = mne.io.read_raw_eeglab(eeg_dirname + f'sub-{SUB_ID}_task-TableTennis_eeg.set', preload=True)\n",
      "/tmp/ipykernel_1155911/3376151839.py:52: RuntimeWarning: Not setting positions of 8 emg channels found in montage:\n",
      "['LISCM', 'LSSCM', 'LSTrap', 'LITrap', 'RITrap', 'RISCM', 'RSSCM', 'RSTrap']\n",
      "Consider setting the channel types to be of EEG/sEEG/ECoG/DBS/fNIRS using inst.set_channel_types before calling inst.set_montage, or omit these channels when creating your montage.\n",
      "  raw_eeg = mne.io.read_raw_eeglab(eeg_dirname + f'sub-{SUB_ID}_task-TableTennis_eeg.set', preload=True)\n",
      "/tmp/ipykernel_1155911/3376151839.py:70: RuntimeWarning: The unit for channel(s) BallMachine_Acc_X(g), BallMachine_Acc_Y(g), BallMachine_Acc_Z(g), CGY-x, CGY-y, CGY-z, CWR-x, CWR-y, CWR-z, IMU1_RMS, Imu_1 :W():, Imu_1 :X():, Imu_1 :Y():, Imu_1 :Z():, Imu_1_ImuGyro :X(D/s):, Imu_1_ImuGyro :Y(D/s):, Imu_1_ImuGyro :Z(D/s):, Imu_1_ImuMag :X(uT):, Imu_1_ImuMag :Y(uT):, Imu_1_ImuMag :Z(uT):, Imu_2 :W():, Imu_2 :X():, Imu_2 :Y():, Imu_2 :Z():, Imu_2_ImuGyro :X(D/s):, Imu_2_ImuGyro :Y(D/s):, Imu_2_ImuGyro :Z(D/s):, Imu_2_ImuMag :X(uT):, Imu_2_ImuMag :Y(uT):, Imu_2_ImuMag :Z(uT):, Imu_4 :W():, Imu_4 :X():, Imu_4 :Y():, Imu_4 :Z():, Imu_4_ImuGyro :X(D/s):, Imu_4_ImuGyro :Y(D/s):, Imu_4_ImuGyro :Z(D/s):, Imu_4_ImuMag :X(uT):, Imu_4_ImuMag :Y(uT):, Imu_4_ImuMag :Z(uT):, N-AF3, N-AF4, N-AF7, N-AF8, N-AFF1h, N-AFF2h, N-AFF5h, N-AFF6h, N-AFp1, N-AFp2, N-AFz, N-C1, N-C2, N-C3, N-C4, N-C5, N-C6, N-CCP1h, N-CCP2h, N-CCP3h, N-CCP4h, N-CCP5h, N-CCP6h, N-CP1, N-CP2, N-CP3, N-CP4, N-CP5, N-CP6, N-CPP1h, N-CPP2h, N-CPP3h, N-CPP4h, N-CPP5h, N-CPP6h, N-Cz, N-F1, N-F10, N-F2, N-F3, N-F4, N-F5, N-F6, N-F7, N-F8, N-F9, N-FC1, N-FC2, N-FC3, N-FC4, N-FC5, N-FC6, N-FCC1h, N-FCC2h, N-FCC3h, N-FCC4h, N-FCC5h, N-FCC6h, N-FCz, N-FFC1h, N-FFC2h, N-FFC3h, N-FFC4h, N-FFC5h, N-FFC6h, N-FFT10h, N-FFT7h, N-FFT8h, N-FFT9h, N-FP2, N-FT10, N-FT7, N-FT8, N-FT9, N-FTT10h, N-FTT7h, N-FTT8h, N-FTT9h, N-Fp1, N-Fz, N-Iz, N-O1, N-O2, N-OI1h, N-OI2h, N-Oz, N-P1, N-P2, N-P3, N-P4, N-P5, N-P6, N-P7, N-P8, N-PO3, N-PO4, N-PO7, N-PO8, N-POO1, N-POO10h, N-POO2, N-POO9h, N-POz, N-PPO10h, N-PPO1h, N-PPO2h, N-PPO5h, N-PPO6h, N-PPO9h, N-Pz, N-T7, N-T8, N-TP7, N-TP8, N-TPP10h, N-TPP7h, N-TPP8h, N-TPP9h, N-TTP7h, N-TTP8h, NGY-x, NGY-y, NGY-z, NWR-x, NWR-y, NWR-z, Net_Acc_X(g), Net_Acc_Y(g), Net_Acc_Z(g), Participant_Backpack_Acc_X(g), Participant_Backpack_Acc_Y(g), Participant_Backpack_Acc_Z(g), Participant_Paddle_Acc_X(g), Participant_Paddle_Acc_Y(g), Participant_Paddle_Acc_Z(g), Researcher_Paddle_Acc_X(g), Researcher_Paddle_Acc_Y(g), Researcher_Paddle_Acc_Z(g), SyncPulse(uV), Table_OtherSide_Acc_X(g), Table_OtherSide_Acc_Y(g), Table_OtherSide_Acc_Z(g), Table_ParticipantSide_Acc_X(g), Table_ParticipantSide_Acc_Y(g), Table_ParticipantSide_Acc_Z(g) has changed from V to NA.\n",
      "  raw_eeg.set_channel_types(channel_types)\n"
     ]
    },
    {
     "name": "stdout",
     "output_type": "stream",
     "text": [
      "NOTE: pick_channels() is a legacy function. New code should use inst.pick(...).\n",
      "Reading /data/vladimiroved/realWorldTableTennis/sub-15/eeg/sub-15_task-TableTennis_eeg.fdt\n",
      "Reading 0 ... 1105756  =      0.000 ...  4423.024 secs...\n"
     ]
    },
    {
     "name": "stderr",
     "output_type": "stream",
     "text": [
      "/tmp/ipykernel_1155911/3376151839.py:52: RuntimeWarning: Unknown types found, setting as type EEG:\n",
      "acc: ['CGY-x', 'CGY-y', 'CGY-z', 'CWR-x', 'CWR-y', 'CWR-z', 'NGY-x', 'NGY-y', 'NGY-z', 'NWR-x', 'NWR-y', 'NWR-z']\n",
      "cometas: ['BallMachine_Acc_X(g)', 'BallMachine_Acc_Y(g)', 'BallMachine_Acc_Z(g)', 'IMU1_RMS', 'Imu_1 :W():', 'Imu_1 :X():', 'Imu_1 :Y():', 'Imu_1 :Z():', 'Imu_1_ImuGyro :X(D/s):', 'Imu_1_ImuGyro :Y(D/s):', 'Imu_1_ImuGyro :Z(D/s):', 'Imu_1_ImuMag :X(uT):', 'Imu_1_ImuMag :Y(uT):', 'Imu_1_ImuMag :Z(uT):', 'Imu_2 :W():', 'Imu_2 :X():', 'Imu_2 :Y():', 'Imu_2 :Z():', 'Imu_2_ImuGyro :X(D/s):', 'Imu_2_ImuGyro :Y(D/s):', 'Imu_2_ImuGyro :Z(D/s):', 'Imu_2_ImuMag :X(uT):', 'Imu_2_ImuMag :Y(uT):', 'Imu_2_ImuMag :Z(uT):', 'Imu_4 :W():', 'Imu_4 :X():', 'Imu_4 :Y():', 'Imu_4 :Z():', 'Imu_4_ImuGyro :X(D/s):', 'Imu_4_ImuGyro :Y(D/s):', 'Imu_4_ImuGyro :Z(D/s):', 'Imu_4_ImuMag :X(uT):', 'Imu_4_ImuMag :Y(uT):', 'Imu_4_ImuMag :Z(uT):', 'Net_Acc_X(g)', 'Net_Acc_Y(g)', 'Net_Acc_Z(g)', 'Participant_Backpack_Acc_X(g)', 'Participant_Backpack_Acc_Y(g)', 'Participant_Backpack_Acc_Z(g)', 'Participant_Paddle_Acc_X(g)', 'Participant_Paddle_Acc_Y(g)', 'Participant_Paddle_Acc_Z(g)', 'Researcher_Paddle_Acc_X(g)', 'Researcher_Paddle_Acc_Y(g)', 'Researcher_Paddle_Acc_Z(g)', 'SyncPulse(uV)', 'Table_OtherSide_Acc_X(g)', 'Table_OtherSide_Acc_Y(g)', 'Table_OtherSide_Acc_Z(g)', 'Table_ParticipantSide_Acc_X(g)', 'Table_ParticipantSide_Acc_Y(g)', 'Table_ParticipantSide_Acc_Z(g)']\n",
      "noise: ['N-AF3', 'N-AF4', 'N-AF7', 'N-AF8', 'N-AFF1h', 'N-AFF2h', 'N-AFF5h', 'N-AFF6h', 'N-AFp1', 'N-AFp2', 'N-AFz', 'N-C1', 'N-C2', 'N-C3', 'N-C4', 'N-C5', 'N-C6', 'N-CCP1h', 'N-CCP2h', 'N-CCP3h', 'N-CCP4h', 'N-CCP5h', 'N-CCP6h', 'N-CP1', 'N-CP2', 'N-CP3', 'N-CP4', 'N-CP5', 'N-CP6', 'N-CPP1h', 'N-CPP2h', 'N-CPP3h', 'N-CPP4h', 'N-CPP5h', 'N-CPP6h', 'N-Cz', 'N-F1', 'N-F10', 'N-F2', 'N-F3', 'N-F4', 'N-F5', 'N-F6', 'N-F7', 'N-F8', 'N-F9', 'N-FC1', 'N-FC2', 'N-FC3', 'N-FC4', 'N-FC5', 'N-FC6', 'N-FCC1h', 'N-FCC2h', 'N-FCC3h', 'N-FCC4h', 'N-FCC5h', 'N-FCC6h', 'N-FCz', 'N-FFC1h', 'N-FFC2h', 'N-FFC3h', 'N-FFC4h', 'N-FFC5h', 'N-FFC6h', 'N-FFT10h', 'N-FFT7h', 'N-FFT8h', 'N-FFT9h', 'N-FP2', 'N-FT10', 'N-FT7', 'N-FT8', 'N-FT9', 'N-FTT10h', 'N-FTT7h', 'N-FTT8h', 'N-FTT9h', 'N-Fp1', 'N-Fz', 'N-Iz', 'N-O1', 'N-O2', 'N-OI1h', 'N-OI2h', 'N-Oz', 'N-P1', 'N-P2', 'N-P3', 'N-P4', 'N-P5', 'N-P6', 'N-P7', 'N-P8', 'N-PO3', 'N-PO4', 'N-PO7', 'N-PO8', 'N-POO1', 'N-POO10h', 'N-POO2', 'N-POO9h', 'N-POz', 'N-PPO10h', 'N-PPO1h', 'N-PPO2h', 'N-PPO5h', 'N-PPO6h', 'N-PPO9h', 'N-Pz', 'N-T7', 'N-T8', 'N-TP7', 'N-TP8', 'N-TPP10h', 'N-TPP7h', 'N-TPP8h', 'N-TPP9h', 'N-TTP7h', 'N-TTP8h']\n",
      "  raw_eeg = mne.io.read_raw_eeglab(eeg_dirname + f'sub-{SUB_ID}_task-TableTennis_eeg.set', preload=True)\n",
      "/tmp/ipykernel_1155911/3376151839.py:52: RuntimeWarning: Estimated head radius (11.1 cm) is above the 99th percentile for adult head size. Check if the montage_units argument is correct (the default is \"mm\", but your channel positions may be in different units).\n",
      "  raw_eeg = mne.io.read_raw_eeglab(eeg_dirname + f'sub-{SUB_ID}_task-TableTennis_eeg.set', preload=True)\n",
      "/tmp/ipykernel_1155911/3376151839.py:52: RuntimeWarning: Data file name in EEG.data (sub-15_task-tabletennis_eeg.fdt) is incorrect, the file name must have changed on disk, using the correct file name (sub-15_task-TableTennis_eeg.fdt).\n",
      "  raw_eeg = mne.io.read_raw_eeglab(eeg_dirname + f'sub-{SUB_ID}_task-TableTennis_eeg.set', preload=True)\n",
      "/tmp/ipykernel_1155911/3376151839.py:52: RuntimeWarning: Omitted 1 annotation(s) that were outside data range.\n",
      "  raw_eeg = mne.io.read_raw_eeglab(eeg_dirname + f'sub-{SUB_ID}_task-TableTennis_eeg.set', preload=True)\n",
      "/tmp/ipykernel_1155911/3376151839.py:52: RuntimeWarning: The data contains 'boundary' events, indicating data discontinuities. Be cautious of filtering and epoching around these events.\n",
      "  raw_eeg = mne.io.read_raw_eeglab(eeg_dirname + f'sub-{SUB_ID}_task-TableTennis_eeg.set', preload=True)\n",
      "/tmp/ipykernel_1155911/3376151839.py:52: RuntimeWarning: Not setting positions of 8 emg channels found in montage:\n",
      "['LISCM', 'LSSCM', 'LSTrap', 'LITrap', 'RITrap', 'RISCM', 'RSSCM', 'RSTrap']\n",
      "Consider setting the channel types to be of EEG/sEEG/ECoG/DBS/fNIRS using inst.set_channel_types before calling inst.set_montage, or omit these channels when creating your montage.\n",
      "  raw_eeg = mne.io.read_raw_eeglab(eeg_dirname + f'sub-{SUB_ID}_task-TableTennis_eeg.set', preload=True)\n",
      "/tmp/ipykernel_1155911/3376151839.py:70: RuntimeWarning: The unit for channel(s) BallMachine_Acc_X(g), BallMachine_Acc_Y(g), BallMachine_Acc_Z(g), CGY-x, CGY-y, CGY-z, CWR-x, CWR-y, CWR-z, IMU1_RMS, Imu_1 :W():, Imu_1 :X():, Imu_1 :Y():, Imu_1 :Z():, Imu_1_ImuGyro :X(D/s):, Imu_1_ImuGyro :Y(D/s):, Imu_1_ImuGyro :Z(D/s):, Imu_1_ImuMag :X(uT):, Imu_1_ImuMag :Y(uT):, Imu_1_ImuMag :Z(uT):, Imu_2 :W():, Imu_2 :X():, Imu_2 :Y():, Imu_2 :Z():, Imu_2_ImuGyro :X(D/s):, Imu_2_ImuGyro :Y(D/s):, Imu_2_ImuGyro :Z(D/s):, Imu_2_ImuMag :X(uT):, Imu_2_ImuMag :Y(uT):, Imu_2_ImuMag :Z(uT):, Imu_4 :W():, Imu_4 :X():, Imu_4 :Y():, Imu_4 :Z():, Imu_4_ImuGyro :X(D/s):, Imu_4_ImuGyro :Y(D/s):, Imu_4_ImuGyro :Z(D/s):, Imu_4_ImuMag :X(uT):, Imu_4_ImuMag :Y(uT):, Imu_4_ImuMag :Z(uT):, N-AF3, N-AF4, N-AF7, N-AF8, N-AFF1h, N-AFF2h, N-AFF5h, N-AFF6h, N-AFp1, N-AFp2, N-AFz, N-C1, N-C2, N-C3, N-C4, N-C5, N-C6, N-CCP1h, N-CCP2h, N-CCP3h, N-CCP4h, N-CCP5h, N-CCP6h, N-CP1, N-CP2, N-CP3, N-CP4, N-CP5, N-CP6, N-CPP1h, N-CPP2h, N-CPP3h, N-CPP4h, N-CPP5h, N-CPP6h, N-Cz, N-F1, N-F10, N-F2, N-F3, N-F4, N-F5, N-F6, N-F7, N-F8, N-F9, N-FC1, N-FC2, N-FC3, N-FC4, N-FC5, N-FC6, N-FCC1h, N-FCC2h, N-FCC3h, N-FCC4h, N-FCC5h, N-FCC6h, N-FCz, N-FFC1h, N-FFC2h, N-FFC3h, N-FFC4h, N-FFC5h, N-FFC6h, N-FFT10h, N-FFT7h, N-FFT8h, N-FFT9h, N-FP2, N-FT10, N-FT7, N-FT8, N-FT9, N-FTT10h, N-FTT7h, N-FTT8h, N-FTT9h, N-Fp1, N-Fz, N-Iz, N-O1, N-O2, N-OI1h, N-OI2h, N-Oz, N-P1, N-P2, N-P3, N-P4, N-P5, N-P6, N-P7, N-P8, N-PO3, N-PO4, N-PO7, N-PO8, N-POO1, N-POO10h, N-POO2, N-POO9h, N-POz, N-PPO10h, N-PPO1h, N-PPO2h, N-PPO5h, N-PPO6h, N-PPO9h, N-Pz, N-T7, N-T8, N-TP7, N-TP8, N-TPP10h, N-TPP7h, N-TPP8h, N-TPP9h, N-TTP7h, N-TTP8h, NGY-x, NGY-y, NGY-z, NWR-x, NWR-y, NWR-z, Net_Acc_X(g), Net_Acc_Y(g), Net_Acc_Z(g), Participant_Backpack_Acc_X(g), Participant_Backpack_Acc_Y(g), Participant_Backpack_Acc_Z(g), Participant_Paddle_Acc_X(g), Participant_Paddle_Acc_Y(g), Participant_Paddle_Acc_Z(g), Researcher_Paddle_Acc_X(g), Researcher_Paddle_Acc_Y(g), Researcher_Paddle_Acc_Z(g), SyncPulse(uV), Table_OtherSide_Acc_X(g), Table_OtherSide_Acc_Y(g), Table_OtherSide_Acc_Z(g), Table_ParticipantSide_Acc_X(g), Table_ParticipantSide_Acc_Y(g), Table_ParticipantSide_Acc_Z(g) has changed from V to NA.\n",
      "  raw_eeg.set_channel_types(channel_types)\n"
     ]
    },
    {
     "name": "stdout",
     "output_type": "stream",
     "text": [
      "NOTE: pick_channels() is a legacy function. New code should use inst.pick(...).\n",
      "Reading /data/vladimiroved/realWorldTableTennis/sub-16/eeg/sub-16_task-TableTennis_eeg.fdt\n",
      "Reading 0 ... 1151915  =      0.000 ...  4607.660 secs...\n"
     ]
    },
    {
     "name": "stderr",
     "output_type": "stream",
     "text": [
      "/tmp/ipykernel_1155911/3376151839.py:52: RuntimeWarning: Unknown types found, setting as type EEG:\n",
      "acc: ['CGY-x', 'CGY-y', 'CGY-z', 'CWR-x', 'CWR-y', 'CWR-z', 'NGY-x', 'NGY-y', 'NGY-z', 'NWR-x', 'NWR-y', 'NWR-z']\n",
      "cometas: ['BallMachine_Acc_X(g)', 'BallMachine_Acc_Y(g)', 'BallMachine_Acc_Z(g)', 'IMU1_RMS', 'Imu_1 :W():', 'Imu_1 :X():', 'Imu_1 :Y():', 'Imu_1 :Z():', 'Imu_1_ImuGyro :X(D/s):', 'Imu_1_ImuGyro :Y(D/s):', 'Imu_1_ImuGyro :Z(D/s):', 'Imu_1_ImuMag :X(uT):', 'Imu_1_ImuMag :Y(uT):', 'Imu_1_ImuMag :Z(uT):', 'Imu_2 :W():', 'Imu_2 :X():', 'Imu_2 :Y():', 'Imu_2 :Z():', 'Imu_2_ImuGyro :X(D/s):', 'Imu_2_ImuGyro :Y(D/s):', 'Imu_2_ImuGyro :Z(D/s):', 'Imu_2_ImuMag :X(uT):', 'Imu_2_ImuMag :Y(uT):', 'Imu_2_ImuMag :Z(uT):', 'Imu_4 :W():', 'Imu_4 :X():', 'Imu_4 :Y():', 'Imu_4 :Z():', 'Imu_4_ImuGyro :X(D/s):', 'Imu_4_ImuGyro :Y(D/s):', 'Imu_4_ImuGyro :Z(D/s):', 'Imu_4_ImuMag :X(uT):', 'Imu_4_ImuMag :Y(uT):', 'Imu_4_ImuMag :Z(uT):', 'Net_Acc_X(g)', 'Net_Acc_Y(g)', 'Net_Acc_Z(g)', 'Participant_Backpack_Acc_X(g)', 'Participant_Backpack_Acc_Y(g)', 'Participant_Backpack_Acc_Z(g)', 'Participant_Paddle_Acc_X(g)', 'Participant_Paddle_Acc_Y(g)', 'Participant_Paddle_Acc_Z(g)', 'Researcher_Paddle_Acc_X(g)', 'Researcher_Paddle_Acc_Y(g)', 'Researcher_Paddle_Acc_Z(g)', 'SyncPulse(uV)', 'Table_OtherSide_Acc_X(g)', 'Table_OtherSide_Acc_Y(g)', 'Table_OtherSide_Acc_Z(g)', 'Table_ParticipantSide_Acc_X(g)', 'Table_ParticipantSide_Acc_Y(g)', 'Table_ParticipantSide_Acc_Z(g)']\n",
      "noise: ['N-AF3', 'N-AF4', 'N-AF7', 'N-AF8', 'N-AFF1h', 'N-AFF2h', 'N-AFF5h', 'N-AFF6h', 'N-AFp1', 'N-AFp2', 'N-AFz', 'N-C1', 'N-C2', 'N-C3', 'N-C4', 'N-C5', 'N-C6', 'N-CCP1h', 'N-CCP2h', 'N-CCP3h', 'N-CCP4h', 'N-CCP5h', 'N-CCP6h', 'N-CP1', 'N-CP2', 'N-CP3', 'N-CP4', 'N-CP5', 'N-CP6', 'N-CPP1h', 'N-CPP2h', 'N-CPP3h', 'N-CPP4h', 'N-CPP5h', 'N-CPP6h', 'N-Cz', 'N-F1', 'N-F10', 'N-F2', 'N-F3', 'N-F4', 'N-F5', 'N-F6', 'N-F7', 'N-F8', 'N-F9', 'N-FC1', 'N-FC2', 'N-FC3', 'N-FC4', 'N-FC5', 'N-FC6', 'N-FCC1h', 'N-FCC2h', 'N-FCC3h', 'N-FCC4h', 'N-FCC5h', 'N-FCC6h', 'N-FCz', 'N-FFC1h', 'N-FFC2h', 'N-FFC3h', 'N-FFC4h', 'N-FFC5h', 'N-FFC6h', 'N-FFT10h', 'N-FFT7h', 'N-FFT8h', 'N-FFT9h', 'N-FP2', 'N-FT10', 'N-FT7', 'N-FT8', 'N-FT9', 'N-FTT10h', 'N-FTT7h', 'N-FTT8h', 'N-FTT9h', 'N-Fp1', 'N-Fz', 'N-Iz', 'N-O1', 'N-O2', 'N-OI1h', 'N-OI2h', 'N-Oz', 'N-P1', 'N-P2', 'N-P3', 'N-P4', 'N-P5', 'N-P6', 'N-P7', 'N-P8', 'N-PO3', 'N-PO4', 'N-PO7', 'N-PO8', 'N-POO1', 'N-POO10h', 'N-POO2', 'N-POO9h', 'N-POz', 'N-PPO10h', 'N-PPO1h', 'N-PPO2h', 'N-PPO5h', 'N-PPO6h', 'N-PPO9h', 'N-Pz', 'N-T7', 'N-T8', 'N-TP7', 'N-TP8', 'N-TPP10h', 'N-TPP7h', 'N-TPP8h', 'N-TPP9h', 'N-TTP7h', 'N-TTP8h']\n",
      "  raw_eeg = mne.io.read_raw_eeglab(eeg_dirname + f'sub-{SUB_ID}_task-TableTennis_eeg.set', preload=True)\n",
      "/tmp/ipykernel_1155911/3376151839.py:52: RuntimeWarning: Estimated head radius (11.6 cm) is above the 99th percentile for adult head size. Check if the montage_units argument is correct (the default is \"mm\", but your channel positions may be in different units).\n",
      "  raw_eeg = mne.io.read_raw_eeglab(eeg_dirname + f'sub-{SUB_ID}_task-TableTennis_eeg.set', preload=True)\n",
      "/tmp/ipykernel_1155911/3376151839.py:52: RuntimeWarning: Data file name in EEG.data (sub-16_task-tabletennis_eeg.fdt) is incorrect, the file name must have changed on disk, using the correct file name (sub-16_task-TableTennis_eeg.fdt).\n",
      "  raw_eeg = mne.io.read_raw_eeglab(eeg_dirname + f'sub-{SUB_ID}_task-TableTennis_eeg.set', preload=True)\n",
      "/tmp/ipykernel_1155911/3376151839.py:52: RuntimeWarning: Omitted 1 annotation(s) that were outside data range.\n",
      "  raw_eeg = mne.io.read_raw_eeglab(eeg_dirname + f'sub-{SUB_ID}_task-TableTennis_eeg.set', preload=True)\n",
      "/tmp/ipykernel_1155911/3376151839.py:52: RuntimeWarning: The data contains 'boundary' events, indicating data discontinuities. Be cautious of filtering and epoching around these events.\n",
      "  raw_eeg = mne.io.read_raw_eeglab(eeg_dirname + f'sub-{SUB_ID}_task-TableTennis_eeg.set', preload=True)\n",
      "/tmp/ipykernel_1155911/3376151839.py:52: RuntimeWarning: Not setting positions of 8 emg channels found in montage:\n",
      "['LISCM', 'LSSCM', 'LSTrap', 'LITrap', 'RITrap', 'RISCM', 'RSSCM', 'RSTrap']\n",
      "Consider setting the channel types to be of EEG/sEEG/ECoG/DBS/fNIRS using inst.set_channel_types before calling inst.set_montage, or omit these channels when creating your montage.\n",
      "  raw_eeg = mne.io.read_raw_eeglab(eeg_dirname + f'sub-{SUB_ID}_task-TableTennis_eeg.set', preload=True)\n",
      "/tmp/ipykernel_1155911/3376151839.py:70: RuntimeWarning: The unit for channel(s) BallMachine_Acc_X(g), BallMachine_Acc_Y(g), BallMachine_Acc_Z(g), CGY-x, CGY-y, CGY-z, CWR-x, CWR-y, CWR-z, IMU1_RMS, Imu_1 :W():, Imu_1 :X():, Imu_1 :Y():, Imu_1 :Z():, Imu_1_ImuGyro :X(D/s):, Imu_1_ImuGyro :Y(D/s):, Imu_1_ImuGyro :Z(D/s):, Imu_1_ImuMag :X(uT):, Imu_1_ImuMag :Y(uT):, Imu_1_ImuMag :Z(uT):, Imu_2 :W():, Imu_2 :X():, Imu_2 :Y():, Imu_2 :Z():, Imu_2_ImuGyro :X(D/s):, Imu_2_ImuGyro :Y(D/s):, Imu_2_ImuGyro :Z(D/s):, Imu_2_ImuMag :X(uT):, Imu_2_ImuMag :Y(uT):, Imu_2_ImuMag :Z(uT):, Imu_4 :W():, Imu_4 :X():, Imu_4 :Y():, Imu_4 :Z():, Imu_4_ImuGyro :X(D/s):, Imu_4_ImuGyro :Y(D/s):, Imu_4_ImuGyro :Z(D/s):, Imu_4_ImuMag :X(uT):, Imu_4_ImuMag :Y(uT):, Imu_4_ImuMag :Z(uT):, N-AF3, N-AF4, N-AF7, N-AF8, N-AFF1h, N-AFF2h, N-AFF5h, N-AFF6h, N-AFp1, N-AFp2, N-AFz, N-C1, N-C2, N-C3, N-C4, N-C5, N-C6, N-CCP1h, N-CCP2h, N-CCP3h, N-CCP4h, N-CCP5h, N-CCP6h, N-CP1, N-CP2, N-CP3, N-CP4, N-CP5, N-CP6, N-CPP1h, N-CPP2h, N-CPP3h, N-CPP4h, N-CPP5h, N-CPP6h, N-Cz, N-F1, N-F10, N-F2, N-F3, N-F4, N-F5, N-F6, N-F7, N-F8, N-F9, N-FC1, N-FC2, N-FC3, N-FC4, N-FC5, N-FC6, N-FCC1h, N-FCC2h, N-FCC3h, N-FCC4h, N-FCC5h, N-FCC6h, N-FCz, N-FFC1h, N-FFC2h, N-FFC3h, N-FFC4h, N-FFC5h, N-FFC6h, N-FFT10h, N-FFT7h, N-FFT8h, N-FFT9h, N-FP2, N-FT10, N-FT7, N-FT8, N-FT9, N-FTT10h, N-FTT7h, N-FTT8h, N-FTT9h, N-Fp1, N-Fz, N-Iz, N-O1, N-O2, N-OI1h, N-OI2h, N-Oz, N-P1, N-P2, N-P3, N-P4, N-P5, N-P6, N-P7, N-P8, N-PO3, N-PO4, N-PO7, N-PO8, N-POO1, N-POO10h, N-POO2, N-POO9h, N-POz, N-PPO10h, N-PPO1h, N-PPO2h, N-PPO5h, N-PPO6h, N-PPO9h, N-Pz, N-T7, N-T8, N-TP7, N-TP8, N-TPP10h, N-TPP7h, N-TPP8h, N-TPP9h, N-TTP7h, N-TTP8h, NGY-x, NGY-y, NGY-z, NWR-x, NWR-y, NWR-z, Net_Acc_X(g), Net_Acc_Y(g), Net_Acc_Z(g), Participant_Backpack_Acc_X(g), Participant_Backpack_Acc_Y(g), Participant_Backpack_Acc_Z(g), Participant_Paddle_Acc_X(g), Participant_Paddle_Acc_Y(g), Participant_Paddle_Acc_Z(g), Researcher_Paddle_Acc_X(g), Researcher_Paddle_Acc_Y(g), Researcher_Paddle_Acc_Z(g), SyncPulse(uV), Table_OtherSide_Acc_X(g), Table_OtherSide_Acc_Y(g), Table_OtherSide_Acc_Z(g), Table_ParticipantSide_Acc_X(g), Table_ParticipantSide_Acc_Y(g), Table_ParticipantSide_Acc_Z(g) has changed from V to NA.\n",
      "  raw_eeg.set_channel_types(channel_types)\n"
     ]
    },
    {
     "name": "stdout",
     "output_type": "stream",
     "text": [
      "NOTE: pick_channels() is a legacy function. New code should use inst.pick(...).\n",
      "Reading /data/vladimiroved/realWorldTableTennis/sub-17/eeg/sub-17_task-TableTennis_eeg.fdt\n",
      "Reading 0 ... 1119558  =      0.000 ...  4478.232 secs...\n"
     ]
    },
    {
     "name": "stderr",
     "output_type": "stream",
     "text": [
      "/tmp/ipykernel_1155911/3376151839.py:52: RuntimeWarning: Unknown types found, setting as type EEG:\n",
      "acc: ['CGY-x', 'CGY-y', 'CGY-z', 'CWR-x', 'CWR-y', 'CWR-z', 'NGY-x', 'NGY-y', 'NGY-z', 'NWR-x', 'NWR-y', 'NWR-z']\n",
      "cometas: ['BallMachine_Acc_X(g)', 'BallMachine_Acc_Y(g)', 'BallMachine_Acc_Z(g)', 'IMU1_RMS', 'Imu_1 :W():', 'Imu_1 :X():', 'Imu_1 :Y():', 'Imu_1 :Z():', 'Imu_1_ImuGyro :X(D/s):', 'Imu_1_ImuGyro :Y(D/s):', 'Imu_1_ImuGyro :Z(D/s):', 'Imu_1_ImuMag :X(uT):', 'Imu_1_ImuMag :Y(uT):', 'Imu_1_ImuMag :Z(uT):', 'Imu_2 :W():', 'Imu_2 :X():', 'Imu_2 :Y():', 'Imu_2 :Z():', 'Imu_2_ImuGyro :X(D/s):', 'Imu_2_ImuGyro :Y(D/s):', 'Imu_2_ImuGyro :Z(D/s):', 'Imu_2_ImuMag :X(uT):', 'Imu_2_ImuMag :Y(uT):', 'Imu_2_ImuMag :Z(uT):', 'Imu_4 :W():', 'Imu_4 :X():', 'Imu_4 :Y():', 'Imu_4 :Z():', 'Imu_4_ImuGyro :X(D/s):', 'Imu_4_ImuGyro :Y(D/s):', 'Imu_4_ImuGyro :Z(D/s):', 'Imu_4_ImuMag :X(uT):', 'Imu_4_ImuMag :Y(uT):', 'Imu_4_ImuMag :Z(uT):', 'Net_Acc_X(g)', 'Net_Acc_Y(g)', 'Net_Acc_Z(g)', 'Participant_Backpack_Acc_X(g)', 'Participant_Backpack_Acc_Y(g)', 'Participant_Backpack_Acc_Z(g)', 'Participant_Paddle_Acc_X(g)', 'Participant_Paddle_Acc_Y(g)', 'Participant_Paddle_Acc_Z(g)', 'Researcher_Paddle_Acc_X(g)', 'Researcher_Paddle_Acc_Y(g)', 'Researcher_Paddle_Acc_Z(g)', 'SyncPulse(uV)', 'Table_OtherSide_Acc_X(g)', 'Table_OtherSide_Acc_Y(g)', 'Table_OtherSide_Acc_Z(g)', 'Table_ParticipantSide_Acc_X(g)', 'Table_ParticipantSide_Acc_Y(g)', 'Table_ParticipantSide_Acc_Z(g)']\n",
      "noise: ['N-AF3', 'N-AF4', 'N-AF7', 'N-AF8', 'N-AFF1h', 'N-AFF2h', 'N-AFF5h', 'N-AFF6h', 'N-AFp1', 'N-AFp2', 'N-AFz', 'N-C1', 'N-C2', 'N-C3', 'N-C4', 'N-C5', 'N-C6', 'N-CCP1h', 'N-CCP2h', 'N-CCP3h', 'N-CCP4h', 'N-CCP5h', 'N-CCP6h', 'N-CP1', 'N-CP2', 'N-CP3', 'N-CP4', 'N-CP5', 'N-CP6', 'N-CPP1h', 'N-CPP2h', 'N-CPP3h', 'N-CPP4h', 'N-CPP5h', 'N-CPP6h', 'N-Cz', 'N-F1', 'N-F10', 'N-F2', 'N-F3', 'N-F4', 'N-F5', 'N-F6', 'N-F7', 'N-F8', 'N-F9', 'N-FC1', 'N-FC2', 'N-FC3', 'N-FC4', 'N-FC5', 'N-FC6', 'N-FCC1h', 'N-FCC2h', 'N-FCC3h', 'N-FCC4h', 'N-FCC5h', 'N-FCC6h', 'N-FCz', 'N-FFC1h', 'N-FFC2h', 'N-FFC3h', 'N-FFC4h', 'N-FFC5h', 'N-FFC6h', 'N-FFT10h', 'N-FFT7h', 'N-FFT8h', 'N-FFT9h', 'N-FP2', 'N-FT10', 'N-FT7', 'N-FT8', 'N-FT9', 'N-FTT10h', 'N-FTT7h', 'N-FTT8h', 'N-FTT9h', 'N-Fp1', 'N-Fz', 'N-Iz', 'N-O1', 'N-O2', 'N-OI1h', 'N-OI2h', 'N-Oz', 'N-P1', 'N-P2', 'N-P3', 'N-P4', 'N-P5', 'N-P6', 'N-P7', 'N-P8', 'N-PO3', 'N-PO4', 'N-PO7', 'N-PO8', 'N-POO1', 'N-POO10h', 'N-POO2', 'N-POO9h', 'N-POz', 'N-PPO10h', 'N-PPO1h', 'N-PPO2h', 'N-PPO5h', 'N-PPO6h', 'N-PPO9h', 'N-Pz', 'N-T7', 'N-T8', 'N-TP7', 'N-TP8', 'N-TPP10h', 'N-TPP7h', 'N-TPP8h', 'N-TPP9h', 'N-TTP7h', 'N-TTP8h']\n",
      "  raw_eeg = mne.io.read_raw_eeglab(eeg_dirname + f'sub-{SUB_ID}_task-TableTennis_eeg.set', preload=True)\n",
      "/tmp/ipykernel_1155911/3376151839.py:52: RuntimeWarning: Estimated head radius (11.7 cm) is above the 99th percentile for adult head size. Check if the montage_units argument is correct (the default is \"mm\", but your channel positions may be in different units).\n",
      "  raw_eeg = mne.io.read_raw_eeglab(eeg_dirname + f'sub-{SUB_ID}_task-TableTennis_eeg.set', preload=True)\n",
      "/tmp/ipykernel_1155911/3376151839.py:52: RuntimeWarning: Data file name in EEG.data (sub-17_task-tabletennis_eeg.fdt) is incorrect, the file name must have changed on disk, using the correct file name (sub-17_task-TableTennis_eeg.fdt).\n",
      "  raw_eeg = mne.io.read_raw_eeglab(eeg_dirname + f'sub-{SUB_ID}_task-TableTennis_eeg.set', preload=True)\n",
      "/tmp/ipykernel_1155911/3376151839.py:52: RuntimeWarning: Omitted 1 annotation(s) that were outside data range.\n",
      "  raw_eeg = mne.io.read_raw_eeglab(eeg_dirname + f'sub-{SUB_ID}_task-TableTennis_eeg.set', preload=True)\n",
      "/tmp/ipykernel_1155911/3376151839.py:52: RuntimeWarning: The data contains 'boundary' events, indicating data discontinuities. Be cautious of filtering and epoching around these events.\n",
      "  raw_eeg = mne.io.read_raw_eeglab(eeg_dirname + f'sub-{SUB_ID}_task-TableTennis_eeg.set', preload=True)\n",
      "/tmp/ipykernel_1155911/3376151839.py:52: RuntimeWarning: Not setting positions of 8 emg channels found in montage:\n",
      "['LISCM', 'LSSCM', 'LSTrap', 'LITrap', 'RITrap', 'RISCM', 'RSSCM', 'RSTrap']\n",
      "Consider setting the channel types to be of EEG/sEEG/ECoG/DBS/fNIRS using inst.set_channel_types before calling inst.set_montage, or omit these channels when creating your montage.\n",
      "  raw_eeg = mne.io.read_raw_eeglab(eeg_dirname + f'sub-{SUB_ID}_task-TableTennis_eeg.set', preload=True)\n",
      "/tmp/ipykernel_1155911/3376151839.py:70: RuntimeWarning: The unit for channel(s) BallMachine_Acc_X(g), BallMachine_Acc_Y(g), BallMachine_Acc_Z(g), CGY-x, CGY-y, CGY-z, CWR-x, CWR-y, CWR-z, IMU1_RMS, Imu_1 :W():, Imu_1 :X():, Imu_1 :Y():, Imu_1 :Z():, Imu_1_ImuGyro :X(D/s):, Imu_1_ImuGyro :Y(D/s):, Imu_1_ImuGyro :Z(D/s):, Imu_1_ImuMag :X(uT):, Imu_1_ImuMag :Y(uT):, Imu_1_ImuMag :Z(uT):, Imu_2 :W():, Imu_2 :X():, Imu_2 :Y():, Imu_2 :Z():, Imu_2_ImuGyro :X(D/s):, Imu_2_ImuGyro :Y(D/s):, Imu_2_ImuGyro :Z(D/s):, Imu_2_ImuMag :X(uT):, Imu_2_ImuMag :Y(uT):, Imu_2_ImuMag :Z(uT):, Imu_4 :W():, Imu_4 :X():, Imu_4 :Y():, Imu_4 :Z():, Imu_4_ImuGyro :X(D/s):, Imu_4_ImuGyro :Y(D/s):, Imu_4_ImuGyro :Z(D/s):, Imu_4_ImuMag :X(uT):, Imu_4_ImuMag :Y(uT):, Imu_4_ImuMag :Z(uT):, N-AF3, N-AF4, N-AF7, N-AF8, N-AFF1h, N-AFF2h, N-AFF5h, N-AFF6h, N-AFp1, N-AFp2, N-AFz, N-C1, N-C2, N-C3, N-C4, N-C5, N-C6, N-CCP1h, N-CCP2h, N-CCP3h, N-CCP4h, N-CCP5h, N-CCP6h, N-CP1, N-CP2, N-CP3, N-CP4, N-CP5, N-CP6, N-CPP1h, N-CPP2h, N-CPP3h, N-CPP4h, N-CPP5h, N-CPP6h, N-Cz, N-F1, N-F10, N-F2, N-F3, N-F4, N-F5, N-F6, N-F7, N-F8, N-F9, N-FC1, N-FC2, N-FC3, N-FC4, N-FC5, N-FC6, N-FCC1h, N-FCC2h, N-FCC3h, N-FCC4h, N-FCC5h, N-FCC6h, N-FCz, N-FFC1h, N-FFC2h, N-FFC3h, N-FFC4h, N-FFC5h, N-FFC6h, N-FFT10h, N-FFT7h, N-FFT8h, N-FFT9h, N-FP2, N-FT10, N-FT7, N-FT8, N-FT9, N-FTT10h, N-FTT7h, N-FTT8h, N-FTT9h, N-Fp1, N-Fz, N-Iz, N-O1, N-O2, N-OI1h, N-OI2h, N-Oz, N-P1, N-P2, N-P3, N-P4, N-P5, N-P6, N-P7, N-P8, N-PO3, N-PO4, N-PO7, N-PO8, N-POO1, N-POO10h, N-POO2, N-POO9h, N-POz, N-PPO10h, N-PPO1h, N-PPO2h, N-PPO5h, N-PPO6h, N-PPO9h, N-Pz, N-T7, N-T8, N-TP7, N-TP8, N-TPP10h, N-TPP7h, N-TPP8h, N-TPP9h, N-TTP7h, N-TTP8h, NGY-x, NGY-y, NGY-z, NWR-x, NWR-y, NWR-z, Net_Acc_X(g), Net_Acc_Y(g), Net_Acc_Z(g), Participant_Backpack_Acc_X(g), Participant_Backpack_Acc_Y(g), Participant_Backpack_Acc_Z(g), Participant_Paddle_Acc_X(g), Participant_Paddle_Acc_Y(g), Participant_Paddle_Acc_Z(g), Researcher_Paddle_Acc_X(g), Researcher_Paddle_Acc_Y(g), Researcher_Paddle_Acc_Z(g), SyncPulse(uV), Table_OtherSide_Acc_X(g), Table_OtherSide_Acc_Y(g), Table_OtherSide_Acc_Z(g), Table_ParticipantSide_Acc_X(g), Table_ParticipantSide_Acc_Y(g), Table_ParticipantSide_Acc_Z(g) has changed from V to NA.\n",
      "  raw_eeg.set_channel_types(channel_types)\n"
     ]
    },
    {
     "name": "stdout",
     "output_type": "stream",
     "text": [
      "NOTE: pick_channels() is a legacy function. New code should use inst.pick(...).\n",
      "Reading /data/vladimiroved/realWorldTableTennis/sub-18/eeg/sub-18_task-TableTennis_eeg.fdt\n",
      "Reading 0 ... 1155502  =      0.000 ...  4622.008 secs...\n"
     ]
    },
    {
     "name": "stderr",
     "output_type": "stream",
     "text": [
      "/tmp/ipykernel_1155911/3376151839.py:52: RuntimeWarning: Unknown types found, setting as type EEG:\n",
      "acc: ['CGY-x', 'CGY-y', 'CGY-z', 'CWR-x', 'CWR-y', 'CWR-z', 'NGY-x', 'NGY-y', 'NGY-z', 'NWR-x', 'NWR-y', 'NWR-z']\n",
      "cometas: ['BallMachine_Acc_X(g)', 'BallMachine_Acc_Y(g)', 'BallMachine_Acc_Z(g)', 'IMU1_RMS', 'Imu_1 :W():', 'Imu_1 :X():', 'Imu_1 :Y():', 'Imu_1 :Z():', 'Imu_1_ImuGyro :X(D/s):', 'Imu_1_ImuGyro :Y(D/s):', 'Imu_1_ImuGyro :Z(D/s):', 'Imu_1_ImuMag :X(uT):', 'Imu_1_ImuMag :Y(uT):', 'Imu_1_ImuMag :Z(uT):', 'Imu_2 :W():', 'Imu_2 :X():', 'Imu_2 :Y():', 'Imu_2 :Z():', 'Imu_2_ImuGyro :X(D/s):', 'Imu_2_ImuGyro :Y(D/s):', 'Imu_2_ImuGyro :Z(D/s):', 'Imu_2_ImuMag :X(uT):', 'Imu_2_ImuMag :Y(uT):', 'Imu_2_ImuMag :Z(uT):', 'Imu_4 :W():', 'Imu_4 :X():', 'Imu_4 :Y():', 'Imu_4 :Z():', 'Imu_4_ImuGyro :X(D/s):', 'Imu_4_ImuGyro :Y(D/s):', 'Imu_4_ImuGyro :Z(D/s):', 'Imu_4_ImuMag :X(uT):', 'Imu_4_ImuMag :Y(uT):', 'Imu_4_ImuMag :Z(uT):', 'Net_Acc_X(g)', 'Net_Acc_Y(g)', 'Net_Acc_Z(g)', 'Participant_Backpack_Acc_X(g)', 'Participant_Backpack_Acc_Y(g)', 'Participant_Backpack_Acc_Z(g)', 'Participant_Paddle_Acc_X(g)', 'Participant_Paddle_Acc_Y(g)', 'Participant_Paddle_Acc_Z(g)', 'Researcher_Paddle_Acc_X(g)', 'Researcher_Paddle_Acc_Y(g)', 'Researcher_Paddle_Acc_Z(g)', 'SyncPulse(uV)', 'Table_OtherSide_Acc_X(g)', 'Table_OtherSide_Acc_Y(g)', 'Table_OtherSide_Acc_Z(g)', 'Table_ParticipantSide_Acc_X(g)', 'Table_ParticipantSide_Acc_Y(g)', 'Table_ParticipantSide_Acc_Z(g)']\n",
      "noise: ['N-AF3', 'N-AF4', 'N-AF7', 'N-AF8', 'N-AFF1h', 'N-AFF2h', 'N-AFF5h', 'N-AFF6h', 'N-AFp1', 'N-AFp2', 'N-AFz', 'N-C1', 'N-C2', 'N-C3', 'N-C4', 'N-C5', 'N-C6', 'N-CCP1h', 'N-CCP2h', 'N-CCP3h', 'N-CCP4h', 'N-CCP5h', 'N-CCP6h', 'N-CP1', 'N-CP2', 'N-CP3', 'N-CP4', 'N-CP5', 'N-CP6', 'N-CPP1h', 'N-CPP2h', 'N-CPP3h', 'N-CPP4h', 'N-CPP5h', 'N-CPP6h', 'N-Cz', 'N-F1', 'N-F10', 'N-F2', 'N-F3', 'N-F4', 'N-F5', 'N-F6', 'N-F7', 'N-F8', 'N-F9', 'N-FC1', 'N-FC2', 'N-FC3', 'N-FC4', 'N-FC5', 'N-FC6', 'N-FCC1h', 'N-FCC2h', 'N-FCC3h', 'N-FCC4h', 'N-FCC5h', 'N-FCC6h', 'N-FCz', 'N-FFC1h', 'N-FFC2h', 'N-FFC3h', 'N-FFC4h', 'N-FFC5h', 'N-FFC6h', 'N-FFT10h', 'N-FFT7h', 'N-FFT8h', 'N-FFT9h', 'N-FP2', 'N-FT10', 'N-FT7', 'N-FT8', 'N-FT9', 'N-FTT10h', 'N-FTT7h', 'N-FTT8h', 'N-FTT9h', 'N-Fp1', 'N-Fz', 'N-Iz', 'N-O1', 'N-O2', 'N-OI1h', 'N-OI2h', 'N-Oz', 'N-P1', 'N-P2', 'N-P3', 'N-P4', 'N-P5', 'N-P6', 'N-P7', 'N-P8', 'N-PO3', 'N-PO4', 'N-PO7', 'N-PO8', 'N-POO1', 'N-POO10h', 'N-POO2', 'N-POO9h', 'N-POz', 'N-PPO10h', 'N-PPO1h', 'N-PPO2h', 'N-PPO5h', 'N-PPO6h', 'N-PPO9h', 'N-Pz', 'N-T7', 'N-T8', 'N-TP7', 'N-TP8', 'N-TPP10h', 'N-TPP7h', 'N-TPP8h', 'N-TPP9h', 'N-TTP7h', 'N-TTP8h']\n",
      "  raw_eeg = mne.io.read_raw_eeglab(eeg_dirname + f'sub-{SUB_ID}_task-TableTennis_eeg.set', preload=True)\n",
      "/tmp/ipykernel_1155911/3376151839.py:52: RuntimeWarning: Estimated head radius (11.4 cm) is above the 99th percentile for adult head size. Check if the montage_units argument is correct (the default is \"mm\", but your channel positions may be in different units).\n",
      "  raw_eeg = mne.io.read_raw_eeglab(eeg_dirname + f'sub-{SUB_ID}_task-TableTennis_eeg.set', preload=True)\n",
      "/tmp/ipykernel_1155911/3376151839.py:52: RuntimeWarning: Data file name in EEG.data (sub-18_task-tabletennis_eeg.fdt) is incorrect, the file name must have changed on disk, using the correct file name (sub-18_task-TableTennis_eeg.fdt).\n",
      "  raw_eeg = mne.io.read_raw_eeglab(eeg_dirname + f'sub-{SUB_ID}_task-TableTennis_eeg.set', preload=True)\n",
      "/tmp/ipykernel_1155911/3376151839.py:52: RuntimeWarning: Omitted 1 annotation(s) that were outside data range.\n",
      "  raw_eeg = mne.io.read_raw_eeglab(eeg_dirname + f'sub-{SUB_ID}_task-TableTennis_eeg.set', preload=True)\n",
      "/tmp/ipykernel_1155911/3376151839.py:52: RuntimeWarning: The data contains 'boundary' events, indicating data discontinuities. Be cautious of filtering and epoching around these events.\n",
      "  raw_eeg = mne.io.read_raw_eeglab(eeg_dirname + f'sub-{SUB_ID}_task-TableTennis_eeg.set', preload=True)\n",
      "/tmp/ipykernel_1155911/3376151839.py:52: RuntimeWarning: Not setting positions of 8 emg channels found in montage:\n",
      "['LISCM', 'LSSCM', 'LSTrap', 'LITrap', 'RITrap', 'RISCM', 'RSSCM', 'RSTrap']\n",
      "Consider setting the channel types to be of EEG/sEEG/ECoG/DBS/fNIRS using inst.set_channel_types before calling inst.set_montage, or omit these channels when creating your montage.\n",
      "  raw_eeg = mne.io.read_raw_eeglab(eeg_dirname + f'sub-{SUB_ID}_task-TableTennis_eeg.set', preload=True)\n",
      "/tmp/ipykernel_1155911/3376151839.py:70: RuntimeWarning: The unit for channel(s) BallMachine_Acc_X(g), BallMachine_Acc_Y(g), BallMachine_Acc_Z(g), CGY-x, CGY-y, CGY-z, CWR-x, CWR-y, CWR-z, IMU1_RMS, Imu_1 :W():, Imu_1 :X():, Imu_1 :Y():, Imu_1 :Z():, Imu_1_ImuGyro :X(D/s):, Imu_1_ImuGyro :Y(D/s):, Imu_1_ImuGyro :Z(D/s):, Imu_1_ImuMag :X(uT):, Imu_1_ImuMag :Y(uT):, Imu_1_ImuMag :Z(uT):, Imu_2 :W():, Imu_2 :X():, Imu_2 :Y():, Imu_2 :Z():, Imu_2_ImuGyro :X(D/s):, Imu_2_ImuGyro :Y(D/s):, Imu_2_ImuGyro :Z(D/s):, Imu_2_ImuMag :X(uT):, Imu_2_ImuMag :Y(uT):, Imu_2_ImuMag :Z(uT):, Imu_4 :W():, Imu_4 :X():, Imu_4 :Y():, Imu_4 :Z():, Imu_4_ImuGyro :X(D/s):, Imu_4_ImuGyro :Y(D/s):, Imu_4_ImuGyro :Z(D/s):, Imu_4_ImuMag :X(uT):, Imu_4_ImuMag :Y(uT):, Imu_4_ImuMag :Z(uT):, N-AF3, N-AF4, N-AF7, N-AF8, N-AFF1h, N-AFF2h, N-AFF5h, N-AFF6h, N-AFp1, N-AFp2, N-AFz, N-C1, N-C2, N-C3, N-C4, N-C5, N-C6, N-CCP1h, N-CCP2h, N-CCP3h, N-CCP4h, N-CCP5h, N-CCP6h, N-CP1, N-CP2, N-CP3, N-CP4, N-CP5, N-CP6, N-CPP1h, N-CPP2h, N-CPP3h, N-CPP4h, N-CPP5h, N-CPP6h, N-Cz, N-F1, N-F10, N-F2, N-F3, N-F4, N-F5, N-F6, N-F7, N-F8, N-F9, N-FC1, N-FC2, N-FC3, N-FC4, N-FC5, N-FC6, N-FCC1h, N-FCC2h, N-FCC3h, N-FCC4h, N-FCC5h, N-FCC6h, N-FCz, N-FFC1h, N-FFC2h, N-FFC3h, N-FFC4h, N-FFC5h, N-FFC6h, N-FFT10h, N-FFT7h, N-FFT8h, N-FFT9h, N-FP2, N-FT10, N-FT7, N-FT8, N-FT9, N-FTT10h, N-FTT7h, N-FTT8h, N-FTT9h, N-Fp1, N-Fz, N-Iz, N-O1, N-O2, N-OI1h, N-OI2h, N-Oz, N-P1, N-P2, N-P3, N-P4, N-P5, N-P6, N-P7, N-P8, N-PO3, N-PO4, N-PO7, N-PO8, N-POO1, N-POO10h, N-POO2, N-POO9h, N-POz, N-PPO10h, N-PPO1h, N-PPO2h, N-PPO5h, N-PPO6h, N-PPO9h, N-Pz, N-T7, N-T8, N-TP7, N-TP8, N-TPP10h, N-TPP7h, N-TPP8h, N-TPP9h, N-TTP7h, N-TTP8h, NGY-x, NGY-y, NGY-z, NWR-x, NWR-y, NWR-z, Net_Acc_X(g), Net_Acc_Y(g), Net_Acc_Z(g), Participant_Backpack_Acc_X(g), Participant_Backpack_Acc_Y(g), Participant_Backpack_Acc_Z(g), Participant_Paddle_Acc_X(g), Participant_Paddle_Acc_Y(g), Participant_Paddle_Acc_Z(g), Researcher_Paddle_Acc_X(g), Researcher_Paddle_Acc_Y(g), Researcher_Paddle_Acc_Z(g), SyncPulse(uV), Table_OtherSide_Acc_X(g), Table_OtherSide_Acc_Y(g), Table_OtherSide_Acc_Z(g), Table_ParticipantSide_Acc_X(g), Table_ParticipantSide_Acc_Y(g), Table_ParticipantSide_Acc_Z(g) has changed from V to NA.\n",
      "  raw_eeg.set_channel_types(channel_types)\n"
     ]
    },
    {
     "name": "stdout",
     "output_type": "stream",
     "text": [
      "NOTE: pick_channels() is a legacy function. New code should use inst.pick(...).\n",
      "Reading /data/vladimiroved/realWorldTableTennis/sub-19/eeg/sub-19_task-TableTennis_eeg.fdt\n",
      "Reading 0 ... 1117344  =      0.000 ...  4469.376 secs...\n"
     ]
    },
    {
     "name": "stderr",
     "output_type": "stream",
     "text": [
      "/tmp/ipykernel_1155911/3376151839.py:52: RuntimeWarning: Unknown types found, setting as type EEG:\n",
      "acc: ['CGY-x', 'CGY-y', 'CGY-z', 'CWR-x', 'CWR-y', 'CWR-z', 'NGY-x', 'NGY-y', 'NGY-z', 'NWR-x', 'NWR-y', 'NWR-z']\n",
      "cometas: ['BallMachine_Acc_X(g)', 'BallMachine_Acc_Y(g)', 'BallMachine_Acc_Z(g)', 'IMU1_RMS', 'Imu_1 :W():', 'Imu_1 :X():', 'Imu_1 :Y():', 'Imu_1 :Z():', 'Imu_1_ImuGyro :X(D/s):', 'Imu_1_ImuGyro :Y(D/s):', 'Imu_1_ImuGyro :Z(D/s):', 'Imu_1_ImuMag :X(uT):', 'Imu_1_ImuMag :Y(uT):', 'Imu_1_ImuMag :Z(uT):', 'Imu_2 :W():', 'Imu_2 :X():', 'Imu_2 :Y():', 'Imu_2 :Z():', 'Imu_2_ImuGyro :X(D/s):', 'Imu_2_ImuGyro :Y(D/s):', 'Imu_2_ImuGyro :Z(D/s):', 'Imu_2_ImuMag :X(uT):', 'Imu_2_ImuMag :Y(uT):', 'Imu_2_ImuMag :Z(uT):', 'Imu_4 :W():', 'Imu_4 :X():', 'Imu_4 :Y():', 'Imu_4 :Z():', 'Imu_4_ImuGyro :X(D/s):', 'Imu_4_ImuGyro :Y(D/s):', 'Imu_4_ImuGyro :Z(D/s):', 'Imu_4_ImuMag :X(uT):', 'Imu_4_ImuMag :Y(uT):', 'Imu_4_ImuMag :Z(uT):', 'Net_Acc_X(g)', 'Net_Acc_Y(g)', 'Net_Acc_Z(g)', 'Participant_Backpack_Acc_X(g)', 'Participant_Backpack_Acc_Y(g)', 'Participant_Backpack_Acc_Z(g)', 'Participant_Paddle_Acc_X(g)', 'Participant_Paddle_Acc_Y(g)', 'Participant_Paddle_Acc_Z(g)', 'Researcher_Paddle_Acc_X(g)', 'Researcher_Paddle_Acc_Y(g)', 'Researcher_Paddle_Acc_Z(g)', 'SyncPulse(uV)', 'Table_OtherSide_Acc_X(g)', 'Table_OtherSide_Acc_Y(g)', 'Table_OtherSide_Acc_Z(g)', 'Table_ParticipantSide_Acc_X(g)', 'Table_ParticipantSide_Acc_Y(g)', 'Table_ParticipantSide_Acc_Z(g)']\n",
      "noise: ['N-AF3', 'N-AF4', 'N-AF7', 'N-AF8', 'N-AFF1h', 'N-AFF2h', 'N-AFF5h', 'N-AFF6h', 'N-AFp1', 'N-AFp2', 'N-AFz', 'N-C1', 'N-C2', 'N-C3', 'N-C4', 'N-C5', 'N-C6', 'N-CCP1h', 'N-CCP2h', 'N-CCP3h', 'N-CCP4h', 'N-CCP5h', 'N-CCP6h', 'N-CP1', 'N-CP2', 'N-CP3', 'N-CP4', 'N-CP5', 'N-CP6', 'N-CPP1h', 'N-CPP2h', 'N-CPP3h', 'N-CPP4h', 'N-CPP5h', 'N-CPP6h', 'N-Cz', 'N-F1', 'N-F10', 'N-F2', 'N-F3', 'N-F4', 'N-F5', 'N-F6', 'N-F7', 'N-F8', 'N-F9', 'N-FC1', 'N-FC2', 'N-FC3', 'N-FC4', 'N-FC5', 'N-FC6', 'N-FCC1h', 'N-FCC2h', 'N-FCC3h', 'N-FCC4h', 'N-FCC5h', 'N-FCC6h', 'N-FCz', 'N-FFC1h', 'N-FFC2h', 'N-FFC3h', 'N-FFC4h', 'N-FFC5h', 'N-FFC6h', 'N-FFT10h', 'N-FFT7h', 'N-FFT8h', 'N-FFT9h', 'N-FP2', 'N-FT10', 'N-FT7', 'N-FT8', 'N-FT9', 'N-FTT10h', 'N-FTT7h', 'N-FTT8h', 'N-FTT9h', 'N-Fp1', 'N-Fz', 'N-Iz', 'N-O1', 'N-O2', 'N-OI1h', 'N-OI2h', 'N-Oz', 'N-P1', 'N-P2', 'N-P3', 'N-P4', 'N-P5', 'N-P6', 'N-P7', 'N-P8', 'N-PO3', 'N-PO4', 'N-PO7', 'N-PO8', 'N-POO1', 'N-POO10h', 'N-POO2', 'N-POO9h', 'N-POz', 'N-PPO10h', 'N-PPO1h', 'N-PPO2h', 'N-PPO5h', 'N-PPO6h', 'N-PPO9h', 'N-Pz', 'N-T7', 'N-T8', 'N-TP7', 'N-TP8', 'N-TPP10h', 'N-TPP7h', 'N-TPP8h', 'N-TPP9h', 'N-TTP7h', 'N-TTP8h']\n",
      "  raw_eeg = mne.io.read_raw_eeglab(eeg_dirname + f'sub-{SUB_ID}_task-TableTennis_eeg.set', preload=True)\n",
      "/tmp/ipykernel_1155911/3376151839.py:52: RuntimeWarning: Estimated head radius (11.0 cm) is above the 99th percentile for adult head size. Check if the montage_units argument is correct (the default is \"mm\", but your channel positions may be in different units).\n",
      "  raw_eeg = mne.io.read_raw_eeglab(eeg_dirname + f'sub-{SUB_ID}_task-TableTennis_eeg.set', preload=True)\n",
      "/tmp/ipykernel_1155911/3376151839.py:52: RuntimeWarning: Data file name in EEG.data (sub-19_task-tabletennis_eeg.fdt) is incorrect, the file name must have changed on disk, using the correct file name (sub-19_task-TableTennis_eeg.fdt).\n",
      "  raw_eeg = mne.io.read_raw_eeglab(eeg_dirname + f'sub-{SUB_ID}_task-TableTennis_eeg.set', preload=True)\n",
      "/tmp/ipykernel_1155911/3376151839.py:52: RuntimeWarning: Omitted 1 annotation(s) that were outside data range.\n",
      "  raw_eeg = mne.io.read_raw_eeglab(eeg_dirname + f'sub-{SUB_ID}_task-TableTennis_eeg.set', preload=True)\n",
      "/tmp/ipykernel_1155911/3376151839.py:52: RuntimeWarning: The data contains 'boundary' events, indicating data discontinuities. Be cautious of filtering and epoching around these events.\n",
      "  raw_eeg = mne.io.read_raw_eeglab(eeg_dirname + f'sub-{SUB_ID}_task-TableTennis_eeg.set', preload=True)\n",
      "/tmp/ipykernel_1155911/3376151839.py:52: RuntimeWarning: Not setting positions of 8 emg channels found in montage:\n",
      "['LISCM', 'LSSCM', 'LSTrap', 'LITrap', 'RITrap', 'RISCM', 'RSSCM', 'RSTrap']\n",
      "Consider setting the channel types to be of EEG/sEEG/ECoG/DBS/fNIRS using inst.set_channel_types before calling inst.set_montage, or omit these channels when creating your montage.\n",
      "  raw_eeg = mne.io.read_raw_eeglab(eeg_dirname + f'sub-{SUB_ID}_task-TableTennis_eeg.set', preload=True)\n",
      "/tmp/ipykernel_1155911/3376151839.py:70: RuntimeWarning: The unit for channel(s) BallMachine_Acc_X(g), BallMachine_Acc_Y(g), BallMachine_Acc_Z(g), CGY-x, CGY-y, CGY-z, CWR-x, CWR-y, CWR-z, IMU1_RMS, Imu_1 :W():, Imu_1 :X():, Imu_1 :Y():, Imu_1 :Z():, Imu_1_ImuGyro :X(D/s):, Imu_1_ImuGyro :Y(D/s):, Imu_1_ImuGyro :Z(D/s):, Imu_1_ImuMag :X(uT):, Imu_1_ImuMag :Y(uT):, Imu_1_ImuMag :Z(uT):, Imu_2 :W():, Imu_2 :X():, Imu_2 :Y():, Imu_2 :Z():, Imu_2_ImuGyro :X(D/s):, Imu_2_ImuGyro :Y(D/s):, Imu_2_ImuGyro :Z(D/s):, Imu_2_ImuMag :X(uT):, Imu_2_ImuMag :Y(uT):, Imu_2_ImuMag :Z(uT):, Imu_4 :W():, Imu_4 :X():, Imu_4 :Y():, Imu_4 :Z():, Imu_4_ImuGyro :X(D/s):, Imu_4_ImuGyro :Y(D/s):, Imu_4_ImuGyro :Z(D/s):, Imu_4_ImuMag :X(uT):, Imu_4_ImuMag :Y(uT):, Imu_4_ImuMag :Z(uT):, N-AF3, N-AF4, N-AF7, N-AF8, N-AFF1h, N-AFF2h, N-AFF5h, N-AFF6h, N-AFp1, N-AFp2, N-AFz, N-C1, N-C2, N-C3, N-C4, N-C5, N-C6, N-CCP1h, N-CCP2h, N-CCP3h, N-CCP4h, N-CCP5h, N-CCP6h, N-CP1, N-CP2, N-CP3, N-CP4, N-CP5, N-CP6, N-CPP1h, N-CPP2h, N-CPP3h, N-CPP4h, N-CPP5h, N-CPP6h, N-Cz, N-F1, N-F10, N-F2, N-F3, N-F4, N-F5, N-F6, N-F7, N-F8, N-F9, N-FC1, N-FC2, N-FC3, N-FC4, N-FC5, N-FC6, N-FCC1h, N-FCC2h, N-FCC3h, N-FCC4h, N-FCC5h, N-FCC6h, N-FCz, N-FFC1h, N-FFC2h, N-FFC3h, N-FFC4h, N-FFC5h, N-FFC6h, N-FFT10h, N-FFT7h, N-FFT8h, N-FFT9h, N-FP2, N-FT10, N-FT7, N-FT8, N-FT9, N-FTT10h, N-FTT7h, N-FTT8h, N-FTT9h, N-Fp1, N-Fz, N-Iz, N-O1, N-O2, N-OI1h, N-OI2h, N-Oz, N-P1, N-P2, N-P3, N-P4, N-P5, N-P6, N-P7, N-P8, N-PO3, N-PO4, N-PO7, N-PO8, N-POO1, N-POO10h, N-POO2, N-POO9h, N-POz, N-PPO10h, N-PPO1h, N-PPO2h, N-PPO5h, N-PPO6h, N-PPO9h, N-Pz, N-T7, N-T8, N-TP7, N-TP8, N-TPP10h, N-TPP7h, N-TPP8h, N-TPP9h, N-TTP7h, N-TTP8h, NGY-x, NGY-y, NGY-z, NWR-x, NWR-y, NWR-z, Net_Acc_X(g), Net_Acc_Y(g), Net_Acc_Z(g), Participant_Backpack_Acc_X(g), Participant_Backpack_Acc_Y(g), Participant_Backpack_Acc_Z(g), Participant_Paddle_Acc_X(g), Participant_Paddle_Acc_Y(g), Participant_Paddle_Acc_Z(g), Researcher_Paddle_Acc_X(g), Researcher_Paddle_Acc_Y(g), Researcher_Paddle_Acc_Z(g), SyncPulse(uV), Table_OtherSide_Acc_X(g), Table_OtherSide_Acc_Y(g), Table_OtherSide_Acc_Z(g), Table_ParticipantSide_Acc_X(g), Table_ParticipantSide_Acc_Y(g), Table_ParticipantSide_Acc_Z(g) has changed from V to NA.\n",
      "  raw_eeg.set_channel_types(channel_types)\n"
     ]
    },
    {
     "name": "stdout",
     "output_type": "stream",
     "text": [
      "NOTE: pick_channels() is a legacy function. New code should use inst.pick(...).\n",
      "Reading /data/vladimiroved/realWorldTableTennis/sub-20/eeg/sub-20_task-TableTennis_eeg.fdt\n",
      "Reading 0 ... 916387  =      0.000 ...  3665.548 secs...\n"
     ]
    },
    {
     "name": "stderr",
     "output_type": "stream",
     "text": [
      "/tmp/ipykernel_1155911/3376151839.py:52: RuntimeWarning: Unknown types found, setting as type EEG:\n",
      "acc: ['CGY-x', 'CGY-y', 'CGY-z', 'CWR-x', 'CWR-y', 'CWR-z', 'NGY-x', 'NGY-y', 'NGY-z', 'NWR-x', 'NWR-y', 'NWR-z']\n",
      "cometas: ['BallMachine_Acc_X(g)', 'BallMachine_Acc_Y(g)', 'BallMachine_Acc_Z(g)', 'IMU1_RMS', 'Imu_2 :W():', 'Imu_2 :X():', 'Imu_2 :Y():', 'Imu_2 :Z():', 'Imu_2_ImuGyro :X(D/s):', 'Imu_2_ImuGyro :Y(D/s):', 'Imu_2_ImuGyro :Z(D/s):', 'Imu_2_ImuMag :X(uT):', 'Imu_2_ImuMag :Y(uT):', 'Imu_2_ImuMag :Z(uT):', 'Imu_4 :W():', 'Imu_4 :X():', 'Imu_4 :Y():', 'Imu_4 :Z():', 'Imu_4_ImuGyro :X(D/s):', 'Imu_4_ImuGyro :Y(D/s):', 'Imu_4_ImuGyro :Z(D/s):', 'Imu_4_ImuMag :X(uT):', 'Imu_4_ImuMag :Y(uT):', 'Imu_4_ImuMag :Z(uT):', 'Net_Acc_X(g)', 'Net_Acc_Y(g)', 'Net_Acc_Z(g)', 'Participant_Backpack_Acc_X(g)', 'Participant_Backpack_Acc_Y(g)', 'Participant_Backpack_Acc_Z(g)', 'Participant_Paddle_Acc_X(g)', 'Participant_Paddle_Acc_Y(g)', 'Participant_Paddle_Acc_Z(g)', 'Researcher_Paddle_Acc_X(g)', 'Researcher_Paddle_Acc_Y(g)', 'Researcher_Paddle_Acc_Z(g)', 'SyncPulse(uV)', 'Table_OtherSide_Acc_X(g)', 'Table_OtherSide_Acc_Y(g)', 'Table_OtherSide_Acc_Z(g)', 'Table_ParticipantSide_Acc_X(g)', 'Table_ParticipantSide_Acc_Y(g)', 'Table_ParticipantSide_Acc_Z(g)']\n",
      "noise: ['N-AF3', 'N-AF4', 'N-AF7', 'N-AF8', 'N-AFF1h', 'N-AFF2h', 'N-AFF5h', 'N-AFF6h', 'N-AFp1', 'N-AFp2', 'N-AFz', 'N-C1', 'N-C2', 'N-C3', 'N-C4', 'N-C5', 'N-C6', 'N-CCP1h', 'N-CCP2h', 'N-CCP3h', 'N-CCP4h', 'N-CCP5h', 'N-CCP6h', 'N-CP1', 'N-CP2', 'N-CP3', 'N-CP4', 'N-CP5', 'N-CP6', 'N-CPP1h', 'N-CPP2h', 'N-CPP3h', 'N-CPP4h', 'N-CPP5h', 'N-CPP6h', 'N-Cz', 'N-F1', 'N-F10', 'N-F2', 'N-F3', 'N-F4', 'N-F5', 'N-F6', 'N-F7', 'N-F8', 'N-F9', 'N-FC1', 'N-FC2', 'N-FC3', 'N-FC4', 'N-FC5', 'N-FC6', 'N-FCC1h', 'N-FCC2h', 'N-FCC3h', 'N-FCC4h', 'N-FCC5h', 'N-FCC6h', 'N-FCz', 'N-FFC1h', 'N-FFC2h', 'N-FFC3h', 'N-FFC4h', 'N-FFC5h', 'N-FFC6h', 'N-FFT10h', 'N-FFT7h', 'N-FFT8h', 'N-FFT9h', 'N-FP2', 'N-FT10', 'N-FT7', 'N-FT8', 'N-FT9', 'N-FTT10h', 'N-FTT7h', 'N-FTT8h', 'N-FTT9h', 'N-Fp1', 'N-Fz', 'N-Iz', 'N-O1', 'N-O2', 'N-OI1h', 'N-OI2h', 'N-Oz', 'N-P1', 'N-P2', 'N-P3', 'N-P4', 'N-P5', 'N-P6', 'N-P7', 'N-P8', 'N-PO3', 'N-PO4', 'N-PO7', 'N-PO8', 'N-POO1', 'N-POO10h', 'N-POO2', 'N-POO9h', 'N-POz', 'N-PPO10h', 'N-PPO1h', 'N-PPO2h', 'N-PPO5h', 'N-PPO6h', 'N-PPO9h', 'N-Pz', 'N-T7', 'N-T8', 'N-TP7', 'N-TP8', 'N-TPP10h', 'N-TPP7h', 'N-TPP8h', 'N-TPP9h', 'N-TTP7h', 'N-TTP8h']\n",
      "  raw_eeg = mne.io.read_raw_eeglab(eeg_dirname + f'sub-{SUB_ID}_task-TableTennis_eeg.set', preload=True)\n",
      "/tmp/ipykernel_1155911/3376151839.py:52: RuntimeWarning: Estimated head radius (11.1 cm) is above the 99th percentile for adult head size. Check if the montage_units argument is correct (the default is \"mm\", but your channel positions may be in different units).\n",
      "  raw_eeg = mne.io.read_raw_eeglab(eeg_dirname + f'sub-{SUB_ID}_task-TableTennis_eeg.set', preload=True)\n",
      "/tmp/ipykernel_1155911/3376151839.py:52: RuntimeWarning: Data file name in EEG.data (sub-20_task-tabletennis_eeg.fdt) is incorrect, the file name must have changed on disk, using the correct file name (sub-20_task-TableTennis_eeg.fdt).\n",
      "  raw_eeg = mne.io.read_raw_eeglab(eeg_dirname + f'sub-{SUB_ID}_task-TableTennis_eeg.set', preload=True)\n",
      "/tmp/ipykernel_1155911/3376151839.py:52: RuntimeWarning: Omitted 1 annotation(s) that were outside data range.\n",
      "  raw_eeg = mne.io.read_raw_eeglab(eeg_dirname + f'sub-{SUB_ID}_task-TableTennis_eeg.set', preload=True)\n",
      "/tmp/ipykernel_1155911/3376151839.py:52: RuntimeWarning: The data contains 'boundary' events, indicating data discontinuities. Be cautious of filtering and epoching around these events.\n",
      "  raw_eeg = mne.io.read_raw_eeglab(eeg_dirname + f'sub-{SUB_ID}_task-TableTennis_eeg.set', preload=True)\n",
      "/tmp/ipykernel_1155911/3376151839.py:52: RuntimeWarning: Not setting positions of 8 emg channels found in montage:\n",
      "['LISCM', 'LSSCM', 'LSTrap', 'LITrap', 'RITrap', 'RISCM', 'RSSCM', 'RSTrap']\n",
      "Consider setting the channel types to be of EEG/sEEG/ECoG/DBS/fNIRS using inst.set_channel_types before calling inst.set_montage, or omit these channels when creating your montage.\n",
      "  raw_eeg = mne.io.read_raw_eeglab(eeg_dirname + f'sub-{SUB_ID}_task-TableTennis_eeg.set', preload=True)\n",
      "/tmp/ipykernel_1155911/3376151839.py:70: RuntimeWarning: The unit for channel(s) BallMachine_Acc_X(g), BallMachine_Acc_Y(g), BallMachine_Acc_Z(g), CGY-x, CGY-y, CGY-z, CWR-x, CWR-y, CWR-z, IMU1_RMS, Imu_2 :W():, Imu_2 :X():, Imu_2 :Y():, Imu_2 :Z():, Imu_2_ImuGyro :X(D/s):, Imu_2_ImuGyro :Y(D/s):, Imu_2_ImuGyro :Z(D/s):, Imu_2_ImuMag :X(uT):, Imu_2_ImuMag :Y(uT):, Imu_2_ImuMag :Z(uT):, Imu_4 :W():, Imu_4 :X():, Imu_4 :Y():, Imu_4 :Z():, Imu_4_ImuGyro :X(D/s):, Imu_4_ImuGyro :Y(D/s):, Imu_4_ImuGyro :Z(D/s):, Imu_4_ImuMag :X(uT):, Imu_4_ImuMag :Y(uT):, Imu_4_ImuMag :Z(uT):, N-AF3, N-AF4, N-AF7, N-AF8, N-AFF1h, N-AFF2h, N-AFF5h, N-AFF6h, N-AFp1, N-AFp2, N-AFz, N-C1, N-C2, N-C3, N-C4, N-C5, N-C6, N-CCP1h, N-CCP2h, N-CCP3h, N-CCP4h, N-CCP5h, N-CCP6h, N-CP1, N-CP2, N-CP3, N-CP4, N-CP5, N-CP6, N-CPP1h, N-CPP2h, N-CPP3h, N-CPP4h, N-CPP5h, N-CPP6h, N-Cz, N-F1, N-F10, N-F2, N-F3, N-F4, N-F5, N-F6, N-F7, N-F8, N-F9, N-FC1, N-FC2, N-FC3, N-FC4, N-FC5, N-FC6, N-FCC1h, N-FCC2h, N-FCC3h, N-FCC4h, N-FCC5h, N-FCC6h, N-FCz, N-FFC1h, N-FFC2h, N-FFC3h, N-FFC4h, N-FFC5h, N-FFC6h, N-FFT10h, N-FFT7h, N-FFT8h, N-FFT9h, N-FP2, N-FT10, N-FT7, N-FT8, N-FT9, N-FTT10h, N-FTT7h, N-FTT8h, N-FTT9h, N-Fp1, N-Fz, N-Iz, N-O1, N-O2, N-OI1h, N-OI2h, N-Oz, N-P1, N-P2, N-P3, N-P4, N-P5, N-P6, N-P7, N-P8, N-PO3, N-PO4, N-PO7, N-PO8, N-POO1, N-POO10h, N-POO2, N-POO9h, N-POz, N-PPO10h, N-PPO1h, N-PPO2h, N-PPO5h, N-PPO6h, N-PPO9h, N-Pz, N-T7, N-T8, N-TP7, N-TP8, N-TPP10h, N-TPP7h, N-TPP8h, N-TPP9h, N-TTP7h, N-TTP8h, NGY-x, NGY-y, NGY-z, NWR-x, NWR-y, NWR-z, Net_Acc_X(g), Net_Acc_Y(g), Net_Acc_Z(g), Participant_Backpack_Acc_X(g), Participant_Backpack_Acc_Y(g), Participant_Backpack_Acc_Z(g), Participant_Paddle_Acc_X(g), Participant_Paddle_Acc_Y(g), Participant_Paddle_Acc_Z(g), Researcher_Paddle_Acc_X(g), Researcher_Paddle_Acc_Y(g), Researcher_Paddle_Acc_Z(g), SyncPulse(uV), Table_OtherSide_Acc_X(g), Table_OtherSide_Acc_Y(g), Table_OtherSide_Acc_Z(g), Table_ParticipantSide_Acc_X(g), Table_ParticipantSide_Acc_Y(g), Table_ParticipantSide_Acc_Z(g) has changed from V to NA.\n",
      "  raw_eeg.set_channel_types(channel_types)\n"
     ]
    },
    {
     "name": "stdout",
     "output_type": "stream",
     "text": [
      "NOTE: pick_channels() is a legacy function. New code should use inst.pick(...).\n",
      "Reading /data/vladimiroved/realWorldTableTennis/sub-21/eeg/sub-21_task-TableTennis_eeg.fdt\n",
      "Reading 0 ... 1128360  =      0.000 ...  4513.440 secs...\n"
     ]
    },
    {
     "name": "stderr",
     "output_type": "stream",
     "text": [
      "/tmp/ipykernel_1155911/3376151839.py:52: RuntimeWarning: Unknown types found, setting as type EEG:\n",
      "acc: ['CGY-x', 'CGY-y', 'CGY-z', 'CWR-x', 'CWR-y', 'CWR-z', 'NGY-x', 'NGY-y', 'NGY-z', 'NWR-x', 'NWR-y', 'NWR-z']\n",
      "cometas: ['BallMachine_Acc_X(g)', 'BallMachine_Acc_Y(g)', 'BallMachine_Acc_Z(g)', 'IMU1_RMS', 'Imu_1 :W():', 'Imu_1 :X():', 'Imu_1 :Y():', 'Imu_1 :Z():', 'Imu_1_ImuGyro :X(D/s):', 'Imu_1_ImuGyro :Y(D/s):', 'Imu_1_ImuGyro :Z(D/s):', 'Imu_1_ImuMag :X(uT):', 'Imu_1_ImuMag :Y(uT):', 'Imu_1_ImuMag :Z(uT):', 'Imu_2 :W():', 'Imu_2 :X():', 'Imu_2 :Y():', 'Imu_2 :Z():', 'Imu_2_ImuGyro :X(D/s):', 'Imu_2_ImuGyro :Y(D/s):', 'Imu_2_ImuGyro :Z(D/s):', 'Imu_2_ImuMag :X(uT):', 'Imu_2_ImuMag :Y(uT):', 'Imu_2_ImuMag :Z(uT):', 'Imu_4 :W():', 'Imu_4 :X():', 'Imu_4 :Y():', 'Imu_4 :Z():', 'Imu_4_ImuGyro :X(D/s):', 'Imu_4_ImuGyro :Y(D/s):', 'Imu_4_ImuGyro :Z(D/s):', 'Imu_4_ImuMag :X(uT):', 'Imu_4_ImuMag :Y(uT):', 'Imu_4_ImuMag :Z(uT):', 'Net_Acc_X(g)', 'Net_Acc_Y(g)', 'Net_Acc_Z(g)', 'Participant_Backpack_Acc_X(g)', 'Participant_Backpack_Acc_Y(g)', 'Participant_Backpack_Acc_Z(g)', 'Participant_Paddle_Acc_X(g)', 'Participant_Paddle_Acc_Y(g)', 'Participant_Paddle_Acc_Z(g)', 'Researcher_Paddle_Acc_X(g)', 'Researcher_Paddle_Acc_Y(g)', 'Researcher_Paddle_Acc_Z(g)', 'SyncPulse(uV)', 'Table_OtherSide_Acc_X(g)', 'Table_OtherSide_Acc_Y(g)', 'Table_OtherSide_Acc_Z(g)', 'Table_ParticipantSide_Acc_X(g)', 'Table_ParticipantSide_Acc_Y(g)', 'Table_ParticipantSide_Acc_Z(g)']\n",
      "noise: ['N-AF3', 'N-AF4', 'N-AF7', 'N-AF8', 'N-AFF1h', 'N-AFF2h', 'N-AFF5h', 'N-AFF6h', 'N-AFp1', 'N-AFp2', 'N-AFz', 'N-C1', 'N-C2', 'N-C3', 'N-C4', 'N-C5', 'N-C6', 'N-CCP1h', 'N-CCP2h', 'N-CCP3h', 'N-CCP4h', 'N-CCP5h', 'N-CCP6h', 'N-CP1', 'N-CP2', 'N-CP3', 'N-CP4', 'N-CP5', 'N-CP6', 'N-CPP1h', 'N-CPP2h', 'N-CPP3h', 'N-CPP4h', 'N-CPP5h', 'N-CPP6h', 'N-Cz', 'N-F1', 'N-F10', 'N-F2', 'N-F3', 'N-F4', 'N-F5', 'N-F6', 'N-F7', 'N-F8', 'N-F9', 'N-FC1', 'N-FC2', 'N-FC3', 'N-FC4', 'N-FC5', 'N-FC6', 'N-FCC1h', 'N-FCC2h', 'N-FCC3h', 'N-FCC4h', 'N-FCC5h', 'N-FCC6h', 'N-FCz', 'N-FFC1h', 'N-FFC2h', 'N-FFC3h', 'N-FFC4h', 'N-FFC5h', 'N-FFC6h', 'N-FFT10h', 'N-FFT7h', 'N-FFT8h', 'N-FFT9h', 'N-FP2', 'N-FT10', 'N-FT7', 'N-FT8', 'N-FT9', 'N-FTT10h', 'N-FTT7h', 'N-FTT8h', 'N-FTT9h', 'N-Fp1', 'N-Fz', 'N-Iz', 'N-O1', 'N-O2', 'N-OI1h', 'N-OI2h', 'N-Oz', 'N-P1', 'N-P2', 'N-P3', 'N-P4', 'N-P5', 'N-P6', 'N-P7', 'N-P8', 'N-PO3', 'N-PO4', 'N-PO7', 'N-PO8', 'N-POO1', 'N-POO10h', 'N-POO2', 'N-POO9h', 'N-POz', 'N-PPO10h', 'N-PPO1h', 'N-PPO2h', 'N-PPO5h', 'N-PPO6h', 'N-PPO9h', 'N-Pz', 'N-T7', 'N-T8', 'N-TP7', 'N-TP8', 'N-TPP10h', 'N-TPP7h', 'N-TPP8h', 'N-TPP9h', 'N-TTP7h', 'N-TTP8h']\n",
      "  raw_eeg = mne.io.read_raw_eeglab(eeg_dirname + f'sub-{SUB_ID}_task-TableTennis_eeg.set', preload=True)\n",
      "/tmp/ipykernel_1155911/3376151839.py:52: RuntimeWarning: Estimated head radius (11.3 cm) is above the 99th percentile for adult head size. Check if the montage_units argument is correct (the default is \"mm\", but your channel positions may be in different units).\n",
      "  raw_eeg = mne.io.read_raw_eeglab(eeg_dirname + f'sub-{SUB_ID}_task-TableTennis_eeg.set', preload=True)\n",
      "/tmp/ipykernel_1155911/3376151839.py:52: RuntimeWarning: Data file name in EEG.data (sub-21_task-tabletennis_eeg.fdt) is incorrect, the file name must have changed on disk, using the correct file name (sub-21_task-TableTennis_eeg.fdt).\n",
      "  raw_eeg = mne.io.read_raw_eeglab(eeg_dirname + f'sub-{SUB_ID}_task-TableTennis_eeg.set', preload=True)\n",
      "/tmp/ipykernel_1155911/3376151839.py:52: RuntimeWarning: Omitted 1 annotation(s) that were outside data range.\n",
      "  raw_eeg = mne.io.read_raw_eeglab(eeg_dirname + f'sub-{SUB_ID}_task-TableTennis_eeg.set', preload=True)\n",
      "/tmp/ipykernel_1155911/3376151839.py:52: RuntimeWarning: The data contains 'boundary' events, indicating data discontinuities. Be cautious of filtering and epoching around these events.\n",
      "  raw_eeg = mne.io.read_raw_eeglab(eeg_dirname + f'sub-{SUB_ID}_task-TableTennis_eeg.set', preload=True)\n",
      "/tmp/ipykernel_1155911/3376151839.py:52: RuntimeWarning: Not setting positions of 8 emg channels found in montage:\n",
      "['LISCM', 'LSSCM', 'LSTrap', 'LITrap', 'RITrap', 'RISCM', 'RSSCM', 'RSTrap']\n",
      "Consider setting the channel types to be of EEG/sEEG/ECoG/DBS/fNIRS using inst.set_channel_types before calling inst.set_montage, or omit these channels when creating your montage.\n",
      "  raw_eeg = mne.io.read_raw_eeglab(eeg_dirname + f'sub-{SUB_ID}_task-TableTennis_eeg.set', preload=True)\n",
      "/tmp/ipykernel_1155911/3376151839.py:70: RuntimeWarning: The unit for channel(s) BallMachine_Acc_X(g), BallMachine_Acc_Y(g), BallMachine_Acc_Z(g), CGY-x, CGY-y, CGY-z, CWR-x, CWR-y, CWR-z, IMU1_RMS, Imu_1 :W():, Imu_1 :X():, Imu_1 :Y():, Imu_1 :Z():, Imu_1_ImuGyro :X(D/s):, Imu_1_ImuGyro :Y(D/s):, Imu_1_ImuGyro :Z(D/s):, Imu_1_ImuMag :X(uT):, Imu_1_ImuMag :Y(uT):, Imu_1_ImuMag :Z(uT):, Imu_2 :W():, Imu_2 :X():, Imu_2 :Y():, Imu_2 :Z():, Imu_2_ImuGyro :X(D/s):, Imu_2_ImuGyro :Y(D/s):, Imu_2_ImuGyro :Z(D/s):, Imu_2_ImuMag :X(uT):, Imu_2_ImuMag :Y(uT):, Imu_2_ImuMag :Z(uT):, Imu_4 :W():, Imu_4 :X():, Imu_4 :Y():, Imu_4 :Z():, Imu_4_ImuGyro :X(D/s):, Imu_4_ImuGyro :Y(D/s):, Imu_4_ImuGyro :Z(D/s):, Imu_4_ImuMag :X(uT):, Imu_4_ImuMag :Y(uT):, Imu_4_ImuMag :Z(uT):, N-AF3, N-AF4, N-AF7, N-AF8, N-AFF1h, N-AFF2h, N-AFF5h, N-AFF6h, N-AFp1, N-AFp2, N-AFz, N-C1, N-C2, N-C3, N-C4, N-C5, N-C6, N-CCP1h, N-CCP2h, N-CCP3h, N-CCP4h, N-CCP5h, N-CCP6h, N-CP1, N-CP2, N-CP3, N-CP4, N-CP5, N-CP6, N-CPP1h, N-CPP2h, N-CPP3h, N-CPP4h, N-CPP5h, N-CPP6h, N-Cz, N-F1, N-F10, N-F2, N-F3, N-F4, N-F5, N-F6, N-F7, N-F8, N-F9, N-FC1, N-FC2, N-FC3, N-FC4, N-FC5, N-FC6, N-FCC1h, N-FCC2h, N-FCC3h, N-FCC4h, N-FCC5h, N-FCC6h, N-FCz, N-FFC1h, N-FFC2h, N-FFC3h, N-FFC4h, N-FFC5h, N-FFC6h, N-FFT10h, N-FFT7h, N-FFT8h, N-FFT9h, N-FP2, N-FT10, N-FT7, N-FT8, N-FT9, N-FTT10h, N-FTT7h, N-FTT8h, N-FTT9h, N-Fp1, N-Fz, N-Iz, N-O1, N-O2, N-OI1h, N-OI2h, N-Oz, N-P1, N-P2, N-P3, N-P4, N-P5, N-P6, N-P7, N-P8, N-PO3, N-PO4, N-PO7, N-PO8, N-POO1, N-POO10h, N-POO2, N-POO9h, N-POz, N-PPO10h, N-PPO1h, N-PPO2h, N-PPO5h, N-PPO6h, N-PPO9h, N-Pz, N-T7, N-T8, N-TP7, N-TP8, N-TPP10h, N-TPP7h, N-TPP8h, N-TPP9h, N-TTP7h, N-TTP8h, NGY-x, NGY-y, NGY-z, NWR-x, NWR-y, NWR-z, Net_Acc_X(g), Net_Acc_Y(g), Net_Acc_Z(g), Participant_Backpack_Acc_X(g), Participant_Backpack_Acc_Y(g), Participant_Backpack_Acc_Z(g), Participant_Paddle_Acc_X(g), Participant_Paddle_Acc_Y(g), Participant_Paddle_Acc_Z(g), Researcher_Paddle_Acc_X(g), Researcher_Paddle_Acc_Y(g), Researcher_Paddle_Acc_Z(g), SyncPulse(uV), Table_OtherSide_Acc_X(g), Table_OtherSide_Acc_Y(g), Table_OtherSide_Acc_Z(g), Table_ParticipantSide_Acc_X(g), Table_ParticipantSide_Acc_Y(g), Table_ParticipantSide_Acc_Z(g) has changed from V to NA.\n",
      "  raw_eeg.set_channel_types(channel_types)\n"
     ]
    },
    {
     "name": "stdout",
     "output_type": "stream",
     "text": [
      "NOTE: pick_channels() is a legacy function. New code should use inst.pick(...).\n",
      "Reading /data/vladimiroved/realWorldTableTennis/sub-22/eeg/sub-22_task-TableTennis_eeg.fdt\n",
      "Reading 0 ... 1108946  =      0.000 ...  4435.784 secs...\n"
     ]
    },
    {
     "name": "stderr",
     "output_type": "stream",
     "text": [
      "/tmp/ipykernel_1155911/3376151839.py:52: RuntimeWarning: Unknown types found, setting as type EEG:\n",
      "acc: ['CGY-x', 'CGY-y', 'CGY-z', 'CWR-x', 'CWR-y', 'CWR-z', 'NGY-x', 'NGY-y', 'NGY-z', 'NWR-x', 'NWR-y', 'NWR-z']\n",
      "cometas: ['BallMachine_Acc_X(g)', 'BallMachine_Acc_Y(g)', 'BallMachine_Acc_Z(g)', 'IMU1_RMS', 'Imu_1 :W():', 'Imu_1 :X():', 'Imu_1 :Y():', 'Imu_1 :Z():', 'Imu_1_ImuAcc :X(g):', 'Imu_1_ImuAcc :Y(g):', 'Imu_1_ImuAcc :Z(g):', 'Imu_1_ImuGyro :X(D/s):', 'Imu_1_ImuGyro :Y(D/s):', 'Imu_1_ImuGyro :Z(D/s):', 'Imu_1_ImuMag :X(uT):', 'Imu_1_ImuMag :Y(uT):', 'Imu_1_ImuMag :Z(uT):', 'Imu_2 :W():', 'Imu_2 :X():', 'Imu_2 :Y():', 'Imu_2 :Z():', 'Imu_2_ImuGyro :X(D/s):', 'Imu_2_ImuGyro :Y(D/s):', 'Imu_2_ImuGyro :Z(D/s):', 'Imu_2_ImuMag :X(uT):', 'Imu_2_ImuMag :Y(uT):', 'Imu_2_ImuMag :Z(uT):', 'Imu_4 :W():', 'Imu_4 :X():', 'Imu_4 :Y():', 'Imu_4 :Z():', 'Imu_4_ImuGyro :X(D/s):', 'Imu_4_ImuGyro :Y(D/s):', 'Imu_4_ImuGyro :Z(D/s):', 'Imu_4_ImuMag :X(uT):', 'Imu_4_ImuMag :Y(uT):', 'Imu_4_ImuMag :Z(uT):', 'Imu_6_ImuAcc :X(g):', 'Imu_6_ImuAcc :Y(g):', 'Imu_6_ImuAcc :Z(g):', 'Imu_7_ImuAcc :X(g):', 'Imu_7_ImuAcc :Y(g):', 'Imu_7_ImuAcc :Z(g):', 'Net_Acc_X(g)', 'Net_Acc_Y(g)', 'Net_Acc_Z(g)', 'Participant_Paddle_Acc_X(g)', 'Participant_Paddle_Acc_Y(g)', 'Participant_Paddle_Acc_Z(g)', 'Researcher_Paddle_Acc_X(g)', 'Researcher_Paddle_Acc_Y(g)', 'Researcher_Paddle_Acc_Z(g)', 'SyncPulse(uV)']\n",
      "noise: ['N-AF3', 'N-AF4', 'N-AF7', 'N-AF8', 'N-AFF1h', 'N-AFF2h', 'N-AFF5h', 'N-AFF6h', 'N-AFp1', 'N-AFp2', 'N-AFz', 'N-C1', 'N-C2', 'N-C3', 'N-C4', 'N-C5', 'N-C6', 'N-CCP1h', 'N-CCP2h', 'N-CCP3h', 'N-CCP4h', 'N-CCP5h', 'N-CCP6h', 'N-CP1', 'N-CP2', 'N-CP3', 'N-CP4', 'N-CP5', 'N-CP6', 'N-CPP1h', 'N-CPP2h', 'N-CPP3h', 'N-CPP4h', 'N-CPP5h', 'N-CPP6h', 'N-Cz', 'N-F1', 'N-F10', 'N-F2', 'N-F3', 'N-F4', 'N-F5', 'N-F6', 'N-F7', 'N-F8', 'N-F9', 'N-FC1', 'N-FC2', 'N-FC3', 'N-FC4', 'N-FC5', 'N-FC6', 'N-FCC1h', 'N-FCC2h', 'N-FCC3h', 'N-FCC4h', 'N-FCC5h', 'N-FCC6h', 'N-FCz', 'N-FFC1h', 'N-FFC2h', 'N-FFC3h', 'N-FFC4h', 'N-FFC5h', 'N-FFC6h', 'N-FFT10h', 'N-FFT7h', 'N-FFT8h', 'N-FFT9h', 'N-FP2', 'N-FT10', 'N-FT7', 'N-FT8', 'N-FT9', 'N-FTT10h', 'N-FTT7h', 'N-FTT8h', 'N-FTT9h', 'N-Fp1', 'N-Fz', 'N-Iz', 'N-O1', 'N-O2', 'N-OI1h', 'N-OI2h', 'N-Oz', 'N-P1', 'N-P2', 'N-P3', 'N-P4', 'N-P5', 'N-P6', 'N-P7', 'N-P8', 'N-PO3', 'N-PO4', 'N-PO7', 'N-PO8', 'N-POO1', 'N-POO10h', 'N-POO2', 'N-POO9h', 'N-POz', 'N-PPO10h', 'N-PPO1h', 'N-PPO2h', 'N-PPO5h', 'N-PPO6h', 'N-PPO9h', 'N-Pz', 'N-T7', 'N-T8', 'N-TP7', 'N-TP8', 'N-TPP10h', 'N-TPP7h', 'N-TPP8h', 'N-TPP9h', 'N-TTP7h', 'N-TTP8h']\n",
      "  raw_eeg = mne.io.read_raw_eeglab(eeg_dirname + f'sub-{SUB_ID}_task-TableTennis_eeg.set', preload=True)\n",
      "/tmp/ipykernel_1155911/3376151839.py:52: RuntimeWarning: Estimated head radius (11.0 cm) is above the 99th percentile for adult head size. Check if the montage_units argument is correct (the default is \"mm\", but your channel positions may be in different units).\n",
      "  raw_eeg = mne.io.read_raw_eeglab(eeg_dirname + f'sub-{SUB_ID}_task-TableTennis_eeg.set', preload=True)\n",
      "/tmp/ipykernel_1155911/3376151839.py:52: RuntimeWarning: Data file name in EEG.data (sub-22_task-tabletennis_eeg.fdt) is incorrect, the file name must have changed on disk, using the correct file name (sub-22_task-TableTennis_eeg.fdt).\n",
      "  raw_eeg = mne.io.read_raw_eeglab(eeg_dirname + f'sub-{SUB_ID}_task-TableTennis_eeg.set', preload=True)\n",
      "/tmp/ipykernel_1155911/3376151839.py:52: RuntimeWarning: Omitted 1 annotation(s) that were outside data range.\n",
      "  raw_eeg = mne.io.read_raw_eeglab(eeg_dirname + f'sub-{SUB_ID}_task-TableTennis_eeg.set', preload=True)\n",
      "/tmp/ipykernel_1155911/3376151839.py:52: RuntimeWarning: The data contains 'boundary' events, indicating data discontinuities. Be cautious of filtering and epoching around these events.\n",
      "  raw_eeg = mne.io.read_raw_eeglab(eeg_dirname + f'sub-{SUB_ID}_task-TableTennis_eeg.set', preload=True)\n",
      "/tmp/ipykernel_1155911/3376151839.py:52: RuntimeWarning: Not setting positions of 8 emg channels found in montage:\n",
      "['LISCM', 'LSSCM', 'LSTrap', 'LITrap', 'RITrap', 'RISCM', 'RSSCM', 'RSTrap']\n",
      "Consider setting the channel types to be of EEG/sEEG/ECoG/DBS/fNIRS using inst.set_channel_types before calling inst.set_montage, or omit these channels when creating your montage.\n",
      "  raw_eeg = mne.io.read_raw_eeglab(eeg_dirname + f'sub-{SUB_ID}_task-TableTennis_eeg.set', preload=True)\n",
      "/tmp/ipykernel_1155911/3376151839.py:70: RuntimeWarning: The unit for channel(s) BallMachine_Acc_X(g), BallMachine_Acc_Y(g), BallMachine_Acc_Z(g), CGY-x, CGY-y, CGY-z, CWR-x, CWR-y, CWR-z, IMU1_RMS, Imu_1 :W():, Imu_1 :X():, Imu_1 :Y():, Imu_1 :Z():, Imu_1_ImuAcc :X(g):, Imu_1_ImuAcc :Y(g):, Imu_1_ImuAcc :Z(g):, Imu_1_ImuGyro :X(D/s):, Imu_1_ImuGyro :Y(D/s):, Imu_1_ImuGyro :Z(D/s):, Imu_1_ImuMag :X(uT):, Imu_1_ImuMag :Y(uT):, Imu_1_ImuMag :Z(uT):, Imu_2 :W():, Imu_2 :X():, Imu_2 :Y():, Imu_2 :Z():, Imu_2_ImuGyro :X(D/s):, Imu_2_ImuGyro :Y(D/s):, Imu_2_ImuGyro :Z(D/s):, Imu_2_ImuMag :X(uT):, Imu_2_ImuMag :Y(uT):, Imu_2_ImuMag :Z(uT):, Imu_4 :W():, Imu_4 :X():, Imu_4 :Y():, Imu_4 :Z():, Imu_4_ImuGyro :X(D/s):, Imu_4_ImuGyro :Y(D/s):, Imu_4_ImuGyro :Z(D/s):, Imu_4_ImuMag :X(uT):, Imu_4_ImuMag :Y(uT):, Imu_4_ImuMag :Z(uT):, Imu_6_ImuAcc :X(g):, Imu_6_ImuAcc :Y(g):, Imu_6_ImuAcc :Z(g):, Imu_7_ImuAcc :X(g):, Imu_7_ImuAcc :Y(g):, Imu_7_ImuAcc :Z(g):, N-AF3, N-AF4, N-AF7, N-AF8, N-AFF1h, N-AFF2h, N-AFF5h, N-AFF6h, N-AFp1, N-AFp2, N-AFz, N-C1, N-C2, N-C3, N-C4, N-C5, N-C6, N-CCP1h, N-CCP2h, N-CCP3h, N-CCP4h, N-CCP5h, N-CCP6h, N-CP1, N-CP2, N-CP3, N-CP4, N-CP5, N-CP6, N-CPP1h, N-CPP2h, N-CPP3h, N-CPP4h, N-CPP5h, N-CPP6h, N-Cz, N-F1, N-F10, N-F2, N-F3, N-F4, N-F5, N-F6, N-F7, N-F8, N-F9, N-FC1, N-FC2, N-FC3, N-FC4, N-FC5, N-FC6, N-FCC1h, N-FCC2h, N-FCC3h, N-FCC4h, N-FCC5h, N-FCC6h, N-FCz, N-FFC1h, N-FFC2h, N-FFC3h, N-FFC4h, N-FFC5h, N-FFC6h, N-FFT10h, N-FFT7h, N-FFT8h, N-FFT9h, N-FP2, N-FT10, N-FT7, N-FT8, N-FT9, N-FTT10h, N-FTT7h, N-FTT8h, N-FTT9h, N-Fp1, N-Fz, N-Iz, N-O1, N-O2, N-OI1h, N-OI2h, N-Oz, N-P1, N-P2, N-P3, N-P4, N-P5, N-P6, N-P7, N-P8, N-PO3, N-PO4, N-PO7, N-PO8, N-POO1, N-POO10h, N-POO2, N-POO9h, N-POz, N-PPO10h, N-PPO1h, N-PPO2h, N-PPO5h, N-PPO6h, N-PPO9h, N-Pz, N-T7, N-T8, N-TP7, N-TP8, N-TPP10h, N-TPP7h, N-TPP8h, N-TPP9h, N-TTP7h, N-TTP8h, NGY-x, NGY-y, NGY-z, NWR-x, NWR-y, NWR-z, Net_Acc_X(g), Net_Acc_Y(g), Net_Acc_Z(g), Participant_Paddle_Acc_X(g), Participant_Paddle_Acc_Y(g), Participant_Paddle_Acc_Z(g), Researcher_Paddle_Acc_X(g), Researcher_Paddle_Acc_Y(g), Researcher_Paddle_Acc_Z(g), SyncPulse(uV) has changed from V to NA.\n",
      "  raw_eeg.set_channel_types(channel_types)\n"
     ]
    },
    {
     "name": "stdout",
     "output_type": "stream",
     "text": [
      "NOTE: pick_channels() is a legacy function. New code should use inst.pick(...).\n",
      "Reading /data/vladimiroved/realWorldTableTennis/sub-23/eeg/sub-23_task-TableTennis_eeg.fdt\n",
      "Reading 0 ... 1053820  =      0.000 ...  4215.280 secs...\n"
     ]
    },
    {
     "name": "stderr",
     "output_type": "stream",
     "text": [
      "/tmp/ipykernel_1155911/3376151839.py:52: RuntimeWarning: Unknown types found, setting as type EEG:\n",
      "acc: ['CGY-x', 'CGY-y', 'CGY-z', 'CWR-x', 'CWR-y', 'CWR-z', 'NGY-x', 'NGY-y', 'NGY-z', 'NWR-x', 'NWR-y', 'NWR-z']\n",
      "cometas: ['BallMachine_Acc_X(g)', 'BallMachine_Acc_Y(g)', 'BallMachine_Acc_Z(g)', 'IMU1_RMS', 'Imu_1 :W():', 'Imu_1 :X():', 'Imu_1 :Y():', 'Imu_1 :Z():', 'Imu_1_ImuGyro :X(D/s):', 'Imu_1_ImuGyro :Y(D/s):', 'Imu_1_ImuGyro :Z(D/s):', 'Imu_1_ImuMag :X(uT):', 'Imu_1_ImuMag :Y(uT):', 'Imu_1_ImuMag :Z(uT):', 'Imu_2 :W():', 'Imu_2 :X():', 'Imu_2 :Y():', 'Imu_2 :Z():', 'Imu_2_ImuGyro :X(D/s):', 'Imu_2_ImuGyro :Y(D/s):', 'Imu_2_ImuGyro :Z(D/s):', 'Imu_2_ImuMag :X(uT):', 'Imu_2_ImuMag :Y(uT):', 'Imu_2_ImuMag :Z(uT):', 'Imu_4 :W():', 'Imu_4 :X():', 'Imu_4 :Y():', 'Imu_4 :Z():', 'Imu_4_ImuGyro :X(D/s):', 'Imu_4_ImuGyro :Y(D/s):', 'Imu_4_ImuGyro :Z(D/s):', 'Imu_4_ImuMag :X(uT):', 'Imu_4_ImuMag :Y(uT):', 'Imu_4_ImuMag :Z(uT):', 'Imu_8 :W():', 'Imu_8 :X():', 'Imu_8 :Y():', 'Imu_8 :Z():', 'Imu_8_ImuGyro :X(D/s):', 'Imu_8_ImuGyro :Y(D/s):', 'Imu_8_ImuGyro :Z(D/s):', 'Imu_8_ImuMag :X(uT):', 'Imu_8_ImuMag :Y(uT):', 'Imu_8_ImuMag :Z(uT):', 'Net_Acc_X(g)', 'Net_Acc_Y(g)', 'Net_Acc_Z(g)', 'Participant_Backpack_Acc_X(g)', 'Participant_Backpack_Acc_Y(g)', 'Participant_Backpack_Acc_Z(g)', 'Participant_Head_Acc_X(g)', 'Participant_Head_Acc_Y(g)', 'Participant_Head_Acc_Z(g)', 'Participant_Paddle_Acc_X(g)', 'Participant_Paddle_Acc_Y(g)', 'Participant_Paddle_Acc_Z(g)', 'Researcher_Paddle_Acc_X(g)', 'Researcher_Paddle_Acc_Y(g)', 'Researcher_Paddle_Acc_Z(g)', 'SyncPulse(uV)', 'Table_OtherSide_Acc_X(g)', 'Table_OtherSide_Acc_Y(g)', 'Table_OtherSide_Acc_Z(g)', 'Table_ParticipantSide_Acc_X(g)', 'Table_ParticipantSide_Acc_Y(g)', 'Table_ParticipantSide_Acc_Z(g)']\n",
      "noise: ['N-AF3', 'N-AF4', 'N-AF7', 'N-AF8', 'N-AFF1h', 'N-AFF2h', 'N-AFF5h', 'N-AFF6h', 'N-AFp1', 'N-AFp2', 'N-AFz', 'N-C1', 'N-C2', 'N-C3', 'N-C4', 'N-C5', 'N-C6', 'N-CCP1h', 'N-CCP2h', 'N-CCP3h', 'N-CCP4h', 'N-CCP5h', 'N-CCP6h', 'N-CP1', 'N-CP2', 'N-CP3', 'N-CP4', 'N-CP5', 'N-CP6', 'N-CPP1h', 'N-CPP2h', 'N-CPP3h', 'N-CPP4h', 'N-CPP5h', 'N-CPP6h', 'N-Cz', 'N-F1', 'N-F10', 'N-F2', 'N-F3', 'N-F4', 'N-F5', 'N-F6', 'N-F7', 'N-F8', 'N-F9', 'N-FC1', 'N-FC2', 'N-FC3', 'N-FC4', 'N-FC5', 'N-FC6', 'N-FCC1h', 'N-FCC2h', 'N-FCC3h', 'N-FCC4h', 'N-FCC5h', 'N-FCC6h', 'N-FCz', 'N-FFC1h', 'N-FFC2h', 'N-FFC3h', 'N-FFC4h', 'N-FFC5h', 'N-FFC6h', 'N-FFT10h', 'N-FFT7h', 'N-FFT8h', 'N-FFT9h', 'N-FP2', 'N-FT10', 'N-FT7', 'N-FT8', 'N-FT9', 'N-FTT10h', 'N-FTT7h', 'N-FTT8h', 'N-FTT9h', 'N-Fp1', 'N-Fz', 'N-Iz', 'N-O1', 'N-O2', 'N-OI1h', 'N-OI2h', 'N-Oz', 'N-P1', 'N-P2', 'N-P3', 'N-P4', 'N-P5', 'N-P6', 'N-P7', 'N-P8', 'N-PO3', 'N-PO4', 'N-PO7', 'N-PO8', 'N-POO1', 'N-POO10h', 'N-POO2', 'N-POO9h', 'N-POz', 'N-PPO10h', 'N-PPO1h', 'N-PPO2h', 'N-PPO5h', 'N-PPO6h', 'N-PPO9h', 'N-Pz', 'N-T7', 'N-T8', 'N-TP7', 'N-TP8', 'N-TPP10h', 'N-TPP7h', 'N-TPP8h', 'N-TPP9h', 'N-TTP7h', 'N-TTP8h']\n",
      "  raw_eeg = mne.io.read_raw_eeglab(eeg_dirname + f'sub-{SUB_ID}_task-TableTennis_eeg.set', preload=True)\n",
      "/tmp/ipykernel_1155911/3376151839.py:52: RuntimeWarning: Estimated head radius (12.2 cm) is above the 99th percentile for adult head size. Check if the montage_units argument is correct (the default is \"mm\", but your channel positions may be in different units).\n",
      "  raw_eeg = mne.io.read_raw_eeglab(eeg_dirname + f'sub-{SUB_ID}_task-TableTennis_eeg.set', preload=True)\n",
      "/tmp/ipykernel_1155911/3376151839.py:52: RuntimeWarning: Data file name in EEG.data (sub-23_task-tabletennis_eeg.fdt) is incorrect, the file name must have changed on disk, using the correct file name (sub-23_task-TableTennis_eeg.fdt).\n",
      "  raw_eeg = mne.io.read_raw_eeglab(eeg_dirname + f'sub-{SUB_ID}_task-TableTennis_eeg.set', preload=True)\n",
      "/tmp/ipykernel_1155911/3376151839.py:52: RuntimeWarning: Omitted 1 annotation(s) that were outside data range.\n",
      "  raw_eeg = mne.io.read_raw_eeglab(eeg_dirname + f'sub-{SUB_ID}_task-TableTennis_eeg.set', preload=True)\n",
      "/tmp/ipykernel_1155911/3376151839.py:52: RuntimeWarning: The data contains 'boundary' events, indicating data discontinuities. Be cautious of filtering and epoching around these events.\n",
      "  raw_eeg = mne.io.read_raw_eeglab(eeg_dirname + f'sub-{SUB_ID}_task-TableTennis_eeg.set', preload=True)\n",
      "/tmp/ipykernel_1155911/3376151839.py:52: RuntimeWarning: Not setting positions of 8 emg channels found in montage:\n",
      "['LISCM', 'LSSCM', 'LSTrap', 'LITrap', 'RITrap', 'RISCM', 'RSSCM', 'RSTrap']\n",
      "Consider setting the channel types to be of EEG/sEEG/ECoG/DBS/fNIRS using inst.set_channel_types before calling inst.set_montage, or omit these channels when creating your montage.\n",
      "  raw_eeg = mne.io.read_raw_eeglab(eeg_dirname + f'sub-{SUB_ID}_task-TableTennis_eeg.set', preload=True)\n",
      "/tmp/ipykernel_1155911/3376151839.py:70: RuntimeWarning: The unit for channel(s) BallMachine_Acc_X(g), BallMachine_Acc_Y(g), BallMachine_Acc_Z(g), CGY-x, CGY-y, CGY-z, CWR-x, CWR-y, CWR-z, IMU1_RMS, Imu_1 :W():, Imu_1 :X():, Imu_1 :Y():, Imu_1 :Z():, Imu_1_ImuGyro :X(D/s):, Imu_1_ImuGyro :Y(D/s):, Imu_1_ImuGyro :Z(D/s):, Imu_1_ImuMag :X(uT):, Imu_1_ImuMag :Y(uT):, Imu_1_ImuMag :Z(uT):, Imu_2 :W():, Imu_2 :X():, Imu_2 :Y():, Imu_2 :Z():, Imu_2_ImuGyro :X(D/s):, Imu_2_ImuGyro :Y(D/s):, Imu_2_ImuGyro :Z(D/s):, Imu_2_ImuMag :X(uT):, Imu_2_ImuMag :Y(uT):, Imu_2_ImuMag :Z(uT):, Imu_4 :W():, Imu_4 :X():, Imu_4 :Y():, Imu_4 :Z():, Imu_4_ImuGyro :X(D/s):, Imu_4_ImuGyro :Y(D/s):, Imu_4_ImuGyro :Z(D/s):, Imu_4_ImuMag :X(uT):, Imu_4_ImuMag :Y(uT):, Imu_4_ImuMag :Z(uT):, Imu_8 :W():, Imu_8 :X():, Imu_8 :Y():, Imu_8 :Z():, Imu_8_ImuGyro :X(D/s):, Imu_8_ImuGyro :Y(D/s):, Imu_8_ImuGyro :Z(D/s):, Imu_8_ImuMag :X(uT):, Imu_8_ImuMag :Y(uT):, Imu_8_ImuMag :Z(uT):, N-AF3, N-AF4, N-AF7, N-AF8, N-AFF1h, N-AFF2h, N-AFF5h, N-AFF6h, N-AFp1, N-AFp2, N-AFz, N-C1, N-C2, N-C3, N-C4, N-C5, N-C6, N-CCP1h, N-CCP2h, N-CCP3h, N-CCP4h, N-CCP5h, N-CCP6h, N-CP1, N-CP2, N-CP3, N-CP4, N-CP5, N-CP6, N-CPP1h, N-CPP2h, N-CPP3h, N-CPP4h, N-CPP5h, N-CPP6h, N-Cz, N-F1, N-F10, N-F2, N-F3, N-F4, N-F5, N-F6, N-F7, N-F8, N-F9, N-FC1, N-FC2, N-FC3, N-FC4, N-FC5, N-FC6, N-FCC1h, N-FCC2h, N-FCC3h, N-FCC4h, N-FCC5h, N-FCC6h, N-FCz, N-FFC1h, N-FFC2h, N-FFC3h, N-FFC4h, N-FFC5h, N-FFC6h, N-FFT10h, N-FFT7h, N-FFT8h, N-FFT9h, N-FP2, N-FT10, N-FT7, N-FT8, N-FT9, N-FTT10h, N-FTT7h, N-FTT8h, N-FTT9h, N-Fp1, N-Fz, N-Iz, N-O1, N-O2, N-OI1h, N-OI2h, N-Oz, N-P1, N-P2, N-P3, N-P4, N-P5, N-P6, N-P7, N-P8, N-PO3, N-PO4, N-PO7, N-PO8, N-POO1, N-POO10h, N-POO2, N-POO9h, N-POz, N-PPO10h, N-PPO1h, N-PPO2h, N-PPO5h, N-PPO6h, N-PPO9h, N-Pz, N-T7, N-T8, N-TP7, N-TP8, N-TPP10h, N-TPP7h, N-TPP8h, N-TPP9h, N-TTP7h, N-TTP8h, NGY-x, NGY-y, NGY-z, NWR-x, NWR-y, NWR-z, Net_Acc_X(g), Net_Acc_Y(g), Net_Acc_Z(g), Participant_Backpack_Acc_X(g), Participant_Backpack_Acc_Y(g), Participant_Backpack_Acc_Z(g), Participant_Head_Acc_X(g), Participant_Head_Acc_Y(g), Participant_Head_Acc_Z(g), Participant_Paddle_Acc_X(g), Participant_Paddle_Acc_Y(g), Participant_Paddle_Acc_Z(g), Researcher_Paddle_Acc_X(g), Researcher_Paddle_Acc_Y(g), Researcher_Paddle_Acc_Z(g), SyncPulse(uV), Table_OtherSide_Acc_X(g), Table_OtherSide_Acc_Y(g), Table_OtherSide_Acc_Z(g), Table_ParticipantSide_Acc_X(g), Table_ParticipantSide_Acc_Y(g), Table_ParticipantSide_Acc_Z(g) has changed from V to NA.\n",
      "  raw_eeg.set_channel_types(channel_types)\n"
     ]
    },
    {
     "name": "stdout",
     "output_type": "stream",
     "text": [
      "NOTE: pick_channels() is a legacy function. New code should use inst.pick(...).\n",
      "Reading /data/vladimiroved/realWorldTableTennis/sub-24/eeg/sub-24_task-TableTennis_eeg.fdt\n",
      "Reading 0 ... 1146790  =      0.000 ...  4587.160 secs...\n"
     ]
    },
    {
     "name": "stderr",
     "output_type": "stream",
     "text": [
      "/tmp/ipykernel_1155911/3376151839.py:52: RuntimeWarning: Unknown types found, setting as type EEG:\n",
      "acc: ['CGY-x', 'CGY-y', 'CGY-z', 'CWR-x', 'CWR-y', 'CWR-z', 'NGY-x', 'NGY-y', 'NGY-z', 'NWR-x', 'NWR-y', 'NWR-z']\n",
      "cometas: ['BallMachine_Acc_X(g)', 'BallMachine_Acc_Y(g)', 'BallMachine_Acc_Z(g)', 'IMU1_RMS', 'IMU8_RMS', 'Imu_1 :W():', 'Imu_1 :X():', 'Imu_1 :Y():', 'Imu_1 :Z():', 'Imu_1_ImuGyro :X(D/s):', 'Imu_1_ImuGyro :Y(D/s):', 'Imu_1_ImuGyro :Z(D/s):', 'Imu_1_ImuMag :X(uT):', 'Imu_1_ImuMag :Y(uT):', 'Imu_1_ImuMag :Z(uT):', 'Imu_2 :W():', 'Imu_2 :X():', 'Imu_2 :Y():', 'Imu_2 :Z():', 'Imu_2_ImuGyro :X(D/s):', 'Imu_2_ImuGyro :Y(D/s):', 'Imu_2_ImuGyro :Z(D/s):', 'Imu_2_ImuMag :X(uT):', 'Imu_2_ImuMag :Y(uT):', 'Imu_2_ImuMag :Z(uT):', 'Imu_4 :W():', 'Imu_4 :X():', 'Imu_4 :Y():', 'Imu_4 :Z():', 'Imu_4_ImuGyro :X(D/s):', 'Imu_4_ImuGyro :Y(D/s):', 'Imu_4_ImuGyro :Z(D/s):', 'Imu_4_ImuMag :X(uT):', 'Imu_4_ImuMag :Y(uT):', 'Imu_4_ImuMag :Z(uT):', 'Imu_8 :W():', 'Imu_8 :X():', 'Imu_8 :Y():', 'Imu_8 :Z():', 'Imu_8_ImuGyro :X(D/s):', 'Imu_8_ImuGyro :Y(D/s):', 'Imu_8_ImuGyro :Z(D/s):', 'Imu_8_ImuMag :X(uT):', 'Imu_8_ImuMag :Y(uT):', 'Imu_8_ImuMag :Z(uT):', 'Net_Acc_X(g)', 'Net_Acc_Y(g)', 'Net_Acc_Z(g)', 'Participant_Backpack_Acc_X(g)', 'Participant_Backpack_Acc_Y(g)', 'Participant_Backpack_Acc_Z(g)', 'Participant_Head_Acc_X(g)', 'Participant_Head_Acc_Y(g)', 'Participant_Head_Acc_Z(g)', 'Participant_Paddle_Acc_X(g)', 'Participant_Paddle_Acc_Y(g)', 'Participant_Paddle_Acc_Z(g)', 'Researcher_Paddle_Acc_X(g)', 'Researcher_Paddle_Acc_Y(g)', 'Researcher_Paddle_Acc_Z(g)', 'SyncPulse(uV)', 'Table_OtherSide_Acc_X(g)', 'Table_OtherSide_Acc_Y(g)', 'Table_OtherSide_Acc_Z(g)', 'Table_ParticipantSide_Acc_X(g)', 'Table_ParticipantSide_Acc_Y(g)', 'Table_ParticipantSide_Acc_Z(g)']\n",
      "noise: ['N-AF3', 'N-AF4', 'N-AF7', 'N-AF8', 'N-AFF1h', 'N-AFF2h', 'N-AFF5h', 'N-AFF6h', 'N-AFp1', 'N-AFp2', 'N-AFz', 'N-C1', 'N-C2', 'N-C3', 'N-C4', 'N-C5', 'N-C6', 'N-CCP1h', 'N-CCP2h', 'N-CCP3h', 'N-CCP4h', 'N-CCP5h', 'N-CCP6h', 'N-CP1', 'N-CP2', 'N-CP3', 'N-CP4', 'N-CP5', 'N-CP6', 'N-CPP1h', 'N-CPP2h', 'N-CPP3h', 'N-CPP4h', 'N-CPP5h', 'N-CPP6h', 'N-Cz', 'N-F1', 'N-F10', 'N-F2', 'N-F3', 'N-F4', 'N-F5', 'N-F6', 'N-F7', 'N-F8', 'N-F9', 'N-FC1', 'N-FC2', 'N-FC3', 'N-FC4', 'N-FC5', 'N-FC6', 'N-FCC1h', 'N-FCC2h', 'N-FCC3h', 'N-FCC4h', 'N-FCC5h', 'N-FCC6h', 'N-FCz', 'N-FFC1h', 'N-FFC2h', 'N-FFC3h', 'N-FFC4h', 'N-FFC5h', 'N-FFC6h', 'N-FFT10h', 'N-FFT7h', 'N-FFT8h', 'N-FFT9h', 'N-FP2', 'N-FT10', 'N-FT7', 'N-FT8', 'N-FT9', 'N-FTT10h', 'N-FTT7h', 'N-FTT8h', 'N-FTT9h', 'N-Fp1', 'N-Fz', 'N-Iz', 'N-O1', 'N-O2', 'N-OI1h', 'N-OI2h', 'N-Oz', 'N-P1', 'N-P2', 'N-P3', 'N-P4', 'N-P5', 'N-P6', 'N-P7', 'N-P8', 'N-PO3', 'N-PO4', 'N-PO7', 'N-PO8', 'N-POO1', 'N-POO10h', 'N-POO2', 'N-POO9h', 'N-POz', 'N-PPO10h', 'N-PPO1h', 'N-PPO2h', 'N-PPO5h', 'N-PPO6h', 'N-PPO9h', 'N-Pz', 'N-T7', 'N-T8', 'N-TP7', 'N-TP8', 'N-TPP10h', 'N-TPP7h', 'N-TPP8h', 'N-TPP9h', 'N-TTP7h', 'N-TTP8h']\n",
      "  raw_eeg = mne.io.read_raw_eeglab(eeg_dirname + f'sub-{SUB_ID}_task-TableTennis_eeg.set', preload=True)\n",
      "/tmp/ipykernel_1155911/3376151839.py:52: RuntimeWarning: Data file name in EEG.data (sub-24_task-tabletennis_eeg.fdt) is incorrect, the file name must have changed on disk, using the correct file name (sub-24_task-TableTennis_eeg.fdt).\n",
      "  raw_eeg = mne.io.read_raw_eeglab(eeg_dirname + f'sub-{SUB_ID}_task-TableTennis_eeg.set', preload=True)\n",
      "/tmp/ipykernel_1155911/3376151839.py:52: RuntimeWarning: Omitted 1 annotation(s) that were outside data range.\n",
      "  raw_eeg = mne.io.read_raw_eeglab(eeg_dirname + f'sub-{SUB_ID}_task-TableTennis_eeg.set', preload=True)\n",
      "/tmp/ipykernel_1155911/3376151839.py:52: RuntimeWarning: The data contains 'boundary' events, indicating data discontinuities. Be cautious of filtering and epoching around these events.\n",
      "  raw_eeg = mne.io.read_raw_eeglab(eeg_dirname + f'sub-{SUB_ID}_task-TableTennis_eeg.set', preload=True)\n",
      "/tmp/ipykernel_1155911/3376151839.py:52: RuntimeWarning: Not setting positions of 8 emg channels found in montage:\n",
      "['LISCM', 'LSSCM', 'LSTrap', 'LITrap', 'RITrap', 'RISCM', 'RSSCM', 'RSTrap']\n",
      "Consider setting the channel types to be of EEG/sEEG/ECoG/DBS/fNIRS using inst.set_channel_types before calling inst.set_montage, or omit these channels when creating your montage.\n",
      "  raw_eeg = mne.io.read_raw_eeglab(eeg_dirname + f'sub-{SUB_ID}_task-TableTennis_eeg.set', preload=True)\n",
      "/tmp/ipykernel_1155911/3376151839.py:70: RuntimeWarning: The unit for channel(s) BallMachine_Acc_X(g), BallMachine_Acc_Y(g), BallMachine_Acc_Z(g), CGY-x, CGY-y, CGY-z, CWR-x, CWR-y, CWR-z, IMU1_RMS, IMU8_RMS, Imu_1 :W():, Imu_1 :X():, Imu_1 :Y():, Imu_1 :Z():, Imu_1_ImuGyro :X(D/s):, Imu_1_ImuGyro :Y(D/s):, Imu_1_ImuGyro :Z(D/s):, Imu_1_ImuMag :X(uT):, Imu_1_ImuMag :Y(uT):, Imu_1_ImuMag :Z(uT):, Imu_2 :W():, Imu_2 :X():, Imu_2 :Y():, Imu_2 :Z():, Imu_2_ImuGyro :X(D/s):, Imu_2_ImuGyro :Y(D/s):, Imu_2_ImuGyro :Z(D/s):, Imu_2_ImuMag :X(uT):, Imu_2_ImuMag :Y(uT):, Imu_2_ImuMag :Z(uT):, Imu_4 :W():, Imu_4 :X():, Imu_4 :Y():, Imu_4 :Z():, Imu_4_ImuGyro :X(D/s):, Imu_4_ImuGyro :Y(D/s):, Imu_4_ImuGyro :Z(D/s):, Imu_4_ImuMag :X(uT):, Imu_4_ImuMag :Y(uT):, Imu_4_ImuMag :Z(uT):, Imu_8 :W():, Imu_8 :X():, Imu_8 :Y():, Imu_8 :Z():, Imu_8_ImuGyro :X(D/s):, Imu_8_ImuGyro :Y(D/s):, Imu_8_ImuGyro :Z(D/s):, Imu_8_ImuMag :X(uT):, Imu_8_ImuMag :Y(uT):, Imu_8_ImuMag :Z(uT):, N-AF3, N-AF4, N-AF7, N-AF8, N-AFF1h, N-AFF2h, N-AFF5h, N-AFF6h, N-AFp1, N-AFp2, N-AFz, N-C1, N-C2, N-C3, N-C4, N-C5, N-C6, N-CCP1h, N-CCP2h, N-CCP3h, N-CCP4h, N-CCP5h, N-CCP6h, N-CP1, N-CP2, N-CP3, N-CP4, N-CP5, N-CP6, N-CPP1h, N-CPP2h, N-CPP3h, N-CPP4h, N-CPP5h, N-CPP6h, N-Cz, N-F1, N-F10, N-F2, N-F3, N-F4, N-F5, N-F6, N-F7, N-F8, N-F9, N-FC1, N-FC2, N-FC3, N-FC4, N-FC5, N-FC6, N-FCC1h, N-FCC2h, N-FCC3h, N-FCC4h, N-FCC5h, N-FCC6h, N-FCz, N-FFC1h, N-FFC2h, N-FFC3h, N-FFC4h, N-FFC5h, N-FFC6h, N-FFT10h, N-FFT7h, N-FFT8h, N-FFT9h, N-FP2, N-FT10, N-FT7, N-FT8, N-FT9, N-FTT10h, N-FTT7h, N-FTT8h, N-FTT9h, N-Fp1, N-Fz, N-Iz, N-O1, N-O2, N-OI1h, N-OI2h, N-Oz, N-P1, N-P2, N-P3, N-P4, N-P5, N-P6, N-P7, N-P8, N-PO3, N-PO4, N-PO7, N-PO8, N-POO1, N-POO10h, N-POO2, N-POO9h, N-POz, N-PPO10h, N-PPO1h, N-PPO2h, N-PPO5h, N-PPO6h, N-PPO9h, N-Pz, N-T7, N-T8, N-TP7, N-TP8, N-TPP10h, N-TPP7h, N-TPP8h, N-TPP9h, N-TTP7h, N-TTP8h, NGY-x, NGY-y, NGY-z, NWR-x, NWR-y, NWR-z, Net_Acc_X(g), Net_Acc_Y(g), Net_Acc_Z(g), Participant_Backpack_Acc_X(g), Participant_Backpack_Acc_Y(g), Participant_Backpack_Acc_Z(g), Participant_Head_Acc_X(g), Participant_Head_Acc_Y(g), Participant_Head_Acc_Z(g), Participant_Paddle_Acc_X(g), Participant_Paddle_Acc_Y(g), Participant_Paddle_Acc_Z(g), Researcher_Paddle_Acc_X(g), Researcher_Paddle_Acc_Y(g), Researcher_Paddle_Acc_Z(g), SyncPulse(uV), Table_OtherSide_Acc_X(g), Table_OtherSide_Acc_Y(g), Table_OtherSide_Acc_Z(g), Table_ParticipantSide_Acc_X(g), Table_ParticipantSide_Acc_Y(g), Table_ParticipantSide_Acc_Z(g) has changed from V to NA.\n",
      "  raw_eeg.set_channel_types(channel_types)\n"
     ]
    },
    {
     "name": "stdout",
     "output_type": "stream",
     "text": [
      "NOTE: pick_channels() is a legacy function. New code should use inst.pick(...).\n",
      "Reading /data/vladimiroved/realWorldTableTennis/sub-25/eeg/sub-25_task-TableTennis_eeg.fdt\n",
      "Reading 0 ... 877573  =      0.000 ...  3510.292 secs...\n"
     ]
    },
    {
     "name": "stderr",
     "output_type": "stream",
     "text": [
      "/tmp/ipykernel_1155911/3376151839.py:52: RuntimeWarning: Unknown types found, setting as type EEG:\n",
      "acc: ['CGY-x', 'CGY-y', 'CGY-z', 'CWR-x', 'CWR-y', 'CWR-z', 'NGY-x', 'NGY-y', 'NGY-z', 'NWR-x', 'NWR-y', 'NWR-z']\n",
      "cometas: ['BallMachine_Acc_X(g)', 'BallMachine_Acc_Y(g)', 'BallMachine_Acc_Z(g)', 'IMU1_RMS', 'IMU8_RMS', 'Imu_1 :W():', 'Imu_1 :X():', 'Imu_1 :Y():', 'Imu_1 :Z():', 'Imu_1_ImuGyro :X(D/s):', 'Imu_1_ImuGyro :Y(D/s):', 'Imu_1_ImuGyro :Z(D/s):', 'Imu_1_ImuMag :X(uT):', 'Imu_1_ImuMag :Y(uT):', 'Imu_1_ImuMag :Z(uT):', 'Imu_2 :W():', 'Imu_2 :X():', 'Imu_2 :Y():', 'Imu_2 :Z():', 'Imu_2_ImuGyro :X(D/s):', 'Imu_2_ImuGyro :Y(D/s):', 'Imu_2_ImuGyro :Z(D/s):', 'Imu_2_ImuMag :X(uT):', 'Imu_2_ImuMag :Y(uT):', 'Imu_2_ImuMag :Z(uT):', 'Imu_4 :W():', 'Imu_4 :X():', 'Imu_4 :Y():', 'Imu_4 :Z():', 'Imu_4_ImuGyro :X(D/s):', 'Imu_4_ImuGyro :Y(D/s):', 'Imu_4_ImuGyro :Z(D/s):', 'Imu_4_ImuMag :X(uT):', 'Imu_4_ImuMag :Y(uT):', 'Imu_4_ImuMag :Z(uT):', 'Imu_8 :W():', 'Imu_8 :X():', 'Imu_8 :Y():', 'Imu_8 :Z():', 'Imu_8_ImuGyro :X(D/s):', 'Imu_8_ImuGyro :Y(D/s):', 'Imu_8_ImuGyro :Z(D/s):', 'Imu_8_ImuMag :X(uT):', 'Imu_8_ImuMag :Y(uT):', 'Imu_8_ImuMag :Z(uT):', 'Imu_9 :W():', 'Imu_9 :X():', 'Imu_9 :Y():', 'Imu_9 :Z():', 'Imu_9_ImuGyro :X(D/s):', 'Imu_9_ImuGyro :Y(D/s):', 'Imu_9_ImuGyro :Z(D/s):', 'Imu_9_ImuMag :X(uT):', 'Imu_9_ImuMag :Y(uT):', 'Imu_9_ImuMag :Z(uT):', 'Net_Acc_X(g)', 'Net_Acc_Y(g)', 'Net_Acc_Z(g)', 'Participant_Backpack_Acc_X(g)', 'Participant_Backpack_Acc_Y(g)', 'Participant_Backpack_Acc_Z(g)', 'Participant_Head_Acc_X(g)', 'Participant_Head_Acc_Y(g)', 'Participant_Head_Acc_Z(g)', 'Participant_Paddle_Acc_X(g)', 'Participant_Paddle_Acc_Y(g)', 'Participant_Paddle_Acc_Z(g)', 'Participant_Torso_Acc_X(g)', 'Participant_Torso_Acc_Y(g)', 'Participant_Torso_Acc_Z(g)', 'Researcher_Paddle_Acc_X(g)', 'Researcher_Paddle_Acc_Y(g)', 'Researcher_Paddle_Acc_Z(g)', 'SyncPulse(uV)', 'Table_OtherSide_Acc_X(g)', 'Table_OtherSide_Acc_Y(g)', 'Table_OtherSide_Acc_Z(g)', 'Table_ParticipantSide_Acc_X(g)', 'Table_ParticipantSide_Acc_Y(g)', 'Table_ParticipantSide_Acc_Z(g)']\n",
      "noise: ['N-AF3', 'N-AF4', 'N-AF7', 'N-AF8', 'N-AFF1h', 'N-AFF2h', 'N-AFF5h', 'N-AFF6h', 'N-AFp1', 'N-AFp2', 'N-AFz', 'N-C1', 'N-C2', 'N-C3', 'N-C4', 'N-C5', 'N-C6', 'N-CCP1h', 'N-CCP2h', 'N-CCP3h', 'N-CCP4h', 'N-CCP5h', 'N-CCP6h', 'N-CP1', 'N-CP2', 'N-CP3', 'N-CP4', 'N-CP5', 'N-CP6', 'N-CPP1h', 'N-CPP2h', 'N-CPP3h', 'N-CPP4h', 'N-CPP5h', 'N-CPP6h', 'N-Cz', 'N-F1', 'N-F10', 'N-F2', 'N-F3', 'N-F4', 'N-F5', 'N-F6', 'N-F7', 'N-F8', 'N-F9', 'N-FC1', 'N-FC2', 'N-FC3', 'N-FC4', 'N-FC5', 'N-FC6', 'N-FCC1h', 'N-FCC2h', 'N-FCC3h', 'N-FCC4h', 'N-FCC5h', 'N-FCC6h', 'N-FCz', 'N-FFC1h', 'N-FFC2h', 'N-FFC3h', 'N-FFC4h', 'N-FFC5h', 'N-FFC6h', 'N-FFT10h', 'N-FFT7h', 'N-FFT8h', 'N-FFT9h', 'N-FP2', 'N-FT10', 'N-FT7', 'N-FT8', 'N-FT9', 'N-FTT10h', 'N-FTT7h', 'N-FTT8h', 'N-FTT9h', 'N-Fp1', 'N-Fz', 'N-Iz', 'N-O1', 'N-O2', 'N-OI1h', 'N-OI2h', 'N-Oz', 'N-P1', 'N-P2', 'N-P3', 'N-P4', 'N-P5', 'N-P6', 'N-P7', 'N-P8', 'N-PO3', 'N-PO4', 'N-PO7', 'N-PO8', 'N-POO1', 'N-POO10h', 'N-POO2', 'N-POO9h', 'N-POz', 'N-PPO10h', 'N-PPO1h', 'N-PPO2h', 'N-PPO5h', 'N-PPO6h', 'N-PPO9h', 'N-Pz', 'N-T7', 'N-T8', 'N-TP7', 'N-TP8', 'N-TPP10h', 'N-TPP7h', 'N-TPP8h', 'N-TPP9h', 'N-TTP7h', 'N-TTP8h']\n",
      "  raw_eeg = mne.io.read_raw_eeglab(eeg_dirname + f'sub-{SUB_ID}_task-TableTennis_eeg.set', preload=True)\n",
      "/tmp/ipykernel_1155911/3376151839.py:52: RuntimeWarning: Estimated head radius (12.1 cm) is above the 99th percentile for adult head size. Check if the montage_units argument is correct (the default is \"mm\", but your channel positions may be in different units).\n",
      "  raw_eeg = mne.io.read_raw_eeglab(eeg_dirname + f'sub-{SUB_ID}_task-TableTennis_eeg.set', preload=True)\n",
      "/tmp/ipykernel_1155911/3376151839.py:52: RuntimeWarning: Data file name in EEG.data (sub-25_task-tabletennis_eeg.fdt) is incorrect, the file name must have changed on disk, using the correct file name (sub-25_task-TableTennis_eeg.fdt).\n",
      "  raw_eeg = mne.io.read_raw_eeglab(eeg_dirname + f'sub-{SUB_ID}_task-TableTennis_eeg.set', preload=True)\n",
      "/tmp/ipykernel_1155911/3376151839.py:52: RuntimeWarning: Omitted 1 annotation(s) that were outside data range.\n",
      "  raw_eeg = mne.io.read_raw_eeglab(eeg_dirname + f'sub-{SUB_ID}_task-TableTennis_eeg.set', preload=True)\n",
      "/tmp/ipykernel_1155911/3376151839.py:52: RuntimeWarning: The data contains 'boundary' events, indicating data discontinuities. Be cautious of filtering and epoching around these events.\n",
      "  raw_eeg = mne.io.read_raw_eeglab(eeg_dirname + f'sub-{SUB_ID}_task-TableTennis_eeg.set', preload=True)\n",
      "/tmp/ipykernel_1155911/3376151839.py:52: RuntimeWarning: Not setting positions of 8 emg channels found in montage:\n",
      "['LISCM', 'LSSCM', 'LSTrap', 'LITrap', 'RITrap', 'RISCM', 'RSSCM', 'RSTrap']\n",
      "Consider setting the channel types to be of EEG/sEEG/ECoG/DBS/fNIRS using inst.set_channel_types before calling inst.set_montage, or omit these channels when creating your montage.\n",
      "  raw_eeg = mne.io.read_raw_eeglab(eeg_dirname + f'sub-{SUB_ID}_task-TableTennis_eeg.set', preload=True)\n",
      "/tmp/ipykernel_1155911/3376151839.py:70: RuntimeWarning: The unit for channel(s) BallMachine_Acc_X(g), BallMachine_Acc_Y(g), BallMachine_Acc_Z(g), CGY-x, CGY-y, CGY-z, CWR-x, CWR-y, CWR-z, IMU1_RMS, IMU8_RMS, Imu_1 :W():, Imu_1 :X():, Imu_1 :Y():, Imu_1 :Z():, Imu_1_ImuGyro :X(D/s):, Imu_1_ImuGyro :Y(D/s):, Imu_1_ImuGyro :Z(D/s):, Imu_1_ImuMag :X(uT):, Imu_1_ImuMag :Y(uT):, Imu_1_ImuMag :Z(uT):, Imu_2 :W():, Imu_2 :X():, Imu_2 :Y():, Imu_2 :Z():, Imu_2_ImuGyro :X(D/s):, Imu_2_ImuGyro :Y(D/s):, Imu_2_ImuGyro :Z(D/s):, Imu_2_ImuMag :X(uT):, Imu_2_ImuMag :Y(uT):, Imu_2_ImuMag :Z(uT):, Imu_4 :W():, Imu_4 :X():, Imu_4 :Y():, Imu_4 :Z():, Imu_4_ImuGyro :X(D/s):, Imu_4_ImuGyro :Y(D/s):, Imu_4_ImuGyro :Z(D/s):, Imu_4_ImuMag :X(uT):, Imu_4_ImuMag :Y(uT):, Imu_4_ImuMag :Z(uT):, Imu_8 :W():, Imu_8 :X():, Imu_8 :Y():, Imu_8 :Z():, Imu_8_ImuGyro :X(D/s):, Imu_8_ImuGyro :Y(D/s):, Imu_8_ImuGyro :Z(D/s):, Imu_8_ImuMag :X(uT):, Imu_8_ImuMag :Y(uT):, Imu_8_ImuMag :Z(uT):, Imu_9 :W():, Imu_9 :X():, Imu_9 :Y():, Imu_9 :Z():, Imu_9_ImuGyro :X(D/s):, Imu_9_ImuGyro :Y(D/s):, Imu_9_ImuGyro :Z(D/s):, Imu_9_ImuMag :X(uT):, Imu_9_ImuMag :Y(uT):, Imu_9_ImuMag :Z(uT):, N-AF3, N-AF4, N-AF7, N-AF8, N-AFF1h, N-AFF2h, N-AFF5h, N-AFF6h, N-AFp1, N-AFp2, N-AFz, N-C1, N-C2, N-C3, N-C4, N-C5, N-C6, N-CCP1h, N-CCP2h, N-CCP3h, N-CCP4h, N-CCP5h, N-CCP6h, N-CP1, N-CP2, N-CP3, N-CP4, N-CP5, N-CP6, N-CPP1h, N-CPP2h, N-CPP3h, N-CPP4h, N-CPP5h, N-CPP6h, N-Cz, N-F1, N-F10, N-F2, N-F3, N-F4, N-F5, N-F6, N-F7, N-F8, N-F9, N-FC1, N-FC2, N-FC3, N-FC4, N-FC5, N-FC6, N-FCC1h, N-FCC2h, N-FCC3h, N-FCC4h, N-FCC5h, N-FCC6h, N-FCz, N-FFC1h, N-FFC2h, N-FFC3h, N-FFC4h, N-FFC5h, N-FFC6h, N-FFT10h, N-FFT7h, N-FFT8h, N-FFT9h, N-FP2, N-FT10, N-FT7, N-FT8, N-FT9, N-FTT10h, N-FTT7h, N-FTT8h, N-FTT9h, N-Fp1, N-Fz, N-Iz, N-O1, N-O2, N-OI1h, N-OI2h, N-Oz, N-P1, N-P2, N-P3, N-P4, N-P5, N-P6, N-P7, N-P8, N-PO3, N-PO4, N-PO7, N-PO8, N-POO1, N-POO10h, N-POO2, N-POO9h, N-POz, N-PPO10h, N-PPO1h, N-PPO2h, N-PPO5h, N-PPO6h, N-PPO9h, N-Pz, N-T7, N-T8, N-TP7, N-TP8, N-TPP10h, N-TPP7h, N-TPP8h, N-TPP9h, N-TTP7h, N-TTP8h, NGY-x, NGY-y, NGY-z, NWR-x, NWR-y, NWR-z, Net_Acc_X(g), Net_Acc_Y(g), Net_Acc_Z(g), Participant_Backpack_Acc_X(g), Participant_Backpack_Acc_Y(g), Participant_Backpack_Acc_Z(g), Participant_Head_Acc_X(g), Participant_Head_Acc_Y(g), Participant_Head_Acc_Z(g), Participant_Paddle_Acc_X(g), Participant_Paddle_Acc_Y(g), Participant_Paddle_Acc_Z(g), Participant_Torso_Acc_X(g), Participant_Torso_Acc_Y(g), Participant_Torso_Acc_Z(g), Researcher_Paddle_Acc_X(g), Researcher_Paddle_Acc_Y(g), Researcher_Paddle_Acc_Z(g), SyncPulse(uV), Table_OtherSide_Acc_X(g), Table_OtherSide_Acc_Y(g), Table_OtherSide_Acc_Z(g), Table_ParticipantSide_Acc_X(g), Table_ParticipantSide_Acc_Y(g), Table_ParticipantSide_Acc_Z(g) has changed from V to NA.\n",
      "  raw_eeg.set_channel_types(channel_types)\n"
     ]
    },
    {
     "name": "stdout",
     "output_type": "stream",
     "text": [
      "NOTE: pick_channels() is a legacy function. New code should use inst.pick(...).\n"
     ]
    }
   ],
   "source": [
    "PARTICIPANT_CHANNELS = [\n",
    "    'Fp1', 'AFp1', 'AFz', 'AF3', 'AF7', 'AFF5h', 'AFF1h', 'F1', 'F3',\n",
    "    'F5', 'F7', 'F9', 'FFT9h', 'FFT7h', 'FFC5h', 'FFC3h', 'FFC1h',\n",
    "    'FCz', 'FC1', 'FC3', 'FC5', 'FT7', 'FT9', 'FTT9h', 'FTT7h',\n",
    "    'FCC5h', 'FCC3h', 'FCC1h', 'C1', 'C3', 'C5', 'T7', 'TTP7h',\n",
    "    'CCP5h', 'CCP3h', 'CCP1h', 'CP1', 'CP3', 'CP5', 'TP7', 'TPP9h',\n",
    "    'TPP7h', 'CPP5h', 'CPP3h', 'CPP1h', 'P1', 'P3', 'P5', 'P7',\n",
    "    'PPO5h', 'PPO1h', 'POz', 'PO3', 'PO7', 'PPO9h', 'O1', 'POO1',\n",
    "    'OI1h', 'Iz', 'Cz', 'C2', 'C4', 'C6', 'T8', 'FTT10h', 'FTT8h',\n",
    "    'FCC6h', 'FCC4h', 'FCC2h', 'FC2', 'FC4', 'FC6', 'FT8', 'FT10',\n",
    "    'FFT10h', 'FFT8h', 'FFC6h', 'FFC4h', 'FFC2h', 'Fz', 'F2', 'F4',\n",
    "    'F6', 'F8', 'F10', 'AFF6h', 'AFF2h', 'AF4', 'AF8', 'FP2', 'AFp2',\n",
    "    'Oz', 'OI2h', 'POO10h', 'O2', 'POO2', 'PO4', 'PO8', 'PPO10h',\n",
    "    'PPO6h', 'PPO2h', 'Pz', 'P2', 'P4', 'P6', 'P8', 'TPP10h', 'TPP8h',\n",
    "    'CPP6h', 'CPP4h', 'CPP2h', 'CP2', 'CP4', 'CP6', 'TP8', 'TTP8h',\n",
    "    'CCP6h', 'CCP4h', 'CCP2h', 'N-Fp1', 'N-AFp1', 'N-AFz', 'N-AF3',\n",
    "    'N-AF7', 'N-AFF5h', 'N-AFF1h', 'N-F1', 'N-F3', 'N-F5', 'N-F7',\n",
    "    'N-F9', 'N-FFT9h', 'N-FFT7h', 'N-FFC5h', 'N-FFC3h', 'N-FFC1h',\n",
    "    'N-FCz', 'N-FC1', 'N-FC3', 'N-FC5', 'N-FT7', 'N-FT9', 'N-FTT9h',\n",
    "    'N-FTT7h', 'N-FCC5h', 'N-FCC3h', 'N-FCC1h', 'N-C1', 'N-C3', 'N-C5',\n",
    "    'N-T7', 'N-TTP7h', 'N-CCP5h', 'N-CCP3h', 'N-CCP1h', 'N-CP1',\n",
    "    'N-CP3', 'N-CP5', 'N-TP7', 'N-TPP9h', 'N-TPP7h', 'N-CPP5h',\n",
    "    'N-CPP3h', 'N-CPP1h', 'N-P1', 'N-P3', 'N-P5', 'N-P7', 'N-PPO5h',\n",
    "    'N-PPO1h', 'N-POz', 'N-PO3', 'N-PO7', 'N-PPO9h', 'N-O1', 'N-POO1',\n",
    "    'N-OI1h', 'N-Iz', 'N-Cz', 'N-C2', 'N-C4', 'N-C6', 'N-T8',\n",
    "    'N-FTT10h', 'N-FTT8h', 'N-FCC6h', 'N-FCC4h', 'N-FCC2h', 'N-FC2',\n",
    "    'N-FC4', 'N-FC6', 'N-FT8', 'N-FT10', 'N-FFT10h', 'N-FFT8h',\n",
    "    'N-FFC6h', 'N-FFC4h', 'N-FFC2h', 'N-Fz', 'N-F2', 'N-F4', 'N-F6',\n",
    "    'N-F8', 'N-F10', 'N-AFF6h', 'N-AFF2h', 'N-AF4', 'N-AF8', 'N-FP2',\n",
    "    'N-AFp2', 'N-Oz', 'N-OI2h', 'N-POO10h', 'N-O2', 'N-POO2', 'N-PO4',\n",
    "    'N-PO8', 'N-PPO10h', 'N-PPO6h', 'N-PPO2h', 'N-Pz', 'N-P2', 'N-P4',\n",
    "    'N-P6', 'N-P8', 'N-TPP10h', 'N-TPP8h', 'N-CPP6h', 'N-CPP4h',\n",
    "    'N-CPP2h', 'N-CP2', 'N-CP4', 'N-CP6', 'N-TP8', 'N-TTP8h',\n",
    "    'N-CCP6h', 'N-CCP4h', 'N-CCP2h', 'LISCM', 'LSSCM', 'LSTrap',\n",
    "    'LITrap', 'CGY-x', 'CGY-y', 'CGY-z', 'RITrap', 'RISCM', 'RSSCM',\n",
    "    'RSTrap', 'CWR-x', 'CWR-y', 'CWR-z', 'NGY-x', 'NGY-y', 'NGY-z',\n",
    "    'NWR-x', 'NWR-y', 'NWR-z', 'Participant_Paddle_Acc_X(g)',\n",
    "    'Participant_Paddle_Acc_Y(g)', 'Participant_Paddle_Acc_Z(g)'\n",
    "]\n",
    "T_LEN = 1\n",
    "EPS = 1e-3\n",
    "\n",
    "SUB_IDS = ['0' * (n < 10) + str(n) for n in range(1, 26)]\n",
    "\n",
    "for SUB_ID in tqdm(SUB_IDS):\n",
    "    eeg_dirname = os.path.join(DATA_PATH, f'sub-{SUB_ID}', 'eeg/')\n",
    "    \n",
    "    channels_df = pd.read_csv(eeg_dirname + f'sub-{SUB_ID}_task-TableTennis_channels.tsv', sep='\\t')\n",
    "    events_df = pd.read_csv(eeg_dirname + f'sub-{SUB_ID}_task-TableTennis_events.tsv', sep='\\t')\n",
    "    shift_arr = np.load(f'human-player/shifts_final/{SUB_ID}.npz', allow_pickle=True)\n",
    "    \n",
    "    raw_eeg = mne.io.read_raw_eeglab(eeg_dirname + f'sub-{SUB_ID}_task-TableTennis_eeg.set', preload=True)\n",
    "    eeg_file = os.path.join(eeg_dirname, f'sub-{SUB_ID}_task-TableTennis_eeg.set')\n",
    "    mat = scipy.io.loadmat(eeg_file, struct_as_record=False, squeeze_me=True)\n",
    "    \n",
    "    eeg_channels = channels_df[channels_df['type'] == 'EEG']['name'].tolist()\n",
    "    emg_channels = channels_df[channels_df['type'] == 'EMG']['name'].tolist()\n",
    "    misc_channels = channels_df[channels_df['type'] == 'MISC']['name'].tolist()\n",
    "    \n",
    "    # Set channel types\n",
    "    channel_types = {}\n",
    "    for ch in raw_eeg.ch_names:\n",
    "        if ch in eeg_channels:\n",
    "            channel_types[ch] = 'eeg'\n",
    "        elif ch in emg_channels:\n",
    "            channel_types[ch] = 'emg'\n",
    "        else:\n",
    "            channel_types[ch] = 'misc'  # Includes IMU and other sensors\n",
    "    \n",
    "    raw_eeg.set_channel_types(channel_types)\n",
    "    \n",
    "    events_df['bounces'] = None\n",
    "    events_df['performance'] = None\n",
    "    events_df['device'] = None\n",
    "    events_df['orignum'] = None\n",
    "    \n",
    "    for i, row in events_df.iterrows():\n",
    "        mat_event = mat['event'][i]\n",
    "        \n",
    "        assert mat_event.type == row['value'], \"asynchronous status event_type\"\n",
    "        assert row['trial_type'] == 'STATUS' or mat_event.condlabel == row['trial_type'], \"asynchronous status\"\n",
    "        assert np.abs(mat_event.latency - row['sample']) <= 2, \"asynchronous time\"\n",
    "        \n",
    "        if not isinstance(mat_event.bounces, np.ndarray):\n",
    "            events_df.at[i, 'bounces'] = mat_event.bounces\n",
    "    \n",
    "        if not isinstance(mat_event.performance, np.ndarray):\n",
    "            events_df.at[i, 'performance'] = mat_event.performance\n",
    "    \n",
    "        if not isinstance(mat_event.code, np.ndarray):\n",
    "            events_df.at[i, 'device'] = mat_event.code\n",
    "    \n",
    "        if not isinstance(mat_event.orignum, np.ndarray):\n",
    "            events_df.at[i, 'orignum'] = mat_event.orignum\n",
    "    \n",
    "    \n",
    "    events_df_with_trg = define_successful_hit(events_df)\n",
    "    events_df_with_trg.dropna(subset=['score'], inplace=True)\n",
    "    \n",
    "    filtered_events_df = events_df_with_trg\\\n",
    "        .query(\"value == 'Subject_hit'\")\\\n",
    "        .query(\"trial_type in ('competitive', 'cooperative')\")\n",
    "    filtered_events_df['shifted_sample'] = None\n",
    "    \n",
    "    for ind, row in filtered_events_df.iterrows():\n",
    "        sample, onset = row['sample'], row['onset']\n",
    "        delta = None\n",
    "    \n",
    "        for i, (session_start, session_end) in enumerate(shift_arr['sessions']):\n",
    "            if session_start - EPS <= onset <= session_end + EPS:\n",
    "                delta = shift_arr['peaks'][i]\n",
    "                break\n",
    "        \n",
    "        filtered_events_df.at[ind, 'shifted_sample'] = sample + delta\n",
    "    \n",
    "    filtered_events_df['shifted_sample'] = filtered_events_df['shifted_sample'].astype(int)\n",
    "    \n",
    "    acc_data = raw_eeg.pick_channels(PARTICIPANT_CHANNELS)\n",
    "    sfreq = raw_eeg.info['sfreq']\n",
    "    window_size = int(T_LEN * sfreq)\n",
    "    data_hit = []\n",
    "    \n",
    "    for idx, row in filtered_events_df.iterrows():\n",
    "        event_type = row['value']\n",
    "        sample_index = row['shifted_sample']\n",
    "        \n",
    "        start_index = sample_index - window_size\n",
    "        end_index = sample_index\n",
    "        \n",
    "        # Skip this event if the window is out of bounds\n",
    "        if start_index < 0 or end_index > acc_data.n_times:\n",
    "            continue\n",
    "        \n",
    "        data_segment = acc_data.get_data(start=start_index, stop=end_index)\n",
    "        data_hit.append(data_segment)\n",
    "    \n",
    "    data_hit_npy = np.array(data_hit)\n",
    "    \n",
    "    data_hit_target = filtered_events_df.score.values\n",
    "    data_hit_timesteps = filtered_events_df.onset.values\n",
    "    \n",
    "    np.savez_compressed(\n",
    "        f'human-player/data/signals_{SUB_ID}.npz',\n",
    "        signals=data_hit_npy,\n",
    "        target=data_hit_target,\n",
    "        timesteps=data_hit_timesteps,\n",
    "        channels=PARTICIPANT_CHANNELS\n",
    "    )\n",
    "    \n",
    "    gc.collect()"
   ]
  },
  {
   "cell_type": "markdown",
   "id": "965fce61-19cd-44a1-b638-43df20a6f447",
   "metadata": {},
   "source": [
    "## Pre-calculate channel-wise mean and std"
   ]
  },
  {
   "cell_type": "code",
   "execution_count": 56,
   "id": "feeea441-c6e1-4fa1-9ebf-6a62714aadc5",
   "metadata": {},
   "outputs": [],
   "source": [
    "!mkdir -p human-player/signals-stats"
   ]
  },
  {
   "cell_type": "code",
   "execution_count": 54,
   "id": "ed3ed2e2-16e1-4cad-9f09-3bf97090448b",
   "metadata": {},
   "outputs": [
    {
     "data": {
      "application/vnd.jupyter.widget-view+json": {
       "model_id": "aaf28c48148d4b6caeceebd10ce5b913",
       "version_major": 2,
       "version_minor": 0
      },
      "text/plain": [
       "  0%|          | 0/25 [00:00<?, ?it/s]"
      ]
     },
     "metadata": {},
     "output_type": "display_data"
    },
    {
     "name": "stdout",
     "output_type": "stream",
     "text": [
      "EEG mean: (119,) EEG std: (119,)\n",
      "IMU mean: (23,) IMU std: (23,)\n"
     ]
    }
   ],
   "source": [
    "eeg_scaler = StandardScaler()\n",
    "imu_scaler = StandardScaler()\n",
    "\n",
    "root = Path(\"human-player/data\")\n",
    "for fn in tqdm(sorted(root.glob(\"signals_*.npz\"))):\n",
    "    d = np.load(fn, allow_pickle=True)\n",
    "    signals = d['signals'].astype(np.float32)\n",
    "    channels = d['channels']\n",
    "\n",
    "    # ----- split scalp EEG vs noise vs \"other\" -----\n",
    "    # Assumption: first block = scalp, second block = noise (same length)\n",
    "    idx_noise_start = np.where(np.char.startswith(channels, 'N-'))[0][0]\n",
    "    scalp = signals[:, :idx_noise_start, :]\n",
    "    noise = signals[:, idx_noise_start:2*idx_noise_start, :]\n",
    "    other = signals[:, 2*idx_noise_start:, :]\n",
    "    eeg = scalp - noise  # (N_eeg, T)\n",
    "    imu = other\n",
    "\n",
    "    # reshape so samples × features\n",
    "    n_trials, n_ch_eeg, n_times = eeg.shape\n",
    "    eeg_batch = eeg.transpose(0,2,1).reshape(-1, n_ch_eeg)  # (n_trials*n_times, n_ch_eeg)\n",
    "    imu_batch = imu.transpose(0,2,1).reshape(-1, imu.shape[1])  # (n_trials*n_times, n_ch_imu)\n",
    "\n",
    "    eeg_scaler.partial_fit(eeg_batch)\n",
    "    imu_scaler.partial_fit(imu_batch)\n",
    "\n",
    "# after all files:\n",
    "eeg_mean = eeg_scaler.mean_       # shape (n_ch_eeg,)\n",
    "eeg_std  = np.sqrt(eeg_scaler.var_)   # var_ stores unbiased-true variance\n",
    "\n",
    "imu_mean = imu_scaler.mean_       # shape (n_ch_imu,)\n",
    "imu_std  = np.sqrt(imu_scaler.var_)\n",
    "\n",
    "print(\"EEG mean:\", eeg_mean.shape, \"EEG std:\", eeg_std.shape)\n",
    "print(\"IMU mean:\", imu_mean.shape, \"IMU std:\", imu_std.shape)"
   ]
  },
  {
   "cell_type": "code",
   "execution_count": 58,
   "id": "f93be27f-c19f-4b8a-94dc-40142d97e39e",
   "metadata": {},
   "outputs": [],
   "source": [
    "np.save('human-player/signals-stats/eeg_mean.npy', eeg_mean)\n",
    "np.save('human-player/signals-stats/eeg_std.npy', eeg_std)\n",
    "np.save('human-player/signals-stats/imu_mean.npy', imu_mean)\n",
    "np.save('human-player/signals-stats/imu_std.npy', imu_std)"
   ]
  }
 ],
 "metadata": {
  "kernelspec": {
   "display_name": "Python 3 (ipykernel)",
   "language": "python",
   "name": "python3"
  },
  "language_info": {
   "codemirror_mode": {
    "name": "ipython",
    "version": 3
   },
   "file_extension": ".py",
   "mimetype": "text/x-python",
   "name": "python",
   "nbconvert_exporter": "python",
   "pygments_lexer": "ipython3",
   "version": "3.10.12"
  }
 },
 "nbformat": 4,
 "nbformat_minor": 5
}
